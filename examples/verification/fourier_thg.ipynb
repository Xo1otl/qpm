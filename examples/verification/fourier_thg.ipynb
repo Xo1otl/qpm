{
 "cells": [
  {
   "cell_type": "code",
   "execution_count": 2,
   "id": "15725daf",
   "metadata": {},
   "outputs": [
    {
     "name": "stdout",
     "output_type": "stream",
     "text": [
      "[CudaDevice(id=0)]\n"
     ]
    }
   ],
   "source": [
    "import jax\n",
    "\n",
    "jax.config.update(\"jax_enable_x64\", val=True)\n",
    "jax.config.update(\"jax_platforms\", \"cpu\")\n",
    "print(jax.devices())"
   ]
  },
  {
   "cell_type": "code",
   "execution_count": 3,
   "id": "23ef08ff",
   "metadata": {},
   "outputs": [],
   "source": [
    "from dataclasses import dataclass\n",
    "from functools import partial\n",
    "\n",
    "import jax.numpy as jnp\n",
    "import plotly.graph_objects as go\n",
    "\n",
    "\n",
    "@dataclass(frozen=True)\n",
    "class DeviceConfig:\n",
    "    length: float\n",
    "    num_domains: int\n",
    "    kappa: float\n",
    "\n",
    "\n",
    "@dataclass(frozen=True)\n",
    "class FourierConfig:\n",
    "    k_center: float\n",
    "    k_bandwidth: float\n",
    "    num_points: int\n",
    "\n",
    "\n",
    "def new_fourier_config(\n",
    "    dk_eff: jax.Array,\n",
    "    device: DeviceConfig,\n",
    "    num_points: int,\n",
    "    bw_scale: float = 1.2,\n",
    ") -> \"FourierConfig\":\n",
    "    k_norm_center = device.num_domains / 2.0\n",
    "    dk_eff_range = jnp.max(dk_eff) - jnp.min(dk_eff)\n",
    "    k_norm_bw = dk_eff_range * device.length / (2 * jnp.pi) * bw_scale\n",
    "    return FourierConfig(\n",
    "        k_center=k_norm_center,\n",
    "        k_bandwidth=float(k_norm_bw),\n",
    "        num_points=num_points,\n",
    "    )\n",
    "\n",
    "\n",
    "@partial(jax.jit, static_argnames=(\"m\", \"fft_len\"))\n",
    "def czt(x: jax.Array, m: int, fft_len: int, w: jax.Array, a: jax.Array) -> jax.Array:\n",
    "    \"\"\"Computes the Chirp Z-Transform of a signal.\"\"\"\n",
    "    n = x.shape[-1]\n",
    "    n_range = jnp.arange(n)\n",
    "    y = x * (a**-n_range) * w ** (n_range**2 / 2)\n",
    "    k_range_full = jnp.arange(-(n - 1), m)\n",
    "    h = w ** (-(k_range_full**2) / 2)\n",
    "    y_fft = jnp.fft.fft(y, n=fft_len)\n",
    "    h_fft = jnp.fft.fft(h, n=fft_len)\n",
    "    conv_result = jnp.fft.ifft(y_fft * h_fft)\n",
    "    k_range_out = jnp.arange(m)\n",
    "    final_chirp = w ** (k_range_out**2 / 2)\n",
    "    return conv_result[n - 1 : n - 1 + m] * final_chirp\n",
    "\n",
    "\n",
    "def create_alternating_signal_from_widths(widths: jax.Array, n_points: int = 8192) -> jax.Array:\n",
    "    \"\"\"\n",
    "    Generates an alternating +1/-1 signal based on an array of domain widths.\n",
    "    \"\"\"\n",
    "    num_domains = widths.shape[0]\n",
    "    alternating_values = jnp.power(-1, jnp.arange(num_domains))\n",
    "    cumulative_widths = jnp.cumsum(widths)\n",
    "    total_width = cumulative_widths[-1]\n",
    "    boundary_points = jnp.round(cumulative_widths / total_width * n_points).astype(jnp.int32)\n",
    "    boundary_points = jnp.insert(boundary_points, 0, 0)\n",
    "    boundary_points = boundary_points.at[-1].set(n_points)\n",
    "    points_per_domain = jnp.diff(boundary_points)\n",
    "    return jnp.repeat(alternating_values, points_per_domain)\n",
    "\n",
    "\n",
    "def calculate_fourier_spectrum(\n",
    "    signal: jax.Array,\n",
    "    config: FourierConfig,\n",
    ") -> tuple[jax.Array, jax.Array]:\n",
    "    \"\"\"Calculates the spectrum of a signal using CZT for a specified frequency window.\"\"\"\n",
    "    fs = signal.shape[0]\n",
    "    k_start = config.k_center - config.k_bandwidth / 2.0\n",
    "    k_end = config.k_center + config.k_bandwidth / 2.0\n",
    "    f_norm_start = k_start / fs\n",
    "    f_norm_end = k_end / fs\n",
    "    w = jnp.exp(-1j * 2 * jnp.pi * (f_norm_end - f_norm_start) / config.num_points)\n",
    "    a = jnp.exp(1j * 2 * jnp.pi * f_norm_start)\n",
    "    required_len = fs + config.num_points - 1\n",
    "    fft_len = 1 << (required_len - 1).bit_length()\n",
    "    spectrum_raw = czt(signal, m=config.num_points, fft_len=fft_len, w=w, a=a)\n",
    "    spectrum_amp_normalized = jnp.abs(spectrum_raw * 2 * jnp.pi / fs)\n",
    "    k_axis_normalized = jnp.linspace(k_start, k_end, config.num_points)\n",
    "    return k_axis_normalized, spectrum_amp_normalized\n",
    "\n",
    "\n",
    "@dataclass(frozen=True)\n",
    "class ConvParams:\n",
    "    norm_k_axis: jax.Array\n",
    "    k_center: float\n",
    "    length: float\n",
    "    kappa: float\n",
    "    dk_eff: jax.Array\n",
    "\n",
    "\n",
    "def calculate_phys_eff_spectrum(norm_spectrum_amp: jax.Array, params: ConvParams) -> jax.Array:\n",
    "    \"\"\"Converts the normalized Fourier spectrum to physical units.\"\"\"\n",
    "    k_deviation_norm = params.norm_k_axis - params.k_center\n",
    "    dk_total_phys = k_deviation_norm * (2 * jnp.pi / params.length)\n",
    "    # Convert the normalized Fourier transform (|F_norm|) to the physical one (|F_phys|)\n",
    "    # |F_phys| = (L / 2π) * |F_norm|\n",
    "    fourier_amp_phys = norm_spectrum_amp * (params.length / (2 * jnp.pi))\n",
    "    # Efficiency is proportional to |κ_d * F_phys(Δk)|^2\n",
    "    eff = (params.kappa**2) * (fourier_amp_phys**2)\n",
    "    return jnp.interp(params.dk_eff, dk_total_phys, eff)\n",
    "\n",
    "\n",
    "def plot_spectrum(wls: jax.Array, effs: jax.Array) -> None:\n",
    "    \"\"\"Plots the SHG efficiency spectrum using Plotly.\"\"\"\n",
    "    fig = go.Figure()\n",
    "    fig.add_trace(go.Scatter(x=wls, y=effs, mode=\"lines\", name=\"Fourier Method\"))\n",
    "    fig.update_layout(\n",
    "        title=\"SHG Spectrum (Fourier Method)\",\n",
    "        xaxis_title=\"Fundamental Wavelength (μm)\",\n",
    "        yaxis_title=\"Normalized SHG Efficiency\",\n",
    "        template=\"plotly_white\",\n",
    "    )\n",
    "    fig.show()\n",
    "\n",
    "\n",
    "def calc_dk_eff(dk_material: jax.Array, device: DeviceConfig) -> jax.Array:\n",
    "    \"\"\"Calculates the effective phase mismatch.\"\"\"\n",
    "    k_norm_center = device.num_domains / 2.0\n",
    "    k_g = k_norm_center * (2 * jnp.pi / device.length)\n",
    "    return dk_material - k_g\n"
   ]
  },
  {
   "cell_type": "code",
   "execution_count": 7,
   "id": "3b4e072a",
   "metadata": {},
   "outputs": [
    {
     "data": {
      "application/vnd.plotly.v1+json": {
       "config": {
        "plotlyServerURL": "https://plot.ly"
       },
       "data": [
        {
         "mode": "lines",
         "type": "scatter",
         "y": {
          "bdata": "MXRmQDF0ZkAxdGZAMXRmQDF0ZkAxdGZAMXRmQDF0ZkAxdGZAMXRmQDF0ZkAxdGZAMXRmQDF0ZkAxdGZAMXRmQDF0ZkAxdGZAMXRmQDF0ZkAxdGZAMXRmQDF0ZkAxdGZAMXRmQDF0ZkAxdGZAMXRmQDF0ZkAxdGZAMXRmQDF0ZkAxdGZAMXRmQDF0ZkAxdGZAMXRmQDF0ZkAxdGZAMXRmQDF0ZkAxdGZAMXRmQDF0ZkAxdGZAMXRmQDF0ZkAxdGZAMXRmQDF0ZkAxdGZAMXRmQDF0ZkAxdGZAMXRmQDF0ZkAxdGZAMXRmQDF0ZkAxdGZAMXRmQDF0ZkAxdGZAMXRmQDF0ZkAxdGZAMXRmQDF0ZkAxdGZAMXRmQDF0ZkAxdGZAMXRmQDF0ZkAxdGZAMXRmQDF0ZkAxdGZAMXRmQDF0ZkAxdGZAMXRmQDF0ZkAxdGZAMXRmQDF0ZkAxdGZAMXRmQDF0ZkAxdGZAMXRmQDF0ZkAxdGZAMXRmQDF0ZkAxdGZAMXRmQDF0ZkAxdGZAMXRmQDF0ZkAxdGZAMXRmQDF0ZkAxdGZAMXRmQDF0ZkAxdGZAMXRmQDF0ZkAxdGZAMXRmQDF0ZkAxdGZAMXRmQDF0ZkAxdGZAMXRmQDF0ZkAxdGZAMXRmQDF0ZkAxdGZAMXRmQDF0ZkAxdGZAMXRmQDF0ZkAxdGZAMXRmQDF0ZkAxdGZAMXRmQDF0ZkAxdGZAMXRmQDF0ZkAxdGZAMXRmQDF0ZkAxdGZAMXRmQDF0ZkAxdGZAMXRmQDF0ZkAxdGZAMXRmQDF0ZkAxdGZAMXRmQDF0ZkAxdGZAMXRmQDF0ZkAxdGZAMXRmQDF0ZkAxdGZAMXRmQDF0ZkAxdGZAMXRmQDF0ZkAxdGZAMXRmQDF0ZkAxdGZAMXRmQDF0ZkAxdGZAMXRmQDF0ZkAxdGZAMXRmQDF0ZkAxdGZAMXRmQDF0ZkAxdGZAMXRmQDF0ZkAxdGZAMXRmQDF0ZkAxdGZAMXRmQDF0ZkAxdGZAMXRmQDF0ZkAxdGZAMXRmQDF0ZkAxdGZAMXRmQDF0ZkAxdGZAMXRmQDF0ZkAxdGZAMXRmQDF0ZkAxdGZAMXRmQDF0ZkAxdGZAMXRmQDF0ZkAxdGZAMXRmQDF0ZkAxdGZAMXRmQDF0ZkAxdGZAMXRmQDF0ZkAxdGZAMXRmQDF0ZkAxdGZAMXRmQDF0ZkAxdGZAMXRmQDF0ZkAxdGZAMXRmQDF0ZkAxdGZAMXRmQDF0ZkAxdGZAMXRmQDF0ZkAxdGZAMXRmQDF0ZkAxdGZAMXRmQDF0ZkAxdGZAMXRmQDF0ZkAxdGZAMXRmQDF0ZkAxdGZAMXRmQDF0ZkAxdGZAMXRmQDF0ZkAxdGZAMXRmQDF0ZkAxdGZAMXRmQDF0ZkAxdGZAMXRmQDF0ZkAxdGZAMXRmQDF0ZkAxdGZAMXRmQDF0ZkAxdGZAMXRmQDF0ZkAxdGZAMXRmQDF0ZkAxdGZAMXRmQDF0ZkAxdGZAMXRmQDF0ZkAxdGZAMXRmQDF0ZkAxdGZAMXRmQDF0ZkAxdGZAMXRmQDF0ZkAxdGZAMXRmQDF0ZkAxdGZAMXRmQDF0ZkAxdGZAMXRmQDF0ZkAxdGZAMXRmQDF0ZkAxdGZAMXRmQDF0ZkAxdGZAMXRmQDF0ZkAxdGZAMXRmQDF0ZkAxdGZAMXRmQDF0ZkAxdGZAMXRmQDF0ZkAxdGZAMXRmQDF0ZkAxdGZAdMR6P3TEej90xHo/dMR6P3TEej90xHo/dMR6P3TEej90xHo/dMR6P3TEej90xHo/dMR6P3TEej90xHo/dMR6P3TEej90xHo/dMR6P3TEej90xHo/dMR6P3TEej90xHo/dMR6P3TEej90xHo/dMR6P3TEej90xHo/dMR6P3TEej90xHo/dMR6P3TEej90xHo/dMR6P3TEej90xHo/dMR6P3TEej90xHo/dMR6P3TEej90xHo/dMR6P3TEej90xHo/dMR6P3TEej90xHo/dMR6P3TEej90xHo/dMR6P3TEej90xHo/dMR6P3TEej90xHo/dMR6P3TEej90xHo/dMR6P3TEej90xHo/dMR6P3TEej90xHo/dMR6P3TEej90xHo/dMR6P3TEej90xHo/dMR6P3TEej90xHo/dMR6P3TEej90xHo/dMR6P3TEej90xHo/dMR6P3TEej90xHo/dMR6P3TEej90xHo/dMR6P3TEej90xHo/dMR6P3TEej90xHo/dMR6P3TEej90xHo/dMR6P3TEej90xHo/dMR6P3TEej90xHo/dMR6P3TEej90xHo/dMR6P3TEej90xHo/dMR6P3TEej90xHo/dMR6P3TEej90xHo/dMR6P3TEej90xHo/dMR6P3TEej90xHo/dMR6P3TEej90xHo/dMR6P3TEej90xHo/dMR6P3TEej90xHo/dMR6P3TEej90xHo/dMR6P3TEej90xHo/dMR6P3TEej90xHo/dMR6P3TEej90xHo/dMR6P3TEej90xHo/dMR6P3TEej90xHo/dMR6P3TEej90xHo/dMR6P3TEej90xHo/dMR6P3TEej90xHo/dMR6P3TEej90xHo/dMR6P3TEej90xHo/dMR6P3TEej90xHo/dMR6P3TEej90xHo/dMR6P3TEej90xHo/dMR6P3TEej90xHo/dMR6P3TEej90xHo/dMR6P3TEej90xHo/dMR6P3TEej90xHo/dMR6P3TEej90xHo/dMR6P3TEej90xHo/dMR6P3TEej90xHo/dMR6P3TEej90xHo/dMR6P3TEej90xHo/dMR6P3TEej90xHo/dMR6P3TEej90xHo/dMR6P3TEej90xHo/dMR6P3TEej90xHo/dMR6P3TEej90xHo/dMR6P3TEej90xHo/dMR6P3TEej90xHo/dMR6P3TEej90xHo/dMR6P3TEej90xHo/dMR6P3TEej90xHo/dMR6P3TEej90xHo/dMR6P3TEej90xHo/dMR6P3TEej90xHo/dMR6P3TEej90xHo/dMR6P3TEej90xHo/dMR6P3TEej90xHo/dMR6P3TEej90xHo/dMR6P3TEej90xHo/dMR6P3TEej90xHo/dMR6P3TEej90xHo/dMR6P3TEej90xHo/dMR6P3TEej90xHo/dMR6P3TEej90xHo/dMR6P3TEej90xHo/dMR6P3TEej90xHo/dMR6P3TEej90xHo/dMR6P3TEej90xHo/dMR6P3TEej90xHo/dMR6P3TEej90xHo/dMR6P3TEej90xHo/dMR6P3TEej90xHo/dMR6P3TEej90xHo/dMR6P3TEej90xHo/dMR6P3TEej90xHo/dMR6P3TEej90xHo/dMR6P3TEej90xHo/dMR6P3TEej90xHo/dMR6P3TEej90xHo/dMR6P3TEej90xHo/dMR6P3TEej90xHo/dMR6P3TEej90xHo/dMR6P3TEej90xHo/dMR6P3TEej90xHo/dMR6P3TEej90xHo/dMR6P3TEej90xHo/dMR6P3TEej90xHo/dMR6P3TEej90xHo/dMR6P3TEej90xHo/dMR6P3TEej90xHo/dMR6P3TEej90xHo/dMR6P3TEej90xHo/dMR6P3TEej90xHo/dMR6P3TEej90xHo/dMR6P3TEej90xHo/dMR6P3TEej90xHo/dMR6P3TEej90xHo/dMR6P3TEej90xHo/dMR6P3TEej90xHo/dMR6P3TEej90xHo/dMR6P3TEej90xHo/dMR6P3TEej90xHo/dMR6P3TEej90xHo/dMR6P3TEej90xHo/dMR6P3TEej90xHo/dMR6P3TEej90xHo/dMR6P3TEej90xHo/dMR6P3TEej90xHo/dMR6P3TEej90xHo/dMR6P3TEej90xHo/dMR6P3TEej90xHo/dMR6P3TEej90xHo/dMR6P3TEej90xHo/dMR6P3TEej90xHo/dMR6P3TEej90xHo/dMR6P3TEej90xHo/dMR6P3TEej90xHo/dMR6P3TEej90xHo/dMR6P3TEej90xHo/dMR6P3TEej90xHo/dMR6P3TEej90xHo/dMR6P3TEej90xHo/dMR6P3TEej90xHo/dMR6P3TEej90xHo/dMR6P3TEej90xHo/dMR6P3TEej90xHo/dMR6P3TEej90xHo/dMR6P3TEej90xHo/dMR6P3TEej90xHo/dMR6P3TEej90xHo/dMR6P3TEej90xHo/dMR6P3TEej90xHo/dMR6P3TEej90xHo/dMR6P3TEej90xHo/dMR6P3TEej90xHo/dMR6P3TEej90xHo/dMR6P3TEej90xHo/dMR6P3TEej90xHo/dMR6P3TEej90xHo/dMR6P3TEej90xHo/dMR6P3TEej90xHo/dMR6P3TEej90xHo/dMR6P3TEej90xHo/dMR6P3TEej90xHo/dMR6P3TEej90xHo/dMR6P3TEej90xHo/dMR6P3TEej90xHo/dMR6P3TEej90xHo/dMR6P3TEej90xHo/dMR6P3TEej90xHo/dMR6P3TEej90xHo/dMR6P3TEej90xHo/dMR6P3TEej90xHo/dMR6P3TEej90xHo/dMR6P3TEej90xHo/dMR6P3TEej90xHo/dMR6P3TEej90xHo/dMR6P3TEej90xHo/dMR6P3TEej90xHo/dMR6P3TEej90xHo/dMR6P3TEej90xHo/dMR6P3TEej90xHo/dMR6P3TEej90xHo/dMR6P3TEej90xHo/dMR6P3TEej90xHo/dMR6P3TEej90xHo/dMR6P3TEej90xHo/dMR6P3TEej90xHo/dMR6P3TEej90xHo/dMR6P3TEej90xHo/dMR6P3TEej90xHo/dMR6P3TEej90xHo/dMR6P3TEej90xHo/dMR6P3TEej90xHo/dMR6P3TEej90xHo/dMR6P3TEej90xHo/dMR6P3TEej90xHo/dMR6P3TEej90xHo/dMR6P3TEej90xHo/dMR6P3TEej90xHo/dMR6P3TEej90xHo/dMR6P3TEej90xHo/dMR6P3TEej90xHo/dMR6P3TEej90xHo/dMR6P3TEej90xHo/dMR6P3TEej90xHo/dMR6P3TEej90xHo/dMR6P3TEej90xHo/dMR6P3TEej90xHo/dMR6P3TEej90xHo/dMR6P3TEej90xHo/dMR6P3TEej90xHo/dMR6P3TEej90xHo/dMR6P3TEej90xHo/dMR6P3TEej90xHo/dMR6P3TEej90xHo/dMR6P3TEej90xHo/dMR6P3TEej90xHo/dMR6P3TEej90xHo/dMR6P3TEej90xHo/dMR6P3TEej90xHo/dMR6P3TEej90xHo/dMR6P3TEej90xHo/dMR6P3TEej90xHo/dMR6P3TEej90xHo/dMR6P3TEej90xHo/dMR6P3TEej90xHo/dMR6P3TEej90xHo/dMR6P3TEej90xHo/dMR6P3TEej90xHo/dMR6P3TEej90xHo/dMR6P3TEej90xHo/dMR6P3TEej90xHo/dMR6P3TEej90xHo/dMR6P3TEej90xHo/dMR6P3TEej90xHo/dMR6P3TEej90xHo/dMR6P3TEej90xHo/dMR6P3TEej90xHo/dMR6P3TEej90xHo/dMR6P3TEej90xHo/dMR6P3TEej90xHo/dMR6P3TEej90xHo/dMR6P3TEej90xHo/dMR6P3TEej90xHo/dMR6P3TEej90xHo/dMR6P3TEej90xHo/dMR6P3TEej90xHo/dMR6P3TEej90xHo/dMR6P3TEej90xHo/dMR6P3TEej90xHo/dMR6P3TEej90xHo/dMR6P3TEej90xHo/dMR6P3TEej90xHo/dMR6P3TEej90xHo/dMR6P3TEej90xHo/dMR6P3TEej90xHo/dMR6P3TEej90xHo/dMR6P3TEej90xHo/dMR6P3TEej90xHo/dMR6P3TEej90xHo/dMR6P3TEej90xHo/dMR6P3TEej90xHo/dMR6P3TEej90xHo/dMR6P3TEej90xHo/dMR6P3TEej90xHo/dMR6P3TEej90xHo/dMR6P3TEej90xHo/dMR6P3TEej90xHo/dMR6P3TEej90xHo/dMR6P3TEej90xHo/dMR6P3TEej90xHo/dMR6P3TEej90xHo/dMR6P3TEej90xHo/dMR6P3TEej90xHo/dMR6P3TEej90xHo/dMR6P3TEej90xHo/dMR6P3TEej90xHo/dMR6P3TEej90xHo/dMR6P3TEej90xHo/dMR6P3TEej90xHo/dMR6P3TEej90xHo/dMR6P3TEej90xHo/dMR6P3TEej90xHo/dMR6P3TEej90xHo/dMR6P3TEej90xHo/dMR6P3TEej90xHo/dMR6P3TEej90xHo/dMR6P3TEej90xHo/dMR6P3TEej90xHo/dMR6P3TEej90xHo/dMR6P3TEej90xHo/dMR6P3TEej90xHo/dMR6P3TEej90xHo/dMR6P3TEej90xHo/dMR6P3TEej90xHo/dMR6P3TEej90xHo/dMR6P3TEej90xHo/dMR6P3TEej90xHo/dMR6P3TEej90xHo/dMR6P3TEej90xHo/dMR6P3TEej90xHo/dMR6P3TEej90xHo/dMR6P3TEej90xHo/dMR6P3TEej90xHo/dMR6P3TEej90xHo/dMR6P3TEej90xHo/dMR6P3TEej90xHo/dMR6P3TEej90xHo/dMR6P3TEej90xHo/dMR6P3TEej90xHo/dMR6P3TEej90xHo/dMR6P3TEej90xHo/dMR6P3TEej90xHo/dMR6P3TEej90xHo/dMR6P3TEej90xHo/dMR6P3TEej90xHo/dMR6P3TEej90xHo/dMR6P3TEej90xHo/dMR6P3TEej90xHo/dMR6P3TEej90xHo/dMR6P3TEej90xHo/dMR6P3TEej90xHo/dMR6P3TEej90xHo/dMR6P3TEej90xHo/dMR6P3TEej90xHo/dMR6P3TEej90xHo/dMR6P3TEej90xHo/dMR6P3TEej90xHo/dMR6P3TEej90xHo/dMR6P3TEej90xHo/dMR6P3TEej90xHo/dMR6P3TEej90xHo/dMR6P3TEej90xHo/dMR6P3TEej90xHo/dMR6P3TEej90xHo/dMR6P3TEej90xHo/dMR6P3TEej90xHo/dMR6P3TEej90xHo/dMR6P3TEej90xHo/dMR6P3TEej90xHo/dMR6P3TEej90xHo/dMR6P3TEej90xHo/dMR6P3TEej90xHo/dMR6P3TEej90xHo/dMR6P3TEej90xHo/dMR6P3TEej90xHo/dMR6P3TEej90xHo/dMR6P3TEej90xHo/dMR6P3TEej90xHo/dMR6P3TEej90xHo/dMR6P3TEej90xHo/dMR6P3TEej90xHo/dMR6P3TEej90xHo/dMR6P3TEej90xHo/dMR6P3TEej90xHo/dMR6P3TEej90xHo/dMR6P3TEej90xHo/dMR6P3TEej90xHo/dMR6P3TEej90xHo/dMR6P3TEej90xHo/dMR6P3TEej90xHo/dMR6P3TEej90xHo/dMR6P3TEej90xHo/dMR6P3TEej90xHo/dMR6P3TEej90xHo/dMR6P3TEej90xHo/dMR6P3TEej90xHo/dMR6P3TEej90xHo/dMR6P3TEej90xHo/dMR6P3TEej90xHo/dMR6P3TEej90xHo/dMR6P3TEej90xHo/dMR6P3TEej90xHo/dMR6P3TEej90xHo/dMR6P3TEej90xHo/dMR6P3TEej90xHo/dMR6P3TEej90xHo/dMR6P3TEej90xHo/dMR6P3TEej90xHo/dMR6P3TEej90xHo/dMR6P3TEej90xHo/dMR6P3TEej90xHo/dMR6Pw==",
          "dtype": "f4"
         }
        }
       ],
       "layout": {
        "template": {
         "data": {
          "bar": [
           {
            "error_x": {
             "color": "#2a3f5f"
            },
            "error_y": {
             "color": "#2a3f5f"
            },
            "marker": {
             "line": {
              "color": "white",
              "width": 0.5
             },
             "pattern": {
              "fillmode": "overlay",
              "size": 10,
              "solidity": 0.2
             }
            },
            "type": "bar"
           }
          ],
          "barpolar": [
           {
            "marker": {
             "line": {
              "color": "white",
              "width": 0.5
             },
             "pattern": {
              "fillmode": "overlay",
              "size": 10,
              "solidity": 0.2
             }
            },
            "type": "barpolar"
           }
          ],
          "carpet": [
           {
            "aaxis": {
             "endlinecolor": "#2a3f5f",
             "gridcolor": "#C8D4E3",
             "linecolor": "#C8D4E3",
             "minorgridcolor": "#C8D4E3",
             "startlinecolor": "#2a3f5f"
            },
            "baxis": {
             "endlinecolor": "#2a3f5f",
             "gridcolor": "#C8D4E3",
             "linecolor": "#C8D4E3",
             "minorgridcolor": "#C8D4E3",
             "startlinecolor": "#2a3f5f"
            },
            "type": "carpet"
           }
          ],
          "choropleth": [
           {
            "colorbar": {
             "outlinewidth": 0,
             "ticks": ""
            },
            "type": "choropleth"
           }
          ],
          "contour": [
           {
            "colorbar": {
             "outlinewidth": 0,
             "ticks": ""
            },
            "colorscale": [
             [
              0,
              "#0d0887"
             ],
             [
              0.1111111111111111,
              "#46039f"
             ],
             [
              0.2222222222222222,
              "#7201a8"
             ],
             [
              0.3333333333333333,
              "#9c179e"
             ],
             [
              0.4444444444444444,
              "#bd3786"
             ],
             [
              0.5555555555555556,
              "#d8576b"
             ],
             [
              0.6666666666666666,
              "#ed7953"
             ],
             [
              0.7777777777777778,
              "#fb9f3a"
             ],
             [
              0.8888888888888888,
              "#fdca26"
             ],
             [
              1,
              "#f0f921"
             ]
            ],
            "type": "contour"
           }
          ],
          "contourcarpet": [
           {
            "colorbar": {
             "outlinewidth": 0,
             "ticks": ""
            },
            "type": "contourcarpet"
           }
          ],
          "heatmap": [
           {
            "colorbar": {
             "outlinewidth": 0,
             "ticks": ""
            },
            "colorscale": [
             [
              0,
              "#0d0887"
             ],
             [
              0.1111111111111111,
              "#46039f"
             ],
             [
              0.2222222222222222,
              "#7201a8"
             ],
             [
              0.3333333333333333,
              "#9c179e"
             ],
             [
              0.4444444444444444,
              "#bd3786"
             ],
             [
              0.5555555555555556,
              "#d8576b"
             ],
             [
              0.6666666666666666,
              "#ed7953"
             ],
             [
              0.7777777777777778,
              "#fb9f3a"
             ],
             [
              0.8888888888888888,
              "#fdca26"
             ],
             [
              1,
              "#f0f921"
             ]
            ],
            "type": "heatmap"
           }
          ],
          "histogram": [
           {
            "marker": {
             "pattern": {
              "fillmode": "overlay",
              "size": 10,
              "solidity": 0.2
             }
            },
            "type": "histogram"
           }
          ],
          "histogram2d": [
           {
            "colorbar": {
             "outlinewidth": 0,
             "ticks": ""
            },
            "colorscale": [
             [
              0,
              "#0d0887"
             ],
             [
              0.1111111111111111,
              "#46039f"
             ],
             [
              0.2222222222222222,
              "#7201a8"
             ],
             [
              0.3333333333333333,
              "#9c179e"
             ],
             [
              0.4444444444444444,
              "#bd3786"
             ],
             [
              0.5555555555555556,
              "#d8576b"
             ],
             [
              0.6666666666666666,
              "#ed7953"
             ],
             [
              0.7777777777777778,
              "#fb9f3a"
             ],
             [
              0.8888888888888888,
              "#fdca26"
             ],
             [
              1,
              "#f0f921"
             ]
            ],
            "type": "histogram2d"
           }
          ],
          "histogram2dcontour": [
           {
            "colorbar": {
             "outlinewidth": 0,
             "ticks": ""
            },
            "colorscale": [
             [
              0,
              "#0d0887"
             ],
             [
              0.1111111111111111,
              "#46039f"
             ],
             [
              0.2222222222222222,
              "#7201a8"
             ],
             [
              0.3333333333333333,
              "#9c179e"
             ],
             [
              0.4444444444444444,
              "#bd3786"
             ],
             [
              0.5555555555555556,
              "#d8576b"
             ],
             [
              0.6666666666666666,
              "#ed7953"
             ],
             [
              0.7777777777777778,
              "#fb9f3a"
             ],
             [
              0.8888888888888888,
              "#fdca26"
             ],
             [
              1,
              "#f0f921"
             ]
            ],
            "type": "histogram2dcontour"
           }
          ],
          "mesh3d": [
           {
            "colorbar": {
             "outlinewidth": 0,
             "ticks": ""
            },
            "type": "mesh3d"
           }
          ],
          "parcoords": [
           {
            "line": {
             "colorbar": {
              "outlinewidth": 0,
              "ticks": ""
             }
            },
            "type": "parcoords"
           }
          ],
          "pie": [
           {
            "automargin": true,
            "type": "pie"
           }
          ],
          "scatter": [
           {
            "fillpattern": {
             "fillmode": "overlay",
             "size": 10,
             "solidity": 0.2
            },
            "type": "scatter"
           }
          ],
          "scatter3d": [
           {
            "line": {
             "colorbar": {
              "outlinewidth": 0,
              "ticks": ""
             }
            },
            "marker": {
             "colorbar": {
              "outlinewidth": 0,
              "ticks": ""
             }
            },
            "type": "scatter3d"
           }
          ],
          "scattercarpet": [
           {
            "marker": {
             "colorbar": {
              "outlinewidth": 0,
              "ticks": ""
             }
            },
            "type": "scattercarpet"
           }
          ],
          "scattergeo": [
           {
            "marker": {
             "colorbar": {
              "outlinewidth": 0,
              "ticks": ""
             }
            },
            "type": "scattergeo"
           }
          ],
          "scattergl": [
           {
            "marker": {
             "colorbar": {
              "outlinewidth": 0,
              "ticks": ""
             }
            },
            "type": "scattergl"
           }
          ],
          "scattermap": [
           {
            "marker": {
             "colorbar": {
              "outlinewidth": 0,
              "ticks": ""
             }
            },
            "type": "scattermap"
           }
          ],
          "scattermapbox": [
           {
            "marker": {
             "colorbar": {
              "outlinewidth": 0,
              "ticks": ""
             }
            },
            "type": "scattermapbox"
           }
          ],
          "scatterpolar": [
           {
            "marker": {
             "colorbar": {
              "outlinewidth": 0,
              "ticks": ""
             }
            },
            "type": "scatterpolar"
           }
          ],
          "scatterpolargl": [
           {
            "marker": {
             "colorbar": {
              "outlinewidth": 0,
              "ticks": ""
             }
            },
            "type": "scatterpolargl"
           }
          ],
          "scatterternary": [
           {
            "marker": {
             "colorbar": {
              "outlinewidth": 0,
              "ticks": ""
             }
            },
            "type": "scatterternary"
           }
          ],
          "surface": [
           {
            "colorbar": {
             "outlinewidth": 0,
             "ticks": ""
            },
            "colorscale": [
             [
              0,
              "#0d0887"
             ],
             [
              0.1111111111111111,
              "#46039f"
             ],
             [
              0.2222222222222222,
              "#7201a8"
             ],
             [
              0.3333333333333333,
              "#9c179e"
             ],
             [
              0.4444444444444444,
              "#bd3786"
             ],
             [
              0.5555555555555556,
              "#d8576b"
             ],
             [
              0.6666666666666666,
              "#ed7953"
             ],
             [
              0.7777777777777778,
              "#fb9f3a"
             ],
             [
              0.8888888888888888,
              "#fdca26"
             ],
             [
              1,
              "#f0f921"
             ]
            ],
            "type": "surface"
           }
          ],
          "table": [
           {
            "cells": {
             "fill": {
              "color": "#EBF0F8"
             },
             "line": {
              "color": "white"
             }
            },
            "header": {
             "fill": {
              "color": "#C8D4E3"
             },
             "line": {
              "color": "white"
             }
            },
            "type": "table"
           }
          ]
         },
         "layout": {
          "annotationdefaults": {
           "arrowcolor": "#2a3f5f",
           "arrowhead": 0,
           "arrowwidth": 1
          },
          "autotypenumbers": "strict",
          "coloraxis": {
           "colorbar": {
            "outlinewidth": 0,
            "ticks": ""
           }
          },
          "colorscale": {
           "diverging": [
            [
             0,
             "#8e0152"
            ],
            [
             0.1,
             "#c51b7d"
            ],
            [
             0.2,
             "#de77ae"
            ],
            [
             0.3,
             "#f1b6da"
            ],
            [
             0.4,
             "#fde0ef"
            ],
            [
             0.5,
             "#f7f7f7"
            ],
            [
             0.6,
             "#e6f5d0"
            ],
            [
             0.7,
             "#b8e186"
            ],
            [
             0.8,
             "#7fbc41"
            ],
            [
             0.9,
             "#4d9221"
            ],
            [
             1,
             "#276419"
            ]
           ],
           "sequential": [
            [
             0,
             "#0d0887"
            ],
            [
             0.1111111111111111,
             "#46039f"
            ],
            [
             0.2222222222222222,
             "#7201a8"
            ],
            [
             0.3333333333333333,
             "#9c179e"
            ],
            [
             0.4444444444444444,
             "#bd3786"
            ],
            [
             0.5555555555555556,
             "#d8576b"
            ],
            [
             0.6666666666666666,
             "#ed7953"
            ],
            [
             0.7777777777777778,
             "#fb9f3a"
            ],
            [
             0.8888888888888888,
             "#fdca26"
            ],
            [
             1,
             "#f0f921"
            ]
           ],
           "sequentialminus": [
            [
             0,
             "#0d0887"
            ],
            [
             0.1111111111111111,
             "#46039f"
            ],
            [
             0.2222222222222222,
             "#7201a8"
            ],
            [
             0.3333333333333333,
             "#9c179e"
            ],
            [
             0.4444444444444444,
             "#bd3786"
            ],
            [
             0.5555555555555556,
             "#d8576b"
            ],
            [
             0.6666666666666666,
             "#ed7953"
            ],
            [
             0.7777777777777778,
             "#fb9f3a"
            ],
            [
             0.8888888888888888,
             "#fdca26"
            ],
            [
             1,
             "#f0f921"
            ]
           ]
          },
          "colorway": [
           "#636efa",
           "#EF553B",
           "#00cc96",
           "#ab63fa",
           "#FFA15A",
           "#19d3f3",
           "#FF6692",
           "#B6E880",
           "#FF97FF",
           "#FECB52"
          ],
          "font": {
           "color": "#2a3f5f"
          },
          "geo": {
           "bgcolor": "white",
           "lakecolor": "white",
           "landcolor": "white",
           "showlakes": true,
           "showland": true,
           "subunitcolor": "#C8D4E3"
          },
          "hoverlabel": {
           "align": "left"
          },
          "hovermode": "closest",
          "mapbox": {
           "style": "light"
          },
          "paper_bgcolor": "white",
          "plot_bgcolor": "white",
          "polar": {
           "angularaxis": {
            "gridcolor": "#EBF0F8",
            "linecolor": "#EBF0F8",
            "ticks": ""
           },
           "bgcolor": "white",
           "radialaxis": {
            "gridcolor": "#EBF0F8",
            "linecolor": "#EBF0F8",
            "ticks": ""
           }
          },
          "scene": {
           "xaxis": {
            "backgroundcolor": "white",
            "gridcolor": "#DFE8F3",
            "gridwidth": 2,
            "linecolor": "#EBF0F8",
            "showbackground": true,
            "ticks": "",
            "zerolinecolor": "#EBF0F8"
           },
           "yaxis": {
            "backgroundcolor": "white",
            "gridcolor": "#DFE8F3",
            "gridwidth": 2,
            "linecolor": "#EBF0F8",
            "showbackground": true,
            "ticks": "",
            "zerolinecolor": "#EBF0F8"
           },
           "zaxis": {
            "backgroundcolor": "white",
            "gridcolor": "#DFE8F3",
            "gridwidth": 2,
            "linecolor": "#EBF0F8",
            "showbackground": true,
            "ticks": "",
            "zerolinecolor": "#EBF0F8"
           }
          },
          "shapedefaults": {
           "line": {
            "color": "#2a3f5f"
           }
          },
          "ternary": {
           "aaxis": {
            "gridcolor": "#DFE8F3",
            "linecolor": "#A2B1C6",
            "ticks": ""
           },
           "baxis": {
            "gridcolor": "#DFE8F3",
            "linecolor": "#A2B1C6",
            "ticks": ""
           },
           "bgcolor": "white",
           "caxis": {
            "gridcolor": "#DFE8F3",
            "linecolor": "#A2B1C6",
            "ticks": ""
           }
          },
          "title": {
           "x": 0.05
          },
          "xaxis": {
           "automargin": true,
           "gridcolor": "#EBF0F8",
           "linecolor": "#EBF0F8",
           "ticks": "",
           "title": {
            "standoff": 15
           },
           "zerolinecolor": "#EBF0F8",
           "zerolinewidth": 2
          },
          "yaxis": {
           "automargin": true,
           "gridcolor": "#EBF0F8",
           "linecolor": "#EBF0F8",
           "ticks": "",
           "title": {
            "standoff": 15
           },
           "zerolinecolor": "#EBF0F8",
           "zerolinewidth": 2
          }
         }
        },
        "title": {
         "text": "Domain Widths Comparison (length 2300.0μm)"
        },
        "xaxis": {
         "title": {
          "text": "Domain Index"
         }
        },
        "yaxis": {
         "title": {
          "text": "Width (μm)"
         }
        }
       }
      }
     },
     "metadata": {},
     "output_type": "display_data"
    },
    {
     "data": {
      "application/vnd.plotly.v1+json": {
       "config": {
        "plotlyServerURL": "https://plot.ly"
       },
       "data": [
        {
         "mode": "lines",
         "type": "scatter",
         "x": {
          "bdata": "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",
          "dtype": "f8"
         },
         "y": {
          "bdata": "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",
          "dtype": "f8"
         }
        }
       ],
       "layout": {
        "template": {
         "data": {
          "bar": [
           {
            "error_x": {
             "color": "#2a3f5f"
            },
            "error_y": {
             "color": "#2a3f5f"
            },
            "marker": {
             "line": {
              "color": "white",
              "width": 0.5
             },
             "pattern": {
              "fillmode": "overlay",
              "size": 10,
              "solidity": 0.2
             }
            },
            "type": "bar"
           }
          ],
          "barpolar": [
           {
            "marker": {
             "line": {
              "color": "white",
              "width": 0.5
             },
             "pattern": {
              "fillmode": "overlay",
              "size": 10,
              "solidity": 0.2
             }
            },
            "type": "barpolar"
           }
          ],
          "carpet": [
           {
            "aaxis": {
             "endlinecolor": "#2a3f5f",
             "gridcolor": "#C8D4E3",
             "linecolor": "#C8D4E3",
             "minorgridcolor": "#C8D4E3",
             "startlinecolor": "#2a3f5f"
            },
            "baxis": {
             "endlinecolor": "#2a3f5f",
             "gridcolor": "#C8D4E3",
             "linecolor": "#C8D4E3",
             "minorgridcolor": "#C8D4E3",
             "startlinecolor": "#2a3f5f"
            },
            "type": "carpet"
           }
          ],
          "choropleth": [
           {
            "colorbar": {
             "outlinewidth": 0,
             "ticks": ""
            },
            "type": "choropleth"
           }
          ],
          "contour": [
           {
            "colorbar": {
             "outlinewidth": 0,
             "ticks": ""
            },
            "colorscale": [
             [
              0,
              "#0d0887"
             ],
             [
              0.1111111111111111,
              "#46039f"
             ],
             [
              0.2222222222222222,
              "#7201a8"
             ],
             [
              0.3333333333333333,
              "#9c179e"
             ],
             [
              0.4444444444444444,
              "#bd3786"
             ],
             [
              0.5555555555555556,
              "#d8576b"
             ],
             [
              0.6666666666666666,
              "#ed7953"
             ],
             [
              0.7777777777777778,
              "#fb9f3a"
             ],
             [
              0.8888888888888888,
              "#fdca26"
             ],
             [
              1,
              "#f0f921"
             ]
            ],
            "type": "contour"
           }
          ],
          "contourcarpet": [
           {
            "colorbar": {
             "outlinewidth": 0,
             "ticks": ""
            },
            "type": "contourcarpet"
           }
          ],
          "heatmap": [
           {
            "colorbar": {
             "outlinewidth": 0,
             "ticks": ""
            },
            "colorscale": [
             [
              0,
              "#0d0887"
             ],
             [
              0.1111111111111111,
              "#46039f"
             ],
             [
              0.2222222222222222,
              "#7201a8"
             ],
             [
              0.3333333333333333,
              "#9c179e"
             ],
             [
              0.4444444444444444,
              "#bd3786"
             ],
             [
              0.5555555555555556,
              "#d8576b"
             ],
             [
              0.6666666666666666,
              "#ed7953"
             ],
             [
              0.7777777777777778,
              "#fb9f3a"
             ],
             [
              0.8888888888888888,
              "#fdca26"
             ],
             [
              1,
              "#f0f921"
             ]
            ],
            "type": "heatmap"
           }
          ],
          "histogram": [
           {
            "marker": {
             "pattern": {
              "fillmode": "overlay",
              "size": 10,
              "solidity": 0.2
             }
            },
            "type": "histogram"
           }
          ],
          "histogram2d": [
           {
            "colorbar": {
             "outlinewidth": 0,
             "ticks": ""
            },
            "colorscale": [
             [
              0,
              "#0d0887"
             ],
             [
              0.1111111111111111,
              "#46039f"
             ],
             [
              0.2222222222222222,
              "#7201a8"
             ],
             [
              0.3333333333333333,
              "#9c179e"
             ],
             [
              0.4444444444444444,
              "#bd3786"
             ],
             [
              0.5555555555555556,
              "#d8576b"
             ],
             [
              0.6666666666666666,
              "#ed7953"
             ],
             [
              0.7777777777777778,
              "#fb9f3a"
             ],
             [
              0.8888888888888888,
              "#fdca26"
             ],
             [
              1,
              "#f0f921"
             ]
            ],
            "type": "histogram2d"
           }
          ],
          "histogram2dcontour": [
           {
            "colorbar": {
             "outlinewidth": 0,
             "ticks": ""
            },
            "colorscale": [
             [
              0,
              "#0d0887"
             ],
             [
              0.1111111111111111,
              "#46039f"
             ],
             [
              0.2222222222222222,
              "#7201a8"
             ],
             [
              0.3333333333333333,
              "#9c179e"
             ],
             [
              0.4444444444444444,
              "#bd3786"
             ],
             [
              0.5555555555555556,
              "#d8576b"
             ],
             [
              0.6666666666666666,
              "#ed7953"
             ],
             [
              0.7777777777777778,
              "#fb9f3a"
             ],
             [
              0.8888888888888888,
              "#fdca26"
             ],
             [
              1,
              "#f0f921"
             ]
            ],
            "type": "histogram2dcontour"
           }
          ],
          "mesh3d": [
           {
            "colorbar": {
             "outlinewidth": 0,
             "ticks": ""
            },
            "type": "mesh3d"
           }
          ],
          "parcoords": [
           {
            "line": {
             "colorbar": {
              "outlinewidth": 0,
              "ticks": ""
             }
            },
            "type": "parcoords"
           }
          ],
          "pie": [
           {
            "automargin": true,
            "type": "pie"
           }
          ],
          "scatter": [
           {
            "fillpattern": {
             "fillmode": "overlay",
             "size": 10,
             "solidity": 0.2
            },
            "type": "scatter"
           }
          ],
          "scatter3d": [
           {
            "line": {
             "colorbar": {
              "outlinewidth": 0,
              "ticks": ""
             }
            },
            "marker": {
             "colorbar": {
              "outlinewidth": 0,
              "ticks": ""
             }
            },
            "type": "scatter3d"
           }
          ],
          "scattercarpet": [
           {
            "marker": {
             "colorbar": {
              "outlinewidth": 0,
              "ticks": ""
             }
            },
            "type": "scattercarpet"
           }
          ],
          "scattergeo": [
           {
            "marker": {
             "colorbar": {
              "outlinewidth": 0,
              "ticks": ""
             }
            },
            "type": "scattergeo"
           }
          ],
          "scattergl": [
           {
            "marker": {
             "colorbar": {
              "outlinewidth": 0,
              "ticks": ""
             }
            },
            "type": "scattergl"
           }
          ],
          "scattermap": [
           {
            "marker": {
             "colorbar": {
              "outlinewidth": 0,
              "ticks": ""
             }
            },
            "type": "scattermap"
           }
          ],
          "scattermapbox": [
           {
            "marker": {
             "colorbar": {
              "outlinewidth": 0,
              "ticks": ""
             }
            },
            "type": "scattermapbox"
           }
          ],
          "scatterpolar": [
           {
            "marker": {
             "colorbar": {
              "outlinewidth": 0,
              "ticks": ""
             }
            },
            "type": "scatterpolar"
           }
          ],
          "scatterpolargl": [
           {
            "marker": {
             "colorbar": {
              "outlinewidth": 0,
              "ticks": ""
             }
            },
            "type": "scatterpolargl"
           }
          ],
          "scatterternary": [
           {
            "marker": {
             "colorbar": {
              "outlinewidth": 0,
              "ticks": ""
             }
            },
            "type": "scatterternary"
           }
          ],
          "surface": [
           {
            "colorbar": {
             "outlinewidth": 0,
             "ticks": ""
            },
            "colorscale": [
             [
              0,
              "#0d0887"
             ],
             [
              0.1111111111111111,
              "#46039f"
             ],
             [
              0.2222222222222222,
              "#7201a8"
             ],
             [
              0.3333333333333333,
              "#9c179e"
             ],
             [
              0.4444444444444444,
              "#bd3786"
             ],
             [
              0.5555555555555556,
              "#d8576b"
             ],
             [
              0.6666666666666666,
              "#ed7953"
             ],
             [
              0.7777777777777778,
              "#fb9f3a"
             ],
             [
              0.8888888888888888,
              "#fdca26"
             ],
             [
              1,
              "#f0f921"
             ]
            ],
            "type": "surface"
           }
          ],
          "table": [
           {
            "cells": {
             "fill": {
              "color": "#EBF0F8"
             },
             "line": {
              "color": "white"
             }
            },
            "header": {
             "fill": {
              "color": "#C8D4E3"
             },
             "line": {
              "color": "white"
             }
            },
            "type": "table"
           }
          ]
         },
         "layout": {
          "annotationdefaults": {
           "arrowcolor": "#2a3f5f",
           "arrowhead": 0,
           "arrowwidth": 1
          },
          "autotypenumbers": "strict",
          "coloraxis": {
           "colorbar": {
            "outlinewidth": 0,
            "ticks": ""
           }
          },
          "colorscale": {
           "diverging": [
            [
             0,
             "#8e0152"
            ],
            [
             0.1,
             "#c51b7d"
            ],
            [
             0.2,
             "#de77ae"
            ],
            [
             0.3,
             "#f1b6da"
            ],
            [
             0.4,
             "#fde0ef"
            ],
            [
             0.5,
             "#f7f7f7"
            ],
            [
             0.6,
             "#e6f5d0"
            ],
            [
             0.7,
             "#b8e186"
            ],
            [
             0.8,
             "#7fbc41"
            ],
            [
             0.9,
             "#4d9221"
            ],
            [
             1,
             "#276419"
            ]
           ],
           "sequential": [
            [
             0,
             "#0d0887"
            ],
            [
             0.1111111111111111,
             "#46039f"
            ],
            [
             0.2222222222222222,
             "#7201a8"
            ],
            [
             0.3333333333333333,
             "#9c179e"
            ],
            [
             0.4444444444444444,
             "#bd3786"
            ],
            [
             0.5555555555555556,
             "#d8576b"
            ],
            [
             0.6666666666666666,
             "#ed7953"
            ],
            [
             0.7777777777777778,
             "#fb9f3a"
            ],
            [
             0.8888888888888888,
             "#fdca26"
            ],
            [
             1,
             "#f0f921"
            ]
           ],
           "sequentialminus": [
            [
             0,
             "#0d0887"
            ],
            [
             0.1111111111111111,
             "#46039f"
            ],
            [
             0.2222222222222222,
             "#7201a8"
            ],
            [
             0.3333333333333333,
             "#9c179e"
            ],
            [
             0.4444444444444444,
             "#bd3786"
            ],
            [
             0.5555555555555556,
             "#d8576b"
            ],
            [
             0.6666666666666666,
             "#ed7953"
            ],
            [
             0.7777777777777778,
             "#fb9f3a"
            ],
            [
             0.8888888888888888,
             "#fdca26"
            ],
            [
             1,
             "#f0f921"
            ]
           ]
          },
          "colorway": [
           "#636efa",
           "#EF553B",
           "#00cc96",
           "#ab63fa",
           "#FFA15A",
           "#19d3f3",
           "#FF6692",
           "#B6E880",
           "#FF97FF",
           "#FECB52"
          ],
          "font": {
           "color": "#2a3f5f"
          },
          "geo": {
           "bgcolor": "white",
           "lakecolor": "white",
           "landcolor": "white",
           "showlakes": true,
           "showland": true,
           "subunitcolor": "#C8D4E3"
          },
          "hoverlabel": {
           "align": "left"
          },
          "hovermode": "closest",
          "mapbox": {
           "style": "light"
          },
          "paper_bgcolor": "white",
          "plot_bgcolor": "white",
          "polar": {
           "angularaxis": {
            "gridcolor": "#EBF0F8",
            "linecolor": "#EBF0F8",
            "ticks": ""
           },
           "bgcolor": "white",
           "radialaxis": {
            "gridcolor": "#EBF0F8",
            "linecolor": "#EBF0F8",
            "ticks": ""
           }
          },
          "scene": {
           "xaxis": {
            "backgroundcolor": "white",
            "gridcolor": "#DFE8F3",
            "gridwidth": 2,
            "linecolor": "#EBF0F8",
            "showbackground": true,
            "ticks": "",
            "zerolinecolor": "#EBF0F8"
           },
           "yaxis": {
            "backgroundcolor": "white",
            "gridcolor": "#DFE8F3",
            "gridwidth": 2,
            "linecolor": "#EBF0F8",
            "showbackground": true,
            "ticks": "",
            "zerolinecolor": "#EBF0F8"
           },
           "zaxis": {
            "backgroundcolor": "white",
            "gridcolor": "#DFE8F3",
            "gridwidth": 2,
            "linecolor": "#EBF0F8",
            "showbackground": true,
            "ticks": "",
            "zerolinecolor": "#EBF0F8"
           }
          },
          "shapedefaults": {
           "line": {
            "color": "#2a3f5f"
           }
          },
          "ternary": {
           "aaxis": {
            "gridcolor": "#DFE8F3",
            "linecolor": "#A2B1C6",
            "ticks": ""
           },
           "baxis": {
            "gridcolor": "#DFE8F3",
            "linecolor": "#A2B1C6",
            "ticks": ""
           },
           "bgcolor": "white",
           "caxis": {
            "gridcolor": "#DFE8F3",
            "linecolor": "#A2B1C6",
            "ticks": ""
           }
          },
          "title": {
           "x": 0.05
          },
          "xaxis": {
           "automargin": true,
           "gridcolor": "#EBF0F8",
           "linecolor": "#EBF0F8",
           "ticks": "",
           "title": {
            "standoff": 15
           },
           "zerolinecolor": "#EBF0F8",
           "zerolinewidth": 2
          },
          "yaxis": {
           "automargin": true,
           "gridcolor": "#EBF0F8",
           "linecolor": "#EBF0F8",
           "ticks": "",
           "title": {
            "standoff": 15
           },
           "zerolinecolor": "#EBF0F8",
           "zerolinewidth": 2
          }
         }
        },
        "title": {
         "text": "d_eff(z) Spatial Frequency Spectrum"
        },
        "xaxis": {
         "title": {
          "text": "Normalized Spatial Frequency (k)"
         }
        },
        "yaxis": {
         "title": {
          "text": "Fourier Amplitude"
         }
        }
       }
      }
     },
     "metadata": {},
     "output_type": "display_data"
    }
   ],
   "source": [
    "from qpm import mgoslt\n",
    "\n",
    "optimal_ratio = 1 / 3\n",
    "\n",
    "design_wl = 1.031\n",
    "design_temp = 70.0\n",
    "shg_sfg_ratio = optimal_ratio\n",
    "num_domains_shg = 321\n",
    "num_domains_sfg = 1168\n",
    "\n",
    "delta_k1 = mgoslt.calc_twm_delta_k(design_wl, design_wl, design_temp)\n",
    "delta_k2 = mgoslt.calc_twm_delta_k(design_wl, design_wl / 2, design_temp)\n",
    "\n",
    "shg_domain_width = jnp.pi / delta_k1\n",
    "sfg_domain_width = jnp.pi / delta_k2\n",
    "widths_shg = jnp.array([shg_domain_width] * num_domains_shg)\n",
    "widths_sfg = jnp.array([sfg_domain_width] * num_domains_sfg)\n",
    "widths_thg = jnp.concatenate([widths_shg, widths_sfg])\n",
    "\n",
    "fig = go.Figure()\n",
    "fig.add_trace(go.Scatter(y=widths_thg, mode=\"lines\"))\n",
    "fig.update_layout(\n",
    "    title_text=f\"Domain Widths Comparison (length {jnp.sum(widths_thg):.1f}μm)\",\n",
    "    xaxis_title=\"Domain Index\",\n",
    "    yaxis_title=\"Width (μm)\",\n",
    "    template=\"plotly_white\",\n",
    ")\n",
    "fig.show()\n",
    "\n",
    "signal = create_alternating_signal_from_widths(widths_thg, n_points=30000)\n",
    "fourier_config = FourierConfig(\n",
    "    k_center=750,  # Center of a wide scan\n",
    "    k_bandwidth=1500,  # Scan from k=0 to k=1500\n",
    "    num_points=4096,\n",
    ")\n",
    "k_axis, spectrum_amp = calculate_fourier_spectrum(signal, fourier_config)\n",
    "\n",
    "fig = go.Figure()\n",
    "fig.add_trace(go.Scatter(x=k_axis, y=spectrum_amp, mode=\"lines\"))\n",
    "fig.update_layout(\n",
    "    title=\"d_eff(z) Spatial Frequency Spectrum\",\n",
    "    xaxis_title=\"Normalized Spatial Frequency (k)\",\n",
    "    yaxis_title=\"Fourier Amplitude\",\n",
    "    template=\"plotly_white\",\n",
    ")\n",
    "fig.show()"
   ]
  },
  {
   "cell_type": "code",
   "execution_count": 5,
   "id": "9fd6631b",
   "metadata": {},
   "outputs": [
    {
     "data": {
      "application/vnd.plotly.v1+json": {
       "config": {
        "plotlyServerURL": "https://plot.ly"
       },
       "data": [
        {
         "mode": "lines",
         "type": "scatter",
         "y": {
          "bdata": "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",
          "dtype": "f4"
         }
        }
       ],
       "layout": {
        "template": {
         "data": {
          "bar": [
           {
            "error_x": {
             "color": "#2a3f5f"
            },
            "error_y": {
             "color": "#2a3f5f"
            },
            "marker": {
             "line": {
              "color": "white",
              "width": 0.5
             },
             "pattern": {
              "fillmode": "overlay",
              "size": 10,
              "solidity": 0.2
             }
            },
            "type": "bar"
           }
          ],
          "barpolar": [
           {
            "marker": {
             "line": {
              "color": "white",
              "width": 0.5
             },
             "pattern": {
              "fillmode": "overlay",
              "size": 10,
              "solidity": 0.2
             }
            },
            "type": "barpolar"
           }
          ],
          "carpet": [
           {
            "aaxis": {
             "endlinecolor": "#2a3f5f",
             "gridcolor": "#C8D4E3",
             "linecolor": "#C8D4E3",
             "minorgridcolor": "#C8D4E3",
             "startlinecolor": "#2a3f5f"
            },
            "baxis": {
             "endlinecolor": "#2a3f5f",
             "gridcolor": "#C8D4E3",
             "linecolor": "#C8D4E3",
             "minorgridcolor": "#C8D4E3",
             "startlinecolor": "#2a3f5f"
            },
            "type": "carpet"
           }
          ],
          "choropleth": [
           {
            "colorbar": {
             "outlinewidth": 0,
             "ticks": ""
            },
            "type": "choropleth"
           }
          ],
          "contour": [
           {
            "colorbar": {
             "outlinewidth": 0,
             "ticks": ""
            },
            "colorscale": [
             [
              0,
              "#0d0887"
             ],
             [
              0.1111111111111111,
              "#46039f"
             ],
             [
              0.2222222222222222,
              "#7201a8"
             ],
             [
              0.3333333333333333,
              "#9c179e"
             ],
             [
              0.4444444444444444,
              "#bd3786"
             ],
             [
              0.5555555555555556,
              "#d8576b"
             ],
             [
              0.6666666666666666,
              "#ed7953"
             ],
             [
              0.7777777777777778,
              "#fb9f3a"
             ],
             [
              0.8888888888888888,
              "#fdca26"
             ],
             [
              1,
              "#f0f921"
             ]
            ],
            "type": "contour"
           }
          ],
          "contourcarpet": [
           {
            "colorbar": {
             "outlinewidth": 0,
             "ticks": ""
            },
            "type": "contourcarpet"
           }
          ],
          "heatmap": [
           {
            "colorbar": {
             "outlinewidth": 0,
             "ticks": ""
            },
            "colorscale": [
             [
              0,
              "#0d0887"
             ],
             [
              0.1111111111111111,
              "#46039f"
             ],
             [
              0.2222222222222222,
              "#7201a8"
             ],
             [
              0.3333333333333333,
              "#9c179e"
             ],
             [
              0.4444444444444444,
              "#bd3786"
             ],
             [
              0.5555555555555556,
              "#d8576b"
             ],
             [
              0.6666666666666666,
              "#ed7953"
             ],
             [
              0.7777777777777778,
              "#fb9f3a"
             ],
             [
              0.8888888888888888,
              "#fdca26"
             ],
             [
              1,
              "#f0f921"
             ]
            ],
            "type": "heatmap"
           }
          ],
          "histogram": [
           {
            "marker": {
             "pattern": {
              "fillmode": "overlay",
              "size": 10,
              "solidity": 0.2
             }
            },
            "type": "histogram"
           }
          ],
          "histogram2d": [
           {
            "colorbar": {
             "outlinewidth": 0,
             "ticks": ""
            },
            "colorscale": [
             [
              0,
              "#0d0887"
             ],
             [
              0.1111111111111111,
              "#46039f"
             ],
             [
              0.2222222222222222,
              "#7201a8"
             ],
             [
              0.3333333333333333,
              "#9c179e"
             ],
             [
              0.4444444444444444,
              "#bd3786"
             ],
             [
              0.5555555555555556,
              "#d8576b"
             ],
             [
              0.6666666666666666,
              "#ed7953"
             ],
             [
              0.7777777777777778,
              "#fb9f3a"
             ],
             [
              0.8888888888888888,
              "#fdca26"
             ],
             [
              1,
              "#f0f921"
             ]
            ],
            "type": "histogram2d"
           }
          ],
          "histogram2dcontour": [
           {
            "colorbar": {
             "outlinewidth": 0,
             "ticks": ""
            },
            "colorscale": [
             [
              0,
              "#0d0887"
             ],
             [
              0.1111111111111111,
              "#46039f"
             ],
             [
              0.2222222222222222,
              "#7201a8"
             ],
             [
              0.3333333333333333,
              "#9c179e"
             ],
             [
              0.4444444444444444,
              "#bd3786"
             ],
             [
              0.5555555555555556,
              "#d8576b"
             ],
             [
              0.6666666666666666,
              "#ed7953"
             ],
             [
              0.7777777777777778,
              "#fb9f3a"
             ],
             [
              0.8888888888888888,
              "#fdca26"
             ],
             [
              1,
              "#f0f921"
             ]
            ],
            "type": "histogram2dcontour"
           }
          ],
          "mesh3d": [
           {
            "colorbar": {
             "outlinewidth": 0,
             "ticks": ""
            },
            "type": "mesh3d"
           }
          ],
          "parcoords": [
           {
            "line": {
             "colorbar": {
              "outlinewidth": 0,
              "ticks": ""
             }
            },
            "type": "parcoords"
           }
          ],
          "pie": [
           {
            "automargin": true,
            "type": "pie"
           }
          ],
          "scatter": [
           {
            "fillpattern": {
             "fillmode": "overlay",
             "size": 10,
             "solidity": 0.2
            },
            "type": "scatter"
           }
          ],
          "scatter3d": [
           {
            "line": {
             "colorbar": {
              "outlinewidth": 0,
              "ticks": ""
             }
            },
            "marker": {
             "colorbar": {
              "outlinewidth": 0,
              "ticks": ""
             }
            },
            "type": "scatter3d"
           }
          ],
          "scattercarpet": [
           {
            "marker": {
             "colorbar": {
              "outlinewidth": 0,
              "ticks": ""
             }
            },
            "type": "scattercarpet"
           }
          ],
          "scattergeo": [
           {
            "marker": {
             "colorbar": {
              "outlinewidth": 0,
              "ticks": ""
             }
            },
            "type": "scattergeo"
           }
          ],
          "scattergl": [
           {
            "marker": {
             "colorbar": {
              "outlinewidth": 0,
              "ticks": ""
             }
            },
            "type": "scattergl"
           }
          ],
          "scattermap": [
           {
            "marker": {
             "colorbar": {
              "outlinewidth": 0,
              "ticks": ""
             }
            },
            "type": "scattermap"
           }
          ],
          "scattermapbox": [
           {
            "marker": {
             "colorbar": {
              "outlinewidth": 0,
              "ticks": ""
             }
            },
            "type": "scattermapbox"
           }
          ],
          "scatterpolar": [
           {
            "marker": {
             "colorbar": {
              "outlinewidth": 0,
              "ticks": ""
             }
            },
            "type": "scatterpolar"
           }
          ],
          "scatterpolargl": [
           {
            "marker": {
             "colorbar": {
              "outlinewidth": 0,
              "ticks": ""
             }
            },
            "type": "scatterpolargl"
           }
          ],
          "scatterternary": [
           {
            "marker": {
             "colorbar": {
              "outlinewidth": 0,
              "ticks": ""
             }
            },
            "type": "scatterternary"
           }
          ],
          "surface": [
           {
            "colorbar": {
             "outlinewidth": 0,
             "ticks": ""
            },
            "colorscale": [
             [
              0,
              "#0d0887"
             ],
             [
              0.1111111111111111,
              "#46039f"
             ],
             [
              0.2222222222222222,
              "#7201a8"
             ],
             [
              0.3333333333333333,
              "#9c179e"
             ],
             [
              0.4444444444444444,
              "#bd3786"
             ],
             [
              0.5555555555555556,
              "#d8576b"
             ],
             [
              0.6666666666666666,
              "#ed7953"
             ],
             [
              0.7777777777777778,
              "#fb9f3a"
             ],
             [
              0.8888888888888888,
              "#fdca26"
             ],
             [
              1,
              "#f0f921"
             ]
            ],
            "type": "surface"
           }
          ],
          "table": [
           {
            "cells": {
             "fill": {
              "color": "#EBF0F8"
             },
             "line": {
              "color": "white"
             }
            },
            "header": {
             "fill": {
              "color": "#C8D4E3"
             },
             "line": {
              "color": "white"
             }
            },
            "type": "table"
           }
          ]
         },
         "layout": {
          "annotationdefaults": {
           "arrowcolor": "#2a3f5f",
           "arrowhead": 0,
           "arrowwidth": 1
          },
          "autotypenumbers": "strict",
          "coloraxis": {
           "colorbar": {
            "outlinewidth": 0,
            "ticks": ""
           }
          },
          "colorscale": {
           "diverging": [
            [
             0,
             "#8e0152"
            ],
            [
             0.1,
             "#c51b7d"
            ],
            [
             0.2,
             "#de77ae"
            ],
            [
             0.3,
             "#f1b6da"
            ],
            [
             0.4,
             "#fde0ef"
            ],
            [
             0.5,
             "#f7f7f7"
            ],
            [
             0.6,
             "#e6f5d0"
            ],
            [
             0.7,
             "#b8e186"
            ],
            [
             0.8,
             "#7fbc41"
            ],
            [
             0.9,
             "#4d9221"
            ],
            [
             1,
             "#276419"
            ]
           ],
           "sequential": [
            [
             0,
             "#0d0887"
            ],
            [
             0.1111111111111111,
             "#46039f"
            ],
            [
             0.2222222222222222,
             "#7201a8"
            ],
            [
             0.3333333333333333,
             "#9c179e"
            ],
            [
             0.4444444444444444,
             "#bd3786"
            ],
            [
             0.5555555555555556,
             "#d8576b"
            ],
            [
             0.6666666666666666,
             "#ed7953"
            ],
            [
             0.7777777777777778,
             "#fb9f3a"
            ],
            [
             0.8888888888888888,
             "#fdca26"
            ],
            [
             1,
             "#f0f921"
            ]
           ],
           "sequentialminus": [
            [
             0,
             "#0d0887"
            ],
            [
             0.1111111111111111,
             "#46039f"
            ],
            [
             0.2222222222222222,
             "#7201a8"
            ],
            [
             0.3333333333333333,
             "#9c179e"
            ],
            [
             0.4444444444444444,
             "#bd3786"
            ],
            [
             0.5555555555555556,
             "#d8576b"
            ],
            [
             0.6666666666666666,
             "#ed7953"
            ],
            [
             0.7777777777777778,
             "#fb9f3a"
            ],
            [
             0.8888888888888888,
             "#fdca26"
            ],
            [
             1,
             "#f0f921"
            ]
           ]
          },
          "colorway": [
           "#636efa",
           "#EF553B",
           "#00cc96",
           "#ab63fa",
           "#FFA15A",
           "#19d3f3",
           "#FF6692",
           "#B6E880",
           "#FF97FF",
           "#FECB52"
          ],
          "font": {
           "color": "#2a3f5f"
          },
          "geo": {
           "bgcolor": "white",
           "lakecolor": "white",
           "landcolor": "white",
           "showlakes": true,
           "showland": true,
           "subunitcolor": "#C8D4E3"
          },
          "hoverlabel": {
           "align": "left"
          },
          "hovermode": "closest",
          "mapbox": {
           "style": "light"
          },
          "paper_bgcolor": "white",
          "plot_bgcolor": "white",
          "polar": {
           "angularaxis": {
            "gridcolor": "#EBF0F8",
            "linecolor": "#EBF0F8",
            "ticks": ""
           },
           "bgcolor": "white",
           "radialaxis": {
            "gridcolor": "#EBF0F8",
            "linecolor": "#EBF0F8",
            "ticks": ""
           }
          },
          "scene": {
           "xaxis": {
            "backgroundcolor": "white",
            "gridcolor": "#DFE8F3",
            "gridwidth": 2,
            "linecolor": "#EBF0F8",
            "showbackground": true,
            "ticks": "",
            "zerolinecolor": "#EBF0F8"
           },
           "yaxis": {
            "backgroundcolor": "white",
            "gridcolor": "#DFE8F3",
            "gridwidth": 2,
            "linecolor": "#EBF0F8",
            "showbackground": true,
            "ticks": "",
            "zerolinecolor": "#EBF0F8"
           },
           "zaxis": {
            "backgroundcolor": "white",
            "gridcolor": "#DFE8F3",
            "gridwidth": 2,
            "linecolor": "#EBF0F8",
            "showbackground": true,
            "ticks": "",
            "zerolinecolor": "#EBF0F8"
           }
          },
          "shapedefaults": {
           "line": {
            "color": "#2a3f5f"
           }
          },
          "ternary": {
           "aaxis": {
            "gridcolor": "#DFE8F3",
            "linecolor": "#A2B1C6",
            "ticks": ""
           },
           "baxis": {
            "gridcolor": "#DFE8F3",
            "linecolor": "#A2B1C6",
            "ticks": ""
           },
           "bgcolor": "white",
           "caxis": {
            "gridcolor": "#DFE8F3",
            "linecolor": "#A2B1C6",
            "ticks": ""
           }
          },
          "title": {
           "x": 0.05
          },
          "xaxis": {
           "automargin": true,
           "gridcolor": "#EBF0F8",
           "linecolor": "#EBF0F8",
           "ticks": "",
           "title": {
            "standoff": 15
           },
           "zerolinecolor": "#EBF0F8",
           "zerolinewidth": 2
          },
          "yaxis": {
           "automargin": true,
           "gridcolor": "#EBF0F8",
           "linecolor": "#EBF0F8",
           "ticks": "",
           "title": {
            "standoff": 15
           },
           "zerolinecolor": "#EBF0F8",
           "zerolinewidth": 2
          }
         }
        },
        "title": {
         "text": "Domain Widths Comparison (length 2300.0μm)"
        },
        "xaxis": {
         "title": {
          "text": "Domain Index"
         }
        },
        "yaxis": {
         "title": {
          "text": "Width (μm)"
         }
        }
       }
      }
     },
     "metadata": {},
     "output_type": "display_data"
    },
    {
     "data": {
      "application/vnd.plotly.v1+json": {
       "config": {
        "plotlyServerURL": "https://plot.ly"
       },
       "data": [
        {
         "mode": "lines",
         "type": "scatter",
         "x": {
          "bdata": "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",
          "dtype": "f8"
         },
         "y": {
          "bdata": "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",
          "dtype": "f8"
         }
        }
       ],
       "layout": {
        "template": {
         "data": {
          "bar": [
           {
            "error_x": {
             "color": "#2a3f5f"
            },
            "error_y": {
             "color": "#2a3f5f"
            },
            "marker": {
             "line": {
              "color": "white",
              "width": 0.5
             },
             "pattern": {
              "fillmode": "overlay",
              "size": 10,
              "solidity": 0.2
             }
            },
            "type": "bar"
           }
          ],
          "barpolar": [
           {
            "marker": {
             "line": {
              "color": "white",
              "width": 0.5
             },
             "pattern": {
              "fillmode": "overlay",
              "size": 10,
              "solidity": 0.2
             }
            },
            "type": "barpolar"
           }
          ],
          "carpet": [
           {
            "aaxis": {
             "endlinecolor": "#2a3f5f",
             "gridcolor": "#C8D4E3",
             "linecolor": "#C8D4E3",
             "minorgridcolor": "#C8D4E3",
             "startlinecolor": "#2a3f5f"
            },
            "baxis": {
             "endlinecolor": "#2a3f5f",
             "gridcolor": "#C8D4E3",
             "linecolor": "#C8D4E3",
             "minorgridcolor": "#C8D4E3",
             "startlinecolor": "#2a3f5f"
            },
            "type": "carpet"
           }
          ],
          "choropleth": [
           {
            "colorbar": {
             "outlinewidth": 0,
             "ticks": ""
            },
            "type": "choropleth"
           }
          ],
          "contour": [
           {
            "colorbar": {
             "outlinewidth": 0,
             "ticks": ""
            },
            "colorscale": [
             [
              0,
              "#0d0887"
             ],
             [
              0.1111111111111111,
              "#46039f"
             ],
             [
              0.2222222222222222,
              "#7201a8"
             ],
             [
              0.3333333333333333,
              "#9c179e"
             ],
             [
              0.4444444444444444,
              "#bd3786"
             ],
             [
              0.5555555555555556,
              "#d8576b"
             ],
             [
              0.6666666666666666,
              "#ed7953"
             ],
             [
              0.7777777777777778,
              "#fb9f3a"
             ],
             [
              0.8888888888888888,
              "#fdca26"
             ],
             [
              1,
              "#f0f921"
             ]
            ],
            "type": "contour"
           }
          ],
          "contourcarpet": [
           {
            "colorbar": {
             "outlinewidth": 0,
             "ticks": ""
            },
            "type": "contourcarpet"
           }
          ],
          "heatmap": [
           {
            "colorbar": {
             "outlinewidth": 0,
             "ticks": ""
            },
            "colorscale": [
             [
              0,
              "#0d0887"
             ],
             [
              0.1111111111111111,
              "#46039f"
             ],
             [
              0.2222222222222222,
              "#7201a8"
             ],
             [
              0.3333333333333333,
              "#9c179e"
             ],
             [
              0.4444444444444444,
              "#bd3786"
             ],
             [
              0.5555555555555556,
              "#d8576b"
             ],
             [
              0.6666666666666666,
              "#ed7953"
             ],
             [
              0.7777777777777778,
              "#fb9f3a"
             ],
             [
              0.8888888888888888,
              "#fdca26"
             ],
             [
              1,
              "#f0f921"
             ]
            ],
            "type": "heatmap"
           }
          ],
          "histogram": [
           {
            "marker": {
             "pattern": {
              "fillmode": "overlay",
              "size": 10,
              "solidity": 0.2
             }
            },
            "type": "histogram"
           }
          ],
          "histogram2d": [
           {
            "colorbar": {
             "outlinewidth": 0,
             "ticks": ""
            },
            "colorscale": [
             [
              0,
              "#0d0887"
             ],
             [
              0.1111111111111111,
              "#46039f"
             ],
             [
              0.2222222222222222,
              "#7201a8"
             ],
             [
              0.3333333333333333,
              "#9c179e"
             ],
             [
              0.4444444444444444,
              "#bd3786"
             ],
             [
              0.5555555555555556,
              "#d8576b"
             ],
             [
              0.6666666666666666,
              "#ed7953"
             ],
             [
              0.7777777777777778,
              "#fb9f3a"
             ],
             [
              0.8888888888888888,
              "#fdca26"
             ],
             [
              1,
              "#f0f921"
             ]
            ],
            "type": "histogram2d"
           }
          ],
          "histogram2dcontour": [
           {
            "colorbar": {
             "outlinewidth": 0,
             "ticks": ""
            },
            "colorscale": [
             [
              0,
              "#0d0887"
             ],
             [
              0.1111111111111111,
              "#46039f"
             ],
             [
              0.2222222222222222,
              "#7201a8"
             ],
             [
              0.3333333333333333,
              "#9c179e"
             ],
             [
              0.4444444444444444,
              "#bd3786"
             ],
             [
              0.5555555555555556,
              "#d8576b"
             ],
             [
              0.6666666666666666,
              "#ed7953"
             ],
             [
              0.7777777777777778,
              "#fb9f3a"
             ],
             [
              0.8888888888888888,
              "#fdca26"
             ],
             [
              1,
              "#f0f921"
             ]
            ],
            "type": "histogram2dcontour"
           }
          ],
          "mesh3d": [
           {
            "colorbar": {
             "outlinewidth": 0,
             "ticks": ""
            },
            "type": "mesh3d"
           }
          ],
          "parcoords": [
           {
            "line": {
             "colorbar": {
              "outlinewidth": 0,
              "ticks": ""
             }
            },
            "type": "parcoords"
           }
          ],
          "pie": [
           {
            "automargin": true,
            "type": "pie"
           }
          ],
          "scatter": [
           {
            "fillpattern": {
             "fillmode": "overlay",
             "size": 10,
             "solidity": 0.2
            },
            "type": "scatter"
           }
          ],
          "scatter3d": [
           {
            "line": {
             "colorbar": {
              "outlinewidth": 0,
              "ticks": ""
             }
            },
            "marker": {
             "colorbar": {
              "outlinewidth": 0,
              "ticks": ""
             }
            },
            "type": "scatter3d"
           }
          ],
          "scattercarpet": [
           {
            "marker": {
             "colorbar": {
              "outlinewidth": 0,
              "ticks": ""
             }
            },
            "type": "scattercarpet"
           }
          ],
          "scattergeo": [
           {
            "marker": {
             "colorbar": {
              "outlinewidth": 0,
              "ticks": ""
             }
            },
            "type": "scattergeo"
           }
          ],
          "scattergl": [
           {
            "marker": {
             "colorbar": {
              "outlinewidth": 0,
              "ticks": ""
             }
            },
            "type": "scattergl"
           }
          ],
          "scattermap": [
           {
            "marker": {
             "colorbar": {
              "outlinewidth": 0,
              "ticks": ""
             }
            },
            "type": "scattermap"
           }
          ],
          "scattermapbox": [
           {
            "marker": {
             "colorbar": {
              "outlinewidth": 0,
              "ticks": ""
             }
            },
            "type": "scattermapbox"
           }
          ],
          "scatterpolar": [
           {
            "marker": {
             "colorbar": {
              "outlinewidth": 0,
              "ticks": ""
             }
            },
            "type": "scatterpolar"
           }
          ],
          "scatterpolargl": [
           {
            "marker": {
             "colorbar": {
              "outlinewidth": 0,
              "ticks": ""
             }
            },
            "type": "scatterpolargl"
           }
          ],
          "scatterternary": [
           {
            "marker": {
             "colorbar": {
              "outlinewidth": 0,
              "ticks": ""
             }
            },
            "type": "scatterternary"
           }
          ],
          "surface": [
           {
            "colorbar": {
             "outlinewidth": 0,
             "ticks": ""
            },
            "colorscale": [
             [
              0,
              "#0d0887"
             ],
             [
              0.1111111111111111,
              "#46039f"
             ],
             [
              0.2222222222222222,
              "#7201a8"
             ],
             [
              0.3333333333333333,
              "#9c179e"
             ],
             [
              0.4444444444444444,
              "#bd3786"
             ],
             [
              0.5555555555555556,
              "#d8576b"
             ],
             [
              0.6666666666666666,
              "#ed7953"
             ],
             [
              0.7777777777777778,
              "#fb9f3a"
             ],
             [
              0.8888888888888888,
              "#fdca26"
             ],
             [
              1,
              "#f0f921"
             ]
            ],
            "type": "surface"
           }
          ],
          "table": [
           {
            "cells": {
             "fill": {
              "color": "#EBF0F8"
             },
             "line": {
              "color": "white"
             }
            },
            "header": {
             "fill": {
              "color": "#C8D4E3"
             },
             "line": {
              "color": "white"
             }
            },
            "type": "table"
           }
          ]
         },
         "layout": {
          "annotationdefaults": {
           "arrowcolor": "#2a3f5f",
           "arrowhead": 0,
           "arrowwidth": 1
          },
          "autotypenumbers": "strict",
          "coloraxis": {
           "colorbar": {
            "outlinewidth": 0,
            "ticks": ""
           }
          },
          "colorscale": {
           "diverging": [
            [
             0,
             "#8e0152"
            ],
            [
             0.1,
             "#c51b7d"
            ],
            [
             0.2,
             "#de77ae"
            ],
            [
             0.3,
             "#f1b6da"
            ],
            [
             0.4,
             "#fde0ef"
            ],
            [
             0.5,
             "#f7f7f7"
            ],
            [
             0.6,
             "#e6f5d0"
            ],
            [
             0.7,
             "#b8e186"
            ],
            [
             0.8,
             "#7fbc41"
            ],
            [
             0.9,
             "#4d9221"
            ],
            [
             1,
             "#276419"
            ]
           ],
           "sequential": [
            [
             0,
             "#0d0887"
            ],
            [
             0.1111111111111111,
             "#46039f"
            ],
            [
             0.2222222222222222,
             "#7201a8"
            ],
            [
             0.3333333333333333,
             "#9c179e"
            ],
            [
             0.4444444444444444,
             "#bd3786"
            ],
            [
             0.5555555555555556,
             "#d8576b"
            ],
            [
             0.6666666666666666,
             "#ed7953"
            ],
            [
             0.7777777777777778,
             "#fb9f3a"
            ],
            [
             0.8888888888888888,
             "#fdca26"
            ],
            [
             1,
             "#f0f921"
            ]
           ],
           "sequentialminus": [
            [
             0,
             "#0d0887"
            ],
            [
             0.1111111111111111,
             "#46039f"
            ],
            [
             0.2222222222222222,
             "#7201a8"
            ],
            [
             0.3333333333333333,
             "#9c179e"
            ],
            [
             0.4444444444444444,
             "#bd3786"
            ],
            [
             0.5555555555555556,
             "#d8576b"
            ],
            [
             0.6666666666666666,
             "#ed7953"
            ],
            [
             0.7777777777777778,
             "#fb9f3a"
            ],
            [
             0.8888888888888888,
             "#fdca26"
            ],
            [
             1,
             "#f0f921"
            ]
           ]
          },
          "colorway": [
           "#636efa",
           "#EF553B",
           "#00cc96",
           "#ab63fa",
           "#FFA15A",
           "#19d3f3",
           "#FF6692",
           "#B6E880",
           "#FF97FF",
           "#FECB52"
          ],
          "font": {
           "color": "#2a3f5f"
          },
          "geo": {
           "bgcolor": "white",
           "lakecolor": "white",
           "landcolor": "white",
           "showlakes": true,
           "showland": true,
           "subunitcolor": "#C8D4E3"
          },
          "hoverlabel": {
           "align": "left"
          },
          "hovermode": "closest",
          "mapbox": {
           "style": "light"
          },
          "paper_bgcolor": "white",
          "plot_bgcolor": "white",
          "polar": {
           "angularaxis": {
            "gridcolor": "#EBF0F8",
            "linecolor": "#EBF0F8",
            "ticks": ""
           },
           "bgcolor": "white",
           "radialaxis": {
            "gridcolor": "#EBF0F8",
            "linecolor": "#EBF0F8",
            "ticks": ""
           }
          },
          "scene": {
           "xaxis": {
            "backgroundcolor": "white",
            "gridcolor": "#DFE8F3",
            "gridwidth": 2,
            "linecolor": "#EBF0F8",
            "showbackground": true,
            "ticks": "",
            "zerolinecolor": "#EBF0F8"
           },
           "yaxis": {
            "backgroundcolor": "white",
            "gridcolor": "#DFE8F3",
            "gridwidth": 2,
            "linecolor": "#EBF0F8",
            "showbackground": true,
            "ticks": "",
            "zerolinecolor": "#EBF0F8"
           },
           "zaxis": {
            "backgroundcolor": "white",
            "gridcolor": "#DFE8F3",
            "gridwidth": 2,
            "linecolor": "#EBF0F8",
            "showbackground": true,
            "ticks": "",
            "zerolinecolor": "#EBF0F8"
           }
          },
          "shapedefaults": {
           "line": {
            "color": "#2a3f5f"
           }
          },
          "ternary": {
           "aaxis": {
            "gridcolor": "#DFE8F3",
            "linecolor": "#A2B1C6",
            "ticks": ""
           },
           "baxis": {
            "gridcolor": "#DFE8F3",
            "linecolor": "#A2B1C6",
            "ticks": ""
           },
           "bgcolor": "white",
           "caxis": {
            "gridcolor": "#DFE8F3",
            "linecolor": "#A2B1C6",
            "ticks": ""
           }
          },
          "title": {
           "x": 0.05
          },
          "xaxis": {
           "automargin": true,
           "gridcolor": "#EBF0F8",
           "linecolor": "#EBF0F8",
           "ticks": "",
           "title": {
            "standoff": 15
           },
           "zerolinecolor": "#EBF0F8",
           "zerolinewidth": 2
          },
          "yaxis": {
           "automargin": true,
           "gridcolor": "#EBF0F8",
           "linecolor": "#EBF0F8",
           "ticks": "",
           "title": {
            "standoff": 15
           },
           "zerolinecolor": "#EBF0F8",
           "zerolinewidth": 2
          }
         }
        },
        "title": {
         "text": "d_eff(z) Spatial Frequency Spectrum"
        },
        "xaxis": {
         "title": {
          "text": "Normalized Spatial Frequency (k)"
         }
        },
        "yaxis": {
         "title": {
          "text": "Fourier Amplitude"
         }
        }
       }
      }
     },
     "metadata": {},
     "output_type": "display_data"
    }
   ],
   "source": [
    "widths = jnp.load(\"../datasets/optimized_thg_2000_1489_e4.npy\")\n",
    "fig = go.Figure()\n",
    "fig.add_trace(go.Scatter(y=widths, mode=\"lines\"))\n",
    "fig.update_layout(\n",
    "    title_text=f\"Domain Widths Comparison (length {jnp.sum(widths):.1f}μm)\",\n",
    "    xaxis_title=\"Domain Index\",\n",
    "    yaxis_title=\"Width (μm)\",\n",
    "    template=\"plotly_white\",\n",
    ")\n",
    "fig.show()\n",
    "\n",
    "signal = create_alternating_signal_from_widths(widths, n_points=30000)\n",
    "k_axis, spectrum_amp = calculate_fourier_spectrum(signal, fourier_config)\n",
    "\n",
    "fig = go.Figure()\n",
    "fig.add_trace(go.Scatter(x=k_axis, y=spectrum_amp, mode=\"lines\"))\n",
    "fig.update_layout(\n",
    "    title=\"d_eff(z) Spatial Frequency Spectrum\",\n",
    "    xaxis_title=\"Normalized Spatial Frequency (k)\",\n",
    "    yaxis_title=\"Fourier Amplitude\",\n",
    "    template=\"plotly_white\",\n",
    ")\n",
    "fig.show()"
   ]
  }
 ],
 "metadata": {
  "kernelspec": {
   "display_name": "mictlan (3.13.9)",
   "language": "python",
   "name": "python3"
  },
  "language_info": {
   "codemirror_mode": {
    "name": "ipython",
    "version": 3
   },
   "file_extension": ".py",
   "mimetype": "text/x-python",
   "name": "python",
   "nbconvert_exporter": "python",
   "pygments_lexer": "ipython3",
   "version": "3.13.9"
  }
 },
 "nbformat": 4,
 "nbformat_minor": 5
}
