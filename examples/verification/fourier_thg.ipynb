{
 "cells": [
  {
   "cell_type": "code",
   "execution_count": 18,
   "id": "15725daf",
   "metadata": {},
   "outputs": [
    {
     "name": "stdout",
     "output_type": "stream",
     "text": [
      "[CpuDevice(id=0)]\n"
     ]
    }
   ],
   "source": [
    "import jax\n",
    "\n",
    "jax.config.update(\"jax_enable_x64\", val=True)\n",
    "jax.config.update(\"jax_platforms\", \"cpu\")\n",
    "print(jax.devices())"
   ]
  },
  {
   "cell_type": "code",
   "execution_count": 19,
   "id": "23ef08ff",
   "metadata": {},
   "outputs": [],
   "source": [
    "from dataclasses import dataclass\n",
    "from functools import partial\n",
    "\n",
    "import jax.numpy as jnp\n",
    "import plotly.graph_objects as go\n",
    "\n",
    "\n",
    "@dataclass(frozen=True)\n",
    "class DeviceConfig:\n",
    "    length: float\n",
    "    num_domains: int\n",
    "    kappa: float\n",
    "\n",
    "\n",
    "@dataclass(frozen=True)\n",
    "class FourierConfig:\n",
    "    k_center: float\n",
    "    k_bandwidth: float\n",
    "    num_points: int\n",
    "\n",
    "\n",
    "def new_fourier_config(\n",
    "    dk_eff: jax.Array,\n",
    "    device: DeviceConfig,\n",
    "    num_points: int,\n",
    "    bw_scale: float = 1.2,\n",
    ") -> \"FourierConfig\":\n",
    "    k_norm_center = device.num_domains / 2.0\n",
    "    dk_eff_range = jnp.max(dk_eff) - jnp.min(dk_eff)\n",
    "    k_norm_bw = dk_eff_range * device.length / (2 * jnp.pi) * bw_scale\n",
    "    return FourierConfig(\n",
    "        k_center=k_norm_center,\n",
    "        k_bandwidth=float(k_norm_bw),\n",
    "        num_points=num_points,\n",
    "    )\n",
    "\n",
    "\n",
    "@partial(jax.jit, static_argnames=(\"m\", \"fft_len\"))\n",
    "def czt(x: jax.Array, m: int, fft_len: int, w: jax.Array, a: jax.Array) -> jax.Array:\n",
    "    \"\"\"Computes the Chirp Z-Transform of a signal.\"\"\"\n",
    "    n = x.shape[-1]\n",
    "    n_range = jnp.arange(n)\n",
    "    y = x * (a**-n_range) * w ** (n_range**2 / 2)\n",
    "    k_range_full = jnp.arange(-(n - 1), m)\n",
    "    h = w ** (-(k_range_full**2) / 2)\n",
    "    y_fft = jnp.fft.fft(y, n=fft_len)\n",
    "    h_fft = jnp.fft.fft(h, n=fft_len)\n",
    "    conv_result = jnp.fft.ifft(y_fft * h_fft)\n",
    "    k_range_out = jnp.arange(m)\n",
    "    final_chirp = w ** (k_range_out**2 / 2)\n",
    "    return conv_result[n - 1 : n - 1 + m] * final_chirp\n",
    "\n",
    "\n",
    "def create_alternating_signal_from_widths(widths: jax.Array, n_points: int = 8192) -> jax.Array:\n",
    "    \"\"\"\n",
    "    Generates an alternating +1/-1 signal based on an array of domain widths.\n",
    "    \"\"\"\n",
    "    num_domains = widths.shape[0]\n",
    "    alternating_values = jnp.power(-1, jnp.arange(num_domains))\n",
    "    cumulative_widths = jnp.cumsum(widths)\n",
    "    total_width = cumulative_widths[-1]\n",
    "    boundary_points = jnp.round(cumulative_widths / total_width * n_points).astype(jnp.int32)\n",
    "    boundary_points = jnp.insert(boundary_points, 0, 0)\n",
    "    boundary_points = boundary_points.at[-1].set(n_points)\n",
    "    points_per_domain = jnp.diff(boundary_points)\n",
    "    return jnp.repeat(alternating_values, points_per_domain)\n",
    "\n",
    "\n",
    "def calculate_fourier_spectrum(\n",
    "    signal: jax.Array,\n",
    "    config: FourierConfig,\n",
    ") -> tuple[jax.Array, jax.Array]:\n",
    "    \"\"\"Calculates the spectrum of a signal using CZT for a specified frequency window.\"\"\"\n",
    "    fs = signal.shape[0]\n",
    "    k_start = config.k_center - config.k_bandwidth / 2.0\n",
    "    k_end = config.k_center + config.k_bandwidth / 2.0\n",
    "    f_norm_start = k_start / fs\n",
    "    f_norm_end = k_end / fs\n",
    "    w = jnp.exp(-1j * 2 * jnp.pi * (f_norm_end - f_norm_start) / config.num_points)\n",
    "    a = jnp.exp(1j * 2 * jnp.pi * f_norm_start)\n",
    "    required_len = fs + config.num_points - 1\n",
    "    fft_len = 1 << (required_len - 1).bit_length()\n",
    "    spectrum_raw = czt(signal, m=config.num_points, fft_len=fft_len, w=w, a=a)\n",
    "    spectrum_amp_normalized = jnp.abs(spectrum_raw * 2 * jnp.pi / fs)\n",
    "    k_axis_normalized = jnp.linspace(k_start, k_end, config.num_points)\n",
    "    return k_axis_normalized, spectrum_amp_normalized\n",
    "\n",
    "\n",
    "@dataclass(frozen=True)\n",
    "class ConvParams:\n",
    "    norm_k_axis: jax.Array\n",
    "    k_center: float\n",
    "    length: float\n",
    "    kappa: float\n",
    "    dk_eff: jax.Array\n",
    "\n",
    "\n",
    "def calculate_phys_eff_spectrum(norm_spectrum_amp: jax.Array, params: ConvParams) -> jax.Array:\n",
    "    \"\"\"Converts the normalized Fourier spectrum to physical units.\"\"\"\n",
    "    k_deviation_norm = params.norm_k_axis - params.k_center\n",
    "    dk_total_phys = k_deviation_norm * (2 * jnp.pi / params.length)\n",
    "    # Convert the normalized Fourier transform (|F_norm|) to the physical one (|F_phys|)\n",
    "    # |F_phys| = (L / 2π) * |F_norm|\n",
    "    fourier_amp_phys = norm_spectrum_amp * (params.length / (2 * jnp.pi))\n",
    "    # Efficiency is proportional to |κ_d * F_phys(Δk)|^2\n",
    "    eff = (params.kappa**2) * (fourier_amp_phys**2)\n",
    "    return jnp.interp(params.dk_eff, dk_total_phys, eff)\n",
    "\n",
    "\n",
    "def plot_spectrum(wls: jax.Array, effs: jax.Array) -> None:\n",
    "    \"\"\"Plots the SHG efficiency spectrum using Plotly.\"\"\"\n",
    "    fig = go.Figure()\n",
    "    fig.add_trace(go.Scatter(x=wls, y=effs, mode=\"lines\", name=\"Fourier Method\"))\n",
    "    fig.update_layout(\n",
    "        title=\"SHG Spectrum (Fourier Method)\",\n",
    "        xaxis_title=\"Fundamental Wavelength (μm)\",\n",
    "        yaxis_title=\"Normalized SHG Efficiency\",\n",
    "        template=\"plotly_white\",\n",
    "    )\n",
    "    fig.show()\n",
    "\n",
    "\n",
    "def calc_dk_eff(dk_material: jax.Array, device: DeviceConfig) -> jax.Array:\n",
    "    \"\"\"Calculates the effective phase mismatch.\"\"\"\n",
    "    k_norm_center = device.num_domains / 2.0\n",
    "    k_g = k_norm_center * (2 * jnp.pi / device.length)\n",
    "    return dk_material - k_g\n"
   ]
  },
  {
   "cell_type": "code",
   "execution_count": 24,
   "id": "3b4e072a",
   "metadata": {},
   "outputs": [
    {
     "data": {
      "application/vnd.plotly.v1+json": {
       "config": {
        "plotlyServerURL": "https://plot.ly"
       },
       "data": [
        {
         "mode": "lines",
         "type": "scatter",
         "y": {
          "bdata": "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",
          "dtype": "f8"
         }
        }
       ],
       "layout": {
        "template": {
         "data": {
          "bar": [
           {
            "error_x": {
             "color": "#2a3f5f"
            },
            "error_y": {
             "color": "#2a3f5f"
            },
            "marker": {
             "line": {
              "color": "white",
              "width": 0.5
             },
             "pattern": {
              "fillmode": "overlay",
              "size": 10,
              "solidity": 0.2
             }
            },
            "type": "bar"
           }
          ],
          "barpolar": [
           {
            "marker": {
             "line": {
              "color": "white",
              "width": 0.5
             },
             "pattern": {
              "fillmode": "overlay",
              "size": 10,
              "solidity": 0.2
             }
            },
            "type": "barpolar"
           }
          ],
          "carpet": [
           {
            "aaxis": {
             "endlinecolor": "#2a3f5f",
             "gridcolor": "#C8D4E3",
             "linecolor": "#C8D4E3",
             "minorgridcolor": "#C8D4E3",
             "startlinecolor": "#2a3f5f"
            },
            "baxis": {
             "endlinecolor": "#2a3f5f",
             "gridcolor": "#C8D4E3",
             "linecolor": "#C8D4E3",
             "minorgridcolor": "#C8D4E3",
             "startlinecolor": "#2a3f5f"
            },
            "type": "carpet"
           }
          ],
          "choropleth": [
           {
            "colorbar": {
             "outlinewidth": 0,
             "ticks": ""
            },
            "type": "choropleth"
           }
          ],
          "contour": [
           {
            "colorbar": {
             "outlinewidth": 0,
             "ticks": ""
            },
            "colorscale": [
             [
              0,
              "#0d0887"
             ],
             [
              0.1111111111111111,
              "#46039f"
             ],
             [
              0.2222222222222222,
              "#7201a8"
             ],
             [
              0.3333333333333333,
              "#9c179e"
             ],
             [
              0.4444444444444444,
              "#bd3786"
             ],
             [
              0.5555555555555556,
              "#d8576b"
             ],
             [
              0.6666666666666666,
              "#ed7953"
             ],
             [
              0.7777777777777778,
              "#fb9f3a"
             ],
             [
              0.8888888888888888,
              "#fdca26"
             ],
             [
              1,
              "#f0f921"
             ]
            ],
            "type": "contour"
           }
          ],
          "contourcarpet": [
           {
            "colorbar": {
             "outlinewidth": 0,
             "ticks": ""
            },
            "type": "contourcarpet"
           }
          ],
          "heatmap": [
           {
            "colorbar": {
             "outlinewidth": 0,
             "ticks": ""
            },
            "colorscale": [
             [
              0,
              "#0d0887"
             ],
             [
              0.1111111111111111,
              "#46039f"
             ],
             [
              0.2222222222222222,
              "#7201a8"
             ],
             [
              0.3333333333333333,
              "#9c179e"
             ],
             [
              0.4444444444444444,
              "#bd3786"
             ],
             [
              0.5555555555555556,
              "#d8576b"
             ],
             [
              0.6666666666666666,
              "#ed7953"
             ],
             [
              0.7777777777777778,
              "#fb9f3a"
             ],
             [
              0.8888888888888888,
              "#fdca26"
             ],
             [
              1,
              "#f0f921"
             ]
            ],
            "type": "heatmap"
           }
          ],
          "histogram": [
           {
            "marker": {
             "pattern": {
              "fillmode": "overlay",
              "size": 10,
              "solidity": 0.2
             }
            },
            "type": "histogram"
           }
          ],
          "histogram2d": [
           {
            "colorbar": {
             "outlinewidth": 0,
             "ticks": ""
            },
            "colorscale": [
             [
              0,
              "#0d0887"
             ],
             [
              0.1111111111111111,
              "#46039f"
             ],
             [
              0.2222222222222222,
              "#7201a8"
             ],
             [
              0.3333333333333333,
              "#9c179e"
             ],
             [
              0.4444444444444444,
              "#bd3786"
             ],
             [
              0.5555555555555556,
              "#d8576b"
             ],
             [
              0.6666666666666666,
              "#ed7953"
             ],
             [
              0.7777777777777778,
              "#fb9f3a"
             ],
             [
              0.8888888888888888,
              "#fdca26"
             ],
             [
              1,
              "#f0f921"
             ]
            ],
            "type": "histogram2d"
           }
          ],
          "histogram2dcontour": [
           {
            "colorbar": {
             "outlinewidth": 0,
             "ticks": ""
            },
            "colorscale": [
             [
              0,
              "#0d0887"
             ],
             [
              0.1111111111111111,
              "#46039f"
             ],
             [
              0.2222222222222222,
              "#7201a8"
             ],
             [
              0.3333333333333333,
              "#9c179e"
             ],
             [
              0.4444444444444444,
              "#bd3786"
             ],
             [
              0.5555555555555556,
              "#d8576b"
             ],
             [
              0.6666666666666666,
              "#ed7953"
             ],
             [
              0.7777777777777778,
              "#fb9f3a"
             ],
             [
              0.8888888888888888,
              "#fdca26"
             ],
             [
              1,
              "#f0f921"
             ]
            ],
            "type": "histogram2dcontour"
           }
          ],
          "mesh3d": [
           {
            "colorbar": {
             "outlinewidth": 0,
             "ticks": ""
            },
            "type": "mesh3d"
           }
          ],
          "parcoords": [
           {
            "line": {
             "colorbar": {
              "outlinewidth": 0,
              "ticks": ""
             }
            },
            "type": "parcoords"
           }
          ],
          "pie": [
           {
            "automargin": true,
            "type": "pie"
           }
          ],
          "scatter": [
           {
            "fillpattern": {
             "fillmode": "overlay",
             "size": 10,
             "solidity": 0.2
            },
            "type": "scatter"
           }
          ],
          "scatter3d": [
           {
            "line": {
             "colorbar": {
              "outlinewidth": 0,
              "ticks": ""
             }
            },
            "marker": {
             "colorbar": {
              "outlinewidth": 0,
              "ticks": ""
             }
            },
            "type": "scatter3d"
           }
          ],
          "scattercarpet": [
           {
            "marker": {
             "colorbar": {
              "outlinewidth": 0,
              "ticks": ""
             }
            },
            "type": "scattercarpet"
           }
          ],
          "scattergeo": [
           {
            "marker": {
             "colorbar": {
              "outlinewidth": 0,
              "ticks": ""
             }
            },
            "type": "scattergeo"
           }
          ],
          "scattergl": [
           {
            "marker": {
             "colorbar": {
              "outlinewidth": 0,
              "ticks": ""
             }
            },
            "type": "scattergl"
           }
          ],
          "scattermap": [
           {
            "marker": {
             "colorbar": {
              "outlinewidth": 0,
              "ticks": ""
             }
            },
            "type": "scattermap"
           }
          ],
          "scattermapbox": [
           {
            "marker": {
             "colorbar": {
              "outlinewidth": 0,
              "ticks": ""
             }
            },
            "type": "scattermapbox"
           }
          ],
          "scatterpolar": [
           {
            "marker": {
             "colorbar": {
              "outlinewidth": 0,
              "ticks": ""
             }
            },
            "type": "scatterpolar"
           }
          ],
          "scatterpolargl": [
           {
            "marker": {
             "colorbar": {
              "outlinewidth": 0,
              "ticks": ""
             }
            },
            "type": "scatterpolargl"
           }
          ],
          "scatterternary": [
           {
            "marker": {
             "colorbar": {
              "outlinewidth": 0,
              "ticks": ""
             }
            },
            "type": "scatterternary"
           }
          ],
          "surface": [
           {
            "colorbar": {
             "outlinewidth": 0,
             "ticks": ""
            },
            "colorscale": [
             [
              0,
              "#0d0887"
             ],
             [
              0.1111111111111111,
              "#46039f"
             ],
             [
              0.2222222222222222,
              "#7201a8"
             ],
             [
              0.3333333333333333,
              "#9c179e"
             ],
             [
              0.4444444444444444,
              "#bd3786"
             ],
             [
              0.5555555555555556,
              "#d8576b"
             ],
             [
              0.6666666666666666,
              "#ed7953"
             ],
             [
              0.7777777777777778,
              "#fb9f3a"
             ],
             [
              0.8888888888888888,
              "#fdca26"
             ],
             [
              1,
              "#f0f921"
             ]
            ],
            "type": "surface"
           }
          ],
          "table": [
           {
            "cells": {
             "fill": {
              "color": "#EBF0F8"
             },
             "line": {
              "color": "white"
             }
            },
            "header": {
             "fill": {
              "color": "#C8D4E3"
             },
             "line": {
              "color": "white"
             }
            },
            "type": "table"
           }
          ]
         },
         "layout": {
          "annotationdefaults": {
           "arrowcolor": "#2a3f5f",
           "arrowhead": 0,
           "arrowwidth": 1
          },
          "autotypenumbers": "strict",
          "coloraxis": {
           "colorbar": {
            "outlinewidth": 0,
            "ticks": ""
           }
          },
          "colorscale": {
           "diverging": [
            [
             0,
             "#8e0152"
            ],
            [
             0.1,
             "#c51b7d"
            ],
            [
             0.2,
             "#de77ae"
            ],
            [
             0.3,
             "#f1b6da"
            ],
            [
             0.4,
             "#fde0ef"
            ],
            [
             0.5,
             "#f7f7f7"
            ],
            [
             0.6,
             "#e6f5d0"
            ],
            [
             0.7,
             "#b8e186"
            ],
            [
             0.8,
             "#7fbc41"
            ],
            [
             0.9,
             "#4d9221"
            ],
            [
             1,
             "#276419"
            ]
           ],
           "sequential": [
            [
             0,
             "#0d0887"
            ],
            [
             0.1111111111111111,
             "#46039f"
            ],
            [
             0.2222222222222222,
             "#7201a8"
            ],
            [
             0.3333333333333333,
             "#9c179e"
            ],
            [
             0.4444444444444444,
             "#bd3786"
            ],
            [
             0.5555555555555556,
             "#d8576b"
            ],
            [
             0.6666666666666666,
             "#ed7953"
            ],
            [
             0.7777777777777778,
             "#fb9f3a"
            ],
            [
             0.8888888888888888,
             "#fdca26"
            ],
            [
             1,
             "#f0f921"
            ]
           ],
           "sequentialminus": [
            [
             0,
             "#0d0887"
            ],
            [
             0.1111111111111111,
             "#46039f"
            ],
            [
             0.2222222222222222,
             "#7201a8"
            ],
            [
             0.3333333333333333,
             "#9c179e"
            ],
            [
             0.4444444444444444,
             "#bd3786"
            ],
            [
             0.5555555555555556,
             "#d8576b"
            ],
            [
             0.6666666666666666,
             "#ed7953"
            ],
            [
             0.7777777777777778,
             "#fb9f3a"
            ],
            [
             0.8888888888888888,
             "#fdca26"
            ],
            [
             1,
             "#f0f921"
            ]
           ]
          },
          "colorway": [
           "#636efa",
           "#EF553B",
           "#00cc96",
           "#ab63fa",
           "#FFA15A",
           "#19d3f3",
           "#FF6692",
           "#B6E880",
           "#FF97FF",
           "#FECB52"
          ],
          "font": {
           "color": "#2a3f5f"
          },
          "geo": {
           "bgcolor": "white",
           "lakecolor": "white",
           "landcolor": "white",
           "showlakes": true,
           "showland": true,
           "subunitcolor": "#C8D4E3"
          },
          "hoverlabel": {
           "align": "left"
          },
          "hovermode": "closest",
          "mapbox": {
           "style": "light"
          },
          "paper_bgcolor": "white",
          "plot_bgcolor": "white",
          "polar": {
           "angularaxis": {
            "gridcolor": "#EBF0F8",
            "linecolor": "#EBF0F8",
            "ticks": ""
           },
           "bgcolor": "white",
           "radialaxis": {
            "gridcolor": "#EBF0F8",
            "linecolor": "#EBF0F8",
            "ticks": ""
           }
          },
          "scene": {
           "xaxis": {
            "backgroundcolor": "white",
            "gridcolor": "#DFE8F3",
            "gridwidth": 2,
            "linecolor": "#EBF0F8",
            "showbackground": true,
            "ticks": "",
            "zerolinecolor": "#EBF0F8"
           },
           "yaxis": {
            "backgroundcolor": "white",
            "gridcolor": "#DFE8F3",
            "gridwidth": 2,
            "linecolor": "#EBF0F8",
            "showbackground": true,
            "ticks": "",
            "zerolinecolor": "#EBF0F8"
           },
           "zaxis": {
            "backgroundcolor": "white",
            "gridcolor": "#DFE8F3",
            "gridwidth": 2,
            "linecolor": "#EBF0F8",
            "showbackground": true,
            "ticks": "",
            "zerolinecolor": "#EBF0F8"
           }
          },
          "shapedefaults": {
           "line": {
            "color": "#2a3f5f"
           }
          },
          "ternary": {
           "aaxis": {
            "gridcolor": "#DFE8F3",
            "linecolor": "#A2B1C6",
            "ticks": ""
           },
           "baxis": {
            "gridcolor": "#DFE8F3",
            "linecolor": "#A2B1C6",
            "ticks": ""
           },
           "bgcolor": "white",
           "caxis": {
            "gridcolor": "#DFE8F3",
            "linecolor": "#A2B1C6",
            "ticks": ""
           }
          },
          "title": {
           "x": 0.05
          },
          "xaxis": {
           "automargin": true,
           "gridcolor": "#EBF0F8",
           "linecolor": "#EBF0F8",
           "ticks": "",
           "title": {
            "standoff": 15
           },
           "zerolinecolor": "#EBF0F8",
           "zerolinewidth": 2
          },
          "yaxis": {
           "automargin": true,
           "gridcolor": "#EBF0F8",
           "linecolor": "#EBF0F8",
           "ticks": "",
           "title": {
            "standoff": 15
           },
           "zerolinecolor": "#EBF0F8",
           "zerolinewidth": 2
          }
         }
        },
        "title": {
         "text": "Domain Widths Comparison (length 2300.0μm)"
        },
        "xaxis": {
         "title": {
          "text": "Domain Index"
         }
        },
        "yaxis": {
         "title": {
          "text": "Width (μm)"
         }
        }
       }
      }
     },
     "metadata": {},
     "output_type": "display_data"
    },
    {
     "data": {
      "application/vnd.plotly.v1+json": {
       "config": {
        "plotlyServerURL": "https://plot.ly"
       },
       "data": [
        {
         "mode": "lines",
         "type": "scatter",
         "x": {
          "bdata": "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",
          "dtype": "f8"
         },
         "y": {
          "bdata": "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",
          "dtype": "f8"
         }
        }
       ],
       "layout": {
        "template": {
         "data": {
          "bar": [
           {
            "error_x": {
             "color": "#2a3f5f"
            },
            "error_y": {
             "color": "#2a3f5f"
            },
            "marker": {
             "line": {
              "color": "white",
              "width": 0.5
             },
             "pattern": {
              "fillmode": "overlay",
              "size": 10,
              "solidity": 0.2
             }
            },
            "type": "bar"
           }
          ],
          "barpolar": [
           {
            "marker": {
             "line": {
              "color": "white",
              "width": 0.5
             },
             "pattern": {
              "fillmode": "overlay",
              "size": 10,
              "solidity": 0.2
             }
            },
            "type": "barpolar"
           }
          ],
          "carpet": [
           {
            "aaxis": {
             "endlinecolor": "#2a3f5f",
             "gridcolor": "#C8D4E3",
             "linecolor": "#C8D4E3",
             "minorgridcolor": "#C8D4E3",
             "startlinecolor": "#2a3f5f"
            },
            "baxis": {
             "endlinecolor": "#2a3f5f",
             "gridcolor": "#C8D4E3",
             "linecolor": "#C8D4E3",
             "minorgridcolor": "#C8D4E3",
             "startlinecolor": "#2a3f5f"
            },
            "type": "carpet"
           }
          ],
          "choropleth": [
           {
            "colorbar": {
             "outlinewidth": 0,
             "ticks": ""
            },
            "type": "choropleth"
           }
          ],
          "contour": [
           {
            "colorbar": {
             "outlinewidth": 0,
             "ticks": ""
            },
            "colorscale": [
             [
              0,
              "#0d0887"
             ],
             [
              0.1111111111111111,
              "#46039f"
             ],
             [
              0.2222222222222222,
              "#7201a8"
             ],
             [
              0.3333333333333333,
              "#9c179e"
             ],
             [
              0.4444444444444444,
              "#bd3786"
             ],
             [
              0.5555555555555556,
              "#d8576b"
             ],
             [
              0.6666666666666666,
              "#ed7953"
             ],
             [
              0.7777777777777778,
              "#fb9f3a"
             ],
             [
              0.8888888888888888,
              "#fdca26"
             ],
             [
              1,
              "#f0f921"
             ]
            ],
            "type": "contour"
           }
          ],
          "contourcarpet": [
           {
            "colorbar": {
             "outlinewidth": 0,
             "ticks": ""
            },
            "type": "contourcarpet"
           }
          ],
          "heatmap": [
           {
            "colorbar": {
             "outlinewidth": 0,
             "ticks": ""
            },
            "colorscale": [
             [
              0,
              "#0d0887"
             ],
             [
              0.1111111111111111,
              "#46039f"
             ],
             [
              0.2222222222222222,
              "#7201a8"
             ],
             [
              0.3333333333333333,
              "#9c179e"
             ],
             [
              0.4444444444444444,
              "#bd3786"
             ],
             [
              0.5555555555555556,
              "#d8576b"
             ],
             [
              0.6666666666666666,
              "#ed7953"
             ],
             [
              0.7777777777777778,
              "#fb9f3a"
             ],
             [
              0.8888888888888888,
              "#fdca26"
             ],
             [
              1,
              "#f0f921"
             ]
            ],
            "type": "heatmap"
           }
          ],
          "histogram": [
           {
            "marker": {
             "pattern": {
              "fillmode": "overlay",
              "size": 10,
              "solidity": 0.2
             }
            },
            "type": "histogram"
           }
          ],
          "histogram2d": [
           {
            "colorbar": {
             "outlinewidth": 0,
             "ticks": ""
            },
            "colorscale": [
             [
              0,
              "#0d0887"
             ],
             [
              0.1111111111111111,
              "#46039f"
             ],
             [
              0.2222222222222222,
              "#7201a8"
             ],
             [
              0.3333333333333333,
              "#9c179e"
             ],
             [
              0.4444444444444444,
              "#bd3786"
             ],
             [
              0.5555555555555556,
              "#d8576b"
             ],
             [
              0.6666666666666666,
              "#ed7953"
             ],
             [
              0.7777777777777778,
              "#fb9f3a"
             ],
             [
              0.8888888888888888,
              "#fdca26"
             ],
             [
              1,
              "#f0f921"
             ]
            ],
            "type": "histogram2d"
           }
          ],
          "histogram2dcontour": [
           {
            "colorbar": {
             "outlinewidth": 0,
             "ticks": ""
            },
            "colorscale": [
             [
              0,
              "#0d0887"
             ],
             [
              0.1111111111111111,
              "#46039f"
             ],
             [
              0.2222222222222222,
              "#7201a8"
             ],
             [
              0.3333333333333333,
              "#9c179e"
             ],
             [
              0.4444444444444444,
              "#bd3786"
             ],
             [
              0.5555555555555556,
              "#d8576b"
             ],
             [
              0.6666666666666666,
              "#ed7953"
             ],
             [
              0.7777777777777778,
              "#fb9f3a"
             ],
             [
              0.8888888888888888,
              "#fdca26"
             ],
             [
              1,
              "#f0f921"
             ]
            ],
            "type": "histogram2dcontour"
           }
          ],
          "mesh3d": [
           {
            "colorbar": {
             "outlinewidth": 0,
             "ticks": ""
            },
            "type": "mesh3d"
           }
          ],
          "parcoords": [
           {
            "line": {
             "colorbar": {
              "outlinewidth": 0,
              "ticks": ""
             }
            },
            "type": "parcoords"
           }
          ],
          "pie": [
           {
            "automargin": true,
            "type": "pie"
           }
          ],
          "scatter": [
           {
            "fillpattern": {
             "fillmode": "overlay",
             "size": 10,
             "solidity": 0.2
            },
            "type": "scatter"
           }
          ],
          "scatter3d": [
           {
            "line": {
             "colorbar": {
              "outlinewidth": 0,
              "ticks": ""
             }
            },
            "marker": {
             "colorbar": {
              "outlinewidth": 0,
              "ticks": ""
             }
            },
            "type": "scatter3d"
           }
          ],
          "scattercarpet": [
           {
            "marker": {
             "colorbar": {
              "outlinewidth": 0,
              "ticks": ""
             }
            },
            "type": "scattercarpet"
           }
          ],
          "scattergeo": [
           {
            "marker": {
             "colorbar": {
              "outlinewidth": 0,
              "ticks": ""
             }
            },
            "type": "scattergeo"
           }
          ],
          "scattergl": [
           {
            "marker": {
             "colorbar": {
              "outlinewidth": 0,
              "ticks": ""
             }
            },
            "type": "scattergl"
           }
          ],
          "scattermap": [
           {
            "marker": {
             "colorbar": {
              "outlinewidth": 0,
              "ticks": ""
             }
            },
            "type": "scattermap"
           }
          ],
          "scattermapbox": [
           {
            "marker": {
             "colorbar": {
              "outlinewidth": 0,
              "ticks": ""
             }
            },
            "type": "scattermapbox"
           }
          ],
          "scatterpolar": [
           {
            "marker": {
             "colorbar": {
              "outlinewidth": 0,
              "ticks": ""
             }
            },
            "type": "scatterpolar"
           }
          ],
          "scatterpolargl": [
           {
            "marker": {
             "colorbar": {
              "outlinewidth": 0,
              "ticks": ""
             }
            },
            "type": "scatterpolargl"
           }
          ],
          "scatterternary": [
           {
            "marker": {
             "colorbar": {
              "outlinewidth": 0,
              "ticks": ""
             }
            },
            "type": "scatterternary"
           }
          ],
          "surface": [
           {
            "colorbar": {
             "outlinewidth": 0,
             "ticks": ""
            },
            "colorscale": [
             [
              0,
              "#0d0887"
             ],
             [
              0.1111111111111111,
              "#46039f"
             ],
             [
              0.2222222222222222,
              "#7201a8"
             ],
             [
              0.3333333333333333,
              "#9c179e"
             ],
             [
              0.4444444444444444,
              "#bd3786"
             ],
             [
              0.5555555555555556,
              "#d8576b"
             ],
             [
              0.6666666666666666,
              "#ed7953"
             ],
             [
              0.7777777777777778,
              "#fb9f3a"
             ],
             [
              0.8888888888888888,
              "#fdca26"
             ],
             [
              1,
              "#f0f921"
             ]
            ],
            "type": "surface"
           }
          ],
          "table": [
           {
            "cells": {
             "fill": {
              "color": "#EBF0F8"
             },
             "line": {
              "color": "white"
             }
            },
            "header": {
             "fill": {
              "color": "#C8D4E3"
             },
             "line": {
              "color": "white"
             }
            },
            "type": "table"
           }
          ]
         },
         "layout": {
          "annotationdefaults": {
           "arrowcolor": "#2a3f5f",
           "arrowhead": 0,
           "arrowwidth": 1
          },
          "autotypenumbers": "strict",
          "coloraxis": {
           "colorbar": {
            "outlinewidth": 0,
            "ticks": ""
           }
          },
          "colorscale": {
           "diverging": [
            [
             0,
             "#8e0152"
            ],
            [
             0.1,
             "#c51b7d"
            ],
            [
             0.2,
             "#de77ae"
            ],
            [
             0.3,
             "#f1b6da"
            ],
            [
             0.4,
             "#fde0ef"
            ],
            [
             0.5,
             "#f7f7f7"
            ],
            [
             0.6,
             "#e6f5d0"
            ],
            [
             0.7,
             "#b8e186"
            ],
            [
             0.8,
             "#7fbc41"
            ],
            [
             0.9,
             "#4d9221"
            ],
            [
             1,
             "#276419"
            ]
           ],
           "sequential": [
            [
             0,
             "#0d0887"
            ],
            [
             0.1111111111111111,
             "#46039f"
            ],
            [
             0.2222222222222222,
             "#7201a8"
            ],
            [
             0.3333333333333333,
             "#9c179e"
            ],
            [
             0.4444444444444444,
             "#bd3786"
            ],
            [
             0.5555555555555556,
             "#d8576b"
            ],
            [
             0.6666666666666666,
             "#ed7953"
            ],
            [
             0.7777777777777778,
             "#fb9f3a"
            ],
            [
             0.8888888888888888,
             "#fdca26"
            ],
            [
             1,
             "#f0f921"
            ]
           ],
           "sequentialminus": [
            [
             0,
             "#0d0887"
            ],
            [
             0.1111111111111111,
             "#46039f"
            ],
            [
             0.2222222222222222,
             "#7201a8"
            ],
            [
             0.3333333333333333,
             "#9c179e"
            ],
            [
             0.4444444444444444,
             "#bd3786"
            ],
            [
             0.5555555555555556,
             "#d8576b"
            ],
            [
             0.6666666666666666,
             "#ed7953"
            ],
            [
             0.7777777777777778,
             "#fb9f3a"
            ],
            [
             0.8888888888888888,
             "#fdca26"
            ],
            [
             1,
             "#f0f921"
            ]
           ]
          },
          "colorway": [
           "#636efa",
           "#EF553B",
           "#00cc96",
           "#ab63fa",
           "#FFA15A",
           "#19d3f3",
           "#FF6692",
           "#B6E880",
           "#FF97FF",
           "#FECB52"
          ],
          "font": {
           "color": "#2a3f5f"
          },
          "geo": {
           "bgcolor": "white",
           "lakecolor": "white",
           "landcolor": "white",
           "showlakes": true,
           "showland": true,
           "subunitcolor": "#C8D4E3"
          },
          "hoverlabel": {
           "align": "left"
          },
          "hovermode": "closest",
          "mapbox": {
           "style": "light"
          },
          "paper_bgcolor": "white",
          "plot_bgcolor": "white",
          "polar": {
           "angularaxis": {
            "gridcolor": "#EBF0F8",
            "linecolor": "#EBF0F8",
            "ticks": ""
           },
           "bgcolor": "white",
           "radialaxis": {
            "gridcolor": "#EBF0F8",
            "linecolor": "#EBF0F8",
            "ticks": ""
           }
          },
          "scene": {
           "xaxis": {
            "backgroundcolor": "white",
            "gridcolor": "#DFE8F3",
            "gridwidth": 2,
            "linecolor": "#EBF0F8",
            "showbackground": true,
            "ticks": "",
            "zerolinecolor": "#EBF0F8"
           },
           "yaxis": {
            "backgroundcolor": "white",
            "gridcolor": "#DFE8F3",
            "gridwidth": 2,
            "linecolor": "#EBF0F8",
            "showbackground": true,
            "ticks": "",
            "zerolinecolor": "#EBF0F8"
           },
           "zaxis": {
            "backgroundcolor": "white",
            "gridcolor": "#DFE8F3",
            "gridwidth": 2,
            "linecolor": "#EBF0F8",
            "showbackground": true,
            "ticks": "",
            "zerolinecolor": "#EBF0F8"
           }
          },
          "shapedefaults": {
           "line": {
            "color": "#2a3f5f"
           }
          },
          "ternary": {
           "aaxis": {
            "gridcolor": "#DFE8F3",
            "linecolor": "#A2B1C6",
            "ticks": ""
           },
           "baxis": {
            "gridcolor": "#DFE8F3",
            "linecolor": "#A2B1C6",
            "ticks": ""
           },
           "bgcolor": "white",
           "caxis": {
            "gridcolor": "#DFE8F3",
            "linecolor": "#A2B1C6",
            "ticks": ""
           }
          },
          "title": {
           "x": 0.05
          },
          "xaxis": {
           "automargin": true,
           "gridcolor": "#EBF0F8",
           "linecolor": "#EBF0F8",
           "ticks": "",
           "title": {
            "standoff": 15
           },
           "zerolinecolor": "#EBF0F8",
           "zerolinewidth": 2
          },
          "yaxis": {
           "automargin": true,
           "gridcolor": "#EBF0F8",
           "linecolor": "#EBF0F8",
           "ticks": "",
           "title": {
            "standoff": 15
           },
           "zerolinecolor": "#EBF0F8",
           "zerolinewidth": 2
          }
         }
        },
        "title": {
         "text": "d_eff(z) Spatial Frequency Spectrum"
        },
        "xaxis": {
         "title": {
          "text": "Normalized Spatial Frequency (k)"
         }
        },
        "yaxis": {
         "title": {
          "text": "Fourier Amplitude"
         }
        }
       }
      }
     },
     "metadata": {},
     "output_type": "display_data"
    }
   ],
   "source": [
    "from qpm import mgoslt\n",
    "\n",
    "optimal_ratio = 1 / 3\n",
    "\n",
    "design_wl = 1.031\n",
    "design_temp = 70.0\n",
    "shg_sfg_ratio = optimal_ratio\n",
    "num_domains_shg = 321\n",
    "num_domains_sfg = 1168\n",
    "\n",
    "delta_k1 = mgoslt.calc_twm_delta_k(design_wl, design_wl, design_temp)\n",
    "delta_k2 = mgoslt.calc_twm_delta_k(design_wl, design_wl / 2, design_temp)\n",
    "\n",
    "shg_domain_width = jnp.pi / delta_k1\n",
    "sfg_domain_width = jnp.pi / delta_k2\n",
    "widths_shg = jnp.array([shg_domain_width] * num_domains_shg)\n",
    "widths_sfg = jnp.array([sfg_domain_width] * num_domains_sfg)\n",
    "widths_thg = jnp.concatenate([widths_shg, widths_sfg])\n",
    "\n",
    "fig = go.Figure()\n",
    "fig.add_trace(go.Scatter(y=widths_thg, mode=\"lines\"))\n",
    "fig.update_layout(\n",
    "    title_text=f\"Domain Widths Comparison (length {jnp.sum(widths_thg):.1f}μm)\",\n",
    "    xaxis_title=\"Domain Index\",\n",
    "    yaxis_title=\"Width (μm)\",\n",
    "    template=\"plotly_white\",\n",
    ")\n",
    "fig.show()\n",
    "\n",
    "signal = create_alternating_signal_from_widths(widths_thg, n_points=30000)\n",
    "fourier_config = FourierConfig(\n",
    "    k_center=750,  # Center of a wide scan\n",
    "    k_bandwidth=1500,  # Scan from k=0 to k=1500\n",
    "    num_points=4096,\n",
    ")\n",
    "k_axis, spectrum_amp = calculate_fourier_spectrum(signal, fourier_config)\n",
    "\n",
    "fig = go.Figure()\n",
    "fig.add_trace(go.Scatter(x=k_axis, y=spectrum_amp, mode=\"lines\"))\n",
    "fig.update_layout(\n",
    "    title=\"d_eff(z) Spatial Frequency Spectrum\",\n",
    "    xaxis_title=\"Normalized Spatial Frequency (k)\",\n",
    "    yaxis_title=\"Fourier Amplitude\",\n",
    "    template=\"plotly_white\",\n",
    ")\n",
    "fig.show()"
   ]
  },
  {
   "cell_type": "code",
   "execution_count": 25,
   "id": "9fd6631b",
   "metadata": {},
   "outputs": [
    {
     "data": {
      "application/vnd.plotly.v1+json": {
       "config": {
        "plotlyServerURL": "https://plot.ly"
       },
       "data": [
        {
         "mode": "lines",
         "type": "scatter",
         "y": {
          "bdata": "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",
          "dtype": "f4"
         }
        }
       ],
       "layout": {
        "template": {
         "data": {
          "bar": [
           {
            "error_x": {
             "color": "#2a3f5f"
            },
            "error_y": {
             "color": "#2a3f5f"
            },
            "marker": {
             "line": {
              "color": "white",
              "width": 0.5
             },
             "pattern": {
              "fillmode": "overlay",
              "size": 10,
              "solidity": 0.2
             }
            },
            "type": "bar"
           }
          ],
          "barpolar": [
           {
            "marker": {
             "line": {
              "color": "white",
              "width": 0.5
             },
             "pattern": {
              "fillmode": "overlay",
              "size": 10,
              "solidity": 0.2
             }
            },
            "type": "barpolar"
           }
          ],
          "carpet": [
           {
            "aaxis": {
             "endlinecolor": "#2a3f5f",
             "gridcolor": "#C8D4E3",
             "linecolor": "#C8D4E3",
             "minorgridcolor": "#C8D4E3",
             "startlinecolor": "#2a3f5f"
            },
            "baxis": {
             "endlinecolor": "#2a3f5f",
             "gridcolor": "#C8D4E3",
             "linecolor": "#C8D4E3",
             "minorgridcolor": "#C8D4E3",
             "startlinecolor": "#2a3f5f"
            },
            "type": "carpet"
           }
          ],
          "choropleth": [
           {
            "colorbar": {
             "outlinewidth": 0,
             "ticks": ""
            },
            "type": "choropleth"
           }
          ],
          "contour": [
           {
            "colorbar": {
             "outlinewidth": 0,
             "ticks": ""
            },
            "colorscale": [
             [
              0,
              "#0d0887"
             ],
             [
              0.1111111111111111,
              "#46039f"
             ],
             [
              0.2222222222222222,
              "#7201a8"
             ],
             [
              0.3333333333333333,
              "#9c179e"
             ],
             [
              0.4444444444444444,
              "#bd3786"
             ],
             [
              0.5555555555555556,
              "#d8576b"
             ],
             [
              0.6666666666666666,
              "#ed7953"
             ],
             [
              0.7777777777777778,
              "#fb9f3a"
             ],
             [
              0.8888888888888888,
              "#fdca26"
             ],
             [
              1,
              "#f0f921"
             ]
            ],
            "type": "contour"
           }
          ],
          "contourcarpet": [
           {
            "colorbar": {
             "outlinewidth": 0,
             "ticks": ""
            },
            "type": "contourcarpet"
           }
          ],
          "heatmap": [
           {
            "colorbar": {
             "outlinewidth": 0,
             "ticks": ""
            },
            "colorscale": [
             [
              0,
              "#0d0887"
             ],
             [
              0.1111111111111111,
              "#46039f"
             ],
             [
              0.2222222222222222,
              "#7201a8"
             ],
             [
              0.3333333333333333,
              "#9c179e"
             ],
             [
              0.4444444444444444,
              "#bd3786"
             ],
             [
              0.5555555555555556,
              "#d8576b"
             ],
             [
              0.6666666666666666,
              "#ed7953"
             ],
             [
              0.7777777777777778,
              "#fb9f3a"
             ],
             [
              0.8888888888888888,
              "#fdca26"
             ],
             [
              1,
              "#f0f921"
             ]
            ],
            "type": "heatmap"
           }
          ],
          "histogram": [
           {
            "marker": {
             "pattern": {
              "fillmode": "overlay",
              "size": 10,
              "solidity": 0.2
             }
            },
            "type": "histogram"
           }
          ],
          "histogram2d": [
           {
            "colorbar": {
             "outlinewidth": 0,
             "ticks": ""
            },
            "colorscale": [
             [
              0,
              "#0d0887"
             ],
             [
              0.1111111111111111,
              "#46039f"
             ],
             [
              0.2222222222222222,
              "#7201a8"
             ],
             [
              0.3333333333333333,
              "#9c179e"
             ],
             [
              0.4444444444444444,
              "#bd3786"
             ],
             [
              0.5555555555555556,
              "#d8576b"
             ],
             [
              0.6666666666666666,
              "#ed7953"
             ],
             [
              0.7777777777777778,
              "#fb9f3a"
             ],
             [
              0.8888888888888888,
              "#fdca26"
             ],
             [
              1,
              "#f0f921"
             ]
            ],
            "type": "histogram2d"
           }
          ],
          "histogram2dcontour": [
           {
            "colorbar": {
             "outlinewidth": 0,
             "ticks": ""
            },
            "colorscale": [
             [
              0,
              "#0d0887"
             ],
             [
              0.1111111111111111,
              "#46039f"
             ],
             [
              0.2222222222222222,
              "#7201a8"
             ],
             [
              0.3333333333333333,
              "#9c179e"
             ],
             [
              0.4444444444444444,
              "#bd3786"
             ],
             [
              0.5555555555555556,
              "#d8576b"
             ],
             [
              0.6666666666666666,
              "#ed7953"
             ],
             [
              0.7777777777777778,
              "#fb9f3a"
             ],
             [
              0.8888888888888888,
              "#fdca26"
             ],
             [
              1,
              "#f0f921"
             ]
            ],
            "type": "histogram2dcontour"
           }
          ],
          "mesh3d": [
           {
            "colorbar": {
             "outlinewidth": 0,
             "ticks": ""
            },
            "type": "mesh3d"
           }
          ],
          "parcoords": [
           {
            "line": {
             "colorbar": {
              "outlinewidth": 0,
              "ticks": ""
             }
            },
            "type": "parcoords"
           }
          ],
          "pie": [
           {
            "automargin": true,
            "type": "pie"
           }
          ],
          "scatter": [
           {
            "fillpattern": {
             "fillmode": "overlay",
             "size": 10,
             "solidity": 0.2
            },
            "type": "scatter"
           }
          ],
          "scatter3d": [
           {
            "line": {
             "colorbar": {
              "outlinewidth": 0,
              "ticks": ""
             }
            },
            "marker": {
             "colorbar": {
              "outlinewidth": 0,
              "ticks": ""
             }
            },
            "type": "scatter3d"
           }
          ],
          "scattercarpet": [
           {
            "marker": {
             "colorbar": {
              "outlinewidth": 0,
              "ticks": ""
             }
            },
            "type": "scattercarpet"
           }
          ],
          "scattergeo": [
           {
            "marker": {
             "colorbar": {
              "outlinewidth": 0,
              "ticks": ""
             }
            },
            "type": "scattergeo"
           }
          ],
          "scattergl": [
           {
            "marker": {
             "colorbar": {
              "outlinewidth": 0,
              "ticks": ""
             }
            },
            "type": "scattergl"
           }
          ],
          "scattermap": [
           {
            "marker": {
             "colorbar": {
              "outlinewidth": 0,
              "ticks": ""
             }
            },
            "type": "scattermap"
           }
          ],
          "scattermapbox": [
           {
            "marker": {
             "colorbar": {
              "outlinewidth": 0,
              "ticks": ""
             }
            },
            "type": "scattermapbox"
           }
          ],
          "scatterpolar": [
           {
            "marker": {
             "colorbar": {
              "outlinewidth": 0,
              "ticks": ""
             }
            },
            "type": "scatterpolar"
           }
          ],
          "scatterpolargl": [
           {
            "marker": {
             "colorbar": {
              "outlinewidth": 0,
              "ticks": ""
             }
            },
            "type": "scatterpolargl"
           }
          ],
          "scatterternary": [
           {
            "marker": {
             "colorbar": {
              "outlinewidth": 0,
              "ticks": ""
             }
            },
            "type": "scatterternary"
           }
          ],
          "surface": [
           {
            "colorbar": {
             "outlinewidth": 0,
             "ticks": ""
            },
            "colorscale": [
             [
              0,
              "#0d0887"
             ],
             [
              0.1111111111111111,
              "#46039f"
             ],
             [
              0.2222222222222222,
              "#7201a8"
             ],
             [
              0.3333333333333333,
              "#9c179e"
             ],
             [
              0.4444444444444444,
              "#bd3786"
             ],
             [
              0.5555555555555556,
              "#d8576b"
             ],
             [
              0.6666666666666666,
              "#ed7953"
             ],
             [
              0.7777777777777778,
              "#fb9f3a"
             ],
             [
              0.8888888888888888,
              "#fdca26"
             ],
             [
              1,
              "#f0f921"
             ]
            ],
            "type": "surface"
           }
          ],
          "table": [
           {
            "cells": {
             "fill": {
              "color": "#EBF0F8"
             },
             "line": {
              "color": "white"
             }
            },
            "header": {
             "fill": {
              "color": "#C8D4E3"
             },
             "line": {
              "color": "white"
             }
            },
            "type": "table"
           }
          ]
         },
         "layout": {
          "annotationdefaults": {
           "arrowcolor": "#2a3f5f",
           "arrowhead": 0,
           "arrowwidth": 1
          },
          "autotypenumbers": "strict",
          "coloraxis": {
           "colorbar": {
            "outlinewidth": 0,
            "ticks": ""
           }
          },
          "colorscale": {
           "diverging": [
            [
             0,
             "#8e0152"
            ],
            [
             0.1,
             "#c51b7d"
            ],
            [
             0.2,
             "#de77ae"
            ],
            [
             0.3,
             "#f1b6da"
            ],
            [
             0.4,
             "#fde0ef"
            ],
            [
             0.5,
             "#f7f7f7"
            ],
            [
             0.6,
             "#e6f5d0"
            ],
            [
             0.7,
             "#b8e186"
            ],
            [
             0.8,
             "#7fbc41"
            ],
            [
             0.9,
             "#4d9221"
            ],
            [
             1,
             "#276419"
            ]
           ],
           "sequential": [
            [
             0,
             "#0d0887"
            ],
            [
             0.1111111111111111,
             "#46039f"
            ],
            [
             0.2222222222222222,
             "#7201a8"
            ],
            [
             0.3333333333333333,
             "#9c179e"
            ],
            [
             0.4444444444444444,
             "#bd3786"
            ],
            [
             0.5555555555555556,
             "#d8576b"
            ],
            [
             0.6666666666666666,
             "#ed7953"
            ],
            [
             0.7777777777777778,
             "#fb9f3a"
            ],
            [
             0.8888888888888888,
             "#fdca26"
            ],
            [
             1,
             "#f0f921"
            ]
           ],
           "sequentialminus": [
            [
             0,
             "#0d0887"
            ],
            [
             0.1111111111111111,
             "#46039f"
            ],
            [
             0.2222222222222222,
             "#7201a8"
            ],
            [
             0.3333333333333333,
             "#9c179e"
            ],
            [
             0.4444444444444444,
             "#bd3786"
            ],
            [
             0.5555555555555556,
             "#d8576b"
            ],
            [
             0.6666666666666666,
             "#ed7953"
            ],
            [
             0.7777777777777778,
             "#fb9f3a"
            ],
            [
             0.8888888888888888,
             "#fdca26"
            ],
            [
             1,
             "#f0f921"
            ]
           ]
          },
          "colorway": [
           "#636efa",
           "#EF553B",
           "#00cc96",
           "#ab63fa",
           "#FFA15A",
           "#19d3f3",
           "#FF6692",
           "#B6E880",
           "#FF97FF",
           "#FECB52"
          ],
          "font": {
           "color": "#2a3f5f"
          },
          "geo": {
           "bgcolor": "white",
           "lakecolor": "white",
           "landcolor": "white",
           "showlakes": true,
           "showland": true,
           "subunitcolor": "#C8D4E3"
          },
          "hoverlabel": {
           "align": "left"
          },
          "hovermode": "closest",
          "mapbox": {
           "style": "light"
          },
          "paper_bgcolor": "white",
          "plot_bgcolor": "white",
          "polar": {
           "angularaxis": {
            "gridcolor": "#EBF0F8",
            "linecolor": "#EBF0F8",
            "ticks": ""
           },
           "bgcolor": "white",
           "radialaxis": {
            "gridcolor": "#EBF0F8",
            "linecolor": "#EBF0F8",
            "ticks": ""
           }
          },
          "scene": {
           "xaxis": {
            "backgroundcolor": "white",
            "gridcolor": "#DFE8F3",
            "gridwidth": 2,
            "linecolor": "#EBF0F8",
            "showbackground": true,
            "ticks": "",
            "zerolinecolor": "#EBF0F8"
           },
           "yaxis": {
            "backgroundcolor": "white",
            "gridcolor": "#DFE8F3",
            "gridwidth": 2,
            "linecolor": "#EBF0F8",
            "showbackground": true,
            "ticks": "",
            "zerolinecolor": "#EBF0F8"
           },
           "zaxis": {
            "backgroundcolor": "white",
            "gridcolor": "#DFE8F3",
            "gridwidth": 2,
            "linecolor": "#EBF0F8",
            "showbackground": true,
            "ticks": "",
            "zerolinecolor": "#EBF0F8"
           }
          },
          "shapedefaults": {
           "line": {
            "color": "#2a3f5f"
           }
          },
          "ternary": {
           "aaxis": {
            "gridcolor": "#DFE8F3",
            "linecolor": "#A2B1C6",
            "ticks": ""
           },
           "baxis": {
            "gridcolor": "#DFE8F3",
            "linecolor": "#A2B1C6",
            "ticks": ""
           },
           "bgcolor": "white",
           "caxis": {
            "gridcolor": "#DFE8F3",
            "linecolor": "#A2B1C6",
            "ticks": ""
           }
          },
          "title": {
           "x": 0.05
          },
          "xaxis": {
           "automargin": true,
           "gridcolor": "#EBF0F8",
           "linecolor": "#EBF0F8",
           "ticks": "",
           "title": {
            "standoff": 15
           },
           "zerolinecolor": "#EBF0F8",
           "zerolinewidth": 2
          },
          "yaxis": {
           "automargin": true,
           "gridcolor": "#EBF0F8",
           "linecolor": "#EBF0F8",
           "ticks": "",
           "title": {
            "standoff": 15
           },
           "zerolinecolor": "#EBF0F8",
           "zerolinewidth": 2
          }
         }
        },
        "title": {
         "text": "Domain Widths Comparison (length 2300.0μm)"
        },
        "xaxis": {
         "title": {
          "text": "Domain Index"
         }
        },
        "yaxis": {
         "title": {
          "text": "Width (μm)"
         }
        }
       }
      }
     },
     "metadata": {},
     "output_type": "display_data"
    },
    {
     "data": {
      "application/vnd.plotly.v1+json": {
       "config": {
        "plotlyServerURL": "https://plot.ly"
       },
       "data": [
        {
         "mode": "lines",
         "type": "scatter",
         "x": {
          "bdata": "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",
          "dtype": "f8"
         },
         "y": {
          "bdata": "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",
          "dtype": "f8"
         }
        }
       ],
       "layout": {
        "template": {
         "data": {
          "bar": [
           {
            "error_x": {
             "color": "#2a3f5f"
            },
            "error_y": {
             "color": "#2a3f5f"
            },
            "marker": {
             "line": {
              "color": "white",
              "width": 0.5
             },
             "pattern": {
              "fillmode": "overlay",
              "size": 10,
              "solidity": 0.2
             }
            },
            "type": "bar"
           }
          ],
          "barpolar": [
           {
            "marker": {
             "line": {
              "color": "white",
              "width": 0.5
             },
             "pattern": {
              "fillmode": "overlay",
              "size": 10,
              "solidity": 0.2
             }
            },
            "type": "barpolar"
           }
          ],
          "carpet": [
           {
            "aaxis": {
             "endlinecolor": "#2a3f5f",
             "gridcolor": "#C8D4E3",
             "linecolor": "#C8D4E3",
             "minorgridcolor": "#C8D4E3",
             "startlinecolor": "#2a3f5f"
            },
            "baxis": {
             "endlinecolor": "#2a3f5f",
             "gridcolor": "#C8D4E3",
             "linecolor": "#C8D4E3",
             "minorgridcolor": "#C8D4E3",
             "startlinecolor": "#2a3f5f"
            },
            "type": "carpet"
           }
          ],
          "choropleth": [
           {
            "colorbar": {
             "outlinewidth": 0,
             "ticks": ""
            },
            "type": "choropleth"
           }
          ],
          "contour": [
           {
            "colorbar": {
             "outlinewidth": 0,
             "ticks": ""
            },
            "colorscale": [
             [
              0,
              "#0d0887"
             ],
             [
              0.1111111111111111,
              "#46039f"
             ],
             [
              0.2222222222222222,
              "#7201a8"
             ],
             [
              0.3333333333333333,
              "#9c179e"
             ],
             [
              0.4444444444444444,
              "#bd3786"
             ],
             [
              0.5555555555555556,
              "#d8576b"
             ],
             [
              0.6666666666666666,
              "#ed7953"
             ],
             [
              0.7777777777777778,
              "#fb9f3a"
             ],
             [
              0.8888888888888888,
              "#fdca26"
             ],
             [
              1,
              "#f0f921"
             ]
            ],
            "type": "contour"
           }
          ],
          "contourcarpet": [
           {
            "colorbar": {
             "outlinewidth": 0,
             "ticks": ""
            },
            "type": "contourcarpet"
           }
          ],
          "heatmap": [
           {
            "colorbar": {
             "outlinewidth": 0,
             "ticks": ""
            },
            "colorscale": [
             [
              0,
              "#0d0887"
             ],
             [
              0.1111111111111111,
              "#46039f"
             ],
             [
              0.2222222222222222,
              "#7201a8"
             ],
             [
              0.3333333333333333,
              "#9c179e"
             ],
             [
              0.4444444444444444,
              "#bd3786"
             ],
             [
              0.5555555555555556,
              "#d8576b"
             ],
             [
              0.6666666666666666,
              "#ed7953"
             ],
             [
              0.7777777777777778,
              "#fb9f3a"
             ],
             [
              0.8888888888888888,
              "#fdca26"
             ],
             [
              1,
              "#f0f921"
             ]
            ],
            "type": "heatmap"
           }
          ],
          "histogram": [
           {
            "marker": {
             "pattern": {
              "fillmode": "overlay",
              "size": 10,
              "solidity": 0.2
             }
            },
            "type": "histogram"
           }
          ],
          "histogram2d": [
           {
            "colorbar": {
             "outlinewidth": 0,
             "ticks": ""
            },
            "colorscale": [
             [
              0,
              "#0d0887"
             ],
             [
              0.1111111111111111,
              "#46039f"
             ],
             [
              0.2222222222222222,
              "#7201a8"
             ],
             [
              0.3333333333333333,
              "#9c179e"
             ],
             [
              0.4444444444444444,
              "#bd3786"
             ],
             [
              0.5555555555555556,
              "#d8576b"
             ],
             [
              0.6666666666666666,
              "#ed7953"
             ],
             [
              0.7777777777777778,
              "#fb9f3a"
             ],
             [
              0.8888888888888888,
              "#fdca26"
             ],
             [
              1,
              "#f0f921"
             ]
            ],
            "type": "histogram2d"
           }
          ],
          "histogram2dcontour": [
           {
            "colorbar": {
             "outlinewidth": 0,
             "ticks": ""
            },
            "colorscale": [
             [
              0,
              "#0d0887"
             ],
             [
              0.1111111111111111,
              "#46039f"
             ],
             [
              0.2222222222222222,
              "#7201a8"
             ],
             [
              0.3333333333333333,
              "#9c179e"
             ],
             [
              0.4444444444444444,
              "#bd3786"
             ],
             [
              0.5555555555555556,
              "#d8576b"
             ],
             [
              0.6666666666666666,
              "#ed7953"
             ],
             [
              0.7777777777777778,
              "#fb9f3a"
             ],
             [
              0.8888888888888888,
              "#fdca26"
             ],
             [
              1,
              "#f0f921"
             ]
            ],
            "type": "histogram2dcontour"
           }
          ],
          "mesh3d": [
           {
            "colorbar": {
             "outlinewidth": 0,
             "ticks": ""
            },
            "type": "mesh3d"
           }
          ],
          "parcoords": [
           {
            "line": {
             "colorbar": {
              "outlinewidth": 0,
              "ticks": ""
             }
            },
            "type": "parcoords"
           }
          ],
          "pie": [
           {
            "automargin": true,
            "type": "pie"
           }
          ],
          "scatter": [
           {
            "fillpattern": {
             "fillmode": "overlay",
             "size": 10,
             "solidity": 0.2
            },
            "type": "scatter"
           }
          ],
          "scatter3d": [
           {
            "line": {
             "colorbar": {
              "outlinewidth": 0,
              "ticks": ""
             }
            },
            "marker": {
             "colorbar": {
              "outlinewidth": 0,
              "ticks": ""
             }
            },
            "type": "scatter3d"
           }
          ],
          "scattercarpet": [
           {
            "marker": {
             "colorbar": {
              "outlinewidth": 0,
              "ticks": ""
             }
            },
            "type": "scattercarpet"
           }
          ],
          "scattergeo": [
           {
            "marker": {
             "colorbar": {
              "outlinewidth": 0,
              "ticks": ""
             }
            },
            "type": "scattergeo"
           }
          ],
          "scattergl": [
           {
            "marker": {
             "colorbar": {
              "outlinewidth": 0,
              "ticks": ""
             }
            },
            "type": "scattergl"
           }
          ],
          "scattermap": [
           {
            "marker": {
             "colorbar": {
              "outlinewidth": 0,
              "ticks": ""
             }
            },
            "type": "scattermap"
           }
          ],
          "scattermapbox": [
           {
            "marker": {
             "colorbar": {
              "outlinewidth": 0,
              "ticks": ""
             }
            },
            "type": "scattermapbox"
           }
          ],
          "scatterpolar": [
           {
            "marker": {
             "colorbar": {
              "outlinewidth": 0,
              "ticks": ""
             }
            },
            "type": "scatterpolar"
           }
          ],
          "scatterpolargl": [
           {
            "marker": {
             "colorbar": {
              "outlinewidth": 0,
              "ticks": ""
             }
            },
            "type": "scatterpolargl"
           }
          ],
          "scatterternary": [
           {
            "marker": {
             "colorbar": {
              "outlinewidth": 0,
              "ticks": ""
             }
            },
            "type": "scatterternary"
           }
          ],
          "surface": [
           {
            "colorbar": {
             "outlinewidth": 0,
             "ticks": ""
            },
            "colorscale": [
             [
              0,
              "#0d0887"
             ],
             [
              0.1111111111111111,
              "#46039f"
             ],
             [
              0.2222222222222222,
              "#7201a8"
             ],
             [
              0.3333333333333333,
              "#9c179e"
             ],
             [
              0.4444444444444444,
              "#bd3786"
             ],
             [
              0.5555555555555556,
              "#d8576b"
             ],
             [
              0.6666666666666666,
              "#ed7953"
             ],
             [
              0.7777777777777778,
              "#fb9f3a"
             ],
             [
              0.8888888888888888,
              "#fdca26"
             ],
             [
              1,
              "#f0f921"
             ]
            ],
            "type": "surface"
           }
          ],
          "table": [
           {
            "cells": {
             "fill": {
              "color": "#EBF0F8"
             },
             "line": {
              "color": "white"
             }
            },
            "header": {
             "fill": {
              "color": "#C8D4E3"
             },
             "line": {
              "color": "white"
             }
            },
            "type": "table"
           }
          ]
         },
         "layout": {
          "annotationdefaults": {
           "arrowcolor": "#2a3f5f",
           "arrowhead": 0,
           "arrowwidth": 1
          },
          "autotypenumbers": "strict",
          "coloraxis": {
           "colorbar": {
            "outlinewidth": 0,
            "ticks": ""
           }
          },
          "colorscale": {
           "diverging": [
            [
             0,
             "#8e0152"
            ],
            [
             0.1,
             "#c51b7d"
            ],
            [
             0.2,
             "#de77ae"
            ],
            [
             0.3,
             "#f1b6da"
            ],
            [
             0.4,
             "#fde0ef"
            ],
            [
             0.5,
             "#f7f7f7"
            ],
            [
             0.6,
             "#e6f5d0"
            ],
            [
             0.7,
             "#b8e186"
            ],
            [
             0.8,
             "#7fbc41"
            ],
            [
             0.9,
             "#4d9221"
            ],
            [
             1,
             "#276419"
            ]
           ],
           "sequential": [
            [
             0,
             "#0d0887"
            ],
            [
             0.1111111111111111,
             "#46039f"
            ],
            [
             0.2222222222222222,
             "#7201a8"
            ],
            [
             0.3333333333333333,
             "#9c179e"
            ],
            [
             0.4444444444444444,
             "#bd3786"
            ],
            [
             0.5555555555555556,
             "#d8576b"
            ],
            [
             0.6666666666666666,
             "#ed7953"
            ],
            [
             0.7777777777777778,
             "#fb9f3a"
            ],
            [
             0.8888888888888888,
             "#fdca26"
            ],
            [
             1,
             "#f0f921"
            ]
           ],
           "sequentialminus": [
            [
             0,
             "#0d0887"
            ],
            [
             0.1111111111111111,
             "#46039f"
            ],
            [
             0.2222222222222222,
             "#7201a8"
            ],
            [
             0.3333333333333333,
             "#9c179e"
            ],
            [
             0.4444444444444444,
             "#bd3786"
            ],
            [
             0.5555555555555556,
             "#d8576b"
            ],
            [
             0.6666666666666666,
             "#ed7953"
            ],
            [
             0.7777777777777778,
             "#fb9f3a"
            ],
            [
             0.8888888888888888,
             "#fdca26"
            ],
            [
             1,
             "#f0f921"
            ]
           ]
          },
          "colorway": [
           "#636efa",
           "#EF553B",
           "#00cc96",
           "#ab63fa",
           "#FFA15A",
           "#19d3f3",
           "#FF6692",
           "#B6E880",
           "#FF97FF",
           "#FECB52"
          ],
          "font": {
           "color": "#2a3f5f"
          },
          "geo": {
           "bgcolor": "white",
           "lakecolor": "white",
           "landcolor": "white",
           "showlakes": true,
           "showland": true,
           "subunitcolor": "#C8D4E3"
          },
          "hoverlabel": {
           "align": "left"
          },
          "hovermode": "closest",
          "mapbox": {
           "style": "light"
          },
          "paper_bgcolor": "white",
          "plot_bgcolor": "white",
          "polar": {
           "angularaxis": {
            "gridcolor": "#EBF0F8",
            "linecolor": "#EBF0F8",
            "ticks": ""
           },
           "bgcolor": "white",
           "radialaxis": {
            "gridcolor": "#EBF0F8",
            "linecolor": "#EBF0F8",
            "ticks": ""
           }
          },
          "scene": {
           "xaxis": {
            "backgroundcolor": "white",
            "gridcolor": "#DFE8F3",
            "gridwidth": 2,
            "linecolor": "#EBF0F8",
            "showbackground": true,
            "ticks": "",
            "zerolinecolor": "#EBF0F8"
           },
           "yaxis": {
            "backgroundcolor": "white",
            "gridcolor": "#DFE8F3",
            "gridwidth": 2,
            "linecolor": "#EBF0F8",
            "showbackground": true,
            "ticks": "",
            "zerolinecolor": "#EBF0F8"
           },
           "zaxis": {
            "backgroundcolor": "white",
            "gridcolor": "#DFE8F3",
            "gridwidth": 2,
            "linecolor": "#EBF0F8",
            "showbackground": true,
            "ticks": "",
            "zerolinecolor": "#EBF0F8"
           }
          },
          "shapedefaults": {
           "line": {
            "color": "#2a3f5f"
           }
          },
          "ternary": {
           "aaxis": {
            "gridcolor": "#DFE8F3",
            "linecolor": "#A2B1C6",
            "ticks": ""
           },
           "baxis": {
            "gridcolor": "#DFE8F3",
            "linecolor": "#A2B1C6",
            "ticks": ""
           },
           "bgcolor": "white",
           "caxis": {
            "gridcolor": "#DFE8F3",
            "linecolor": "#A2B1C6",
            "ticks": ""
           }
          },
          "title": {
           "x": 0.05
          },
          "xaxis": {
           "automargin": true,
           "gridcolor": "#EBF0F8",
           "linecolor": "#EBF0F8",
           "ticks": "",
           "title": {
            "standoff": 15
           },
           "zerolinecolor": "#EBF0F8",
           "zerolinewidth": 2
          },
          "yaxis": {
           "automargin": true,
           "gridcolor": "#EBF0F8",
           "linecolor": "#EBF0F8",
           "ticks": "",
           "title": {
            "standoff": 15
           },
           "zerolinecolor": "#EBF0F8",
           "zerolinewidth": 2
          }
         }
        },
        "title": {
         "text": "d_eff(z) Spatial Frequency Spectrum"
        },
        "xaxis": {
         "title": {
          "text": "Normalized Spatial Frequency (k)"
         }
        },
        "yaxis": {
         "title": {
          "text": "Fourier Amplitude"
         }
        }
       }
      }
     },
     "metadata": {},
     "output_type": "display_data"
    }
   ],
   "source": [
    "widths = jnp.load(\"../datasets/optimized_thg_2000_1489_e4.npy\")\n",
    "fig = go.Figure()\n",
    "fig.add_trace(go.Scatter(y=widths, mode=\"lines\"))\n",
    "fig.update_layout(\n",
    "    title_text=f\"Domain Widths Comparison (length {jnp.sum(widths):.1f}μm)\",\n",
    "    xaxis_title=\"Domain Index\",\n",
    "    yaxis_title=\"Width (μm)\",\n",
    "    template=\"plotly_white\",\n",
    ")\n",
    "fig.show()\n",
    "\n",
    "signal = create_alternating_signal_from_widths(widths, n_points=30000)\n",
    "k_axis, spectrum_amp = calculate_fourier_spectrum(signal, fourier_config)\n",
    "\n",
    "fig = go.Figure()\n",
    "fig.add_trace(go.Scatter(x=k_axis, y=spectrum_amp, mode=\"lines\"))\n",
    "fig.update_layout(\n",
    "    title=\"d_eff(z) Spatial Frequency Spectrum\",\n",
    "    xaxis_title=\"Normalized Spatial Frequency (k)\",\n",
    "    yaxis_title=\"Fourier Amplitude\",\n",
    "    template=\"plotly_white\",\n",
    ")\n",
    "fig.show()"
   ]
  }
 ],
 "metadata": {
  "kernelspec": {
   "display_name": "mictlan",
   "language": "python",
   "name": "python3"
  },
  "language_info": {
   "codemirror_mode": {
    "name": "ipython",
    "version": 3
   },
   "file_extension": ".py",
   "mimetype": "text/x-python",
   "name": "python",
   "nbconvert_exporter": "python",
   "pygments_lexer": "ipython3",
   "version": "3.13.9"
  }
 },
 "nbformat": 4,
 "nbformat_minor": 5
}
