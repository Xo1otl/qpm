{
	"cells": [
		{
			"cell_type": "code",
			"execution_count": 1,
			"id": "6f96454a",
			"metadata": {},
			"outputs": [],
			"source": [
				"import jax\n",
				"import jax.numpy as jnp\n",
				"import plotly.graph_objects as go  # type: ignore[import-untyped]\n",
				"from jax import jit, vmap\n",
				"\n",
				"from qpm import cwes, grating, mgoslt\n",
				"\n",
				"CORRECTION_FACTOR = 1.07 / 2.84 * 100\n",
				"\n",
				"\n",
				"compute_shg_spectrum = jit(vmap(cwes.simulate_twm, in_axes=(None, None, 0, 0, None)))\n",
				"\n",
				"\n",
				"def calculate_verification_spectrum(\n",
				"    wls: jax.Array,\n",
				"    device_length: float,\n",
				"    kappa_mag: float,\n",
				"    design_temp: float,\n",
				"    design_wl: float,\n",
				") -> jax.Array:\n",
				"    \"\"\"\n",
				"    Calculates the theoretical SHG spectrum using the sinc^2 formula (NPDA).\n",
				"    This serves as an analytical verification for the simulator.\n",
				"    \"\"\"\n",
				"    # The grating vector Kg is fixed by the phase matching condition at the design point.\n",
				"    k_g = mgoslt.calc_twm_delta_k(design_wl, design_wl, design_temp)\n",
				"\n",
				"    # Calculate the material's phase mismatch across the entire wavelength spectrum.\n",
				"    delta_k_material = mgoslt.calc_twm_delta_k(wls, wls, design_temp)\n",
				"\n",
				"    # The total phase mismatch is the difference between the material's mismatch and the grating's.\n",
				"    delta_k_total = delta_k_material - k_g\n",
				"\n",
				"    # Standard formula for SHG efficiency in the low-conversion (non-depleted pump) limit.\n",
				"    sinc_squared_part = jnp.sinc(delta_k_total * device_length / (2 * jnp.pi)) ** 2\n",
				"    efficiency_raw = (kappa_mag**2) * (device_length**2) * sinc_squared_part\n",
				"\n",
				"    # Apply a specific correction factor mentioned in the context, potentially for Gaussian beam effects.\n",
				"    return efficiency_raw * CORRECTION_FACTOR\n",
				"\n",
				"\n",
				"def main() -> None:\n",
				"    \"\"\"Main function to run the simulation, verification, and plot the comparison.\"\"\"\n",
				"    # --- Parameters ---\n",
				"    device_length = 2000.0  # Target total length of the device (μm)\n",
				"    kappa_mag = 1.31e-5 / (2 / jnp.pi)  # Nonlinear coupling coefficient magnitude (μm⁻¹)\n",
				"    design_temp = 70.0  # QPM design temperature (°C)\n",
				"    design_wl = 1.031  # QPM design wavelength (μm)\n",
				"    num_points = 1000  # Resolution of the spectrum\n",
				"    wl_start, wl_end = 1.025, 1.035  # Wavelength range for simulation (μm)\n",
				"\n",
				"    # --- Setup ---\n",
				"    print(\"1. Calculating QPM period from design parameters...\")\n",
				"    shg_delta_k_design = mgoslt.calc_twm_delta_k(design_wl, design_wl, design_temp)\n",
				"    shg_qpm_period = 2 * jnp.pi / shg_delta_k_design\n",
				"    print(f\"    - Calculated QPM Period: {shg_qpm_period:.4f} μm\")\n",
				"\n",
				"    # Determine domain count and the actual, discretized device length.\n",
				"    num_domains = int(jnp.round(2 * device_length / shg_qpm_period))\n",
				"    actual_device_length = num_domains * shg_qpm_period / 2\n",
				"    print(f\"    - Number of Domains: {num_domains}\")\n",
				"    print(f\"    - Actual Device Length: {actual_device_length:.2f} μm\")\n",
				"\n",
				"    wls = jnp.linspace(wl_start, wl_end, num_points)\n",
				"\n",
				"    # --- Simulator Calculation ---\n",
				"    print(\"\\n2. Building uniform grating and running CWES simulator...\")\n",
				"    profile = grating.uniform_profile(num_domains, shg_qpm_period, kappa_mag)  # 野呂さんのkappaはkappa_eff\n",
				"    widths, kappas = grating.build(profile)\n",
				"    delta_k1s = mgoslt.calc_twm_delta_k(wls, wls, design_temp)\n",
				"    delta_k2s = mgoslt.calc_twm_delta_k(wls, wls / 2, design_temp)\n",
				"    b_initial = jnp.array([1.0, 0.0, 0.0], dtype=jnp.complex64)\n",
				"    simulator_effs = compute_shg_spectrum(widths, kappas, delta_k1s, delta_k2s, b_initial)\n",
				"    simulator_effs = jnp.abs(simulator_effs[:, 1]) ** 2\n",
				"    simulator_effs = simulator_effs * CORRECTION_FACTOR\n",
				"\n",
				"    # --- Verification Calculation (NPDA) ---\n",
				"    print(\"3. Calculating theoretical spectrum via NPDA (sinc^2)...\")\n",
				"    verification_effs = calculate_verification_spectrum(wls, actual_device_length, kappa_mag * (2 / jnp.pi), design_temp, design_wl)\n",
				"\n",
				"    # --- Plotting Results ---\n",
				"\n",
				"    print(\"4. Plotting comparison...\")\n",
				"\n",
				"    fig = go.Figure()\n",
				"    fig.add_trace(go.Scatter(x=wls, y=simulator_effs, mode=\"lines\", name=\"Simulator Output\", line={\"color\": \"blue\"}))\n",
				"    fig.add_trace(go.Scatter(x=wls, y=verification_effs, mode=\"lines\", name=\"Verification (NPDA)\", line={\"color\": \"red\", \"dash\": \"dash\"}))\n",
				"    fig.update_layout(\n",
				"        xaxis_title=\"Fundamental Wavelength (μm)\",\n",
				"        yaxis_title=\"Normalized SHG Conversion Efficiency\",\n",
				"        title=f\"Comparison of SHG Spectrum: Simulator vs. Verification\\nDesign λ: {design_wl} μm, Temp: {design_temp}°C\",\n",
				"    )\n",
				"    fig.show()"
			]
		},
		{
			"cell_type": "code",
			"execution_count": 3,
			"id": "4d069310",
			"metadata": {},
			"outputs": [
				{
					"name": "stdout",
					"output_type": "stream",
					"text": [
						"1. Calculating QPM period from design parameters...\n",
						"    - Calculated QPM Period: 7.2017 μm\n",
						"    - Number of Domains: 555\n",
						"    - Actual Device Length: 1998.46 μm\n",
						"\n",
						"2. Building uniform grating and running CWES simulator...\n",
						"3. Calculating theoretical spectrum via NPDA (sinc^2)...\n",
						"4. Plotting comparison...\n"
					]
				},
				{
					"data": {
						"application/vnd.plotly.v1+json": {
							"config": {
								"plotlyServerURL": "https://plot.ly"
							},
							"data": [
								{
									"line": {
										"color": "blue"
									},
									"mode": "lines",
									"name": "Simulator Output",
									"type": "scatter",
									"x": {
										"bdata": "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",
										"dtype": "f4"
									},
									"y": {
										"bdata": "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",
										"dtype": "f4"
									}
								},
								{
									"line": {
										"color": "red",
										"dash": "dash"
									},
									"mode": "lines",
									"name": "Verification (NPDA)",
									"type": "scatter",
									"x": {
										"bdata": "MzODP4czgz/bM4M/LzSDP4M0gz/WNIM/KjWDP381gz/TNYM/JzaDP3s2gz/PNoM/IzeDP3c3gz/LN4M/HjiDP3I4gz/GOIM/GjmDP245gz/DOYM/FzqDP2s6gz+/OoM/EzuDP2Y7gz+6O4M/DjyDP2I8gz+2PIM/Cj2DP149gz+yPYM/Bj6DP1o+gz+uPoM/Aj+DP1Y/gz+qP4M//j+DP1JAgz+mQIM/+kCDP05Bgz+iQYM/9kGDP0pCgz+eQoM/8kKDP0ZDgz+aQ4M/7kODP0FEgz+VRIM/6USDPz1Fgz+RRYM/5UWDPzlGgz+NRoM/4UaDPzVHgz+JR4M/3UeDPzFIgz+FSIM/2UiDPy1Jgz+BSYM/1UmDPylKgz99SoM/0UqDPyVLgz95S4M/zEuDPyBMgz91TIM/yUyDPx1Ngz9wTYM/xE2DPxhOgz9sToM/wU6DPxRPgz9oT4M/vE+DPxBQgz9kUIM/uFCDPwxRgz9gUYM/tFGDPwhSgz9cUoM/sFKDPwRTgz9YU4M/rFODPwBUgz9UVIM/qFSDP/xUgz9QVYM/pFWDP/hVgz9MVoM/oFaDP/RWgz9IV4M/nFeDP/BXgz9EWIM/mFiDP+tYgz8/WYM/lFmDP+hZgz88WoM/j1qDP+Nagz83W4M/i1uDP+Bbgz8zXIM/h1yDP9tcgz8vXYM/g12DP9ddgz8rXoM/f16DP9Negz8nX4M/e1+DP89fgz8jYIM/d2CDP8tggz8fYYM/c2GDP8dhgz8bYoM/b2KDP8Nigz8XY4M/a2ODP79jgz8TZIM/Z2SDP7tkgz8PZYM/Y2WDP7Zlgz8KZoM/XmaDP7Jmgz8GZ4M/WmeDP65ngz8CaIM/VmiDP6pogz/+aIM/UmmDP6Zpgz/6aYM/TmqDP6Jqgz/2aoM/SmuDP55rgz/ya4M/RWyDP5lsgz/tbIM/Qm2DP5Ztgz/pbYM/PW6DP5Fugz/lboM/OW+DP41vgz/hb4M/NXCDP4lwgz/dcIM/MXGDP4Vxgz/ZcYM/LXKDP4Fygz/VcoM/KXODP31zgz/Rc4M/JXSDP3l0gz/NdIM/IXWDP3V1gz/JdYM/HXaDP3F2gz/FdoM/GXeDP213gz/Ad4M/FXiDP2l4gz+9eIM/EXmDP2R5gz+4eYM/DHqDP2F6gz+1eoM/CHuDP1x7gz+we4M/BHyDP1h8gz+sfIM/AH2DP1R9gz+ofYM//H2DP1B+gz+kfoM/+H6DP0x/gz+gf4M/9H+DP0iAgz+cgIM/8ICDP0SBgz+YgYM/7IGDP0CCgz+UgoM/6IKDPzyDgz+Qg4M/5IODPziEgz+MhIM/34SDPzSFgz+IhYM/3IWDPzCGgz+DhoM/14aDPyuHgz9/h4M/04eDPyeIgz97iIM/z4iDPyOJgz93iYM/y4mDPx+Kgz9zioM/x4qDPxuLgz9ui4M/w4uDPxeMgz9rjIM/v4yDPxKNgz9mjYM/uo2DPw+Ogz9jjoM/to6DPwqPgz9ej4M/so+DPwaQgz9akIM/rpCDPwKRgz9WkYM/qpGDP/6Rgz9SkoM/ppKDP/qSgz9Ok4M/opODP/aTgz9KlIM/npSDP/KUgz9GlYM/mpWDP+6Vgz9CloM/lpaDP+qWgz8+l4M/kpeDP+aXgz86mIM/jZiDP+KYgz82mYM/ipmDP96Zgz8xmoM/hZqDP9magz8um4M/gpuDP9Wbgz8pnIM/fZyDP9Gcgz8mnYM/eZ2DP82dgz8hnoM/dZ6DP8megz8dn4M/cZ+DP8Wfgz8ZoIM/baCDP8Gggz8VoYM/aaGDP72hgz8RooM/ZaKDP7migz8No4M/YaODP7Wjgz8JpIM/XaSDP7Gkgz8FpYM/WKWDP6ylgz8BpoM/VaaDP6mmgz/8poM/UKeDP6Sngz/4p4M/TaiDP6Cogz/0qIM/SKmDP5ypgz/wqYM/Q6qDP5iqgz/sqoM/QKuDP5Srgz/nq4M/O6yDP5Csgz/krIM/OK2DP4utgz/frYM/M66DP4eugz/croM/L6+DP4Ovgz/Xr4M/K7CDP3+wgz/TsIM/J7GDP3uxgz/PsYM/I7KDP3eygz/LsoM/H7ODP3Ozgz/Hs4M/G7SDP2+0gz/DtIM/F7WDP2u1gz+/tYM/E7aDP2e2gz+7toM/D7eDP2O3gz+3t4M/C7iDP1+4gz+zuIM/BrmDP1q5gz+vuYM/A7qDP1e6gz+quoM//rqDP1K7gz+mu4M/+7uDP068gz+ivIM/9ryDP0q9gz+evYM/8r2DP0a+gz+avoM/7r6DP0K/gz+Wv4M/6r+DPz7Agz+SwIM/5sCDPzrBgz+OwYM/4sGDPzbCgz+KwoM/3sKDPzLDgz+Gw4M/2sODPy7Egz+CxIM/1sSDPyrFgz9+xYM/0sWDPyXGgz95xoM/zsaDPyLHgz92x4M/yceDPx3Igz9xyIM/xciDPxrJgz9tyYM/wcmDPxXKgz9pyoM/vcqDPxHLgz9ly4M/ucuDPw3Mgz9hzIM/tMyDPwjNgz9dzYM/sc2DPwXOgz9YzoM/rM6DPwDPgz9Uz4M/qc+DP/zPgz9Q0IM/pNCDP/jQgz9M0YM/oNGDP/TRgz9I0oM/nNKDP/DSgz9E04M/mNODP+zTgz9A1IM/lNSDP+jUgz881YM/kNWDP+TVgz841oM/jNaDP+DWgz8014M/iNeDP9zXgz8w2IM/hNiDP9jYgz8s2YM/gNmDP9PZgz8n2oM/fNqDP9Dagz8k24M/d9uDP8vbgz8f3IM/c9yDP8fcgz8b3YM/b92DP8Pdgz8X3oM/a96DP7/egz8T34M/Z9+DP7vfgz8P4IM/Y+CDP7fggz8L4YM/X+GDP7Phgz8H4oM/W+KDP6/igz8D44M/V+ODP6vjgz//44M/UuSDP6bkgz/65IM/TuWDP6Llgz/25YM/SuaDP57mgz/y5oM/RueDP5rngz/u54M/QuiDP5bogz/q6IM/PumDP5Lpgz/m6YM/OuqDP47qgz/i6oM/NuuDP4rrgz/e64M/MuyDP4bsgz/a7IM/Lu2DP4Ltgz/W7YM/Ku6DP37ugz/S7oM/Ju+DP3rvgz/O74M/IvCDP3Xwgz/K8IM/HvGDP3Hxgz/F8YM/GfKDP23ygz/B8oM/FfODP2nzgz+984M/EfSDP2X0gz+59IM/DfWDP2H1gz+19YM/CfaDP132gz+x9oM/BfeDP1n3gz+t94M/AfiDP1X4gz+p+IM//fiDP1D5gz+l+YM/+fmDP0z6gz+h+oM/9PqDP0j7gz+c+4M/8PuDP0T8gz+Y/IM/7PyDP0D9gz+U/YM/6P2DPzz+gz+Q/oM/5P6DPzj/gz+M/4M/4P+DPzQAhD+IAIQ/3ACEPzABhD+EAYQ/2AGEPywChD+AAoQ/1AKEPygDhD98A4Q/0AOEPyQEhD94BIQ/zASEPyAFhD9zBYQ/xwWEPxsGhD9vBoQ/wwaEPxcHhD9rB4Q/vweEPxMIhD9nCIQ/uwiEPw8JhD9jCYQ/twmEPwsKhD9fCoQ/swqEPwcLhD9bC4Q/rwuEPwMMhD9XDIQ/qwyEP/8MhD9TDYQ/pw2EP/sNhD9PDoQ/ow6EP/cOhD9LD4Q/nw+EP/MPhD9GEIQ/mxCEP+8QhD9CEYQ/lxGEP+oRhD8+EoQ/kxKEP+YShD86E4Q/jhOEP+IThD82FIQ/ihSEP94UhD8yFYQ/hhWEP9oVhD8uFoQ/ghaEP9YWhD8qF4Q/fheEP9IXhD8mGIQ/ehiEP84YhD8iGYQ/dhmEP8oZhD8dGoQ/chqEP8UahD8ZG4Q/bhuEP8EbhD8VHIQ/aRyEP70chD8RHYQ/ZR2EP7kdhD8NHoQ/YR6EP7UehD8JH4Q/XR+EP7EfhD8FIIQ/WSCEP60ghD8BIYQ/VSGEP6khhD/9IYQ/USKEP6UihD/5IoQ/TSOEP6EjhD/1I4Q/SSSEP50khD/xJIQ/RSWEP5klhD/tJYQ/QSaEP5UmhD/oJoQ/PCeEP5AnhD/kJ4Q/OCiEP4wohD/gKIQ/NCmEP4gphD/cKYQ/MCqEP4QqhD/YKoQ/LCuEP4ArhD/UK4Q/KCyEP3wshD/QLIQ/JC2EP3gthD/MLYQ/IC6EP3QuhD/ILoQ/HC+EP3AvhD/EL4Q/GDCEP2wwhD+/MIQ/FDGEP2cxhD+7MYQ/DzKEP2MyhD+3MoQ/CzOEP18zhD+zM4Q/BzSEP1s0hD+vNIQ/AzWEP1c1hD+rNYQ//zWEP1M2hD+nNoQ/+zaEP083hD+jN4Q/9zeEP0s4hD+fOIQ/8ziEP0c5hD+bOYQ/7zmEP0M6hD+XOoQ/6zqEPz87hD+TO4Q/5juEPzo8hD+OPIQ/4jyEPzY9hD+KPYQ/3j2EPzI+hD+GPoQ/2j6EPy4/hD+CP4Q/1j+EPypAhD9+QIQ/0kCEPyZBhD96QYQ/zkGEPyJChD92QoQ/ykKEPx5DhD9yQ4Q/xkOEPxpEhD9uRIQ/wkSEPxZFhD9qRYQ/vkWEPxFGhD9lRoQ/ukaEPw1HhD9hR4Q/tUeEPwlIhD9dSIQ/sUiEPwVJhD9ZSYQ/rUmEPwFKhD9VSoQ/qUqEP/1KhD9RS4Q/pUuEP/lLhD9NTIQ/oUyEP/VMhD9JTYQ/nU2EP/FNhD9FToQ/mU6EP+1OhD9BT4Q/lU+EP+lPhD89UIQ/kVCEP+VQhD85UYQ/jFGEP+BRhD80UoQ/iFKEP9xShD8wU4Q/hFOEP9hThD8sVIQ/gFSEP9RUhD8oVYQ/fFWEP9BVhD8kVoQ/eFaEP8xWhD8gV4Q/dFeEP8hXhD8cWIQ/cFiEP8RYhD8YWYQ/bFmEP8BZhD8UWoQ/aFqEP7xahD8QW4Q/ZFuEP7hbhD8LXIQ/X1yEP7NchD8HXYQ/W12EP69dhD8DXoQ/V16EP6tehD//XoQ/U1+EP6dfhD/7X4Q/T2CEP6NghD/3YIQ/S2GEP59hhD/zYYQ/R2KEP5tihD/vYoQ/Q2OEP5djhD/rY4Q/P2SEP5NkhD/nZIQ/O2WEP49lhD/jZYQ/N2aEP4tmhD/eZoQ/MmeEP4ZnhD/aZ4Q/LmiEP4JohD/WaIQ/KmmEP35phD/SaYQ/JmqEP3pqhD/OaoQ/ImuEP3ZrhD/Ka4Q/HmyEP3JshD/GbIQ/Gm2EP25thD/CbYQ/Fm6EP2puhD++boQ/Em+EP2ZvhD+6b4Q/DnCEP2JwhD+2cIQ/CnGEP15xhD+ycYQ/BXKEP1lyhD+tcoQ/AXOEP1VzhD+pc4Q//XOEP1F0hD+ldIQ/+XSEP011hD+hdYQ/9XWEP0l2hD+ddoQ/8XaEP0V3hD+Zd4Q/7XeEP0F4hD+VeIQ/6XiEPz15hD+ReYQ/5XmEPzl6hD+NeoQ/4XqEPw==",
										"dtype": "f4"
									},
									"y": {
										"bdata": "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",
										"dtype": "f4"
									}
								}
							],
							"layout": {
								"template": {
									"data": {
										"bar": [
											{
												"error_x": {
													"color": "#2a3f5f"
												},
												"error_y": {
													"color": "#2a3f5f"
												},
												"marker": {
													"line": {
														"color": "#E5ECF6",
														"width": 0.5
													},
													"pattern": {
														"fillmode": "overlay",
														"size": 10,
														"solidity": 0.2
													}
												},
												"type": "bar"
											}
										],
										"barpolar": [
											{
												"marker": {
													"line": {
														"color": "#E5ECF6",
														"width": 0.5
													},
													"pattern": {
														"fillmode": "overlay",
														"size": 10,
														"solidity": 0.2
													}
												},
												"type": "barpolar"
											}
										],
										"carpet": [
											{
												"aaxis": {
													"endlinecolor": "#2a3f5f",
													"gridcolor": "white",
													"linecolor": "white",
													"minorgridcolor": "white",
													"startlinecolor": "#2a3f5f"
												},
												"baxis": {
													"endlinecolor": "#2a3f5f",
													"gridcolor": "white",
													"linecolor": "white",
													"minorgridcolor": "white",
													"startlinecolor": "#2a3f5f"
												},
												"type": "carpet"
											}
										],
										"choropleth": [
											{
												"colorbar": {
													"outlinewidth": 0,
													"ticks": ""
												},
												"type": "choropleth"
											}
										],
										"contour": [
											{
												"colorbar": {
													"outlinewidth": 0,
													"ticks": ""
												},
												"colorscale": [
													[
														0,
														"#0d0887"
													],
													[
														0.1111111111111111,
														"#46039f"
													],
													[
														0.2222222222222222,
														"#7201a8"
													],
													[
														0.3333333333333333,
														"#9c179e"
													],
													[
														0.4444444444444444,
														"#bd3786"
													],
													[
														0.5555555555555556,
														"#d8576b"
													],
													[
														0.6666666666666666,
														"#ed7953"
													],
													[
														0.7777777777777778,
														"#fb9f3a"
													],
													[
														0.8888888888888888,
														"#fdca26"
													],
													[
														1,
														"#f0f921"
													]
												],
												"type": "contour"
											}
										],
										"contourcarpet": [
											{
												"colorbar": {
													"outlinewidth": 0,
													"ticks": ""
												},
												"type": "contourcarpet"
											}
										],
										"heatmap": [
											{
												"colorbar": {
													"outlinewidth": 0,
													"ticks": ""
												},
												"colorscale": [
													[
														0,
														"#0d0887"
													],
													[
														0.1111111111111111,
														"#46039f"
													],
													[
														0.2222222222222222,
														"#7201a8"
													],
													[
														0.3333333333333333,
														"#9c179e"
													],
													[
														0.4444444444444444,
														"#bd3786"
													],
													[
														0.5555555555555556,
														"#d8576b"
													],
													[
														0.6666666666666666,
														"#ed7953"
													],
													[
														0.7777777777777778,
														"#fb9f3a"
													],
													[
														0.8888888888888888,
														"#fdca26"
													],
													[
														1,
														"#f0f921"
													]
												],
												"type": "heatmap"
											}
										],
										"histogram": [
											{
												"marker": {
													"pattern": {
														"fillmode": "overlay",
														"size": 10,
														"solidity": 0.2
													}
												},
												"type": "histogram"
											}
										],
										"histogram2d": [
											{
												"colorbar": {
													"outlinewidth": 0,
													"ticks": ""
												},
												"colorscale": [
													[
														0,
														"#0d0887"
													],
													[
														0.1111111111111111,
														"#46039f"
													],
													[
														0.2222222222222222,
														"#7201a8"
													],
													[
														0.3333333333333333,
														"#9c179e"
													],
													[
														0.4444444444444444,
														"#bd3786"
													],
													[
														0.5555555555555556,
														"#d8576b"
													],
													[
														0.6666666666666666,
														"#ed7953"
													],
													[
														0.7777777777777778,
														"#fb9f3a"
													],
													[
														0.8888888888888888,
														"#fdca26"
													],
													[
														1,
														"#f0f921"
													]
												],
												"type": "histogram2d"
											}
										],
										"histogram2dcontour": [
											{
												"colorbar": {
													"outlinewidth": 0,
													"ticks": ""
												},
												"colorscale": [
													[
														0,
														"#0d0887"
													],
													[
														0.1111111111111111,
														"#46039f"
													],
													[
														0.2222222222222222,
														"#7201a8"
													],
													[
														0.3333333333333333,
														"#9c179e"
													],
													[
														0.4444444444444444,
														"#bd3786"
													],
													[
														0.5555555555555556,
														"#d8576b"
													],
													[
														0.6666666666666666,
														"#ed7953"
													],
													[
														0.7777777777777778,
														"#fb9f3a"
													],
													[
														0.8888888888888888,
														"#fdca26"
													],
													[
														1,
														"#f0f921"
													]
												],
												"type": "histogram2dcontour"
											}
										],
										"mesh3d": [
											{
												"colorbar": {
													"outlinewidth": 0,
													"ticks": ""
												},
												"type": "mesh3d"
											}
										],
										"parcoords": [
											{
												"line": {
													"colorbar": {
														"outlinewidth": 0,
														"ticks": ""
													}
												},
												"type": "parcoords"
											}
										],
										"pie": [
											{
												"automargin": true,
												"type": "pie"
											}
										],
										"scatter": [
											{
												"fillpattern": {
													"fillmode": "overlay",
													"size": 10,
													"solidity": 0.2
												},
												"type": "scatter"
											}
										],
										"scatter3d": [
											{
												"line": {
													"colorbar": {
														"outlinewidth": 0,
														"ticks": ""
													}
												},
												"marker": {
													"colorbar": {
														"outlinewidth": 0,
														"ticks": ""
													}
												},
												"type": "scatter3d"
											}
										],
										"scattercarpet": [
											{
												"marker": {
													"colorbar": {
														"outlinewidth": 0,
														"ticks": ""
													}
												},
												"type": "scattercarpet"
											}
										],
										"scattergeo": [
											{
												"marker": {
													"colorbar": {
														"outlinewidth": 0,
														"ticks": ""
													}
												},
												"type": "scattergeo"
											}
										],
										"scattergl": [
											{
												"marker": {
													"colorbar": {
														"outlinewidth": 0,
														"ticks": ""
													}
												},
												"type": "scattergl"
											}
										],
										"scattermap": [
											{
												"marker": {
													"colorbar": {
														"outlinewidth": 0,
														"ticks": ""
													}
												},
												"type": "scattermap"
											}
										],
										"scattermapbox": [
											{
												"marker": {
													"colorbar": {
														"outlinewidth": 0,
														"ticks": ""
													}
												},
												"type": "scattermapbox"
											}
										],
										"scatterpolar": [
											{
												"marker": {
													"colorbar": {
														"outlinewidth": 0,
														"ticks": ""
													}
												},
												"type": "scatterpolar"
											}
										],
										"scatterpolargl": [
											{
												"marker": {
													"colorbar": {
														"outlinewidth": 0,
														"ticks": ""
													}
												},
												"type": "scatterpolargl"
											}
										],
										"scatterternary": [
											{
												"marker": {
													"colorbar": {
														"outlinewidth": 0,
														"ticks": ""
													}
												},
												"type": "scatterternary"
											}
										],
										"surface": [
											{
												"colorbar": {
													"outlinewidth": 0,
													"ticks": ""
												},
												"colorscale": [
													[
														0,
														"#0d0887"
													],
													[
														0.1111111111111111,
														"#46039f"
													],
													[
														0.2222222222222222,
														"#7201a8"
													],
													[
														0.3333333333333333,
														"#9c179e"
													],
													[
														0.4444444444444444,
														"#bd3786"
													],
													[
														0.5555555555555556,
														"#d8576b"
													],
													[
														0.6666666666666666,
														"#ed7953"
													],
													[
														0.7777777777777778,
														"#fb9f3a"
													],
													[
														0.8888888888888888,
														"#fdca26"
													],
													[
														1,
														"#f0f921"
													]
												],
												"type": "surface"
											}
										],
										"table": [
											{
												"cells": {
													"fill": {
														"color": "#EBF0F8"
													},
													"line": {
														"color": "white"
													}
												},
												"header": {
													"fill": {
														"color": "#C8D4E3"
													},
													"line": {
														"color": "white"
													}
												},
												"type": "table"
											}
										]
									},
									"layout": {
										"annotationdefaults": {
											"arrowcolor": "#2a3f5f",
											"arrowhead": 0,
											"arrowwidth": 1
										},
										"autotypenumbers": "strict",
										"coloraxis": {
											"colorbar": {
												"outlinewidth": 0,
												"ticks": ""
											}
										},
										"colorscale": {
											"diverging": [
												[
													0,
													"#8e0152"
												],
												[
													0.1,
													"#c51b7d"
												],
												[
													0.2,
													"#de77ae"
												],
												[
													0.3,
													"#f1b6da"
												],
												[
													0.4,
													"#fde0ef"
												],
												[
													0.5,
													"#f7f7f7"
												],
												[
													0.6,
													"#e6f5d0"
												],
												[
													0.7,
													"#b8e186"
												],
												[
													0.8,
													"#7fbc41"
												],
												[
													0.9,
													"#4d9221"
												],
												[
													1,
													"#276419"
												]
											],
											"sequential": [
												[
													0,
													"#0d0887"
												],
												[
													0.1111111111111111,
													"#46039f"
												],
												[
													0.2222222222222222,
													"#7201a8"
												],
												[
													0.3333333333333333,
													"#9c179e"
												],
												[
													0.4444444444444444,
													"#bd3786"
												],
												[
													0.5555555555555556,
													"#d8576b"
												],
												[
													0.6666666666666666,
													"#ed7953"
												],
												[
													0.7777777777777778,
													"#fb9f3a"
												],
												[
													0.8888888888888888,
													"#fdca26"
												],
												[
													1,
													"#f0f921"
												]
											],
											"sequentialminus": [
												[
													0,
													"#0d0887"
												],
												[
													0.1111111111111111,
													"#46039f"
												],
												[
													0.2222222222222222,
													"#7201a8"
												],
												[
													0.3333333333333333,
													"#9c179e"
												],
												[
													0.4444444444444444,
													"#bd3786"
												],
												[
													0.5555555555555556,
													"#d8576b"
												],
												[
													0.6666666666666666,
													"#ed7953"
												],
												[
													0.7777777777777778,
													"#fb9f3a"
												],
												[
													0.8888888888888888,
													"#fdca26"
												],
												[
													1,
													"#f0f921"
												]
											]
										},
										"colorway": [
											"#636efa",
											"#EF553B",
											"#00cc96",
											"#ab63fa",
											"#FFA15A",
											"#19d3f3",
											"#FF6692",
											"#B6E880",
											"#FF97FF",
											"#FECB52"
										],
										"font": {
											"color": "#2a3f5f"
										},
										"geo": {
											"bgcolor": "white",
											"lakecolor": "white",
											"landcolor": "#E5ECF6",
											"showlakes": true,
											"showland": true,
											"subunitcolor": "white"
										},
										"hoverlabel": {
											"align": "left"
										},
										"hovermode": "closest",
										"mapbox": {
											"style": "light"
										},
										"paper_bgcolor": "white",
										"plot_bgcolor": "#E5ECF6",
										"polar": {
											"angularaxis": {
												"gridcolor": "white",
												"linecolor": "white",
												"ticks": ""
											},
											"bgcolor": "#E5ECF6",
											"radialaxis": {
												"gridcolor": "white",
												"linecolor": "white",
												"ticks": ""
											}
										},
										"scene": {
											"xaxis": {
												"backgroundcolor": "#E5ECF6",
												"gridcolor": "white",
												"gridwidth": 2,
												"linecolor": "white",
												"showbackground": true,
												"ticks": "",
												"zerolinecolor": "white"
											},
											"yaxis": {
												"backgroundcolor": "#E5ECF6",
												"gridcolor": "white",
												"gridwidth": 2,
												"linecolor": "white",
												"showbackground": true,
												"ticks": "",
												"zerolinecolor": "white"
											},
											"zaxis": {
												"backgroundcolor": "#E5ECF6",
												"gridcolor": "white",
												"gridwidth": 2,
												"linecolor": "white",
												"showbackground": true,
												"ticks": "",
												"zerolinecolor": "white"
											}
										},
										"shapedefaults": {
											"line": {
												"color": "#2a3f5f"
											}
										},
										"ternary": {
											"aaxis": {
												"gridcolor": "white",
												"linecolor": "white",
												"ticks": ""
											},
											"baxis": {
												"gridcolor": "white",
												"linecolor": "white",
												"ticks": ""
											},
											"bgcolor": "#E5ECF6",
											"caxis": {
												"gridcolor": "white",
												"linecolor": "white",
												"ticks": ""
											}
										},
										"title": {
											"x": 0.05
										},
										"xaxis": {
											"automargin": true,
											"gridcolor": "white",
											"linecolor": "white",
											"ticks": "",
											"title": {
												"standoff": 15
											},
											"zerolinecolor": "white",
											"zerolinewidth": 2
										},
										"yaxis": {
											"automargin": true,
											"gridcolor": "white",
											"linecolor": "white",
											"ticks": "",
											"title": {
												"standoff": 15
											},
											"zerolinecolor": "white",
											"zerolinewidth": 2
										}
									}
								},
								"title": {
									"text": "Comparison of SHG Spectrum: Simulator vs. Verification\nDesign λ: 1.031 μm, Temp: 70.0°C"
								},
								"xaxis": {
									"title": {
										"text": "Fundamental Wavelength (μm)"
									}
								},
								"yaxis": {
									"title": {
										"text": "Normalized SHG Conversion Efficiency"
									}
								}
							}
						}
					},
					"metadata": {},
					"output_type": "display_data"
				}
			],
			"source": [
				"main()"
			]
		}
	],
	"metadata": {
		"kernelspec": {
			"display_name": ".venv",
			"language": "python",
			"name": "python3"
		},
		"language_info": {
			"codemirror_mode": {
				"name": "ipython",
				"version": 3
			},
			"file_extension": ".py",
			"mimetype": "text/x-python",
			"name": "python",
			"nbconvert_exporter": "python",
			"pygments_lexer": "ipython3",
			"version": "3.13.8"
		}
	},
	"nbformat": 4,
	"nbformat_minor": 5
}
