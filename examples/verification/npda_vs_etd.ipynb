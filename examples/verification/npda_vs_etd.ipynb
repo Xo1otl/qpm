{
	"cells": [
		{
			"cell_type": "code",
			"execution_count": 1,
			"id": "6f96454a",
			"metadata": {},
			"outputs": [],
			"source": [
				"import jax\n",
				"import jax.numpy as jnp\n",
				"import plotly.graph_objects as go  # type: ignore[import-untyped]\n",
				"from jax import jit, vmap\n",
				"\n",
				"from qpm import cwes, grating, mgoslt\n",
				"\n",
				"CORRECTION_FACTOR = 1.07 / 2.84 * 100\n",
				"\n",
				"\n",
				"compute_shg_spectrum = jit(vmap(cwes.simulate_twm, in_axes=(None, 0, 0, None)))\n",
				"\n",
				"\n",
				"def calculate_verification_spectrum(\n",
				"    wls: jax.Array,\n",
				"    device_length: float,\n",
				"    kappa_mag: float,\n",
				"    design_temp: float,\n",
				"    design_wl: float,\n",
				") -> jax.Array:\n",
				"    \"\"\"\n",
				"    Calculates the theoretical SHG spectrum using the sinc^2 formula (NPDA).\n",
				"    This serves as an analytical verification for the simulator.\n",
				"    \"\"\"\n",
				"    # The grating vector Kg is fixed by the phase matching condition at the design point.\n",
				"    k_g = mgoslt.calc_twm_delta_k(design_wl, design_wl, design_temp)\n",
				"\n",
				"    # Calculate the material's phase mismatch across the entire wavelength spectrum.\n",
				"    delta_k_material = mgoslt.calc_twm_delta_k(wls, wls, design_temp)\n",
				"\n",
				"    # The total phase mismatch is the difference between the material's mismatch and the grating's.\n",
				"    delta_k_total = delta_k_material - k_g\n",
				"\n",
				"    # Standard formula for SHG efficiency in the low-conversion (non-depleted pump) limit.\n",
				"    sinc_squared_part = jnp.sinc(delta_k_total * device_length / (2 * jnp.pi)) ** 2\n",
				"    efficiency_raw = (kappa_mag**2) * (device_length**2) * sinc_squared_part\n",
				"\n",
				"    # Apply a specific correction factor mentioned in the context, potentially for Gaussian beam effects.\n",
				"    return efficiency_raw * CORRECTION_FACTOR\n",
				"\n",
				"\n",
				"def main() -> None:\n",
				"    \"\"\"Main function to run the simulation, verification, and plot the comparison.\"\"\"\n",
				"    # --- Parameters ---\n",
				"    device_length = 2000.0  # Target total length of the device (μm)\n",
				"    kappa_mag = 1.31e-5 / (2 / jnp.pi)  # Nonlinear coupling coefficient magnitude (μm⁻¹)\n",
				"    design_temp = 70.0  # QPM design temperature (°C)\n",
				"    design_wl = 1.031  # QPM design wavelength (μm)\n",
				"    num_points = 1000  # Resolution of the spectrum\n",
				"    wl_start, wl_end = 1.025, 1.035  # Wavelength range for simulation (μm)\n",
				"\n",
				"    # --- Setup ---\n",
				"    print(\"1. Calculating QPM period from design parameters...\")\n",
				"    shg_delta_k_design = mgoslt.calc_twm_delta_k(design_wl, design_wl, design_temp)\n",
				"    shg_qpm_period = 2 * jnp.pi / shg_delta_k_design\n",
				"    print(f\"    - Calculated QPM Period: {shg_qpm_period:.4f} μm\")\n",
				"\n",
				"    # Determine domain count and the actual, discretized device length.\n",
				"    num_domains = int(jnp.round(2 * device_length / shg_qpm_period))\n",
				"    actual_device_length = num_domains * shg_qpm_period / 2\n",
				"    print(f\"    - Number of Domains: {num_domains}\")\n",
				"    print(f\"    - Actual Device Length: {actual_device_length:.2f} μm\")\n",
				"\n",
				"    wls = jnp.linspace(wl_start, wl_end, num_points)\n",
				"\n",
				"    # --- Simulator Calculation ---\n",
				"    print(\"\\n2. Building uniform grating and running CWES simulator...\")\n",
				"    profile = grating.uniform_profile(num_domains, shg_qpm_period, kappa_mag)  # 野呂さんのkappaはkappa_eff\n",
				"    superlattice = grating.build(profile)\n",
				"    grating.visualize(superlattice)\n",
				"    delta_k1s = mgoslt.calc_twm_delta_k(wls, wls, design_temp)\n",
				"    delta_k2s = mgoslt.calc_twm_delta_k(wls, wls / 2, design_temp)\n",
				"    b_initial = jnp.array([1.0, 0.0, 0.0], dtype=jnp.complex64)\n",
				"    simulator_effs = compute_shg_spectrum(superlattice, delta_k1s, delta_k2s, b_initial)\n",
				"    simulator_effs = jnp.abs(simulator_effs[:, 1]) ** 2\n",
				"    simulator_effs = simulator_effs * CORRECTION_FACTOR\n",
				"\n",
				"    # --- Verification Calculation (NPDA) ---\n",
				"    print(\"3. Calculating theoretical spectrum via NPDA (sinc^2)...\")\n",
				"    verification_effs = calculate_verification_spectrum(wls, actual_device_length, kappa_mag * (2 / jnp.pi), design_temp, design_wl)\n",
				"\n",
				"    # --- Plotting Results ---\n",
				"\n",
				"    print(\"4. Plotting comparison...\")\n",
				"\n",
				"    fig = go.Figure()\n",
				"    fig.add_trace(go.Scatter(x=wls, y=simulator_effs, mode=\"lines\", name=\"Simulator Output\", line={\"color\": \"blue\"}))\n",
				"    fig.add_trace(go.Scatter(x=wls, y=verification_effs, mode=\"lines\", name=\"Verification (NPDA)\", line={\"color\": \"red\", \"dash\": \"dash\"}))\n",
				"    fig.update_layout(\n",
				"        xaxis_title=\"Fundamental Wavelength (μm)\",\n",
				"        yaxis_title=\"Normalized SHG Conversion Efficiency\",\n",
				"        title=f\"Comparison of SHG Spectrum: Simulator vs. Verification\\nDesign λ: {design_wl} μm, Temp: {design_temp}°C\",\n",
				"    )\n",
				"    fig.show()"
			]
		},
		{
			"cell_type": "code",
			"execution_count": 2,
			"id": "4d069310",
			"metadata": {},
			"outputs": [
				{
					"name": "stdout",
					"output_type": "stream",
					"text": [
						"1. Calculating QPM period from design parameters...\n",
						"    - Calculated QPM Period: 7.2017 μm\n",
						"    - Number of Domains: 555\n",
						"    - Actual Device Length: 1998.46 μm\n",
						"\n",
						"2. Building uniform grating and running CWES simulator...\n"
					]
				},
				{
					"data": {
						"application/vnd.plotly.v1+json": {
							"config": {
								"plotlyServerURL": "https://plot.ly"
							},
							"data": [
								{
									"hoverinfo": "text",
									"hovertext": [
										"Index: 0<br>Position: 0.000 μm<br>Length: 3.601 μm<br>Kappa: 0.00",
										"Index: 1<br>Position: 3.601 μm<br>Length: 3.601 μm<br>Kappa: -0.00",
										"Index: 2<br>Position: 7.202 μm<br>Length: 3.601 μm<br>Kappa: 0.00",
										"Index: 3<br>Position: 10.802 μm<br>Length: 3.601 μm<br>Kappa: -0.00",
										"Index: 4<br>Position: 14.403 μm<br>Length: 3.601 μm<br>Kappa: 0.00",
										"Index: 5<br>Position: 18.004 μm<br>Length: 3.601 μm<br>Kappa: -0.00",
										"Index: 6<br>Position: 21.605 μm<br>Length: 3.601 μm<br>Kappa: 0.00",
										"Index: 7<br>Position: 25.206 μm<br>Length: 3.601 μm<br>Kappa: -0.00",
										"Index: 8<br>Position: 28.807 μm<br>Length: 3.601 μm<br>Kappa: 0.00",
										"Index: 9<br>Position: 32.407 μm<br>Length: 3.601 μm<br>Kappa: -0.00",
										"Index: 10<br>Position: 36.008 μm<br>Length: 3.601 μm<br>Kappa: 0.00",
										"Index: 11<br>Position: 39.609 μm<br>Length: 3.601 μm<br>Kappa: -0.00",
										"Index: 12<br>Position: 43.210 μm<br>Length: 3.601 μm<br>Kappa: 0.00",
										"Index: 13<br>Position: 46.811 μm<br>Length: 3.601 μm<br>Kappa: -0.00",
										"Index: 14<br>Position: 50.412 μm<br>Length: 3.601 μm<br>Kappa: 0.00",
										"Index: 15<br>Position: 54.012 μm<br>Length: 3.601 μm<br>Kappa: -0.00",
										"Index: 16<br>Position: 57.613 μm<br>Length: 3.601 μm<br>Kappa: 0.00",
										"Index: 17<br>Position: 61.214 μm<br>Length: 3.601 μm<br>Kappa: -0.00",
										"Index: 18<br>Position: 64.815 μm<br>Length: 3.601 μm<br>Kappa: 0.00",
										"Index: 19<br>Position: 68.416 μm<br>Length: 3.601 μm<br>Kappa: -0.00",
										"Index: 20<br>Position: 72.017 μm<br>Length: 3.601 μm<br>Kappa: 0.00",
										"Index: 21<br>Position: 75.617 μm<br>Length: 3.601 μm<br>Kappa: -0.00",
										"Index: 22<br>Position: 79.218 μm<br>Length: 3.601 μm<br>Kappa: 0.00",
										"Index: 23<br>Position: 82.819 μm<br>Length: 3.601 μm<br>Kappa: -0.00",
										"Index: 24<br>Position: 86.420 μm<br>Length: 3.601 μm<br>Kappa: 0.00",
										"Index: 25<br>Position: 90.021 μm<br>Length: 3.601 μm<br>Kappa: -0.00",
										"Index: 26<br>Position: 93.622 μm<br>Length: 3.601 μm<br>Kappa: 0.00",
										"Index: 27<br>Position: 97.222 μm<br>Length: 3.601 μm<br>Kappa: -0.00",
										"Index: 28<br>Position: 100.823 μm<br>Length: 3.601 μm<br>Kappa: 0.00",
										"Index: 29<br>Position: 104.424 μm<br>Length: 3.601 μm<br>Kappa: -0.00",
										"Index: 30<br>Position: 108.025 μm<br>Length: 3.601 μm<br>Kappa: 0.00",
										"Index: 31<br>Position: 111.626 μm<br>Length: 3.601 μm<br>Kappa: -0.00",
										"Index: 32<br>Position: 115.227 μm<br>Length: 3.601 μm<br>Kappa: 0.00",
										"Index: 33<br>Position: 118.827 μm<br>Length: 3.601 μm<br>Kappa: -0.00",
										"Index: 34<br>Position: 122.428 μm<br>Length: 3.601 μm<br>Kappa: 0.00",
										"Index: 35<br>Position: 126.029 μm<br>Length: 3.601 μm<br>Kappa: -0.00",
										"Index: 36<br>Position: 129.630 μm<br>Length: 3.601 μm<br>Kappa: 0.00",
										"Index: 37<br>Position: 133.231 μm<br>Length: 3.601 μm<br>Kappa: -0.00",
										"Index: 38<br>Position: 136.832 μm<br>Length: 3.601 μm<br>Kappa: 0.00",
										"Index: 39<br>Position: 140.432 μm<br>Length: 3.601 μm<br>Kappa: -0.00",
										"Index: 40<br>Position: 144.033 μm<br>Length: 3.601 μm<br>Kappa: 0.00",
										"Index: 41<br>Position: 147.634 μm<br>Length: 3.601 μm<br>Kappa: -0.00",
										"Index: 42<br>Position: 151.235 μm<br>Length: 3.601 μm<br>Kappa: 0.00",
										"Index: 43<br>Position: 154.836 μm<br>Length: 3.601 μm<br>Kappa: -0.00",
										"Index: 44<br>Position: 158.437 μm<br>Length: 3.601 μm<br>Kappa: 0.00",
										"Index: 45<br>Position: 162.037 μm<br>Length: 3.601 μm<br>Kappa: -0.00",
										"Index: 46<br>Position: 165.638 μm<br>Length: 3.601 μm<br>Kappa: 0.00",
										"Index: 47<br>Position: 169.239 μm<br>Length: 3.601 μm<br>Kappa: -0.00",
										"Index: 48<br>Position: 172.840 μm<br>Length: 3.601 μm<br>Kappa: 0.00",
										"Index: 49<br>Position: 176.441 μm<br>Length: 3.601 μm<br>Kappa: -0.00",
										"Index: 50<br>Position: 180.041 μm<br>Length: 3.601 μm<br>Kappa: 0.00",
										"Index: 51<br>Position: 183.642 μm<br>Length: 3.601 μm<br>Kappa: -0.00",
										"Index: 52<br>Position: 187.243 μm<br>Length: 3.601 μm<br>Kappa: 0.00",
										"Index: 53<br>Position: 190.844 μm<br>Length: 3.601 μm<br>Kappa: -0.00",
										"Index: 54<br>Position: 194.445 μm<br>Length: 3.601 μm<br>Kappa: 0.00",
										"Index: 55<br>Position: 198.046 μm<br>Length: 3.601 μm<br>Kappa: -0.00",
										"Index: 56<br>Position: 201.646 μm<br>Length: 3.601 μm<br>Kappa: 0.00",
										"Index: 57<br>Position: 205.247 μm<br>Length: 3.601 μm<br>Kappa: -0.00",
										"Index: 58<br>Position: 208.848 μm<br>Length: 3.601 μm<br>Kappa: 0.00",
										"Index: 59<br>Position: 212.449 μm<br>Length: 3.601 μm<br>Kappa: -0.00",
										"Index: 60<br>Position: 216.050 μm<br>Length: 3.601 μm<br>Kappa: 0.00",
										"Index: 61<br>Position: 219.651 μm<br>Length: 3.601 μm<br>Kappa: -0.00",
										"Index: 62<br>Position: 223.251 μm<br>Length: 3.601 μm<br>Kappa: 0.00",
										"Index: 63<br>Position: 226.852 μm<br>Length: 3.601 μm<br>Kappa: -0.00",
										"Index: 64<br>Position: 230.453 μm<br>Length: 3.601 μm<br>Kappa: 0.00",
										"Index: 65<br>Position: 234.054 μm<br>Length: 3.601 μm<br>Kappa: -0.00",
										"Index: 66<br>Position: 237.655 μm<br>Length: 3.601 μm<br>Kappa: 0.00",
										"Index: 67<br>Position: 241.256 μm<br>Length: 3.601 μm<br>Kappa: -0.00",
										"Index: 68<br>Position: 244.856 μm<br>Length: 3.601 μm<br>Kappa: 0.00",
										"Index: 69<br>Position: 248.457 μm<br>Length: 3.601 μm<br>Kappa: -0.00",
										"Index: 70<br>Position: 252.058 μm<br>Length: 3.601 μm<br>Kappa: 0.00",
										"Index: 71<br>Position: 255.659 μm<br>Length: 3.601 μm<br>Kappa: -0.00",
										"Index: 72<br>Position: 259.260 μm<br>Length: 3.601 μm<br>Kappa: 0.00",
										"Index: 73<br>Position: 262.861 μm<br>Length: 3.601 μm<br>Kappa: -0.00",
										"Index: 74<br>Position: 266.461 μm<br>Length: 3.601 μm<br>Kappa: 0.00",
										"Index: 75<br>Position: 270.062 μm<br>Length: 3.601 μm<br>Kappa: -0.00",
										"Index: 76<br>Position: 273.663 μm<br>Length: 3.601 μm<br>Kappa: 0.00",
										"Index: 77<br>Position: 277.264 μm<br>Length: 3.601 μm<br>Kappa: -0.00",
										"Index: 78<br>Position: 280.865 μm<br>Length: 3.601 μm<br>Kappa: 0.00",
										"Index: 79<br>Position: 284.466 μm<br>Length: 3.601 μm<br>Kappa: -0.00",
										"Index: 80<br>Position: 288.066 μm<br>Length: 3.601 μm<br>Kappa: 0.00",
										"Index: 81<br>Position: 291.667 μm<br>Length: 3.601 μm<br>Kappa: -0.00",
										"Index: 82<br>Position: 295.268 μm<br>Length: 3.601 μm<br>Kappa: 0.00",
										"Index: 83<br>Position: 298.869 μm<br>Length: 3.601 μm<br>Kappa: -0.00",
										"Index: 84<br>Position: 302.470 μm<br>Length: 3.601 μm<br>Kappa: 0.00",
										"Index: 85<br>Position: 306.071 μm<br>Length: 3.601 μm<br>Kappa: -0.00",
										"Index: 86<br>Position: 309.671 μm<br>Length: 3.601 μm<br>Kappa: 0.00",
										"Index: 87<br>Position: 313.272 μm<br>Length: 3.601 μm<br>Kappa: -0.00",
										"Index: 88<br>Position: 316.873 μm<br>Length: 3.601 μm<br>Kappa: 0.00",
										"Index: 89<br>Position: 320.474 μm<br>Length: 3.601 μm<br>Kappa: -0.00",
										"Index: 90<br>Position: 324.075 μm<br>Length: 3.601 μm<br>Kappa: 0.00",
										"Index: 91<br>Position: 327.676 μm<br>Length: 3.601 μm<br>Kappa: -0.00",
										"Index: 92<br>Position: 331.276 μm<br>Length: 3.601 μm<br>Kappa: 0.00",
										"Index: 93<br>Position: 334.877 μm<br>Length: 3.601 μm<br>Kappa: -0.00",
										"Index: 94<br>Position: 338.478 μm<br>Length: 3.601 μm<br>Kappa: 0.00",
										"Index: 95<br>Position: 342.079 μm<br>Length: 3.601 μm<br>Kappa: -0.00",
										"Index: 96<br>Position: 345.680 μm<br>Length: 3.601 μm<br>Kappa: 0.00",
										"Index: 97<br>Position: 349.280 μm<br>Length: 3.601 μm<br>Kappa: -0.00",
										"Index: 98<br>Position: 352.881 μm<br>Length: 3.601 μm<br>Kappa: 0.00",
										"Index: 99<br>Position: 356.482 μm<br>Length: 3.601 μm<br>Kappa: -0.00",
										"Index: 100<br>Position: 360.083 μm<br>Length: 3.601 μm<br>Kappa: 0.00",
										"Index: 101<br>Position: 363.684 μm<br>Length: 3.601 μm<br>Kappa: -0.00",
										"Index: 102<br>Position: 367.285 μm<br>Length: 3.601 μm<br>Kappa: 0.00",
										"Index: 103<br>Position: 370.885 μm<br>Length: 3.601 μm<br>Kappa: -0.00",
										"Index: 104<br>Position: 374.486 μm<br>Length: 3.601 μm<br>Kappa: 0.00",
										"Index: 105<br>Position: 378.087 μm<br>Length: 3.601 μm<br>Kappa: -0.00",
										"Index: 106<br>Position: 381.688 μm<br>Length: 3.601 μm<br>Kappa: 0.00",
										"Index: 107<br>Position: 385.289 μm<br>Length: 3.601 μm<br>Kappa: -0.00",
										"Index: 108<br>Position: 388.890 μm<br>Length: 3.601 μm<br>Kappa: 0.00",
										"Index: 109<br>Position: 392.490 μm<br>Length: 3.601 μm<br>Kappa: -0.00",
										"Index: 110<br>Position: 396.091 μm<br>Length: 3.601 μm<br>Kappa: 0.00",
										"Index: 111<br>Position: 399.692 μm<br>Length: 3.601 μm<br>Kappa: -0.00",
										"Index: 112<br>Position: 403.293 μm<br>Length: 3.601 μm<br>Kappa: 0.00",
										"Index: 113<br>Position: 406.894 μm<br>Length: 3.601 μm<br>Kappa: -0.00",
										"Index: 114<br>Position: 410.495 μm<br>Length: 3.601 μm<br>Kappa: 0.00",
										"Index: 115<br>Position: 414.095 μm<br>Length: 3.601 μm<br>Kappa: -0.00",
										"Index: 116<br>Position: 417.696 μm<br>Length: 3.601 μm<br>Kappa: 0.00",
										"Index: 117<br>Position: 421.297 μm<br>Length: 3.601 μm<br>Kappa: -0.00",
										"Index: 118<br>Position: 424.898 μm<br>Length: 3.601 μm<br>Kappa: 0.00",
										"Index: 119<br>Position: 428.499 μm<br>Length: 3.601 μm<br>Kappa: -0.00",
										"Index: 120<br>Position: 432.100 μm<br>Length: 3.601 μm<br>Kappa: 0.00",
										"Index: 121<br>Position: 435.700 μm<br>Length: 3.601 μm<br>Kappa: -0.00",
										"Index: 122<br>Position: 439.301 μm<br>Length: 3.601 μm<br>Kappa: 0.00",
										"Index: 123<br>Position: 442.902 μm<br>Length: 3.601 μm<br>Kappa: -0.00",
										"Index: 124<br>Position: 446.503 μm<br>Length: 3.601 μm<br>Kappa: 0.00",
										"Index: 125<br>Position: 450.104 μm<br>Length: 3.601 μm<br>Kappa: -0.00",
										"Index: 126<br>Position: 453.705 μm<br>Length: 3.601 μm<br>Kappa: 0.00",
										"Index: 127<br>Position: 457.305 μm<br>Length: 3.601 μm<br>Kappa: -0.00",
										"Index: 128<br>Position: 460.906 μm<br>Length: 3.601 μm<br>Kappa: 0.00",
										"Index: 129<br>Position: 464.507 μm<br>Length: 3.601 μm<br>Kappa: -0.00",
										"Index: 130<br>Position: 468.108 μm<br>Length: 3.601 μm<br>Kappa: 0.00",
										"Index: 131<br>Position: 471.709 μm<br>Length: 3.601 μm<br>Kappa: -0.00",
										"Index: 132<br>Position: 475.310 μm<br>Length: 3.601 μm<br>Kappa: 0.00",
										"Index: 133<br>Position: 478.910 μm<br>Length: 3.601 μm<br>Kappa: -0.00",
										"Index: 134<br>Position: 482.511 μm<br>Length: 3.601 μm<br>Kappa: 0.00",
										"Index: 135<br>Position: 486.112 μm<br>Length: 3.601 μm<br>Kappa: -0.00",
										"Index: 136<br>Position: 489.713 μm<br>Length: 3.601 μm<br>Kappa: 0.00",
										"Index: 137<br>Position: 493.314 μm<br>Length: 3.601 μm<br>Kappa: -0.00",
										"Index: 138<br>Position: 496.915 μm<br>Length: 3.601 μm<br>Kappa: 0.00",
										"Index: 139<br>Position: 500.515 μm<br>Length: 3.601 μm<br>Kappa: -0.00",
										"Index: 140<br>Position: 504.116 μm<br>Length: 3.601 μm<br>Kappa: 0.00",
										"Index: 141<br>Position: 507.717 μm<br>Length: 3.601 μm<br>Kappa: -0.00",
										"Index: 142<br>Position: 511.318 μm<br>Length: 3.601 μm<br>Kappa: 0.00",
										"Index: 143<br>Position: 514.919 μm<br>Length: 3.601 μm<br>Kappa: -0.00",
										"Index: 144<br>Position: 518.519 μm<br>Length: 3.601 μm<br>Kappa: 0.00",
										"Index: 145<br>Position: 522.120 μm<br>Length: 3.601 μm<br>Kappa: -0.00",
										"Index: 146<br>Position: 525.721 μm<br>Length: 3.601 μm<br>Kappa: 0.00",
										"Index: 147<br>Position: 529.322 μm<br>Length: 3.601 μm<br>Kappa: -0.00",
										"Index: 148<br>Position: 532.923 μm<br>Length: 3.601 μm<br>Kappa: 0.00",
										"Index: 149<br>Position: 536.524 μm<br>Length: 3.601 μm<br>Kappa: -0.00",
										"Index: 150<br>Position: 540.124 μm<br>Length: 3.601 μm<br>Kappa: 0.00",
										"Index: 151<br>Position: 543.725 μm<br>Length: 3.601 μm<br>Kappa: -0.00",
										"Index: 152<br>Position: 547.326 μm<br>Length: 3.601 μm<br>Kappa: 0.00",
										"Index: 153<br>Position: 550.927 μm<br>Length: 3.601 μm<br>Kappa: -0.00",
										"Index: 154<br>Position: 554.528 μm<br>Length: 3.601 μm<br>Kappa: 0.00",
										"Index: 155<br>Position: 558.129 μm<br>Length: 3.601 μm<br>Kappa: -0.00",
										"Index: 156<br>Position: 561.729 μm<br>Length: 3.601 μm<br>Kappa: 0.00",
										"Index: 157<br>Position: 565.330 μm<br>Length: 3.601 μm<br>Kappa: -0.00",
										"Index: 158<br>Position: 568.931 μm<br>Length: 3.601 μm<br>Kappa: 0.00",
										"Index: 159<br>Position: 572.532 μm<br>Length: 3.601 μm<br>Kappa: -0.00",
										"Index: 160<br>Position: 576.133 μm<br>Length: 3.601 μm<br>Kappa: 0.00",
										"Index: 161<br>Position: 579.734 μm<br>Length: 3.601 μm<br>Kappa: -0.00",
										"Index: 162<br>Position: 583.334 μm<br>Length: 3.601 μm<br>Kappa: 0.00",
										"Index: 163<br>Position: 586.935 μm<br>Length: 3.601 μm<br>Kappa: -0.00",
										"Index: 164<br>Position: 590.536 μm<br>Length: 3.601 μm<br>Kappa: 0.00",
										"Index: 165<br>Position: 594.137 μm<br>Length: 3.601 μm<br>Kappa: -0.00",
										"Index: 166<br>Position: 597.738 μm<br>Length: 3.601 μm<br>Kappa: 0.00",
										"Index: 167<br>Position: 601.339 μm<br>Length: 3.601 μm<br>Kappa: -0.00",
										"Index: 168<br>Position: 604.939 μm<br>Length: 3.601 μm<br>Kappa: 0.00",
										"Index: 169<br>Position: 608.540 μm<br>Length: 3.601 μm<br>Kappa: -0.00",
										"Index: 170<br>Position: 612.141 μm<br>Length: 3.601 μm<br>Kappa: 0.00",
										"Index: 171<br>Position: 615.742 μm<br>Length: 3.601 μm<br>Kappa: -0.00",
										"Index: 172<br>Position: 619.343 μm<br>Length: 3.601 μm<br>Kappa: 0.00",
										"Index: 173<br>Position: 622.944 μm<br>Length: 3.601 μm<br>Kappa: -0.00",
										"Index: 174<br>Position: 626.544 μm<br>Length: 3.601 μm<br>Kappa: 0.00",
										"Index: 175<br>Position: 630.145 μm<br>Length: 3.601 μm<br>Kappa: -0.00",
										"Index: 176<br>Position: 633.746 μm<br>Length: 3.601 μm<br>Kappa: 0.00",
										"Index: 177<br>Position: 637.347 μm<br>Length: 3.601 μm<br>Kappa: -0.00",
										"Index: 178<br>Position: 640.948 μm<br>Length: 3.601 μm<br>Kappa: 0.00",
										"Index: 179<br>Position: 644.549 μm<br>Length: 3.601 μm<br>Kappa: -0.00",
										"Index: 180<br>Position: 648.149 μm<br>Length: 3.601 μm<br>Kappa: 0.00",
										"Index: 181<br>Position: 651.750 μm<br>Length: 3.601 μm<br>Kappa: -0.00",
										"Index: 182<br>Position: 655.351 μm<br>Length: 3.601 μm<br>Kappa: 0.00",
										"Index: 183<br>Position: 658.952 μm<br>Length: 3.601 μm<br>Kappa: -0.00",
										"Index: 184<br>Position: 662.553 μm<br>Length: 3.601 μm<br>Kappa: 0.00",
										"Index: 185<br>Position: 666.154 μm<br>Length: 3.601 μm<br>Kappa: -0.00",
										"Index: 186<br>Position: 669.754 μm<br>Length: 3.601 μm<br>Kappa: 0.00",
										"Index: 187<br>Position: 673.355 μm<br>Length: 3.601 μm<br>Kappa: -0.00",
										"Index: 188<br>Position: 676.956 μm<br>Length: 3.601 μm<br>Kappa: 0.00",
										"Index: 189<br>Position: 680.557 μm<br>Length: 3.601 μm<br>Kappa: -0.00",
										"Index: 190<br>Position: 684.158 μm<br>Length: 3.601 μm<br>Kappa: 0.00",
										"Index: 191<br>Position: 687.758 μm<br>Length: 3.601 μm<br>Kappa: -0.00",
										"Index: 192<br>Position: 691.359 μm<br>Length: 3.601 μm<br>Kappa: 0.00",
										"Index: 193<br>Position: 694.960 μm<br>Length: 3.601 μm<br>Kappa: -0.00",
										"Index: 194<br>Position: 698.561 μm<br>Length: 3.601 μm<br>Kappa: 0.00",
										"Index: 195<br>Position: 702.162 μm<br>Length: 3.601 μm<br>Kappa: -0.00",
										"Index: 196<br>Position: 705.763 μm<br>Length: 3.601 μm<br>Kappa: 0.00",
										"Index: 197<br>Position: 709.363 μm<br>Length: 3.601 μm<br>Kappa: -0.00",
										"Index: 198<br>Position: 712.964 μm<br>Length: 3.601 μm<br>Kappa: 0.00",
										"Index: 199<br>Position: 716.565 μm<br>Length: 3.601 μm<br>Kappa: -0.00",
										"Index: 200<br>Position: 720.166 μm<br>Length: 3.601 μm<br>Kappa: 0.00",
										"Index: 201<br>Position: 723.767 μm<br>Length: 3.601 μm<br>Kappa: -0.00",
										"Index: 202<br>Position: 727.368 μm<br>Length: 3.601 μm<br>Kappa: 0.00",
										"Index: 203<br>Position: 730.968 μm<br>Length: 3.601 μm<br>Kappa: -0.00",
										"Index: 204<br>Position: 734.569 μm<br>Length: 3.601 μm<br>Kappa: 0.00",
										"Index: 205<br>Position: 738.170 μm<br>Length: 3.601 μm<br>Kappa: -0.00",
										"Index: 206<br>Position: 741.771 μm<br>Length: 3.601 μm<br>Kappa: 0.00",
										"Index: 207<br>Position: 745.372 μm<br>Length: 3.601 μm<br>Kappa: -0.00",
										"Index: 208<br>Position: 748.973 μm<br>Length: 3.601 μm<br>Kappa: 0.00",
										"Index: 209<br>Position: 752.573 μm<br>Length: 3.601 μm<br>Kappa: -0.00",
										"Index: 210<br>Position: 756.174 μm<br>Length: 3.601 μm<br>Kappa: 0.00",
										"Index: 211<br>Position: 759.775 μm<br>Length: 3.601 μm<br>Kappa: -0.00",
										"Index: 212<br>Position: 763.376 μm<br>Length: 3.601 μm<br>Kappa: 0.00",
										"Index: 213<br>Position: 766.977 μm<br>Length: 3.601 μm<br>Kappa: -0.00",
										"Index: 214<br>Position: 770.578 μm<br>Length: 3.601 μm<br>Kappa: 0.00",
										"Index: 215<br>Position: 774.178 μm<br>Length: 3.601 μm<br>Kappa: -0.00",
										"Index: 216<br>Position: 777.779 μm<br>Length: 3.601 μm<br>Kappa: 0.00",
										"Index: 217<br>Position: 781.380 μm<br>Length: 3.601 μm<br>Kappa: -0.00",
										"Index: 218<br>Position: 784.981 μm<br>Length: 3.601 μm<br>Kappa: 0.00",
										"Index: 219<br>Position: 788.582 μm<br>Length: 3.601 μm<br>Kappa: -0.00",
										"Index: 220<br>Position: 792.183 μm<br>Length: 3.601 μm<br>Kappa: 0.00",
										"Index: 221<br>Position: 795.783 μm<br>Length: 3.601 μm<br>Kappa: -0.00",
										"Index: 222<br>Position: 799.384 μm<br>Length: 3.601 μm<br>Kappa: 0.00",
										"Index: 223<br>Position: 802.985 μm<br>Length: 3.601 μm<br>Kappa: -0.00",
										"Index: 224<br>Position: 806.586 μm<br>Length: 3.601 μm<br>Kappa: 0.00",
										"Index: 225<br>Position: 810.187 μm<br>Length: 3.601 μm<br>Kappa: -0.00",
										"Index: 226<br>Position: 813.788 μm<br>Length: 3.601 μm<br>Kappa: 0.00",
										"Index: 227<br>Position: 817.388 μm<br>Length: 3.601 μm<br>Kappa: -0.00",
										"Index: 228<br>Position: 820.989 μm<br>Length: 3.601 μm<br>Kappa: 0.00",
										"Index: 229<br>Position: 824.590 μm<br>Length: 3.601 μm<br>Kappa: -0.00",
										"Index: 230<br>Position: 828.191 μm<br>Length: 3.601 μm<br>Kappa: 0.00",
										"Index: 231<br>Position: 831.792 μm<br>Length: 3.601 μm<br>Kappa: -0.00",
										"Index: 232<br>Position: 835.393 μm<br>Length: 3.601 μm<br>Kappa: 0.00",
										"Index: 233<br>Position: 838.993 μm<br>Length: 3.601 μm<br>Kappa: -0.00",
										"Index: 234<br>Position: 842.594 μm<br>Length: 3.601 μm<br>Kappa: 0.00",
										"Index: 235<br>Position: 846.195 μm<br>Length: 3.601 μm<br>Kappa: -0.00",
										"Index: 236<br>Position: 849.796 μm<br>Length: 3.601 μm<br>Kappa: 0.00",
										"Index: 237<br>Position: 853.397 μm<br>Length: 3.601 μm<br>Kappa: -0.00",
										"Index: 238<br>Position: 856.997 μm<br>Length: 3.601 μm<br>Kappa: 0.00",
										"Index: 239<br>Position: 860.598 μm<br>Length: 3.601 μm<br>Kappa: -0.00",
										"Index: 240<br>Position: 864.199 μm<br>Length: 3.601 μm<br>Kappa: 0.00",
										"Index: 241<br>Position: 867.800 μm<br>Length: 3.601 μm<br>Kappa: -0.00",
										"Index: 242<br>Position: 871.401 μm<br>Length: 3.601 μm<br>Kappa: 0.00",
										"Index: 243<br>Position: 875.002 μm<br>Length: 3.601 μm<br>Kappa: -0.00",
										"Index: 244<br>Position: 878.602 μm<br>Length: 3.601 μm<br>Kappa: 0.00",
										"Index: 245<br>Position: 882.203 μm<br>Length: 3.601 μm<br>Kappa: -0.00",
										"Index: 246<br>Position: 885.804 μm<br>Length: 3.601 μm<br>Kappa: 0.00",
										"Index: 247<br>Position: 889.405 μm<br>Length: 3.601 μm<br>Kappa: -0.00",
										"Index: 248<br>Position: 893.006 μm<br>Length: 3.601 μm<br>Kappa: 0.00",
										"Index: 249<br>Position: 896.607 μm<br>Length: 3.601 μm<br>Kappa: -0.00",
										"Index: 250<br>Position: 900.207 μm<br>Length: 3.601 μm<br>Kappa: 0.00",
										"Index: 251<br>Position: 903.808 μm<br>Length: 3.601 μm<br>Kappa: -0.00",
										"Index: 252<br>Position: 907.409 μm<br>Length: 3.601 μm<br>Kappa: 0.00",
										"Index: 253<br>Position: 911.010 μm<br>Length: 3.601 μm<br>Kappa: -0.00",
										"Index: 254<br>Position: 914.611 μm<br>Length: 3.601 μm<br>Kappa: 0.00",
										"Index: 255<br>Position: 918.212 μm<br>Length: 3.601 μm<br>Kappa: -0.00",
										"Index: 256<br>Position: 921.812 μm<br>Length: 3.601 μm<br>Kappa: 0.00",
										"Index: 257<br>Position: 925.413 μm<br>Length: 3.601 μm<br>Kappa: -0.00",
										"Index: 258<br>Position: 929.014 μm<br>Length: 3.601 μm<br>Kappa: 0.00",
										"Index: 259<br>Position: 932.615 μm<br>Length: 3.601 μm<br>Kappa: -0.00",
										"Index: 260<br>Position: 936.216 μm<br>Length: 3.601 μm<br>Kappa: 0.00",
										"Index: 261<br>Position: 939.817 μm<br>Length: 3.601 μm<br>Kappa: -0.00",
										"Index: 262<br>Position: 943.417 μm<br>Length: 3.601 μm<br>Kappa: 0.00",
										"Index: 263<br>Position: 947.018 μm<br>Length: 3.601 μm<br>Kappa: -0.00",
										"Index: 264<br>Position: 950.619 μm<br>Length: 3.601 μm<br>Kappa: 0.00",
										"Index: 265<br>Position: 954.220 μm<br>Length: 3.601 μm<br>Kappa: -0.00",
										"Index: 266<br>Position: 957.821 μm<br>Length: 3.601 μm<br>Kappa: 0.00",
										"Index: 267<br>Position: 961.422 μm<br>Length: 3.601 μm<br>Kappa: -0.00",
										"Index: 268<br>Position: 965.022 μm<br>Length: 3.601 μm<br>Kappa: 0.00",
										"Index: 269<br>Position: 968.623 μm<br>Length: 3.601 μm<br>Kappa: -0.00",
										"Index: 270<br>Position: 972.224 μm<br>Length: 3.601 μm<br>Kappa: 0.00",
										"Index: 271<br>Position: 975.825 μm<br>Length: 3.601 μm<br>Kappa: -0.00",
										"Index: 272<br>Position: 979.426 μm<br>Length: 3.601 μm<br>Kappa: 0.00",
										"Index: 273<br>Position: 983.027 μm<br>Length: 3.601 μm<br>Kappa: -0.00",
										"Index: 274<br>Position: 986.627 μm<br>Length: 3.601 μm<br>Kappa: 0.00",
										"Index: 275<br>Position: 990.228 μm<br>Length: 3.601 μm<br>Kappa: -0.00",
										"Index: 276<br>Position: 993.829 μm<br>Length: 3.601 μm<br>Kappa: 0.00",
										"Index: 277<br>Position: 997.430 μm<br>Length: 3.601 μm<br>Kappa: -0.00",
										"Index: 278<br>Position: 1001.031 μm<br>Length: 3.601 μm<br>Kappa: 0.00",
										"Index: 279<br>Position: 1004.632 μm<br>Length: 3.601 μm<br>Kappa: -0.00",
										"Index: 280<br>Position: 1008.232 μm<br>Length: 3.601 μm<br>Kappa: 0.00",
										"Index: 281<br>Position: 1011.833 μm<br>Length: 3.601 μm<br>Kappa: -0.00",
										"Index: 282<br>Position: 1015.434 μm<br>Length: 3.601 μm<br>Kappa: 0.00",
										"Index: 283<br>Position: 1019.035 μm<br>Length: 3.601 μm<br>Kappa: -0.00",
										"Index: 284<br>Position: 1022.636 μm<br>Length: 3.601 μm<br>Kappa: 0.00",
										"Index: 285<br>Position: 1026.236 μm<br>Length: 3.601 μm<br>Kappa: -0.00",
										"Index: 286<br>Position: 1029.837 μm<br>Length: 3.601 μm<br>Kappa: 0.00",
										"Index: 287<br>Position: 1033.438 μm<br>Length: 3.601 μm<br>Kappa: -0.00",
										"Index: 288<br>Position: 1037.039 μm<br>Length: 3.601 μm<br>Kappa: 0.00",
										"Index: 289<br>Position: 1040.640 μm<br>Length: 3.601 μm<br>Kappa: -0.00",
										"Index: 290<br>Position: 1044.241 μm<br>Length: 3.601 μm<br>Kappa: 0.00",
										"Index: 291<br>Position: 1047.841 μm<br>Length: 3.601 μm<br>Kappa: -0.00",
										"Index: 292<br>Position: 1051.442 μm<br>Length: 3.601 μm<br>Kappa: 0.00",
										"Index: 293<br>Position: 1055.043 μm<br>Length: 3.601 μm<br>Kappa: -0.00",
										"Index: 294<br>Position: 1058.644 μm<br>Length: 3.601 μm<br>Kappa: 0.00",
										"Index: 295<br>Position: 1062.245 μm<br>Length: 3.601 μm<br>Kappa: -0.00",
										"Index: 296<br>Position: 1065.846 μm<br>Length: 3.601 μm<br>Kappa: 0.00",
										"Index: 297<br>Position: 1069.446 μm<br>Length: 3.601 μm<br>Kappa: -0.00",
										"Index: 298<br>Position: 1073.047 μm<br>Length: 3.601 μm<br>Kappa: 0.00",
										"Index: 299<br>Position: 1076.648 μm<br>Length: 3.601 μm<br>Kappa: -0.00",
										"Index: 300<br>Position: 1080.249 μm<br>Length: 3.601 μm<br>Kappa: 0.00",
										"Index: 301<br>Position: 1083.850 μm<br>Length: 3.601 μm<br>Kappa: -0.00",
										"Index: 302<br>Position: 1087.451 μm<br>Length: 3.601 μm<br>Kappa: 0.00",
										"Index: 303<br>Position: 1091.051 μm<br>Length: 3.601 μm<br>Kappa: -0.00",
										"Index: 304<br>Position: 1094.652 μm<br>Length: 3.601 μm<br>Kappa: 0.00",
										"Index: 305<br>Position: 1098.253 μm<br>Length: 3.601 μm<br>Kappa: -0.00",
										"Index: 306<br>Position: 1101.854 μm<br>Length: 3.601 μm<br>Kappa: 0.00",
										"Index: 307<br>Position: 1105.455 μm<br>Length: 3.601 μm<br>Kappa: -0.00",
										"Index: 308<br>Position: 1109.056 μm<br>Length: 3.601 μm<br>Kappa: 0.00",
										"Index: 309<br>Position: 1112.656 μm<br>Length: 3.601 μm<br>Kappa: -0.00",
										"Index: 310<br>Position: 1116.257 μm<br>Length: 3.601 μm<br>Kappa: 0.00",
										"Index: 311<br>Position: 1119.858 μm<br>Length: 3.601 μm<br>Kappa: -0.00",
										"Index: 312<br>Position: 1123.459 μm<br>Length: 3.601 μm<br>Kappa: 0.00",
										"Index: 313<br>Position: 1127.060 μm<br>Length: 3.601 μm<br>Kappa: -0.00",
										"Index: 314<br>Position: 1130.661 μm<br>Length: 3.601 μm<br>Kappa: 0.00",
										"Index: 315<br>Position: 1134.261 μm<br>Length: 3.601 μm<br>Kappa: -0.00",
										"Index: 316<br>Position: 1137.862 μm<br>Length: 3.601 μm<br>Kappa: 0.00",
										"Index: 317<br>Position: 1141.463 μm<br>Length: 3.601 μm<br>Kappa: -0.00",
										"Index: 318<br>Position: 1145.064 μm<br>Length: 3.601 μm<br>Kappa: 0.00",
										"Index: 319<br>Position: 1148.665 μm<br>Length: 3.601 μm<br>Kappa: -0.00",
										"Index: 320<br>Position: 1152.266 μm<br>Length: 3.601 μm<br>Kappa: 0.00",
										"Index: 321<br>Position: 1155.866 μm<br>Length: 3.601 μm<br>Kappa: -0.00",
										"Index: 322<br>Position: 1159.467 μm<br>Length: 3.601 μm<br>Kappa: 0.00",
										"Index: 323<br>Position: 1163.068 μm<br>Length: 3.601 μm<br>Kappa: -0.00",
										"Index: 324<br>Position: 1166.669 μm<br>Length: 3.601 μm<br>Kappa: 0.00",
										"Index: 325<br>Position: 1170.270 μm<br>Length: 3.601 μm<br>Kappa: -0.00",
										"Index: 326<br>Position: 1173.870 μm<br>Length: 3.601 μm<br>Kappa: 0.00",
										"Index: 327<br>Position: 1177.471 μm<br>Length: 3.601 μm<br>Kappa: -0.00",
										"Index: 328<br>Position: 1181.072 μm<br>Length: 3.601 μm<br>Kappa: 0.00",
										"Index: 329<br>Position: 1184.673 μm<br>Length: 3.601 μm<br>Kappa: -0.00",
										"Index: 330<br>Position: 1188.274 μm<br>Length: 3.601 μm<br>Kappa: 0.00",
										"Index: 331<br>Position: 1191.875 μm<br>Length: 3.601 μm<br>Kappa: -0.00",
										"Index: 332<br>Position: 1195.475 μm<br>Length: 3.601 μm<br>Kappa: 0.00",
										"Index: 333<br>Position: 1199.076 μm<br>Length: 3.601 μm<br>Kappa: -0.00",
										"Index: 334<br>Position: 1202.677 μm<br>Length: 3.601 μm<br>Kappa: 0.00",
										"Index: 335<br>Position: 1206.278 μm<br>Length: 3.601 μm<br>Kappa: -0.00",
										"Index: 336<br>Position: 1209.879 μm<br>Length: 3.601 μm<br>Kappa: 0.00",
										"Index: 337<br>Position: 1213.480 μm<br>Length: 3.601 μm<br>Kappa: -0.00",
										"Index: 338<br>Position: 1217.080 μm<br>Length: 3.601 μm<br>Kappa: 0.00",
										"Index: 339<br>Position: 1220.681 μm<br>Length: 3.601 μm<br>Kappa: -0.00",
										"Index: 340<br>Position: 1224.282 μm<br>Length: 3.601 μm<br>Kappa: 0.00",
										"Index: 341<br>Position: 1227.883 μm<br>Length: 3.601 μm<br>Kappa: -0.00",
										"Index: 342<br>Position: 1231.484 μm<br>Length: 3.601 μm<br>Kappa: 0.00",
										"Index: 343<br>Position: 1235.085 μm<br>Length: 3.601 μm<br>Kappa: -0.00",
										"Index: 344<br>Position: 1238.685 μm<br>Length: 3.601 μm<br>Kappa: 0.00",
										"Index: 345<br>Position: 1242.286 μm<br>Length: 3.601 μm<br>Kappa: -0.00",
										"Index: 346<br>Position: 1245.887 μm<br>Length: 3.601 μm<br>Kappa: 0.00",
										"Index: 347<br>Position: 1249.488 μm<br>Length: 3.601 μm<br>Kappa: -0.00",
										"Index: 348<br>Position: 1253.089 μm<br>Length: 3.601 μm<br>Kappa: 0.00",
										"Index: 349<br>Position: 1256.690 μm<br>Length: 3.601 μm<br>Kappa: -0.00",
										"Index: 350<br>Position: 1260.290 μm<br>Length: 3.601 μm<br>Kappa: 0.00",
										"Index: 351<br>Position: 1263.891 μm<br>Length: 3.601 μm<br>Kappa: -0.00",
										"Index: 352<br>Position: 1267.492 μm<br>Length: 3.601 μm<br>Kappa: 0.00",
										"Index: 353<br>Position: 1271.093 μm<br>Length: 3.601 μm<br>Kappa: -0.00",
										"Index: 354<br>Position: 1274.694 μm<br>Length: 3.601 μm<br>Kappa: 0.00",
										"Index: 355<br>Position: 1278.295 μm<br>Length: 3.601 μm<br>Kappa: -0.00",
										"Index: 356<br>Position: 1281.895 μm<br>Length: 3.601 μm<br>Kappa: 0.00",
										"Index: 357<br>Position: 1285.496 μm<br>Length: 3.601 μm<br>Kappa: -0.00",
										"Index: 358<br>Position: 1289.097 μm<br>Length: 3.601 μm<br>Kappa: 0.00",
										"Index: 359<br>Position: 1292.698 μm<br>Length: 3.601 μm<br>Kappa: -0.00",
										"Index: 360<br>Position: 1296.299 μm<br>Length: 3.601 μm<br>Kappa: 0.00",
										"Index: 361<br>Position: 1299.900 μm<br>Length: 3.601 μm<br>Kappa: -0.00",
										"Index: 362<br>Position: 1303.500 μm<br>Length: 3.601 μm<br>Kappa: 0.00",
										"Index: 363<br>Position: 1307.101 μm<br>Length: 3.601 μm<br>Kappa: -0.00",
										"Index: 364<br>Position: 1310.702 μm<br>Length: 3.601 μm<br>Kappa: 0.00",
										"Index: 365<br>Position: 1314.303 μm<br>Length: 3.601 μm<br>Kappa: -0.00",
										"Index: 366<br>Position: 1317.904 μm<br>Length: 3.601 μm<br>Kappa: 0.00",
										"Index: 367<br>Position: 1321.505 μm<br>Length: 3.601 μm<br>Kappa: -0.00",
										"Index: 368<br>Position: 1325.105 μm<br>Length: 3.601 μm<br>Kappa: 0.00",
										"Index: 369<br>Position: 1328.706 μm<br>Length: 3.601 μm<br>Kappa: -0.00",
										"Index: 370<br>Position: 1332.307 μm<br>Length: 3.601 μm<br>Kappa: 0.00",
										"Index: 371<br>Position: 1335.908 μm<br>Length: 3.601 μm<br>Kappa: -0.00",
										"Index: 372<br>Position: 1339.509 μm<br>Length: 3.601 μm<br>Kappa: 0.00",
										"Index: 373<br>Position: 1343.109 μm<br>Length: 3.601 μm<br>Kappa: -0.00",
										"Index: 374<br>Position: 1346.710 μm<br>Length: 3.601 μm<br>Kappa: 0.00",
										"Index: 375<br>Position: 1350.311 μm<br>Length: 3.601 μm<br>Kappa: -0.00",
										"Index: 376<br>Position: 1353.912 μm<br>Length: 3.601 μm<br>Kappa: 0.00",
										"Index: 377<br>Position: 1357.513 μm<br>Length: 3.601 μm<br>Kappa: -0.00",
										"Index: 378<br>Position: 1361.114 μm<br>Length: 3.601 μm<br>Kappa: 0.00",
										"Index: 379<br>Position: 1364.714 μm<br>Length: 3.601 μm<br>Kappa: -0.00",
										"Index: 380<br>Position: 1368.315 μm<br>Length: 3.601 μm<br>Kappa: 0.00",
										"Index: 381<br>Position: 1371.916 μm<br>Length: 3.601 μm<br>Kappa: -0.00",
										"Index: 382<br>Position: 1375.517 μm<br>Length: 3.601 μm<br>Kappa: 0.00",
										"Index: 383<br>Position: 1379.118 μm<br>Length: 3.601 μm<br>Kappa: -0.00",
										"Index: 384<br>Position: 1382.719 μm<br>Length: 3.601 μm<br>Kappa: 0.00",
										"Index: 385<br>Position: 1386.319 μm<br>Length: 3.601 μm<br>Kappa: -0.00",
										"Index: 386<br>Position: 1389.920 μm<br>Length: 3.601 μm<br>Kappa: 0.00",
										"Index: 387<br>Position: 1393.521 μm<br>Length: 3.601 μm<br>Kappa: -0.00",
										"Index: 388<br>Position: 1397.122 μm<br>Length: 3.601 μm<br>Kappa: 0.00",
										"Index: 389<br>Position: 1400.723 μm<br>Length: 3.601 μm<br>Kappa: -0.00",
										"Index: 390<br>Position: 1404.324 μm<br>Length: 3.601 μm<br>Kappa: 0.00",
										"Index: 391<br>Position: 1407.924 μm<br>Length: 3.601 μm<br>Kappa: -0.00",
										"Index: 392<br>Position: 1411.525 μm<br>Length: 3.601 μm<br>Kappa: 0.00",
										"Index: 393<br>Position: 1415.126 μm<br>Length: 3.601 μm<br>Kappa: -0.00",
										"Index: 394<br>Position: 1418.727 μm<br>Length: 3.601 μm<br>Kappa: 0.00",
										"Index: 395<br>Position: 1422.328 μm<br>Length: 3.601 μm<br>Kappa: -0.00",
										"Index: 396<br>Position: 1425.929 μm<br>Length: 3.601 μm<br>Kappa: 0.00",
										"Index: 397<br>Position: 1429.529 μm<br>Length: 3.601 μm<br>Kappa: -0.00",
										"Index: 398<br>Position: 1433.130 μm<br>Length: 3.601 μm<br>Kappa: 0.00",
										"Index: 399<br>Position: 1436.731 μm<br>Length: 3.601 μm<br>Kappa: -0.00",
										"Index: 400<br>Position: 1440.332 μm<br>Length: 3.601 μm<br>Kappa: 0.00",
										"Index: 401<br>Position: 1443.933 μm<br>Length: 3.601 μm<br>Kappa: -0.00",
										"Index: 402<br>Position: 1447.534 μm<br>Length: 3.601 μm<br>Kappa: 0.00",
										"Index: 403<br>Position: 1451.134 μm<br>Length: 3.601 μm<br>Kappa: -0.00",
										"Index: 404<br>Position: 1454.735 μm<br>Length: 3.601 μm<br>Kappa: 0.00",
										"Index: 405<br>Position: 1458.336 μm<br>Length: 3.601 μm<br>Kappa: -0.00",
										"Index: 406<br>Position: 1461.937 μm<br>Length: 3.601 μm<br>Kappa: 0.00",
										"Index: 407<br>Position: 1465.538 μm<br>Length: 3.601 μm<br>Kappa: -0.00",
										"Index: 408<br>Position: 1469.139 μm<br>Length: 3.601 μm<br>Kappa: 0.00",
										"Index: 409<br>Position: 1472.739 μm<br>Length: 3.601 μm<br>Kappa: -0.00",
										"Index: 410<br>Position: 1476.340 μm<br>Length: 3.601 μm<br>Kappa: 0.00",
										"Index: 411<br>Position: 1479.941 μm<br>Length: 3.601 μm<br>Kappa: -0.00",
										"Index: 412<br>Position: 1483.542 μm<br>Length: 3.601 μm<br>Kappa: 0.00",
										"Index: 413<br>Position: 1487.143 μm<br>Length: 3.601 μm<br>Kappa: -0.00",
										"Index: 414<br>Position: 1490.744 μm<br>Length: 3.601 μm<br>Kappa: 0.00",
										"Index: 415<br>Position: 1494.344 μm<br>Length: 3.601 μm<br>Kappa: -0.00",
										"Index: 416<br>Position: 1497.945 μm<br>Length: 3.601 μm<br>Kappa: 0.00",
										"Index: 417<br>Position: 1501.546 μm<br>Length: 3.601 μm<br>Kappa: -0.00",
										"Index: 418<br>Position: 1505.147 μm<br>Length: 3.601 μm<br>Kappa: 0.00",
										"Index: 419<br>Position: 1508.748 μm<br>Length: 3.601 μm<br>Kappa: -0.00",
										"Index: 420<br>Position: 1512.349 μm<br>Length: 3.601 μm<br>Kappa: 0.00",
										"Index: 421<br>Position: 1515.949 μm<br>Length: 3.601 μm<br>Kappa: -0.00",
										"Index: 422<br>Position: 1519.550 μm<br>Length: 3.601 μm<br>Kappa: 0.00",
										"Index: 423<br>Position: 1523.151 μm<br>Length: 3.601 μm<br>Kappa: -0.00",
										"Index: 424<br>Position: 1526.752 μm<br>Length: 3.601 μm<br>Kappa: 0.00",
										"Index: 425<br>Position: 1530.353 μm<br>Length: 3.601 μm<br>Kappa: -0.00",
										"Index: 426<br>Position: 1533.953 μm<br>Length: 3.601 μm<br>Kappa: 0.00",
										"Index: 427<br>Position: 1537.554 μm<br>Length: 3.601 μm<br>Kappa: -0.00",
										"Index: 428<br>Position: 1541.155 μm<br>Length: 3.601 μm<br>Kappa: 0.00",
										"Index: 429<br>Position: 1544.756 μm<br>Length: 3.601 μm<br>Kappa: -0.00",
										"Index: 430<br>Position: 1548.357 μm<br>Length: 3.601 μm<br>Kappa: 0.00",
										"Index: 431<br>Position: 1551.958 μm<br>Length: 3.601 μm<br>Kappa: -0.00",
										"Index: 432<br>Position: 1555.558 μm<br>Length: 3.601 μm<br>Kappa: 0.00",
										"Index: 433<br>Position: 1559.159 μm<br>Length: 3.601 μm<br>Kappa: -0.00",
										"Index: 434<br>Position: 1562.760 μm<br>Length: 3.601 μm<br>Kappa: 0.00",
										"Index: 435<br>Position: 1566.361 μm<br>Length: 3.601 μm<br>Kappa: -0.00",
										"Index: 436<br>Position: 1569.962 μm<br>Length: 3.601 μm<br>Kappa: 0.00",
										"Index: 437<br>Position: 1573.563 μm<br>Length: 3.601 μm<br>Kappa: -0.00",
										"Index: 438<br>Position: 1577.163 μm<br>Length: 3.601 μm<br>Kappa: 0.00",
										"Index: 439<br>Position: 1580.764 μm<br>Length: 3.601 μm<br>Kappa: -0.00",
										"Index: 440<br>Position: 1584.365 μm<br>Length: 3.601 μm<br>Kappa: 0.00",
										"Index: 441<br>Position: 1587.966 μm<br>Length: 3.601 μm<br>Kappa: -0.00",
										"Index: 442<br>Position: 1591.567 μm<br>Length: 3.601 μm<br>Kappa: 0.00",
										"Index: 443<br>Position: 1595.168 μm<br>Length: 3.601 μm<br>Kappa: -0.00",
										"Index: 444<br>Position: 1598.768 μm<br>Length: 3.601 μm<br>Kappa: 0.00",
										"Index: 445<br>Position: 1602.369 μm<br>Length: 3.601 μm<br>Kappa: -0.00",
										"Index: 446<br>Position: 1605.970 μm<br>Length: 3.601 μm<br>Kappa: 0.00",
										"Index: 447<br>Position: 1609.571 μm<br>Length: 3.601 μm<br>Kappa: -0.00",
										"Index: 448<br>Position: 1613.172 μm<br>Length: 3.601 μm<br>Kappa: 0.00",
										"Index: 449<br>Position: 1616.773 μm<br>Length: 3.601 μm<br>Kappa: -0.00",
										"Index: 450<br>Position: 1620.373 μm<br>Length: 3.601 μm<br>Kappa: 0.00",
										"Index: 451<br>Position: 1623.974 μm<br>Length: 3.601 μm<br>Kappa: -0.00",
										"Index: 452<br>Position: 1627.575 μm<br>Length: 3.601 μm<br>Kappa: 0.00",
										"Index: 453<br>Position: 1631.176 μm<br>Length: 3.601 μm<br>Kappa: -0.00",
										"Index: 454<br>Position: 1634.777 μm<br>Length: 3.601 μm<br>Kappa: 0.00",
										"Index: 455<br>Position: 1638.378 μm<br>Length: 3.601 μm<br>Kappa: -0.00",
										"Index: 456<br>Position: 1641.978 μm<br>Length: 3.601 μm<br>Kappa: 0.00",
										"Index: 457<br>Position: 1645.579 μm<br>Length: 3.601 μm<br>Kappa: -0.00",
										"Index: 458<br>Position: 1649.180 μm<br>Length: 3.601 μm<br>Kappa: 0.00",
										"Index: 459<br>Position: 1652.781 μm<br>Length: 3.601 μm<br>Kappa: -0.00",
										"Index: 460<br>Position: 1656.382 μm<br>Length: 3.601 μm<br>Kappa: 0.00",
										"Index: 461<br>Position: 1659.983 μm<br>Length: 3.601 μm<br>Kappa: -0.00",
										"Index: 462<br>Position: 1663.583 μm<br>Length: 3.601 μm<br>Kappa: 0.00",
										"Index: 463<br>Position: 1667.184 μm<br>Length: 3.601 μm<br>Kappa: -0.00",
										"Index: 464<br>Position: 1670.785 μm<br>Length: 3.601 μm<br>Kappa: 0.00",
										"Index: 465<br>Position: 1674.386 μm<br>Length: 3.601 μm<br>Kappa: -0.00",
										"Index: 466<br>Position: 1677.987 μm<br>Length: 3.601 μm<br>Kappa: 0.00",
										"Index: 467<br>Position: 1681.588 μm<br>Length: 3.601 μm<br>Kappa: -0.00",
										"Index: 468<br>Position: 1685.188 μm<br>Length: 3.601 μm<br>Kappa: 0.00",
										"Index: 469<br>Position: 1688.789 μm<br>Length: 3.601 μm<br>Kappa: -0.00",
										"Index: 470<br>Position: 1692.390 μm<br>Length: 3.601 μm<br>Kappa: 0.00",
										"Index: 471<br>Position: 1695.991 μm<br>Length: 3.601 μm<br>Kappa: -0.00",
										"Index: 472<br>Position: 1699.592 μm<br>Length: 3.601 μm<br>Kappa: 0.00",
										"Index: 473<br>Position: 1703.193 μm<br>Length: 3.601 μm<br>Kappa: -0.00",
										"Index: 474<br>Position: 1706.793 μm<br>Length: 3.601 μm<br>Kappa: 0.00",
										"Index: 475<br>Position: 1710.394 μm<br>Length: 3.601 μm<br>Kappa: -0.00",
										"Index: 476<br>Position: 1713.995 μm<br>Length: 3.601 μm<br>Kappa: 0.00",
										"Index: 477<br>Position: 1717.596 μm<br>Length: 3.601 μm<br>Kappa: -0.00",
										"Index: 478<br>Position: 1721.197 μm<br>Length: 3.601 μm<br>Kappa: 0.00",
										"Index: 479<br>Position: 1724.797 μm<br>Length: 3.601 μm<br>Kappa: -0.00",
										"Index: 480<br>Position: 1728.398 μm<br>Length: 3.601 μm<br>Kappa: 0.00",
										"Index: 481<br>Position: 1731.999 μm<br>Length: 3.601 μm<br>Kappa: -0.00",
										"Index: 482<br>Position: 1735.600 μm<br>Length: 3.601 μm<br>Kappa: 0.00",
										"Index: 483<br>Position: 1739.201 μm<br>Length: 3.601 μm<br>Kappa: -0.00",
										"Index: 484<br>Position: 1742.802 μm<br>Length: 3.601 μm<br>Kappa: 0.00",
										"Index: 485<br>Position: 1746.402 μm<br>Length: 3.601 μm<br>Kappa: -0.00",
										"Index: 486<br>Position: 1750.003 μm<br>Length: 3.601 μm<br>Kappa: 0.00",
										"Index: 487<br>Position: 1753.604 μm<br>Length: 3.601 μm<br>Kappa: -0.00",
										"Index: 488<br>Position: 1757.205 μm<br>Length: 3.601 μm<br>Kappa: 0.00",
										"Index: 489<br>Position: 1760.806 μm<br>Length: 3.601 μm<br>Kappa: -0.00",
										"Index: 490<br>Position: 1764.407 μm<br>Length: 3.601 μm<br>Kappa: 0.00",
										"Index: 491<br>Position: 1768.007 μm<br>Length: 3.601 μm<br>Kappa: -0.00",
										"Index: 492<br>Position: 1771.608 μm<br>Length: 3.601 μm<br>Kappa: 0.00",
										"Index: 493<br>Position: 1775.209 μm<br>Length: 3.601 μm<br>Kappa: -0.00",
										"Index: 494<br>Position: 1778.810 μm<br>Length: 3.601 μm<br>Kappa: 0.00",
										"Index: 495<br>Position: 1782.411 μm<br>Length: 3.601 μm<br>Kappa: -0.00",
										"Index: 496<br>Position: 1786.012 μm<br>Length: 3.601 μm<br>Kappa: 0.00",
										"Index: 497<br>Position: 1789.612 μm<br>Length: 3.601 μm<br>Kappa: -0.00",
										"Index: 498<br>Position: 1793.213 μm<br>Length: 3.601 μm<br>Kappa: 0.00",
										"Index: 499<br>Position: 1796.814 μm<br>Length: 3.601 μm<br>Kappa: -0.00",
										"Index: 500<br>Position: 1800.415 μm<br>Length: 3.601 μm<br>Kappa: 0.00",
										"Index: 501<br>Position: 1804.016 μm<br>Length: 3.601 μm<br>Kappa: -0.00",
										"Index: 502<br>Position: 1807.617 μm<br>Length: 3.601 μm<br>Kappa: 0.00",
										"Index: 503<br>Position: 1811.217 μm<br>Length: 3.601 μm<br>Kappa: -0.00",
										"Index: 504<br>Position: 1814.818 μm<br>Length: 3.601 μm<br>Kappa: 0.00",
										"Index: 505<br>Position: 1818.419 μm<br>Length: 3.601 μm<br>Kappa: -0.00",
										"Index: 506<br>Position: 1822.020 μm<br>Length: 3.601 μm<br>Kappa: 0.00",
										"Index: 507<br>Position: 1825.621 μm<br>Length: 3.601 μm<br>Kappa: -0.00",
										"Index: 508<br>Position: 1829.222 μm<br>Length: 3.601 μm<br>Kappa: 0.00",
										"Index: 509<br>Position: 1832.822 μm<br>Length: 3.601 μm<br>Kappa: -0.00",
										"Index: 510<br>Position: 1836.423 μm<br>Length: 3.601 μm<br>Kappa: 0.00",
										"Index: 511<br>Position: 1840.024 μm<br>Length: 3.601 μm<br>Kappa: -0.00",
										"Index: 512<br>Position: 1843.625 μm<br>Length: 3.601 μm<br>Kappa: 0.00",
										"Index: 513<br>Position: 1847.226 μm<br>Length: 3.601 μm<br>Kappa: -0.00",
										"Index: 514<br>Position: 1850.827 μm<br>Length: 3.601 μm<br>Kappa: 0.00",
										"Index: 515<br>Position: 1854.427 μm<br>Length: 3.601 μm<br>Kappa: -0.00",
										"Index: 516<br>Position: 1858.028 μm<br>Length: 3.601 μm<br>Kappa: 0.00",
										"Index: 517<br>Position: 1861.629 μm<br>Length: 3.601 μm<br>Kappa: -0.00",
										"Index: 518<br>Position: 1865.230 μm<br>Length: 3.601 μm<br>Kappa: 0.00",
										"Index: 519<br>Position: 1868.831 μm<br>Length: 3.601 μm<br>Kappa: -0.00",
										"Index: 520<br>Position: 1872.432 μm<br>Length: 3.601 μm<br>Kappa: 0.00",
										"Index: 521<br>Position: 1876.032 μm<br>Length: 3.601 μm<br>Kappa: -0.00",
										"Index: 522<br>Position: 1879.633 μm<br>Length: 3.601 μm<br>Kappa: 0.00",
										"Index: 523<br>Position: 1883.234 μm<br>Length: 3.601 μm<br>Kappa: -0.00",
										"Index: 524<br>Position: 1886.835 μm<br>Length: 3.601 μm<br>Kappa: 0.00",
										"Index: 525<br>Position: 1890.436 μm<br>Length: 3.601 μm<br>Kappa: -0.00",
										"Index: 526<br>Position: 1894.036 μm<br>Length: 3.601 μm<br>Kappa: 0.00",
										"Index: 527<br>Position: 1897.637 μm<br>Length: 3.601 μm<br>Kappa: -0.00",
										"Index: 528<br>Position: 1901.238 μm<br>Length: 3.601 μm<br>Kappa: 0.00",
										"Index: 529<br>Position: 1904.839 μm<br>Length: 3.601 μm<br>Kappa: -0.00",
										"Index: 530<br>Position: 1908.440 μm<br>Length: 3.601 μm<br>Kappa: 0.00",
										"Index: 531<br>Position: 1912.041 μm<br>Length: 3.601 μm<br>Kappa: -0.00",
										"Index: 532<br>Position: 1915.641 μm<br>Length: 3.601 μm<br>Kappa: 0.00",
										"Index: 533<br>Position: 1919.242 μm<br>Length: 3.601 μm<br>Kappa: -0.00",
										"Index: 534<br>Position: 1922.843 μm<br>Length: 3.601 μm<br>Kappa: 0.00",
										"Index: 535<br>Position: 1926.444 μm<br>Length: 3.601 μm<br>Kappa: -0.00",
										"Index: 536<br>Position: 1930.045 μm<br>Length: 3.601 μm<br>Kappa: 0.00",
										"Index: 537<br>Position: 1933.646 μm<br>Length: 3.601 μm<br>Kappa: -0.00",
										"Index: 538<br>Position: 1937.246 μm<br>Length: 3.601 μm<br>Kappa: 0.00",
										"Index: 539<br>Position: 1940.847 μm<br>Length: 3.601 μm<br>Kappa: -0.00",
										"Index: 540<br>Position: 1944.448 μm<br>Length: 3.601 μm<br>Kappa: 0.00",
										"Index: 541<br>Position: 1948.049 μm<br>Length: 3.601 μm<br>Kappa: -0.00",
										"Index: 542<br>Position: 1951.650 μm<br>Length: 3.601 μm<br>Kappa: 0.00",
										"Index: 543<br>Position: 1955.251 μm<br>Length: 3.601 μm<br>Kappa: -0.00",
										"Index: 544<br>Position: 1958.851 μm<br>Length: 3.601 μm<br>Kappa: 0.00",
										"Index: 545<br>Position: 1962.452 μm<br>Length: 3.601 μm<br>Kappa: -0.00",
										"Index: 546<br>Position: 1966.053 μm<br>Length: 3.601 μm<br>Kappa: 0.00",
										"Index: 547<br>Position: 1969.654 μm<br>Length: 3.601 μm<br>Kappa: -0.00",
										"Index: 548<br>Position: 1973.255 μm<br>Length: 3.601 μm<br>Kappa: 0.00",
										"Index: 549<br>Position: 1976.856 μm<br>Length: 3.601 μm<br>Kappa: -0.00",
										"Index: 550<br>Position: 1980.456 μm<br>Length: 3.601 μm<br>Kappa: 0.00",
										"Index: 551<br>Position: 1984.057 μm<br>Length: 3.601 μm<br>Kappa: -0.00",
										"Index: 552<br>Position: 1987.658 μm<br>Length: 3.601 μm<br>Kappa: 0.00",
										"Index: 553<br>Position: 1991.259 μm<br>Length: 3.601 μm<br>Kappa: -0.00",
										"Index: 554<br>Position: 1994.860 μm<br>Length: 3.601 μm<br>Kappa: 0.00"
									],
									"marker": {
										"color": [
											"red",
											"blue",
											"red",
											"blue",
											"red",
											"blue",
											"red",
											"blue",
											"red",
											"blue",
											"red",
											"blue",
											"red",
											"blue",
											"red",
											"blue",
											"red",
											"blue",
											"red",
											"blue",
											"red",
											"blue",
											"red",
											"blue",
											"red",
											"blue",
											"red",
											"blue",
											"red",
											"blue",
											"red",
											"blue",
											"red",
											"blue",
											"red",
											"blue",
											"red",
											"blue",
											"red",
											"blue",
											"red",
											"blue",
											"red",
											"blue",
											"red",
											"blue",
											"red",
											"blue",
											"red",
											"blue",
											"red",
											"blue",
											"red",
											"blue",
											"red",
											"blue",
											"red",
											"blue",
											"red",
											"blue",
											"red",
											"blue",
											"red",
											"blue",
											"red",
											"blue",
											"red",
											"blue",
											"red",
											"blue",
											"red",
											"blue",
											"red",
											"blue",
											"red",
											"blue",
											"red",
											"blue",
											"red",
											"blue",
											"red",
											"blue",
											"red",
											"blue",
											"red",
											"blue",
											"red",
											"blue",
											"red",
											"blue",
											"red",
											"blue",
											"red",
											"blue",
											"red",
											"blue",
											"red",
											"blue",
											"red",
											"blue",
											"red",
											"blue",
											"red",
											"blue",
											"red",
											"blue",
											"red",
											"blue",
											"red",
											"blue",
											"red",
											"blue",
											"red",
											"blue",
											"red",
											"blue",
											"red",
											"blue",
											"red",
											"blue",
											"red",
											"blue",
											"red",
											"blue",
											"red",
											"blue",
											"red",
											"blue",
											"red",
											"blue",
											"red",
											"blue",
											"red",
											"blue",
											"red",
											"blue",
											"red",
											"blue",
											"red",
											"blue",
											"red",
											"blue",
											"red",
											"blue",
											"red",
											"blue",
											"red",
											"blue",
											"red",
											"blue",
											"red",
											"blue",
											"red",
											"blue",
											"red",
											"blue",
											"red",
											"blue",
											"red",
											"blue",
											"red",
											"blue",
											"red",
											"blue",
											"red",
											"blue",
											"red",
											"blue",
											"red",
											"blue",
											"red",
											"blue",
											"red",
											"blue",
											"red",
											"blue",
											"red",
											"blue",
											"red",
											"blue",
											"red",
											"blue",
											"red",
											"blue",
											"red",
											"blue",
											"red",
											"blue",
											"red",
											"blue",
											"red",
											"blue",
											"red",
											"blue",
											"red",
											"blue",
											"red",
											"blue",
											"red",
											"blue",
											"red",
											"blue",
											"red",
											"blue",
											"red",
											"blue",
											"red",
											"blue",
											"red",
											"blue",
											"red",
											"blue",
											"red",
											"blue",
											"red",
											"blue",
											"red",
											"blue",
											"red",
											"blue",
											"red",
											"blue",
											"red",
											"blue",
											"red",
											"blue",
											"red",
											"blue",
											"red",
											"blue",
											"red",
											"blue",
											"red",
											"blue",
											"red",
											"blue",
											"red",
											"blue",
											"red",
											"blue",
											"red",
											"blue",
											"red",
											"blue",
											"red",
											"blue",
											"red",
											"blue",
											"red",
											"blue",
											"red",
											"blue",
											"red",
											"blue",
											"red",
											"blue",
											"red",
											"blue",
											"red",
											"blue",
											"red",
											"blue",
											"red",
											"blue",
											"red",
											"blue",
											"red",
											"blue",
											"red",
											"blue",
											"red",
											"blue",
											"red",
											"blue",
											"red",
											"blue",
											"red",
											"blue",
											"red",
											"blue",
											"red",
											"blue",
											"red",
											"blue",
											"red",
											"blue",
											"red",
											"blue",
											"red",
											"blue",
											"red",
											"blue",
											"red",
											"blue",
											"red",
											"blue",
											"red",
											"blue",
											"red",
											"blue",
											"red",
											"blue",
											"red",
											"blue",
											"red",
											"blue",
											"red",
											"blue",
											"red",
											"blue",
											"red",
											"blue",
											"red",
											"blue",
											"red",
											"blue",
											"red",
											"blue",
											"red",
											"blue",
											"red",
											"blue",
											"red",
											"blue",
											"red",
											"blue",
											"red",
											"blue",
											"red",
											"blue",
											"red",
											"blue",
											"red",
											"blue",
											"red",
											"blue",
											"red",
											"blue",
											"red",
											"blue",
											"red",
											"blue",
											"red",
											"blue",
											"red",
											"blue",
											"red",
											"blue",
											"red",
											"blue",
											"red",
											"blue",
											"red",
											"blue",
											"red",
											"blue",
											"red",
											"blue",
											"red",
											"blue",
											"red",
											"blue",
											"red",
											"blue",
											"red",
											"blue",
											"red",
											"blue",
											"red",
											"blue",
											"red",
											"blue",
											"red",
											"blue",
											"red",
											"blue",
											"red",
											"blue",
											"red",
											"blue",
											"red",
											"blue",
											"red",
											"blue",
											"red",
											"blue",
											"red",
											"blue",
											"red",
											"blue",
											"red",
											"blue",
											"red",
											"blue",
											"red",
											"blue",
											"red",
											"blue",
											"red",
											"blue",
											"red",
											"blue",
											"red",
											"blue",
											"red",
											"blue",
											"red",
											"blue",
											"red",
											"blue",
											"red",
											"blue",
											"red",
											"blue",
											"red",
											"blue",
											"red",
											"blue",
											"red",
											"blue",
											"red",
											"blue",
											"red",
											"blue",
											"red",
											"blue",
											"red",
											"blue",
											"red",
											"blue",
											"red",
											"blue",
											"red",
											"blue",
											"red",
											"blue",
											"red",
											"blue",
											"red",
											"blue",
											"red",
											"blue",
											"red",
											"blue",
											"red",
											"blue",
											"red",
											"blue",
											"red",
											"blue",
											"red",
											"blue",
											"red",
											"blue",
											"red",
											"blue",
											"red",
											"blue",
											"red",
											"blue",
											"red",
											"blue",
											"red",
											"blue",
											"red",
											"blue",
											"red",
											"blue",
											"red",
											"blue",
											"red",
											"blue",
											"red",
											"blue",
											"red",
											"blue",
											"red",
											"blue",
											"red",
											"blue",
											"red",
											"blue",
											"red",
											"blue",
											"red",
											"blue",
											"red",
											"blue",
											"red",
											"blue",
											"red",
											"blue",
											"red",
											"blue",
											"red",
											"blue",
											"red",
											"blue",
											"red",
											"blue",
											"red",
											"blue",
											"red",
											"blue",
											"red",
											"blue",
											"red",
											"blue",
											"red",
											"blue",
											"red",
											"blue",
											"red",
											"blue",
											"red",
											"blue",
											"red",
											"blue",
											"red",
											"blue",
											"red",
											"blue",
											"red",
											"blue",
											"red",
											"blue",
											"red",
											"blue",
											"red",
											"blue",
											"red",
											"blue",
											"red",
											"blue",
											"red",
											"blue",
											"red",
											"blue",
											"red",
											"blue",
											"red",
											"blue",
											"red",
											"blue",
											"red",
											"blue",
											"red",
											"blue",
											"red",
											"blue",
											"red",
											"blue",
											"red",
											"blue",
											"red"
										]
									},
									"name": "Domains",
									"type": "bar",
									"width": {
										"bdata": "/nNmQP5zZkD+c2ZA/nNmQP5zZkD+c2ZA/nNmQP5zZkD+c2ZA/nNmQP5zZkD+c2ZA/nNmQP5zZkD+c2ZA/nNmQP5zZkD+c2ZA/nNmQP5zZkD+c2ZA/nNmQP5zZkD+c2ZA/nNmQP5zZkD+c2ZA/nNmQP5zZkD+c2ZA/nNmQP5zZkD+c2ZA/nNmQP5zZkD+c2ZA/nNmQP5zZkD+c2ZA/nNmQP5zZkD+c2ZA/nNmQP5zZkD+c2ZA/nNmQP5zZkD+c2ZA/nNmQP5zZkD+c2ZA/nNmQP5zZkD+c2ZA/nNmQP5zZkD+c2ZA/nNmQP5zZkD+c2ZA/nNmQP5zZkD+c2ZA/nNmQP5zZkD+c2ZA/nNmQP5zZkD+c2ZA/nNmQP5zZkD+c2ZA/nNmQP5zZkD+c2ZA/nNmQP5zZkD+c2ZA/nNmQP5zZkD+c2ZA/nNmQP5zZkD+c2ZA/nNmQP5zZkD+c2ZA/nNmQP5zZkD+c2ZA/nNmQP5zZkD+c2ZA/nNmQP5zZkD+c2ZA/nNmQP5zZkD+c2ZA/nNmQP5zZkD+c2ZA/nNmQP5zZkD+c2ZA/nNmQP5zZkD+c2ZA/nNmQP5zZkD+c2ZA/nNmQP5zZkD+c2ZA/nNmQP5zZkD+c2ZA/nNmQP5zZkD+c2ZA/nNmQP5zZkD+c2ZA/nNmQP5zZkD+c2ZA/nNmQP5zZkD+c2ZA/nNmQP5zZkD+c2ZA/nNmQP5zZkD+c2ZA/nNmQP5zZkD+c2ZA/nNmQP5zZkD+c2ZA/nNmQP5zZkD+c2ZA/nNmQP5zZkD+c2ZA/nNmQP5zZkD+c2ZA/nNmQP5zZkD+c2ZA/nNmQP5zZkD+c2ZA/nNmQP5zZkD+c2ZA/nNmQP5zZkD+c2ZA/nNmQP5zZkD+c2ZA/nNmQP5zZkD+c2ZA/nNmQP5zZkD+c2ZA/nNmQP5zZkD+c2ZA/nNmQP5zZkD+c2ZA/nNmQP5zZkD+c2ZA/nNmQP5zZkD+c2ZA/nNmQP5zZkD+c2ZA/nNmQP5zZkD+c2ZA/nNmQP5zZkD+c2ZA/nNmQP5zZkD+c2ZA/nNmQP5zZkD+c2ZA/nNmQP5zZkD+c2ZA/nNmQP5zZkD+c2ZA/nNmQP5zZkD+c2ZA/nNmQP5zZkD+c2ZA/nNmQP5zZkD+c2ZA/nNmQP5zZkD+c2ZA/nNmQP5zZkD+c2ZA/nNmQP5zZkD+c2ZA/nNmQP5zZkD+c2ZA/nNmQP5zZkD+c2ZA/nNmQP5zZkD+c2ZA/nNmQP5zZkD+c2ZA/nNmQP5zZkD+c2ZA/nNmQP5zZkD+c2ZA/nNmQP5zZkD+c2ZA/nNmQP5zZkD+c2ZA/nNmQP5zZkD+c2ZA/nNmQP5zZkD+c2ZA/nNmQP5zZkD+c2ZA/nNmQP5zZkD+c2ZA/nNmQP5zZkD+c2ZA/nNmQP5zZkD+c2ZA/nNmQP5zZkD+c2ZA/nNmQP5zZkD+c2ZA/nNmQP5zZkD+c2ZA/nNmQP5zZkD+c2ZA/nNmQP5zZkD+c2ZA/nNmQP5zZkD+c2ZA/nNmQP5zZkD+c2ZA/nNmQP5zZkD+c2ZA/nNmQP5zZkD+c2ZA/nNmQP5zZkD+c2ZA/nNmQP5zZkD+c2ZA/nNmQP5zZkD+c2ZA/nNmQP5zZkD+c2ZA/nNmQP5zZkD+c2ZA/nNmQP5zZkD+c2ZA/nNmQP5zZkD+c2ZA/nNmQP5zZkD+c2ZA/nNmQP5zZkD+c2ZA/nNmQP5zZkD+c2ZA/nNmQP5zZkD+c2ZA/nNmQP5zZkD+c2ZA/nNmQP5zZkD+c2ZA/nNmQP5zZkD+c2ZA/nNmQP5zZkD+c2ZA/nNmQP5zZkD+c2ZA/nNmQP5zZkD+c2ZA/nNmQP5zZkD+c2ZA/nNmQP5zZkD+c2ZA/nNmQP5zZkD+c2ZA/nNmQP5zZkD+c2ZA/nNmQP5zZkD+c2ZA/nNmQP5zZkD+c2ZA/nNmQP5zZkD+c2ZA/nNmQP5zZkD+c2ZA/nNmQP5zZkD+c2ZA/nNmQP5zZkD+c2ZA/nNmQP5zZkD+c2ZA/nNmQP5zZkD+c2ZA/nNmQP5zZkD+c2ZA/nNmQP5zZkD+c2ZA/nNmQP5zZkD+c2ZA/nNmQP5zZkD+c2ZA/nNmQP5zZkD+c2ZA/nNmQP5zZkD+c2ZA/nNmQP5zZkD+c2ZA/nNmQP5zZkD+c2ZA/nNmQP5zZkD+c2ZA/nNmQP5zZkD+c2ZA/nNmQP5zZkD+c2ZA/nNmQP5zZkD+c2ZA/nNmQP5zZkD+c2ZA/nNmQP5zZkD+c2ZA/nNmQP5zZkD+c2ZA/nNmQP5zZkD+c2ZA/nNmQP5zZkD+c2ZA/nNmQP5zZkD+c2ZA/nNmQP5zZkD+c2ZA/nNmQP5zZkD+c2ZA/nNmQP5zZkD+c2ZA/nNmQP5zZkD+c2ZA/nNmQP5zZkD+c2ZA/nNmQP5zZkD+c2ZA/nNmQP5zZkD+c2ZA/nNmQP5zZkD+c2ZA/nNmQP5zZkD+c2ZA/nNmQP5zZkD+c2ZA/nNmQP5zZkD+c2ZA/nNmQP5zZkD+c2ZA/nNmQP5zZkD+c2ZA/nNmQP5zZkD+c2ZA/nNmQP5zZkD+c2ZA/nNmQP5zZkD+c2ZA/nNmQP5zZkD+c2ZA/nNmQP5zZkD+c2ZA/nNmQP5zZkD+c2ZA/nNmQP5zZkD+c2ZA/nNmQP5zZkD+c2ZA/nNmQP5zZkD+c2ZA/nNmQP5zZkD+c2ZA/nNmQP5zZkD+c2ZA/nNmQP5zZkD+c2ZA/nNmQP5zZkD+c2ZA/nNmQP5zZkD+c2ZA/nNmQP5zZkD+c2ZA/nNmQP5zZkD+c2ZA/nNmQP5zZkD+c2ZA/nNmQP5zZkD+c2ZA/nNmQP5zZkD+c2ZA/nNmQP5zZkD+c2ZA/nNmQP5zZkD+c2ZA/nNmQP5zZkD+c2ZA/nNmQP5zZkD+c2ZA/nNmQP5zZkD+c2ZA/nNmQP5zZkD+c2ZA/nNmQP5zZkD+c2ZA/nNmQP5zZkD+c2ZA/nNmQP5zZkD+c2ZA",
										"dtype": "f4"
									},
									"x": {
										"bdata": "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",
										"dtype": "f4"
									},
									"y": {
										"bdata": "s52sN7OdrLeznaw3s52st7OdrDeznay3s52sN7OdrLeznaw3s52st7OdrDeznay3s52sN7OdrLeznaw3s52st7OdrDeznay3s52sN7OdrLeznaw3s52st7OdrDeznay3s52sN7OdrLeznaw3s52st7OdrDeznay3s52sN7OdrLeznaw3s52st7OdrDeznay3s52sN7OdrLeznaw3s52st7OdrDeznay3s52sN7OdrLeznaw3s52st7OdrDeznay3s52sN7OdrLeznaw3s52st7OdrDeznay3s52sN7OdrLeznaw3s52st7OdrDeznay3s52sN7OdrLeznaw3s52st7OdrDeznay3s52sN7OdrLeznaw3s52st7OdrDeznay3s52sN7OdrLeznaw3s52st7OdrDeznay3s52sN7OdrLeznaw3s52st7OdrDeznay3s52sN7OdrLeznaw3s52st7OdrDeznay3s52sN7OdrLeznaw3s52st7OdrDeznay3s52sN7OdrLeznaw3s52st7OdrDeznay3s52sN7OdrLeznaw3s52st7OdrDeznay3s52sN7OdrLeznaw3s52st7OdrDeznay3s52sN7OdrLeznaw3s52st7OdrDeznay3s52sN7OdrLeznaw3s52st7OdrDeznay3s52sN7OdrLeznaw3s52st7OdrDeznay3s52sN7OdrLeznaw3s52st7OdrDeznay3s52sN7OdrLeznaw3s52st7OdrDeznay3s52sN7OdrLeznaw3s52st7OdrDeznay3s52sN7OdrLeznaw3s52st7OdrDeznay3s52sN7OdrLeznaw3s52st7OdrDeznay3s52sN7OdrLeznaw3s52st7OdrDeznay3s52sN7OdrLeznaw3s52st7OdrDeznay3s52sN7OdrLeznaw3s52st7OdrDeznay3s52sN7OdrLeznaw3s52st7OdrDeznay3s52sN7OdrLeznaw3s52st7OdrDeznay3s52sN7OdrLeznaw3s52st7OdrDeznay3s52sN7OdrLeznaw3s52st7OdrDeznay3s52sN7OdrLeznaw3s52st7OdrDeznay3s52sN7OdrLeznaw3s52st7OdrDeznay3s52sN7OdrLeznaw3s52st7OdrDeznay3s52sN7OdrLeznaw3s52st7OdrDeznay3s52sN7OdrLeznaw3s52st7OdrDeznay3s52sN7OdrLeznaw3s52st7OdrDeznay3s52sN7OdrLeznaw3s52st7OdrDeznay3s52sN7OdrLeznaw3s52st7OdrDeznay3s52sN7OdrLeznaw3s52st7OdrDeznay3s52sN7OdrLeznaw3s52st7OdrDeznay3s52sN7OdrLeznaw3s52st7OdrDeznay3s52sN7OdrLeznaw3s52st7OdrDeznay3s52sN7OdrLeznaw3s52st7OdrDeznay3s52sN7OdrLeznaw3s52st7OdrDeznay3s52sN7OdrLeznaw3s52st7OdrDeznay3s52sN7OdrLeznaw3s52st7OdrDeznay3s52sN7OdrLeznaw3s52st7OdrDeznay3s52sN7OdrLeznaw3s52st7OdrDeznay3s52sN7OdrLeznaw3s52st7OdrDeznay3s52sN7OdrLeznaw3s52st7OdrDeznay3s52sN7OdrLeznaw3s52st7OdrDeznay3s52sN7OdrLeznaw3s52st7OdrDeznay3s52sN7OdrLeznaw3s52st7OdrDeznay3s52sN7OdrLeznaw3s52st7OdrDeznay3s52sN7OdrLeznaw3s52st7OdrDeznay3s52sN7OdrLeznaw3s52st7OdrDeznay3s52sN7OdrLeznaw3s52st7OdrDeznay3s52sN7OdrLeznaw3s52st7OdrDeznay3s52sN7OdrLeznaw3s52st7OdrDeznay3s52sN7OdrLeznaw3s52st7OdrDeznay3s52sN7OdrLeznaw3s52st7OdrDeznay3s52sN7OdrLeznaw3s52st7OdrDeznay3s52sN7OdrLeznaw3s52st7OdrDeznay3s52sN7OdrLeznaw3s52st7OdrDeznay3s52sN7OdrLeznaw3s52st7OdrDeznay3s52sN7OdrLeznaw3s52st7OdrDeznay3s52sN7OdrLeznaw3s52st7OdrDeznay3s52sN7OdrLeznaw3s52st7OdrDeznay3s52sN7OdrLeznaw3s52st7OdrDeznay3s52sN7OdrLeznaw3s52st7OdrDeznay3s52sN7OdrLeznaw3s52st7OdrDeznay3s52sN7OdrLeznaw3s52st7OdrDeznay3s52sN7OdrLeznaw3s52st7OdrDeznay3s52sN7OdrLeznaw3s52st7OdrDeznay3s52sN7OdrLeznaw3s52st7OdrDeznay3s52sN7OdrLeznaw3s52st7OdrDeznay3s52sN7OdrLeznaw3s52st7OdrDeznay3s52sN7OdrLeznaw3s52st7OdrDeznay3s52sN7OdrLeznaw3s52st7OdrDeznay3s52sN7OdrLeznaw3s52st7OdrDeznay3s52sN7OdrLeznaw3s52st7OdrDeznay3s52sN7OdrLeznaw3s52st7OdrDeznay3s52sN7OdrLeznaw3s52st7OdrDeznay3s52sN7OdrLeznaw3s52st7OdrDeznay3s52sN7OdrLeznaw3s52st7OdrDeznay3s52sN7OdrLeznaw3s52st7OdrDeznay3s52sN7OdrLeznaw3s52st7OdrDeznay3s52sN7OdrLeznaw3s52st7OdrDeznay3s52sN7OdrLeznaw3",
										"dtype": "f4"
									}
								}
							],
							"layout": {
								"bargap": 0,
								"font": {
									"family": "Arial, sans-serif",
									"size": 12
								},
								"plot_bgcolor": "white",
								"template": {
									"data": {
										"bar": [
											{
												"error_x": {
													"color": "#2a3f5f"
												},
												"error_y": {
													"color": "#2a3f5f"
												},
												"marker": {
													"line": {
														"color": "#E5ECF6",
														"width": 0.5
													},
													"pattern": {
														"fillmode": "overlay",
														"size": 10,
														"solidity": 0.2
													}
												},
												"type": "bar"
											}
										],
										"barpolar": [
											{
												"marker": {
													"line": {
														"color": "#E5ECF6",
														"width": 0.5
													},
													"pattern": {
														"fillmode": "overlay",
														"size": 10,
														"solidity": 0.2
													}
												},
												"type": "barpolar"
											}
										],
										"carpet": [
											{
												"aaxis": {
													"endlinecolor": "#2a3f5f",
													"gridcolor": "white",
													"linecolor": "white",
													"minorgridcolor": "white",
													"startlinecolor": "#2a3f5f"
												},
												"baxis": {
													"endlinecolor": "#2a3f5f",
													"gridcolor": "white",
													"linecolor": "white",
													"minorgridcolor": "white",
													"startlinecolor": "#2a3f5f"
												},
												"type": "carpet"
											}
										],
										"choropleth": [
											{
												"colorbar": {
													"outlinewidth": 0,
													"ticks": ""
												},
												"type": "choropleth"
											}
										],
										"contour": [
											{
												"colorbar": {
													"outlinewidth": 0,
													"ticks": ""
												},
												"colorscale": [
													[
														0,
														"#0d0887"
													],
													[
														0.1111111111111111,
														"#46039f"
													],
													[
														0.2222222222222222,
														"#7201a8"
													],
													[
														0.3333333333333333,
														"#9c179e"
													],
													[
														0.4444444444444444,
														"#bd3786"
													],
													[
														0.5555555555555556,
														"#d8576b"
													],
													[
														0.6666666666666666,
														"#ed7953"
													],
													[
														0.7777777777777778,
														"#fb9f3a"
													],
													[
														0.8888888888888888,
														"#fdca26"
													],
													[
														1,
														"#f0f921"
													]
												],
												"type": "contour"
											}
										],
										"contourcarpet": [
											{
												"colorbar": {
													"outlinewidth": 0,
													"ticks": ""
												},
												"type": "contourcarpet"
											}
										],
										"heatmap": [
											{
												"colorbar": {
													"outlinewidth": 0,
													"ticks": ""
												},
												"colorscale": [
													[
														0,
														"#0d0887"
													],
													[
														0.1111111111111111,
														"#46039f"
													],
													[
														0.2222222222222222,
														"#7201a8"
													],
													[
														0.3333333333333333,
														"#9c179e"
													],
													[
														0.4444444444444444,
														"#bd3786"
													],
													[
														0.5555555555555556,
														"#d8576b"
													],
													[
														0.6666666666666666,
														"#ed7953"
													],
													[
														0.7777777777777778,
														"#fb9f3a"
													],
													[
														0.8888888888888888,
														"#fdca26"
													],
													[
														1,
														"#f0f921"
													]
												],
												"type": "heatmap"
											}
										],
										"histogram": [
											{
												"marker": {
													"pattern": {
														"fillmode": "overlay",
														"size": 10,
														"solidity": 0.2
													}
												},
												"type": "histogram"
											}
										],
										"histogram2d": [
											{
												"colorbar": {
													"outlinewidth": 0,
													"ticks": ""
												},
												"colorscale": [
													[
														0,
														"#0d0887"
													],
													[
														0.1111111111111111,
														"#46039f"
													],
													[
														0.2222222222222222,
														"#7201a8"
													],
													[
														0.3333333333333333,
														"#9c179e"
													],
													[
														0.4444444444444444,
														"#bd3786"
													],
													[
														0.5555555555555556,
														"#d8576b"
													],
													[
														0.6666666666666666,
														"#ed7953"
													],
													[
														0.7777777777777778,
														"#fb9f3a"
													],
													[
														0.8888888888888888,
														"#fdca26"
													],
													[
														1,
														"#f0f921"
													]
												],
												"type": "histogram2d"
											}
										],
										"histogram2dcontour": [
											{
												"colorbar": {
													"outlinewidth": 0,
													"ticks": ""
												},
												"colorscale": [
													[
														0,
														"#0d0887"
													],
													[
														0.1111111111111111,
														"#46039f"
													],
													[
														0.2222222222222222,
														"#7201a8"
													],
													[
														0.3333333333333333,
														"#9c179e"
													],
													[
														0.4444444444444444,
														"#bd3786"
													],
													[
														0.5555555555555556,
														"#d8576b"
													],
													[
														0.6666666666666666,
														"#ed7953"
													],
													[
														0.7777777777777778,
														"#fb9f3a"
													],
													[
														0.8888888888888888,
														"#fdca26"
													],
													[
														1,
														"#f0f921"
													]
												],
												"type": "histogram2dcontour"
											}
										],
										"mesh3d": [
											{
												"colorbar": {
													"outlinewidth": 0,
													"ticks": ""
												},
												"type": "mesh3d"
											}
										],
										"parcoords": [
											{
												"line": {
													"colorbar": {
														"outlinewidth": 0,
														"ticks": ""
													}
												},
												"type": "parcoords"
											}
										],
										"pie": [
											{
												"automargin": true,
												"type": "pie"
											}
										],
										"scatter": [
											{
												"fillpattern": {
													"fillmode": "overlay",
													"size": 10,
													"solidity": 0.2
												},
												"type": "scatter"
											}
										],
										"scatter3d": [
											{
												"line": {
													"colorbar": {
														"outlinewidth": 0,
														"ticks": ""
													}
												},
												"marker": {
													"colorbar": {
														"outlinewidth": 0,
														"ticks": ""
													}
												},
												"type": "scatter3d"
											}
										],
										"scattercarpet": [
											{
												"marker": {
													"colorbar": {
														"outlinewidth": 0,
														"ticks": ""
													}
												},
												"type": "scattercarpet"
											}
										],
										"scattergeo": [
											{
												"marker": {
													"colorbar": {
														"outlinewidth": 0,
														"ticks": ""
													}
												},
												"type": "scattergeo"
											}
										],
										"scattergl": [
											{
												"marker": {
													"colorbar": {
														"outlinewidth": 0,
														"ticks": ""
													}
												},
												"type": "scattergl"
											}
										],
										"scattermap": [
											{
												"marker": {
													"colorbar": {
														"outlinewidth": 0,
														"ticks": ""
													}
												},
												"type": "scattermap"
											}
										],
										"scattermapbox": [
											{
												"marker": {
													"colorbar": {
														"outlinewidth": 0,
														"ticks": ""
													}
												},
												"type": "scattermapbox"
											}
										],
										"scatterpolar": [
											{
												"marker": {
													"colorbar": {
														"outlinewidth": 0,
														"ticks": ""
													}
												},
												"type": "scatterpolar"
											}
										],
										"scatterpolargl": [
											{
												"marker": {
													"colorbar": {
														"outlinewidth": 0,
														"ticks": ""
													}
												},
												"type": "scatterpolargl"
											}
										],
										"scatterternary": [
											{
												"marker": {
													"colorbar": {
														"outlinewidth": 0,
														"ticks": ""
													}
												},
												"type": "scatterternary"
											}
										],
										"surface": [
											{
												"colorbar": {
													"outlinewidth": 0,
													"ticks": ""
												},
												"colorscale": [
													[
														0,
														"#0d0887"
													],
													[
														0.1111111111111111,
														"#46039f"
													],
													[
														0.2222222222222222,
														"#7201a8"
													],
													[
														0.3333333333333333,
														"#9c179e"
													],
													[
														0.4444444444444444,
														"#bd3786"
													],
													[
														0.5555555555555556,
														"#d8576b"
													],
													[
														0.6666666666666666,
														"#ed7953"
													],
													[
														0.7777777777777778,
														"#fb9f3a"
													],
													[
														0.8888888888888888,
														"#fdca26"
													],
													[
														1,
														"#f0f921"
													]
												],
												"type": "surface"
											}
										],
										"table": [
											{
												"cells": {
													"fill": {
														"color": "#EBF0F8"
													},
													"line": {
														"color": "white"
													}
												},
												"header": {
													"fill": {
														"color": "#C8D4E3"
													},
													"line": {
														"color": "white"
													}
												},
												"type": "table"
											}
										]
									},
									"layout": {
										"annotationdefaults": {
											"arrowcolor": "#2a3f5f",
											"arrowhead": 0,
											"arrowwidth": 1
										},
										"autotypenumbers": "strict",
										"coloraxis": {
											"colorbar": {
												"outlinewidth": 0,
												"ticks": ""
											}
										},
										"colorscale": {
											"diverging": [
												[
													0,
													"#8e0152"
												],
												[
													0.1,
													"#c51b7d"
												],
												[
													0.2,
													"#de77ae"
												],
												[
													0.3,
													"#f1b6da"
												],
												[
													0.4,
													"#fde0ef"
												],
												[
													0.5,
													"#f7f7f7"
												],
												[
													0.6,
													"#e6f5d0"
												],
												[
													0.7,
													"#b8e186"
												],
												[
													0.8,
													"#7fbc41"
												],
												[
													0.9,
													"#4d9221"
												],
												[
													1,
													"#276419"
												]
											],
											"sequential": [
												[
													0,
													"#0d0887"
												],
												[
													0.1111111111111111,
													"#46039f"
												],
												[
													0.2222222222222222,
													"#7201a8"
												],
												[
													0.3333333333333333,
													"#9c179e"
												],
												[
													0.4444444444444444,
													"#bd3786"
												],
												[
													0.5555555555555556,
													"#d8576b"
												],
												[
													0.6666666666666666,
													"#ed7953"
												],
												[
													0.7777777777777778,
													"#fb9f3a"
												],
												[
													0.8888888888888888,
													"#fdca26"
												],
												[
													1,
													"#f0f921"
												]
											],
											"sequentialminus": [
												[
													0,
													"#0d0887"
												],
												[
													0.1111111111111111,
													"#46039f"
												],
												[
													0.2222222222222222,
													"#7201a8"
												],
												[
													0.3333333333333333,
													"#9c179e"
												],
												[
													0.4444444444444444,
													"#bd3786"
												],
												[
													0.5555555555555556,
													"#d8576b"
												],
												[
													0.6666666666666666,
													"#ed7953"
												],
												[
													0.7777777777777778,
													"#fb9f3a"
												],
												[
													0.8888888888888888,
													"#fdca26"
												],
												[
													1,
													"#f0f921"
												]
											]
										},
										"colorway": [
											"#636efa",
											"#EF553B",
											"#00cc96",
											"#ab63fa",
											"#FFA15A",
											"#19d3f3",
											"#FF6692",
											"#B6E880",
											"#FF97FF",
											"#FECB52"
										],
										"font": {
											"color": "#2a3f5f"
										},
										"geo": {
											"bgcolor": "white",
											"lakecolor": "white",
											"landcolor": "#E5ECF6",
											"showlakes": true,
											"showland": true,
											"subunitcolor": "white"
										},
										"hoverlabel": {
											"align": "left"
										},
										"hovermode": "closest",
										"mapbox": {
											"style": "light"
										},
										"paper_bgcolor": "white",
										"plot_bgcolor": "#E5ECF6",
										"polar": {
											"angularaxis": {
												"gridcolor": "white",
												"linecolor": "white",
												"ticks": ""
											},
											"bgcolor": "#E5ECF6",
											"radialaxis": {
												"gridcolor": "white",
												"linecolor": "white",
												"ticks": ""
											}
										},
										"scene": {
											"xaxis": {
												"backgroundcolor": "#E5ECF6",
												"gridcolor": "white",
												"gridwidth": 2,
												"linecolor": "white",
												"showbackground": true,
												"ticks": "",
												"zerolinecolor": "white"
											},
											"yaxis": {
												"backgroundcolor": "#E5ECF6",
												"gridcolor": "white",
												"gridwidth": 2,
												"linecolor": "white",
												"showbackground": true,
												"ticks": "",
												"zerolinecolor": "white"
											},
											"zaxis": {
												"backgroundcolor": "#E5ECF6",
												"gridcolor": "white",
												"gridwidth": 2,
												"linecolor": "white",
												"showbackground": true,
												"ticks": "",
												"zerolinecolor": "white"
											}
										},
										"shapedefaults": {
											"line": {
												"color": "#2a3f5f"
											}
										},
										"ternary": {
											"aaxis": {
												"gridcolor": "white",
												"linecolor": "white",
												"ticks": ""
											},
											"baxis": {
												"gridcolor": "white",
												"linecolor": "white",
												"ticks": ""
											},
											"bgcolor": "#E5ECF6",
											"caxis": {
												"gridcolor": "white",
												"linecolor": "white",
												"ticks": ""
											}
										},
										"title": {
											"x": 0.05
										},
										"xaxis": {
											"automargin": true,
											"gridcolor": "white",
											"linecolor": "white",
											"ticks": "",
											"title": {
												"standoff": 15
											},
											"zerolinecolor": "white",
											"zerolinewidth": 2
										},
										"yaxis": {
											"automargin": true,
											"gridcolor": "white",
											"linecolor": "white",
											"ticks": "",
											"title": {
												"standoff": 15
											},
											"zerolinecolor": "white",
											"zerolinewidth": 2
										}
									}
								},
								"title": {
									"text": "Interactive QPM Grating Structure"
								},
								"xaxis": {
									"gridcolor": "lightgrey",
									"linecolor": "black",
									"linewidth": 1,
									"showline": true,
									"tickformat": ".1f",
									"title": {
										"text": "Position (μm)"
									}
								},
								"yaxis": {
									"gridcolor": "lightgrey",
									"linecolor": "black",
									"linewidth": 1,
									"showline": true,
									"title": {
										"text": "Coupling Coefficient κ"
									},
									"zeroline": true,
									"zerolinecolor": "black",
									"zerolinewidth": 1.5
								}
							}
						}
					},
					"metadata": {},
					"output_type": "display_data"
				},
				{
					"name": "stdout",
					"output_type": "stream",
					"text": [
						"3. Calculating theoretical spectrum via NPDA (sinc^2)...\n",
						"4. Plotting comparison...\n"
					]
				},
				{
					"data": {
						"application/vnd.plotly.v1+json": {
							"config": {
								"plotlyServerURL": "https://plot.ly"
							},
							"data": [
								{
									"line": {
										"color": "blue"
									},
									"mode": "lines",
									"name": "Simulator Output",
									"type": "scatter",
									"x": {
										"bdata": "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",
										"dtype": "f4"
									},
									"y": {
										"bdata": "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",
										"dtype": "f4"
									}
								},
								{
									"line": {
										"color": "red",
										"dash": "dash"
									},
									"mode": "lines",
									"name": "Verification (NPDA)",
									"type": "scatter",
									"x": {
										"bdata": "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",
										"dtype": "f4"
									},
									"y": {
										"bdata": "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",
										"dtype": "f4"
									}
								}
							],
							"layout": {
								"template": {
									"data": {
										"bar": [
											{
												"error_x": {
													"color": "#2a3f5f"
												},
												"error_y": {
													"color": "#2a3f5f"
												},
												"marker": {
													"line": {
														"color": "#E5ECF6",
														"width": 0.5
													},
													"pattern": {
														"fillmode": "overlay",
														"size": 10,
														"solidity": 0.2
													}
												},
												"type": "bar"
											}
										],
										"barpolar": [
											{
												"marker": {
													"line": {
														"color": "#E5ECF6",
														"width": 0.5
													},
													"pattern": {
														"fillmode": "overlay",
														"size": 10,
														"solidity": 0.2
													}
												},
												"type": "barpolar"
											}
										],
										"carpet": [
											{
												"aaxis": {
													"endlinecolor": "#2a3f5f",
													"gridcolor": "white",
													"linecolor": "white",
													"minorgridcolor": "white",
													"startlinecolor": "#2a3f5f"
												},
												"baxis": {
													"endlinecolor": "#2a3f5f",
													"gridcolor": "white",
													"linecolor": "white",
													"minorgridcolor": "white",
													"startlinecolor": "#2a3f5f"
												},
												"type": "carpet"
											}
										],
										"choropleth": [
											{
												"colorbar": {
													"outlinewidth": 0,
													"ticks": ""
												},
												"type": "choropleth"
											}
										],
										"contour": [
											{
												"colorbar": {
													"outlinewidth": 0,
													"ticks": ""
												},
												"colorscale": [
													[
														0,
														"#0d0887"
													],
													[
														0.1111111111111111,
														"#46039f"
													],
													[
														0.2222222222222222,
														"#7201a8"
													],
													[
														0.3333333333333333,
														"#9c179e"
													],
													[
														0.4444444444444444,
														"#bd3786"
													],
													[
														0.5555555555555556,
														"#d8576b"
													],
													[
														0.6666666666666666,
														"#ed7953"
													],
													[
														0.7777777777777778,
														"#fb9f3a"
													],
													[
														0.8888888888888888,
														"#fdca26"
													],
													[
														1,
														"#f0f921"
													]
												],
												"type": "contour"
											}
										],
										"contourcarpet": [
											{
												"colorbar": {
													"outlinewidth": 0,
													"ticks": ""
												},
												"type": "contourcarpet"
											}
										],
										"heatmap": [
											{
												"colorbar": {
													"outlinewidth": 0,
													"ticks": ""
												},
												"colorscale": [
													[
														0,
														"#0d0887"
													],
													[
														0.1111111111111111,
														"#46039f"
													],
													[
														0.2222222222222222,
														"#7201a8"
													],
													[
														0.3333333333333333,
														"#9c179e"
													],
													[
														0.4444444444444444,
														"#bd3786"
													],
													[
														0.5555555555555556,
														"#d8576b"
													],
													[
														0.6666666666666666,
														"#ed7953"
													],
													[
														0.7777777777777778,
														"#fb9f3a"
													],
													[
														0.8888888888888888,
														"#fdca26"
													],
													[
														1,
														"#f0f921"
													]
												],
												"type": "heatmap"
											}
										],
										"histogram": [
											{
												"marker": {
													"pattern": {
														"fillmode": "overlay",
														"size": 10,
														"solidity": 0.2
													}
												},
												"type": "histogram"
											}
										],
										"histogram2d": [
											{
												"colorbar": {
													"outlinewidth": 0,
													"ticks": ""
												},
												"colorscale": [
													[
														0,
														"#0d0887"
													],
													[
														0.1111111111111111,
														"#46039f"
													],
													[
														0.2222222222222222,
														"#7201a8"
													],
													[
														0.3333333333333333,
														"#9c179e"
													],
													[
														0.4444444444444444,
														"#bd3786"
													],
													[
														0.5555555555555556,
														"#d8576b"
													],
													[
														0.6666666666666666,
														"#ed7953"
													],
													[
														0.7777777777777778,
														"#fb9f3a"
													],
													[
														0.8888888888888888,
														"#fdca26"
													],
													[
														1,
														"#f0f921"
													]
												],
												"type": "histogram2d"
											}
										],
										"histogram2dcontour": [
											{
												"colorbar": {
													"outlinewidth": 0,
													"ticks": ""
												},
												"colorscale": [
													[
														0,
														"#0d0887"
													],
													[
														0.1111111111111111,
														"#46039f"
													],
													[
														0.2222222222222222,
														"#7201a8"
													],
													[
														0.3333333333333333,
														"#9c179e"
													],
													[
														0.4444444444444444,
														"#bd3786"
													],
													[
														0.5555555555555556,
														"#d8576b"
													],
													[
														0.6666666666666666,
														"#ed7953"
													],
													[
														0.7777777777777778,
														"#fb9f3a"
													],
													[
														0.8888888888888888,
														"#fdca26"
													],
													[
														1,
														"#f0f921"
													]
												],
												"type": "histogram2dcontour"
											}
										],
										"mesh3d": [
											{
												"colorbar": {
													"outlinewidth": 0,
													"ticks": ""
												},
												"type": "mesh3d"
											}
										],
										"parcoords": [
											{
												"line": {
													"colorbar": {
														"outlinewidth": 0,
														"ticks": ""
													}
												},
												"type": "parcoords"
											}
										],
										"pie": [
											{
												"automargin": true,
												"type": "pie"
											}
										],
										"scatter": [
											{
												"fillpattern": {
													"fillmode": "overlay",
													"size": 10,
													"solidity": 0.2
												},
												"type": "scatter"
											}
										],
										"scatter3d": [
											{
												"line": {
													"colorbar": {
														"outlinewidth": 0,
														"ticks": ""
													}
												},
												"marker": {
													"colorbar": {
														"outlinewidth": 0,
														"ticks": ""
													}
												},
												"type": "scatter3d"
											}
										],
										"scattercarpet": [
											{
												"marker": {
													"colorbar": {
														"outlinewidth": 0,
														"ticks": ""
													}
												},
												"type": "scattercarpet"
											}
										],
										"scattergeo": [
											{
												"marker": {
													"colorbar": {
														"outlinewidth": 0,
														"ticks": ""
													}
												},
												"type": "scattergeo"
											}
										],
										"scattergl": [
											{
												"marker": {
													"colorbar": {
														"outlinewidth": 0,
														"ticks": ""
													}
												},
												"type": "scattergl"
											}
										],
										"scattermap": [
											{
												"marker": {
													"colorbar": {
														"outlinewidth": 0,
														"ticks": ""
													}
												},
												"type": "scattermap"
											}
										],
										"scattermapbox": [
											{
												"marker": {
													"colorbar": {
														"outlinewidth": 0,
														"ticks": ""
													}
												},
												"type": "scattermapbox"
											}
										],
										"scatterpolar": [
											{
												"marker": {
													"colorbar": {
														"outlinewidth": 0,
														"ticks": ""
													}
												},
												"type": "scatterpolar"
											}
										],
										"scatterpolargl": [
											{
												"marker": {
													"colorbar": {
														"outlinewidth": 0,
														"ticks": ""
													}
												},
												"type": "scatterpolargl"
											}
										],
										"scatterternary": [
											{
												"marker": {
													"colorbar": {
														"outlinewidth": 0,
														"ticks": ""
													}
												},
												"type": "scatterternary"
											}
										],
										"surface": [
											{
												"colorbar": {
													"outlinewidth": 0,
													"ticks": ""
												},
												"colorscale": [
													[
														0,
														"#0d0887"
													],
													[
														0.1111111111111111,
														"#46039f"
													],
													[
														0.2222222222222222,
														"#7201a8"
													],
													[
														0.3333333333333333,
														"#9c179e"
													],
													[
														0.4444444444444444,
														"#bd3786"
													],
													[
														0.5555555555555556,
														"#d8576b"
													],
													[
														0.6666666666666666,
														"#ed7953"
													],
													[
														0.7777777777777778,
														"#fb9f3a"
													],
													[
														0.8888888888888888,
														"#fdca26"
													],
													[
														1,
														"#f0f921"
													]
												],
												"type": "surface"
											}
										],
										"table": [
											{
												"cells": {
													"fill": {
														"color": "#EBF0F8"
													},
													"line": {
														"color": "white"
													}
												},
												"header": {
													"fill": {
														"color": "#C8D4E3"
													},
													"line": {
														"color": "white"
													}
												},
												"type": "table"
											}
										]
									},
									"layout": {
										"annotationdefaults": {
											"arrowcolor": "#2a3f5f",
											"arrowhead": 0,
											"arrowwidth": 1
										},
										"autotypenumbers": "strict",
										"coloraxis": {
											"colorbar": {
												"outlinewidth": 0,
												"ticks": ""
											}
										},
										"colorscale": {
											"diverging": [
												[
													0,
													"#8e0152"
												],
												[
													0.1,
													"#c51b7d"
												],
												[
													0.2,
													"#de77ae"
												],
												[
													0.3,
													"#f1b6da"
												],
												[
													0.4,
													"#fde0ef"
												],
												[
													0.5,
													"#f7f7f7"
												],
												[
													0.6,
													"#e6f5d0"
												],
												[
													0.7,
													"#b8e186"
												],
												[
													0.8,
													"#7fbc41"
												],
												[
													0.9,
													"#4d9221"
												],
												[
													1,
													"#276419"
												]
											],
											"sequential": [
												[
													0,
													"#0d0887"
												],
												[
													0.1111111111111111,
													"#46039f"
												],
												[
													0.2222222222222222,
													"#7201a8"
												],
												[
													0.3333333333333333,
													"#9c179e"
												],
												[
													0.4444444444444444,
													"#bd3786"
												],
												[
													0.5555555555555556,
													"#d8576b"
												],
												[
													0.6666666666666666,
													"#ed7953"
												],
												[
													0.7777777777777778,
													"#fb9f3a"
												],
												[
													0.8888888888888888,
													"#fdca26"
												],
												[
													1,
													"#f0f921"
												]
											],
											"sequentialminus": [
												[
													0,
													"#0d0887"
												],
												[
													0.1111111111111111,
													"#46039f"
												],
												[
													0.2222222222222222,
													"#7201a8"
												],
												[
													0.3333333333333333,
													"#9c179e"
												],
												[
													0.4444444444444444,
													"#bd3786"
												],
												[
													0.5555555555555556,
													"#d8576b"
												],
												[
													0.6666666666666666,
													"#ed7953"
												],
												[
													0.7777777777777778,
													"#fb9f3a"
												],
												[
													0.8888888888888888,
													"#fdca26"
												],
												[
													1,
													"#f0f921"
												]
											]
										},
										"colorway": [
											"#636efa",
											"#EF553B",
											"#00cc96",
											"#ab63fa",
											"#FFA15A",
											"#19d3f3",
											"#FF6692",
											"#B6E880",
											"#FF97FF",
											"#FECB52"
										],
										"font": {
											"color": "#2a3f5f"
										},
										"geo": {
											"bgcolor": "white",
											"lakecolor": "white",
											"landcolor": "#E5ECF6",
											"showlakes": true,
											"showland": true,
											"subunitcolor": "white"
										},
										"hoverlabel": {
											"align": "left"
										},
										"hovermode": "closest",
										"mapbox": {
											"style": "light"
										},
										"paper_bgcolor": "white",
										"plot_bgcolor": "#E5ECF6",
										"polar": {
											"angularaxis": {
												"gridcolor": "white",
												"linecolor": "white",
												"ticks": ""
											},
											"bgcolor": "#E5ECF6",
											"radialaxis": {
												"gridcolor": "white",
												"linecolor": "white",
												"ticks": ""
											}
										},
										"scene": {
											"xaxis": {
												"backgroundcolor": "#E5ECF6",
												"gridcolor": "white",
												"gridwidth": 2,
												"linecolor": "white",
												"showbackground": true,
												"ticks": "",
												"zerolinecolor": "white"
											},
											"yaxis": {
												"backgroundcolor": "#E5ECF6",
												"gridcolor": "white",
												"gridwidth": 2,
												"linecolor": "white",
												"showbackground": true,
												"ticks": "",
												"zerolinecolor": "white"
											},
											"zaxis": {
												"backgroundcolor": "#E5ECF6",
												"gridcolor": "white",
												"gridwidth": 2,
												"linecolor": "white",
												"showbackground": true,
												"ticks": "",
												"zerolinecolor": "white"
											}
										},
										"shapedefaults": {
											"line": {
												"color": "#2a3f5f"
											}
										},
										"ternary": {
											"aaxis": {
												"gridcolor": "white",
												"linecolor": "white",
												"ticks": ""
											},
											"baxis": {
												"gridcolor": "white",
												"linecolor": "white",
												"ticks": ""
											},
											"bgcolor": "#E5ECF6",
											"caxis": {
												"gridcolor": "white",
												"linecolor": "white",
												"ticks": ""
											}
										},
										"title": {
											"x": 0.05
										},
										"xaxis": {
											"automargin": true,
											"gridcolor": "white",
											"linecolor": "white",
											"ticks": "",
											"title": {
												"standoff": 15
											},
											"zerolinecolor": "white",
											"zerolinewidth": 2
										},
										"yaxis": {
											"automargin": true,
											"gridcolor": "white",
											"linecolor": "white",
											"ticks": "",
											"title": {
												"standoff": 15
											},
											"zerolinecolor": "white",
											"zerolinewidth": 2
										}
									}
								},
								"title": {
									"text": "Comparison of SHG Spectrum: Simulator vs. Verification\nDesign λ: 1.031 μm, Temp: 70.0°C"
								},
								"xaxis": {
									"title": {
										"text": "Fundamental Wavelength (μm)"
									}
								},
								"yaxis": {
									"title": {
										"text": "Normalized SHG Conversion Efficiency"
									}
								}
							}
						}
					},
					"metadata": {},
					"output_type": "display_data"
				}
			],
			"source": [
				"main()"
			]
		}
	],
	"metadata": {
		"kernelspec": {
			"display_name": ".venv",
			"language": "python",
			"name": "python3"
		},
		"language_info": {
			"codemirror_mode": {
				"name": "ipython",
				"version": 3
			},
			"file_extension": ".py",
			"mimetype": "text/x-python",
			"name": "python",
			"nbconvert_exporter": "python",
			"pygments_lexer": "ipython3",
			"version": "3.13.8"
		}
	},
	"nbformat": 4,
	"nbformat_minor": 5
}
