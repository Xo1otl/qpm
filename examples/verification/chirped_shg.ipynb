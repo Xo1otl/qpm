{
 "cells": [
  {
   "cell_type": "code",
   "execution_count": 1,
   "id": "26bfb403",
   "metadata": {},
   "outputs": [],
   "source": [
    "import jax.numpy as jnp\n",
    "import plotly.graph_objects as go  # pyright: ignore[reportMissingTypeStubs]\n",
    "from jax import jit, vmap\n",
    "\n",
    "from qpm import cwes, grating, mgoslt\n",
    "\n",
    "compute_shg_vectors = jit(vmap(cwes.simulate_twm, in_axes=(None, None, 0, 0, None)))\n",
    "\n",
    "\n",
    "def main() -> None:\n",
    "    \"\"\"Main function to run the chirped SHG simulation and plot results.\"\"\"\n",
    "    # --- Parameters ---\n",
    "    num_domains = 600\n",
    "    initial_width = 3.6  # μm\n",
    "    chirp_rate = 0.0001  # Chirp rate\n",
    "    kappa_mag = 1.31e-5 / (2 / jnp.pi)  # Nonlinear coupling coefficient magnitude\n",
    "    temperature = 70.0  # Operating temperature (°C)\n",
    "    wl_start, wl_end, num_points = 0.931, 1.066, 1000\n",
    "\n",
    "    # --- Setup & Simulation ---\n",
    "    print(\"1. Building grating and preparing simulation inputs...\")\n",
    "    profile = grating.tapered_profile(num_domains, initial_width, chirp_rate, kappa_mag)\n",
    "    widths, kappas = grating.build(profile)\n",
    "\n",
    "    wls = jnp.linspace(wl_start, wl_end, num_points)\n",
    "    # Unpack the phase mismatch values directly\n",
    "    delta_k1s = mgoslt.calc_twm_delta_k(wls, wls, temperature)\n",
    "    delta_k2s = mgoslt.calc_twm_delta_k(wls, wls / 2, temperature)\n",
    "    b_initial = jnp.array([1.0, 0.0, 0.0], dtype=jnp.complex64)\n",
    "\n",
    "    print(\"2. Running SHG simulation...\")\n",
    "    # Pass the unpacked arrays to the vmapped function.\n",
    "    b_final_vectors = compute_shg_vectors(widths, kappas, delta_k1s, delta_k2s, b_initial)\n",
    "\n",
    "    # Calculate the desired efficiency from the state vectors.\n",
    "    efficiencies = jnp.abs(b_final_vectors[:, 1]) ** 2\n",
    "\n",
    "    # --- Plotting Results ---\n",
    "    print(\"3. Plotting results...\")\n",
    "    fig = go.Figure()\n",
    "    fig.add_trace(\n",
    "        go.Scatter(\n",
    "            x=wls,\n",
    "            y=efficiencies * 100,\n",
    "            mode=\"lines\",\n",
    "            name=\"SHG Conversion Efficiency\",\n",
    "            line={\"color\": \"blue\", \"width\": 2},\n",
    "        ),\n",
    "    )\n",
    "    fig.update_layout(\n",
    "        title_text=f\"Chirped SHG Spectrum ({num_domains} domains)\",\n",
    "        xaxis_title=\"Fundamental Wavelength (μm)\",\n",
    "        yaxis_title=\"SHG Conversion Efficiency (%/W)\",\n",
    "        template=\"plotly_white\",\n",
    "    )\n",
    "    fig.show()"
   ]
  },
  {
   "cell_type": "code",
   "execution_count": 3,
   "id": "9f50dd07",
   "metadata": {},
   "outputs": [
    {
     "name": "stdout",
     "output_type": "stream",
     "text": [
      "1. Building grating and preparing simulation inputs...\n",
      "2. Running SHG simulation...\n",
      "3. Plotting results...\n"
     ]
    },
    {
     "data": {
      "application/vnd.plotly.v1+json": {
       "config": {
        "plotlyServerURL": "https://plot.ly"
       },
       "data": [
        {
         "line": {
          "color": "blue",
          "width": 2
         },
         "mode": "lines",
         "name": "SHG Conversion Efficiency",
         "type": "scatter",
         "x": {
          "bdata": "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",
          "dtype": "f4"
         },
         "y": {
          "bdata": "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",
          "dtype": "f4"
         }
        }
       ],
       "layout": {
        "template": {
         "data": {
          "bar": [
           {
            "error_x": {
             "color": "#2a3f5f"
            },
            "error_y": {
             "color": "#2a3f5f"
            },
            "marker": {
             "line": {
              "color": "white",
              "width": 0.5
             },
             "pattern": {
              "fillmode": "overlay",
              "size": 10,
              "solidity": 0.2
             }
            },
            "type": "bar"
           }
          ],
          "barpolar": [
           {
            "marker": {
             "line": {
              "color": "white",
              "width": 0.5
             },
             "pattern": {
              "fillmode": "overlay",
              "size": 10,
              "solidity": 0.2
             }
            },
            "type": "barpolar"
           }
          ],
          "carpet": [
           {
            "aaxis": {
             "endlinecolor": "#2a3f5f",
             "gridcolor": "#C8D4E3",
             "linecolor": "#C8D4E3",
             "minorgridcolor": "#C8D4E3",
             "startlinecolor": "#2a3f5f"
            },
            "baxis": {
             "endlinecolor": "#2a3f5f",
             "gridcolor": "#C8D4E3",
             "linecolor": "#C8D4E3",
             "minorgridcolor": "#C8D4E3",
             "startlinecolor": "#2a3f5f"
            },
            "type": "carpet"
           }
          ],
          "choropleth": [
           {
            "colorbar": {
             "outlinewidth": 0,
             "ticks": ""
            },
            "type": "choropleth"
           }
          ],
          "contour": [
           {
            "colorbar": {
             "outlinewidth": 0,
             "ticks": ""
            },
            "colorscale": [
             [
              0,
              "#0d0887"
             ],
             [
              0.1111111111111111,
              "#46039f"
             ],
             [
              0.2222222222222222,
              "#7201a8"
             ],
             [
              0.3333333333333333,
              "#9c179e"
             ],
             [
              0.4444444444444444,
              "#bd3786"
             ],
             [
              0.5555555555555556,
              "#d8576b"
             ],
             [
              0.6666666666666666,
              "#ed7953"
             ],
             [
              0.7777777777777778,
              "#fb9f3a"
             ],
             [
              0.8888888888888888,
              "#fdca26"
             ],
             [
              1,
              "#f0f921"
             ]
            ],
            "type": "contour"
           }
          ],
          "contourcarpet": [
           {
            "colorbar": {
             "outlinewidth": 0,
             "ticks": ""
            },
            "type": "contourcarpet"
           }
          ],
          "heatmap": [
           {
            "colorbar": {
             "outlinewidth": 0,
             "ticks": ""
            },
            "colorscale": [
             [
              0,
              "#0d0887"
             ],
             [
              0.1111111111111111,
              "#46039f"
             ],
             [
              0.2222222222222222,
              "#7201a8"
             ],
             [
              0.3333333333333333,
              "#9c179e"
             ],
             [
              0.4444444444444444,
              "#bd3786"
             ],
             [
              0.5555555555555556,
              "#d8576b"
             ],
             [
              0.6666666666666666,
              "#ed7953"
             ],
             [
              0.7777777777777778,
              "#fb9f3a"
             ],
             [
              0.8888888888888888,
              "#fdca26"
             ],
             [
              1,
              "#f0f921"
             ]
            ],
            "type": "heatmap"
           }
          ],
          "histogram": [
           {
            "marker": {
             "pattern": {
              "fillmode": "overlay",
              "size": 10,
              "solidity": 0.2
             }
            },
            "type": "histogram"
           }
          ],
          "histogram2d": [
           {
            "colorbar": {
             "outlinewidth": 0,
             "ticks": ""
            },
            "colorscale": [
             [
              0,
              "#0d0887"
             ],
             [
              0.1111111111111111,
              "#46039f"
             ],
             [
              0.2222222222222222,
              "#7201a8"
             ],
             [
              0.3333333333333333,
              "#9c179e"
             ],
             [
              0.4444444444444444,
              "#bd3786"
             ],
             [
              0.5555555555555556,
              "#d8576b"
             ],
             [
              0.6666666666666666,
              "#ed7953"
             ],
             [
              0.7777777777777778,
              "#fb9f3a"
             ],
             [
              0.8888888888888888,
              "#fdca26"
             ],
             [
              1,
              "#f0f921"
             ]
            ],
            "type": "histogram2d"
           }
          ],
          "histogram2dcontour": [
           {
            "colorbar": {
             "outlinewidth": 0,
             "ticks": ""
            },
            "colorscale": [
             [
              0,
              "#0d0887"
             ],
             [
              0.1111111111111111,
              "#46039f"
             ],
             [
              0.2222222222222222,
              "#7201a8"
             ],
             [
              0.3333333333333333,
              "#9c179e"
             ],
             [
              0.4444444444444444,
              "#bd3786"
             ],
             [
              0.5555555555555556,
              "#d8576b"
             ],
             [
              0.6666666666666666,
              "#ed7953"
             ],
             [
              0.7777777777777778,
              "#fb9f3a"
             ],
             [
              0.8888888888888888,
              "#fdca26"
             ],
             [
              1,
              "#f0f921"
             ]
            ],
            "type": "histogram2dcontour"
           }
          ],
          "mesh3d": [
           {
            "colorbar": {
             "outlinewidth": 0,
             "ticks": ""
            },
            "type": "mesh3d"
           }
          ],
          "parcoords": [
           {
            "line": {
             "colorbar": {
              "outlinewidth": 0,
              "ticks": ""
             }
            },
            "type": "parcoords"
           }
          ],
          "pie": [
           {
            "automargin": true,
            "type": "pie"
           }
          ],
          "scatter": [
           {
            "fillpattern": {
             "fillmode": "overlay",
             "size": 10,
             "solidity": 0.2
            },
            "type": "scatter"
           }
          ],
          "scatter3d": [
           {
            "line": {
             "colorbar": {
              "outlinewidth": 0,
              "ticks": ""
             }
            },
            "marker": {
             "colorbar": {
              "outlinewidth": 0,
              "ticks": ""
             }
            },
            "type": "scatter3d"
           }
          ],
          "scattercarpet": [
           {
            "marker": {
             "colorbar": {
              "outlinewidth": 0,
              "ticks": ""
             }
            },
            "type": "scattercarpet"
           }
          ],
          "scattergeo": [
           {
            "marker": {
             "colorbar": {
              "outlinewidth": 0,
              "ticks": ""
             }
            },
            "type": "scattergeo"
           }
          ],
          "scattergl": [
           {
            "marker": {
             "colorbar": {
              "outlinewidth": 0,
              "ticks": ""
             }
            },
            "type": "scattergl"
           }
          ],
          "scattermap": [
           {
            "marker": {
             "colorbar": {
              "outlinewidth": 0,
              "ticks": ""
             }
            },
            "type": "scattermap"
           }
          ],
          "scattermapbox": [
           {
            "marker": {
             "colorbar": {
              "outlinewidth": 0,
              "ticks": ""
             }
            },
            "type": "scattermapbox"
           }
          ],
          "scatterpolar": [
           {
            "marker": {
             "colorbar": {
              "outlinewidth": 0,
              "ticks": ""
             }
            },
            "type": "scatterpolar"
           }
          ],
          "scatterpolargl": [
           {
            "marker": {
             "colorbar": {
              "outlinewidth": 0,
              "ticks": ""
             }
            },
            "type": "scatterpolargl"
           }
          ],
          "scatterternary": [
           {
            "marker": {
             "colorbar": {
              "outlinewidth": 0,
              "ticks": ""
             }
            },
            "type": "scatterternary"
           }
          ],
          "surface": [
           {
            "colorbar": {
             "outlinewidth": 0,
             "ticks": ""
            },
            "colorscale": [
             [
              0,
              "#0d0887"
             ],
             [
              0.1111111111111111,
              "#46039f"
             ],
             [
              0.2222222222222222,
              "#7201a8"
             ],
             [
              0.3333333333333333,
              "#9c179e"
             ],
             [
              0.4444444444444444,
              "#bd3786"
             ],
             [
              0.5555555555555556,
              "#d8576b"
             ],
             [
              0.6666666666666666,
              "#ed7953"
             ],
             [
              0.7777777777777778,
              "#fb9f3a"
             ],
             [
              0.8888888888888888,
              "#fdca26"
             ],
             [
              1,
              "#f0f921"
             ]
            ],
            "type": "surface"
           }
          ],
          "table": [
           {
            "cells": {
             "fill": {
              "color": "#EBF0F8"
             },
             "line": {
              "color": "white"
             }
            },
            "header": {
             "fill": {
              "color": "#C8D4E3"
             },
             "line": {
              "color": "white"
             }
            },
            "type": "table"
           }
          ]
         },
         "layout": {
          "annotationdefaults": {
           "arrowcolor": "#2a3f5f",
           "arrowhead": 0,
           "arrowwidth": 1
          },
          "autotypenumbers": "strict",
          "coloraxis": {
           "colorbar": {
            "outlinewidth": 0,
            "ticks": ""
           }
          },
          "colorscale": {
           "diverging": [
            [
             0,
             "#8e0152"
            ],
            [
             0.1,
             "#c51b7d"
            ],
            [
             0.2,
             "#de77ae"
            ],
            [
             0.3,
             "#f1b6da"
            ],
            [
             0.4,
             "#fde0ef"
            ],
            [
             0.5,
             "#f7f7f7"
            ],
            [
             0.6,
             "#e6f5d0"
            ],
            [
             0.7,
             "#b8e186"
            ],
            [
             0.8,
             "#7fbc41"
            ],
            [
             0.9,
             "#4d9221"
            ],
            [
             1,
             "#276419"
            ]
           ],
           "sequential": [
            [
             0,
             "#0d0887"
            ],
            [
             0.1111111111111111,
             "#46039f"
            ],
            [
             0.2222222222222222,
             "#7201a8"
            ],
            [
             0.3333333333333333,
             "#9c179e"
            ],
            [
             0.4444444444444444,
             "#bd3786"
            ],
            [
             0.5555555555555556,
             "#d8576b"
            ],
            [
             0.6666666666666666,
             "#ed7953"
            ],
            [
             0.7777777777777778,
             "#fb9f3a"
            ],
            [
             0.8888888888888888,
             "#fdca26"
            ],
            [
             1,
             "#f0f921"
            ]
           ],
           "sequentialminus": [
            [
             0,
             "#0d0887"
            ],
            [
             0.1111111111111111,
             "#46039f"
            ],
            [
             0.2222222222222222,
             "#7201a8"
            ],
            [
             0.3333333333333333,
             "#9c179e"
            ],
            [
             0.4444444444444444,
             "#bd3786"
            ],
            [
             0.5555555555555556,
             "#d8576b"
            ],
            [
             0.6666666666666666,
             "#ed7953"
            ],
            [
             0.7777777777777778,
             "#fb9f3a"
            ],
            [
             0.8888888888888888,
             "#fdca26"
            ],
            [
             1,
             "#f0f921"
            ]
           ]
          },
          "colorway": [
           "#636efa",
           "#EF553B",
           "#00cc96",
           "#ab63fa",
           "#FFA15A",
           "#19d3f3",
           "#FF6692",
           "#B6E880",
           "#FF97FF",
           "#FECB52"
          ],
          "font": {
           "color": "#2a3f5f"
          },
          "geo": {
           "bgcolor": "white",
           "lakecolor": "white",
           "landcolor": "white",
           "showlakes": true,
           "showland": true,
           "subunitcolor": "#C8D4E3"
          },
          "hoverlabel": {
           "align": "left"
          },
          "hovermode": "closest",
          "mapbox": {
           "style": "light"
          },
          "paper_bgcolor": "white",
          "plot_bgcolor": "white",
          "polar": {
           "angularaxis": {
            "gridcolor": "#EBF0F8",
            "linecolor": "#EBF0F8",
            "ticks": ""
           },
           "bgcolor": "white",
           "radialaxis": {
            "gridcolor": "#EBF0F8",
            "linecolor": "#EBF0F8",
            "ticks": ""
           }
          },
          "scene": {
           "xaxis": {
            "backgroundcolor": "white",
            "gridcolor": "#DFE8F3",
            "gridwidth": 2,
            "linecolor": "#EBF0F8",
            "showbackground": true,
            "ticks": "",
            "zerolinecolor": "#EBF0F8"
           },
           "yaxis": {
            "backgroundcolor": "white",
            "gridcolor": "#DFE8F3",
            "gridwidth": 2,
            "linecolor": "#EBF0F8",
            "showbackground": true,
            "ticks": "",
            "zerolinecolor": "#EBF0F8"
           },
           "zaxis": {
            "backgroundcolor": "white",
            "gridcolor": "#DFE8F3",
            "gridwidth": 2,
            "linecolor": "#EBF0F8",
            "showbackground": true,
            "ticks": "",
            "zerolinecolor": "#EBF0F8"
           }
          },
          "shapedefaults": {
           "line": {
            "color": "#2a3f5f"
           }
          },
          "ternary": {
           "aaxis": {
            "gridcolor": "#DFE8F3",
            "linecolor": "#A2B1C6",
            "ticks": ""
           },
           "baxis": {
            "gridcolor": "#DFE8F3",
            "linecolor": "#A2B1C6",
            "ticks": ""
           },
           "bgcolor": "white",
           "caxis": {
            "gridcolor": "#DFE8F3",
            "linecolor": "#A2B1C6",
            "ticks": ""
           }
          },
          "title": {
           "x": 0.05
          },
          "xaxis": {
           "automargin": true,
           "gridcolor": "#EBF0F8",
           "linecolor": "#EBF0F8",
           "ticks": "",
           "title": {
            "standoff": 15
           },
           "zerolinecolor": "#EBF0F8",
           "zerolinewidth": 2
          },
          "yaxis": {
           "automargin": true,
           "gridcolor": "#EBF0F8",
           "linecolor": "#EBF0F8",
           "ticks": "",
           "title": {
            "standoff": 15
           },
           "zerolinecolor": "#EBF0F8",
           "zerolinewidth": 2
          }
         }
        },
        "title": {
         "text": "Chirped SHG Spectrum (600 domains)"
        },
        "xaxis": {
         "title": {
          "text": "Fundamental Wavelength (μm)"
         }
        },
        "yaxis": {
         "title": {
          "text": "SHG Conversion Efficiency (%/W)"
         }
        }
       }
      }
     },
     "metadata": {},
     "output_type": "display_data"
    }
   ],
   "source": [
    "main()"
   ]
  }
 ],
 "metadata": {
  "kernelspec": {
   "display_name": ".venv",
   "language": "python",
   "name": "python3"
  },
  "language_info": {
   "codemirror_mode": {
    "name": "ipython",
    "version": 3
   },
   "file_extension": ".py",
   "mimetype": "text/x-python",
   "name": "python",
   "nbconvert_exporter": "python",
   "pygments_lexer": "ipython3",
   "version": "3.13.8"
  }
 },
 "nbformat": 4,
 "nbformat_minor": 5
}
