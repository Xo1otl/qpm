{
 "cells": [
  {
   "cell_type": "code",
   "execution_count": 3,
   "id": "26bfb403",
   "metadata": {},
   "outputs": [],
   "source": [
    "import jax.numpy as jnp\n",
    "import plotly.graph_objects as go  # pyright: ignore[reportMissingTypeStubs]\n",
    "from jax import jit, vmap\n",
    "\n",
    "from qpm import cwes, grating, mgoslt\n",
    "\n",
    "compute_shg_vectors = jit(vmap(cwes.simulate_twm, in_axes=(None, 0, 0, None)))\n",
    "\n",
    "\n",
    "def main() -> None:\n",
    "    \"\"\"Main function to run the chirped SHG simulation and plot results.\"\"\"\n",
    "    # --- Parameters ---\n",
    "    num_domains = 600\n",
    "    initial_width = 3.6  # μm\n",
    "    chirp_rate = 0.0001  # Chirp rate\n",
    "    kappa_mag = 1.31e-5 / (2 / jnp.pi)  # Nonlinear coupling coefficient magnitude\n",
    "    temperature = 70.0  # Operating temperature (°C)\n",
    "    wl_start, wl_end, num_points = 0.931, 1.066, 1000\n",
    "\n",
    "    # --- Setup & Simulation ---\n",
    "    print(\"1. Building grating and preparing simulation inputs...\")\n",
    "    profile = grating.tapered_profile(num_domains, initial_width, chirp_rate, kappa_mag)\n",
    "    superlattice = grating.build(profile)\n",
    "    grating.visualize(superlattice)\n",
    "\n",
    "    wls = jnp.linspace(wl_start, wl_end, num_points)\n",
    "    # Unpack the phase mismatch values directly\n",
    "    delta_k1s = mgoslt.calc_twm_delta_k(wls, wls, temperature)\n",
    "    delta_k2s = mgoslt.calc_twm_delta_k(wls, wls / 2, temperature)\n",
    "    b_initial = jnp.array([1.0, 0.0, 0.0], dtype=jnp.complex64)\n",
    "\n",
    "    print(\"2. Running SHG simulation...\")\n",
    "    # Pass the unpacked arrays to the vmapped function.\n",
    "    b_final_vectors = compute_shg_vectors(superlattice, delta_k1s, delta_k2s, b_initial)\n",
    "\n",
    "    # Calculate the desired efficiency from the state vectors.\n",
    "    efficiencies = jnp.abs(b_final_vectors[:, 1]) ** 2\n",
    "\n",
    "    # --- Plotting Results ---\n",
    "    print(\"3. Plotting results...\")\n",
    "    fig = go.Figure()\n",
    "    fig.add_trace(\n",
    "        go.Scatter(\n",
    "            x=wls,\n",
    "            y=efficiencies * 100,\n",
    "            mode=\"lines\",\n",
    "            name=\"SHG Conversion Efficiency\",\n",
    "            line={\"color\": \"blue\", \"width\": 2},\n",
    "        ),\n",
    "    )\n",
    "    fig.update_layout(\n",
    "        title_text=f\"Chirped SHG Spectrum ({num_domains} domains)\",\n",
    "        xaxis_title=\"Fundamental Wavelength (μm)\",\n",
    "        yaxis_title=\"SHG Conversion Efficiency (%/W)\",\n",
    "        template=\"plotly_white\",\n",
    "    )\n",
    "    fig.show()"
   ]
  },
  {
   "cell_type": "code",
   "execution_count": 4,
   "id": "9f50dd07",
   "metadata": {},
   "outputs": [
    {
     "name": "stdout",
     "output_type": "stream",
     "text": [
      "1. Building grating and preparing simulation inputs...\n"
     ]
    },
    {
     "data": {
      "application/vnd.plotly.v1+json": {
       "config": {
        "plotlyServerURL": "https://plot.ly"
       },
       "data": [
        {
         "hoverinfo": "text",
         "hovertext": [
          "Index: 0<br>Position: 0.000 μm<br>Length: 3.600 μm<br>Kappa: 0.00",
          "Index: 1<br>Position: 3.600 μm<br>Length: 3.599 μm<br>Kappa: -0.00",
          "Index: 2<br>Position: 7.199 μm<br>Length: 3.597 μm<br>Kappa: 0.00",
          "Index: 3<br>Position: 10.796 μm<br>Length: 3.596 μm<br>Kappa: -0.00",
          "Index: 4<br>Position: 14.392 μm<br>Length: 3.595 μm<br>Kappa: 0.00",
          "Index: 5<br>Position: 17.987 μm<br>Length: 3.594 μm<br>Kappa: -0.00",
          "Index: 6<br>Position: 21.581 μm<br>Length: 3.592 μm<br>Kappa: 0.00",
          "Index: 7<br>Position: 25.173 μm<br>Length: 3.591 μm<br>Kappa: -0.00",
          "Index: 8<br>Position: 28.764 μm<br>Length: 3.590 μm<br>Kappa: 0.00",
          "Index: 9<br>Position: 32.353 μm<br>Length: 3.588 μm<br>Kappa: -0.00",
          "Index: 10<br>Position: 35.942 μm<br>Length: 3.587 μm<br>Kappa: 0.00",
          "Index: 11<br>Position: 39.529 μm<br>Length: 3.586 μm<br>Kappa: -0.00",
          "Index: 12<br>Position: 43.115 μm<br>Length: 3.585 μm<br>Kappa: 0.00",
          "Index: 13<br>Position: 46.699 μm<br>Length: 3.583 μm<br>Kappa: -0.00",
          "Index: 14<br>Position: 50.283 μm<br>Length: 3.582 μm<br>Kappa: 0.00",
          "Index: 15<br>Position: 53.865 μm<br>Length: 3.581 μm<br>Kappa: -0.00",
          "Index: 16<br>Position: 57.445 μm<br>Length: 3.579 μm<br>Kappa: 0.00",
          "Index: 17<br>Position: 61.025 μm<br>Length: 3.578 μm<br>Kappa: -0.00",
          "Index: 18<br>Position: 64.603 μm<br>Length: 3.577 μm<br>Kappa: 0.00",
          "Index: 19<br>Position: 68.180 μm<br>Length: 3.576 μm<br>Kappa: -0.00",
          "Index: 20<br>Position: 71.755 μm<br>Length: 3.574 μm<br>Kappa: 0.00",
          "Index: 21<br>Position: 75.330 μm<br>Length: 3.573 μm<br>Kappa: -0.00",
          "Index: 22<br>Position: 78.903 μm<br>Length: 3.572 μm<br>Kappa: 0.00",
          "Index: 23<br>Position: 82.475 μm<br>Length: 3.571 μm<br>Kappa: -0.00",
          "Index: 24<br>Position: 86.045 μm<br>Length: 3.569 μm<br>Kappa: 0.00",
          "Index: 25<br>Position: 89.615 μm<br>Length: 3.568 μm<br>Kappa: -0.00",
          "Index: 26<br>Position: 93.183 μm<br>Length: 3.567 μm<br>Kappa: 0.00",
          "Index: 27<br>Position: 96.749 μm<br>Length: 3.566 μm<br>Kappa: -0.00",
          "Index: 28<br>Position: 100.315 μm<br>Length: 3.564 μm<br>Kappa: 0.00",
          "Index: 29<br>Position: 103.879 μm<br>Length: 3.563 μm<br>Kappa: -0.00",
          "Index: 30<br>Position: 107.442 μm<br>Length: 3.562 μm<br>Kappa: 0.00",
          "Index: 31<br>Position: 111.004 μm<br>Length: 3.560 μm<br>Kappa: -0.00",
          "Index: 32<br>Position: 114.564 μm<br>Length: 3.559 μm<br>Kappa: 0.00",
          "Index: 33<br>Position: 118.124 μm<br>Length: 3.558 μm<br>Kappa: -0.00",
          "Index: 34<br>Position: 121.682 μm<br>Length: 3.557 μm<br>Kappa: 0.00",
          "Index: 35<br>Position: 125.238 μm<br>Length: 3.555 μm<br>Kappa: -0.00",
          "Index: 36<br>Position: 128.794 μm<br>Length: 3.554 μm<br>Kappa: 0.00",
          "Index: 37<br>Position: 132.348 μm<br>Length: 3.553 μm<br>Kappa: -0.00",
          "Index: 38<br>Position: 135.901 μm<br>Length: 3.552 μm<br>Kappa: 0.00",
          "Index: 39<br>Position: 139.453 μm<br>Length: 3.550 μm<br>Kappa: -0.00",
          "Index: 40<br>Position: 143.003 μm<br>Length: 3.549 μm<br>Kappa: 0.00",
          "Index: 41<br>Position: 146.552 μm<br>Length: 3.548 μm<br>Kappa: -0.00",
          "Index: 42<br>Position: 150.101 μm<br>Length: 3.547 μm<br>Kappa: 0.00",
          "Index: 43<br>Position: 153.647 μm<br>Length: 3.546 μm<br>Kappa: -0.00",
          "Index: 44<br>Position: 157.193 μm<br>Length: 3.544 μm<br>Kappa: 0.00",
          "Index: 45<br>Position: 160.737 μm<br>Length: 3.543 μm<br>Kappa: -0.00",
          "Index: 46<br>Position: 164.280 μm<br>Length: 3.542 μm<br>Kappa: 0.00",
          "Index: 47<br>Position: 167.822 μm<br>Length: 3.541 μm<br>Kappa: -0.00",
          "Index: 48<br>Position: 171.363 μm<br>Length: 3.539 μm<br>Kappa: 0.00",
          "Index: 49<br>Position: 174.902 μm<br>Length: 3.538 μm<br>Kappa: -0.00",
          "Index: 50<br>Position: 178.440 μm<br>Length: 3.537 μm<br>Kappa: 0.00",
          "Index: 51<br>Position: 181.977 μm<br>Length: 3.536 μm<br>Kappa: -0.00",
          "Index: 52<br>Position: 185.513 μm<br>Length: 3.534 μm<br>Kappa: 0.00",
          "Index: 53<br>Position: 189.047 μm<br>Length: 3.533 μm<br>Kappa: -0.00",
          "Index: 54<br>Position: 192.580 μm<br>Length: 3.532 μm<br>Kappa: 0.00",
          "Index: 55<br>Position: 196.112 μm<br>Length: 3.531 μm<br>Kappa: -0.00",
          "Index: 56<br>Position: 199.643 μm<br>Length: 3.530 μm<br>Kappa: 0.00",
          "Index: 57<br>Position: 203.173 μm<br>Length: 3.528 μm<br>Kappa: -0.00",
          "Index: 58<br>Position: 206.701 μm<br>Length: 3.527 μm<br>Kappa: 0.00",
          "Index: 59<br>Position: 210.228 μm<br>Length: 3.526 μm<br>Kappa: -0.00",
          "Index: 60<br>Position: 213.754 μm<br>Length: 3.525 μm<br>Kappa: 0.00",
          "Index: 61<br>Position: 217.279 μm<br>Length: 3.523 μm<br>Kappa: -0.00",
          "Index: 62<br>Position: 220.802 μm<br>Length: 3.522 μm<br>Kappa: 0.00",
          "Index: 63<br>Position: 224.324 μm<br>Length: 3.521 μm<br>Kappa: -0.00",
          "Index: 64<br>Position: 227.845 μm<br>Length: 3.520 μm<br>Kappa: 0.00",
          "Index: 65<br>Position: 231.365 μm<br>Length: 3.519 μm<br>Kappa: -0.00",
          "Index: 66<br>Position: 234.884 μm<br>Length: 3.517 μm<br>Kappa: 0.00",
          "Index: 67<br>Position: 238.401 μm<br>Length: 3.516 μm<br>Kappa: -0.00",
          "Index: 68<br>Position: 241.917 μm<br>Length: 3.515 μm<br>Kappa: 0.00",
          "Index: 69<br>Position: 245.432 μm<br>Length: 3.514 μm<br>Kappa: -0.00",
          "Index: 70<br>Position: 248.946 μm<br>Length: 3.513 μm<br>Kappa: 0.00",
          "Index: 71<br>Position: 252.459 μm<br>Length: 3.511 μm<br>Kappa: -0.00",
          "Index: 72<br>Position: 255.970 μm<br>Length: 3.510 μm<br>Kappa: 0.00",
          "Index: 73<br>Position: 259.480 μm<br>Length: 3.509 μm<br>Kappa: -0.00",
          "Index: 74<br>Position: 262.989 μm<br>Length: 3.508 μm<br>Kappa: 0.00",
          "Index: 75<br>Position: 266.497 μm<br>Length: 3.507 μm<br>Kappa: -0.00",
          "Index: 76<br>Position: 270.004 μm<br>Length: 3.505 μm<br>Kappa: 0.00",
          "Index: 77<br>Position: 273.509 μm<br>Length: 3.504 μm<br>Kappa: -0.00",
          "Index: 78<br>Position: 277.013 μm<br>Length: 3.503 μm<br>Kappa: 0.00",
          "Index: 79<br>Position: 280.516 μm<br>Length: 3.502 μm<br>Kappa: -0.00",
          "Index: 80<br>Position: 284.018 μm<br>Length: 3.501 μm<br>Kappa: 0.00",
          "Index: 81<br>Position: 287.518 μm<br>Length: 3.499 μm<br>Kappa: -0.00",
          "Index: 82<br>Position: 291.018 μm<br>Length: 3.498 μm<br>Kappa: 0.00",
          "Index: 83<br>Position: 294.516 μm<br>Length: 3.497 μm<br>Kappa: -0.00",
          "Index: 84<br>Position: 298.013 μm<br>Length: 3.496 μm<br>Kappa: 0.00",
          "Index: 85<br>Position: 301.509 μm<br>Length: 3.495 μm<br>Kappa: -0.00",
          "Index: 86<br>Position: 305.004 μm<br>Length: 3.493 μm<br>Kappa: 0.00",
          "Index: 87<br>Position: 308.497 μm<br>Length: 3.492 μm<br>Kappa: -0.00",
          "Index: 88<br>Position: 311.989 μm<br>Length: 3.491 μm<br>Kappa: 0.00",
          "Index: 89<br>Position: 315.480 μm<br>Length: 3.490 μm<br>Kappa: -0.00",
          "Index: 90<br>Position: 318.970 μm<br>Length: 3.489 μm<br>Kappa: 0.00",
          "Index: 91<br>Position: 322.459 μm<br>Length: 3.488 μm<br>Kappa: -0.00",
          "Index: 92<br>Position: 325.947 μm<br>Length: 3.486 μm<br>Kappa: 0.00",
          "Index: 93<br>Position: 329.433 μm<br>Length: 3.485 μm<br>Kappa: -0.00",
          "Index: 94<br>Position: 332.918 μm<br>Length: 3.484 μm<br>Kappa: 0.00",
          "Index: 95<br>Position: 336.402 μm<br>Length: 3.483 μm<br>Kappa: -0.00",
          "Index: 96<br>Position: 339.885 μm<br>Length: 3.482 μm<br>Kappa: 0.00",
          "Index: 97<br>Position: 343.367 μm<br>Length: 3.481 μm<br>Kappa: -0.00",
          "Index: 98<br>Position: 346.847 μm<br>Length: 3.479 μm<br>Kappa: 0.00",
          "Index: 99<br>Position: 350.327 μm<br>Length: 3.478 μm<br>Kappa: -0.00",
          "Index: 100<br>Position: 353.805 μm<br>Length: 3.477 μm<br>Kappa: 0.00",
          "Index: 101<br>Position: 357.282 μm<br>Length: 3.476 μm<br>Kappa: -0.00",
          "Index: 102<br>Position: 360.758 μm<br>Length: 3.475 μm<br>Kappa: 0.00",
          "Index: 103<br>Position: 364.232 μm<br>Length: 3.474 μm<br>Kappa: -0.00",
          "Index: 104<br>Position: 367.706 μm<br>Length: 3.472 μm<br>Kappa: 0.00",
          "Index: 105<br>Position: 371.178 μm<br>Length: 3.471 μm<br>Kappa: -0.00",
          "Index: 106<br>Position: 374.649 μm<br>Length: 3.470 μm<br>Kappa: 0.00",
          "Index: 107<br>Position: 378.119 μm<br>Length: 3.469 μm<br>Kappa: -0.00",
          "Index: 108<br>Position: 381.588 μm<br>Length: 3.468 μm<br>Kappa: 0.00",
          "Index: 109<br>Position: 385.056 μm<br>Length: 3.467 μm<br>Kappa: -0.00",
          "Index: 110<br>Position: 388.522 μm<br>Length: 3.465 μm<br>Kappa: 0.00",
          "Index: 111<br>Position: 391.988 μm<br>Length: 3.464 μm<br>Kappa: -0.00",
          "Index: 112<br>Position: 395.452 μm<br>Length: 3.463 μm<br>Kappa: 0.00",
          "Index: 113<br>Position: 398.915 μm<br>Length: 3.462 μm<br>Kappa: -0.00",
          "Index: 114<br>Position: 402.377 μm<br>Length: 3.461 μm<br>Kappa: 0.00",
          "Index: 115<br>Position: 405.838 μm<br>Length: 3.460 μm<br>Kappa: -0.00",
          "Index: 116<br>Position: 409.297 μm<br>Length: 3.458 μm<br>Kappa: 0.00",
          "Index: 117<br>Position: 412.756 μm<br>Length: 3.457 μm<br>Kappa: -0.00",
          "Index: 118<br>Position: 416.213 μm<br>Length: 3.456 μm<br>Kappa: 0.00",
          "Index: 119<br>Position: 419.669 μm<br>Length: 3.455 μm<br>Kappa: -0.00",
          "Index: 120<br>Position: 423.124 μm<br>Length: 3.454 μm<br>Kappa: 0.00",
          "Index: 121<br>Position: 426.578 μm<br>Length: 3.453 μm<br>Kappa: -0.00",
          "Index: 122<br>Position: 430.031 μm<br>Length: 3.452 μm<br>Kappa: 0.00",
          "Index: 123<br>Position: 433.483 μm<br>Length: 3.450 μm<br>Kappa: -0.00",
          "Index: 124<br>Position: 436.933 μm<br>Length: 3.449 μm<br>Kappa: 0.00",
          "Index: 125<br>Position: 440.382 μm<br>Length: 3.448 μm<br>Kappa: -0.00",
          "Index: 126<br>Position: 443.831 μm<br>Length: 3.447 μm<br>Kappa: 0.00",
          "Index: 127<br>Position: 447.278 μm<br>Length: 3.446 μm<br>Kappa: -0.00",
          "Index: 128<br>Position: 450.724 μm<br>Length: 3.445 μm<br>Kappa: 0.00",
          "Index: 129<br>Position: 454.168 μm<br>Length: 3.444 μm<br>Kappa: -0.00",
          "Index: 130<br>Position: 457.612 μm<br>Length: 3.442 μm<br>Kappa: 0.00",
          "Index: 131<br>Position: 461.054 μm<br>Length: 3.441 μm<br>Kappa: -0.00",
          "Index: 132<br>Position: 464.496 μm<br>Length: 3.440 μm<br>Kappa: 0.00",
          "Index: 133<br>Position: 467.936 μm<br>Length: 3.439 μm<br>Kappa: -0.00",
          "Index: 134<br>Position: 471.375 μm<br>Length: 3.438 μm<br>Kappa: 0.00",
          "Index: 135<br>Position: 474.813 μm<br>Length: 3.437 μm<br>Kappa: -0.00",
          "Index: 136<br>Position: 478.250 μm<br>Length: 3.436 μm<br>Kappa: 0.00",
          "Index: 137<br>Position: 481.686 μm<br>Length: 3.435 μm<br>Kappa: -0.00",
          "Index: 138<br>Position: 485.120 μm<br>Length: 3.433 μm<br>Kappa: 0.00",
          "Index: 139<br>Position: 488.554 μm<br>Length: 3.432 μm<br>Kappa: -0.00",
          "Index: 140<br>Position: 491.986 μm<br>Length: 3.431 μm<br>Kappa: 0.00",
          "Index: 141<br>Position: 495.417 μm<br>Length: 3.430 μm<br>Kappa: -0.00",
          "Index: 142<br>Position: 498.847 μm<br>Length: 3.429 μm<br>Kappa: 0.00",
          "Index: 143<br>Position: 502.276 μm<br>Length: 3.428 μm<br>Kappa: -0.00",
          "Index: 144<br>Position: 505.704 μm<br>Length: 3.427 μm<br>Kappa: 0.00",
          "Index: 145<br>Position: 509.131 μm<br>Length: 3.426 μm<br>Kappa: -0.00",
          "Index: 146<br>Position: 512.557 μm<br>Length: 3.425 μm<br>Kappa: 0.00",
          "Index: 147<br>Position: 515.981 μm<br>Length: 3.423 μm<br>Kappa: -0.00",
          "Index: 148<br>Position: 519.404 μm<br>Length: 3.422 μm<br>Kappa: 0.00",
          "Index: 149<br>Position: 522.827 μm<br>Length: 3.421 μm<br>Kappa: -0.00",
          "Index: 150<br>Position: 526.248 μm<br>Length: 3.420 μm<br>Kappa: 0.00",
          "Index: 151<br>Position: 529.668 μm<br>Length: 3.419 μm<br>Kappa: -0.00",
          "Index: 152<br>Position: 533.087 μm<br>Length: 3.418 μm<br>Kappa: 0.00",
          "Index: 153<br>Position: 536.505 μm<br>Length: 3.417 μm<br>Kappa: -0.00",
          "Index: 154<br>Position: 539.921 μm<br>Length: 3.416 μm<br>Kappa: 0.00",
          "Index: 155<br>Position: 543.337 μm<br>Length: 3.415 μm<br>Kappa: -0.00",
          "Index: 156<br>Position: 546.752 μm<br>Length: 3.413 μm<br>Kappa: 0.00",
          "Index: 157<br>Position: 550.165 μm<br>Length: 3.412 μm<br>Kappa: -0.00",
          "Index: 158<br>Position: 553.577 μm<br>Length: 3.411 μm<br>Kappa: 0.00",
          "Index: 159<br>Position: 556.988 μm<br>Length: 3.410 μm<br>Kappa: -0.00",
          "Index: 160<br>Position: 560.399 μm<br>Length: 3.409 μm<br>Kappa: 0.00",
          "Index: 161<br>Position: 563.808 μm<br>Length: 3.408 μm<br>Kappa: -0.00",
          "Index: 162<br>Position: 567.215 μm<br>Length: 3.407 μm<br>Kappa: 0.00",
          "Index: 163<br>Position: 570.622 μm<br>Length: 3.406 μm<br>Kappa: -0.00",
          "Index: 164<br>Position: 574.028 μm<br>Length: 3.405 μm<br>Kappa: 0.00",
          "Index: 165<br>Position: 577.433 μm<br>Length: 3.404 μm<br>Kappa: -0.00",
          "Index: 166<br>Position: 580.836 μm<br>Length: 3.402 μm<br>Kappa: 0.00",
          "Index: 167<br>Position: 584.238 μm<br>Length: 3.401 μm<br>Kappa: -0.00",
          "Index: 168<br>Position: 587.640 μm<br>Length: 3.400 μm<br>Kappa: 0.00",
          "Index: 169<br>Position: 591.040 μm<br>Length: 3.399 μm<br>Kappa: -0.00",
          "Index: 170<br>Position: 594.439 μm<br>Length: 3.398 μm<br>Kappa: 0.00",
          "Index: 171<br>Position: 597.837 μm<br>Length: 3.397 μm<br>Kappa: -0.00",
          "Index: 172<br>Position: 601.234 μm<br>Length: 3.396 μm<br>Kappa: 0.00",
          "Index: 173<br>Position: 604.630 μm<br>Length: 3.395 μm<br>Kappa: -0.00",
          "Index: 174<br>Position: 608.025 μm<br>Length: 3.394 μm<br>Kappa: 0.00",
          "Index: 175<br>Position: 611.418 μm<br>Length: 3.393 μm<br>Kappa: -0.00",
          "Index: 176<br>Position: 614.811 μm<br>Length: 3.392 μm<br>Kappa: 0.00",
          "Index: 177<br>Position: 618.203 μm<br>Length: 3.390 μm<br>Kappa: -0.00",
          "Index: 178<br>Position: 621.593 μm<br>Length: 3.389 μm<br>Kappa: 0.00",
          "Index: 179<br>Position: 624.982 μm<br>Length: 3.388 μm<br>Kappa: -0.00",
          "Index: 180<br>Position: 628.371 μm<br>Length: 3.387 μm<br>Kappa: 0.00",
          "Index: 181<br>Position: 631.758 μm<br>Length: 3.386 μm<br>Kappa: -0.00",
          "Index: 182<br>Position: 635.144 μm<br>Length: 3.385 μm<br>Kappa: 0.00",
          "Index: 183<br>Position: 638.529 μm<br>Length: 3.384 μm<br>Kappa: -0.00",
          "Index: 184<br>Position: 641.913 μm<br>Length: 3.383 μm<br>Kappa: 0.00",
          "Index: 185<br>Position: 645.296 μm<br>Length: 3.382 μm<br>Kappa: -0.00",
          "Index: 186<br>Position: 648.678 μm<br>Length: 3.381 μm<br>Kappa: 0.00",
          "Index: 187<br>Position: 652.058 μm<br>Length: 3.380 μm<br>Kappa: -0.00",
          "Index: 188<br>Position: 655.438 μm<br>Length: 3.379 μm<br>Kappa: 0.00",
          "Index: 189<br>Position: 658.817 μm<br>Length: 3.378 μm<br>Kappa: -0.00",
          "Index: 190<br>Position: 662.194 μm<br>Length: 3.376 μm<br>Kappa: 0.00",
          "Index: 191<br>Position: 665.571 μm<br>Length: 3.375 μm<br>Kappa: -0.00",
          "Index: 192<br>Position: 668.946 μm<br>Length: 3.374 μm<br>Kappa: 0.00",
          "Index: 193<br>Position: 672.320 μm<br>Length: 3.373 μm<br>Kappa: -0.00",
          "Index: 194<br>Position: 675.694 μm<br>Length: 3.372 μm<br>Kappa: 0.00",
          "Index: 195<br>Position: 679.066 μm<br>Length: 3.371 μm<br>Kappa: -0.00",
          "Index: 196<br>Position: 682.437 μm<br>Length: 3.370 μm<br>Kappa: 0.00",
          "Index: 197<br>Position: 685.807 μm<br>Length: 3.369 μm<br>Kappa: -0.00",
          "Index: 198<br>Position: 689.176 μm<br>Length: 3.368 μm<br>Kappa: 0.00",
          "Index: 199<br>Position: 692.544 μm<br>Length: 3.367 μm<br>Kappa: -0.00",
          "Index: 200<br>Position: 695.911 μm<br>Length: 3.366 μm<br>Kappa: 0.00",
          "Index: 201<br>Position: 699.276 μm<br>Length: 3.365 μm<br>Kappa: -0.00",
          "Index: 202<br>Position: 702.641 μm<br>Length: 3.364 μm<br>Kappa: 0.00",
          "Index: 203<br>Position: 706.005 μm<br>Length: 3.363 μm<br>Kappa: -0.00",
          "Index: 204<br>Position: 709.368 μm<br>Length: 3.362 μm<br>Kappa: 0.00",
          "Index: 205<br>Position: 712.729 μm<br>Length: 3.361 μm<br>Kappa: -0.00",
          "Index: 206<br>Position: 716.090 μm<br>Length: 3.359 μm<br>Kappa: 0.00",
          "Index: 207<br>Position: 719.449 μm<br>Length: 3.358 μm<br>Kappa: -0.00",
          "Index: 208<br>Position: 722.808 μm<br>Length: 3.357 μm<br>Kappa: 0.00",
          "Index: 209<br>Position: 726.165 μm<br>Length: 3.356 μm<br>Kappa: -0.00",
          "Index: 210<br>Position: 729.521 μm<br>Length: 3.355 μm<br>Kappa: 0.00",
          "Index: 211<br>Position: 732.877 μm<br>Length: 3.354 μm<br>Kappa: -0.00",
          "Index: 212<br>Position: 736.231 μm<br>Length: 3.353 μm<br>Kappa: 0.00",
          "Index: 213<br>Position: 739.584 μm<br>Length: 3.352 μm<br>Kappa: -0.00",
          "Index: 214<br>Position: 742.936 μm<br>Length: 3.351 μm<br>Kappa: 0.00",
          "Index: 215<br>Position: 746.287 μm<br>Length: 3.350 μm<br>Kappa: -0.00",
          "Index: 216<br>Position: 749.637 μm<br>Length: 3.349 μm<br>Kappa: 0.00",
          "Index: 217<br>Position: 752.986 μm<br>Length: 3.348 μm<br>Kappa: -0.00",
          "Index: 218<br>Position: 756.334 μm<br>Length: 3.347 μm<br>Kappa: 0.00",
          "Index: 219<br>Position: 759.681 μm<br>Length: 3.346 μm<br>Kappa: -0.00",
          "Index: 220<br>Position: 763.027 μm<br>Length: 3.345 μm<br>Kappa: 0.00",
          "Index: 221<br>Position: 766.372 μm<br>Length: 3.344 μm<br>Kappa: -0.00",
          "Index: 222<br>Position: 769.715 μm<br>Length: 3.343 μm<br>Kappa: 0.00",
          "Index: 223<br>Position: 773.058 μm<br>Length: 3.342 μm<br>Kappa: -0.00",
          "Index: 224<br>Position: 776.400 μm<br>Length: 3.341 μm<br>Kappa: 0.00",
          "Index: 225<br>Position: 779.741 μm<br>Length: 3.340 μm<br>Kappa: -0.00",
          "Index: 226<br>Position: 783.080 μm<br>Length: 3.339 μm<br>Kappa: 0.00",
          "Index: 227<br>Position: 786.419 μm<br>Length: 3.338 μm<br>Kappa: -0.00",
          "Index: 228<br>Position: 789.756 μm<br>Length: 3.337 μm<br>Kappa: 0.00",
          "Index: 229<br>Position: 793.093 μm<br>Length: 3.336 μm<br>Kappa: -0.00",
          "Index: 230<br>Position: 796.428 μm<br>Length: 3.334 μm<br>Kappa: 0.00",
          "Index: 231<br>Position: 799.763 μm<br>Length: 3.333 μm<br>Kappa: -0.00",
          "Index: 232<br>Position: 803.096 μm<br>Length: 3.332 μm<br>Kappa: 0.00",
          "Index: 233<br>Position: 806.429 μm<br>Length: 3.331 μm<br>Kappa: -0.00",
          "Index: 234<br>Position: 809.760 μm<br>Length: 3.330 μm<br>Kappa: 0.00",
          "Index: 235<br>Position: 813.091 μm<br>Length: 3.329 μm<br>Kappa: -0.00",
          "Index: 236<br>Position: 816.420 μm<br>Length: 3.328 μm<br>Kappa: 0.00",
          "Index: 237<br>Position: 819.748 μm<br>Length: 3.327 μm<br>Kappa: -0.00",
          "Index: 238<br>Position: 823.076 μm<br>Length: 3.326 μm<br>Kappa: 0.00",
          "Index: 239<br>Position: 826.402 μm<br>Length: 3.325 μm<br>Kappa: -0.00",
          "Index: 240<br>Position: 829.727 μm<br>Length: 3.324 μm<br>Kappa: 0.00",
          "Index: 241<br>Position: 833.051 μm<br>Length: 3.323 μm<br>Kappa: -0.00",
          "Index: 242<br>Position: 836.374 μm<br>Length: 3.322 μm<br>Kappa: 0.00",
          "Index: 243<br>Position: 839.697 μm<br>Length: 3.321 μm<br>Kappa: -0.00",
          "Index: 244<br>Position: 843.018 μm<br>Length: 3.320 μm<br>Kappa: 0.00",
          "Index: 245<br>Position: 846.338 μm<br>Length: 3.319 μm<br>Kappa: -0.00",
          "Index: 246<br>Position: 849.657 μm<br>Length: 3.318 μm<br>Kappa: 0.00",
          "Index: 247<br>Position: 852.975 μm<br>Length: 3.317 μm<br>Kappa: -0.00",
          "Index: 248<br>Position: 856.292 μm<br>Length: 3.316 μm<br>Kappa: 0.00",
          "Index: 249<br>Position: 859.608 μm<br>Length: 3.315 μm<br>Kappa: -0.00",
          "Index: 250<br>Position: 862.924 μm<br>Length: 3.314 μm<br>Kappa: 0.00",
          "Index: 251<br>Position: 866.238 μm<br>Length: 3.313 μm<br>Kappa: -0.00",
          "Index: 252<br>Position: 869.551 μm<br>Length: 3.312 μm<br>Kappa: 0.00",
          "Index: 253<br>Position: 872.863 μm<br>Length: 3.311 μm<br>Kappa: -0.00",
          "Index: 254<br>Position: 876.174 μm<br>Length: 3.310 μm<br>Kappa: 0.00",
          "Index: 255<br>Position: 879.484 μm<br>Length: 3.309 μm<br>Kappa: -0.00",
          "Index: 256<br>Position: 882.793 μm<br>Length: 3.308 μm<br>Kappa: 0.00",
          "Index: 257<br>Position: 886.101 μm<br>Length: 3.307 μm<br>Kappa: -0.00",
          "Index: 258<br>Position: 889.408 μm<br>Length: 3.306 μm<br>Kappa: 0.00",
          "Index: 259<br>Position: 892.714 μm<br>Length: 3.305 μm<br>Kappa: -0.00",
          "Index: 260<br>Position: 896.019 μm<br>Length: 3.304 μm<br>Kappa: 0.00",
          "Index: 261<br>Position: 899.323 μm<br>Length: 3.303 μm<br>Kappa: -0.00",
          "Index: 262<br>Position: 902.626 μm<br>Length: 3.302 μm<br>Kappa: 0.00",
          "Index: 263<br>Position: 905.928 μm<br>Length: 3.301 μm<br>Kappa: -0.00",
          "Index: 264<br>Position: 909.229 μm<br>Length: 3.300 μm<br>Kappa: 0.00",
          "Index: 265<br>Position: 912.529 μm<br>Length: 3.299 μm<br>Kappa: -0.00",
          "Index: 266<br>Position: 915.828 μm<br>Length: 3.298 μm<br>Kappa: 0.00",
          "Index: 267<br>Position: 919.126 μm<br>Length: 3.297 μm<br>Kappa: -0.00",
          "Index: 268<br>Position: 922.423 μm<br>Length: 3.296 μm<br>Kappa: 0.00",
          "Index: 269<br>Position: 925.719 μm<br>Length: 3.295 μm<br>Kappa: -0.00",
          "Index: 270<br>Position: 929.014 μm<br>Length: 3.294 μm<br>Kappa: 0.00",
          "Index: 271<br>Position: 932.308 μm<br>Length: 3.293 μm<br>Kappa: -0.00",
          "Index: 272<br>Position: 935.601 μm<br>Length: 3.292 μm<br>Kappa: 0.00",
          "Index: 273<br>Position: 938.893 μm<br>Length: 3.291 μm<br>Kappa: -0.00",
          "Index: 274<br>Position: 942.184 μm<br>Length: 3.290 μm<br>Kappa: 0.00",
          "Index: 275<br>Position: 945.474 μm<br>Length: 3.289 μm<br>Kappa: -0.00",
          "Index: 276<br>Position: 948.763 μm<br>Length: 3.288 μm<br>Kappa: 0.00",
          "Index: 277<br>Position: 952.051 μm<br>Length: 3.287 μm<br>Kappa: -0.00",
          "Index: 278<br>Position: 955.338 μm<br>Length: 3.286 μm<br>Kappa: 0.00",
          "Index: 279<br>Position: 958.625 μm<br>Length: 3.285 μm<br>Kappa: -0.00",
          "Index: 280<br>Position: 961.910 μm<br>Length: 3.284 μm<br>Kappa: 0.00",
          "Index: 281<br>Position: 965.194 μm<br>Length: 3.283 μm<br>Kappa: -0.00",
          "Index: 282<br>Position: 968.477 μm<br>Length: 3.282 μm<br>Kappa: 0.00",
          "Index: 283<br>Position: 971.759 μm<br>Length: 3.281 μm<br>Kappa: -0.00",
          "Index: 284<br>Position: 975.040 μm<br>Length: 3.280 μm<br>Kappa: 0.00",
          "Index: 285<br>Position: 978.321 μm<br>Length: 3.279 μm<br>Kappa: -0.00",
          "Index: 286<br>Position: 981.600 μm<br>Length: 3.278 μm<br>Kappa: 0.00",
          "Index: 287<br>Position: 984.878 μm<br>Length: 3.277 μm<br>Kappa: -0.00",
          "Index: 288<br>Position: 988.155 μm<br>Length: 3.276 μm<br>Kappa: 0.00",
          "Index: 289<br>Position: 991.432 μm<br>Length: 3.275 μm<br>Kappa: -0.00",
          "Index: 290<br>Position: 994.707 μm<br>Length: 3.274 μm<br>Kappa: 0.00",
          "Index: 291<br>Position: 997.981 μm<br>Length: 3.273 μm<br>Kappa: -0.00",
          "Index: 292<br>Position: 1001.255 μm<br>Length: 3.272 μm<br>Kappa: 0.00",
          "Index: 293<br>Position: 1004.527 μm<br>Length: 3.271 μm<br>Kappa: -0.00",
          "Index: 294<br>Position: 1007.799 μm<br>Length: 3.270 μm<br>Kappa: 0.00",
          "Index: 295<br>Position: 1011.069 μm<br>Length: 3.269 μm<br>Kappa: -0.00",
          "Index: 296<br>Position: 1014.338 μm<br>Length: 3.269 μm<br>Kappa: 0.00",
          "Index: 297<br>Position: 1017.607 μm<br>Length: 3.268 μm<br>Kappa: -0.00",
          "Index: 298<br>Position: 1020.875 μm<br>Length: 3.267 μm<br>Kappa: 0.00",
          "Index: 299<br>Position: 1024.141 μm<br>Length: 3.266 μm<br>Kappa: -0.00",
          "Index: 300<br>Position: 1027.407 μm<br>Length: 3.265 μm<br>Kappa: 0.00",
          "Index: 301<br>Position: 1030.671 μm<br>Length: 3.264 μm<br>Kappa: -0.00",
          "Index: 302<br>Position: 1033.935 μm<br>Length: 3.263 μm<br>Kappa: 0.00",
          "Index: 303<br>Position: 1037.198 μm<br>Length: 3.262 μm<br>Kappa: -0.00",
          "Index: 304<br>Position: 1040.459 μm<br>Length: 3.261 μm<br>Kappa: 0.00",
          "Index: 305<br>Position: 1043.720 μm<br>Length: 3.260 μm<br>Kappa: -0.00",
          "Index: 306<br>Position: 1046.980 μm<br>Length: 3.259 μm<br>Kappa: 0.00",
          "Index: 307<br>Position: 1050.239 μm<br>Length: 3.258 μm<br>Kappa: -0.00",
          "Index: 308<br>Position: 1053.497 μm<br>Length: 3.257 μm<br>Kappa: 0.00",
          "Index: 309<br>Position: 1056.754 μm<br>Length: 3.256 μm<br>Kappa: -0.00",
          "Index: 310<br>Position: 1060.010 μm<br>Length: 3.255 μm<br>Kappa: 0.00",
          "Index: 311<br>Position: 1063.265 μm<br>Length: 3.254 μm<br>Kappa: -0.00",
          "Index: 312<br>Position: 1066.519 μm<br>Length: 3.253 μm<br>Kappa: 0.00",
          "Index: 313<br>Position: 1069.772 μm<br>Length: 3.252 μm<br>Kappa: -0.00",
          "Index: 314<br>Position: 1073.024 μm<br>Length: 3.251 μm<br>Kappa: 0.00",
          "Index: 315<br>Position: 1076.275 μm<br>Length: 3.250 μm<br>Kappa: -0.00",
          "Index: 316<br>Position: 1079.526 μm<br>Length: 3.249 μm<br>Kappa: 0.00",
          "Index: 317<br>Position: 1082.775 μm<br>Length: 3.248 μm<br>Kappa: -0.00",
          "Index: 318<br>Position: 1086.023 μm<br>Length: 3.247 μm<br>Kappa: 0.00",
          "Index: 319<br>Position: 1089.271 μm<br>Length: 3.246 μm<br>Kappa: -0.00",
          "Index: 320<br>Position: 1092.517 μm<br>Length: 3.245 μm<br>Kappa: 0.00",
          "Index: 321<br>Position: 1095.763 μm<br>Length: 3.245 μm<br>Kappa: -0.00",
          "Index: 322<br>Position: 1099.007 μm<br>Length: 3.244 μm<br>Kappa: 0.00",
          "Index: 323<br>Position: 1102.251 μm<br>Length: 3.243 μm<br>Kappa: -0.00",
          "Index: 324<br>Position: 1105.493 μm<br>Length: 3.242 μm<br>Kappa: 0.00",
          "Index: 325<br>Position: 1108.735 μm<br>Length: 3.241 μm<br>Kappa: -0.00",
          "Index: 326<br>Position: 1111.976 μm<br>Length: 3.240 μm<br>Kappa: 0.00",
          "Index: 327<br>Position: 1115.216 μm<br>Length: 3.239 μm<br>Kappa: -0.00",
          "Index: 328<br>Position: 1118.454 μm<br>Length: 3.238 μm<br>Kappa: 0.00",
          "Index: 329<br>Position: 1121.692 μm<br>Length: 3.237 μm<br>Kappa: -0.00",
          "Index: 330<br>Position: 1124.929 μm<br>Length: 3.236 μm<br>Kappa: 0.00",
          "Index: 331<br>Position: 1128.165 μm<br>Length: 3.235 μm<br>Kappa: -0.00",
          "Index: 332<br>Position: 1131.400 μm<br>Length: 3.234 μm<br>Kappa: 0.00",
          "Index: 333<br>Position: 1134.635 μm<br>Length: 3.233 μm<br>Kappa: -0.00",
          "Index: 334<br>Position: 1137.868 μm<br>Length: 3.232 μm<br>Kappa: 0.00",
          "Index: 335<br>Position: 1141.100 μm<br>Length: 3.231 μm<br>Kappa: -0.00",
          "Index: 336<br>Position: 1144.331 μm<br>Length: 3.230 μm<br>Kappa: 0.00",
          "Index: 337<br>Position: 1147.562 μm<br>Length: 3.229 μm<br>Kappa: -0.00",
          "Index: 338<br>Position: 1150.791 μm<br>Length: 3.229 μm<br>Kappa: 0.00",
          "Index: 339<br>Position: 1154.020 μm<br>Length: 3.228 μm<br>Kappa: -0.00",
          "Index: 340<br>Position: 1157.247 μm<br>Length: 3.227 μm<br>Kappa: 0.00",
          "Index: 341<br>Position: 1160.474 μm<br>Length: 3.226 μm<br>Kappa: -0.00",
          "Index: 342<br>Position: 1163.700 μm<br>Length: 3.225 μm<br>Kappa: 0.00",
          "Index: 343<br>Position: 1166.924 μm<br>Length: 3.224 μm<br>Kappa: -0.00",
          "Index: 344<br>Position: 1170.148 μm<br>Length: 3.223 μm<br>Kappa: 0.00",
          "Index: 345<br>Position: 1173.371 μm<br>Length: 3.222 μm<br>Kappa: -0.00",
          "Index: 346<br>Position: 1176.593 μm<br>Length: 3.221 μm<br>Kappa: 0.00",
          "Index: 347<br>Position: 1179.814 μm<br>Length: 3.220 μm<br>Kappa: -0.00",
          "Index: 348<br>Position: 1183.034 μm<br>Length: 3.219 μm<br>Kappa: 0.00",
          "Index: 349<br>Position: 1186.254 μm<br>Length: 3.218 μm<br>Kappa: -0.00",
          "Index: 350<br>Position: 1189.472 μm<br>Length: 3.217 μm<br>Kappa: 0.00",
          "Index: 351<br>Position: 1192.689 μm<br>Length: 3.216 μm<br>Kappa: -0.00",
          "Index: 352<br>Position: 1195.906 μm<br>Length: 3.216 μm<br>Kappa: 0.00",
          "Index: 353<br>Position: 1199.121 μm<br>Length: 3.215 μm<br>Kappa: -0.00",
          "Index: 354<br>Position: 1202.336 μm<br>Length: 3.214 μm<br>Kappa: 0.00",
          "Index: 355<br>Position: 1205.550 μm<br>Length: 3.213 μm<br>Kappa: -0.00",
          "Index: 356<br>Position: 1208.762 μm<br>Length: 3.212 μm<br>Kappa: 0.00",
          "Index: 357<br>Position: 1211.974 μm<br>Length: 3.211 μm<br>Kappa: -0.00",
          "Index: 358<br>Position: 1215.185 μm<br>Length: 3.210 μm<br>Kappa: 0.00",
          "Index: 359<br>Position: 1218.395 μm<br>Length: 3.209 μm<br>Kappa: -0.00",
          "Index: 360<br>Position: 1221.604 μm<br>Length: 3.208 μm<br>Kappa: 0.00",
          "Index: 361<br>Position: 1224.812 μm<br>Length: 3.207 μm<br>Kappa: -0.00",
          "Index: 362<br>Position: 1228.020 μm<br>Length: 3.206 μm<br>Kappa: 0.00",
          "Index: 363<br>Position: 1231.226 μm<br>Length: 3.205 μm<br>Kappa: -0.00",
          "Index: 364<br>Position: 1234.431 μm<br>Length: 3.204 μm<br>Kappa: 0.00",
          "Index: 365<br>Position: 1237.636 μm<br>Length: 3.204 μm<br>Kappa: -0.00",
          "Index: 366<br>Position: 1240.839 μm<br>Length: 3.203 μm<br>Kappa: 0.00",
          "Index: 367<br>Position: 1244.042 μm<br>Length: 3.202 μm<br>Kappa: -0.00",
          "Index: 368<br>Position: 1247.244 μm<br>Length: 3.201 μm<br>Kappa: 0.00",
          "Index: 369<br>Position: 1250.445 μm<br>Length: 3.200 μm<br>Kappa: -0.00",
          "Index: 370<br>Position: 1253.645 μm<br>Length: 3.199 μm<br>Kappa: 0.00",
          "Index: 371<br>Position: 1256.844 μm<br>Length: 3.198 μm<br>Kappa: -0.00",
          "Index: 372<br>Position: 1260.042 μm<br>Length: 3.197 μm<br>Kappa: 0.00",
          "Index: 373<br>Position: 1263.239 μm<br>Length: 3.196 μm<br>Kappa: -0.00",
          "Index: 374<br>Position: 1266.435 μm<br>Length: 3.195 μm<br>Kappa: 0.00",
          "Index: 375<br>Position: 1269.630 μm<br>Length: 3.194 μm<br>Kappa: -0.00",
          "Index: 376<br>Position: 1272.825 μm<br>Length: 3.194 μm<br>Kappa: 0.00",
          "Index: 377<br>Position: 1276.019 μm<br>Length: 3.193 μm<br>Kappa: -0.00",
          "Index: 378<br>Position: 1279.211 μm<br>Length: 3.192 μm<br>Kappa: 0.00",
          "Index: 379<br>Position: 1282.403 μm<br>Length: 3.191 μm<br>Kappa: -0.00",
          "Index: 380<br>Position: 1285.594 μm<br>Length: 3.190 μm<br>Kappa: 0.00",
          "Index: 381<br>Position: 1288.784 μm<br>Length: 3.189 μm<br>Kappa: -0.00",
          "Index: 382<br>Position: 1291.973 μm<br>Length: 3.188 μm<br>Kappa: 0.00",
          "Index: 383<br>Position: 1295.161 μm<br>Length: 3.187 μm<br>Kappa: -0.00",
          "Index: 384<br>Position: 1298.348 μm<br>Length: 3.186 μm<br>Kappa: 0.00",
          "Index: 385<br>Position: 1301.535 μm<br>Length: 3.185 μm<br>Kappa: -0.00",
          "Index: 386<br>Position: 1304.720 μm<br>Length: 3.185 μm<br>Kappa: 0.00",
          "Index: 387<br>Position: 1307.905 μm<br>Length: 3.184 μm<br>Kappa: -0.00",
          "Index: 388<br>Position: 1311.089 μm<br>Length: 3.183 μm<br>Kappa: 0.00",
          "Index: 389<br>Position: 1314.271 μm<br>Length: 3.182 μm<br>Kappa: -0.00",
          "Index: 390<br>Position: 1317.453 μm<br>Length: 3.181 μm<br>Kappa: 0.00",
          "Index: 391<br>Position: 1320.634 μm<br>Length: 3.180 μm<br>Kappa: -0.00",
          "Index: 392<br>Position: 1323.814 μm<br>Length: 3.179 μm<br>Kappa: 0.00",
          "Index: 393<br>Position: 1326.993 μm<br>Length: 3.178 μm<br>Kappa: -0.00",
          "Index: 394<br>Position: 1330.172 μm<br>Length: 3.177 μm<br>Kappa: 0.00",
          "Index: 395<br>Position: 1333.349 μm<br>Length: 3.177 μm<br>Kappa: -0.00",
          "Index: 396<br>Position: 1336.526 μm<br>Length: 3.176 μm<br>Kappa: 0.00",
          "Index: 397<br>Position: 1339.701 μm<br>Length: 3.175 μm<br>Kappa: -0.00",
          "Index: 398<br>Position: 1342.876 μm<br>Length: 3.174 μm<br>Kappa: 0.00",
          "Index: 399<br>Position: 1346.050 μm<br>Length: 3.173 μm<br>Kappa: -0.00",
          "Index: 400<br>Position: 1349.223 μm<br>Length: 3.172 μm<br>Kappa: 0.00",
          "Index: 401<br>Position: 1352.395 μm<br>Length: 3.171 μm<br>Kappa: -0.00",
          "Index: 402<br>Position: 1355.566 μm<br>Length: 3.170 μm<br>Kappa: 0.00",
          "Index: 403<br>Position: 1358.736 μm<br>Length: 3.169 μm<br>Kappa: -0.00",
          "Index: 404<br>Position: 1361.906 μm<br>Length: 3.169 μm<br>Kappa: 0.00",
          "Index: 405<br>Position: 1365.074 μm<br>Length: 3.168 μm<br>Kappa: -0.00",
          "Index: 406<br>Position: 1368.242 μm<br>Length: 3.167 μm<br>Kappa: 0.00",
          "Index: 407<br>Position: 1371.409 μm<br>Length: 3.166 μm<br>Kappa: -0.00",
          "Index: 408<br>Position: 1374.575 μm<br>Length: 3.165 μm<br>Kappa: 0.00",
          "Index: 409<br>Position: 1377.740 μm<br>Length: 3.164 μm<br>Kappa: -0.00",
          "Index: 410<br>Position: 1380.904 μm<br>Length: 3.163 μm<br>Kappa: 0.00",
          "Index: 411<br>Position: 1384.067 μm<br>Length: 3.162 μm<br>Kappa: -0.00",
          "Index: 412<br>Position: 1387.229 μm<br>Length: 3.161 μm<br>Kappa: 0.00",
          "Index: 413<br>Position: 1390.391 μm<br>Length: 3.161 μm<br>Kappa: -0.00",
          "Index: 414<br>Position: 1393.552 μm<br>Length: 3.160 μm<br>Kappa: 0.00",
          "Index: 415<br>Position: 1396.711 μm<br>Length: 3.159 μm<br>Kappa: -0.00",
          "Index: 416<br>Position: 1399.870 μm<br>Length: 3.158 μm<br>Kappa: 0.00",
          "Index: 417<br>Position: 1403.028 μm<br>Length: 3.157 μm<br>Kappa: -0.00",
          "Index: 418<br>Position: 1406.185 μm<br>Length: 3.156 μm<br>Kappa: 0.00",
          "Index: 419<br>Position: 1409.342 μm<br>Length: 3.155 μm<br>Kappa: -0.00",
          "Index: 420<br>Position: 1412.497 μm<br>Length: 3.154 μm<br>Kappa: 0.00",
          "Index: 421<br>Position: 1415.651 μm<br>Length: 3.154 μm<br>Kappa: -0.00",
          "Index: 422<br>Position: 1418.805 μm<br>Length: 3.153 μm<br>Kappa: 0.00",
          "Index: 423<br>Position: 1421.958 μm<br>Length: 3.152 μm<br>Kappa: -0.00",
          "Index: 424<br>Position: 1425.110 μm<br>Length: 3.151 μm<br>Kappa: 0.00",
          "Index: 425<br>Position: 1428.261 μm<br>Length: 3.150 μm<br>Kappa: -0.00",
          "Index: 426<br>Position: 1431.411 μm<br>Length: 3.149 μm<br>Kappa: 0.00",
          "Index: 427<br>Position: 1434.560 μm<br>Length: 3.148 μm<br>Kappa: -0.00",
          "Index: 428<br>Position: 1437.708 μm<br>Length: 3.148 μm<br>Kappa: 0.00",
          "Index: 429<br>Position: 1440.856 μm<br>Length: 3.147 μm<br>Kappa: -0.00",
          "Index: 430<br>Position: 1444.003 μm<br>Length: 3.146 μm<br>Kappa: 0.00",
          "Index: 431<br>Position: 1447.149 μm<br>Length: 3.145 μm<br>Kappa: -0.00",
          "Index: 432<br>Position: 1450.293 μm<br>Length: 3.144 μm<br>Kappa: 0.00",
          "Index: 433<br>Position: 1453.438 μm<br>Length: 3.143 μm<br>Kappa: -0.00",
          "Index: 434<br>Position: 1456.581 μm<br>Length: 3.142 μm<br>Kappa: 0.00",
          "Index: 435<br>Position: 1459.723 μm<br>Length: 3.141 μm<br>Kappa: -0.00",
          "Index: 436<br>Position: 1462.865 μm<br>Length: 3.141 μm<br>Kappa: 0.00",
          "Index: 437<br>Position: 1466.005 μm<br>Length: 3.140 μm<br>Kappa: -0.00",
          "Index: 438<br>Position: 1469.145 μm<br>Length: 3.139 μm<br>Kappa: 0.00",
          "Index: 439<br>Position: 1472.284 μm<br>Length: 3.138 μm<br>Kappa: -0.00",
          "Index: 440<br>Position: 1475.422 μm<br>Length: 3.137 μm<br>Kappa: 0.00",
          "Index: 441<br>Position: 1478.559 μm<br>Length: 3.136 μm<br>Kappa: -0.00",
          "Index: 442<br>Position: 1481.696 μm<br>Length: 3.135 μm<br>Kappa: 0.00",
          "Index: 443<br>Position: 1484.831 μm<br>Length: 3.135 μm<br>Kappa: -0.00",
          "Index: 444<br>Position: 1487.966 μm<br>Length: 3.134 μm<br>Kappa: 0.00",
          "Index: 445<br>Position: 1491.099 μm<br>Length: 3.133 μm<br>Kappa: -0.00",
          "Index: 446<br>Position: 1494.232 μm<br>Length: 3.132 μm<br>Kappa: 0.00",
          "Index: 447<br>Position: 1497.365 μm<br>Length: 3.131 μm<br>Kappa: -0.00",
          "Index: 448<br>Position: 1500.496 μm<br>Length: 3.130 μm<br>Kappa: 0.00",
          "Index: 449<br>Position: 1503.626 μm<br>Length: 3.130 μm<br>Kappa: -0.00",
          "Index: 450<br>Position: 1506.756 μm<br>Length: 3.129 μm<br>Kappa: 0.00",
          "Index: 451<br>Position: 1509.884 μm<br>Length: 3.128 μm<br>Kappa: -0.00",
          "Index: 452<br>Position: 1513.012 μm<br>Length: 3.127 μm<br>Kappa: 0.00",
          "Index: 453<br>Position: 1516.139 μm<br>Length: 3.126 μm<br>Kappa: -0.00",
          "Index: 454<br>Position: 1519.265 μm<br>Length: 3.125 μm<br>Kappa: 0.00",
          "Index: 455<br>Position: 1522.390 μm<br>Length: 3.124 μm<br>Kappa: -0.00",
          "Index: 456<br>Position: 1525.515 μm<br>Length: 3.124 μm<br>Kappa: 0.00",
          "Index: 457<br>Position: 1528.638 μm<br>Length: 3.123 μm<br>Kappa: -0.00",
          "Index: 458<br>Position: 1531.761 μm<br>Length: 3.122 μm<br>Kappa: 0.00",
          "Index: 459<br>Position: 1534.883 μm<br>Length: 3.121 μm<br>Kappa: -0.00",
          "Index: 460<br>Position: 1538.004 μm<br>Length: 3.120 μm<br>Kappa: 0.00",
          "Index: 461<br>Position: 1541.124 μm<br>Length: 3.119 μm<br>Kappa: -0.00",
          "Index: 462<br>Position: 1544.244 μm<br>Length: 3.119 μm<br>Kappa: 0.00",
          "Index: 463<br>Position: 1547.362 μm<br>Length: 3.118 μm<br>Kappa: -0.00",
          "Index: 464<br>Position: 1550.480 μm<br>Length: 3.117 μm<br>Kappa: 0.00",
          "Index: 465<br>Position: 1553.597 μm<br>Length: 3.116 μm<br>Kappa: -0.00",
          "Index: 466<br>Position: 1556.713 μm<br>Length: 3.115 μm<br>Kappa: 0.00",
          "Index: 467<br>Position: 1559.828 μm<br>Length: 3.114 μm<br>Kappa: -0.00",
          "Index: 468<br>Position: 1562.942 μm<br>Length: 3.113 μm<br>Kappa: 0.00",
          "Index: 469<br>Position: 1566.055 μm<br>Length: 3.113 μm<br>Kappa: -0.00",
          "Index: 470<br>Position: 1569.168 μm<br>Length: 3.112 μm<br>Kappa: 0.00",
          "Index: 471<br>Position: 1572.280 μm<br>Length: 3.111 μm<br>Kappa: -0.00",
          "Index: 472<br>Position: 1575.391 μm<br>Length: 3.110 μm<br>Kappa: 0.00",
          "Index: 473<br>Position: 1578.501 μm<br>Length: 3.109 μm<br>Kappa: -0.00",
          "Index: 474<br>Position: 1581.610 μm<br>Length: 3.108 μm<br>Kappa: 0.00",
          "Index: 475<br>Position: 1584.719 μm<br>Length: 3.108 μm<br>Kappa: -0.00",
          "Index: 476<br>Position: 1587.826 μm<br>Length: 3.107 μm<br>Kappa: 0.00",
          "Index: 477<br>Position: 1590.933 μm<br>Length: 3.106 μm<br>Kappa: -0.00",
          "Index: 478<br>Position: 1594.039 μm<br>Length: 3.105 μm<br>Kappa: 0.00",
          "Index: 479<br>Position: 1597.144 μm<br>Length: 3.104 μm<br>Kappa: -0.00",
          "Index: 480<br>Position: 1600.248 μm<br>Length: 3.103 μm<br>Kappa: 0.00",
          "Index: 481<br>Position: 1603.352 μm<br>Length: 3.103 μm<br>Kappa: -0.00",
          "Index: 482<br>Position: 1606.454 μm<br>Length: 3.102 μm<br>Kappa: 0.00",
          "Index: 483<br>Position: 1609.556 μm<br>Length: 3.101 μm<br>Kappa: -0.00",
          "Index: 484<br>Position: 1612.657 μm<br>Length: 3.100 μm<br>Kappa: 0.00",
          "Index: 485<br>Position: 1615.757 μm<br>Length: 3.099 μm<br>Kappa: -0.00",
          "Index: 486<br>Position: 1618.857 μm<br>Length: 3.098 μm<br>Kappa: 0.00",
          "Index: 487<br>Position: 1621.955 μm<br>Length: 3.098 μm<br>Kappa: -0.00",
          "Index: 488<br>Position: 1625.053 μm<br>Length: 3.097 μm<br>Kappa: 0.00",
          "Index: 489<br>Position: 1628.150 μm<br>Length: 3.096 μm<br>Kappa: -0.00",
          "Index: 490<br>Position: 1631.245 μm<br>Length: 3.095 μm<br>Kappa: 0.00",
          "Index: 491<br>Position: 1634.341 μm<br>Length: 3.094 μm<br>Kappa: -0.00",
          "Index: 492<br>Position: 1637.435 μm<br>Length: 3.094 μm<br>Kappa: 0.00",
          "Index: 493<br>Position: 1640.529 μm<br>Length: 3.093 μm<br>Kappa: -0.00",
          "Index: 494<br>Position: 1643.621 μm<br>Length: 3.092 μm<br>Kappa: 0.00",
          "Index: 495<br>Position: 1646.713 μm<br>Length: 3.091 μm<br>Kappa: -0.00",
          "Index: 496<br>Position: 1649.804 μm<br>Length: 3.090 μm<br>Kappa: 0.00",
          "Index: 497<br>Position: 1652.894 μm<br>Length: 3.089 μm<br>Kappa: -0.00",
          "Index: 498<br>Position: 1655.984 μm<br>Length: 3.089 μm<br>Kappa: 0.00",
          "Index: 499<br>Position: 1659.073 μm<br>Length: 3.088 μm<br>Kappa: -0.00",
          "Index: 500<br>Position: 1662.160 μm<br>Length: 3.087 μm<br>Kappa: 0.00",
          "Index: 501<br>Position: 1665.247 μm<br>Length: 3.086 μm<br>Kappa: -0.00",
          "Index: 502<br>Position: 1668.333 μm<br>Length: 3.085 μm<br>Kappa: 0.00",
          "Index: 503<br>Position: 1671.419 μm<br>Length: 3.085 μm<br>Kappa: -0.00",
          "Index: 504<br>Position: 1674.503 μm<br>Length: 3.084 μm<br>Kappa: 0.00",
          "Index: 505<br>Position: 1677.587 μm<br>Length: 3.083 μm<br>Kappa: -0.00",
          "Index: 506<br>Position: 1680.670 μm<br>Length: 3.082 μm<br>Kappa: 0.00",
          "Index: 507<br>Position: 1683.752 μm<br>Length: 3.081 μm<br>Kappa: -0.00",
          "Index: 508<br>Position: 1686.833 μm<br>Length: 3.080 μm<br>Kappa: 0.00",
          "Index: 509<br>Position: 1689.914 μm<br>Length: 3.080 μm<br>Kappa: -0.00",
          "Index: 510<br>Position: 1692.993 μm<br>Length: 3.079 μm<br>Kappa: 0.00",
          "Index: 511<br>Position: 1696.072 μm<br>Length: 3.078 μm<br>Kappa: -0.00",
          "Index: 512<br>Position: 1699.150 μm<br>Length: 3.077 μm<br>Kappa: 0.00",
          "Index: 513<br>Position: 1702.228 μm<br>Length: 3.076 μm<br>Kappa: -0.00",
          "Index: 514<br>Position: 1705.304 μm<br>Length: 3.076 μm<br>Kappa: 0.00",
          "Index: 515<br>Position: 1708.380 μm<br>Length: 3.075 μm<br>Kappa: -0.00",
          "Index: 516<br>Position: 1711.454 μm<br>Length: 3.074 μm<br>Kappa: 0.00",
          "Index: 517<br>Position: 1714.528 μm<br>Length: 3.073 μm<br>Kappa: -0.00",
          "Index: 518<br>Position: 1717.601 μm<br>Length: 3.072 μm<br>Kappa: 0.00",
          "Index: 519<br>Position: 1720.674 μm<br>Length: 3.072 μm<br>Kappa: -0.00",
          "Index: 520<br>Position: 1723.745 μm<br>Length: 3.071 μm<br>Kappa: 0.00",
          "Index: 521<br>Position: 1726.816 μm<br>Length: 3.070 μm<br>Kappa: -0.00",
          "Index: 522<br>Position: 1729.886 μm<br>Length: 3.069 μm<br>Kappa: 0.00",
          "Index: 523<br>Position: 1732.955 μm<br>Length: 3.068 μm<br>Kappa: -0.00",
          "Index: 524<br>Position: 1736.024 μm<br>Length: 3.068 μm<br>Kappa: 0.00",
          "Index: 525<br>Position: 1739.091 μm<br>Length: 3.067 μm<br>Kappa: -0.00",
          "Index: 526<br>Position: 1742.158 μm<br>Length: 3.066 μm<br>Kappa: 0.00",
          "Index: 527<br>Position: 1745.224 μm<br>Length: 3.065 μm<br>Kappa: -0.00",
          "Index: 528<br>Position: 1748.289 μm<br>Length: 3.064 μm<br>Kappa: 0.00",
          "Index: 529<br>Position: 1751.353 μm<br>Length: 3.064 μm<br>Kappa: -0.00",
          "Index: 530<br>Position: 1754.417 μm<br>Length: 3.063 μm<br>Kappa: 0.00",
          "Index: 531<br>Position: 1757.480 μm<br>Length: 3.062 μm<br>Kappa: -0.00",
          "Index: 532<br>Position: 1760.542 μm<br>Length: 3.061 μm<br>Kappa: 0.00",
          "Index: 533<br>Position: 1763.603 μm<br>Length: 3.060 μm<br>Kappa: -0.00",
          "Index: 534<br>Position: 1766.663 μm<br>Length: 3.060 μm<br>Kappa: 0.00",
          "Index: 535<br>Position: 1769.723 μm<br>Length: 3.059 μm<br>Kappa: -0.00",
          "Index: 536<br>Position: 1772.781 μm<br>Length: 3.058 μm<br>Kappa: 0.00",
          "Index: 537<br>Position: 1775.839 μm<br>Length: 3.057 μm<br>Kappa: -0.00",
          "Index: 538<br>Position: 1778.897 μm<br>Length: 3.056 μm<br>Kappa: 0.00",
          "Index: 539<br>Position: 1781.953 μm<br>Length: 3.056 μm<br>Kappa: -0.00",
          "Index: 540<br>Position: 1785.009 μm<br>Length: 3.055 μm<br>Kappa: 0.00",
          "Index: 541<br>Position: 1788.063 μm<br>Length: 3.054 μm<br>Kappa: -0.00",
          "Index: 542<br>Position: 1791.117 μm<br>Length: 3.053 μm<br>Kappa: 0.00",
          "Index: 543<br>Position: 1794.171 μm<br>Length: 3.052 μm<br>Kappa: -0.00",
          "Index: 544<br>Position: 1797.223 μm<br>Length: 3.052 μm<br>Kappa: 0.00",
          "Index: 545<br>Position: 1800.275 μm<br>Length: 3.051 μm<br>Kappa: -0.00",
          "Index: 546<br>Position: 1803.325 μm<br>Length: 3.050 μm<br>Kappa: 0.00",
          "Index: 547<br>Position: 1806.375 μm<br>Length: 3.049 μm<br>Kappa: -0.00",
          "Index: 548<br>Position: 1809.425 μm<br>Length: 3.048 μm<br>Kappa: 0.00",
          "Index: 549<br>Position: 1812.473 μm<br>Length: 3.048 μm<br>Kappa: -0.00",
          "Index: 550<br>Position: 1815.521 μm<br>Length: 3.047 μm<br>Kappa: 0.00",
          "Index: 551<br>Position: 1818.568 μm<br>Length: 3.046 μm<br>Kappa: -0.00",
          "Index: 552<br>Position: 1821.614 μm<br>Length: 3.045 μm<br>Kappa: 0.00",
          "Index: 553<br>Position: 1824.659 μm<br>Length: 3.045 μm<br>Kappa: -0.00",
          "Index: 554<br>Position: 1827.704 μm<br>Length: 3.044 μm<br>Kappa: 0.00",
          "Index: 555<br>Position: 1830.748 μm<br>Length: 3.043 μm<br>Kappa: -0.00",
          "Index: 556<br>Position: 1833.791 μm<br>Length: 3.042 μm<br>Kappa: 0.00",
          "Index: 557<br>Position: 1836.833 μm<br>Length: 3.041 μm<br>Kappa: -0.00",
          "Index: 558<br>Position: 1839.874 μm<br>Length: 3.041 μm<br>Kappa: 0.00",
          "Index: 559<br>Position: 1842.915 μm<br>Length: 3.040 μm<br>Kappa: -0.00",
          "Index: 560<br>Position: 1845.955 μm<br>Length: 3.039 μm<br>Kappa: 0.00",
          "Index: 561<br>Position: 1848.994 μm<br>Length: 3.038 μm<br>Kappa: -0.00",
          "Index: 562<br>Position: 1852.032 μm<br>Length: 3.038 μm<br>Kappa: 0.00",
          "Index: 563<br>Position: 1855.070 μm<br>Length: 3.037 μm<br>Kappa: -0.00",
          "Index: 564<br>Position: 1858.107 μm<br>Length: 3.036 μm<br>Kappa: 0.00",
          "Index: 565<br>Position: 1861.143 μm<br>Length: 3.035 μm<br>Kappa: -0.00",
          "Index: 566<br>Position: 1864.178 μm<br>Length: 3.034 μm<br>Kappa: 0.00",
          "Index: 567<br>Position: 1867.212 μm<br>Length: 3.034 μm<br>Kappa: -0.00",
          "Index: 568<br>Position: 1870.246 μm<br>Length: 3.033 μm<br>Kappa: 0.00",
          "Index: 569<br>Position: 1873.279 μm<br>Length: 3.032 μm<br>Kappa: -0.00",
          "Index: 570<br>Position: 1876.311 μm<br>Length: 3.031 μm<br>Kappa: 0.00",
          "Index: 571<br>Position: 1879.342 μm<br>Length: 3.031 μm<br>Kappa: -0.00",
          "Index: 572<br>Position: 1882.373 μm<br>Length: 3.030 μm<br>Kappa: 0.00",
          "Index: 573<br>Position: 1885.402 μm<br>Length: 3.029 μm<br>Kappa: -0.00",
          "Index: 574<br>Position: 1888.431 μm<br>Length: 3.028 μm<br>Kappa: 0.00",
          "Index: 575<br>Position: 1891.460 μm<br>Length: 3.027 μm<br>Kappa: -0.00",
          "Index: 576<br>Position: 1894.487 μm<br>Length: 3.027 μm<br>Kappa: 0.00",
          "Index: 577<br>Position: 1897.514 μm<br>Length: 3.026 μm<br>Kappa: -0.00",
          "Index: 578<br>Position: 1900.540 μm<br>Length: 3.025 μm<br>Kappa: 0.00",
          "Index: 579<br>Position: 1903.565 μm<br>Length: 3.024 μm<br>Kappa: -0.00",
          "Index: 580<br>Position: 1906.589 μm<br>Length: 3.024 μm<br>Kappa: 0.00",
          "Index: 581<br>Position: 1909.613 μm<br>Length: 3.023 μm<br>Kappa: -0.00",
          "Index: 582<br>Position: 1912.635 μm<br>Length: 3.022 μm<br>Kappa: 0.00",
          "Index: 583<br>Position: 1915.658 μm<br>Length: 3.021 μm<br>Kappa: -0.00",
          "Index: 584<br>Position: 1918.679 μm<br>Length: 3.021 μm<br>Kappa: 0.00",
          "Index: 585<br>Position: 1921.699 μm<br>Length: 3.020 μm<br>Kappa: -0.00",
          "Index: 586<br>Position: 1924.719 μm<br>Length: 3.019 μm<br>Kappa: 0.00",
          "Index: 587<br>Position: 1927.738 μm<br>Length: 3.018 μm<br>Kappa: -0.00",
          "Index: 588<br>Position: 1930.756 μm<br>Length: 3.017 μm<br>Kappa: 0.00",
          "Index: 589<br>Position: 1933.774 μm<br>Length: 3.017 μm<br>Kappa: -0.00",
          "Index: 590<br>Position: 1936.791 μm<br>Length: 3.016 μm<br>Kappa: 0.00",
          "Index: 591<br>Position: 1939.807 μm<br>Length: 3.015 μm<br>Kappa: -0.00",
          "Index: 592<br>Position: 1942.822 μm<br>Length: 3.014 μm<br>Kappa: 0.00",
          "Index: 593<br>Position: 1945.836 μm<br>Length: 3.014 μm<br>Kappa: -0.00",
          "Index: 594<br>Position: 1948.850 μm<br>Length: 3.013 μm<br>Kappa: 0.00",
          "Index: 595<br>Position: 1951.863 μm<br>Length: 3.012 μm<br>Kappa: -0.00",
          "Index: 596<br>Position: 1954.875 μm<br>Length: 3.011 μm<br>Kappa: 0.00",
          "Index: 597<br>Position: 1957.886 μm<br>Length: 3.011 μm<br>Kappa: -0.00",
          "Index: 598<br>Position: 1960.897 μm<br>Length: 3.010 μm<br>Kappa: 0.00",
          "Index: 599<br>Position: 1963.907 μm<br>Length: 3.009 μm<br>Kappa: -0.00"
         ],
         "marker": {
          "color": [
           "red",
           "blue",
           "red",
           "blue",
           "red",
           "blue",
           "red",
           "blue",
           "red",
           "blue",
           "red",
           "blue",
           "red",
           "blue",
           "red",
           "blue",
           "red",
           "blue",
           "red",
           "blue",
           "red",
           "blue",
           "red",
           "blue",
           "red",
           "blue",
           "red",
           "blue",
           "red",
           "blue",
           "red",
           "blue",
           "red",
           "blue",
           "red",
           "blue",
           "red",
           "blue",
           "red",
           "blue",
           "red",
           "blue",
           "red",
           "blue",
           "red",
           "blue",
           "red",
           "blue",
           "red",
           "blue",
           "red",
           "blue",
           "red",
           "blue",
           "red",
           "blue",
           "red",
           "blue",
           "red",
           "blue",
           "red",
           "blue",
           "red",
           "blue",
           "red",
           "blue",
           "red",
           "blue",
           "red",
           "blue",
           "red",
           "blue",
           "red",
           "blue",
           "red",
           "blue",
           "red",
           "blue",
           "red",
           "blue",
           "red",
           "blue",
           "red",
           "blue",
           "red",
           "blue",
           "red",
           "blue",
           "red",
           "blue",
           "red",
           "blue",
           "red",
           "blue",
           "red",
           "blue",
           "red",
           "blue",
           "red",
           "blue",
           "red",
           "blue",
           "red",
           "blue",
           "red",
           "blue",
           "red",
           "blue",
           "red",
           "blue",
           "red",
           "blue",
           "red",
           "blue",
           "red",
           "blue",
           "red",
           "blue",
           "red",
           "blue",
           "red",
           "blue",
           "red",
           "blue",
           "red",
           "blue",
           "red",
           "blue",
           "red",
           "blue",
           "red",
           "blue",
           "red",
           "blue",
           "red",
           "blue",
           "red",
           "blue",
           "red",
           "blue",
           "red",
           "blue",
           "red",
           "blue",
           "red",
           "blue",
           "red",
           "blue",
           "red",
           "blue",
           "red",
           "blue",
           "red",
           "blue",
           "red",
           "blue",
           "red",
           "blue",
           "red",
           "blue",
           "red",
           "blue",
           "red",
           "blue",
           "red",
           "blue",
           "red",
           "blue",
           "red",
           "blue",
           "red",
           "blue",
           "red",
           "blue",
           "red",
           "blue",
           "red",
           "blue",
           "red",
           "blue",
           "red",
           "blue",
           "red",
           "blue",
           "red",
           "blue",
           "red",
           "blue",
           "red",
           "blue",
           "red",
           "blue",
           "red",
           "blue",
           "red",
           "blue",
           "red",
           "blue",
           "red",
           "blue",
           "red",
           "blue",
           "red",
           "blue",
           "red",
           "blue",
           "red",
           "blue",
           "red",
           "blue",
           "red",
           "blue",
           "red",
           "blue",
           "red",
           "blue",
           "red",
           "blue",
           "red",
           "blue",
           "red",
           "blue",
           "red",
           "blue",
           "red",
           "blue",
           "red",
           "blue",
           "red",
           "blue",
           "red",
           "blue",
           "red",
           "blue",
           "red",
           "blue",
           "red",
           "blue",
           "red",
           "blue",
           "red",
           "blue",
           "red",
           "blue",
           "red",
           "blue",
           "red",
           "blue",
           "red",
           "blue",
           "red",
           "blue",
           "red",
           "blue",
           "red",
           "blue",
           "red",
           "blue",
           "red",
           "blue",
           "red",
           "blue",
           "red",
           "blue",
           "red",
           "blue",
           "red",
           "blue",
           "red",
           "blue",
           "red",
           "blue",
           "red",
           "blue",
           "red",
           "blue",
           "red",
           "blue",
           "red",
           "blue",
           "red",
           "blue",
           "red",
           "blue",
           "red",
           "blue",
           "red",
           "blue",
           "red",
           "blue",
           "red",
           "blue",
           "red",
           "blue",
           "red",
           "blue",
           "red",
           "blue",
           "red",
           "blue",
           "red",
           "blue",
           "red",
           "blue",
           "red",
           "blue",
           "red",
           "blue",
           "red",
           "blue",
           "red",
           "blue",
           "red",
           "blue",
           "red",
           "blue",
           "red",
           "blue",
           "red",
           "blue",
           "red",
           "blue",
           "red",
           "blue",
           "red",
           "blue",
           "red",
           "blue",
           "red",
           "blue",
           "red",
           "blue",
           "red",
           "blue",
           "red",
           "blue",
           "red",
           "blue",
           "red",
           "blue",
           "red",
           "blue",
           "red",
           "blue",
           "red",
           "blue",
           "red",
           "blue",
           "red",
           "blue",
           "red",
           "blue",
           "red",
           "blue",
           "red",
           "blue",
           "red",
           "blue",
           "red",
           "blue",
           "red",
           "blue",
           "red",
           "blue",
           "red",
           "blue",
           "red",
           "blue",
           "red",
           "blue",
           "red",
           "blue",
           "red",
           "blue",
           "red",
           "blue",
           "red",
           "blue",
           "red",
           "blue",
           "red",
           "blue",
           "red",
           "blue",
           "red",
           "blue",
           "red",
           "blue",
           "red",
           "blue",
           "red",
           "blue",
           "red",
           "blue",
           "red",
           "blue",
           "red",
           "blue",
           "red",
           "blue",
           "red",
           "blue",
           "red",
           "blue",
           "red",
           "blue",
           "red",
           "blue",
           "red",
           "blue",
           "red",
           "blue",
           "red",
           "blue",
           "red",
           "blue",
           "red",
           "blue",
           "red",
           "blue",
           "red",
           "blue",
           "red",
           "blue",
           "red",
           "blue",
           "red",
           "blue",
           "red",
           "blue",
           "red",
           "blue",
           "red",
           "blue",
           "red",
           "blue",
           "red",
           "blue",
           "red",
           "blue",
           "red",
           "blue",
           "red",
           "blue",
           "red",
           "blue",
           "red",
           "blue",
           "red",
           "blue",
           "red",
           "blue",
           "red",
           "blue",
           "red",
           "blue",
           "red",
           "blue",
           "red",
           "blue",
           "red",
           "blue",
           "red",
           "blue",
           "red",
           "blue",
           "red",
           "blue",
           "red",
           "blue",
           "red",
           "blue",
           "red",
           "blue",
           "red",
           "blue",
           "red",
           "blue",
           "red",
           "blue",
           "red",
           "blue",
           "red",
           "blue",
           "red",
           "blue",
           "red",
           "blue",
           "red",
           "blue",
           "red",
           "blue",
           "red",
           "blue",
           "red",
           "blue",
           "red",
           "blue",
           "red",
           "blue",
           "red",
           "blue",
           "red",
           "blue",
           "red",
           "blue",
           "red",
           "blue",
           "red",
           "blue",
           "red",
           "blue",
           "red",
           "blue",
           "red",
           "blue",
           "red",
           "blue",
           "red",
           "blue",
           "red",
           "blue",
           "red",
           "blue",
           "red",
           "blue",
           "red",
           "blue",
           "red",
           "blue",
           "red",
           "blue",
           "red",
           "blue",
           "red",
           "blue",
           "red",
           "blue",
           "red",
           "blue",
           "red",
           "blue",
           "red",
           "blue",
           "red",
           "blue",
           "red",
           "blue",
           "red",
           "blue",
           "red",
           "blue",
           "red",
           "blue",
           "red",
           "blue",
           "red",
           "blue",
           "red",
           "blue",
           "red",
           "blue",
           "red",
           "blue",
           "red",
           "blue",
           "red",
           "blue",
           "red",
           "blue",
           "red",
           "blue",
           "red",
           "blue",
           "red",
           "blue",
           "red",
           "blue",
           "red",
           "blue",
           "red",
           "blue",
           "red",
           "blue",
           "red",
           "blue",
           "red",
           "blue",
           "red",
           "blue",
           "red",
           "blue",
           "red",
           "blue",
           "red",
           "blue",
           "red",
           "blue",
           "red",
           "blue"
          ]
         },
         "name": "Domains",
         "type": "bar",
         "width": {
          "bdata": "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",
          "dtype": "f4"
         },
         "x": {
          "bdata": "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",
          "dtype": "f4"
         },
         "y": {
          "bdata": "s52sN7OdrLeznaw3s52st7OdrDeznay3s52sN7OdrLeznaw3s52st7OdrDeznay3s52sN7OdrLeznaw3s52st7OdrDeznay3s52sN7OdrLeznaw3s52st7OdrDeznay3s52sN7OdrLeznaw3s52st7OdrDeznay3s52sN7OdrLeznaw3s52st7OdrDeznay3s52sN7OdrLeznaw3s52st7OdrDeznay3s52sN7OdrLeznaw3s52st7OdrDeznay3s52sN7OdrLeznaw3s52st7OdrDeznay3s52sN7OdrLeznaw3s52st7OdrDeznay3s52sN7OdrLeznaw3s52st7OdrDeznay3s52sN7OdrLeznaw3s52st7OdrDeznay3s52sN7OdrLeznaw3s52st7OdrDeznay3s52sN7OdrLeznaw3s52st7OdrDeznay3s52sN7OdrLeznaw3s52st7OdrDeznay3s52sN7OdrLeznaw3s52st7OdrDeznay3s52sN7OdrLeznaw3s52st7OdrDeznay3s52sN7OdrLeznaw3s52st7OdrDeznay3s52sN7OdrLeznaw3s52st7OdrDeznay3s52sN7OdrLeznaw3s52st7OdrDeznay3s52sN7OdrLeznaw3s52st7OdrDeznay3s52sN7OdrLeznaw3s52st7OdrDeznay3s52sN7OdrLeznaw3s52st7OdrDeznay3s52sN7OdrLeznaw3s52st7OdrDeznay3s52sN7OdrLeznaw3s52st7OdrDeznay3s52sN7OdrLeznaw3s52st7OdrDeznay3s52sN7OdrLeznaw3s52st7OdrDeznay3s52sN7OdrLeznaw3s52st7OdrDeznay3s52sN7OdrLeznaw3s52st7OdrDeznay3s52sN7OdrLeznaw3s52st7OdrDeznay3s52sN7OdrLeznaw3s52st7OdrDeznay3s52sN7OdrLeznaw3s52st7OdrDeznay3s52sN7OdrLeznaw3s52st7OdrDeznay3s52sN7OdrLeznaw3s52st7OdrDeznay3s52sN7OdrLeznaw3s52st7OdrDeznay3s52sN7OdrLeznaw3s52st7OdrDeznay3s52sN7OdrLeznaw3s52st7OdrDeznay3s52sN7OdrLeznaw3s52st7OdrDeznay3s52sN7OdrLeznaw3s52st7OdrDeznay3s52sN7OdrLeznaw3s52st7OdrDeznay3s52sN7OdrLeznaw3s52st7OdrDeznay3s52sN7OdrLeznaw3s52st7OdrDeznay3s52sN7OdrLeznaw3s52st7OdrDeznay3s52sN7OdrLeznaw3s52st7OdrDeznay3s52sN7OdrLeznaw3s52st7OdrDeznay3s52sN7OdrLeznaw3s52st7OdrDeznay3s52sN7OdrLeznaw3s52st7OdrDeznay3s52sN7OdrLeznaw3s52st7OdrDeznay3s52sN7OdrLeznaw3s52st7OdrDeznay3s52sN7OdrLeznaw3s52st7OdrDeznay3s52sN7OdrLeznaw3s52st7OdrDeznay3s52sN7OdrLeznaw3s52st7OdrDeznay3s52sN7OdrLeznaw3s52st7OdrDeznay3s52sN7OdrLeznaw3s52st7OdrDeznay3s52sN7OdrLeznaw3s52st7OdrDeznay3s52sN7OdrLeznaw3s52st7OdrDeznay3s52sN7OdrLeznaw3s52st7OdrDeznay3s52sN7OdrLeznaw3s52st7OdrDeznay3s52sN7OdrLeznaw3s52st7OdrDeznay3s52sN7OdrLeznaw3s52st7OdrDeznay3s52sN7OdrLeznaw3s52st7OdrDeznay3s52sN7OdrLeznaw3s52st7OdrDeznay3s52sN7OdrLeznaw3s52st7OdrDeznay3s52sN7OdrLeznaw3s52st7OdrDeznay3s52sN7OdrLeznaw3s52st7OdrDeznay3s52sN7OdrLeznaw3s52st7OdrDeznay3s52sN7OdrLeznaw3s52st7OdrDeznay3s52sN7OdrLeznaw3s52st7OdrDeznay3s52sN7OdrLeznaw3s52st7OdrDeznay3s52sN7OdrLeznaw3s52st7OdrDeznay3s52sN7OdrLeznaw3s52st7OdrDeznay3s52sN7OdrLeznaw3s52st7OdrDeznay3s52sN7OdrLeznaw3s52st7OdrDeznay3s52sN7OdrLeznaw3s52st7OdrDeznay3s52sN7OdrLeznaw3s52st7OdrDeznay3s52sN7OdrLeznaw3s52st7OdrDeznay3s52sN7OdrLeznaw3s52st7OdrDeznay3s52sN7OdrLeznaw3s52st7OdrDeznay3s52sN7OdrLeznaw3s52st7OdrDeznay3s52sN7OdrLeznaw3s52st7OdrDeznay3s52sN7OdrLeznaw3s52st7OdrDeznay3s52sN7OdrLeznaw3s52st7OdrDeznay3s52sN7OdrLeznaw3s52st7OdrDeznay3s52sN7OdrLeznaw3s52st7OdrDeznay3s52sN7OdrLeznaw3s52st7OdrDeznay3s52sN7OdrLeznaw3s52st7OdrDeznay3s52sN7OdrLeznaw3s52st7OdrDeznay3s52sN7OdrLeznaw3s52st7OdrDeznay3s52sN7OdrLeznaw3s52st7OdrDeznay3s52sN7OdrLeznaw3s52st7OdrDeznay3s52sN7OdrLeznaw3s52st7OdrDeznay3s52sN7OdrLeznaw3s52st7OdrDeznay3s52sN7OdrLeznaw3s52st7OdrDeznay3s52sN7OdrLeznaw3s52st7OdrDeznay3s52sN7OdrLeznaw3s52st7OdrDeznay3s52sN7OdrLeznaw3s52st7OdrDeznay3s52sN7OdrLeznaw3s52st7OdrDeznay3s52sN7OdrLeznaw3s52st7OdrDeznay3s52sN7OdrLeznaw3s52st7OdrDeznay3s52sN7OdrLeznaw3s52st7OdrDeznay3",
          "dtype": "f4"
         }
        }
       ],
       "layout": {
        "bargap": 0,
        "font": {
         "family": "Arial, sans-serif",
         "size": 12
        },
        "plot_bgcolor": "white",
        "template": {
         "data": {
          "bar": [
           {
            "error_x": {
             "color": "#2a3f5f"
            },
            "error_y": {
             "color": "#2a3f5f"
            },
            "marker": {
             "line": {
              "color": "#E5ECF6",
              "width": 0.5
             },
             "pattern": {
              "fillmode": "overlay",
              "size": 10,
              "solidity": 0.2
             }
            },
            "type": "bar"
           }
          ],
          "barpolar": [
           {
            "marker": {
             "line": {
              "color": "#E5ECF6",
              "width": 0.5
             },
             "pattern": {
              "fillmode": "overlay",
              "size": 10,
              "solidity": 0.2
             }
            },
            "type": "barpolar"
           }
          ],
          "carpet": [
           {
            "aaxis": {
             "endlinecolor": "#2a3f5f",
             "gridcolor": "white",
             "linecolor": "white",
             "minorgridcolor": "white",
             "startlinecolor": "#2a3f5f"
            },
            "baxis": {
             "endlinecolor": "#2a3f5f",
             "gridcolor": "white",
             "linecolor": "white",
             "minorgridcolor": "white",
             "startlinecolor": "#2a3f5f"
            },
            "type": "carpet"
           }
          ],
          "choropleth": [
           {
            "colorbar": {
             "outlinewidth": 0,
             "ticks": ""
            },
            "type": "choropleth"
           }
          ],
          "contour": [
           {
            "colorbar": {
             "outlinewidth": 0,
             "ticks": ""
            },
            "colorscale": [
             [
              0,
              "#0d0887"
             ],
             [
              0.1111111111111111,
              "#46039f"
             ],
             [
              0.2222222222222222,
              "#7201a8"
             ],
             [
              0.3333333333333333,
              "#9c179e"
             ],
             [
              0.4444444444444444,
              "#bd3786"
             ],
             [
              0.5555555555555556,
              "#d8576b"
             ],
             [
              0.6666666666666666,
              "#ed7953"
             ],
             [
              0.7777777777777778,
              "#fb9f3a"
             ],
             [
              0.8888888888888888,
              "#fdca26"
             ],
             [
              1,
              "#f0f921"
             ]
            ],
            "type": "contour"
           }
          ],
          "contourcarpet": [
           {
            "colorbar": {
             "outlinewidth": 0,
             "ticks": ""
            },
            "type": "contourcarpet"
           }
          ],
          "heatmap": [
           {
            "colorbar": {
             "outlinewidth": 0,
             "ticks": ""
            },
            "colorscale": [
             [
              0,
              "#0d0887"
             ],
             [
              0.1111111111111111,
              "#46039f"
             ],
             [
              0.2222222222222222,
              "#7201a8"
             ],
             [
              0.3333333333333333,
              "#9c179e"
             ],
             [
              0.4444444444444444,
              "#bd3786"
             ],
             [
              0.5555555555555556,
              "#d8576b"
             ],
             [
              0.6666666666666666,
              "#ed7953"
             ],
             [
              0.7777777777777778,
              "#fb9f3a"
             ],
             [
              0.8888888888888888,
              "#fdca26"
             ],
             [
              1,
              "#f0f921"
             ]
            ],
            "type": "heatmap"
           }
          ],
          "histogram": [
           {
            "marker": {
             "pattern": {
              "fillmode": "overlay",
              "size": 10,
              "solidity": 0.2
             }
            },
            "type": "histogram"
           }
          ],
          "histogram2d": [
           {
            "colorbar": {
             "outlinewidth": 0,
             "ticks": ""
            },
            "colorscale": [
             [
              0,
              "#0d0887"
             ],
             [
              0.1111111111111111,
              "#46039f"
             ],
             [
              0.2222222222222222,
              "#7201a8"
             ],
             [
              0.3333333333333333,
              "#9c179e"
             ],
             [
              0.4444444444444444,
              "#bd3786"
             ],
             [
              0.5555555555555556,
              "#d8576b"
             ],
             [
              0.6666666666666666,
              "#ed7953"
             ],
             [
              0.7777777777777778,
              "#fb9f3a"
             ],
             [
              0.8888888888888888,
              "#fdca26"
             ],
             [
              1,
              "#f0f921"
             ]
            ],
            "type": "histogram2d"
           }
          ],
          "histogram2dcontour": [
           {
            "colorbar": {
             "outlinewidth": 0,
             "ticks": ""
            },
            "colorscale": [
             [
              0,
              "#0d0887"
             ],
             [
              0.1111111111111111,
              "#46039f"
             ],
             [
              0.2222222222222222,
              "#7201a8"
             ],
             [
              0.3333333333333333,
              "#9c179e"
             ],
             [
              0.4444444444444444,
              "#bd3786"
             ],
             [
              0.5555555555555556,
              "#d8576b"
             ],
             [
              0.6666666666666666,
              "#ed7953"
             ],
             [
              0.7777777777777778,
              "#fb9f3a"
             ],
             [
              0.8888888888888888,
              "#fdca26"
             ],
             [
              1,
              "#f0f921"
             ]
            ],
            "type": "histogram2dcontour"
           }
          ],
          "mesh3d": [
           {
            "colorbar": {
             "outlinewidth": 0,
             "ticks": ""
            },
            "type": "mesh3d"
           }
          ],
          "parcoords": [
           {
            "line": {
             "colorbar": {
              "outlinewidth": 0,
              "ticks": ""
             }
            },
            "type": "parcoords"
           }
          ],
          "pie": [
           {
            "automargin": true,
            "type": "pie"
           }
          ],
          "scatter": [
           {
            "fillpattern": {
             "fillmode": "overlay",
             "size": 10,
             "solidity": 0.2
            },
            "type": "scatter"
           }
          ],
          "scatter3d": [
           {
            "line": {
             "colorbar": {
              "outlinewidth": 0,
              "ticks": ""
             }
            },
            "marker": {
             "colorbar": {
              "outlinewidth": 0,
              "ticks": ""
             }
            },
            "type": "scatter3d"
           }
          ],
          "scattercarpet": [
           {
            "marker": {
             "colorbar": {
              "outlinewidth": 0,
              "ticks": ""
             }
            },
            "type": "scattercarpet"
           }
          ],
          "scattergeo": [
           {
            "marker": {
             "colorbar": {
              "outlinewidth": 0,
              "ticks": ""
             }
            },
            "type": "scattergeo"
           }
          ],
          "scattergl": [
           {
            "marker": {
             "colorbar": {
              "outlinewidth": 0,
              "ticks": ""
             }
            },
            "type": "scattergl"
           }
          ],
          "scattermap": [
           {
            "marker": {
             "colorbar": {
              "outlinewidth": 0,
              "ticks": ""
             }
            },
            "type": "scattermap"
           }
          ],
          "scattermapbox": [
           {
            "marker": {
             "colorbar": {
              "outlinewidth": 0,
              "ticks": ""
             }
            },
            "type": "scattermapbox"
           }
          ],
          "scatterpolar": [
           {
            "marker": {
             "colorbar": {
              "outlinewidth": 0,
              "ticks": ""
             }
            },
            "type": "scatterpolar"
           }
          ],
          "scatterpolargl": [
           {
            "marker": {
             "colorbar": {
              "outlinewidth": 0,
              "ticks": ""
             }
            },
            "type": "scatterpolargl"
           }
          ],
          "scatterternary": [
           {
            "marker": {
             "colorbar": {
              "outlinewidth": 0,
              "ticks": ""
             }
            },
            "type": "scatterternary"
           }
          ],
          "surface": [
           {
            "colorbar": {
             "outlinewidth": 0,
             "ticks": ""
            },
            "colorscale": [
             [
              0,
              "#0d0887"
             ],
             [
              0.1111111111111111,
              "#46039f"
             ],
             [
              0.2222222222222222,
              "#7201a8"
             ],
             [
              0.3333333333333333,
              "#9c179e"
             ],
             [
              0.4444444444444444,
              "#bd3786"
             ],
             [
              0.5555555555555556,
              "#d8576b"
             ],
             [
              0.6666666666666666,
              "#ed7953"
             ],
             [
              0.7777777777777778,
              "#fb9f3a"
             ],
             [
              0.8888888888888888,
              "#fdca26"
             ],
             [
              1,
              "#f0f921"
             ]
            ],
            "type": "surface"
           }
          ],
          "table": [
           {
            "cells": {
             "fill": {
              "color": "#EBF0F8"
             },
             "line": {
              "color": "white"
             }
            },
            "header": {
             "fill": {
              "color": "#C8D4E3"
             },
             "line": {
              "color": "white"
             }
            },
            "type": "table"
           }
          ]
         },
         "layout": {
          "annotationdefaults": {
           "arrowcolor": "#2a3f5f",
           "arrowhead": 0,
           "arrowwidth": 1
          },
          "autotypenumbers": "strict",
          "coloraxis": {
           "colorbar": {
            "outlinewidth": 0,
            "ticks": ""
           }
          },
          "colorscale": {
           "diverging": [
            [
             0,
             "#8e0152"
            ],
            [
             0.1,
             "#c51b7d"
            ],
            [
             0.2,
             "#de77ae"
            ],
            [
             0.3,
             "#f1b6da"
            ],
            [
             0.4,
             "#fde0ef"
            ],
            [
             0.5,
             "#f7f7f7"
            ],
            [
             0.6,
             "#e6f5d0"
            ],
            [
             0.7,
             "#b8e186"
            ],
            [
             0.8,
             "#7fbc41"
            ],
            [
             0.9,
             "#4d9221"
            ],
            [
             1,
             "#276419"
            ]
           ],
           "sequential": [
            [
             0,
             "#0d0887"
            ],
            [
             0.1111111111111111,
             "#46039f"
            ],
            [
             0.2222222222222222,
             "#7201a8"
            ],
            [
             0.3333333333333333,
             "#9c179e"
            ],
            [
             0.4444444444444444,
             "#bd3786"
            ],
            [
             0.5555555555555556,
             "#d8576b"
            ],
            [
             0.6666666666666666,
             "#ed7953"
            ],
            [
             0.7777777777777778,
             "#fb9f3a"
            ],
            [
             0.8888888888888888,
             "#fdca26"
            ],
            [
             1,
             "#f0f921"
            ]
           ],
           "sequentialminus": [
            [
             0,
             "#0d0887"
            ],
            [
             0.1111111111111111,
             "#46039f"
            ],
            [
             0.2222222222222222,
             "#7201a8"
            ],
            [
             0.3333333333333333,
             "#9c179e"
            ],
            [
             0.4444444444444444,
             "#bd3786"
            ],
            [
             0.5555555555555556,
             "#d8576b"
            ],
            [
             0.6666666666666666,
             "#ed7953"
            ],
            [
             0.7777777777777778,
             "#fb9f3a"
            ],
            [
             0.8888888888888888,
             "#fdca26"
            ],
            [
             1,
             "#f0f921"
            ]
           ]
          },
          "colorway": [
           "#636efa",
           "#EF553B",
           "#00cc96",
           "#ab63fa",
           "#FFA15A",
           "#19d3f3",
           "#FF6692",
           "#B6E880",
           "#FF97FF",
           "#FECB52"
          ],
          "font": {
           "color": "#2a3f5f"
          },
          "geo": {
           "bgcolor": "white",
           "lakecolor": "white",
           "landcolor": "#E5ECF6",
           "showlakes": true,
           "showland": true,
           "subunitcolor": "white"
          },
          "hoverlabel": {
           "align": "left"
          },
          "hovermode": "closest",
          "mapbox": {
           "style": "light"
          },
          "paper_bgcolor": "white",
          "plot_bgcolor": "#E5ECF6",
          "polar": {
           "angularaxis": {
            "gridcolor": "white",
            "linecolor": "white",
            "ticks": ""
           },
           "bgcolor": "#E5ECF6",
           "radialaxis": {
            "gridcolor": "white",
            "linecolor": "white",
            "ticks": ""
           }
          },
          "scene": {
           "xaxis": {
            "backgroundcolor": "#E5ECF6",
            "gridcolor": "white",
            "gridwidth": 2,
            "linecolor": "white",
            "showbackground": true,
            "ticks": "",
            "zerolinecolor": "white"
           },
           "yaxis": {
            "backgroundcolor": "#E5ECF6",
            "gridcolor": "white",
            "gridwidth": 2,
            "linecolor": "white",
            "showbackground": true,
            "ticks": "",
            "zerolinecolor": "white"
           },
           "zaxis": {
            "backgroundcolor": "#E5ECF6",
            "gridcolor": "white",
            "gridwidth": 2,
            "linecolor": "white",
            "showbackground": true,
            "ticks": "",
            "zerolinecolor": "white"
           }
          },
          "shapedefaults": {
           "line": {
            "color": "#2a3f5f"
           }
          },
          "ternary": {
           "aaxis": {
            "gridcolor": "white",
            "linecolor": "white",
            "ticks": ""
           },
           "baxis": {
            "gridcolor": "white",
            "linecolor": "white",
            "ticks": ""
           },
           "bgcolor": "#E5ECF6",
           "caxis": {
            "gridcolor": "white",
            "linecolor": "white",
            "ticks": ""
           }
          },
          "title": {
           "x": 0.05
          },
          "xaxis": {
           "automargin": true,
           "gridcolor": "white",
           "linecolor": "white",
           "ticks": "",
           "title": {
            "standoff": 15
           },
           "zerolinecolor": "white",
           "zerolinewidth": 2
          },
          "yaxis": {
           "automargin": true,
           "gridcolor": "white",
           "linecolor": "white",
           "ticks": "",
           "title": {
            "standoff": 15
           },
           "zerolinecolor": "white",
           "zerolinewidth": 2
          }
         }
        },
        "title": {
         "text": "Interactive QPM Grating Structure"
        },
        "xaxis": {
         "gridcolor": "lightgrey",
         "linecolor": "black",
         "linewidth": 1,
         "showline": true,
         "tickformat": ".1f",
         "title": {
          "text": "Position (μm)"
         }
        },
        "yaxis": {
         "gridcolor": "lightgrey",
         "linecolor": "black",
         "linewidth": 1,
         "showline": true,
         "title": {
          "text": "Coupling Coefficient κ"
         },
         "zeroline": true,
         "zerolinecolor": "black",
         "zerolinewidth": 1.5
        }
       }
      }
     },
     "metadata": {},
     "output_type": "display_data"
    },
    {
     "name": "stdout",
     "output_type": "stream",
     "text": [
      "2. Running SHG simulation...\n",
      "3. Plotting results...\n"
     ]
    },
    {
     "data": {
      "application/vnd.plotly.v1+json": {
       "config": {
        "plotlyServerURL": "https://plot.ly"
       },
       "data": [
        {
         "line": {
          "color": "blue",
          "width": 2
         },
         "mode": "lines",
         "name": "SHG Conversion Efficiency",
         "type": "scatter",
         "x": {
          "bdata": "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",
          "dtype": "f4"
         },
         "y": {
          "bdata": "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",
          "dtype": "f4"
         }
        }
       ],
       "layout": {
        "template": {
         "data": {
          "bar": [
           {
            "error_x": {
             "color": "#2a3f5f"
            },
            "error_y": {
             "color": "#2a3f5f"
            },
            "marker": {
             "line": {
              "color": "white",
              "width": 0.5
             },
             "pattern": {
              "fillmode": "overlay",
              "size": 10,
              "solidity": 0.2
             }
            },
            "type": "bar"
           }
          ],
          "barpolar": [
           {
            "marker": {
             "line": {
              "color": "white",
              "width": 0.5
             },
             "pattern": {
              "fillmode": "overlay",
              "size": 10,
              "solidity": 0.2
             }
            },
            "type": "barpolar"
           }
          ],
          "carpet": [
           {
            "aaxis": {
             "endlinecolor": "#2a3f5f",
             "gridcolor": "#C8D4E3",
             "linecolor": "#C8D4E3",
             "minorgridcolor": "#C8D4E3",
             "startlinecolor": "#2a3f5f"
            },
            "baxis": {
             "endlinecolor": "#2a3f5f",
             "gridcolor": "#C8D4E3",
             "linecolor": "#C8D4E3",
             "minorgridcolor": "#C8D4E3",
             "startlinecolor": "#2a3f5f"
            },
            "type": "carpet"
           }
          ],
          "choropleth": [
           {
            "colorbar": {
             "outlinewidth": 0,
             "ticks": ""
            },
            "type": "choropleth"
           }
          ],
          "contour": [
           {
            "colorbar": {
             "outlinewidth": 0,
             "ticks": ""
            },
            "colorscale": [
             [
              0,
              "#0d0887"
             ],
             [
              0.1111111111111111,
              "#46039f"
             ],
             [
              0.2222222222222222,
              "#7201a8"
             ],
             [
              0.3333333333333333,
              "#9c179e"
             ],
             [
              0.4444444444444444,
              "#bd3786"
             ],
             [
              0.5555555555555556,
              "#d8576b"
             ],
             [
              0.6666666666666666,
              "#ed7953"
             ],
             [
              0.7777777777777778,
              "#fb9f3a"
             ],
             [
              0.8888888888888888,
              "#fdca26"
             ],
             [
              1,
              "#f0f921"
             ]
            ],
            "type": "contour"
           }
          ],
          "contourcarpet": [
           {
            "colorbar": {
             "outlinewidth": 0,
             "ticks": ""
            },
            "type": "contourcarpet"
           }
          ],
          "heatmap": [
           {
            "colorbar": {
             "outlinewidth": 0,
             "ticks": ""
            },
            "colorscale": [
             [
              0,
              "#0d0887"
             ],
             [
              0.1111111111111111,
              "#46039f"
             ],
             [
              0.2222222222222222,
              "#7201a8"
             ],
             [
              0.3333333333333333,
              "#9c179e"
             ],
             [
              0.4444444444444444,
              "#bd3786"
             ],
             [
              0.5555555555555556,
              "#d8576b"
             ],
             [
              0.6666666666666666,
              "#ed7953"
             ],
             [
              0.7777777777777778,
              "#fb9f3a"
             ],
             [
              0.8888888888888888,
              "#fdca26"
             ],
             [
              1,
              "#f0f921"
             ]
            ],
            "type": "heatmap"
           }
          ],
          "histogram": [
           {
            "marker": {
             "pattern": {
              "fillmode": "overlay",
              "size": 10,
              "solidity": 0.2
             }
            },
            "type": "histogram"
           }
          ],
          "histogram2d": [
           {
            "colorbar": {
             "outlinewidth": 0,
             "ticks": ""
            },
            "colorscale": [
             [
              0,
              "#0d0887"
             ],
             [
              0.1111111111111111,
              "#46039f"
             ],
             [
              0.2222222222222222,
              "#7201a8"
             ],
             [
              0.3333333333333333,
              "#9c179e"
             ],
             [
              0.4444444444444444,
              "#bd3786"
             ],
             [
              0.5555555555555556,
              "#d8576b"
             ],
             [
              0.6666666666666666,
              "#ed7953"
             ],
             [
              0.7777777777777778,
              "#fb9f3a"
             ],
             [
              0.8888888888888888,
              "#fdca26"
             ],
             [
              1,
              "#f0f921"
             ]
            ],
            "type": "histogram2d"
           }
          ],
          "histogram2dcontour": [
           {
            "colorbar": {
             "outlinewidth": 0,
             "ticks": ""
            },
            "colorscale": [
             [
              0,
              "#0d0887"
             ],
             [
              0.1111111111111111,
              "#46039f"
             ],
             [
              0.2222222222222222,
              "#7201a8"
             ],
             [
              0.3333333333333333,
              "#9c179e"
             ],
             [
              0.4444444444444444,
              "#bd3786"
             ],
             [
              0.5555555555555556,
              "#d8576b"
             ],
             [
              0.6666666666666666,
              "#ed7953"
             ],
             [
              0.7777777777777778,
              "#fb9f3a"
             ],
             [
              0.8888888888888888,
              "#fdca26"
             ],
             [
              1,
              "#f0f921"
             ]
            ],
            "type": "histogram2dcontour"
           }
          ],
          "mesh3d": [
           {
            "colorbar": {
             "outlinewidth": 0,
             "ticks": ""
            },
            "type": "mesh3d"
           }
          ],
          "parcoords": [
           {
            "line": {
             "colorbar": {
              "outlinewidth": 0,
              "ticks": ""
             }
            },
            "type": "parcoords"
           }
          ],
          "pie": [
           {
            "automargin": true,
            "type": "pie"
           }
          ],
          "scatter": [
           {
            "fillpattern": {
             "fillmode": "overlay",
             "size": 10,
             "solidity": 0.2
            },
            "type": "scatter"
           }
          ],
          "scatter3d": [
           {
            "line": {
             "colorbar": {
              "outlinewidth": 0,
              "ticks": ""
             }
            },
            "marker": {
             "colorbar": {
              "outlinewidth": 0,
              "ticks": ""
             }
            },
            "type": "scatter3d"
           }
          ],
          "scattercarpet": [
           {
            "marker": {
             "colorbar": {
              "outlinewidth": 0,
              "ticks": ""
             }
            },
            "type": "scattercarpet"
           }
          ],
          "scattergeo": [
           {
            "marker": {
             "colorbar": {
              "outlinewidth": 0,
              "ticks": ""
             }
            },
            "type": "scattergeo"
           }
          ],
          "scattergl": [
           {
            "marker": {
             "colorbar": {
              "outlinewidth": 0,
              "ticks": ""
             }
            },
            "type": "scattergl"
           }
          ],
          "scattermap": [
           {
            "marker": {
             "colorbar": {
              "outlinewidth": 0,
              "ticks": ""
             }
            },
            "type": "scattermap"
           }
          ],
          "scattermapbox": [
           {
            "marker": {
             "colorbar": {
              "outlinewidth": 0,
              "ticks": ""
             }
            },
            "type": "scattermapbox"
           }
          ],
          "scatterpolar": [
           {
            "marker": {
             "colorbar": {
              "outlinewidth": 0,
              "ticks": ""
             }
            },
            "type": "scatterpolar"
           }
          ],
          "scatterpolargl": [
           {
            "marker": {
             "colorbar": {
              "outlinewidth": 0,
              "ticks": ""
             }
            },
            "type": "scatterpolargl"
           }
          ],
          "scatterternary": [
           {
            "marker": {
             "colorbar": {
              "outlinewidth": 0,
              "ticks": ""
             }
            },
            "type": "scatterternary"
           }
          ],
          "surface": [
           {
            "colorbar": {
             "outlinewidth": 0,
             "ticks": ""
            },
            "colorscale": [
             [
              0,
              "#0d0887"
             ],
             [
              0.1111111111111111,
              "#46039f"
             ],
             [
              0.2222222222222222,
              "#7201a8"
             ],
             [
              0.3333333333333333,
              "#9c179e"
             ],
             [
              0.4444444444444444,
              "#bd3786"
             ],
             [
              0.5555555555555556,
              "#d8576b"
             ],
             [
              0.6666666666666666,
              "#ed7953"
             ],
             [
              0.7777777777777778,
              "#fb9f3a"
             ],
             [
              0.8888888888888888,
              "#fdca26"
             ],
             [
              1,
              "#f0f921"
             ]
            ],
            "type": "surface"
           }
          ],
          "table": [
           {
            "cells": {
             "fill": {
              "color": "#EBF0F8"
             },
             "line": {
              "color": "white"
             }
            },
            "header": {
             "fill": {
              "color": "#C8D4E3"
             },
             "line": {
              "color": "white"
             }
            },
            "type": "table"
           }
          ]
         },
         "layout": {
          "annotationdefaults": {
           "arrowcolor": "#2a3f5f",
           "arrowhead": 0,
           "arrowwidth": 1
          },
          "autotypenumbers": "strict",
          "coloraxis": {
           "colorbar": {
            "outlinewidth": 0,
            "ticks": ""
           }
          },
          "colorscale": {
           "diverging": [
            [
             0,
             "#8e0152"
            ],
            [
             0.1,
             "#c51b7d"
            ],
            [
             0.2,
             "#de77ae"
            ],
            [
             0.3,
             "#f1b6da"
            ],
            [
             0.4,
             "#fde0ef"
            ],
            [
             0.5,
             "#f7f7f7"
            ],
            [
             0.6,
             "#e6f5d0"
            ],
            [
             0.7,
             "#b8e186"
            ],
            [
             0.8,
             "#7fbc41"
            ],
            [
             0.9,
             "#4d9221"
            ],
            [
             1,
             "#276419"
            ]
           ],
           "sequential": [
            [
             0,
             "#0d0887"
            ],
            [
             0.1111111111111111,
             "#46039f"
            ],
            [
             0.2222222222222222,
             "#7201a8"
            ],
            [
             0.3333333333333333,
             "#9c179e"
            ],
            [
             0.4444444444444444,
             "#bd3786"
            ],
            [
             0.5555555555555556,
             "#d8576b"
            ],
            [
             0.6666666666666666,
             "#ed7953"
            ],
            [
             0.7777777777777778,
             "#fb9f3a"
            ],
            [
             0.8888888888888888,
             "#fdca26"
            ],
            [
             1,
             "#f0f921"
            ]
           ],
           "sequentialminus": [
            [
             0,
             "#0d0887"
            ],
            [
             0.1111111111111111,
             "#46039f"
            ],
            [
             0.2222222222222222,
             "#7201a8"
            ],
            [
             0.3333333333333333,
             "#9c179e"
            ],
            [
             0.4444444444444444,
             "#bd3786"
            ],
            [
             0.5555555555555556,
             "#d8576b"
            ],
            [
             0.6666666666666666,
             "#ed7953"
            ],
            [
             0.7777777777777778,
             "#fb9f3a"
            ],
            [
             0.8888888888888888,
             "#fdca26"
            ],
            [
             1,
             "#f0f921"
            ]
           ]
          },
          "colorway": [
           "#636efa",
           "#EF553B",
           "#00cc96",
           "#ab63fa",
           "#FFA15A",
           "#19d3f3",
           "#FF6692",
           "#B6E880",
           "#FF97FF",
           "#FECB52"
          ],
          "font": {
           "color": "#2a3f5f"
          },
          "geo": {
           "bgcolor": "white",
           "lakecolor": "white",
           "landcolor": "white",
           "showlakes": true,
           "showland": true,
           "subunitcolor": "#C8D4E3"
          },
          "hoverlabel": {
           "align": "left"
          },
          "hovermode": "closest",
          "mapbox": {
           "style": "light"
          },
          "paper_bgcolor": "white",
          "plot_bgcolor": "white",
          "polar": {
           "angularaxis": {
            "gridcolor": "#EBF0F8",
            "linecolor": "#EBF0F8",
            "ticks": ""
           },
           "bgcolor": "white",
           "radialaxis": {
            "gridcolor": "#EBF0F8",
            "linecolor": "#EBF0F8",
            "ticks": ""
           }
          },
          "scene": {
           "xaxis": {
            "backgroundcolor": "white",
            "gridcolor": "#DFE8F3",
            "gridwidth": 2,
            "linecolor": "#EBF0F8",
            "showbackground": true,
            "ticks": "",
            "zerolinecolor": "#EBF0F8"
           },
           "yaxis": {
            "backgroundcolor": "white",
            "gridcolor": "#DFE8F3",
            "gridwidth": 2,
            "linecolor": "#EBF0F8",
            "showbackground": true,
            "ticks": "",
            "zerolinecolor": "#EBF0F8"
           },
           "zaxis": {
            "backgroundcolor": "white",
            "gridcolor": "#DFE8F3",
            "gridwidth": 2,
            "linecolor": "#EBF0F8",
            "showbackground": true,
            "ticks": "",
            "zerolinecolor": "#EBF0F8"
           }
          },
          "shapedefaults": {
           "line": {
            "color": "#2a3f5f"
           }
          },
          "ternary": {
           "aaxis": {
            "gridcolor": "#DFE8F3",
            "linecolor": "#A2B1C6",
            "ticks": ""
           },
           "baxis": {
            "gridcolor": "#DFE8F3",
            "linecolor": "#A2B1C6",
            "ticks": ""
           },
           "bgcolor": "white",
           "caxis": {
            "gridcolor": "#DFE8F3",
            "linecolor": "#A2B1C6",
            "ticks": ""
           }
          },
          "title": {
           "x": 0.05
          },
          "xaxis": {
           "automargin": true,
           "gridcolor": "#EBF0F8",
           "linecolor": "#EBF0F8",
           "ticks": "",
           "title": {
            "standoff": 15
           },
           "zerolinecolor": "#EBF0F8",
           "zerolinewidth": 2
          },
          "yaxis": {
           "automargin": true,
           "gridcolor": "#EBF0F8",
           "linecolor": "#EBF0F8",
           "ticks": "",
           "title": {
            "standoff": 15
           },
           "zerolinecolor": "#EBF0F8",
           "zerolinewidth": 2
          }
         }
        },
        "title": {
         "text": "Chirped SHG Spectrum (600 domains)"
        },
        "xaxis": {
         "title": {
          "text": "Fundamental Wavelength (μm)"
         }
        },
        "yaxis": {
         "title": {
          "text": "SHG Conversion Efficiency (%/W)"
         }
        }
       }
      }
     },
     "metadata": {},
     "output_type": "display_data"
    }
   ],
   "source": [
    "main()"
   ]
  }
 ],
 "metadata": {
  "kernelspec": {
   "display_name": ".venv",
   "language": "python",
   "name": "python3"
  },
  "language_info": {
   "codemirror_mode": {
    "name": "ipython",
    "version": 3
   },
   "file_extension": ".py",
   "mimetype": "text/x-python",
   "name": "python",
   "nbconvert_exporter": "python",
   "pygments_lexer": "ipython3",
   "version": "3.13.8"
  }
 },
 "nbformat": 4,
 "nbformat_minor": 5
}
