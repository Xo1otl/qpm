{
 "cells": [
  {
   "cell_type": "code",
   "execution_count": 1,
   "id": "26bfb403",
   "metadata": {},
   "outputs": [
    {
     "name": "stdout",
     "output_type": "stream",
     "text": [
      "1. Building grating and preparing simulation inputs...\n",
      "2. Running SHG simulation...\n"
     ]
    }
   ],
   "source": [
    "import jax\n",
    "import jax.numpy as jnp\n",
    "import plotly.graph_objects as go  # pyright: ignore[reportMissingTypeStubs]\n",
    "from jax import jit, vmap\n",
    "\n",
    "from qpm import cwes, grating, mgoslt\n",
    "\n",
    "compute_shg_vectors = jit(vmap(cwes.simulate_twm, in_axes=(None, None, 0, 0, None)))\n",
    "\n",
    "\n",
    "def plot_domain_widths(widths: jax.Array) -> None:\n",
    "    \"\"\"Plots the domain widths before and after optimization.\"\"\"\n",
    "    fig = go.Figure()\n",
    "    fig.add_trace(go.Scatter(y=widths))\n",
    "    fig.update_layout(\n",
    "        title_text=\"Domain Widths\",\n",
    "        xaxis_title=\"Domain Index\",\n",
    "        yaxis_title=\"Width (μm)\",\n",
    "    )\n",
    "    fig.show()\n",
    "\n",
    "\n",
    "\"\"\"Main function to run the chirped SHG simulation and plot results.\"\"\"\n",
    "# --- Parameters ---\n",
    "num_domains = 600\n",
    "initial_width = 3.6  # μm\n",
    "chirp_rate = 0.0001  # Chirp rate\n",
    "kappa_mag = 1.31e-5 / (2 / jnp.pi)  # Nonlinear coupling coefficient magnitude\n",
    "temperature = 70.0  # Operating temperature (°C)\n",
    "wl_start, wl_end, num_points = 0.931, 1.066, 1000\n",
    "\n",
    "# --- Setup & Simulation ---\n",
    "print(\"1. Building grating and preparing simulation inputs...\")\n",
    "profile = grating.tapered_profile(num_domains, initial_width, chirp_rate, kappa_mag)\n",
    "widths, kappas = grating.build(profile)\n",
    "\n",
    "wls = jnp.linspace(wl_start, wl_end, num_points)\n",
    "# Unpack the phase mismatch values directly\n",
    "delta_k1s = mgoslt.calc_twm_delta_k(wls, wls, temperature)\n",
    "delta_k2s = mgoslt.calc_twm_delta_k(wls, wls / 2, temperature)\n",
    "b_initial = jnp.array([1.0, 0.0, 0.0], dtype=jnp.complex64)\n",
    "\n",
    "print(\"2. Running SHG simulation...\")\n",
    "# Pass the unpacked arrays to the vmapped function.\n",
    "b_final = compute_shg_vectors(widths, kappas, delta_k1s, delta_k2s, b_initial)\n",
    "\n",
    "# Calculate the desired efficiency from the state vectors.\n",
    "effs = jnp.abs(b_final[:, 1]) ** 2 * 100 * 1.07 / 2.84\n"
   ]
  },
  {
   "cell_type": "code",
   "execution_count": 2,
   "id": "9b24609c",
   "metadata": {},
   "outputs": [
    {
     "name": "stdout",
     "output_type": "stream",
     "text": [
      "3. Plotting results...\n"
     ]
    },
    {
     "data": {
      "application/vnd.plotly.v1+json": {
       "config": {
        "plotlyServerURL": "https://plot.ly"
       },
       "data": [
        {
         "line": {
          "color": "blue",
          "width": 2
         },
         "mode": "lines",
         "name": "SHG Conversion Efficiency",
         "type": "scatter",
         "x": {
          "bdata": "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",
          "dtype": "f4"
         },
         "y": {
          "bdata": "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",
          "dtype": "f4"
         }
        }
       ],
       "layout": {
        "template": {
         "data": {
          "bar": [
           {
            "error_x": {
             "color": "#2a3f5f"
            },
            "error_y": {
             "color": "#2a3f5f"
            },
            "marker": {
             "line": {
              "color": "white",
              "width": 0.5
             },
             "pattern": {
              "fillmode": "overlay",
              "size": 10,
              "solidity": 0.2
             }
            },
            "type": "bar"
           }
          ],
          "barpolar": [
           {
            "marker": {
             "line": {
              "color": "white",
              "width": 0.5
             },
             "pattern": {
              "fillmode": "overlay",
              "size": 10,
              "solidity": 0.2
             }
            },
            "type": "barpolar"
           }
          ],
          "carpet": [
           {
            "aaxis": {
             "endlinecolor": "#2a3f5f",
             "gridcolor": "#C8D4E3",
             "linecolor": "#C8D4E3",
             "minorgridcolor": "#C8D4E3",
             "startlinecolor": "#2a3f5f"
            },
            "baxis": {
             "endlinecolor": "#2a3f5f",
             "gridcolor": "#C8D4E3",
             "linecolor": "#C8D4E3",
             "minorgridcolor": "#C8D4E3",
             "startlinecolor": "#2a3f5f"
            },
            "type": "carpet"
           }
          ],
          "choropleth": [
           {
            "colorbar": {
             "outlinewidth": 0,
             "ticks": ""
            },
            "type": "choropleth"
           }
          ],
          "contour": [
           {
            "colorbar": {
             "outlinewidth": 0,
             "ticks": ""
            },
            "colorscale": [
             [
              0,
              "#0d0887"
             ],
             [
              0.1111111111111111,
              "#46039f"
             ],
             [
              0.2222222222222222,
              "#7201a8"
             ],
             [
              0.3333333333333333,
              "#9c179e"
             ],
             [
              0.4444444444444444,
              "#bd3786"
             ],
             [
              0.5555555555555556,
              "#d8576b"
             ],
             [
              0.6666666666666666,
              "#ed7953"
             ],
             [
              0.7777777777777778,
              "#fb9f3a"
             ],
             [
              0.8888888888888888,
              "#fdca26"
             ],
             [
              1,
              "#f0f921"
             ]
            ],
            "type": "contour"
           }
          ],
          "contourcarpet": [
           {
            "colorbar": {
             "outlinewidth": 0,
             "ticks": ""
            },
            "type": "contourcarpet"
           }
          ],
          "heatmap": [
           {
            "colorbar": {
             "outlinewidth": 0,
             "ticks": ""
            },
            "colorscale": [
             [
              0,
              "#0d0887"
             ],
             [
              0.1111111111111111,
              "#46039f"
             ],
             [
              0.2222222222222222,
              "#7201a8"
             ],
             [
              0.3333333333333333,
              "#9c179e"
             ],
             [
              0.4444444444444444,
              "#bd3786"
             ],
             [
              0.5555555555555556,
              "#d8576b"
             ],
             [
              0.6666666666666666,
              "#ed7953"
             ],
             [
              0.7777777777777778,
              "#fb9f3a"
             ],
             [
              0.8888888888888888,
              "#fdca26"
             ],
             [
              1,
              "#f0f921"
             ]
            ],
            "type": "heatmap"
           }
          ],
          "histogram": [
           {
            "marker": {
             "pattern": {
              "fillmode": "overlay",
              "size": 10,
              "solidity": 0.2
             }
            },
            "type": "histogram"
           }
          ],
          "histogram2d": [
           {
            "colorbar": {
             "outlinewidth": 0,
             "ticks": ""
            },
            "colorscale": [
             [
              0,
              "#0d0887"
             ],
             [
              0.1111111111111111,
              "#46039f"
             ],
             [
              0.2222222222222222,
              "#7201a8"
             ],
             [
              0.3333333333333333,
              "#9c179e"
             ],
             [
              0.4444444444444444,
              "#bd3786"
             ],
             [
              0.5555555555555556,
              "#d8576b"
             ],
             [
              0.6666666666666666,
              "#ed7953"
             ],
             [
              0.7777777777777778,
              "#fb9f3a"
             ],
             [
              0.8888888888888888,
              "#fdca26"
             ],
             [
              1,
              "#f0f921"
             ]
            ],
            "type": "histogram2d"
           }
          ],
          "histogram2dcontour": [
           {
            "colorbar": {
             "outlinewidth": 0,
             "ticks": ""
            },
            "colorscale": [
             [
              0,
              "#0d0887"
             ],
             [
              0.1111111111111111,
              "#46039f"
             ],
             [
              0.2222222222222222,
              "#7201a8"
             ],
             [
              0.3333333333333333,
              "#9c179e"
             ],
             [
              0.4444444444444444,
              "#bd3786"
             ],
             [
              0.5555555555555556,
              "#d8576b"
             ],
             [
              0.6666666666666666,
              "#ed7953"
             ],
             [
              0.7777777777777778,
              "#fb9f3a"
             ],
             [
              0.8888888888888888,
              "#fdca26"
             ],
             [
              1,
              "#f0f921"
             ]
            ],
            "type": "histogram2dcontour"
           }
          ],
          "mesh3d": [
           {
            "colorbar": {
             "outlinewidth": 0,
             "ticks": ""
            },
            "type": "mesh3d"
           }
          ],
          "parcoords": [
           {
            "line": {
             "colorbar": {
              "outlinewidth": 0,
              "ticks": ""
             }
            },
            "type": "parcoords"
           }
          ],
          "pie": [
           {
            "automargin": true,
            "type": "pie"
           }
          ],
          "scatter": [
           {
            "fillpattern": {
             "fillmode": "overlay",
             "size": 10,
             "solidity": 0.2
            },
            "type": "scatter"
           }
          ],
          "scatter3d": [
           {
            "line": {
             "colorbar": {
              "outlinewidth": 0,
              "ticks": ""
             }
            },
            "marker": {
             "colorbar": {
              "outlinewidth": 0,
              "ticks": ""
             }
            },
            "type": "scatter3d"
           }
          ],
          "scattercarpet": [
           {
            "marker": {
             "colorbar": {
              "outlinewidth": 0,
              "ticks": ""
             }
            },
            "type": "scattercarpet"
           }
          ],
          "scattergeo": [
           {
            "marker": {
             "colorbar": {
              "outlinewidth": 0,
              "ticks": ""
             }
            },
            "type": "scattergeo"
           }
          ],
          "scattergl": [
           {
            "marker": {
             "colorbar": {
              "outlinewidth": 0,
              "ticks": ""
             }
            },
            "type": "scattergl"
           }
          ],
          "scattermap": [
           {
            "marker": {
             "colorbar": {
              "outlinewidth": 0,
              "ticks": ""
             }
            },
            "type": "scattermap"
           }
          ],
          "scattermapbox": [
           {
            "marker": {
             "colorbar": {
              "outlinewidth": 0,
              "ticks": ""
             }
            },
            "type": "scattermapbox"
           }
          ],
          "scatterpolar": [
           {
            "marker": {
             "colorbar": {
              "outlinewidth": 0,
              "ticks": ""
             }
            },
            "type": "scatterpolar"
           }
          ],
          "scatterpolargl": [
           {
            "marker": {
             "colorbar": {
              "outlinewidth": 0,
              "ticks": ""
             }
            },
            "type": "scatterpolargl"
           }
          ],
          "scatterternary": [
           {
            "marker": {
             "colorbar": {
              "outlinewidth": 0,
              "ticks": ""
             }
            },
            "type": "scatterternary"
           }
          ],
          "surface": [
           {
            "colorbar": {
             "outlinewidth": 0,
             "ticks": ""
            },
            "colorscale": [
             [
              0,
              "#0d0887"
             ],
             [
              0.1111111111111111,
              "#46039f"
             ],
             [
              0.2222222222222222,
              "#7201a8"
             ],
             [
              0.3333333333333333,
              "#9c179e"
             ],
             [
              0.4444444444444444,
              "#bd3786"
             ],
             [
              0.5555555555555556,
              "#d8576b"
             ],
             [
              0.6666666666666666,
              "#ed7953"
             ],
             [
              0.7777777777777778,
              "#fb9f3a"
             ],
             [
              0.8888888888888888,
              "#fdca26"
             ],
             [
              1,
              "#f0f921"
             ]
            ],
            "type": "surface"
           }
          ],
          "table": [
           {
            "cells": {
             "fill": {
              "color": "#EBF0F8"
             },
             "line": {
              "color": "white"
             }
            },
            "header": {
             "fill": {
              "color": "#C8D4E3"
             },
             "line": {
              "color": "white"
             }
            },
            "type": "table"
           }
          ]
         },
         "layout": {
          "annotationdefaults": {
           "arrowcolor": "#2a3f5f",
           "arrowhead": 0,
           "arrowwidth": 1
          },
          "autotypenumbers": "strict",
          "coloraxis": {
           "colorbar": {
            "outlinewidth": 0,
            "ticks": ""
           }
          },
          "colorscale": {
           "diverging": [
            [
             0,
             "#8e0152"
            ],
            [
             0.1,
             "#c51b7d"
            ],
            [
             0.2,
             "#de77ae"
            ],
            [
             0.3,
             "#f1b6da"
            ],
            [
             0.4,
             "#fde0ef"
            ],
            [
             0.5,
             "#f7f7f7"
            ],
            [
             0.6,
             "#e6f5d0"
            ],
            [
             0.7,
             "#b8e186"
            ],
            [
             0.8,
             "#7fbc41"
            ],
            [
             0.9,
             "#4d9221"
            ],
            [
             1,
             "#276419"
            ]
           ],
           "sequential": [
            [
             0,
             "#0d0887"
            ],
            [
             0.1111111111111111,
             "#46039f"
            ],
            [
             0.2222222222222222,
             "#7201a8"
            ],
            [
             0.3333333333333333,
             "#9c179e"
            ],
            [
             0.4444444444444444,
             "#bd3786"
            ],
            [
             0.5555555555555556,
             "#d8576b"
            ],
            [
             0.6666666666666666,
             "#ed7953"
            ],
            [
             0.7777777777777778,
             "#fb9f3a"
            ],
            [
             0.8888888888888888,
             "#fdca26"
            ],
            [
             1,
             "#f0f921"
            ]
           ],
           "sequentialminus": [
            [
             0,
             "#0d0887"
            ],
            [
             0.1111111111111111,
             "#46039f"
            ],
            [
             0.2222222222222222,
             "#7201a8"
            ],
            [
             0.3333333333333333,
             "#9c179e"
            ],
            [
             0.4444444444444444,
             "#bd3786"
            ],
            [
             0.5555555555555556,
             "#d8576b"
            ],
            [
             0.6666666666666666,
             "#ed7953"
            ],
            [
             0.7777777777777778,
             "#fb9f3a"
            ],
            [
             0.8888888888888888,
             "#fdca26"
            ],
            [
             1,
             "#f0f921"
            ]
           ]
          },
          "colorway": [
           "#636efa",
           "#EF553B",
           "#00cc96",
           "#ab63fa",
           "#FFA15A",
           "#19d3f3",
           "#FF6692",
           "#B6E880",
           "#FF97FF",
           "#FECB52"
          ],
          "font": {
           "color": "#2a3f5f"
          },
          "geo": {
           "bgcolor": "white",
           "lakecolor": "white",
           "landcolor": "white",
           "showlakes": true,
           "showland": true,
           "subunitcolor": "#C8D4E3"
          },
          "hoverlabel": {
           "align": "left"
          },
          "hovermode": "closest",
          "mapbox": {
           "style": "light"
          },
          "paper_bgcolor": "white",
          "plot_bgcolor": "white",
          "polar": {
           "angularaxis": {
            "gridcolor": "#EBF0F8",
            "linecolor": "#EBF0F8",
            "ticks": ""
           },
           "bgcolor": "white",
           "radialaxis": {
            "gridcolor": "#EBF0F8",
            "linecolor": "#EBF0F8",
            "ticks": ""
           }
          },
          "scene": {
           "xaxis": {
            "backgroundcolor": "white",
            "gridcolor": "#DFE8F3",
            "gridwidth": 2,
            "linecolor": "#EBF0F8",
            "showbackground": true,
            "ticks": "",
            "zerolinecolor": "#EBF0F8"
           },
           "yaxis": {
            "backgroundcolor": "white",
            "gridcolor": "#DFE8F3",
            "gridwidth": 2,
            "linecolor": "#EBF0F8",
            "showbackground": true,
            "ticks": "",
            "zerolinecolor": "#EBF0F8"
           },
           "zaxis": {
            "backgroundcolor": "white",
            "gridcolor": "#DFE8F3",
            "gridwidth": 2,
            "linecolor": "#EBF0F8",
            "showbackground": true,
            "ticks": "",
            "zerolinecolor": "#EBF0F8"
           }
          },
          "shapedefaults": {
           "line": {
            "color": "#2a3f5f"
           }
          },
          "ternary": {
           "aaxis": {
            "gridcolor": "#DFE8F3",
            "linecolor": "#A2B1C6",
            "ticks": ""
           },
           "baxis": {
            "gridcolor": "#DFE8F3",
            "linecolor": "#A2B1C6",
            "ticks": ""
           },
           "bgcolor": "white",
           "caxis": {
            "gridcolor": "#DFE8F3",
            "linecolor": "#A2B1C6",
            "ticks": ""
           }
          },
          "title": {
           "x": 0.05
          },
          "xaxis": {
           "automargin": true,
           "gridcolor": "#EBF0F8",
           "linecolor": "#EBF0F8",
           "ticks": "",
           "title": {
            "standoff": 15
           },
           "zerolinecolor": "#EBF0F8",
           "zerolinewidth": 2
          },
          "yaxis": {
           "automargin": true,
           "gridcolor": "#EBF0F8",
           "linecolor": "#EBF0F8",
           "ticks": "",
           "title": {
            "standoff": 15
           },
           "zerolinecolor": "#EBF0F8",
           "zerolinewidth": 2
          }
         }
        },
        "title": {
         "text": "Chirped SHG Spectrum (600 domains)"
        },
        "xaxis": {
         "title": {
          "text": "Fundamental Wavelength (μm)"
         }
        },
        "yaxis": {
         "title": {
          "text": "SHG Conversion Efficiency (%/W)"
         }
        }
       }
      }
     },
     "metadata": {},
     "output_type": "display_data"
    },
    {
     "data": {
      "application/vnd.plotly.v1+json": {
       "config": {
        "plotlyServerURL": "https://plot.ly"
       },
       "data": [
        {
         "type": "scatter",
         "y": {
          "bdata": "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",
          "dtype": "f4"
         }
        }
       ],
       "layout": {
        "template": {
         "data": {
          "bar": [
           {
            "error_x": {
             "color": "#2a3f5f"
            },
            "error_y": {
             "color": "#2a3f5f"
            },
            "marker": {
             "line": {
              "color": "#E5ECF6",
              "width": 0.5
             },
             "pattern": {
              "fillmode": "overlay",
              "size": 10,
              "solidity": 0.2
             }
            },
            "type": "bar"
           }
          ],
          "barpolar": [
           {
            "marker": {
             "line": {
              "color": "#E5ECF6",
              "width": 0.5
             },
             "pattern": {
              "fillmode": "overlay",
              "size": 10,
              "solidity": 0.2
             }
            },
            "type": "barpolar"
           }
          ],
          "carpet": [
           {
            "aaxis": {
             "endlinecolor": "#2a3f5f",
             "gridcolor": "white",
             "linecolor": "white",
             "minorgridcolor": "white",
             "startlinecolor": "#2a3f5f"
            },
            "baxis": {
             "endlinecolor": "#2a3f5f",
             "gridcolor": "white",
             "linecolor": "white",
             "minorgridcolor": "white",
             "startlinecolor": "#2a3f5f"
            },
            "type": "carpet"
           }
          ],
          "choropleth": [
           {
            "colorbar": {
             "outlinewidth": 0,
             "ticks": ""
            },
            "type": "choropleth"
           }
          ],
          "contour": [
           {
            "colorbar": {
             "outlinewidth": 0,
             "ticks": ""
            },
            "colorscale": [
             [
              0,
              "#0d0887"
             ],
             [
              0.1111111111111111,
              "#46039f"
             ],
             [
              0.2222222222222222,
              "#7201a8"
             ],
             [
              0.3333333333333333,
              "#9c179e"
             ],
             [
              0.4444444444444444,
              "#bd3786"
             ],
             [
              0.5555555555555556,
              "#d8576b"
             ],
             [
              0.6666666666666666,
              "#ed7953"
             ],
             [
              0.7777777777777778,
              "#fb9f3a"
             ],
             [
              0.8888888888888888,
              "#fdca26"
             ],
             [
              1,
              "#f0f921"
             ]
            ],
            "type": "contour"
           }
          ],
          "contourcarpet": [
           {
            "colorbar": {
             "outlinewidth": 0,
             "ticks": ""
            },
            "type": "contourcarpet"
           }
          ],
          "heatmap": [
           {
            "colorbar": {
             "outlinewidth": 0,
             "ticks": ""
            },
            "colorscale": [
             [
              0,
              "#0d0887"
             ],
             [
              0.1111111111111111,
              "#46039f"
             ],
             [
              0.2222222222222222,
              "#7201a8"
             ],
             [
              0.3333333333333333,
              "#9c179e"
             ],
             [
              0.4444444444444444,
              "#bd3786"
             ],
             [
              0.5555555555555556,
              "#d8576b"
             ],
             [
              0.6666666666666666,
              "#ed7953"
             ],
             [
              0.7777777777777778,
              "#fb9f3a"
             ],
             [
              0.8888888888888888,
              "#fdca26"
             ],
             [
              1,
              "#f0f921"
             ]
            ],
            "type": "heatmap"
           }
          ],
          "histogram": [
           {
            "marker": {
             "pattern": {
              "fillmode": "overlay",
              "size": 10,
              "solidity": 0.2
             }
            },
            "type": "histogram"
           }
          ],
          "histogram2d": [
           {
            "colorbar": {
             "outlinewidth": 0,
             "ticks": ""
            },
            "colorscale": [
             [
              0,
              "#0d0887"
             ],
             [
              0.1111111111111111,
              "#46039f"
             ],
             [
              0.2222222222222222,
              "#7201a8"
             ],
             [
              0.3333333333333333,
              "#9c179e"
             ],
             [
              0.4444444444444444,
              "#bd3786"
             ],
             [
              0.5555555555555556,
              "#d8576b"
             ],
             [
              0.6666666666666666,
              "#ed7953"
             ],
             [
              0.7777777777777778,
              "#fb9f3a"
             ],
             [
              0.8888888888888888,
              "#fdca26"
             ],
             [
              1,
              "#f0f921"
             ]
            ],
            "type": "histogram2d"
           }
          ],
          "histogram2dcontour": [
           {
            "colorbar": {
             "outlinewidth": 0,
             "ticks": ""
            },
            "colorscale": [
             [
              0,
              "#0d0887"
             ],
             [
              0.1111111111111111,
              "#46039f"
             ],
             [
              0.2222222222222222,
              "#7201a8"
             ],
             [
              0.3333333333333333,
              "#9c179e"
             ],
             [
              0.4444444444444444,
              "#bd3786"
             ],
             [
              0.5555555555555556,
              "#d8576b"
             ],
             [
              0.6666666666666666,
              "#ed7953"
             ],
             [
              0.7777777777777778,
              "#fb9f3a"
             ],
             [
              0.8888888888888888,
              "#fdca26"
             ],
             [
              1,
              "#f0f921"
             ]
            ],
            "type": "histogram2dcontour"
           }
          ],
          "mesh3d": [
           {
            "colorbar": {
             "outlinewidth": 0,
             "ticks": ""
            },
            "type": "mesh3d"
           }
          ],
          "parcoords": [
           {
            "line": {
             "colorbar": {
              "outlinewidth": 0,
              "ticks": ""
             }
            },
            "type": "parcoords"
           }
          ],
          "pie": [
           {
            "automargin": true,
            "type": "pie"
           }
          ],
          "scatter": [
           {
            "fillpattern": {
             "fillmode": "overlay",
             "size": 10,
             "solidity": 0.2
            },
            "type": "scatter"
           }
          ],
          "scatter3d": [
           {
            "line": {
             "colorbar": {
              "outlinewidth": 0,
              "ticks": ""
             }
            },
            "marker": {
             "colorbar": {
              "outlinewidth": 0,
              "ticks": ""
             }
            },
            "type": "scatter3d"
           }
          ],
          "scattercarpet": [
           {
            "marker": {
             "colorbar": {
              "outlinewidth": 0,
              "ticks": ""
             }
            },
            "type": "scattercarpet"
           }
          ],
          "scattergeo": [
           {
            "marker": {
             "colorbar": {
              "outlinewidth": 0,
              "ticks": ""
             }
            },
            "type": "scattergeo"
           }
          ],
          "scattergl": [
           {
            "marker": {
             "colorbar": {
              "outlinewidth": 0,
              "ticks": ""
             }
            },
            "type": "scattergl"
           }
          ],
          "scattermap": [
           {
            "marker": {
             "colorbar": {
              "outlinewidth": 0,
              "ticks": ""
             }
            },
            "type": "scattermap"
           }
          ],
          "scattermapbox": [
           {
            "marker": {
             "colorbar": {
              "outlinewidth": 0,
              "ticks": ""
             }
            },
            "type": "scattermapbox"
           }
          ],
          "scatterpolar": [
           {
            "marker": {
             "colorbar": {
              "outlinewidth": 0,
              "ticks": ""
             }
            },
            "type": "scatterpolar"
           }
          ],
          "scatterpolargl": [
           {
            "marker": {
             "colorbar": {
              "outlinewidth": 0,
              "ticks": ""
             }
            },
            "type": "scatterpolargl"
           }
          ],
          "scatterternary": [
           {
            "marker": {
             "colorbar": {
              "outlinewidth": 0,
              "ticks": ""
             }
            },
            "type": "scatterternary"
           }
          ],
          "surface": [
           {
            "colorbar": {
             "outlinewidth": 0,
             "ticks": ""
            },
            "colorscale": [
             [
              0,
              "#0d0887"
             ],
             [
              0.1111111111111111,
              "#46039f"
             ],
             [
              0.2222222222222222,
              "#7201a8"
             ],
             [
              0.3333333333333333,
              "#9c179e"
             ],
             [
              0.4444444444444444,
              "#bd3786"
             ],
             [
              0.5555555555555556,
              "#d8576b"
             ],
             [
              0.6666666666666666,
              "#ed7953"
             ],
             [
              0.7777777777777778,
              "#fb9f3a"
             ],
             [
              0.8888888888888888,
              "#fdca26"
             ],
             [
              1,
              "#f0f921"
             ]
            ],
            "type": "surface"
           }
          ],
          "table": [
           {
            "cells": {
             "fill": {
              "color": "#EBF0F8"
             },
             "line": {
              "color": "white"
             }
            },
            "header": {
             "fill": {
              "color": "#C8D4E3"
             },
             "line": {
              "color": "white"
             }
            },
            "type": "table"
           }
          ]
         },
         "layout": {
          "annotationdefaults": {
           "arrowcolor": "#2a3f5f",
           "arrowhead": 0,
           "arrowwidth": 1
          },
          "autotypenumbers": "strict",
          "coloraxis": {
           "colorbar": {
            "outlinewidth": 0,
            "ticks": ""
           }
          },
          "colorscale": {
           "diverging": [
            [
             0,
             "#8e0152"
            ],
            [
             0.1,
             "#c51b7d"
            ],
            [
             0.2,
             "#de77ae"
            ],
            [
             0.3,
             "#f1b6da"
            ],
            [
             0.4,
             "#fde0ef"
            ],
            [
             0.5,
             "#f7f7f7"
            ],
            [
             0.6,
             "#e6f5d0"
            ],
            [
             0.7,
             "#b8e186"
            ],
            [
             0.8,
             "#7fbc41"
            ],
            [
             0.9,
             "#4d9221"
            ],
            [
             1,
             "#276419"
            ]
           ],
           "sequential": [
            [
             0,
             "#0d0887"
            ],
            [
             0.1111111111111111,
             "#46039f"
            ],
            [
             0.2222222222222222,
             "#7201a8"
            ],
            [
             0.3333333333333333,
             "#9c179e"
            ],
            [
             0.4444444444444444,
             "#bd3786"
            ],
            [
             0.5555555555555556,
             "#d8576b"
            ],
            [
             0.6666666666666666,
             "#ed7953"
            ],
            [
             0.7777777777777778,
             "#fb9f3a"
            ],
            [
             0.8888888888888888,
             "#fdca26"
            ],
            [
             1,
             "#f0f921"
            ]
           ],
           "sequentialminus": [
            [
             0,
             "#0d0887"
            ],
            [
             0.1111111111111111,
             "#46039f"
            ],
            [
             0.2222222222222222,
             "#7201a8"
            ],
            [
             0.3333333333333333,
             "#9c179e"
            ],
            [
             0.4444444444444444,
             "#bd3786"
            ],
            [
             0.5555555555555556,
             "#d8576b"
            ],
            [
             0.6666666666666666,
             "#ed7953"
            ],
            [
             0.7777777777777778,
             "#fb9f3a"
            ],
            [
             0.8888888888888888,
             "#fdca26"
            ],
            [
             1,
             "#f0f921"
            ]
           ]
          },
          "colorway": [
           "#636efa",
           "#EF553B",
           "#00cc96",
           "#ab63fa",
           "#FFA15A",
           "#19d3f3",
           "#FF6692",
           "#B6E880",
           "#FF97FF",
           "#FECB52"
          ],
          "font": {
           "color": "#2a3f5f"
          },
          "geo": {
           "bgcolor": "white",
           "lakecolor": "white",
           "landcolor": "#E5ECF6",
           "showlakes": true,
           "showland": true,
           "subunitcolor": "white"
          },
          "hoverlabel": {
           "align": "left"
          },
          "hovermode": "closest",
          "mapbox": {
           "style": "light"
          },
          "paper_bgcolor": "white",
          "plot_bgcolor": "#E5ECF6",
          "polar": {
           "angularaxis": {
            "gridcolor": "white",
            "linecolor": "white",
            "ticks": ""
           },
           "bgcolor": "#E5ECF6",
           "radialaxis": {
            "gridcolor": "white",
            "linecolor": "white",
            "ticks": ""
           }
          },
          "scene": {
           "xaxis": {
            "backgroundcolor": "#E5ECF6",
            "gridcolor": "white",
            "gridwidth": 2,
            "linecolor": "white",
            "showbackground": true,
            "ticks": "",
            "zerolinecolor": "white"
           },
           "yaxis": {
            "backgroundcolor": "#E5ECF6",
            "gridcolor": "white",
            "gridwidth": 2,
            "linecolor": "white",
            "showbackground": true,
            "ticks": "",
            "zerolinecolor": "white"
           },
           "zaxis": {
            "backgroundcolor": "#E5ECF6",
            "gridcolor": "white",
            "gridwidth": 2,
            "linecolor": "white",
            "showbackground": true,
            "ticks": "",
            "zerolinecolor": "white"
           }
          },
          "shapedefaults": {
           "line": {
            "color": "#2a3f5f"
           }
          },
          "ternary": {
           "aaxis": {
            "gridcolor": "white",
            "linecolor": "white",
            "ticks": ""
           },
           "baxis": {
            "gridcolor": "white",
            "linecolor": "white",
            "ticks": ""
           },
           "bgcolor": "#E5ECF6",
           "caxis": {
            "gridcolor": "white",
            "linecolor": "white",
            "ticks": ""
           }
          },
          "title": {
           "x": 0.05
          },
          "xaxis": {
           "automargin": true,
           "gridcolor": "white",
           "linecolor": "white",
           "ticks": "",
           "title": {
            "standoff": 15
           },
           "zerolinecolor": "white",
           "zerolinewidth": 2
          },
          "yaxis": {
           "automargin": true,
           "gridcolor": "white",
           "linecolor": "white",
           "ticks": "",
           "title": {
            "standoff": 15
           },
           "zerolinecolor": "white",
           "zerolinewidth": 2
          }
         }
        },
        "title": {
         "text": "Domain Widths"
        },
        "xaxis": {
         "title": {
          "text": "Domain Index"
         }
        },
        "yaxis": {
         "title": {
          "text": "Width (μm)"
         }
        }
       }
      }
     },
     "metadata": {},
     "output_type": "display_data"
    }
   ],
   "source": [
    "# --- Plotting Results ---\n",
    "print(\"3. Plotting results...\")\n",
    "fig = go.Figure()\n",
    "fig.add_trace(\n",
    "    go.Scatter(\n",
    "        x=wls,\n",
    "        y=effs,\n",
    "        mode=\"lines\",\n",
    "        name=\"SHG Conversion Efficiency\",\n",
    "        line={\"color\": \"blue\", \"width\": 2},\n",
    "    ),\n",
    ")\n",
    "fig.update_layout(\n",
    "    title_text=f\"Chirped SHG Spectrum ({num_domains} domains)\",\n",
    "    xaxis_title=\"Fundamental Wavelength (μm)\",\n",
    "    yaxis_title=\"SHG Conversion Efficiency (%/W)\",\n",
    "    template=\"plotly_white\",\n",
    ")\n",
    "fig.show()\n",
    "\n",
    "plot_domain_widths(widths)"
   ]
  }
 ],
 "metadata": {
  "kernelspec": {
   "display_name": ".venv",
   "language": "python",
   "name": "python3"
  },
  "language_info": {
   "codemirror_mode": {
    "name": "ipython",
    "version": 3
   },
   "file_extension": ".py",
   "mimetype": "text/x-python",
   "name": "python",
   "nbconvert_exporter": "python",
   "pygments_lexer": "ipython3",
   "version": "3.13.8"
  }
 },
 "nbformat": 4,
 "nbformat_minor": 5
}
