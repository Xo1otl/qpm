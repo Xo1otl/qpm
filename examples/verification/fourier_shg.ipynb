{
 "cells": [
  {
   "cell_type": "code",
   "execution_count": 23,
   "id": "c2c58dc4",
   "metadata": {},
   "outputs": [],
   "source": [
    "import jax\n",
    "\n",
    "jax.config.update(\"jax_enable_x64\", val=True)"
   ]
  },
  {
   "cell_type": "code",
   "execution_count": 24,
   "id": "34caf956",
   "metadata": {},
   "outputs": [],
   "source": [
    "from dataclasses import dataclass\n",
    "from functools import partial\n",
    "\n",
    "import jax.numpy as jnp\n",
    "import plotly.graph_objects as go\n",
    "\n",
    "from qpm import grating, mgoslt\n",
    "\n",
    "NORO_FACTOR = 1.07 / 2.84 * 100\n",
    "\n",
    "\n",
    "@dataclass(frozen=True)\n",
    "class DeviceConfig:\n",
    "    length: float\n",
    "    num_domains: int\n",
    "    kappa: float\n",
    "\n",
    "\n",
    "@dataclass(frozen=True)\n",
    "class FourierConfig:\n",
    "    k_center: float\n",
    "    k_bandwidth: float\n",
    "    num_points: int\n",
    "\n",
    "\n",
    "def new_fourier_config(\n",
    "    dk_eff: jax.Array,\n",
    "    device: DeviceConfig,\n",
    "    num_points: int,\n",
    "    bw_scale: float = 1.2,\n",
    ") -> \"FourierConfig\":\n",
    "    k_norm_center = device.num_domains / 2.0\n",
    "    dk_eff_range = jnp.max(dk_eff) - jnp.min(dk_eff)\n",
    "    k_norm_bw = dk_eff_range * device.length / (2 * jnp.pi) * bw_scale\n",
    "    return FourierConfig(\n",
    "        k_center=k_norm_center,\n",
    "        k_bandwidth=float(k_norm_bw),\n",
    "        num_points=num_points,\n",
    "    )\n",
    "\n",
    "\n",
    "@partial(jax.jit, static_argnames=(\"m\", \"fft_len\"))\n",
    "def czt(x: jax.Array, m: int, fft_len: int, w: jax.Array, a: jax.Array) -> jax.Array:\n",
    "    \"\"\"Computes the Chirp Z-Transform of a signal.\"\"\"\n",
    "    n = x.shape[-1]\n",
    "    n_range = jnp.arange(n)\n",
    "    y = x * (a**-n_range) * w ** (n_range**2 / 2)\n",
    "    k_range_full = jnp.arange(-(n - 1), m)\n",
    "    h = w ** (-(k_range_full**2) / 2)\n",
    "    y_fft = jnp.fft.fft(y, n=fft_len)\n",
    "    h_fft = jnp.fft.fft(h, n=fft_len)\n",
    "    conv_result = jnp.fft.ifft(y_fft * h_fft)\n",
    "    k_range_out = jnp.arange(m)\n",
    "    final_chirp = w ** (k_range_out**2 / 2)\n",
    "    return conv_result[n - 1 : n - 1 + m] * final_chirp\n",
    "\n",
    "\n",
    "def create_alternating_signal_from_widths(widths: jax.Array, n_points: int = 8192) -> jax.Array:\n",
    "    \"\"\"\n",
    "    Generates an alternating +1/-1 signal based on an array of domain widths.\n",
    "    \"\"\"\n",
    "    num_domains = widths.shape[0]\n",
    "    alternating_values = jnp.power(-1, jnp.arange(num_domains))\n",
    "    cumulative_widths = jnp.cumsum(widths)\n",
    "    total_width = cumulative_widths[-1]\n",
    "    boundary_points = jnp.round(cumulative_widths / total_width * n_points).astype(jnp.int32)\n",
    "    boundary_points = jnp.insert(boundary_points, 0, 0)\n",
    "    boundary_points = boundary_points.at[-1].set(n_points)\n",
    "    points_per_domain = jnp.diff(boundary_points)\n",
    "    return jnp.repeat(alternating_values, points_per_domain)\n",
    "\n",
    "\n",
    "def calculate_fourier_spectrum(\n",
    "    signal: jax.Array,\n",
    "    config: FourierConfig,\n",
    ") -> tuple[jax.Array, jax.Array]:\n",
    "    \"\"\"Calculates the spectrum of a signal using CZT for a specified frequency window.\"\"\"\n",
    "    fs = signal.shape[0]\n",
    "    k_start = config.k_center - config.k_bandwidth / 2.0\n",
    "    k_end = config.k_center + config.k_bandwidth / 2.0\n",
    "    f_norm_start = k_start / fs\n",
    "    f_norm_end = k_end / fs\n",
    "    w = jnp.exp(-1j * 2 * jnp.pi * (f_norm_end - f_norm_start) / config.num_points)\n",
    "    a = jnp.exp(1j * 2 * jnp.pi * f_norm_start)\n",
    "    required_len = fs + config.num_points - 1\n",
    "    fft_len = 1 << (required_len - 1).bit_length()\n",
    "    spectrum_raw = czt(signal, m=config.num_points, fft_len=fft_len, w=w, a=a)\n",
    "    spectrum_amp_normalized = jnp.abs(spectrum_raw * 2 * jnp.pi / fs)\n",
    "    k_axis_normalized = jnp.linspace(k_start, k_end, config.num_points)\n",
    "    return k_axis_normalized, spectrum_amp_normalized\n",
    "\n",
    "\n",
    "@dataclass(frozen=True)\n",
    "class ConvParams:\n",
    "    norm_k_axis: jax.Array\n",
    "    k_center: float\n",
    "    length: float\n",
    "    kappa: float\n",
    "    dk_eff: jax.Array\n",
    "\n",
    "\n",
    "def calculate_phys_eff_spectrum(norm_spectrum_amp: jax.Array, params: ConvParams) -> jax.Array:\n",
    "    \"\"\"Converts the normalized Fourier spectrum to physical units.\"\"\"\n",
    "    k_deviation_norm = params.norm_k_axis - params.k_center\n",
    "    dk_total_phys = k_deviation_norm * (2 * jnp.pi / params.length)\n",
    "    # Convert the normalized Fourier transform (|F_norm|) to the physical one (|F_phys|)\n",
    "    # |F_phys| = (L / 2π) * |F_norm|\n",
    "    fourier_amp_phys = norm_spectrum_amp * (params.length / (2 * jnp.pi))\n",
    "    # Efficiency is proportional to |κ_d * F_phys(Δk)|^2\n",
    "    shg_efficiency = (params.kappa**2) * (fourier_amp_phys**2) * NORO_FACTOR\n",
    "    return jnp.interp(params.dk_eff, dk_total_phys, shg_efficiency)\n",
    "\n",
    "\n",
    "def plot_spectrum(wls: jax.Array, effs: jax.Array) -> None:\n",
    "    \"\"\"Plots the SHG efficiency spectrum using Plotly.\"\"\"\n",
    "    fig = go.Figure()\n",
    "    fig.add_trace(go.Scatter(x=wls, y=effs, mode=\"lines\", name=\"Fourier Method\"))\n",
    "    fig.update_layout(\n",
    "        title=\"SHG Spectrum (Fourier Method)\",\n",
    "        xaxis_title=\"Fundamental Wavelength (μm)\",\n",
    "        yaxis_title=\"Normalized SHG Efficiency\",\n",
    "        template=\"plotly_white\",\n",
    "    )\n",
    "    fig.show()\n",
    "\n",
    "\n",
    "def calc_dk_eff(dk_material: jax.Array, device: DeviceConfig) -> jax.Array:\n",
    "    \"\"\"Calculates the effective phase mismatch.\"\"\"\n",
    "    k_norm_center = device.num_domains / 2.0\n",
    "    k_g = k_norm_center * (2 * jnp.pi / device.length)\n",
    "    return dk_material - k_g\n",
    "\n",
    "\n",
    "def calc_effs(widths: jax.Array, wls: jax.Array, device: DeviceConfig, design_temp: float) -> jax.Array:\n",
    "    dk_material = mgoslt.calc_twm_delta_k(wls, wls, design_temp)\n",
    "    dk_eff = calc_dk_eff(dk_material, device)\n",
    "    signal = create_alternating_signal_from_widths(widths, 30000)\n",
    "    fourier_config = new_fourier_config(dk_eff, device, wls.shape[0])\n",
    "\n",
    "    k_ax_norm, spec_amp_norm = calculate_fourier_spectrum(signal, fourier_config)\n",
    "    conv_params = ConvParams(\n",
    "        norm_k_axis=k_ax_norm,\n",
    "        k_center=fourier_config.k_center,\n",
    "        length=device.length,\n",
    "        kappa=device.kappa,\n",
    "        dk_eff=dk_eff,\n",
    "    )\n",
    "    return calculate_phys_eff_spectrum(spec_amp_norm, conv_params)\n"
   ]
  },
  {
   "cell_type": "code",
   "execution_count": 25,
   "id": "6f1bc4ae",
   "metadata": {},
   "outputs": [
    {
     "data": {
      "application/vnd.plotly.v1+json": {
       "config": {
        "plotlyServerURL": "https://plot.ly"
       },
       "data": [
        {
         "mode": "lines",
         "name": "Fourier Method",
         "type": "scatter",
         "x": {
          "bdata": "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",
          "dtype": "f8"
         },
         "y": {
          "bdata": "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",
          "dtype": "f8"
         }
        }
       ],
       "layout": {
        "template": {
         "data": {
          "bar": [
           {
            "error_x": {
             "color": "#2a3f5f"
            },
            "error_y": {
             "color": "#2a3f5f"
            },
            "marker": {
             "line": {
              "color": "white",
              "width": 0.5
             },
             "pattern": {
              "fillmode": "overlay",
              "size": 10,
              "solidity": 0.2
             }
            },
            "type": "bar"
           }
          ],
          "barpolar": [
           {
            "marker": {
             "line": {
              "color": "white",
              "width": 0.5
             },
             "pattern": {
              "fillmode": "overlay",
              "size": 10,
              "solidity": 0.2
             }
            },
            "type": "barpolar"
           }
          ],
          "carpet": [
           {
            "aaxis": {
             "endlinecolor": "#2a3f5f",
             "gridcolor": "#C8D4E3",
             "linecolor": "#C8D4E3",
             "minorgridcolor": "#C8D4E3",
             "startlinecolor": "#2a3f5f"
            },
            "baxis": {
             "endlinecolor": "#2a3f5f",
             "gridcolor": "#C8D4E3",
             "linecolor": "#C8D4E3",
             "minorgridcolor": "#C8D4E3",
             "startlinecolor": "#2a3f5f"
            },
            "type": "carpet"
           }
          ],
          "choropleth": [
           {
            "colorbar": {
             "outlinewidth": 0,
             "ticks": ""
            },
            "type": "choropleth"
           }
          ],
          "contour": [
           {
            "colorbar": {
             "outlinewidth": 0,
             "ticks": ""
            },
            "colorscale": [
             [
              0,
              "#0d0887"
             ],
             [
              0.1111111111111111,
              "#46039f"
             ],
             [
              0.2222222222222222,
              "#7201a8"
             ],
             [
              0.3333333333333333,
              "#9c179e"
             ],
             [
              0.4444444444444444,
              "#bd3786"
             ],
             [
              0.5555555555555556,
              "#d8576b"
             ],
             [
              0.6666666666666666,
              "#ed7953"
             ],
             [
              0.7777777777777778,
              "#fb9f3a"
             ],
             [
              0.8888888888888888,
              "#fdca26"
             ],
             [
              1,
              "#f0f921"
             ]
            ],
            "type": "contour"
           }
          ],
          "contourcarpet": [
           {
            "colorbar": {
             "outlinewidth": 0,
             "ticks": ""
            },
            "type": "contourcarpet"
           }
          ],
          "heatmap": [
           {
            "colorbar": {
             "outlinewidth": 0,
             "ticks": ""
            },
            "colorscale": [
             [
              0,
              "#0d0887"
             ],
             [
              0.1111111111111111,
              "#46039f"
             ],
             [
              0.2222222222222222,
              "#7201a8"
             ],
             [
              0.3333333333333333,
              "#9c179e"
             ],
             [
              0.4444444444444444,
              "#bd3786"
             ],
             [
              0.5555555555555556,
              "#d8576b"
             ],
             [
              0.6666666666666666,
              "#ed7953"
             ],
             [
              0.7777777777777778,
              "#fb9f3a"
             ],
             [
              0.8888888888888888,
              "#fdca26"
             ],
             [
              1,
              "#f0f921"
             ]
            ],
            "type": "heatmap"
           }
          ],
          "histogram": [
           {
            "marker": {
             "pattern": {
              "fillmode": "overlay",
              "size": 10,
              "solidity": 0.2
             }
            },
            "type": "histogram"
           }
          ],
          "histogram2d": [
           {
            "colorbar": {
             "outlinewidth": 0,
             "ticks": ""
            },
            "colorscale": [
             [
              0,
              "#0d0887"
             ],
             [
              0.1111111111111111,
              "#46039f"
             ],
             [
              0.2222222222222222,
              "#7201a8"
             ],
             [
              0.3333333333333333,
              "#9c179e"
             ],
             [
              0.4444444444444444,
              "#bd3786"
             ],
             [
              0.5555555555555556,
              "#d8576b"
             ],
             [
              0.6666666666666666,
              "#ed7953"
             ],
             [
              0.7777777777777778,
              "#fb9f3a"
             ],
             [
              0.8888888888888888,
              "#fdca26"
             ],
             [
              1,
              "#f0f921"
             ]
            ],
            "type": "histogram2d"
           }
          ],
          "histogram2dcontour": [
           {
            "colorbar": {
             "outlinewidth": 0,
             "ticks": ""
            },
            "colorscale": [
             [
              0,
              "#0d0887"
             ],
             [
              0.1111111111111111,
              "#46039f"
             ],
             [
              0.2222222222222222,
              "#7201a8"
             ],
             [
              0.3333333333333333,
              "#9c179e"
             ],
             [
              0.4444444444444444,
              "#bd3786"
             ],
             [
              0.5555555555555556,
              "#d8576b"
             ],
             [
              0.6666666666666666,
              "#ed7953"
             ],
             [
              0.7777777777777778,
              "#fb9f3a"
             ],
             [
              0.8888888888888888,
              "#fdca26"
             ],
             [
              1,
              "#f0f921"
             ]
            ],
            "type": "histogram2dcontour"
           }
          ],
          "mesh3d": [
           {
            "colorbar": {
             "outlinewidth": 0,
             "ticks": ""
            },
            "type": "mesh3d"
           }
          ],
          "parcoords": [
           {
            "line": {
             "colorbar": {
              "outlinewidth": 0,
              "ticks": ""
             }
            },
            "type": "parcoords"
           }
          ],
          "pie": [
           {
            "automargin": true,
            "type": "pie"
           }
          ],
          "scatter": [
           {
            "fillpattern": {
             "fillmode": "overlay",
             "size": 10,
             "solidity": 0.2
            },
            "type": "scatter"
           }
          ],
          "scatter3d": [
           {
            "line": {
             "colorbar": {
              "outlinewidth": 0,
              "ticks": ""
             }
            },
            "marker": {
             "colorbar": {
              "outlinewidth": 0,
              "ticks": ""
             }
            },
            "type": "scatter3d"
           }
          ],
          "scattercarpet": [
           {
            "marker": {
             "colorbar": {
              "outlinewidth": 0,
              "ticks": ""
             }
            },
            "type": "scattercarpet"
           }
          ],
          "scattergeo": [
           {
            "marker": {
             "colorbar": {
              "outlinewidth": 0,
              "ticks": ""
             }
            },
            "type": "scattergeo"
           }
          ],
          "scattergl": [
           {
            "marker": {
             "colorbar": {
              "outlinewidth": 0,
              "ticks": ""
             }
            },
            "type": "scattergl"
           }
          ],
          "scattermap": [
           {
            "marker": {
             "colorbar": {
              "outlinewidth": 0,
              "ticks": ""
             }
            },
            "type": "scattermap"
           }
          ],
          "scattermapbox": [
           {
            "marker": {
             "colorbar": {
              "outlinewidth": 0,
              "ticks": ""
             }
            },
            "type": "scattermapbox"
           }
          ],
          "scatterpolar": [
           {
            "marker": {
             "colorbar": {
              "outlinewidth": 0,
              "ticks": ""
             }
            },
            "type": "scatterpolar"
           }
          ],
          "scatterpolargl": [
           {
            "marker": {
             "colorbar": {
              "outlinewidth": 0,
              "ticks": ""
             }
            },
            "type": "scatterpolargl"
           }
          ],
          "scatterternary": [
           {
            "marker": {
             "colorbar": {
              "outlinewidth": 0,
              "ticks": ""
             }
            },
            "type": "scatterternary"
           }
          ],
          "surface": [
           {
            "colorbar": {
             "outlinewidth": 0,
             "ticks": ""
            },
            "colorscale": [
             [
              0,
              "#0d0887"
             ],
             [
              0.1111111111111111,
              "#46039f"
             ],
             [
              0.2222222222222222,
              "#7201a8"
             ],
             [
              0.3333333333333333,
              "#9c179e"
             ],
             [
              0.4444444444444444,
              "#bd3786"
             ],
             [
              0.5555555555555556,
              "#d8576b"
             ],
             [
              0.6666666666666666,
              "#ed7953"
             ],
             [
              0.7777777777777778,
              "#fb9f3a"
             ],
             [
              0.8888888888888888,
              "#fdca26"
             ],
             [
              1,
              "#f0f921"
             ]
            ],
            "type": "surface"
           }
          ],
          "table": [
           {
            "cells": {
             "fill": {
              "color": "#EBF0F8"
             },
             "line": {
              "color": "white"
             }
            },
            "header": {
             "fill": {
              "color": "#C8D4E3"
             },
             "line": {
              "color": "white"
             }
            },
            "type": "table"
           }
          ]
         },
         "layout": {
          "annotationdefaults": {
           "arrowcolor": "#2a3f5f",
           "arrowhead": 0,
           "arrowwidth": 1
          },
          "autotypenumbers": "strict",
          "coloraxis": {
           "colorbar": {
            "outlinewidth": 0,
            "ticks": ""
           }
          },
          "colorscale": {
           "diverging": [
            [
             0,
             "#8e0152"
            ],
            [
             0.1,
             "#c51b7d"
            ],
            [
             0.2,
             "#de77ae"
            ],
            [
             0.3,
             "#f1b6da"
            ],
            [
             0.4,
             "#fde0ef"
            ],
            [
             0.5,
             "#f7f7f7"
            ],
            [
             0.6,
             "#e6f5d0"
            ],
            [
             0.7,
             "#b8e186"
            ],
            [
             0.8,
             "#7fbc41"
            ],
            [
             0.9,
             "#4d9221"
            ],
            [
             1,
             "#276419"
            ]
           ],
           "sequential": [
            [
             0,
             "#0d0887"
            ],
            [
             0.1111111111111111,
             "#46039f"
            ],
            [
             0.2222222222222222,
             "#7201a8"
            ],
            [
             0.3333333333333333,
             "#9c179e"
            ],
            [
             0.4444444444444444,
             "#bd3786"
            ],
            [
             0.5555555555555556,
             "#d8576b"
            ],
            [
             0.6666666666666666,
             "#ed7953"
            ],
            [
             0.7777777777777778,
             "#fb9f3a"
            ],
            [
             0.8888888888888888,
             "#fdca26"
            ],
            [
             1,
             "#f0f921"
            ]
           ],
           "sequentialminus": [
            [
             0,
             "#0d0887"
            ],
            [
             0.1111111111111111,
             "#46039f"
            ],
            [
             0.2222222222222222,
             "#7201a8"
            ],
            [
             0.3333333333333333,
             "#9c179e"
            ],
            [
             0.4444444444444444,
             "#bd3786"
            ],
            [
             0.5555555555555556,
             "#d8576b"
            ],
            [
             0.6666666666666666,
             "#ed7953"
            ],
            [
             0.7777777777777778,
             "#fb9f3a"
            ],
            [
             0.8888888888888888,
             "#fdca26"
            ],
            [
             1,
             "#f0f921"
            ]
           ]
          },
          "colorway": [
           "#636efa",
           "#EF553B",
           "#00cc96",
           "#ab63fa",
           "#FFA15A",
           "#19d3f3",
           "#FF6692",
           "#B6E880",
           "#FF97FF",
           "#FECB52"
          ],
          "font": {
           "color": "#2a3f5f"
          },
          "geo": {
           "bgcolor": "white",
           "lakecolor": "white",
           "landcolor": "white",
           "showlakes": true,
           "showland": true,
           "subunitcolor": "#C8D4E3"
          },
          "hoverlabel": {
           "align": "left"
          },
          "hovermode": "closest",
          "mapbox": {
           "style": "light"
          },
          "paper_bgcolor": "white",
          "plot_bgcolor": "white",
          "polar": {
           "angularaxis": {
            "gridcolor": "#EBF0F8",
            "linecolor": "#EBF0F8",
            "ticks": ""
           },
           "bgcolor": "white",
           "radialaxis": {
            "gridcolor": "#EBF0F8",
            "linecolor": "#EBF0F8",
            "ticks": ""
           }
          },
          "scene": {
           "xaxis": {
            "backgroundcolor": "white",
            "gridcolor": "#DFE8F3",
            "gridwidth": 2,
            "linecolor": "#EBF0F8",
            "showbackground": true,
            "ticks": "",
            "zerolinecolor": "#EBF0F8"
           },
           "yaxis": {
            "backgroundcolor": "white",
            "gridcolor": "#DFE8F3",
            "gridwidth": 2,
            "linecolor": "#EBF0F8",
            "showbackground": true,
            "ticks": "",
            "zerolinecolor": "#EBF0F8"
           },
           "zaxis": {
            "backgroundcolor": "white",
            "gridcolor": "#DFE8F3",
            "gridwidth": 2,
            "linecolor": "#EBF0F8",
            "showbackground": true,
            "ticks": "",
            "zerolinecolor": "#EBF0F8"
           }
          },
          "shapedefaults": {
           "line": {
            "color": "#2a3f5f"
           }
          },
          "ternary": {
           "aaxis": {
            "gridcolor": "#DFE8F3",
            "linecolor": "#A2B1C6",
            "ticks": ""
           },
           "baxis": {
            "gridcolor": "#DFE8F3",
            "linecolor": "#A2B1C6",
            "ticks": ""
           },
           "bgcolor": "white",
           "caxis": {
            "gridcolor": "#DFE8F3",
            "linecolor": "#A2B1C6",
            "ticks": ""
           }
          },
          "title": {
           "x": 0.05
          },
          "xaxis": {
           "automargin": true,
           "gridcolor": "#EBF0F8",
           "linecolor": "#EBF0F8",
           "ticks": "",
           "title": {
            "standoff": 15
           },
           "zerolinecolor": "#EBF0F8",
           "zerolinewidth": 2
          },
          "yaxis": {
           "automargin": true,
           "gridcolor": "#EBF0F8",
           "linecolor": "#EBF0F8",
           "ticks": "",
           "title": {
            "standoff": 15
           },
           "zerolinecolor": "#EBF0F8",
           "zerolinewidth": 2
          }
         }
        },
        "title": {
         "text": "SHG Spectrum (Fourier Method)"
        },
        "xaxis": {
         "title": {
          "text": "Fundamental Wavelength (μm)"
         }
        },
        "yaxis": {
         "title": {
          "text": "Normalized SHG Efficiency"
         }
        }
       }
      }
     },
     "metadata": {},
     "output_type": "display_data"
    }
   ],
   "source": [
    "# physical conditions.\n",
    "design_temp = 70.0\n",
    "wl_start = 0.931\n",
    "wl_end = 1.066\n",
    "num_wl_points = 1000\n",
    "\n",
    "# define widths.\n",
    "num_domains = 600\n",
    "chirp_rate = 0.0001  # Chirp rate\n",
    "initial_width = 3.6  # μm\n",
    "profile = grating.tapered_profile(num_domains, initial_width, chirp_rate, 999)\n",
    "widths, _ = grating.build(profile)\n",
    "\n",
    "# calculated values from physical conditions.\n",
    "wls = jnp.linspace(wl_start, wl_end, num_wl_points)\n",
    "device = DeviceConfig(length=float(jnp.sum(widths)), num_domains=widths.shape[0], kappa=1.31e-5 / (2 / jnp.pi))\n",
    "effs = calc_effs(widths, wls, device, design_temp)\n",
    "\n",
    "plot_spectrum(wls, effs)"
   ]
  },
  {
   "cell_type": "code",
   "execution_count": null,
   "id": "e35f8461",
   "metadata": {},
   "outputs": [
    {
     "data": {
      "application/vnd.plotly.v1+json": {
       "config": {
        "plotlyServerURL": "https://plot.ly"
       },
       "data": [
        {
         "mode": "lines",
         "name": "Periodic",
         "type": "scatter",
         "x": {
          "bdata": "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",
          "dtype": "f8"
         },
         "y": {
          "bdata": "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",
          "dtype": "f8"
         }
        },
        {
         "mode": "lines",
         "name": "Broadened",
         "type": "scatter",
         "x": {
          "bdata": "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",
          "dtype": "f8"
         },
         "y": {
          "bdata": "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",
          "dtype": "f8"
         }
        }
       ],
       "layout": {
        "template": {
         "data": {
          "bar": [
           {
            "error_x": {
             "color": "#2a3f5f"
            },
            "error_y": {
             "color": "#2a3f5f"
            },
            "marker": {
             "line": {
              "color": "white",
              "width": 0.5
             },
             "pattern": {
              "fillmode": "overlay",
              "size": 10,
              "solidity": 0.2
             }
            },
            "type": "bar"
           }
          ],
          "barpolar": [
           {
            "marker": {
             "line": {
              "color": "white",
              "width": 0.5
             },
             "pattern": {
              "fillmode": "overlay",
              "size": 10,
              "solidity": 0.2
             }
            },
            "type": "barpolar"
           }
          ],
          "carpet": [
           {
            "aaxis": {
             "endlinecolor": "#2a3f5f",
             "gridcolor": "#C8D4E3",
             "linecolor": "#C8D4E3",
             "minorgridcolor": "#C8D4E3",
             "startlinecolor": "#2a3f5f"
            },
            "baxis": {
             "endlinecolor": "#2a3f5f",
             "gridcolor": "#C8D4E3",
             "linecolor": "#C8D4E3",
             "minorgridcolor": "#C8D4E3",
             "startlinecolor": "#2a3f5f"
            },
            "type": "carpet"
           }
          ],
          "choropleth": [
           {
            "colorbar": {
             "outlinewidth": 0,
             "ticks": ""
            },
            "type": "choropleth"
           }
          ],
          "contour": [
           {
            "colorbar": {
             "outlinewidth": 0,
             "ticks": ""
            },
            "colorscale": [
             [
              0,
              "#0d0887"
             ],
             [
              0.1111111111111111,
              "#46039f"
             ],
             [
              0.2222222222222222,
              "#7201a8"
             ],
             [
              0.3333333333333333,
              "#9c179e"
             ],
             [
              0.4444444444444444,
              "#bd3786"
             ],
             [
              0.5555555555555556,
              "#d8576b"
             ],
             [
              0.6666666666666666,
              "#ed7953"
             ],
             [
              0.7777777777777778,
              "#fb9f3a"
             ],
             [
              0.8888888888888888,
              "#fdca26"
             ],
             [
              1,
              "#f0f921"
             ]
            ],
            "type": "contour"
           }
          ],
          "contourcarpet": [
           {
            "colorbar": {
             "outlinewidth": 0,
             "ticks": ""
            },
            "type": "contourcarpet"
           }
          ],
          "heatmap": [
           {
            "colorbar": {
             "outlinewidth": 0,
             "ticks": ""
            },
            "colorscale": [
             [
              0,
              "#0d0887"
             ],
             [
              0.1111111111111111,
              "#46039f"
             ],
             [
              0.2222222222222222,
              "#7201a8"
             ],
             [
              0.3333333333333333,
              "#9c179e"
             ],
             [
              0.4444444444444444,
              "#bd3786"
             ],
             [
              0.5555555555555556,
              "#d8576b"
             ],
             [
              0.6666666666666666,
              "#ed7953"
             ],
             [
              0.7777777777777778,
              "#fb9f3a"
             ],
             [
              0.8888888888888888,
              "#fdca26"
             ],
             [
              1,
              "#f0f921"
             ]
            ],
            "type": "heatmap"
           }
          ],
          "histogram": [
           {
            "marker": {
             "pattern": {
              "fillmode": "overlay",
              "size": 10,
              "solidity": 0.2
             }
            },
            "type": "histogram"
           }
          ],
          "histogram2d": [
           {
            "colorbar": {
             "outlinewidth": 0,
             "ticks": ""
            },
            "colorscale": [
             [
              0,
              "#0d0887"
             ],
             [
              0.1111111111111111,
              "#46039f"
             ],
             [
              0.2222222222222222,
              "#7201a8"
             ],
             [
              0.3333333333333333,
              "#9c179e"
             ],
             [
              0.4444444444444444,
              "#bd3786"
             ],
             [
              0.5555555555555556,
              "#d8576b"
             ],
             [
              0.6666666666666666,
              "#ed7953"
             ],
             [
              0.7777777777777778,
              "#fb9f3a"
             ],
             [
              0.8888888888888888,
              "#fdca26"
             ],
             [
              1,
              "#f0f921"
             ]
            ],
            "type": "histogram2d"
           }
          ],
          "histogram2dcontour": [
           {
            "colorbar": {
             "outlinewidth": 0,
             "ticks": ""
            },
            "colorscale": [
             [
              0,
              "#0d0887"
             ],
             [
              0.1111111111111111,
              "#46039f"
             ],
             [
              0.2222222222222222,
              "#7201a8"
             ],
             [
              0.3333333333333333,
              "#9c179e"
             ],
             [
              0.4444444444444444,
              "#bd3786"
             ],
             [
              0.5555555555555556,
              "#d8576b"
             ],
             [
              0.6666666666666666,
              "#ed7953"
             ],
             [
              0.7777777777777778,
              "#fb9f3a"
             ],
             [
              0.8888888888888888,
              "#fdca26"
             ],
             [
              1,
              "#f0f921"
             ]
            ],
            "type": "histogram2dcontour"
           }
          ],
          "mesh3d": [
           {
            "colorbar": {
             "outlinewidth": 0,
             "ticks": ""
            },
            "type": "mesh3d"
           }
          ],
          "parcoords": [
           {
            "line": {
             "colorbar": {
              "outlinewidth": 0,
              "ticks": ""
             }
            },
            "type": "parcoords"
           }
          ],
          "pie": [
           {
            "automargin": true,
            "type": "pie"
           }
          ],
          "scatter": [
           {
            "fillpattern": {
             "fillmode": "overlay",
             "size": 10,
             "solidity": 0.2
            },
            "type": "scatter"
           }
          ],
          "scatter3d": [
           {
            "line": {
             "colorbar": {
              "outlinewidth": 0,
              "ticks": ""
             }
            },
            "marker": {
             "colorbar": {
              "outlinewidth": 0,
              "ticks": ""
             }
            },
            "type": "scatter3d"
           }
          ],
          "scattercarpet": [
           {
            "marker": {
             "colorbar": {
              "outlinewidth": 0,
              "ticks": ""
             }
            },
            "type": "scattercarpet"
           }
          ],
          "scattergeo": [
           {
            "marker": {
             "colorbar": {
              "outlinewidth": 0,
              "ticks": ""
             }
            },
            "type": "scattergeo"
           }
          ],
          "scattergl": [
           {
            "marker": {
             "colorbar": {
              "outlinewidth": 0,
              "ticks": ""
             }
            },
            "type": "scattergl"
           }
          ],
          "scattermap": [
           {
            "marker": {
             "colorbar": {
              "outlinewidth": 0,
              "ticks": ""
             }
            },
            "type": "scattermap"
           }
          ],
          "scattermapbox": [
           {
            "marker": {
             "colorbar": {
              "outlinewidth": 0,
              "ticks": ""
             }
            },
            "type": "scattermapbox"
           }
          ],
          "scatterpolar": [
           {
            "marker": {
             "colorbar": {
              "outlinewidth": 0,
              "ticks": ""
             }
            },
            "type": "scatterpolar"
           }
          ],
          "scatterpolargl": [
           {
            "marker": {
             "colorbar": {
              "outlinewidth": 0,
              "ticks": ""
             }
            },
            "type": "scatterpolargl"
           }
          ],
          "scatterternary": [
           {
            "marker": {
             "colorbar": {
              "outlinewidth": 0,
              "ticks": ""
             }
            },
            "type": "scatterternary"
           }
          ],
          "surface": [
           {
            "colorbar": {
             "outlinewidth": 0,
             "ticks": ""
            },
            "colorscale": [
             [
              0,
              "#0d0887"
             ],
             [
              0.1111111111111111,
              "#46039f"
             ],
             [
              0.2222222222222222,
              "#7201a8"
             ],
             [
              0.3333333333333333,
              "#9c179e"
             ],
             [
              0.4444444444444444,
              "#bd3786"
             ],
             [
              0.5555555555555556,
              "#d8576b"
             ],
             [
              0.6666666666666666,
              "#ed7953"
             ],
             [
              0.7777777777777778,
              "#fb9f3a"
             ],
             [
              0.8888888888888888,
              "#fdca26"
             ],
             [
              1,
              "#f0f921"
             ]
            ],
            "type": "surface"
           }
          ],
          "table": [
           {
            "cells": {
             "fill": {
              "color": "#EBF0F8"
             },
             "line": {
              "color": "white"
             }
            },
            "header": {
             "fill": {
              "color": "#C8D4E3"
             },
             "line": {
              "color": "white"
             }
            },
            "type": "table"
           }
          ]
         },
         "layout": {
          "annotationdefaults": {
           "arrowcolor": "#2a3f5f",
           "arrowhead": 0,
           "arrowwidth": 1
          },
          "autotypenumbers": "strict",
          "coloraxis": {
           "colorbar": {
            "outlinewidth": 0,
            "ticks": ""
           }
          },
          "colorscale": {
           "diverging": [
            [
             0,
             "#8e0152"
            ],
            [
             0.1,
             "#c51b7d"
            ],
            [
             0.2,
             "#de77ae"
            ],
            [
             0.3,
             "#f1b6da"
            ],
            [
             0.4,
             "#fde0ef"
            ],
            [
             0.5,
             "#f7f7f7"
            ],
            [
             0.6,
             "#e6f5d0"
            ],
            [
             0.7,
             "#b8e186"
            ],
            [
             0.8,
             "#7fbc41"
            ],
            [
             0.9,
             "#4d9221"
            ],
            [
             1,
             "#276419"
            ]
           ],
           "sequential": [
            [
             0,
             "#0d0887"
            ],
            [
             0.1111111111111111,
             "#46039f"
            ],
            [
             0.2222222222222222,
             "#7201a8"
            ],
            [
             0.3333333333333333,
             "#9c179e"
            ],
            [
             0.4444444444444444,
             "#bd3786"
            ],
            [
             0.5555555555555556,
             "#d8576b"
            ],
            [
             0.6666666666666666,
             "#ed7953"
            ],
            [
             0.7777777777777778,
             "#fb9f3a"
            ],
            [
             0.8888888888888888,
             "#fdca26"
            ],
            [
             1,
             "#f0f921"
            ]
           ],
           "sequentialminus": [
            [
             0,
             "#0d0887"
            ],
            [
             0.1111111111111111,
             "#46039f"
            ],
            [
             0.2222222222222222,
             "#7201a8"
            ],
            [
             0.3333333333333333,
             "#9c179e"
            ],
            [
             0.4444444444444444,
             "#bd3786"
            ],
            [
             0.5555555555555556,
             "#d8576b"
            ],
            [
             0.6666666666666666,
             "#ed7953"
            ],
            [
             0.7777777777777778,
             "#fb9f3a"
            ],
            [
             0.8888888888888888,
             "#fdca26"
            ],
            [
             1,
             "#f0f921"
            ]
           ]
          },
          "colorway": [
           "#636efa",
           "#EF553B",
           "#00cc96",
           "#ab63fa",
           "#FFA15A",
           "#19d3f3",
           "#FF6692",
           "#B6E880",
           "#FF97FF",
           "#FECB52"
          ],
          "font": {
           "color": "#2a3f5f"
          },
          "geo": {
           "bgcolor": "white",
           "lakecolor": "white",
           "landcolor": "white",
           "showlakes": true,
           "showland": true,
           "subunitcolor": "#C8D4E3"
          },
          "hoverlabel": {
           "align": "left"
          },
          "hovermode": "closest",
          "mapbox": {
           "style": "light"
          },
          "paper_bgcolor": "white",
          "plot_bgcolor": "white",
          "polar": {
           "angularaxis": {
            "gridcolor": "#EBF0F8",
            "linecolor": "#EBF0F8",
            "ticks": ""
           },
           "bgcolor": "white",
           "radialaxis": {
            "gridcolor": "#EBF0F8",
            "linecolor": "#EBF0F8",
            "ticks": ""
           }
          },
          "scene": {
           "xaxis": {
            "backgroundcolor": "white",
            "gridcolor": "#DFE8F3",
            "gridwidth": 2,
            "linecolor": "#EBF0F8",
            "showbackground": true,
            "ticks": "",
            "zerolinecolor": "#EBF0F8"
           },
           "yaxis": {
            "backgroundcolor": "white",
            "gridcolor": "#DFE8F3",
            "gridwidth": 2,
            "linecolor": "#EBF0F8",
            "showbackground": true,
            "ticks": "",
            "zerolinecolor": "#EBF0F8"
           },
           "zaxis": {
            "backgroundcolor": "white",
            "gridcolor": "#DFE8F3",
            "gridwidth": 2,
            "linecolor": "#EBF0F8",
            "showbackground": true,
            "ticks": "",
            "zerolinecolor": "#EBF0F8"
           }
          },
          "shapedefaults": {
           "line": {
            "color": "#2a3f5f"
           }
          },
          "ternary": {
           "aaxis": {
            "gridcolor": "#DFE8F3",
            "linecolor": "#A2B1C6",
            "ticks": ""
           },
           "baxis": {
            "gridcolor": "#DFE8F3",
            "linecolor": "#A2B1C6",
            "ticks": ""
           },
           "bgcolor": "white",
           "caxis": {
            "gridcolor": "#DFE8F3",
            "linecolor": "#A2B1C6",
            "ticks": ""
           }
          },
          "title": {
           "x": 0.05
          },
          "xaxis": {
           "automargin": true,
           "gridcolor": "#EBF0F8",
           "linecolor": "#EBF0F8",
           "ticks": "",
           "title": {
            "standoff": 15
           },
           "zerolinecolor": "#EBF0F8",
           "zerolinewidth": 2
          },
          "yaxis": {
           "automargin": true,
           "gridcolor": "#EBF0F8",
           "linecolor": "#EBF0F8",
           "ticks": "",
           "title": {
            "standoff": 15
           },
           "zerolinecolor": "#EBF0F8",
           "zerolinewidth": 2
          }
         }
        },
        "title": {
         "text": "SHG Spectrum (Fourier Method)"
        },
        "xaxis": {
         "title": {
          "text": "Fundamental Wavelength (μm)"
         }
        },
        "yaxis": {
         "title": {
          "text": "Normalized SHG Efficiency"
         }
        }
       }
      }
     },
     "metadata": {},
     "output_type": "display_data"
    }
   ],
   "source": [
    "# physical conditions.\n",
    "design_temp = 70.0\n",
    "num_wl_points = 1000\n",
    "\n",
    "# Periodic grating\n",
    "wl_start = 1.025\n",
    "wl_end = 1.035\n",
    "num_domains = 555\n",
    "period = 7.2\n",
    "\n",
    "\n",
    "# periodic grating\n",
    "profile = grating.uniform_profile(num_domains, period, kappa_mag=999)\n",
    "wls = jnp.linspace(wl_start, wl_end, num_wl_points)\n",
    "widths_periodic, _ = grating.build(profile)\n",
    "periodic_device = DeviceConfig(length=float(jnp.sum(widths_periodic)), num_domains=widths_periodic.shape[0], kappa=1.31e-5 / (2 / jnp.pi))\n",
    "effs_periodic = calc_effs(widths_periodic, wls, periodic_device, design_temp)\n",
    "\n",
    "# broadened grating\n",
    "widths_broadened = jnp.load(\"../datasets/broadened_shg_2000_555_e5.npy\")\n",
    "broadened_device = DeviceConfig(length=float(jnp.sum(widths_broadened)), num_domains=widths_broadened.shape[0], kappa=1.31e-5 / (2 / jnp.pi))\n",
    "effs_broadened = calc_effs(widths_broadened, wls, broadened_device, design_temp)\n",
    "\n",
    "fig = go.Figure()\n",
    "fig.add_trace(go.Scatter(x=wls, y=effs_periodic, mode=\"lines\", name=\"Periodic\"))\n",
    "fig.add_trace(go.Scatter(x=wls, y=effs_broadened, mode=\"lines\", name=\"Broadened\"))\n",
    "fig.update_layout(\n",
    "    title=\"SHG Spectrum (Fourier Method)\",\n",
    "    xaxis_title=\"Fundamental Wavelength (μm)\",\n",
    "    yaxis_title=\"Normalized SHG Efficiency\",\n",
    "    template=\"plotly_white\",\n",
    ")\n",
    "fig.show()"
   ]
  },
  {
   "cell_type": "code",
   "execution_count": null,
   "id": "7b115136",
   "metadata": {},
   "outputs": [
    {
     "data": {
      "application/vnd.plotly.v1+json": {
       "config": {
        "plotlyServerURL": "https://plot.ly"
       },
       "data": [
        {
         "mode": "lines",
         "name": "Periodic",
         "type": "scatter",
         "x": {
          "bdata": "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",
          "dtype": "f8"
         },
         "y": {
          "bdata": "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",
          "dtype": "f8"
         }
        },
        {
         "mode": "lines",
         "name": "Broadened",
         "type": "scatter",
         "x": {
          "bdata": "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",
          "dtype": "f8"
         },
         "y": {
          "bdata": "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",
          "dtype": "f8"
         }
        }
       ],
       "layout": {
        "template": {
         "data": {
          "bar": [
           {
            "error_x": {
             "color": "#2a3f5f"
            },
            "error_y": {
             "color": "#2a3f5f"
            },
            "marker": {
             "line": {
              "color": "white",
              "width": 0.5
             },
             "pattern": {
              "fillmode": "overlay",
              "size": 10,
              "solidity": 0.2
             }
            },
            "type": "bar"
           }
          ],
          "barpolar": [
           {
            "marker": {
             "line": {
              "color": "white",
              "width": 0.5
             },
             "pattern": {
              "fillmode": "overlay",
              "size": 10,
              "solidity": 0.2
             }
            },
            "type": "barpolar"
           }
          ],
          "carpet": [
           {
            "aaxis": {
             "endlinecolor": "#2a3f5f",
             "gridcolor": "#C8D4E3",
             "linecolor": "#C8D4E3",
             "minorgridcolor": "#C8D4E3",
             "startlinecolor": "#2a3f5f"
            },
            "baxis": {
             "endlinecolor": "#2a3f5f",
             "gridcolor": "#C8D4E3",
             "linecolor": "#C8D4E3",
             "minorgridcolor": "#C8D4E3",
             "startlinecolor": "#2a3f5f"
            },
            "type": "carpet"
           }
          ],
          "choropleth": [
           {
            "colorbar": {
             "outlinewidth": 0,
             "ticks": ""
            },
            "type": "choropleth"
           }
          ],
          "contour": [
           {
            "colorbar": {
             "outlinewidth": 0,
             "ticks": ""
            },
            "colorscale": [
             [
              0,
              "#0d0887"
             ],
             [
              0.1111111111111111,
              "#46039f"
             ],
             [
              0.2222222222222222,
              "#7201a8"
             ],
             [
              0.3333333333333333,
              "#9c179e"
             ],
             [
              0.4444444444444444,
              "#bd3786"
             ],
             [
              0.5555555555555556,
              "#d8576b"
             ],
             [
              0.6666666666666666,
              "#ed7953"
             ],
             [
              0.7777777777777778,
              "#fb9f3a"
             ],
             [
              0.8888888888888888,
              "#fdca26"
             ],
             [
              1,
              "#f0f921"
             ]
            ],
            "type": "contour"
           }
          ],
          "contourcarpet": [
           {
            "colorbar": {
             "outlinewidth": 0,
             "ticks": ""
            },
            "type": "contourcarpet"
           }
          ],
          "heatmap": [
           {
            "colorbar": {
             "outlinewidth": 0,
             "ticks": ""
            },
            "colorscale": [
             [
              0,
              "#0d0887"
             ],
             [
              0.1111111111111111,
              "#46039f"
             ],
             [
              0.2222222222222222,
              "#7201a8"
             ],
             [
              0.3333333333333333,
              "#9c179e"
             ],
             [
              0.4444444444444444,
              "#bd3786"
             ],
             [
              0.5555555555555556,
              "#d8576b"
             ],
             [
              0.6666666666666666,
              "#ed7953"
             ],
             [
              0.7777777777777778,
              "#fb9f3a"
             ],
             [
              0.8888888888888888,
              "#fdca26"
             ],
             [
              1,
              "#f0f921"
             ]
            ],
            "type": "heatmap"
           }
          ],
          "histogram": [
           {
            "marker": {
             "pattern": {
              "fillmode": "overlay",
              "size": 10,
              "solidity": 0.2
             }
            },
            "type": "histogram"
           }
          ],
          "histogram2d": [
           {
            "colorbar": {
             "outlinewidth": 0,
             "ticks": ""
            },
            "colorscale": [
             [
              0,
              "#0d0887"
             ],
             [
              0.1111111111111111,
              "#46039f"
             ],
             [
              0.2222222222222222,
              "#7201a8"
             ],
             [
              0.3333333333333333,
              "#9c179e"
             ],
             [
              0.4444444444444444,
              "#bd3786"
             ],
             [
              0.5555555555555556,
              "#d8576b"
             ],
             [
              0.6666666666666666,
              "#ed7953"
             ],
             [
              0.7777777777777778,
              "#fb9f3a"
             ],
             [
              0.8888888888888888,
              "#fdca26"
             ],
             [
              1,
              "#f0f921"
             ]
            ],
            "type": "histogram2d"
           }
          ],
          "histogram2dcontour": [
           {
            "colorbar": {
             "outlinewidth": 0,
             "ticks": ""
            },
            "colorscale": [
             [
              0,
              "#0d0887"
             ],
             [
              0.1111111111111111,
              "#46039f"
             ],
             [
              0.2222222222222222,
              "#7201a8"
             ],
             [
              0.3333333333333333,
              "#9c179e"
             ],
             [
              0.4444444444444444,
              "#bd3786"
             ],
             [
              0.5555555555555556,
              "#d8576b"
             ],
             [
              0.6666666666666666,
              "#ed7953"
             ],
             [
              0.7777777777777778,
              "#fb9f3a"
             ],
             [
              0.8888888888888888,
              "#fdca26"
             ],
             [
              1,
              "#f0f921"
             ]
            ],
            "type": "histogram2dcontour"
           }
          ],
          "mesh3d": [
           {
            "colorbar": {
             "outlinewidth": 0,
             "ticks": ""
            },
            "type": "mesh3d"
           }
          ],
          "parcoords": [
           {
            "line": {
             "colorbar": {
              "outlinewidth": 0,
              "ticks": ""
             }
            },
            "type": "parcoords"
           }
          ],
          "pie": [
           {
            "automargin": true,
            "type": "pie"
           }
          ],
          "scatter": [
           {
            "fillpattern": {
             "fillmode": "overlay",
             "size": 10,
             "solidity": 0.2
            },
            "type": "scatter"
           }
          ],
          "scatter3d": [
           {
            "line": {
             "colorbar": {
              "outlinewidth": 0,
              "ticks": ""
             }
            },
            "marker": {
             "colorbar": {
              "outlinewidth": 0,
              "ticks": ""
             }
            },
            "type": "scatter3d"
           }
          ],
          "scattercarpet": [
           {
            "marker": {
             "colorbar": {
              "outlinewidth": 0,
              "ticks": ""
             }
            },
            "type": "scattercarpet"
           }
          ],
          "scattergeo": [
           {
            "marker": {
             "colorbar": {
              "outlinewidth": 0,
              "ticks": ""
             }
            },
            "type": "scattergeo"
           }
          ],
          "scattergl": [
           {
            "marker": {
             "colorbar": {
              "outlinewidth": 0,
              "ticks": ""
             }
            },
            "type": "scattergl"
           }
          ],
          "scattermap": [
           {
            "marker": {
             "colorbar": {
              "outlinewidth": 0,
              "ticks": ""
             }
            },
            "type": "scattermap"
           }
          ],
          "scattermapbox": [
           {
            "marker": {
             "colorbar": {
              "outlinewidth": 0,
              "ticks": ""
             }
            },
            "type": "scattermapbox"
           }
          ],
          "scatterpolar": [
           {
            "marker": {
             "colorbar": {
              "outlinewidth": 0,
              "ticks": ""
             }
            },
            "type": "scatterpolar"
           }
          ],
          "scatterpolargl": [
           {
            "marker": {
             "colorbar": {
              "outlinewidth": 0,
              "ticks": ""
             }
            },
            "type": "scatterpolargl"
           }
          ],
          "scatterternary": [
           {
            "marker": {
             "colorbar": {
              "outlinewidth": 0,
              "ticks": ""
             }
            },
            "type": "scatterternary"
           }
          ],
          "surface": [
           {
            "colorbar": {
             "outlinewidth": 0,
             "ticks": ""
            },
            "colorscale": [
             [
              0,
              "#0d0887"
             ],
             [
              0.1111111111111111,
              "#46039f"
             ],
             [
              0.2222222222222222,
              "#7201a8"
             ],
             [
              0.3333333333333333,
              "#9c179e"
             ],
             [
              0.4444444444444444,
              "#bd3786"
             ],
             [
              0.5555555555555556,
              "#d8576b"
             ],
             [
              0.6666666666666666,
              "#ed7953"
             ],
             [
              0.7777777777777778,
              "#fb9f3a"
             ],
             [
              0.8888888888888888,
              "#fdca26"
             ],
             [
              1,
              "#f0f921"
             ]
            ],
            "type": "surface"
           }
          ],
          "table": [
           {
            "cells": {
             "fill": {
              "color": "#EBF0F8"
             },
             "line": {
              "color": "white"
             }
            },
            "header": {
             "fill": {
              "color": "#C8D4E3"
             },
             "line": {
              "color": "white"
             }
            },
            "type": "table"
           }
          ]
         },
         "layout": {
          "annotationdefaults": {
           "arrowcolor": "#2a3f5f",
           "arrowhead": 0,
           "arrowwidth": 1
          },
          "autotypenumbers": "strict",
          "coloraxis": {
           "colorbar": {
            "outlinewidth": 0,
            "ticks": ""
           }
          },
          "colorscale": {
           "diverging": [
            [
             0,
             "#8e0152"
            ],
            [
             0.1,
             "#c51b7d"
            ],
            [
             0.2,
             "#de77ae"
            ],
            [
             0.3,
             "#f1b6da"
            ],
            [
             0.4,
             "#fde0ef"
            ],
            [
             0.5,
             "#f7f7f7"
            ],
            [
             0.6,
             "#e6f5d0"
            ],
            [
             0.7,
             "#b8e186"
            ],
            [
             0.8,
             "#7fbc41"
            ],
            [
             0.9,
             "#4d9221"
            ],
            [
             1,
             "#276419"
            ]
           ],
           "sequential": [
            [
             0,
             "#0d0887"
            ],
            [
             0.1111111111111111,
             "#46039f"
            ],
            [
             0.2222222222222222,
             "#7201a8"
            ],
            [
             0.3333333333333333,
             "#9c179e"
            ],
            [
             0.4444444444444444,
             "#bd3786"
            ],
            [
             0.5555555555555556,
             "#d8576b"
            ],
            [
             0.6666666666666666,
             "#ed7953"
            ],
            [
             0.7777777777777778,
             "#fb9f3a"
            ],
            [
             0.8888888888888888,
             "#fdca26"
            ],
            [
             1,
             "#f0f921"
            ]
           ],
           "sequentialminus": [
            [
             0,
             "#0d0887"
            ],
            [
             0.1111111111111111,
             "#46039f"
            ],
            [
             0.2222222222222222,
             "#7201a8"
            ],
            [
             0.3333333333333333,
             "#9c179e"
            ],
            [
             0.4444444444444444,
             "#bd3786"
            ],
            [
             0.5555555555555556,
             "#d8576b"
            ],
            [
             0.6666666666666666,
             "#ed7953"
            ],
            [
             0.7777777777777778,
             "#fb9f3a"
            ],
            [
             0.8888888888888888,
             "#fdca26"
            ],
            [
             1,
             "#f0f921"
            ]
           ]
          },
          "colorway": [
           "#636efa",
           "#EF553B",
           "#00cc96",
           "#ab63fa",
           "#FFA15A",
           "#19d3f3",
           "#FF6692",
           "#B6E880",
           "#FF97FF",
           "#FECB52"
          ],
          "font": {
           "color": "#2a3f5f"
          },
          "geo": {
           "bgcolor": "white",
           "lakecolor": "white",
           "landcolor": "white",
           "showlakes": true,
           "showland": true,
           "subunitcolor": "#C8D4E3"
          },
          "hoverlabel": {
           "align": "left"
          },
          "hovermode": "closest",
          "mapbox": {
           "style": "light"
          },
          "paper_bgcolor": "white",
          "plot_bgcolor": "white",
          "polar": {
           "angularaxis": {
            "gridcolor": "#EBF0F8",
            "linecolor": "#EBF0F8",
            "ticks": ""
           },
           "bgcolor": "white",
           "radialaxis": {
            "gridcolor": "#EBF0F8",
            "linecolor": "#EBF0F8",
            "ticks": ""
           }
          },
          "scene": {
           "xaxis": {
            "backgroundcolor": "white",
            "gridcolor": "#DFE8F3",
            "gridwidth": 2,
            "linecolor": "#EBF0F8",
            "showbackground": true,
            "ticks": "",
            "zerolinecolor": "#EBF0F8"
           },
           "yaxis": {
            "backgroundcolor": "white",
            "gridcolor": "#DFE8F3",
            "gridwidth": 2,
            "linecolor": "#EBF0F8",
            "showbackground": true,
            "ticks": "",
            "zerolinecolor": "#EBF0F8"
           },
           "zaxis": {
            "backgroundcolor": "white",
            "gridcolor": "#DFE8F3",
            "gridwidth": 2,
            "linecolor": "#EBF0F8",
            "showbackground": true,
            "ticks": "",
            "zerolinecolor": "#EBF0F8"
           }
          },
          "shapedefaults": {
           "line": {
            "color": "#2a3f5f"
           }
          },
          "ternary": {
           "aaxis": {
            "gridcolor": "#DFE8F3",
            "linecolor": "#A2B1C6",
            "ticks": ""
           },
           "baxis": {
            "gridcolor": "#DFE8F3",
            "linecolor": "#A2B1C6",
            "ticks": ""
           },
           "bgcolor": "white",
           "caxis": {
            "gridcolor": "#DFE8F3",
            "linecolor": "#A2B1C6",
            "ticks": ""
           }
          },
          "title": {
           "x": 0.05
          },
          "xaxis": {
           "automargin": true,
           "gridcolor": "#EBF0F8",
           "linecolor": "#EBF0F8",
           "ticks": "",
           "title": {
            "standoff": 15
           },
           "zerolinecolor": "#EBF0F8",
           "zerolinewidth": 2
          },
          "yaxis": {
           "automargin": true,
           "gridcolor": "#EBF0F8",
           "linecolor": "#EBF0F8",
           "ticks": "",
           "title": {
            "standoff": 15
           },
           "zerolinecolor": "#EBF0F8",
           "zerolinewidth": 2
          }
         }
        },
        "title": {
         "text": "SHG Spectrum (Fourier Method)"
        },
        "xaxis": {
         "title": {
          "text": "Fundamental Wavelength (μm)"
         }
        },
        "yaxis": {
         "title": {
          "text": "Normalized SHG Efficiency"
         }
        }
       }
      }
     },
     "metadata": {},
     "output_type": "display_data"
    }
   ],
   "source": [
    "# physical conditions.\n",
    "design_temp = 70.0\n",
    "num_wl_points = 1000\n",
    "\n",
    "# Periodic grating\n",
    "wl_start = 1.030\n",
    "wl_end = 1.032\n",
    "num_domains = 4162\n",
    "period = 7.2\n",
    "\n",
    "\n",
    "# periodic grating\n",
    "profile = grating.uniform_profile(num_domains, period, kappa_mag=999)\n",
    "wls = jnp.linspace(wl_start, wl_end, num_wl_points)\n",
    "widths_periodic, _ = grating.build(profile)\n",
    "periodic_device = DeviceConfig(length=float(jnp.sum(widths_periodic)), num_domains=widths_periodic.shape[0], kappa=1.31e-5 / (2 / jnp.pi))\n",
    "effs_periodic = calc_effs(widths_periodic, wls, periodic_device, design_temp)\n",
    "\n",
    "# broadened grating\n",
    "widths_broadened = jnp.load(\"../datasets/broadened_shg_15000_4162_e5.npy\")\n",
    "broadened_device = DeviceConfig(length=float(jnp.sum(widths_broadened)), num_domains=widths_broadened.shape[0], kappa=1.31e-5 / (2 / jnp.pi))\n",
    "effs_broadened = calc_effs(widths_broadened, wls, broadened_device, design_temp)\n",
    "\n",
    "fig = go.Figure()\n",
    "fig.add_trace(go.Scatter(x=wls, y=effs_periodic, mode=\"lines\", name=\"Periodic\"))\n",
    "fig.add_trace(go.Scatter(x=wls, y=effs_broadened, mode=\"lines\", name=\"Broadened\"))\n",
    "fig.update_layout(\n",
    "    title=\"SHG Spectrum (Fourier Method)\",\n",
    "    xaxis_title=\"Fundamental Wavelength (μm)\",\n",
    "    yaxis_title=\"Normalized SHG Efficiency\",\n",
    "    template=\"plotly_white\",\n",
    ")\n",
    "fig.show()"
   ]
  },
  {
   "cell_type": "code",
   "execution_count": null,
   "id": "5442154e",
   "metadata": {},
   "outputs": [],
   "source": []
  }
 ],
 "metadata": {
  "kernelspec": {
   "display_name": ".venv",
   "language": "python",
   "name": "python3"
  },
  "language_info": {
   "codemirror_mode": {
    "name": "ipython",
    "version": 3
   },
   "file_extension": ".py",
   "mimetype": "text/x-python",
   "name": "python",
   "nbconvert_exporter": "python",
   "pygments_lexer": "ipython3",
   "version": "3.13.9"
  }
 },
 "nbformat": 4,
 "nbformat_minor": 5
}
