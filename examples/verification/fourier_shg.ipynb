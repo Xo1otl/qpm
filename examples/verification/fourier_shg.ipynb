{
 "cells": [
  {
   "cell_type": "code",
   "execution_count": 1,
   "id": "c2c58dc4",
   "metadata": {},
   "outputs": [
    {
     "name": "stdout",
     "output_type": "stream",
     "text": [
      "[CudaDevice(id=0)]\n"
     ]
    }
   ],
   "source": [
    "import jax\n",
    "\n",
    "jax.config.update(\"jax_enable_x64\", val=True)\n",
    "print(jax.devices())"
   ]
  },
  {
   "cell_type": "code",
   "execution_count": null,
   "id": "34caf956",
   "metadata": {},
   "outputs": [],
   "source": [
    "from dataclasses import dataclass\n",
    "from functools import partial\n",
    "\n",
    "import jax.numpy as jnp\n",
    "import plotly.graph_objects as go\n",
    "\n",
    "from qpm import grating, mgoslt\n",
    "\n",
    "NORO_FACTOR = 1.07 / 2.84 * 100\n",
    "\n",
    "\n",
    "@dataclass(frozen=True)\n",
    "class DeviceConfig:\n",
    "    length: float\n",
    "    num_domains: int\n",
    "    kappa: float\n",
    "\n",
    "\n",
    "@dataclass(frozen=True)\n",
    "class FourierConfig:\n",
    "    k_center: float\n",
    "    k_bandwidth: float\n",
    "    num_points: int\n",
    "\n",
    "\n",
    "def new_fourier_config(\n",
    "    dk_eff: jax.Array,\n",
    "    device: DeviceConfig,\n",
    "    num_points: int,\n",
    "    bw_scale: float = 1.2,\n",
    ") -> \"FourierConfig\":\n",
    "    k_norm_center = device.num_domains / 2.0\n",
    "    dk_eff_range = jnp.max(dk_eff) - jnp.min(dk_eff)\n",
    "    k_norm_bw = dk_eff_range * device.length / (2 * jnp.pi) * bw_scale\n",
    "    return FourierConfig(\n",
    "        k_center=k_norm_center,\n",
    "        k_bandwidth=float(k_norm_bw),\n",
    "        num_points=num_points,\n",
    "    )\n",
    "\n",
    "\n",
    "@partial(jax.jit, static_argnames=(\"m\", \"fft_len\"))\n",
    "def czt(x: jax.Array, m: int, fft_len: int, w: jax.Array, a: jax.Array) -> jax.Array:\n",
    "    \"\"\"Computes the Chirp Z-Transform of a signal.\"\"\"\n",
    "    n = x.shape[-1]\n",
    "    n_range = jnp.arange(n)\n",
    "    y = x * (a**-n_range) * w ** (n_range**2 / 2)\n",
    "    k_range_full = jnp.arange(-(n - 1), m)\n",
    "    h = w ** (-(k_range_full**2) / 2)\n",
    "    y_fft = jnp.fft.fft(y, n=fft_len)\n",
    "    h_fft = jnp.fft.fft(h, n=fft_len)\n",
    "    conv_result = jnp.fft.ifft(y_fft * h_fft)\n",
    "    k_range_out = jnp.arange(m)\n",
    "    final_chirp = w ** (k_range_out**2 / 2)\n",
    "    return conv_result[n - 1 : n - 1 + m] * final_chirp\n",
    "\n",
    "\n",
    "def create_alternating_signal_from_widths(widths: jax.Array, n_points: int = 8192) -> jax.Array:\n",
    "    \"\"\"\n",
    "    Generates an alternating +1/-1 signal based on an array of domain widths.\n",
    "    \"\"\"\n",
    "    num_domains = widths.shape[0]\n",
    "    alternating_values = jnp.power(-1, jnp.arange(num_domains))\n",
    "    cumulative_widths = jnp.cumsum(widths)\n",
    "    total_width = cumulative_widths[-1]\n",
    "    boundary_points = jnp.round(cumulative_widths / total_width * n_points).astype(jnp.int32)\n",
    "    boundary_points = jnp.insert(boundary_points, 0, 0)\n",
    "    boundary_points = boundary_points.at[-1].set(n_points)\n",
    "    points_per_domain = jnp.diff(boundary_points)\n",
    "    return jnp.repeat(alternating_values, points_per_domain)\n",
    "\n",
    "\n",
    "def calculate_fourier_spectrum(\n",
    "    signal: jax.Array,\n",
    "    config: FourierConfig,\n",
    ") -> tuple[jax.Array, jax.Array]:\n",
    "    \"\"\"Calculates the spectrum of a signal using CZT for a specified frequency window.\"\"\"\n",
    "    fs = signal.shape[0]\n",
    "    k_start = config.k_center - config.k_bandwidth / 2.0\n",
    "    k_end = config.k_center + config.k_bandwidth / 2.0\n",
    "    f_norm_start = k_start / fs\n",
    "    f_norm_end = k_end / fs\n",
    "    w = jnp.exp(-1j * 2 * jnp.pi * (f_norm_end - f_norm_start) / config.num_points)\n",
    "    a = jnp.exp(1j * 2 * jnp.pi * f_norm_start)\n",
    "    required_len = fs + config.num_points - 1\n",
    "    fft_len = 1 << (required_len - 1).bit_length()\n",
    "    spectrum_raw = czt(signal, m=config.num_points, fft_len=fft_len, w=w, a=a)\n",
    "    spectrum_amp_normalized = jnp.abs(spectrum_raw * 2 * jnp.pi / fs)\n",
    "    k_axis_normalized = jnp.linspace(k_start, k_end, config.num_points)\n",
    "    return k_axis_normalized, spectrum_amp_normalized\n",
    "\n",
    "\n",
    "@dataclass(frozen=True)\n",
    "class ConvParams:\n",
    "    norm_k_axis: jax.Array\n",
    "    k_center: float\n",
    "    length: float\n",
    "    kappa: float\n",
    "    dk_eff: jax.Array\n",
    "\n",
    "\n",
    "def calculate_phys_eff_spectrum(norm_spectrum_amp: jax.Array, params: ConvParams) -> jax.Array:\n",
    "    \"\"\"Converts the normalized Fourier spectrum to physical units.\"\"\"\n",
    "    k_deviation_norm = params.norm_k_axis - params.k_center\n",
    "    dk_total_phys = k_deviation_norm * (2 * jnp.pi / params.length)\n",
    "    # Convert the normalized Fourier transform (|F_norm|) to the physical one (|F_phys|)\n",
    "    # |F_phys| = (L / 2π) * |F_norm|\n",
    "    fourier_amp_phys = norm_spectrum_amp * (params.length / (2 * jnp.pi))\n",
    "    # Efficiency is proportional to |κ_d * F_phys(Δk)|^2\n",
    "    eff = (params.kappa**2) * (fourier_amp_phys**2) * NORO_FACTOR\n",
    "    return jnp.interp(params.dk_eff, dk_total_phys, eff)\n",
    "\n",
    "\n",
    "def plot_spectrum(wls: jax.Array, effs: jax.Array) -> None:\n",
    "    \"\"\"Plots the SHG efficiency spectrum using Plotly.\"\"\"\n",
    "    fig = go.Figure()\n",
    "    fig.add_trace(go.Scatter(x=wls, y=effs, mode=\"lines\", name=\"Fourier Method\"))\n",
    "    fig.update_layout(\n",
    "        title=\"SHG Spectrum (Fourier Method)\",\n",
    "        xaxis_title=\"Fundamental Wavelength (μm)\",\n",
    "        yaxis_title=\"Normalized SHG Efficiency\",\n",
    "        template=\"plotly_white\",\n",
    "    )\n",
    "    fig.show()\n",
    "\n",
    "\n",
    "def calc_dk_eff(dk_material: jax.Array, device: DeviceConfig) -> jax.Array:\n",
    "    \"\"\"Calculates the effective phase mismatch.\"\"\"\n",
    "    k_norm_center = device.num_domains / 2.0\n",
    "    k_g = k_norm_center * (2 * jnp.pi / device.length)\n",
    "    return dk_material - k_g\n",
    "\n",
    "\n",
    "def calc_shg_effs(widths: jax.Array, wls: jax.Array, device: DeviceConfig, design_temp: float) -> jax.Array:\n",
    "    dk_material = mgoslt.calc_twm_delta_k(wls, wls, design_temp)\n",
    "    dk_eff = calc_dk_eff(dk_material, device)\n",
    "    signal = create_alternating_signal_from_widths(widths, 30000)\n",
    "    fourier_config = new_fourier_config(dk_eff, device, wls.shape[0])\n",
    "\n",
    "    k_ax_norm, spec_amp_norm = calculate_fourier_spectrum(signal, fourier_config)\n",
    "    conv_params = ConvParams(\n",
    "        norm_k_axis=k_ax_norm,\n",
    "        k_center=fourier_config.k_center,\n",
    "        length=device.length,\n",
    "        kappa=device.kappa,\n",
    "        dk_eff=dk_eff,\n",
    "    )\n",
    "    return calculate_phys_eff_spectrum(spec_amp_norm, conv_params)"
   ]
  },
  {
   "cell_type": "code",
   "execution_count": null,
   "id": "6f1bc4ae",
   "metadata": {},
   "outputs": [
    {
     "data": {
      "application/vnd.plotly.v1+json": {
       "config": {
        "plotlyServerURL": "https://plot.ly"
       },
       "data": [
        {
         "mode": "lines",
         "name": "Fourier Method",
         "type": "scatter",
         "x": {
          "bdata": "mG4Sg8DK7T93+zHp28vtP1WIUU/3zO0/MxVxtRLO7T8SopAbLs/tP/EusIFJ0O0/z7vP52TR7T+uSO9NgNLtP4zVDrSb0+0/amIuGrfU7T9J702A0tXtPyh8bebt1u0/BwmNTAnY7T/klayyJNntP8MizBhA2u0/oq/rflvb7T+APAvldtztP1/JKkuS3e0/PVZKsa3e7T8c42kXyd/tP/pviX3k4O0/2fyo4//h7T+4ichJG+PtP5UW6K825O0/dKMHFlLl7T9TMCd8bebtPzK9RuKI5+0/EEpmSKTo7T/u1oWuv+ntP81jpRTb6u0/q/DEevbr7T+KfeTgEe3tP2kKBEct7u0/R5cjrUjv7T8lJEMTZPDtPwSxYnl/8e0/4z2C35ry7T/ByqFFtvPtP59XwavR9O0/fuTgEe317T9dcQB4CPftPzv+H94j+O0/Gos/RD/57T/4F1+qWvrtP9akfhB2++0/tTGedpH87T+Uvr3crP3tP3JL3ULI/u0/Udj8qOP/7T8vZRwP/wDuPw7yO3UaAu4/7H5b2zUD7j/KC3tBUQTuP6mYmqdsBe4/iCW6DYgG7j9mstlzowfuP0U/+dm+CO4/I8wYQNoJ7j8BWTim9QruP+DlVwwRDO4/vnJ3ciwN7j+e/5bYRw7uP3yMtj5jD+4/WhnWpH4Q7j85pvUKmhHuPxczFXG1Eu4/9r8019AT7j/UTFQ97BTuP7PZc6MHFu4/kmaTCSMX7j9w87JvPhjuP0+A0tVZGe4/LA3yO3Ua7j8LmhGikBvuP+omMQisHO4/ybNQbscd7j+nQHDU4h7uP4XNjzr+H+4/ZFqvoBkh7j9C584GNSLuPyF07mxQI+4//gAO02sk7j/ejS05hyXuP70aTZ+iJu4/m6dsBb4n7j96NIxr2SjuP1fBq9H0Ke4/Nk7LNxAr7j8U2+qdKyzuP/RnCgRHLe4/0/QpamIu7j+wgUnQfS/uP48OaTaZMO4/bZuInLQx7j9MKKgC0DLuPyq1x2jrM+4/CULnzgY17j/ozgY1IjbuP8ZbJps9N+4/pehFAVk47j+DdWVndDnuP2EChc2POu4/QI+kM6s77j8fHMSZxjzuP/6o4//hPe4/3DUDZv0+7j+6wiLMGEDuP5hPQjI0Qe4/d9xhmE9C7j9WaYH+akPuPzX2oGSGRO4/E4PAyqFF7j/xD+AwvUbuP9Cc/5bYR+4/rikf/fNI7j+Ntj5jD0ruP2pDXskqS+4/StB9L0ZM7j8pXZ2VYU3uPwfqvPt8Tu4/5nbcYZhP7j/DA/zHs1DuP6KQGy7PUe4/gB07lOpS7j9gqlr6BVTuPz83emAhVe4/HMSZxjxW7j/7ULksWFfuP9nd2JJzWO4/uGr4+I5Z7j+W9xdfqlruP3WEN8XFW+4/VBFXK+Fc7j8ynnaR/F3uPxErlvcXX+4/77e1XTNg7j/ORNXDTmHuP6zR9ClqYu4/i14UkIVj7j9q6zP2oGTuP0h4U1y8Ze4/JgVzwtdm7j8EkpIo82fuP+Qeso4Oae4/wqvR9Clq7j+hOPFaRWvuP3/FEMFgbO4/XVIwJ3xt7j8830+Nl27uPxpsb/Oyb+4/+viOWc5w7j/Wha6/6XHuP7YSziUFc+4/lZ/tiyB07j9zLA3yO3XuP1K5LFhXdu4/L0ZMvnJ37j8O02skjnjuP+xfi4qpee4/zOyq8MR67j+recpW4HvuP4gG6rz7fO4/Z5MJIxd+7j9FICmJMn/uPyStSO9NgO4/AjpoVWmB7j/hxoe7hILuP8BTpyGgg+4/nuDGh7uE7j99bebt1oXuP1v6BVTyhu4/Ooclug2I7j8YFEUgKYnuP/egZIZEiu4/1i2E7F+L7j+0uqNSe4zuP5JHw7iWje4/cNTiHrKO7j9QYQKFzY/uPy7uIevokO4/DXtBUQSS7j/rB2G3H5PuP8mUgB07lO4/qCGgg1aV7j+Frr/pcZbuP2Y730+Nl+4/RMj+taiY7j8iVR4cxJnuPwHiPYLfmu4/3m5d6Pqb7j+++3xOFp3uP5uInLQxnu4/ehW8Gk2f7j9YotuAaKDuPzcv++aDoe4/F7waTZ+i7j/0SDqzuqPuP9PVWRnWpO4/sWJ5f/Gl7j+P75jlDKfuP258uEsoqO4/TQnYsUOp7j8slvcXX6ruPwojF356q+4/6K825JWs7j/GPFZKsa3uP6XJdbDMru4/hFaVFuiv7j9j47R8A7HuP0Fw1OIesu4/H/3zSDqz7j/+iROvVbTuP9wWMxVxte4/u6NSe4y27j+aMHLhp7fuP3i9kUfDuO4/V0qxrd657j8119AT+rruPxRk8HkVvO4/8fAP4DC97j/QfS9GTL7uP7AKT6xnv+4/jpduEoPA7j9tJI54nsHuP0qxrd65wu4/KT7NRNXD7j8Hy+yq8MTuP+ZXDBEMxu4/xuQrdyfH7j+jcUvdQsjuP4L+akNeye4/YIuKqXnK7j8/GKoPlcvuPx2lyXWwzO4/+zHp28vN7j/avghC587uP7hLKKgC0O4/mNhHDh7R7j92ZWd0OdLuP1TyhtpU0+4/Mn+mQHDU7j8SDMami9XuP/CY5Qyn1u4/ziUFc8LX7j+tsiTZ3djuP4s/RD/52e4/asxjpRTb7j9IWYMLMNzuPyjmonFL3e4/BnPC12be7j/k/+E9gt/uP8OMAaSd4O4/oRkhCrnh7j+ApkBw1OLuP10zYNbv4+4/PMB/PAvl7j8cTZ+iJubuP/rZvghC5+4/2Wbebl3o7j+28/3UeOnuP5WAHTuU6u4/cw09oa/r7j9SmlwHy+zuPzInfG3m7e4/DrSb0wHv7j/uQLs5HfDuP8zN2p848e4/q1r6BVTy7j+J5xlsb/PuP2h0OdKK9O4/RgFZOKb17j8kjniewfbuPwQbmATd9+4/4qe3avj47j/ANNfQE/ruP57B9jYv++4/fk4WnUr87j9c2zUDZv3uPzpoVWmB/u4/GfV0z5z/7j/3gZQ1uADvP9YOtJvTAe8/tJvTAe8C7z+UKPNnCgTvP3K1Es4lBe8/UEIyNEEG7z8vz1GaXAfvPwxccQB4CO8/7OiQZpMJ7z/JdbDMrgrvP6gC0DLKC+8/iI/vmOUM7z9kHA//AA7vP0WpLmUcD+8/IjZOyzcQ7z8Bw20xUxHvP99PjZduEu8/vtys/YkT7z+eacxjpRTvP3r268nAFe8/WoMLMNwW7z84ECuW9xfvPxadSvwSGe8/9SlqYi4a7z/UtonISRvvP7JDqS5lHO8/kNDIlIAd7z9vXej6mx7vP07qB2G3H+8/LHcnx9Ig7z8KBEct7iHvP+qQZpMJI+8/yB2G+SQk7z+mqqVfQCXvP4U3xcVbJu8/Y8TkK3cn7z9CUQSSkijvPyDeI/itKe8/AGtDXskq7z/e92LE5CvvP7yEgioALe8/mxGikBsu7z94nsH2Ni/vP1gr4VxSMO8/NrgAw20x7z8URSApiTLvP/TRP4+kM+8/0F5f9b807z+x635b2zXvP454nsH2Nu8/bQW+JxI47z9Mkt2NLTnvPyof/fNIOu8/CqwcWmQ77z/mODzAfzzvP8bFWyabPe8/pFJ7jLY+7z+C35ry0T/vP2FsuljtQO8/QPnZvghC7z8ehvkkJEPvP/wSGYs/RO8/25848VpF7z+6LFhXdkbvP5i5d72RR+8/d0aXI61I7z9W07aJyEnvPzRg1u/jSu8/Eu31Vf9L7z/xeRW8Gk3vP88GNSI2Tu8/rpNUiFFP7z+MIHTubFDvP2ytk1SIUe8/SjqzuqNS7z8ox9Igv1PvPwdU8obaVO8/5OAR7fVV7z/EbTFTEVfvP6L6ULksWO8/gIdwH0hZ7z9gFJCFY1rvPzyhr+t+W+8/HS7PUZpc7z/6uu63tV3vP9lHDh7RXu8/uNQthOxf7z+WYU3qB2HvP3TubFAjYu8/UnuMtj5j7z8yCKwcWmTvPxCVy4J1Ze8/7iHr6JBm7z/NrgpPrGfvP6w7KrXHaO8/ishJG+Np7z9oVWmB/mrvP0fiiOcZbO8/JW+oTTVt7z8E/MezUG7vP+OI5xlsb+8/whUHgIdw7z+goibmonHvP34vRky+cu8/Xbxlstlz7z87SYUY9XTvPxrWpH4Qdu8/+GLE5Ct37z/W7+NKR3jvP7Z8A7Fiee8/lAkjF3567z9ylkJ9mXvvP1AjYuO0fO8/L7CBSdB97z8OPaGv637vP+zJwBUHgO8/zFbgeyKB7z+o4//hPYLvP4hwH0hZg+8/Zv0+rnSE7z9Fil4UkIXvPyQXfnqrhu8/AqSd4MaH7z/gML1G4ojvP7693Kz9ie8/nEr8EhmL7z981xt5NIzvP1pkO99Pje8/OfFaRWuO7z8Yfnqrho/vP/YKmhGikO8/1Je5d72R7z+yJNnd2JLvP5Gx+EP0k+8/cD4Yqg+V7z9OyzcQK5bvPy5YV3ZGl+8/DOV23GGY7z/qcZZCfZnvP8j+taiYmu8/p4vVDrSb7z+GGPV0z5zvP2SlFNvqne8/QjI0QQaf7z8iv1OnIaDvP/5Lcw09oe8/3tiSc1ii7z+9ZbLZc6PvP5vy0T+PpO8/en/xpaql7z9YDBEMxqbvPziZMHLhp+8/FCZQ2Pyo7z/0sm8+GKrvP9I/j6Qzq+8/sMyuCk+s7z+QWc5waq3vP27m7daFru8/THMNPaGv7z8qAC2jvLDvPwiNTAnYse8/6Blsb/Oy7z/GpovVDrTvP6Uzqzsqte8/hMDKoUW27z9iTeoHYbfvP0DaCW58uO8/Hmcp1Je57z/+80g6s7rvP9yAaKDOu+8/ug2IBuq87z+amqdsBb7vP3gnx9Igv+8/VrTmODzA7z80QQafV8HvPxPOJQVzwu8/8lpFa47D7z/Q52TRqcTvP650hDfFxe8/jgGkneDG7z9qjsMD/MfvP0ob42kXye8/KagC0DLK7z8HNSI2TsvvP+bBQZxpzO8/xE5hAoXN7z+k24BooM7vP4FooM67z+8/YPW/NNfQ7z8+gt+a8tHvPxwP/wAO0+8//JseZynU7z/aKD7NRNXvP7i1XTNg1u8/mEJ9mXvX7z91z5z/ltjvP1RcvGWy2e8/Munby83a7z8Qdvsx6dvvP+8CG5gE3e8/zY86/h/e7z+uHFpkO9/vP4upecpW4O8/ajaZMHLh7z9Iw7iWjeLvPyZQ2Pyo4+8/Bd33YsTk7z/jaRfJ3+XvP8L2Ni/75u8/oYNWlRbo7z9+EHb7MenvP16dlWFN6u8/PCq1x2jr7z8at9QthOzvP/lD9JOf7e8/2NAT+rru7z+2XTNg1u/vP5TqUsbx8O8/c3dyLA3y7z9SBJKSKPPvPzCRsfhD9O8/Dh7RXl/17z/uqvDEevbvP8w3ECuW9+8/qsQvkbH47z+IUU/3zPnvP2bebl3o+u8/RmuOwwP87z8k+K0pH/3vPwSFzY86/u8/4RHt9VX/7z9gTwauOADwP88VFmHGAPA/PtwlFFQB8D+uojXH4QHwPxxpRXpvAvA/jC9VLf0C8D/89WTgigPwP2u8dJMYBPA/2oKERqYE8D9JSZT5MwXwP7gPpKzBBfA/KNazX08G8D+XnMMS3QbwPwZj08VqB/A/dSnjePgH8D/k7/IrhgjwP1S2At8TCfA/w3wSkqEJ8D8yQyJFLwrwP6IJMvi8CvA/EdBBq0oL8D+AllFe2AvwP/BcYRFmDPA/XyNxxPMM8D/O6YB3gQ3wPz2wkCoPDvA/rXag3ZwO8D8cPbCQKg/wP4sDwEO4D/A/+snP9kUQ8D9qkN+p0xDwP9lW71xhEfA/SB3/D+8R8D+44w7DfBLwPyaqHnYKE/A/lnAuKZgT8D8FNz7cJRTwP3T9TY+zFPA/48NdQkEV8D9Sim31zhXwP8JQfahcFvA/MheNW+oW8D+h3ZwOeBfwPxCkrMEFGPA/f2q8dJMY8D/uMMwnIRnwP17329quGfA/zb3rjTwa8D88hPtAyhrwP6tKC/RXG/A/GhEbp+Ub8D+K1ypacxzwP/mdOg0BHfA/aGRKwI4d8D/YKlpzHB7wP0fxaSaqHvA/trd52Tcf8D8mfomMxR/wP5REmT9TIPA/BAup8uAg8D9z0bilbiHwP+OXyFj8IfA/Ul7YC4oi8D/BJOi+FyPwPzDr93GlI/A/oLEHJTMk8D8PeBfYwCTwP34+J4tOJfA/7QQ3Ptwl8D9cy0bxaSbwP8yRVqT3JvA/O1hmV4Un8D+qHnYKEyjwPxnlhb2gKPA/iKuVcC4p8D/4caUjvCnwP2g4tdZJKvA/1/7Eidcq8D9GxdQ8ZSvwP7WL5O/yK/A/JFL0ooAs8D+UGARWDi3wPwPfEwmcLfA/cqUjvCku8D/hazNvty7wP1AyQyJFL/A/wPhS1dIv8D8vv2KIYDDwP56FcjvuMPA/DkyC7nsx8D99EpKhCTLwP+zYoVSXMvA/XJ+xByUz8D/KZcG6sjPwPzos0W1ANPA/qfLgIM408D8ZufDTWzXwP4h/AIfpNfA/90UQOnc28D9mDCDtBDfwP9bSL6CSN/A/RZk/UyA48D+0X08GrjjwPyMmX7k7OfA/kuxubMk58D8Cs34fVzrwP3F5jtLkOvA/4D+ehXI78D9PBq44ADzwP77MveuNPPA/LpPNnhs98D+eWd1RqT3wPwwg7QQ3PvA/fOb8t8Q+8D/rrAxrUj/wP1pzHB7gP/A/yjks0W1A8D85ADyE+0DwP6jGSzeJQfA/F41b6hZC8D+HU2udpELwP/YZe1AyQ/A/ZeCKA8BD8D/Uppq2TUTwP0RtqmnbRPA/szO6HGlF8D8i+snP9kXwP5HA2YKERvA/AIfpNRJH8D9wTfnon0fwP98TCZwtSPA/T9oYT7tI8D++oCgCSUnwPy1nOLXWSfA/nC1IaGRK8D8M9Fcb8krwP3u6Z85/S/A/6oB3gQ1M8D9ZR4c0m0zwP8gNl+coTfA/ONSmmrZN8D+nmrZNRE7wPxZhxgDSTvA/hSfWs19P8D/07eVm7U/wP2S09Rl7UPA/1HoFzQhR8D9CQRWAllHwP7IHJTMkUvA/Ic405rFS8D+QlESZP1PwPwBbVEzNU/A/byFk/1pU8D/e53Oy6FTwP06ug2V2VfA/vXSTGARW8D8sO6PLkVbwP5sBs34fV/A/CsjCMa1X8D96jtLkOljwP+lU4pfIWPA/WBvySlZZ8D/H4QH+41nwPzaoEbFxWvA/pm4hZP9a8D8VNTEXjVvwP4T7QMoaXPA/9MFQfahc8D9jiGAwNl3wP9JOcOPDXfA/QhWAllFe8D+w249J317wPyCin/xsX/A/j2ivr/pf8D/+Lr9iiGDwP271zhUWYfA/3bveyKNh8D9Mgu57MWLwP7tI/i6/YvA/Kg8O4kxj8D+a1R2V2mPwPwmcLUhoZPA/eGI9+/Vk8D/oKE2ug2XwP1fvXGERZvA/xrVsFJ9m8D81fHzHLGfwP6VCjHq6Z/A/FAmcLUho8D+Ez6vg1WjwP/OVu5NjafA/YlzLRvFp8D/RItv5fmrwP0Dp6qwMa/A/sK/6X5pr8D8fdgoTKGzwP448Gsa1bPA//QIqeUNt8D9syTks0W3wP9yPSd9ebvA/S1ZZkuxu8D+6HGlFem/wPyrjePgHcPA/mamIq5Vw8D8IcJheI3HwP3g2qBGxcfA/5vy3xD5y8D9Ww8d3zHLwP8WJ1ypac/A/NFDn3edz8D+kFveQdXTwPxPdBkQDdfA/gqMW95B18D/xaSaqHnbwP2AwNl2sdvA/0PZFEDp38D8/vVXDx3fwP66DZXZVePA/Hkp1KeN48D+NEIXccHnwP/zWlI/+efA/a52kQox68D/bY7T1GXvwP0oqxKine/A/ufDTWzV88D8ot+MOw3zwP5h988FQffA/B0QDdd598D92ChMobH7wP+bQItv5fvA/VZcyjod/8D/EXUJBFYDwPzMkUvSigPA/ouphpzCB8D8SsXFavoHwP4F3gQ1MgvA/8D2RwNmC8D9gBKFzZ4PwP8/KsCb1g/A/PpHA2YKE8D+tV9CMEIXwPxwe4D+ehfA/jOTv8iuG8D/7qv+luYbwP2txD1lHh/A/2jcfDNWH8D9J/i6/YojwP7jEPnLwiPA/J4tOJX6J8D+XUV7YC4rwPwYYbouZivA/dd59PieL8D/kpI3xtIvwP1RrnaRCjPA/wzGtV9CM8D8y+LwKXo3wP6G+zL3rjfA/EYXccHmO8D+AS+wjB4/wP+8R/NaUj/A/XtgLiiKQ8D/Onhs9sJDwPz1lK/A9kfA/rCs7o8uR8D8b8kpWWZLwP4u4WgnnkvA/+n5qvHST8D9pRXpvApTwP9gLiiKQlPA/SNKZ1R2V8D+3mKmIq5XwPyZfuTs5lvA/liXJ7saW8D8F7NihVJfwP3Sy6FTil/A/43j4B3CY8D9SPwi7/ZjwP8IFGG6LmfA/McwnIRma8D+hkjfUpprwPxBZR4c0m/A/fx9XOsKb8D/u5WbtT5zwP12sdqDdnPA/zXKGU2ud8D87OZYG+Z3wP6v/pbmGnvA/Gsa1bBSf8D+KjMUfop/wP/lS1dIvoPA/aBnlhb2g8D/X3/Q4S6HwP0amBOzYofA/tmwUn2ai8D8lMyRS9KLwP5T5MwWCo/A/BMBDuA+k8D9zhlNrnaTwP+JMYx4rpfA/URNz0bil8D/B2YKERqbwPzCgkjfUpvA/n2ai6mGn8D8OLbKd76fwP33zwVB9qPA/7bnRAwup8D9cgOG2mKnwP8xG8WkmqvA/Ow0BHbSq8D+q0xDQQavwPxmaIIPPq/A/iGAwNl2s8D/4JkDp6qzwP2ftT5x4rfA/1rNfTwau8D9Gem8ClK7wP7VAf7Uhr/A/JAePaK+v8D+TzZ4bPbDwPwKUrs7KsPA/cVq+gVix8D/hIM405rHwP1Dn3edzsvA/wK3tmgGz8D8udP1Nj7PwP546DQEdtPA/DQEdtKq08D98xyxnOLXwP+yNPBrGtfA/W1RMzVO28D/KGlyA4bbwPzrhazNvt/A/qad75vy38D8YbouZirjwP4c0m0wYufA/9/qq/6W58D9mwbqyM7rwP9WHymXBuvA/RE7aGE+78D+zFOrL3LvwPyPb+X5qvPA/kqEJMvi88D8CaBnlhb3wP3EuKZgTvvA/4PQ4S6G+8D9Pu0j+Lr/wP76BWLG8v/A/LkhoZErA8D+dDngX2MDwPwzVh8plwfA/fJuXffPB8D/rYacwgcLwP1oot+MOw/A/ye7GlpzD8D84tdZJKsTwP6d75vy3xPA/F0L2r0XF8D+GCAZj08XwP/XOFRZhxvA/ZZUlye7G8D/UWzV8fMfwP0MiRS8KyPA/suhU4pfI8D8ir2SVJcnwP5F1dEizyfA/ADyE+0DK8D9wApSuzsrwP9/Io2Fcy/A/To+zFOrL8D+9VcPHd8zwPy0c03oFzfA/nOLiLZPN8D8LqfLgIM7wP3pvApSuzvA/6TUSRzzP8D9Z/CH6yc/wP8jCMa1X0PA/OIlBYOXQ8D+mT1ETc9HwPxYWYcYA0vA/hdxweY7S8D/0ooAsHNPwP2RpkN+p0/A/0i+gkjfU8D9C9q9FxdTwP7K8v/hS1fA/IYPPq+DV8D+QSd9ebtbwP/8P7xH81vA/btb+xInX8D/dnA54F9jwP01jHiul2PA/vCku3jLZ8D8r8D2RwNnwP5u2TURO2vA/Cn1d99va8D95Q22qadvwP+gJfV332/A/WNCMEIXc8D/HlpzDEt3wPzZdrHag3fA/piO8KS7e8D8V6svcu97wP4Sw249J3/A/83brQtff8D9jPfv1ZODwP9IDC6ny4PA/QcoaXIDh8D+wkCoPDuLwPx9XOsKb4vA/jx1KdSnj8D/+41kot+PwP26qadtE5PA/3XB5jtLk8D9MN4lBYOXwP7v9mPTt5fA/KsSop3vm8D+airhaCefwPwhRyA2X5/A/eBfYwCTo8D/o3edzsujwP1ek9yZA6fA/xmoH2s3p8D81MReNW+rwP6T3JkDp6vA/E74283br8D+DhEamBOzwP/JKVlmS7PA/YRFmDCDt8D/R13W/re3wP0CehXI77vA/r2SVJcnu8D8eK6XYVu/wP43xtIvk7/A//bfEPnLw8D9sftTx//DwP9xE5KSN8fA/Swv0Vxvy8D+60QMLqfLwPymYE7428/A/mF4jccTz8D8IJTMkUvTwP3brQtff9PA/5rFSim318D9WeGI9+/XwP8U+cvCI9vA/NAWCoxb38D+jy5FWpPfwPxOSoQky+PA/gVixvL/48D/xHsFvTfnwP2Hl0CLb+fA/z6vg1Wj68D8/cvCI9vrwP644ADyE+/A/Hv8P7xH88D+MxR+in/zwP/yLL1Ut/fA/a1I/CLv98D/aGE+7SP7wP0rfXm7W/vA/uaVuIWT/8D8obH7U8f/wP5cyjod/APE/B/mdOg0B8T92v63tmgHxP+WFvaAoAvE/VEzNU7YC8T/DEt0GRAPxPzPZ7LnRA/E/op/8bF8E8T8SZgwg7QTxP4EsHNN6BfE/8PIrhggG8T9fuTs5lgbxP85/S+wjB/E/PkZbn7EH8T+sDGtSPwjxPxzTegXNCPE/jJmKuFoJ8T/7X5pr6AnxP2omqh52CvE/2ey50QML8T9Js8mEkQvxP7d52TcfDPE/J0Dp6qwM8T+WBvmdOg3xPwXNCFHIDfE/dZMYBFYO8T8=",
          "dtype": "f8"
         },
         "y": {
          "bdata": "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",
          "dtype": "f8"
         }
        }
       ],
       "layout": {
        "template": {
         "data": {
          "bar": [
           {
            "error_x": {
             "color": "#2a3f5f"
            },
            "error_y": {
             "color": "#2a3f5f"
            },
            "marker": {
             "line": {
              "color": "white",
              "width": 0.5
             },
             "pattern": {
              "fillmode": "overlay",
              "size": 10,
              "solidity": 0.2
             }
            },
            "type": "bar"
           }
          ],
          "barpolar": [
           {
            "marker": {
             "line": {
              "color": "white",
              "width": 0.5
             },
             "pattern": {
              "fillmode": "overlay",
              "size": 10,
              "solidity": 0.2
             }
            },
            "type": "barpolar"
           }
          ],
          "carpet": [
           {
            "aaxis": {
             "endlinecolor": "#2a3f5f",
             "gridcolor": "#C8D4E3",
             "linecolor": "#C8D4E3",
             "minorgridcolor": "#C8D4E3",
             "startlinecolor": "#2a3f5f"
            },
            "baxis": {
             "endlinecolor": "#2a3f5f",
             "gridcolor": "#C8D4E3",
             "linecolor": "#C8D4E3",
             "minorgridcolor": "#C8D4E3",
             "startlinecolor": "#2a3f5f"
            },
            "type": "carpet"
           }
          ],
          "choropleth": [
           {
            "colorbar": {
             "outlinewidth": 0,
             "ticks": ""
            },
            "type": "choropleth"
           }
          ],
          "contour": [
           {
            "colorbar": {
             "outlinewidth": 0,
             "ticks": ""
            },
            "colorscale": [
             [
              0,
              "#0d0887"
             ],
             [
              0.1111111111111111,
              "#46039f"
             ],
             [
              0.2222222222222222,
              "#7201a8"
             ],
             [
              0.3333333333333333,
              "#9c179e"
             ],
             [
              0.4444444444444444,
              "#bd3786"
             ],
             [
              0.5555555555555556,
              "#d8576b"
             ],
             [
              0.6666666666666666,
              "#ed7953"
             ],
             [
              0.7777777777777778,
              "#fb9f3a"
             ],
             [
              0.8888888888888888,
              "#fdca26"
             ],
             [
              1,
              "#f0f921"
             ]
            ],
            "type": "contour"
           }
          ],
          "contourcarpet": [
           {
            "colorbar": {
             "outlinewidth": 0,
             "ticks": ""
            },
            "type": "contourcarpet"
           }
          ],
          "heatmap": [
           {
            "colorbar": {
             "outlinewidth": 0,
             "ticks": ""
            },
            "colorscale": [
             [
              0,
              "#0d0887"
             ],
             [
              0.1111111111111111,
              "#46039f"
             ],
             [
              0.2222222222222222,
              "#7201a8"
             ],
             [
              0.3333333333333333,
              "#9c179e"
             ],
             [
              0.4444444444444444,
              "#bd3786"
             ],
             [
              0.5555555555555556,
              "#d8576b"
             ],
             [
              0.6666666666666666,
              "#ed7953"
             ],
             [
              0.7777777777777778,
              "#fb9f3a"
             ],
             [
              0.8888888888888888,
              "#fdca26"
             ],
             [
              1,
              "#f0f921"
             ]
            ],
            "type": "heatmap"
           }
          ],
          "histogram": [
           {
            "marker": {
             "pattern": {
              "fillmode": "overlay",
              "size": 10,
              "solidity": 0.2
             }
            },
            "type": "histogram"
           }
          ],
          "histogram2d": [
           {
            "colorbar": {
             "outlinewidth": 0,
             "ticks": ""
            },
            "colorscale": [
             [
              0,
              "#0d0887"
             ],
             [
              0.1111111111111111,
              "#46039f"
             ],
             [
              0.2222222222222222,
              "#7201a8"
             ],
             [
              0.3333333333333333,
              "#9c179e"
             ],
             [
              0.4444444444444444,
              "#bd3786"
             ],
             [
              0.5555555555555556,
              "#d8576b"
             ],
             [
              0.6666666666666666,
              "#ed7953"
             ],
             [
              0.7777777777777778,
              "#fb9f3a"
             ],
             [
              0.8888888888888888,
              "#fdca26"
             ],
             [
              1,
              "#f0f921"
             ]
            ],
            "type": "histogram2d"
           }
          ],
          "histogram2dcontour": [
           {
            "colorbar": {
             "outlinewidth": 0,
             "ticks": ""
            },
            "colorscale": [
             [
              0,
              "#0d0887"
             ],
             [
              0.1111111111111111,
              "#46039f"
             ],
             [
              0.2222222222222222,
              "#7201a8"
             ],
             [
              0.3333333333333333,
              "#9c179e"
             ],
             [
              0.4444444444444444,
              "#bd3786"
             ],
             [
              0.5555555555555556,
              "#d8576b"
             ],
             [
              0.6666666666666666,
              "#ed7953"
             ],
             [
              0.7777777777777778,
              "#fb9f3a"
             ],
             [
              0.8888888888888888,
              "#fdca26"
             ],
             [
              1,
              "#f0f921"
             ]
            ],
            "type": "histogram2dcontour"
           }
          ],
          "mesh3d": [
           {
            "colorbar": {
             "outlinewidth": 0,
             "ticks": ""
            },
            "type": "mesh3d"
           }
          ],
          "parcoords": [
           {
            "line": {
             "colorbar": {
              "outlinewidth": 0,
              "ticks": ""
             }
            },
            "type": "parcoords"
           }
          ],
          "pie": [
           {
            "automargin": true,
            "type": "pie"
           }
          ],
          "scatter": [
           {
            "fillpattern": {
             "fillmode": "overlay",
             "size": 10,
             "solidity": 0.2
            },
            "type": "scatter"
           }
          ],
          "scatter3d": [
           {
            "line": {
             "colorbar": {
              "outlinewidth": 0,
              "ticks": ""
             }
            },
            "marker": {
             "colorbar": {
              "outlinewidth": 0,
              "ticks": ""
             }
            },
            "type": "scatter3d"
           }
          ],
          "scattercarpet": [
           {
            "marker": {
             "colorbar": {
              "outlinewidth": 0,
              "ticks": ""
             }
            },
            "type": "scattercarpet"
           }
          ],
          "scattergeo": [
           {
            "marker": {
             "colorbar": {
              "outlinewidth": 0,
              "ticks": ""
             }
            },
            "type": "scattergeo"
           }
          ],
          "scattergl": [
           {
            "marker": {
             "colorbar": {
              "outlinewidth": 0,
              "ticks": ""
             }
            },
            "type": "scattergl"
           }
          ],
          "scattermap": [
           {
            "marker": {
             "colorbar": {
              "outlinewidth": 0,
              "ticks": ""
             }
            },
            "type": "scattermap"
           }
          ],
          "scattermapbox": [
           {
            "marker": {
             "colorbar": {
              "outlinewidth": 0,
              "ticks": ""
             }
            },
            "type": "scattermapbox"
           }
          ],
          "scatterpolar": [
           {
            "marker": {
             "colorbar": {
              "outlinewidth": 0,
              "ticks": ""
             }
            },
            "type": "scatterpolar"
           }
          ],
          "scatterpolargl": [
           {
            "marker": {
             "colorbar": {
              "outlinewidth": 0,
              "ticks": ""
             }
            },
            "type": "scatterpolargl"
           }
          ],
          "scatterternary": [
           {
            "marker": {
             "colorbar": {
              "outlinewidth": 0,
              "ticks": ""
             }
            },
            "type": "scatterternary"
           }
          ],
          "surface": [
           {
            "colorbar": {
             "outlinewidth": 0,
             "ticks": ""
            },
            "colorscale": [
             [
              0,
              "#0d0887"
             ],
             [
              0.1111111111111111,
              "#46039f"
             ],
             [
              0.2222222222222222,
              "#7201a8"
             ],
             [
              0.3333333333333333,
              "#9c179e"
             ],
             [
              0.4444444444444444,
              "#bd3786"
             ],
             [
              0.5555555555555556,
              "#d8576b"
             ],
             [
              0.6666666666666666,
              "#ed7953"
             ],
             [
              0.7777777777777778,
              "#fb9f3a"
             ],
             [
              0.8888888888888888,
              "#fdca26"
             ],
             [
              1,
              "#f0f921"
             ]
            ],
            "type": "surface"
           }
          ],
          "table": [
           {
            "cells": {
             "fill": {
              "color": "#EBF0F8"
             },
             "line": {
              "color": "white"
             }
            },
            "header": {
             "fill": {
              "color": "#C8D4E3"
             },
             "line": {
              "color": "white"
             }
            },
            "type": "table"
           }
          ]
         },
         "layout": {
          "annotationdefaults": {
           "arrowcolor": "#2a3f5f",
           "arrowhead": 0,
           "arrowwidth": 1
          },
          "autotypenumbers": "strict",
          "coloraxis": {
           "colorbar": {
            "outlinewidth": 0,
            "ticks": ""
           }
          },
          "colorscale": {
           "diverging": [
            [
             0,
             "#8e0152"
            ],
            [
             0.1,
             "#c51b7d"
            ],
            [
             0.2,
             "#de77ae"
            ],
            [
             0.3,
             "#f1b6da"
            ],
            [
             0.4,
             "#fde0ef"
            ],
            [
             0.5,
             "#f7f7f7"
            ],
            [
             0.6,
             "#e6f5d0"
            ],
            [
             0.7,
             "#b8e186"
            ],
            [
             0.8,
             "#7fbc41"
            ],
            [
             0.9,
             "#4d9221"
            ],
            [
             1,
             "#276419"
            ]
           ],
           "sequential": [
            [
             0,
             "#0d0887"
            ],
            [
             0.1111111111111111,
             "#46039f"
            ],
            [
             0.2222222222222222,
             "#7201a8"
            ],
            [
             0.3333333333333333,
             "#9c179e"
            ],
            [
             0.4444444444444444,
             "#bd3786"
            ],
            [
             0.5555555555555556,
             "#d8576b"
            ],
            [
             0.6666666666666666,
             "#ed7953"
            ],
            [
             0.7777777777777778,
             "#fb9f3a"
            ],
            [
             0.8888888888888888,
             "#fdca26"
            ],
            [
             1,
             "#f0f921"
            ]
           ],
           "sequentialminus": [
            [
             0,
             "#0d0887"
            ],
            [
             0.1111111111111111,
             "#46039f"
            ],
            [
             0.2222222222222222,
             "#7201a8"
            ],
            [
             0.3333333333333333,
             "#9c179e"
            ],
            [
             0.4444444444444444,
             "#bd3786"
            ],
            [
             0.5555555555555556,
             "#d8576b"
            ],
            [
             0.6666666666666666,
             "#ed7953"
            ],
            [
             0.7777777777777778,
             "#fb9f3a"
            ],
            [
             0.8888888888888888,
             "#fdca26"
            ],
            [
             1,
             "#f0f921"
            ]
           ]
          },
          "colorway": [
           "#636efa",
           "#EF553B",
           "#00cc96",
           "#ab63fa",
           "#FFA15A",
           "#19d3f3",
           "#FF6692",
           "#B6E880",
           "#FF97FF",
           "#FECB52"
          ],
          "font": {
           "color": "#2a3f5f"
          },
          "geo": {
           "bgcolor": "white",
           "lakecolor": "white",
           "landcolor": "white",
           "showlakes": true,
           "showland": true,
           "subunitcolor": "#C8D4E3"
          },
          "hoverlabel": {
           "align": "left"
          },
          "hovermode": "closest",
          "mapbox": {
           "style": "light"
          },
          "paper_bgcolor": "white",
          "plot_bgcolor": "white",
          "polar": {
           "angularaxis": {
            "gridcolor": "#EBF0F8",
            "linecolor": "#EBF0F8",
            "ticks": ""
           },
           "bgcolor": "white",
           "radialaxis": {
            "gridcolor": "#EBF0F8",
            "linecolor": "#EBF0F8",
            "ticks": ""
           }
          },
          "scene": {
           "xaxis": {
            "backgroundcolor": "white",
            "gridcolor": "#DFE8F3",
            "gridwidth": 2,
            "linecolor": "#EBF0F8",
            "showbackground": true,
            "ticks": "",
            "zerolinecolor": "#EBF0F8"
           },
           "yaxis": {
            "backgroundcolor": "white",
            "gridcolor": "#DFE8F3",
            "gridwidth": 2,
            "linecolor": "#EBF0F8",
            "showbackground": true,
            "ticks": "",
            "zerolinecolor": "#EBF0F8"
           },
           "zaxis": {
            "backgroundcolor": "white",
            "gridcolor": "#DFE8F3",
            "gridwidth": 2,
            "linecolor": "#EBF0F8",
            "showbackground": true,
            "ticks": "",
            "zerolinecolor": "#EBF0F8"
           }
          },
          "shapedefaults": {
           "line": {
            "color": "#2a3f5f"
           }
          },
          "ternary": {
           "aaxis": {
            "gridcolor": "#DFE8F3",
            "linecolor": "#A2B1C6",
            "ticks": ""
           },
           "baxis": {
            "gridcolor": "#DFE8F3",
            "linecolor": "#A2B1C6",
            "ticks": ""
           },
           "bgcolor": "white",
           "caxis": {
            "gridcolor": "#DFE8F3",
            "linecolor": "#A2B1C6",
            "ticks": ""
           }
          },
          "title": {
           "x": 0.05
          },
          "xaxis": {
           "automargin": true,
           "gridcolor": "#EBF0F8",
           "linecolor": "#EBF0F8",
           "ticks": "",
           "title": {
            "standoff": 15
           },
           "zerolinecolor": "#EBF0F8",
           "zerolinewidth": 2
          },
          "yaxis": {
           "automargin": true,
           "gridcolor": "#EBF0F8",
           "linecolor": "#EBF0F8",
           "ticks": "",
           "title": {
            "standoff": 15
           },
           "zerolinecolor": "#EBF0F8",
           "zerolinewidth": 2
          }
         }
        },
        "title": {
         "text": "SHG Spectrum (Fourier Method)"
        },
        "xaxis": {
         "title": {
          "text": "Fundamental Wavelength (μm)"
         }
        },
        "yaxis": {
         "title": {
          "text": "Normalized SHG Efficiency"
         }
        }
       }
      }
     },
     "metadata": {},
     "output_type": "display_data"
    }
   ],
   "source": [
    "# physical conditions.\n",
    "design_temp = 70.0\n",
    "wl_start = 0.931\n",
    "wl_end = 1.066\n",
    "num_wl_points = 1000\n",
    "\n",
    "# define widths.\n",
    "num_domains = 600\n",
    "chirp_rate = 0.0001  # Chirp rate\n",
    "initial_width = 3.6  # μm\n",
    "profile = grating.tapered_profile(num_domains, initial_width, chirp_rate, 999)\n",
    "widths, _ = grating.build(profile)\n",
    "\n",
    "# calculated values from physical conditions.\n",
    "wls = jnp.linspace(wl_start, wl_end, num_wl_points)\n",
    "device = DeviceConfig(length=float(jnp.sum(widths)), num_domains=widths.shape[0], kappa=1.31e-5 / (2 / jnp.pi))\n",
    "effs = calc_shg_effs(widths, wls, device, design_temp)\n",
    "\n",
    "plot_spectrum(wls, effs)"
   ]
  },
  {
   "cell_type": "code",
   "execution_count": null,
   "id": "e35f8461",
   "metadata": {},
   "outputs": [
    {
     "data": {
      "application/vnd.plotly.v1+json": {
       "config": {
        "plotlyServerURL": "https://plot.ly"
       },
       "data": [
        {
         "mode": "lines",
         "name": "Periodic 1998.0μm",
         "type": "scatter",
         "x": {
          "bdata": "ZmZmZmZm8D/NDHHlcGbwPzWze2R7ZvA/m1mG44Vm8D8CAJFikGbwP2mmm+GaZvA/0UymYKVm8D8487Dfr2bwP56Zu166ZvA/BkDG3cRm8D9t5tBcz2bwP9OM29vZZvA/OzPmWuRm8D+i2fDZ7mbwPwmA+1j5ZvA/byYG2ANn8D/XzBBXDmfwPz5zG9YYZ/A/pBkmVSNn8D8MwDDULWfwP3NmO1M4Z/A/2gxG0kJn8D9Cs1BRTWfwP6hZW9BXZ/A/DwBmT2Jn8D92pnDObGfwP95Me013Z/A/RfOFzIFn8D+rmZBLjGfwPxNAm8qWZ/A/eualSaFn8D/hjLDIq2fwP0gzu0e2Z/A/r9nFxsBn8D8WgNBFy2fwP30m28TVZ/A/5MzlQ+Bn8D9Mc/DC6mfwP7IZ+0H1Z/A/GcAFwf9n8D+AZhBACmjwP+gMG78UaPA/TrMlPh9o8D+1WTC9KWjwPx0AOzw0aPA/g6ZFuz5o8D/rTFA6SWjwP1HzWrlTaPA/uZllOF5o8D8gQHC3aGjwP4fmejZzaPA/7oyFtX1o8D9UM5A0iGjwP7zZmrOSaPA/I4ClMp1o8D+KJrCxp2jwP/HMujCyaPA/WHPFr7xo8D+/GdAux2jwPybA2q3RaPA/jWblLNxo8D/1DPCr5mjwP1uz+irxaPA/wlkFqvto8D8qABApBmnwP5GmGqgQafA/+EwlJxtp8D9e8y+mJWnwP8aZOiUwafA/LUBFpDpp8D+U5k8jRWnwP/uMWqJPafA/YjNlIVpp8D/J2W+gZGnwPzCAeh9vafA/lyaFnnlp8D/+zI8dhGnwP2VzmpyOafA/zBmlG5lp8D8zwK+ao2nwP5tmuhmuafA/AQ3FmLhp8D9os88Xw2nwP9BZ2pbNafA/NwDlFdhp8D+epu+U4mnwPwRN+hPtafA/bPMEk/dp8D/TmQ8SAmrwPzpAGpEMavA/oeYkEBdq8D8IjS+PIWrwP28zOg4savA/1tlEjTZq8D89gE8MQWrwP6QmWotLavA/C81kClZq8D9yc2+JYGrwP9oZeghravA/QMCEh3Vq8D+oZo8GgGrwPw4NmoWKavA/drOkBJVq8D/dWa+Dn2rwP0QAugKqavA/q6bEgbRq8D8STc8Av2rwP3nz2X/JavA/4Jnk/tNq8D9HQO993mrwP67m+fzoavA/FY0EfPNq8D98Mw/7/WrwP+PZGXoIa/A/SoAk+RJr8D+yJi94HWvwPxjNOfcna/A/f3NEdjJr8D/mGU/1PGvwP07AWXRHa/A/tWZk81Fr8D8bDW9yXGvwP4OzefFma/A/6lmEcHFr8D9RAI/ve2vwP7immW6Ga/A/H02k7ZBr8D+G865sm2vwP+2Zueula/A/VEDEarBr8D+85s7pumvwPyKN2WjFa/A/iTPk589r8D/w2e5m2mvwP1iA+eXka/A/vyYEZe9r8D8lzQ7k+WvwP41zGWMEbPA/9Bkk4g5s8D9bwC5hGWzwP8JmOeAjbPA/KQ1EXy5s8D+Qs07eOGzwP/dZWV1DbPA/XgBk3E1s8D/Gpm5bWGzwPyxNedpibPA/k/ODWW1s8D/6mY7Yd2zwP2FAmVeCbPA/yOaj1oxs8D8vja5Vl2zwP5czudShbPA//dnDU6xs8D9lgM7StmzwP8wm2VHBbPA/Ms3j0Mts8D+ac+5P1mzwPwEa+c7gbPA/aMADTuts8D/PZg7N9WzwPzYNGUwAbfA/nbMjywpt8D8EWi5KFW3wP2sAOckfbfA/0qZDSCpt8D85TU7HNG3wP6DzWEY/bfA/B5pjxUlt8D9vQG5EVG3wP9bmeMNebfA/PI2DQmlt8D+kM47Bc23wPwvamEB+bfA/coCjv4ht8D/ZJq4+k23wP0DNuL2dbfA/p3PDPKht8D8OGs67sm3wP3XA2Dq9bfA/3Gbjucdt8D9DDe440m3wP6qz+LfcbfA/EVoDN+dt8D94AA628W3wP9+mGDX8bfA/Rk0jtAZu8D+u8y0zEW7wPxWaOLIbbvA/e0BDMSZu8D/j5k2wMG7wP0qNWC87bvA/sDNjrkVu8D8Y2m0tUG7wP3+AeKxabvA/5iaDK2Vu8D9NzY2qb27wP7RzmCl6bvA/GxqjqIRu8D+CwK0nj27wP+lmuKaZbvA/UA3DJaRu8D+4s82krm7wPx5a2CO5bvA/hQDjosNu8D/spu0hzm7wP1NN+KDYbvA/uvMCIONu8D8img2f7W7wP4hAGB74bvA/7+YinQJv8D9XjS0cDW/wP74zOJsXb/A/JdpCGiJv8D+MgE2ZLG/wP/MmWBg3b/A/Ws1il0Fv8D/Bc20WTG/wPygaeJVWb/A/j8CCFGFv8D/2Zo2Ta2/wP10NmBJ2b/A/xLOikYBv8D8sWq0Qi2/wP5IAuI+Vb/A/+abCDqBv8D9hTc2Nqm/wP8jz1wy1b/A/L5rii79v8D+WQO0Kym/wP/3m94nUb/A/ZI0CCd9v8D/LMw2I6W/wPzLaFwf0b/A/mYAihv5v8D8AJy0FCXDwP2fNN4QTcPA/znNCAx5w8D82Gk2CKHDwP5zAVwEzcPA/A2digD1w8D9qDW3/R3DwP9Gzd35ScPA/OVqC/Vxw8D+gAI18Z3DwPwenl/txcPA/bk2ienxw8D/V86z5hnDwPzyat3iRcPA/okDC95tw8D8K58x2pnDwP3GN1/WwcPA/2DPidLtw8D8/2uzzxXDwP6aA93LQcPA/DScC8tpw8D90zQxx5XDwP9tzF/DvcPA/Qhoib/pw8D+qwCzuBHHwPxBnN20PcfA/eA1C7Blx8D/fs0xrJHHwP0ZaV+oucfA/rABiaTlx8D8Up2zoQ3HwP3tNd2dOcfA/4vOB5lhx8D9JmoxlY3HwP7BAl+RtcfA/F+ehY3hx8D9+jazignHwP+Uzt2GNcfA/TNrB4Jdx8D+zgMxfonHwPxon196scfA/gs3hXbdx8D/oc+zcwXHwP1Aa91vMcfA/tsAB29Zx8D8eZwxa4XHwP4UNF9nrcfA/67MhWPZx8D9TWizXAHLwP7oAN1YLcvA/IKdB1RVy8D+ITUxUIHLwP+/zVtMqcvA/VpphUjVy8D+9QGzRP3LwPyTndlBKcvA/jI2Bz1Ry8D/yM4xOX3LwP1rals1pcvA/wIChTHRy8D8oJ6zLfnLwP47NtkqJcvA/9XPByZNy8D9dGsxInnLwP8PA1seocvA/KmfhRrNy8D+SDezFvXLwP/mz9kTIcvA/YFoBxNJy8D/HAAxD3XLwPy6nFsLncvA/lU0hQfJy8D/88yvA/HLwP2SaNj8Hc/A/ykBBvhFz8D8x50s9HHPwP5iNVrwmc/A//zNhOzFz8D9n2mu6O3PwP82AdjlGc/A/NCeBuFBz8D+czYs3W3PwPwJ0lrZlc/A/ahqhNXBz8D/RwKu0enPwPzhntjOFc/A/nw3Bso9z8D8GtMsxmnPwP25a1rCkc/A/1ADhL69z8D87p+uuuXPwP6JN9i3Ec/A/CfQArc5z8D9wmgss2XPwP9dAFqvjc/A/PucgKu5z8D+mjSup+HPwPww0NigDdPA/dNpApw108D/bgEsmGHTwP0InVqUidPA/qc1gJC108D8QdGujN3TwP3cadiJCdPA/3sCAoUx08D9FZ4sgV3TwP6wNlp9hdPA/ErSgHmx08D96WquddnTwP+EAthyBdPA/SKfAm4t08D+vTcsalnTwPxb01ZmgdPA/fprgGKt08D/kQOuXtXTwP0zn9RbAdPA/s40Alsp08D8aNAsV1XTwP4HaFZTfdPA/6IAgE+p08D9PJyuS9HTwP7bNNRH/dPA/HHRAkAl18D+EGksPFHXwP+vAVY4edfA/UmdgDSl18D+5DWuMM3XwPyC0dQs+dfA/iFqAikh18D/uAIsJU3XwP1WnlYhddfA/vU2gB2h18D8j9KqGcnXwP4qatQV9dfA/8kDAhId18D9Z58oDknXwP8CN1YKcdfA/JjTgAad18D+O2uqAsXXwP/WA9f+7dfA/XCcAf8Z18D/DzQr+0HXwPyp0FX3bdfA/kRog/OV18D/4wCp78HXwP19nNfr6dfA/xg1AeQV28D8ttEr4D3bwP5RaVXcadvA//ABg9iR28D9ip2p1L3bwP8pNdfQ5dvA/MPR/c0R28D+YmoryTnbwP/5AlXFZdvA/Zuef8GN28D/NjapvbnbwPzQ0te54dvA/m9q/bYN28D8CgcrsjXbwP2kn1WuYdvA/0M3f6qJ28D83dOpprXbwP54a9ei3dvA/BsH/Z8J28D9sZwrnzHbwP9QNFWbXdvA/OrQf5eF28D+hWipk7HbwPwgBNeP2dvA/b6c/YgF38D/XTUrhC3fwPz30VGAWd/A/pJpf3yB38D8MQWpeK3fwP3LndN01d/A/2o1/XEB38D9BNIrbSnfwP6jalFpVd/A/D4Gf2V938D92J6pYanfwP97NtNd0d/A/RHS/Vn938D+rGsrViXfwPxLB1FSUd/A/eWff05538D/gDepSqXfwP0e09NGzd/A/rlr/UL538D8WAQrQyHfwP3ynFE/Td/A/5E0fzt138D9L9ClN6HfwP7KaNMzyd/A/GUE/S/138D+A50nKB3jwP+iNVEkSePA/TjRfyBx48D+12mlHJ3jwPxyBdMYxePA/gyd/RTx48D/qzYnERnjwP1F0lENRePA/uBqfwlt48D8fwalBZnjwP4ZntMBwePA/7g2/P3t48D9VtMm+hXjwP7xa1D2QePA/IwHfvJp48D+Kp+k7pXjwP/FN9LqvePA/WPT+Obp48D+/mgm5xHjwPyZBFDjPePA/jOcet9l48D/0jSk25HjwP1s0NLXuePA/wto+NPl48D8pgUmzA3nwP5AnVDIOefA/+M1esRh58D9edGkwI3nwP8YadK8tefA/LcF+Ljh58D+UZ4mtQnnwP/sNlCxNefA/YrSeq1d58D/JWqkqYnnwPzABtKlsefA/lqe+KHd58D/+TcmngXnwP2X00yaMefA/zJrepZZ58D8zQekkoXnwP5rn86OrefA/AY7+IrZ58D9oNAmiwHnwP9DaEyHLefA/N4EeoNV58D+dJykf4HnwPwXOM57qefA/bHQ+HfV58D/TGkmc/3nwPzrBUxsKevA/oGdemhR68D8IDmkZH3rwP260c5gpevA/1lp+FzR68D89AYmWPnrwP6SnkxVJevA/DE6elFN68D9y9KgTXnrwP9qas5JoevA/QEG+EXN68D+n58iQfXrwPw+O0w+IevA/djTejpJ68D/c2ugNnXrwP0SB84ynevA/qif+C7J68D8RzgiLvHrwP3h0EwrHevA/4BoeidF68D9HwSgI3HrwP65nM4fmevA/FA4+BvF68D98tEiF+3rwP+RaUwQGe/A/SgFegxB78D+xp2gCG3vwPxhOc4Ele/A/f/R9ADB78D/mmoh/OnvwP05Bk/5Ee/A/tOedfU978D8bjqj8WXvwP4I0s3tke/A/6tq9+m578D9Rgch5eXvwP7gn0/iDe/A/Hs7dd4578D+GdOj2mHvwP+0a83Wje/A/VMH99K178D+7Zwh0uHvwPyIOE/PCe/A/ibQdcs178D/wWijx13vwP1cBM3Die/A/vqc97+x78D8lTkhu93vwP4z0Uu0BfPA/9JpdbAx88D9bQWjrFnzwP8LncmohfPA/KI596St88D+QNIhoNnzwP/bakudAfPA/XoGdZkt88D/FJ6jlVXzwPyzOsmRgfPA/k3S942p88D/6GshidXzwP2HB0uF/fPA/yGfdYIp88D8vDujflHzwP5a08l6ffPA//Vr93al88D9kAQhdtHzwP8ynEty+fPA/Mk4dW8l88D+a9Cfa03zwPwCbMlnefPA/Z0E92Oh88D/P50dX83zwPzaOUtb9fPA/nTRdVQh98D8E22fUEn3wP2uBclMdffA/0id90id98D85zodRMn3wP6B0ktA8ffA/BxudT0d98D9uwafOUX3wP9Vnsk1cffA/PA69zGZ98D+ktMdLcX3wPwpb0sp7ffA/cQHdSYZ98D/Yp+fIkH3wP0BO8kebffA/p/T8xqV98D8OmwdGsH3wP3RBEsW6ffA/3OccRMV98D9DjifDz33wP6o0MkLaffA/Eds8weR98D94gUdA733wP98nUr/5ffA/Rs5cPgR+8D+udGe9Dn7wPxQbcjwZfvA/e8F8uyN+8D/iZ4c6Ln7wP0kOkrk4fvA/sbScOEN+8D8YW6e3TX7wP34BsjZYfvA/5ae8tWJ+8D9NTsc0bX7wP7T00bN3fvA/G5vcMoJ+8D+CQeexjH7wP+jn8TCXfvA/UI78r6F+8D+3NAcvrH7wPx7bEa62fvA/hYEcLcF+8D/sJyesy37wP1POMSvWfvA/unQ8quB+8D8iG0cp637wP4jBUaj1fvA/72dcJwB/8D9WDmemCn/wP760cSUVf/A/JVt8pB9/8D+MAYcjKn/wP/KnkaI0f/A/Wk6cIT9/8D/B9KagSX/wPyibsR9Uf/A/j0G8nl5/8D/258YdaX/wP12O0Zxzf/A/xDTcG35/8D8r2+aaiH/wP5KB8RmTf/A/+Sf8mJ1/8D9gzgYYqH/wP8d0EZeyf/A/LhscFr1/8D+WwSaVx3/wP/xnMRTSf/A/ZA48k9x/8D/LtEYS53/wPzJbUZHxf/A/mAFcEPx/8D8AqGaPBoDwP2dOcQ4RgPA/zvR7jRuA8D81m4YMJoDwP5xBkYswgPA/A+ibCjuA8D9qjqaJRYDwP9E0sQhQgPA/ONu7h1qA8D+fgcYGZYDwPwYo0YVvgPA/bs7bBHqA8D/UdOaDhIDwPzwb8QKPgPA/osH7gZmA8D8KaAYBpIDwP3EOEYCugPA/2LQb/7iA8D8/WyZ+w4DwP6YBMf3NgPA/Dag7fNiA8D90Tkb74oDwP9v0UHrtgPA/Qptb+feA8D+pQWZ4AoHwPxDocPcMgfA/eI57dheB8D/eNIb1IYHwP0XbkHQsgfA/rIGb8zaB8D8UKKZyQYHwP3vOsPFLgfA/4nS7cFaB8D9IG8bvYIHwP7DB0G5rgfA/F2jb7XWB8D9+DuZsgIHwP+W08OuKgfA/TFv7apWB8D+zAQbqn4HwPxqoEGmqgfA/gU4b6LSB8D/o9CVnv4HwP0+bMObJgfA/tkE7ZdSB8D8e6EXk3oHwP4SOUGPpgfA/7DRb4vOB8D9S22Vh/oHwP7qBcOAIgvA/ISh7XxOC8D+IzoXeHYLwP+50kF0ogvA/Vhub3DKC8D+9waVbPYLwPyRosNpHgvA/iw67WVKC8D/ytMXYXILwP1lb0FdngvA/wAHb1nGC8D8nqOVVfILwP45O8NSGgvA/9fT6U5GC8D9cmwXTm4LwP8NBEFKmgvA/K+ga0bCC8D+SjiVQu4LwP/g0MM/FgvA/X9s6TtCC8D/GgUXN2oLwPy4oUEzlgvA/lc5ay++C8D/8dGVK+oLwP2IbcMkEg/A/ysF6SA+D8D8xaIXHGYPwP5gOkEYkg/A//7SaxS6D8D9mW6VEOYPwP80BsMNDg/A/NKi6Qk6D8D+cTsXBWIPwPwL1z0Bjg/A/aZvav22D8D/QQeU+eIPwPzjo772Cg/A/n476PI2D8D8GNQW8l4PwP2zbDzuig/A/1IEauqyD8D87KCU5t4PwP6LOL7jBg/A/CXU6N8yD8D9wG0W21oPwP9fBTzXhg/A/PmhatOuD8D+lDmUz9oPwPwy1b7IAhPA/c1t6MQuE8D/aAYWwFYTwP0Gojy8ghPA/qU6ariqE8D8Q9aQtNYTwP3abr6w/hPA/3kG6K0qE8D9E6MSqVITwP6yOzylfhPA/EzXaqGmE8D962+QndITwP+GB76Z+hPA/SCj6JYmE8D+vzgSlk4TwPxZ1DySehPA/fRsao6iE8D/kwSQis4TwP0toL6G9hPA/sg46IMiE8D8atUSf0oTwP4BbTx7dhPA/6AFaneeE8D9OqGQc8oTwP7VOb5v8hPA/HfV5GgeF8D+Em4SZEYXwP+tBjxgchfA/UuiZlyaF8D+5jqQWMYXwPyA1r5U7hfA/h9u5FEaF8D/ugcSTUIXwP1UozxJbhfA/vM7ZkWWF8D8jdeQQcIXwP4ob7496hfA/8sH5DoWF8D9YaASOj4XwP78ODw2ahfA/JrUZjKSF8D+OWyQLr4XwP/UBL4q5hfA/XKg5CcSF8D/CTkSIzoXwPyn1TgfZhfA/kZtZhuOF8D/4QWQF7oXwP1/oboT4hfA/xo55AwOG8D8tNYSCDYbwP5TbjgEYhvA/+4GZgCKG8D9iKKT/LIbwP8nOrn43hvA/MHW5/UGG8D+XG8R8TIbwP//BzvtWhvA/ZmjZemGG8D/MDuT5a4bwPzO17nh2hvA/m1v594CG8D8CAgR3i4bwP2moDvaVhvA/0E4ZdaCG8D839SP0qobwP56bLnO1hvA/BUI58r+G8D9s6ENxyobwP9OOTvDUhvA/OjVZb9+G8D+h22Pu6YbwPwiCbm30hvA/cCh57P6G8D/WzoNrCYfwPz11juoTh/A/pRuZaR6H8D8LwqPoKIfwP3Normczh/A/2g655j2H8D9AtcNlSIfwP6hbzuRSh/A/DwLZY12H8D92qOPiZ4fwP91O7mFyh/A/RPX44HyH8D+rmwNgh4fwPxJCDt+Rh/A/eegYXpyH8D/gjiPdpofwP0c1Llyxh/A/rts427uH8D8VgkNaxofwP3woTtnQh/A/485YWNuH8D9KdWPX5YfwP7Ibblbwh/A/GcJ41fqH8D+AaINUBYjwP+YOjtMPiPA/TrWYUhqI8D+1W6PRJIjwPxwCrlAviPA/g6i4zzmI8D/qTsNORIjwP1H1zc1OiPA/uJvYTFmI8D8fQuPLY4jwP4bo7UpuiPA/7Y74yXiI8D9UNQNJg4jwP7zbDciNiPA/IoIYR5iI8D+JKCPGoojwP/DOLUWtiPA/WHU4xLeI8D+/G0NDwojwPybCTcLMiPA/jWhYQdeI8D/0DmPA4YjwP1u1bT/siPA/wlt4vvaI8D8pAoM9AYnwP5CojbwLifA/906YOxaJ8D9e9aK6IInwP8abrTkrifA/LEK4uDWJ8D+T6MI3QInwP/qOzbZKifA/YjXYNVWJ8D/I2+K0X4nwPzCC7TNqifA/lyj4snSJ8D/+zgIyf4nwP2V1DbGJifA/zBsYMJSJ8D8zwiKvnonwP5poLS6pifA/AQ84rbOJ8D9otUIsvonwP89bTavIifA/NgJYKtOJ8D+dqGKp3YnwPwRPbSjoifA/a/V3p/KJ8D/Sm4Im/YnwPzlCjaUHivA/oOiXJBKK8D8Hj6KjHIrwP281rSInivA/1tu3oTGK8D88gsIgPIrwP6QozZ9GivA/C8/XHlGK8D9ydeKdW4rwP9kb7RxmivA/QML3m3CK8D+naAIbe4rwPw4PDZqFivA/dbUXGZCK8D/cWyKYmorwP0MCLRelivA/qqg3lq+K8D8RT0IVuorwP3n1TJTEivA/4JtXE8+K8D9GQmKS2YrwP63obBHkivA/FY93kO6K8D98NYIP+YrwP+PbjI4Di/A/SoKXDQ6L8D+wKKKMGIvwPxjPrAsji/A/f3W3ii2L8D/mG8IJOIvwP03CzIhCi/A/tGjXB02L8D8bD+KGV4vwP4O17AVii/A/6Vv3hGyL8D9QAgIEd4vwP7eoDIOBi/A/Hk8XAoyL8D+G9SGBlovwP+2bLAChi/A/VEI3f6uL8D+66EH+tYvwPyKPTH3Ai/A/iTVX/MqL8D/w22F71YvwP1eCbPrfi/A/vih3eeqL8D8lz4H49IvwP4x1jHf/i/A/8xuX9gmM8D9awqF1FIzwP8ForPQejPA/KA+3cymM8D+PtcHyM4zwP/dbzHE+jPA/XgLX8EiM8D/EqOFvU4zwPyxP7O5djPA/k/X2bWiM8D/6mwHtcozwP2FCDGx9jPA/yOgW64eM8D8vjyFqkozwP5Y1LOmcjPA//ds2aKeM8D9kgkHnsYzwP8soTGa8jPA/Ms9W5caM8D+ZdWFk0YzwPwAcbOPbjPA/Z8J2YuaM8D/OaIHh8IzwPzYPjGD7jPA/nLWW3wWN8D8DXKFeEI3wP2oCrN0ajfA/0qi2XCWN8D85T8HbL43wP6D1y1o6jfA/B5zW2USN8D9tQuFYT43wP9Xo69dZjfA/PI/2VmSN8D+jNQHWbo3wPwrcC1V5jfA/cYIW1ION8D/YKCFTjo3wP0DPK9KYjfA/pnU2UaON8D8NHEHQrY3wP3TCS0+4jfA/22hWzsKN8D9DD2FNzY3wP6q1a8zXjfA/EVx2S+KN8D93AoHK7I3wP9+oi0n3jfA/Rk+WyAGO8D+t9aBHDI7wPxOcq8YWjvA/e0K2RSGO8D/i6MDEK47wP0mPy0M2jvA/sTXWwkCO8D8X3OBBS47wP36C68BVjvA/5Sj2P2CO8D9NzwC/ao7wP7R1Cz51jvA/GhwWvX+O8D+CwiA8io7wP+loK7uUjvA/UA82Op+O8D+3tUC5qY7wPx5cSzi0jvA/hQJWt76O8D/rqGA2yY7wP1NPa7XTjvA/uvV1NN6O8D8hnICz6I7wP4hCizLzjvA/7+iVsf2O8D9Wj6AwCI/wP7w1q68Sj/A/JNy1Lh2P8D+LgsCtJ4/wP/Ioyywyj/A/Ws/VqzyP8D/AdeAqR4/wPycc66lRj/A/j8L1KFyP8D8=",
          "dtype": "f8"
         },
         "y": {
          "bdata": "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",
          "dtype": "f8"
         }
        },
        {
         "mode": "lines",
         "name": "Broadened 1999.5μm",
         "type": "scatter",
         "x": {
          "bdata": "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",
          "dtype": "f8"
         },
         "y": {
          "bdata": "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",
          "dtype": "f8"
         }
        }
       ],
       "layout": {
        "template": {
         "data": {
          "bar": [
           {
            "error_x": {
             "color": "#2a3f5f"
            },
            "error_y": {
             "color": "#2a3f5f"
            },
            "marker": {
             "line": {
              "color": "white",
              "width": 0.5
             },
             "pattern": {
              "fillmode": "overlay",
              "size": 10,
              "solidity": 0.2
             }
            },
            "type": "bar"
           }
          ],
          "barpolar": [
           {
            "marker": {
             "line": {
              "color": "white",
              "width": 0.5
             },
             "pattern": {
              "fillmode": "overlay",
              "size": 10,
              "solidity": 0.2
             }
            },
            "type": "barpolar"
           }
          ],
          "carpet": [
           {
            "aaxis": {
             "endlinecolor": "#2a3f5f",
             "gridcolor": "#C8D4E3",
             "linecolor": "#C8D4E3",
             "minorgridcolor": "#C8D4E3",
             "startlinecolor": "#2a3f5f"
            },
            "baxis": {
             "endlinecolor": "#2a3f5f",
             "gridcolor": "#C8D4E3",
             "linecolor": "#C8D4E3",
             "minorgridcolor": "#C8D4E3",
             "startlinecolor": "#2a3f5f"
            },
            "type": "carpet"
           }
          ],
          "choropleth": [
           {
            "colorbar": {
             "outlinewidth": 0,
             "ticks": ""
            },
            "type": "choropleth"
           }
          ],
          "contour": [
           {
            "colorbar": {
             "outlinewidth": 0,
             "ticks": ""
            },
            "colorscale": [
             [
              0,
              "#0d0887"
             ],
             [
              0.1111111111111111,
              "#46039f"
             ],
             [
              0.2222222222222222,
              "#7201a8"
             ],
             [
              0.3333333333333333,
              "#9c179e"
             ],
             [
              0.4444444444444444,
              "#bd3786"
             ],
             [
              0.5555555555555556,
              "#d8576b"
             ],
             [
              0.6666666666666666,
              "#ed7953"
             ],
             [
              0.7777777777777778,
              "#fb9f3a"
             ],
             [
              0.8888888888888888,
              "#fdca26"
             ],
             [
              1,
              "#f0f921"
             ]
            ],
            "type": "contour"
           }
          ],
          "contourcarpet": [
           {
            "colorbar": {
             "outlinewidth": 0,
             "ticks": ""
            },
            "type": "contourcarpet"
           }
          ],
          "heatmap": [
           {
            "colorbar": {
             "outlinewidth": 0,
             "ticks": ""
            },
            "colorscale": [
             [
              0,
              "#0d0887"
             ],
             [
              0.1111111111111111,
              "#46039f"
             ],
             [
              0.2222222222222222,
              "#7201a8"
             ],
             [
              0.3333333333333333,
              "#9c179e"
             ],
             [
              0.4444444444444444,
              "#bd3786"
             ],
             [
              0.5555555555555556,
              "#d8576b"
             ],
             [
              0.6666666666666666,
              "#ed7953"
             ],
             [
              0.7777777777777778,
              "#fb9f3a"
             ],
             [
              0.8888888888888888,
              "#fdca26"
             ],
             [
              1,
              "#f0f921"
             ]
            ],
            "type": "heatmap"
           }
          ],
          "histogram": [
           {
            "marker": {
             "pattern": {
              "fillmode": "overlay",
              "size": 10,
              "solidity": 0.2
             }
            },
            "type": "histogram"
           }
          ],
          "histogram2d": [
           {
            "colorbar": {
             "outlinewidth": 0,
             "ticks": ""
            },
            "colorscale": [
             [
              0,
              "#0d0887"
             ],
             [
              0.1111111111111111,
              "#46039f"
             ],
             [
              0.2222222222222222,
              "#7201a8"
             ],
             [
              0.3333333333333333,
              "#9c179e"
             ],
             [
              0.4444444444444444,
              "#bd3786"
             ],
             [
              0.5555555555555556,
              "#d8576b"
             ],
             [
              0.6666666666666666,
              "#ed7953"
             ],
             [
              0.7777777777777778,
              "#fb9f3a"
             ],
             [
              0.8888888888888888,
              "#fdca26"
             ],
             [
              1,
              "#f0f921"
             ]
            ],
            "type": "histogram2d"
           }
          ],
          "histogram2dcontour": [
           {
            "colorbar": {
             "outlinewidth": 0,
             "ticks": ""
            },
            "colorscale": [
             [
              0,
              "#0d0887"
             ],
             [
              0.1111111111111111,
              "#46039f"
             ],
             [
              0.2222222222222222,
              "#7201a8"
             ],
             [
              0.3333333333333333,
              "#9c179e"
             ],
             [
              0.4444444444444444,
              "#bd3786"
             ],
             [
              0.5555555555555556,
              "#d8576b"
             ],
             [
              0.6666666666666666,
              "#ed7953"
             ],
             [
              0.7777777777777778,
              "#fb9f3a"
             ],
             [
              0.8888888888888888,
              "#fdca26"
             ],
             [
              1,
              "#f0f921"
             ]
            ],
            "type": "histogram2dcontour"
           }
          ],
          "mesh3d": [
           {
            "colorbar": {
             "outlinewidth": 0,
             "ticks": ""
            },
            "type": "mesh3d"
           }
          ],
          "parcoords": [
           {
            "line": {
             "colorbar": {
              "outlinewidth": 0,
              "ticks": ""
             }
            },
            "type": "parcoords"
           }
          ],
          "pie": [
           {
            "automargin": true,
            "type": "pie"
           }
          ],
          "scatter": [
           {
            "fillpattern": {
             "fillmode": "overlay",
             "size": 10,
             "solidity": 0.2
            },
            "type": "scatter"
           }
          ],
          "scatter3d": [
           {
            "line": {
             "colorbar": {
              "outlinewidth": 0,
              "ticks": ""
             }
            },
            "marker": {
             "colorbar": {
              "outlinewidth": 0,
              "ticks": ""
             }
            },
            "type": "scatter3d"
           }
          ],
          "scattercarpet": [
           {
            "marker": {
             "colorbar": {
              "outlinewidth": 0,
              "ticks": ""
             }
            },
            "type": "scattercarpet"
           }
          ],
          "scattergeo": [
           {
            "marker": {
             "colorbar": {
              "outlinewidth": 0,
              "ticks": ""
             }
            },
            "type": "scattergeo"
           }
          ],
          "scattergl": [
           {
            "marker": {
             "colorbar": {
              "outlinewidth": 0,
              "ticks": ""
             }
            },
            "type": "scattergl"
           }
          ],
          "scattermap": [
           {
            "marker": {
             "colorbar": {
              "outlinewidth": 0,
              "ticks": ""
             }
            },
            "type": "scattermap"
           }
          ],
          "scattermapbox": [
           {
            "marker": {
             "colorbar": {
              "outlinewidth": 0,
              "ticks": ""
             }
            },
            "type": "scattermapbox"
           }
          ],
          "scatterpolar": [
           {
            "marker": {
             "colorbar": {
              "outlinewidth": 0,
              "ticks": ""
             }
            },
            "type": "scatterpolar"
           }
          ],
          "scatterpolargl": [
           {
            "marker": {
             "colorbar": {
              "outlinewidth": 0,
              "ticks": ""
             }
            },
            "type": "scatterpolargl"
           }
          ],
          "scatterternary": [
           {
            "marker": {
             "colorbar": {
              "outlinewidth": 0,
              "ticks": ""
             }
            },
            "type": "scatterternary"
           }
          ],
          "surface": [
           {
            "colorbar": {
             "outlinewidth": 0,
             "ticks": ""
            },
            "colorscale": [
             [
              0,
              "#0d0887"
             ],
             [
              0.1111111111111111,
              "#46039f"
             ],
             [
              0.2222222222222222,
              "#7201a8"
             ],
             [
              0.3333333333333333,
              "#9c179e"
             ],
             [
              0.4444444444444444,
              "#bd3786"
             ],
             [
              0.5555555555555556,
              "#d8576b"
             ],
             [
              0.6666666666666666,
              "#ed7953"
             ],
             [
              0.7777777777777778,
              "#fb9f3a"
             ],
             [
              0.8888888888888888,
              "#fdca26"
             ],
             [
              1,
              "#f0f921"
             ]
            ],
            "type": "surface"
           }
          ],
          "table": [
           {
            "cells": {
             "fill": {
              "color": "#EBF0F8"
             },
             "line": {
              "color": "white"
             }
            },
            "header": {
             "fill": {
              "color": "#C8D4E3"
             },
             "line": {
              "color": "white"
             }
            },
            "type": "table"
           }
          ]
         },
         "layout": {
          "annotationdefaults": {
           "arrowcolor": "#2a3f5f",
           "arrowhead": 0,
           "arrowwidth": 1
          },
          "autotypenumbers": "strict",
          "coloraxis": {
           "colorbar": {
            "outlinewidth": 0,
            "ticks": ""
           }
          },
          "colorscale": {
           "diverging": [
            [
             0,
             "#8e0152"
            ],
            [
             0.1,
             "#c51b7d"
            ],
            [
             0.2,
             "#de77ae"
            ],
            [
             0.3,
             "#f1b6da"
            ],
            [
             0.4,
             "#fde0ef"
            ],
            [
             0.5,
             "#f7f7f7"
            ],
            [
             0.6,
             "#e6f5d0"
            ],
            [
             0.7,
             "#b8e186"
            ],
            [
             0.8,
             "#7fbc41"
            ],
            [
             0.9,
             "#4d9221"
            ],
            [
             1,
             "#276419"
            ]
           ],
           "sequential": [
            [
             0,
             "#0d0887"
            ],
            [
             0.1111111111111111,
             "#46039f"
            ],
            [
             0.2222222222222222,
             "#7201a8"
            ],
            [
             0.3333333333333333,
             "#9c179e"
            ],
            [
             0.4444444444444444,
             "#bd3786"
            ],
            [
             0.5555555555555556,
             "#d8576b"
            ],
            [
             0.6666666666666666,
             "#ed7953"
            ],
            [
             0.7777777777777778,
             "#fb9f3a"
            ],
            [
             0.8888888888888888,
             "#fdca26"
            ],
            [
             1,
             "#f0f921"
            ]
           ],
           "sequentialminus": [
            [
             0,
             "#0d0887"
            ],
            [
             0.1111111111111111,
             "#46039f"
            ],
            [
             0.2222222222222222,
             "#7201a8"
            ],
            [
             0.3333333333333333,
             "#9c179e"
            ],
            [
             0.4444444444444444,
             "#bd3786"
            ],
            [
             0.5555555555555556,
             "#d8576b"
            ],
            [
             0.6666666666666666,
             "#ed7953"
            ],
            [
             0.7777777777777778,
             "#fb9f3a"
            ],
            [
             0.8888888888888888,
             "#fdca26"
            ],
            [
             1,
             "#f0f921"
            ]
           ]
          },
          "colorway": [
           "#636efa",
           "#EF553B",
           "#00cc96",
           "#ab63fa",
           "#FFA15A",
           "#19d3f3",
           "#FF6692",
           "#B6E880",
           "#FF97FF",
           "#FECB52"
          ],
          "font": {
           "color": "#2a3f5f"
          },
          "geo": {
           "bgcolor": "white",
           "lakecolor": "white",
           "landcolor": "white",
           "showlakes": true,
           "showland": true,
           "subunitcolor": "#C8D4E3"
          },
          "hoverlabel": {
           "align": "left"
          },
          "hovermode": "closest",
          "mapbox": {
           "style": "light"
          },
          "paper_bgcolor": "white",
          "plot_bgcolor": "white",
          "polar": {
           "angularaxis": {
            "gridcolor": "#EBF0F8",
            "linecolor": "#EBF0F8",
            "ticks": ""
           },
           "bgcolor": "white",
           "radialaxis": {
            "gridcolor": "#EBF0F8",
            "linecolor": "#EBF0F8",
            "ticks": ""
           }
          },
          "scene": {
           "xaxis": {
            "backgroundcolor": "white",
            "gridcolor": "#DFE8F3",
            "gridwidth": 2,
            "linecolor": "#EBF0F8",
            "showbackground": true,
            "ticks": "",
            "zerolinecolor": "#EBF0F8"
           },
           "yaxis": {
            "backgroundcolor": "white",
            "gridcolor": "#DFE8F3",
            "gridwidth": 2,
            "linecolor": "#EBF0F8",
            "showbackground": true,
            "ticks": "",
            "zerolinecolor": "#EBF0F8"
           },
           "zaxis": {
            "backgroundcolor": "white",
            "gridcolor": "#DFE8F3",
            "gridwidth": 2,
            "linecolor": "#EBF0F8",
            "showbackground": true,
            "ticks": "",
            "zerolinecolor": "#EBF0F8"
           }
          },
          "shapedefaults": {
           "line": {
            "color": "#2a3f5f"
           }
          },
          "ternary": {
           "aaxis": {
            "gridcolor": "#DFE8F3",
            "linecolor": "#A2B1C6",
            "ticks": ""
           },
           "baxis": {
            "gridcolor": "#DFE8F3",
            "linecolor": "#A2B1C6",
            "ticks": ""
           },
           "bgcolor": "white",
           "caxis": {
            "gridcolor": "#DFE8F3",
            "linecolor": "#A2B1C6",
            "ticks": ""
           }
          },
          "title": {
           "x": 0.05
          },
          "xaxis": {
           "automargin": true,
           "gridcolor": "#EBF0F8",
           "linecolor": "#EBF0F8",
           "ticks": "",
           "title": {
            "standoff": 15
           },
           "zerolinecolor": "#EBF0F8",
           "zerolinewidth": 2
          },
          "yaxis": {
           "automargin": true,
           "gridcolor": "#EBF0F8",
           "linecolor": "#EBF0F8",
           "ticks": "",
           "title": {
            "standoff": 15
           },
           "zerolinecolor": "#EBF0F8",
           "zerolinewidth": 2
          }
         }
        },
        "title": {
         "text": "SHG Spectrum (Fourier Method)"
        },
        "xaxis": {
         "title": {
          "text": "Fundamental Wavelength (μm)"
         }
        },
        "yaxis": {
         "title": {
          "text": "Normalized SHG Efficiency"
         }
        }
       }
      }
     },
     "metadata": {},
     "output_type": "display_data"
    }
   ],
   "source": [
    "# physical conditions.\n",
    "design_temp = 70.0\n",
    "num_wl_points = 1000\n",
    "\n",
    "# Periodic grating\n",
    "wl_start = 1.025\n",
    "wl_end = 1.035\n",
    "num_domains = 555\n",
    "period = 7.2\n",
    "\n",
    "\n",
    "# periodic grating\n",
    "profile = grating.uniform_profile(num_domains, period, kappa_mag=999)\n",
    "wls = jnp.linspace(wl_start, wl_end, num_wl_points)\n",
    "widths_periodic, _ = grating.build(profile)\n",
    "periodic_device = DeviceConfig(length=float(jnp.sum(widths_periodic)), num_domains=widths_periodic.shape[0], kappa=1.31e-5 / (2 / jnp.pi))\n",
    "effs_periodic = calc_shg_effs(widths_periodic, wls, periodic_device, design_temp)\n",
    "\n",
    "# broadened grating\n",
    "widths_broadened = jnp.load(\"../datasets/broadened_shg_2000_555_e5.npy\")\n",
    "broadened_device = DeviceConfig(length=float(jnp.sum(widths_broadened)), num_domains=widths_broadened.shape[0], kappa=1.31e-5 / (2 / jnp.pi))\n",
    "effs_broadened = calc_shg_effs(widths_broadened, wls, broadened_device, design_temp)\n",
    "\n",
    "fig = go.Figure()\n",
    "fig.add_trace(go.Scatter(x=wls, y=effs_periodic, mode=\"lines\", name=f\"Periodic {jnp.sum(widths_periodic):.1f}μm\"))\n",
    "fig.add_trace(go.Scatter(x=wls, y=effs_broadened, mode=\"lines\", name=f\"Broadened {jnp.sum(widths_broadened):.1f}μm\"))\n",
    "fig.update_layout(\n",
    "    title=\"SHG Spectrum (Fourier Method)\",\n",
    "    xaxis_title=\"Fundamental Wavelength (μm)\",\n",
    "    yaxis_title=\"Normalized SHG Efficiency\",\n",
    "    template=\"plotly_white\",\n",
    ")\n",
    "fig.show()"
   ]
  },
  {
   "cell_type": "code",
   "execution_count": null,
   "id": "7b115136",
   "metadata": {},
   "outputs": [
    {
     "data": {
      "application/vnd.plotly.v1+json": {
       "config": {
        "plotlyServerURL": "https://plot.ly"
       },
       "data": [
        {
         "mode": "lines",
         "name": "Periodic 14983.2μm",
         "type": "scatter",
         "x": {
          "bdata": "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",
          "dtype": "f8"
         },
         "y": {
          "bdata": "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",
          "dtype": "f8"
         }
        },
        {
         "mode": "lines",
         "name": "Broadened 14979.5μm",
         "type": "scatter",
         "x": {
          "bdata": "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",
          "dtype": "f8"
         },
         "y": {
          "bdata": "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",
          "dtype": "f8"
         }
        }
       ],
       "layout": {
        "template": {
         "data": {
          "bar": [
           {
            "error_x": {
             "color": "#2a3f5f"
            },
            "error_y": {
             "color": "#2a3f5f"
            },
            "marker": {
             "line": {
              "color": "white",
              "width": 0.5
             },
             "pattern": {
              "fillmode": "overlay",
              "size": 10,
              "solidity": 0.2
             }
            },
            "type": "bar"
           }
          ],
          "barpolar": [
           {
            "marker": {
             "line": {
              "color": "white",
              "width": 0.5
             },
             "pattern": {
              "fillmode": "overlay",
              "size": 10,
              "solidity": 0.2
             }
            },
            "type": "barpolar"
           }
          ],
          "carpet": [
           {
            "aaxis": {
             "endlinecolor": "#2a3f5f",
             "gridcolor": "#C8D4E3",
             "linecolor": "#C8D4E3",
             "minorgridcolor": "#C8D4E3",
             "startlinecolor": "#2a3f5f"
            },
            "baxis": {
             "endlinecolor": "#2a3f5f",
             "gridcolor": "#C8D4E3",
             "linecolor": "#C8D4E3",
             "minorgridcolor": "#C8D4E3",
             "startlinecolor": "#2a3f5f"
            },
            "type": "carpet"
           }
          ],
          "choropleth": [
           {
            "colorbar": {
             "outlinewidth": 0,
             "ticks": ""
            },
            "type": "choropleth"
           }
          ],
          "contour": [
           {
            "colorbar": {
             "outlinewidth": 0,
             "ticks": ""
            },
            "colorscale": [
             [
              0,
              "#0d0887"
             ],
             [
              0.1111111111111111,
              "#46039f"
             ],
             [
              0.2222222222222222,
              "#7201a8"
             ],
             [
              0.3333333333333333,
              "#9c179e"
             ],
             [
              0.4444444444444444,
              "#bd3786"
             ],
             [
              0.5555555555555556,
              "#d8576b"
             ],
             [
              0.6666666666666666,
              "#ed7953"
             ],
             [
              0.7777777777777778,
              "#fb9f3a"
             ],
             [
              0.8888888888888888,
              "#fdca26"
             ],
             [
              1,
              "#f0f921"
             ]
            ],
            "type": "contour"
           }
          ],
          "contourcarpet": [
           {
            "colorbar": {
             "outlinewidth": 0,
             "ticks": ""
            },
            "type": "contourcarpet"
           }
          ],
          "heatmap": [
           {
            "colorbar": {
             "outlinewidth": 0,
             "ticks": ""
            },
            "colorscale": [
             [
              0,
              "#0d0887"
             ],
             [
              0.1111111111111111,
              "#46039f"
             ],
             [
              0.2222222222222222,
              "#7201a8"
             ],
             [
              0.3333333333333333,
              "#9c179e"
             ],
             [
              0.4444444444444444,
              "#bd3786"
             ],
             [
              0.5555555555555556,
              "#d8576b"
             ],
             [
              0.6666666666666666,
              "#ed7953"
             ],
             [
              0.7777777777777778,
              "#fb9f3a"
             ],
             [
              0.8888888888888888,
              "#fdca26"
             ],
             [
              1,
              "#f0f921"
             ]
            ],
            "type": "heatmap"
           }
          ],
          "histogram": [
           {
            "marker": {
             "pattern": {
              "fillmode": "overlay",
              "size": 10,
              "solidity": 0.2
             }
            },
            "type": "histogram"
           }
          ],
          "histogram2d": [
           {
            "colorbar": {
             "outlinewidth": 0,
             "ticks": ""
            },
            "colorscale": [
             [
              0,
              "#0d0887"
             ],
             [
              0.1111111111111111,
              "#46039f"
             ],
             [
              0.2222222222222222,
              "#7201a8"
             ],
             [
              0.3333333333333333,
              "#9c179e"
             ],
             [
              0.4444444444444444,
              "#bd3786"
             ],
             [
              0.5555555555555556,
              "#d8576b"
             ],
             [
              0.6666666666666666,
              "#ed7953"
             ],
             [
              0.7777777777777778,
              "#fb9f3a"
             ],
             [
              0.8888888888888888,
              "#fdca26"
             ],
             [
              1,
              "#f0f921"
             ]
            ],
            "type": "histogram2d"
           }
          ],
          "histogram2dcontour": [
           {
            "colorbar": {
             "outlinewidth": 0,
             "ticks": ""
            },
            "colorscale": [
             [
              0,
              "#0d0887"
             ],
             [
              0.1111111111111111,
              "#46039f"
             ],
             [
              0.2222222222222222,
              "#7201a8"
             ],
             [
              0.3333333333333333,
              "#9c179e"
             ],
             [
              0.4444444444444444,
              "#bd3786"
             ],
             [
              0.5555555555555556,
              "#d8576b"
             ],
             [
              0.6666666666666666,
              "#ed7953"
             ],
             [
              0.7777777777777778,
              "#fb9f3a"
             ],
             [
              0.8888888888888888,
              "#fdca26"
             ],
             [
              1,
              "#f0f921"
             ]
            ],
            "type": "histogram2dcontour"
           }
          ],
          "mesh3d": [
           {
            "colorbar": {
             "outlinewidth": 0,
             "ticks": ""
            },
            "type": "mesh3d"
           }
          ],
          "parcoords": [
           {
            "line": {
             "colorbar": {
              "outlinewidth": 0,
              "ticks": ""
             }
            },
            "type": "parcoords"
           }
          ],
          "pie": [
           {
            "automargin": true,
            "type": "pie"
           }
          ],
          "scatter": [
           {
            "fillpattern": {
             "fillmode": "overlay",
             "size": 10,
             "solidity": 0.2
            },
            "type": "scatter"
           }
          ],
          "scatter3d": [
           {
            "line": {
             "colorbar": {
              "outlinewidth": 0,
              "ticks": ""
             }
            },
            "marker": {
             "colorbar": {
              "outlinewidth": 0,
              "ticks": ""
             }
            },
            "type": "scatter3d"
           }
          ],
          "scattercarpet": [
           {
            "marker": {
             "colorbar": {
              "outlinewidth": 0,
              "ticks": ""
             }
            },
            "type": "scattercarpet"
           }
          ],
          "scattergeo": [
           {
            "marker": {
             "colorbar": {
              "outlinewidth": 0,
              "ticks": ""
             }
            },
            "type": "scattergeo"
           }
          ],
          "scattergl": [
           {
            "marker": {
             "colorbar": {
              "outlinewidth": 0,
              "ticks": ""
             }
            },
            "type": "scattergl"
           }
          ],
          "scattermap": [
           {
            "marker": {
             "colorbar": {
              "outlinewidth": 0,
              "ticks": ""
             }
            },
            "type": "scattermap"
           }
          ],
          "scattermapbox": [
           {
            "marker": {
             "colorbar": {
              "outlinewidth": 0,
              "ticks": ""
             }
            },
            "type": "scattermapbox"
           }
          ],
          "scatterpolar": [
           {
            "marker": {
             "colorbar": {
              "outlinewidth": 0,
              "ticks": ""
             }
            },
            "type": "scatterpolar"
           }
          ],
          "scatterpolargl": [
           {
            "marker": {
             "colorbar": {
              "outlinewidth": 0,
              "ticks": ""
             }
            },
            "type": "scatterpolargl"
           }
          ],
          "scatterternary": [
           {
            "marker": {
             "colorbar": {
              "outlinewidth": 0,
              "ticks": ""
             }
            },
            "type": "scatterternary"
           }
          ],
          "surface": [
           {
            "colorbar": {
             "outlinewidth": 0,
             "ticks": ""
            },
            "colorscale": [
             [
              0,
              "#0d0887"
             ],
             [
              0.1111111111111111,
              "#46039f"
             ],
             [
              0.2222222222222222,
              "#7201a8"
             ],
             [
              0.3333333333333333,
              "#9c179e"
             ],
             [
              0.4444444444444444,
              "#bd3786"
             ],
             [
              0.5555555555555556,
              "#d8576b"
             ],
             [
              0.6666666666666666,
              "#ed7953"
             ],
             [
              0.7777777777777778,
              "#fb9f3a"
             ],
             [
              0.8888888888888888,
              "#fdca26"
             ],
             [
              1,
              "#f0f921"
             ]
            ],
            "type": "surface"
           }
          ],
          "table": [
           {
            "cells": {
             "fill": {
              "color": "#EBF0F8"
             },
             "line": {
              "color": "white"
             }
            },
            "header": {
             "fill": {
              "color": "#C8D4E3"
             },
             "line": {
              "color": "white"
             }
            },
            "type": "table"
           }
          ]
         },
         "layout": {
          "annotationdefaults": {
           "arrowcolor": "#2a3f5f",
           "arrowhead": 0,
           "arrowwidth": 1
          },
          "autotypenumbers": "strict",
          "coloraxis": {
           "colorbar": {
            "outlinewidth": 0,
            "ticks": ""
           }
          },
          "colorscale": {
           "diverging": [
            [
             0,
             "#8e0152"
            ],
            [
             0.1,
             "#c51b7d"
            ],
            [
             0.2,
             "#de77ae"
            ],
            [
             0.3,
             "#f1b6da"
            ],
            [
             0.4,
             "#fde0ef"
            ],
            [
             0.5,
             "#f7f7f7"
            ],
            [
             0.6,
             "#e6f5d0"
            ],
            [
             0.7,
             "#b8e186"
            ],
            [
             0.8,
             "#7fbc41"
            ],
            [
             0.9,
             "#4d9221"
            ],
            [
             1,
             "#276419"
            ]
           ],
           "sequential": [
            [
             0,
             "#0d0887"
            ],
            [
             0.1111111111111111,
             "#46039f"
            ],
            [
             0.2222222222222222,
             "#7201a8"
            ],
            [
             0.3333333333333333,
             "#9c179e"
            ],
            [
             0.4444444444444444,
             "#bd3786"
            ],
            [
             0.5555555555555556,
             "#d8576b"
            ],
            [
             0.6666666666666666,
             "#ed7953"
            ],
            [
             0.7777777777777778,
             "#fb9f3a"
            ],
            [
             0.8888888888888888,
             "#fdca26"
            ],
            [
             1,
             "#f0f921"
            ]
           ],
           "sequentialminus": [
            [
             0,
             "#0d0887"
            ],
            [
             0.1111111111111111,
             "#46039f"
            ],
            [
             0.2222222222222222,
             "#7201a8"
            ],
            [
             0.3333333333333333,
             "#9c179e"
            ],
            [
             0.4444444444444444,
             "#bd3786"
            ],
            [
             0.5555555555555556,
             "#d8576b"
            ],
            [
             0.6666666666666666,
             "#ed7953"
            ],
            [
             0.7777777777777778,
             "#fb9f3a"
            ],
            [
             0.8888888888888888,
             "#fdca26"
            ],
            [
             1,
             "#f0f921"
            ]
           ]
          },
          "colorway": [
           "#636efa",
           "#EF553B",
           "#00cc96",
           "#ab63fa",
           "#FFA15A",
           "#19d3f3",
           "#FF6692",
           "#B6E880",
           "#FF97FF",
           "#FECB52"
          ],
          "font": {
           "color": "#2a3f5f"
          },
          "geo": {
           "bgcolor": "white",
           "lakecolor": "white",
           "landcolor": "white",
           "showlakes": true,
           "showland": true,
           "subunitcolor": "#C8D4E3"
          },
          "hoverlabel": {
           "align": "left"
          },
          "hovermode": "closest",
          "mapbox": {
           "style": "light"
          },
          "paper_bgcolor": "white",
          "plot_bgcolor": "white",
          "polar": {
           "angularaxis": {
            "gridcolor": "#EBF0F8",
            "linecolor": "#EBF0F8",
            "ticks": ""
           },
           "bgcolor": "white",
           "radialaxis": {
            "gridcolor": "#EBF0F8",
            "linecolor": "#EBF0F8",
            "ticks": ""
           }
          },
          "scene": {
           "xaxis": {
            "backgroundcolor": "white",
            "gridcolor": "#DFE8F3",
            "gridwidth": 2,
            "linecolor": "#EBF0F8",
            "showbackground": true,
            "ticks": "",
            "zerolinecolor": "#EBF0F8"
           },
           "yaxis": {
            "backgroundcolor": "white",
            "gridcolor": "#DFE8F3",
            "gridwidth": 2,
            "linecolor": "#EBF0F8",
            "showbackground": true,
            "ticks": "",
            "zerolinecolor": "#EBF0F8"
           },
           "zaxis": {
            "backgroundcolor": "white",
            "gridcolor": "#DFE8F3",
            "gridwidth": 2,
            "linecolor": "#EBF0F8",
            "showbackground": true,
            "ticks": "",
            "zerolinecolor": "#EBF0F8"
           }
          },
          "shapedefaults": {
           "line": {
            "color": "#2a3f5f"
           }
          },
          "ternary": {
           "aaxis": {
            "gridcolor": "#DFE8F3",
            "linecolor": "#A2B1C6",
            "ticks": ""
           },
           "baxis": {
            "gridcolor": "#DFE8F3",
            "linecolor": "#A2B1C6",
            "ticks": ""
           },
           "bgcolor": "white",
           "caxis": {
            "gridcolor": "#DFE8F3",
            "linecolor": "#A2B1C6",
            "ticks": ""
           }
          },
          "title": {
           "x": 0.05
          },
          "xaxis": {
           "automargin": true,
           "gridcolor": "#EBF0F8",
           "linecolor": "#EBF0F8",
           "ticks": "",
           "title": {
            "standoff": 15
           },
           "zerolinecolor": "#EBF0F8",
           "zerolinewidth": 2
          },
          "yaxis": {
           "automargin": true,
           "gridcolor": "#EBF0F8",
           "linecolor": "#EBF0F8",
           "ticks": "",
           "title": {
            "standoff": 15
           },
           "zerolinecolor": "#EBF0F8",
           "zerolinewidth": 2
          }
         }
        },
        "title": {
         "text": "SHG Spectrum (Fourier Method)"
        },
        "xaxis": {
         "title": {
          "text": "Fundamental Wavelength (μm)"
         }
        },
        "yaxis": {
         "title": {
          "text": "Normalized SHG Efficiency"
         }
        }
       }
      }
     },
     "metadata": {},
     "output_type": "display_data"
    }
   ],
   "source": [
    "# physical conditions.\n",
    "design_temp = 70.0\n",
    "num_wl_points = 1000\n",
    "\n",
    "# Periodic grating\n",
    "wl_start = 1.030\n",
    "wl_end = 1.032\n",
    "num_domains = 4162\n",
    "period = 7.2\n",
    "\n",
    "\n",
    "# periodic grating\n",
    "profile = grating.uniform_profile(num_domains, period, kappa_mag=999)\n",
    "wls = jnp.linspace(wl_start, wl_end, num_wl_points)\n",
    "widths_periodic, _ = grating.build(profile)\n",
    "periodic_device = DeviceConfig(length=float(jnp.sum(widths_periodic)), num_domains=widths_periodic.shape[0], kappa=1.31e-5 / (2 / jnp.pi))\n",
    "effs_periodic = calc_shg_effs(widths_periodic, wls, periodic_device, design_temp)\n",
    "\n",
    "# broadened grating\n",
    "widths_broadened = jnp.load(\"../datasets/broadened_shg_15000_4162_e5.npy\")\n",
    "broadened_device = DeviceConfig(length=float(jnp.sum(widths_broadened)), num_domains=widths_broadened.shape[0], kappa=1.31e-5 / (2 / jnp.pi))\n",
    "effs_broadened = calc_shg_effs(widths_broadened, wls, broadened_device, design_temp)\n",
    "\n",
    "fig = go.Figure()\n",
    "fig.add_trace(go.Scatter(x=wls, y=effs_periodic, mode=\"lines\", name=f\"Periodic {jnp.sum(widths_periodic):.1f}μm\"))\n",
    "fig.add_trace(go.Scatter(x=wls, y=effs_broadened, mode=\"lines\", name=f\"Broadened {jnp.sum(widths_broadened):.1f}μm\"))\n",
    "fig.update_layout(\n",
    "    title=\"SHG Spectrum (Fourier Method)\",\n",
    "    xaxis_title=\"Fundamental Wavelength (μm)\",\n",
    "    yaxis_title=\"Normalized SHG Efficiency\",\n",
    "    template=\"plotly_white\",\n",
    ")\n",
    "fig.show()"
   ]
  }
 ],
 "metadata": {
  "kernelspec": {
   "display_name": "mictlan",
   "language": "python",
   "name": "python3"
  },
  "language_info": {
   "codemirror_mode": {
    "name": "ipython",
    "version": 3
   },
   "file_extension": ".py",
   "mimetype": "text/x-python",
   "name": "python",
   "nbconvert_exporter": "python",
   "pygments_lexer": "ipython3",
   "version": "3.13.9"
  }
 },
 "nbformat": 4,
 "nbformat_minor": 5
}
