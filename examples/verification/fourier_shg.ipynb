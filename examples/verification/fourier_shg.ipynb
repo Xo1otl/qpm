{
 "cells": [
  {
   "cell_type": "code",
   "execution_count": 1,
   "id": "c2c58dc4",
   "metadata": {},
   "outputs": [],
   "source": [
    "import jax\n",
    "\n",
    "jax.config.update(\"jax_enable_x64\", val=True)"
   ]
  },
  {
   "cell_type": "code",
   "execution_count": 2,
   "id": "34caf956",
   "metadata": {},
   "outputs": [],
   "source": [
    "from dataclasses import dataclass\n",
    "from functools import partial\n",
    "\n",
    "import jax.numpy as jnp\n",
    "import plotly.graph_objects as go\n",
    "\n",
    "from qpm import grating, mgoslt\n",
    "\n",
    "NORO_FACTOR = 1.07 / 2.84 * 100\n",
    "\n",
    "\n",
    "@dataclass(frozen=True)\n",
    "class DeviceConfig:\n",
    "    length: float\n",
    "    num_domains: int\n",
    "    kappa: float\n",
    "\n",
    "\n",
    "@dataclass(frozen=True)\n",
    "class FourierConfig:\n",
    "    k_center: float\n",
    "    k_bandwidth: float\n",
    "    num_points: int\n",
    "\n",
    "\n",
    "def new_fourier_config(\n",
    "    dk_eff: jax.Array,\n",
    "    device: DeviceConfig,\n",
    "    num_points: int,\n",
    "    bw_scale: float = 1.2,\n",
    ") -> \"FourierConfig\":\n",
    "    k_norm_center = device.num_domains / 2.0\n",
    "    dk_eff_range = jnp.max(dk_eff) - jnp.min(dk_eff)\n",
    "    k_norm_bw = dk_eff_range * device.length / (2 * jnp.pi) * bw_scale\n",
    "    return FourierConfig(\n",
    "        k_center=k_norm_center,\n",
    "        k_bandwidth=float(k_norm_bw),\n",
    "        num_points=num_points,\n",
    "    )\n",
    "\n",
    "\n",
    "@partial(jax.jit, static_argnames=(\"m\", \"fft_len\"))\n",
    "def czt(x: jax.Array, m: int, fft_len: int, w: jax.Array, a: jax.Array) -> jax.Array:\n",
    "    \"\"\"Computes the Chirp Z-Transform of a signal.\"\"\"\n",
    "    n = x.shape[-1]\n",
    "    n_range = jnp.arange(n)\n",
    "    y = x * (a**-n_range) * w ** (n_range**2 / 2)\n",
    "    k_range_full = jnp.arange(-(n - 1), m)\n",
    "    h = w ** (-(k_range_full**2) / 2)\n",
    "    y_fft = jnp.fft.fft(y, n=fft_len)\n",
    "    h_fft = jnp.fft.fft(h, n=fft_len)\n",
    "    conv_result = jnp.fft.ifft(y_fft * h_fft)\n",
    "    k_range_out = jnp.arange(m)\n",
    "    final_chirp = w ** (k_range_out**2 / 2)\n",
    "    return conv_result[n - 1 : n - 1 + m] * final_chirp\n",
    "\n",
    "\n",
    "def create_alternating_signal_from_widths(widths: jax.Array, n_points: int = 8192) -> jax.Array:\n",
    "    \"\"\"\n",
    "    Generates an alternating +1/-1 signal based on an array of domain widths.\n",
    "    \"\"\"\n",
    "    num_domains = widths.shape[0]\n",
    "    alternating_values = jnp.power(-1, jnp.arange(num_domains))\n",
    "    cumulative_widths = jnp.cumsum(widths)\n",
    "    total_width = cumulative_widths[-1]\n",
    "    boundary_points = jnp.round(cumulative_widths / total_width * n_points).astype(jnp.int32)\n",
    "    boundary_points = jnp.insert(boundary_points, 0, 0)\n",
    "    boundary_points = boundary_points.at[-1].set(n_points)\n",
    "    points_per_domain = jnp.diff(boundary_points)\n",
    "    return jnp.repeat(alternating_values, points_per_domain)\n",
    "\n",
    "\n",
    "def calculate_fourier_spectrum(\n",
    "    signal: jax.Array,\n",
    "    config: FourierConfig,\n",
    ") -> tuple[jax.Array, jax.Array]:\n",
    "    \"\"\"Calculates the spectrum of a signal using CZT for a specified frequency window.\"\"\"\n",
    "    fs = signal.shape[0]\n",
    "    k_start = config.k_center - config.k_bandwidth / 2.0\n",
    "    k_end = config.k_center + config.k_bandwidth / 2.0\n",
    "    f_norm_start = k_start / fs\n",
    "    f_norm_end = k_end / fs\n",
    "    w = jnp.exp(-1j * 2 * jnp.pi * (f_norm_end - f_norm_start) / config.num_points)\n",
    "    a = jnp.exp(1j * 2 * jnp.pi * f_norm_start)\n",
    "    required_len = fs + config.num_points - 1\n",
    "    fft_len = 1 << (required_len - 1).bit_length()\n",
    "    spectrum_raw = czt(signal, m=config.num_points, fft_len=fft_len, w=w, a=a)\n",
    "    spectrum_amp_normalized = jnp.abs(spectrum_raw * 2 * jnp.pi / fs)\n",
    "    k_axis_normalized = jnp.linspace(k_start, k_end, config.num_points)\n",
    "    return k_axis_normalized, spectrum_amp_normalized\n",
    "\n",
    "\n",
    "@dataclass(frozen=True)\n",
    "class ConvParams:\n",
    "    norm_k_axis: jax.Array\n",
    "    k_center: float\n",
    "    length: float\n",
    "    kappa: float\n",
    "    dk_eff: jax.Array\n",
    "\n",
    "\n",
    "def calculate_phys_eff_spectrum(norm_spectrum_amp: jax.Array, params: ConvParams) -> jax.Array:\n",
    "    \"\"\"Converts the normalized Fourier spectrum to physical units.\"\"\"\n",
    "    k_deviation_norm = params.norm_k_axis - params.k_center\n",
    "    dk_total_phys = k_deviation_norm * (2 * jnp.pi / params.length)\n",
    "    # Convert the normalized Fourier transform (|F_norm|) to the physical one (|F_phys|)\n",
    "    # |F_phys| = (L / 2π) * |F_norm|\n",
    "    fourier_amp_phys = norm_spectrum_amp * (params.length / (2 * jnp.pi))\n",
    "    # Efficiency is proportional to |κ_d * F_phys(Δk)|^2\n",
    "    shg_efficiency = (params.kappa**2) * (fourier_amp_phys**2) * NORO_FACTOR\n",
    "    return jnp.interp(params.dk_eff, dk_total_phys, shg_efficiency)\n",
    "\n",
    "\n",
    "def plot_spectrum(wls: jax.Array, effs: jax.Array) -> None:\n",
    "    \"\"\"Plots the SHG efficiency spectrum using Plotly.\"\"\"\n",
    "    fig = go.Figure()\n",
    "    fig.add_trace(go.Scatter(x=wls, y=effs, mode=\"lines\", name=\"Fourier Method\"))\n",
    "    fig.update_layout(\n",
    "        title=\"SHG Spectrum (Fourier Method)\",\n",
    "        xaxis_title=\"Fundamental Wavelength (μm)\",\n",
    "        yaxis_title=\"Normalized SHG Efficiency\",\n",
    "        template=\"plotly_white\",\n",
    "    )\n",
    "    fig.show()\n",
    "\n",
    "\n",
    "def calc_dk_eff(dk_material: jax.Array, device: DeviceConfig) -> jax.Array:\n",
    "    \"\"\"Calculates the effective phase mismatch.\"\"\"\n",
    "    k_norm_center = device.num_domains / 2.0\n",
    "    k_g = k_norm_center * (2 * jnp.pi / device.length)\n",
    "    return dk_material - k_g\n",
    "\n",
    "\n",
    "def calc_effs(widths: jax.Array, wls: jax.Array, device: DeviceConfig, design_temp: float) -> jax.Array:\n",
    "    dk_material = mgoslt.calc_twm_delta_k(wls, wls, design_temp)\n",
    "    dk_eff = calc_dk_eff(dk_material, device)\n",
    "    signal = create_alternating_signal_from_widths(widths, 30000)\n",
    "    fourier_config = new_fourier_config(dk_eff, device, wls.shape[0])\n",
    "\n",
    "    k_ax_norm, spec_amp_norm = calculate_fourier_spectrum(signal, fourier_config)\n",
    "    conv_params = ConvParams(\n",
    "        norm_k_axis=k_ax_norm,\n",
    "        k_center=fourier_config.k_center,\n",
    "        length=device.length,\n",
    "        kappa=device.kappa,\n",
    "        dk_eff=dk_eff,\n",
    "    )\n",
    "    return calculate_phys_eff_spectrum(spec_amp_norm, conv_params)\n"
   ]
  },
  {
   "cell_type": "code",
   "execution_count": null,
   "id": "6f1bc4ae",
   "metadata": {},
   "outputs": [],
   "source": [
    "# physical conditions.\n",
    "design_temp = 70.0\n",
    "wl_start = 0.931\n",
    "wl_end = 1.066\n",
    "num_wl_points = 1000\n",
    "\n",
    "# define widths.\n",
    "num_domains = 600\n",
    "chirp_rate = 0.0001  # Chirp rate\n",
    "initial_width = 3.6  # μm\n",
    "profile = grating.tapered_profile(num_domains, initial_width, chirp_rate, 999)\n",
    "widths, _ = grating.build(profile)\n",
    "\n",
    "# calculated values from physical conditions.\n",
    "wls = jnp.linspace(wl_start, wl_end, num_wl_points)\n",
    "device = DeviceConfig(length=float(jnp.sum(widths)), num_domains=widths.shape[0], kappa=1.31e-5 / (2 / jnp.pi))\n",
    "effs = calc_effs(widths, wls, device, design_temp)\n",
    "\n",
    "plot_spectrum(wls, effs)"
   ]
  },
  {
   "cell_type": "code",
   "execution_count": null,
   "id": "e35f8461",
   "metadata": {},
   "outputs": [
    {
     "data": {
      "application/vnd.plotly.v1+json": {
       "config": {
        "plotlyServerURL": "https://plot.ly"
       },
       "data": [
        {
         "mode": "lines",
         "name": "Periodic",
         "type": "scatter",
         "x": {
          "bdata": "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",
          "dtype": "f8"
         },
         "y": {
          "bdata": "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",
          "dtype": "f8"
         }
        },
        {
         "mode": "lines",
         "name": "Broadened",
         "type": "scatter",
         "x": {
          "bdata": "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",
          "dtype": "f8"
         },
         "y": {
          "bdata": "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",
          "dtype": "f8"
         }
        }
       ],
       "layout": {
        "template": {
         "data": {
          "bar": [
           {
            "error_x": {
             "color": "#2a3f5f"
            },
            "error_y": {
             "color": "#2a3f5f"
            },
            "marker": {
             "line": {
              "color": "white",
              "width": 0.5
             },
             "pattern": {
              "fillmode": "overlay",
              "size": 10,
              "solidity": 0.2
             }
            },
            "type": "bar"
           }
          ],
          "barpolar": [
           {
            "marker": {
             "line": {
              "color": "white",
              "width": 0.5
             },
             "pattern": {
              "fillmode": "overlay",
              "size": 10,
              "solidity": 0.2
             }
            },
            "type": "barpolar"
           }
          ],
          "carpet": [
           {
            "aaxis": {
             "endlinecolor": "#2a3f5f",
             "gridcolor": "#C8D4E3",
             "linecolor": "#C8D4E3",
             "minorgridcolor": "#C8D4E3",
             "startlinecolor": "#2a3f5f"
            },
            "baxis": {
             "endlinecolor": "#2a3f5f",
             "gridcolor": "#C8D4E3",
             "linecolor": "#C8D4E3",
             "minorgridcolor": "#C8D4E3",
             "startlinecolor": "#2a3f5f"
            },
            "type": "carpet"
           }
          ],
          "choropleth": [
           {
            "colorbar": {
             "outlinewidth": 0,
             "ticks": ""
            },
            "type": "choropleth"
           }
          ],
          "contour": [
           {
            "colorbar": {
             "outlinewidth": 0,
             "ticks": ""
            },
            "colorscale": [
             [
              0,
              "#0d0887"
             ],
             [
              0.1111111111111111,
              "#46039f"
             ],
             [
              0.2222222222222222,
              "#7201a8"
             ],
             [
              0.3333333333333333,
              "#9c179e"
             ],
             [
              0.4444444444444444,
              "#bd3786"
             ],
             [
              0.5555555555555556,
              "#d8576b"
             ],
             [
              0.6666666666666666,
              "#ed7953"
             ],
             [
              0.7777777777777778,
              "#fb9f3a"
             ],
             [
              0.8888888888888888,
              "#fdca26"
             ],
             [
              1,
              "#f0f921"
             ]
            ],
            "type": "contour"
           }
          ],
          "contourcarpet": [
           {
            "colorbar": {
             "outlinewidth": 0,
             "ticks": ""
            },
            "type": "contourcarpet"
           }
          ],
          "heatmap": [
           {
            "colorbar": {
             "outlinewidth": 0,
             "ticks": ""
            },
            "colorscale": [
             [
              0,
              "#0d0887"
             ],
             [
              0.1111111111111111,
              "#46039f"
             ],
             [
              0.2222222222222222,
              "#7201a8"
             ],
             [
              0.3333333333333333,
              "#9c179e"
             ],
             [
              0.4444444444444444,
              "#bd3786"
             ],
             [
              0.5555555555555556,
              "#d8576b"
             ],
             [
              0.6666666666666666,
              "#ed7953"
             ],
             [
              0.7777777777777778,
              "#fb9f3a"
             ],
             [
              0.8888888888888888,
              "#fdca26"
             ],
             [
              1,
              "#f0f921"
             ]
            ],
            "type": "heatmap"
           }
          ],
          "histogram": [
           {
            "marker": {
             "pattern": {
              "fillmode": "overlay",
              "size": 10,
              "solidity": 0.2
             }
            },
            "type": "histogram"
           }
          ],
          "histogram2d": [
           {
            "colorbar": {
             "outlinewidth": 0,
             "ticks": ""
            },
            "colorscale": [
             [
              0,
              "#0d0887"
             ],
             [
              0.1111111111111111,
              "#46039f"
             ],
             [
              0.2222222222222222,
              "#7201a8"
             ],
             [
              0.3333333333333333,
              "#9c179e"
             ],
             [
              0.4444444444444444,
              "#bd3786"
             ],
             [
              0.5555555555555556,
              "#d8576b"
             ],
             [
              0.6666666666666666,
              "#ed7953"
             ],
             [
              0.7777777777777778,
              "#fb9f3a"
             ],
             [
              0.8888888888888888,
              "#fdca26"
             ],
             [
              1,
              "#f0f921"
             ]
            ],
            "type": "histogram2d"
           }
          ],
          "histogram2dcontour": [
           {
            "colorbar": {
             "outlinewidth": 0,
             "ticks": ""
            },
            "colorscale": [
             [
              0,
              "#0d0887"
             ],
             [
              0.1111111111111111,
              "#46039f"
             ],
             [
              0.2222222222222222,
              "#7201a8"
             ],
             [
              0.3333333333333333,
              "#9c179e"
             ],
             [
              0.4444444444444444,
              "#bd3786"
             ],
             [
              0.5555555555555556,
              "#d8576b"
             ],
             [
              0.6666666666666666,
              "#ed7953"
             ],
             [
              0.7777777777777778,
              "#fb9f3a"
             ],
             [
              0.8888888888888888,
              "#fdca26"
             ],
             [
              1,
              "#f0f921"
             ]
            ],
            "type": "histogram2dcontour"
           }
          ],
          "mesh3d": [
           {
            "colorbar": {
             "outlinewidth": 0,
             "ticks": ""
            },
            "type": "mesh3d"
           }
          ],
          "parcoords": [
           {
            "line": {
             "colorbar": {
              "outlinewidth": 0,
              "ticks": ""
             }
            },
            "type": "parcoords"
           }
          ],
          "pie": [
           {
            "automargin": true,
            "type": "pie"
           }
          ],
          "scatter": [
           {
            "fillpattern": {
             "fillmode": "overlay",
             "size": 10,
             "solidity": 0.2
            },
            "type": "scatter"
           }
          ],
          "scatter3d": [
           {
            "line": {
             "colorbar": {
              "outlinewidth": 0,
              "ticks": ""
             }
            },
            "marker": {
             "colorbar": {
              "outlinewidth": 0,
              "ticks": ""
             }
            },
            "type": "scatter3d"
           }
          ],
          "scattercarpet": [
           {
            "marker": {
             "colorbar": {
              "outlinewidth": 0,
              "ticks": ""
             }
            },
            "type": "scattercarpet"
           }
          ],
          "scattergeo": [
           {
            "marker": {
             "colorbar": {
              "outlinewidth": 0,
              "ticks": ""
             }
            },
            "type": "scattergeo"
           }
          ],
          "scattergl": [
           {
            "marker": {
             "colorbar": {
              "outlinewidth": 0,
              "ticks": ""
             }
            },
            "type": "scattergl"
           }
          ],
          "scattermap": [
           {
            "marker": {
             "colorbar": {
              "outlinewidth": 0,
              "ticks": ""
             }
            },
            "type": "scattermap"
           }
          ],
          "scattermapbox": [
           {
            "marker": {
             "colorbar": {
              "outlinewidth": 0,
              "ticks": ""
             }
            },
            "type": "scattermapbox"
           }
          ],
          "scatterpolar": [
           {
            "marker": {
             "colorbar": {
              "outlinewidth": 0,
              "ticks": ""
             }
            },
            "type": "scatterpolar"
           }
          ],
          "scatterpolargl": [
           {
            "marker": {
             "colorbar": {
              "outlinewidth": 0,
              "ticks": ""
             }
            },
            "type": "scatterpolargl"
           }
          ],
          "scatterternary": [
           {
            "marker": {
             "colorbar": {
              "outlinewidth": 0,
              "ticks": ""
             }
            },
            "type": "scatterternary"
           }
          ],
          "surface": [
           {
            "colorbar": {
             "outlinewidth": 0,
             "ticks": ""
            },
            "colorscale": [
             [
              0,
              "#0d0887"
             ],
             [
              0.1111111111111111,
              "#46039f"
             ],
             [
              0.2222222222222222,
              "#7201a8"
             ],
             [
              0.3333333333333333,
              "#9c179e"
             ],
             [
              0.4444444444444444,
              "#bd3786"
             ],
             [
              0.5555555555555556,
              "#d8576b"
             ],
             [
              0.6666666666666666,
              "#ed7953"
             ],
             [
              0.7777777777777778,
              "#fb9f3a"
             ],
             [
              0.8888888888888888,
              "#fdca26"
             ],
             [
              1,
              "#f0f921"
             ]
            ],
            "type": "surface"
           }
          ],
          "table": [
           {
            "cells": {
             "fill": {
              "color": "#EBF0F8"
             },
             "line": {
              "color": "white"
             }
            },
            "header": {
             "fill": {
              "color": "#C8D4E3"
             },
             "line": {
              "color": "white"
             }
            },
            "type": "table"
           }
          ]
         },
         "layout": {
          "annotationdefaults": {
           "arrowcolor": "#2a3f5f",
           "arrowhead": 0,
           "arrowwidth": 1
          },
          "autotypenumbers": "strict",
          "coloraxis": {
           "colorbar": {
            "outlinewidth": 0,
            "ticks": ""
           }
          },
          "colorscale": {
           "diverging": [
            [
             0,
             "#8e0152"
            ],
            [
             0.1,
             "#c51b7d"
            ],
            [
             0.2,
             "#de77ae"
            ],
            [
             0.3,
             "#f1b6da"
            ],
            [
             0.4,
             "#fde0ef"
            ],
            [
             0.5,
             "#f7f7f7"
            ],
            [
             0.6,
             "#e6f5d0"
            ],
            [
             0.7,
             "#b8e186"
            ],
            [
             0.8,
             "#7fbc41"
            ],
            [
             0.9,
             "#4d9221"
            ],
            [
             1,
             "#276419"
            ]
           ],
           "sequential": [
            [
             0,
             "#0d0887"
            ],
            [
             0.1111111111111111,
             "#46039f"
            ],
            [
             0.2222222222222222,
             "#7201a8"
            ],
            [
             0.3333333333333333,
             "#9c179e"
            ],
            [
             0.4444444444444444,
             "#bd3786"
            ],
            [
             0.5555555555555556,
             "#d8576b"
            ],
            [
             0.6666666666666666,
             "#ed7953"
            ],
            [
             0.7777777777777778,
             "#fb9f3a"
            ],
            [
             0.8888888888888888,
             "#fdca26"
            ],
            [
             1,
             "#f0f921"
            ]
           ],
           "sequentialminus": [
            [
             0,
             "#0d0887"
            ],
            [
             0.1111111111111111,
             "#46039f"
            ],
            [
             0.2222222222222222,
             "#7201a8"
            ],
            [
             0.3333333333333333,
             "#9c179e"
            ],
            [
             0.4444444444444444,
             "#bd3786"
            ],
            [
             0.5555555555555556,
             "#d8576b"
            ],
            [
             0.6666666666666666,
             "#ed7953"
            ],
            [
             0.7777777777777778,
             "#fb9f3a"
            ],
            [
             0.8888888888888888,
             "#fdca26"
            ],
            [
             1,
             "#f0f921"
            ]
           ]
          },
          "colorway": [
           "#636efa",
           "#EF553B",
           "#00cc96",
           "#ab63fa",
           "#FFA15A",
           "#19d3f3",
           "#FF6692",
           "#B6E880",
           "#FF97FF",
           "#FECB52"
          ],
          "font": {
           "color": "#2a3f5f"
          },
          "geo": {
           "bgcolor": "white",
           "lakecolor": "white",
           "landcolor": "white",
           "showlakes": true,
           "showland": true,
           "subunitcolor": "#C8D4E3"
          },
          "hoverlabel": {
           "align": "left"
          },
          "hovermode": "closest",
          "mapbox": {
           "style": "light"
          },
          "paper_bgcolor": "white",
          "plot_bgcolor": "white",
          "polar": {
           "angularaxis": {
            "gridcolor": "#EBF0F8",
            "linecolor": "#EBF0F8",
            "ticks": ""
           },
           "bgcolor": "white",
           "radialaxis": {
            "gridcolor": "#EBF0F8",
            "linecolor": "#EBF0F8",
            "ticks": ""
           }
          },
          "scene": {
           "xaxis": {
            "backgroundcolor": "white",
            "gridcolor": "#DFE8F3",
            "gridwidth": 2,
            "linecolor": "#EBF0F8",
            "showbackground": true,
            "ticks": "",
            "zerolinecolor": "#EBF0F8"
           },
           "yaxis": {
            "backgroundcolor": "white",
            "gridcolor": "#DFE8F3",
            "gridwidth": 2,
            "linecolor": "#EBF0F8",
            "showbackground": true,
            "ticks": "",
            "zerolinecolor": "#EBF0F8"
           },
           "zaxis": {
            "backgroundcolor": "white",
            "gridcolor": "#DFE8F3",
            "gridwidth": 2,
            "linecolor": "#EBF0F8",
            "showbackground": true,
            "ticks": "",
            "zerolinecolor": "#EBF0F8"
           }
          },
          "shapedefaults": {
           "line": {
            "color": "#2a3f5f"
           }
          },
          "ternary": {
           "aaxis": {
            "gridcolor": "#DFE8F3",
            "linecolor": "#A2B1C6",
            "ticks": ""
           },
           "baxis": {
            "gridcolor": "#DFE8F3",
            "linecolor": "#A2B1C6",
            "ticks": ""
           },
           "bgcolor": "white",
           "caxis": {
            "gridcolor": "#DFE8F3",
            "linecolor": "#A2B1C6",
            "ticks": ""
           }
          },
          "title": {
           "x": 0.05
          },
          "xaxis": {
           "automargin": true,
           "gridcolor": "#EBF0F8",
           "linecolor": "#EBF0F8",
           "ticks": "",
           "title": {
            "standoff": 15
           },
           "zerolinecolor": "#EBF0F8",
           "zerolinewidth": 2
          },
          "yaxis": {
           "automargin": true,
           "gridcolor": "#EBF0F8",
           "linecolor": "#EBF0F8",
           "ticks": "",
           "title": {
            "standoff": 15
           },
           "zerolinecolor": "#EBF0F8",
           "zerolinewidth": 2
          }
         }
        },
        "title": {
         "text": "SHG Spectrum (Fourier Method)"
        },
        "xaxis": {
         "title": {
          "text": "Fundamental Wavelength (μm)"
         }
        },
        "yaxis": {
         "title": {
          "text": "Normalized SHG Efficiency"
         }
        }
       }
      }
     },
     "metadata": {},
     "output_type": "display_data"
    }
   ],
   "source": [
    "# physical conditions.\n",
    "design_temp = 70.0\n",
    "num_wl_points = 1000\n",
    "\n",
    "# Periodic grating\n",
    "wl_start = 1.025\n",
    "wl_end = 1.035\n",
    "num_domains = 555\n",
    "period = 7.2\n",
    "\n",
    "# define widths.\n",
    "profile = grating.uniform_profile(num_domains, period, kappa_mag=999)\n",
    "widths_periodic, _ = grating.build(profile)\n",
    "widths_broadened = jnp.load(\"broadened_shg_2000_555.npy\")\n",
    "\n",
    "# calculated values from physical conditions.\n",
    "wls = jnp.linspace(wl_start, wl_end, num_wl_points)\n",
    "periodic_device = DeviceConfig(length=float(jnp.sum(widths_periodic)), num_domains=widths_periodic.shape[0], kappa=1.31e-5 / (2 / jnp.pi))\n",
    "broadened_device = DeviceConfig(length=float(jnp.sum(widths_broadened)), num_domains=widths_broadened.shape[0], kappa=1.31e-5 / (2 / jnp.pi))\n",
    "\n",
    "effs_periodic = calc_effs(widths_periodic, wls, periodic_device, design_temp)\n",
    "effs_broadened = calc_effs(widths_broadened, wls, broadened_device, design_temp)\n",
    "\n",
    "fig = go.Figure()\n",
    "fig.add_trace(go.Scatter(x=wls, y=effs_periodic, mode=\"lines\", name=\"Periodic\"))\n",
    "fig.add_trace(go.Scatter(x=wls, y=effs_broadened, mode=\"lines\", name=\"Broadened\"))\n",
    "fig.update_layout(\n",
    "    title=\"SHG Spectrum (Fourier Method)\",\n",
    "    xaxis_title=\"Fundamental Wavelength (μm)\",\n",
    "    yaxis_title=\"Normalized SHG Efficiency\",\n",
    "    template=\"plotly_white\",\n",
    ")\n",
    "fig.show()"
   ]
  }
 ],
 "metadata": {
  "kernelspec": {
   "display_name": ".venv",
   "language": "python",
   "name": "python3"
  },
  "language_info": {
   "codemirror_mode": {
    "name": "ipython",
    "version": 3
   },
   "file_extension": ".py",
   "mimetype": "text/x-python",
   "name": "python",
   "nbconvert_exporter": "python",
   "pygments_lexer": "ipython3",
   "version": "3.13.9"
  }
 },
 "nbformat": 4,
 "nbformat_minor": 5
}
