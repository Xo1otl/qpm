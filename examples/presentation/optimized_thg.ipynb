{
 "cells": [
  {
   "cell_type": "code",
   "execution_count": null,
   "id": "bd76c9c6",
   "metadata": {},
   "outputs": [],
   "source": [
    "import jax.numpy as jnp\n",
    "\n",
    "from qpm import cwes, mgoslt\n",
    "\n",
    "widths = jnp.load(\"optimized_widths_1000.npy\")\n",
    "kappa_vals = jnp.ones(1000) * 1.31e-4 / (2 / jnp.pi)\n",
    "delta_k1 = mgoslt.calc_twm_delta_k(wls, wls, 70.0)\n",
    "delta_k2 = mgoslt.calc_twm_delta_k(wls, wls / 2, 70.0)\n",
    "b_initial = jnp.array([1.0, 0.0, 0.0])\n",
    "cwes.simulate_twm(widths, kappa_vals, delta_k1, delta_k2, b_initial)\n"
   ]
  }
 ],
 "metadata": {
  "language_info": {
   "name": "python"
  }
 },
 "nbformat": 4,
 "nbformat_minor": 5
}
