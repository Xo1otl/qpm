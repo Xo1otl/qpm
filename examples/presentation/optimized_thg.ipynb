{
 "cells": [
  {
   "cell_type": "code",
   "execution_count": 28,
   "id": "ba66aadc",
   "metadata": {},
   "outputs": [],
   "source": [
    "import jax\n",
    "\n",
    "jax.config.update(\"jax_enable_x64\", val=True)\n",
    "NORO_FACTOR = 100 * 1.07 / 2.84"
   ]
  },
  {
   "cell_type": "code",
   "execution_count": 29,
   "id": "6d661d69",
   "metadata": {},
   "outputs": [
    {
     "name": "stdout",
     "output_type": "stream",
     "text": [
      "Total Device Length: 2300.00 µm\n",
      "---\n",
      "Optimal SHG/Total Length Ratio: 0.5026\n",
      "Optimal SHG Domains: 321\n",
      "Optimal SFG Domains: 1168\n",
      "Actual Device Length in Optimal Config: 2299.99 µm\n",
      "Max Power: 1.7450096163864338e-05\n"
     ]
    }
   ],
   "source": [
    "import jax.numpy as jnp\n",
    "from jax import jit, vmap\n",
    "\n",
    "from qpm import cwes, mgoslt\n",
    "\n",
    "\n",
    "def build_simulation_inputs(\n",
    "    total_length: float,\n",
    "    shg_domain_width: float,\n",
    "    sfg_domain_width: float,\n",
    "    max_total_domains: int,\n",
    "    kappa_mag: float,\n",
    ") -> tuple[jax.Array, jax.Array, jax.Array, jax.Array]:\n",
    "    \"\"\"Generates batched inputs for every valid SHG/SFG domain configuration.\"\"\"\n",
    "    # 1. Generate all potential domain counts\n",
    "    shg_counts = jnp.arange(jnp.floor(total_length / shg_domain_width).astype(jnp.int32) + 1)\n",
    "    sfg_counts = jnp.floor((total_length - shg_counts * shg_domain_width) / sfg_domain_width).astype(jnp.int32)\n",
    "    total_counts = shg_counts + sfg_counts\n",
    "\n",
    "    # 2. Filter for valid configurations where there's at least one domain\n",
    "    valid_mask = (sfg_counts >= 0) & (total_counts > 0)\n",
    "    shg_counts, sfg_counts, total_counts = shg_counts[valid_mask], sfg_counts[valid_mask], total_counts[valid_mask]\n",
    "\n",
    "    # 3. Build batched inputs using vectorized operations\n",
    "    domain_indices = jnp.arange(max_total_domains)\n",
    "    is_shg_domain = domain_indices < shg_counts[:, None]\n",
    "    is_sfg_domain = (domain_indices >= shg_counts[:, None]) & (domain_indices < total_counts[:, None])\n",
    "    is_active_domain = domain_indices < total_counts[:, None]\n",
    "\n",
    "    # REFACTOR: Nested jnp.where is more concise than sequential assignments.\n",
    "    batched_widths = jnp.where(is_shg_domain, shg_domain_width, jnp.where(is_sfg_domain, sfg_domain_width, 0.0))\n",
    "\n",
    "    base_kappas = kappa_mag * jnp.power(-1, domain_indices)\n",
    "    batched_kappa_vals = jnp.where(is_active_domain, base_kappas, 0.0)\n",
    "\n",
    "    return batched_widths, batched_kappa_vals, shg_counts, sfg_counts\n",
    "\n",
    "\n",
    "# --- Simulation Parameters ---\n",
    "total_length = 2.3e3  # µm\n",
    "design_wl = 1.031\n",
    "design_temp = 70.0\n",
    "kappa_mag = 1.31e-5 / (2 / jnp.pi)\n",
    "b_initial = jnp.array([1.0, 0.0, 0.0], dtype=jnp.complex128)\n",
    "\n",
    "# --- Core Logic ---\n",
    "delta_k1_design = mgoslt.calc_twm_delta_k(design_wl, design_wl, design_temp)\n",
    "delta_k2_design = mgoslt.calc_twm_delta_k(design_wl, design_wl / 2, design_temp)\n",
    "shg_domain_width = jnp.pi / delta_k1_design\n",
    "sfg_domain_width = jnp.pi / delta_k2_design\n",
    "\n",
    "# 1. Generate all inputs in a single vectorized operation\n",
    "max_total_domains = int(total_length / sfg_domain_width)\n",
    "batched_widths, batched_kappa_vals, shg_counts, sfg_counts = build_simulation_inputs(\n",
    "    total_length, shg_domain_width, sfg_domain_width, max_total_domains, kappa_mag\n",
    ")\n",
    "\n",
    "# 2. Run batched simulations\n",
    "batched_simulate = jit(vmap(cwes.simulate_twm, in_axes=(0, 0, None, None, None)))\n",
    "b_finals = batched_simulate(batched_widths, batched_kappa_vals, delta_k1_design, delta_k2_design, b_initial)\n",
    "thg_powers = jnp.abs(b_finals[:, 2]) ** 2 * NORO_FACTOR\n",
    "thg_powers.block_until_ready()\n",
    "\n",
    "# 3. Analyze and display the final results\n",
    "best_idx = jnp.argmax(thg_powers)\n",
    "max_power = thg_powers[best_idx]\n",
    "optimal_num_shg = shg_counts[best_idx]\n",
    "optimal_num_sfg = sfg_counts[best_idx]\n",
    "\n",
    "optimal_shg_length = optimal_num_shg * shg_domain_width\n",
    "optimal_sfg_length = optimal_num_sfg * sfg_domain_width\n",
    "actual_total_length = optimal_shg_length + optimal_sfg_length\n",
    "optimal_ratio = optimal_shg_length / actual_total_length\n",
    "\n",
    "print(f\"Total Device Length: {total_length:.2f} µm\")\n",
    "print(\"---\")\n",
    "print(f\"Optimal SHG/Total Length Ratio: {optimal_ratio:.4f}\")\n",
    "print(f\"Optimal SHG Domains: {optimal_num_shg}\")\n",
    "print(f\"Optimal SFG Domains: {optimal_num_sfg}\")\n",
    "print(f\"Actual Device Length in Optimal Config: {actual_total_length:.2f} µm\")\n",
    "print(f\"Max Power: {max_power}\")"
   ]
  },
  {
   "cell_type": "code",
   "execution_count": 30,
   "id": "ef84c526",
   "metadata": {},
   "outputs": [
    {
     "data": {
      "application/vnd.plotly.v1+json": {
       "config": {
        "plotlyServerURL": "https://plot.ly"
       },
       "data": [
        {
         "line": {
          "dash": "dot"
         },
         "name": "Periodic 2300.0 µm",
         "type": "scatter",
         "y": {
          "bdata": "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",
          "dtype": "f8"
         }
        },
        {
         "name": "Optimized 2300.0 µm",
         "type": "scatter",
         "y": {
          "bdata": "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",
          "dtype": "f4"
         }
        }
       ],
       "layout": {
        "template": {
         "data": {
          "bar": [
           {
            "error_x": {
             "color": "#2a3f5f"
            },
            "error_y": {
             "color": "#2a3f5f"
            },
            "marker": {
             "line": {
              "color": "white",
              "width": 0.5
             },
             "pattern": {
              "fillmode": "overlay",
              "size": 10,
              "solidity": 0.2
             }
            },
            "type": "bar"
           }
          ],
          "barpolar": [
           {
            "marker": {
             "line": {
              "color": "white",
              "width": 0.5
             },
             "pattern": {
              "fillmode": "overlay",
              "size": 10,
              "solidity": 0.2
             }
            },
            "type": "barpolar"
           }
          ],
          "carpet": [
           {
            "aaxis": {
             "endlinecolor": "#2a3f5f",
             "gridcolor": "#C8D4E3",
             "linecolor": "#C8D4E3",
             "minorgridcolor": "#C8D4E3",
             "startlinecolor": "#2a3f5f"
            },
            "baxis": {
             "endlinecolor": "#2a3f5f",
             "gridcolor": "#C8D4E3",
             "linecolor": "#C8D4E3",
             "minorgridcolor": "#C8D4E3",
             "startlinecolor": "#2a3f5f"
            },
            "type": "carpet"
           }
          ],
          "choropleth": [
           {
            "colorbar": {
             "outlinewidth": 0,
             "ticks": ""
            },
            "type": "choropleth"
           }
          ],
          "contour": [
           {
            "colorbar": {
             "outlinewidth": 0,
             "ticks": ""
            },
            "colorscale": [
             [
              0,
              "#0d0887"
             ],
             [
              0.1111111111111111,
              "#46039f"
             ],
             [
              0.2222222222222222,
              "#7201a8"
             ],
             [
              0.3333333333333333,
              "#9c179e"
             ],
             [
              0.4444444444444444,
              "#bd3786"
             ],
             [
              0.5555555555555556,
              "#d8576b"
             ],
             [
              0.6666666666666666,
              "#ed7953"
             ],
             [
              0.7777777777777778,
              "#fb9f3a"
             ],
             [
              0.8888888888888888,
              "#fdca26"
             ],
             [
              1,
              "#f0f921"
             ]
            ],
            "type": "contour"
           }
          ],
          "contourcarpet": [
           {
            "colorbar": {
             "outlinewidth": 0,
             "ticks": ""
            },
            "type": "contourcarpet"
           }
          ],
          "heatmap": [
           {
            "colorbar": {
             "outlinewidth": 0,
             "ticks": ""
            },
            "colorscale": [
             [
              0,
              "#0d0887"
             ],
             [
              0.1111111111111111,
              "#46039f"
             ],
             [
              0.2222222222222222,
              "#7201a8"
             ],
             [
              0.3333333333333333,
              "#9c179e"
             ],
             [
              0.4444444444444444,
              "#bd3786"
             ],
             [
              0.5555555555555556,
              "#d8576b"
             ],
             [
              0.6666666666666666,
              "#ed7953"
             ],
             [
              0.7777777777777778,
              "#fb9f3a"
             ],
             [
              0.8888888888888888,
              "#fdca26"
             ],
             [
              1,
              "#f0f921"
             ]
            ],
            "type": "heatmap"
           }
          ],
          "histogram": [
           {
            "marker": {
             "pattern": {
              "fillmode": "overlay",
              "size": 10,
              "solidity": 0.2
             }
            },
            "type": "histogram"
           }
          ],
          "histogram2d": [
           {
            "colorbar": {
             "outlinewidth": 0,
             "ticks": ""
            },
            "colorscale": [
             [
              0,
              "#0d0887"
             ],
             [
              0.1111111111111111,
              "#46039f"
             ],
             [
              0.2222222222222222,
              "#7201a8"
             ],
             [
              0.3333333333333333,
              "#9c179e"
             ],
             [
              0.4444444444444444,
              "#bd3786"
             ],
             [
              0.5555555555555556,
              "#d8576b"
             ],
             [
              0.6666666666666666,
              "#ed7953"
             ],
             [
              0.7777777777777778,
              "#fb9f3a"
             ],
             [
              0.8888888888888888,
              "#fdca26"
             ],
             [
              1,
              "#f0f921"
             ]
            ],
            "type": "histogram2d"
           }
          ],
          "histogram2dcontour": [
           {
            "colorbar": {
             "outlinewidth": 0,
             "ticks": ""
            },
            "colorscale": [
             [
              0,
              "#0d0887"
             ],
             [
              0.1111111111111111,
              "#46039f"
             ],
             [
              0.2222222222222222,
              "#7201a8"
             ],
             [
              0.3333333333333333,
              "#9c179e"
             ],
             [
              0.4444444444444444,
              "#bd3786"
             ],
             [
              0.5555555555555556,
              "#d8576b"
             ],
             [
              0.6666666666666666,
              "#ed7953"
             ],
             [
              0.7777777777777778,
              "#fb9f3a"
             ],
             [
              0.8888888888888888,
              "#fdca26"
             ],
             [
              1,
              "#f0f921"
             ]
            ],
            "type": "histogram2dcontour"
           }
          ],
          "mesh3d": [
           {
            "colorbar": {
             "outlinewidth": 0,
             "ticks": ""
            },
            "type": "mesh3d"
           }
          ],
          "parcoords": [
           {
            "line": {
             "colorbar": {
              "outlinewidth": 0,
              "ticks": ""
             }
            },
            "type": "parcoords"
           }
          ],
          "pie": [
           {
            "automargin": true,
            "type": "pie"
           }
          ],
          "scatter": [
           {
            "fillpattern": {
             "fillmode": "overlay",
             "size": 10,
             "solidity": 0.2
            },
            "type": "scatter"
           }
          ],
          "scatter3d": [
           {
            "line": {
             "colorbar": {
              "outlinewidth": 0,
              "ticks": ""
             }
            },
            "marker": {
             "colorbar": {
              "outlinewidth": 0,
              "ticks": ""
             }
            },
            "type": "scatter3d"
           }
          ],
          "scattercarpet": [
           {
            "marker": {
             "colorbar": {
              "outlinewidth": 0,
              "ticks": ""
             }
            },
            "type": "scattercarpet"
           }
          ],
          "scattergeo": [
           {
            "marker": {
             "colorbar": {
              "outlinewidth": 0,
              "ticks": ""
             }
            },
            "type": "scattergeo"
           }
          ],
          "scattergl": [
           {
            "marker": {
             "colorbar": {
              "outlinewidth": 0,
              "ticks": ""
             }
            },
            "type": "scattergl"
           }
          ],
          "scattermap": [
           {
            "marker": {
             "colorbar": {
              "outlinewidth": 0,
              "ticks": ""
             }
            },
            "type": "scattermap"
           }
          ],
          "scattermapbox": [
           {
            "marker": {
             "colorbar": {
              "outlinewidth": 0,
              "ticks": ""
             }
            },
            "type": "scattermapbox"
           }
          ],
          "scatterpolar": [
           {
            "marker": {
             "colorbar": {
              "outlinewidth": 0,
              "ticks": ""
             }
            },
            "type": "scatterpolar"
           }
          ],
          "scatterpolargl": [
           {
            "marker": {
             "colorbar": {
              "outlinewidth": 0,
              "ticks": ""
             }
            },
            "type": "scatterpolargl"
           }
          ],
          "scatterternary": [
           {
            "marker": {
             "colorbar": {
              "outlinewidth": 0,
              "ticks": ""
             }
            },
            "type": "scatterternary"
           }
          ],
          "surface": [
           {
            "colorbar": {
             "outlinewidth": 0,
             "ticks": ""
            },
            "colorscale": [
             [
              0,
              "#0d0887"
             ],
             [
              0.1111111111111111,
              "#46039f"
             ],
             [
              0.2222222222222222,
              "#7201a8"
             ],
             [
              0.3333333333333333,
              "#9c179e"
             ],
             [
              0.4444444444444444,
              "#bd3786"
             ],
             [
              0.5555555555555556,
              "#d8576b"
             ],
             [
              0.6666666666666666,
              "#ed7953"
             ],
             [
              0.7777777777777778,
              "#fb9f3a"
             ],
             [
              0.8888888888888888,
              "#fdca26"
             ],
             [
              1,
              "#f0f921"
             ]
            ],
            "type": "surface"
           }
          ],
          "table": [
           {
            "cells": {
             "fill": {
              "color": "#EBF0F8"
             },
             "line": {
              "color": "white"
             }
            },
            "header": {
             "fill": {
              "color": "#C8D4E3"
             },
             "line": {
              "color": "white"
             }
            },
            "type": "table"
           }
          ]
         },
         "layout": {
          "annotationdefaults": {
           "arrowcolor": "#2a3f5f",
           "arrowhead": 0,
           "arrowwidth": 1
          },
          "autotypenumbers": "strict",
          "coloraxis": {
           "colorbar": {
            "outlinewidth": 0,
            "ticks": ""
           }
          },
          "colorscale": {
           "diverging": [
            [
             0,
             "#8e0152"
            ],
            [
             0.1,
             "#c51b7d"
            ],
            [
             0.2,
             "#de77ae"
            ],
            [
             0.3,
             "#f1b6da"
            ],
            [
             0.4,
             "#fde0ef"
            ],
            [
             0.5,
             "#f7f7f7"
            ],
            [
             0.6,
             "#e6f5d0"
            ],
            [
             0.7,
             "#b8e186"
            ],
            [
             0.8,
             "#7fbc41"
            ],
            [
             0.9,
             "#4d9221"
            ],
            [
             1,
             "#276419"
            ]
           ],
           "sequential": [
            [
             0,
             "#0d0887"
            ],
            [
             0.1111111111111111,
             "#46039f"
            ],
            [
             0.2222222222222222,
             "#7201a8"
            ],
            [
             0.3333333333333333,
             "#9c179e"
            ],
            [
             0.4444444444444444,
             "#bd3786"
            ],
            [
             0.5555555555555556,
             "#d8576b"
            ],
            [
             0.6666666666666666,
             "#ed7953"
            ],
            [
             0.7777777777777778,
             "#fb9f3a"
            ],
            [
             0.8888888888888888,
             "#fdca26"
            ],
            [
             1,
             "#f0f921"
            ]
           ],
           "sequentialminus": [
            [
             0,
             "#0d0887"
            ],
            [
             0.1111111111111111,
             "#46039f"
            ],
            [
             0.2222222222222222,
             "#7201a8"
            ],
            [
             0.3333333333333333,
             "#9c179e"
            ],
            [
             0.4444444444444444,
             "#bd3786"
            ],
            [
             0.5555555555555556,
             "#d8576b"
            ],
            [
             0.6666666666666666,
             "#ed7953"
            ],
            [
             0.7777777777777778,
             "#fb9f3a"
            ],
            [
             0.8888888888888888,
             "#fdca26"
            ],
            [
             1,
             "#f0f921"
            ]
           ]
          },
          "colorway": [
           "#636efa",
           "#EF553B",
           "#00cc96",
           "#ab63fa",
           "#FFA15A",
           "#19d3f3",
           "#FF6692",
           "#B6E880",
           "#FF97FF",
           "#FECB52"
          ],
          "font": {
           "color": "#2a3f5f"
          },
          "geo": {
           "bgcolor": "white",
           "lakecolor": "white",
           "landcolor": "white",
           "showlakes": true,
           "showland": true,
           "subunitcolor": "#C8D4E3"
          },
          "hoverlabel": {
           "align": "left"
          },
          "hovermode": "closest",
          "mapbox": {
           "style": "light"
          },
          "paper_bgcolor": "white",
          "plot_bgcolor": "white",
          "polar": {
           "angularaxis": {
            "gridcolor": "#EBF0F8",
            "linecolor": "#EBF0F8",
            "ticks": ""
           },
           "bgcolor": "white",
           "radialaxis": {
            "gridcolor": "#EBF0F8",
            "linecolor": "#EBF0F8",
            "ticks": ""
           }
          },
          "scene": {
           "xaxis": {
            "backgroundcolor": "white",
            "gridcolor": "#DFE8F3",
            "gridwidth": 2,
            "linecolor": "#EBF0F8",
            "showbackground": true,
            "ticks": "",
            "zerolinecolor": "#EBF0F8"
           },
           "yaxis": {
            "backgroundcolor": "white",
            "gridcolor": "#DFE8F3",
            "gridwidth": 2,
            "linecolor": "#EBF0F8",
            "showbackground": true,
            "ticks": "",
            "zerolinecolor": "#EBF0F8"
           },
           "zaxis": {
            "backgroundcolor": "white",
            "gridcolor": "#DFE8F3",
            "gridwidth": 2,
            "linecolor": "#EBF0F8",
            "showbackground": true,
            "ticks": "",
            "zerolinecolor": "#EBF0F8"
           }
          },
          "shapedefaults": {
           "line": {
            "color": "#2a3f5f"
           }
          },
          "ternary": {
           "aaxis": {
            "gridcolor": "#DFE8F3",
            "linecolor": "#A2B1C6",
            "ticks": ""
           },
           "baxis": {
            "gridcolor": "#DFE8F3",
            "linecolor": "#A2B1C6",
            "ticks": ""
           },
           "bgcolor": "white",
           "caxis": {
            "gridcolor": "#DFE8F3",
            "linecolor": "#A2B1C6",
            "ticks": ""
           }
          },
          "title": {
           "x": 0.05
          },
          "xaxis": {
           "automargin": true,
           "gridcolor": "#EBF0F8",
           "linecolor": "#EBF0F8",
           "ticks": "",
           "title": {
            "standoff": 15
           },
           "zerolinecolor": "#EBF0F8",
           "zerolinewidth": 2
          },
          "yaxis": {
           "automargin": true,
           "gridcolor": "#EBF0F8",
           "linecolor": "#EBF0F8",
           "ticks": "",
           "title": {
            "standoff": 15
           },
           "zerolinecolor": "#EBF0F8",
           "zerolinewidth": 2
          }
         }
        },
        "title": {
         "text": "Domain Widths Comparison"
        },
        "xaxis": {
         "title": {
          "text": "Domain Index"
         }
        },
        "yaxis": {
         "title": {
          "text": "Width (μm)"
         }
        }
       }
      }
     },
     "metadata": {},
     "output_type": "display_data"
    },
    {
     "name": "stdout",
     "output_type": "stream",
     "text": [
      "321 1168\n",
      "Device length: 2299.9929122861477\n",
      "Max power / (Device length)^2: 3.2976334826955552e-12\n"
     ]
    },
    {
     "data": {
      "application/vnd.plotly.v1+json": {
       "config": {
        "plotlyServerURL": "https://plot.ly"
       },
       "data": [
        {
         "mode": "lines",
         "name": "Optimized Structure",
         "type": "scatter",
         "x": {
          "bdata": "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",
          "dtype": "f8"
         },
         "y": {
          "bdata": "HY0Y5mIcnT2nYZ3l8eWdPXUoDUGpcJ49dtidQP2znj33jD7Vg6mePesRpUvHTZ49dkoieR2enT0xaXGfSZqcPbRYSe7GRJs9rxC8kySjmT0JyhoRPbuXPa9hopoFnZU97fU2CMZUkz1yFEOxYPOQPXpUPdeKGI094+oYUBlqiD27s63UZgmEPbdCPFxYJoA918yyWa3jeT0WXueaEjh1PSzVncDspHI9uE63JBCAcj3NROOafw91PVIOCgT8lno9o/LANw2jgT3K4AkahZyHPXWKfBKrPo89sMxAbq1ClD1rinfglKyZPQpp/y+/2Z89HKzl4Zxaoz2YchQzvhOnPTYCeMZ/B6s9zIv3hWotrz0B4JYxB7ixPYqodwFh3rM9JGRXLOb9tT2r8FKQXw+4PSbBHsMRBbo9aQhiKTzXuz08KNdR2Xm9PSDlgZsD4749wYGPFU0FwD2s5bhlB3TAPZ6ZOQ7LusA9qXvOONDWwD3wL4B8GsbAPUc82bc1icA9uN+RPpkewD3kDAGc9RK/PZZ1Ypkelb09r1DKBv7Ouz0qvCwUfsi5PUn8IeaUiLc9LOFxlF4itT3Md9+gdKGyPVnoR9OVErA9ljkAb6YXqz3akQQ/ZDamPcIn5FJCoqE92kx8nADwmj19Ej3INL6TPb2XggeFu4s9V2JIQqb/gj1Inqd3/yx7PY1e1hBtmHc9v2nfdAKIez2hYWWPRpSDPfRW2ZtEPo09nQ9VTXFVlT06DDsraNidPdKqJxieBKQ9Qr2/3UfgqT3KckGJLjSwPSwuvgv6v7M99Scm10+Ftz2+pVtHrHS7PciR6qW2fL890HwYroDGwT1ya7+qksrDPdYjqTK6wcU9UxDDNiKkxz3Nn7RWu2nJPSGCRxU/C8s9iYw4G3uAzD38igBo2sXNPRhfVHI11M49qsKomJymzz2/N65bjBzQPbAzLFg3RNA9lnlWL11J0D3VpIuUWSvQPRJh6PLs1M89Gxi+9ssNzz14CJaN1QPOPShNYcWYvMw9gD4pFog6yz0Ns4Q+o4XJPbZo1EoPp8c9bb0RqQmkxT0ZqAtIforDPYHTQ+W9YME9hbucU85svj3dWIBjQCa6PZwMKzqsDLY9IoFcRIovsj3HL6dJ9VmtPVKBLKxpJac9rjEDLF3zoT0EyBY4mLObPf3r84OE95U9Oxaw85HQkj2Ft3g11leSPdTaJWD7mJQ9MicmfquNmT2o2TbraJSgPYnupgXfm6U9BTC1xXXHqz0x0agV9nuxPWvU50+biLU9qPfqYRztuT1pf12g4JS+PZ39xS7os8E9SZ8aZWUmxD1Qbm02AJjGPeAKCMhT9cg9BFbLHwE1yz0OOMIGjEvNPQ/z4F5eLM89WU0Vv0hn0D2TgmJu7RPRPRTFYGwHmdE9Fx0JGyHz0T36vMuflCDSPeNSPoNrINI9rDjmSWTy0T2t6JsYXpfRPXAwA5KIEdE9VRu3RJ5j0D15vb01DCPPPQNtW524P809UFa0hW8pyz2pRFa02ejIPVOE6OPci8Y9eRosQrMfxD12zTxnfrHBPYviKTN+oL49fxOXNoEIuj3eh6OcvLa1PcKG3d3mvrE9PaNZ5Z9trD1PQZBx30umPUeXXTx4NaE9Y9XsAtB3mj3ff59SMbuUPTlNgRfOOpE9yu++qaXLjz2PYKQ005mQPXUC58DDKpM9RHuUHO9nlz2A/kn+nQudPVKkfMqi7qE9PifGEoTDpT1x/slp0eepPTW0kjQNLq49uHiBazE+sT29HBaIsVOzPa6XbaXaTbU9yGN+UeYYtz3BjmR7VKy4PazmydE5ALo9wkk79E8Juz156dBzDMW7PbmpKHpjMLw9gLR3k59IvD3bf9BZ1BC8PRmj/Fs0i7s9ixhpgmO9uj1wRTULQq25PRIjqNaEY7g90idjoGrptj0ZfiKZdUe1PeRU1n2Pi7M9mApvJXDAsT2XT/dsGuWvPbiogjaqXKw9RVQJx7EBqT0UYkBxY+2lPU7R5UOxOKM9HitfmJr7oD35zy/xeJmePcOmCTxcgJw9veCjZkLRmz0Qw46TSKucPWBf+kwYJZ89Q0zfZaSooT2LQq0B35ukPUZ6g4Hna6g9cHeGh5cTrT1KPlz0fESxPQWBJdrKXrQ9/c22cLnOtz3SzWPZu4S7PdhzbDvfeL8905eXTc/LwT2ikP1Iu+fDPSnXLTsBBcY9zqx3S+YcyD0yYg292iPKPZJaXzb8D8w9thZ5QRLXzT1IZN9boHHPPQzZE05sa9A9qYaLi9n/0D0Wb9LMJnPRPaaNtLT0wtE9OIRP9cDt0T0xD5G+mfLRPUA6DMVI0tE9YMPNqoaL0T3o7iVqECHRPb/6k7J/k9A9q2SnlErOzz32QgjaijfOPSi4gMI3ccw9kkp3awN/yj2fBSay6WTIPQIVTIpxNMY9Rf5EXsbuwz3JvZY2IKfBPfCeGEFbxr49AUf4BLtbuj0HWEI/HTC2Pdm3Oce+WrI9RSCci/vjrT0ujZ5tzDuoPVZeHIuK7qM9xePGedY9oT0qz7jX9migPb4bqcW5sqE92Qxa3vZVpT3LjZ1m8Y2rPW0bK+zqRrI9Jjoz5e9AuD1TS17CD8S/PWHUkJRnbsQ9WxN/KlfGyT0GfWw9Gu3PPU+bs5YfZ9M9wEfBh80x1z0eG44bek3bPYU1VT4rrt89VKf3D+Ei4j18yGrIvH/kPXgKMTlT6OY9ddWinkZQ6T0GAnUwqKzrPexwicwe8u09s9ezeXAK8D3vS/JE2QTxPXR7SVrO4vE9liysnNye8j05IJWPTDXzPf4NLJHSofM9DFZEUhrh8z3CoyCanPHzPT+CDgCV0vM9T3ASoP2C8z1s0ujjSQTzPa+W5zOCWfI9f8Mc32mE8T3EMhf98InwPaTvFf6c4O49TnUlH6R27D3b+sI0euXpPUuHzY/ZPec9L5CycbiJ5D0pewOWmt3hPXp4NfmxiN49P2EoN36k2T3r1lOi6SDVPSCA1Vn1JdE9vEgs6sWGyz3/F4QfwTPGPaXwj3KqccI9rKev5LRrwD0epYi1AjzAPb5oHibo+sE976h4udK1xT2R/1KtLXXLPQU8j8V4odE9ZyXxu1yE1j0Sb0xlLF7cPWH1kRn8leE9m4CJ0vhn5T04wNdCTZ7pPeCBbPmBLO491z8j7/mE8T2UDFDbjg70PXj9HkscrPY94evZT7ZT+T3esJaDz/r7PUMq6GnOlf49yUPoB4CMAD5IpMjxIr0BPkHFd4OH1AI+bfZKqd3NAz6S2YepZ6MEPmfeY8oIUAU+gWua8+zOBT5XZnoVZhwGPi1AICV2NQY+xSUbFxUYBj6c/Yfr1sMFPmoUY2jXOQU+qTzQuM16BD5+6XTRr4oDPpPjTwzubQI+Bsbj5HwqAT4/ycVaTo7/PS0ie3dimPw9YphMY5CH+T0GBbGHuWf2PWupsHQKUPM9zzjEaD5T8D1THthiWAzrPUihjaHv6+U91FpsO+lo4T37HsPDMEHbPUsnMb+FV9U9KkywTJQq0T2mdBYNqq/NPXWXb+SGzsw9M8VD7aCnzz13VnExpAjTPZvEYZrq79c9TtlyxDNV3j36VZUbrgrjPUeY1xWTcuc9Ma/5C95J7D0+4B0I9LLwPX/Ciux/VvM92kzVVJj39T0VvuruJYz4PaT2iman/fo9rPy7VxhD/T07BF35VUr/PdK63ZFrhQA+gu/PIiBAAT4ziOb8tM8BPtrJS9sKNAI+pRIZNENtAj55JmmW/noCPuChxfXwXwI+sZSWKCcfAj69jBYIb7wBPt/pZhzPOwE+zmI3z2WiAD5ji1mAOer/PZCrJJJDcv49PGSa5erl/D1vpw12y0/7PSxkaNoCuPk9s8uOjecl+D0BXfV9JZ/2PZ43uW0LKfU9+uuKIt/G8z3EAbfpU3vyPX688NZRR/E9iQlsswYr8D0p78odV0vuPUF/0SFebOw9Katr64m16j16ytDH/CLpPRicCF3/sOc9RvoP1KBc5j2yw7HI4iLlPUabGq96A+Q9rgHiSIz74j1zO/l1QAziPRPbTjxWOOE9KBD7nN2B4D3JAlVvPd3fPQWFHxFLAN891M09BAx63j1gXK9fr1bePcLL5s9jn949r3Tydjxe3z0Zg+Rsl03gPaKdbt0yLuE9iWJpCHxT4j1l5/qd6rzjPbNIuCpaZ+U9aGqLwghR5z0DuJMISXDpPTPZ7f0Cv+s9HUl2A98v7j0i5ML44ljwPRMwcxf5m/E9e8ADCInV8j0IWPIpN/3zPUDgQ7g0BvU96WmkJ8Dm9T0eYvpRbZT2PedYJ7LEBPc91MIz/+Av9z2rYbQUFhD3PeIChuHZofY9F0xQkCvk9T1OO4OgL930PSpeZnM4lPM9iot4g1oU8j3Ve1Gik3LwPYa7otDTh+092UMOhGlG6j31hsxJzFznPaGdMBCqFuU9DVQQ6GO74z2qhti55ZjjPVhvRxz+/uQ9V1P+uCM66D09V6Vh85ntPd2HBC9rq/I9B4Tlj6LV9z36I232y2H+PV3eszwtLwM+niPVCCboBz6I0mFWSFoNPptjoYxKvxE+9oUzE7IkFT7cU6Ep29QYPh0QRBjMxBw+G+hK85NzID6FStS/KJYiPmoHCbK1wSQ+MMWhskPsJj7zAT9bIwspPt7oEJS8FSs+RNqk2lsALT40LOno5sAuPh1NN9z/JTA+4TfiwjbMMD5DXBeh204xPk3UEOcuqjE+j32E8xjaMT443G7vbtwxPs0y5KWKsDE+IGwNSvRTMT6wjaDD08cwPnoBJhbYDzA+Vlsbmv9ULj4v4Dul2D4sPv65KVd14Ck+E7aE4QBKJz7BwFyjO44kPmVIkEDHtiE+L7Bt+rK8HT5+XKMVFSYYPtDsU38o5RI+oqtMzMM6DD7PKt8c5RcEPgBpQePzc/s9IZR65NAt8z1FHCvoKhrwPTwbXCNEDfM94Z31YcDE/D0aVYfExwgHPuXzVjLa3RE+bJz7iQNoGj4gpkiRuaciPpYRzZDGTSk+Ytbi9N+ZMD4fDJHqiTQ1PkQK8YcbcDo+f8LuUuwmQD4KQDT/SmVDPrNpM0ea8kY+nT3bztTDSj6Dz2w7PNVOPqgGU6Y7j1E+Xv0Er37KUz6qt5QRmRZWPvEsTNT8a1g+bonY9PbCWj6Ma1DKLhRdPgwFD4F2Ul8+zy9IMbe6YD4fo9gcnbhhPvJrqAeJnWI+zT/B4f5jYz5Ay8ek1AVkPjrQmioRfmQ+doZ1owPIZD64AtjGouBkPsLD8w8Fw2Q+/BXagwRuZD7XXX+qKOFjPkG0HEB6HWM+WMwiNy8mYj68qaOo+f5gPprRKsGIYV8+k+ebJpCAXD5Pch6gx3NZPrpZIHSVU1Y+YrN9EBhAUz6ehgVTGVBQPmBRVG7pUUs+cJofnH7cRj5luHSc6YtDPs4FEV+joUE+LTeajstrQT4rJGM2US9DPnUw90oWMkc+SZdclJOrTT5kO2XBMW9TPmndZ4z4dFk+6Zh/QGSCYD6MthoCURRlPpEJc23Fbmo+ol3bnRVLcD7rz5SmR8dzPkS54hpFonc+5aXyx3Hdez7IiYJ0DDWAPqbqzQXCooI+pTDA78YthT6scT7mitCHPuRzgaVXhIo+c0Iu9hE7jT5BscqXouuPPsQu0lXTRZE+q4C5bSeFkj4sp+poy62TPgOl3ISAuZQ+DEh7Q7aflT6Nh8XDnlqWPgHmwUZE5JY+JjpsVs82lz7AY7RqBE6XPqbOwHovJ5c+PPskhw/Blj6Qc4llXByWPgNaSjlWPJU+YvTLw7YllD41YLa9LeCSPk3qqUoPdpE+xrJh47/njz4gDvLuhdGMPhFr8cIkyok+0m+xFt73hj5eAh9sSYOEPvo98TeLl4I+Es5yICphgT4dwjZdew2BPqH3bPGVyoE+9dx/ObzFgz4rpnBY4CuHPhlmx52zKYw+wWl+zHx1kT5vkFVbPcmVPt2QDFtcLps+XpwAnT3coD4jJ0Uex7+kPqB4enTSSqk+8/agEjqTrj4OIqTPm1KyPr0qE24XybU+FDC9u9GyuT6c6Zl+0yG+PlcafQ2gjsE+/Uy6NypWxD5XgoAb+3LHPqOtEhJt6Mo+QtpdPDy5zj5EyttXL3nRPhLU6WwzyNM+kLa1aCxQ1j4RbUFQiQ3ZPrFStDu0Bdw+qwiZxBcz3z76lNDioUzhPmE04ImoF+M+P1xc04375D4lZtToGPLmPmHTbssO++g+UMtcMTUO6z5Yt/6QkijtPiK51XUYRu8+xo7wq32u8D4UKeSWOLTxPvbyIbycsfI+u4F6vFWh8z4Q8R3O54D0Phg8o5DjTPU++7wMX60C9j5aInVFEZ72PhgYMeE6Hfc+OAI60wh+9z57EuLz0b73PhjRJZuM3vc+epXE33Pc9z4cmBpHxLj3Pu/UArwbdPc+DspHmqsP9z6kXOeyKo32PiIjaqXF7vU+zA7tgBw39T4sOBP8I2n0PvmveqkAiPM+AhaVJzeX8j7CISptN5rxPpheG9F7lPA+T7mF2dwS7z6PG88bvfjsPoSB82OZ4Oo+3jKbl/LP6D4a7Z498cvmPl1SVonE2OQ+vq5YhPT54j4ZwAtv8DPhPk0moJnTCt8+akK822bj2z7ZSBf4//LYPgzzzLTcOdY+TTGxwi260z57a86hlm3RPpkfwjnlqc4+79iWr4/eyj4cJ/sRdGzHPoPGlwPpUcQ+oWFhxNCKwT7tLeG4Phm+PtZ8uajGp7k+ZJgTvHC6tT7f7rUhpT+yPnYzsejIaa4+JqE8ROEYqT70zjF+yoakPvjbKhqRnaA+wBPv4lywmj5HECtoUEiVPsJZ+CG+9pA+UI77bKc7iz48pM03/lmGPol8+F4LFIM+i++2hllCgT7J1smujbOAPqGs1J0ROoE+xN5yz1imgj5Ys9LWq8yEPoCJMEKeeoc+gnVb1F+Gij73RKdgsMaNPtlulkk/jJA+4f5mWA8pkj4hFdX8P6yTPmV9A0EICZU+OvKHCHM2lj4CXFxNlCmXPsgFqX6S3pc+mMnSdVZSmD7xjLQmGISYPpt+MLjsdJg+Rc8Anp4nmD6ykjCyMqCXPplWw6iZ5JY+1t3bPpz6lT5ADHZWMumUPt82LVl5t5M+rcq/Vd9skj6reJmmIxCRPsTU3KOSUI8+dxE88Bt3jD6J2tL46p+JPlp/o0Jn1YY+WfNYp/4ghD61AhK83YyBPlo1e6FgN34+a2nfejqqeT7s9rXNX3t1Pur2k69DsXE+T1hofDuhbD6a3XCSOrxmPmZmhlN+qmE+r8fzmKvdWj7gRKsRLQhUPuIeojLrj00+VN/zCsP5RT7Kv4jcqCNBPsRixP8PoD0+ct/8o49wPT58XQK9cZRAPskAaychFEQ+b6lqT2/wSD5e70dP3NZOPh3yCiSxt1I+L/jgHeJAVj4eg2i5BNtZPgfi9Y9Obl0+m+QXOXxqYD5/WJIaYv9hPpwR63YxZ2M+N0qDmnudZD552cjZA5hlPpMuGsdKV2Y+xGIAmBjWZj6GgVQ0/xVnPoUdOrBoGWc+ALoWUS3iZj4WQ40FyXVmPveVxRF12WU+qNyvw98SZT5KmgT6oChkPk38AjjlIWM+h27YtxkFYj7sah9KdthgPhgrdd5vQl8+B66kJLXMXD4t/uULMVdaPpowLR9o6lc++NZ8XVONVT6z7LhlaUVTPl861ltMFVE+ieqlfXoHTj5h7+GL6iJKPgef/fmzf0Y+DqOodiYgQz5muGwgTAVAPpmqVl+xXzo+SwVOnu4/NT6Au/rNZawwPhxrLmOUSSk+vqQdgIRVIj7E71Rt8PgYPuXHh7ITCQ8+A5GV7MedAD6hWMBMSdvqPWAOWDrrRMU9fGZ0CME4qj1ky+b7asbePTpn4u9EEPc92bBOwUo/Bz6MVSIQJ1kTPpQfzfW6xRw+tCKdSgfPIz7EG/Ao7N0pPijGUqnbMDA+MHzwUASbMz5yoybWXBI3PmLhFDg5iTo+Jhk2BUDkPT7lE8aeiIRAPh3zs6OA9UE+EOgtRuM4Qz4OChRZnkREPkFBgKNVFEU+S4nftu2gRT59SF/ykOhFPpZMosZ86EU+M4SBVWGhRT5ni/SPnhVFPpoEvEsqSkQ+dZu3I91EQz5o4f9LhA5CPlKgjVzkrkA+5+TUbe5jPj78OFSPCEM7PsDsULDVDTg+0cMcAIffND4uKBUW+cYxPvsBpKjGuC0+v2Ra8FVaKD73E8N5coojPslH4rOXzR4+XR/NnRfxFz5IuQDxPo8SPpeFdRI0Sw0+AaSkh7VfCD5Zh+xIUSUGPiKLoShEWQY+UyvhHbCnCD7cvXAtXLcMPjKwmCx/DBE+sORqo/4xFD5t8rIYSZkXPp58eIGDDxs+BEqpNOplHj5/MZ0xRLsgPiGF0TDJDiI+jm7yOZAhIz4cLzeOtukjPivGXL9uYSQ+Ue05DriHJD5vTWjsoV0kPsx9n21i5yM+a3Q7zzIsIz6lFi7FhDQiPlNYpyiOCiE+A544tydyHz7tucsQ9JYcPqSBDLRXmRk+WdKba6KOFj7VDbT+2o0TPtYn9qslohA+YGthkhy8Cz4EyXcKH50GPnFb8Mrn+wE+mV5Z9QjZ+z1kvz/mXOD0PSU3fnoGSO49HqmzeMBX5T15USxiNqXdPeuE/jRlWtU9+kUQKCeI0T3UQqiuOsfRPTWrTwAmqtU9JBkhW8Sk3D2m2gxMuBjjPajv//lvz+g92v0AUdgz7z2WQUkLIvbyPZWLA50SUfY9zl8lqpuK+T1P5L2OMnn8PVvLUgb6Bf89SZv0YnuIAD7H1k667EUBPrtcIEJntgE+4Fe4xybXAT6MzHRQ36oBPoz213jdNwE+iJaZZa+HAD4o7hR/7kr/PeN3Z5SdRP09PbmpbN4Z+z1O7Dtpvur4PQQw0CRs3PY9b/IcfDQM9T0qXqGTnJPzPexvCipEh/I9cjHaS4L58T3BfISVK+/xPX7bpTO0aPI9330y77Je8z2UrP5hvsH0PRaA169dfvY9q7Dvy8B4+D0TVmQK6ZT6PV/T/JsIs/w9IySv2Va0/j1a2R78lj0APtXQFQOo9gA+MOfl3rZ6AT6m4PK8IsEBPsokiYEyxQE+Oa5vK02FAT5008OCPQMBPkyLo33mQwA+BZs6B/+d/j3so0b+gF38PczknWwV3vk9Y8DXwSI99z2q/98HP4/0PeLooeVt8vE9CE20BsH/7j3drOj2OJvqPY47jmeX3+Y9c7PM5wLs4z1wwN+8X87hPYyVn8DUleA9AOFJ3lJE4D0pIzqFONLgPbtz/+YiMuI9nBqzAC9P5D33M7IXFg3nPQPSKN2lU+o9jw5dhCAB7j1UExD7YvnwPX6wrsxYCPM9gRI50VIb9T1VLYGBYin3PQWb0LIQI/k99y6afTwD+z2ngMt2T778Pbfpe2OtUv49nNjwRP+4/z2BNEp1dHkAPpeU5Kg2/gA+meLs/lhsAT4M0n+XgcMBPvxbCSSWBQI+TU1gjekyAj4xv3BMD00CPg4rB0RHVQI+J9niZHVMAj7AbQ40ijMCPi2Q2pUoCwI+sitwvQvUAT7pLJAfj44BPunrhBDUOgE+TKJM3arYAD7wh5Cn3WgAPr836vH+1f89PyCq6Zi+/j0E8LzEyYv9PcEGek0+Pfw9EHt1S1bW+j3fGulrvlf5Pcu0qauuw/c921YkQQ4d9j35UfyFuWf0PevhOgLip/I9JsWjMKbi8D3sbuMEYjvuPVfkPCZ/vuo9YAVvmnRc5z2Ogr8qISPkPfQy3j7eIOE9YEbRjVvH3D2lHBzSdPLXPRhMNh8Z3NM99CAG+laa0D04mF/76oDMPfB4z0rDt8k9Xgsn7wbqyD3aoPHQEh3KPaBzQGjnSs09VYfDyVUw0T322w4fMqDUPTrg36oH2Ng93xgCS/vI3T3vztUNwqXhPc/AhmFTnuQ9tWTLzby35z0j3MT+g+PqPR94yxB3C+49Ej7tk2WK8D225NiEXvvxPTYLgzGTTPM9GLimo4d19D1wjRb3fXL1Pb7leYKGOvY9iNOIMbTN9j0lNi72Hyf3PQvtJoesRvc9XtY84NQt9z2Z4+/Ind32PeSiWd2GWvY9NkCtCYmo9T0OOF/8Js30Pf9U9slCzfM9DTBxi6+w8j3ZF2CTKnzxPRvS9OLmN/A9kwzbGnjS7T3KZYcBQCnrPd/HC0Oig+g9f1byirPo5T2LraZ9iV7jPQYQBsdc8OA9UE/byldD3T2gY478Ae7YPd+kYD9k49Q9xmSQtHgx0T2OIE46qK7LPUjTHI9/rsU9IeBO/DxowD3igcF3mLC3PUejusRUFbA9RWKF427roz27dUUgLk2VPQPaoDApcYE9dH7eTxSgYD3WdTsrUVNVPWaPxZBvhnk9ecHVvsgSkT2R5kGCopqgPZr7akBtOKs9G4ylLC0ZtD3OtCrPNKe7PSd5gTPNDcI9nggKYUqmxj3tN3/OM4bLPebmtLiIR9A9K+AqtsDT0j3GztHaM1fVPQDm6FC+xNc9LJSYPXMI2j1xQ7sOOx3cPbZY1G4A8d09PBIQHfZ63z1K9dbj8VfgPQnVlKaPxOA9ILU937kC4T2Ej9jg+w/hPT7nSOsq7eA9PqSltVKc4D2Zl/uzWx/gPSGkYMHP9d49yXqrW+Bl3T0=",
          "dtype": "f8"
         }
        },
        {
         "mode": "lines",
         "name": "Periodic Structure",
         "type": "scatter",
         "x": {
          "bdata": "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",
          "dtype": "f8"
         },
         "y": {
          "bdata": "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",
          "dtype": "f8"
         }
        }
       ],
       "layout": {
        "template": {
         "data": {
          "bar": [
           {
            "error_x": {
             "color": "#2a3f5f"
            },
            "error_y": {
             "color": "#2a3f5f"
            },
            "marker": {
             "line": {
              "color": "#E5ECF6",
              "width": 0.5
             },
             "pattern": {
              "fillmode": "overlay",
              "size": 10,
              "solidity": 0.2
             }
            },
            "type": "bar"
           }
          ],
          "barpolar": [
           {
            "marker": {
             "line": {
              "color": "#E5ECF6",
              "width": 0.5
             },
             "pattern": {
              "fillmode": "overlay",
              "size": 10,
              "solidity": 0.2
             }
            },
            "type": "barpolar"
           }
          ],
          "carpet": [
           {
            "aaxis": {
             "endlinecolor": "#2a3f5f",
             "gridcolor": "white",
             "linecolor": "white",
             "minorgridcolor": "white",
             "startlinecolor": "#2a3f5f"
            },
            "baxis": {
             "endlinecolor": "#2a3f5f",
             "gridcolor": "white",
             "linecolor": "white",
             "minorgridcolor": "white",
             "startlinecolor": "#2a3f5f"
            },
            "type": "carpet"
           }
          ],
          "choropleth": [
           {
            "colorbar": {
             "outlinewidth": 0,
             "ticks": ""
            },
            "type": "choropleth"
           }
          ],
          "contour": [
           {
            "colorbar": {
             "outlinewidth": 0,
             "ticks": ""
            },
            "colorscale": [
             [
              0,
              "#0d0887"
             ],
             [
              0.1111111111111111,
              "#46039f"
             ],
             [
              0.2222222222222222,
              "#7201a8"
             ],
             [
              0.3333333333333333,
              "#9c179e"
             ],
             [
              0.4444444444444444,
              "#bd3786"
             ],
             [
              0.5555555555555556,
              "#d8576b"
             ],
             [
              0.6666666666666666,
              "#ed7953"
             ],
             [
              0.7777777777777778,
              "#fb9f3a"
             ],
             [
              0.8888888888888888,
              "#fdca26"
             ],
             [
              1,
              "#f0f921"
             ]
            ],
            "type": "contour"
           }
          ],
          "contourcarpet": [
           {
            "colorbar": {
             "outlinewidth": 0,
             "ticks": ""
            },
            "type": "contourcarpet"
           }
          ],
          "heatmap": [
           {
            "colorbar": {
             "outlinewidth": 0,
             "ticks": ""
            },
            "colorscale": [
             [
              0,
              "#0d0887"
             ],
             [
              0.1111111111111111,
              "#46039f"
             ],
             [
              0.2222222222222222,
              "#7201a8"
             ],
             [
              0.3333333333333333,
              "#9c179e"
             ],
             [
              0.4444444444444444,
              "#bd3786"
             ],
             [
              0.5555555555555556,
              "#d8576b"
             ],
             [
              0.6666666666666666,
              "#ed7953"
             ],
             [
              0.7777777777777778,
              "#fb9f3a"
             ],
             [
              0.8888888888888888,
              "#fdca26"
             ],
             [
              1,
              "#f0f921"
             ]
            ],
            "type": "heatmap"
           }
          ],
          "histogram": [
           {
            "marker": {
             "pattern": {
              "fillmode": "overlay",
              "size": 10,
              "solidity": 0.2
             }
            },
            "type": "histogram"
           }
          ],
          "histogram2d": [
           {
            "colorbar": {
             "outlinewidth": 0,
             "ticks": ""
            },
            "colorscale": [
             [
              0,
              "#0d0887"
             ],
             [
              0.1111111111111111,
              "#46039f"
             ],
             [
              0.2222222222222222,
              "#7201a8"
             ],
             [
              0.3333333333333333,
              "#9c179e"
             ],
             [
              0.4444444444444444,
              "#bd3786"
             ],
             [
              0.5555555555555556,
              "#d8576b"
             ],
             [
              0.6666666666666666,
              "#ed7953"
             ],
             [
              0.7777777777777778,
              "#fb9f3a"
             ],
             [
              0.8888888888888888,
              "#fdca26"
             ],
             [
              1,
              "#f0f921"
             ]
            ],
            "type": "histogram2d"
           }
          ],
          "histogram2dcontour": [
           {
            "colorbar": {
             "outlinewidth": 0,
             "ticks": ""
            },
            "colorscale": [
             [
              0,
              "#0d0887"
             ],
             [
              0.1111111111111111,
              "#46039f"
             ],
             [
              0.2222222222222222,
              "#7201a8"
             ],
             [
              0.3333333333333333,
              "#9c179e"
             ],
             [
              0.4444444444444444,
              "#bd3786"
             ],
             [
              0.5555555555555556,
              "#d8576b"
             ],
             [
              0.6666666666666666,
              "#ed7953"
             ],
             [
              0.7777777777777778,
              "#fb9f3a"
             ],
             [
              0.8888888888888888,
              "#fdca26"
             ],
             [
              1,
              "#f0f921"
             ]
            ],
            "type": "histogram2dcontour"
           }
          ],
          "mesh3d": [
           {
            "colorbar": {
             "outlinewidth": 0,
             "ticks": ""
            },
            "type": "mesh3d"
           }
          ],
          "parcoords": [
           {
            "line": {
             "colorbar": {
              "outlinewidth": 0,
              "ticks": ""
             }
            },
            "type": "parcoords"
           }
          ],
          "pie": [
           {
            "automargin": true,
            "type": "pie"
           }
          ],
          "scatter": [
           {
            "fillpattern": {
             "fillmode": "overlay",
             "size": 10,
             "solidity": 0.2
            },
            "type": "scatter"
           }
          ],
          "scatter3d": [
           {
            "line": {
             "colorbar": {
              "outlinewidth": 0,
              "ticks": ""
             }
            },
            "marker": {
             "colorbar": {
              "outlinewidth": 0,
              "ticks": ""
             }
            },
            "type": "scatter3d"
           }
          ],
          "scattercarpet": [
           {
            "marker": {
             "colorbar": {
              "outlinewidth": 0,
              "ticks": ""
             }
            },
            "type": "scattercarpet"
           }
          ],
          "scattergeo": [
           {
            "marker": {
             "colorbar": {
              "outlinewidth": 0,
              "ticks": ""
             }
            },
            "type": "scattergeo"
           }
          ],
          "scattergl": [
           {
            "marker": {
             "colorbar": {
              "outlinewidth": 0,
              "ticks": ""
             }
            },
            "type": "scattergl"
           }
          ],
          "scattermap": [
           {
            "marker": {
             "colorbar": {
              "outlinewidth": 0,
              "ticks": ""
             }
            },
            "type": "scattermap"
           }
          ],
          "scattermapbox": [
           {
            "marker": {
             "colorbar": {
              "outlinewidth": 0,
              "ticks": ""
             }
            },
            "type": "scattermapbox"
           }
          ],
          "scatterpolar": [
           {
            "marker": {
             "colorbar": {
              "outlinewidth": 0,
              "ticks": ""
             }
            },
            "type": "scatterpolar"
           }
          ],
          "scatterpolargl": [
           {
            "marker": {
             "colorbar": {
              "outlinewidth": 0,
              "ticks": ""
             }
            },
            "type": "scatterpolargl"
           }
          ],
          "scatterternary": [
           {
            "marker": {
             "colorbar": {
              "outlinewidth": 0,
              "ticks": ""
             }
            },
            "type": "scatterternary"
           }
          ],
          "surface": [
           {
            "colorbar": {
             "outlinewidth": 0,
             "ticks": ""
            },
            "colorscale": [
             [
              0,
              "#0d0887"
             ],
             [
              0.1111111111111111,
              "#46039f"
             ],
             [
              0.2222222222222222,
              "#7201a8"
             ],
             [
              0.3333333333333333,
              "#9c179e"
             ],
             [
              0.4444444444444444,
              "#bd3786"
             ],
             [
              0.5555555555555556,
              "#d8576b"
             ],
             [
              0.6666666666666666,
              "#ed7953"
             ],
             [
              0.7777777777777778,
              "#fb9f3a"
             ],
             [
              0.8888888888888888,
              "#fdca26"
             ],
             [
              1,
              "#f0f921"
             ]
            ],
            "type": "surface"
           }
          ],
          "table": [
           {
            "cells": {
             "fill": {
              "color": "#EBF0F8"
             },
             "line": {
              "color": "white"
             }
            },
            "header": {
             "fill": {
              "color": "#C8D4E3"
             },
             "line": {
              "color": "white"
             }
            },
            "type": "table"
           }
          ]
         },
         "layout": {
          "annotationdefaults": {
           "arrowcolor": "#2a3f5f",
           "arrowhead": 0,
           "arrowwidth": 1
          },
          "autotypenumbers": "strict",
          "coloraxis": {
           "colorbar": {
            "outlinewidth": 0,
            "ticks": ""
           }
          },
          "colorscale": {
           "diverging": [
            [
             0,
             "#8e0152"
            ],
            [
             0.1,
             "#c51b7d"
            ],
            [
             0.2,
             "#de77ae"
            ],
            [
             0.3,
             "#f1b6da"
            ],
            [
             0.4,
             "#fde0ef"
            ],
            [
             0.5,
             "#f7f7f7"
            ],
            [
             0.6,
             "#e6f5d0"
            ],
            [
             0.7,
             "#b8e186"
            ],
            [
             0.8,
             "#7fbc41"
            ],
            [
             0.9,
             "#4d9221"
            ],
            [
             1,
             "#276419"
            ]
           ],
           "sequential": [
            [
             0,
             "#0d0887"
            ],
            [
             0.1111111111111111,
             "#46039f"
            ],
            [
             0.2222222222222222,
             "#7201a8"
            ],
            [
             0.3333333333333333,
             "#9c179e"
            ],
            [
             0.4444444444444444,
             "#bd3786"
            ],
            [
             0.5555555555555556,
             "#d8576b"
            ],
            [
             0.6666666666666666,
             "#ed7953"
            ],
            [
             0.7777777777777778,
             "#fb9f3a"
            ],
            [
             0.8888888888888888,
             "#fdca26"
            ],
            [
             1,
             "#f0f921"
            ]
           ],
           "sequentialminus": [
            [
             0,
             "#0d0887"
            ],
            [
             0.1111111111111111,
             "#46039f"
            ],
            [
             0.2222222222222222,
             "#7201a8"
            ],
            [
             0.3333333333333333,
             "#9c179e"
            ],
            [
             0.4444444444444444,
             "#bd3786"
            ],
            [
             0.5555555555555556,
             "#d8576b"
            ],
            [
             0.6666666666666666,
             "#ed7953"
            ],
            [
             0.7777777777777778,
             "#fb9f3a"
            ],
            [
             0.8888888888888888,
             "#fdca26"
            ],
            [
             1,
             "#f0f921"
            ]
           ]
          },
          "colorway": [
           "#636efa",
           "#EF553B",
           "#00cc96",
           "#ab63fa",
           "#FFA15A",
           "#19d3f3",
           "#FF6692",
           "#B6E880",
           "#FF97FF",
           "#FECB52"
          ],
          "font": {
           "color": "#2a3f5f"
          },
          "geo": {
           "bgcolor": "white",
           "lakecolor": "white",
           "landcolor": "#E5ECF6",
           "showlakes": true,
           "showland": true,
           "subunitcolor": "white"
          },
          "hoverlabel": {
           "align": "left"
          },
          "hovermode": "closest",
          "mapbox": {
           "style": "light"
          },
          "paper_bgcolor": "white",
          "plot_bgcolor": "#E5ECF6",
          "polar": {
           "angularaxis": {
            "gridcolor": "white",
            "linecolor": "white",
            "ticks": ""
           },
           "bgcolor": "#E5ECF6",
           "radialaxis": {
            "gridcolor": "white",
            "linecolor": "white",
            "ticks": ""
           }
          },
          "scene": {
           "xaxis": {
            "backgroundcolor": "#E5ECF6",
            "gridcolor": "white",
            "gridwidth": 2,
            "linecolor": "white",
            "showbackground": true,
            "ticks": "",
            "zerolinecolor": "white"
           },
           "yaxis": {
            "backgroundcolor": "#E5ECF6",
            "gridcolor": "white",
            "gridwidth": 2,
            "linecolor": "white",
            "showbackground": true,
            "ticks": "",
            "zerolinecolor": "white"
           },
           "zaxis": {
            "backgroundcolor": "#E5ECF6",
            "gridcolor": "white",
            "gridwidth": 2,
            "linecolor": "white",
            "showbackground": true,
            "ticks": "",
            "zerolinecolor": "white"
           }
          },
          "shapedefaults": {
           "line": {
            "color": "#2a3f5f"
           }
          },
          "ternary": {
           "aaxis": {
            "gridcolor": "white",
            "linecolor": "white",
            "ticks": ""
           },
           "baxis": {
            "gridcolor": "white",
            "linecolor": "white",
            "ticks": ""
           },
           "bgcolor": "#E5ECF6",
           "caxis": {
            "gridcolor": "white",
            "linecolor": "white",
            "ticks": ""
           }
          },
          "title": {
           "x": 0.05
          },
          "xaxis": {
           "automargin": true,
           "gridcolor": "white",
           "linecolor": "white",
           "ticks": "",
           "title": {
            "standoff": 15
           },
           "zerolinecolor": "white",
           "zerolinewidth": 2
          },
          "yaxis": {
           "automargin": true,
           "gridcolor": "white",
           "linecolor": "white",
           "ticks": "",
           "title": {
            "standoff": 15
           },
           "zerolinecolor": "white",
           "zerolinewidth": 2
          }
         }
        },
        "title": {
         "text": "Efficiency Spectrum"
        },
        "xaxis": {
         "title": {
          "text": "Wavelength (μm)"
         }
        },
        "yaxis": {
         "title": {
          "text": "Efficiency (%/W)"
         }
        }
       }
      }
     },
     "metadata": {},
     "output_type": "display_data"
    },
    {
     "name": "stdout",
     "output_type": "stream",
     "text": [
      "Device length: 2299.97314453125\n",
      "Max power / (Device length)^2: 4.30323275238301e-12\n"
     ]
    }
   ],
   "source": [
    "import jax.numpy as jnp\n",
    "import plotly.graph_objects as go\n",
    "\n",
    "batch_simulate_twm = jit(vmap(cwes.simulate_twm, in_axes=(None, None, 0, 0, None)))\n",
    "\n",
    "widths_shg = jnp.array([shg_domain_width] * int(optimal_num_shg))\n",
    "widths_sfg = jnp.array([sfg_domain_width] * int(optimal_num_sfg))\n",
    "periodical_widths = jnp.concatenate([widths_shg, widths_sfg])\n",
    "optimized_widths = jnp.load(\"../datasets/optimized_thg_2000_1489_e4.npy\")\n",
    "\n",
    "\n",
    "def plot_domain_widths(optimized_widths: jax.Array, periodic_widths: jax.Array) -> None:\n",
    "    \"\"\"Plots the domain widths before and after optimization.\"\"\"\n",
    "    fig = go.Figure()\n",
    "    fig.add_trace(go.Scatter(y=periodic_widths, name=f\"Periodic {jnp.sum(periodic_widths):.1f} µm\", line={\"dash\": \"dot\"}))\n",
    "    fig.add_trace(go.Scatter(y=optimized_widths, name=f\"Optimized {jnp.sum(optimized_widths):.1f} µm\"))\n",
    "    fig.update_layout(\n",
    "        title_text=\"Domain Widths Comparison\",\n",
    "        xaxis_title=\"Domain Index\",\n",
    "        yaxis_title=\"Width (μm)\",\n",
    "        template=\"plotly_white\",\n",
    "    )\n",
    "    fig.show()\n",
    "\n",
    "\n",
    "plot_domain_widths(optimized_widths, periodical_widths)\n",
    "\n",
    "design_wl = 1.031\n",
    "design_temp = 70.0\n",
    "kappa_mag = 1.31e-5 / (2 / jnp.pi)\n",
    "wls = jnp.linspace(1.025, 1.035, 1000)\n",
    "b_initial = jnp.array([1.0, 0.0, 0.0], dtype=jnp.complex128)\n",
    "\n",
    "delta_k1s = mgoslt.calc_twm_delta_k(wls, wls, 70.0)\n",
    "delta_k2s = mgoslt.calc_twm_delta_k(wls, wls / 2, 70.0)\n",
    "\n",
    "kappa_vals = kappa_mag * jnp.power(-1, jnp.arange(periodical_widths.shape[0]))\n",
    "b_final_periodical = batch_simulate_twm(periodical_widths, kappa_vals, delta_k1s, delta_k2s, b_initial)\n",
    "thw_powers_periodical = jnp.abs(b_final_periodical[:, 2]) ** 2 * NORO_FACTOR\n",
    "\n",
    "device_length = jnp.sum(periodical_widths)\n",
    "print(optimal_num_shg, optimal_num_sfg)\n",
    "print(f\"Device length: {device_length}\")\n",
    "print(f\"Max power / (Device length)^2: {jnp.max(thw_powers_periodical) / device_length**2}\")\n",
    "\n",
    "kappa_vals = kappa_mag * jnp.power(-1, jnp.arange(optimized_widths.shape[0]))\n",
    "b_final_optimized = batch_simulate_twm(optimized_widths, kappa_vals, delta_k1s, delta_k2s, b_initial)\n",
    "thw_powers_optimized = jnp.abs(b_final_optimized[:, 2]) ** 2 * NORO_FACTOR\n",
    "\n",
    "fig = go.Figure()\n",
    "fig.add_trace(go.Scatter(x=wls, y=thw_powers_optimized, mode=\"lines\", name=\"Optimized Structure\"))\n",
    "fig.add_trace(go.Scatter(x=wls, y=thw_powers_periodical, mode=\"lines\", name=\"Periodic Structure\"))\n",
    "fig.update_layout(\n",
    "    title_text=\"Efficiency Spectrum\",\n",
    "    xaxis_title=\"Wavelength (μm)\",\n",
    "    yaxis_title=\"Efficiency (%/W)\",\n",
    ")\n",
    "fig.show()\n",
    "\n",
    "device_length = jnp.sum(optimized_widths)\n",
    "print(f\"Device length: {device_length}\")\n",
    "print(f\"Max power / (Device length)^2: {jnp.max(thw_powers_optimized) / device_length**2}\")"
   ]
  },
  {
   "cell_type": "code",
   "execution_count": null,
   "id": "2dc23f14",
   "metadata": {},
   "outputs": [
    {
     "data": {
      "application/vnd.plotly.v1+json": {
       "config": {
        "plotlyServerURL": "https://plot.ly"
       },
       "data": [
        {
         "mode": "lines",
         "name": "FW Power",
         "type": "scatter",
         "x": {
          "bdata": "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",
          "dtype": "f8"
         },
         "y": {
          "bdata": "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",
          "dtype": "f8"
         }
        },
        {
         "mode": "lines",
         "name": "SHW Power",
         "type": "scatter",
         "x": {
          "bdata": "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",
          "dtype": "f8"
         },
         "y": {
          "bdata": "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",
          "dtype": "f8"
         }
        },
        {
         "mode": "lines",
         "name": "THW Power",
         "type": "scatter",
         "x": {
          "bdata": "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",
          "dtype": "f8"
         },
         "y": {
          "bdata": "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",
          "dtype": "f8"
         }
        }
       ],
       "layout": {
        "legend": {
         "title": {
          "text": "Wave"
         }
        },
        "template": {
         "data": {
          "bar": [
           {
            "error_x": {
             "color": "#2a3f5f"
            },
            "error_y": {
             "color": "#2a3f5f"
            },
            "marker": {
             "line": {
              "color": "white",
              "width": 0.5
             },
             "pattern": {
              "fillmode": "overlay",
              "size": 10,
              "solidity": 0.2
             }
            },
            "type": "bar"
           }
          ],
          "barpolar": [
           {
            "marker": {
             "line": {
              "color": "white",
              "width": 0.5
             },
             "pattern": {
              "fillmode": "overlay",
              "size": 10,
              "solidity": 0.2
             }
            },
            "type": "barpolar"
           }
          ],
          "carpet": [
           {
            "aaxis": {
             "endlinecolor": "#2a3f5f",
             "gridcolor": "#C8D4E3",
             "linecolor": "#C8D4E3",
             "minorgridcolor": "#C8D4E3",
             "startlinecolor": "#2a3f5f"
            },
            "baxis": {
             "endlinecolor": "#2a3f5f",
             "gridcolor": "#C8D4E3",
             "linecolor": "#C8D4E3",
             "minorgridcolor": "#C8D4E3",
             "startlinecolor": "#2a3f5f"
            },
            "type": "carpet"
           }
          ],
          "choropleth": [
           {
            "colorbar": {
             "outlinewidth": 0,
             "ticks": ""
            },
            "type": "choropleth"
           }
          ],
          "contour": [
           {
            "colorbar": {
             "outlinewidth": 0,
             "ticks": ""
            },
            "colorscale": [
             [
              0,
              "#0d0887"
             ],
             [
              0.1111111111111111,
              "#46039f"
             ],
             [
              0.2222222222222222,
              "#7201a8"
             ],
             [
              0.3333333333333333,
              "#9c179e"
             ],
             [
              0.4444444444444444,
              "#bd3786"
             ],
             [
              0.5555555555555556,
              "#d8576b"
             ],
             [
              0.6666666666666666,
              "#ed7953"
             ],
             [
              0.7777777777777778,
              "#fb9f3a"
             ],
             [
              0.8888888888888888,
              "#fdca26"
             ],
             [
              1,
              "#f0f921"
             ]
            ],
            "type": "contour"
           }
          ],
          "contourcarpet": [
           {
            "colorbar": {
             "outlinewidth": 0,
             "ticks": ""
            },
            "type": "contourcarpet"
           }
          ],
          "heatmap": [
           {
            "colorbar": {
             "outlinewidth": 0,
             "ticks": ""
            },
            "colorscale": [
             [
              0,
              "#0d0887"
             ],
             [
              0.1111111111111111,
              "#46039f"
             ],
             [
              0.2222222222222222,
              "#7201a8"
             ],
             [
              0.3333333333333333,
              "#9c179e"
             ],
             [
              0.4444444444444444,
              "#bd3786"
             ],
             [
              0.5555555555555556,
              "#d8576b"
             ],
             [
              0.6666666666666666,
              "#ed7953"
             ],
             [
              0.7777777777777778,
              "#fb9f3a"
             ],
             [
              0.8888888888888888,
              "#fdca26"
             ],
             [
              1,
              "#f0f921"
             ]
            ],
            "type": "heatmap"
           }
          ],
          "histogram": [
           {
            "marker": {
             "pattern": {
              "fillmode": "overlay",
              "size": 10,
              "solidity": 0.2
             }
            },
            "type": "histogram"
           }
          ],
          "histogram2d": [
           {
            "colorbar": {
             "outlinewidth": 0,
             "ticks": ""
            },
            "colorscale": [
             [
              0,
              "#0d0887"
             ],
             [
              0.1111111111111111,
              "#46039f"
             ],
             [
              0.2222222222222222,
              "#7201a8"
             ],
             [
              0.3333333333333333,
              "#9c179e"
             ],
             [
              0.4444444444444444,
              "#bd3786"
             ],
             [
              0.5555555555555556,
              "#d8576b"
             ],
             [
              0.6666666666666666,
              "#ed7953"
             ],
             [
              0.7777777777777778,
              "#fb9f3a"
             ],
             [
              0.8888888888888888,
              "#fdca26"
             ],
             [
              1,
              "#f0f921"
             ]
            ],
            "type": "histogram2d"
           }
          ],
          "histogram2dcontour": [
           {
            "colorbar": {
             "outlinewidth": 0,
             "ticks": ""
            },
            "colorscale": [
             [
              0,
              "#0d0887"
             ],
             [
              0.1111111111111111,
              "#46039f"
             ],
             [
              0.2222222222222222,
              "#7201a8"
             ],
             [
              0.3333333333333333,
              "#9c179e"
             ],
             [
              0.4444444444444444,
              "#bd3786"
             ],
             [
              0.5555555555555556,
              "#d8576b"
             ],
             [
              0.6666666666666666,
              "#ed7953"
             ],
             [
              0.7777777777777778,
              "#fb9f3a"
             ],
             [
              0.8888888888888888,
              "#fdca26"
             ],
             [
              1,
              "#f0f921"
             ]
            ],
            "type": "histogram2dcontour"
           }
          ],
          "mesh3d": [
           {
            "colorbar": {
             "outlinewidth": 0,
             "ticks": ""
            },
            "type": "mesh3d"
           }
          ],
          "parcoords": [
           {
            "line": {
             "colorbar": {
              "outlinewidth": 0,
              "ticks": ""
             }
            },
            "type": "parcoords"
           }
          ],
          "pie": [
           {
            "automargin": true,
            "type": "pie"
           }
          ],
          "scatter": [
           {
            "fillpattern": {
             "fillmode": "overlay",
             "size": 10,
             "solidity": 0.2
            },
            "type": "scatter"
           }
          ],
          "scatter3d": [
           {
            "line": {
             "colorbar": {
              "outlinewidth": 0,
              "ticks": ""
             }
            },
            "marker": {
             "colorbar": {
              "outlinewidth": 0,
              "ticks": ""
             }
            },
            "type": "scatter3d"
           }
          ],
          "scattercarpet": [
           {
            "marker": {
             "colorbar": {
              "outlinewidth": 0,
              "ticks": ""
             }
            },
            "type": "scattercarpet"
           }
          ],
          "scattergeo": [
           {
            "marker": {
             "colorbar": {
              "outlinewidth": 0,
              "ticks": ""
             }
            },
            "type": "scattergeo"
           }
          ],
          "scattergl": [
           {
            "marker": {
             "colorbar": {
              "outlinewidth": 0,
              "ticks": ""
             }
            },
            "type": "scattergl"
           }
          ],
          "scattermap": [
           {
            "marker": {
             "colorbar": {
              "outlinewidth": 0,
              "ticks": ""
             }
            },
            "type": "scattermap"
           }
          ],
          "scattermapbox": [
           {
            "marker": {
             "colorbar": {
              "outlinewidth": 0,
              "ticks": ""
             }
            },
            "type": "scattermapbox"
           }
          ],
          "scatterpolar": [
           {
            "marker": {
             "colorbar": {
              "outlinewidth": 0,
              "ticks": ""
             }
            },
            "type": "scatterpolar"
           }
          ],
          "scatterpolargl": [
           {
            "marker": {
             "colorbar": {
              "outlinewidth": 0,
              "ticks": ""
             }
            },
            "type": "scatterpolargl"
           }
          ],
          "scatterternary": [
           {
            "marker": {
             "colorbar": {
              "outlinewidth": 0,
              "ticks": ""
             }
            },
            "type": "scatterternary"
           }
          ],
          "surface": [
           {
            "colorbar": {
             "outlinewidth": 0,
             "ticks": ""
            },
            "colorscale": [
             [
              0,
              "#0d0887"
             ],
             [
              0.1111111111111111,
              "#46039f"
             ],
             [
              0.2222222222222222,
              "#7201a8"
             ],
             [
              0.3333333333333333,
              "#9c179e"
             ],
             [
              0.4444444444444444,
              "#bd3786"
             ],
             [
              0.5555555555555556,
              "#d8576b"
             ],
             [
              0.6666666666666666,
              "#ed7953"
             ],
             [
              0.7777777777777778,
              "#fb9f3a"
             ],
             [
              0.8888888888888888,
              "#fdca26"
             ],
             [
              1,
              "#f0f921"
             ]
            ],
            "type": "surface"
           }
          ],
          "table": [
           {
            "cells": {
             "fill": {
              "color": "#EBF0F8"
             },
             "line": {
              "color": "white"
             }
            },
            "header": {
             "fill": {
              "color": "#C8D4E3"
             },
             "line": {
              "color": "white"
             }
            },
            "type": "table"
           }
          ]
         },
         "layout": {
          "annotationdefaults": {
           "arrowcolor": "#2a3f5f",
           "arrowhead": 0,
           "arrowwidth": 1
          },
          "autotypenumbers": "strict",
          "coloraxis": {
           "colorbar": {
            "outlinewidth": 0,
            "ticks": ""
           }
          },
          "colorscale": {
           "diverging": [
            [
             0,
             "#8e0152"
            ],
            [
             0.1,
             "#c51b7d"
            ],
            [
             0.2,
             "#de77ae"
            ],
            [
             0.3,
             "#f1b6da"
            ],
            [
             0.4,
             "#fde0ef"
            ],
            [
             0.5,
             "#f7f7f7"
            ],
            [
             0.6,
             "#e6f5d0"
            ],
            [
             0.7,
             "#b8e186"
            ],
            [
             0.8,
             "#7fbc41"
            ],
            [
             0.9,
             "#4d9221"
            ],
            [
             1,
             "#276419"
            ]
           ],
           "sequential": [
            [
             0,
             "#0d0887"
            ],
            [
             0.1111111111111111,
             "#46039f"
            ],
            [
             0.2222222222222222,
             "#7201a8"
            ],
            [
             0.3333333333333333,
             "#9c179e"
            ],
            [
             0.4444444444444444,
             "#bd3786"
            ],
            [
             0.5555555555555556,
             "#d8576b"
            ],
            [
             0.6666666666666666,
             "#ed7953"
            ],
            [
             0.7777777777777778,
             "#fb9f3a"
            ],
            [
             0.8888888888888888,
             "#fdca26"
            ],
            [
             1,
             "#f0f921"
            ]
           ],
           "sequentialminus": [
            [
             0,
             "#0d0887"
            ],
            [
             0.1111111111111111,
             "#46039f"
            ],
            [
             0.2222222222222222,
             "#7201a8"
            ],
            [
             0.3333333333333333,
             "#9c179e"
            ],
            [
             0.4444444444444444,
             "#bd3786"
            ],
            [
             0.5555555555555556,
             "#d8576b"
            ],
            [
             0.6666666666666666,
             "#ed7953"
            ],
            [
             0.7777777777777778,
             "#fb9f3a"
            ],
            [
             0.8888888888888888,
             "#fdca26"
            ],
            [
             1,
             "#f0f921"
            ]
           ]
          },
          "colorway": [
           "#636efa",
           "#EF553B",
           "#00cc96",
           "#ab63fa",
           "#FFA15A",
           "#19d3f3",
           "#FF6692",
           "#B6E880",
           "#FF97FF",
           "#FECB52"
          ],
          "font": {
           "color": "#2a3f5f"
          },
          "geo": {
           "bgcolor": "white",
           "lakecolor": "white",
           "landcolor": "white",
           "showlakes": true,
           "showland": true,
           "subunitcolor": "#C8D4E3"
          },
          "hoverlabel": {
           "align": "left"
          },
          "hovermode": "closest",
          "mapbox": {
           "style": "light"
          },
          "paper_bgcolor": "white",
          "plot_bgcolor": "white",
          "polar": {
           "angularaxis": {
            "gridcolor": "#EBF0F8",
            "linecolor": "#EBF0F8",
            "ticks": ""
           },
           "bgcolor": "white",
           "radialaxis": {
            "gridcolor": "#EBF0F8",
            "linecolor": "#EBF0F8",
            "ticks": ""
           }
          },
          "scene": {
           "xaxis": {
            "backgroundcolor": "white",
            "gridcolor": "#DFE8F3",
            "gridwidth": 2,
            "linecolor": "#EBF0F8",
            "showbackground": true,
            "ticks": "",
            "zerolinecolor": "#EBF0F8"
           },
           "yaxis": {
            "backgroundcolor": "white",
            "gridcolor": "#DFE8F3",
            "gridwidth": 2,
            "linecolor": "#EBF0F8",
            "showbackground": true,
            "ticks": "",
            "zerolinecolor": "#EBF0F8"
           },
           "zaxis": {
            "backgroundcolor": "white",
            "gridcolor": "#DFE8F3",
            "gridwidth": 2,
            "linecolor": "#EBF0F8",
            "showbackground": true,
            "ticks": "",
            "zerolinecolor": "#EBF0F8"
           }
          },
          "shapedefaults": {
           "line": {
            "color": "#2a3f5f"
           }
          },
          "ternary": {
           "aaxis": {
            "gridcolor": "#DFE8F3",
            "linecolor": "#A2B1C6",
            "ticks": ""
           },
           "baxis": {
            "gridcolor": "#DFE8F3",
            "linecolor": "#A2B1C6",
            "ticks": ""
           },
           "bgcolor": "white",
           "caxis": {
            "gridcolor": "#DFE8F3",
            "linecolor": "#A2B1C6",
            "ticks": ""
           }
          },
          "title": {
           "x": 0.05
          },
          "xaxis": {
           "automargin": true,
           "gridcolor": "#EBF0F8",
           "linecolor": "#EBF0F8",
           "ticks": "",
           "title": {
            "standoff": 15
           },
           "zerolinecolor": "#EBF0F8",
           "zerolinewidth": 2
          },
          "yaxis": {
           "automargin": true,
           "gridcolor": "#EBF0F8",
           "linecolor": "#EBF0F8",
           "ticks": "",
           "title": {
            "standoff": 15
           },
           "zerolinecolor": "#EBF0F8",
           "zerolinewidth": 2
          }
         }
        },
        "title": {
         "text": "Wave Propagation in Optimized Structure"
        },
        "xaxis": {
         "title": {
          "text": "Propagation Distance z (μm)"
         }
        },
        "yaxis": {
         "title": {
          "text": "Amplitude (a.u.)"
         }
        }
       }
      }
     },
     "metadata": {},
     "output_type": "display_data"
    }
   ],
   "source": [
    "# --- Calculate Propagation Trace for Optimized Structure ---\n",
    "# Calculate phase mismatches at the design wavelength\n",
    "delta_k1_design = mgoslt.calc_twm_delta_k(design_wl, design_wl, design_temp)\n",
    "delta_k2_design = mgoslt.calc_twm_delta_k(design_wl, design_wl / 2, design_temp)\n",
    "\n",
    "# Generate kappa values for the optimized structure\n",
    "kappa_vals_optimized = kappa_mag * jnp.power(-1, jnp.arange(optimized_widths.shape[0]))\n",
    "\n",
    "# Run simulation to get the trace of amplitudes at each domain\n",
    "_, full_trace = cwes.simulate_twm_with_trace(optimized_widths, kappa_vals_optimized, delta_k1_design, delta_k2_design, b_initial)\n",
    "\n",
    "# Calculate the propagation distance z\n",
    "z = jnp.concatenate([jnp.array([0.0]), jnp.cumsum(optimized_widths)])\n",
    "\n",
    "# Calculate the power for each wave\n",
    "fw_amp = jnp.abs(full_trace[:, 0])\n",
    "shw_amp = jnp.abs(full_trace[:, 1])\n",
    "thw_amp = jnp.abs(full_trace[:, 2])\n",
    "\n",
    "# Create the plot\n",
    "fig = go.Figure()\n",
    "fig.add_trace(go.Scatter(x=z, y=fw_amp, mode=\"lines\", name=\"FW Power\"))\n",
    "fig.add_trace(go.Scatter(x=z, y=shw_amp, mode=\"lines\", name=\"SHW Power\"))\n",
    "fig.add_trace(go.Scatter(x=z, y=thw_amp, mode=\"lines\", name=\"THW Power\"))\n",
    "\n",
    "fig.update_layout(\n",
    "    title=\"Wave Propagation in Optimized Structure\",\n",
    "    xaxis_title=\"Propagation Distance z (μm)\",\n",
    "    yaxis_title=\"Amplitude (a.u.)\",\n",
    "    template=\"plotly_white\",\n",
    "    legend_title=\"Wave\",\n",
    ")\n",
    "fig.show()"
   ]
  }
 ],
 "metadata": {
  "kernelspec": {
   "display_name": "mictlan (3.13.9)",
   "language": "python",
   "name": "python3"
  },
  "language_info": {
   "codemirror_mode": {
    "name": "ipython",
    "version": 3
   },
   "file_extension": ".py",
   "mimetype": "text/x-python",
   "name": "python",
   "nbconvert_exporter": "python",
   "pygments_lexer": "ipython3",
   "version": "3.13.9"
  }
 },
 "nbformat": 4,
 "nbformat_minor": 5
}
