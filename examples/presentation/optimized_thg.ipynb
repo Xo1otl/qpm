{
 "cells": [
  {
   "cell_type": "code",
   "execution_count": 2,
   "id": "ba66aadc",
   "metadata": {},
   "outputs": [],
   "source": [
    "import jax\n",
    "\n",
    "jax.config.update(\"jax_platforms\", \"cpu\")"
   ]
  },
  {
   "cell_type": "code",
   "execution_count": 4,
   "id": "d666c4e7",
   "metadata": {},
   "outputs": [
    {
     "name": "stdout",
     "output_type": "stream",
     "text": [
      "Optimal Ratio: 0.5000\n",
      "Optimal SHG Domains: 500\n",
      "Max Power: 0.000000\n"
     ]
    }
   ],
   "source": [
    "from collections.abc import Callable\n",
    "\n",
    "import jax.numpy as jnp\n",
    "from jax import jit, vmap\n",
    "\n",
    "from qpm import cwes, mgoslt\n",
    "\n",
    "\n",
    "def create_thg_power_evaluator(\n",
    "    num_domains: int,\n",
    "    design_wl: float,\n",
    "    design_temp: float,\n",
    "    kappa_mag: float,\n",
    "    b_initial: jax.Array,\n",
    ") -> Callable[[jax.Array], jax.Array]:\n",
    "    \"\"\"\n",
    "    Creates a JIT-compiled and vectorized function to evaluate THG power.\n",
    "\n",
    "    The returned function takes an array of `num_domains_shg` and efficiently\n",
    "    computes the THG power for each case at the specified design wavelength.\n",
    "    \"\"\"\n",
    "    # 1. Pre-calculate all constants outside the mapped function\n",
    "    delta_k1 = mgoslt.calc_twm_delta_k(design_wl, design_wl, design_temp)\n",
    "    delta_k2 = mgoslt.calc_twm_delta_k(design_wl, design_wl / 2, design_temp)\n",
    "    shg_domain_width = jnp.pi / delta_k1\n",
    "    sfg_domain_width = jnp.pi / delta_k2\n",
    "\n",
    "    # Kappa values depend only on the total number of domains, so pre-calculate\n",
    "    kappa_vals = kappa_mag * jnp.power(-1, jnp.arange(num_domains))\n",
    "    domain_indices = jnp.arange(num_domains)\n",
    "\n",
    "    # 2. Define the core function to be vectorized\n",
    "    def _calculate_power_at_split(num_domains_shg: int) -> jax.Array:\n",
    "        \"\"\"Calculates THG power for a single SHG/SFG split.\"\"\"\n",
    "        # Use `jnp.where` for JIT-compatibility\n",
    "        widths = jnp.where(domain_indices < num_domains_shg, shg_domain_width, sfg_domain_width)\n",
    "        # Simulate for the single design wavelength\n",
    "        b_final = cwes.simulate_twm(widths, kappa_vals, delta_k1, delta_k2, b_initial)\n",
    "        return jnp.abs(b_final[2]) ** 2\n",
    "\n",
    "    # 3. Return the JIT-compiled, vmapped function\n",
    "    return jit(vmap(_calculate_power_at_split))\n",
    "\n",
    "\n",
    "# --- Example Usage ---\n",
    "\n",
    "# Define simulation parameters\n",
    "num_domains = 1000\n",
    "design_wl = 1.031\n",
    "design_temp = 70.0\n",
    "kappa_mag = 1.31e-5 / (2 / jnp.pi)\n",
    "b_initial = jnp.array([1.0, 0.0, 0.0], dtype=jnp.complex64)\n",
    "\n",
    "# 1. Create the specialized evaluation function\n",
    "evaluate_powers = create_thg_power_evaluator(num_domains, design_wl, design_temp, kappa_mag, b_initial)\n",
    "\n",
    "# 2. Define the range of SHG domain counts to test\n",
    "shg_domain_counts = jnp.arange(1, num_domains)\n",
    "\n",
    "# 3. Run the highly optimized calculation\n",
    "thg_powers = evaluate_powers(shg_domain_counts)\n",
    "\n",
    "# 4. Find the optimal result\n",
    "best_idx = jnp.argmax(thg_powers)\n",
    "optimal_num_shg = shg_domain_counts[best_idx]\n",
    "optimal_ratio = optimal_num_shg / num_domains\n",
    "max_power = thg_powers[best_idx]\n",
    "\n",
    "print(f\"Optimal Ratio: {optimal_ratio:.4f}\")\n",
    "print(f\"Optimal SHG Domains: {optimal_num_shg}\")\n",
    "print(f\"Max Power: {max_power:.6f}\")"
   ]
  },
  {
   "cell_type": "code",
   "execution_count": 12,
   "id": "ef84c526",
   "metadata": {},
   "outputs": [
    {
     "data": {
      "application/vnd.plotly.v1+json": {
       "config": {
        "plotlyServerURL": "https://plot.ly"
       },
       "data": [
        {
         "mode": "lines",
         "name": "Power",
         "type": "scatter",
         "x": {
          "bdata": "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",
          "dtype": "f4"
         },
         "y": {
          "bdata": "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",
          "dtype": "f4"
         }
        }
       ],
       "layout": {
        "template": {
         "data": {
          "bar": [
           {
            "error_x": {
             "color": "#2a3f5f"
            },
            "error_y": {
             "color": "#2a3f5f"
            },
            "marker": {
             "line": {
              "color": "#E5ECF6",
              "width": 0.5
             },
             "pattern": {
              "fillmode": "overlay",
              "size": 10,
              "solidity": 0.2
             }
            },
            "type": "bar"
           }
          ],
          "barpolar": [
           {
            "marker": {
             "line": {
              "color": "#E5ECF6",
              "width": 0.5
             },
             "pattern": {
              "fillmode": "overlay",
              "size": 10,
              "solidity": 0.2
             }
            },
            "type": "barpolar"
           }
          ],
          "carpet": [
           {
            "aaxis": {
             "endlinecolor": "#2a3f5f",
             "gridcolor": "white",
             "linecolor": "white",
             "minorgridcolor": "white",
             "startlinecolor": "#2a3f5f"
            },
            "baxis": {
             "endlinecolor": "#2a3f5f",
             "gridcolor": "white",
             "linecolor": "white",
             "minorgridcolor": "white",
             "startlinecolor": "#2a3f5f"
            },
            "type": "carpet"
           }
          ],
          "choropleth": [
           {
            "colorbar": {
             "outlinewidth": 0,
             "ticks": ""
            },
            "type": "choropleth"
           }
          ],
          "contour": [
           {
            "colorbar": {
             "outlinewidth": 0,
             "ticks": ""
            },
            "colorscale": [
             [
              0,
              "#0d0887"
             ],
             [
              0.1111111111111111,
              "#46039f"
             ],
             [
              0.2222222222222222,
              "#7201a8"
             ],
             [
              0.3333333333333333,
              "#9c179e"
             ],
             [
              0.4444444444444444,
              "#bd3786"
             ],
             [
              0.5555555555555556,
              "#d8576b"
             ],
             [
              0.6666666666666666,
              "#ed7953"
             ],
             [
              0.7777777777777778,
              "#fb9f3a"
             ],
             [
              0.8888888888888888,
              "#fdca26"
             ],
             [
              1,
              "#f0f921"
             ]
            ],
            "type": "contour"
           }
          ],
          "contourcarpet": [
           {
            "colorbar": {
             "outlinewidth": 0,
             "ticks": ""
            },
            "type": "contourcarpet"
           }
          ],
          "heatmap": [
           {
            "colorbar": {
             "outlinewidth": 0,
             "ticks": ""
            },
            "colorscale": [
             [
              0,
              "#0d0887"
             ],
             [
              0.1111111111111111,
              "#46039f"
             ],
             [
              0.2222222222222222,
              "#7201a8"
             ],
             [
              0.3333333333333333,
              "#9c179e"
             ],
             [
              0.4444444444444444,
              "#bd3786"
             ],
             [
              0.5555555555555556,
              "#d8576b"
             ],
             [
              0.6666666666666666,
              "#ed7953"
             ],
             [
              0.7777777777777778,
              "#fb9f3a"
             ],
             [
              0.8888888888888888,
              "#fdca26"
             ],
             [
              1,
              "#f0f921"
             ]
            ],
            "type": "heatmap"
           }
          ],
          "histogram": [
           {
            "marker": {
             "pattern": {
              "fillmode": "overlay",
              "size": 10,
              "solidity": 0.2
             }
            },
            "type": "histogram"
           }
          ],
          "histogram2d": [
           {
            "colorbar": {
             "outlinewidth": 0,
             "ticks": ""
            },
            "colorscale": [
             [
              0,
              "#0d0887"
             ],
             [
              0.1111111111111111,
              "#46039f"
             ],
             [
              0.2222222222222222,
              "#7201a8"
             ],
             [
              0.3333333333333333,
              "#9c179e"
             ],
             [
              0.4444444444444444,
              "#bd3786"
             ],
             [
              0.5555555555555556,
              "#d8576b"
             ],
             [
              0.6666666666666666,
              "#ed7953"
             ],
             [
              0.7777777777777778,
              "#fb9f3a"
             ],
             [
              0.8888888888888888,
              "#fdca26"
             ],
             [
              1,
              "#f0f921"
             ]
            ],
            "type": "histogram2d"
           }
          ],
          "histogram2dcontour": [
           {
            "colorbar": {
             "outlinewidth": 0,
             "ticks": ""
            },
            "colorscale": [
             [
              0,
              "#0d0887"
             ],
             [
              0.1111111111111111,
              "#46039f"
             ],
             [
              0.2222222222222222,
              "#7201a8"
             ],
             [
              0.3333333333333333,
              "#9c179e"
             ],
             [
              0.4444444444444444,
              "#bd3786"
             ],
             [
              0.5555555555555556,
              "#d8576b"
             ],
             [
              0.6666666666666666,
              "#ed7953"
             ],
             [
              0.7777777777777778,
              "#fb9f3a"
             ],
             [
              0.8888888888888888,
              "#fdca26"
             ],
             [
              1,
              "#f0f921"
             ]
            ],
            "type": "histogram2dcontour"
           }
          ],
          "mesh3d": [
           {
            "colorbar": {
             "outlinewidth": 0,
             "ticks": ""
            },
            "type": "mesh3d"
           }
          ],
          "parcoords": [
           {
            "line": {
             "colorbar": {
              "outlinewidth": 0,
              "ticks": ""
             }
            },
            "type": "parcoords"
           }
          ],
          "pie": [
           {
            "automargin": true,
            "type": "pie"
           }
          ],
          "scatter": [
           {
            "fillpattern": {
             "fillmode": "overlay",
             "size": 10,
             "solidity": 0.2
            },
            "type": "scatter"
           }
          ],
          "scatter3d": [
           {
            "line": {
             "colorbar": {
              "outlinewidth": 0,
              "ticks": ""
             }
            },
            "marker": {
             "colorbar": {
              "outlinewidth": 0,
              "ticks": ""
             }
            },
            "type": "scatter3d"
           }
          ],
          "scattercarpet": [
           {
            "marker": {
             "colorbar": {
              "outlinewidth": 0,
              "ticks": ""
             }
            },
            "type": "scattercarpet"
           }
          ],
          "scattergeo": [
           {
            "marker": {
             "colorbar": {
              "outlinewidth": 0,
              "ticks": ""
             }
            },
            "type": "scattergeo"
           }
          ],
          "scattergl": [
           {
            "marker": {
             "colorbar": {
              "outlinewidth": 0,
              "ticks": ""
             }
            },
            "type": "scattergl"
           }
          ],
          "scattermap": [
           {
            "marker": {
             "colorbar": {
              "outlinewidth": 0,
              "ticks": ""
             }
            },
            "type": "scattermap"
           }
          ],
          "scattermapbox": [
           {
            "marker": {
             "colorbar": {
              "outlinewidth": 0,
              "ticks": ""
             }
            },
            "type": "scattermapbox"
           }
          ],
          "scatterpolar": [
           {
            "marker": {
             "colorbar": {
              "outlinewidth": 0,
              "ticks": ""
             }
            },
            "type": "scatterpolar"
           }
          ],
          "scatterpolargl": [
           {
            "marker": {
             "colorbar": {
              "outlinewidth": 0,
              "ticks": ""
             }
            },
            "type": "scatterpolargl"
           }
          ],
          "scatterternary": [
           {
            "marker": {
             "colorbar": {
              "outlinewidth": 0,
              "ticks": ""
             }
            },
            "type": "scatterternary"
           }
          ],
          "surface": [
           {
            "colorbar": {
             "outlinewidth": 0,
             "ticks": ""
            },
            "colorscale": [
             [
              0,
              "#0d0887"
             ],
             [
              0.1111111111111111,
              "#46039f"
             ],
             [
              0.2222222222222222,
              "#7201a8"
             ],
             [
              0.3333333333333333,
              "#9c179e"
             ],
             [
              0.4444444444444444,
              "#bd3786"
             ],
             [
              0.5555555555555556,
              "#d8576b"
             ],
             [
              0.6666666666666666,
              "#ed7953"
             ],
             [
              0.7777777777777778,
              "#fb9f3a"
             ],
             [
              0.8888888888888888,
              "#fdca26"
             ],
             [
              1,
              "#f0f921"
             ]
            ],
            "type": "surface"
           }
          ],
          "table": [
           {
            "cells": {
             "fill": {
              "color": "#EBF0F8"
             },
             "line": {
              "color": "white"
             }
            },
            "header": {
             "fill": {
              "color": "#C8D4E3"
             },
             "line": {
              "color": "white"
             }
            },
            "type": "table"
           }
          ]
         },
         "layout": {
          "annotationdefaults": {
           "arrowcolor": "#2a3f5f",
           "arrowhead": 0,
           "arrowwidth": 1
          },
          "autotypenumbers": "strict",
          "coloraxis": {
           "colorbar": {
            "outlinewidth": 0,
            "ticks": ""
           }
          },
          "colorscale": {
           "diverging": [
            [
             0,
             "#8e0152"
            ],
            [
             0.1,
             "#c51b7d"
            ],
            [
             0.2,
             "#de77ae"
            ],
            [
             0.3,
             "#f1b6da"
            ],
            [
             0.4,
             "#fde0ef"
            ],
            [
             0.5,
             "#f7f7f7"
            ],
            [
             0.6,
             "#e6f5d0"
            ],
            [
             0.7,
             "#b8e186"
            ],
            [
             0.8,
             "#7fbc41"
            ],
            [
             0.9,
             "#4d9221"
            ],
            [
             1,
             "#276419"
            ]
           ],
           "sequential": [
            [
             0,
             "#0d0887"
            ],
            [
             0.1111111111111111,
             "#46039f"
            ],
            [
             0.2222222222222222,
             "#7201a8"
            ],
            [
             0.3333333333333333,
             "#9c179e"
            ],
            [
             0.4444444444444444,
             "#bd3786"
            ],
            [
             0.5555555555555556,
             "#d8576b"
            ],
            [
             0.6666666666666666,
             "#ed7953"
            ],
            [
             0.7777777777777778,
             "#fb9f3a"
            ],
            [
             0.8888888888888888,
             "#fdca26"
            ],
            [
             1,
             "#f0f921"
            ]
           ],
           "sequentialminus": [
            [
             0,
             "#0d0887"
            ],
            [
             0.1111111111111111,
             "#46039f"
            ],
            [
             0.2222222222222222,
             "#7201a8"
            ],
            [
             0.3333333333333333,
             "#9c179e"
            ],
            [
             0.4444444444444444,
             "#bd3786"
            ],
            [
             0.5555555555555556,
             "#d8576b"
            ],
            [
             0.6666666666666666,
             "#ed7953"
            ],
            [
             0.7777777777777778,
             "#fb9f3a"
            ],
            [
             0.8888888888888888,
             "#fdca26"
            ],
            [
             1,
             "#f0f921"
            ]
           ]
          },
          "colorway": [
           "#636efa",
           "#EF553B",
           "#00cc96",
           "#ab63fa",
           "#FFA15A",
           "#19d3f3",
           "#FF6692",
           "#B6E880",
           "#FF97FF",
           "#FECB52"
          ],
          "font": {
           "color": "#2a3f5f"
          },
          "geo": {
           "bgcolor": "white",
           "lakecolor": "white",
           "landcolor": "#E5ECF6",
           "showlakes": true,
           "showland": true,
           "subunitcolor": "white"
          },
          "hoverlabel": {
           "align": "left"
          },
          "hovermode": "closest",
          "mapbox": {
           "style": "light"
          },
          "paper_bgcolor": "white",
          "plot_bgcolor": "#E5ECF6",
          "polar": {
           "angularaxis": {
            "gridcolor": "white",
            "linecolor": "white",
            "ticks": ""
           },
           "bgcolor": "#E5ECF6",
           "radialaxis": {
            "gridcolor": "white",
            "linecolor": "white",
            "ticks": ""
           }
          },
          "scene": {
           "xaxis": {
            "backgroundcolor": "#E5ECF6",
            "gridcolor": "white",
            "gridwidth": 2,
            "linecolor": "white",
            "showbackground": true,
            "ticks": "",
            "zerolinecolor": "white"
           },
           "yaxis": {
            "backgroundcolor": "#E5ECF6",
            "gridcolor": "white",
            "gridwidth": 2,
            "linecolor": "white",
            "showbackground": true,
            "ticks": "",
            "zerolinecolor": "white"
           },
           "zaxis": {
            "backgroundcolor": "#E5ECF6",
            "gridcolor": "white",
            "gridwidth": 2,
            "linecolor": "white",
            "showbackground": true,
            "ticks": "",
            "zerolinecolor": "white"
           }
          },
          "shapedefaults": {
           "line": {
            "color": "#2a3f5f"
           }
          },
          "ternary": {
           "aaxis": {
            "gridcolor": "white",
            "linecolor": "white",
            "ticks": ""
           },
           "baxis": {
            "gridcolor": "white",
            "linecolor": "white",
            "ticks": ""
           },
           "bgcolor": "#E5ECF6",
           "caxis": {
            "gridcolor": "white",
            "linecolor": "white",
            "ticks": ""
           }
          },
          "title": {
           "x": 0.05
          },
          "xaxis": {
           "automargin": true,
           "gridcolor": "white",
           "linecolor": "white",
           "ticks": "",
           "title": {
            "standoff": 15
           },
           "zerolinecolor": "white",
           "zerolinewidth": 2
          },
          "yaxis": {
           "automargin": true,
           "gridcolor": "white",
           "linecolor": "white",
           "ticks": "",
           "title": {
            "standoff": 15
           },
           "zerolinecolor": "white",
           "zerolinewidth": 2
          }
         }
        },
        "title": {
         "text": "Power Spectrum"
        },
        "xaxis": {
         "title": {
          "text": "Wavelength (μm)"
         }
        },
        "yaxis": {
         "title": {
          "text": "Power"
         }
        }
       }
      }
     },
     "metadata": {},
     "output_type": "display_data"
    },
    {
     "name": "stdout",
     "output_type": "stream",
     "text": [
      "500 500\n"
     ]
    },
    {
     "data": {
      "application/vnd.plotly.v1+json": {
       "config": {
        "plotlyServerURL": "https://plot.ly"
       },
       "data": [
        {
         "mode": "lines",
         "name": "Power",
         "type": "scatter",
         "x": {
          "bdata": "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",
          "dtype": "f4"
         },
         "y": {
          "bdata": "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",
          "dtype": "f4"
         }
        }
       ],
       "layout": {
        "template": {
         "data": {
          "bar": [
           {
            "error_x": {
             "color": "#2a3f5f"
            },
            "error_y": {
             "color": "#2a3f5f"
            },
            "marker": {
             "line": {
              "color": "#E5ECF6",
              "width": 0.5
             },
             "pattern": {
              "fillmode": "overlay",
              "size": 10,
              "solidity": 0.2
             }
            },
            "type": "bar"
           }
          ],
          "barpolar": [
           {
            "marker": {
             "line": {
              "color": "#E5ECF6",
              "width": 0.5
             },
             "pattern": {
              "fillmode": "overlay",
              "size": 10,
              "solidity": 0.2
             }
            },
            "type": "barpolar"
           }
          ],
          "carpet": [
           {
            "aaxis": {
             "endlinecolor": "#2a3f5f",
             "gridcolor": "white",
             "linecolor": "white",
             "minorgridcolor": "white",
             "startlinecolor": "#2a3f5f"
            },
            "baxis": {
             "endlinecolor": "#2a3f5f",
             "gridcolor": "white",
             "linecolor": "white",
             "minorgridcolor": "white",
             "startlinecolor": "#2a3f5f"
            },
            "type": "carpet"
           }
          ],
          "choropleth": [
           {
            "colorbar": {
             "outlinewidth": 0,
             "ticks": ""
            },
            "type": "choropleth"
           }
          ],
          "contour": [
           {
            "colorbar": {
             "outlinewidth": 0,
             "ticks": ""
            },
            "colorscale": [
             [
              0,
              "#0d0887"
             ],
             [
              0.1111111111111111,
              "#46039f"
             ],
             [
              0.2222222222222222,
              "#7201a8"
             ],
             [
              0.3333333333333333,
              "#9c179e"
             ],
             [
              0.4444444444444444,
              "#bd3786"
             ],
             [
              0.5555555555555556,
              "#d8576b"
             ],
             [
              0.6666666666666666,
              "#ed7953"
             ],
             [
              0.7777777777777778,
              "#fb9f3a"
             ],
             [
              0.8888888888888888,
              "#fdca26"
             ],
             [
              1,
              "#f0f921"
             ]
            ],
            "type": "contour"
           }
          ],
          "contourcarpet": [
           {
            "colorbar": {
             "outlinewidth": 0,
             "ticks": ""
            },
            "type": "contourcarpet"
           }
          ],
          "heatmap": [
           {
            "colorbar": {
             "outlinewidth": 0,
             "ticks": ""
            },
            "colorscale": [
             [
              0,
              "#0d0887"
             ],
             [
              0.1111111111111111,
              "#46039f"
             ],
             [
              0.2222222222222222,
              "#7201a8"
             ],
             [
              0.3333333333333333,
              "#9c179e"
             ],
             [
              0.4444444444444444,
              "#bd3786"
             ],
             [
              0.5555555555555556,
              "#d8576b"
             ],
             [
              0.6666666666666666,
              "#ed7953"
             ],
             [
              0.7777777777777778,
              "#fb9f3a"
             ],
             [
              0.8888888888888888,
              "#fdca26"
             ],
             [
              1,
              "#f0f921"
             ]
            ],
            "type": "heatmap"
           }
          ],
          "histogram": [
           {
            "marker": {
             "pattern": {
              "fillmode": "overlay",
              "size": 10,
              "solidity": 0.2
             }
            },
            "type": "histogram"
           }
          ],
          "histogram2d": [
           {
            "colorbar": {
             "outlinewidth": 0,
             "ticks": ""
            },
            "colorscale": [
             [
              0,
              "#0d0887"
             ],
             [
              0.1111111111111111,
              "#46039f"
             ],
             [
              0.2222222222222222,
              "#7201a8"
             ],
             [
              0.3333333333333333,
              "#9c179e"
             ],
             [
              0.4444444444444444,
              "#bd3786"
             ],
             [
              0.5555555555555556,
              "#d8576b"
             ],
             [
              0.6666666666666666,
              "#ed7953"
             ],
             [
              0.7777777777777778,
              "#fb9f3a"
             ],
             [
              0.8888888888888888,
              "#fdca26"
             ],
             [
              1,
              "#f0f921"
             ]
            ],
            "type": "histogram2d"
           }
          ],
          "histogram2dcontour": [
           {
            "colorbar": {
             "outlinewidth": 0,
             "ticks": ""
            },
            "colorscale": [
             [
              0,
              "#0d0887"
             ],
             [
              0.1111111111111111,
              "#46039f"
             ],
             [
              0.2222222222222222,
              "#7201a8"
             ],
             [
              0.3333333333333333,
              "#9c179e"
             ],
             [
              0.4444444444444444,
              "#bd3786"
             ],
             [
              0.5555555555555556,
              "#d8576b"
             ],
             [
              0.6666666666666666,
              "#ed7953"
             ],
             [
              0.7777777777777778,
              "#fb9f3a"
             ],
             [
              0.8888888888888888,
              "#fdca26"
             ],
             [
              1,
              "#f0f921"
             ]
            ],
            "type": "histogram2dcontour"
           }
          ],
          "mesh3d": [
           {
            "colorbar": {
             "outlinewidth": 0,
             "ticks": ""
            },
            "type": "mesh3d"
           }
          ],
          "parcoords": [
           {
            "line": {
             "colorbar": {
              "outlinewidth": 0,
              "ticks": ""
             }
            },
            "type": "parcoords"
           }
          ],
          "pie": [
           {
            "automargin": true,
            "type": "pie"
           }
          ],
          "scatter": [
           {
            "fillpattern": {
             "fillmode": "overlay",
             "size": 10,
             "solidity": 0.2
            },
            "type": "scatter"
           }
          ],
          "scatter3d": [
           {
            "line": {
             "colorbar": {
              "outlinewidth": 0,
              "ticks": ""
             }
            },
            "marker": {
             "colorbar": {
              "outlinewidth": 0,
              "ticks": ""
             }
            },
            "type": "scatter3d"
           }
          ],
          "scattercarpet": [
           {
            "marker": {
             "colorbar": {
              "outlinewidth": 0,
              "ticks": ""
             }
            },
            "type": "scattercarpet"
           }
          ],
          "scattergeo": [
           {
            "marker": {
             "colorbar": {
              "outlinewidth": 0,
              "ticks": ""
             }
            },
            "type": "scattergeo"
           }
          ],
          "scattergl": [
           {
            "marker": {
             "colorbar": {
              "outlinewidth": 0,
              "ticks": ""
             }
            },
            "type": "scattergl"
           }
          ],
          "scattermap": [
           {
            "marker": {
             "colorbar": {
              "outlinewidth": 0,
              "ticks": ""
             }
            },
            "type": "scattermap"
           }
          ],
          "scattermapbox": [
           {
            "marker": {
             "colorbar": {
              "outlinewidth": 0,
              "ticks": ""
             }
            },
            "type": "scattermapbox"
           }
          ],
          "scatterpolar": [
           {
            "marker": {
             "colorbar": {
              "outlinewidth": 0,
              "ticks": ""
             }
            },
            "type": "scatterpolar"
           }
          ],
          "scatterpolargl": [
           {
            "marker": {
             "colorbar": {
              "outlinewidth": 0,
              "ticks": ""
             }
            },
            "type": "scatterpolargl"
           }
          ],
          "scatterternary": [
           {
            "marker": {
             "colorbar": {
              "outlinewidth": 0,
              "ticks": ""
             }
            },
            "type": "scatterternary"
           }
          ],
          "surface": [
           {
            "colorbar": {
             "outlinewidth": 0,
             "ticks": ""
            },
            "colorscale": [
             [
              0,
              "#0d0887"
             ],
             [
              0.1111111111111111,
              "#46039f"
             ],
             [
              0.2222222222222222,
              "#7201a8"
             ],
             [
              0.3333333333333333,
              "#9c179e"
             ],
             [
              0.4444444444444444,
              "#bd3786"
             ],
             [
              0.5555555555555556,
              "#d8576b"
             ],
             [
              0.6666666666666666,
              "#ed7953"
             ],
             [
              0.7777777777777778,
              "#fb9f3a"
             ],
             [
              0.8888888888888888,
              "#fdca26"
             ],
             [
              1,
              "#f0f921"
             ]
            ],
            "type": "surface"
           }
          ],
          "table": [
           {
            "cells": {
             "fill": {
              "color": "#EBF0F8"
             },
             "line": {
              "color": "white"
             }
            },
            "header": {
             "fill": {
              "color": "#C8D4E3"
             },
             "line": {
              "color": "white"
             }
            },
            "type": "table"
           }
          ]
         },
         "layout": {
          "annotationdefaults": {
           "arrowcolor": "#2a3f5f",
           "arrowhead": 0,
           "arrowwidth": 1
          },
          "autotypenumbers": "strict",
          "coloraxis": {
           "colorbar": {
            "outlinewidth": 0,
            "ticks": ""
           }
          },
          "colorscale": {
           "diverging": [
            [
             0,
             "#8e0152"
            ],
            [
             0.1,
             "#c51b7d"
            ],
            [
             0.2,
             "#de77ae"
            ],
            [
             0.3,
             "#f1b6da"
            ],
            [
             0.4,
             "#fde0ef"
            ],
            [
             0.5,
             "#f7f7f7"
            ],
            [
             0.6,
             "#e6f5d0"
            ],
            [
             0.7,
             "#b8e186"
            ],
            [
             0.8,
             "#7fbc41"
            ],
            [
             0.9,
             "#4d9221"
            ],
            [
             1,
             "#276419"
            ]
           ],
           "sequential": [
            [
             0,
             "#0d0887"
            ],
            [
             0.1111111111111111,
             "#46039f"
            ],
            [
             0.2222222222222222,
             "#7201a8"
            ],
            [
             0.3333333333333333,
             "#9c179e"
            ],
            [
             0.4444444444444444,
             "#bd3786"
            ],
            [
             0.5555555555555556,
             "#d8576b"
            ],
            [
             0.6666666666666666,
             "#ed7953"
            ],
            [
             0.7777777777777778,
             "#fb9f3a"
            ],
            [
             0.8888888888888888,
             "#fdca26"
            ],
            [
             1,
             "#f0f921"
            ]
           ],
           "sequentialminus": [
            [
             0,
             "#0d0887"
            ],
            [
             0.1111111111111111,
             "#46039f"
            ],
            [
             0.2222222222222222,
             "#7201a8"
            ],
            [
             0.3333333333333333,
             "#9c179e"
            ],
            [
             0.4444444444444444,
             "#bd3786"
            ],
            [
             0.5555555555555556,
             "#d8576b"
            ],
            [
             0.6666666666666666,
             "#ed7953"
            ],
            [
             0.7777777777777778,
             "#fb9f3a"
            ],
            [
             0.8888888888888888,
             "#fdca26"
            ],
            [
             1,
             "#f0f921"
            ]
           ]
          },
          "colorway": [
           "#636efa",
           "#EF553B",
           "#00cc96",
           "#ab63fa",
           "#FFA15A",
           "#19d3f3",
           "#FF6692",
           "#B6E880",
           "#FF97FF",
           "#FECB52"
          ],
          "font": {
           "color": "#2a3f5f"
          },
          "geo": {
           "bgcolor": "white",
           "lakecolor": "white",
           "landcolor": "#E5ECF6",
           "showlakes": true,
           "showland": true,
           "subunitcolor": "white"
          },
          "hoverlabel": {
           "align": "left"
          },
          "hovermode": "closest",
          "mapbox": {
           "style": "light"
          },
          "paper_bgcolor": "white",
          "plot_bgcolor": "#E5ECF6",
          "polar": {
           "angularaxis": {
            "gridcolor": "white",
            "linecolor": "white",
            "ticks": ""
           },
           "bgcolor": "#E5ECF6",
           "radialaxis": {
            "gridcolor": "white",
            "linecolor": "white",
            "ticks": ""
           }
          },
          "scene": {
           "xaxis": {
            "backgroundcolor": "#E5ECF6",
            "gridcolor": "white",
            "gridwidth": 2,
            "linecolor": "white",
            "showbackground": true,
            "ticks": "",
            "zerolinecolor": "white"
           },
           "yaxis": {
            "backgroundcolor": "#E5ECF6",
            "gridcolor": "white",
            "gridwidth": 2,
            "linecolor": "white",
            "showbackground": true,
            "ticks": "",
            "zerolinecolor": "white"
           },
           "zaxis": {
            "backgroundcolor": "#E5ECF6",
            "gridcolor": "white",
            "gridwidth": 2,
            "linecolor": "white",
            "showbackground": true,
            "ticks": "",
            "zerolinecolor": "white"
           }
          },
          "shapedefaults": {
           "line": {
            "color": "#2a3f5f"
           }
          },
          "ternary": {
           "aaxis": {
            "gridcolor": "white",
            "linecolor": "white",
            "ticks": ""
           },
           "baxis": {
            "gridcolor": "white",
            "linecolor": "white",
            "ticks": ""
           },
           "bgcolor": "#E5ECF6",
           "caxis": {
            "gridcolor": "white",
            "linecolor": "white",
            "ticks": ""
           }
          },
          "title": {
           "x": 0.05
          },
          "xaxis": {
           "automargin": true,
           "gridcolor": "white",
           "linecolor": "white",
           "ticks": "",
           "title": {
            "standoff": 15
           },
           "zerolinecolor": "white",
           "zerolinewidth": 2
          },
          "yaxis": {
           "automargin": true,
           "gridcolor": "white",
           "linecolor": "white",
           "ticks": "",
           "title": {
            "standoff": 15
           },
           "zerolinecolor": "white",
           "zerolinewidth": 2
          }
         }
        },
        "title": {
         "text": "Power Spectrum"
        },
        "xaxis": {
         "title": {
          "text": "Wavelength (μm)"
         }
        },
        "yaxis": {
         "title": {
          "text": "Power"
         }
        }
       }
      }
     },
     "metadata": {},
     "output_type": "display_data"
    },
    {
     "name": "stdout",
     "output_type": "stream",
     "text": [
      "Device length: 2290.19482421875\n",
      "Max power / (Device length)^2: 1.4788141414548428e-12\n"
     ]
    }
   ],
   "source": [
    "import jax\n",
    "import jax.numpy as jnp\n",
    "import plotly.graph_objects as go  # pyright: ignore[reportMissingTypeStubs]\n",
    "\n",
    "\n",
    "def show_power_spectrum(wls: jax.Array, powers: jax.Array) -> None:\n",
    "    fig = go.Figure()\n",
    "    fig.add_trace(go.Scatter(x=wls, y=powers, mode=\"lines\", name=\"Power\"))\n",
    "    fig.update_layout(\n",
    "        title_text=\"Power Spectrum\",\n",
    "        xaxis_title=\"Wavelength (μm)\",\n",
    "        yaxis_title=\"Power\",\n",
    "    )\n",
    "    fig.show()\n",
    "\n",
    "\n",
    "batch_simulate_twm = jit(vmap(cwes.simulate_twm, in_axes=(None, None, 0, 0, None)))\n",
    "\n",
    "design_wl = 1.031\n",
    "design_temp = 70.0\n",
    "shg_sfg_ratio = optimal_ratio\n",
    "num_domains_shg = int(jnp.floor(num_domains * shg_sfg_ratio))\n",
    "\n",
    "delta_k1 = mgoslt.calc_twm_delta_k(design_wl, design_wl, design_temp)\n",
    "delta_k2 = mgoslt.calc_twm_delta_k(design_wl, design_wl / 2, design_temp)\n",
    "\n",
    "shg_domain_width = jnp.pi / delta_k1\n",
    "widths_shg = jnp.array([shg_domain_width] * num_domains)\n",
    "\n",
    "kappa_mag = 1.31e-5 / (2 / jnp.pi)\n",
    "kappa_vals = kappa_mag * jnp.power(-1, jnp.arange(num_domains))\n",
    "\n",
    "wls = jnp.linspace(1.025, 1.035, 1000)\n",
    "delta_k1s = mgoslt.calc_twm_delta_k(wls, wls, 70.0)\n",
    "delta_k2s = mgoslt.calc_twm_delta_k(wls, wls / 2, 70.0)\n",
    "\n",
    "b_initial = jnp.array([1.0, 0.0, 0.0], dtype=jnp.complex64)\n",
    "b_end_shg = batch_simulate_twm(widths_shg, kappa_vals, delta_k1s, delta_k2s, b_initial)\n",
    "\n",
    "shw_powers = jnp.abs(b_end_shg[:, 1]) ** 2 * 100 * 1.07 / 2.84\n",
    "\n",
    "show_power_spectrum(wls, shw_powers)\n",
    "\n",
    "sfg_domain_width = jnp.pi / delta_k2\n",
    "num_domains_sfg = num_domains - num_domains_shg\n",
    "print(num_domains_shg, num_domains_sfg)\n",
    "widths_shg = jnp.array([shg_domain_width] * num_domains_shg)\n",
    "widths_sfg = jnp.array([sfg_domain_width] * num_domains_sfg)\n",
    "widths_thg = jnp.concatenate([widths_shg, widths_sfg])\n",
    "kappa_vals = kappa_mag * jnp.power(-1, jnp.arange(widths_thg.shape[0]))\n",
    "b_final = batch_simulate_twm(widths_thg, kappa_vals, delta_k1s, delta_k2s, b_initial)\n",
    "\n",
    "thw_powers = jnp.abs(b_final[:, 2]) ** 2 * 100 * 1.07 / 2.84\n",
    "\n",
    "show_power_spectrum(wls, thw_powers)\n",
    "\n",
    "device_length = jnp.sum(widths_thg)\n",
    "print(f\"Device length: {device_length}\")\n",
    "print(f\"Max power / (Device length)^2: {jnp.max(thw_powers) / device_length**2}\")"
   ]
  },
  {
   "cell_type": "code",
   "execution_count": null,
   "id": "bd76c9c6",
   "metadata": {},
   "outputs": [
    {
     "data": {
      "application/vnd.plotly.v1+json": {
       "config": {
        "plotlyServerURL": "https://plot.ly"
       },
       "data": [
        {
         "mode": "lines",
         "name": "Power",
         "type": "scatter",
         "x": {
          "bdata": "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",
          "dtype": "f4"
         },
         "y": {
          "bdata": "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",
          "dtype": "f4"
         }
        }
       ],
       "layout": {
        "template": {
         "data": {
          "bar": [
           {
            "error_x": {
             "color": "#2a3f5f"
            },
            "error_y": {
             "color": "#2a3f5f"
            },
            "marker": {
             "line": {
              "color": "#E5ECF6",
              "width": 0.5
             },
             "pattern": {
              "fillmode": "overlay",
              "size": 10,
              "solidity": 0.2
             }
            },
            "type": "bar"
           }
          ],
          "barpolar": [
           {
            "marker": {
             "line": {
              "color": "#E5ECF6",
              "width": 0.5
             },
             "pattern": {
              "fillmode": "overlay",
              "size": 10,
              "solidity": 0.2
             }
            },
            "type": "barpolar"
           }
          ],
          "carpet": [
           {
            "aaxis": {
             "endlinecolor": "#2a3f5f",
             "gridcolor": "white",
             "linecolor": "white",
             "minorgridcolor": "white",
             "startlinecolor": "#2a3f5f"
            },
            "baxis": {
             "endlinecolor": "#2a3f5f",
             "gridcolor": "white",
             "linecolor": "white",
             "minorgridcolor": "white",
             "startlinecolor": "#2a3f5f"
            },
            "type": "carpet"
           }
          ],
          "choropleth": [
           {
            "colorbar": {
             "outlinewidth": 0,
             "ticks": ""
            },
            "type": "choropleth"
           }
          ],
          "contour": [
           {
            "colorbar": {
             "outlinewidth": 0,
             "ticks": ""
            },
            "colorscale": [
             [
              0,
              "#0d0887"
             ],
             [
              0.1111111111111111,
              "#46039f"
             ],
             [
              0.2222222222222222,
              "#7201a8"
             ],
             [
              0.3333333333333333,
              "#9c179e"
             ],
             [
              0.4444444444444444,
              "#bd3786"
             ],
             [
              0.5555555555555556,
              "#d8576b"
             ],
             [
              0.6666666666666666,
              "#ed7953"
             ],
             [
              0.7777777777777778,
              "#fb9f3a"
             ],
             [
              0.8888888888888888,
              "#fdca26"
             ],
             [
              1,
              "#f0f921"
             ]
            ],
            "type": "contour"
           }
          ],
          "contourcarpet": [
           {
            "colorbar": {
             "outlinewidth": 0,
             "ticks": ""
            },
            "type": "contourcarpet"
           }
          ],
          "heatmap": [
           {
            "colorbar": {
             "outlinewidth": 0,
             "ticks": ""
            },
            "colorscale": [
             [
              0,
              "#0d0887"
             ],
             [
              0.1111111111111111,
              "#46039f"
             ],
             [
              0.2222222222222222,
              "#7201a8"
             ],
             [
              0.3333333333333333,
              "#9c179e"
             ],
             [
              0.4444444444444444,
              "#bd3786"
             ],
             [
              0.5555555555555556,
              "#d8576b"
             ],
             [
              0.6666666666666666,
              "#ed7953"
             ],
             [
              0.7777777777777778,
              "#fb9f3a"
             ],
             [
              0.8888888888888888,
              "#fdca26"
             ],
             [
              1,
              "#f0f921"
             ]
            ],
            "type": "heatmap"
           }
          ],
          "histogram": [
           {
            "marker": {
             "pattern": {
              "fillmode": "overlay",
              "size": 10,
              "solidity": 0.2
             }
            },
            "type": "histogram"
           }
          ],
          "histogram2d": [
           {
            "colorbar": {
             "outlinewidth": 0,
             "ticks": ""
            },
            "colorscale": [
             [
              0,
              "#0d0887"
             ],
             [
              0.1111111111111111,
              "#46039f"
             ],
             [
              0.2222222222222222,
              "#7201a8"
             ],
             [
              0.3333333333333333,
              "#9c179e"
             ],
             [
              0.4444444444444444,
              "#bd3786"
             ],
             [
              0.5555555555555556,
              "#d8576b"
             ],
             [
              0.6666666666666666,
              "#ed7953"
             ],
             [
              0.7777777777777778,
              "#fb9f3a"
             ],
             [
              0.8888888888888888,
              "#fdca26"
             ],
             [
              1,
              "#f0f921"
             ]
            ],
            "type": "histogram2d"
           }
          ],
          "histogram2dcontour": [
           {
            "colorbar": {
             "outlinewidth": 0,
             "ticks": ""
            },
            "colorscale": [
             [
              0,
              "#0d0887"
             ],
             [
              0.1111111111111111,
              "#46039f"
             ],
             [
              0.2222222222222222,
              "#7201a8"
             ],
             [
              0.3333333333333333,
              "#9c179e"
             ],
             [
              0.4444444444444444,
              "#bd3786"
             ],
             [
              0.5555555555555556,
              "#d8576b"
             ],
             [
              0.6666666666666666,
              "#ed7953"
             ],
             [
              0.7777777777777778,
              "#fb9f3a"
             ],
             [
              0.8888888888888888,
              "#fdca26"
             ],
             [
              1,
              "#f0f921"
             ]
            ],
            "type": "histogram2dcontour"
           }
          ],
          "mesh3d": [
           {
            "colorbar": {
             "outlinewidth": 0,
             "ticks": ""
            },
            "type": "mesh3d"
           }
          ],
          "parcoords": [
           {
            "line": {
             "colorbar": {
              "outlinewidth": 0,
              "ticks": ""
             }
            },
            "type": "parcoords"
           }
          ],
          "pie": [
           {
            "automargin": true,
            "type": "pie"
           }
          ],
          "scatter": [
           {
            "fillpattern": {
             "fillmode": "overlay",
             "size": 10,
             "solidity": 0.2
            },
            "type": "scatter"
           }
          ],
          "scatter3d": [
           {
            "line": {
             "colorbar": {
              "outlinewidth": 0,
              "ticks": ""
             }
            },
            "marker": {
             "colorbar": {
              "outlinewidth": 0,
              "ticks": ""
             }
            },
            "type": "scatter3d"
           }
          ],
          "scattercarpet": [
           {
            "marker": {
             "colorbar": {
              "outlinewidth": 0,
              "ticks": ""
             }
            },
            "type": "scattercarpet"
           }
          ],
          "scattergeo": [
           {
            "marker": {
             "colorbar": {
              "outlinewidth": 0,
              "ticks": ""
             }
            },
            "type": "scattergeo"
           }
          ],
          "scattergl": [
           {
            "marker": {
             "colorbar": {
              "outlinewidth": 0,
              "ticks": ""
             }
            },
            "type": "scattergl"
           }
          ],
          "scattermap": [
           {
            "marker": {
             "colorbar": {
              "outlinewidth": 0,
              "ticks": ""
             }
            },
            "type": "scattermap"
           }
          ],
          "scattermapbox": [
           {
            "marker": {
             "colorbar": {
              "outlinewidth": 0,
              "ticks": ""
             }
            },
            "type": "scattermapbox"
           }
          ],
          "scatterpolar": [
           {
            "marker": {
             "colorbar": {
              "outlinewidth": 0,
              "ticks": ""
             }
            },
            "type": "scatterpolar"
           }
          ],
          "scatterpolargl": [
           {
            "marker": {
             "colorbar": {
              "outlinewidth": 0,
              "ticks": ""
             }
            },
            "type": "scatterpolargl"
           }
          ],
          "scatterternary": [
           {
            "marker": {
             "colorbar": {
              "outlinewidth": 0,
              "ticks": ""
             }
            },
            "type": "scatterternary"
           }
          ],
          "surface": [
           {
            "colorbar": {
             "outlinewidth": 0,
             "ticks": ""
            },
            "colorscale": [
             [
              0,
              "#0d0887"
             ],
             [
              0.1111111111111111,
              "#46039f"
             ],
             [
              0.2222222222222222,
              "#7201a8"
             ],
             [
              0.3333333333333333,
              "#9c179e"
             ],
             [
              0.4444444444444444,
              "#bd3786"
             ],
             [
              0.5555555555555556,
              "#d8576b"
             ],
             [
              0.6666666666666666,
              "#ed7953"
             ],
             [
              0.7777777777777778,
              "#fb9f3a"
             ],
             [
              0.8888888888888888,
              "#fdca26"
             ],
             [
              1,
              "#f0f921"
             ]
            ],
            "type": "surface"
           }
          ],
          "table": [
           {
            "cells": {
             "fill": {
              "color": "#EBF0F8"
             },
             "line": {
              "color": "white"
             }
            },
            "header": {
             "fill": {
              "color": "#C8D4E3"
             },
             "line": {
              "color": "white"
             }
            },
            "type": "table"
           }
          ]
         },
         "layout": {
          "annotationdefaults": {
           "arrowcolor": "#2a3f5f",
           "arrowhead": 0,
           "arrowwidth": 1
          },
          "autotypenumbers": "strict",
          "coloraxis": {
           "colorbar": {
            "outlinewidth": 0,
            "ticks": ""
           }
          },
          "colorscale": {
           "diverging": [
            [
             0,
             "#8e0152"
            ],
            [
             0.1,
             "#c51b7d"
            ],
            [
             0.2,
             "#de77ae"
            ],
            [
             0.3,
             "#f1b6da"
            ],
            [
             0.4,
             "#fde0ef"
            ],
            [
             0.5,
             "#f7f7f7"
            ],
            [
             0.6,
             "#e6f5d0"
            ],
            [
             0.7,
             "#b8e186"
            ],
            [
             0.8,
             "#7fbc41"
            ],
            [
             0.9,
             "#4d9221"
            ],
            [
             1,
             "#276419"
            ]
           ],
           "sequential": [
            [
             0,
             "#0d0887"
            ],
            [
             0.1111111111111111,
             "#46039f"
            ],
            [
             0.2222222222222222,
             "#7201a8"
            ],
            [
             0.3333333333333333,
             "#9c179e"
            ],
            [
             0.4444444444444444,
             "#bd3786"
            ],
            [
             0.5555555555555556,
             "#d8576b"
            ],
            [
             0.6666666666666666,
             "#ed7953"
            ],
            [
             0.7777777777777778,
             "#fb9f3a"
            ],
            [
             0.8888888888888888,
             "#fdca26"
            ],
            [
             1,
             "#f0f921"
            ]
           ],
           "sequentialminus": [
            [
             0,
             "#0d0887"
            ],
            [
             0.1111111111111111,
             "#46039f"
            ],
            [
             0.2222222222222222,
             "#7201a8"
            ],
            [
             0.3333333333333333,
             "#9c179e"
            ],
            [
             0.4444444444444444,
             "#bd3786"
            ],
            [
             0.5555555555555556,
             "#d8576b"
            ],
            [
             0.6666666666666666,
             "#ed7953"
            ],
            [
             0.7777777777777778,
             "#fb9f3a"
            ],
            [
             0.8888888888888888,
             "#fdca26"
            ],
            [
             1,
             "#f0f921"
            ]
           ]
          },
          "colorway": [
           "#636efa",
           "#EF553B",
           "#00cc96",
           "#ab63fa",
           "#FFA15A",
           "#19d3f3",
           "#FF6692",
           "#B6E880",
           "#FF97FF",
           "#FECB52"
          ],
          "font": {
           "color": "#2a3f5f"
          },
          "geo": {
           "bgcolor": "white",
           "lakecolor": "white",
           "landcolor": "#E5ECF6",
           "showlakes": true,
           "showland": true,
           "subunitcolor": "white"
          },
          "hoverlabel": {
           "align": "left"
          },
          "hovermode": "closest",
          "mapbox": {
           "style": "light"
          },
          "paper_bgcolor": "white",
          "plot_bgcolor": "#E5ECF6",
          "polar": {
           "angularaxis": {
            "gridcolor": "white",
            "linecolor": "white",
            "ticks": ""
           },
           "bgcolor": "#E5ECF6",
           "radialaxis": {
            "gridcolor": "white",
            "linecolor": "white",
            "ticks": ""
           }
          },
          "scene": {
           "xaxis": {
            "backgroundcolor": "#E5ECF6",
            "gridcolor": "white",
            "gridwidth": 2,
            "linecolor": "white",
            "showbackground": true,
            "ticks": "",
            "zerolinecolor": "white"
           },
           "yaxis": {
            "backgroundcolor": "#E5ECF6",
            "gridcolor": "white",
            "gridwidth": 2,
            "linecolor": "white",
            "showbackground": true,
            "ticks": "",
            "zerolinecolor": "white"
           },
           "zaxis": {
            "backgroundcolor": "#E5ECF6",
            "gridcolor": "white",
            "gridwidth": 2,
            "linecolor": "white",
            "showbackground": true,
            "ticks": "",
            "zerolinecolor": "white"
           }
          },
          "shapedefaults": {
           "line": {
            "color": "#2a3f5f"
           }
          },
          "ternary": {
           "aaxis": {
            "gridcolor": "white",
            "linecolor": "white",
            "ticks": ""
           },
           "baxis": {
            "gridcolor": "white",
            "linecolor": "white",
            "ticks": ""
           },
           "bgcolor": "#E5ECF6",
           "caxis": {
            "gridcolor": "white",
            "linecolor": "white",
            "ticks": ""
           }
          },
          "title": {
           "x": 0.05
          },
          "xaxis": {
           "automargin": true,
           "gridcolor": "white",
           "linecolor": "white",
           "ticks": "",
           "title": {
            "standoff": 15
           },
           "zerolinecolor": "white",
           "zerolinewidth": 2
          },
          "yaxis": {
           "automargin": true,
           "gridcolor": "white",
           "linecolor": "white",
           "ticks": "",
           "title": {
            "standoff": 15
           },
           "zerolinecolor": "white",
           "zerolinewidth": 2
          }
         }
        },
        "title": {
         "text": "Power Spectrum"
        },
        "xaxis": {
         "title": {
          "text": "Wavelength (μm)"
         }
        },
        "yaxis": {
         "title": {
          "text": "Power"
         }
        }
       }
      }
     },
     "metadata": {},
     "output_type": "display_data"
    },
    {
     "name": "stdout",
     "output_type": "stream",
     "text": [
      "Device length: 2292.257568359375\n",
      "Max power / (Device length)^2: 2.6902833259734305e-12\n"
     ]
    }
   ],
   "source": [
    "widths = jnp.load(\"optimized_widths_1000_3.npy\")\n",
    "# TODO: widthsに値が負のドメインが一つだけ含まれていたのでドメインの幅を修正する。\n",
    "widths = jnp.where(widths < 0, 0.98, widths)\n",
    "num_domains = widths.shape[0]\n",
    "kappa_vals = kappa_mag * jnp.power(-1, jnp.arange(num_domains))\n",
    "wls = jnp.linspace(1.025, 1.035, 1000)\n",
    "delta_k1 = mgoslt.calc_twm_delta_k(wls, wls, 70.0)\n",
    "delta_k2 = mgoslt.calc_twm_delta_k(wls, wls / 2, 70.0)\n",
    "\n",
    "b_end_shg = batch_simulate_twm(widths, kappa_vals, delta_k1s, delta_k2s, b_initial)\n",
    "\n",
    "thw_powers = jnp.abs(b_end_shg[:, 2]) ** 2 * 100 * 1.07 / 2.84\n",
    "\n",
    "show_power_spectrum(wls, thw_powers)\n",
    "\n",
    "device_length = jnp.sum(widths)\n",
    "print(f\"Device length: {device_length}\")\n",
    "print(f\"Max power / (Device length)^2: {jnp.max(thw_powers) / device_length**2}\")"
   ]
  },
  {
   "cell_type": "code",
   "execution_count": 20,
   "id": "6c6ce3b7",
   "metadata": {},
   "outputs": [
    {
     "data": {
      "application/vnd.plotly.v1+json": {
       "config": {
        "plotlyServerURL": "https://plot.ly"
       },
       "data": [
        {
         "line": {
          "dash": "dot"
         },
         "mode": "lines",
         "name": "Periodic",
         "type": "scatter",
         "y": {
          "bdata": "/nNmQP5zZkD+c2ZA/nNmQP5zZkD+c2ZA/nNmQP5zZkD+c2ZA/nNmQP5zZkD+c2ZA/nNmQP5zZkD+c2ZA/nNmQP5zZkD+c2ZA/nNmQP5zZkD+c2ZA/nNmQP5zZkD+c2ZA/nNmQP5zZkD+c2ZA/nNmQP5zZkD+c2ZA/nNmQP5zZkD+c2ZA/nNmQP5zZkD+c2ZA/nNmQP5zZkD+c2ZA/nNmQP5zZkD+c2ZA/nNmQP5zZkD+c2ZA/nNmQP5zZkD+c2ZA/nNmQP5zZkD+c2ZA/nNmQP5zZkD+c2ZA/nNmQP5zZkD+c2ZA/nNmQP5zZkD+c2ZA/nNmQP5zZkD+c2ZA/nNmQP5zZkD+c2ZA/nNmQP5zZkD+c2ZA/nNmQP5zZkD+c2ZA/nNmQP5zZkD+c2ZA/nNmQP5zZkD+c2ZA/nNmQP5zZkD+c2ZA/nNmQP5zZkD+c2ZA/nNmQP5zZkD+c2ZA/nNmQP5zZkD+c2ZA/nNmQP5zZkD+c2ZA/nNmQP5zZkD+c2ZA/nNmQP5zZkD+c2ZA/nNmQP5zZkD+c2ZA/nNmQP5zZkD+c2ZA/nNmQP5zZkD+c2ZA/nNmQP5zZkD+c2ZA/nNmQP5zZkD+c2ZA/nNmQP5zZkD+c2ZA/nNmQP5zZkD+c2ZA/nNmQP5zZkD+c2ZA/nNmQP5zZkD+c2ZA/nNmQP5zZkD+c2ZA/nNmQP5zZkD+c2ZA/nNmQP5zZkD+c2ZA/nNmQP5zZkD+c2ZA/nNmQP5zZkD+c2ZA/nNmQP5zZkD+c2ZA/nNmQP5zZkD+c2ZA/nNmQP5zZkD+c2ZA/nNmQP5zZkD+c2ZA/nNmQP5zZkD+c2ZA/nNmQP5zZkD+c2ZA/nNmQP5zZkD+c2ZA/nNmQP5zZkD+c2ZA/nNmQP5zZkD+c2ZA/nNmQP5zZkD+c2ZA/nNmQP5zZkD+c2ZA/nNmQP5zZkD+c2ZA/nNmQP5zZkD+c2ZA/nNmQP5zZkD+c2ZA/nNmQP5zZkD+c2ZA/nNmQP5zZkD+c2ZA/nNmQP5zZkD+c2ZA/nNmQP5zZkD+c2ZA/nNmQP5zZkD+c2ZA/nNmQP5zZkD+c2ZA/nNmQP5zZkD+c2ZA/nNmQP5zZkD+c2ZA/nNmQP5zZkD+c2ZA/nNmQP5zZkD+c2ZA/nNmQP5zZkD+c2ZA/nNmQP5zZkD+c2ZA/nNmQP5zZkD+c2ZA/nNmQP5zZkD+c2ZA/nNmQP5zZkD+c2ZA/nNmQP5zZkD+c2ZA/nNmQP5zZkD+c2ZA/nNmQP5zZkD+c2ZA/nNmQP5zZkD+c2ZA/nNmQP5zZkD+c2ZA/nNmQP5zZkD+c2ZA/nNmQP5zZkD+c2ZA/nNmQP5zZkD+c2ZA/nNmQP5zZkD+c2ZA/nNmQP5zZkD+c2ZA/nNmQP5zZkD+c2ZA/nNmQP5zZkD+c2ZA/nNmQP5zZkD+c2ZA/nNmQP5zZkD+c2ZA/nNmQP5zZkD+c2ZA/nNmQP5zZkD+c2ZA/nNmQP5zZkD+c2ZA/nNmQP5zZkD+c2ZA/nNmQP5zZkD+c2ZA/nNmQP5zZkD+c2ZA/nNmQP5zZkD+c2ZA/nNmQP5zZkD+c2ZA/nNmQP5zZkD+c2ZA/nNmQP5zZkD+c2ZA/nNmQP5zZkD+c2ZA/nNmQP5zZkD+c2ZA/nNmQP5zZkD+c2ZA/nNmQP5zZkD+c2ZA/nNmQP5zZkD+c2ZA/nNmQP5zZkD+c2ZA/nNmQP5zZkD+c2ZA/nNmQP5zZkD+c2ZA/nNmQP5zZkD+c2ZA/nNmQP5zZkD+c2ZA/nNmQP5zZkD+c2ZA/nNmQP5zZkD+c2ZA/nNmQP5zZkD+c2ZA/nNmQP5zZkD+c2ZA/nNmQP5zZkD+c2ZA/nNmQP5zZkD+c2ZA/nNmQP5zZkD+c2ZA/nNmQP5zZkD+c2ZA/nNmQP5zZkD+c2ZA/nNmQP5zZkD+c2ZA/nNmQP5zZkD+c2ZA/nNmQP5zZkD+c2ZA/nNmQP5zZkD+c2ZA/nNmQP5zZkD+c2ZA/nNmQP5zZkD+c2ZA/nNmQP5zZkD+c2ZA/nNmQP5zZkD+c2ZA/nNmQP5zZkD+c2ZA/nNmQP5zZkD+c2ZA/nNmQP5zZkD+c2ZA/nNmQP5zZkD+c2ZA/nNmQP5zZkD+c2ZA/nNmQP5zZkD+c2ZA/nNmQP5zZkD+c2ZA/nNmQP5zZkD+c2ZA/nNmQP5zZkD+c2ZA/nNmQP5zZkD+c2ZA/nNmQP5zZkD+c2ZA/nNmQP5zZkD+c2ZA/nNmQP5zZkD+c2ZA/nNmQP5zZkD+c2ZA/nNmQP5zZkD+c2ZA/nNmQP5zZkD+c2ZA/nNmQP5zZkD+c2ZA/nNmQP5zZkD+c2ZA/nNmQP5zZkD+c2ZA/nNmQP5zZkD+c2ZA/nNmQP5zZkD+c2ZA/nNmQP5zZkD+c2ZA/nNmQP5zZkD+c2ZA/nNmQP5zZkD+c2ZA/nNmQP5zZkD+c2ZA/nNmQP5zZkD+c2ZA/nNmQP5zZkD+c2ZA/nNmQP5zZkD+c2ZA/nNmQP5zZkD+c2ZA/nNmQP5zZkD+c2ZA/nNmQP5zZkD+c2ZA/nNmQP5zZkD+c2ZA/nNmQP5zZkD+c2ZA/nNmQP5zZkD+c2ZA/nNmQP5zZkD+c2ZA/nNmQP5zZkD+c2ZA/nNmQP5zZkD+c2ZA/nNmQP5zZkD+c2ZA/nNmQP5zZkD+c2ZA/nNmQP5zZkB0xHo/dMR6P3TEej90xHo/dMR6P3TEej90xHo/dMR6P3TEej90xHo/dMR6P3TEej90xHo/dMR6P3TEej90xHo/dMR6P3TEej90xHo/dMR6P3TEej90xHo/dMR6P3TEej90xHo/dMR6P3TEej90xHo/dMR6P3TEej90xHo/dMR6P3TEej90xHo/dMR6P3TEej90xHo/dMR6P3TEej90xHo/dMR6P3TEej90xHo/dMR6P3TEej90xHo/dMR6P3TEej90xHo/dMR6P3TEej90xHo/dMR6P3TEej90xHo/dMR6P3TEej90xHo/dMR6P3TEej90xHo/dMR6P3TEej90xHo/dMR6P3TEej90xHo/dMR6P3TEej90xHo/dMR6P3TEej90xHo/dMR6P3TEej90xHo/dMR6P3TEej90xHo/dMR6P3TEej90xHo/dMR6P3TEej90xHo/dMR6P3TEej90xHo/dMR6P3TEej90xHo/dMR6P3TEej90xHo/dMR6P3TEej90xHo/dMR6P3TEej90xHo/dMR6P3TEej90xHo/dMR6P3TEej90xHo/dMR6P3TEej90xHo/dMR6P3TEej90xHo/dMR6P3TEej90xHo/dMR6P3TEej90xHo/dMR6P3TEej90xHo/dMR6P3TEej90xHo/dMR6P3TEej90xHo/dMR6P3TEej90xHo/dMR6P3TEej90xHo/dMR6P3TEej90xHo/dMR6P3TEej90xHo/dMR6P3TEej90xHo/dMR6P3TEej90xHo/dMR6P3TEej90xHo/dMR6P3TEej90xHo/dMR6P3TEej90xHo/dMR6P3TEej90xHo/dMR6P3TEej90xHo/dMR6P3TEej90xHo/dMR6P3TEej90xHo/dMR6P3TEej90xHo/dMR6P3TEej90xHo/dMR6P3TEej90xHo/dMR6P3TEej90xHo/dMR6P3TEej90xHo/dMR6P3TEej90xHo/dMR6P3TEej90xHo/dMR6P3TEej90xHo/dMR6P3TEej90xHo/dMR6P3TEej90xHo/dMR6P3TEej90xHo/dMR6P3TEej90xHo/dMR6P3TEej90xHo/dMR6P3TEej90xHo/dMR6P3TEej90xHo/dMR6P3TEej90xHo/dMR6P3TEej90xHo/dMR6P3TEej90xHo/dMR6P3TEej90xHo/dMR6P3TEej90xHo/dMR6P3TEej90xHo/dMR6P3TEej90xHo/dMR6P3TEej90xHo/dMR6P3TEej90xHo/dMR6P3TEej90xHo/dMR6P3TEej90xHo/dMR6P3TEej90xHo/dMR6P3TEej90xHo/dMR6P3TEej90xHo/dMR6P3TEej90xHo/dMR6P3TEej90xHo/dMR6P3TEej90xHo/dMR6P3TEej90xHo/dMR6P3TEej90xHo/dMR6P3TEej90xHo/dMR6P3TEej90xHo/dMR6P3TEej90xHo/dMR6P3TEej90xHo/dMR6P3TEej90xHo/dMR6P3TEej90xHo/dMR6P3TEej90xHo/dMR6P3TEej90xHo/dMR6P3TEej90xHo/dMR6P3TEej90xHo/dMR6P3TEej90xHo/dMR6P3TEej90xHo/dMR6P3TEej90xHo/dMR6P3TEej90xHo/dMR6P3TEej90xHo/dMR6P3TEej90xHo/dMR6P3TEej90xHo/dMR6P3TEej90xHo/dMR6P3TEej90xHo/dMR6P3TEej90xHo/dMR6P3TEej90xHo/dMR6P3TEej90xHo/dMR6P3TEej90xHo/dMR6P3TEej90xHo/dMR6P3TEej90xHo/dMR6P3TEej90xHo/dMR6P3TEej90xHo/dMR6P3TEej90xHo/dMR6P3TEej90xHo/dMR6P3TEej90xHo/dMR6P3TEej90xHo/dMR6P3TEej90xHo/dMR6P3TEej90xHo/dMR6P3TEej90xHo/dMR6P3TEej90xHo/dMR6P3TEej90xHo/dMR6P3TEej90xHo/dMR6P3TEej90xHo/dMR6P3TEej90xHo/dMR6P3TEej90xHo/dMR6P3TEej90xHo/dMR6P3TEej90xHo/dMR6P3TEej90xHo/dMR6P3TEej90xHo/dMR6P3TEej90xHo/dMR6P3TEej90xHo/dMR6P3TEej90xHo/dMR6P3TEej90xHo/dMR6P3TEej90xHo/dMR6P3TEej90xHo/dMR6P3TEej90xHo/dMR6P3TEej90xHo/dMR6P3TEej90xHo/dMR6P3TEej90xHo/dMR6P3TEej90xHo/dMR6P3TEej90xHo/dMR6P3TEej90xHo/dMR6P3TEej90xHo/dMR6P3TEej90xHo/dMR6P3TEej90xHo/dMR6P3TEej90xHo/dMR6P3TEej90xHo/dMR6P3TEej90xHo/dMR6P3TEej90xHo/dMR6P3TEej90xHo/dMR6P3TEej90xHo/dMR6P3TEej90xHo/dMR6P3TEej90xHo/dMR6P3TEej90xHo/dMR6P3TEej90xHo/dMR6P3TEej90xHo/dMR6P3TEej90xHo/dMR6P3TEej90xHo/dMR6P3TEej90xHo/dMR6P3TEej90xHo/dMR6P3TEej90xHo/dMR6P3TEej90xHo/dMR6Pw==",
          "dtype": "f4"
         }
        },
        {
         "mode": "lines",
         "name": "Optimized",
         "type": "scatter",
         "y": {
          "bdata": "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",
          "dtype": "f4"
         }
        }
       ],
       "layout": {
        "template": {
         "data": {
          "bar": [
           {
            "error_x": {
             "color": "#2a3f5f"
            },
            "error_y": {
             "color": "#2a3f5f"
            },
            "marker": {
             "line": {
              "color": "white",
              "width": 0.5
             },
             "pattern": {
              "fillmode": "overlay",
              "size": 10,
              "solidity": 0.2
             }
            },
            "type": "bar"
           }
          ],
          "barpolar": [
           {
            "marker": {
             "line": {
              "color": "white",
              "width": 0.5
             },
             "pattern": {
              "fillmode": "overlay",
              "size": 10,
              "solidity": 0.2
             }
            },
            "type": "barpolar"
           }
          ],
          "carpet": [
           {
            "aaxis": {
             "endlinecolor": "#2a3f5f",
             "gridcolor": "#C8D4E3",
             "linecolor": "#C8D4E3",
             "minorgridcolor": "#C8D4E3",
             "startlinecolor": "#2a3f5f"
            },
            "baxis": {
             "endlinecolor": "#2a3f5f",
             "gridcolor": "#C8D4E3",
             "linecolor": "#C8D4E3",
             "minorgridcolor": "#C8D4E3",
             "startlinecolor": "#2a3f5f"
            },
            "type": "carpet"
           }
          ],
          "choropleth": [
           {
            "colorbar": {
             "outlinewidth": 0,
             "ticks": ""
            },
            "type": "choropleth"
           }
          ],
          "contour": [
           {
            "colorbar": {
             "outlinewidth": 0,
             "ticks": ""
            },
            "colorscale": [
             [
              0,
              "#0d0887"
             ],
             [
              0.1111111111111111,
              "#46039f"
             ],
             [
              0.2222222222222222,
              "#7201a8"
             ],
             [
              0.3333333333333333,
              "#9c179e"
             ],
             [
              0.4444444444444444,
              "#bd3786"
             ],
             [
              0.5555555555555556,
              "#d8576b"
             ],
             [
              0.6666666666666666,
              "#ed7953"
             ],
             [
              0.7777777777777778,
              "#fb9f3a"
             ],
             [
              0.8888888888888888,
              "#fdca26"
             ],
             [
              1,
              "#f0f921"
             ]
            ],
            "type": "contour"
           }
          ],
          "contourcarpet": [
           {
            "colorbar": {
             "outlinewidth": 0,
             "ticks": ""
            },
            "type": "contourcarpet"
           }
          ],
          "heatmap": [
           {
            "colorbar": {
             "outlinewidth": 0,
             "ticks": ""
            },
            "colorscale": [
             [
              0,
              "#0d0887"
             ],
             [
              0.1111111111111111,
              "#46039f"
             ],
             [
              0.2222222222222222,
              "#7201a8"
             ],
             [
              0.3333333333333333,
              "#9c179e"
             ],
             [
              0.4444444444444444,
              "#bd3786"
             ],
             [
              0.5555555555555556,
              "#d8576b"
             ],
             [
              0.6666666666666666,
              "#ed7953"
             ],
             [
              0.7777777777777778,
              "#fb9f3a"
             ],
             [
              0.8888888888888888,
              "#fdca26"
             ],
             [
              1,
              "#f0f921"
             ]
            ],
            "type": "heatmap"
           }
          ],
          "histogram": [
           {
            "marker": {
             "pattern": {
              "fillmode": "overlay",
              "size": 10,
              "solidity": 0.2
             }
            },
            "type": "histogram"
           }
          ],
          "histogram2d": [
           {
            "colorbar": {
             "outlinewidth": 0,
             "ticks": ""
            },
            "colorscale": [
             [
              0,
              "#0d0887"
             ],
             [
              0.1111111111111111,
              "#46039f"
             ],
             [
              0.2222222222222222,
              "#7201a8"
             ],
             [
              0.3333333333333333,
              "#9c179e"
             ],
             [
              0.4444444444444444,
              "#bd3786"
             ],
             [
              0.5555555555555556,
              "#d8576b"
             ],
             [
              0.6666666666666666,
              "#ed7953"
             ],
             [
              0.7777777777777778,
              "#fb9f3a"
             ],
             [
              0.8888888888888888,
              "#fdca26"
             ],
             [
              1,
              "#f0f921"
             ]
            ],
            "type": "histogram2d"
           }
          ],
          "histogram2dcontour": [
           {
            "colorbar": {
             "outlinewidth": 0,
             "ticks": ""
            },
            "colorscale": [
             [
              0,
              "#0d0887"
             ],
             [
              0.1111111111111111,
              "#46039f"
             ],
             [
              0.2222222222222222,
              "#7201a8"
             ],
             [
              0.3333333333333333,
              "#9c179e"
             ],
             [
              0.4444444444444444,
              "#bd3786"
             ],
             [
              0.5555555555555556,
              "#d8576b"
             ],
             [
              0.6666666666666666,
              "#ed7953"
             ],
             [
              0.7777777777777778,
              "#fb9f3a"
             ],
             [
              0.8888888888888888,
              "#fdca26"
             ],
             [
              1,
              "#f0f921"
             ]
            ],
            "type": "histogram2dcontour"
           }
          ],
          "mesh3d": [
           {
            "colorbar": {
             "outlinewidth": 0,
             "ticks": ""
            },
            "type": "mesh3d"
           }
          ],
          "parcoords": [
           {
            "line": {
             "colorbar": {
              "outlinewidth": 0,
              "ticks": ""
             }
            },
            "type": "parcoords"
           }
          ],
          "pie": [
           {
            "automargin": true,
            "type": "pie"
           }
          ],
          "scatter": [
           {
            "fillpattern": {
             "fillmode": "overlay",
             "size": 10,
             "solidity": 0.2
            },
            "type": "scatter"
           }
          ],
          "scatter3d": [
           {
            "line": {
             "colorbar": {
              "outlinewidth": 0,
              "ticks": ""
             }
            },
            "marker": {
             "colorbar": {
              "outlinewidth": 0,
              "ticks": ""
             }
            },
            "type": "scatter3d"
           }
          ],
          "scattercarpet": [
           {
            "marker": {
             "colorbar": {
              "outlinewidth": 0,
              "ticks": ""
             }
            },
            "type": "scattercarpet"
           }
          ],
          "scattergeo": [
           {
            "marker": {
             "colorbar": {
              "outlinewidth": 0,
              "ticks": ""
             }
            },
            "type": "scattergeo"
           }
          ],
          "scattergl": [
           {
            "marker": {
             "colorbar": {
              "outlinewidth": 0,
              "ticks": ""
             }
            },
            "type": "scattergl"
           }
          ],
          "scattermap": [
           {
            "marker": {
             "colorbar": {
              "outlinewidth": 0,
              "ticks": ""
             }
            },
            "type": "scattermap"
           }
          ],
          "scattermapbox": [
           {
            "marker": {
             "colorbar": {
              "outlinewidth": 0,
              "ticks": ""
             }
            },
            "type": "scattermapbox"
           }
          ],
          "scatterpolar": [
           {
            "marker": {
             "colorbar": {
              "outlinewidth": 0,
              "ticks": ""
             }
            },
            "type": "scatterpolar"
           }
          ],
          "scatterpolargl": [
           {
            "marker": {
             "colorbar": {
              "outlinewidth": 0,
              "ticks": ""
             }
            },
            "type": "scatterpolargl"
           }
          ],
          "scatterternary": [
           {
            "marker": {
             "colorbar": {
              "outlinewidth": 0,
              "ticks": ""
             }
            },
            "type": "scatterternary"
           }
          ],
          "surface": [
           {
            "colorbar": {
             "outlinewidth": 0,
             "ticks": ""
            },
            "colorscale": [
             [
              0,
              "#0d0887"
             ],
             [
              0.1111111111111111,
              "#46039f"
             ],
             [
              0.2222222222222222,
              "#7201a8"
             ],
             [
              0.3333333333333333,
              "#9c179e"
             ],
             [
              0.4444444444444444,
              "#bd3786"
             ],
             [
              0.5555555555555556,
              "#d8576b"
             ],
             [
              0.6666666666666666,
              "#ed7953"
             ],
             [
              0.7777777777777778,
              "#fb9f3a"
             ],
             [
              0.8888888888888888,
              "#fdca26"
             ],
             [
              1,
              "#f0f921"
             ]
            ],
            "type": "surface"
           }
          ],
          "table": [
           {
            "cells": {
             "fill": {
              "color": "#EBF0F8"
             },
             "line": {
              "color": "white"
             }
            },
            "header": {
             "fill": {
              "color": "#C8D4E3"
             },
             "line": {
              "color": "white"
             }
            },
            "type": "table"
           }
          ]
         },
         "layout": {
          "annotationdefaults": {
           "arrowcolor": "#2a3f5f",
           "arrowhead": 0,
           "arrowwidth": 1
          },
          "autotypenumbers": "strict",
          "coloraxis": {
           "colorbar": {
            "outlinewidth": 0,
            "ticks": ""
           }
          },
          "colorscale": {
           "diverging": [
            [
             0,
             "#8e0152"
            ],
            [
             0.1,
             "#c51b7d"
            ],
            [
             0.2,
             "#de77ae"
            ],
            [
             0.3,
             "#f1b6da"
            ],
            [
             0.4,
             "#fde0ef"
            ],
            [
             0.5,
             "#f7f7f7"
            ],
            [
             0.6,
             "#e6f5d0"
            ],
            [
             0.7,
             "#b8e186"
            ],
            [
             0.8,
             "#7fbc41"
            ],
            [
             0.9,
             "#4d9221"
            ],
            [
             1,
             "#276419"
            ]
           ],
           "sequential": [
            [
             0,
             "#0d0887"
            ],
            [
             0.1111111111111111,
             "#46039f"
            ],
            [
             0.2222222222222222,
             "#7201a8"
            ],
            [
             0.3333333333333333,
             "#9c179e"
            ],
            [
             0.4444444444444444,
             "#bd3786"
            ],
            [
             0.5555555555555556,
             "#d8576b"
            ],
            [
             0.6666666666666666,
             "#ed7953"
            ],
            [
             0.7777777777777778,
             "#fb9f3a"
            ],
            [
             0.8888888888888888,
             "#fdca26"
            ],
            [
             1,
             "#f0f921"
            ]
           ],
           "sequentialminus": [
            [
             0,
             "#0d0887"
            ],
            [
             0.1111111111111111,
             "#46039f"
            ],
            [
             0.2222222222222222,
             "#7201a8"
            ],
            [
             0.3333333333333333,
             "#9c179e"
            ],
            [
             0.4444444444444444,
             "#bd3786"
            ],
            [
             0.5555555555555556,
             "#d8576b"
            ],
            [
             0.6666666666666666,
             "#ed7953"
            ],
            [
             0.7777777777777778,
             "#fb9f3a"
            ],
            [
             0.8888888888888888,
             "#fdca26"
            ],
            [
             1,
             "#f0f921"
            ]
           ]
          },
          "colorway": [
           "#636efa",
           "#EF553B",
           "#00cc96",
           "#ab63fa",
           "#FFA15A",
           "#19d3f3",
           "#FF6692",
           "#B6E880",
           "#FF97FF",
           "#FECB52"
          ],
          "font": {
           "color": "#2a3f5f"
          },
          "geo": {
           "bgcolor": "white",
           "lakecolor": "white",
           "landcolor": "white",
           "showlakes": true,
           "showland": true,
           "subunitcolor": "#C8D4E3"
          },
          "hoverlabel": {
           "align": "left"
          },
          "hovermode": "closest",
          "mapbox": {
           "style": "light"
          },
          "paper_bgcolor": "white",
          "plot_bgcolor": "white",
          "polar": {
           "angularaxis": {
            "gridcolor": "#EBF0F8",
            "linecolor": "#EBF0F8",
            "ticks": ""
           },
           "bgcolor": "white",
           "radialaxis": {
            "gridcolor": "#EBF0F8",
            "linecolor": "#EBF0F8",
            "ticks": ""
           }
          },
          "scene": {
           "xaxis": {
            "backgroundcolor": "white",
            "gridcolor": "#DFE8F3",
            "gridwidth": 2,
            "linecolor": "#EBF0F8",
            "showbackground": true,
            "ticks": "",
            "zerolinecolor": "#EBF0F8"
           },
           "yaxis": {
            "backgroundcolor": "white",
            "gridcolor": "#DFE8F3",
            "gridwidth": 2,
            "linecolor": "#EBF0F8",
            "showbackground": true,
            "ticks": "",
            "zerolinecolor": "#EBF0F8"
           },
           "zaxis": {
            "backgroundcolor": "white",
            "gridcolor": "#DFE8F3",
            "gridwidth": 2,
            "linecolor": "#EBF0F8",
            "showbackground": true,
            "ticks": "",
            "zerolinecolor": "#EBF0F8"
           }
          },
          "shapedefaults": {
           "line": {
            "color": "#2a3f5f"
           }
          },
          "ternary": {
           "aaxis": {
            "gridcolor": "#DFE8F3",
            "linecolor": "#A2B1C6",
            "ticks": ""
           },
           "baxis": {
            "gridcolor": "#DFE8F3",
            "linecolor": "#A2B1C6",
            "ticks": ""
           },
           "bgcolor": "white",
           "caxis": {
            "gridcolor": "#DFE8F3",
            "linecolor": "#A2B1C6",
            "ticks": ""
           }
          },
          "title": {
           "x": 0.05
          },
          "xaxis": {
           "automargin": true,
           "gridcolor": "#EBF0F8",
           "linecolor": "#EBF0F8",
           "ticks": "",
           "title": {
            "standoff": 15
           },
           "zerolinecolor": "#EBF0F8",
           "zerolinewidth": 2
          },
          "yaxis": {
           "automargin": true,
           "gridcolor": "#EBF0F8",
           "linecolor": "#EBF0F8",
           "ticks": "",
           "title": {
            "standoff": 15
           },
           "zerolinecolor": "#EBF0F8",
           "zerolinewidth": 2
          }
         }
        },
        "title": {
         "text": "Domain Widths Comparison"
        },
        "xaxis": {
         "title": {
          "text": "Domain Index"
         }
        },
        "yaxis": {
         "title": {
          "text": "Width (μm)"
         }
        }
       }
      }
     },
     "metadata": {},
     "output_type": "display_data"
    }
   ],
   "source": [
    "def plot_domain_widths(optimized_widths: jax.Array, periodic_widths: jax.Array) -> None:\n",
    "    \"\"\"Plots the domain widths before and after optimization.\"\"\"\n",
    "    fig = go.Figure()\n",
    "    fig.add_trace(go.Scatter(y=periodic_widths, mode=\"lines\", name=\"Periodic\", line={\"dash\": \"dot\"}))\n",
    "    fig.add_trace(go.Scatter(y=optimized_widths, mode=\"lines\", name=\"Optimized\"))\n",
    "    fig.update_layout(\n",
    "        title_text=\"Domain Widths Comparison\",\n",
    "        xaxis_title=\"Domain Index\",\n",
    "        yaxis_title=\"Width (μm)\",\n",
    "        template=\"plotly_white\",\n",
    "    )\n",
    "    fig.show()\n",
    "\n",
    "\n",
    "plot_domain_widths(widths, widths_thg)"
   ]
  }
 ],
 "metadata": {
  "kernelspec": {
   "display_name": "mictlan (3.13.9)",
   "language": "python",
   "name": "python3"
  },
  "language_info": {
   "codemirror_mode": {
    "name": "ipython",
    "version": 3
   },
   "file_extension": ".py",
   "mimetype": "text/x-python",
   "name": "python",
   "nbconvert_exporter": "python",
   "pygments_lexer": "ipython3",
   "version": "3.13.9"
  }
 },
 "nbformat": 4,
 "nbformat_minor": 5
}
