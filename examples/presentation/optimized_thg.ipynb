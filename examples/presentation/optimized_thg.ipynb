{
 "cells": [
  {
   "cell_type": "code",
   "execution_count": 6,
   "id": "ba66aadc",
   "metadata": {},
   "outputs": [],
   "source": [
    "import jax\n",
    "\n",
    "jax.config.update(\"jax_enable_x64\", val=True)"
   ]
  },
  {
   "cell_type": "code",
   "execution_count": 8,
   "id": "6d661d69",
   "metadata": {},
   "outputs": [
    {
     "name": "stdout",
     "output_type": "stream",
     "text": [
      "Total Device Length: 2000.00 µm\n",
      "---\n",
      "Optimal SHG/Total Length Ratio: 0.5024\n",
      "Optimal SHG Domains: 279\n",
      "Optimal SFG Domains: 1016\n",
      "Actual Device Length in Optimal Config: 1999.86 µm\n",
      "Max Power: 0.002490\n"
     ]
    }
   ],
   "source": [
    "import jax\n",
    "import jax.numpy as jnp\n",
    "from jax import jit, vmap\n",
    "\n",
    "from qpm import cwes, mgoslt\n",
    "\n",
    "\n",
    "def build_simulation_inputs(\n",
    "    total_length: float,\n",
    "    shg_domain_width: float,\n",
    "    sfg_domain_width: float,\n",
    "    max_total_domains: int,\n",
    "    kappa_mag: float,\n",
    ") -> tuple[jax.Array, jax.Array, jax.Array, jax.Array]:\n",
    "    \"\"\"Generates batched inputs for every valid SHG/SFG domain configuration.\"\"\"\n",
    "    # 1. Generate all potential domain counts\n",
    "    shg_counts = jnp.arange(jnp.floor(total_length / shg_domain_width).astype(jnp.int32) + 1)\n",
    "    sfg_counts = jnp.floor((total_length - shg_counts * shg_domain_width) / sfg_domain_width).astype(jnp.int32)\n",
    "    total_counts = shg_counts + sfg_counts\n",
    "\n",
    "    # 2. Filter for valid configurations where there's at least one domain\n",
    "    valid_mask = (sfg_counts >= 0) & (total_counts > 0)\n",
    "    shg_counts, sfg_counts, total_counts = shg_counts[valid_mask], sfg_counts[valid_mask], total_counts[valid_mask]\n",
    "\n",
    "    # 3. Build batched inputs using vectorized operations\n",
    "    domain_indices = jnp.arange(max_total_domains)\n",
    "    is_shg_domain = domain_indices < shg_counts[:, None]\n",
    "    is_sfg_domain = (domain_indices >= shg_counts[:, None]) & (domain_indices < total_counts[:, None])\n",
    "    is_active_domain = domain_indices < total_counts[:, None]\n",
    "\n",
    "    # REFACTOR: Nested jnp.where is more concise than sequential assignments.\n",
    "    batched_widths = jnp.where(is_shg_domain, shg_domain_width, jnp.where(is_sfg_domain, sfg_domain_width, 0.0))\n",
    "\n",
    "    base_kappas = kappa_mag * jnp.power(-1, domain_indices)\n",
    "    batched_kappa_vals = jnp.where(is_active_domain, base_kappas, 0.0)\n",
    "\n",
    "    return batched_widths, batched_kappa_vals, shg_counts, sfg_counts\n",
    "\n",
    "\n",
    "# --- Simulation Parameters ---\n",
    "total_length = 2e3  # µm\n",
    "design_wl = 1.031\n",
    "design_temp = 70.0\n",
    "kappa_mag = 1.31e-4 / (2 / jnp.pi)\n",
    "b_initial = jnp.array([1.0, 0.0, 0.0], dtype=jnp.complex128)\n",
    "\n",
    "# --- Core Logic ---\n",
    "delta_k1 = mgoslt.calc_twm_delta_k(design_wl, design_wl, design_temp)\n",
    "delta_k2 = mgoslt.calc_twm_delta_k(design_wl, design_wl / 2, design_temp)\n",
    "shg_domain_width = jnp.pi / delta_k1\n",
    "sfg_domain_width = jnp.pi / delta_k2\n",
    "\n",
    "# 1. Generate all inputs in a single vectorized operation\n",
    "max_total_domains = int(total_length / sfg_domain_width)\n",
    "batched_widths, batched_kappa_vals, shg_counts, sfg_counts = build_simulation_inputs(\n",
    "    total_length, shg_domain_width, sfg_domain_width, max_total_domains, kappa_mag\n",
    ")\n",
    "\n",
    "# 2. Run batched simulations\n",
    "batched_simulate = jit(vmap(cwes.simulate_twm, in_axes=(0, 0, None, None, None)))\n",
    "b_finals = batched_simulate(batched_widths, batched_kappa_vals, delta_k1, delta_k2, b_initial)\n",
    "thg_powers = jnp.abs(b_finals[:, 2]) ** 2\n",
    "thg_powers.block_until_ready()\n",
    "\n",
    "# 3. Analyze and display the final results\n",
    "best_idx = jnp.argmax(thg_powers)\n",
    "max_power = thg_powers[best_idx]\n",
    "optimal_num_shg = shg_counts[best_idx]\n",
    "optimal_num_sfg = sfg_counts[best_idx]\n",
    "\n",
    "optimal_shg_length = optimal_num_shg * shg_domain_width\n",
    "optimal_sfg_length = optimal_num_sfg * sfg_domain_width\n",
    "actual_total_length = optimal_shg_length + optimal_sfg_length\n",
    "optimal_ratio = optimal_shg_length / actual_total_length\n",
    "\n",
    "print(f\"Total Device Length: {total_length:.2f} µm\")\n",
    "print(\"---\")\n",
    "print(f\"Optimal SHG/Total Length Ratio: {optimal_ratio:.4f}\")\n",
    "print(f\"Optimal SHG Domains: {optimal_num_shg}\")\n",
    "print(f\"Optimal SFG Domains: {optimal_num_sfg}\")\n",
    "print(f\"Actual Device Length in Optimal Config: {actual_total_length:.2f} µm\")\n",
    "print(f\"Max Power: {max_power:.6f}\")"
   ]
  },
  {
   "cell_type": "code",
   "execution_count": 10,
   "id": "ef84c526",
   "metadata": {},
   "outputs": [
    {
     "name": "stdout",
     "output_type": "stream",
     "text": [
      "279 1016\n",
      "Device length: 1999.8648792846866\n",
      "Max power / (Device length)^2: 2.493852083995929e-12\n"
     ]
    },
    {
     "data": {
      "application/vnd.plotly.v1+json": {
       "config": {
        "plotlyServerURL": "https://plot.ly"
       },
       "data": [
        {
         "mode": "lines",
         "name": "Optimized Structure",
         "type": "scatter",
         "x": {
          "bdata": "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",
          "dtype": "f8"
         },
         "y": {
          "bdata": "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",
          "dtype": "f8"
         }
        },
        {
         "mode": "lines",
         "name": "Periodic Structure",
         "type": "scatter",
         "x": {
          "bdata": "ZmZmZmZm8D/NDHHlcGbwPzWze2R7ZvA/m1mG44Vm8D8CAJFikGbwP2mmm+GaZvA/0UymYKVm8D8487Dfr2bwP56Zu166ZvA/BkDG3cRm8D9t5tBcz2bwP9OM29vZZvA/OzPmWuRm8D+i2fDZ7mbwPwmA+1j5ZvA/byYG2ANn8D/XzBBXDmfwPz5zG9YYZ/A/pBkmVSNn8D8MwDDULWfwP3NmO1M4Z/A/2gxG0kJn8D9Cs1BRTWfwP6hZW9BXZ/A/DwBmT2Jn8D92pnDObGfwP95Me013Z/A/RfOFzIFn8D+rmZBLjGfwPxNAm8qWZ/A/eualSaFn8D/hjLDIq2fwP0gzu0e2Z/A/r9nFxsBn8D8WgNBFy2fwP30m28TVZ/A/5MzlQ+Bn8D9Mc/DC6mfwP7IZ+0H1Z/A/GcAFwf9n8D+AZhBACmjwP+gMG78UaPA/TrMlPh9o8D+1WTC9KWjwPx0AOzw0aPA/g6ZFuz5o8D/rTFA6SWjwP1HzWrlTaPA/uZllOF5o8D8gQHC3aGjwP4fmejZzaPA/7oyFtX1o8D9UM5A0iGjwP7zZmrOSaPA/I4ClMp1o8D+KJrCxp2jwP/HMujCyaPA/WHPFr7xo8D+/GdAux2jwPybA2q3RaPA/jWblLNxo8D/1DPCr5mjwP1uz+irxaPA/wlkFqvto8D8qABApBmnwP5GmGqgQafA/+EwlJxtp8D9e8y+mJWnwP8aZOiUwafA/LUBFpDpp8D+U5k8jRWnwP/uMWqJPafA/YjNlIVpp8D/J2W+gZGnwPzCAeh9vafA/lyaFnnlp8D/+zI8dhGnwP2VzmpyOafA/zBmlG5lp8D8zwK+ao2nwP5tmuhmuafA/AQ3FmLhp8D9os88Xw2nwP9BZ2pbNafA/NwDlFdhp8D+epu+U4mnwPwRN+hPtafA/bPMEk/dp8D/TmQ8SAmrwPzpAGpEMavA/oeYkEBdq8D8IjS+PIWrwP28zOg4savA/1tlEjTZq8D89gE8MQWrwP6QmWotLavA/C81kClZq8D9yc2+JYGrwP9oZeghravA/QMCEh3Vq8D+oZo8GgGrwPw4NmoWKavA/drOkBJVq8D/dWa+Dn2rwP0QAugKqavA/q6bEgbRq8D8STc8Av2rwP3nz2X/JavA/4Jnk/tNq8D9HQO993mrwP67m+fzoavA/FY0EfPNq8D98Mw/7/WrwP+PZGXoIa/A/SoAk+RJr8D+yJi94HWvwPxjNOfcna/A/f3NEdjJr8D/mGU/1PGvwP07AWXRHa/A/tWZk81Fr8D8bDW9yXGvwP4OzefFma/A/6lmEcHFr8D9RAI/ve2vwP7immW6Ga/A/H02k7ZBr8D+G865sm2vwP+2Zueula/A/VEDEarBr8D+85s7pumvwPyKN2WjFa/A/iTPk589r8D/w2e5m2mvwP1iA+eXka/A/vyYEZe9r8D8lzQ7k+WvwP41zGWMEbPA/9Bkk4g5s8D9bwC5hGWzwP8JmOeAjbPA/KQ1EXy5s8D+Qs07eOGzwP/dZWV1DbPA/XgBk3E1s8D/Gpm5bWGzwPyxNedpibPA/k/ODWW1s8D/6mY7Yd2zwP2FAmVeCbPA/yOaj1oxs8D8vja5Vl2zwP5czudShbPA//dnDU6xs8D9lgM7StmzwP8wm2VHBbPA/Ms3j0Mts8D+ac+5P1mzwPwEa+c7gbPA/aMADTuts8D/PZg7N9WzwPzYNGUwAbfA/nbMjywpt8D8EWi5KFW3wP2sAOckfbfA/0qZDSCpt8D85TU7HNG3wP6DzWEY/bfA/B5pjxUlt8D9vQG5EVG3wP9bmeMNebfA/PI2DQmlt8D+kM47Bc23wPwvamEB+bfA/coCjv4ht8D/ZJq4+k23wP0DNuL2dbfA/p3PDPKht8D8OGs67sm3wP3XA2Dq9bfA/3Gbjucdt8D9DDe440m3wP6qz+LfcbfA/EVoDN+dt8D94AA628W3wP9+mGDX8bfA/Rk0jtAZu8D+u8y0zEW7wPxWaOLIbbvA/e0BDMSZu8D/j5k2wMG7wP0qNWC87bvA/sDNjrkVu8D8Y2m0tUG7wP3+AeKxabvA/5iaDK2Vu8D9NzY2qb27wP7RzmCl6bvA/GxqjqIRu8D+CwK0nj27wP+lmuKaZbvA/UA3DJaRu8D+4s82krm7wPx5a2CO5bvA/hQDjosNu8D/spu0hzm7wP1NN+KDYbvA/uvMCIONu8D8img2f7W7wP4hAGB74bvA/7+YinQJv8D9XjS0cDW/wP74zOJsXb/A/JdpCGiJv8D+MgE2ZLG/wP/MmWBg3b/A/Ws1il0Fv8D/Bc20WTG/wPygaeJVWb/A/j8CCFGFv8D/2Zo2Ta2/wP10NmBJ2b/A/xLOikYBv8D8sWq0Qi2/wP5IAuI+Vb/A/+abCDqBv8D9hTc2Nqm/wP8jz1wy1b/A/L5rii79v8D+WQO0Kym/wP/3m94nUb/A/ZI0CCd9v8D/LMw2I6W/wPzLaFwf0b/A/mYAihv5v8D8AJy0FCXDwP2fNN4QTcPA/znNCAx5w8D82Gk2CKHDwP5zAVwEzcPA/A2digD1w8D9qDW3/R3DwP9Gzd35ScPA/OVqC/Vxw8D+gAI18Z3DwPwenl/txcPA/bk2ienxw8D/V86z5hnDwPzyat3iRcPA/okDC95tw8D8K58x2pnDwP3GN1/WwcPA/2DPidLtw8D8/2uzzxXDwP6aA93LQcPA/DScC8tpw8D90zQxx5XDwP9tzF/DvcPA/Qhoib/pw8D+qwCzuBHHwPxBnN20PcfA/eA1C7Blx8D/fs0xrJHHwP0ZaV+oucfA/rABiaTlx8D8Up2zoQ3HwP3tNd2dOcfA/4vOB5lhx8D9JmoxlY3HwP7BAl+RtcfA/F+ehY3hx8D9+jazignHwP+Uzt2GNcfA/TNrB4Jdx8D+zgMxfonHwPxon196scfA/gs3hXbdx8D/oc+zcwXHwP1Aa91vMcfA/tsAB29Zx8D8eZwxa4XHwP4UNF9nrcfA/67MhWPZx8D9TWizXAHLwP7oAN1YLcvA/IKdB1RVy8D+ITUxUIHLwP+/zVtMqcvA/VpphUjVy8D+9QGzRP3LwPyTndlBKcvA/jI2Bz1Ry8D/yM4xOX3LwP1rals1pcvA/wIChTHRy8D8oJ6zLfnLwP47NtkqJcvA/9XPByZNy8D9dGsxInnLwP8PA1seocvA/KmfhRrNy8D+SDezFvXLwP/mz9kTIcvA/YFoBxNJy8D/HAAxD3XLwPy6nFsLncvA/lU0hQfJy8D/88yvA/HLwP2SaNj8Hc/A/ykBBvhFz8D8x50s9HHPwP5iNVrwmc/A//zNhOzFz8D9n2mu6O3PwP82AdjlGc/A/NCeBuFBz8D+czYs3W3PwPwJ0lrZlc/A/ahqhNXBz8D/RwKu0enPwPzhntjOFc/A/nw3Bso9z8D8GtMsxmnPwP25a1rCkc/A/1ADhL69z8D87p+uuuXPwP6JN9i3Ec/A/CfQArc5z8D9wmgss2XPwP9dAFqvjc/A/PucgKu5z8D+mjSup+HPwPww0NigDdPA/dNpApw108D/bgEsmGHTwP0InVqUidPA/qc1gJC108D8QdGujN3TwP3cadiJCdPA/3sCAoUx08D9FZ4sgV3TwP6wNlp9hdPA/ErSgHmx08D96WquddnTwP+EAthyBdPA/SKfAm4t08D+vTcsalnTwPxb01ZmgdPA/fprgGKt08D/kQOuXtXTwP0zn9RbAdPA/s40Alsp08D8aNAsV1XTwP4HaFZTfdPA/6IAgE+p08D9PJyuS9HTwP7bNNRH/dPA/HHRAkAl18D+EGksPFHXwP+vAVY4edfA/UmdgDSl18D+5DWuMM3XwPyC0dQs+dfA/iFqAikh18D/uAIsJU3XwP1WnlYhddfA/vU2gB2h18D8j9KqGcnXwP4qatQV9dfA/8kDAhId18D9Z58oDknXwP8CN1YKcdfA/JjTgAad18D+O2uqAsXXwP/WA9f+7dfA/XCcAf8Z18D/DzQr+0HXwPyp0FX3bdfA/kRog/OV18D/4wCp78HXwP19nNfr6dfA/xg1AeQV28D8ttEr4D3bwP5RaVXcadvA//ABg9iR28D9ip2p1L3bwP8pNdfQ5dvA/MPR/c0R28D+YmoryTnbwP/5AlXFZdvA/Zuef8GN28D/NjapvbnbwPzQ0te54dvA/m9q/bYN28D8CgcrsjXbwP2kn1WuYdvA/0M3f6qJ28D83dOpprXbwP54a9ei3dvA/BsH/Z8J28D9sZwrnzHbwP9QNFWbXdvA/OrQf5eF28D+hWipk7HbwPwgBNeP2dvA/b6c/YgF38D/XTUrhC3fwPz30VGAWd/A/pJpf3yB38D8MQWpeK3fwP3LndN01d/A/2o1/XEB38D9BNIrbSnfwP6jalFpVd/A/D4Gf2V938D92J6pYanfwP97NtNd0d/A/RHS/Vn938D+rGsrViXfwPxLB1FSUd/A/eWff05538D/gDepSqXfwP0e09NGzd/A/rlr/UL538D8WAQrQyHfwP3ynFE/Td/A/5E0fzt138D9L9ClN6HfwP7KaNMzyd/A/GUE/S/138D+A50nKB3jwP+iNVEkSePA/TjRfyBx48D+12mlHJ3jwPxyBdMYxePA/gyd/RTx48D/qzYnERnjwP1F0lENRePA/uBqfwlt48D8fwalBZnjwP4ZntMBwePA/7g2/P3t48D9VtMm+hXjwP7xa1D2QePA/IwHfvJp48D+Kp+k7pXjwP/FN9LqvePA/WPT+Obp48D+/mgm5xHjwPyZBFDjPePA/jOcet9l48D/0jSk25HjwP1s0NLXuePA/wto+NPl48D8pgUmzA3nwP5AnVDIOefA/+M1esRh58D9edGkwI3nwP8YadK8tefA/LcF+Ljh58D+UZ4mtQnnwP/sNlCxNefA/YrSeq1d58D/JWqkqYnnwPzABtKlsefA/lqe+KHd58D/+TcmngXnwP2X00yaMefA/zJrepZZ58D8zQekkoXnwP5rn86OrefA/AY7+IrZ58D9oNAmiwHnwP9DaEyHLefA/N4EeoNV58D+dJykf4HnwPwXOM57qefA/bHQ+HfV58D/TGkmc/3nwPzrBUxsKevA/oGdemhR68D8IDmkZH3rwP260c5gpevA/1lp+FzR68D89AYmWPnrwP6SnkxVJevA/DE6elFN68D9y9KgTXnrwP9qas5JoevA/QEG+EXN68D+n58iQfXrwPw+O0w+IevA/djTejpJ68D/c2ugNnXrwP0SB84ynevA/qif+C7J68D8RzgiLvHrwP3h0EwrHevA/4BoeidF68D9HwSgI3HrwP65nM4fmevA/FA4+BvF68D98tEiF+3rwP+RaUwQGe/A/SgFegxB78D+xp2gCG3vwPxhOc4Ele/A/f/R9ADB78D/mmoh/OnvwP05Bk/5Ee/A/tOedfU978D8bjqj8WXvwP4I0s3tke/A/6tq9+m578D9Rgch5eXvwP7gn0/iDe/A/Hs7dd4578D+GdOj2mHvwP+0a83Wje/A/VMH99K178D+7Zwh0uHvwPyIOE/PCe/A/ibQdcs178D/wWijx13vwP1cBM3Die/A/vqc97+x78D8lTkhu93vwP4z0Uu0BfPA/9JpdbAx88D9bQWjrFnzwP8LncmohfPA/KI596St88D+QNIhoNnzwP/bakudAfPA/XoGdZkt88D/FJ6jlVXzwPyzOsmRgfPA/k3S942p88D/6GshidXzwP2HB0uF/fPA/yGfdYIp88D8vDujflHzwP5a08l6ffPA//Vr93al88D9kAQhdtHzwP8ynEty+fPA/Mk4dW8l88D+a9Cfa03zwPwCbMlnefPA/Z0E92Oh88D/P50dX83zwPzaOUtb9fPA/nTRdVQh98D8E22fUEn3wP2uBclMdffA/0id90id98D85zodRMn3wP6B0ktA8ffA/BxudT0d98D9uwafOUX3wP9Vnsk1cffA/PA69zGZ98D+ktMdLcX3wPwpb0sp7ffA/cQHdSYZ98D/Yp+fIkH3wP0BO8kebffA/p/T8xqV98D8OmwdGsH3wP3RBEsW6ffA/3OccRMV98D9DjifDz33wP6o0MkLaffA/Eds8weR98D94gUdA733wP98nUr/5ffA/Rs5cPgR+8D+udGe9Dn7wPxQbcjwZfvA/e8F8uyN+8D/iZ4c6Ln7wP0kOkrk4fvA/sbScOEN+8D8YW6e3TX7wP34BsjZYfvA/5ae8tWJ+8D9NTsc0bX7wP7T00bN3fvA/G5vcMoJ+8D+CQeexjH7wP+jn8TCXfvA/UI78r6F+8D+3NAcvrH7wPx7bEa62fvA/hYEcLcF+8D/sJyesy37wP1POMSvWfvA/unQ8quB+8D8iG0cp637wP4jBUaj1fvA/72dcJwB/8D9WDmemCn/wP760cSUVf/A/JVt8pB9/8D+MAYcjKn/wP/KnkaI0f/A/Wk6cIT9/8D/B9KagSX/wPyibsR9Uf/A/j0G8nl5/8D/258YdaX/wP12O0Zxzf/A/xDTcG35/8D8r2+aaiH/wP5KB8RmTf/A/+Sf8mJ1/8D9gzgYYqH/wP8d0EZeyf/A/LhscFr1/8D+WwSaVx3/wP/xnMRTSf/A/ZA48k9x/8D/LtEYS53/wPzJbUZHxf/A/mAFcEPx/8D8AqGaPBoDwP2dOcQ4RgPA/zvR7jRuA8D81m4YMJoDwP5xBkYswgPA/A+ibCjuA8D9qjqaJRYDwP9E0sQhQgPA/ONu7h1qA8D+fgcYGZYDwPwYo0YVvgPA/bs7bBHqA8D/UdOaDhIDwPzwb8QKPgPA/osH7gZmA8D8KaAYBpIDwP3EOEYCugPA/2LQb/7iA8D8/WyZ+w4DwP6YBMf3NgPA/Dag7fNiA8D90Tkb74oDwP9v0UHrtgPA/Qptb+feA8D+pQWZ4AoHwPxDocPcMgfA/eI57dheB8D/eNIb1IYHwP0XbkHQsgfA/rIGb8zaB8D8UKKZyQYHwP3vOsPFLgfA/4nS7cFaB8D9IG8bvYIHwP7DB0G5rgfA/F2jb7XWB8D9+DuZsgIHwP+W08OuKgfA/TFv7apWB8D+zAQbqn4HwPxqoEGmqgfA/gU4b6LSB8D/o9CVnv4HwP0+bMObJgfA/tkE7ZdSB8D8e6EXk3oHwP4SOUGPpgfA/7DRb4vOB8D9S22Vh/oHwP7qBcOAIgvA/ISh7XxOC8D+IzoXeHYLwP+50kF0ogvA/Vhub3DKC8D+9waVbPYLwPyRosNpHgvA/iw67WVKC8D/ytMXYXILwP1lb0FdngvA/wAHb1nGC8D8nqOVVfILwP45O8NSGgvA/9fT6U5GC8D9cmwXTm4LwP8NBEFKmgvA/K+ga0bCC8D+SjiVQu4LwP/g0MM/FgvA/X9s6TtCC8D/GgUXN2oLwPy4oUEzlgvA/lc5ay++C8D/8dGVK+oLwP2IbcMkEg/A/ysF6SA+D8D8xaIXHGYPwP5gOkEYkg/A//7SaxS6D8D9mW6VEOYPwP80BsMNDg/A/NKi6Qk6D8D+cTsXBWIPwPwL1z0Bjg/A/aZvav22D8D/QQeU+eIPwPzjo772Cg/A/n476PI2D8D8GNQW8l4PwP2zbDzuig/A/1IEauqyD8D87KCU5t4PwP6LOL7jBg/A/CXU6N8yD8D9wG0W21oPwP9fBTzXhg/A/PmhatOuD8D+lDmUz9oPwPwy1b7IAhPA/c1t6MQuE8D/aAYWwFYTwP0Gojy8ghPA/qU6ariqE8D8Q9aQtNYTwP3abr6w/hPA/3kG6K0qE8D9E6MSqVITwP6yOzylfhPA/EzXaqGmE8D962+QndITwP+GB76Z+hPA/SCj6JYmE8D+vzgSlk4TwPxZ1DySehPA/fRsao6iE8D/kwSQis4TwP0toL6G9hPA/sg46IMiE8D8atUSf0oTwP4BbTx7dhPA/6AFaneeE8D9OqGQc8oTwP7VOb5v8hPA/HfV5GgeF8D+Em4SZEYXwP+tBjxgchfA/UuiZlyaF8D+5jqQWMYXwPyA1r5U7hfA/h9u5FEaF8D/ugcSTUIXwP1UozxJbhfA/vM7ZkWWF8D8jdeQQcIXwP4ob7496hfA/8sH5DoWF8D9YaASOj4XwP78ODw2ahfA/JrUZjKSF8D+OWyQLr4XwP/UBL4q5hfA/XKg5CcSF8D/CTkSIzoXwPyn1TgfZhfA/kZtZhuOF8D/4QWQF7oXwP1/oboT4hfA/xo55AwOG8D8tNYSCDYbwP5TbjgEYhvA/+4GZgCKG8D9iKKT/LIbwP8nOrn43hvA/MHW5/UGG8D+XG8R8TIbwP//BzvtWhvA/ZmjZemGG8D/MDuT5a4bwPzO17nh2hvA/m1v594CG8D8CAgR3i4bwP2moDvaVhvA/0E4ZdaCG8D839SP0qobwP56bLnO1hvA/BUI58r+G8D9s6ENxyobwP9OOTvDUhvA/OjVZb9+G8D+h22Pu6YbwPwiCbm30hvA/cCh57P6G8D/WzoNrCYfwPz11juoTh/A/pRuZaR6H8D8LwqPoKIfwP3Normczh/A/2g655j2H8D9AtcNlSIfwP6hbzuRSh/A/DwLZY12H8D92qOPiZ4fwP91O7mFyh/A/RPX44HyH8D+rmwNgh4fwPxJCDt+Rh/A/eegYXpyH8D/gjiPdpofwP0c1Llyxh/A/rts427uH8D8VgkNaxofwP3woTtnQh/A/485YWNuH8D9KdWPX5YfwP7Ibblbwh/A/GcJ41fqH8D+AaINUBYjwP+YOjtMPiPA/TrWYUhqI8D+1W6PRJIjwPxwCrlAviPA/g6i4zzmI8D/qTsNORIjwP1H1zc1OiPA/uJvYTFmI8D8fQuPLY4jwP4bo7UpuiPA/7Y74yXiI8D9UNQNJg4jwP7zbDciNiPA/IoIYR5iI8D+JKCPGoojwP/DOLUWtiPA/WHU4xLeI8D+/G0NDwojwPybCTcLMiPA/jWhYQdeI8D/0DmPA4YjwP1u1bT/siPA/wlt4vvaI8D8pAoM9AYnwP5CojbwLifA/906YOxaJ8D9e9aK6IInwP8abrTkrifA/LEK4uDWJ8D+T6MI3QInwP/qOzbZKifA/YjXYNVWJ8D/I2+K0X4nwPzCC7TNqifA/lyj4snSJ8D/+zgIyf4nwP2V1DbGJifA/zBsYMJSJ8D8zwiKvnonwP5poLS6pifA/AQ84rbOJ8D9otUIsvonwP89bTavIifA/NgJYKtOJ8D+dqGKp3YnwPwRPbSjoifA/a/V3p/KJ8D/Sm4Im/YnwPzlCjaUHivA/oOiXJBKK8D8Hj6KjHIrwP281rSInivA/1tu3oTGK8D88gsIgPIrwP6QozZ9GivA/C8/XHlGK8D9ydeKdW4rwP9kb7RxmivA/QML3m3CK8D+naAIbe4rwPw4PDZqFivA/dbUXGZCK8D/cWyKYmorwP0MCLRelivA/qqg3lq+K8D8RT0IVuorwP3n1TJTEivA/4JtXE8+K8D9GQmKS2YrwP63obBHkivA/FY93kO6K8D98NYIP+YrwP+PbjI4Di/A/SoKXDQ6L8D+wKKKMGIvwPxjPrAsji/A/f3W3ii2L8D/mG8IJOIvwP03CzIhCi/A/tGjXB02L8D8bD+KGV4vwP4O17AVii/A/6Vv3hGyL8D9QAgIEd4vwP7eoDIOBi/A/Hk8XAoyL8D+G9SGBlovwP+2bLAChi/A/VEI3f6uL8D+66EH+tYvwPyKPTH3Ai/A/iTVX/MqL8D/w22F71YvwP1eCbPrfi/A/vih3eeqL8D8lz4H49IvwP4x1jHf/i/A/8xuX9gmM8D9awqF1FIzwP8ForPQejPA/KA+3cymM8D+PtcHyM4zwP/dbzHE+jPA/XgLX8EiM8D/EqOFvU4zwPyxP7O5djPA/k/X2bWiM8D/6mwHtcozwP2FCDGx9jPA/yOgW64eM8D8vjyFqkozwP5Y1LOmcjPA//ds2aKeM8D9kgkHnsYzwP8soTGa8jPA/Ms9W5caM8D+ZdWFk0YzwPwAcbOPbjPA/Z8J2YuaM8D/OaIHh8IzwPzYPjGD7jPA/nLWW3wWN8D8DXKFeEI3wP2oCrN0ajfA/0qi2XCWN8D85T8HbL43wP6D1y1o6jfA/B5zW2USN8D9tQuFYT43wP9Xo69dZjfA/PI/2VmSN8D+jNQHWbo3wPwrcC1V5jfA/cYIW1ION8D/YKCFTjo3wP0DPK9KYjfA/pnU2UaON8D8NHEHQrY3wP3TCS0+4jfA/22hWzsKN8D9DD2FNzY3wP6q1a8zXjfA/EVx2S+KN8D93AoHK7I3wP9+oi0n3jfA/Rk+WyAGO8D+t9aBHDI7wPxOcq8YWjvA/e0K2RSGO8D/i6MDEK47wP0mPy0M2jvA/sTXWwkCO8D8X3OBBS47wP36C68BVjvA/5Sj2P2CO8D9NzwC/ao7wP7R1Cz51jvA/GhwWvX+O8D+CwiA8io7wP+loK7uUjvA/UA82Op+O8D+3tUC5qY7wPx5cSzi0jvA/hQJWt76O8D/rqGA2yY7wP1NPa7XTjvA/uvV1NN6O8D8hnICz6I7wP4hCizLzjvA/7+iVsf2O8D9Wj6AwCI/wP7w1q68Sj/A/JNy1Lh2P8D+LgsCtJ4/wP/Ioyywyj/A/Ws/VqzyP8D/AdeAqR4/wPycc66lRj/A/j8L1KFyP8D8=",
          "dtype": "f8"
         },
         "y": {
          "bdata": "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",
          "dtype": "f8"
         }
        }
       ],
       "layout": {
        "template": {
         "data": {
          "bar": [
           {
            "error_x": {
             "color": "#2a3f5f"
            },
            "error_y": {
             "color": "#2a3f5f"
            },
            "marker": {
             "line": {
              "color": "#E5ECF6",
              "width": 0.5
             },
             "pattern": {
              "fillmode": "overlay",
              "size": 10,
              "solidity": 0.2
             }
            },
            "type": "bar"
           }
          ],
          "barpolar": [
           {
            "marker": {
             "line": {
              "color": "#E5ECF6",
              "width": 0.5
             },
             "pattern": {
              "fillmode": "overlay",
              "size": 10,
              "solidity": 0.2
             }
            },
            "type": "barpolar"
           }
          ],
          "carpet": [
           {
            "aaxis": {
             "endlinecolor": "#2a3f5f",
             "gridcolor": "white",
             "linecolor": "white",
             "minorgridcolor": "white",
             "startlinecolor": "#2a3f5f"
            },
            "baxis": {
             "endlinecolor": "#2a3f5f",
             "gridcolor": "white",
             "linecolor": "white",
             "minorgridcolor": "white",
             "startlinecolor": "#2a3f5f"
            },
            "type": "carpet"
           }
          ],
          "choropleth": [
           {
            "colorbar": {
             "outlinewidth": 0,
             "ticks": ""
            },
            "type": "choropleth"
           }
          ],
          "contour": [
           {
            "colorbar": {
             "outlinewidth": 0,
             "ticks": ""
            },
            "colorscale": [
             [
              0,
              "#0d0887"
             ],
             [
              0.1111111111111111,
              "#46039f"
             ],
             [
              0.2222222222222222,
              "#7201a8"
             ],
             [
              0.3333333333333333,
              "#9c179e"
             ],
             [
              0.4444444444444444,
              "#bd3786"
             ],
             [
              0.5555555555555556,
              "#d8576b"
             ],
             [
              0.6666666666666666,
              "#ed7953"
             ],
             [
              0.7777777777777778,
              "#fb9f3a"
             ],
             [
              0.8888888888888888,
              "#fdca26"
             ],
             [
              1,
              "#f0f921"
             ]
            ],
            "type": "contour"
           }
          ],
          "contourcarpet": [
           {
            "colorbar": {
             "outlinewidth": 0,
             "ticks": ""
            },
            "type": "contourcarpet"
           }
          ],
          "heatmap": [
           {
            "colorbar": {
             "outlinewidth": 0,
             "ticks": ""
            },
            "colorscale": [
             [
              0,
              "#0d0887"
             ],
             [
              0.1111111111111111,
              "#46039f"
             ],
             [
              0.2222222222222222,
              "#7201a8"
             ],
             [
              0.3333333333333333,
              "#9c179e"
             ],
             [
              0.4444444444444444,
              "#bd3786"
             ],
             [
              0.5555555555555556,
              "#d8576b"
             ],
             [
              0.6666666666666666,
              "#ed7953"
             ],
             [
              0.7777777777777778,
              "#fb9f3a"
             ],
             [
              0.8888888888888888,
              "#fdca26"
             ],
             [
              1,
              "#f0f921"
             ]
            ],
            "type": "heatmap"
           }
          ],
          "histogram": [
           {
            "marker": {
             "pattern": {
              "fillmode": "overlay",
              "size": 10,
              "solidity": 0.2
             }
            },
            "type": "histogram"
           }
          ],
          "histogram2d": [
           {
            "colorbar": {
             "outlinewidth": 0,
             "ticks": ""
            },
            "colorscale": [
             [
              0,
              "#0d0887"
             ],
             [
              0.1111111111111111,
              "#46039f"
             ],
             [
              0.2222222222222222,
              "#7201a8"
             ],
             [
              0.3333333333333333,
              "#9c179e"
             ],
             [
              0.4444444444444444,
              "#bd3786"
             ],
             [
              0.5555555555555556,
              "#d8576b"
             ],
             [
              0.6666666666666666,
              "#ed7953"
             ],
             [
              0.7777777777777778,
              "#fb9f3a"
             ],
             [
              0.8888888888888888,
              "#fdca26"
             ],
             [
              1,
              "#f0f921"
             ]
            ],
            "type": "histogram2d"
           }
          ],
          "histogram2dcontour": [
           {
            "colorbar": {
             "outlinewidth": 0,
             "ticks": ""
            },
            "colorscale": [
             [
              0,
              "#0d0887"
             ],
             [
              0.1111111111111111,
              "#46039f"
             ],
             [
              0.2222222222222222,
              "#7201a8"
             ],
             [
              0.3333333333333333,
              "#9c179e"
             ],
             [
              0.4444444444444444,
              "#bd3786"
             ],
             [
              0.5555555555555556,
              "#d8576b"
             ],
             [
              0.6666666666666666,
              "#ed7953"
             ],
             [
              0.7777777777777778,
              "#fb9f3a"
             ],
             [
              0.8888888888888888,
              "#fdca26"
             ],
             [
              1,
              "#f0f921"
             ]
            ],
            "type": "histogram2dcontour"
           }
          ],
          "mesh3d": [
           {
            "colorbar": {
             "outlinewidth": 0,
             "ticks": ""
            },
            "type": "mesh3d"
           }
          ],
          "parcoords": [
           {
            "line": {
             "colorbar": {
              "outlinewidth": 0,
              "ticks": ""
             }
            },
            "type": "parcoords"
           }
          ],
          "pie": [
           {
            "automargin": true,
            "type": "pie"
           }
          ],
          "scatter": [
           {
            "fillpattern": {
             "fillmode": "overlay",
             "size": 10,
             "solidity": 0.2
            },
            "type": "scatter"
           }
          ],
          "scatter3d": [
           {
            "line": {
             "colorbar": {
              "outlinewidth": 0,
              "ticks": ""
             }
            },
            "marker": {
             "colorbar": {
              "outlinewidth": 0,
              "ticks": ""
             }
            },
            "type": "scatter3d"
           }
          ],
          "scattercarpet": [
           {
            "marker": {
             "colorbar": {
              "outlinewidth": 0,
              "ticks": ""
             }
            },
            "type": "scattercarpet"
           }
          ],
          "scattergeo": [
           {
            "marker": {
             "colorbar": {
              "outlinewidth": 0,
              "ticks": ""
             }
            },
            "type": "scattergeo"
           }
          ],
          "scattergl": [
           {
            "marker": {
             "colorbar": {
              "outlinewidth": 0,
              "ticks": ""
             }
            },
            "type": "scattergl"
           }
          ],
          "scattermap": [
           {
            "marker": {
             "colorbar": {
              "outlinewidth": 0,
              "ticks": ""
             }
            },
            "type": "scattermap"
           }
          ],
          "scattermapbox": [
           {
            "marker": {
             "colorbar": {
              "outlinewidth": 0,
              "ticks": ""
             }
            },
            "type": "scattermapbox"
           }
          ],
          "scatterpolar": [
           {
            "marker": {
             "colorbar": {
              "outlinewidth": 0,
              "ticks": ""
             }
            },
            "type": "scatterpolar"
           }
          ],
          "scatterpolargl": [
           {
            "marker": {
             "colorbar": {
              "outlinewidth": 0,
              "ticks": ""
             }
            },
            "type": "scatterpolargl"
           }
          ],
          "scatterternary": [
           {
            "marker": {
             "colorbar": {
              "outlinewidth": 0,
              "ticks": ""
             }
            },
            "type": "scatterternary"
           }
          ],
          "surface": [
           {
            "colorbar": {
             "outlinewidth": 0,
             "ticks": ""
            },
            "colorscale": [
             [
              0,
              "#0d0887"
             ],
             [
              0.1111111111111111,
              "#46039f"
             ],
             [
              0.2222222222222222,
              "#7201a8"
             ],
             [
              0.3333333333333333,
              "#9c179e"
             ],
             [
              0.4444444444444444,
              "#bd3786"
             ],
             [
              0.5555555555555556,
              "#d8576b"
             ],
             [
              0.6666666666666666,
              "#ed7953"
             ],
             [
              0.7777777777777778,
              "#fb9f3a"
             ],
             [
              0.8888888888888888,
              "#fdca26"
             ],
             [
              1,
              "#f0f921"
             ]
            ],
            "type": "surface"
           }
          ],
          "table": [
           {
            "cells": {
             "fill": {
              "color": "#EBF0F8"
             },
             "line": {
              "color": "white"
             }
            },
            "header": {
             "fill": {
              "color": "#C8D4E3"
             },
             "line": {
              "color": "white"
             }
            },
            "type": "table"
           }
          ]
         },
         "layout": {
          "annotationdefaults": {
           "arrowcolor": "#2a3f5f",
           "arrowhead": 0,
           "arrowwidth": 1
          },
          "autotypenumbers": "strict",
          "coloraxis": {
           "colorbar": {
            "outlinewidth": 0,
            "ticks": ""
           }
          },
          "colorscale": {
           "diverging": [
            [
             0,
             "#8e0152"
            ],
            [
             0.1,
             "#c51b7d"
            ],
            [
             0.2,
             "#de77ae"
            ],
            [
             0.3,
             "#f1b6da"
            ],
            [
             0.4,
             "#fde0ef"
            ],
            [
             0.5,
             "#f7f7f7"
            ],
            [
             0.6,
             "#e6f5d0"
            ],
            [
             0.7,
             "#b8e186"
            ],
            [
             0.8,
             "#7fbc41"
            ],
            [
             0.9,
             "#4d9221"
            ],
            [
             1,
             "#276419"
            ]
           ],
           "sequential": [
            [
             0,
             "#0d0887"
            ],
            [
             0.1111111111111111,
             "#46039f"
            ],
            [
             0.2222222222222222,
             "#7201a8"
            ],
            [
             0.3333333333333333,
             "#9c179e"
            ],
            [
             0.4444444444444444,
             "#bd3786"
            ],
            [
             0.5555555555555556,
             "#d8576b"
            ],
            [
             0.6666666666666666,
             "#ed7953"
            ],
            [
             0.7777777777777778,
             "#fb9f3a"
            ],
            [
             0.8888888888888888,
             "#fdca26"
            ],
            [
             1,
             "#f0f921"
            ]
           ],
           "sequentialminus": [
            [
             0,
             "#0d0887"
            ],
            [
             0.1111111111111111,
             "#46039f"
            ],
            [
             0.2222222222222222,
             "#7201a8"
            ],
            [
             0.3333333333333333,
             "#9c179e"
            ],
            [
             0.4444444444444444,
             "#bd3786"
            ],
            [
             0.5555555555555556,
             "#d8576b"
            ],
            [
             0.6666666666666666,
             "#ed7953"
            ],
            [
             0.7777777777777778,
             "#fb9f3a"
            ],
            [
             0.8888888888888888,
             "#fdca26"
            ],
            [
             1,
             "#f0f921"
            ]
           ]
          },
          "colorway": [
           "#636efa",
           "#EF553B",
           "#00cc96",
           "#ab63fa",
           "#FFA15A",
           "#19d3f3",
           "#FF6692",
           "#B6E880",
           "#FF97FF",
           "#FECB52"
          ],
          "font": {
           "color": "#2a3f5f"
          },
          "geo": {
           "bgcolor": "white",
           "lakecolor": "white",
           "landcolor": "#E5ECF6",
           "showlakes": true,
           "showland": true,
           "subunitcolor": "white"
          },
          "hoverlabel": {
           "align": "left"
          },
          "hovermode": "closest",
          "mapbox": {
           "style": "light"
          },
          "paper_bgcolor": "white",
          "plot_bgcolor": "#E5ECF6",
          "polar": {
           "angularaxis": {
            "gridcolor": "white",
            "linecolor": "white",
            "ticks": ""
           },
           "bgcolor": "#E5ECF6",
           "radialaxis": {
            "gridcolor": "white",
            "linecolor": "white",
            "ticks": ""
           }
          },
          "scene": {
           "xaxis": {
            "backgroundcolor": "#E5ECF6",
            "gridcolor": "white",
            "gridwidth": 2,
            "linecolor": "white",
            "showbackground": true,
            "ticks": "",
            "zerolinecolor": "white"
           },
           "yaxis": {
            "backgroundcolor": "#E5ECF6",
            "gridcolor": "white",
            "gridwidth": 2,
            "linecolor": "white",
            "showbackground": true,
            "ticks": "",
            "zerolinecolor": "white"
           },
           "zaxis": {
            "backgroundcolor": "#E5ECF6",
            "gridcolor": "white",
            "gridwidth": 2,
            "linecolor": "white",
            "showbackground": true,
            "ticks": "",
            "zerolinecolor": "white"
           }
          },
          "shapedefaults": {
           "line": {
            "color": "#2a3f5f"
           }
          },
          "ternary": {
           "aaxis": {
            "gridcolor": "white",
            "linecolor": "white",
            "ticks": ""
           },
           "baxis": {
            "gridcolor": "white",
            "linecolor": "white",
            "ticks": ""
           },
           "bgcolor": "#E5ECF6",
           "caxis": {
            "gridcolor": "white",
            "linecolor": "white",
            "ticks": ""
           }
          },
          "title": {
           "x": 0.05
          },
          "xaxis": {
           "automargin": true,
           "gridcolor": "white",
           "linecolor": "white",
           "ticks": "",
           "title": {
            "standoff": 15
           },
           "zerolinecolor": "white",
           "zerolinewidth": 2
          },
          "yaxis": {
           "automargin": true,
           "gridcolor": "white",
           "linecolor": "white",
           "ticks": "",
           "title": {
            "standoff": 15
           },
           "zerolinecolor": "white",
           "zerolinewidth": 2
          }
         }
        },
        "title": {
         "text": "Power Spectrum"
        },
        "xaxis": {
         "title": {
          "text": "Wavelength (μm)"
         }
        },
        "yaxis": {
         "title": {
          "text": "Power"
         }
        }
       }
      }
     },
     "metadata": {},
     "output_type": "display_data"
    },
    {
     "name": "stdout",
     "output_type": "stream",
     "text": [
      "Device length: 2299.97314453125\n",
      "Max power / (Device length)^2: 4.30323275238301e-12\n"
     ]
    }
   ],
   "source": [
    "import jax.numpy as jnp\n",
    "import plotly.graph_objects as go\n",
    "\n",
    "batch_simulate_twm = jit(vmap(cwes.simulate_twm, in_axes=(None, None, 0, 0, None)))\n",
    "\n",
    "design_wl = 1.031\n",
    "design_temp = 70.0\n",
    "kappa_mag = 1.31e-5 / (2 / jnp.pi)\n",
    "\n",
    "delta_k1 = mgoslt.calc_twm_delta_k(design_wl, design_wl, design_temp)\n",
    "delta_k2 = mgoslt.calc_twm_delta_k(design_wl, design_wl / 2, design_temp)\n",
    "wls = jnp.linspace(1.025, 1.035, 1000)\n",
    "\n",
    "delta_k1s = mgoslt.calc_twm_delta_k(wls, wls, 70.0)\n",
    "delta_k2s = mgoslt.calc_twm_delta_k(wls, wls / 2, 70.0)\n",
    "\n",
    "widths_shg = jnp.array([shg_domain_width] * int(optimal_num_shg))\n",
    "widths_sfg = jnp.array([sfg_domain_width] * int(optimal_num_sfg))\n",
    "widths_thg = jnp.concatenate([widths_shg, widths_sfg])\n",
    "\n",
    "kappa_vals = kappa_mag * jnp.power(-1, jnp.arange(widths_thg.shape[0]))\n",
    "\n",
    "b_initial = jnp.array([1.0, 0.0, 0.0], dtype=jnp.complex128)\n",
    "b_final = batch_simulate_twm(widths_thg, kappa_vals, delta_k1s, delta_k2s, b_initial)\n",
    "thw_powers_periodical = jnp.abs(b_final[:, 2]) ** 2 * 100 * 1.07 / 2.84\n",
    "\n",
    "device_length = jnp.sum(widths_thg)\n",
    "print(optimal_num_shg, optimal_num_sfg)\n",
    "print(f\"Device length: {device_length}\")\n",
    "print(f\"Max power / (Device length)^2: {jnp.max(thw_powers_periodical) / device_length**2}\")\n",
    "\n",
    "widths = jnp.load(\"../datasets/optimized_thg_2000_1489_e4.npy\")\n",
    "# widthsに値が負のドメインが一つだけ含まれていたのでドメインの幅を修正、ピークが1.031に来るように微調整した\n",
    "widths = jnp.where(widths < 0, 100, widths)\n",
    "num_domains = widths.shape[0]\n",
    "kappa_vals = kappa_mag * jnp.power(-1, jnp.arange(num_domains))\n",
    "wls = jnp.linspace(1.025, 1.035, 1000)\n",
    "delta_k1 = mgoslt.calc_twm_delta_k(wls, wls, 70.0)\n",
    "delta_k2 = mgoslt.calc_twm_delta_k(wls, wls / 2, 70.0)\n",
    "\n",
    "b_end_shg = batch_simulate_twm(widths, kappa_vals, delta_k1s, delta_k2s, b_initial)\n",
    "\n",
    "thw_powers = jnp.abs(b_end_shg[:, 2]) ** 2 * 100 * 1.07 / 2.84\n",
    "\n",
    "fig = go.Figure()\n",
    "fig.add_trace(go.Scatter(x=wls, y=thw_powers, mode=\"lines\", name=\"Optimized Structure\"))\n",
    "fig.add_trace(go.Scatter(x=wls, y=thw_powers_periodical, mode=\"lines\", name=\"Periodic Structure\"))\n",
    "fig.update_layout(\n",
    "    title_text=\"Power Spectrum\",\n",
    "    xaxis_title=\"Wavelength (μm)\",\n",
    "    yaxis_title=\"Power\",\n",
    ")\n",
    "fig.show()\n",
    "\n",
    "device_length = jnp.sum(widths)\n",
    "print(f\"Device length: {device_length}\")\n",
    "print(f\"Max power / (Device length)^2: {jnp.max(thw_powers) / device_length**2}\")"
   ]
  },
  {
   "cell_type": "code",
   "execution_count": 37,
   "id": "6c6ce3b7",
   "metadata": {},
   "outputs": [
    {
     "data": {
      "application/vnd.plotly.v1+json": {
       "config": {
        "plotlyServerURL": "https://plot.ly"
       },
       "data": [
        {
         "line": {
          "dash": "dot"
         },
         "mode": "lines",
         "name": "Periodic",
         "type": "scatter",
         "y": {
          "bdata": "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",
          "dtype": "f8"
         }
        },
        {
         "mode": "lines",
         "name": "Optimized",
         "type": "scatter",
         "y": {
          "bdata": "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",
          "dtype": "f4"
         }
        }
       ],
       "layout": {
        "template": {
         "data": {
          "bar": [
           {
            "error_x": {
             "color": "#2a3f5f"
            },
            "error_y": {
             "color": "#2a3f5f"
            },
            "marker": {
             "line": {
              "color": "white",
              "width": 0.5
             },
             "pattern": {
              "fillmode": "overlay",
              "size": 10,
              "solidity": 0.2
             }
            },
            "type": "bar"
           }
          ],
          "barpolar": [
           {
            "marker": {
             "line": {
              "color": "white",
              "width": 0.5
             },
             "pattern": {
              "fillmode": "overlay",
              "size": 10,
              "solidity": 0.2
             }
            },
            "type": "barpolar"
           }
          ],
          "carpet": [
           {
            "aaxis": {
             "endlinecolor": "#2a3f5f",
             "gridcolor": "#C8D4E3",
             "linecolor": "#C8D4E3",
             "minorgridcolor": "#C8D4E3",
             "startlinecolor": "#2a3f5f"
            },
            "baxis": {
             "endlinecolor": "#2a3f5f",
             "gridcolor": "#C8D4E3",
             "linecolor": "#C8D4E3",
             "minorgridcolor": "#C8D4E3",
             "startlinecolor": "#2a3f5f"
            },
            "type": "carpet"
           }
          ],
          "choropleth": [
           {
            "colorbar": {
             "outlinewidth": 0,
             "ticks": ""
            },
            "type": "choropleth"
           }
          ],
          "contour": [
           {
            "colorbar": {
             "outlinewidth": 0,
             "ticks": ""
            },
            "colorscale": [
             [
              0,
              "#0d0887"
             ],
             [
              0.1111111111111111,
              "#46039f"
             ],
             [
              0.2222222222222222,
              "#7201a8"
             ],
             [
              0.3333333333333333,
              "#9c179e"
             ],
             [
              0.4444444444444444,
              "#bd3786"
             ],
             [
              0.5555555555555556,
              "#d8576b"
             ],
             [
              0.6666666666666666,
              "#ed7953"
             ],
             [
              0.7777777777777778,
              "#fb9f3a"
             ],
             [
              0.8888888888888888,
              "#fdca26"
             ],
             [
              1,
              "#f0f921"
             ]
            ],
            "type": "contour"
           }
          ],
          "contourcarpet": [
           {
            "colorbar": {
             "outlinewidth": 0,
             "ticks": ""
            },
            "type": "contourcarpet"
           }
          ],
          "heatmap": [
           {
            "colorbar": {
             "outlinewidth": 0,
             "ticks": ""
            },
            "colorscale": [
             [
              0,
              "#0d0887"
             ],
             [
              0.1111111111111111,
              "#46039f"
             ],
             [
              0.2222222222222222,
              "#7201a8"
             ],
             [
              0.3333333333333333,
              "#9c179e"
             ],
             [
              0.4444444444444444,
              "#bd3786"
             ],
             [
              0.5555555555555556,
              "#d8576b"
             ],
             [
              0.6666666666666666,
              "#ed7953"
             ],
             [
              0.7777777777777778,
              "#fb9f3a"
             ],
             [
              0.8888888888888888,
              "#fdca26"
             ],
             [
              1,
              "#f0f921"
             ]
            ],
            "type": "heatmap"
           }
          ],
          "histogram": [
           {
            "marker": {
             "pattern": {
              "fillmode": "overlay",
              "size": 10,
              "solidity": 0.2
             }
            },
            "type": "histogram"
           }
          ],
          "histogram2d": [
           {
            "colorbar": {
             "outlinewidth": 0,
             "ticks": ""
            },
            "colorscale": [
             [
              0,
              "#0d0887"
             ],
             [
              0.1111111111111111,
              "#46039f"
             ],
             [
              0.2222222222222222,
              "#7201a8"
             ],
             [
              0.3333333333333333,
              "#9c179e"
             ],
             [
              0.4444444444444444,
              "#bd3786"
             ],
             [
              0.5555555555555556,
              "#d8576b"
             ],
             [
              0.6666666666666666,
              "#ed7953"
             ],
             [
              0.7777777777777778,
              "#fb9f3a"
             ],
             [
              0.8888888888888888,
              "#fdca26"
             ],
             [
              1,
              "#f0f921"
             ]
            ],
            "type": "histogram2d"
           }
          ],
          "histogram2dcontour": [
           {
            "colorbar": {
             "outlinewidth": 0,
             "ticks": ""
            },
            "colorscale": [
             [
              0,
              "#0d0887"
             ],
             [
              0.1111111111111111,
              "#46039f"
             ],
             [
              0.2222222222222222,
              "#7201a8"
             ],
             [
              0.3333333333333333,
              "#9c179e"
             ],
             [
              0.4444444444444444,
              "#bd3786"
             ],
             [
              0.5555555555555556,
              "#d8576b"
             ],
             [
              0.6666666666666666,
              "#ed7953"
             ],
             [
              0.7777777777777778,
              "#fb9f3a"
             ],
             [
              0.8888888888888888,
              "#fdca26"
             ],
             [
              1,
              "#f0f921"
             ]
            ],
            "type": "histogram2dcontour"
           }
          ],
          "mesh3d": [
           {
            "colorbar": {
             "outlinewidth": 0,
             "ticks": ""
            },
            "type": "mesh3d"
           }
          ],
          "parcoords": [
           {
            "line": {
             "colorbar": {
              "outlinewidth": 0,
              "ticks": ""
             }
            },
            "type": "parcoords"
           }
          ],
          "pie": [
           {
            "automargin": true,
            "type": "pie"
           }
          ],
          "scatter": [
           {
            "fillpattern": {
             "fillmode": "overlay",
             "size": 10,
             "solidity": 0.2
            },
            "type": "scatter"
           }
          ],
          "scatter3d": [
           {
            "line": {
             "colorbar": {
              "outlinewidth": 0,
              "ticks": ""
             }
            },
            "marker": {
             "colorbar": {
              "outlinewidth": 0,
              "ticks": ""
             }
            },
            "type": "scatter3d"
           }
          ],
          "scattercarpet": [
           {
            "marker": {
             "colorbar": {
              "outlinewidth": 0,
              "ticks": ""
             }
            },
            "type": "scattercarpet"
           }
          ],
          "scattergeo": [
           {
            "marker": {
             "colorbar": {
              "outlinewidth": 0,
              "ticks": ""
             }
            },
            "type": "scattergeo"
           }
          ],
          "scattergl": [
           {
            "marker": {
             "colorbar": {
              "outlinewidth": 0,
              "ticks": ""
             }
            },
            "type": "scattergl"
           }
          ],
          "scattermap": [
           {
            "marker": {
             "colorbar": {
              "outlinewidth": 0,
              "ticks": ""
             }
            },
            "type": "scattermap"
           }
          ],
          "scattermapbox": [
           {
            "marker": {
             "colorbar": {
              "outlinewidth": 0,
              "ticks": ""
             }
            },
            "type": "scattermapbox"
           }
          ],
          "scatterpolar": [
           {
            "marker": {
             "colorbar": {
              "outlinewidth": 0,
              "ticks": ""
             }
            },
            "type": "scatterpolar"
           }
          ],
          "scatterpolargl": [
           {
            "marker": {
             "colorbar": {
              "outlinewidth": 0,
              "ticks": ""
             }
            },
            "type": "scatterpolargl"
           }
          ],
          "scatterternary": [
           {
            "marker": {
             "colorbar": {
              "outlinewidth": 0,
              "ticks": ""
             }
            },
            "type": "scatterternary"
           }
          ],
          "surface": [
           {
            "colorbar": {
             "outlinewidth": 0,
             "ticks": ""
            },
            "colorscale": [
             [
              0,
              "#0d0887"
             ],
             [
              0.1111111111111111,
              "#46039f"
             ],
             [
              0.2222222222222222,
              "#7201a8"
             ],
             [
              0.3333333333333333,
              "#9c179e"
             ],
             [
              0.4444444444444444,
              "#bd3786"
             ],
             [
              0.5555555555555556,
              "#d8576b"
             ],
             [
              0.6666666666666666,
              "#ed7953"
             ],
             [
              0.7777777777777778,
              "#fb9f3a"
             ],
             [
              0.8888888888888888,
              "#fdca26"
             ],
             [
              1,
              "#f0f921"
             ]
            ],
            "type": "surface"
           }
          ],
          "table": [
           {
            "cells": {
             "fill": {
              "color": "#EBF0F8"
             },
             "line": {
              "color": "white"
             }
            },
            "header": {
             "fill": {
              "color": "#C8D4E3"
             },
             "line": {
              "color": "white"
             }
            },
            "type": "table"
           }
          ]
         },
         "layout": {
          "annotationdefaults": {
           "arrowcolor": "#2a3f5f",
           "arrowhead": 0,
           "arrowwidth": 1
          },
          "autotypenumbers": "strict",
          "coloraxis": {
           "colorbar": {
            "outlinewidth": 0,
            "ticks": ""
           }
          },
          "colorscale": {
           "diverging": [
            [
             0,
             "#8e0152"
            ],
            [
             0.1,
             "#c51b7d"
            ],
            [
             0.2,
             "#de77ae"
            ],
            [
             0.3,
             "#f1b6da"
            ],
            [
             0.4,
             "#fde0ef"
            ],
            [
             0.5,
             "#f7f7f7"
            ],
            [
             0.6,
             "#e6f5d0"
            ],
            [
             0.7,
             "#b8e186"
            ],
            [
             0.8,
             "#7fbc41"
            ],
            [
             0.9,
             "#4d9221"
            ],
            [
             1,
             "#276419"
            ]
           ],
           "sequential": [
            [
             0,
             "#0d0887"
            ],
            [
             0.1111111111111111,
             "#46039f"
            ],
            [
             0.2222222222222222,
             "#7201a8"
            ],
            [
             0.3333333333333333,
             "#9c179e"
            ],
            [
             0.4444444444444444,
             "#bd3786"
            ],
            [
             0.5555555555555556,
             "#d8576b"
            ],
            [
             0.6666666666666666,
             "#ed7953"
            ],
            [
             0.7777777777777778,
             "#fb9f3a"
            ],
            [
             0.8888888888888888,
             "#fdca26"
            ],
            [
             1,
             "#f0f921"
            ]
           ],
           "sequentialminus": [
            [
             0,
             "#0d0887"
            ],
            [
             0.1111111111111111,
             "#46039f"
            ],
            [
             0.2222222222222222,
             "#7201a8"
            ],
            [
             0.3333333333333333,
             "#9c179e"
            ],
            [
             0.4444444444444444,
             "#bd3786"
            ],
            [
             0.5555555555555556,
             "#d8576b"
            ],
            [
             0.6666666666666666,
             "#ed7953"
            ],
            [
             0.7777777777777778,
             "#fb9f3a"
            ],
            [
             0.8888888888888888,
             "#fdca26"
            ],
            [
             1,
             "#f0f921"
            ]
           ]
          },
          "colorway": [
           "#636efa",
           "#EF553B",
           "#00cc96",
           "#ab63fa",
           "#FFA15A",
           "#19d3f3",
           "#FF6692",
           "#B6E880",
           "#FF97FF",
           "#FECB52"
          ],
          "font": {
           "color": "#2a3f5f"
          },
          "geo": {
           "bgcolor": "white",
           "lakecolor": "white",
           "landcolor": "white",
           "showlakes": true,
           "showland": true,
           "subunitcolor": "#C8D4E3"
          },
          "hoverlabel": {
           "align": "left"
          },
          "hovermode": "closest",
          "mapbox": {
           "style": "light"
          },
          "paper_bgcolor": "white",
          "plot_bgcolor": "white",
          "polar": {
           "angularaxis": {
            "gridcolor": "#EBF0F8",
            "linecolor": "#EBF0F8",
            "ticks": ""
           },
           "bgcolor": "white",
           "radialaxis": {
            "gridcolor": "#EBF0F8",
            "linecolor": "#EBF0F8",
            "ticks": ""
           }
          },
          "scene": {
           "xaxis": {
            "backgroundcolor": "white",
            "gridcolor": "#DFE8F3",
            "gridwidth": 2,
            "linecolor": "#EBF0F8",
            "showbackground": true,
            "ticks": "",
            "zerolinecolor": "#EBF0F8"
           },
           "yaxis": {
            "backgroundcolor": "white",
            "gridcolor": "#DFE8F3",
            "gridwidth": 2,
            "linecolor": "#EBF0F8",
            "showbackground": true,
            "ticks": "",
            "zerolinecolor": "#EBF0F8"
           },
           "zaxis": {
            "backgroundcolor": "white",
            "gridcolor": "#DFE8F3",
            "gridwidth": 2,
            "linecolor": "#EBF0F8",
            "showbackground": true,
            "ticks": "",
            "zerolinecolor": "#EBF0F8"
           }
          },
          "shapedefaults": {
           "line": {
            "color": "#2a3f5f"
           }
          },
          "ternary": {
           "aaxis": {
            "gridcolor": "#DFE8F3",
            "linecolor": "#A2B1C6",
            "ticks": ""
           },
           "baxis": {
            "gridcolor": "#DFE8F3",
            "linecolor": "#A2B1C6",
            "ticks": ""
           },
           "bgcolor": "white",
           "caxis": {
            "gridcolor": "#DFE8F3",
            "linecolor": "#A2B1C6",
            "ticks": ""
           }
          },
          "title": {
           "x": 0.05
          },
          "xaxis": {
           "automargin": true,
           "gridcolor": "#EBF0F8",
           "linecolor": "#EBF0F8",
           "ticks": "",
           "title": {
            "standoff": 15
           },
           "zerolinecolor": "#EBF0F8",
           "zerolinewidth": 2
          },
          "yaxis": {
           "automargin": true,
           "gridcolor": "#EBF0F8",
           "linecolor": "#EBF0F8",
           "ticks": "",
           "title": {
            "standoff": 15
           },
           "zerolinecolor": "#EBF0F8",
           "zerolinewidth": 2
          }
         }
        },
        "title": {
         "text": "Domain Widths Comparison (length 2300.0 µm)"
        },
        "xaxis": {
         "title": {
          "text": "Domain Index"
         }
        },
        "yaxis": {
         "title": {
          "text": "Width (μm)"
         }
        }
       }
      }
     },
     "metadata": {},
     "output_type": "display_data"
    }
   ],
   "source": [
    "def plot_domain_widths(optimized_widths: jax.Array, periodic_widths: jax.Array) -> None:\n",
    "    \"\"\"Plots the domain widths before and after optimization.\"\"\"\n",
    "    fig = go.Figure()\n",
    "    fig.add_trace(go.Scatter(y=periodic_widths, mode=\"lines\", name=\"Periodic\", line={\"dash\": \"dot\"}))\n",
    "    fig.add_trace(go.Scatter(y=optimized_widths, mode=\"lines\", name=\"Optimized\"))\n",
    "    fig.update_layout(\n",
    "        title_text=f\"Domain Widths Comparison (length {jnp.sum(optimized_widths):.1f} µm)\",\n",
    "        xaxis_title=\"Domain Index\",\n",
    "        yaxis_title=\"Width (μm)\",\n",
    "        template=\"plotly_white\",\n",
    "    )\n",
    "    fig.show()\n",
    "\n",
    "\n",
    "plot_domain_widths(widths, widths_thg)"
   ]
  }
 ],
 "metadata": {
  "kernelspec": {
   "display_name": "mictlan (3.13.9)",
   "language": "python",
   "name": "python3"
  },
  "language_info": {
   "codemirror_mode": {
    "name": "ipython",
    "version": 3
   },
   "file_extension": ".py",
   "mimetype": "text/x-python",
   "name": "python",
   "nbconvert_exporter": "python",
   "pygments_lexer": "ipython3",
   "version": "3.13.9"
  }
 },
 "nbformat": 4,
 "nbformat_minor": 5
}
