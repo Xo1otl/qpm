{
 "cells": [
  {
   "cell_type": "code",
   "execution_count": null,
   "id": "5adfb098",
   "metadata": {},
   "outputs": [],
   "source": [
    "from collections.abc import Callable\n",
    "from dataclasses import dataclass\n",
    "\n",
    "import jax\n",
    "import jax.numpy as jnp\n",
    "import optax  # pyright: ignore[reportMissingTypeStubs]\n",
    "import plotly.graph_objects as go  # pyright: ignore[reportMissingTypeStubs]\n",
    "from jax import Array, jit\n",
    "from jax_tqdm.loop_pbar import loop_tqdm\n",
    "\n",
    "from qpm import cwes, mgoslt\n",
    "\n",
    "\n",
    "# --- Data Structures for Configuration and Parameters ---\n",
    "@dataclass\n",
    "class Config:\n",
    "    \"\"\"Stores all hyperparameters for the optimization and simulation.\"\"\"\n",
    "\n",
    "    design_temp: float = 70.0\n",
    "    target_length: float = 500.0\n",
    "    max_iters: int = 200\n",
    "    prng_seed: int = 42\n",
    "    kappa_mag: float = 1.31e-4 / (2 / jnp.pi)\n",
    "    # Full spectrum calculation range\n",
    "    wl_start: float = 1.025\n",
    "    wl_end: float = 1.035\n",
    "    num_wl_points: int = 500\n",
    "    # Target flat-top region for the loss function\n",
    "    flat_top_wl_start: float = 1.031 - 0.0015\n",
    "    flat_top_wl_end: float = 1.031 + 0.0015\n",
    "    target_power: float = 0.002\n",
    "\n",
    "\n",
    "@dataclass(frozen=True)\n",
    "class SimulationParameters:\n",
    "    \"\"\"Stores fixed parameters required for the simulation physics.\"\"\"\n",
    "\n",
    "    kappa_array: Array\n",
    "    b_initial: Array\n",
    "    wls: Array\n",
    "    delta_k1s: Array\n",
    "    delta_k2s: Array\n",
    "    flat_top_indices: tuple[Array, ...]\n",
    "\n",
    "\n",
    "# --- Core JAX Functions ---\n",
    "def make_broadening_loss_fn(sim_params: SimulationParameters, config: Config) -> Callable[[Array], Array]:\n",
    "    \"\"\"Creates a loss function that calculates the MSE between the simulated power\n",
    "    in a specified spectral region and a target power.\n",
    "    \"\"\"\n",
    "    compute_spectrum_vmap = jit(jax.vmap(cwes.simulate_twm, in_axes=(None, None, 0, 0, None)))\n",
    "\n",
    "    @jit\n",
    "    def loss_fn(domain_widths: Array) -> Array:\n",
    "        # 1. Simulate the full power spectrum\n",
    "        final_vectors = compute_spectrum_vmap(\n",
    "            domain_widths,\n",
    "            sim_params.kappa_array,\n",
    "            sim_params.delta_k1s,\n",
    "            sim_params.delta_k2s,\n",
    "            sim_params.b_initial,\n",
    "        )\n",
    "        thw_powers = jnp.abs(final_vectors[:, 2]) ** 2\n",
    "\n",
    "        # 2. Slice the spectrum to the target region\n",
    "        flat_top_powers = thw_powers[sim_params.flat_top_indices]\n",
    "\n",
    "        # 3. Calculate and return the Mean Squared Error loss\n",
    "        return jnp.mean(jnp.square(flat_top_powers - config.target_power))\n",
    "\n",
    "    return loss_fn\n",
    "\n",
    "\n",
    "# --- Workflow Functions ---\n",
    "def initialize_simulation(config: Config) -> tuple[Array, SimulationParameters]:\n",
    "    \"\"\"Generates initial domain widths and fixed simulation parameters.\"\"\"\n",
    "    print(\"1. Generating initial grating and simulation parameters...\")\n",
    "\n",
    "    # --- Grating Initialization ---\n",
    "    center_wl = (config.flat_top_wl_start + config.flat_top_wl_end) / 2\n",
    "    delta_k2_center = mgoslt.calc_twm_delta_k(center_wl, center_wl / 2, config.design_temp)\n",
    "\n",
    "    domain_len_thg = jnp.pi / delta_k2_center\n",
    "    num_domains = int(jnp.round(config.target_length / domain_len_thg))\n",
    "    print(f\"   - Base domain width from calculation: {domain_len_thg:.4f} μm\")\n",
    "    print(f\"   - Total number of domains: {num_domains}\")\n",
    "\n",
    "    kappa_array = config.kappa_mag * jnp.power(-1.0, jnp.arange(num_domains))\n",
    "\n",
    "    key = jax.random.PRNGKey(config.prng_seed)\n",
    "    noise = jax.random.normal(key, shape=(num_domains,)) * (domain_len_thg * 0.02)\n",
    "    initial_widths = jnp.full(num_domains, domain_len_thg) + noise\n",
    "\n",
    "    # --- Simulation Parameter Preparation ---\n",
    "    wls = jnp.linspace(config.wl_start, config.wl_end, config.num_wl_points)\n",
    "    delta_k1s = mgoslt.calc_twm_delta_k(wls, wls, config.design_temp)\n",
    "    delta_k2s = mgoslt.calc_twm_delta_k(wls, wls / 2, config.design_temp)\n",
    "    flat_top_indices = jnp.where((wls >= config.flat_top_wl_start) & (wls <= config.flat_top_wl_end))\n",
    "    b_initial = jnp.array(\n",
    "        [\n",
    "            jnp.sqrt(1 / 3),\n",
    "            jnp.sqrt(1 / 3 * 2),\n",
    "            0.0,\n",
    "        ],\n",
    "        dtype=jnp.complex64,\n",
    "    )\n",
    "\n",
    "    sim_params = SimulationParameters(\n",
    "        kappa_array=kappa_array,\n",
    "        b_initial=b_initial,\n",
    "        wls=wls,\n",
    "        delta_k1s=delta_k1s,\n",
    "        delta_k2s=delta_k2s,\n",
    "        flat_top_indices=flat_top_indices,\n",
    "    )\n",
    "    return initial_widths, sim_params\n",
    "\n",
    "\n",
    "def run_optimization(initial_widths: Array, sim_params: SimulationParameters, config: Config) -> tuple[Array, Array]:\n",
    "    \"\"\"Sets up and runs the L-BFGS optimization.\"\"\"\n",
    "    print(\"2. Setting up loss function and L-BFGS optimizer...\")\n",
    "    loss_fn = make_broadening_loss_fn(sim_params, config)\n",
    "    solver = optax.lbfgs()\n",
    "\n",
    "    @jit\n",
    "    def run_full_optimization(initial_params: Array) -> tuple[Array, Array]:\n",
    "        initial_loss_history = jnp.zeros(config.max_iters)\n",
    "\n",
    "        @loop_tqdm(config.max_iters, desc=\"Optimizing\")\n",
    "        def step(i: int, state: tuple[Array, optax.OptState, Array]) -> tuple[optax.Params, optax.OptState, Array]:\n",
    "            params, opt_state, loss_history = state\n",
    "            value, grad = jax.value_and_grad(loss_fn)(params)\n",
    "            updates, opt_state = solver.update(grad, opt_state, params, value=value, grad=grad, value_fn=loss_fn)\n",
    "            params = optax.apply_updates(params, updates)\n",
    "            loss_history = loss_history.at[i].set(value)\n",
    "            return params, opt_state, loss_history\n",
    "\n",
    "        initial_opt_state = solver.init(initial_params)\n",
    "        optimized_params, _, loss_history = jax.lax.fori_loop(\n",
    "            0,\n",
    "            config.max_iters,\n",
    "            step,\n",
    "            (initial_params, initial_opt_state, initial_loss_history),\n",
    "        )\n",
    "        return optimized_params, loss_history\n",
    "\n",
    "    print(\"3. Running JIT-compiled optimization...\")\n",
    "    print(f\"   - Initial Loss: {loss_fn(initial_widths):.4e}\")\n",
    "\n",
    "    optimized_widths, loss_history = run_full_optimization(initial_widths)\n",
    "    optimized_widths.block_until_ready()\n",
    "\n",
    "    print(f\"   - Optimized Loss: {loss_fn(optimized_widths):.4e}\")\n",
    "    return optimized_widths, loss_history\n",
    "\n",
    "\n",
    "# --- Visualization Functions ---\n",
    "def calculate_spectrum(domain_widths: Array, sim_params: SimulationParameters) -> tuple[Array, Array]:\n",
    "    \"\"\"Helper function to compute the THW power spectrum for a given grating.\"\"\"\n",
    "    compute_spectrum_vmap = jit(jax.vmap(cwes.simulate_twm, in_axes=(None, None, 0, 0, None)))\n",
    "\n",
    "    final_vectors = compute_spectrum_vmap(\n",
    "        domain_widths,\n",
    "        sim_params.kappa_array,\n",
    "        sim_params.delta_k1s,\n",
    "        sim_params.delta_k2s,\n",
    "        sim_params.b_initial,\n",
    "    )\n",
    "    thw_powers = jnp.abs(final_vectors[:, 2]) ** 2\n",
    "    return sim_params.wls, thw_powers\n",
    "\n",
    "\n",
    "def plot_domain_widths(initial_widths: Array, optimized_widths: Array, periodic_widths: Array) -> None:\n",
    "    \"\"\"Plots the domain widths before and after optimization.\"\"\"\n",
    "    fig = go.Figure()\n",
    "    fig.add_trace(go.Scatter(y=initial_widths, mode=\"lines\", name=\"Initial\", line={\"dash\": \"dash\"}))\n",
    "    fig.add_trace(go.Scatter(y=periodic_widths, mode=\"lines\", name=\"Periodic\", line={\"dash\": \"dot\"}))\n",
    "    fig.add_trace(go.Scatter(y=optimized_widths, mode=\"lines\", name=\"Optimized\"))\n",
    "    fig.update_layout(\n",
    "        title_text=\"Domain Widths Comparison\",\n",
    "        xaxis_title=\"Domain Index\",\n",
    "        yaxis_title=\"Width (μm)\",\n",
    "        template=\"plotly_white\",\n",
    "    )\n",
    "    fig.show()\n",
    "\n",
    "\n",
    "def plot_thw_power_spectrum(\n",
    "    initial_widths: Array,\n",
    "    optimized_widths: Array,\n",
    "    periodic_widths: Array,\n",
    "    sim_params: SimulationParameters,\n",
    "    config: Config,\n",
    ") -> None:\n",
    "    \"\"\"Plots the THW power spectrum before and after optimization.\"\"\"\n",
    "    wls, initial_effs = calculate_spectrum(initial_widths, sim_params)\n",
    "    _, optimized_effs = calculate_spectrum(optimized_widths, sim_params)\n",
    "    _, periodic_effs = calculate_spectrum(periodic_widths, sim_params)\n",
    "\n",
    "    fig = go.Figure()\n",
    "    fig.add_trace(go.Scatter(x=wls, y=initial_effs, mode=\"lines\", name=\"Initial\", line={\"dash\": \"dash\"}))\n",
    "    fig.add_trace(go.Scatter(x=wls, y=periodic_effs, mode=\"lines\", name=\"Periodic\", line={\"dash\": \"dot\"}))\n",
    "    fig.add_trace(go.Scatter(x=wls, y=optimized_effs, mode=\"lines\", name=\"Optimized\"))\n",
    "    fig.add_hline(\n",
    "        y=config.target_power,\n",
    "        line_width=2,\n",
    "        line_dash=\"dash\",\n",
    "        line_color=\"green\",\n",
    "        annotation_text=\"Target Power\",\n",
    "    )\n",
    "    fig.add_vrect(\n",
    "        x0=config.flat_top_wl_start,\n",
    "        x1=config.flat_top_wl_end,\n",
    "        fillcolor=\"red\",\n",
    "        opacity=0.1,\n",
    "        line_width=0,\n",
    "        annotation_text=\"Target Region\",\n",
    "        annotation_position=\"top left\",\n",
    "    )\n",
    "    fig.update_layout(\n",
    "        title_text=\"THG Power Spectrum Comparison\",\n",
    "        xaxis_title=\"Fundamental Wavelength (μm)\",\n",
    "        yaxis_title=\"THW Power\",\n",
    "        template=\"plotly_white\",\n",
    "    )\n",
    "    fig.show()\n",
    "\n",
    "\n",
    "def plot_cost_history(loss_history: Array) -> None:\n",
    "    \"\"\"Plots the optimization cost history.\"\"\"\n",
    "    fig = go.Figure()\n",
    "    fig.add_trace(go.Scatter(y=loss_history, mode=\"lines\", name=\"Loss\"))\n",
    "    fig.update_layout(\n",
    "        title_text=\"Optimization Cost History\",\n",
    "        xaxis_title=\"Iteration\",\n",
    "        yaxis_title=\"Loss (MSE)\",\n",
    "        yaxis_type=\"log\",\n",
    "        template=\"plotly_white\",\n",
    "    )\n",
    "    fig.show()\n"
   ]
  },
  {
   "cell_type": "code",
   "execution_count": 3,
   "id": "2942124d",
   "metadata": {},
   "outputs": [
    {
     "name": "stdout",
     "output_type": "stream",
     "text": [
      "1. Generating initial grating and simulation parameters...\n",
      "   - Base domain width from calculation: 0.9796 μm\n",
      "   - Total number of domains: 510\n",
      "2. Setting up loss function and L-BFGS optimizer...\n",
      "3. Running JIT-compiled optimization...\n",
      "   - Initial Loss: 5.7302e-06\n"
     ]
    },
    {
     "data": {
      "application/vnd.jupyter.widget-view+json": {
       "model_id": "5d3991121c144de5a6b93aca13eb865c",
       "version_major": 2,
       "version_minor": 0
      },
      "text/plain": [
       "Optimizing:   0%|          | 0/200 [00:00<?, ?it/s]"
      ]
     },
     "metadata": {},
     "output_type": "display_data"
    },
    {
     "name": "stdout",
     "output_type": "stream",
     "text": [
      "   - Optimized Loss: 1.1479e-08\n"
     ]
    }
   ],
   "source": [
    "\"\"\"Main function to run the optimization and visualization.\"\"\"\n",
    "config = Config()\n",
    "# 1. Generate initial domain widths and fixed simulation parameters\n",
    "initial_widths, sim_params = initialize_simulation(config)\n",
    "# Create the ideal periodic grating for comparison\n",
    "center_wl = (config.flat_top_wl_start + config.flat_top_wl_end) / 2\n",
    "delta_k2_center = mgoslt.calc_twm_delta_k(center_wl, center_wl / 2, config.design_temp)\n",
    "domain_len_thg = jnp.pi / delta_k2_center\n",
    "num_domains = int(jnp.round(config.target_length / domain_len_thg))\n",
    "periodic_widths = jnp.full(num_domains, domain_len_thg)\n",
    "# 2. Run the optimization\n",
    "optimized_widths, loss_history = run_optimization(initial_widths, sim_params, config)"
   ]
  },
  {
   "cell_type": "code",
   "execution_count": 4,
   "id": "64993dba",
   "metadata": {},
   "outputs": [
    {
     "name": "stdout",
     "output_type": "stream",
     "text": [
      "2. Setting up loss function and L-BFGS optimizer...\n",
      "3. Running JIT-compiled optimization...\n",
      "   - Initial Loss: 1.1479e-08\n"
     ]
    },
    {
     "data": {
      "application/vnd.jupyter.widget-view+json": {
       "model_id": "fdd471e8f1c14626a916c9457e40230e",
       "version_major": 2,
       "version_minor": 0
      },
      "text/plain": [
       "Optimizing:   0%|          | 0/10 [00:00<?, ?it/s]"
      ]
     },
     "metadata": {},
     "output_type": "display_data"
    },
    {
     "name": "stdout",
     "output_type": "stream",
     "text": [
      "   - Optimized Loss: 1.1479e-08\n"
     ]
    }
   ],
   "source": [
    "initial_widths = optimized_widths\n",
    "config.max_iters = 10\n",
    "optimized_widths, loss_history = run_optimization(initial_widths, sim_params, config)"
   ]
  },
  {
   "cell_type": "code",
   "execution_count": 5,
   "id": "3df06af6",
   "metadata": {},
   "outputs": [
    {
     "name": "stdout",
     "output_type": "stream",
     "text": [
      "4. Visualizing optimization results...\n"
     ]
    },
    {
     "data": {
      "application/vnd.plotly.v1+json": {
       "config": {
        "plotlyServerURL": "https://plot.ly"
       },
       "data": [
        {
         "line": {
          "dash": "dash"
         },
         "mode": "lines",
         "name": "Initial",
         "type": "scatter",
         "y": {
          "bdata": "tLZ6P2jEfT/Cvnw/MJx8P/2lez9xBH0/9EJ1P6h5fz+/o30/BMx/PwQDeT+MNYA/pDyBPx1hgD/xInw/cfeAP+BRgD8xLYA/DwJ5P68jgj9WNIA/+AR8PylMeD+o4IE/V/p/P72Bgz/xC3o/WFJ9P6N1gD+FToM/6uOAP6kwfj9F5Hs/8bGAPx/yfj8XS3w/PCKAP7SKfz9DXXs/EQt6P4AcfT905X4/Ypd8P3ZxfT+RV34/0Xd3P5/jfT/woYA/YL59PzzYdz/tYnw/VHF6P0CkeT/IkIA/t5t8P9kAej+NYHo/5zl5P8nxfD8htoA/RrN2P5JreD+dyoA/za96P+AnfT9dqHM/FFCCP+Xvdj8gJn4/dc15PyN8fT9eFnk/ZRqAP39seD8VIHY/8A+CPw4NfD/dpHU/p6V6P4l2fT/Ivng/TC+AP5rZfj8j9n8/sSRzP+Atej8yU3E/dfR/P8Jfgj8iLH0/WZJ9P3Ocdj+QAXk/EEN9P+MSeT+gi4A/3R96P2WIfD/paH0/rWZ3P/8UfT9NL4A/PBJ8P1IOdD/btX8/1aWAP+2ffT9S0nY/yuR6P2tfeD+/JX4/8/N+P1HceD8IgX8/hnh7P8RxeD8Q/ns/wMF8P2rlfT/GLHo/fqp6P4crez8Cp3s/ci1+P3BNgT+Yj3I/9kp+Pyjlfj/FlYA/5V91P1A8fD9g/YA/vDN2Pw/QeT+bhoI/Yn97P6YBeD9ZC34/v9F5PwgSgD9OBXk/UEZ/P5LBfD/xm38/RCd8P2pidD8ffX4/tVZ+P9AegD/BK3w/lVt7P5BOej8UloA/DJV6P0XBbz9bBoM/bxN+P+wHfD8hEIE/IuVzP3xMeD/OS34/Z/x7PwUpfz/V0Ho/jLx9P6jsfT/mUHk/w5Z5PwbpfD8Cc4A/prN5P8rxeD96goA/0hp2P2mOfD/2cH0/bxF8P9hbez9w2Xc/i6J9P1aifT+zFH0/jKd4Pzyufz+aa3Y/Uid6P9khgD8vuXs/Io58P8F4dz888n4/1Yl7PwJreD9hqX0/3kN5P/g+dj+B53o/SCmAPwLLgD92gHY/SfJ3P08Cej95N34//Nh5P0IKfj8BjX0/iX56P8zteD/JEHY/4iF9Pymbez/ED3s/0qGBPylfdT9rQHg/8sB5PzYzfD9Y7ns/UxGAP1d7dj/lGXw/CAR9PwcPej+dwHY/yqJ8P/J3fj9GCn4/evpxP/XGdz/sQIA/6jF/P50Vdj+hln4/Z3x6P19Cdz+VTnw/P3Z7P/yPez/5RXk/zQ59P8WQeT+D53c/FoWAP39ZeT9Rf3U/4zmAP32Tdz9mwXc/Ijp9P1e7ez9SN3s/qIZ3P7TUfj9AT3c/sTp6P2WsfD9tSno/S0iBP2dgdD/bK3Y/Kjp/P9TWfT/O1Hs/gdt0P3l/ej+4+no/nml9P0sbeT9XCXk/mdp6P6LVfj/urHU/mL17P5Gdfj8pLng/04t+P2ONcT8WRIA/QRJ6P2yKeT9lzX4/Lk17P4VrdD/SYng/O+F9P3Xsdz8HZ34/r0d9Pw5zcz/qjIA/bLlzP884gT+ND3U/BtF2P2GwfT9l+YA/iRd2PzzedD/ud4A/KGd4P8T2dj/AFnw/gt98P3mQdT+U5Xs/QJN8PzlPej9FAnQ/G0V/PyYkeT/hEH0/P8B3P/6XeD9H1Xo/QdF6P0XOeD8e5ns/21J7P6WQeD8g43w/LRJ5Pzzhdz9HZn0/p5F5P2jAdT8yNns/oaZ9Px9gez+56Xs/Pjl6PyRpdD/urno/+TF6P/1eej+L7Xg/aT12PxtxgD8d5Xk/Chh2P8ZweD8q+H0/klVzPyQVfj/4sXQ//gt/P9WoeT+iPn0/yhJ3PxpieD9YhHs/Hj93P8P+dz9RRoA/4uxyPxuDeD97GX4/ti17PyoCej9SEnk/MvV2P8O3dz9ylXk/MNB5P8Ifej8zTnc/IEF0P+WKfj9IJ30/Xyx6P93Pdj/2f3s/AUBzPxBFfz+q03Y/uTR6P3RBeT/eUH0/EiZ3P64wdT8EA3o/k/l8P90hfT+NuXg/kGZ5P0+Acz/PBHk/p+Z5P+ShfT8Kn3k/cXN0Pw+5dj9o1Xs/ZyB7P1RffD+H0HU/EQd3P9JlfT8XE3g/2ft1P/IsgD9FNHk/S511P5kSfz8QBHY/cut/P+hqdT+atn0/6Al4P6aidD8gtHg/pzJ8P9oTeT9QhIA/5udzPzx4eD8cFHg/NZ94P5isez97uXY/BCt9Py98cD8nMoA/g954PyNbcz+zHH8/lS5+P4y+fD/E1nU/O0h6PxGPej8j63s/3kR3PxaQeD+bjXg/w/p6P+1qfj+JcH0/AFd0P4aXcj84uXo/tdR/P2SXej+xY3Y/hdp4PwcYeT+/J3k/2U56P4Qrej+5Z3Y/ycp5P0c0eT8wknY/rxh6Pyarfz+eXH8/pIt2P7a/dD+a94E/OHh0PwGbdT/R/3c/qfd1P4Btej/R5no/SRJ4P2WBeT+XU3s/2X11P30kdT9kHXs/cGx6P3erdj/QBno/L0ptP+QheT8mG3Q/QXeBPxdFeT+VunQ/RmhzPwFecT87AXY/fpxzP/hbfD/9oXs/lrx9PyhDcz9lPm4/mR13P5Y3eT90D30/uD55P3hxdj+uK3I/1YZ1P4mAdj8JOnw/yWhwPykleT/+2Ho/vndzPxILeD+loXg/Sgd2PzPleD/Xb4A/tvx4P1zDcz94k3U/",
          "dtype": "f4"
         }
        },
        {
         "line": {
          "dash": "dot"
         },
         "mode": "lines",
         "name": "Periodic",
         "type": "scatter",
         "y": {
          "bdata": "dMR6P3TEej90xHo/dMR6P3TEej90xHo/dMR6P3TEej90xHo/dMR6P3TEej90xHo/dMR6P3TEej90xHo/dMR6P3TEej90xHo/dMR6P3TEej90xHo/dMR6P3TEej90xHo/dMR6P3TEej90xHo/dMR6P3TEej90xHo/dMR6P3TEej90xHo/dMR6P3TEej90xHo/dMR6P3TEej90xHo/dMR6P3TEej90xHo/dMR6P3TEej90xHo/dMR6P3TEej90xHo/dMR6P3TEej90xHo/dMR6P3TEej90xHo/dMR6P3TEej90xHo/dMR6P3TEej90xHo/dMR6P3TEej90xHo/dMR6P3TEej90xHo/dMR6P3TEej90xHo/dMR6P3TEej90xHo/dMR6P3TEej90xHo/dMR6P3TEej90xHo/dMR6P3TEej90xHo/dMR6P3TEej90xHo/dMR6P3TEej90xHo/dMR6P3TEej90xHo/dMR6P3TEej90xHo/dMR6P3TEej90xHo/dMR6P3TEej90xHo/dMR6P3TEej90xHo/dMR6P3TEej90xHo/dMR6P3TEej90xHo/dMR6P3TEej90xHo/dMR6P3TEej90xHo/dMR6P3TEej90xHo/dMR6P3TEej90xHo/dMR6P3TEej90xHo/dMR6P3TEej90xHo/dMR6P3TEej90xHo/dMR6P3TEej90xHo/dMR6P3TEej90xHo/dMR6P3TEej90xHo/dMR6P3TEej90xHo/dMR6P3TEej90xHo/dMR6P3TEej90xHo/dMR6P3TEej90xHo/dMR6P3TEej90xHo/dMR6P3TEej90xHo/dMR6P3TEej90xHo/dMR6P3TEej90xHo/dMR6P3TEej90xHo/dMR6P3TEej90xHo/dMR6P3TEej90xHo/dMR6P3TEej90xHo/dMR6P3TEej90xHo/dMR6P3TEej90xHo/dMR6P3TEej90xHo/dMR6P3TEej90xHo/dMR6P3TEej90xHo/dMR6P3TEej90xHo/dMR6P3TEej90xHo/dMR6P3TEej90xHo/dMR6P3TEej90xHo/dMR6P3TEej90xHo/dMR6P3TEej90xHo/dMR6P3TEej90xHo/dMR6P3TEej90xHo/dMR6P3TEej90xHo/dMR6P3TEej90xHo/dMR6P3TEej90xHo/dMR6P3TEej90xHo/dMR6P3TEej90xHo/dMR6P3TEej90xHo/dMR6P3TEej90xHo/dMR6P3TEej90xHo/dMR6P3TEej90xHo/dMR6P3TEej90xHo/dMR6P3TEej90xHo/dMR6P3TEej90xHo/dMR6P3TEej90xHo/dMR6P3TEej90xHo/dMR6P3TEej90xHo/dMR6P3TEej90xHo/dMR6P3TEej90xHo/dMR6P3TEej90xHo/dMR6P3TEej90xHo/dMR6P3TEej90xHo/dMR6P3TEej90xHo/dMR6P3TEej90xHo/dMR6P3TEej90xHo/dMR6P3TEej90xHo/dMR6P3TEej90xHo/dMR6P3TEej90xHo/dMR6P3TEej90xHo/dMR6P3TEej90xHo/dMR6P3TEej90xHo/dMR6P3TEej90xHo/dMR6P3TEej90xHo/dMR6P3TEej90xHo/dMR6P3TEej90xHo/dMR6P3TEej90xHo/dMR6P3TEej90xHo/dMR6P3TEej90xHo/dMR6P3TEej90xHo/dMR6P3TEej90xHo/dMR6P3TEej90xHo/dMR6P3TEej90xHo/dMR6P3TEej90xHo/dMR6P3TEej90xHo/dMR6P3TEej90xHo/dMR6P3TEej90xHo/dMR6P3TEej90xHo/dMR6P3TEej90xHo/dMR6P3TEej90xHo/dMR6P3TEej90xHo/dMR6P3TEej90xHo/dMR6P3TEej90xHo/dMR6P3TEej90xHo/dMR6P3TEej90xHo/dMR6P3TEej90xHo/dMR6P3TEej90xHo/dMR6P3TEej90xHo/dMR6P3TEej90xHo/dMR6P3TEej90xHo/dMR6P3TEej90xHo/dMR6P3TEej90xHo/dMR6P3TEej90xHo/dMR6P3TEej90xHo/dMR6P3TEej90xHo/dMR6P3TEej90xHo/dMR6P3TEej90xHo/dMR6P3TEej90xHo/dMR6P3TEej90xHo/dMR6P3TEej90xHo/dMR6P3TEej90xHo/dMR6P3TEej90xHo/dMR6P3TEej90xHo/dMR6P3TEej90xHo/dMR6P3TEej90xHo/dMR6P3TEej90xHo/dMR6P3TEej90xHo/dMR6P3TEej90xHo/dMR6P3TEej90xHo/dMR6P3TEej90xHo/dMR6P3TEej90xHo/dMR6P3TEej90xHo/dMR6P3TEej90xHo/dMR6P3TEej90xHo/dMR6P3TEej90xHo/dMR6P3TEej90xHo/dMR6P3TEej90xHo/dMR6P3TEej90xHo/dMR6P3TEej90xHo/dMR6P3TEej90xHo/dMR6P3TEej90xHo/dMR6P3TEej90xHo/dMR6P3TEej90xHo/dMR6P3TEej90xHo/dMR6P3TEej90xHo/dMR6P3TEej90xHo/dMR6P3TEej90xHo/dMR6P3TEej90xHo/dMR6P3TEej90xHo/dMR6P3TEej90xHo/dMR6P3TEej90xHo/dMR6P3TEej90xHo/",
          "dtype": "f4"
         }
        },
        {
         "mode": "lines",
         "name": "Optimized",
         "type": "scatter",
         "y": {
          "bdata": "tLZ6P2jEfT/Cvnw/MJx8P/2lez9xBH0/9EJ1P6h5fz+/o30/BMx/PwQDeT+MNYA/pDyBPx1hgD/xInw/cfeAP+BRgD8xLYA/DwJ5P68jgj9WNIA/+AR8PylMeD+o4IE/V/p/P72Bgz/xC3o/WFJ9P6N1gD+FToM/6uOAP6kwfj9F5Hs/8bGAPx/yfj8XS3w/PCKAP7SKfz9DXXs/EQt6P4AcfT905X4/Ypd8P3ZxfT+RV34/0Xd3P5/jfT/woYA/YL59PzzYdz/tYnw/VHF6P0CkeT/IkIA/t5t8P9kAej+NYHo/5zl5P8nxfD8htoA/RrN2P5JreD+dyoA/za96P+AnfT9dqHM/FFCCP+Xvdj8gJn4/dc15PyN8fT9eFnk/ZRqAP39seD8VIHY/8A+CPw4NfD/dpHU/p6V6P4l2fT/Ivng/TC+AP5rZfj8j9n8/sSRzP+Atej8yU3E/dfR/P8Jfgj8iLH0/WZJ9P3Ocdj+QAXk/EEN9P+MSeT+gi4A/3R96P2WIfD/paH0/rWZ3P/8UfT9NL4A/PBJ8P1IOdD/btX8/1aWAP+2ffT9S0nY/yuR6P2tfeD+/JX4/8/N+P1HceD8IgX8/hnh7P8RxeD8Q/ns/wMF8P2rlfT/GLHo/fqp6P4crez8Cp3s/ci1+P3BNgT+Yj3I/9kp+Pyjlfj/FlYA/5V91P1A8fD9g/YA/vDN2Pw/QeT+bhoI/Yn97P6YBeD9ZC34/v9F5PwgSgD9OBXk/UEZ/P5LBfD/xm38/RCd8P2pidD8ffX4/tVZ+P9AegD/BK3w/lVt7P5BOej8UloA/DJV6P0XBbz9bBoM/bxN+P+wHfD8hEIE/IuVzP3xMeD/OS34/Z/x7PwUpfz/V0Ho/jLx9P6jsfT/mUHk/w5Z5PwbpfD8Cc4A/prN5P8rxeD96goA/0hp2P2mOfD/2cH0/bxF8P9hbez9w2Xc/i6J9P1aifT+zFH0/jKd4Pzyufz+aa3Y/Uid6P9khgD8vuXs/Io58P8F4dz888n4/1Yl7PwJreD9hqX0/3kN5P/g+dj+B53o/SCmAPwLLgD92gHY/SfJ3P08Cej95N34//Nh5P0IKfj8BjX0/iX56P8zteD/JEHY/4iF9Pymbez/ED3s/0qGBPylfdT9rQHg/8sB5PzYzfD9Y7ns/UxGAP1d7dj/lGXw/CAR9PwcPej+dwHY/yqJ8P/J3fj9GCn4/evpxP/XGdz/sQIA/6jF/P50Vdj+hln4/Z3x6P19Cdz+VTnw/P3Z7P/yPez/5RXk/zQ59P8WQeT+D53c/FoWAP39ZeT9Rf3U/4zmAP32Tdz9mwXc/Ijp9P1e7ez9SN3s/qIZ3P7TUfj9AT3c/sTp6P2WsfD9tSno/S0iBP2dgdD/bK3Y/Kjp/P9TWfT/O1Hs/gdt0P3l/ej+4+no/nml9P0sbeT9XCXk/mdp6P6LVfj/urHU/mL17P5Gdfj8pLng/04t+P2ONcT8WRIA/QRJ6P2yKeT9lzX4/Lk17P4VrdD/SYng/O+F9P3Xsdz8HZ34/r0d9Pw5zcz/qjIA/bLlzP884gT+ND3U/BtF2P2GwfT9l+YA/iRd2PzzedD/ud4A/KGd4P8T2dj/AFnw/gt98P3mQdT+U5Xs/QJN8PzlPej9FAnQ/G0V/PyYkeT/hEH0/P8B3P/6XeD9H1Xo/QdF6P0XOeD8e5ns/21J7P6WQeD8g43w/LRJ5Pzzhdz9HZn0/p5F5P2jAdT8yNns/oaZ9Px9gez+56Xs/Pjl6PyRpdD/urno/+TF6P/1eej+L7Xg/aT12PxtxgD8d5Xk/Chh2P8ZweD8q+H0/klVzPyQVfj/4sXQ//gt/P9WoeT+iPn0/yhJ3PxpieD9YhHs/Hj93P8P+dz9RRoA/4uxyPxuDeD97GX4/ti17PyoCej9SEnk/MvV2P8O3dz9ylXk/MNB5P8Ifej8zTnc/IEF0P+WKfj9IJ30/Xyx6P93Pdj/2f3s/AUBzPxBFfz+q03Y/uTR6P3RBeT/eUH0/EiZ3P64wdT8EA3o/k/l8P90hfT+NuXg/kGZ5P0+Acz/PBHk/p+Z5P+ShfT8Kn3k/cXN0Pw+5dj9o1Xs/ZyB7P1RffD+H0HU/EQd3P9JlfT8XE3g/2ft1P/IsgD9FNHk/S511P5kSfz8QBHY/cut/P+hqdT+atn0/6Al4P6aidD8gtHg/pzJ8P9oTeT9QhIA/5udzPzx4eD8cFHg/NZ94P5isez97uXY/BCt9Py98cD8nMoA/g954PyNbcz+zHH8/lS5+P4y+fD/E1nU/O0h6PxGPej8j63s/3kR3PxaQeD+bjXg/w/p6P+1qfj+JcH0/AFd0P4aXcj84uXo/tdR/P2SXej+xY3Y/hdp4PwcYeT+/J3k/2U56P4Qrej+5Z3Y/ycp5P0c0eT8wknY/rxh6Pyarfz+eXH8/pIt2P7a/dD+a94E/OHh0PwGbdT/R/3c/qfd1P4Btej/R5no/SRJ4P2WBeT+XU3s/2X11P30kdT9kHXs/cGx6P3erdj/QBno/L0ptP+QheT8mG3Q/QXeBPxdFeT+VunQ/RmhzPwFecT87AXY/fpxzP/hbfD/9oXs/lrx9PyhDcz9lPm4/mR13P5Y3eT90D30/uD55P3hxdj+uK3I/1YZ1P4mAdj8JOnw/yWhwPykleT/+2Ho/vndzPxILeD+loXg/Sgd2PzPleD/Xb4A/tvx4P1zDcz94k3U/",
          "dtype": "f4"
         }
        }
       ],
       "layout": {
        "template": {
         "data": {
          "bar": [
           {
            "error_x": {
             "color": "#2a3f5f"
            },
            "error_y": {
             "color": "#2a3f5f"
            },
            "marker": {
             "line": {
              "color": "white",
              "width": 0.5
             },
             "pattern": {
              "fillmode": "overlay",
              "size": 10,
              "solidity": 0.2
             }
            },
            "type": "bar"
           }
          ],
          "barpolar": [
           {
            "marker": {
             "line": {
              "color": "white",
              "width": 0.5
             },
             "pattern": {
              "fillmode": "overlay",
              "size": 10,
              "solidity": 0.2
             }
            },
            "type": "barpolar"
           }
          ],
          "carpet": [
           {
            "aaxis": {
             "endlinecolor": "#2a3f5f",
             "gridcolor": "#C8D4E3",
             "linecolor": "#C8D4E3",
             "minorgridcolor": "#C8D4E3",
             "startlinecolor": "#2a3f5f"
            },
            "baxis": {
             "endlinecolor": "#2a3f5f",
             "gridcolor": "#C8D4E3",
             "linecolor": "#C8D4E3",
             "minorgridcolor": "#C8D4E3",
             "startlinecolor": "#2a3f5f"
            },
            "type": "carpet"
           }
          ],
          "choropleth": [
           {
            "colorbar": {
             "outlinewidth": 0,
             "ticks": ""
            },
            "type": "choropleth"
           }
          ],
          "contour": [
           {
            "colorbar": {
             "outlinewidth": 0,
             "ticks": ""
            },
            "colorscale": [
             [
              0,
              "#0d0887"
             ],
             [
              0.1111111111111111,
              "#46039f"
             ],
             [
              0.2222222222222222,
              "#7201a8"
             ],
             [
              0.3333333333333333,
              "#9c179e"
             ],
             [
              0.4444444444444444,
              "#bd3786"
             ],
             [
              0.5555555555555556,
              "#d8576b"
             ],
             [
              0.6666666666666666,
              "#ed7953"
             ],
             [
              0.7777777777777778,
              "#fb9f3a"
             ],
             [
              0.8888888888888888,
              "#fdca26"
             ],
             [
              1,
              "#f0f921"
             ]
            ],
            "type": "contour"
           }
          ],
          "contourcarpet": [
           {
            "colorbar": {
             "outlinewidth": 0,
             "ticks": ""
            },
            "type": "contourcarpet"
           }
          ],
          "heatmap": [
           {
            "colorbar": {
             "outlinewidth": 0,
             "ticks": ""
            },
            "colorscale": [
             [
              0,
              "#0d0887"
             ],
             [
              0.1111111111111111,
              "#46039f"
             ],
             [
              0.2222222222222222,
              "#7201a8"
             ],
             [
              0.3333333333333333,
              "#9c179e"
             ],
             [
              0.4444444444444444,
              "#bd3786"
             ],
             [
              0.5555555555555556,
              "#d8576b"
             ],
             [
              0.6666666666666666,
              "#ed7953"
             ],
             [
              0.7777777777777778,
              "#fb9f3a"
             ],
             [
              0.8888888888888888,
              "#fdca26"
             ],
             [
              1,
              "#f0f921"
             ]
            ],
            "type": "heatmap"
           }
          ],
          "histogram": [
           {
            "marker": {
             "pattern": {
              "fillmode": "overlay",
              "size": 10,
              "solidity": 0.2
             }
            },
            "type": "histogram"
           }
          ],
          "histogram2d": [
           {
            "colorbar": {
             "outlinewidth": 0,
             "ticks": ""
            },
            "colorscale": [
             [
              0,
              "#0d0887"
             ],
             [
              0.1111111111111111,
              "#46039f"
             ],
             [
              0.2222222222222222,
              "#7201a8"
             ],
             [
              0.3333333333333333,
              "#9c179e"
             ],
             [
              0.4444444444444444,
              "#bd3786"
             ],
             [
              0.5555555555555556,
              "#d8576b"
             ],
             [
              0.6666666666666666,
              "#ed7953"
             ],
             [
              0.7777777777777778,
              "#fb9f3a"
             ],
             [
              0.8888888888888888,
              "#fdca26"
             ],
             [
              1,
              "#f0f921"
             ]
            ],
            "type": "histogram2d"
           }
          ],
          "histogram2dcontour": [
           {
            "colorbar": {
             "outlinewidth": 0,
             "ticks": ""
            },
            "colorscale": [
             [
              0,
              "#0d0887"
             ],
             [
              0.1111111111111111,
              "#46039f"
             ],
             [
              0.2222222222222222,
              "#7201a8"
             ],
             [
              0.3333333333333333,
              "#9c179e"
             ],
             [
              0.4444444444444444,
              "#bd3786"
             ],
             [
              0.5555555555555556,
              "#d8576b"
             ],
             [
              0.6666666666666666,
              "#ed7953"
             ],
             [
              0.7777777777777778,
              "#fb9f3a"
             ],
             [
              0.8888888888888888,
              "#fdca26"
             ],
             [
              1,
              "#f0f921"
             ]
            ],
            "type": "histogram2dcontour"
           }
          ],
          "mesh3d": [
           {
            "colorbar": {
             "outlinewidth": 0,
             "ticks": ""
            },
            "type": "mesh3d"
           }
          ],
          "parcoords": [
           {
            "line": {
             "colorbar": {
              "outlinewidth": 0,
              "ticks": ""
             }
            },
            "type": "parcoords"
           }
          ],
          "pie": [
           {
            "automargin": true,
            "type": "pie"
           }
          ],
          "scatter": [
           {
            "fillpattern": {
             "fillmode": "overlay",
             "size": 10,
             "solidity": 0.2
            },
            "type": "scatter"
           }
          ],
          "scatter3d": [
           {
            "line": {
             "colorbar": {
              "outlinewidth": 0,
              "ticks": ""
             }
            },
            "marker": {
             "colorbar": {
              "outlinewidth": 0,
              "ticks": ""
             }
            },
            "type": "scatter3d"
           }
          ],
          "scattercarpet": [
           {
            "marker": {
             "colorbar": {
              "outlinewidth": 0,
              "ticks": ""
             }
            },
            "type": "scattercarpet"
           }
          ],
          "scattergeo": [
           {
            "marker": {
             "colorbar": {
              "outlinewidth": 0,
              "ticks": ""
             }
            },
            "type": "scattergeo"
           }
          ],
          "scattergl": [
           {
            "marker": {
             "colorbar": {
              "outlinewidth": 0,
              "ticks": ""
             }
            },
            "type": "scattergl"
           }
          ],
          "scattermap": [
           {
            "marker": {
             "colorbar": {
              "outlinewidth": 0,
              "ticks": ""
             }
            },
            "type": "scattermap"
           }
          ],
          "scattermapbox": [
           {
            "marker": {
             "colorbar": {
              "outlinewidth": 0,
              "ticks": ""
             }
            },
            "type": "scattermapbox"
           }
          ],
          "scatterpolar": [
           {
            "marker": {
             "colorbar": {
              "outlinewidth": 0,
              "ticks": ""
             }
            },
            "type": "scatterpolar"
           }
          ],
          "scatterpolargl": [
           {
            "marker": {
             "colorbar": {
              "outlinewidth": 0,
              "ticks": ""
             }
            },
            "type": "scatterpolargl"
           }
          ],
          "scatterternary": [
           {
            "marker": {
             "colorbar": {
              "outlinewidth": 0,
              "ticks": ""
             }
            },
            "type": "scatterternary"
           }
          ],
          "surface": [
           {
            "colorbar": {
             "outlinewidth": 0,
             "ticks": ""
            },
            "colorscale": [
             [
              0,
              "#0d0887"
             ],
             [
              0.1111111111111111,
              "#46039f"
             ],
             [
              0.2222222222222222,
              "#7201a8"
             ],
             [
              0.3333333333333333,
              "#9c179e"
             ],
             [
              0.4444444444444444,
              "#bd3786"
             ],
             [
              0.5555555555555556,
              "#d8576b"
             ],
             [
              0.6666666666666666,
              "#ed7953"
             ],
             [
              0.7777777777777778,
              "#fb9f3a"
             ],
             [
              0.8888888888888888,
              "#fdca26"
             ],
             [
              1,
              "#f0f921"
             ]
            ],
            "type": "surface"
           }
          ],
          "table": [
           {
            "cells": {
             "fill": {
              "color": "#EBF0F8"
             },
             "line": {
              "color": "white"
             }
            },
            "header": {
             "fill": {
              "color": "#C8D4E3"
             },
             "line": {
              "color": "white"
             }
            },
            "type": "table"
           }
          ]
         },
         "layout": {
          "annotationdefaults": {
           "arrowcolor": "#2a3f5f",
           "arrowhead": 0,
           "arrowwidth": 1
          },
          "autotypenumbers": "strict",
          "coloraxis": {
           "colorbar": {
            "outlinewidth": 0,
            "ticks": ""
           }
          },
          "colorscale": {
           "diverging": [
            [
             0,
             "#8e0152"
            ],
            [
             0.1,
             "#c51b7d"
            ],
            [
             0.2,
             "#de77ae"
            ],
            [
             0.3,
             "#f1b6da"
            ],
            [
             0.4,
             "#fde0ef"
            ],
            [
             0.5,
             "#f7f7f7"
            ],
            [
             0.6,
             "#e6f5d0"
            ],
            [
             0.7,
             "#b8e186"
            ],
            [
             0.8,
             "#7fbc41"
            ],
            [
             0.9,
             "#4d9221"
            ],
            [
             1,
             "#276419"
            ]
           ],
           "sequential": [
            [
             0,
             "#0d0887"
            ],
            [
             0.1111111111111111,
             "#46039f"
            ],
            [
             0.2222222222222222,
             "#7201a8"
            ],
            [
             0.3333333333333333,
             "#9c179e"
            ],
            [
             0.4444444444444444,
             "#bd3786"
            ],
            [
             0.5555555555555556,
             "#d8576b"
            ],
            [
             0.6666666666666666,
             "#ed7953"
            ],
            [
             0.7777777777777778,
             "#fb9f3a"
            ],
            [
             0.8888888888888888,
             "#fdca26"
            ],
            [
             1,
             "#f0f921"
            ]
           ],
           "sequentialminus": [
            [
             0,
             "#0d0887"
            ],
            [
             0.1111111111111111,
             "#46039f"
            ],
            [
             0.2222222222222222,
             "#7201a8"
            ],
            [
             0.3333333333333333,
             "#9c179e"
            ],
            [
             0.4444444444444444,
             "#bd3786"
            ],
            [
             0.5555555555555556,
             "#d8576b"
            ],
            [
             0.6666666666666666,
             "#ed7953"
            ],
            [
             0.7777777777777778,
             "#fb9f3a"
            ],
            [
             0.8888888888888888,
             "#fdca26"
            ],
            [
             1,
             "#f0f921"
            ]
           ]
          },
          "colorway": [
           "#636efa",
           "#EF553B",
           "#00cc96",
           "#ab63fa",
           "#FFA15A",
           "#19d3f3",
           "#FF6692",
           "#B6E880",
           "#FF97FF",
           "#FECB52"
          ],
          "font": {
           "color": "#2a3f5f"
          },
          "geo": {
           "bgcolor": "white",
           "lakecolor": "white",
           "landcolor": "white",
           "showlakes": true,
           "showland": true,
           "subunitcolor": "#C8D4E3"
          },
          "hoverlabel": {
           "align": "left"
          },
          "hovermode": "closest",
          "mapbox": {
           "style": "light"
          },
          "paper_bgcolor": "white",
          "plot_bgcolor": "white",
          "polar": {
           "angularaxis": {
            "gridcolor": "#EBF0F8",
            "linecolor": "#EBF0F8",
            "ticks": ""
           },
           "bgcolor": "white",
           "radialaxis": {
            "gridcolor": "#EBF0F8",
            "linecolor": "#EBF0F8",
            "ticks": ""
           }
          },
          "scene": {
           "xaxis": {
            "backgroundcolor": "white",
            "gridcolor": "#DFE8F3",
            "gridwidth": 2,
            "linecolor": "#EBF0F8",
            "showbackground": true,
            "ticks": "",
            "zerolinecolor": "#EBF0F8"
           },
           "yaxis": {
            "backgroundcolor": "white",
            "gridcolor": "#DFE8F3",
            "gridwidth": 2,
            "linecolor": "#EBF0F8",
            "showbackground": true,
            "ticks": "",
            "zerolinecolor": "#EBF0F8"
           },
           "zaxis": {
            "backgroundcolor": "white",
            "gridcolor": "#DFE8F3",
            "gridwidth": 2,
            "linecolor": "#EBF0F8",
            "showbackground": true,
            "ticks": "",
            "zerolinecolor": "#EBF0F8"
           }
          },
          "shapedefaults": {
           "line": {
            "color": "#2a3f5f"
           }
          },
          "ternary": {
           "aaxis": {
            "gridcolor": "#DFE8F3",
            "linecolor": "#A2B1C6",
            "ticks": ""
           },
           "baxis": {
            "gridcolor": "#DFE8F3",
            "linecolor": "#A2B1C6",
            "ticks": ""
           },
           "bgcolor": "white",
           "caxis": {
            "gridcolor": "#DFE8F3",
            "linecolor": "#A2B1C6",
            "ticks": ""
           }
          },
          "title": {
           "x": 0.05
          },
          "xaxis": {
           "automargin": true,
           "gridcolor": "#EBF0F8",
           "linecolor": "#EBF0F8",
           "ticks": "",
           "title": {
            "standoff": 15
           },
           "zerolinecolor": "#EBF0F8",
           "zerolinewidth": 2
          },
          "yaxis": {
           "automargin": true,
           "gridcolor": "#EBF0F8",
           "linecolor": "#EBF0F8",
           "ticks": "",
           "title": {
            "standoff": 15
           },
           "zerolinecolor": "#EBF0F8",
           "zerolinewidth": 2
          }
         }
        },
        "title": {
         "text": "Domain Widths Comparison"
        },
        "xaxis": {
         "title": {
          "text": "Domain Index"
         }
        },
        "yaxis": {
         "title": {
          "text": "Width (μm)"
         }
        }
       }
      }
     },
     "metadata": {},
     "output_type": "display_data"
    },
    {
     "data": {
      "application/vnd.plotly.v1+json": {
       "config": {
        "plotlyServerURL": "https://plot.ly"
       },
       "data": [
        {
         "line": {
          "dash": "dash"
         },
         "mode": "lines",
         "name": "Initial",
         "type": "scatter",
         "x": {
          "bdata": "MzODP9szgz+DNIM/LDWDP9M1gz98NoM/IzeDP8w3gz90OIM/HDmDP8Q5gz9sOoM/FTuDP7w7gz9lPIM/DT2DP7Q9gz9dPoM/BT+DP60/gz9VQIM//kCDP6VBgz9NQoM/9kKDP51Dgz9GRIM/7kSDP5ZFgz8+RoM/50aDP45Hgz82SIM/30iDP4dJgz8vSoM/10qDP39Lgz8nTIM/z0yDP3dNgz8fToM/yE6DP3BPgz8YUIM/wFCDP2hRgz8QUoM/uFKDP2BTgz8IVIM/sVSDP1lVgz8AVoM/qVaDP1FXgz/5V4M/oViDP0pZgz/xWYM/mlqDP0Jbgz/pW4M/klyDPzpdgz/iXYM/il6DPzNfgz/aX4M/gmCDPythgz/TYYM/e2KDPyNjgz/LY4M/c2SDPxtlgz/DZYM/a2aDPxRngz+8Z4M/ZGiDPwxpgz+0aYM/XGqDPwRrgz+sa4M/VGyDP/1sgz+lbYM/TW6DP/Vugz+db4M/RXCDP+1wgz+WcYM/PXKDP+Zygz+Oc4M/NXSDP950gz+GdYM/LnaDP9Z2gz9/d4M/JniDP854gz93eYM/H3qDP8d6gz9ve4M/F3yDP798gz9nfYM/D36DP7d+gz9gf4M/CICDP7CAgz9YgYM/AIKDP6iCgz9Qg4M/+IODP6CEgz9JhYM/8YWDP5mGgz9Bh4M/6YeDP5GIgz85iYM/4omDP4mKgz8xi4M/2ouDP4GMgz8qjYM/0o2DP3qOgz8ij4M/y4+DP3KQgz8bkYM/w5GDP2uSgz8Tk4M/u5ODP2OUgz8LlYM/tJWDP1uWgz8Dl4M/rJeDP1SYgz/8mIM/pJmDP0yagz/0moM/nJuDP0Scgz/snIM/lZ2DPz2egz/lnoM/jZ+DPzWggz/doIM/haGDPy6igz/VooM/faODPyakgz/OpIM/dqWDPx6mgz/GpoM/bqeDPxeogz++qIM/Z6mDPw+qgz+3qoM/X6uDPwesgz+vrIM/V62DPwCugz+nroM/T6+DP/ivgz+gsIM/SLGDP/Cxgz+YsoM/QLODP+izgz+QtIM/OLWDP+G1gz+JtoM/MbeDP9m3gz+BuIM/KbmDP9G5gz96uoM/IbuDP8m7gz9yvIM/Gr2DP8K9gz9qvoM/Er+DP7q/gz9jwIM/CsGDP7PBgz9bwoM/A8ODP6vDgz9TxIM/+8SDP6PFgz9MxoM/88aDP5vHgz9EyIM/7MiDP5TJgz88yoM/5MqDP4zLgz81zIM/3MyDP4TNgz8tzoM/1c6DP33Pgz8l0IM/zdCDP3XRgz8d0oM/xtKDP23Tgz8V1IM/vtSDP2bVgz8O1oM/ttaDP17Xgz8G2IM/rtiDP1bZgz//2YM/p9qDP0/bgz/324M/n9yDP0fdgz/v3YM/l96DPz/fgz/o34M/j+CDPzjhgz/g4YM/iOKDPzDjgz/Y44M/gOSDPynlgz/Q5YM/eeaDPyHngz/J54M/ceiDPxnpgz/B6YM/aeqDPxHrgz+564M/YuyDPwrtgz+y7YM/Wu6DPwLvgz+q74M/UvCDP/rwgz+i8YM/S/KDP/Pygz+b84M/Q/SDP+v0gz+T9YM/O/aDP+P2gz+L94M/NPiDP9z4gz+E+YM/LPqDP9T6gz98+4M/JPyDP8z8gz91/YM/HP6DP8X+gz9t/4M/FQCEP70AhD9lAYQ/DQKEP7UChD9dA4Q/BQSEP64EhD9WBYQ//gWEP6YGhD9OB4Q/9geEP54IhD9GCYQ/7gmEP5cKhD8/C4Q/5wuEP48MhD83DYQ/3w2EP4cOhD8vD4Q/1w+EP4AQhD8oEYQ/0BGEP3gShD8gE4Q/yBOEP3AUhD8YFYQ/wRWEP2kWhD8QF4Q/uReEP2EYhD8JGYQ/sRmEP1kahD8BG4Q/qRuEP1EchD/6HIQ/oh2EP0oehD/yHoQ/mh+EP0IghD/qIIQ/kiGEPzoihD/jIoQ/iyOEPzMkhD/bJIQ/gyWEPysmhD/TJoQ/eyeEPyMohD/MKIQ/dCmEPxwqhD/EKoQ/bCuEPxQshD+8LIQ/ZC2EPwwuhD+1LoQ/XS+EPwUwhD+tMIQ/VTGEP/0xhD+lMoQ/TTOEP/UzhD+dNIQ/RjWEP+41hD+WNoQ/PjeEP+Y3hD+OOIQ/NjmEP945hD+GOoQ/LzuEP9c7hD9/PIQ/Jz2EP889hD93PoQ/Hz+EP8c/hD9wQIQ/F0GEP8BBhD9oQoQ/EEOEP7hDhD9gRIQ/CEWEP7BFhD9YRoQ/AUeEP6lHhD9RSIQ/+UiEP6FJhD9JSoQ/8UqEP5lLhD9BTIQ/6UyEP5JNhD86ToQ/4k6EP4pPhD8yUIQ/2lCEP4JRhD8qUoQ/0lKEP3tThD8jVIQ/y1SEP3NVhD8bVoQ/w1aEP2tXhD8TWIQ/u1iEP2RZhD8MWoQ/tFqEP1xbhD8EXIQ/rFyEP1RdhD/8XYQ/pF6EP01fhD/1X4Q/nWCEP0VhhD/tYYQ/lWKEPz1jhD/lY4Q/jWSEPzZlhD/eZYQ/hmaEPy5nhD/WZ4Q/fmiEPyZphD/OaYQ/dmqEPx5rhD/Ha4Q/b2yEPxdthD+/bYQ/Z26EPw9vhD+3b4Q/X3CEPwdxhD+wcYQ/WHKEPwBzhD+oc4Q/UHSEP/h0hD+gdYQ/SHaEP/B2hD+Zd4Q/QXiEP+l4hD+ReYQ/OXqEP+F6hD8=",
          "dtype": "f4"
         },
         "y": {
          "bdata": "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",
          "dtype": "f4"
         }
        },
        {
         "line": {
          "dash": "dot"
         },
         "mode": "lines",
         "name": "Periodic",
         "type": "scatter",
         "x": {
          "bdata": "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",
          "dtype": "f4"
         },
         "y": {
          "bdata": "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",
          "dtype": "f4"
         }
        },
        {
         "mode": "lines",
         "name": "Optimized",
         "type": "scatter",
         "x": {
          "bdata": "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",
          "dtype": "f4"
         },
         "y": {
          "bdata": "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",
          "dtype": "f4"
         }
        }
       ],
       "layout": {
        "annotations": [
         {
          "showarrow": false,
          "text": "Target Power",
          "x": 1,
          "xanchor": "right",
          "xref": "x domain",
          "y": 0.002,
          "yanchor": "bottom",
          "yref": "y"
         },
         {
          "showarrow": false,
          "text": "Target Region",
          "x": 1.0294999999999999,
          "xanchor": "left",
          "xref": "x",
          "y": 1,
          "yanchor": "top",
          "yref": "y domain"
         }
        ],
        "shapes": [
         {
          "line": {
           "color": "green",
           "dash": "dash",
           "width": 2
          },
          "type": "line",
          "x0": 0,
          "x1": 1,
          "xref": "x domain",
          "y0": 0.002,
          "y1": 0.002,
          "yref": "y"
         },
         {
          "fillcolor": "red",
          "line": {
           "width": 0
          },
          "opacity": 0.1,
          "type": "rect",
          "x0": 1.0294999999999999,
          "x1": 1.0325,
          "xref": "x",
          "y0": 0,
          "y1": 1,
          "yref": "y domain"
         }
        ],
        "template": {
         "data": {
          "bar": [
           {
            "error_x": {
             "color": "#2a3f5f"
            },
            "error_y": {
             "color": "#2a3f5f"
            },
            "marker": {
             "line": {
              "color": "white",
              "width": 0.5
             },
             "pattern": {
              "fillmode": "overlay",
              "size": 10,
              "solidity": 0.2
             }
            },
            "type": "bar"
           }
          ],
          "barpolar": [
           {
            "marker": {
             "line": {
              "color": "white",
              "width": 0.5
             },
             "pattern": {
              "fillmode": "overlay",
              "size": 10,
              "solidity": 0.2
             }
            },
            "type": "barpolar"
           }
          ],
          "carpet": [
           {
            "aaxis": {
             "endlinecolor": "#2a3f5f",
             "gridcolor": "#C8D4E3",
             "linecolor": "#C8D4E3",
             "minorgridcolor": "#C8D4E3",
             "startlinecolor": "#2a3f5f"
            },
            "baxis": {
             "endlinecolor": "#2a3f5f",
             "gridcolor": "#C8D4E3",
             "linecolor": "#C8D4E3",
             "minorgridcolor": "#C8D4E3",
             "startlinecolor": "#2a3f5f"
            },
            "type": "carpet"
           }
          ],
          "choropleth": [
           {
            "colorbar": {
             "outlinewidth": 0,
             "ticks": ""
            },
            "type": "choropleth"
           }
          ],
          "contour": [
           {
            "colorbar": {
             "outlinewidth": 0,
             "ticks": ""
            },
            "colorscale": [
             [
              0,
              "#0d0887"
             ],
             [
              0.1111111111111111,
              "#46039f"
             ],
             [
              0.2222222222222222,
              "#7201a8"
             ],
             [
              0.3333333333333333,
              "#9c179e"
             ],
             [
              0.4444444444444444,
              "#bd3786"
             ],
             [
              0.5555555555555556,
              "#d8576b"
             ],
             [
              0.6666666666666666,
              "#ed7953"
             ],
             [
              0.7777777777777778,
              "#fb9f3a"
             ],
             [
              0.8888888888888888,
              "#fdca26"
             ],
             [
              1,
              "#f0f921"
             ]
            ],
            "type": "contour"
           }
          ],
          "contourcarpet": [
           {
            "colorbar": {
             "outlinewidth": 0,
             "ticks": ""
            },
            "type": "contourcarpet"
           }
          ],
          "heatmap": [
           {
            "colorbar": {
             "outlinewidth": 0,
             "ticks": ""
            },
            "colorscale": [
             [
              0,
              "#0d0887"
             ],
             [
              0.1111111111111111,
              "#46039f"
             ],
             [
              0.2222222222222222,
              "#7201a8"
             ],
             [
              0.3333333333333333,
              "#9c179e"
             ],
             [
              0.4444444444444444,
              "#bd3786"
             ],
             [
              0.5555555555555556,
              "#d8576b"
             ],
             [
              0.6666666666666666,
              "#ed7953"
             ],
             [
              0.7777777777777778,
              "#fb9f3a"
             ],
             [
              0.8888888888888888,
              "#fdca26"
             ],
             [
              1,
              "#f0f921"
             ]
            ],
            "type": "heatmap"
           }
          ],
          "histogram": [
           {
            "marker": {
             "pattern": {
              "fillmode": "overlay",
              "size": 10,
              "solidity": 0.2
             }
            },
            "type": "histogram"
           }
          ],
          "histogram2d": [
           {
            "colorbar": {
             "outlinewidth": 0,
             "ticks": ""
            },
            "colorscale": [
             [
              0,
              "#0d0887"
             ],
             [
              0.1111111111111111,
              "#46039f"
             ],
             [
              0.2222222222222222,
              "#7201a8"
             ],
             [
              0.3333333333333333,
              "#9c179e"
             ],
             [
              0.4444444444444444,
              "#bd3786"
             ],
             [
              0.5555555555555556,
              "#d8576b"
             ],
             [
              0.6666666666666666,
              "#ed7953"
             ],
             [
              0.7777777777777778,
              "#fb9f3a"
             ],
             [
              0.8888888888888888,
              "#fdca26"
             ],
             [
              1,
              "#f0f921"
             ]
            ],
            "type": "histogram2d"
           }
          ],
          "histogram2dcontour": [
           {
            "colorbar": {
             "outlinewidth": 0,
             "ticks": ""
            },
            "colorscale": [
             [
              0,
              "#0d0887"
             ],
             [
              0.1111111111111111,
              "#46039f"
             ],
             [
              0.2222222222222222,
              "#7201a8"
             ],
             [
              0.3333333333333333,
              "#9c179e"
             ],
             [
              0.4444444444444444,
              "#bd3786"
             ],
             [
              0.5555555555555556,
              "#d8576b"
             ],
             [
              0.6666666666666666,
              "#ed7953"
             ],
             [
              0.7777777777777778,
              "#fb9f3a"
             ],
             [
              0.8888888888888888,
              "#fdca26"
             ],
             [
              1,
              "#f0f921"
             ]
            ],
            "type": "histogram2dcontour"
           }
          ],
          "mesh3d": [
           {
            "colorbar": {
             "outlinewidth": 0,
             "ticks": ""
            },
            "type": "mesh3d"
           }
          ],
          "parcoords": [
           {
            "line": {
             "colorbar": {
              "outlinewidth": 0,
              "ticks": ""
             }
            },
            "type": "parcoords"
           }
          ],
          "pie": [
           {
            "automargin": true,
            "type": "pie"
           }
          ],
          "scatter": [
           {
            "fillpattern": {
             "fillmode": "overlay",
             "size": 10,
             "solidity": 0.2
            },
            "type": "scatter"
           }
          ],
          "scatter3d": [
           {
            "line": {
             "colorbar": {
              "outlinewidth": 0,
              "ticks": ""
             }
            },
            "marker": {
             "colorbar": {
              "outlinewidth": 0,
              "ticks": ""
             }
            },
            "type": "scatter3d"
           }
          ],
          "scattercarpet": [
           {
            "marker": {
             "colorbar": {
              "outlinewidth": 0,
              "ticks": ""
             }
            },
            "type": "scattercarpet"
           }
          ],
          "scattergeo": [
           {
            "marker": {
             "colorbar": {
              "outlinewidth": 0,
              "ticks": ""
             }
            },
            "type": "scattergeo"
           }
          ],
          "scattergl": [
           {
            "marker": {
             "colorbar": {
              "outlinewidth": 0,
              "ticks": ""
             }
            },
            "type": "scattergl"
           }
          ],
          "scattermap": [
           {
            "marker": {
             "colorbar": {
              "outlinewidth": 0,
              "ticks": ""
             }
            },
            "type": "scattermap"
           }
          ],
          "scattermapbox": [
           {
            "marker": {
             "colorbar": {
              "outlinewidth": 0,
              "ticks": ""
             }
            },
            "type": "scattermapbox"
           }
          ],
          "scatterpolar": [
           {
            "marker": {
             "colorbar": {
              "outlinewidth": 0,
              "ticks": ""
             }
            },
            "type": "scatterpolar"
           }
          ],
          "scatterpolargl": [
           {
            "marker": {
             "colorbar": {
              "outlinewidth": 0,
              "ticks": ""
             }
            },
            "type": "scatterpolargl"
           }
          ],
          "scatterternary": [
           {
            "marker": {
             "colorbar": {
              "outlinewidth": 0,
              "ticks": ""
             }
            },
            "type": "scatterternary"
           }
          ],
          "surface": [
           {
            "colorbar": {
             "outlinewidth": 0,
             "ticks": ""
            },
            "colorscale": [
             [
              0,
              "#0d0887"
             ],
             [
              0.1111111111111111,
              "#46039f"
             ],
             [
              0.2222222222222222,
              "#7201a8"
             ],
             [
              0.3333333333333333,
              "#9c179e"
             ],
             [
              0.4444444444444444,
              "#bd3786"
             ],
             [
              0.5555555555555556,
              "#d8576b"
             ],
             [
              0.6666666666666666,
              "#ed7953"
             ],
             [
              0.7777777777777778,
              "#fb9f3a"
             ],
             [
              0.8888888888888888,
              "#fdca26"
             ],
             [
              1,
              "#f0f921"
             ]
            ],
            "type": "surface"
           }
          ],
          "table": [
           {
            "cells": {
             "fill": {
              "color": "#EBF0F8"
             },
             "line": {
              "color": "white"
             }
            },
            "header": {
             "fill": {
              "color": "#C8D4E3"
             },
             "line": {
              "color": "white"
             }
            },
            "type": "table"
           }
          ]
         },
         "layout": {
          "annotationdefaults": {
           "arrowcolor": "#2a3f5f",
           "arrowhead": 0,
           "arrowwidth": 1
          },
          "autotypenumbers": "strict",
          "coloraxis": {
           "colorbar": {
            "outlinewidth": 0,
            "ticks": ""
           }
          },
          "colorscale": {
           "diverging": [
            [
             0,
             "#8e0152"
            ],
            [
             0.1,
             "#c51b7d"
            ],
            [
             0.2,
             "#de77ae"
            ],
            [
             0.3,
             "#f1b6da"
            ],
            [
             0.4,
             "#fde0ef"
            ],
            [
             0.5,
             "#f7f7f7"
            ],
            [
             0.6,
             "#e6f5d0"
            ],
            [
             0.7,
             "#b8e186"
            ],
            [
             0.8,
             "#7fbc41"
            ],
            [
             0.9,
             "#4d9221"
            ],
            [
             1,
             "#276419"
            ]
           ],
           "sequential": [
            [
             0,
             "#0d0887"
            ],
            [
             0.1111111111111111,
             "#46039f"
            ],
            [
             0.2222222222222222,
             "#7201a8"
            ],
            [
             0.3333333333333333,
             "#9c179e"
            ],
            [
             0.4444444444444444,
             "#bd3786"
            ],
            [
             0.5555555555555556,
             "#d8576b"
            ],
            [
             0.6666666666666666,
             "#ed7953"
            ],
            [
             0.7777777777777778,
             "#fb9f3a"
            ],
            [
             0.8888888888888888,
             "#fdca26"
            ],
            [
             1,
             "#f0f921"
            ]
           ],
           "sequentialminus": [
            [
             0,
             "#0d0887"
            ],
            [
             0.1111111111111111,
             "#46039f"
            ],
            [
             0.2222222222222222,
             "#7201a8"
            ],
            [
             0.3333333333333333,
             "#9c179e"
            ],
            [
             0.4444444444444444,
             "#bd3786"
            ],
            [
             0.5555555555555556,
             "#d8576b"
            ],
            [
             0.6666666666666666,
             "#ed7953"
            ],
            [
             0.7777777777777778,
             "#fb9f3a"
            ],
            [
             0.8888888888888888,
             "#fdca26"
            ],
            [
             1,
             "#f0f921"
            ]
           ]
          },
          "colorway": [
           "#636efa",
           "#EF553B",
           "#00cc96",
           "#ab63fa",
           "#FFA15A",
           "#19d3f3",
           "#FF6692",
           "#B6E880",
           "#FF97FF",
           "#FECB52"
          ],
          "font": {
           "color": "#2a3f5f"
          },
          "geo": {
           "bgcolor": "white",
           "lakecolor": "white",
           "landcolor": "white",
           "showlakes": true,
           "showland": true,
           "subunitcolor": "#C8D4E3"
          },
          "hoverlabel": {
           "align": "left"
          },
          "hovermode": "closest",
          "mapbox": {
           "style": "light"
          },
          "paper_bgcolor": "white",
          "plot_bgcolor": "white",
          "polar": {
           "angularaxis": {
            "gridcolor": "#EBF0F8",
            "linecolor": "#EBF0F8",
            "ticks": ""
           },
           "bgcolor": "white",
           "radialaxis": {
            "gridcolor": "#EBF0F8",
            "linecolor": "#EBF0F8",
            "ticks": ""
           }
          },
          "scene": {
           "xaxis": {
            "backgroundcolor": "white",
            "gridcolor": "#DFE8F3",
            "gridwidth": 2,
            "linecolor": "#EBF0F8",
            "showbackground": true,
            "ticks": "",
            "zerolinecolor": "#EBF0F8"
           },
           "yaxis": {
            "backgroundcolor": "white",
            "gridcolor": "#DFE8F3",
            "gridwidth": 2,
            "linecolor": "#EBF0F8",
            "showbackground": true,
            "ticks": "",
            "zerolinecolor": "#EBF0F8"
           },
           "zaxis": {
            "backgroundcolor": "white",
            "gridcolor": "#DFE8F3",
            "gridwidth": 2,
            "linecolor": "#EBF0F8",
            "showbackground": true,
            "ticks": "",
            "zerolinecolor": "#EBF0F8"
           }
          },
          "shapedefaults": {
           "line": {
            "color": "#2a3f5f"
           }
          },
          "ternary": {
           "aaxis": {
            "gridcolor": "#DFE8F3",
            "linecolor": "#A2B1C6",
            "ticks": ""
           },
           "baxis": {
            "gridcolor": "#DFE8F3",
            "linecolor": "#A2B1C6",
            "ticks": ""
           },
           "bgcolor": "white",
           "caxis": {
            "gridcolor": "#DFE8F3",
            "linecolor": "#A2B1C6",
            "ticks": ""
           }
          },
          "title": {
           "x": 0.05
          },
          "xaxis": {
           "automargin": true,
           "gridcolor": "#EBF0F8",
           "linecolor": "#EBF0F8",
           "ticks": "",
           "title": {
            "standoff": 15
           },
           "zerolinecolor": "#EBF0F8",
           "zerolinewidth": 2
          },
          "yaxis": {
           "automargin": true,
           "gridcolor": "#EBF0F8",
           "linecolor": "#EBF0F8",
           "ticks": "",
           "title": {
            "standoff": 15
           },
           "zerolinecolor": "#EBF0F8",
           "zerolinewidth": 2
          }
         }
        },
        "title": {
         "text": "THG Power Spectrum Comparison"
        },
        "xaxis": {
         "title": {
          "text": "Fundamental Wavelength (μm)"
         }
        },
        "yaxis": {
         "title": {
          "text": "THW Power"
         }
        }
       }
      }
     },
     "metadata": {},
     "output_type": "display_data"
    },
    {
     "data": {
      "application/vnd.plotly.v1+json": {
       "config": {
        "plotlyServerURL": "https://plot.ly"
       },
       "data": [
        {
         "mode": "lines",
         "name": "Loss",
         "type": "scatter",
         "y": {
          "bdata": "WTZFMlk2RTJZNkUyWTZFMlk2RTJZNkUyWTZFMlk2RTJZNkUyWTZFMg==",
          "dtype": "f4"
         }
        }
       ],
       "layout": {
        "template": {
         "data": {
          "bar": [
           {
            "error_x": {
             "color": "#2a3f5f"
            },
            "error_y": {
             "color": "#2a3f5f"
            },
            "marker": {
             "line": {
              "color": "white",
              "width": 0.5
             },
             "pattern": {
              "fillmode": "overlay",
              "size": 10,
              "solidity": 0.2
             }
            },
            "type": "bar"
           }
          ],
          "barpolar": [
           {
            "marker": {
             "line": {
              "color": "white",
              "width": 0.5
             },
             "pattern": {
              "fillmode": "overlay",
              "size": 10,
              "solidity": 0.2
             }
            },
            "type": "barpolar"
           }
          ],
          "carpet": [
           {
            "aaxis": {
             "endlinecolor": "#2a3f5f",
             "gridcolor": "#C8D4E3",
             "linecolor": "#C8D4E3",
             "minorgridcolor": "#C8D4E3",
             "startlinecolor": "#2a3f5f"
            },
            "baxis": {
             "endlinecolor": "#2a3f5f",
             "gridcolor": "#C8D4E3",
             "linecolor": "#C8D4E3",
             "minorgridcolor": "#C8D4E3",
             "startlinecolor": "#2a3f5f"
            },
            "type": "carpet"
           }
          ],
          "choropleth": [
           {
            "colorbar": {
             "outlinewidth": 0,
             "ticks": ""
            },
            "type": "choropleth"
           }
          ],
          "contour": [
           {
            "colorbar": {
             "outlinewidth": 0,
             "ticks": ""
            },
            "colorscale": [
             [
              0,
              "#0d0887"
             ],
             [
              0.1111111111111111,
              "#46039f"
             ],
             [
              0.2222222222222222,
              "#7201a8"
             ],
             [
              0.3333333333333333,
              "#9c179e"
             ],
             [
              0.4444444444444444,
              "#bd3786"
             ],
             [
              0.5555555555555556,
              "#d8576b"
             ],
             [
              0.6666666666666666,
              "#ed7953"
             ],
             [
              0.7777777777777778,
              "#fb9f3a"
             ],
             [
              0.8888888888888888,
              "#fdca26"
             ],
             [
              1,
              "#f0f921"
             ]
            ],
            "type": "contour"
           }
          ],
          "contourcarpet": [
           {
            "colorbar": {
             "outlinewidth": 0,
             "ticks": ""
            },
            "type": "contourcarpet"
           }
          ],
          "heatmap": [
           {
            "colorbar": {
             "outlinewidth": 0,
             "ticks": ""
            },
            "colorscale": [
             [
              0,
              "#0d0887"
             ],
             [
              0.1111111111111111,
              "#46039f"
             ],
             [
              0.2222222222222222,
              "#7201a8"
             ],
             [
              0.3333333333333333,
              "#9c179e"
             ],
             [
              0.4444444444444444,
              "#bd3786"
             ],
             [
              0.5555555555555556,
              "#d8576b"
             ],
             [
              0.6666666666666666,
              "#ed7953"
             ],
             [
              0.7777777777777778,
              "#fb9f3a"
             ],
             [
              0.8888888888888888,
              "#fdca26"
             ],
             [
              1,
              "#f0f921"
             ]
            ],
            "type": "heatmap"
           }
          ],
          "histogram": [
           {
            "marker": {
             "pattern": {
              "fillmode": "overlay",
              "size": 10,
              "solidity": 0.2
             }
            },
            "type": "histogram"
           }
          ],
          "histogram2d": [
           {
            "colorbar": {
             "outlinewidth": 0,
             "ticks": ""
            },
            "colorscale": [
             [
              0,
              "#0d0887"
             ],
             [
              0.1111111111111111,
              "#46039f"
             ],
             [
              0.2222222222222222,
              "#7201a8"
             ],
             [
              0.3333333333333333,
              "#9c179e"
             ],
             [
              0.4444444444444444,
              "#bd3786"
             ],
             [
              0.5555555555555556,
              "#d8576b"
             ],
             [
              0.6666666666666666,
              "#ed7953"
             ],
             [
              0.7777777777777778,
              "#fb9f3a"
             ],
             [
              0.8888888888888888,
              "#fdca26"
             ],
             [
              1,
              "#f0f921"
             ]
            ],
            "type": "histogram2d"
           }
          ],
          "histogram2dcontour": [
           {
            "colorbar": {
             "outlinewidth": 0,
             "ticks": ""
            },
            "colorscale": [
             [
              0,
              "#0d0887"
             ],
             [
              0.1111111111111111,
              "#46039f"
             ],
             [
              0.2222222222222222,
              "#7201a8"
             ],
             [
              0.3333333333333333,
              "#9c179e"
             ],
             [
              0.4444444444444444,
              "#bd3786"
             ],
             [
              0.5555555555555556,
              "#d8576b"
             ],
             [
              0.6666666666666666,
              "#ed7953"
             ],
             [
              0.7777777777777778,
              "#fb9f3a"
             ],
             [
              0.8888888888888888,
              "#fdca26"
             ],
             [
              1,
              "#f0f921"
             ]
            ],
            "type": "histogram2dcontour"
           }
          ],
          "mesh3d": [
           {
            "colorbar": {
             "outlinewidth": 0,
             "ticks": ""
            },
            "type": "mesh3d"
           }
          ],
          "parcoords": [
           {
            "line": {
             "colorbar": {
              "outlinewidth": 0,
              "ticks": ""
             }
            },
            "type": "parcoords"
           }
          ],
          "pie": [
           {
            "automargin": true,
            "type": "pie"
           }
          ],
          "scatter": [
           {
            "fillpattern": {
             "fillmode": "overlay",
             "size": 10,
             "solidity": 0.2
            },
            "type": "scatter"
           }
          ],
          "scatter3d": [
           {
            "line": {
             "colorbar": {
              "outlinewidth": 0,
              "ticks": ""
             }
            },
            "marker": {
             "colorbar": {
              "outlinewidth": 0,
              "ticks": ""
             }
            },
            "type": "scatter3d"
           }
          ],
          "scattercarpet": [
           {
            "marker": {
             "colorbar": {
              "outlinewidth": 0,
              "ticks": ""
             }
            },
            "type": "scattercarpet"
           }
          ],
          "scattergeo": [
           {
            "marker": {
             "colorbar": {
              "outlinewidth": 0,
              "ticks": ""
             }
            },
            "type": "scattergeo"
           }
          ],
          "scattergl": [
           {
            "marker": {
             "colorbar": {
              "outlinewidth": 0,
              "ticks": ""
             }
            },
            "type": "scattergl"
           }
          ],
          "scattermap": [
           {
            "marker": {
             "colorbar": {
              "outlinewidth": 0,
              "ticks": ""
             }
            },
            "type": "scattermap"
           }
          ],
          "scattermapbox": [
           {
            "marker": {
             "colorbar": {
              "outlinewidth": 0,
              "ticks": ""
             }
            },
            "type": "scattermapbox"
           }
          ],
          "scatterpolar": [
           {
            "marker": {
             "colorbar": {
              "outlinewidth": 0,
              "ticks": ""
             }
            },
            "type": "scatterpolar"
           }
          ],
          "scatterpolargl": [
           {
            "marker": {
             "colorbar": {
              "outlinewidth": 0,
              "ticks": ""
             }
            },
            "type": "scatterpolargl"
           }
          ],
          "scatterternary": [
           {
            "marker": {
             "colorbar": {
              "outlinewidth": 0,
              "ticks": ""
             }
            },
            "type": "scatterternary"
           }
          ],
          "surface": [
           {
            "colorbar": {
             "outlinewidth": 0,
             "ticks": ""
            },
            "colorscale": [
             [
              0,
              "#0d0887"
             ],
             [
              0.1111111111111111,
              "#46039f"
             ],
             [
              0.2222222222222222,
              "#7201a8"
             ],
             [
              0.3333333333333333,
              "#9c179e"
             ],
             [
              0.4444444444444444,
              "#bd3786"
             ],
             [
              0.5555555555555556,
              "#d8576b"
             ],
             [
              0.6666666666666666,
              "#ed7953"
             ],
             [
              0.7777777777777778,
              "#fb9f3a"
             ],
             [
              0.8888888888888888,
              "#fdca26"
             ],
             [
              1,
              "#f0f921"
             ]
            ],
            "type": "surface"
           }
          ],
          "table": [
           {
            "cells": {
             "fill": {
              "color": "#EBF0F8"
             },
             "line": {
              "color": "white"
             }
            },
            "header": {
             "fill": {
              "color": "#C8D4E3"
             },
             "line": {
              "color": "white"
             }
            },
            "type": "table"
           }
          ]
         },
         "layout": {
          "annotationdefaults": {
           "arrowcolor": "#2a3f5f",
           "arrowhead": 0,
           "arrowwidth": 1
          },
          "autotypenumbers": "strict",
          "coloraxis": {
           "colorbar": {
            "outlinewidth": 0,
            "ticks": ""
           }
          },
          "colorscale": {
           "diverging": [
            [
             0,
             "#8e0152"
            ],
            [
             0.1,
             "#c51b7d"
            ],
            [
             0.2,
             "#de77ae"
            ],
            [
             0.3,
             "#f1b6da"
            ],
            [
             0.4,
             "#fde0ef"
            ],
            [
             0.5,
             "#f7f7f7"
            ],
            [
             0.6,
             "#e6f5d0"
            ],
            [
             0.7,
             "#b8e186"
            ],
            [
             0.8,
             "#7fbc41"
            ],
            [
             0.9,
             "#4d9221"
            ],
            [
             1,
             "#276419"
            ]
           ],
           "sequential": [
            [
             0,
             "#0d0887"
            ],
            [
             0.1111111111111111,
             "#46039f"
            ],
            [
             0.2222222222222222,
             "#7201a8"
            ],
            [
             0.3333333333333333,
             "#9c179e"
            ],
            [
             0.4444444444444444,
             "#bd3786"
            ],
            [
             0.5555555555555556,
             "#d8576b"
            ],
            [
             0.6666666666666666,
             "#ed7953"
            ],
            [
             0.7777777777777778,
             "#fb9f3a"
            ],
            [
             0.8888888888888888,
             "#fdca26"
            ],
            [
             1,
             "#f0f921"
            ]
           ],
           "sequentialminus": [
            [
             0,
             "#0d0887"
            ],
            [
             0.1111111111111111,
             "#46039f"
            ],
            [
             0.2222222222222222,
             "#7201a8"
            ],
            [
             0.3333333333333333,
             "#9c179e"
            ],
            [
             0.4444444444444444,
             "#bd3786"
            ],
            [
             0.5555555555555556,
             "#d8576b"
            ],
            [
             0.6666666666666666,
             "#ed7953"
            ],
            [
             0.7777777777777778,
             "#fb9f3a"
            ],
            [
             0.8888888888888888,
             "#fdca26"
            ],
            [
             1,
             "#f0f921"
            ]
           ]
          },
          "colorway": [
           "#636efa",
           "#EF553B",
           "#00cc96",
           "#ab63fa",
           "#FFA15A",
           "#19d3f3",
           "#FF6692",
           "#B6E880",
           "#FF97FF",
           "#FECB52"
          ],
          "font": {
           "color": "#2a3f5f"
          },
          "geo": {
           "bgcolor": "white",
           "lakecolor": "white",
           "landcolor": "white",
           "showlakes": true,
           "showland": true,
           "subunitcolor": "#C8D4E3"
          },
          "hoverlabel": {
           "align": "left"
          },
          "hovermode": "closest",
          "mapbox": {
           "style": "light"
          },
          "paper_bgcolor": "white",
          "plot_bgcolor": "white",
          "polar": {
           "angularaxis": {
            "gridcolor": "#EBF0F8",
            "linecolor": "#EBF0F8",
            "ticks": ""
           },
           "bgcolor": "white",
           "radialaxis": {
            "gridcolor": "#EBF0F8",
            "linecolor": "#EBF0F8",
            "ticks": ""
           }
          },
          "scene": {
           "xaxis": {
            "backgroundcolor": "white",
            "gridcolor": "#DFE8F3",
            "gridwidth": 2,
            "linecolor": "#EBF0F8",
            "showbackground": true,
            "ticks": "",
            "zerolinecolor": "#EBF0F8"
           },
           "yaxis": {
            "backgroundcolor": "white",
            "gridcolor": "#DFE8F3",
            "gridwidth": 2,
            "linecolor": "#EBF0F8",
            "showbackground": true,
            "ticks": "",
            "zerolinecolor": "#EBF0F8"
           },
           "zaxis": {
            "backgroundcolor": "white",
            "gridcolor": "#DFE8F3",
            "gridwidth": 2,
            "linecolor": "#EBF0F8",
            "showbackground": true,
            "ticks": "",
            "zerolinecolor": "#EBF0F8"
           }
          },
          "shapedefaults": {
           "line": {
            "color": "#2a3f5f"
           }
          },
          "ternary": {
           "aaxis": {
            "gridcolor": "#DFE8F3",
            "linecolor": "#A2B1C6",
            "ticks": ""
           },
           "baxis": {
            "gridcolor": "#DFE8F3",
            "linecolor": "#A2B1C6",
            "ticks": ""
           },
           "bgcolor": "white",
           "caxis": {
            "gridcolor": "#DFE8F3",
            "linecolor": "#A2B1C6",
            "ticks": ""
           }
          },
          "title": {
           "x": 0.05
          },
          "xaxis": {
           "automargin": true,
           "gridcolor": "#EBF0F8",
           "linecolor": "#EBF0F8",
           "ticks": "",
           "title": {
            "standoff": 15
           },
           "zerolinecolor": "#EBF0F8",
           "zerolinewidth": 2
          },
          "yaxis": {
           "automargin": true,
           "gridcolor": "#EBF0F8",
           "linecolor": "#EBF0F8",
           "ticks": "",
           "title": {
            "standoff": 15
           },
           "zerolinecolor": "#EBF0F8",
           "zerolinewidth": 2
          }
         }
        },
        "title": {
         "text": "Optimization Cost History"
        },
        "xaxis": {
         "title": {
          "text": "Iteration"
         }
        },
        "yaxis": {
         "title": {
          "text": "Loss (MSE)"
         },
         "type": "log"
        }
       }
      }
     },
     "metadata": {},
     "output_type": "display_data"
    }
   ],
   "source": [
    "# 3. Visualize optimization results\n",
    "print(\"4. Visualizing optimization results...\")\n",
    "plot_domain_widths(initial_widths, optimized_widths, periodic_widths)\n",
    "plot_thw_power_spectrum(initial_widths, optimized_widths, periodic_widths, sim_params, config)\n",
    "plot_cost_history(loss_history)"
   ]
  }
 ],
 "metadata": {
  "kernelspec": {
   "display_name": ".venv",
   "language": "python",
   "name": "python3"
  },
  "language_info": {
   "codemirror_mode": {
    "name": "ipython",
    "version": 3
   },
   "file_extension": ".py",
   "mimetype": "text/x-python",
   "name": "python",
   "nbconvert_exporter": "python",
   "pygments_lexer": "ipython3",
   "version": "3.13.8"
  }
 },
 "nbformat": 4,
 "nbformat_minor": 5
}
