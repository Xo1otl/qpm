{
 "cells": [
  {
   "cell_type": "code",
   "execution_count": 1,
   "id": "dd2b2fb0",
   "metadata": {},
   "outputs": [],
   "source": [
    "import jax\n",
    "\n",
    "jax.config.update(\"jax_platforms\", \"cpu\")"
   ]
  },
  {
   "cell_type": "code",
   "execution_count": 2,
   "id": "dac6148d",
   "metadata": {},
   "outputs": [],
   "source": [
    "from collections.abc import Callable\n",
    "from dataclasses import dataclass\n",
    "\n",
    "import jax.numpy as jnp\n",
    "import optax\n",
    "import plotly.graph_objects as go\n",
    "from jax import Array, jit\n",
    "from jax_tqdm.loop_pbar import loop_tqdm\n",
    "\n",
    "from qpm import cwes, mgoslt\n",
    "\n",
    "\n",
    "# --- Data Structures for Configuration and Parameters ---\n",
    "@dataclass\n",
    "class Config:\n",
    "    \"\"\"Stores all hyperparameters for the optimization and simulation.\"\"\"\n",
    "\n",
    "    design_temp: float = 70.0\n",
    "    max_iters: int = 50\n",
    "    num_domains: int = 555\n",
    "    prng_seed: int = 42\n",
    "    kappa_mag: float = 1.31e-4 / (2 / jnp.pi)\n",
    "    # Full spectrum calculation range\n",
    "    wl_start: float = 1.025\n",
    "    wl_end: float = 1.035\n",
    "    num_wl_points: int = 500\n",
    "    # Target flat-top region for the loss function\n",
    "    flat_top_wl_start: float = 1.031 - 0.001\n",
    "    flat_top_wl_end: float = 1.031 + 0.001\n",
    "    target_power: float = 0.018\n",
    "\n",
    "\n",
    "@dataclass(frozen=True)\n",
    "class SimulationParameters:\n",
    "    \"\"\"Stores fixed parameters required for the simulation physics.\"\"\"\n",
    "\n",
    "    kappa_array: Array\n",
    "    b_initial: Array\n",
    "    wls: Array\n",
    "    delta_k1s: Array\n",
    "    delta_k2s: Array\n",
    "    flat_top_indices: tuple[Array, ...]\n",
    "\n",
    "\n",
    "# --- Core JAX Functions ---\n",
    "def make_broadening_loss_fn(sim_params: SimulationParameters, config: Config) -> Callable[[Array], Array]:\n",
    "    \"\"\"\n",
    "    Creates a loss function that calculates the MSE between the simulated power\n",
    "    in a specified spectral region and a target power.\n",
    "    \"\"\"\n",
    "    compute_spectrum_vmap = jit(jax.vmap(cwes.simulate_twm, in_axes=(None, None, 0, 0, None)))\n",
    "\n",
    "    @jit\n",
    "    def loss_fn(domain_widths: Array) -> Array:\n",
    "        # 1. Simulate the full power spectrum\n",
    "        final_vectors = compute_spectrum_vmap(\n",
    "            domain_widths,\n",
    "            sim_params.kappa_array,\n",
    "            sim_params.delta_k1s,\n",
    "            sim_params.delta_k2s,\n",
    "            sim_params.b_initial,\n",
    "        )\n",
    "        shw_powers = jnp.abs(final_vectors[:, 1]) ** 2\n",
    "\n",
    "        # 2. Slice the spectrum to the target region\n",
    "        flat_top_powers = shw_powers[sim_params.flat_top_indices]\n",
    "\n",
    "        # 3. Calculate and return the Mean Squared Error loss\n",
    "        return jnp.mean(jnp.square(flat_top_powers - config.target_power))\n",
    "\n",
    "    return loss_fn\n",
    "\n",
    "\n",
    "# --- Workflow Functions ---\n",
    "def initialize_simulation(config: Config) -> tuple[Array, SimulationParameters]:\n",
    "    \"\"\"Generates initial domain widths and fixed simulation parameters.\"\"\"\n",
    "    print(\"1. Generating initial grating and simulation parameters...\")\n",
    "\n",
    "    # --- Grating Initialization ---\n",
    "    center_wl = (config.flat_top_wl_start + config.flat_top_wl_end) / 2\n",
    "    delta_k1_center = mgoslt.calc_twm_delta_k(center_wl, center_wl, config.design_temp)\n",
    "\n",
    "    sfg_domain_width = jnp.pi / delta_k1_center\n",
    "    print(f\"   - Base domain width from calculation: {sfg_domain_width:.4f} μm\")\n",
    "    print(f\"   - Total number of domains: {config.num_domains}\")\n",
    "\n",
    "    kappa_array = config.kappa_mag * jnp.power(-1.0, jnp.arange(config.num_domains))\n",
    "\n",
    "    key = jax.random.PRNGKey(config.prng_seed)\n",
    "    noise = jax.random.normal(key, shape=(config.num_domains,)) * (sfg_domain_width * 0.02)\n",
    "    initial_widths = jnp.full(config.num_domains, sfg_domain_width) + noise\n",
    "\n",
    "    # --- Simulation Parameter Preparation ---\n",
    "    wls = jnp.linspace(config.wl_start, config.wl_end, config.num_wl_points)\n",
    "    delta_k1s = mgoslt.calc_twm_delta_k(wls, wls, config.design_temp)\n",
    "    delta_k2s = mgoslt.calc_twm_delta_k(wls, wls / 2, config.design_temp)\n",
    "    flat_top_indices = jnp.where((wls >= config.flat_top_wl_start) & (wls <= config.flat_top_wl_end))\n",
    "    b_initial = jnp.array(\n",
    "        [\n",
    "            1.0,\n",
    "            0.0,\n",
    "            0.0,\n",
    "        ],\n",
    "        dtype=jnp.complex64,\n",
    "    )\n",
    "\n",
    "    sim_params = SimulationParameters(\n",
    "        kappa_array=kappa_array,\n",
    "        b_initial=b_initial,\n",
    "        wls=wls,\n",
    "        delta_k1s=delta_k1s,\n",
    "        delta_k2s=delta_k2s,\n",
    "        flat_top_indices=flat_top_indices,\n",
    "    )\n",
    "    return initial_widths, sim_params\n",
    "\n",
    "\n",
    "def run_optimization(initial_widths: Array, sim_params: SimulationParameters, config: Config) -> tuple[Array, Array]:\n",
    "    \"\"\"Sets up and runs the L-BFGS optimization.\"\"\"\n",
    "    print(\"2. Setting up loss function and L-BFGS optimizer...\")\n",
    "    loss_fn = make_broadening_loss_fn(sim_params, config)\n",
    "    solver = optax.lbfgs()\n",
    "\n",
    "    @jit\n",
    "    def run_full_optimization(initial_params: Array) -> tuple[Array, Array]:\n",
    "        initial_loss_history = jnp.zeros(config.max_iters)\n",
    "\n",
    "        @loop_tqdm(config.max_iters, desc=\"Optimizing\")\n",
    "        def step(i: int, state: tuple[Array, optax.OptState, Array]) -> tuple[optax.Params, optax.OptState, Array]:\n",
    "            params, opt_state, loss_history = state\n",
    "            value, grad = jax.value_and_grad(loss_fn)(params)\n",
    "            updates, opt_state = solver.update(grad, opt_state, params, value=value, grad=grad, value_fn=loss_fn)\n",
    "            params = optax.apply_updates(params, updates)\n",
    "            loss_history = loss_history.at[i].set(value)\n",
    "            return params, opt_state, loss_history\n",
    "\n",
    "        initial_opt_state = solver.init(initial_params)\n",
    "        optimized_params, _, loss_history = jax.lax.fori_loop(\n",
    "            0,\n",
    "            config.max_iters,\n",
    "            step,\n",
    "            (initial_params, initial_opt_state, initial_loss_history),\n",
    "        )\n",
    "        return optimized_params, loss_history\n",
    "\n",
    "    print(\"3. Running JIT-compiled optimization...\")\n",
    "    print(f\"   - Initial Loss: {loss_fn(initial_widths):.4e}\")\n",
    "\n",
    "    optimized_widths, loss_history = run_full_optimization(initial_widths)\n",
    "    optimized_widths.block_until_ready()\n",
    "\n",
    "    print(f\"   - Optimized Loss: {loss_fn(optimized_widths):.4e}\")\n",
    "    return optimized_widths, loss_history\n",
    "\n",
    "\n",
    "# --- Visualization Functions ---\n",
    "def calculate_spectrum(domain_widths: Array, sim_params: SimulationParameters) -> tuple[Array, Array]:\n",
    "    \"\"\"Helper function to compute the SHW power spectrum for a given grating.\"\"\"\n",
    "    compute_spectrum_vmap = jit(jax.vmap(cwes.simulate_twm, in_axes=(None, None, 0, 0, None)))\n",
    "\n",
    "    final_vectors = compute_spectrum_vmap(\n",
    "        domain_widths,\n",
    "        sim_params.kappa_array,\n",
    "        sim_params.delta_k1s,\n",
    "        sim_params.delta_k2s,\n",
    "        sim_params.b_initial,\n",
    "    )\n",
    "    shw_powers = jnp.abs(final_vectors[:, 1]) ** 2\n",
    "    return sim_params.wls, shw_powers\n",
    "\n",
    "\n",
    "def plot_domain_widths(initial_widths: Array, optimized_widths: Array, periodic_widths: Array) -> None:\n",
    "    \"\"\"Plots the domain widths before and after optimization.\"\"\"\n",
    "    fig = go.Figure()\n",
    "    fig.add_trace(go.Scatter(y=initial_widths, mode=\"lines\", name=\"Initial\", line={\"dash\": \"dash\"}))\n",
    "    fig.add_trace(go.Scatter(y=periodic_widths, mode=\"lines\", name=\"Periodic\", line={\"dash\": \"dot\"}))\n",
    "    fig.add_trace(go.Scatter(y=optimized_widths, mode=\"lines\", name=\"Optimized\"))\n",
    "    fig.update_layout(\n",
    "        title_text=\"Domain Widths Comparison\",\n",
    "        xaxis_title=\"Domain Index\",\n",
    "        yaxis_title=\"Width (μm)\",\n",
    "        template=\"plotly_white\",\n",
    "    )\n",
    "    fig.show()\n",
    "\n",
    "\n",
    "def plot_shw_power_spectrum(\n",
    "    initial_widths: Array,\n",
    "    optimized_widths: Array,\n",
    "    periodic_widths: Array,\n",
    "    sim_params: SimulationParameters,\n",
    "    config: Config,\n",
    ") -> None:\n",
    "    \"\"\"Plots the SHW power spectrum before and after optimization.\"\"\"\n",
    "    wls, initial_effs = calculate_spectrum(initial_widths, sim_params)\n",
    "    _, optimized_effs = calculate_spectrum(optimized_widths, sim_params)\n",
    "    _, periodic_effs = calculate_spectrum(periodic_widths, sim_params)\n",
    "\n",
    "    fig = go.Figure()\n",
    "    fig.add_trace(go.Scatter(x=wls, y=initial_effs, mode=\"lines\", name=\"Initial\", line={\"dash\": \"dash\"}))\n",
    "    fig.add_trace(go.Scatter(x=wls, y=periodic_effs, mode=\"lines\", name=\"Periodic\", line={\"dash\": \"dot\"}))\n",
    "    fig.add_trace(go.Scatter(x=wls, y=optimized_effs, mode=\"lines\", name=\"Optimized\"))\n",
    "    fig.add_hline(\n",
    "        y=config.target_power,\n",
    "        line_width=2,\n",
    "        line_dash=\"dash\",\n",
    "        line_color=\"green\",\n",
    "        annotation_text=\"Target Power\",\n",
    "    )\n",
    "    fig.add_vrect(\n",
    "        x0=config.flat_top_wl_start,\n",
    "        x1=config.flat_top_wl_end,\n",
    "        fillcolor=\"red\",\n",
    "        opacity=0.1,\n",
    "        line_width=0,\n",
    "        annotation_text=\"Target Region\",\n",
    "        annotation_position=\"top left\",\n",
    "    )\n",
    "    fig.update_layout(\n",
    "        title_text=\"SHG Power Spectrum Comparison\",\n",
    "        xaxis_title=\"Fundamental Wavelength (μm)\",\n",
    "        yaxis_title=\"SHW Power\",\n",
    "        template=\"plotly_white\",\n",
    "    )\n",
    "    fig.show()\n",
    "\n",
    "\n",
    "def plot_cost_history(loss_history: Array) -> None:\n",
    "    \"\"\"Plots the optimization cost history.\"\"\"\n",
    "    fig = go.Figure()\n",
    "    fig.add_trace(go.Scatter(y=loss_history, mode=\"lines\", name=\"Loss\"))\n",
    "    fig.update_layout(\n",
    "        title_text=\"Optimization Cost History\",\n",
    "        xaxis_title=\"Iteration\",\n",
    "        yaxis_title=\"Loss (MSE)\",\n",
    "        yaxis_type=\"log\",\n",
    "        template=\"plotly_white\",\n",
    "    )\n",
    "    fig.show()\n",
    "\n",
    "\n",
    "\"\"\"Main function to run the optimization and visualization.\"\"\"\n",
    "config = Config()"
   ]
  },
  {
   "cell_type": "code",
   "execution_count": 3,
   "id": "873ae10b",
   "metadata": {},
   "outputs": [
    {
     "name": "stdout",
     "output_type": "stream",
     "text": [
      "1. Generating initial grating and simulation parameters...\n",
      "   - Base domain width from calculation: 3.6008 μm\n",
      "   - Total number of domains: 555\n"
     ]
    },
    {
     "name": "stdout",
     "output_type": "stream",
     "text": [
      "2. Setting up loss function and L-BFGS optimizer...\n",
      "3. Running JIT-compiled optimization...\n",
      "   - Initial Loss: 4.0820e-04\n"
     ]
    },
    {
     "data": {
      "application/vnd.jupyter.widget-view+json": {
       "model_id": "d3d129ec94a7494eabe671b62ba8dd05",
       "version_major": 2,
       "version_minor": 0
      },
      "text/plain": [
       "Optimizing:   0%|          | 0/50 [00:00<?, ?it/s]"
      ]
     },
     "metadata": {},
     "output_type": "display_data"
    },
    {
     "name": "stdout",
     "output_type": "stream",
     "text": [
      "   - Optimized Loss: 8.6648e-09\n"
     ]
    }
   ],
   "source": [
    "# 1. Generate initial domain widths and fixed simulation parameters\n",
    "initial_widths, sim_params = initialize_simulation(config)\n",
    "# Create the ideal periodic grating for comparison\n",
    "center_wl = (config.flat_top_wl_start + config.flat_top_wl_end) / 2\n",
    "delta_k1_center = mgoslt.calc_twm_delta_k(center_wl, center_wl, config.design_temp)\n",
    "shg_domain_width = jnp.pi / delta_k1_center\n",
    "periodic_widths = jnp.full(config.num_domains, shg_domain_width)\n",
    "# 2. Run the optimization\n",
    "optimized_widths, loss_history = run_optimization(initial_widths, sim_params, config)"
   ]
  },
  {
   "cell_type": "code",
   "execution_count": 7,
   "id": "b602f87c",
   "metadata": {},
   "outputs": [
    {
     "name": "stdout",
     "output_type": "stream",
     "text": [
      "4. Visualizing optimization results...\n"
     ]
    },
    {
     "data": {
      "application/vnd.plotly.v1+json": {
       "config": {
        "plotlyServerURL": "https://plot.ly"
       },
       "data": [
        {
         "line": {
          "dash": "dash"
         },
         "mode": "lines",
         "name": "Initial",
         "type": "scatter",
         "y": {
          "bdata": "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",
          "dtype": "f4"
         }
        },
        {
         "line": {
          "dash": "dot"
         },
         "mode": "lines",
         "name": "Periodic",
         "type": "scatter",
         "y": {
          "bdata": "/nNmQP5zZkD+c2ZA/nNmQP5zZkD+c2ZA/nNmQP5zZkD+c2ZA/nNmQP5zZkD+c2ZA/nNmQP5zZkD+c2ZA/nNmQP5zZkD+c2ZA/nNmQP5zZkD+c2ZA/nNmQP5zZkD+c2ZA/nNmQP5zZkD+c2ZA/nNmQP5zZkD+c2ZA/nNmQP5zZkD+c2ZA/nNmQP5zZkD+c2ZA/nNmQP5zZkD+c2ZA/nNmQP5zZkD+c2ZA/nNmQP5zZkD+c2ZA/nNmQP5zZkD+c2ZA/nNmQP5zZkD+c2ZA/nNmQP5zZkD+c2ZA/nNmQP5zZkD+c2ZA/nNmQP5zZkD+c2ZA/nNmQP5zZkD+c2ZA/nNmQP5zZkD+c2ZA/nNmQP5zZkD+c2ZA/nNmQP5zZkD+c2ZA/nNmQP5zZkD+c2ZA/nNmQP5zZkD+c2ZA/nNmQP5zZkD+c2ZA/nNmQP5zZkD+c2ZA/nNmQP5zZkD+c2ZA/nNmQP5zZkD+c2ZA/nNmQP5zZkD+c2ZA/nNmQP5zZkD+c2ZA/nNmQP5zZkD+c2ZA/nNmQP5zZkD+c2ZA/nNmQP5zZkD+c2ZA/nNmQP5zZkD+c2ZA/nNmQP5zZkD+c2ZA/nNmQP5zZkD+c2ZA/nNmQP5zZkD+c2ZA/nNmQP5zZkD+c2ZA/nNmQP5zZkD+c2ZA/nNmQP5zZkD+c2ZA/nNmQP5zZkD+c2ZA/nNmQP5zZkD+c2ZA/nNmQP5zZkD+c2ZA/nNmQP5zZkD+c2ZA/nNmQP5zZkD+c2ZA/nNmQP5zZkD+c2ZA/nNmQP5zZkD+c2ZA/nNmQP5zZkD+c2ZA/nNmQP5zZkD+c2ZA/nNmQP5zZkD+c2ZA/nNmQP5zZkD+c2ZA/nNmQP5zZkD+c2ZA/nNmQP5zZkD+c2ZA/nNmQP5zZkD+c2ZA/nNmQP5zZkD+c2ZA/nNmQP5zZkD+c2ZA/nNmQP5zZkD+c2ZA/nNmQP5zZkD+c2ZA/nNmQP5zZkD+c2ZA/nNmQP5zZkD+c2ZA/nNmQP5zZkD+c2ZA/nNmQP5zZkD+c2ZA/nNmQP5zZkD+c2ZA/nNmQP5zZkD+c2ZA/nNmQP5zZkD+c2ZA/nNmQP5zZkD+c2ZA/nNmQP5zZkD+c2ZA/nNmQP5zZkD+c2ZA/nNmQP5zZkD+c2ZA/nNmQP5zZkD+c2ZA/nNmQP5zZkD+c2ZA/nNmQP5zZkD+c2ZA/nNmQP5zZkD+c2ZA/nNmQP5zZkD+c2ZA/nNmQP5zZkD+c2ZA/nNmQP5zZkD+c2ZA/nNmQP5zZkD+c2ZA/nNmQP5zZkD+c2ZA/nNmQP5zZkD+c2ZA/nNmQP5zZkD+c2ZA/nNmQP5zZkD+c2ZA/nNmQP5zZkD+c2ZA/nNmQP5zZkD+c2ZA/nNmQP5zZkD+c2ZA/nNmQP5zZkD+c2ZA/nNmQP5zZkD+c2ZA/nNmQP5zZkD+c2ZA/nNmQP5zZkD+c2ZA/nNmQP5zZkD+c2ZA/nNmQP5zZkD+c2ZA/nNmQP5zZkD+c2ZA/nNmQP5zZkD+c2ZA/nNmQP5zZkD+c2ZA/nNmQP5zZkD+c2ZA/nNmQP5zZkD+c2ZA/nNmQP5zZkD+c2ZA/nNmQP5zZkD+c2ZA/nNmQP5zZkD+c2ZA/nNmQP5zZkD+c2ZA/nNmQP5zZkD+c2ZA/nNmQP5zZkD+c2ZA/nNmQP5zZkD+c2ZA/nNmQP5zZkD+c2ZA/nNmQP5zZkD+c2ZA/nNmQP5zZkD+c2ZA/nNmQP5zZkD+c2ZA/nNmQP5zZkD+c2ZA/nNmQP5zZkD+c2ZA/nNmQP5zZkD+c2ZA/nNmQP5zZkD+c2ZA/nNmQP5zZkD+c2ZA/nNmQP5zZkD+c2ZA/nNmQP5zZkD+c2ZA/nNmQP5zZkD+c2ZA/nNmQP5zZkD+c2ZA/nNmQP5zZkD+c2ZA/nNmQP5zZkD+c2ZA/nNmQP5zZkD+c2ZA/nNmQP5zZkD+c2ZA/nNmQP5zZkD+c2ZA/nNmQP5zZkD+c2ZA/nNmQP5zZkD+c2ZA/nNmQP5zZkD+c2ZA/nNmQP5zZkD+c2ZA/nNmQP5zZkD+c2ZA/nNmQP5zZkD+c2ZA/nNmQP5zZkD+c2ZA/nNmQP5zZkD+c2ZA/nNmQP5zZkD+c2ZA/nNmQP5zZkD+c2ZA/nNmQP5zZkD+c2ZA/nNmQP5zZkD+c2ZA/nNmQP5zZkD+c2ZA/nNmQP5zZkD+c2ZA/nNmQP5zZkD+c2ZA/nNmQP5zZkD+c2ZA/nNmQP5zZkD+c2ZA/nNmQP5zZkD+c2ZA/nNmQP5zZkD+c2ZA/nNmQP5zZkD+c2ZA/nNmQP5zZkD+c2ZA/nNmQP5zZkD+c2ZA/nNmQP5zZkD+c2ZA/nNmQP5zZkD+c2ZA/nNmQP5zZkD+c2ZA/nNmQP5zZkD+c2ZA/nNmQP5zZkD+c2ZA/nNmQP5zZkD+c2ZA/nNmQP5zZkD+c2ZA/nNmQP5zZkD+c2ZA/nNmQP5zZkD+c2ZA/nNmQP5zZkD+c2ZA/nNmQP5zZkD+c2ZA/nNmQP5zZkD+c2ZA/nNmQP5zZkD+c2ZA/nNmQP5zZkD+c2ZA/nNmQP5zZkD+c2ZA/nNmQP5zZkD+c2ZA/nNmQP5zZkD+c2ZA/nNmQP5zZkD+c2ZA/nNmQP5zZkD+c2ZA/nNmQP5zZkD+c2ZA/nNmQP5zZkD+c2ZA/nNmQP5zZkD+c2ZA/nNmQP5zZkD+c2ZA/nNmQP5zZkD+c2ZA/nNmQP5zZkD+c2ZA/nNmQP5zZkD+c2ZA/nNmQP5zZkD+c2ZA/nNmQP5zZkD+c2ZA/nNmQP5zZkD+c2ZA/nNmQP5zZkD+c2ZA/nNmQP5zZkD+c2ZA/nNmQP5zZkD+c2ZA/nNmQP5zZkD+c2ZA/nNmQP5zZkD+c2ZA/nNmQP5zZkD+c2ZA/nNmQP5zZkD+c2ZA/nNmQP5zZkD+c2ZA/nNmQP5zZkD+c2ZA/nNmQP5zZkD+c2ZA/nNmQP5zZkD+c2ZA/nNmQP5zZkD+c2ZA",
          "dtype": "f4"
         }
        },
        {
         "mode": "lines",
         "name": "Optimized",
         "type": "scatter",
         "y": {
          "bdata": "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",
          "dtype": "f4"
         }
        }
       ],
       "layout": {
        "template": {
         "data": {
          "bar": [
           {
            "error_x": {
             "color": "#2a3f5f"
            },
            "error_y": {
             "color": "#2a3f5f"
            },
            "marker": {
             "line": {
              "color": "white",
              "width": 0.5
             },
             "pattern": {
              "fillmode": "overlay",
              "size": 10,
              "solidity": 0.2
             }
            },
            "type": "bar"
           }
          ],
          "barpolar": [
           {
            "marker": {
             "line": {
              "color": "white",
              "width": 0.5
             },
             "pattern": {
              "fillmode": "overlay",
              "size": 10,
              "solidity": 0.2
             }
            },
            "type": "barpolar"
           }
          ],
          "carpet": [
           {
            "aaxis": {
             "endlinecolor": "#2a3f5f",
             "gridcolor": "#C8D4E3",
             "linecolor": "#C8D4E3",
             "minorgridcolor": "#C8D4E3",
             "startlinecolor": "#2a3f5f"
            },
            "baxis": {
             "endlinecolor": "#2a3f5f",
             "gridcolor": "#C8D4E3",
             "linecolor": "#C8D4E3",
             "minorgridcolor": "#C8D4E3",
             "startlinecolor": "#2a3f5f"
            },
            "type": "carpet"
           }
          ],
          "choropleth": [
           {
            "colorbar": {
             "outlinewidth": 0,
             "ticks": ""
            },
            "type": "choropleth"
           }
          ],
          "contour": [
           {
            "colorbar": {
             "outlinewidth": 0,
             "ticks": ""
            },
            "colorscale": [
             [
              0,
              "#0d0887"
             ],
             [
              0.1111111111111111,
              "#46039f"
             ],
             [
              0.2222222222222222,
              "#7201a8"
             ],
             [
              0.3333333333333333,
              "#9c179e"
             ],
             [
              0.4444444444444444,
              "#bd3786"
             ],
             [
              0.5555555555555556,
              "#d8576b"
             ],
             [
              0.6666666666666666,
              "#ed7953"
             ],
             [
              0.7777777777777778,
              "#fb9f3a"
             ],
             [
              0.8888888888888888,
              "#fdca26"
             ],
             [
              1,
              "#f0f921"
             ]
            ],
            "type": "contour"
           }
          ],
          "contourcarpet": [
           {
            "colorbar": {
             "outlinewidth": 0,
             "ticks": ""
            },
            "type": "contourcarpet"
           }
          ],
          "heatmap": [
           {
            "colorbar": {
             "outlinewidth": 0,
             "ticks": ""
            },
            "colorscale": [
             [
              0,
              "#0d0887"
             ],
             [
              0.1111111111111111,
              "#46039f"
             ],
             [
              0.2222222222222222,
              "#7201a8"
             ],
             [
              0.3333333333333333,
              "#9c179e"
             ],
             [
              0.4444444444444444,
              "#bd3786"
             ],
             [
              0.5555555555555556,
              "#d8576b"
             ],
             [
              0.6666666666666666,
              "#ed7953"
             ],
             [
              0.7777777777777778,
              "#fb9f3a"
             ],
             [
              0.8888888888888888,
              "#fdca26"
             ],
             [
              1,
              "#f0f921"
             ]
            ],
            "type": "heatmap"
           }
          ],
          "histogram": [
           {
            "marker": {
             "pattern": {
              "fillmode": "overlay",
              "size": 10,
              "solidity": 0.2
             }
            },
            "type": "histogram"
           }
          ],
          "histogram2d": [
           {
            "colorbar": {
             "outlinewidth": 0,
             "ticks": ""
            },
            "colorscale": [
             [
              0,
              "#0d0887"
             ],
             [
              0.1111111111111111,
              "#46039f"
             ],
             [
              0.2222222222222222,
              "#7201a8"
             ],
             [
              0.3333333333333333,
              "#9c179e"
             ],
             [
              0.4444444444444444,
              "#bd3786"
             ],
             [
              0.5555555555555556,
              "#d8576b"
             ],
             [
              0.6666666666666666,
              "#ed7953"
             ],
             [
              0.7777777777777778,
              "#fb9f3a"
             ],
             [
              0.8888888888888888,
              "#fdca26"
             ],
             [
              1,
              "#f0f921"
             ]
            ],
            "type": "histogram2d"
           }
          ],
          "histogram2dcontour": [
           {
            "colorbar": {
             "outlinewidth": 0,
             "ticks": ""
            },
            "colorscale": [
             [
              0,
              "#0d0887"
             ],
             [
              0.1111111111111111,
              "#46039f"
             ],
             [
              0.2222222222222222,
              "#7201a8"
             ],
             [
              0.3333333333333333,
              "#9c179e"
             ],
             [
              0.4444444444444444,
              "#bd3786"
             ],
             [
              0.5555555555555556,
              "#d8576b"
             ],
             [
              0.6666666666666666,
              "#ed7953"
             ],
             [
              0.7777777777777778,
              "#fb9f3a"
             ],
             [
              0.8888888888888888,
              "#fdca26"
             ],
             [
              1,
              "#f0f921"
             ]
            ],
            "type": "histogram2dcontour"
           }
          ],
          "mesh3d": [
           {
            "colorbar": {
             "outlinewidth": 0,
             "ticks": ""
            },
            "type": "mesh3d"
           }
          ],
          "parcoords": [
           {
            "line": {
             "colorbar": {
              "outlinewidth": 0,
              "ticks": ""
             }
            },
            "type": "parcoords"
           }
          ],
          "pie": [
           {
            "automargin": true,
            "type": "pie"
           }
          ],
          "scatter": [
           {
            "fillpattern": {
             "fillmode": "overlay",
             "size": 10,
             "solidity": 0.2
            },
            "type": "scatter"
           }
          ],
          "scatter3d": [
           {
            "line": {
             "colorbar": {
              "outlinewidth": 0,
              "ticks": ""
             }
            },
            "marker": {
             "colorbar": {
              "outlinewidth": 0,
              "ticks": ""
             }
            },
            "type": "scatter3d"
           }
          ],
          "scattercarpet": [
           {
            "marker": {
             "colorbar": {
              "outlinewidth": 0,
              "ticks": ""
             }
            },
            "type": "scattercarpet"
           }
          ],
          "scattergeo": [
           {
            "marker": {
             "colorbar": {
              "outlinewidth": 0,
              "ticks": ""
             }
            },
            "type": "scattergeo"
           }
          ],
          "scattergl": [
           {
            "marker": {
             "colorbar": {
              "outlinewidth": 0,
              "ticks": ""
             }
            },
            "type": "scattergl"
           }
          ],
          "scattermap": [
           {
            "marker": {
             "colorbar": {
              "outlinewidth": 0,
              "ticks": ""
             }
            },
            "type": "scattermap"
           }
          ],
          "scattermapbox": [
           {
            "marker": {
             "colorbar": {
              "outlinewidth": 0,
              "ticks": ""
             }
            },
            "type": "scattermapbox"
           }
          ],
          "scatterpolar": [
           {
            "marker": {
             "colorbar": {
              "outlinewidth": 0,
              "ticks": ""
             }
            },
            "type": "scatterpolar"
           }
          ],
          "scatterpolargl": [
           {
            "marker": {
             "colorbar": {
              "outlinewidth": 0,
              "ticks": ""
             }
            },
            "type": "scatterpolargl"
           }
          ],
          "scatterternary": [
           {
            "marker": {
             "colorbar": {
              "outlinewidth": 0,
              "ticks": ""
             }
            },
            "type": "scatterternary"
           }
          ],
          "surface": [
           {
            "colorbar": {
             "outlinewidth": 0,
             "ticks": ""
            },
            "colorscale": [
             [
              0,
              "#0d0887"
             ],
             [
              0.1111111111111111,
              "#46039f"
             ],
             [
              0.2222222222222222,
              "#7201a8"
             ],
             [
              0.3333333333333333,
              "#9c179e"
             ],
             [
              0.4444444444444444,
              "#bd3786"
             ],
             [
              0.5555555555555556,
              "#d8576b"
             ],
             [
              0.6666666666666666,
              "#ed7953"
             ],
             [
              0.7777777777777778,
              "#fb9f3a"
             ],
             [
              0.8888888888888888,
              "#fdca26"
             ],
             [
              1,
              "#f0f921"
             ]
            ],
            "type": "surface"
           }
          ],
          "table": [
           {
            "cells": {
             "fill": {
              "color": "#EBF0F8"
             },
             "line": {
              "color": "white"
             }
            },
            "header": {
             "fill": {
              "color": "#C8D4E3"
             },
             "line": {
              "color": "white"
             }
            },
            "type": "table"
           }
          ]
         },
         "layout": {
          "annotationdefaults": {
           "arrowcolor": "#2a3f5f",
           "arrowhead": 0,
           "arrowwidth": 1
          },
          "autotypenumbers": "strict",
          "coloraxis": {
           "colorbar": {
            "outlinewidth": 0,
            "ticks": ""
           }
          },
          "colorscale": {
           "diverging": [
            [
             0,
             "#8e0152"
            ],
            [
             0.1,
             "#c51b7d"
            ],
            [
             0.2,
             "#de77ae"
            ],
            [
             0.3,
             "#f1b6da"
            ],
            [
             0.4,
             "#fde0ef"
            ],
            [
             0.5,
             "#f7f7f7"
            ],
            [
             0.6,
             "#e6f5d0"
            ],
            [
             0.7,
             "#b8e186"
            ],
            [
             0.8,
             "#7fbc41"
            ],
            [
             0.9,
             "#4d9221"
            ],
            [
             1,
             "#276419"
            ]
           ],
           "sequential": [
            [
             0,
             "#0d0887"
            ],
            [
             0.1111111111111111,
             "#46039f"
            ],
            [
             0.2222222222222222,
             "#7201a8"
            ],
            [
             0.3333333333333333,
             "#9c179e"
            ],
            [
             0.4444444444444444,
             "#bd3786"
            ],
            [
             0.5555555555555556,
             "#d8576b"
            ],
            [
             0.6666666666666666,
             "#ed7953"
            ],
            [
             0.7777777777777778,
             "#fb9f3a"
            ],
            [
             0.8888888888888888,
             "#fdca26"
            ],
            [
             1,
             "#f0f921"
            ]
           ],
           "sequentialminus": [
            [
             0,
             "#0d0887"
            ],
            [
             0.1111111111111111,
             "#46039f"
            ],
            [
             0.2222222222222222,
             "#7201a8"
            ],
            [
             0.3333333333333333,
             "#9c179e"
            ],
            [
             0.4444444444444444,
             "#bd3786"
            ],
            [
             0.5555555555555556,
             "#d8576b"
            ],
            [
             0.6666666666666666,
             "#ed7953"
            ],
            [
             0.7777777777777778,
             "#fb9f3a"
            ],
            [
             0.8888888888888888,
             "#fdca26"
            ],
            [
             1,
             "#f0f921"
            ]
           ]
          },
          "colorway": [
           "#636efa",
           "#EF553B",
           "#00cc96",
           "#ab63fa",
           "#FFA15A",
           "#19d3f3",
           "#FF6692",
           "#B6E880",
           "#FF97FF",
           "#FECB52"
          ],
          "font": {
           "color": "#2a3f5f"
          },
          "geo": {
           "bgcolor": "white",
           "lakecolor": "white",
           "landcolor": "white",
           "showlakes": true,
           "showland": true,
           "subunitcolor": "#C8D4E3"
          },
          "hoverlabel": {
           "align": "left"
          },
          "hovermode": "closest",
          "mapbox": {
           "style": "light"
          },
          "paper_bgcolor": "white",
          "plot_bgcolor": "white",
          "polar": {
           "angularaxis": {
            "gridcolor": "#EBF0F8",
            "linecolor": "#EBF0F8",
            "ticks": ""
           },
           "bgcolor": "white",
           "radialaxis": {
            "gridcolor": "#EBF0F8",
            "linecolor": "#EBF0F8",
            "ticks": ""
           }
          },
          "scene": {
           "xaxis": {
            "backgroundcolor": "white",
            "gridcolor": "#DFE8F3",
            "gridwidth": 2,
            "linecolor": "#EBF0F8",
            "showbackground": true,
            "ticks": "",
            "zerolinecolor": "#EBF0F8"
           },
           "yaxis": {
            "backgroundcolor": "white",
            "gridcolor": "#DFE8F3",
            "gridwidth": 2,
            "linecolor": "#EBF0F8",
            "showbackground": true,
            "ticks": "",
            "zerolinecolor": "#EBF0F8"
           },
           "zaxis": {
            "backgroundcolor": "white",
            "gridcolor": "#DFE8F3",
            "gridwidth": 2,
            "linecolor": "#EBF0F8",
            "showbackground": true,
            "ticks": "",
            "zerolinecolor": "#EBF0F8"
           }
          },
          "shapedefaults": {
           "line": {
            "color": "#2a3f5f"
           }
          },
          "ternary": {
           "aaxis": {
            "gridcolor": "#DFE8F3",
            "linecolor": "#A2B1C6",
            "ticks": ""
           },
           "baxis": {
            "gridcolor": "#DFE8F3",
            "linecolor": "#A2B1C6",
            "ticks": ""
           },
           "bgcolor": "white",
           "caxis": {
            "gridcolor": "#DFE8F3",
            "linecolor": "#A2B1C6",
            "ticks": ""
           }
          },
          "title": {
           "x": 0.05
          },
          "xaxis": {
           "automargin": true,
           "gridcolor": "#EBF0F8",
           "linecolor": "#EBF0F8",
           "ticks": "",
           "title": {
            "standoff": 15
           },
           "zerolinecolor": "#EBF0F8",
           "zerolinewidth": 2
          },
          "yaxis": {
           "automargin": true,
           "gridcolor": "#EBF0F8",
           "linecolor": "#EBF0F8",
           "ticks": "",
           "title": {
            "standoff": 15
           },
           "zerolinecolor": "#EBF0F8",
           "zerolinewidth": 2
          }
         }
        },
        "title": {
         "text": "Domain Widths Comparison"
        },
        "xaxis": {
         "title": {
          "text": "Domain Index"
         }
        },
        "yaxis": {
         "title": {
          "text": "Width (μm)"
         }
        }
       }
      }
     },
     "metadata": {},
     "output_type": "display_data"
    },
    {
     "data": {
      "application/vnd.plotly.v1+json": {
       "config": {
        "plotlyServerURL": "https://plot.ly"
       },
       "data": [
        {
         "line": {
          "dash": "dash"
         },
         "mode": "lines",
         "name": "Initial",
         "type": "scatter",
         "x": {
          "bdata": "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",
          "dtype": "f4"
         },
         "y": {
          "bdata": "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",
          "dtype": "f4"
         }
        },
        {
         "line": {
          "dash": "dot"
         },
         "mode": "lines",
         "name": "Periodic",
         "type": "scatter",
         "x": {
          "bdata": "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",
          "dtype": "f4"
         },
         "y": {
          "bdata": "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",
          "dtype": "f4"
         }
        },
        {
         "mode": "lines",
         "name": "Optimized",
         "type": "scatter",
         "x": {
          "bdata": "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",
          "dtype": "f4"
         },
         "y": {
          "bdata": "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",
          "dtype": "f4"
         }
        }
       ],
       "layout": {
        "annotations": [
         {
          "showarrow": false,
          "text": "Target Power",
          "x": 1,
          "xanchor": "right",
          "xref": "x domain",
          "y": 0.018,
          "yanchor": "bottom",
          "yref": "y"
         },
         {
          "showarrow": false,
          "text": "Target Region",
          "x": 1.03,
          "xanchor": "left",
          "xref": "x",
          "y": 1,
          "yanchor": "top",
          "yref": "y domain"
         }
        ],
        "shapes": [
         {
          "line": {
           "color": "green",
           "dash": "dash",
           "width": 2
          },
          "type": "line",
          "x0": 0,
          "x1": 1,
          "xref": "x domain",
          "y0": 0.018,
          "y1": 0.018,
          "yref": "y"
         },
         {
          "fillcolor": "red",
          "line": {
           "width": 0
          },
          "opacity": 0.1,
          "type": "rect",
          "x0": 1.03,
          "x1": 1.0319999999999998,
          "xref": "x",
          "y0": 0,
          "y1": 1,
          "yref": "y domain"
         }
        ],
        "template": {
         "data": {
          "bar": [
           {
            "error_x": {
             "color": "#2a3f5f"
            },
            "error_y": {
             "color": "#2a3f5f"
            },
            "marker": {
             "line": {
              "color": "white",
              "width": 0.5
             },
             "pattern": {
              "fillmode": "overlay",
              "size": 10,
              "solidity": 0.2
             }
            },
            "type": "bar"
           }
          ],
          "barpolar": [
           {
            "marker": {
             "line": {
              "color": "white",
              "width": 0.5
             },
             "pattern": {
              "fillmode": "overlay",
              "size": 10,
              "solidity": 0.2
             }
            },
            "type": "barpolar"
           }
          ],
          "carpet": [
           {
            "aaxis": {
             "endlinecolor": "#2a3f5f",
             "gridcolor": "#C8D4E3",
             "linecolor": "#C8D4E3",
             "minorgridcolor": "#C8D4E3",
             "startlinecolor": "#2a3f5f"
            },
            "baxis": {
             "endlinecolor": "#2a3f5f",
             "gridcolor": "#C8D4E3",
             "linecolor": "#C8D4E3",
             "minorgridcolor": "#C8D4E3",
             "startlinecolor": "#2a3f5f"
            },
            "type": "carpet"
           }
          ],
          "choropleth": [
           {
            "colorbar": {
             "outlinewidth": 0,
             "ticks": ""
            },
            "type": "choropleth"
           }
          ],
          "contour": [
           {
            "colorbar": {
             "outlinewidth": 0,
             "ticks": ""
            },
            "colorscale": [
             [
              0,
              "#0d0887"
             ],
             [
              0.1111111111111111,
              "#46039f"
             ],
             [
              0.2222222222222222,
              "#7201a8"
             ],
             [
              0.3333333333333333,
              "#9c179e"
             ],
             [
              0.4444444444444444,
              "#bd3786"
             ],
             [
              0.5555555555555556,
              "#d8576b"
             ],
             [
              0.6666666666666666,
              "#ed7953"
             ],
             [
              0.7777777777777778,
              "#fb9f3a"
             ],
             [
              0.8888888888888888,
              "#fdca26"
             ],
             [
              1,
              "#f0f921"
             ]
            ],
            "type": "contour"
           }
          ],
          "contourcarpet": [
           {
            "colorbar": {
             "outlinewidth": 0,
             "ticks": ""
            },
            "type": "contourcarpet"
           }
          ],
          "heatmap": [
           {
            "colorbar": {
             "outlinewidth": 0,
             "ticks": ""
            },
            "colorscale": [
             [
              0,
              "#0d0887"
             ],
             [
              0.1111111111111111,
              "#46039f"
             ],
             [
              0.2222222222222222,
              "#7201a8"
             ],
             [
              0.3333333333333333,
              "#9c179e"
             ],
             [
              0.4444444444444444,
              "#bd3786"
             ],
             [
              0.5555555555555556,
              "#d8576b"
             ],
             [
              0.6666666666666666,
              "#ed7953"
             ],
             [
              0.7777777777777778,
              "#fb9f3a"
             ],
             [
              0.8888888888888888,
              "#fdca26"
             ],
             [
              1,
              "#f0f921"
             ]
            ],
            "type": "heatmap"
           }
          ],
          "histogram": [
           {
            "marker": {
             "pattern": {
              "fillmode": "overlay",
              "size": 10,
              "solidity": 0.2
             }
            },
            "type": "histogram"
           }
          ],
          "histogram2d": [
           {
            "colorbar": {
             "outlinewidth": 0,
             "ticks": ""
            },
            "colorscale": [
             [
              0,
              "#0d0887"
             ],
             [
              0.1111111111111111,
              "#46039f"
             ],
             [
              0.2222222222222222,
              "#7201a8"
             ],
             [
              0.3333333333333333,
              "#9c179e"
             ],
             [
              0.4444444444444444,
              "#bd3786"
             ],
             [
              0.5555555555555556,
              "#d8576b"
             ],
             [
              0.6666666666666666,
              "#ed7953"
             ],
             [
              0.7777777777777778,
              "#fb9f3a"
             ],
             [
              0.8888888888888888,
              "#fdca26"
             ],
             [
              1,
              "#f0f921"
             ]
            ],
            "type": "histogram2d"
           }
          ],
          "histogram2dcontour": [
           {
            "colorbar": {
             "outlinewidth": 0,
             "ticks": ""
            },
            "colorscale": [
             [
              0,
              "#0d0887"
             ],
             [
              0.1111111111111111,
              "#46039f"
             ],
             [
              0.2222222222222222,
              "#7201a8"
             ],
             [
              0.3333333333333333,
              "#9c179e"
             ],
             [
              0.4444444444444444,
              "#bd3786"
             ],
             [
              0.5555555555555556,
              "#d8576b"
             ],
             [
              0.6666666666666666,
              "#ed7953"
             ],
             [
              0.7777777777777778,
              "#fb9f3a"
             ],
             [
              0.8888888888888888,
              "#fdca26"
             ],
             [
              1,
              "#f0f921"
             ]
            ],
            "type": "histogram2dcontour"
           }
          ],
          "mesh3d": [
           {
            "colorbar": {
             "outlinewidth": 0,
             "ticks": ""
            },
            "type": "mesh3d"
           }
          ],
          "parcoords": [
           {
            "line": {
             "colorbar": {
              "outlinewidth": 0,
              "ticks": ""
             }
            },
            "type": "parcoords"
           }
          ],
          "pie": [
           {
            "automargin": true,
            "type": "pie"
           }
          ],
          "scatter": [
           {
            "fillpattern": {
             "fillmode": "overlay",
             "size": 10,
             "solidity": 0.2
            },
            "type": "scatter"
           }
          ],
          "scatter3d": [
           {
            "line": {
             "colorbar": {
              "outlinewidth": 0,
              "ticks": ""
             }
            },
            "marker": {
             "colorbar": {
              "outlinewidth": 0,
              "ticks": ""
             }
            },
            "type": "scatter3d"
           }
          ],
          "scattercarpet": [
           {
            "marker": {
             "colorbar": {
              "outlinewidth": 0,
              "ticks": ""
             }
            },
            "type": "scattercarpet"
           }
          ],
          "scattergeo": [
           {
            "marker": {
             "colorbar": {
              "outlinewidth": 0,
              "ticks": ""
             }
            },
            "type": "scattergeo"
           }
          ],
          "scattergl": [
           {
            "marker": {
             "colorbar": {
              "outlinewidth": 0,
              "ticks": ""
             }
            },
            "type": "scattergl"
           }
          ],
          "scattermap": [
           {
            "marker": {
             "colorbar": {
              "outlinewidth": 0,
              "ticks": ""
             }
            },
            "type": "scattermap"
           }
          ],
          "scattermapbox": [
           {
            "marker": {
             "colorbar": {
              "outlinewidth": 0,
              "ticks": ""
             }
            },
            "type": "scattermapbox"
           }
          ],
          "scatterpolar": [
           {
            "marker": {
             "colorbar": {
              "outlinewidth": 0,
              "ticks": ""
             }
            },
            "type": "scatterpolar"
           }
          ],
          "scatterpolargl": [
           {
            "marker": {
             "colorbar": {
              "outlinewidth": 0,
              "ticks": ""
             }
            },
            "type": "scatterpolargl"
           }
          ],
          "scatterternary": [
           {
            "marker": {
             "colorbar": {
              "outlinewidth": 0,
              "ticks": ""
             }
            },
            "type": "scatterternary"
           }
          ],
          "surface": [
           {
            "colorbar": {
             "outlinewidth": 0,
             "ticks": ""
            },
            "colorscale": [
             [
              0,
              "#0d0887"
             ],
             [
              0.1111111111111111,
              "#46039f"
             ],
             [
              0.2222222222222222,
              "#7201a8"
             ],
             [
              0.3333333333333333,
              "#9c179e"
             ],
             [
              0.4444444444444444,
              "#bd3786"
             ],
             [
              0.5555555555555556,
              "#d8576b"
             ],
             [
              0.6666666666666666,
              "#ed7953"
             ],
             [
              0.7777777777777778,
              "#fb9f3a"
             ],
             [
              0.8888888888888888,
              "#fdca26"
             ],
             [
              1,
              "#f0f921"
             ]
            ],
            "type": "surface"
           }
          ],
          "table": [
           {
            "cells": {
             "fill": {
              "color": "#EBF0F8"
             },
             "line": {
              "color": "white"
             }
            },
            "header": {
             "fill": {
              "color": "#C8D4E3"
             },
             "line": {
              "color": "white"
             }
            },
            "type": "table"
           }
          ]
         },
         "layout": {
          "annotationdefaults": {
           "arrowcolor": "#2a3f5f",
           "arrowhead": 0,
           "arrowwidth": 1
          },
          "autotypenumbers": "strict",
          "coloraxis": {
           "colorbar": {
            "outlinewidth": 0,
            "ticks": ""
           }
          },
          "colorscale": {
           "diverging": [
            [
             0,
             "#8e0152"
            ],
            [
             0.1,
             "#c51b7d"
            ],
            [
             0.2,
             "#de77ae"
            ],
            [
             0.3,
             "#f1b6da"
            ],
            [
             0.4,
             "#fde0ef"
            ],
            [
             0.5,
             "#f7f7f7"
            ],
            [
             0.6,
             "#e6f5d0"
            ],
            [
             0.7,
             "#b8e186"
            ],
            [
             0.8,
             "#7fbc41"
            ],
            [
             0.9,
             "#4d9221"
            ],
            [
             1,
             "#276419"
            ]
           ],
           "sequential": [
            [
             0,
             "#0d0887"
            ],
            [
             0.1111111111111111,
             "#46039f"
            ],
            [
             0.2222222222222222,
             "#7201a8"
            ],
            [
             0.3333333333333333,
             "#9c179e"
            ],
            [
             0.4444444444444444,
             "#bd3786"
            ],
            [
             0.5555555555555556,
             "#d8576b"
            ],
            [
             0.6666666666666666,
             "#ed7953"
            ],
            [
             0.7777777777777778,
             "#fb9f3a"
            ],
            [
             0.8888888888888888,
             "#fdca26"
            ],
            [
             1,
             "#f0f921"
            ]
           ],
           "sequentialminus": [
            [
             0,
             "#0d0887"
            ],
            [
             0.1111111111111111,
             "#46039f"
            ],
            [
             0.2222222222222222,
             "#7201a8"
            ],
            [
             0.3333333333333333,
             "#9c179e"
            ],
            [
             0.4444444444444444,
             "#bd3786"
            ],
            [
             0.5555555555555556,
             "#d8576b"
            ],
            [
             0.6666666666666666,
             "#ed7953"
            ],
            [
             0.7777777777777778,
             "#fb9f3a"
            ],
            [
             0.8888888888888888,
             "#fdca26"
            ],
            [
             1,
             "#f0f921"
            ]
           ]
          },
          "colorway": [
           "#636efa",
           "#EF553B",
           "#00cc96",
           "#ab63fa",
           "#FFA15A",
           "#19d3f3",
           "#FF6692",
           "#B6E880",
           "#FF97FF",
           "#FECB52"
          ],
          "font": {
           "color": "#2a3f5f"
          },
          "geo": {
           "bgcolor": "white",
           "lakecolor": "white",
           "landcolor": "white",
           "showlakes": true,
           "showland": true,
           "subunitcolor": "#C8D4E3"
          },
          "hoverlabel": {
           "align": "left"
          },
          "hovermode": "closest",
          "mapbox": {
           "style": "light"
          },
          "paper_bgcolor": "white",
          "plot_bgcolor": "white",
          "polar": {
           "angularaxis": {
            "gridcolor": "#EBF0F8",
            "linecolor": "#EBF0F8",
            "ticks": ""
           },
           "bgcolor": "white",
           "radialaxis": {
            "gridcolor": "#EBF0F8",
            "linecolor": "#EBF0F8",
            "ticks": ""
           }
          },
          "scene": {
           "xaxis": {
            "backgroundcolor": "white",
            "gridcolor": "#DFE8F3",
            "gridwidth": 2,
            "linecolor": "#EBF0F8",
            "showbackground": true,
            "ticks": "",
            "zerolinecolor": "#EBF0F8"
           },
           "yaxis": {
            "backgroundcolor": "white",
            "gridcolor": "#DFE8F3",
            "gridwidth": 2,
            "linecolor": "#EBF0F8",
            "showbackground": true,
            "ticks": "",
            "zerolinecolor": "#EBF0F8"
           },
           "zaxis": {
            "backgroundcolor": "white",
            "gridcolor": "#DFE8F3",
            "gridwidth": 2,
            "linecolor": "#EBF0F8",
            "showbackground": true,
            "ticks": "",
            "zerolinecolor": "#EBF0F8"
           }
          },
          "shapedefaults": {
           "line": {
            "color": "#2a3f5f"
           }
          },
          "ternary": {
           "aaxis": {
            "gridcolor": "#DFE8F3",
            "linecolor": "#A2B1C6",
            "ticks": ""
           },
           "baxis": {
            "gridcolor": "#DFE8F3",
            "linecolor": "#A2B1C6",
            "ticks": ""
           },
           "bgcolor": "white",
           "caxis": {
            "gridcolor": "#DFE8F3",
            "linecolor": "#A2B1C6",
            "ticks": ""
           }
          },
          "title": {
           "x": 0.05
          },
          "xaxis": {
           "automargin": true,
           "gridcolor": "#EBF0F8",
           "linecolor": "#EBF0F8",
           "ticks": "",
           "title": {
            "standoff": 15
           },
           "zerolinecolor": "#EBF0F8",
           "zerolinewidth": 2
          },
          "yaxis": {
           "automargin": true,
           "gridcolor": "#EBF0F8",
           "linecolor": "#EBF0F8",
           "ticks": "",
           "title": {
            "standoff": 15
           },
           "zerolinecolor": "#EBF0F8",
           "zerolinewidth": 2
          }
         }
        },
        "title": {
         "text": "SHG Power Spectrum Comparison"
        },
        "xaxis": {
         "title": {
          "text": "Fundamental Wavelength (μm)"
         }
        },
        "yaxis": {
         "title": {
          "text": "SHW Power"
         }
        }
       }
      }
     },
     "metadata": {},
     "output_type": "display_data"
    },
    {
     "data": {
      "application/vnd.plotly.v1+json": {
       "config": {
        "plotlyServerURL": "https://plot.ly"
       },
       "data": [
        {
         "mode": "lines",
         "name": "Loss",
         "type": "scatter",
         "y": {
          "bdata": "K9wUMkA/FDKW0hIy06cSMiWqETLfoREy+40RMoeLETIUihEyE4gRMg2CETJebxEyW1YRMvI7ETLUKREy2SgRMi4lETIqIBEypB8RMmf/EDJ+xRAyRFkQMjwpEDJl1A8yrqoPMuugDzI/lA8yN4YPMvRoDzJOEQ8yV1IOMiImDTLFZgsy81QLMhnfCDLrGgcyxsQGMluuBjK3nAYyf28GMlLyBTLkqwUyjkoFMp3HBDK+qgQyBHIEMmZuBDKAZAQym00EMlsGBDIDAwQyCxUDMq8WAjJU1AAywOD/MTiK/zEM/P0xAGP9MZvG+zEHQ/sx0l/5MYAq9zHpz/UxC1T1MYfO9DG1lfQxeDf0Ma7m8zGU1fMxfcLzMUWu8zH1n/MxQJrzMVuU8zEelPMxApLzMSaN8zH7hvMxTFXzMXwU8zEz2PExtxzxMZyf8DGJ9e8x79DvMQBW7zEhwO4xdT7uMSfF7DHw/uoxadTqMb2r6jFpn+ox7p7qMVWU6jEwjuoxSozqMUqM6jHCiOoxwojqMQ==",
          "dtype": "f4"
         }
        }
       ],
       "layout": {
        "template": {
         "data": {
          "bar": [
           {
            "error_x": {
             "color": "#2a3f5f"
            },
            "error_y": {
             "color": "#2a3f5f"
            },
            "marker": {
             "line": {
              "color": "white",
              "width": 0.5
             },
             "pattern": {
              "fillmode": "overlay",
              "size": 10,
              "solidity": 0.2
             }
            },
            "type": "bar"
           }
          ],
          "barpolar": [
           {
            "marker": {
             "line": {
              "color": "white",
              "width": 0.5
             },
             "pattern": {
              "fillmode": "overlay",
              "size": 10,
              "solidity": 0.2
             }
            },
            "type": "barpolar"
           }
          ],
          "carpet": [
           {
            "aaxis": {
             "endlinecolor": "#2a3f5f",
             "gridcolor": "#C8D4E3",
             "linecolor": "#C8D4E3",
             "minorgridcolor": "#C8D4E3",
             "startlinecolor": "#2a3f5f"
            },
            "baxis": {
             "endlinecolor": "#2a3f5f",
             "gridcolor": "#C8D4E3",
             "linecolor": "#C8D4E3",
             "minorgridcolor": "#C8D4E3",
             "startlinecolor": "#2a3f5f"
            },
            "type": "carpet"
           }
          ],
          "choropleth": [
           {
            "colorbar": {
             "outlinewidth": 0,
             "ticks": ""
            },
            "type": "choropleth"
           }
          ],
          "contour": [
           {
            "colorbar": {
             "outlinewidth": 0,
             "ticks": ""
            },
            "colorscale": [
             [
              0,
              "#0d0887"
             ],
             [
              0.1111111111111111,
              "#46039f"
             ],
             [
              0.2222222222222222,
              "#7201a8"
             ],
             [
              0.3333333333333333,
              "#9c179e"
             ],
             [
              0.4444444444444444,
              "#bd3786"
             ],
             [
              0.5555555555555556,
              "#d8576b"
             ],
             [
              0.6666666666666666,
              "#ed7953"
             ],
             [
              0.7777777777777778,
              "#fb9f3a"
             ],
             [
              0.8888888888888888,
              "#fdca26"
             ],
             [
              1,
              "#f0f921"
             ]
            ],
            "type": "contour"
           }
          ],
          "contourcarpet": [
           {
            "colorbar": {
             "outlinewidth": 0,
             "ticks": ""
            },
            "type": "contourcarpet"
           }
          ],
          "heatmap": [
           {
            "colorbar": {
             "outlinewidth": 0,
             "ticks": ""
            },
            "colorscale": [
             [
              0,
              "#0d0887"
             ],
             [
              0.1111111111111111,
              "#46039f"
             ],
             [
              0.2222222222222222,
              "#7201a8"
             ],
             [
              0.3333333333333333,
              "#9c179e"
             ],
             [
              0.4444444444444444,
              "#bd3786"
             ],
             [
              0.5555555555555556,
              "#d8576b"
             ],
             [
              0.6666666666666666,
              "#ed7953"
             ],
             [
              0.7777777777777778,
              "#fb9f3a"
             ],
             [
              0.8888888888888888,
              "#fdca26"
             ],
             [
              1,
              "#f0f921"
             ]
            ],
            "type": "heatmap"
           }
          ],
          "histogram": [
           {
            "marker": {
             "pattern": {
              "fillmode": "overlay",
              "size": 10,
              "solidity": 0.2
             }
            },
            "type": "histogram"
           }
          ],
          "histogram2d": [
           {
            "colorbar": {
             "outlinewidth": 0,
             "ticks": ""
            },
            "colorscale": [
             [
              0,
              "#0d0887"
             ],
             [
              0.1111111111111111,
              "#46039f"
             ],
             [
              0.2222222222222222,
              "#7201a8"
             ],
             [
              0.3333333333333333,
              "#9c179e"
             ],
             [
              0.4444444444444444,
              "#bd3786"
             ],
             [
              0.5555555555555556,
              "#d8576b"
             ],
             [
              0.6666666666666666,
              "#ed7953"
             ],
             [
              0.7777777777777778,
              "#fb9f3a"
             ],
             [
              0.8888888888888888,
              "#fdca26"
             ],
             [
              1,
              "#f0f921"
             ]
            ],
            "type": "histogram2d"
           }
          ],
          "histogram2dcontour": [
           {
            "colorbar": {
             "outlinewidth": 0,
             "ticks": ""
            },
            "colorscale": [
             [
              0,
              "#0d0887"
             ],
             [
              0.1111111111111111,
              "#46039f"
             ],
             [
              0.2222222222222222,
              "#7201a8"
             ],
             [
              0.3333333333333333,
              "#9c179e"
             ],
             [
              0.4444444444444444,
              "#bd3786"
             ],
             [
              0.5555555555555556,
              "#d8576b"
             ],
             [
              0.6666666666666666,
              "#ed7953"
             ],
             [
              0.7777777777777778,
              "#fb9f3a"
             ],
             [
              0.8888888888888888,
              "#fdca26"
             ],
             [
              1,
              "#f0f921"
             ]
            ],
            "type": "histogram2dcontour"
           }
          ],
          "mesh3d": [
           {
            "colorbar": {
             "outlinewidth": 0,
             "ticks": ""
            },
            "type": "mesh3d"
           }
          ],
          "parcoords": [
           {
            "line": {
             "colorbar": {
              "outlinewidth": 0,
              "ticks": ""
             }
            },
            "type": "parcoords"
           }
          ],
          "pie": [
           {
            "automargin": true,
            "type": "pie"
           }
          ],
          "scatter": [
           {
            "fillpattern": {
             "fillmode": "overlay",
             "size": 10,
             "solidity": 0.2
            },
            "type": "scatter"
           }
          ],
          "scatter3d": [
           {
            "line": {
             "colorbar": {
              "outlinewidth": 0,
              "ticks": ""
             }
            },
            "marker": {
             "colorbar": {
              "outlinewidth": 0,
              "ticks": ""
             }
            },
            "type": "scatter3d"
           }
          ],
          "scattercarpet": [
           {
            "marker": {
             "colorbar": {
              "outlinewidth": 0,
              "ticks": ""
             }
            },
            "type": "scattercarpet"
           }
          ],
          "scattergeo": [
           {
            "marker": {
             "colorbar": {
              "outlinewidth": 0,
              "ticks": ""
             }
            },
            "type": "scattergeo"
           }
          ],
          "scattergl": [
           {
            "marker": {
             "colorbar": {
              "outlinewidth": 0,
              "ticks": ""
             }
            },
            "type": "scattergl"
           }
          ],
          "scattermap": [
           {
            "marker": {
             "colorbar": {
              "outlinewidth": 0,
              "ticks": ""
             }
            },
            "type": "scattermap"
           }
          ],
          "scattermapbox": [
           {
            "marker": {
             "colorbar": {
              "outlinewidth": 0,
              "ticks": ""
             }
            },
            "type": "scattermapbox"
           }
          ],
          "scatterpolar": [
           {
            "marker": {
             "colorbar": {
              "outlinewidth": 0,
              "ticks": ""
             }
            },
            "type": "scatterpolar"
           }
          ],
          "scatterpolargl": [
           {
            "marker": {
             "colorbar": {
              "outlinewidth": 0,
              "ticks": ""
             }
            },
            "type": "scatterpolargl"
           }
          ],
          "scatterternary": [
           {
            "marker": {
             "colorbar": {
              "outlinewidth": 0,
              "ticks": ""
             }
            },
            "type": "scatterternary"
           }
          ],
          "surface": [
           {
            "colorbar": {
             "outlinewidth": 0,
             "ticks": ""
            },
            "colorscale": [
             [
              0,
              "#0d0887"
             ],
             [
              0.1111111111111111,
              "#46039f"
             ],
             [
              0.2222222222222222,
              "#7201a8"
             ],
             [
              0.3333333333333333,
              "#9c179e"
             ],
             [
              0.4444444444444444,
              "#bd3786"
             ],
             [
              0.5555555555555556,
              "#d8576b"
             ],
             [
              0.6666666666666666,
              "#ed7953"
             ],
             [
              0.7777777777777778,
              "#fb9f3a"
             ],
             [
              0.8888888888888888,
              "#fdca26"
             ],
             [
              1,
              "#f0f921"
             ]
            ],
            "type": "surface"
           }
          ],
          "table": [
           {
            "cells": {
             "fill": {
              "color": "#EBF0F8"
             },
             "line": {
              "color": "white"
             }
            },
            "header": {
             "fill": {
              "color": "#C8D4E3"
             },
             "line": {
              "color": "white"
             }
            },
            "type": "table"
           }
          ]
         },
         "layout": {
          "annotationdefaults": {
           "arrowcolor": "#2a3f5f",
           "arrowhead": 0,
           "arrowwidth": 1
          },
          "autotypenumbers": "strict",
          "coloraxis": {
           "colorbar": {
            "outlinewidth": 0,
            "ticks": ""
           }
          },
          "colorscale": {
           "diverging": [
            [
             0,
             "#8e0152"
            ],
            [
             0.1,
             "#c51b7d"
            ],
            [
             0.2,
             "#de77ae"
            ],
            [
             0.3,
             "#f1b6da"
            ],
            [
             0.4,
             "#fde0ef"
            ],
            [
             0.5,
             "#f7f7f7"
            ],
            [
             0.6,
             "#e6f5d0"
            ],
            [
             0.7,
             "#b8e186"
            ],
            [
             0.8,
             "#7fbc41"
            ],
            [
             0.9,
             "#4d9221"
            ],
            [
             1,
             "#276419"
            ]
           ],
           "sequential": [
            [
             0,
             "#0d0887"
            ],
            [
             0.1111111111111111,
             "#46039f"
            ],
            [
             0.2222222222222222,
             "#7201a8"
            ],
            [
             0.3333333333333333,
             "#9c179e"
            ],
            [
             0.4444444444444444,
             "#bd3786"
            ],
            [
             0.5555555555555556,
             "#d8576b"
            ],
            [
             0.6666666666666666,
             "#ed7953"
            ],
            [
             0.7777777777777778,
             "#fb9f3a"
            ],
            [
             0.8888888888888888,
             "#fdca26"
            ],
            [
             1,
             "#f0f921"
            ]
           ],
           "sequentialminus": [
            [
             0,
             "#0d0887"
            ],
            [
             0.1111111111111111,
             "#46039f"
            ],
            [
             0.2222222222222222,
             "#7201a8"
            ],
            [
             0.3333333333333333,
             "#9c179e"
            ],
            [
             0.4444444444444444,
             "#bd3786"
            ],
            [
             0.5555555555555556,
             "#d8576b"
            ],
            [
             0.6666666666666666,
             "#ed7953"
            ],
            [
             0.7777777777777778,
             "#fb9f3a"
            ],
            [
             0.8888888888888888,
             "#fdca26"
            ],
            [
             1,
             "#f0f921"
            ]
           ]
          },
          "colorway": [
           "#636efa",
           "#EF553B",
           "#00cc96",
           "#ab63fa",
           "#FFA15A",
           "#19d3f3",
           "#FF6692",
           "#B6E880",
           "#FF97FF",
           "#FECB52"
          ],
          "font": {
           "color": "#2a3f5f"
          },
          "geo": {
           "bgcolor": "white",
           "lakecolor": "white",
           "landcolor": "white",
           "showlakes": true,
           "showland": true,
           "subunitcolor": "#C8D4E3"
          },
          "hoverlabel": {
           "align": "left"
          },
          "hovermode": "closest",
          "mapbox": {
           "style": "light"
          },
          "paper_bgcolor": "white",
          "plot_bgcolor": "white",
          "polar": {
           "angularaxis": {
            "gridcolor": "#EBF0F8",
            "linecolor": "#EBF0F8",
            "ticks": ""
           },
           "bgcolor": "white",
           "radialaxis": {
            "gridcolor": "#EBF0F8",
            "linecolor": "#EBF0F8",
            "ticks": ""
           }
          },
          "scene": {
           "xaxis": {
            "backgroundcolor": "white",
            "gridcolor": "#DFE8F3",
            "gridwidth": 2,
            "linecolor": "#EBF0F8",
            "showbackground": true,
            "ticks": "",
            "zerolinecolor": "#EBF0F8"
           },
           "yaxis": {
            "backgroundcolor": "white",
            "gridcolor": "#DFE8F3",
            "gridwidth": 2,
            "linecolor": "#EBF0F8",
            "showbackground": true,
            "ticks": "",
            "zerolinecolor": "#EBF0F8"
           },
           "zaxis": {
            "backgroundcolor": "white",
            "gridcolor": "#DFE8F3",
            "gridwidth": 2,
            "linecolor": "#EBF0F8",
            "showbackground": true,
            "ticks": "",
            "zerolinecolor": "#EBF0F8"
           }
          },
          "shapedefaults": {
           "line": {
            "color": "#2a3f5f"
           }
          },
          "ternary": {
           "aaxis": {
            "gridcolor": "#DFE8F3",
            "linecolor": "#A2B1C6",
            "ticks": ""
           },
           "baxis": {
            "gridcolor": "#DFE8F3",
            "linecolor": "#A2B1C6",
            "ticks": ""
           },
           "bgcolor": "white",
           "caxis": {
            "gridcolor": "#DFE8F3",
            "linecolor": "#A2B1C6",
            "ticks": ""
           }
          },
          "title": {
           "x": 0.05
          },
          "xaxis": {
           "automargin": true,
           "gridcolor": "#EBF0F8",
           "linecolor": "#EBF0F8",
           "ticks": "",
           "title": {
            "standoff": 15
           },
           "zerolinecolor": "#EBF0F8",
           "zerolinewidth": 2
          },
          "yaxis": {
           "automargin": true,
           "gridcolor": "#EBF0F8",
           "linecolor": "#EBF0F8",
           "ticks": "",
           "title": {
            "standoff": 15
           },
           "zerolinecolor": "#EBF0F8",
           "zerolinewidth": 2
          }
         }
        },
        "title": {
         "text": "Optimization Cost History"
        },
        "xaxis": {
         "title": {
          "text": "Iteration"
         }
        },
        "yaxis": {
         "title": {
          "text": "Loss (MSE)"
         },
         "type": "log"
        }
       }
      }
     },
     "metadata": {},
     "output_type": "display_data"
    }
   ],
   "source": [
    "# 3. Visualize optimization results\n",
    "print(\"4. Visualizing optimization results...\")\n",
    "plot_domain_widths(initial_widths, optimized_widths, periodic_widths)\n",
    "plot_shw_power_spectrum(initial_widths, optimized_widths, periodic_widths, sim_params, config)\n",
    "plot_cost_history(loss_history)"
   ]
  },
  {
   "cell_type": "code",
   "execution_count": 6,
   "id": "e492365e",
   "metadata": {},
   "outputs": [
    {
     "name": "stdout",
     "output_type": "stream",
     "text": [
      "2. Setting up loss function and L-BFGS optimizer...\n",
      "3. Running JIT-compiled optimization...\n",
      "   - Initial Loss: 8.6648e-09\n"
     ]
    },
    {
     "data": {
      "application/vnd.jupyter.widget-view+json": {
       "model_id": "580774ca19384cd5974ff3ac3f1e15f4",
       "version_major": 2,
       "version_minor": 0
      },
      "text/plain": [
       "Optimizing:   0%|          | 0/100 [00:00<?, ?it/s]"
      ]
     },
     "metadata": {},
     "output_type": "display_data"
    },
    {
     "name": "stdout",
     "output_type": "stream",
     "text": [
      "   - Optimized Loss: 6.8261e-09\n"
     ]
    }
   ],
   "source": [
    "# 追加のoptimization\n",
    "\n",
    "initial_widths = optimized_widths\n",
    "config.max_iters = 100\n",
    "optimized_widths, loss_history = run_optimization(initial_widths, sim_params, config)"
   ]
  }
 ],
 "metadata": {
  "kernelspec": {
   "display_name": "mictlan (3.13.9)",
   "language": "python",
   "name": "python3"
  },
  "language_info": {
   "codemirror_mode": {
    "name": "ipython",
    "version": 3
   },
   "file_extension": ".py",
   "mimetype": "text/x-python",
   "name": "python",
   "nbconvert_exporter": "python",
   "pygments_lexer": "ipython3",
   "version": "3.13.9"
  }
 },
 "nbformat": 4,
 "nbformat_minor": 5
}
