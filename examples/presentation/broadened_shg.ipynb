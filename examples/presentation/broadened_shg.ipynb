{
 "cells": [
  {
   "cell_type": "code",
   "execution_count": 6,
   "id": "dd2b2fb0",
   "metadata": {},
   "outputs": [],
   "source": [
    "import jax\n",
    "\n",
    "jax.config.update(\"jax_platforms\", \"cpu\")"
   ]
  },
  {
   "cell_type": "code",
   "execution_count": null,
   "id": "dac6148d",
   "metadata": {},
   "outputs": [
    {
     "name": "stdout",
     "output_type": "stream",
     "text": [
      "1. Generating initial grating and simulation parameters...\n",
      "   - Base domain width from calculation: 3.6008 μm\n",
      "   - Total number of domains: 555\n"
     ]
    }
   ],
   "source": [
    "from collections.abc import Callable\n",
    "from dataclasses import dataclass\n",
    "\n",
    "import jax.numpy as jnp\n",
    "import optax\n",
    "import plotly.graph_objects as go\n",
    "from jax import Array, jit\n",
    "from jax_tqdm.loop_pbar import loop_tqdm\n",
    "\n",
    "from qpm import cwes, mgoslt\n",
    "\n",
    "NORO_FACTOR = 1.07 / 2.84 * 100\n",
    "KAPPA_FACTOR = 10  # 本来のkappaだと雑な構造の時に効率が桁落ちして勾配消失する\n",
    "\n",
    "\n",
    "# --- Data Structures for Configuration and Parameters ---\n",
    "@dataclass\n",
    "class Config:\n",
    "    \"\"\"Stores all hyperparameters for the optimization and simulation.\"\"\"\n",
    "\n",
    "    design_temp: float = 70.0\n",
    "    max_iters: int = 100\n",
    "    num_domains: int = 555\n",
    "    prng_seed: int = 42\n",
    "    kappa_mag: float = 1.31e-5 / (2 / jnp.pi) * KAPPA_FACTOR\n",
    "    # Full spectrum calculation range\n",
    "    wl_start: float = 1.025\n",
    "    wl_end: float = 1.035\n",
    "    num_wl_points: int = 500\n",
    "    # Target flat-top region for the loss function\n",
    "    flat_top_wl_start: float = 1.031 - 0.001\n",
    "    flat_top_wl_end: float = 1.031 + 0.001\n",
    "    target_power: float = 0.00018 * NORO_FACTOR * KAPPA_FACTOR**2\n",
    "\n",
    "\n",
    "@dataclass(frozen=True)\n",
    "class SimulationParameters:\n",
    "    \"\"\"Stores fixed parameters required for the simulation physics.\"\"\"\n",
    "\n",
    "    kappa_array: Array\n",
    "    b_initial: Array\n",
    "    wls: Array\n",
    "    delta_k1s: Array\n",
    "    delta_k2s: Array\n",
    "    flat_top_indices: tuple[Array, ...]\n",
    "\n",
    "\n",
    "# --- Core JAX Functions ---\n",
    "def make_broadening_loss_fn(sim_params: SimulationParameters, config: Config) -> Callable[[Array], Array]:\n",
    "    \"\"\"\n",
    "    Creates a loss function that calculates the MSE between the simulated power\n",
    "    in a specified spectral region and a target power.\n",
    "    \"\"\"\n",
    "    compute_spectrum_vmap = jit(jax.vmap(cwes.simulate_twm, in_axes=(None, None, 0, 0, None)))\n",
    "\n",
    "    @jit\n",
    "    def loss_fn(domain_widths: Array) -> Array:\n",
    "        # 1. Simulate the full power spectrum\n",
    "        final_vectors = compute_spectrum_vmap(\n",
    "            domain_widths,\n",
    "            sim_params.kappa_array,\n",
    "            sim_params.delta_k1s,\n",
    "            sim_params.delta_k2s,\n",
    "            sim_params.b_initial,\n",
    "        )\n",
    "        shw_powers = jnp.abs(final_vectors[:, 1]) ** 2\n",
    "\n",
    "        # 2. Slice the spectrum to the target region\n",
    "        flat_top_powers = shw_powers[sim_params.flat_top_indices]\n",
    "\n",
    "        # 3. Calculate and return the Mean Squared Error loss\n",
    "        return jnp.mean(jnp.square(flat_top_powers - config.target_power))\n",
    "\n",
    "    return loss_fn\n",
    "\n",
    "\n",
    "# --- Workflow Functions ---\n",
    "def initialize_simulation(config: Config) -> tuple[Array, SimulationParameters]:\n",
    "    \"\"\"Generates initial domain widths and fixed simulation parameters.\"\"\"\n",
    "    print(\"1. Generating initial grating and simulation parameters...\")\n",
    "\n",
    "    # --- Grating Initialization ---\n",
    "    center_wl = (config.flat_top_wl_start + config.flat_top_wl_end) / 2\n",
    "    delta_k1_center = mgoslt.calc_twm_delta_k(center_wl, center_wl, config.design_temp)\n",
    "\n",
    "    sfg_domain_width = jnp.pi / delta_k1_center\n",
    "    print(f\"   - Base domain width from calculation: {sfg_domain_width:.4f} μm\")\n",
    "    print(f\"   - Total number of domains: {config.num_domains}\")\n",
    "\n",
    "    kappa_array = config.kappa_mag * jnp.power(-1.0, jnp.arange(config.num_domains))\n",
    "\n",
    "    key = jax.random.PRNGKey(config.prng_seed)\n",
    "    noise = jax.random.normal(key, shape=(config.num_domains,)) * (sfg_domain_width * 0.02)\n",
    "    initial_widths = jnp.full(config.num_domains, sfg_domain_width) + noise\n",
    "\n",
    "    # --- Simulation Parameter Preparation ---\n",
    "    wls = jnp.linspace(config.wl_start, config.wl_end, config.num_wl_points)\n",
    "    delta_k1s = mgoslt.calc_twm_delta_k(wls, wls, config.design_temp)\n",
    "    delta_k2s = mgoslt.calc_twm_delta_k(wls, wls / 2, config.design_temp)\n",
    "    flat_top_indices = jnp.where((wls >= config.flat_top_wl_start) & (wls <= config.flat_top_wl_end))\n",
    "    b_initial = jnp.array(\n",
    "        [\n",
    "            1.0,\n",
    "            0.0,\n",
    "            0.0,\n",
    "        ],\n",
    "        dtype=jnp.complex64,\n",
    "    )\n",
    "\n",
    "    sim_params = SimulationParameters(\n",
    "        kappa_array=kappa_array,\n",
    "        b_initial=b_initial,\n",
    "        wls=wls,\n",
    "        delta_k1s=delta_k1s,\n",
    "        delta_k2s=delta_k2s,\n",
    "        flat_top_indices=flat_top_indices,\n",
    "    )\n",
    "    return initial_widths, sim_params\n",
    "\n",
    "\n",
    "def run_optimization(initial_widths: Array, sim_params: SimulationParameters, config: Config) -> tuple[Array, Array]:\n",
    "    \"\"\"Sets up and runs the L-BFGS optimization.\"\"\"\n",
    "    print(\"2. Setting up loss function and L-BFGS optimizer...\")\n",
    "    loss_fn = make_broadening_loss_fn(sim_params, config)\n",
    "    solver = optax.lbfgs()\n",
    "\n",
    "    @jit\n",
    "    def run_full_optimization(initial_params: Array) -> tuple[Array, Array]:\n",
    "        initial_loss_history = jnp.zeros(config.max_iters)\n",
    "\n",
    "        @loop_tqdm(config.max_iters, desc=\"Optimizing\")\n",
    "        def step(i: int, state: tuple[Array, optax.OptState, Array]) -> tuple[optax.Params, optax.OptState, Array]:\n",
    "            params, opt_state, loss_history = state\n",
    "            value, grad = jax.value_and_grad(loss_fn)(params)\n",
    "            updates, opt_state = solver.update(grad, opt_state, params, value=value, grad=grad, value_fn=loss_fn)\n",
    "            params = optax.apply_updates(params, updates)\n",
    "            loss_history = loss_history.at[i].set(value)\n",
    "            return params, opt_state, loss_history\n",
    "\n",
    "        initial_opt_state = solver.init(initial_params)\n",
    "        optimized_params, _, loss_history = jax.lax.fori_loop(\n",
    "            0,\n",
    "            config.max_iters,\n",
    "            step,\n",
    "            (initial_params, initial_opt_state, initial_loss_history),\n",
    "        )\n",
    "        return optimized_params, loss_history\n",
    "\n",
    "    print(\"3. Running JIT-compiled optimization...\")\n",
    "    print(f\"   - Initial Loss: {loss_fn(initial_widths):.4e}\")\n",
    "\n",
    "    optimized_widths, loss_history = run_full_optimization(initial_widths)\n",
    "    optimized_widths.block_until_ready()\n",
    "\n",
    "    print(f\"   - Optimized Loss: {loss_fn(optimized_widths):.4e}\")\n",
    "    return optimized_widths, loss_history\n",
    "\n",
    "\n",
    "# --- Visualization Functions ---\n",
    "def calculate_spectrum(domain_widths: Array, sim_params: SimulationParameters) -> tuple[Array, Array]:\n",
    "    \"\"\"Helper function to compute the SHW power spectrum for a given grating.\"\"\"\n",
    "    compute_spectrum_vmap = jit(jax.vmap(cwes.simulate_twm, in_axes=(None, None, 0, 0, None)))\n",
    "\n",
    "    final_vectors = compute_spectrum_vmap(\n",
    "        domain_widths,\n",
    "        sim_params.kappa_array,\n",
    "        sim_params.delta_k1s,\n",
    "        sim_params.delta_k2s,\n",
    "        sim_params.b_initial,\n",
    "    )\n",
    "    shw_powers = jnp.abs(final_vectors[:, 1]) ** 2 * NORO_FACTOR\n",
    "    return sim_params.wls, shw_powers\n",
    "\n",
    "\n",
    "def plot_domain_widths(initial_widths: Array, optimized_widths: Array, periodic_widths: Array) -> None:\n",
    "    \"\"\"Plots the domain widths before and after optimization.\"\"\"\n",
    "    fig = go.Figure()\n",
    "    initial_length = jnp.sum(initial_widths)\n",
    "    periodic_length = jnp.sum(periodic_widths)\n",
    "    optimized_length = jnp.sum(optimized_widths)\n",
    "    fig.add_trace(go.Scatter(y=initial_widths, mode=\"lines\", name=f\"Initial, L={int(initial_length)} µm\", line={\"dash\": \"dash\"}))\n",
    "    fig.add_trace(go.Scatter(y=periodic_widths, mode=\"lines\", name=f\"Periodic, L={int(periodic_length)} µm\", line={\"dash\": \"dot\"}))\n",
    "    fig.add_trace(go.Scatter(y=optimized_widths, mode=\"lines\", name=f\"Optimized, L={int(optimized_length)} µm\"))\n",
    "    fig.update_layout(\n",
    "        title_text=\"Domain Widths Comparison\",\n",
    "        xaxis_title=\"Domain Index\",\n",
    "        yaxis_title=\"Width (μm)\",\n",
    "        template=\"plotly_white\",\n",
    "    )\n",
    "    fig.show()\n",
    "\n",
    "\n",
    "def plot_shw_power_spectrum(\n",
    "    initial_widths: Array,\n",
    "    optimized_widths: Array,\n",
    "    periodic_widths: Array,\n",
    "    sim_params: SimulationParameters,\n",
    "    config: Config,\n",
    ") -> None:\n",
    "    \"\"\"Plots the SHW power spectrum before and after optimization.\"\"\"\n",
    "    wls, initial_effs = calculate_spectrum(initial_widths, sim_params)\n",
    "    _, optimized_effs = calculate_spectrum(optimized_widths, sim_params)\n",
    "    _, periodic_effs = calculate_spectrum(periodic_widths, sim_params)\n",
    "\n",
    "    fig = go.Figure()\n",
    "    fig.add_trace(go.Scatter(x=wls, y=initial_effs, mode=\"lines\", name=\"Initial\", line={\"dash\": \"dash\"}))\n",
    "    fig.add_trace(go.Scatter(x=wls, y=periodic_effs, mode=\"lines\", name=\"Periodic\", line={\"dash\": \"dot\"}))\n",
    "    fig.add_trace(go.Scatter(x=wls, y=optimized_effs, mode=\"lines\", name=\"Optimized\"))\n",
    "    fig.add_hline(\n",
    "        y=config.target_power,\n",
    "        line_width=2,\n",
    "        line_dash=\"dash\",\n",
    "        line_color=\"green\",\n",
    "        annotation_text=\"Target Power\",\n",
    "    )\n",
    "    fig.add_vrect(\n",
    "        x0=config.flat_top_wl_start,\n",
    "        x1=config.flat_top_wl_end,\n",
    "        fillcolor=\"red\",\n",
    "        opacity=0.1,\n",
    "        line_width=0,\n",
    "        annotation_text=\"Target Region\",\n",
    "        annotation_position=\"top left\",\n",
    "    )\n",
    "    fig.update_layout(\n",
    "        title_text=\"SHG Power Spectrum Comparison\",\n",
    "        xaxis_title=\"Fundamental Wavelength (μm)\",\n",
    "        yaxis_title=\"SHW Power\",\n",
    "        template=\"plotly_white\",\n",
    "    )\n",
    "    fig.show()\n",
    "\n",
    "\n",
    "def plot_cost_history(loss_history: Array) -> None:\n",
    "    \"\"\"Plots the optimization cost history.\"\"\"\n",
    "    fig = go.Figure()\n",
    "    fig.add_trace(go.Scatter(y=loss_history, mode=\"lines\", name=\"Loss\"))\n",
    "    fig.update_layout(\n",
    "        title_text=\"Optimization Cost History\",\n",
    "        xaxis_title=\"Iteration\",\n",
    "        yaxis_title=\"Loss (MSE)\",\n",
    "        yaxis_type=\"log\",\n",
    "        template=\"plotly_white\",\n",
    "    )\n",
    "    fig.show()\n",
    "\n",
    "\n",
    "\"\"\"Main function to run the optimization and visualization.\"\"\"\n",
    "config = Config()\n",
    "initial_widths, sim_params = initialize_simulation(config)"
   ]
  },
  {
   "cell_type": "code",
   "execution_count": null,
   "id": "873ae10b",
   "metadata": {},
   "outputs": [
    {
     "name": "stdout",
     "output_type": "stream",
     "text": [
      "1. Generating initial grating and simulation parameters...\n",
      "   - Base domain width from calculation: 3.6008 μm\n",
      "   - Total number of domains: 555\n",
      "2. Setting up loss function and L-BFGS optimizer...\n",
      "3. Running JIT-compiled optimization...\n",
      "   - Initial Loss: 4.0820e-04\n"
     ]
    },
    {
     "data": {
      "application/vnd.jupyter.widget-view+json": {
       "model_id": "463d765321eb4cabb1da300d5606d4ee",
       "version_major": 2,
       "version_minor": 0
      },
      "text/plain": [
       "Optimizing:   0%|          | 0/100 [00:00<?, ?it/s]"
      ]
     },
     "metadata": {},
     "output_type": "display_data"
    },
    {
     "name": "stdout",
     "output_type": "stream",
     "text": [
      "   - Optimized Loss: 7.1329e-09\n"
     ]
    }
   ],
   "source": [
    "# Create the ideal periodic grating for comparison\n",
    "center_wl = (config.flat_top_wl_start + config.flat_top_wl_end) / 2\n",
    "delta_k1_center = mgoslt.calc_twm_delta_k(center_wl, center_wl, config.design_temp)\n",
    "shg_domain_width = jnp.pi / delta_k1_center\n",
    "periodic_widths = jnp.full(config.num_domains, shg_domain_width)\n",
    "# Run the optimization\n",
    "optimized_widths, loss_history = run_optimization(initial_widths, sim_params, config)"
   ]
  },
  {
   "cell_type": "code",
   "execution_count": 31,
   "id": "b602f87c",
   "metadata": {},
   "outputs": [
    {
     "name": "stdout",
     "output_type": "stream",
     "text": [
      "4. Visualizing optimization results...\n"
     ]
    },
    {
     "data": {
      "application/vnd.plotly.v1+json": {
       "config": {
        "plotlyServerURL": "https://plot.ly"
       },
       "data": [
        {
         "line": {
          "dash": "dash"
         },
         "mode": "lines",
         "name": "Initial, L=1997 µm",
         "type": "scatter",
         "y": {
          "bdata": "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",
          "dtype": "f4"
         }
        },
        {
         "line": {
          "dash": "dot"
         },
         "mode": "lines",
         "name": "Periodic, L=1998 µm",
         "type": "scatter",
         "y": {
          "bdata": "/nNmQP5zZkD+c2ZA/nNmQP5zZkD+c2ZA/nNmQP5zZkD+c2ZA/nNmQP5zZkD+c2ZA/nNmQP5zZkD+c2ZA/nNmQP5zZkD+c2ZA/nNmQP5zZkD+c2ZA/nNmQP5zZkD+c2ZA/nNmQP5zZkD+c2ZA/nNmQP5zZkD+c2ZA/nNmQP5zZkD+c2ZA/nNmQP5zZkD+c2ZA/nNmQP5zZkD+c2ZA/nNmQP5zZkD+c2ZA/nNmQP5zZkD+c2ZA/nNmQP5zZkD+c2ZA/nNmQP5zZkD+c2ZA/nNmQP5zZkD+c2ZA/nNmQP5zZkD+c2ZA/nNmQP5zZkD+c2ZA/nNmQP5zZkD+c2ZA/nNmQP5zZkD+c2ZA/nNmQP5zZkD+c2ZA/nNmQP5zZkD+c2ZA/nNmQP5zZkD+c2ZA/nNmQP5zZkD+c2ZA/nNmQP5zZkD+c2ZA/nNmQP5zZkD+c2ZA/nNmQP5zZkD+c2ZA/nNmQP5zZkD+c2ZA/nNmQP5zZkD+c2ZA/nNmQP5zZkD+c2ZA/nNmQP5zZkD+c2ZA/nNmQP5zZkD+c2ZA/nNmQP5zZkD+c2ZA/nNmQP5zZkD+c2ZA/nNmQP5zZkD+c2ZA/nNmQP5zZkD+c2ZA/nNmQP5zZkD+c2ZA/nNmQP5zZkD+c2ZA/nNmQP5zZkD+c2ZA/nNmQP5zZkD+c2ZA/nNmQP5zZkD+c2ZA/nNmQP5zZkD+c2ZA/nNmQP5zZkD+c2ZA/nNmQP5zZkD+c2ZA/nNmQP5zZkD+c2ZA/nNmQP5zZkD+c2ZA/nNmQP5zZkD+c2ZA/nNmQP5zZkD+c2ZA/nNmQP5zZkD+c2ZA/nNmQP5zZkD+c2ZA/nNmQP5zZkD+c2ZA/nNmQP5zZkD+c2ZA/nNmQP5zZkD+c2ZA/nNmQP5zZkD+c2ZA/nNmQP5zZkD+c2ZA/nNmQP5zZkD+c2ZA/nNmQP5zZkD+c2ZA/nNmQP5zZkD+c2ZA/nNmQP5zZkD+c2ZA/nNmQP5zZkD+c2ZA/nNmQP5zZkD+c2ZA/nNmQP5zZkD+c2ZA/nNmQP5zZkD+c2ZA/nNmQP5zZkD+c2ZA/nNmQP5zZkD+c2ZA/nNmQP5zZkD+c2ZA/nNmQP5zZkD+c2ZA/nNmQP5zZkD+c2ZA/nNmQP5zZkD+c2ZA/nNmQP5zZkD+c2ZA/nNmQP5zZkD+c2ZA/nNmQP5zZkD+c2ZA/nNmQP5zZkD+c2ZA/nNmQP5zZkD+c2ZA/nNmQP5zZkD+c2ZA/nNmQP5zZkD+c2ZA/nNmQP5zZkD+c2ZA/nNmQP5zZkD+c2ZA/nNmQP5zZkD+c2ZA/nNmQP5zZkD+c2ZA/nNmQP5zZkD+c2ZA/nNmQP5zZkD+c2ZA/nNmQP5zZkD+c2ZA/nNmQP5zZkD+c2ZA/nNmQP5zZkD+c2ZA/nNmQP5zZkD+c2ZA/nNmQP5zZkD+c2ZA/nNmQP5zZkD+c2ZA/nNmQP5zZkD+c2ZA/nNmQP5zZkD+c2ZA/nNmQP5zZkD+c2ZA/nNmQP5zZkD+c2ZA/nNmQP5zZkD+c2ZA/nNmQP5zZkD+c2ZA/nNmQP5zZkD+c2ZA/nNmQP5zZkD+c2ZA/nNmQP5zZkD+c2ZA/nNmQP5zZkD+c2ZA/nNmQP5zZkD+c2ZA/nNmQP5zZkD+c2ZA/nNmQP5zZkD+c2ZA/nNmQP5zZkD+c2ZA/nNmQP5zZkD+c2ZA/nNmQP5zZkD+c2ZA/nNmQP5zZkD+c2ZA/nNmQP5zZkD+c2ZA/nNmQP5zZkD+c2ZA/nNmQP5zZkD+c2ZA/nNmQP5zZkD+c2ZA/nNmQP5zZkD+c2ZA/nNmQP5zZkD+c2ZA/nNmQP5zZkD+c2ZA/nNmQP5zZkD+c2ZA/nNmQP5zZkD+c2ZA/nNmQP5zZkD+c2ZA/nNmQP5zZkD+c2ZA/nNmQP5zZkD+c2ZA/nNmQP5zZkD+c2ZA/nNmQP5zZkD+c2ZA/nNmQP5zZkD+c2ZA/nNmQP5zZkD+c2ZA/nNmQP5zZkD+c2ZA/nNmQP5zZkD+c2ZA/nNmQP5zZkD+c2ZA/nNmQP5zZkD+c2ZA/nNmQP5zZkD+c2ZA/nNmQP5zZkD+c2ZA/nNmQP5zZkD+c2ZA/nNmQP5zZkD+c2ZA/nNmQP5zZkD+c2ZA/nNmQP5zZkD+c2ZA/nNmQP5zZkD+c2ZA/nNmQP5zZkD+c2ZA/nNmQP5zZkD+c2ZA/nNmQP5zZkD+c2ZA/nNmQP5zZkD+c2ZA/nNmQP5zZkD+c2ZA/nNmQP5zZkD+c2ZA/nNmQP5zZkD+c2ZA/nNmQP5zZkD+c2ZA/nNmQP5zZkD+c2ZA/nNmQP5zZkD+c2ZA/nNmQP5zZkD+c2ZA/nNmQP5zZkD+c2ZA/nNmQP5zZkD+c2ZA/nNmQP5zZkD+c2ZA/nNmQP5zZkD+c2ZA/nNmQP5zZkD+c2ZA/nNmQP5zZkD+c2ZA/nNmQP5zZkD+c2ZA/nNmQP5zZkD+c2ZA/nNmQP5zZkD+c2ZA/nNmQP5zZkD+c2ZA/nNmQP5zZkD+c2ZA/nNmQP5zZkD+c2ZA/nNmQP5zZkD+c2ZA/nNmQP5zZkD+c2ZA/nNmQP5zZkD+c2ZA/nNmQP5zZkD+c2ZA/nNmQP5zZkD+c2ZA/nNmQP5zZkD+c2ZA/nNmQP5zZkD+c2ZA/nNmQP5zZkD+c2ZA/nNmQP5zZkD+c2ZA/nNmQP5zZkD+c2ZA/nNmQP5zZkD+c2ZA/nNmQP5zZkD+c2ZA/nNmQP5zZkD+c2ZA/nNmQP5zZkD+c2ZA/nNmQP5zZkD+c2ZA/nNmQP5zZkD+c2ZA/nNmQP5zZkD+c2ZA/nNmQP5zZkD+c2ZA/nNmQP5zZkD+c2ZA/nNmQP5zZkD+c2ZA/nNmQP5zZkD+c2ZA/nNmQP5zZkD+c2ZA/nNmQP5zZkD+c2ZA/nNmQP5zZkD+c2ZA/nNmQP5zZkD+c2ZA/nNmQP5zZkD+c2ZA/nNmQP5zZkD+c2ZA/nNmQP5zZkD+c2ZA",
          "dtype": "f4"
         }
        },
        {
         "mode": "lines",
         "name": "Optimized, L=1999 µm",
         "type": "scatter",
         "y": {
          "bdata": "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",
          "dtype": "f4"
         }
        }
       ],
       "layout": {
        "template": {
         "data": {
          "bar": [
           {
            "error_x": {
             "color": "#2a3f5f"
            },
            "error_y": {
             "color": "#2a3f5f"
            },
            "marker": {
             "line": {
              "color": "white",
              "width": 0.5
             },
             "pattern": {
              "fillmode": "overlay",
              "size": 10,
              "solidity": 0.2
             }
            },
            "type": "bar"
           }
          ],
          "barpolar": [
           {
            "marker": {
             "line": {
              "color": "white",
              "width": 0.5
             },
             "pattern": {
              "fillmode": "overlay",
              "size": 10,
              "solidity": 0.2
             }
            },
            "type": "barpolar"
           }
          ],
          "carpet": [
           {
            "aaxis": {
             "endlinecolor": "#2a3f5f",
             "gridcolor": "#C8D4E3",
             "linecolor": "#C8D4E3",
             "minorgridcolor": "#C8D4E3",
             "startlinecolor": "#2a3f5f"
            },
            "baxis": {
             "endlinecolor": "#2a3f5f",
             "gridcolor": "#C8D4E3",
             "linecolor": "#C8D4E3",
             "minorgridcolor": "#C8D4E3",
             "startlinecolor": "#2a3f5f"
            },
            "type": "carpet"
           }
          ],
          "choropleth": [
           {
            "colorbar": {
             "outlinewidth": 0,
             "ticks": ""
            },
            "type": "choropleth"
           }
          ],
          "contour": [
           {
            "colorbar": {
             "outlinewidth": 0,
             "ticks": ""
            },
            "colorscale": [
             [
              0,
              "#0d0887"
             ],
             [
              0.1111111111111111,
              "#46039f"
             ],
             [
              0.2222222222222222,
              "#7201a8"
             ],
             [
              0.3333333333333333,
              "#9c179e"
             ],
             [
              0.4444444444444444,
              "#bd3786"
             ],
             [
              0.5555555555555556,
              "#d8576b"
             ],
             [
              0.6666666666666666,
              "#ed7953"
             ],
             [
              0.7777777777777778,
              "#fb9f3a"
             ],
             [
              0.8888888888888888,
              "#fdca26"
             ],
             [
              1,
              "#f0f921"
             ]
            ],
            "type": "contour"
           }
          ],
          "contourcarpet": [
           {
            "colorbar": {
             "outlinewidth": 0,
             "ticks": ""
            },
            "type": "contourcarpet"
           }
          ],
          "heatmap": [
           {
            "colorbar": {
             "outlinewidth": 0,
             "ticks": ""
            },
            "colorscale": [
             [
              0,
              "#0d0887"
             ],
             [
              0.1111111111111111,
              "#46039f"
             ],
             [
              0.2222222222222222,
              "#7201a8"
             ],
             [
              0.3333333333333333,
              "#9c179e"
             ],
             [
              0.4444444444444444,
              "#bd3786"
             ],
             [
              0.5555555555555556,
              "#d8576b"
             ],
             [
              0.6666666666666666,
              "#ed7953"
             ],
             [
              0.7777777777777778,
              "#fb9f3a"
             ],
             [
              0.8888888888888888,
              "#fdca26"
             ],
             [
              1,
              "#f0f921"
             ]
            ],
            "type": "heatmap"
           }
          ],
          "histogram": [
           {
            "marker": {
             "pattern": {
              "fillmode": "overlay",
              "size": 10,
              "solidity": 0.2
             }
            },
            "type": "histogram"
           }
          ],
          "histogram2d": [
           {
            "colorbar": {
             "outlinewidth": 0,
             "ticks": ""
            },
            "colorscale": [
             [
              0,
              "#0d0887"
             ],
             [
              0.1111111111111111,
              "#46039f"
             ],
             [
              0.2222222222222222,
              "#7201a8"
             ],
             [
              0.3333333333333333,
              "#9c179e"
             ],
             [
              0.4444444444444444,
              "#bd3786"
             ],
             [
              0.5555555555555556,
              "#d8576b"
             ],
             [
              0.6666666666666666,
              "#ed7953"
             ],
             [
              0.7777777777777778,
              "#fb9f3a"
             ],
             [
              0.8888888888888888,
              "#fdca26"
             ],
             [
              1,
              "#f0f921"
             ]
            ],
            "type": "histogram2d"
           }
          ],
          "histogram2dcontour": [
           {
            "colorbar": {
             "outlinewidth": 0,
             "ticks": ""
            },
            "colorscale": [
             [
              0,
              "#0d0887"
             ],
             [
              0.1111111111111111,
              "#46039f"
             ],
             [
              0.2222222222222222,
              "#7201a8"
             ],
             [
              0.3333333333333333,
              "#9c179e"
             ],
             [
              0.4444444444444444,
              "#bd3786"
             ],
             [
              0.5555555555555556,
              "#d8576b"
             ],
             [
              0.6666666666666666,
              "#ed7953"
             ],
             [
              0.7777777777777778,
              "#fb9f3a"
             ],
             [
              0.8888888888888888,
              "#fdca26"
             ],
             [
              1,
              "#f0f921"
             ]
            ],
            "type": "histogram2dcontour"
           }
          ],
          "mesh3d": [
           {
            "colorbar": {
             "outlinewidth": 0,
             "ticks": ""
            },
            "type": "mesh3d"
           }
          ],
          "parcoords": [
           {
            "line": {
             "colorbar": {
              "outlinewidth": 0,
              "ticks": ""
             }
            },
            "type": "parcoords"
           }
          ],
          "pie": [
           {
            "automargin": true,
            "type": "pie"
           }
          ],
          "scatter": [
           {
            "fillpattern": {
             "fillmode": "overlay",
             "size": 10,
             "solidity": 0.2
            },
            "type": "scatter"
           }
          ],
          "scatter3d": [
           {
            "line": {
             "colorbar": {
              "outlinewidth": 0,
              "ticks": ""
             }
            },
            "marker": {
             "colorbar": {
              "outlinewidth": 0,
              "ticks": ""
             }
            },
            "type": "scatter3d"
           }
          ],
          "scattercarpet": [
           {
            "marker": {
             "colorbar": {
              "outlinewidth": 0,
              "ticks": ""
             }
            },
            "type": "scattercarpet"
           }
          ],
          "scattergeo": [
           {
            "marker": {
             "colorbar": {
              "outlinewidth": 0,
              "ticks": ""
             }
            },
            "type": "scattergeo"
           }
          ],
          "scattergl": [
           {
            "marker": {
             "colorbar": {
              "outlinewidth": 0,
              "ticks": ""
             }
            },
            "type": "scattergl"
           }
          ],
          "scattermap": [
           {
            "marker": {
             "colorbar": {
              "outlinewidth": 0,
              "ticks": ""
             }
            },
            "type": "scattermap"
           }
          ],
          "scattermapbox": [
           {
            "marker": {
             "colorbar": {
              "outlinewidth": 0,
              "ticks": ""
             }
            },
            "type": "scattermapbox"
           }
          ],
          "scatterpolar": [
           {
            "marker": {
             "colorbar": {
              "outlinewidth": 0,
              "ticks": ""
             }
            },
            "type": "scatterpolar"
           }
          ],
          "scatterpolargl": [
           {
            "marker": {
             "colorbar": {
              "outlinewidth": 0,
              "ticks": ""
             }
            },
            "type": "scatterpolargl"
           }
          ],
          "scatterternary": [
           {
            "marker": {
             "colorbar": {
              "outlinewidth": 0,
              "ticks": ""
             }
            },
            "type": "scatterternary"
           }
          ],
          "surface": [
           {
            "colorbar": {
             "outlinewidth": 0,
             "ticks": ""
            },
            "colorscale": [
             [
              0,
              "#0d0887"
             ],
             [
              0.1111111111111111,
              "#46039f"
             ],
             [
              0.2222222222222222,
              "#7201a8"
             ],
             [
              0.3333333333333333,
              "#9c179e"
             ],
             [
              0.4444444444444444,
              "#bd3786"
             ],
             [
              0.5555555555555556,
              "#d8576b"
             ],
             [
              0.6666666666666666,
              "#ed7953"
             ],
             [
              0.7777777777777778,
              "#fb9f3a"
             ],
             [
              0.8888888888888888,
              "#fdca26"
             ],
             [
              1,
              "#f0f921"
             ]
            ],
            "type": "surface"
           }
          ],
          "table": [
           {
            "cells": {
             "fill": {
              "color": "#EBF0F8"
             },
             "line": {
              "color": "white"
             }
            },
            "header": {
             "fill": {
              "color": "#C8D4E3"
             },
             "line": {
              "color": "white"
             }
            },
            "type": "table"
           }
          ]
         },
         "layout": {
          "annotationdefaults": {
           "arrowcolor": "#2a3f5f",
           "arrowhead": 0,
           "arrowwidth": 1
          },
          "autotypenumbers": "strict",
          "coloraxis": {
           "colorbar": {
            "outlinewidth": 0,
            "ticks": ""
           }
          },
          "colorscale": {
           "diverging": [
            [
             0,
             "#8e0152"
            ],
            [
             0.1,
             "#c51b7d"
            ],
            [
             0.2,
             "#de77ae"
            ],
            [
             0.3,
             "#f1b6da"
            ],
            [
             0.4,
             "#fde0ef"
            ],
            [
             0.5,
             "#f7f7f7"
            ],
            [
             0.6,
             "#e6f5d0"
            ],
            [
             0.7,
             "#b8e186"
            ],
            [
             0.8,
             "#7fbc41"
            ],
            [
             0.9,
             "#4d9221"
            ],
            [
             1,
             "#276419"
            ]
           ],
           "sequential": [
            [
             0,
             "#0d0887"
            ],
            [
             0.1111111111111111,
             "#46039f"
            ],
            [
             0.2222222222222222,
             "#7201a8"
            ],
            [
             0.3333333333333333,
             "#9c179e"
            ],
            [
             0.4444444444444444,
             "#bd3786"
            ],
            [
             0.5555555555555556,
             "#d8576b"
            ],
            [
             0.6666666666666666,
             "#ed7953"
            ],
            [
             0.7777777777777778,
             "#fb9f3a"
            ],
            [
             0.8888888888888888,
             "#fdca26"
            ],
            [
             1,
             "#f0f921"
            ]
           ],
           "sequentialminus": [
            [
             0,
             "#0d0887"
            ],
            [
             0.1111111111111111,
             "#46039f"
            ],
            [
             0.2222222222222222,
             "#7201a8"
            ],
            [
             0.3333333333333333,
             "#9c179e"
            ],
            [
             0.4444444444444444,
             "#bd3786"
            ],
            [
             0.5555555555555556,
             "#d8576b"
            ],
            [
             0.6666666666666666,
             "#ed7953"
            ],
            [
             0.7777777777777778,
             "#fb9f3a"
            ],
            [
             0.8888888888888888,
             "#fdca26"
            ],
            [
             1,
             "#f0f921"
            ]
           ]
          },
          "colorway": [
           "#636efa",
           "#EF553B",
           "#00cc96",
           "#ab63fa",
           "#FFA15A",
           "#19d3f3",
           "#FF6692",
           "#B6E880",
           "#FF97FF",
           "#FECB52"
          ],
          "font": {
           "color": "#2a3f5f"
          },
          "geo": {
           "bgcolor": "white",
           "lakecolor": "white",
           "landcolor": "white",
           "showlakes": true,
           "showland": true,
           "subunitcolor": "#C8D4E3"
          },
          "hoverlabel": {
           "align": "left"
          },
          "hovermode": "closest",
          "mapbox": {
           "style": "light"
          },
          "paper_bgcolor": "white",
          "plot_bgcolor": "white",
          "polar": {
           "angularaxis": {
            "gridcolor": "#EBF0F8",
            "linecolor": "#EBF0F8",
            "ticks": ""
           },
           "bgcolor": "white",
           "radialaxis": {
            "gridcolor": "#EBF0F8",
            "linecolor": "#EBF0F8",
            "ticks": ""
           }
          },
          "scene": {
           "xaxis": {
            "backgroundcolor": "white",
            "gridcolor": "#DFE8F3",
            "gridwidth": 2,
            "linecolor": "#EBF0F8",
            "showbackground": true,
            "ticks": "",
            "zerolinecolor": "#EBF0F8"
           },
           "yaxis": {
            "backgroundcolor": "white",
            "gridcolor": "#DFE8F3",
            "gridwidth": 2,
            "linecolor": "#EBF0F8",
            "showbackground": true,
            "ticks": "",
            "zerolinecolor": "#EBF0F8"
           },
           "zaxis": {
            "backgroundcolor": "white",
            "gridcolor": "#DFE8F3",
            "gridwidth": 2,
            "linecolor": "#EBF0F8",
            "showbackground": true,
            "ticks": "",
            "zerolinecolor": "#EBF0F8"
           }
          },
          "shapedefaults": {
           "line": {
            "color": "#2a3f5f"
           }
          },
          "ternary": {
           "aaxis": {
            "gridcolor": "#DFE8F3",
            "linecolor": "#A2B1C6",
            "ticks": ""
           },
           "baxis": {
            "gridcolor": "#DFE8F3",
            "linecolor": "#A2B1C6",
            "ticks": ""
           },
           "bgcolor": "white",
           "caxis": {
            "gridcolor": "#DFE8F3",
            "linecolor": "#A2B1C6",
            "ticks": ""
           }
          },
          "title": {
           "x": 0.05
          },
          "xaxis": {
           "automargin": true,
           "gridcolor": "#EBF0F8",
           "linecolor": "#EBF0F8",
           "ticks": "",
           "title": {
            "standoff": 15
           },
           "zerolinecolor": "#EBF0F8",
           "zerolinewidth": 2
          },
          "yaxis": {
           "automargin": true,
           "gridcolor": "#EBF0F8",
           "linecolor": "#EBF0F8",
           "ticks": "",
           "title": {
            "standoff": 15
           },
           "zerolinecolor": "#EBF0F8",
           "zerolinewidth": 2
          }
         }
        },
        "title": {
         "text": "Domain Widths Comparison"
        },
        "xaxis": {
         "title": {
          "text": "Domain Index"
         }
        },
        "yaxis": {
         "title": {
          "text": "Width (μm)"
         }
        }
       }
      }
     },
     "metadata": {},
     "output_type": "display_data"
    },
    {
     "data": {
      "application/vnd.plotly.v1+json": {
       "config": {
        "plotlyServerURL": "https://plot.ly"
       },
       "data": [
        {
         "line": {
          "dash": "dash"
         },
         "mode": "lines",
         "name": "Initial",
         "type": "scatter",
         "x": {
          "bdata": "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",
          "dtype": "f4"
         },
         "y": {
          "bdata": "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",
          "dtype": "f4"
         }
        },
        {
         "line": {
          "dash": "dot"
         },
         "mode": "lines",
         "name": "Periodic",
         "type": "scatter",
         "x": {
          "bdata": "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",
          "dtype": "f4"
         },
         "y": {
          "bdata": "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",
          "dtype": "f4"
         }
        },
        {
         "mode": "lines",
         "name": "Optimized",
         "type": "scatter",
         "x": {
          "bdata": "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",
          "dtype": "f4"
         },
         "y": {
          "bdata": "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",
          "dtype": "f4"
         }
        }
       ],
       "layout": {
        "annotations": [
         {
          "showarrow": false,
          "text": "Target Power",
          "x": 1,
          "xanchor": "right",
          "xref": "x domain",
          "y": 0.006781690140845072,
          "yanchor": "bottom",
          "yref": "y"
         },
         {
          "showarrow": false,
          "text": "Target Region",
          "x": 1.03,
          "xanchor": "left",
          "xref": "x",
          "y": 1,
          "yanchor": "top",
          "yref": "y domain"
         }
        ],
        "shapes": [
         {
          "line": {
           "color": "green",
           "dash": "dash",
           "width": 2
          },
          "type": "line",
          "x0": 0,
          "x1": 1,
          "xref": "x domain",
          "y0": 0.006781690140845072,
          "y1": 0.006781690140845072,
          "yref": "y"
         },
         {
          "fillcolor": "red",
          "line": {
           "width": 0
          },
          "opacity": 0.1,
          "type": "rect",
          "x0": 1.03,
          "x1": 1.0319999999999998,
          "xref": "x",
          "y0": 0,
          "y1": 1,
          "yref": "y domain"
         }
        ],
        "template": {
         "data": {
          "bar": [
           {
            "error_x": {
             "color": "#2a3f5f"
            },
            "error_y": {
             "color": "#2a3f5f"
            },
            "marker": {
             "line": {
              "color": "white",
              "width": 0.5
             },
             "pattern": {
              "fillmode": "overlay",
              "size": 10,
              "solidity": 0.2
             }
            },
            "type": "bar"
           }
          ],
          "barpolar": [
           {
            "marker": {
             "line": {
              "color": "white",
              "width": 0.5
             },
             "pattern": {
              "fillmode": "overlay",
              "size": 10,
              "solidity": 0.2
             }
            },
            "type": "barpolar"
           }
          ],
          "carpet": [
           {
            "aaxis": {
             "endlinecolor": "#2a3f5f",
             "gridcolor": "#C8D4E3",
             "linecolor": "#C8D4E3",
             "minorgridcolor": "#C8D4E3",
             "startlinecolor": "#2a3f5f"
            },
            "baxis": {
             "endlinecolor": "#2a3f5f",
             "gridcolor": "#C8D4E3",
             "linecolor": "#C8D4E3",
             "minorgridcolor": "#C8D4E3",
             "startlinecolor": "#2a3f5f"
            },
            "type": "carpet"
           }
          ],
          "choropleth": [
           {
            "colorbar": {
             "outlinewidth": 0,
             "ticks": ""
            },
            "type": "choropleth"
           }
          ],
          "contour": [
           {
            "colorbar": {
             "outlinewidth": 0,
             "ticks": ""
            },
            "colorscale": [
             [
              0,
              "#0d0887"
             ],
             [
              0.1111111111111111,
              "#46039f"
             ],
             [
              0.2222222222222222,
              "#7201a8"
             ],
             [
              0.3333333333333333,
              "#9c179e"
             ],
             [
              0.4444444444444444,
              "#bd3786"
             ],
             [
              0.5555555555555556,
              "#d8576b"
             ],
             [
              0.6666666666666666,
              "#ed7953"
             ],
             [
              0.7777777777777778,
              "#fb9f3a"
             ],
             [
              0.8888888888888888,
              "#fdca26"
             ],
             [
              1,
              "#f0f921"
             ]
            ],
            "type": "contour"
           }
          ],
          "contourcarpet": [
           {
            "colorbar": {
             "outlinewidth": 0,
             "ticks": ""
            },
            "type": "contourcarpet"
           }
          ],
          "heatmap": [
           {
            "colorbar": {
             "outlinewidth": 0,
             "ticks": ""
            },
            "colorscale": [
             [
              0,
              "#0d0887"
             ],
             [
              0.1111111111111111,
              "#46039f"
             ],
             [
              0.2222222222222222,
              "#7201a8"
             ],
             [
              0.3333333333333333,
              "#9c179e"
             ],
             [
              0.4444444444444444,
              "#bd3786"
             ],
             [
              0.5555555555555556,
              "#d8576b"
             ],
             [
              0.6666666666666666,
              "#ed7953"
             ],
             [
              0.7777777777777778,
              "#fb9f3a"
             ],
             [
              0.8888888888888888,
              "#fdca26"
             ],
             [
              1,
              "#f0f921"
             ]
            ],
            "type": "heatmap"
           }
          ],
          "histogram": [
           {
            "marker": {
             "pattern": {
              "fillmode": "overlay",
              "size": 10,
              "solidity": 0.2
             }
            },
            "type": "histogram"
           }
          ],
          "histogram2d": [
           {
            "colorbar": {
             "outlinewidth": 0,
             "ticks": ""
            },
            "colorscale": [
             [
              0,
              "#0d0887"
             ],
             [
              0.1111111111111111,
              "#46039f"
             ],
             [
              0.2222222222222222,
              "#7201a8"
             ],
             [
              0.3333333333333333,
              "#9c179e"
             ],
             [
              0.4444444444444444,
              "#bd3786"
             ],
             [
              0.5555555555555556,
              "#d8576b"
             ],
             [
              0.6666666666666666,
              "#ed7953"
             ],
             [
              0.7777777777777778,
              "#fb9f3a"
             ],
             [
              0.8888888888888888,
              "#fdca26"
             ],
             [
              1,
              "#f0f921"
             ]
            ],
            "type": "histogram2d"
           }
          ],
          "histogram2dcontour": [
           {
            "colorbar": {
             "outlinewidth": 0,
             "ticks": ""
            },
            "colorscale": [
             [
              0,
              "#0d0887"
             ],
             [
              0.1111111111111111,
              "#46039f"
             ],
             [
              0.2222222222222222,
              "#7201a8"
             ],
             [
              0.3333333333333333,
              "#9c179e"
             ],
             [
              0.4444444444444444,
              "#bd3786"
             ],
             [
              0.5555555555555556,
              "#d8576b"
             ],
             [
              0.6666666666666666,
              "#ed7953"
             ],
             [
              0.7777777777777778,
              "#fb9f3a"
             ],
             [
              0.8888888888888888,
              "#fdca26"
             ],
             [
              1,
              "#f0f921"
             ]
            ],
            "type": "histogram2dcontour"
           }
          ],
          "mesh3d": [
           {
            "colorbar": {
             "outlinewidth": 0,
             "ticks": ""
            },
            "type": "mesh3d"
           }
          ],
          "parcoords": [
           {
            "line": {
             "colorbar": {
              "outlinewidth": 0,
              "ticks": ""
             }
            },
            "type": "parcoords"
           }
          ],
          "pie": [
           {
            "automargin": true,
            "type": "pie"
           }
          ],
          "scatter": [
           {
            "fillpattern": {
             "fillmode": "overlay",
             "size": 10,
             "solidity": 0.2
            },
            "type": "scatter"
           }
          ],
          "scatter3d": [
           {
            "line": {
             "colorbar": {
              "outlinewidth": 0,
              "ticks": ""
             }
            },
            "marker": {
             "colorbar": {
              "outlinewidth": 0,
              "ticks": ""
             }
            },
            "type": "scatter3d"
           }
          ],
          "scattercarpet": [
           {
            "marker": {
             "colorbar": {
              "outlinewidth": 0,
              "ticks": ""
             }
            },
            "type": "scattercarpet"
           }
          ],
          "scattergeo": [
           {
            "marker": {
             "colorbar": {
              "outlinewidth": 0,
              "ticks": ""
             }
            },
            "type": "scattergeo"
           }
          ],
          "scattergl": [
           {
            "marker": {
             "colorbar": {
              "outlinewidth": 0,
              "ticks": ""
             }
            },
            "type": "scattergl"
           }
          ],
          "scattermap": [
           {
            "marker": {
             "colorbar": {
              "outlinewidth": 0,
              "ticks": ""
             }
            },
            "type": "scattermap"
           }
          ],
          "scattermapbox": [
           {
            "marker": {
             "colorbar": {
              "outlinewidth": 0,
              "ticks": ""
             }
            },
            "type": "scattermapbox"
           }
          ],
          "scatterpolar": [
           {
            "marker": {
             "colorbar": {
              "outlinewidth": 0,
              "ticks": ""
             }
            },
            "type": "scatterpolar"
           }
          ],
          "scatterpolargl": [
           {
            "marker": {
             "colorbar": {
              "outlinewidth": 0,
              "ticks": ""
             }
            },
            "type": "scatterpolargl"
           }
          ],
          "scatterternary": [
           {
            "marker": {
             "colorbar": {
              "outlinewidth": 0,
              "ticks": ""
             }
            },
            "type": "scatterternary"
           }
          ],
          "surface": [
           {
            "colorbar": {
             "outlinewidth": 0,
             "ticks": ""
            },
            "colorscale": [
             [
              0,
              "#0d0887"
             ],
             [
              0.1111111111111111,
              "#46039f"
             ],
             [
              0.2222222222222222,
              "#7201a8"
             ],
             [
              0.3333333333333333,
              "#9c179e"
             ],
             [
              0.4444444444444444,
              "#bd3786"
             ],
             [
              0.5555555555555556,
              "#d8576b"
             ],
             [
              0.6666666666666666,
              "#ed7953"
             ],
             [
              0.7777777777777778,
              "#fb9f3a"
             ],
             [
              0.8888888888888888,
              "#fdca26"
             ],
             [
              1,
              "#f0f921"
             ]
            ],
            "type": "surface"
           }
          ],
          "table": [
           {
            "cells": {
             "fill": {
              "color": "#EBF0F8"
             },
             "line": {
              "color": "white"
             }
            },
            "header": {
             "fill": {
              "color": "#C8D4E3"
             },
             "line": {
              "color": "white"
             }
            },
            "type": "table"
           }
          ]
         },
         "layout": {
          "annotationdefaults": {
           "arrowcolor": "#2a3f5f",
           "arrowhead": 0,
           "arrowwidth": 1
          },
          "autotypenumbers": "strict",
          "coloraxis": {
           "colorbar": {
            "outlinewidth": 0,
            "ticks": ""
           }
          },
          "colorscale": {
           "diverging": [
            [
             0,
             "#8e0152"
            ],
            [
             0.1,
             "#c51b7d"
            ],
            [
             0.2,
             "#de77ae"
            ],
            [
             0.3,
             "#f1b6da"
            ],
            [
             0.4,
             "#fde0ef"
            ],
            [
             0.5,
             "#f7f7f7"
            ],
            [
             0.6,
             "#e6f5d0"
            ],
            [
             0.7,
             "#b8e186"
            ],
            [
             0.8,
             "#7fbc41"
            ],
            [
             0.9,
             "#4d9221"
            ],
            [
             1,
             "#276419"
            ]
           ],
           "sequential": [
            [
             0,
             "#0d0887"
            ],
            [
             0.1111111111111111,
             "#46039f"
            ],
            [
             0.2222222222222222,
             "#7201a8"
            ],
            [
             0.3333333333333333,
             "#9c179e"
            ],
            [
             0.4444444444444444,
             "#bd3786"
            ],
            [
             0.5555555555555556,
             "#d8576b"
            ],
            [
             0.6666666666666666,
             "#ed7953"
            ],
            [
             0.7777777777777778,
             "#fb9f3a"
            ],
            [
             0.8888888888888888,
             "#fdca26"
            ],
            [
             1,
             "#f0f921"
            ]
           ],
           "sequentialminus": [
            [
             0,
             "#0d0887"
            ],
            [
             0.1111111111111111,
             "#46039f"
            ],
            [
             0.2222222222222222,
             "#7201a8"
            ],
            [
             0.3333333333333333,
             "#9c179e"
            ],
            [
             0.4444444444444444,
             "#bd3786"
            ],
            [
             0.5555555555555556,
             "#d8576b"
            ],
            [
             0.6666666666666666,
             "#ed7953"
            ],
            [
             0.7777777777777778,
             "#fb9f3a"
            ],
            [
             0.8888888888888888,
             "#fdca26"
            ],
            [
             1,
             "#f0f921"
            ]
           ]
          },
          "colorway": [
           "#636efa",
           "#EF553B",
           "#00cc96",
           "#ab63fa",
           "#FFA15A",
           "#19d3f3",
           "#FF6692",
           "#B6E880",
           "#FF97FF",
           "#FECB52"
          ],
          "font": {
           "color": "#2a3f5f"
          },
          "geo": {
           "bgcolor": "white",
           "lakecolor": "white",
           "landcolor": "white",
           "showlakes": true,
           "showland": true,
           "subunitcolor": "#C8D4E3"
          },
          "hoverlabel": {
           "align": "left"
          },
          "hovermode": "closest",
          "mapbox": {
           "style": "light"
          },
          "paper_bgcolor": "white",
          "plot_bgcolor": "white",
          "polar": {
           "angularaxis": {
            "gridcolor": "#EBF0F8",
            "linecolor": "#EBF0F8",
            "ticks": ""
           },
           "bgcolor": "white",
           "radialaxis": {
            "gridcolor": "#EBF0F8",
            "linecolor": "#EBF0F8",
            "ticks": ""
           }
          },
          "scene": {
           "xaxis": {
            "backgroundcolor": "white",
            "gridcolor": "#DFE8F3",
            "gridwidth": 2,
            "linecolor": "#EBF0F8",
            "showbackground": true,
            "ticks": "",
            "zerolinecolor": "#EBF0F8"
           },
           "yaxis": {
            "backgroundcolor": "white",
            "gridcolor": "#DFE8F3",
            "gridwidth": 2,
            "linecolor": "#EBF0F8",
            "showbackground": true,
            "ticks": "",
            "zerolinecolor": "#EBF0F8"
           },
           "zaxis": {
            "backgroundcolor": "white",
            "gridcolor": "#DFE8F3",
            "gridwidth": 2,
            "linecolor": "#EBF0F8",
            "showbackground": true,
            "ticks": "",
            "zerolinecolor": "#EBF0F8"
           }
          },
          "shapedefaults": {
           "line": {
            "color": "#2a3f5f"
           }
          },
          "ternary": {
           "aaxis": {
            "gridcolor": "#DFE8F3",
            "linecolor": "#A2B1C6",
            "ticks": ""
           },
           "baxis": {
            "gridcolor": "#DFE8F3",
            "linecolor": "#A2B1C6",
            "ticks": ""
           },
           "bgcolor": "white",
           "caxis": {
            "gridcolor": "#DFE8F3",
            "linecolor": "#A2B1C6",
            "ticks": ""
           }
          },
          "title": {
           "x": 0.05
          },
          "xaxis": {
           "automargin": true,
           "gridcolor": "#EBF0F8",
           "linecolor": "#EBF0F8",
           "ticks": "",
           "title": {
            "standoff": 15
           },
           "zerolinecolor": "#EBF0F8",
           "zerolinewidth": 2
          },
          "yaxis": {
           "automargin": true,
           "gridcolor": "#EBF0F8",
           "linecolor": "#EBF0F8",
           "ticks": "",
           "title": {
            "standoff": 15
           },
           "zerolinecolor": "#EBF0F8",
           "zerolinewidth": 2
          }
         }
        },
        "title": {
         "text": "SHG Power Spectrum Comparison"
        },
        "xaxis": {
         "title": {
          "text": "Fundamental Wavelength (μm)"
         }
        },
        "yaxis": {
         "title": {
          "text": "SHW Power"
         }
        }
       }
      }
     },
     "metadata": {},
     "output_type": "display_data"
    },
    {
     "data": {
      "application/vnd.plotly.v1+json": {
       "config": {
        "plotlyServerURL": "https://plot.ly"
       },
       "data": [
        {
         "mode": "lines",
         "name": "Loss",
         "type": "scatter",
         "y": {
          "bdata": "wAPWObMi+zhYPSY4tySsNzLCmTf50IU3JvFtNxxPRjdupSk3iskYN41yBjet3Lk2NWByNuFbPza63gI22VD/NcKE+jX7UvI1O+bfNTdqwzWJIaw1+2B+NT0IhzTtrgo0JPvMM/nZhTPLzw4z3dObMlmMcjLUcWgyKZhiMsyDXTL4S1Iy3E9AMrh6NzIiRigytIIlMuu3JDL7fiMyJWMgMmnOGjJYWBgy+PEXMvneFzJT3Rcye9cXMjbHFzKbmhcy7TIXMls/FjIr3BQy1DwSMm/MDjJmcg4yM+8NMsV6DTKWuAwybzwMMn9yCzJfMAoyZLwIMnQVBjKNLgUyrxADMhSeAjK2CAIybtYBMkJPATJJxAAykGoAMqHL/zHmPP8xnAX+MXB4/TGc+vwx7Nz8MfPN/DHpv/wxoLD8Mcmu/DFcq/wxo6n8MSGo/DE+p/wxz6H8MYuf/DHjm/wxwoj8Me58/DFVavwxGDj8Me70+zEP5/ox2TD5Mbk09zEekvYxLxj2MRTq9TEztfUxM2D1MQ==",
          "dtype": "f4"
         }
        }
       ],
       "layout": {
        "template": {
         "data": {
          "bar": [
           {
            "error_x": {
             "color": "#2a3f5f"
            },
            "error_y": {
             "color": "#2a3f5f"
            },
            "marker": {
             "line": {
              "color": "white",
              "width": 0.5
             },
             "pattern": {
              "fillmode": "overlay",
              "size": 10,
              "solidity": 0.2
             }
            },
            "type": "bar"
           }
          ],
          "barpolar": [
           {
            "marker": {
             "line": {
              "color": "white",
              "width": 0.5
             },
             "pattern": {
              "fillmode": "overlay",
              "size": 10,
              "solidity": 0.2
             }
            },
            "type": "barpolar"
           }
          ],
          "carpet": [
           {
            "aaxis": {
             "endlinecolor": "#2a3f5f",
             "gridcolor": "#C8D4E3",
             "linecolor": "#C8D4E3",
             "minorgridcolor": "#C8D4E3",
             "startlinecolor": "#2a3f5f"
            },
            "baxis": {
             "endlinecolor": "#2a3f5f",
             "gridcolor": "#C8D4E3",
             "linecolor": "#C8D4E3",
             "minorgridcolor": "#C8D4E3",
             "startlinecolor": "#2a3f5f"
            },
            "type": "carpet"
           }
          ],
          "choropleth": [
           {
            "colorbar": {
             "outlinewidth": 0,
             "ticks": ""
            },
            "type": "choropleth"
           }
          ],
          "contour": [
           {
            "colorbar": {
             "outlinewidth": 0,
             "ticks": ""
            },
            "colorscale": [
             [
              0,
              "#0d0887"
             ],
             [
              0.1111111111111111,
              "#46039f"
             ],
             [
              0.2222222222222222,
              "#7201a8"
             ],
             [
              0.3333333333333333,
              "#9c179e"
             ],
             [
              0.4444444444444444,
              "#bd3786"
             ],
             [
              0.5555555555555556,
              "#d8576b"
             ],
             [
              0.6666666666666666,
              "#ed7953"
             ],
             [
              0.7777777777777778,
              "#fb9f3a"
             ],
             [
              0.8888888888888888,
              "#fdca26"
             ],
             [
              1,
              "#f0f921"
             ]
            ],
            "type": "contour"
           }
          ],
          "contourcarpet": [
           {
            "colorbar": {
             "outlinewidth": 0,
             "ticks": ""
            },
            "type": "contourcarpet"
           }
          ],
          "heatmap": [
           {
            "colorbar": {
             "outlinewidth": 0,
             "ticks": ""
            },
            "colorscale": [
             [
              0,
              "#0d0887"
             ],
             [
              0.1111111111111111,
              "#46039f"
             ],
             [
              0.2222222222222222,
              "#7201a8"
             ],
             [
              0.3333333333333333,
              "#9c179e"
             ],
             [
              0.4444444444444444,
              "#bd3786"
             ],
             [
              0.5555555555555556,
              "#d8576b"
             ],
             [
              0.6666666666666666,
              "#ed7953"
             ],
             [
              0.7777777777777778,
              "#fb9f3a"
             ],
             [
              0.8888888888888888,
              "#fdca26"
             ],
             [
              1,
              "#f0f921"
             ]
            ],
            "type": "heatmap"
           }
          ],
          "histogram": [
           {
            "marker": {
             "pattern": {
              "fillmode": "overlay",
              "size": 10,
              "solidity": 0.2
             }
            },
            "type": "histogram"
           }
          ],
          "histogram2d": [
           {
            "colorbar": {
             "outlinewidth": 0,
             "ticks": ""
            },
            "colorscale": [
             [
              0,
              "#0d0887"
             ],
             [
              0.1111111111111111,
              "#46039f"
             ],
             [
              0.2222222222222222,
              "#7201a8"
             ],
             [
              0.3333333333333333,
              "#9c179e"
             ],
             [
              0.4444444444444444,
              "#bd3786"
             ],
             [
              0.5555555555555556,
              "#d8576b"
             ],
             [
              0.6666666666666666,
              "#ed7953"
             ],
             [
              0.7777777777777778,
              "#fb9f3a"
             ],
             [
              0.8888888888888888,
              "#fdca26"
             ],
             [
              1,
              "#f0f921"
             ]
            ],
            "type": "histogram2d"
           }
          ],
          "histogram2dcontour": [
           {
            "colorbar": {
             "outlinewidth": 0,
             "ticks": ""
            },
            "colorscale": [
             [
              0,
              "#0d0887"
             ],
             [
              0.1111111111111111,
              "#46039f"
             ],
             [
              0.2222222222222222,
              "#7201a8"
             ],
             [
              0.3333333333333333,
              "#9c179e"
             ],
             [
              0.4444444444444444,
              "#bd3786"
             ],
             [
              0.5555555555555556,
              "#d8576b"
             ],
             [
              0.6666666666666666,
              "#ed7953"
             ],
             [
              0.7777777777777778,
              "#fb9f3a"
             ],
             [
              0.8888888888888888,
              "#fdca26"
             ],
             [
              1,
              "#f0f921"
             ]
            ],
            "type": "histogram2dcontour"
           }
          ],
          "mesh3d": [
           {
            "colorbar": {
             "outlinewidth": 0,
             "ticks": ""
            },
            "type": "mesh3d"
           }
          ],
          "parcoords": [
           {
            "line": {
             "colorbar": {
              "outlinewidth": 0,
              "ticks": ""
             }
            },
            "type": "parcoords"
           }
          ],
          "pie": [
           {
            "automargin": true,
            "type": "pie"
           }
          ],
          "scatter": [
           {
            "fillpattern": {
             "fillmode": "overlay",
             "size": 10,
             "solidity": 0.2
            },
            "type": "scatter"
           }
          ],
          "scatter3d": [
           {
            "line": {
             "colorbar": {
              "outlinewidth": 0,
              "ticks": ""
             }
            },
            "marker": {
             "colorbar": {
              "outlinewidth": 0,
              "ticks": ""
             }
            },
            "type": "scatter3d"
           }
          ],
          "scattercarpet": [
           {
            "marker": {
             "colorbar": {
              "outlinewidth": 0,
              "ticks": ""
             }
            },
            "type": "scattercarpet"
           }
          ],
          "scattergeo": [
           {
            "marker": {
             "colorbar": {
              "outlinewidth": 0,
              "ticks": ""
             }
            },
            "type": "scattergeo"
           }
          ],
          "scattergl": [
           {
            "marker": {
             "colorbar": {
              "outlinewidth": 0,
              "ticks": ""
             }
            },
            "type": "scattergl"
           }
          ],
          "scattermap": [
           {
            "marker": {
             "colorbar": {
              "outlinewidth": 0,
              "ticks": ""
             }
            },
            "type": "scattermap"
           }
          ],
          "scattermapbox": [
           {
            "marker": {
             "colorbar": {
              "outlinewidth": 0,
              "ticks": ""
             }
            },
            "type": "scattermapbox"
           }
          ],
          "scatterpolar": [
           {
            "marker": {
             "colorbar": {
              "outlinewidth": 0,
              "ticks": ""
             }
            },
            "type": "scatterpolar"
           }
          ],
          "scatterpolargl": [
           {
            "marker": {
             "colorbar": {
              "outlinewidth": 0,
              "ticks": ""
             }
            },
            "type": "scatterpolargl"
           }
          ],
          "scatterternary": [
           {
            "marker": {
             "colorbar": {
              "outlinewidth": 0,
              "ticks": ""
             }
            },
            "type": "scatterternary"
           }
          ],
          "surface": [
           {
            "colorbar": {
             "outlinewidth": 0,
             "ticks": ""
            },
            "colorscale": [
             [
              0,
              "#0d0887"
             ],
             [
              0.1111111111111111,
              "#46039f"
             ],
             [
              0.2222222222222222,
              "#7201a8"
             ],
             [
              0.3333333333333333,
              "#9c179e"
             ],
             [
              0.4444444444444444,
              "#bd3786"
             ],
             [
              0.5555555555555556,
              "#d8576b"
             ],
             [
              0.6666666666666666,
              "#ed7953"
             ],
             [
              0.7777777777777778,
              "#fb9f3a"
             ],
             [
              0.8888888888888888,
              "#fdca26"
             ],
             [
              1,
              "#f0f921"
             ]
            ],
            "type": "surface"
           }
          ],
          "table": [
           {
            "cells": {
             "fill": {
              "color": "#EBF0F8"
             },
             "line": {
              "color": "white"
             }
            },
            "header": {
             "fill": {
              "color": "#C8D4E3"
             },
             "line": {
              "color": "white"
             }
            },
            "type": "table"
           }
          ]
         },
         "layout": {
          "annotationdefaults": {
           "arrowcolor": "#2a3f5f",
           "arrowhead": 0,
           "arrowwidth": 1
          },
          "autotypenumbers": "strict",
          "coloraxis": {
           "colorbar": {
            "outlinewidth": 0,
            "ticks": ""
           }
          },
          "colorscale": {
           "diverging": [
            [
             0,
             "#8e0152"
            ],
            [
             0.1,
             "#c51b7d"
            ],
            [
             0.2,
             "#de77ae"
            ],
            [
             0.3,
             "#f1b6da"
            ],
            [
             0.4,
             "#fde0ef"
            ],
            [
             0.5,
             "#f7f7f7"
            ],
            [
             0.6,
             "#e6f5d0"
            ],
            [
             0.7,
             "#b8e186"
            ],
            [
             0.8,
             "#7fbc41"
            ],
            [
             0.9,
             "#4d9221"
            ],
            [
             1,
             "#276419"
            ]
           ],
           "sequential": [
            [
             0,
             "#0d0887"
            ],
            [
             0.1111111111111111,
             "#46039f"
            ],
            [
             0.2222222222222222,
             "#7201a8"
            ],
            [
             0.3333333333333333,
             "#9c179e"
            ],
            [
             0.4444444444444444,
             "#bd3786"
            ],
            [
             0.5555555555555556,
             "#d8576b"
            ],
            [
             0.6666666666666666,
             "#ed7953"
            ],
            [
             0.7777777777777778,
             "#fb9f3a"
            ],
            [
             0.8888888888888888,
             "#fdca26"
            ],
            [
             1,
             "#f0f921"
            ]
           ],
           "sequentialminus": [
            [
             0,
             "#0d0887"
            ],
            [
             0.1111111111111111,
             "#46039f"
            ],
            [
             0.2222222222222222,
             "#7201a8"
            ],
            [
             0.3333333333333333,
             "#9c179e"
            ],
            [
             0.4444444444444444,
             "#bd3786"
            ],
            [
             0.5555555555555556,
             "#d8576b"
            ],
            [
             0.6666666666666666,
             "#ed7953"
            ],
            [
             0.7777777777777778,
             "#fb9f3a"
            ],
            [
             0.8888888888888888,
             "#fdca26"
            ],
            [
             1,
             "#f0f921"
            ]
           ]
          },
          "colorway": [
           "#636efa",
           "#EF553B",
           "#00cc96",
           "#ab63fa",
           "#FFA15A",
           "#19d3f3",
           "#FF6692",
           "#B6E880",
           "#FF97FF",
           "#FECB52"
          ],
          "font": {
           "color": "#2a3f5f"
          },
          "geo": {
           "bgcolor": "white",
           "lakecolor": "white",
           "landcolor": "white",
           "showlakes": true,
           "showland": true,
           "subunitcolor": "#C8D4E3"
          },
          "hoverlabel": {
           "align": "left"
          },
          "hovermode": "closest",
          "mapbox": {
           "style": "light"
          },
          "paper_bgcolor": "white",
          "plot_bgcolor": "white",
          "polar": {
           "angularaxis": {
            "gridcolor": "#EBF0F8",
            "linecolor": "#EBF0F8",
            "ticks": ""
           },
           "bgcolor": "white",
           "radialaxis": {
            "gridcolor": "#EBF0F8",
            "linecolor": "#EBF0F8",
            "ticks": ""
           }
          },
          "scene": {
           "xaxis": {
            "backgroundcolor": "white",
            "gridcolor": "#DFE8F3",
            "gridwidth": 2,
            "linecolor": "#EBF0F8",
            "showbackground": true,
            "ticks": "",
            "zerolinecolor": "#EBF0F8"
           },
           "yaxis": {
            "backgroundcolor": "white",
            "gridcolor": "#DFE8F3",
            "gridwidth": 2,
            "linecolor": "#EBF0F8",
            "showbackground": true,
            "ticks": "",
            "zerolinecolor": "#EBF0F8"
           },
           "zaxis": {
            "backgroundcolor": "white",
            "gridcolor": "#DFE8F3",
            "gridwidth": 2,
            "linecolor": "#EBF0F8",
            "showbackground": true,
            "ticks": "",
            "zerolinecolor": "#EBF0F8"
           }
          },
          "shapedefaults": {
           "line": {
            "color": "#2a3f5f"
           }
          },
          "ternary": {
           "aaxis": {
            "gridcolor": "#DFE8F3",
            "linecolor": "#A2B1C6",
            "ticks": ""
           },
           "baxis": {
            "gridcolor": "#DFE8F3",
            "linecolor": "#A2B1C6",
            "ticks": ""
           },
           "bgcolor": "white",
           "caxis": {
            "gridcolor": "#DFE8F3",
            "linecolor": "#A2B1C6",
            "ticks": ""
           }
          },
          "title": {
           "x": 0.05
          },
          "xaxis": {
           "automargin": true,
           "gridcolor": "#EBF0F8",
           "linecolor": "#EBF0F8",
           "ticks": "",
           "title": {
            "standoff": 15
           },
           "zerolinecolor": "#EBF0F8",
           "zerolinewidth": 2
          },
          "yaxis": {
           "automargin": true,
           "gridcolor": "#EBF0F8",
           "linecolor": "#EBF0F8",
           "ticks": "",
           "title": {
            "standoff": 15
           },
           "zerolinecolor": "#EBF0F8",
           "zerolinewidth": 2
          }
         }
        },
        "title": {
         "text": "Optimization Cost History"
        },
        "xaxis": {
         "title": {
          "text": "Iteration"
         }
        },
        "yaxis": {
         "title": {
          "text": "Loss (MSE)"
         },
         "type": "log"
        }
       }
      }
     },
     "metadata": {},
     "output_type": "display_data"
    }
   ],
   "source": [
    "# 3. Visualize optimization results\n",
    "print(\"4. Visualizing optimization results...\")\n",
    "plot_domain_widths(initial_widths, optimized_widths, periodic_widths)\n",
    "plot_shw_power_spectrum(initial_widths, optimized_widths, periodic_widths, sim_params, config)\n",
    "plot_cost_history(loss_history)"
   ]
  },
  {
   "cell_type": "code",
   "execution_count": null,
   "id": "e492365e",
   "metadata": {},
   "outputs": [],
   "source": [
    "# 追加のoptimization\n",
    "\n",
    "initial_widths = optimized_widths\n",
    "config.max_iters = 10\n",
    "# optimized_widths, loss_history = run_optimization(initial_widths, sim_params, config)"
   ]
  }
 ],
 "metadata": {
  "kernelspec": {
   "display_name": "mictlan (3.13.9)",
   "language": "python",
   "name": "python3"
  },
  "language_info": {
   "codemirror_mode": {
    "name": "ipython",
    "version": 3
   },
   "file_extension": ".py",
   "mimetype": "text/x-python",
   "name": "python",
   "nbconvert_exporter": "python",
   "pygments_lexer": "ipython3",
   "version": "3.13.9"
  }
 },
 "nbformat": 4,
 "nbformat_minor": 5
}
