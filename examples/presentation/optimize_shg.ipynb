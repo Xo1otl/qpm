{
 "cells": [
  {
   "cell_type": "code",
   "execution_count": 3,
   "id": "e63c0c93",
   "metadata": {},
   "outputs": [
    {
     "name": "stdout",
     "output_type": "stream",
     "text": [
      "1. Generating initial grating parameters...\n",
      "   - Base domain width from calculation: 3.6008 μm\n",
      "   - Number of domains: 555\n",
      "2. Setting up loss function and L-BFGS optimizer...\n",
      "3. Running JIT-compiled optimization...\n",
      "   - Initial SHW Power: -0.0038\n"
     ]
    },
    {
     "name": "stderr",
     "output_type": "stream",
     "text": [
      "Optimizing: 100%|██████████| 500/500 [00:15<00:00, 32.08it/s]"
     ]
    },
    {
     "name": "stdout",
     "output_type": "stream",
     "text": [
      "   - Optimized SHW Power: 0.0007\n",
      "4. Visualizing optimization results...\n"
     ]
    },
    {
     "name": "stderr",
     "output_type": "stream",
     "text": [
      "\n"
     ]
    },
    {
     "data": {
      "application/vnd.plotly.v1+json": {
       "config": {
        "plotlyServerURL": "https://plot.ly"
       },
       "data": [
        {
         "line": {
          "dash": "dash"
         },
         "mode": "lines",
         "name": "Initial",
         "type": "scatter",
         "y": {
          "bdata": "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",
          "dtype": "f4"
         }
        },
        {
         "mode": "lines",
         "name": "Optimized",
         "type": "scatter",
         "y": {
          "bdata": "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",
          "dtype": "f4"
         }
        }
       ],
       "layout": {
        "template": {
         "data": {
          "bar": [
           {
            "error_x": {
             "color": "#2a3f5f"
            },
            "error_y": {
             "color": "#2a3f5f"
            },
            "marker": {
             "line": {
              "color": "white",
              "width": 0.5
             },
             "pattern": {
              "fillmode": "overlay",
              "size": 10,
              "solidity": 0.2
             }
            },
            "type": "bar"
           }
          ],
          "barpolar": [
           {
            "marker": {
             "line": {
              "color": "white",
              "width": 0.5
             },
             "pattern": {
              "fillmode": "overlay",
              "size": 10,
              "solidity": 0.2
             }
            },
            "type": "barpolar"
           }
          ],
          "carpet": [
           {
            "aaxis": {
             "endlinecolor": "#2a3f5f",
             "gridcolor": "#C8D4E3",
             "linecolor": "#C8D4E3",
             "minorgridcolor": "#C8D4E3",
             "startlinecolor": "#2a3f5f"
            },
            "baxis": {
             "endlinecolor": "#2a3f5f",
             "gridcolor": "#C8D4E3",
             "linecolor": "#C8D4E3",
             "minorgridcolor": "#C8D4E3",
             "startlinecolor": "#2a3f5f"
            },
            "type": "carpet"
           }
          ],
          "choropleth": [
           {
            "colorbar": {
             "outlinewidth": 0,
             "ticks": ""
            },
            "type": "choropleth"
           }
          ],
          "contour": [
           {
            "colorbar": {
             "outlinewidth": 0,
             "ticks": ""
            },
            "colorscale": [
             [
              0,
              "#0d0887"
             ],
             [
              0.1111111111111111,
              "#46039f"
             ],
             [
              0.2222222222222222,
              "#7201a8"
             ],
             [
              0.3333333333333333,
              "#9c179e"
             ],
             [
              0.4444444444444444,
              "#bd3786"
             ],
             [
              0.5555555555555556,
              "#d8576b"
             ],
             [
              0.6666666666666666,
              "#ed7953"
             ],
             [
              0.7777777777777778,
              "#fb9f3a"
             ],
             [
              0.8888888888888888,
              "#fdca26"
             ],
             [
              1,
              "#f0f921"
             ]
            ],
            "type": "contour"
           }
          ],
          "contourcarpet": [
           {
            "colorbar": {
             "outlinewidth": 0,
             "ticks": ""
            },
            "type": "contourcarpet"
           }
          ],
          "heatmap": [
           {
            "colorbar": {
             "outlinewidth": 0,
             "ticks": ""
            },
            "colorscale": [
             [
              0,
              "#0d0887"
             ],
             [
              0.1111111111111111,
              "#46039f"
             ],
             [
              0.2222222222222222,
              "#7201a8"
             ],
             [
              0.3333333333333333,
              "#9c179e"
             ],
             [
              0.4444444444444444,
              "#bd3786"
             ],
             [
              0.5555555555555556,
              "#d8576b"
             ],
             [
              0.6666666666666666,
              "#ed7953"
             ],
             [
              0.7777777777777778,
              "#fb9f3a"
             ],
             [
              0.8888888888888888,
              "#fdca26"
             ],
             [
              1,
              "#f0f921"
             ]
            ],
            "type": "heatmap"
           }
          ],
          "histogram": [
           {
            "marker": {
             "pattern": {
              "fillmode": "overlay",
              "size": 10,
              "solidity": 0.2
             }
            },
            "type": "histogram"
           }
          ],
          "histogram2d": [
           {
            "colorbar": {
             "outlinewidth": 0,
             "ticks": ""
            },
            "colorscale": [
             [
              0,
              "#0d0887"
             ],
             [
              0.1111111111111111,
              "#46039f"
             ],
             [
              0.2222222222222222,
              "#7201a8"
             ],
             [
              0.3333333333333333,
              "#9c179e"
             ],
             [
              0.4444444444444444,
              "#bd3786"
             ],
             [
              0.5555555555555556,
              "#d8576b"
             ],
             [
              0.6666666666666666,
              "#ed7953"
             ],
             [
              0.7777777777777778,
              "#fb9f3a"
             ],
             [
              0.8888888888888888,
              "#fdca26"
             ],
             [
              1,
              "#f0f921"
             ]
            ],
            "type": "histogram2d"
           }
          ],
          "histogram2dcontour": [
           {
            "colorbar": {
             "outlinewidth": 0,
             "ticks": ""
            },
            "colorscale": [
             [
              0,
              "#0d0887"
             ],
             [
              0.1111111111111111,
              "#46039f"
             ],
             [
              0.2222222222222222,
              "#7201a8"
             ],
             [
              0.3333333333333333,
              "#9c179e"
             ],
             [
              0.4444444444444444,
              "#bd3786"
             ],
             [
              0.5555555555555556,
              "#d8576b"
             ],
             [
              0.6666666666666666,
              "#ed7953"
             ],
             [
              0.7777777777777778,
              "#fb9f3a"
             ],
             [
              0.8888888888888888,
              "#fdca26"
             ],
             [
              1,
              "#f0f921"
             ]
            ],
            "type": "histogram2dcontour"
           }
          ],
          "mesh3d": [
           {
            "colorbar": {
             "outlinewidth": 0,
             "ticks": ""
            },
            "type": "mesh3d"
           }
          ],
          "parcoords": [
           {
            "line": {
             "colorbar": {
              "outlinewidth": 0,
              "ticks": ""
             }
            },
            "type": "parcoords"
           }
          ],
          "pie": [
           {
            "automargin": true,
            "type": "pie"
           }
          ],
          "scatter": [
           {
            "fillpattern": {
             "fillmode": "overlay",
             "size": 10,
             "solidity": 0.2
            },
            "type": "scatter"
           }
          ],
          "scatter3d": [
           {
            "line": {
             "colorbar": {
              "outlinewidth": 0,
              "ticks": ""
             }
            },
            "marker": {
             "colorbar": {
              "outlinewidth": 0,
              "ticks": ""
             }
            },
            "type": "scatter3d"
           }
          ],
          "scattercarpet": [
           {
            "marker": {
             "colorbar": {
              "outlinewidth": 0,
              "ticks": ""
             }
            },
            "type": "scattercarpet"
           }
          ],
          "scattergeo": [
           {
            "marker": {
             "colorbar": {
              "outlinewidth": 0,
              "ticks": ""
             }
            },
            "type": "scattergeo"
           }
          ],
          "scattergl": [
           {
            "marker": {
             "colorbar": {
              "outlinewidth": 0,
              "ticks": ""
             }
            },
            "type": "scattergl"
           }
          ],
          "scattermap": [
           {
            "marker": {
             "colorbar": {
              "outlinewidth": 0,
              "ticks": ""
             }
            },
            "type": "scattermap"
           }
          ],
          "scattermapbox": [
           {
            "marker": {
             "colorbar": {
              "outlinewidth": 0,
              "ticks": ""
             }
            },
            "type": "scattermapbox"
           }
          ],
          "scatterpolar": [
           {
            "marker": {
             "colorbar": {
              "outlinewidth": 0,
              "ticks": ""
             }
            },
            "type": "scatterpolar"
           }
          ],
          "scatterpolargl": [
           {
            "marker": {
             "colorbar": {
              "outlinewidth": 0,
              "ticks": ""
             }
            },
            "type": "scatterpolargl"
           }
          ],
          "scatterternary": [
           {
            "marker": {
             "colorbar": {
              "outlinewidth": 0,
              "ticks": ""
             }
            },
            "type": "scatterternary"
           }
          ],
          "surface": [
           {
            "colorbar": {
             "outlinewidth": 0,
             "ticks": ""
            },
            "colorscale": [
             [
              0,
              "#0d0887"
             ],
             [
              0.1111111111111111,
              "#46039f"
             ],
             [
              0.2222222222222222,
              "#7201a8"
             ],
             [
              0.3333333333333333,
              "#9c179e"
             ],
             [
              0.4444444444444444,
              "#bd3786"
             ],
             [
              0.5555555555555556,
              "#d8576b"
             ],
             [
              0.6666666666666666,
              "#ed7953"
             ],
             [
              0.7777777777777778,
              "#fb9f3a"
             ],
             [
              0.8888888888888888,
              "#fdca26"
             ],
             [
              1,
              "#f0f921"
             ]
            ],
            "type": "surface"
           }
          ],
          "table": [
           {
            "cells": {
             "fill": {
              "color": "#EBF0F8"
             },
             "line": {
              "color": "white"
             }
            },
            "header": {
             "fill": {
              "color": "#C8D4E3"
             },
             "line": {
              "color": "white"
             }
            },
            "type": "table"
           }
          ]
         },
         "layout": {
          "annotationdefaults": {
           "arrowcolor": "#2a3f5f",
           "arrowhead": 0,
           "arrowwidth": 1
          },
          "autotypenumbers": "strict",
          "coloraxis": {
           "colorbar": {
            "outlinewidth": 0,
            "ticks": ""
           }
          },
          "colorscale": {
           "diverging": [
            [
             0,
             "#8e0152"
            ],
            [
             0.1,
             "#c51b7d"
            ],
            [
             0.2,
             "#de77ae"
            ],
            [
             0.3,
             "#f1b6da"
            ],
            [
             0.4,
             "#fde0ef"
            ],
            [
             0.5,
             "#f7f7f7"
            ],
            [
             0.6,
             "#e6f5d0"
            ],
            [
             0.7,
             "#b8e186"
            ],
            [
             0.8,
             "#7fbc41"
            ],
            [
             0.9,
             "#4d9221"
            ],
            [
             1,
             "#276419"
            ]
           ],
           "sequential": [
            [
             0,
             "#0d0887"
            ],
            [
             0.1111111111111111,
             "#46039f"
            ],
            [
             0.2222222222222222,
             "#7201a8"
            ],
            [
             0.3333333333333333,
             "#9c179e"
            ],
            [
             0.4444444444444444,
             "#bd3786"
            ],
            [
             0.5555555555555556,
             "#d8576b"
            ],
            [
             0.6666666666666666,
             "#ed7953"
            ],
            [
             0.7777777777777778,
             "#fb9f3a"
            ],
            [
             0.8888888888888888,
             "#fdca26"
            ],
            [
             1,
             "#f0f921"
            ]
           ],
           "sequentialminus": [
            [
             0,
             "#0d0887"
            ],
            [
             0.1111111111111111,
             "#46039f"
            ],
            [
             0.2222222222222222,
             "#7201a8"
            ],
            [
             0.3333333333333333,
             "#9c179e"
            ],
            [
             0.4444444444444444,
             "#bd3786"
            ],
            [
             0.5555555555555556,
             "#d8576b"
            ],
            [
             0.6666666666666666,
             "#ed7953"
            ],
            [
             0.7777777777777778,
             "#fb9f3a"
            ],
            [
             0.8888888888888888,
             "#fdca26"
            ],
            [
             1,
             "#f0f921"
            ]
           ]
          },
          "colorway": [
           "#636efa",
           "#EF553B",
           "#00cc96",
           "#ab63fa",
           "#FFA15A",
           "#19d3f3",
           "#FF6692",
           "#B6E880",
           "#FF97FF",
           "#FECB52"
          ],
          "font": {
           "color": "#2a3f5f"
          },
          "geo": {
           "bgcolor": "white",
           "lakecolor": "white",
           "landcolor": "white",
           "showlakes": true,
           "showland": true,
           "subunitcolor": "#C8D4E3"
          },
          "hoverlabel": {
           "align": "left"
          },
          "hovermode": "closest",
          "mapbox": {
           "style": "light"
          },
          "paper_bgcolor": "white",
          "plot_bgcolor": "white",
          "polar": {
           "angularaxis": {
            "gridcolor": "#EBF0F8",
            "linecolor": "#EBF0F8",
            "ticks": ""
           },
           "bgcolor": "white",
           "radialaxis": {
            "gridcolor": "#EBF0F8",
            "linecolor": "#EBF0F8",
            "ticks": ""
           }
          },
          "scene": {
           "xaxis": {
            "backgroundcolor": "white",
            "gridcolor": "#DFE8F3",
            "gridwidth": 2,
            "linecolor": "#EBF0F8",
            "showbackground": true,
            "ticks": "",
            "zerolinecolor": "#EBF0F8"
           },
           "yaxis": {
            "backgroundcolor": "white",
            "gridcolor": "#DFE8F3",
            "gridwidth": 2,
            "linecolor": "#EBF0F8",
            "showbackground": true,
            "ticks": "",
            "zerolinecolor": "#EBF0F8"
           },
           "zaxis": {
            "backgroundcolor": "white",
            "gridcolor": "#DFE8F3",
            "gridwidth": 2,
            "linecolor": "#EBF0F8",
            "showbackground": true,
            "ticks": "",
            "zerolinecolor": "#EBF0F8"
           }
          },
          "shapedefaults": {
           "line": {
            "color": "#2a3f5f"
           }
          },
          "ternary": {
           "aaxis": {
            "gridcolor": "#DFE8F3",
            "linecolor": "#A2B1C6",
            "ticks": ""
           },
           "baxis": {
            "gridcolor": "#DFE8F3",
            "linecolor": "#A2B1C6",
            "ticks": ""
           },
           "bgcolor": "white",
           "caxis": {
            "gridcolor": "#DFE8F3",
            "linecolor": "#A2B1C6",
            "ticks": ""
           }
          },
          "title": {
           "x": 0.05
          },
          "xaxis": {
           "automargin": true,
           "gridcolor": "#EBF0F8",
           "linecolor": "#EBF0F8",
           "ticks": "",
           "title": {
            "standoff": 15
           },
           "zerolinecolor": "#EBF0F8",
           "zerolinewidth": 2
          },
          "yaxis": {
           "automargin": true,
           "gridcolor": "#EBF0F8",
           "linecolor": "#EBF0F8",
           "ticks": "",
           "title": {
            "standoff": 15
           },
           "zerolinecolor": "#EBF0F8",
           "zerolinewidth": 2
          }
         }
        },
        "title": {
         "text": "Domain Widths Before and After Optimization"
        },
        "xaxis": {
         "title": {
          "text": "Domain Index"
         }
        },
        "yaxis": {
         "title": {
          "text": "Width (μm)"
         }
        }
       }
      }
     },
     "metadata": {},
     "output_type": "display_data"
    },
    {
     "data": {
      "application/vnd.plotly.v1+json": {
       "config": {
        "plotlyServerURL": "https://plot.ly"
       },
       "data": [
        {
         "line": {
          "dash": "dash"
         },
         "mode": "lines",
         "name": "Initial",
         "type": "scatter",
         "x": {
          "bdata": "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",
          "dtype": "f4"
         },
         "y": {
          "bdata": "3U+SOLrXkDhN0I84zzOPOLcQjzidUY840+2POGICkTi6epI4nf2TOHj1lThyTZg4PXSaOFRTnTitCaA4fNOiOJV8pThGTKg4r8GqOM68rTi/JrA4X4+yOMLJtDiTs7Y4irK4OFAVujimZ7s4EHq8OIZMvTgr2r04zza+ONpevjgUUr44kx2+OGfJvTgdcr04kum8OBl6vDiMCrw4zrm7OCKQuzh5lLs4Dd67OEVnvDjlML04q5q+ODtxwDg4ZsI4pRTFOCEbyDig2cs4YG/QOKlj1Tgkn9o4rLzgOBB05zj9VO44WZv2OIz//jhUsAM5TxcIOdw6DTn5SBI5UIEXOTXbHDlRsiE5v4QnOfMTLTm/VjI5GzE4OZ6tPTnaykI5YhlIOb6zTDnzvFE5AdxWOQwFXDllNWA5cjNkOZU3aDkizms5wGVvOZvHcjkGI3Y5u/l4Ocv6ezkpi345nYKAOU3JgTnYC4M5LU+EOaqFhTnX2YY5oj6IObG5iTkYUYs5bgmNOXjNjjlU1pA5wg6TORNYlTm1+Zc5pqqaOVzsnTlcQqE5w6GkOWxuqDlVeKw53ruwOWbztDmcWLk5UnC+OcJqwzl3g8g5tWbNOaM10zklk9c5z8ncOWzu4TlLZ+Y5qtDrOXE38DmUoPQ5nLz4Oc5+/DnSsf858kABOtB0AjpxlgM6AkwEOkTIBDo0/AQ6qukEOjybBDqd9AM63SsDOnrnATrUrAA6HCv+OezO+jlIe/Y5JZHyOd++7jm6Ieo5eAbmOYiV4TnqEN45EnfaORU51zk809Q5a0zTOWGa0jm289I5XmjUOVUZ1znKBdw5f9jhOe7H6TlvFvM5+/f+ObcZBjpiRA06XQIXOriDITq3+i06j5c5OiKUSTrobFg6cYBmOrmeeToFhYY6Jm6ROmQfmzqVNKc6G9exOvTxvjpvWco6FIrXOsEL5ToByvI61vP/OqD+Bju5BA47wgUVO0X0GzveYyI7wVMoO9+CLztcCTU7Kvo6O+bfQDs/gUU7PZBKO0qlTjtURFI7C5JVO64nWDtpSlo7OclbOx6dXDtmw1w7nklcOxEXWztsDFk7GLZWO+X/UjsTpk871ABLO0ljRTtjbD87gqE5O2T/MjuAfSs7BYwjO26uGztcihM7AS0KO7ShATuNC/M6ar7eOgytzTpl6bw6rbirOlJCmzpiwIs62lt8OnY9YjqqQEs66s04OmPXKTpDux46Q4EXOj5OFToT5xc6bDIgOoV5LzqfG0M6QD1eOsMgfjpeGJI6DFSoOnn8xDqnEuI6mz4BO4MyFDsRxSc7iEg+O92WVjvzpXA7ZmaFOzI5kzsUmqI7A9WxO0OrwTshFtM7oRnlOyud9jusywQ8xn8OPGfSFzyEXyI8MFYrPODnNDx2nz88rKJIPPEjUjxFqFw82mRlPDKAbjyW9Hg8Y4uAPKs1hTxFN4k8Cg6NPI7okDwtWJQ8LI+XPOi2mjwPmZ08WQ+gPB5gojzZSKQ85P+lPJVApzyyZ6g8sh+pPG6PqTxkqqk88HipPH77qDylFqg8vSCnPHqBpTwj76M82eGhPJOKnzwYFJ08wWCaPMtGlzzu8ZM8o8uQPFTajDyn7Yg8zU2FPFeQgTxh+nk8BZVxPCuIaDxE2F88mI1WPN+6TTzH1kM8aIY7PGS6Mjzb/Sg8FuYgPL/sGDyPJQ88+wwHPKYTADzFG+4711bfO6pH0Du2cMM7YF62Owc6qTtIypw7lLeRO+FShzvqFno7Sw5oO/SBVTsEL0c7XHI4O43dKzvt5R87fUkVO+H0DDtAVwQ7A/L8OlGI8ToX+uY6yv3eOj4U2TqMZdQ63yvROsZ4zzolcc46l2rOOncWzzrEb9A6hCvSOsdY1DpeutY6My3ZOvYr2zoiSt06kETfOrrf4Dq/9uE6po3iOtSi4jrJF+I6wezgOr873zpRddw6HkPZOoIk1TobSNA6gAfLOqtwxDpdVr46wui2Osrbrzqt9Kc6Ly+fOquWljpqt4w64kCEOh5JdTrLIWM6nilSOudiQDoxCC46lksdOkk/DTrLo/g5FAPeOSzOwznQsKo5f7+WOWNBgzlQ9mU5Oi1MOd9eOTmaKS45GmApOQrEKjmJzDM5A4lBOa8oVjl6iXI5VJ+JOXeFmzloILU5kHTNOan75zkkNwI6+mQQOosjITrtljE6aYdEOgvSVTqnWmg60994OjeshDq/Uo46QUiWOvT9njqj56Y68pitOoWdtTplTrw6pdTCOvm5yDqqsM06GAXSOoWy1Tosidg6UP7aOiao3Do4dt0625vdOj/13Dpgnts6tJfZOi4S1zrfxNM6dZjPOnsMyzqTpMU6Lam/OmCHuTq/lrI6jw6sOoE+pTr5R506mpqUOjWZjTrpEoU6Lep4OgeQaTr1SFk6HzZIOudCOTpzxSg6nZ4ZOiQVCjpi7fc5DfDcOcs+wzkVoak5ITyUOVFWeTnizlQ5yDwxOfI4Dzl9K+U4AbuyOK5biTiof0M4bR8JOGMzpDf8DD03oaqfNhLVkDUsBXcyRlGENbUbhDYm1RY3QguBNxb6wTd9TwY4gqE0OL/mWzgiqIY4rLSeOOSJuDgnc884HnLnOPu7/jhciwo5UbcVOYQSIDmCiCg5WKcwOb09ODm8Zj45K01DOZCJRzk=",
          "dtype": "f4"
         }
        },
        {
         "mode": "lines",
         "name": "Optimized",
         "type": "scatter",
         "x": {
          "bdata": "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",
          "dtype": "f4"
         },
         "y": {
          "bdata": "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",
          "dtype": "f4"
         }
        }
       ],
       "layout": {
        "annotations": [
         {
          "showarrow": false,
          "text": "Design λ 1.031μm",
          "x": 1.031,
          "xanchor": "left",
          "xref": "x",
          "y": 0,
          "yanchor": "bottom",
          "yref": "y domain"
         }
        ],
        "shapes": [
         {
          "line": {
           "color": "red",
           "dash": "dot"
          },
          "type": "line",
          "x0": 1.031,
          "x1": 1.031,
          "xref": "x",
          "y0": 0,
          "y1": 1,
          "yref": "y domain"
         }
        ],
        "template": {
         "data": {
          "bar": [
           {
            "error_x": {
             "color": "#2a3f5f"
            },
            "error_y": {
             "color": "#2a3f5f"
            },
            "marker": {
             "line": {
              "color": "white",
              "width": 0.5
             },
             "pattern": {
              "fillmode": "overlay",
              "size": 10,
              "solidity": 0.2
             }
            },
            "type": "bar"
           }
          ],
          "barpolar": [
           {
            "marker": {
             "line": {
              "color": "white",
              "width": 0.5
             },
             "pattern": {
              "fillmode": "overlay",
              "size": 10,
              "solidity": 0.2
             }
            },
            "type": "barpolar"
           }
          ],
          "carpet": [
           {
            "aaxis": {
             "endlinecolor": "#2a3f5f",
             "gridcolor": "#C8D4E3",
             "linecolor": "#C8D4E3",
             "minorgridcolor": "#C8D4E3",
             "startlinecolor": "#2a3f5f"
            },
            "baxis": {
             "endlinecolor": "#2a3f5f",
             "gridcolor": "#C8D4E3",
             "linecolor": "#C8D4E3",
             "minorgridcolor": "#C8D4E3",
             "startlinecolor": "#2a3f5f"
            },
            "type": "carpet"
           }
          ],
          "choropleth": [
           {
            "colorbar": {
             "outlinewidth": 0,
             "ticks": ""
            },
            "type": "choropleth"
           }
          ],
          "contour": [
           {
            "colorbar": {
             "outlinewidth": 0,
             "ticks": ""
            },
            "colorscale": [
             [
              0,
              "#0d0887"
             ],
             [
              0.1111111111111111,
              "#46039f"
             ],
             [
              0.2222222222222222,
              "#7201a8"
             ],
             [
              0.3333333333333333,
              "#9c179e"
             ],
             [
              0.4444444444444444,
              "#bd3786"
             ],
             [
              0.5555555555555556,
              "#d8576b"
             ],
             [
              0.6666666666666666,
              "#ed7953"
             ],
             [
              0.7777777777777778,
              "#fb9f3a"
             ],
             [
              0.8888888888888888,
              "#fdca26"
             ],
             [
              1,
              "#f0f921"
             ]
            ],
            "type": "contour"
           }
          ],
          "contourcarpet": [
           {
            "colorbar": {
             "outlinewidth": 0,
             "ticks": ""
            },
            "type": "contourcarpet"
           }
          ],
          "heatmap": [
           {
            "colorbar": {
             "outlinewidth": 0,
             "ticks": ""
            },
            "colorscale": [
             [
              0,
              "#0d0887"
             ],
             [
              0.1111111111111111,
              "#46039f"
             ],
             [
              0.2222222222222222,
              "#7201a8"
             ],
             [
              0.3333333333333333,
              "#9c179e"
             ],
             [
              0.4444444444444444,
              "#bd3786"
             ],
             [
              0.5555555555555556,
              "#d8576b"
             ],
             [
              0.6666666666666666,
              "#ed7953"
             ],
             [
              0.7777777777777778,
              "#fb9f3a"
             ],
             [
              0.8888888888888888,
              "#fdca26"
             ],
             [
              1,
              "#f0f921"
             ]
            ],
            "type": "heatmap"
           }
          ],
          "histogram": [
           {
            "marker": {
             "pattern": {
              "fillmode": "overlay",
              "size": 10,
              "solidity": 0.2
             }
            },
            "type": "histogram"
           }
          ],
          "histogram2d": [
           {
            "colorbar": {
             "outlinewidth": 0,
             "ticks": ""
            },
            "colorscale": [
             [
              0,
              "#0d0887"
             ],
             [
              0.1111111111111111,
              "#46039f"
             ],
             [
              0.2222222222222222,
              "#7201a8"
             ],
             [
              0.3333333333333333,
              "#9c179e"
             ],
             [
              0.4444444444444444,
              "#bd3786"
             ],
             [
              0.5555555555555556,
              "#d8576b"
             ],
             [
              0.6666666666666666,
              "#ed7953"
             ],
             [
              0.7777777777777778,
              "#fb9f3a"
             ],
             [
              0.8888888888888888,
              "#fdca26"
             ],
             [
              1,
              "#f0f921"
             ]
            ],
            "type": "histogram2d"
           }
          ],
          "histogram2dcontour": [
           {
            "colorbar": {
             "outlinewidth": 0,
             "ticks": ""
            },
            "colorscale": [
             [
              0,
              "#0d0887"
             ],
             [
              0.1111111111111111,
              "#46039f"
             ],
             [
              0.2222222222222222,
              "#7201a8"
             ],
             [
              0.3333333333333333,
              "#9c179e"
             ],
             [
              0.4444444444444444,
              "#bd3786"
             ],
             [
              0.5555555555555556,
              "#d8576b"
             ],
             [
              0.6666666666666666,
              "#ed7953"
             ],
             [
              0.7777777777777778,
              "#fb9f3a"
             ],
             [
              0.8888888888888888,
              "#fdca26"
             ],
             [
              1,
              "#f0f921"
             ]
            ],
            "type": "histogram2dcontour"
           }
          ],
          "mesh3d": [
           {
            "colorbar": {
             "outlinewidth": 0,
             "ticks": ""
            },
            "type": "mesh3d"
           }
          ],
          "parcoords": [
           {
            "line": {
             "colorbar": {
              "outlinewidth": 0,
              "ticks": ""
             }
            },
            "type": "parcoords"
           }
          ],
          "pie": [
           {
            "automargin": true,
            "type": "pie"
           }
          ],
          "scatter": [
           {
            "fillpattern": {
             "fillmode": "overlay",
             "size": 10,
             "solidity": 0.2
            },
            "type": "scatter"
           }
          ],
          "scatter3d": [
           {
            "line": {
             "colorbar": {
              "outlinewidth": 0,
              "ticks": ""
             }
            },
            "marker": {
             "colorbar": {
              "outlinewidth": 0,
              "ticks": ""
             }
            },
            "type": "scatter3d"
           }
          ],
          "scattercarpet": [
           {
            "marker": {
             "colorbar": {
              "outlinewidth": 0,
              "ticks": ""
             }
            },
            "type": "scattercarpet"
           }
          ],
          "scattergeo": [
           {
            "marker": {
             "colorbar": {
              "outlinewidth": 0,
              "ticks": ""
             }
            },
            "type": "scattergeo"
           }
          ],
          "scattergl": [
           {
            "marker": {
             "colorbar": {
              "outlinewidth": 0,
              "ticks": ""
             }
            },
            "type": "scattergl"
           }
          ],
          "scattermap": [
           {
            "marker": {
             "colorbar": {
              "outlinewidth": 0,
              "ticks": ""
             }
            },
            "type": "scattermap"
           }
          ],
          "scattermapbox": [
           {
            "marker": {
             "colorbar": {
              "outlinewidth": 0,
              "ticks": ""
             }
            },
            "type": "scattermapbox"
           }
          ],
          "scatterpolar": [
           {
            "marker": {
             "colorbar": {
              "outlinewidth": 0,
              "ticks": ""
             }
            },
            "type": "scatterpolar"
           }
          ],
          "scatterpolargl": [
           {
            "marker": {
             "colorbar": {
              "outlinewidth": 0,
              "ticks": ""
             }
            },
            "type": "scatterpolargl"
           }
          ],
          "scatterternary": [
           {
            "marker": {
             "colorbar": {
              "outlinewidth": 0,
              "ticks": ""
             }
            },
            "type": "scatterternary"
           }
          ],
          "surface": [
           {
            "colorbar": {
             "outlinewidth": 0,
             "ticks": ""
            },
            "colorscale": [
             [
              0,
              "#0d0887"
             ],
             [
              0.1111111111111111,
              "#46039f"
             ],
             [
              0.2222222222222222,
              "#7201a8"
             ],
             [
              0.3333333333333333,
              "#9c179e"
             ],
             [
              0.4444444444444444,
              "#bd3786"
             ],
             [
              0.5555555555555556,
              "#d8576b"
             ],
             [
              0.6666666666666666,
              "#ed7953"
             ],
             [
              0.7777777777777778,
              "#fb9f3a"
             ],
             [
              0.8888888888888888,
              "#fdca26"
             ],
             [
              1,
              "#f0f921"
             ]
            ],
            "type": "surface"
           }
          ],
          "table": [
           {
            "cells": {
             "fill": {
              "color": "#EBF0F8"
             },
             "line": {
              "color": "white"
             }
            },
            "header": {
             "fill": {
              "color": "#C8D4E3"
             },
             "line": {
              "color": "white"
             }
            },
            "type": "table"
           }
          ]
         },
         "layout": {
          "annotationdefaults": {
           "arrowcolor": "#2a3f5f",
           "arrowhead": 0,
           "arrowwidth": 1
          },
          "autotypenumbers": "strict",
          "coloraxis": {
           "colorbar": {
            "outlinewidth": 0,
            "ticks": ""
           }
          },
          "colorscale": {
           "diverging": [
            [
             0,
             "#8e0152"
            ],
            [
             0.1,
             "#c51b7d"
            ],
            [
             0.2,
             "#de77ae"
            ],
            [
             0.3,
             "#f1b6da"
            ],
            [
             0.4,
             "#fde0ef"
            ],
            [
             0.5,
             "#f7f7f7"
            ],
            [
             0.6,
             "#e6f5d0"
            ],
            [
             0.7,
             "#b8e186"
            ],
            [
             0.8,
             "#7fbc41"
            ],
            [
             0.9,
             "#4d9221"
            ],
            [
             1,
             "#276419"
            ]
           ],
           "sequential": [
            [
             0,
             "#0d0887"
            ],
            [
             0.1111111111111111,
             "#46039f"
            ],
            [
             0.2222222222222222,
             "#7201a8"
            ],
            [
             0.3333333333333333,
             "#9c179e"
            ],
            [
             0.4444444444444444,
             "#bd3786"
            ],
            [
             0.5555555555555556,
             "#d8576b"
            ],
            [
             0.6666666666666666,
             "#ed7953"
            ],
            [
             0.7777777777777778,
             "#fb9f3a"
            ],
            [
             0.8888888888888888,
             "#fdca26"
            ],
            [
             1,
             "#f0f921"
            ]
           ],
           "sequentialminus": [
            [
             0,
             "#0d0887"
            ],
            [
             0.1111111111111111,
             "#46039f"
            ],
            [
             0.2222222222222222,
             "#7201a8"
            ],
            [
             0.3333333333333333,
             "#9c179e"
            ],
            [
             0.4444444444444444,
             "#bd3786"
            ],
            [
             0.5555555555555556,
             "#d8576b"
            ],
            [
             0.6666666666666666,
             "#ed7953"
            ],
            [
             0.7777777777777778,
             "#fb9f3a"
            ],
            [
             0.8888888888888888,
             "#fdca26"
            ],
            [
             1,
             "#f0f921"
            ]
           ]
          },
          "colorway": [
           "#636efa",
           "#EF553B",
           "#00cc96",
           "#ab63fa",
           "#FFA15A",
           "#19d3f3",
           "#FF6692",
           "#B6E880",
           "#FF97FF",
           "#FECB52"
          ],
          "font": {
           "color": "#2a3f5f"
          },
          "geo": {
           "bgcolor": "white",
           "lakecolor": "white",
           "landcolor": "white",
           "showlakes": true,
           "showland": true,
           "subunitcolor": "#C8D4E3"
          },
          "hoverlabel": {
           "align": "left"
          },
          "hovermode": "closest",
          "mapbox": {
           "style": "light"
          },
          "paper_bgcolor": "white",
          "plot_bgcolor": "white",
          "polar": {
           "angularaxis": {
            "gridcolor": "#EBF0F8",
            "linecolor": "#EBF0F8",
            "ticks": ""
           },
           "bgcolor": "white",
           "radialaxis": {
            "gridcolor": "#EBF0F8",
            "linecolor": "#EBF0F8",
            "ticks": ""
           }
          },
          "scene": {
           "xaxis": {
            "backgroundcolor": "white",
            "gridcolor": "#DFE8F3",
            "gridwidth": 2,
            "linecolor": "#EBF0F8",
            "showbackground": true,
            "ticks": "",
            "zerolinecolor": "#EBF0F8"
           },
           "yaxis": {
            "backgroundcolor": "white",
            "gridcolor": "#DFE8F3",
            "gridwidth": 2,
            "linecolor": "#EBF0F8",
            "showbackground": true,
            "ticks": "",
            "zerolinecolor": "#EBF0F8"
           },
           "zaxis": {
            "backgroundcolor": "white",
            "gridcolor": "#DFE8F3",
            "gridwidth": 2,
            "linecolor": "#EBF0F8",
            "showbackground": true,
            "ticks": "",
            "zerolinecolor": "#EBF0F8"
           }
          },
          "shapedefaults": {
           "line": {
            "color": "#2a3f5f"
           }
          },
          "ternary": {
           "aaxis": {
            "gridcolor": "#DFE8F3",
            "linecolor": "#A2B1C6",
            "ticks": ""
           },
           "baxis": {
            "gridcolor": "#DFE8F3",
            "linecolor": "#A2B1C6",
            "ticks": ""
           },
           "bgcolor": "white",
           "caxis": {
            "gridcolor": "#DFE8F3",
            "linecolor": "#A2B1C6",
            "ticks": ""
           }
          },
          "title": {
           "x": 0.05
          },
          "xaxis": {
           "automargin": true,
           "gridcolor": "#EBF0F8",
           "linecolor": "#EBF0F8",
           "ticks": "",
           "title": {
            "standoff": 15
           },
           "zerolinecolor": "#EBF0F8",
           "zerolinewidth": 2
          },
          "yaxis": {
           "automargin": true,
           "gridcolor": "#EBF0F8",
           "linecolor": "#EBF0F8",
           "ticks": "",
           "title": {
            "standoff": 15
           },
           "zerolinecolor": "#EBF0F8",
           "zerolinewidth": 2
          }
         }
        },
        "title": {
         "text": "SHW Power Spectrum Comparison"
        },
        "xaxis": {
         "title": {
          "text": "Fundamental Wavelength (μm)"
         }
        },
        "yaxis": {
         "title": {
          "text": "SHW Power"
         }
        }
       }
      }
     },
     "metadata": {},
     "output_type": "display_data"
    }
   ],
   "source": [
    "from collections.abc import Callable\n",
    "from dataclasses import dataclass\n",
    "\n",
    "import jax\n",
    "import jax.numpy as jnp\n",
    "import optax  # pyright: ignore[reportMissingTypeStubs]\n",
    "import plotly.graph_objects as go  # pyright: ignore[reportMissingTypeStubs]\n",
    "from jax import Array, jit\n",
    "from jax_tqdm.loop_pbar import loop_tqdm\n",
    "\n",
    "from qpm import cwes, mgoslt\n",
    "\n",
    "\n",
    "# --- Regularization Strategies ---\n",
    "def tv_regularization(domain_widths: Array, lambda_val: float) -> Array:\n",
    "    \"\"\"Total Variation (TV) regularization penalizes the absolute difference between adjacent parameter values.\"\"\"\n",
    "    return lambda_val * jnp.sum(jnp.abs(jnp.diff(domain_widths)))\n",
    "\n",
    "\n",
    "REGULARIZATION_FNS: dict[str, Callable[[Array, float], Array]] = {\n",
    "    \"tv\": tv_regularization,\n",
    "}\n",
    "\n",
    "\n",
    "# --- Data Structures for Configuration and Parameters ---\n",
    "@dataclass(frozen=True)\n",
    "class Config:\n",
    "    design_temp: float = 70.0\n",
    "    design_wl: float = 1.031\n",
    "    target_length: float = 2000.0\n",
    "    max_iters: int = 500\n",
    "    prng_seed: int = 42\n",
    "    kappa_mag: float = 1.31e-5 / (2 / jnp.pi)\n",
    "    kappa_target_length: float = 2000.0\n",
    "    wl_start: float = 1.025\n",
    "    wl_end: float = 1.035\n",
    "    num_points: int = 500\n",
    "    # Regularization parameters\n",
    "    regularization: str | None = \"tv\"\n",
    "    lambda_val: float = 1e-4\n",
    "\n",
    "\n",
    "@dataclass(frozen=True)\n",
    "class SimulationParameters:\n",
    "    delta_k1: Array\n",
    "    delta_k2: Array\n",
    "    kappa_array: Array\n",
    "    b_initial: Array\n",
    "\n",
    "\n",
    "# --- Core JAX Functions ---\n",
    "def make_loss_fn(\n",
    "    sim_params: SimulationParameters,\n",
    "    config: Config,  # noqa: ARG001\n",
    "    regularization_fn: Callable[[Array, float], Array] | None = None,\n",
    "    lambda_val: float = 0.0,\n",
    ") -> Callable[[Array], Array]:\n",
    "    \"\"\"Creates a loss function that returns the negative SHW power with optional regularization.\"\"\"\n",
    "\n",
    "    @jit\n",
    "    def loss_fn(domain_widths: Array) -> Array:\n",
    "        superlattice = jnp.stack([domain_widths, sim_params.kappa_array], axis=1)\n",
    "        b_final = cwes.simulate_twm(superlattice, sim_params.delta_k1, sim_params.delta_k2, sim_params.b_initial)\n",
    "        shw_power = jnp.abs(b_final[1]) ** 2\n",
    "\n",
    "        # Base loss is negative SHW power (to maximize it)\n",
    "        loss = -shw_power\n",
    "\n",
    "        # Add regularization if provided\n",
    "        if regularization_fn:\n",
    "            loss += regularization_fn(domain_widths, lambda_val)\n",
    "\n",
    "        return loss\n",
    "\n",
    "    return loss_fn\n",
    "\n",
    "\n",
    "# --- Workflow Functions ---\n",
    "def _initialize_grating(config: Config) -> tuple[Array, Array, Array, Array]:\n",
    "    \"\"\"Generates initial grating parameters based on the configuration.\"\"\"\n",
    "    print(\"1. Generating initial grating parameters...\")\n",
    "    delta_k1 = mgoslt.calc_twm_delta_k(config.design_wl, config.design_wl, config.design_temp)\n",
    "    delta_k2 = mgoslt.calc_twm_delta_k(config.design_wl, config.design_wl / 2, config.design_temp)\n",
    "\n",
    "    domain_len_shg = jnp.pi / delta_k1\n",
    "    num_domains = int(jnp.round(config.target_length / domain_len_shg))\n",
    "    print(f\"   - Base domain width from calculation: {domain_len_shg:.4f} μm\")\n",
    "    print(f\"   - Number of domains: {num_domains}\")\n",
    "\n",
    "    kappa_array = config.kappa_mag * jnp.power(-1.0, jnp.arange(num_domains))\n",
    "\n",
    "    initial_widths = jnp.full(num_domains, domain_len_shg)\n",
    "    key = jax.random.PRNGKey(config.prng_seed)\n",
    "    noise = jax.random.normal(key, shape=(num_domains,)) * (domain_len_shg * 0.02)\n",
    "    initial_widths = initial_widths + noise\n",
    "\n",
    "    return delta_k1, delta_k2, kappa_array, initial_widths\n",
    "\n",
    "\n",
    "def _run_optimization(\n",
    "    initial_widths: Array,\n",
    "    sim_params: SimulationParameters,\n",
    "    config: Config,\n",
    ") -> Array:\n",
    "    \"\"\"Sets up and runs the L-BFGS optimization.\"\"\"\n",
    "    print(\"2. Setting up loss function and L-BFGS optimizer...\")\n",
    "    regularization_fn = REGULARIZATION_FNS.get(config.regularization) if config.regularization else None\n",
    "    loss_fn = make_loss_fn(sim_params, config, regularization_fn, config.lambda_val)\n",
    "    solver = optax.lbfgs()\n",
    "\n",
    "    @jit\n",
    "    def run_full_optimization(initial_params: Array) -> Array:\n",
    "        @loop_tqdm(config.max_iters, desc=\"Optimizing\")\n",
    "        def step(_: int, state: tuple[Array, optax.OptState]) -> tuple[optax.Params, optax.OptState]:\n",
    "            params, opt_state = state\n",
    "            value, grad = jax.value_and_grad(loss_fn)(params)\n",
    "            updates, opt_state = solver.update(grad, opt_state, params, value=value, grad=grad, value_fn=loss_fn)\n",
    "            params = optax.apply_updates(params, updates)\n",
    "            return params, opt_state\n",
    "\n",
    "        initial_opt_state = solver.init(initial_params)\n",
    "        optimized_params, _ = jax.lax.fori_loop(0, config.max_iters, step, (initial_params, initial_opt_state))\n",
    "        return optimized_params\n",
    "\n",
    "    print(\"3. Running JIT-compiled optimization...\")\n",
    "    print(f\"   - Initial SHW Power: {-loss_fn(initial_widths):.4f}\")\n",
    "\n",
    "    optimized_widths = run_full_optimization(initial_widths)\n",
    "    optimized_widths.block_until_ready()\n",
    "\n",
    "    print(f\"   - Optimized SHW Power: {-loss_fn(optimized_widths):.4f}\")\n",
    "    return optimized_widths\n",
    "\n",
    "\n",
    "# --- Visualization Functions ---\n",
    "def _calculate_spectrum(domain_widths: Array, sim_params: SimulationParameters, config: Config) -> tuple[Array, Array]:\n",
    "    \"\"\"Helper function to compute the SHW Power spectrum for a given grating.\"\"\"\n",
    "    wls = jnp.linspace(config.wl_start, config.wl_end, config.num_points)\n",
    "    delta_k1s = mgoslt.calc_twm_delta_k(wls, wls, config.design_temp)\n",
    "    delta_k2s = mgoslt.calc_twm_delta_k(wls, wls / 2, config.design_temp)\n",
    "\n",
    "    compute_spectrum_vmap = jit(jax.vmap(cwes.simulate_twm, in_axes=(None, 0, 0, None)))\n",
    "\n",
    "    superlattice = jnp.stack([domain_widths, sim_params.kappa_array], axis=1)\n",
    "    final_vectors = compute_spectrum_vmap(superlattice, delta_k1s, delta_k2s, sim_params.b_initial)\n",
    "    shw_powers = jnp.abs(final_vectors[:, 1]) ** 2 * 1.07 / 2.84 * 100\n",
    "    return wls, shw_powers\n",
    "\n",
    "\n",
    "def _plot_domain_widths(initial_widths: Array, optimized_widths: Array) -> None:\n",
    "    \"\"\"Plots the domain widths before and after optimization.\"\"\"\n",
    "    fig = go.Figure()\n",
    "    fig.add_trace(go.Scatter(y=initial_widths, mode=\"lines\", name=\"Initial\", line={\"dash\": \"dash\"}))\n",
    "    fig.add_trace(go.Scatter(y=optimized_widths, mode=\"lines\", name=\"Optimized\"))\n",
    "    fig.update_layout(\n",
    "        title_text=\"Domain Widths Before and After Optimization\",\n",
    "        xaxis_title=\"Domain Index\",\n",
    "        yaxis_title=\"Width (μm)\",\n",
    "        template=\"plotly_white\",\n",
    "    )\n",
    "    fig.show()\n",
    "\n",
    "\n",
    "def _plot_shw_power_spectrum(\n",
    "    initial_widths: Array,\n",
    "    optimized_widths: Array,\n",
    "    sim_params: SimulationParameters,\n",
    "    config: Config,\n",
    ") -> None:\n",
    "    \"\"\"Plots the SHG Power spectrum before and after optimization.\"\"\"\n",
    "    wls, initial_effs = _calculate_spectrum(initial_widths, sim_params, config)\n",
    "    _, optimized_effs = _calculate_spectrum(optimized_widths, sim_params, config)\n",
    "\n",
    "    fig = go.Figure()\n",
    "    fig.add_trace(go.Scatter(x=wls, y=initial_effs, mode=\"lines\", name=\"Initial\", line={\"dash\": \"dash\"}))\n",
    "    fig.add_trace(go.Scatter(x=wls, y=optimized_effs, mode=\"lines\", name=\"Optimized\"))\n",
    "    fig.add_vline(\n",
    "        x=config.design_wl,\n",
    "        line_dash=\"dot\",\n",
    "        line_color=\"red\",\n",
    "        annotation_text=f\"Design λ {config.design_wl}μm\",\n",
    "        annotation_position=\"bottom right\",\n",
    "    )\n",
    "    fig.update_layout(\n",
    "        title_text=\"SHW Power Spectrum Comparison\",\n",
    "        xaxis_title=\"Fundamental Wavelength (μm)\",\n",
    "        yaxis_title=\"SHW Power\",\n",
    "        template=\"plotly_white\",\n",
    "    )\n",
    "    fig.show()\n",
    "\n",
    "\n",
    "def main() -> None:\n",
    "    \"\"\"Main script execution.\"\"\"\n",
    "    config = Config()\n",
    "\n",
    "    # 1. Generate initial physical parameters and domain widths\n",
    "    delta_k1, delta_k2, kappa_array, initial_widths = _initialize_grating(config)\n",
    "\n",
    "    # 2. Create simulation parameters\n",
    "    sim_params = SimulationParameters(\n",
    "        delta_k1=delta_k1,\n",
    "        delta_k2=delta_k2,\n",
    "        kappa_array=kappa_array,\n",
    "        b_initial=jnp.array([1.0, 0.0, 0.0], dtype=jnp.complex64),\n",
    "    )\n",
    "\n",
    "    # 3. Run the optimization with the clean parameter objects\n",
    "    optimized_widths = _run_optimization(initial_widths, sim_params, config)\n",
    "\n",
    "    # 4. Visualize the results\n",
    "    print(\"4. Visualizing optimization results...\")\n",
    "    _plot_domain_widths(initial_widths, optimized_widths)\n",
    "    _plot_shw_power_spectrum(initial_widths, optimized_widths, sim_params, config)\n",
    "\n",
    "\n",
    "main()"
   ]
  }
 ],
 "metadata": {
  "kernelspec": {
   "display_name": ".venv",
   "language": "python",
   "name": "python3"
  },
  "language_info": {
   "codemirror_mode": {
    "name": "ipython",
    "version": 3
   },
   "file_extension": ".py",
   "mimetype": "text/x-python",
   "name": "python",
   "nbconvert_exporter": "python",
   "pygments_lexer": "ipython3",
   "version": "3.13.8"
  }
 },
 "nbformat": 4,
 "nbformat_minor": 5
}
