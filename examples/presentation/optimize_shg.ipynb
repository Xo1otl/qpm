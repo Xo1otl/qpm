{
 "cells": [
  {
   "cell_type": "code",
   "execution_count": null,
   "id": "e63c0c93",
   "metadata": {},
   "outputs": [
    {
     "name": "stdout",
     "output_type": "stream",
     "text": [
      "1. Generating initial grating parameters...\n",
      "   - Base domain width from calculation: 3.6008 μm\n",
      "   - Number of domains: 555\n",
      "2. Setting up loss function and L-BFGS optimizer...\n",
      "3. Running JIT-compiled optimization...\n",
      "   - Initial Efficiency: 0.0005\n"
     ]
    },
    {
     "name": "stderr",
     "output_type": "stream",
     "text": [
      "Optimizing: 100%|██████████| 500/500 [01:33<00:00,  5.36it/s]\n"
     ]
    },
    {
     "name": "stdout",
     "output_type": "stream",
     "text": [
      "   - Optimized Efficiency: 0.0007\n",
      "4. Visualizing optimization results...\n"
     ]
    },
    {
     "data": {
      "application/vnd.plotly.v1+json": {
       "config": {
        "plotlyServerURL": "https://plot.ly"
       },
       "data": [
        {
         "line": {
          "dash": "dash"
         },
         "mode": "lines",
         "name": "Initial",
         "type": "scatter",
         "y": {
          "bdata": "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",
          "dtype": "f4"
         }
        },
        {
         "mode": "lines",
         "name": "Optimized",
         "type": "scatter",
         "y": {
          "bdata": "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",
          "dtype": "f4"
         }
        }
       ],
       "layout": {
        "template": {
         "data": {
          "bar": [
           {
            "error_x": {
             "color": "#2a3f5f"
            },
            "error_y": {
             "color": "#2a3f5f"
            },
            "marker": {
             "line": {
              "color": "white",
              "width": 0.5
             },
             "pattern": {
              "fillmode": "overlay",
              "size": 10,
              "solidity": 0.2
             }
            },
            "type": "bar"
           }
          ],
          "barpolar": [
           {
            "marker": {
             "line": {
              "color": "white",
              "width": 0.5
             },
             "pattern": {
              "fillmode": "overlay",
              "size": 10,
              "solidity": 0.2
             }
            },
            "type": "barpolar"
           }
          ],
          "carpet": [
           {
            "aaxis": {
             "endlinecolor": "#2a3f5f",
             "gridcolor": "#C8D4E3",
             "linecolor": "#C8D4E3",
             "minorgridcolor": "#C8D4E3",
             "startlinecolor": "#2a3f5f"
            },
            "baxis": {
             "endlinecolor": "#2a3f5f",
             "gridcolor": "#C8D4E3",
             "linecolor": "#C8D4E3",
             "minorgridcolor": "#C8D4E3",
             "startlinecolor": "#2a3f5f"
            },
            "type": "carpet"
           }
          ],
          "choropleth": [
           {
            "colorbar": {
             "outlinewidth": 0,
             "ticks": ""
            },
            "type": "choropleth"
           }
          ],
          "contour": [
           {
            "colorbar": {
             "outlinewidth": 0,
             "ticks": ""
            },
            "colorscale": [
             [
              0,
              "#0d0887"
             ],
             [
              0.1111111111111111,
              "#46039f"
             ],
             [
              0.2222222222222222,
              "#7201a8"
             ],
             [
              0.3333333333333333,
              "#9c179e"
             ],
             [
              0.4444444444444444,
              "#bd3786"
             ],
             [
              0.5555555555555556,
              "#d8576b"
             ],
             [
              0.6666666666666666,
              "#ed7953"
             ],
             [
              0.7777777777777778,
              "#fb9f3a"
             ],
             [
              0.8888888888888888,
              "#fdca26"
             ],
             [
              1,
              "#f0f921"
             ]
            ],
            "type": "contour"
           }
          ],
          "contourcarpet": [
           {
            "colorbar": {
             "outlinewidth": 0,
             "ticks": ""
            },
            "type": "contourcarpet"
           }
          ],
          "heatmap": [
           {
            "colorbar": {
             "outlinewidth": 0,
             "ticks": ""
            },
            "colorscale": [
             [
              0,
              "#0d0887"
             ],
             [
              0.1111111111111111,
              "#46039f"
             ],
             [
              0.2222222222222222,
              "#7201a8"
             ],
             [
              0.3333333333333333,
              "#9c179e"
             ],
             [
              0.4444444444444444,
              "#bd3786"
             ],
             [
              0.5555555555555556,
              "#d8576b"
             ],
             [
              0.6666666666666666,
              "#ed7953"
             ],
             [
              0.7777777777777778,
              "#fb9f3a"
             ],
             [
              0.8888888888888888,
              "#fdca26"
             ],
             [
              1,
              "#f0f921"
             ]
            ],
            "type": "heatmap"
           }
          ],
          "histogram": [
           {
            "marker": {
             "pattern": {
              "fillmode": "overlay",
              "size": 10,
              "solidity": 0.2
             }
            },
            "type": "histogram"
           }
          ],
          "histogram2d": [
           {
            "colorbar": {
             "outlinewidth": 0,
             "ticks": ""
            },
            "colorscale": [
             [
              0,
              "#0d0887"
             ],
             [
              0.1111111111111111,
              "#46039f"
             ],
             [
              0.2222222222222222,
              "#7201a8"
             ],
             [
              0.3333333333333333,
              "#9c179e"
             ],
             [
              0.4444444444444444,
              "#bd3786"
             ],
             [
              0.5555555555555556,
              "#d8576b"
             ],
             [
              0.6666666666666666,
              "#ed7953"
             ],
             [
              0.7777777777777778,
              "#fb9f3a"
             ],
             [
              0.8888888888888888,
              "#fdca26"
             ],
             [
              1,
              "#f0f921"
             ]
            ],
            "type": "histogram2d"
           }
          ],
          "histogram2dcontour": [
           {
            "colorbar": {
             "outlinewidth": 0,
             "ticks": ""
            },
            "colorscale": [
             [
              0,
              "#0d0887"
             ],
             [
              0.1111111111111111,
              "#46039f"
             ],
             [
              0.2222222222222222,
              "#7201a8"
             ],
             [
              0.3333333333333333,
              "#9c179e"
             ],
             [
              0.4444444444444444,
              "#bd3786"
             ],
             [
              0.5555555555555556,
              "#d8576b"
             ],
             [
              0.6666666666666666,
              "#ed7953"
             ],
             [
              0.7777777777777778,
              "#fb9f3a"
             ],
             [
              0.8888888888888888,
              "#fdca26"
             ],
             [
              1,
              "#f0f921"
             ]
            ],
            "type": "histogram2dcontour"
           }
          ],
          "mesh3d": [
           {
            "colorbar": {
             "outlinewidth": 0,
             "ticks": ""
            },
            "type": "mesh3d"
           }
          ],
          "parcoords": [
           {
            "line": {
             "colorbar": {
              "outlinewidth": 0,
              "ticks": ""
             }
            },
            "type": "parcoords"
           }
          ],
          "pie": [
           {
            "automargin": true,
            "type": "pie"
           }
          ],
          "scatter": [
           {
            "fillpattern": {
             "fillmode": "overlay",
             "size": 10,
             "solidity": 0.2
            },
            "type": "scatter"
           }
          ],
          "scatter3d": [
           {
            "line": {
             "colorbar": {
              "outlinewidth": 0,
              "ticks": ""
             }
            },
            "marker": {
             "colorbar": {
              "outlinewidth": 0,
              "ticks": ""
             }
            },
            "type": "scatter3d"
           }
          ],
          "scattercarpet": [
           {
            "marker": {
             "colorbar": {
              "outlinewidth": 0,
              "ticks": ""
             }
            },
            "type": "scattercarpet"
           }
          ],
          "scattergeo": [
           {
            "marker": {
             "colorbar": {
              "outlinewidth": 0,
              "ticks": ""
             }
            },
            "type": "scattergeo"
           }
          ],
          "scattergl": [
           {
            "marker": {
             "colorbar": {
              "outlinewidth": 0,
              "ticks": ""
             }
            },
            "type": "scattergl"
           }
          ],
          "scattermap": [
           {
            "marker": {
             "colorbar": {
              "outlinewidth": 0,
              "ticks": ""
             }
            },
            "type": "scattermap"
           }
          ],
          "scattermapbox": [
           {
            "marker": {
             "colorbar": {
              "outlinewidth": 0,
              "ticks": ""
             }
            },
            "type": "scattermapbox"
           }
          ],
          "scatterpolar": [
           {
            "marker": {
             "colorbar": {
              "outlinewidth": 0,
              "ticks": ""
             }
            },
            "type": "scatterpolar"
           }
          ],
          "scatterpolargl": [
           {
            "marker": {
             "colorbar": {
              "outlinewidth": 0,
              "ticks": ""
             }
            },
            "type": "scatterpolargl"
           }
          ],
          "scatterternary": [
           {
            "marker": {
             "colorbar": {
              "outlinewidth": 0,
              "ticks": ""
             }
            },
            "type": "scatterternary"
           }
          ],
          "surface": [
           {
            "colorbar": {
             "outlinewidth": 0,
             "ticks": ""
            },
            "colorscale": [
             [
              0,
              "#0d0887"
             ],
             [
              0.1111111111111111,
              "#46039f"
             ],
             [
              0.2222222222222222,
              "#7201a8"
             ],
             [
              0.3333333333333333,
              "#9c179e"
             ],
             [
              0.4444444444444444,
              "#bd3786"
             ],
             [
              0.5555555555555556,
              "#d8576b"
             ],
             [
              0.6666666666666666,
              "#ed7953"
             ],
             [
              0.7777777777777778,
              "#fb9f3a"
             ],
             [
              0.8888888888888888,
              "#fdca26"
             ],
             [
              1,
              "#f0f921"
             ]
            ],
            "type": "surface"
           }
          ],
          "table": [
           {
            "cells": {
             "fill": {
              "color": "#EBF0F8"
             },
             "line": {
              "color": "white"
             }
            },
            "header": {
             "fill": {
              "color": "#C8D4E3"
             },
             "line": {
              "color": "white"
             }
            },
            "type": "table"
           }
          ]
         },
         "layout": {
          "annotationdefaults": {
           "arrowcolor": "#2a3f5f",
           "arrowhead": 0,
           "arrowwidth": 1
          },
          "autotypenumbers": "strict",
          "coloraxis": {
           "colorbar": {
            "outlinewidth": 0,
            "ticks": ""
           }
          },
          "colorscale": {
           "diverging": [
            [
             0,
             "#8e0152"
            ],
            [
             0.1,
             "#c51b7d"
            ],
            [
             0.2,
             "#de77ae"
            ],
            [
             0.3,
             "#f1b6da"
            ],
            [
             0.4,
             "#fde0ef"
            ],
            [
             0.5,
             "#f7f7f7"
            ],
            [
             0.6,
             "#e6f5d0"
            ],
            [
             0.7,
             "#b8e186"
            ],
            [
             0.8,
             "#7fbc41"
            ],
            [
             0.9,
             "#4d9221"
            ],
            [
             1,
             "#276419"
            ]
           ],
           "sequential": [
            [
             0,
             "#0d0887"
            ],
            [
             0.1111111111111111,
             "#46039f"
            ],
            [
             0.2222222222222222,
             "#7201a8"
            ],
            [
             0.3333333333333333,
             "#9c179e"
            ],
            [
             0.4444444444444444,
             "#bd3786"
            ],
            [
             0.5555555555555556,
             "#d8576b"
            ],
            [
             0.6666666666666666,
             "#ed7953"
            ],
            [
             0.7777777777777778,
             "#fb9f3a"
            ],
            [
             0.8888888888888888,
             "#fdca26"
            ],
            [
             1,
             "#f0f921"
            ]
           ],
           "sequentialminus": [
            [
             0,
             "#0d0887"
            ],
            [
             0.1111111111111111,
             "#46039f"
            ],
            [
             0.2222222222222222,
             "#7201a8"
            ],
            [
             0.3333333333333333,
             "#9c179e"
            ],
            [
             0.4444444444444444,
             "#bd3786"
            ],
            [
             0.5555555555555556,
             "#d8576b"
            ],
            [
             0.6666666666666666,
             "#ed7953"
            ],
            [
             0.7777777777777778,
             "#fb9f3a"
            ],
            [
             0.8888888888888888,
             "#fdca26"
            ],
            [
             1,
             "#f0f921"
            ]
           ]
          },
          "colorway": [
           "#636efa",
           "#EF553B",
           "#00cc96",
           "#ab63fa",
           "#FFA15A",
           "#19d3f3",
           "#FF6692",
           "#B6E880",
           "#FF97FF",
           "#FECB52"
          ],
          "font": {
           "color": "#2a3f5f"
          },
          "geo": {
           "bgcolor": "white",
           "lakecolor": "white",
           "landcolor": "white",
           "showlakes": true,
           "showland": true,
           "subunitcolor": "#C8D4E3"
          },
          "hoverlabel": {
           "align": "left"
          },
          "hovermode": "closest",
          "mapbox": {
           "style": "light"
          },
          "paper_bgcolor": "white",
          "plot_bgcolor": "white",
          "polar": {
           "angularaxis": {
            "gridcolor": "#EBF0F8",
            "linecolor": "#EBF0F8",
            "ticks": ""
           },
           "bgcolor": "white",
           "radialaxis": {
            "gridcolor": "#EBF0F8",
            "linecolor": "#EBF0F8",
            "ticks": ""
           }
          },
          "scene": {
           "xaxis": {
            "backgroundcolor": "white",
            "gridcolor": "#DFE8F3",
            "gridwidth": 2,
            "linecolor": "#EBF0F8",
            "showbackground": true,
            "ticks": "",
            "zerolinecolor": "#EBF0F8"
           },
           "yaxis": {
            "backgroundcolor": "white",
            "gridcolor": "#DFE8F3",
            "gridwidth": 2,
            "linecolor": "#EBF0F8",
            "showbackground": true,
            "ticks": "",
            "zerolinecolor": "#EBF0F8"
           },
           "zaxis": {
            "backgroundcolor": "white",
            "gridcolor": "#DFE8F3",
            "gridwidth": 2,
            "linecolor": "#EBF0F8",
            "showbackground": true,
            "ticks": "",
            "zerolinecolor": "#EBF0F8"
           }
          },
          "shapedefaults": {
           "line": {
            "color": "#2a3f5f"
           }
          },
          "ternary": {
           "aaxis": {
            "gridcolor": "#DFE8F3",
            "linecolor": "#A2B1C6",
            "ticks": ""
           },
           "baxis": {
            "gridcolor": "#DFE8F3",
            "linecolor": "#A2B1C6",
            "ticks": ""
           },
           "bgcolor": "white",
           "caxis": {
            "gridcolor": "#DFE8F3",
            "linecolor": "#A2B1C6",
            "ticks": ""
           }
          },
          "title": {
           "x": 0.05
          },
          "xaxis": {
           "automargin": true,
           "gridcolor": "#EBF0F8",
           "linecolor": "#EBF0F8",
           "ticks": "",
           "title": {
            "standoff": 15
           },
           "zerolinecolor": "#EBF0F8",
           "zerolinewidth": 2
          },
          "yaxis": {
           "automargin": true,
           "gridcolor": "#EBF0F8",
           "linecolor": "#EBF0F8",
           "ticks": "",
           "title": {
            "standoff": 15
           },
           "zerolinecolor": "#EBF0F8",
           "zerolinewidth": 2
          }
         }
        },
        "title": {
         "text": "Domain Widths Before and After Optimization"
        },
        "xaxis": {
         "title": {
          "text": "Domain Index"
         }
        },
        "yaxis": {
         "title": {
          "text": "Width (μm)"
         }
        }
       }
      }
     },
     "metadata": {},
     "output_type": "display_data"
    },
    {
     "data": {
      "application/vnd.plotly.v1+json": {
       "config": {
        "plotlyServerURL": "https://plot.ly"
       },
       "data": [
        {
         "line": {
          "dash": "dash"
         },
         "mode": "lines",
         "name": "Initial",
         "type": "scatter",
         "x": {
          "bdata": "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",
          "dtype": "f4"
         },
         "y": {
          "bdata": "3U+SOLrXkDhN0I84zzOPOLcQjzidUY840+2POGICkTi6epI4nf2TOHj1lThyTZg4PXSaOFRTnTitCaA4fNOiOJV8pThGTKg4r8GqOM68rTi/JrA4X4+yOMLJtDiTs7Y4irK4OFAVujimZ7s4EHq8OIZMvTgr2r04zza+ONpevjgUUr44kx2+OGfJvTgdcr04kum8OBl6vDiMCrw4zrm7OCKQuzh5lLs4Dd67OEVnvDjlML04q5q+ODtxwDg4ZsI4pRTFOCEbyDig2cs4YG/QOKlj1Tgkn9o4rLzgOBB05zj9VO44WZv2OIz//jhUsAM5TxcIOdw6DTn5SBI5UIEXOTXbHDlRsiE5v4QnOfMTLTm/VjI5GzE4OZ6tPTnaykI5YhlIOb6zTDnzvFE5AdxWOQwFXDllNWA5cjNkOZU3aDkizms5wGVvOZvHcjkGI3Y5u/l4Ocv6ezkpi345nYKAOU3JgTnYC4M5LU+EOaqFhTnX2YY5oj6IObG5iTkYUYs5bgmNOXjNjjlU1pA5wg6TORNYlTm1+Zc5pqqaOVzsnTlcQqE5w6GkOWxuqDlVeKw53ruwOWbztDmcWLk5UnC+OcJqwzl3g8g5tWbNOaM10zklk9c5z8ncOWzu4TlLZ+Y5qtDrOXE38DmUoPQ5nLz4Oc5+/DnSsf858kABOtB0AjpxlgM6AkwEOkTIBDo0/AQ6qukEOjybBDqd9AM63SsDOnrnATrUrAA6HCv+OezO+jlIe/Y5JZHyOd++7jm6Ieo5eAbmOYiV4TnqEN45EnfaORU51zk809Q5a0zTOWGa0jm289I5XmjUOVUZ1znKBdw5f9jhOe7H6TlvFvM5+/f+ObcZBjpiRA06XQIXOriDITq3+i06j5c5OiKUSTrobFg6cYBmOrmeeToFhYY6Jm6ROmQfmzqVNKc6G9exOvTxvjpvWco6FIrXOsEL5ToByvI61vP/OqD+Bju5BA47wgUVO0X0GzveYyI7wVMoO9+CLztcCTU7Kvo6O+bfQDs/gUU7PZBKO0qlTjtURFI7C5JVO64nWDtpSlo7OclbOx6dXDtmw1w7nklcOxEXWztsDFk7GLZWO+X/UjsTpk871ABLO0ljRTtjbD87gqE5O2T/MjuAfSs7BYwjO26uGztcihM7AS0KO7ShATuNC/M6ar7eOgytzTpl6bw6rbirOlJCmzpiwIs62lt8OnY9YjqqQEs66s04OmPXKTpDux46Q4EXOj5OFToT5xc6bDIgOoV5LzqfG0M6QD1eOsMgfjpeGJI6DFSoOnn8xDqnEuI6mz4BO4MyFDsRxSc7iEg+O92WVjvzpXA7ZmaFOzI5kzsUmqI7A9WxO0OrwTshFtM7oRnlOyud9jusywQ8xn8OPGfSFzyEXyI8MFYrPODnNDx2nz88rKJIPPEjUjxFqFw82mRlPDKAbjyW9Hg8Y4uAPKs1hTxFN4k8Cg6NPI7okDwtWJQ8LI+XPOi2mjwPmZ08WQ+gPB5gojzZSKQ85P+lPJVApzyyZ6g8sh+pPG6PqTxkqqk88HipPH77qDylFqg8vSCnPHqBpTwj76M82eGhPJOKnzwYFJ08wWCaPMtGlzzu8ZM8o8uQPFTajDyn7Yg8zU2FPFeQgTxh+nk8BZVxPCuIaDxE2F88mI1WPN+6TTzH1kM8aIY7PGS6Mjzb/Sg8FuYgPL/sGDyPJQ88+wwHPKYTADzFG+4711bfO6pH0Du2cMM7YF62Owc6qTtIypw7lLeRO+FShzvqFno7Sw5oO/SBVTsEL0c7XHI4O43dKzvt5R87fUkVO+H0DDtAVwQ7A/L8OlGI8ToX+uY6yv3eOj4U2TqMZdQ63yvROsZ4zzolcc46l2rOOncWzzrEb9A6hCvSOsdY1DpeutY6My3ZOvYr2zoiSt06kETfOrrf4Dq/9uE6po3iOtSi4jrJF+I6wezgOr873zpRddw6HkPZOoIk1TobSNA6gAfLOqtwxDpdVr46wui2Osrbrzqt9Kc6Ly+fOquWljpqt4w64kCEOh5JdTrLIWM6nilSOudiQDoxCC46lksdOkk/DTrLo/g5FAPeOSzOwznQsKo5f7+WOWNBgzlQ9mU5Oi1MOd9eOTmaKS45GmApOQrEKjmJzDM5A4lBOa8oVjl6iXI5VJ+JOXeFmzloILU5kHTNOan75zkkNwI6+mQQOosjITrtljE6aYdEOgvSVTqnWmg60994OjeshDq/Uo46QUiWOvT9njqj56Y68pitOoWdtTplTrw6pdTCOvm5yDqqsM06GAXSOoWy1Tosidg6UP7aOiao3Do4dt0625vdOj/13Dpgnts6tJfZOi4S1zrfxNM6dZjPOnsMyzqTpMU6Lam/OmCHuTq/lrI6jw6sOoE+pTr5R506mpqUOjWZjTrpEoU6Lep4OgeQaTr1SFk6HzZIOudCOTpzxSg6nZ4ZOiQVCjpi7fc5DfDcOcs+wzkVoak5ITyUOVFWeTnizlQ5yDwxOfI4Dzl9K+U4AbuyOK5biTiof0M4bR8JOGMzpDf8DD03oaqfNhLVkDUsBXcyRlGENbUbhDYm1RY3QguBNxb6wTd9TwY4gqE0OL/mWzgiqIY4rLSeOOSJuDgnc884HnLnOPu7/jhciwo5UbcVOYQSIDmCiCg5WKcwOb09ODm8Zj45K01DOZCJRzk=",
          "dtype": "f4"
         }
        },
        {
         "mode": "lines",
         "name": "Optimized",
         "type": "scatter",
         "x": {
          "bdata": "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",
          "dtype": "f4"
         },
         "y": {
          "bdata": "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",
          "dtype": "f4"
         }
        }
       ],
       "layout": {
        "annotations": [
         {
          "showarrow": false,
          "text": "Design λ 1.031μm",
          "x": 1.031,
          "xanchor": "left",
          "xref": "x",
          "y": 0,
          "yanchor": "bottom",
          "yref": "y domain"
         }
        ],
        "shapes": [
         {
          "line": {
           "color": "red",
           "dash": "dot"
          },
          "type": "line",
          "x0": 1.031,
          "x1": 1.031,
          "xref": "x",
          "y0": 0,
          "y1": 1,
          "yref": "y domain"
         }
        ],
        "template": {
         "data": {
          "bar": [
           {
            "error_x": {
             "color": "#2a3f5f"
            },
            "error_y": {
             "color": "#2a3f5f"
            },
            "marker": {
             "line": {
              "color": "white",
              "width": 0.5
             },
             "pattern": {
              "fillmode": "overlay",
              "size": 10,
              "solidity": 0.2
             }
            },
            "type": "bar"
           }
          ],
          "barpolar": [
           {
            "marker": {
             "line": {
              "color": "white",
              "width": 0.5
             },
             "pattern": {
              "fillmode": "overlay",
              "size": 10,
              "solidity": 0.2
             }
            },
            "type": "barpolar"
           }
          ],
          "carpet": [
           {
            "aaxis": {
             "endlinecolor": "#2a3f5f",
             "gridcolor": "#C8D4E3",
             "linecolor": "#C8D4E3",
             "minorgridcolor": "#C8D4E3",
             "startlinecolor": "#2a3f5f"
            },
            "baxis": {
             "endlinecolor": "#2a3f5f",
             "gridcolor": "#C8D4E3",
             "linecolor": "#C8D4E3",
             "minorgridcolor": "#C8D4E3",
             "startlinecolor": "#2a3f5f"
            },
            "type": "carpet"
           }
          ],
          "choropleth": [
           {
            "colorbar": {
             "outlinewidth": 0,
             "ticks": ""
            },
            "type": "choropleth"
           }
          ],
          "contour": [
           {
            "colorbar": {
             "outlinewidth": 0,
             "ticks": ""
            },
            "colorscale": [
             [
              0,
              "#0d0887"
             ],
             [
              0.1111111111111111,
              "#46039f"
             ],
             [
              0.2222222222222222,
              "#7201a8"
             ],
             [
              0.3333333333333333,
              "#9c179e"
             ],
             [
              0.4444444444444444,
              "#bd3786"
             ],
             [
              0.5555555555555556,
              "#d8576b"
             ],
             [
              0.6666666666666666,
              "#ed7953"
             ],
             [
              0.7777777777777778,
              "#fb9f3a"
             ],
             [
              0.8888888888888888,
              "#fdca26"
             ],
             [
              1,
              "#f0f921"
             ]
            ],
            "type": "contour"
           }
          ],
          "contourcarpet": [
           {
            "colorbar": {
             "outlinewidth": 0,
             "ticks": ""
            },
            "type": "contourcarpet"
           }
          ],
          "heatmap": [
           {
            "colorbar": {
             "outlinewidth": 0,
             "ticks": ""
            },
            "colorscale": [
             [
              0,
              "#0d0887"
             ],
             [
              0.1111111111111111,
              "#46039f"
             ],
             [
              0.2222222222222222,
              "#7201a8"
             ],
             [
              0.3333333333333333,
              "#9c179e"
             ],
             [
              0.4444444444444444,
              "#bd3786"
             ],
             [
              0.5555555555555556,
              "#d8576b"
             ],
             [
              0.6666666666666666,
              "#ed7953"
             ],
             [
              0.7777777777777778,
              "#fb9f3a"
             ],
             [
              0.8888888888888888,
              "#fdca26"
             ],
             [
              1,
              "#f0f921"
             ]
            ],
            "type": "heatmap"
           }
          ],
          "histogram": [
           {
            "marker": {
             "pattern": {
              "fillmode": "overlay",
              "size": 10,
              "solidity": 0.2
             }
            },
            "type": "histogram"
           }
          ],
          "histogram2d": [
           {
            "colorbar": {
             "outlinewidth": 0,
             "ticks": ""
            },
            "colorscale": [
             [
              0,
              "#0d0887"
             ],
             [
              0.1111111111111111,
              "#46039f"
             ],
             [
              0.2222222222222222,
              "#7201a8"
             ],
             [
              0.3333333333333333,
              "#9c179e"
             ],
             [
              0.4444444444444444,
              "#bd3786"
             ],
             [
              0.5555555555555556,
              "#d8576b"
             ],
             [
              0.6666666666666666,
              "#ed7953"
             ],
             [
              0.7777777777777778,
              "#fb9f3a"
             ],
             [
              0.8888888888888888,
              "#fdca26"
             ],
             [
              1,
              "#f0f921"
             ]
            ],
            "type": "histogram2d"
           }
          ],
          "histogram2dcontour": [
           {
            "colorbar": {
             "outlinewidth": 0,
             "ticks": ""
            },
            "colorscale": [
             [
              0,
              "#0d0887"
             ],
             [
              0.1111111111111111,
              "#46039f"
             ],
             [
              0.2222222222222222,
              "#7201a8"
             ],
             [
              0.3333333333333333,
              "#9c179e"
             ],
             [
              0.4444444444444444,
              "#bd3786"
             ],
             [
              0.5555555555555556,
              "#d8576b"
             ],
             [
              0.6666666666666666,
              "#ed7953"
             ],
             [
              0.7777777777777778,
              "#fb9f3a"
             ],
             [
              0.8888888888888888,
              "#fdca26"
             ],
             [
              1,
              "#f0f921"
             ]
            ],
            "type": "histogram2dcontour"
           }
          ],
          "mesh3d": [
           {
            "colorbar": {
             "outlinewidth": 0,
             "ticks": ""
            },
            "type": "mesh3d"
           }
          ],
          "parcoords": [
           {
            "line": {
             "colorbar": {
              "outlinewidth": 0,
              "ticks": ""
             }
            },
            "type": "parcoords"
           }
          ],
          "pie": [
           {
            "automargin": true,
            "type": "pie"
           }
          ],
          "scatter": [
           {
            "fillpattern": {
             "fillmode": "overlay",
             "size": 10,
             "solidity": 0.2
            },
            "type": "scatter"
           }
          ],
          "scatter3d": [
           {
            "line": {
             "colorbar": {
              "outlinewidth": 0,
              "ticks": ""
             }
            },
            "marker": {
             "colorbar": {
              "outlinewidth": 0,
              "ticks": ""
             }
            },
            "type": "scatter3d"
           }
          ],
          "scattercarpet": [
           {
            "marker": {
             "colorbar": {
              "outlinewidth": 0,
              "ticks": ""
             }
            },
            "type": "scattercarpet"
           }
          ],
          "scattergeo": [
           {
            "marker": {
             "colorbar": {
              "outlinewidth": 0,
              "ticks": ""
             }
            },
            "type": "scattergeo"
           }
          ],
          "scattergl": [
           {
            "marker": {
             "colorbar": {
              "outlinewidth": 0,
              "ticks": ""
             }
            },
            "type": "scattergl"
           }
          ],
          "scattermap": [
           {
            "marker": {
             "colorbar": {
              "outlinewidth": 0,
              "ticks": ""
             }
            },
            "type": "scattermap"
           }
          ],
          "scattermapbox": [
           {
            "marker": {
             "colorbar": {
              "outlinewidth": 0,
              "ticks": ""
             }
            },
            "type": "scattermapbox"
           }
          ],
          "scatterpolar": [
           {
            "marker": {
             "colorbar": {
              "outlinewidth": 0,
              "ticks": ""
             }
            },
            "type": "scatterpolar"
           }
          ],
          "scatterpolargl": [
           {
            "marker": {
             "colorbar": {
              "outlinewidth": 0,
              "ticks": ""
             }
            },
            "type": "scatterpolargl"
           }
          ],
          "scatterternary": [
           {
            "marker": {
             "colorbar": {
              "outlinewidth": 0,
              "ticks": ""
             }
            },
            "type": "scatterternary"
           }
          ],
          "surface": [
           {
            "colorbar": {
             "outlinewidth": 0,
             "ticks": ""
            },
            "colorscale": [
             [
              0,
              "#0d0887"
             ],
             [
              0.1111111111111111,
              "#46039f"
             ],
             [
              0.2222222222222222,
              "#7201a8"
             ],
             [
              0.3333333333333333,
              "#9c179e"
             ],
             [
              0.4444444444444444,
              "#bd3786"
             ],
             [
              0.5555555555555556,
              "#d8576b"
             ],
             [
              0.6666666666666666,
              "#ed7953"
             ],
             [
              0.7777777777777778,
              "#fb9f3a"
             ],
             [
              0.8888888888888888,
              "#fdca26"
             ],
             [
              1,
              "#f0f921"
             ]
            ],
            "type": "surface"
           }
          ],
          "table": [
           {
            "cells": {
             "fill": {
              "color": "#EBF0F8"
             },
             "line": {
              "color": "white"
             }
            },
            "header": {
             "fill": {
              "color": "#C8D4E3"
             },
             "line": {
              "color": "white"
             }
            },
            "type": "table"
           }
          ]
         },
         "layout": {
          "annotationdefaults": {
           "arrowcolor": "#2a3f5f",
           "arrowhead": 0,
           "arrowwidth": 1
          },
          "autotypenumbers": "strict",
          "coloraxis": {
           "colorbar": {
            "outlinewidth": 0,
            "ticks": ""
           }
          },
          "colorscale": {
           "diverging": [
            [
             0,
             "#8e0152"
            ],
            [
             0.1,
             "#c51b7d"
            ],
            [
             0.2,
             "#de77ae"
            ],
            [
             0.3,
             "#f1b6da"
            ],
            [
             0.4,
             "#fde0ef"
            ],
            [
             0.5,
             "#f7f7f7"
            ],
            [
             0.6,
             "#e6f5d0"
            ],
            [
             0.7,
             "#b8e186"
            ],
            [
             0.8,
             "#7fbc41"
            ],
            [
             0.9,
             "#4d9221"
            ],
            [
             1,
             "#276419"
            ]
           ],
           "sequential": [
            [
             0,
             "#0d0887"
            ],
            [
             0.1111111111111111,
             "#46039f"
            ],
            [
             0.2222222222222222,
             "#7201a8"
            ],
            [
             0.3333333333333333,
             "#9c179e"
            ],
            [
             0.4444444444444444,
             "#bd3786"
            ],
            [
             0.5555555555555556,
             "#d8576b"
            ],
            [
             0.6666666666666666,
             "#ed7953"
            ],
            [
             0.7777777777777778,
             "#fb9f3a"
            ],
            [
             0.8888888888888888,
             "#fdca26"
            ],
            [
             1,
             "#f0f921"
            ]
           ],
           "sequentialminus": [
            [
             0,
             "#0d0887"
            ],
            [
             0.1111111111111111,
             "#46039f"
            ],
            [
             0.2222222222222222,
             "#7201a8"
            ],
            [
             0.3333333333333333,
             "#9c179e"
            ],
            [
             0.4444444444444444,
             "#bd3786"
            ],
            [
             0.5555555555555556,
             "#d8576b"
            ],
            [
             0.6666666666666666,
             "#ed7953"
            ],
            [
             0.7777777777777778,
             "#fb9f3a"
            ],
            [
             0.8888888888888888,
             "#fdca26"
            ],
            [
             1,
             "#f0f921"
            ]
           ]
          },
          "colorway": [
           "#636efa",
           "#EF553B",
           "#00cc96",
           "#ab63fa",
           "#FFA15A",
           "#19d3f3",
           "#FF6692",
           "#B6E880",
           "#FF97FF",
           "#FECB52"
          ],
          "font": {
           "color": "#2a3f5f"
          },
          "geo": {
           "bgcolor": "white",
           "lakecolor": "white",
           "landcolor": "white",
           "showlakes": true,
           "showland": true,
           "subunitcolor": "#C8D4E3"
          },
          "hoverlabel": {
           "align": "left"
          },
          "hovermode": "closest",
          "mapbox": {
           "style": "light"
          },
          "paper_bgcolor": "white",
          "plot_bgcolor": "white",
          "polar": {
           "angularaxis": {
            "gridcolor": "#EBF0F8",
            "linecolor": "#EBF0F8",
            "ticks": ""
           },
           "bgcolor": "white",
           "radialaxis": {
            "gridcolor": "#EBF0F8",
            "linecolor": "#EBF0F8",
            "ticks": ""
           }
          },
          "scene": {
           "xaxis": {
            "backgroundcolor": "white",
            "gridcolor": "#DFE8F3",
            "gridwidth": 2,
            "linecolor": "#EBF0F8",
            "showbackground": true,
            "ticks": "",
            "zerolinecolor": "#EBF0F8"
           },
           "yaxis": {
            "backgroundcolor": "white",
            "gridcolor": "#DFE8F3",
            "gridwidth": 2,
            "linecolor": "#EBF0F8",
            "showbackground": true,
            "ticks": "",
            "zerolinecolor": "#EBF0F8"
           },
           "zaxis": {
            "backgroundcolor": "white",
            "gridcolor": "#DFE8F3",
            "gridwidth": 2,
            "linecolor": "#EBF0F8",
            "showbackground": true,
            "ticks": "",
            "zerolinecolor": "#EBF0F8"
           }
          },
          "shapedefaults": {
           "line": {
            "color": "#2a3f5f"
           }
          },
          "ternary": {
           "aaxis": {
            "gridcolor": "#DFE8F3",
            "linecolor": "#A2B1C6",
            "ticks": ""
           },
           "baxis": {
            "gridcolor": "#DFE8F3",
            "linecolor": "#A2B1C6",
            "ticks": ""
           },
           "bgcolor": "white",
           "caxis": {
            "gridcolor": "#DFE8F3",
            "linecolor": "#A2B1C6",
            "ticks": ""
           }
          },
          "title": {
           "x": 0.05
          },
          "xaxis": {
           "automargin": true,
           "gridcolor": "#EBF0F8",
           "linecolor": "#EBF0F8",
           "ticks": "",
           "title": {
            "standoff": 15
           },
           "zerolinecolor": "#EBF0F8",
           "zerolinewidth": 2
          },
          "yaxis": {
           "automargin": true,
           "gridcolor": "#EBF0F8",
           "linecolor": "#EBF0F8",
           "ticks": "",
           "title": {
            "standoff": 15
           },
           "zerolinecolor": "#EBF0F8",
           "zerolinewidth": 2
          }
         }
        },
        "title": {
         "text": "SHG Efficiency Spectrum Comparison"
        },
        "xaxis": {
         "title": {
          "text": "Fundamental Wavelength (μm)"
         }
        },
        "yaxis": {
         "title": {
          "text": "Conversion Efficiency"
         }
        }
       }
      }
     },
     "metadata": {},
     "output_type": "display_data"
    }
   ],
   "source": [
    "from collections.abc import Callable\n",
    "from dataclasses import dataclass\n",
    "\n",
    "import jax\n",
    "import jax.numpy as jnp\n",
    "import optax  # pyright: ignore[reportMissingTypeStubs]\n",
    "import plotly.graph_objects as go  # pyright: ignore[reportMissingTypeStubs]\n",
    "from jax import Array, jit\n",
    "from jax_tqdm.loop_pbar import loop_tqdm\n",
    "\n",
    "from qpm import cwes, mgoslt\n",
    "\n",
    "\n",
    "# --- Data Structures for Configuration and Parameters ---\n",
    "@dataclass(frozen=True)\n",
    "class Config:\n",
    "    design_temp: float = 70.0\n",
    "    design_wl: float = 1.031\n",
    "    target_length: float = 2000.0\n",
    "    max_iters: int = 500\n",
    "    prng_seed: int = 42\n",
    "    kappa_mag: float = 1.31e-5 / (2 / jnp.pi)\n",
    "    kappa_target_length: float = 2000.0\n",
    "    wl_start: float = 1.025\n",
    "    wl_end: float = 1.035\n",
    "    num_points: int = 500\n",
    "\n",
    "\n",
    "@dataclass(frozen=True)\n",
    "class SimulationParameters:\n",
    "    delta_k1: Array\n",
    "    delta_k2: Array\n",
    "    kappa_array: Array\n",
    "    b_initial: Array\n",
    "\n",
    "\n",
    "# --- Core JAX Functions ---\n",
    "def make_loss_fn(sim_params: SimulationParameters) -> Callable[[Array], Array]:\n",
    "    \"\"\"Creates a loss function that returns the negative SHW power.\"\"\"\n",
    "\n",
    "    @jit\n",
    "    def loss_fn(domain_widths: Array) -> Array:\n",
    "        superlattice = jnp.stack([domain_widths, sim_params.kappa_array], axis=1)\n",
    "        b_final = cwes.simulate_twm(superlattice, sim_params.delta_k1, sim_params.delta_k2, sim_params.b_initial)\n",
    "        shw_power = jnp.abs(b_final[1]) ** 2\n",
    "        return -shw_power\n",
    "\n",
    "    return loss_fn\n",
    "\n",
    "\n",
    "# --- Workflow Functions ---\n",
    "def _initialize_grating(config: Config) -> tuple[Array, Array, Array, Array]:\n",
    "    \"\"\"Generates initial grating parameters based on the configuration.\"\"\"\n",
    "    print(\"1. Generating initial grating parameters...\")\n",
    "    delta_k1 = mgoslt.calc_twm_delta_k(config.design_wl, config.design_wl, config.design_temp)\n",
    "    delta_k2 = mgoslt.calc_twm_delta_k(config.design_wl, config.design_wl / 2, config.design_temp)\n",
    "\n",
    "    domain_len_shg = jnp.pi / delta_k1\n",
    "    num_domains = int(jnp.round(config.target_length / domain_len_shg))\n",
    "    print(f\"   - Base domain width from calculation: {domain_len_shg:.4f} μm\")\n",
    "    print(f\"   - Number of domains: {num_domains}\")\n",
    "\n",
    "    kappa_array = config.kappa_mag * jnp.power(-1.0, jnp.arange(num_domains))\n",
    "\n",
    "    initial_widths = jnp.full(num_domains, domain_len_shg)\n",
    "    key = jax.random.PRNGKey(config.prng_seed)\n",
    "    noise = jax.random.normal(key, shape=(num_domains,)) * (domain_len_shg * 0.02)\n",
    "    initial_widths = initial_widths + noise\n",
    "\n",
    "    return delta_k1, delta_k2, kappa_array, initial_widths\n",
    "\n",
    "\n",
    "# REFACTOR: The function signature is now clean and compact.\n",
    "def _run_optimization(\n",
    "    initial_widths: Array,\n",
    "    sim_params: SimulationParameters,\n",
    "    config: Config,\n",
    ") -> Array:\n",
    "    \"\"\"Sets up and runs the L-BFGS optimization.\"\"\"\n",
    "    print(\"2. Setting up loss function and L-BFGS optimizer...\")\n",
    "    loss_fn = make_loss_fn(sim_params)\n",
    "    solver = optax.lbfgs()\n",
    "\n",
    "    @jit\n",
    "    def run_full_optimization(initial_params: Array) -> Array:\n",
    "        @loop_tqdm(config.max_iters, desc=\"Optimizing\")\n",
    "        def step(_: int, state: tuple[Array, optax.OptState]) -> tuple[optax.Params, optax.OptState]:\n",
    "            params, opt_state = state\n",
    "            value, grad = jax.value_and_grad(loss_fn)(params)\n",
    "            updates, opt_state = solver.update(grad, opt_state, params, value=value, grad=grad, value_fn=loss_fn)\n",
    "            params = optax.apply_updates(params, updates)\n",
    "            return params, opt_state\n",
    "\n",
    "        initial_opt_state = solver.init(initial_params)\n",
    "        optimized_params, _ = jax.lax.fori_loop(0, config.max_iters, step, (initial_params, initial_opt_state))\n",
    "        return optimized_params\n",
    "\n",
    "    print(\"3. Running JIT-compiled optimization...\")\n",
    "    print(f\"   - Initial SHW Power: {-loss_fn(initial_widths):.4f}\")\n",
    "\n",
    "    optimized_widths = run_full_optimization(initial_widths)\n",
    "    optimized_widths.block_until_ready()\n",
    "\n",
    "    print(f\"   - Optimized SHW Power: {-loss_fn(optimized_widths):.4f}\")\n",
    "    return optimized_widths\n",
    "\n",
    "\n",
    "# --- Visualization Functions ---\n",
    "def _calculate_spectrum(domain_widths: Array, sim_params: SimulationParameters, config: Config) -> tuple[Array, Array]:\n",
    "    \"\"\"Helper function to compute the SHW Power spectrum for a given grating.\"\"\"\n",
    "    wls = jnp.linspace(config.wl_start, config.wl_end, config.num_points)\n",
    "    delta_k1s = mgoslt.calc_twm_delta_k(wls, wls, config.design_temp)\n",
    "    delta_k2s = mgoslt.calc_twm_delta_k(wls, wls / 2, config.design_temp)\n",
    "\n",
    "    compute_spectrum_vmap = jit(jax.vmap(cwes.simulate_twm, in_axes=(None, 0, 0, None)))\n",
    "\n",
    "    superlattice = jnp.stack([domain_widths, sim_params.kappa_array], axis=1)\n",
    "    final_vectors = compute_spectrum_vmap(superlattice, delta_k1s, delta_k2s, sim_params.b_initial)\n",
    "    shw_powers = jnp.abs(final_vectors[:, 1]) ** 2 * 1.07 / 2.84 * 100\n",
    "    return wls, shw_powers\n",
    "\n",
    "\n",
    "def _plot_domain_widths(initial_widths: Array, optimized_widths: Array) -> None:\n",
    "    \"\"\"Plots the domain widths before and after optimization.\"\"\"\n",
    "    fig = go.Figure()\n",
    "    fig.add_trace(go.Scatter(y=initial_widths, mode=\"lines\", name=\"Initial\", line={\"dash\": \"dash\"}))\n",
    "    fig.add_trace(go.Scatter(y=optimized_widths, mode=\"lines\", name=\"Optimized\"))\n",
    "    fig.update_layout(\n",
    "        title_text=\"Domain Widths Before and After Optimization\",\n",
    "        xaxis_title=\"Domain Index\",\n",
    "        yaxis_title=\"Width (μm)\",\n",
    "        template=\"plotly_white\",\n",
    "    )\n",
    "    fig.show()\n",
    "\n",
    "\n",
    "# REFACTOR: This function signature is also much cleaner now.\n",
    "def _plot_shw_power_spectrum(\n",
    "    initial_widths: Array,\n",
    "    optimized_widths: Array,\n",
    "    sim_params: SimulationParameters,\n",
    "    config: Config,\n",
    ") -> None:\n",
    "    \"\"\"Plots the SHG Power spectrum before and after optimization.\"\"\"\n",
    "    wls, initial_effs = _calculate_spectrum(initial_widths, sim_params, config)\n",
    "    _, optimized_effs = _calculate_spectrum(optimized_widths, sim_params, config)\n",
    "\n",
    "    fig = go.Figure()\n",
    "    fig.add_trace(go.Scatter(x=wls, y=initial_effs, mode=\"lines\", name=\"Initial\", line={\"dash\": \"dash\"}))\n",
    "    fig.add_trace(go.Scatter(x=wls, y=optimized_effs, mode=\"lines\", name=\"Optimized\"))\n",
    "    fig.add_vline(\n",
    "        x=config.design_wl,\n",
    "        line_dash=\"dot\",\n",
    "        line_color=\"red\",\n",
    "        annotation_text=f\"Design λ {config.design_wl}μm\",\n",
    "        annotation_position=\"bottom right\",\n",
    "    )\n",
    "    fig.update_layout(\n",
    "        title_text=\"SHW Power Spectrum Comparison\",\n",
    "        xaxis_title=\"Fundamental Wavelength (μm)\",\n",
    "        yaxis_title=\"SHW Power\",\n",
    "        template=\"plotly_white\",\n",
    "    )\n",
    "    fig.show()\n",
    "\n",
    "\n",
    "def main() -> None:\n",
    "    \"\"\"Main script execution.\"\"\"\n",
    "    config = Config()\n",
    "\n",
    "    # 1. Generate initial physical parameters and domain widths\n",
    "    delta_k1, delta_k2, kappa_array, initial_widths = _initialize_grating(config)\n",
    "\n",
    "    # REFACTOR: Bundle the fixed simulation parameters into a single object.\n",
    "    # This clarifies the data flow of the entire script.\n",
    "    sim_params = SimulationParameters(\n",
    "        delta_k1=delta_k1,\n",
    "        delta_k2=delta_k2,\n",
    "        kappa_array=kappa_array,\n",
    "        b_initial=jnp.array([1.0, 0.0, 0.0], dtype=jnp.complex64),\n",
    "    )\n",
    "\n",
    "    # 2. Run the optimization with the clean parameter objects\n",
    "    optimized_widths = _run_optimization(initial_widths, sim_params, config)\n",
    "\n",
    "    # 3. Visualize the results\n",
    "    print(\"4. Visualizing optimization results...\")\n",
    "    _plot_domain_widths(initial_widths, optimized_widths)\n",
    "    _plot_shw_power_spectrum(initial_widths, optimized_widths, sim_params, config)\n",
    "\n",
    "\n",
    "main()"
   ]
  }
 ],
 "metadata": {
  "kernelspec": {
   "display_name": ".venv",
   "language": "python",
   "name": "python3"
  },
  "language_info": {
   "codemirror_mode": {
    "name": "ipython",
    "version": 3
   },
   "file_extension": ".py",
   "mimetype": "text/x-python",
   "name": "python",
   "nbconvert_exporter": "python",
   "pygments_lexer": "ipython3",
   "version": "3.13.8"
  }
 },
 "nbformat": 4,
 "nbformat_minor": 5
}
