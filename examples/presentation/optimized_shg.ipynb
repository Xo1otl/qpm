{
 "cells": [
  {
   "cell_type": "code",
   "execution_count": 1,
   "id": "0e376220",
   "metadata": {},
   "outputs": [],
   "source": [
    "import jax\n",
    "\n",
    "jax.config.update(\"jax_platforms\", \"cpu\")"
   ]
  },
  {
   "cell_type": "code",
   "execution_count": 2,
   "id": "e63c0c93",
   "metadata": {},
   "outputs": [],
   "source": [
    "from collections.abc import Callable\n",
    "from dataclasses import dataclass\n",
    "\n",
    "import jax.numpy as jnp\n",
    "import optax\n",
    "import plotly.graph_objects as go\n",
    "from jax import Array, jit\n",
    "from jax_tqdm.loop_pbar import loop_tqdm\n",
    "\n",
    "from qpm import cwes, mgoslt\n",
    "\n",
    "\n",
    "# --- Regularization Strategies ---\n",
    "def tv_regularization(domain_widths: Array, lambda_val: float) -> Array:\n",
    "    \"\"\"Total Variation (TV) regularization penalizes the absolute difference between adjacent parameter values.\"\"\"\n",
    "    return lambda_val * jnp.sum(jnp.abs(jnp.diff(domain_widths)))\n",
    "\n",
    "\n",
    "REGULARIZATION_FNS: dict[str, Callable[[Array, float], Array]] = {\n",
    "    \"tv\": tv_regularization,\n",
    "}\n",
    "\n",
    "\n",
    "# --- Data Structures for Configuration and Parameters ---\n",
    "@dataclass(frozen=True)\n",
    "class Config:\n",
    "    design_temp: float = 70.0\n",
    "    design_wl: float = 1.031\n",
    "    target_length: float = 2000.0\n",
    "    max_iters: int = 200\n",
    "    prng_seed: int = 42\n",
    "    kappa_mag: float = 1.31e-5 / (2 / jnp.pi)\n",
    "    wl_start: float = 1.025\n",
    "    wl_end: float = 1.035\n",
    "    num_wl_points: int = 500\n",
    "    # Regularization parameters\n",
    "    regularization: str | None = None\n",
    "    lambda_val: float = 1e-4\n",
    "\n",
    "\n",
    "@dataclass(frozen=True)\n",
    "class SimulationParameters:\n",
    "    delta_k1: Array\n",
    "    delta_k2: Array\n",
    "    kappa_array: Array\n",
    "    b_initial: Array\n",
    "\n",
    "\n",
    "# --- Core JAX Functions ---\n",
    "def make_loss_fn(\n",
    "    sim_params: SimulationParameters,\n",
    "    regularization_fn: Callable[[Array, float], Array] | None = None,\n",
    "    lambda_val: float = 0.0,\n",
    ") -> Callable[[Array], Array]:\n",
    "    \"\"\"Creates a loss function that returns the negative SHW power with optional regularization.\"\"\"\n",
    "\n",
    "    @jit\n",
    "    def loss_fn(domain_widths: Array) -> Array:\n",
    "        b_final = cwes.simulate_twm(domain_widths, sim_params.kappa_array, sim_params.delta_k1, sim_params.delta_k2, sim_params.b_initial)\n",
    "        shw_power = jnp.abs(b_final[1]) ** 2\n",
    "\n",
    "        loss = -shw_power\n",
    "\n",
    "        if regularization_fn:\n",
    "            loss += regularization_fn(domain_widths, lambda_val)\n",
    "\n",
    "        return loss\n",
    "\n",
    "    return loss_fn\n",
    "\n",
    "\n",
    "# --- Workflow Functions ---\n",
    "def initialize_grating(config: Config) -> tuple[Array, Array, Array, Array, Array]:\n",
    "    \"\"\"Generates initial grating parameters based on the configuration.\"\"\"\n",
    "    print(\"1. Generating initial grating parameters...\")\n",
    "    delta_k1 = mgoslt.calc_twm_delta_k(config.design_wl, config.design_wl, config.design_temp)\n",
    "    delta_k2 = mgoslt.calc_twm_delta_k(config.design_wl, config.design_wl / 2, config.design_temp)\n",
    "\n",
    "    domain_len_shg = jnp.pi / delta_k1\n",
    "    num_domains = int(jnp.round(config.target_length / domain_len_shg))\n",
    "    print(f\"   - Base domain width from calculation: {domain_len_shg:.4f} μm\")\n",
    "    print(f\"   - Number of domains: {num_domains}\")\n",
    "\n",
    "    kappa_array = config.kappa_mag * jnp.power(-1.0, jnp.arange(num_domains))\n",
    "\n",
    "    periodic_widths = jnp.full(num_domains, domain_len_shg)\n",
    "    key = jax.random.PRNGKey(config.prng_seed)\n",
    "    noise = jax.random.normal(key, shape=(num_domains,)) * (domain_len_shg * 0.02)\n",
    "    initial_widths = periodic_widths + noise\n",
    "\n",
    "    return delta_k1, delta_k2, kappa_array, periodic_widths, initial_widths\n",
    "\n",
    "\n",
    "def run_optimization(\n",
    "    initial_widths: Array,\n",
    "    sim_params: SimulationParameters,\n",
    "    config: Config,\n",
    ") -> tuple[Array, Array]:\n",
    "    \"\"\"Sets up and runs the L-BFGS optimization.\"\"\"\n",
    "    print(\"2. Setting up loss function and L-BFGS optimizer...\")\n",
    "    regularization_fn = REGULARIZATION_FNS.get(config.regularization) if config.regularization else None\n",
    "    loss_fn = make_loss_fn(sim_params, regularization_fn, config.lambda_val)\n",
    "    solver = optax.lbfgs()\n",
    "\n",
    "    @jit\n",
    "    def run_full_optimization(initial_params: Array) -> tuple[Array, Array]:\n",
    "        initial_loss_history = jnp.zeros(config.max_iters)\n",
    "\n",
    "        @loop_tqdm(config.max_iters, desc=\"Optimizing\")\n",
    "        def step(i: int, state: tuple[Array, optax.OptState, Array]) -> tuple[optax.Params, optax.OptState, Array]:\n",
    "            params, opt_state, loss_history = state\n",
    "            value, grad = jax.value_and_grad(loss_fn)(params)\n",
    "            updates, opt_state = solver.update(grad, opt_state, params, value=value, grad=grad, value_fn=loss_fn)\n",
    "            params = optax.apply_updates(params, updates)\n",
    "            loss_history = loss_history.at[i].set(value)\n",
    "            return params, opt_state, loss_history\n",
    "\n",
    "        initial_opt_state = solver.init(initial_params)\n",
    "        optimized_params, _, loss_history = jax.lax.fori_loop(\n",
    "            0,\n",
    "            config.max_iters,\n",
    "            step,\n",
    "            (initial_params, initial_opt_state, initial_loss_history),\n",
    "        )\n",
    "        return optimized_params, loss_history\n",
    "\n",
    "    print(\"3. Running JIT-compiled optimization...\")\n",
    "    print(f\"   - Initial SHW Power: {-loss_fn(initial_widths):.4f}\")\n",
    "\n",
    "    optimized_widths, loss_history = run_full_optimization(initial_widths)\n",
    "    optimized_widths.block_until_ready()\n",
    "\n",
    "    print(f\"   - Optimized SHW Power: {-loss_fn(optimized_widths):.4f}\")\n",
    "    return optimized_widths, loss_history\n",
    "\n",
    "\n",
    "# --- Visualization Functions ---\n",
    "def _calculate_spectrum(domain_widths: Array, sim_params: SimulationParameters, config: Config) -> tuple[Array, Array]:\n",
    "    \"\"\"Helper function to compute the SHW Power spectrum for a given grating.\"\"\"\n",
    "    wls = jnp.linspace(config.wl_start, config.wl_end, config.num_wl_points)\n",
    "    delta_k1s = mgoslt.calc_twm_delta_k(wls, wls, config.design_temp)\n",
    "    delta_k2s = mgoslt.calc_twm_delta_k(wls, wls / 2, config.design_temp)\n",
    "\n",
    "    compute_spectrum_vmap = jit(jax.vmap(cwes.simulate_twm, in_axes=(None, None, 0, 0, None)))\n",
    "\n",
    "    final_vectors = compute_spectrum_vmap(domain_widths, sim_params.kappa_array, delta_k1s, delta_k2s, sim_params.b_initial)\n",
    "    shw_powers = jnp.abs(final_vectors[:, 1]) ** 2 * 1.07 / 2.84 * 100\n",
    "    return wls, shw_powers\n",
    "\n",
    "\n",
    "def plot_domain_widths(initial_widths: Array, optimized_widths: Array, periodic_widths: Array) -> None:\n",
    "    \"\"\"Plots the domain widths before and after optimization.\"\"\"\n",
    "    fig = go.Figure()\n",
    "    fig.add_trace(go.Scatter(y=initial_widths, mode=\"lines\", name=\"Initial\", line={\"dash\": \"dash\"}))\n",
    "    fig.add_trace(go.Scatter(y=periodic_widths, mode=\"lines\", name=\"Periodic\", line={\"dash\": \"dot\"}))\n",
    "    fig.add_trace(go.Scatter(y=optimized_widths, mode=\"lines\", name=\"Optimized\"))\n",
    "    fig.update_layout(\n",
    "        title_text=\"Domain Widths Comparison\",\n",
    "        xaxis_title=\"Domain Index\",\n",
    "        yaxis_title=\"Width (μm)\",\n",
    "        template=\"plotly_white\",\n",
    "    )\n",
    "    fig.show()\n",
    "\n",
    "\n",
    "def plot_shw_power_spectrum(\n",
    "    initial_widths: Array,\n",
    "    optimized_widths: Array,\n",
    "    periodic_widths: Array,\n",
    "    sim_params: SimulationParameters,\n",
    "    config: Config,\n",
    ") -> None:\n",
    "    \"\"\"Plots the SHG Power spectrum before and after optimization.\"\"\"\n",
    "    wls, initial_effs = _calculate_spectrum(initial_widths, sim_params, config)\n",
    "    _, optimized_effs = _calculate_spectrum(optimized_widths, sim_params, config)\n",
    "    _, periodic_effs = _calculate_spectrum(periodic_widths, sim_params, config)\n",
    "\n",
    "    fig = go.Figure()\n",
    "    fig.add_trace(go.Scatter(x=wls, y=initial_effs, mode=\"lines\", name=\"Initial\", line={\"dash\": \"dash\"}))\n",
    "    fig.add_trace(go.Scatter(x=wls, y=periodic_effs, mode=\"lines\", name=\"Periodic\", line={\"dash\": \"dot\"}))\n",
    "    fig.add_trace(go.Scatter(x=wls, y=optimized_effs, mode=\"lines\", name=\"Optimized\"))\n",
    "    fig.add_vline(\n",
    "        x=config.design_wl,\n",
    "        line_dash=\"dot\",\n",
    "        line_color=\"red\",\n",
    "        annotation_text=f\"Design λ {config.design_wl}μm\",\n",
    "        annotation_position=\"bottom right\",\n",
    "    )\n",
    "    fig.update_layout(\n",
    "        title_text=\"SHW Power Spectrum Comparison\",\n",
    "        xaxis_title=\"Fundamental Wavelength (μm)\",\n",
    "        yaxis_title=\"SHW Power\",\n",
    "        template=\"plotly_white\",\n",
    "    )\n",
    "    fig.show()\n",
    "\n",
    "\n",
    "def plot_cost_history(loss_history: Array) -> None:\n",
    "    \"\"\"Plots the optimization cost history.\"\"\"\n",
    "    fig = go.Figure()\n",
    "    fig.add_trace(go.Scatter(y=loss_history, mode=\"lines\", name=\"Loss\"))\n",
    "    fig.update_layout(\n",
    "        title_text=\"Optimization Cost History\",\n",
    "        xaxis_title=\"Iteration\",\n",
    "        yaxis_title=\"Loss\",\n",
    "        template=\"plotly_white\",\n",
    "    )\n",
    "    fig.show()"
   ]
  },
  {
   "cell_type": "code",
   "execution_count": 3,
   "id": "0d1f808b",
   "metadata": {},
   "outputs": [
    {
     "name": "stdout",
     "output_type": "stream",
     "text": [
      "1. Generating initial grating parameters...\n",
      "   - Base domain width from calculation: 3.6008 μm\n",
      "   - Number of domains: 555\n",
      "2. Setting up loss function and L-BFGS optimizer...\n",
      "3. Running JIT-compiled optimization...\n",
      "   - Initial SHW Power: 0.0005\n"
     ]
    },
    {
     "data": {
      "application/vnd.jupyter.widget-view+json": {
       "model_id": "04749711b72f411ba148a92e5e8b436d",
       "version_major": 2,
       "version_minor": 0
      },
      "text/plain": [
       "Optimizing:   0%|          | 0/200 [00:00<?, ?it/s]"
      ]
     },
     "metadata": {},
     "output_type": "display_data"
    },
    {
     "name": "stdout",
     "output_type": "stream",
     "text": [
      "   - Optimized SHW Power: 0.0007\n"
     ]
    }
   ],
   "source": [
    "\"\"\"Main function to run the optimization and visualization.\"\"\"\n",
    "config = Config()\n",
    "# 1. Generate initial physical parameters and domain widths\n",
    "delta_k1, delta_k2, kappa_array, periodic_widths, initial_widths = initialize_grating(config)\n",
    "# 2. Create simulation parameters\n",
    "sim_params = SimulationParameters(\n",
    "    delta_k1=delta_k1,\n",
    "    delta_k2=delta_k2,\n",
    "    kappa_array=kappa_array,\n",
    "    b_initial=jnp.array([1.0, 0.0, 0.0], dtype=jnp.complex64),\n",
    ")\n",
    "# 3. Run the optimization with the clean parameter objects\n",
    "optimized_widths, loss_history = run_optimization(initial_widths, sim_params, config)"
   ]
  },
  {
   "cell_type": "code",
   "execution_count": 5,
   "id": "fe34cbc9",
   "metadata": {},
   "outputs": [
    {
     "name": "stdout",
     "output_type": "stream",
     "text": [
      "4. Visualizing optimization results...\n"
     ]
    },
    {
     "data": {
      "application/vnd.plotly.v1+json": {
       "config": {
        "plotlyServerURL": "https://plot.ly"
       },
       "data": [
        {
         "line": {
          "dash": "dash"
         },
         "mode": "lines",
         "name": "Initial",
         "type": "scatter",
         "y": {
          "bdata": "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",
          "dtype": "f4"
         }
        },
        {
         "line": {
          "dash": "dot"
         },
         "mode": "lines",
         "name": "Periodic",
         "type": "scatter",
         "y": {
          "bdata": "/nNmQP5zZkD+c2ZA/nNmQP5zZkD+c2ZA/nNmQP5zZkD+c2ZA/nNmQP5zZkD+c2ZA/nNmQP5zZkD+c2ZA/nNmQP5zZkD+c2ZA/nNmQP5zZkD+c2ZA/nNmQP5zZkD+c2ZA/nNmQP5zZkD+c2ZA/nNmQP5zZkD+c2ZA/nNmQP5zZkD+c2ZA/nNmQP5zZkD+c2ZA/nNmQP5zZkD+c2ZA/nNmQP5zZkD+c2ZA/nNmQP5zZkD+c2ZA/nNmQP5zZkD+c2ZA/nNmQP5zZkD+c2ZA/nNmQP5zZkD+c2ZA/nNmQP5zZkD+c2ZA/nNmQP5zZkD+c2ZA/nNmQP5zZkD+c2ZA/nNmQP5zZkD+c2ZA/nNmQP5zZkD+c2ZA/nNmQP5zZkD+c2ZA/nNmQP5zZkD+c2ZA/nNmQP5zZkD+c2ZA/nNmQP5zZkD+c2ZA/nNmQP5zZkD+c2ZA/nNmQP5zZkD+c2ZA/nNmQP5zZkD+c2ZA/nNmQP5zZkD+c2ZA/nNmQP5zZkD+c2ZA/nNmQP5zZkD+c2ZA/nNmQP5zZkD+c2ZA/nNmQP5zZkD+c2ZA/nNmQP5zZkD+c2ZA/nNmQP5zZkD+c2ZA/nNmQP5zZkD+c2ZA/nNmQP5zZkD+c2ZA/nNmQP5zZkD+c2ZA/nNmQP5zZkD+c2ZA/nNmQP5zZkD+c2ZA/nNmQP5zZkD+c2ZA/nNmQP5zZkD+c2ZA/nNmQP5zZkD+c2ZA/nNmQP5zZkD+c2ZA/nNmQP5zZkD+c2ZA/nNmQP5zZkD+c2ZA/nNmQP5zZkD+c2ZA/nNmQP5zZkD+c2ZA/nNmQP5zZkD+c2ZA/nNmQP5zZkD+c2ZA/nNmQP5zZkD+c2ZA/nNmQP5zZkD+c2ZA/nNmQP5zZkD+c2ZA/nNmQP5zZkD+c2ZA/nNmQP5zZkD+c2ZA/nNmQP5zZkD+c2ZA/nNmQP5zZkD+c2ZA/nNmQP5zZkD+c2ZA/nNmQP5zZkD+c2ZA/nNmQP5zZkD+c2ZA/nNmQP5zZkD+c2ZA/nNmQP5zZkD+c2ZA/nNmQP5zZkD+c2ZA/nNmQP5zZkD+c2ZA/nNmQP5zZkD+c2ZA/nNmQP5zZkD+c2ZA/nNmQP5zZkD+c2ZA/nNmQP5zZkD+c2ZA/nNmQP5zZkD+c2ZA/nNmQP5zZkD+c2ZA/nNmQP5zZkD+c2ZA/nNmQP5zZkD+c2ZA/nNmQP5zZkD+c2ZA/nNmQP5zZkD+c2ZA/nNmQP5zZkD+c2ZA/nNmQP5zZkD+c2ZA/nNmQP5zZkD+c2ZA/nNmQP5zZkD+c2ZA/nNmQP5zZkD+c2ZA/nNmQP5zZkD+c2ZA/nNmQP5zZkD+c2ZA/nNmQP5zZkD+c2ZA/nNmQP5zZkD+c2ZA/nNmQP5zZkD+c2ZA/nNmQP5zZkD+c2ZA/nNmQP5zZkD+c2ZA/nNmQP5zZkD+c2ZA/nNmQP5zZkD+c2ZA/nNmQP5zZkD+c2ZA/nNmQP5zZkD+c2ZA/nNmQP5zZkD+c2ZA/nNmQP5zZkD+c2ZA/nNmQP5zZkD+c2ZA/nNmQP5zZkD+c2ZA/nNmQP5zZkD+c2ZA/nNmQP5zZkD+c2ZA/nNmQP5zZkD+c2ZA/nNmQP5zZkD+c2ZA/nNmQP5zZkD+c2ZA/nNmQP5zZkD+c2ZA/nNmQP5zZkD+c2ZA/nNmQP5zZkD+c2ZA/nNmQP5zZkD+c2ZA/nNmQP5zZkD+c2ZA/nNmQP5zZkD+c2ZA/nNmQP5zZkD+c2ZA/nNmQP5zZkD+c2ZA/nNmQP5zZkD+c2ZA/nNmQP5zZkD+c2ZA/nNmQP5zZkD+c2ZA/nNmQP5zZkD+c2ZA/nNmQP5zZkD+c2ZA/nNmQP5zZkD+c2ZA/nNmQP5zZkD+c2ZA/nNmQP5zZkD+c2ZA/nNmQP5zZkD+c2ZA/nNmQP5zZkD+c2ZA/nNmQP5zZkD+c2ZA/nNmQP5zZkD+c2ZA/nNmQP5zZkD+c2ZA/nNmQP5zZkD+c2ZA/nNmQP5zZkD+c2ZA/nNmQP5zZkD+c2ZA/nNmQP5zZkD+c2ZA/nNmQP5zZkD+c2ZA/nNmQP5zZkD+c2ZA/nNmQP5zZkD+c2ZA/nNmQP5zZkD+c2ZA/nNmQP5zZkD+c2ZA/nNmQP5zZkD+c2ZA/nNmQP5zZkD+c2ZA/nNmQP5zZkD+c2ZA/nNmQP5zZkD+c2ZA/nNmQP5zZkD+c2ZA/nNmQP5zZkD+c2ZA/nNmQP5zZkD+c2ZA/nNmQP5zZkD+c2ZA/nNmQP5zZkD+c2ZA/nNmQP5zZkD+c2ZA/nNmQP5zZkD+c2ZA/nNmQP5zZkD+c2ZA/nNmQP5zZkD+c2ZA/nNmQP5zZkD+c2ZA/nNmQP5zZkD+c2ZA/nNmQP5zZkD+c2ZA/nNmQP5zZkD+c2ZA/nNmQP5zZkD+c2ZA/nNmQP5zZkD+c2ZA/nNmQP5zZkD+c2ZA/nNmQP5zZkD+c2ZA/nNmQP5zZkD+c2ZA/nNmQP5zZkD+c2ZA/nNmQP5zZkD+c2ZA/nNmQP5zZkD+c2ZA/nNmQP5zZkD+c2ZA/nNmQP5zZkD+c2ZA/nNmQP5zZkD+c2ZA/nNmQP5zZkD+c2ZA/nNmQP5zZkD+c2ZA/nNmQP5zZkD+c2ZA/nNmQP5zZkD+c2ZA/nNmQP5zZkD+c2ZA/nNmQP5zZkD+c2ZA/nNmQP5zZkD+c2ZA/nNmQP5zZkD+c2ZA/nNmQP5zZkD+c2ZA/nNmQP5zZkD+c2ZA/nNmQP5zZkD+c2ZA/nNmQP5zZkD+c2ZA/nNmQP5zZkD+c2ZA/nNmQP5zZkD+c2ZA/nNmQP5zZkD+c2ZA/nNmQP5zZkD+c2ZA/nNmQP5zZkD+c2ZA/nNmQP5zZkD+c2ZA/nNmQP5zZkD+c2ZA/nNmQP5zZkD+c2ZA/nNmQP5zZkD+c2ZA/nNmQP5zZkD+c2ZA/nNmQP5zZkD+c2ZA/nNmQP5zZkD+c2ZA/nNmQP5zZkD+c2ZA/nNmQP5zZkD+c2ZA",
          "dtype": "f4"
         }
        },
        {
         "mode": "lines",
         "name": "Optimized",
         "type": "scatter",
         "y": {
          "bdata": "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",
          "dtype": "f4"
         }
        }
       ],
       "layout": {
        "template": {
         "data": {
          "bar": [
           {
            "error_x": {
             "color": "#2a3f5f"
            },
            "error_y": {
             "color": "#2a3f5f"
            },
            "marker": {
             "line": {
              "color": "white",
              "width": 0.5
             },
             "pattern": {
              "fillmode": "overlay",
              "size": 10,
              "solidity": 0.2
             }
            },
            "type": "bar"
           }
          ],
          "barpolar": [
           {
            "marker": {
             "line": {
              "color": "white",
              "width": 0.5
             },
             "pattern": {
              "fillmode": "overlay",
              "size": 10,
              "solidity": 0.2
             }
            },
            "type": "barpolar"
           }
          ],
          "carpet": [
           {
            "aaxis": {
             "endlinecolor": "#2a3f5f",
             "gridcolor": "#C8D4E3",
             "linecolor": "#C8D4E3",
             "minorgridcolor": "#C8D4E3",
             "startlinecolor": "#2a3f5f"
            },
            "baxis": {
             "endlinecolor": "#2a3f5f",
             "gridcolor": "#C8D4E3",
             "linecolor": "#C8D4E3",
             "minorgridcolor": "#C8D4E3",
             "startlinecolor": "#2a3f5f"
            },
            "type": "carpet"
           }
          ],
          "choropleth": [
           {
            "colorbar": {
             "outlinewidth": 0,
             "ticks": ""
            },
            "type": "choropleth"
           }
          ],
          "contour": [
           {
            "colorbar": {
             "outlinewidth": 0,
             "ticks": ""
            },
            "colorscale": [
             [
              0,
              "#0d0887"
             ],
             [
              0.1111111111111111,
              "#46039f"
             ],
             [
              0.2222222222222222,
              "#7201a8"
             ],
             [
              0.3333333333333333,
              "#9c179e"
             ],
             [
              0.4444444444444444,
              "#bd3786"
             ],
             [
              0.5555555555555556,
              "#d8576b"
             ],
             [
              0.6666666666666666,
              "#ed7953"
             ],
             [
              0.7777777777777778,
              "#fb9f3a"
             ],
             [
              0.8888888888888888,
              "#fdca26"
             ],
             [
              1,
              "#f0f921"
             ]
            ],
            "type": "contour"
           }
          ],
          "contourcarpet": [
           {
            "colorbar": {
             "outlinewidth": 0,
             "ticks": ""
            },
            "type": "contourcarpet"
           }
          ],
          "heatmap": [
           {
            "colorbar": {
             "outlinewidth": 0,
             "ticks": ""
            },
            "colorscale": [
             [
              0,
              "#0d0887"
             ],
             [
              0.1111111111111111,
              "#46039f"
             ],
             [
              0.2222222222222222,
              "#7201a8"
             ],
             [
              0.3333333333333333,
              "#9c179e"
             ],
             [
              0.4444444444444444,
              "#bd3786"
             ],
             [
              0.5555555555555556,
              "#d8576b"
             ],
             [
              0.6666666666666666,
              "#ed7953"
             ],
             [
              0.7777777777777778,
              "#fb9f3a"
             ],
             [
              0.8888888888888888,
              "#fdca26"
             ],
             [
              1,
              "#f0f921"
             ]
            ],
            "type": "heatmap"
           }
          ],
          "histogram": [
           {
            "marker": {
             "pattern": {
              "fillmode": "overlay",
              "size": 10,
              "solidity": 0.2
             }
            },
            "type": "histogram"
           }
          ],
          "histogram2d": [
           {
            "colorbar": {
             "outlinewidth": 0,
             "ticks": ""
            },
            "colorscale": [
             [
              0,
              "#0d0887"
             ],
             [
              0.1111111111111111,
              "#46039f"
             ],
             [
              0.2222222222222222,
              "#7201a8"
             ],
             [
              0.3333333333333333,
              "#9c179e"
             ],
             [
              0.4444444444444444,
              "#bd3786"
             ],
             [
              0.5555555555555556,
              "#d8576b"
             ],
             [
              0.6666666666666666,
              "#ed7953"
             ],
             [
              0.7777777777777778,
              "#fb9f3a"
             ],
             [
              0.8888888888888888,
              "#fdca26"
             ],
             [
              1,
              "#f0f921"
             ]
            ],
            "type": "histogram2d"
           }
          ],
          "histogram2dcontour": [
           {
            "colorbar": {
             "outlinewidth": 0,
             "ticks": ""
            },
            "colorscale": [
             [
              0,
              "#0d0887"
             ],
             [
              0.1111111111111111,
              "#46039f"
             ],
             [
              0.2222222222222222,
              "#7201a8"
             ],
             [
              0.3333333333333333,
              "#9c179e"
             ],
             [
              0.4444444444444444,
              "#bd3786"
             ],
             [
              0.5555555555555556,
              "#d8576b"
             ],
             [
              0.6666666666666666,
              "#ed7953"
             ],
             [
              0.7777777777777778,
              "#fb9f3a"
             ],
             [
              0.8888888888888888,
              "#fdca26"
             ],
             [
              1,
              "#f0f921"
             ]
            ],
            "type": "histogram2dcontour"
           }
          ],
          "mesh3d": [
           {
            "colorbar": {
             "outlinewidth": 0,
             "ticks": ""
            },
            "type": "mesh3d"
           }
          ],
          "parcoords": [
           {
            "line": {
             "colorbar": {
              "outlinewidth": 0,
              "ticks": ""
             }
            },
            "type": "parcoords"
           }
          ],
          "pie": [
           {
            "automargin": true,
            "type": "pie"
           }
          ],
          "scatter": [
           {
            "fillpattern": {
             "fillmode": "overlay",
             "size": 10,
             "solidity": 0.2
            },
            "type": "scatter"
           }
          ],
          "scatter3d": [
           {
            "line": {
             "colorbar": {
              "outlinewidth": 0,
              "ticks": ""
             }
            },
            "marker": {
             "colorbar": {
              "outlinewidth": 0,
              "ticks": ""
             }
            },
            "type": "scatter3d"
           }
          ],
          "scattercarpet": [
           {
            "marker": {
             "colorbar": {
              "outlinewidth": 0,
              "ticks": ""
             }
            },
            "type": "scattercarpet"
           }
          ],
          "scattergeo": [
           {
            "marker": {
             "colorbar": {
              "outlinewidth": 0,
              "ticks": ""
             }
            },
            "type": "scattergeo"
           }
          ],
          "scattergl": [
           {
            "marker": {
             "colorbar": {
              "outlinewidth": 0,
              "ticks": ""
             }
            },
            "type": "scattergl"
           }
          ],
          "scattermap": [
           {
            "marker": {
             "colorbar": {
              "outlinewidth": 0,
              "ticks": ""
             }
            },
            "type": "scattermap"
           }
          ],
          "scattermapbox": [
           {
            "marker": {
             "colorbar": {
              "outlinewidth": 0,
              "ticks": ""
             }
            },
            "type": "scattermapbox"
           }
          ],
          "scatterpolar": [
           {
            "marker": {
             "colorbar": {
              "outlinewidth": 0,
              "ticks": ""
             }
            },
            "type": "scatterpolar"
           }
          ],
          "scatterpolargl": [
           {
            "marker": {
             "colorbar": {
              "outlinewidth": 0,
              "ticks": ""
             }
            },
            "type": "scatterpolargl"
           }
          ],
          "scatterternary": [
           {
            "marker": {
             "colorbar": {
              "outlinewidth": 0,
              "ticks": ""
             }
            },
            "type": "scatterternary"
           }
          ],
          "surface": [
           {
            "colorbar": {
             "outlinewidth": 0,
             "ticks": ""
            },
            "colorscale": [
             [
              0,
              "#0d0887"
             ],
             [
              0.1111111111111111,
              "#46039f"
             ],
             [
              0.2222222222222222,
              "#7201a8"
             ],
             [
              0.3333333333333333,
              "#9c179e"
             ],
             [
              0.4444444444444444,
              "#bd3786"
             ],
             [
              0.5555555555555556,
              "#d8576b"
             ],
             [
              0.6666666666666666,
              "#ed7953"
             ],
             [
              0.7777777777777778,
              "#fb9f3a"
             ],
             [
              0.8888888888888888,
              "#fdca26"
             ],
             [
              1,
              "#f0f921"
             ]
            ],
            "type": "surface"
           }
          ],
          "table": [
           {
            "cells": {
             "fill": {
              "color": "#EBF0F8"
             },
             "line": {
              "color": "white"
             }
            },
            "header": {
             "fill": {
              "color": "#C8D4E3"
             },
             "line": {
              "color": "white"
             }
            },
            "type": "table"
           }
          ]
         },
         "layout": {
          "annotationdefaults": {
           "arrowcolor": "#2a3f5f",
           "arrowhead": 0,
           "arrowwidth": 1
          },
          "autotypenumbers": "strict",
          "coloraxis": {
           "colorbar": {
            "outlinewidth": 0,
            "ticks": ""
           }
          },
          "colorscale": {
           "diverging": [
            [
             0,
             "#8e0152"
            ],
            [
             0.1,
             "#c51b7d"
            ],
            [
             0.2,
             "#de77ae"
            ],
            [
             0.3,
             "#f1b6da"
            ],
            [
             0.4,
             "#fde0ef"
            ],
            [
             0.5,
             "#f7f7f7"
            ],
            [
             0.6,
             "#e6f5d0"
            ],
            [
             0.7,
             "#b8e186"
            ],
            [
             0.8,
             "#7fbc41"
            ],
            [
             0.9,
             "#4d9221"
            ],
            [
             1,
             "#276419"
            ]
           ],
           "sequential": [
            [
             0,
             "#0d0887"
            ],
            [
             0.1111111111111111,
             "#46039f"
            ],
            [
             0.2222222222222222,
             "#7201a8"
            ],
            [
             0.3333333333333333,
             "#9c179e"
            ],
            [
             0.4444444444444444,
             "#bd3786"
            ],
            [
             0.5555555555555556,
             "#d8576b"
            ],
            [
             0.6666666666666666,
             "#ed7953"
            ],
            [
             0.7777777777777778,
             "#fb9f3a"
            ],
            [
             0.8888888888888888,
             "#fdca26"
            ],
            [
             1,
             "#f0f921"
            ]
           ],
           "sequentialminus": [
            [
             0,
             "#0d0887"
            ],
            [
             0.1111111111111111,
             "#46039f"
            ],
            [
             0.2222222222222222,
             "#7201a8"
            ],
            [
             0.3333333333333333,
             "#9c179e"
            ],
            [
             0.4444444444444444,
             "#bd3786"
            ],
            [
             0.5555555555555556,
             "#d8576b"
            ],
            [
             0.6666666666666666,
             "#ed7953"
            ],
            [
             0.7777777777777778,
             "#fb9f3a"
            ],
            [
             0.8888888888888888,
             "#fdca26"
            ],
            [
             1,
             "#f0f921"
            ]
           ]
          },
          "colorway": [
           "#636efa",
           "#EF553B",
           "#00cc96",
           "#ab63fa",
           "#FFA15A",
           "#19d3f3",
           "#FF6692",
           "#B6E880",
           "#FF97FF",
           "#FECB52"
          ],
          "font": {
           "color": "#2a3f5f"
          },
          "geo": {
           "bgcolor": "white",
           "lakecolor": "white",
           "landcolor": "white",
           "showlakes": true,
           "showland": true,
           "subunitcolor": "#C8D4E3"
          },
          "hoverlabel": {
           "align": "left"
          },
          "hovermode": "closest",
          "mapbox": {
           "style": "light"
          },
          "paper_bgcolor": "white",
          "plot_bgcolor": "white",
          "polar": {
           "angularaxis": {
            "gridcolor": "#EBF0F8",
            "linecolor": "#EBF0F8",
            "ticks": ""
           },
           "bgcolor": "white",
           "radialaxis": {
            "gridcolor": "#EBF0F8",
            "linecolor": "#EBF0F8",
            "ticks": ""
           }
          },
          "scene": {
           "xaxis": {
            "backgroundcolor": "white",
            "gridcolor": "#DFE8F3",
            "gridwidth": 2,
            "linecolor": "#EBF0F8",
            "showbackground": true,
            "ticks": "",
            "zerolinecolor": "#EBF0F8"
           },
           "yaxis": {
            "backgroundcolor": "white",
            "gridcolor": "#DFE8F3",
            "gridwidth": 2,
            "linecolor": "#EBF0F8",
            "showbackground": true,
            "ticks": "",
            "zerolinecolor": "#EBF0F8"
           },
           "zaxis": {
            "backgroundcolor": "white",
            "gridcolor": "#DFE8F3",
            "gridwidth": 2,
            "linecolor": "#EBF0F8",
            "showbackground": true,
            "ticks": "",
            "zerolinecolor": "#EBF0F8"
           }
          },
          "shapedefaults": {
           "line": {
            "color": "#2a3f5f"
           }
          },
          "ternary": {
           "aaxis": {
            "gridcolor": "#DFE8F3",
            "linecolor": "#A2B1C6",
            "ticks": ""
           },
           "baxis": {
            "gridcolor": "#DFE8F3",
            "linecolor": "#A2B1C6",
            "ticks": ""
           },
           "bgcolor": "white",
           "caxis": {
            "gridcolor": "#DFE8F3",
            "linecolor": "#A2B1C6",
            "ticks": ""
           }
          },
          "title": {
           "x": 0.05
          },
          "xaxis": {
           "automargin": true,
           "gridcolor": "#EBF0F8",
           "linecolor": "#EBF0F8",
           "ticks": "",
           "title": {
            "standoff": 15
           },
           "zerolinecolor": "#EBF0F8",
           "zerolinewidth": 2
          },
          "yaxis": {
           "automargin": true,
           "gridcolor": "#EBF0F8",
           "linecolor": "#EBF0F8",
           "ticks": "",
           "title": {
            "standoff": 15
           },
           "zerolinecolor": "#EBF0F8",
           "zerolinewidth": 2
          }
         }
        },
        "title": {
         "text": "Domain Widths Comparison"
        },
        "xaxis": {
         "title": {
          "text": "Domain Index"
         }
        },
        "yaxis": {
         "title": {
          "text": "Width (μm)"
         }
        }
       }
      }
     },
     "metadata": {},
     "output_type": "display_data"
    },
    {
     "data": {
      "application/vnd.plotly.v1+json": {
       "config": {
        "plotlyServerURL": "https://plot.ly"
       },
       "data": [
        {
         "line": {
          "dash": "dash"
         },
         "mode": "lines",
         "name": "Initial",
         "type": "scatter",
         "x": {
          "bdata": "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",
          "dtype": "f4"
         },
         "y": {
          "bdata": "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",
          "dtype": "f4"
         }
        },
        {
         "line": {
          "dash": "dot"
         },
         "mode": "lines",
         "name": "Periodic",
         "type": "scatter",
         "x": {
          "bdata": "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",
          "dtype": "f4"
         },
         "y": {
          "bdata": "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",
          "dtype": "f4"
         }
        },
        {
         "mode": "lines",
         "name": "Optimized",
         "type": "scatter",
         "x": {
          "bdata": "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",
          "dtype": "f4"
         },
         "y": {
          "bdata": "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",
          "dtype": "f4"
         }
        }
       ],
       "layout": {
        "annotations": [
         {
          "showarrow": false,
          "text": "Design λ 1.031μm",
          "x": 1.031,
          "xanchor": "left",
          "xref": "x",
          "y": 0,
          "yanchor": "bottom",
          "yref": "y domain"
         }
        ],
        "shapes": [
         {
          "line": {
           "color": "red",
           "dash": "dot"
          },
          "type": "line",
          "x0": 1.031,
          "x1": 1.031,
          "xref": "x",
          "y0": 0,
          "y1": 1,
          "yref": "y domain"
         }
        ],
        "template": {
         "data": {
          "bar": [
           {
            "error_x": {
             "color": "#2a3f5f"
            },
            "error_y": {
             "color": "#2a3f5f"
            },
            "marker": {
             "line": {
              "color": "white",
              "width": 0.5
             },
             "pattern": {
              "fillmode": "overlay",
              "size": 10,
              "solidity": 0.2
             }
            },
            "type": "bar"
           }
          ],
          "barpolar": [
           {
            "marker": {
             "line": {
              "color": "white",
              "width": 0.5
             },
             "pattern": {
              "fillmode": "overlay",
              "size": 10,
              "solidity": 0.2
             }
            },
            "type": "barpolar"
           }
          ],
          "carpet": [
           {
            "aaxis": {
             "endlinecolor": "#2a3f5f",
             "gridcolor": "#C8D4E3",
             "linecolor": "#C8D4E3",
             "minorgridcolor": "#C8D4E3",
             "startlinecolor": "#2a3f5f"
            },
            "baxis": {
             "endlinecolor": "#2a3f5f",
             "gridcolor": "#C8D4E3",
             "linecolor": "#C8D4E3",
             "minorgridcolor": "#C8D4E3",
             "startlinecolor": "#2a3f5f"
            },
            "type": "carpet"
           }
          ],
          "choropleth": [
           {
            "colorbar": {
             "outlinewidth": 0,
             "ticks": ""
            },
            "type": "choropleth"
           }
          ],
          "contour": [
           {
            "colorbar": {
             "outlinewidth": 0,
             "ticks": ""
            },
            "colorscale": [
             [
              0,
              "#0d0887"
             ],
             [
              0.1111111111111111,
              "#46039f"
             ],
             [
              0.2222222222222222,
              "#7201a8"
             ],
             [
              0.3333333333333333,
              "#9c179e"
             ],
             [
              0.4444444444444444,
              "#bd3786"
             ],
             [
              0.5555555555555556,
              "#d8576b"
             ],
             [
              0.6666666666666666,
              "#ed7953"
             ],
             [
              0.7777777777777778,
              "#fb9f3a"
             ],
             [
              0.8888888888888888,
              "#fdca26"
             ],
             [
              1,
              "#f0f921"
             ]
            ],
            "type": "contour"
           }
          ],
          "contourcarpet": [
           {
            "colorbar": {
             "outlinewidth": 0,
             "ticks": ""
            },
            "type": "contourcarpet"
           }
          ],
          "heatmap": [
           {
            "colorbar": {
             "outlinewidth": 0,
             "ticks": ""
            },
            "colorscale": [
             [
              0,
              "#0d0887"
             ],
             [
              0.1111111111111111,
              "#46039f"
             ],
             [
              0.2222222222222222,
              "#7201a8"
             ],
             [
              0.3333333333333333,
              "#9c179e"
             ],
             [
              0.4444444444444444,
              "#bd3786"
             ],
             [
              0.5555555555555556,
              "#d8576b"
             ],
             [
              0.6666666666666666,
              "#ed7953"
             ],
             [
              0.7777777777777778,
              "#fb9f3a"
             ],
             [
              0.8888888888888888,
              "#fdca26"
             ],
             [
              1,
              "#f0f921"
             ]
            ],
            "type": "heatmap"
           }
          ],
          "histogram": [
           {
            "marker": {
             "pattern": {
              "fillmode": "overlay",
              "size": 10,
              "solidity": 0.2
             }
            },
            "type": "histogram"
           }
          ],
          "histogram2d": [
           {
            "colorbar": {
             "outlinewidth": 0,
             "ticks": ""
            },
            "colorscale": [
             [
              0,
              "#0d0887"
             ],
             [
              0.1111111111111111,
              "#46039f"
             ],
             [
              0.2222222222222222,
              "#7201a8"
             ],
             [
              0.3333333333333333,
              "#9c179e"
             ],
             [
              0.4444444444444444,
              "#bd3786"
             ],
             [
              0.5555555555555556,
              "#d8576b"
             ],
             [
              0.6666666666666666,
              "#ed7953"
             ],
             [
              0.7777777777777778,
              "#fb9f3a"
             ],
             [
              0.8888888888888888,
              "#fdca26"
             ],
             [
              1,
              "#f0f921"
             ]
            ],
            "type": "histogram2d"
           }
          ],
          "histogram2dcontour": [
           {
            "colorbar": {
             "outlinewidth": 0,
             "ticks": ""
            },
            "colorscale": [
             [
              0,
              "#0d0887"
             ],
             [
              0.1111111111111111,
              "#46039f"
             ],
             [
              0.2222222222222222,
              "#7201a8"
             ],
             [
              0.3333333333333333,
              "#9c179e"
             ],
             [
              0.4444444444444444,
              "#bd3786"
             ],
             [
              0.5555555555555556,
              "#d8576b"
             ],
             [
              0.6666666666666666,
              "#ed7953"
             ],
             [
              0.7777777777777778,
              "#fb9f3a"
             ],
             [
              0.8888888888888888,
              "#fdca26"
             ],
             [
              1,
              "#f0f921"
             ]
            ],
            "type": "histogram2dcontour"
           }
          ],
          "mesh3d": [
           {
            "colorbar": {
             "outlinewidth": 0,
             "ticks": ""
            },
            "type": "mesh3d"
           }
          ],
          "parcoords": [
           {
            "line": {
             "colorbar": {
              "outlinewidth": 0,
              "ticks": ""
             }
            },
            "type": "parcoords"
           }
          ],
          "pie": [
           {
            "automargin": true,
            "type": "pie"
           }
          ],
          "scatter": [
           {
            "fillpattern": {
             "fillmode": "overlay",
             "size": 10,
             "solidity": 0.2
            },
            "type": "scatter"
           }
          ],
          "scatter3d": [
           {
            "line": {
             "colorbar": {
              "outlinewidth": 0,
              "ticks": ""
             }
            },
            "marker": {
             "colorbar": {
              "outlinewidth": 0,
              "ticks": ""
             }
            },
            "type": "scatter3d"
           }
          ],
          "scattercarpet": [
           {
            "marker": {
             "colorbar": {
              "outlinewidth": 0,
              "ticks": ""
             }
            },
            "type": "scattercarpet"
           }
          ],
          "scattergeo": [
           {
            "marker": {
             "colorbar": {
              "outlinewidth": 0,
              "ticks": ""
             }
            },
            "type": "scattergeo"
           }
          ],
          "scattergl": [
           {
            "marker": {
             "colorbar": {
              "outlinewidth": 0,
              "ticks": ""
             }
            },
            "type": "scattergl"
           }
          ],
          "scattermap": [
           {
            "marker": {
             "colorbar": {
              "outlinewidth": 0,
              "ticks": ""
             }
            },
            "type": "scattermap"
           }
          ],
          "scattermapbox": [
           {
            "marker": {
             "colorbar": {
              "outlinewidth": 0,
              "ticks": ""
             }
            },
            "type": "scattermapbox"
           }
          ],
          "scatterpolar": [
           {
            "marker": {
             "colorbar": {
              "outlinewidth": 0,
              "ticks": ""
             }
            },
            "type": "scatterpolar"
           }
          ],
          "scatterpolargl": [
           {
            "marker": {
             "colorbar": {
              "outlinewidth": 0,
              "ticks": ""
             }
            },
            "type": "scatterpolargl"
           }
          ],
          "scatterternary": [
           {
            "marker": {
             "colorbar": {
              "outlinewidth": 0,
              "ticks": ""
             }
            },
            "type": "scatterternary"
           }
          ],
          "surface": [
           {
            "colorbar": {
             "outlinewidth": 0,
             "ticks": ""
            },
            "colorscale": [
             [
              0,
              "#0d0887"
             ],
             [
              0.1111111111111111,
              "#46039f"
             ],
             [
              0.2222222222222222,
              "#7201a8"
             ],
             [
              0.3333333333333333,
              "#9c179e"
             ],
             [
              0.4444444444444444,
              "#bd3786"
             ],
             [
              0.5555555555555556,
              "#d8576b"
             ],
             [
              0.6666666666666666,
              "#ed7953"
             ],
             [
              0.7777777777777778,
              "#fb9f3a"
             ],
             [
              0.8888888888888888,
              "#fdca26"
             ],
             [
              1,
              "#f0f921"
             ]
            ],
            "type": "surface"
           }
          ],
          "table": [
           {
            "cells": {
             "fill": {
              "color": "#EBF0F8"
             },
             "line": {
              "color": "white"
             }
            },
            "header": {
             "fill": {
              "color": "#C8D4E3"
             },
             "line": {
              "color": "white"
             }
            },
            "type": "table"
           }
          ]
         },
         "layout": {
          "annotationdefaults": {
           "arrowcolor": "#2a3f5f",
           "arrowhead": 0,
           "arrowwidth": 1
          },
          "autotypenumbers": "strict",
          "coloraxis": {
           "colorbar": {
            "outlinewidth": 0,
            "ticks": ""
           }
          },
          "colorscale": {
           "diverging": [
            [
             0,
             "#8e0152"
            ],
            [
             0.1,
             "#c51b7d"
            ],
            [
             0.2,
             "#de77ae"
            ],
            [
             0.3,
             "#f1b6da"
            ],
            [
             0.4,
             "#fde0ef"
            ],
            [
             0.5,
             "#f7f7f7"
            ],
            [
             0.6,
             "#e6f5d0"
            ],
            [
             0.7,
             "#b8e186"
            ],
            [
             0.8,
             "#7fbc41"
            ],
            [
             0.9,
             "#4d9221"
            ],
            [
             1,
             "#276419"
            ]
           ],
           "sequential": [
            [
             0,
             "#0d0887"
            ],
            [
             0.1111111111111111,
             "#46039f"
            ],
            [
             0.2222222222222222,
             "#7201a8"
            ],
            [
             0.3333333333333333,
             "#9c179e"
            ],
            [
             0.4444444444444444,
             "#bd3786"
            ],
            [
             0.5555555555555556,
             "#d8576b"
            ],
            [
             0.6666666666666666,
             "#ed7953"
            ],
            [
             0.7777777777777778,
             "#fb9f3a"
            ],
            [
             0.8888888888888888,
             "#fdca26"
            ],
            [
             1,
             "#f0f921"
            ]
           ],
           "sequentialminus": [
            [
             0,
             "#0d0887"
            ],
            [
             0.1111111111111111,
             "#46039f"
            ],
            [
             0.2222222222222222,
             "#7201a8"
            ],
            [
             0.3333333333333333,
             "#9c179e"
            ],
            [
             0.4444444444444444,
             "#bd3786"
            ],
            [
             0.5555555555555556,
             "#d8576b"
            ],
            [
             0.6666666666666666,
             "#ed7953"
            ],
            [
             0.7777777777777778,
             "#fb9f3a"
            ],
            [
             0.8888888888888888,
             "#fdca26"
            ],
            [
             1,
             "#f0f921"
            ]
           ]
          },
          "colorway": [
           "#636efa",
           "#EF553B",
           "#00cc96",
           "#ab63fa",
           "#FFA15A",
           "#19d3f3",
           "#FF6692",
           "#B6E880",
           "#FF97FF",
           "#FECB52"
          ],
          "font": {
           "color": "#2a3f5f"
          },
          "geo": {
           "bgcolor": "white",
           "lakecolor": "white",
           "landcolor": "white",
           "showlakes": true,
           "showland": true,
           "subunitcolor": "#C8D4E3"
          },
          "hoverlabel": {
           "align": "left"
          },
          "hovermode": "closest",
          "mapbox": {
           "style": "light"
          },
          "paper_bgcolor": "white",
          "plot_bgcolor": "white",
          "polar": {
           "angularaxis": {
            "gridcolor": "#EBF0F8",
            "linecolor": "#EBF0F8",
            "ticks": ""
           },
           "bgcolor": "white",
           "radialaxis": {
            "gridcolor": "#EBF0F8",
            "linecolor": "#EBF0F8",
            "ticks": ""
           }
          },
          "scene": {
           "xaxis": {
            "backgroundcolor": "white",
            "gridcolor": "#DFE8F3",
            "gridwidth": 2,
            "linecolor": "#EBF0F8",
            "showbackground": true,
            "ticks": "",
            "zerolinecolor": "#EBF0F8"
           },
           "yaxis": {
            "backgroundcolor": "white",
            "gridcolor": "#DFE8F3",
            "gridwidth": 2,
            "linecolor": "#EBF0F8",
            "showbackground": true,
            "ticks": "",
            "zerolinecolor": "#EBF0F8"
           },
           "zaxis": {
            "backgroundcolor": "white",
            "gridcolor": "#DFE8F3",
            "gridwidth": 2,
            "linecolor": "#EBF0F8",
            "showbackground": true,
            "ticks": "",
            "zerolinecolor": "#EBF0F8"
           }
          },
          "shapedefaults": {
           "line": {
            "color": "#2a3f5f"
           }
          },
          "ternary": {
           "aaxis": {
            "gridcolor": "#DFE8F3",
            "linecolor": "#A2B1C6",
            "ticks": ""
           },
           "baxis": {
            "gridcolor": "#DFE8F3",
            "linecolor": "#A2B1C6",
            "ticks": ""
           },
           "bgcolor": "white",
           "caxis": {
            "gridcolor": "#DFE8F3",
            "linecolor": "#A2B1C6",
            "ticks": ""
           }
          },
          "title": {
           "x": 0.05
          },
          "xaxis": {
           "automargin": true,
           "gridcolor": "#EBF0F8",
           "linecolor": "#EBF0F8",
           "ticks": "",
           "title": {
            "standoff": 15
           },
           "zerolinecolor": "#EBF0F8",
           "zerolinewidth": 2
          },
          "yaxis": {
           "automargin": true,
           "gridcolor": "#EBF0F8",
           "linecolor": "#EBF0F8",
           "ticks": "",
           "title": {
            "standoff": 15
           },
           "zerolinecolor": "#EBF0F8",
           "zerolinewidth": 2
          }
         }
        },
        "title": {
         "text": "SHW Power Spectrum Comparison"
        },
        "xaxis": {
         "title": {
          "text": "Fundamental Wavelength (μm)"
         }
        },
        "yaxis": {
         "title": {
          "text": "SHW Power"
         }
        }
       }
      }
     },
     "metadata": {},
     "output_type": "display_data"
    },
    {
     "data": {
      "application/vnd.plotly.v1+json": {
       "config": {
        "plotlyServerURL": "https://plot.ly"
       },
       "data": [
        {
         "mode": "lines",
         "name": "Loss",
         "type": "scatter",
         "y": {
          "bdata": "/Vb5uTUkCbpW0Bu69eYjuuKAJ7qyiSq6/hIturYrMLrLIzG6TqcxuukFMrpoOzK6NlgyuhpmMrrzeTK66pAyuhiXMroirDK6OrUyuuK9MrpCxTK6pNUyumvjMrob6jK6AfIyusz6Mro0BjO6axQzumkXM7pzHDO6Kx4zuuUgM7qgJDO6EiczutwoM7qCKzO6FS0zuisxM7qFODO64jszuqQ+M7qOPzO6sUAzuj9BM7rKQjO6PEMzutVEM7pjRTO68EYzun5JM7pKSzO6100zuolPM7rUUDO6CFMzuthTM7r2VDO6NlYzuuZYM7p2WjO6J1szujFcM7rUXDO6Yl4zuihfM7oKYDO6dmAzuspgM7qYYTO6pmMzugpkM7rTZDO6gWUzushmM7qKaDO6/2gzusVpM7pXajO6sWszuuJrM7rqbDO63W0zustuM7pNbzO6R3AzugFyM7r3cjO6SXMzugB0M7pSdDO6V3UzutB1M7p6djO6E3czuqN3M7rddzO6JHgzuqt4M7pOeTO6mXozuuB6M7rAezO6U3wzus98M7oDfTO6gX0zutB9M7r9fTO6ZX4zusd+M7qPfzO6J4AzunKAM7qXgDO62YAzunuBM7rbgTO6+YEzuiiCM7pcgjO6j4Izui+DM7o6gzO654MzujSEM7p6hDO674QzugOFM7pLhTO6ZoUzuq2FM7rahTO6+4UzukqGM7qVhjO6GIczuiKHM7p7hzO6qIczuhWIM7pRiDO6p4gzuuOIM7r/iDO6hIkzusWJM7rxiTO6WIozuoSKM7qpijO6xIozugqLM7olizO6HoszujSLM7ptizO6moszupeLM7raizO6G4wzun6MM7qtjDO65IwzuvWMM7r7jDO6JY0zujmNM7qRjTO6rY0zus+NM7oBjjO6HY4zujCOM7pVjjO6fY4zuoWOM7qijjO6uY4zur6OM7rrjjO69I4zujePM7pzjzO62Y8zuuyPM7oUkDO6bZAzun2QM7qQkDO6lZAzuqyQM7q/kDO6x5AzutGQM7rZkDO6+ZAzugiRM7ohkTO6I5Ezuk+RM7o=",
          "dtype": "f4"
         }
        }
       ],
       "layout": {
        "template": {
         "data": {
          "bar": [
           {
            "error_x": {
             "color": "#2a3f5f"
            },
            "error_y": {
             "color": "#2a3f5f"
            },
            "marker": {
             "line": {
              "color": "white",
              "width": 0.5
             },
             "pattern": {
              "fillmode": "overlay",
              "size": 10,
              "solidity": 0.2
             }
            },
            "type": "bar"
           }
          ],
          "barpolar": [
           {
            "marker": {
             "line": {
              "color": "white",
              "width": 0.5
             },
             "pattern": {
              "fillmode": "overlay",
              "size": 10,
              "solidity": 0.2
             }
            },
            "type": "barpolar"
           }
          ],
          "carpet": [
           {
            "aaxis": {
             "endlinecolor": "#2a3f5f",
             "gridcolor": "#C8D4E3",
             "linecolor": "#C8D4E3",
             "minorgridcolor": "#C8D4E3",
             "startlinecolor": "#2a3f5f"
            },
            "baxis": {
             "endlinecolor": "#2a3f5f",
             "gridcolor": "#C8D4E3",
             "linecolor": "#C8D4E3",
             "minorgridcolor": "#C8D4E3",
             "startlinecolor": "#2a3f5f"
            },
            "type": "carpet"
           }
          ],
          "choropleth": [
           {
            "colorbar": {
             "outlinewidth": 0,
             "ticks": ""
            },
            "type": "choropleth"
           }
          ],
          "contour": [
           {
            "colorbar": {
             "outlinewidth": 0,
             "ticks": ""
            },
            "colorscale": [
             [
              0,
              "#0d0887"
             ],
             [
              0.1111111111111111,
              "#46039f"
             ],
             [
              0.2222222222222222,
              "#7201a8"
             ],
             [
              0.3333333333333333,
              "#9c179e"
             ],
             [
              0.4444444444444444,
              "#bd3786"
             ],
             [
              0.5555555555555556,
              "#d8576b"
             ],
             [
              0.6666666666666666,
              "#ed7953"
             ],
             [
              0.7777777777777778,
              "#fb9f3a"
             ],
             [
              0.8888888888888888,
              "#fdca26"
             ],
             [
              1,
              "#f0f921"
             ]
            ],
            "type": "contour"
           }
          ],
          "contourcarpet": [
           {
            "colorbar": {
             "outlinewidth": 0,
             "ticks": ""
            },
            "type": "contourcarpet"
           }
          ],
          "heatmap": [
           {
            "colorbar": {
             "outlinewidth": 0,
             "ticks": ""
            },
            "colorscale": [
             [
              0,
              "#0d0887"
             ],
             [
              0.1111111111111111,
              "#46039f"
             ],
             [
              0.2222222222222222,
              "#7201a8"
             ],
             [
              0.3333333333333333,
              "#9c179e"
             ],
             [
              0.4444444444444444,
              "#bd3786"
             ],
             [
              0.5555555555555556,
              "#d8576b"
             ],
             [
              0.6666666666666666,
              "#ed7953"
             ],
             [
              0.7777777777777778,
              "#fb9f3a"
             ],
             [
              0.8888888888888888,
              "#fdca26"
             ],
             [
              1,
              "#f0f921"
             ]
            ],
            "type": "heatmap"
           }
          ],
          "histogram": [
           {
            "marker": {
             "pattern": {
              "fillmode": "overlay",
              "size": 10,
              "solidity": 0.2
             }
            },
            "type": "histogram"
           }
          ],
          "histogram2d": [
           {
            "colorbar": {
             "outlinewidth": 0,
             "ticks": ""
            },
            "colorscale": [
             [
              0,
              "#0d0887"
             ],
             [
              0.1111111111111111,
              "#46039f"
             ],
             [
              0.2222222222222222,
              "#7201a8"
             ],
             [
              0.3333333333333333,
              "#9c179e"
             ],
             [
              0.4444444444444444,
              "#bd3786"
             ],
             [
              0.5555555555555556,
              "#d8576b"
             ],
             [
              0.6666666666666666,
              "#ed7953"
             ],
             [
              0.7777777777777778,
              "#fb9f3a"
             ],
             [
              0.8888888888888888,
              "#fdca26"
             ],
             [
              1,
              "#f0f921"
             ]
            ],
            "type": "histogram2d"
           }
          ],
          "histogram2dcontour": [
           {
            "colorbar": {
             "outlinewidth": 0,
             "ticks": ""
            },
            "colorscale": [
             [
              0,
              "#0d0887"
             ],
             [
              0.1111111111111111,
              "#46039f"
             ],
             [
              0.2222222222222222,
              "#7201a8"
             ],
             [
              0.3333333333333333,
              "#9c179e"
             ],
             [
              0.4444444444444444,
              "#bd3786"
             ],
             [
              0.5555555555555556,
              "#d8576b"
             ],
             [
              0.6666666666666666,
              "#ed7953"
             ],
             [
              0.7777777777777778,
              "#fb9f3a"
             ],
             [
              0.8888888888888888,
              "#fdca26"
             ],
             [
              1,
              "#f0f921"
             ]
            ],
            "type": "histogram2dcontour"
           }
          ],
          "mesh3d": [
           {
            "colorbar": {
             "outlinewidth": 0,
             "ticks": ""
            },
            "type": "mesh3d"
           }
          ],
          "parcoords": [
           {
            "line": {
             "colorbar": {
              "outlinewidth": 0,
              "ticks": ""
             }
            },
            "type": "parcoords"
           }
          ],
          "pie": [
           {
            "automargin": true,
            "type": "pie"
           }
          ],
          "scatter": [
           {
            "fillpattern": {
             "fillmode": "overlay",
             "size": 10,
             "solidity": 0.2
            },
            "type": "scatter"
           }
          ],
          "scatter3d": [
           {
            "line": {
             "colorbar": {
              "outlinewidth": 0,
              "ticks": ""
             }
            },
            "marker": {
             "colorbar": {
              "outlinewidth": 0,
              "ticks": ""
             }
            },
            "type": "scatter3d"
           }
          ],
          "scattercarpet": [
           {
            "marker": {
             "colorbar": {
              "outlinewidth": 0,
              "ticks": ""
             }
            },
            "type": "scattercarpet"
           }
          ],
          "scattergeo": [
           {
            "marker": {
             "colorbar": {
              "outlinewidth": 0,
              "ticks": ""
             }
            },
            "type": "scattergeo"
           }
          ],
          "scattergl": [
           {
            "marker": {
             "colorbar": {
              "outlinewidth": 0,
              "ticks": ""
             }
            },
            "type": "scattergl"
           }
          ],
          "scattermap": [
           {
            "marker": {
             "colorbar": {
              "outlinewidth": 0,
              "ticks": ""
             }
            },
            "type": "scattermap"
           }
          ],
          "scattermapbox": [
           {
            "marker": {
             "colorbar": {
              "outlinewidth": 0,
              "ticks": ""
             }
            },
            "type": "scattermapbox"
           }
          ],
          "scatterpolar": [
           {
            "marker": {
             "colorbar": {
              "outlinewidth": 0,
              "ticks": ""
             }
            },
            "type": "scatterpolar"
           }
          ],
          "scatterpolargl": [
           {
            "marker": {
             "colorbar": {
              "outlinewidth": 0,
              "ticks": ""
             }
            },
            "type": "scatterpolargl"
           }
          ],
          "scatterternary": [
           {
            "marker": {
             "colorbar": {
              "outlinewidth": 0,
              "ticks": ""
             }
            },
            "type": "scatterternary"
           }
          ],
          "surface": [
           {
            "colorbar": {
             "outlinewidth": 0,
             "ticks": ""
            },
            "colorscale": [
             [
              0,
              "#0d0887"
             ],
             [
              0.1111111111111111,
              "#46039f"
             ],
             [
              0.2222222222222222,
              "#7201a8"
             ],
             [
              0.3333333333333333,
              "#9c179e"
             ],
             [
              0.4444444444444444,
              "#bd3786"
             ],
             [
              0.5555555555555556,
              "#d8576b"
             ],
             [
              0.6666666666666666,
              "#ed7953"
             ],
             [
              0.7777777777777778,
              "#fb9f3a"
             ],
             [
              0.8888888888888888,
              "#fdca26"
             ],
             [
              1,
              "#f0f921"
             ]
            ],
            "type": "surface"
           }
          ],
          "table": [
           {
            "cells": {
             "fill": {
              "color": "#EBF0F8"
             },
             "line": {
              "color": "white"
             }
            },
            "header": {
             "fill": {
              "color": "#C8D4E3"
             },
             "line": {
              "color": "white"
             }
            },
            "type": "table"
           }
          ]
         },
         "layout": {
          "annotationdefaults": {
           "arrowcolor": "#2a3f5f",
           "arrowhead": 0,
           "arrowwidth": 1
          },
          "autotypenumbers": "strict",
          "coloraxis": {
           "colorbar": {
            "outlinewidth": 0,
            "ticks": ""
           }
          },
          "colorscale": {
           "diverging": [
            [
             0,
             "#8e0152"
            ],
            [
             0.1,
             "#c51b7d"
            ],
            [
             0.2,
             "#de77ae"
            ],
            [
             0.3,
             "#f1b6da"
            ],
            [
             0.4,
             "#fde0ef"
            ],
            [
             0.5,
             "#f7f7f7"
            ],
            [
             0.6,
             "#e6f5d0"
            ],
            [
             0.7,
             "#b8e186"
            ],
            [
             0.8,
             "#7fbc41"
            ],
            [
             0.9,
             "#4d9221"
            ],
            [
             1,
             "#276419"
            ]
           ],
           "sequential": [
            [
             0,
             "#0d0887"
            ],
            [
             0.1111111111111111,
             "#46039f"
            ],
            [
             0.2222222222222222,
             "#7201a8"
            ],
            [
             0.3333333333333333,
             "#9c179e"
            ],
            [
             0.4444444444444444,
             "#bd3786"
            ],
            [
             0.5555555555555556,
             "#d8576b"
            ],
            [
             0.6666666666666666,
             "#ed7953"
            ],
            [
             0.7777777777777778,
             "#fb9f3a"
            ],
            [
             0.8888888888888888,
             "#fdca26"
            ],
            [
             1,
             "#f0f921"
            ]
           ],
           "sequentialminus": [
            [
             0,
             "#0d0887"
            ],
            [
             0.1111111111111111,
             "#46039f"
            ],
            [
             0.2222222222222222,
             "#7201a8"
            ],
            [
             0.3333333333333333,
             "#9c179e"
            ],
            [
             0.4444444444444444,
             "#bd3786"
            ],
            [
             0.5555555555555556,
             "#d8576b"
            ],
            [
             0.6666666666666666,
             "#ed7953"
            ],
            [
             0.7777777777777778,
             "#fb9f3a"
            ],
            [
             0.8888888888888888,
             "#fdca26"
            ],
            [
             1,
             "#f0f921"
            ]
           ]
          },
          "colorway": [
           "#636efa",
           "#EF553B",
           "#00cc96",
           "#ab63fa",
           "#FFA15A",
           "#19d3f3",
           "#FF6692",
           "#B6E880",
           "#FF97FF",
           "#FECB52"
          ],
          "font": {
           "color": "#2a3f5f"
          },
          "geo": {
           "bgcolor": "white",
           "lakecolor": "white",
           "landcolor": "white",
           "showlakes": true,
           "showland": true,
           "subunitcolor": "#C8D4E3"
          },
          "hoverlabel": {
           "align": "left"
          },
          "hovermode": "closest",
          "mapbox": {
           "style": "light"
          },
          "paper_bgcolor": "white",
          "plot_bgcolor": "white",
          "polar": {
           "angularaxis": {
            "gridcolor": "#EBF0F8",
            "linecolor": "#EBF0F8",
            "ticks": ""
           },
           "bgcolor": "white",
           "radialaxis": {
            "gridcolor": "#EBF0F8",
            "linecolor": "#EBF0F8",
            "ticks": ""
           }
          },
          "scene": {
           "xaxis": {
            "backgroundcolor": "white",
            "gridcolor": "#DFE8F3",
            "gridwidth": 2,
            "linecolor": "#EBF0F8",
            "showbackground": true,
            "ticks": "",
            "zerolinecolor": "#EBF0F8"
           },
           "yaxis": {
            "backgroundcolor": "white",
            "gridcolor": "#DFE8F3",
            "gridwidth": 2,
            "linecolor": "#EBF0F8",
            "showbackground": true,
            "ticks": "",
            "zerolinecolor": "#EBF0F8"
           },
           "zaxis": {
            "backgroundcolor": "white",
            "gridcolor": "#DFE8F3",
            "gridwidth": 2,
            "linecolor": "#EBF0F8",
            "showbackground": true,
            "ticks": "",
            "zerolinecolor": "#EBF0F8"
           }
          },
          "shapedefaults": {
           "line": {
            "color": "#2a3f5f"
           }
          },
          "ternary": {
           "aaxis": {
            "gridcolor": "#DFE8F3",
            "linecolor": "#A2B1C6",
            "ticks": ""
           },
           "baxis": {
            "gridcolor": "#DFE8F3",
            "linecolor": "#A2B1C6",
            "ticks": ""
           },
           "bgcolor": "white",
           "caxis": {
            "gridcolor": "#DFE8F3",
            "linecolor": "#A2B1C6",
            "ticks": ""
           }
          },
          "title": {
           "x": 0.05
          },
          "xaxis": {
           "automargin": true,
           "gridcolor": "#EBF0F8",
           "linecolor": "#EBF0F8",
           "ticks": "",
           "title": {
            "standoff": 15
           },
           "zerolinecolor": "#EBF0F8",
           "zerolinewidth": 2
          },
          "yaxis": {
           "automargin": true,
           "gridcolor": "#EBF0F8",
           "linecolor": "#EBF0F8",
           "ticks": "",
           "title": {
            "standoff": 15
           },
           "zerolinecolor": "#EBF0F8",
           "zerolinewidth": 2
          }
         }
        },
        "title": {
         "text": "Optimization Cost History"
        },
        "xaxis": {
         "title": {
          "text": "Iteration"
         }
        },
        "yaxis": {
         "title": {
          "text": "Loss"
         }
        }
       }
      }
     },
     "metadata": {},
     "output_type": "display_data"
    }
   ],
   "source": [
    "# 4. Visualize the results\n",
    "print(\"4. Visualizing optimization results...\")\n",
    "plot_domain_widths(initial_widths, optimized_widths, periodic_widths)\n",
    "plot_shw_power_spectrum(initial_widths, optimized_widths, periodic_widths, sim_params, config)\n",
    "plot_cost_history(loss_history)"
   ]
  }
 ],
 "metadata": {
  "kernelspec": {
   "display_name": "mictlan (3.13.9)",
   "language": "python",
   "name": "python3"
  },
  "language_info": {
   "codemirror_mode": {
    "name": "ipython",
    "version": 3
   },
   "file_extension": ".py",
   "mimetype": "text/x-python",
   "name": "python",
   "nbconvert_exporter": "python",
   "pygments_lexer": "ipython3",
   "version": "3.13.9"
  }
 },
 "nbformat": 4,
 "nbformat_minor": 5
}
