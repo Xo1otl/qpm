{
 "cells": [
  {
   "cell_type": "code",
   "execution_count": 1,
   "id": "dd2b2fb0",
   "metadata": {},
   "outputs": [],
   "source": [
    "import jax\n",
    "\n",
    "jax.config.update(\"jax_platforms\", \"cpu\")"
   ]
  },
  {
   "cell_type": "code",
   "execution_count": 5,
   "id": "dac6148d",
   "metadata": {},
   "outputs": [
    {
     "name": "stdout",
     "output_type": "stream",
     "text": [
      "1. Generating initial grating and simulation parameters...\n",
      "   - Base domain width from calculation: 3.6008 μm\n",
      "   - Total number of domains: 4162\n"
     ]
    }
   ],
   "source": [
    "from collections.abc import Callable\n",
    "from dataclasses import dataclass\n",
    "\n",
    "import jax.numpy as jnp\n",
    "import optax\n",
    "import plotly.graph_objects as go\n",
    "from jax import Array, jit\n",
    "from jax_tqdm.loop_pbar import loop_tqdm\n",
    "\n",
    "from qpm import cwes, mgoslt\n",
    "\n",
    "EFF_FACTOR = 1.07 / 2.84 * 100  # powerからeffに変換する\n",
    "KAPPA_FACTOR = 10\n",
    "\n",
    "\n",
    "# --- Data Structures for Configuration and Parameters ---\n",
    "@dataclass\n",
    "class Config:\n",
    "    \"\"\"Stores all hyperparameters for the optimization and simulation.\"\"\"\n",
    "\n",
    "    design_temp: float = 70.0\n",
    "    max_iters: int = 10\n",
    "    num_domains: int = int(555 * 15 / 2)\n",
    "    prng_seed: int = 42\n",
    "    kappa_mag: float = 1.31e-5 / (2 / jnp.pi) * KAPPA_FACTOR  # e-5だと勾配消失したので10倍\n",
    "    # Full spectrum calculation range\n",
    "    wl_start: float = 1.030\n",
    "    wl_end: float = 1.032\n",
    "    num_wl_points: int = 500\n",
    "    # Target flat-top region for the loss function\n",
    "    flat_top_wl_start: float = 1.031 - 0.0002\n",
    "    flat_top_wl_end: float = 1.031 + 0.0002\n",
    "    target_eff: float = 0.18 * KAPPA_FACTOR**2 / EFF_FACTOR\n",
    "\n",
    "\n",
    "@dataclass(frozen=True)\n",
    "class SimulationParameters:\n",
    "    \"\"\"Stores fixed parameters required for the simulation physics.\"\"\"\n",
    "\n",
    "    kappa_array: Array\n",
    "    b_initial: Array\n",
    "    wls: Array\n",
    "    delta_k1s: Array\n",
    "    delta_k2s: Array\n",
    "    flat_top_indices: tuple[Array, ...]\n",
    "\n",
    "\n",
    "# --- Core JAX Functions ---\n",
    "def make_broadening_loss_fn(sim_params: SimulationParameters, config: Config) -> Callable[[Array], Array]:\n",
    "    \"\"\"\n",
    "    Creates a loss function that calculates the MSE between the simulated power\n",
    "    in a specified spectral region and a target power.\n",
    "    \"\"\"\n",
    "    compute_spectrum_vmap = jit(jax.vmap(cwes.simulate_twm, in_axes=(None, None, 0, 0, None)))\n",
    "\n",
    "    @jit\n",
    "    def loss_fn(domain_widths: Array) -> Array:\n",
    "        # 1. Simulate the full power spectrum\n",
    "        final_vectors = compute_spectrum_vmap(\n",
    "            domain_widths,\n",
    "            sim_params.kappa_array,\n",
    "            sim_params.delta_k1s,\n",
    "            sim_params.delta_k2s,\n",
    "            sim_params.b_initial,\n",
    "        )\n",
    "        shw_powers = jnp.abs(final_vectors[:, 1]) ** 2\n",
    "\n",
    "        # 2. Slice the spectrum to the target region\n",
    "        flat_top_powers = shw_powers[sim_params.flat_top_indices]\n",
    "\n",
    "        # 3. Calculate and return the Mean Squared Error loss\n",
    "        return jnp.mean(jnp.square(flat_top_powers - config.target_eff))\n",
    "\n",
    "    return loss_fn\n",
    "\n",
    "\n",
    "# --- Workflow Functions ---\n",
    "def initialize_simulation(config: Config) -> tuple[Array, SimulationParameters]:\n",
    "    \"\"\"Generates initial domain widths and fixed simulation parameters.\"\"\"\n",
    "    print(\"1. Generating initial grating and simulation parameters...\")\n",
    "\n",
    "    # --- Grating Initialization ---\n",
    "    center_wl = (config.flat_top_wl_start + config.flat_top_wl_end) / 2\n",
    "    delta_k1_center = mgoslt.calc_twm_delta_k(center_wl, center_wl, config.design_temp)\n",
    "\n",
    "    sfg_domain_width = jnp.pi / delta_k1_center\n",
    "    print(f\"   - Base domain width from calculation: {sfg_domain_width:.4f} μm\")\n",
    "    print(f\"   - Total number of domains: {config.num_domains}\")\n",
    "\n",
    "    kappa_array = config.kappa_mag * jnp.power(-1.0, jnp.arange(config.num_domains))\n",
    "\n",
    "    key = jax.random.PRNGKey(config.prng_seed)\n",
    "    noise = jax.random.normal(key, shape=(config.num_domains,)) * (sfg_domain_width * 0.02)\n",
    "    initial_widths = jnp.full(config.num_domains, sfg_domain_width) + noise\n",
    "\n",
    "    # --- Simulation Parameter Preparation ---\n",
    "    wls = jnp.linspace(config.wl_start, config.wl_end, config.num_wl_points)\n",
    "    delta_k1s = mgoslt.calc_twm_delta_k(wls, wls, config.design_temp)\n",
    "    delta_k2s = mgoslt.calc_twm_delta_k(wls, wls / 2, config.design_temp)\n",
    "    flat_top_indices = jnp.where((wls >= config.flat_top_wl_start) & (wls <= config.flat_top_wl_end))\n",
    "    b_initial = jnp.array(\n",
    "        [\n",
    "            1.0,\n",
    "            0.0,\n",
    "            0.0,\n",
    "        ],\n",
    "        dtype=jnp.complex64,\n",
    "    )\n",
    "\n",
    "    sim_params = SimulationParameters(\n",
    "        kappa_array=kappa_array,\n",
    "        b_initial=b_initial,\n",
    "        wls=wls,\n",
    "        delta_k1s=delta_k1s,\n",
    "        delta_k2s=delta_k2s,\n",
    "        flat_top_indices=flat_top_indices,\n",
    "    )\n",
    "    return initial_widths, sim_params\n",
    "\n",
    "\n",
    "def run_optimization(initial_widths: Array, sim_params: SimulationParameters, config: Config) -> tuple[Array, Array]:\n",
    "    \"\"\"Sets up and runs the L-BFGS optimization.\"\"\"\n",
    "    print(\"2. Setting up loss function and L-BFGS optimizer...\")\n",
    "    loss_fn = make_broadening_loss_fn(sim_params, config)\n",
    "    solver = optax.lbfgs()\n",
    "\n",
    "    @jit\n",
    "    def run_full_optimization(initial_params: Array) -> tuple[Array, Array]:\n",
    "        initial_loss_history = jnp.zeros(config.max_iters)\n",
    "\n",
    "        @loop_tqdm(config.max_iters, desc=\"Optimizing\")\n",
    "        def step(i: int, state: tuple[Array, optax.OptState, Array]) -> tuple[optax.Params, optax.OptState, Array]:\n",
    "            params, opt_state, loss_history = state\n",
    "            value, grad = jax.value_and_grad(loss_fn)(params)\n",
    "            updates, opt_state = solver.update(grad, opt_state, params, value=value, grad=grad, value_fn=loss_fn)\n",
    "            params = optax.apply_updates(params, updates)\n",
    "            loss_history = loss_history.at[i].set(value)\n",
    "            return params, opt_state, loss_history\n",
    "\n",
    "        initial_opt_state = solver.init(initial_params)\n",
    "        optimized_params, _, loss_history = jax.lax.fori_loop(\n",
    "            0,\n",
    "            config.max_iters,\n",
    "            step,\n",
    "            (initial_params, initial_opt_state, initial_loss_history),\n",
    "        )\n",
    "        return optimized_params, loss_history\n",
    "\n",
    "    print(\"3. Running JIT-compiled optimization...\")\n",
    "    print(f\"   - Initial Loss: {loss_fn(initial_widths):.4e}\")\n",
    "\n",
    "    optimized_widths, loss_history = run_full_optimization(initial_widths)\n",
    "    optimized_widths.block_until_ready()\n",
    "\n",
    "    print(f\"   - Optimized Loss: {loss_fn(optimized_widths):.4e}\")\n",
    "    return optimized_widths, loss_history\n",
    "\n",
    "\n",
    "# --- Visualization Functions ---\n",
    "def calculate_eff_spectrum(domain_widths: Array, sim_params: SimulationParameters) -> tuple[Array, Array]:\n",
    "    \"\"\"Helper function to compute the SHW power spectrum for a given grating.\"\"\"\n",
    "    compute_spectrum_vmap = jit(jax.vmap(cwes.simulate_twm, in_axes=(None, None, 0, 0, None)))\n",
    "\n",
    "    final_vectors = compute_spectrum_vmap(\n",
    "        domain_widths,\n",
    "        sim_params.kappa_array,\n",
    "        sim_params.delta_k1s,\n",
    "        sim_params.delta_k2s,\n",
    "        sim_params.b_initial,\n",
    "    )\n",
    "    shw_powers = jnp.abs(final_vectors[:, 1]) ** 2 * EFF_FACTOR\n",
    "    return sim_params.wls, shw_powers\n",
    "\n",
    "\n",
    "def plot_domain_widths(initial_widths: Array, optimized_widths: Array, periodic_widths: Array) -> None:\n",
    "    \"\"\"Plots the domain widths before and after optimization.\"\"\"\n",
    "    fig = go.Figure()\n",
    "    initial_length = jnp.sum(initial_widths)\n",
    "    periodic_length = jnp.sum(periodic_widths)\n",
    "    optimized_length = jnp.sum(optimized_widths)\n",
    "    fig.add_trace(go.Scatter(y=initial_widths, mode=\"lines\", name=f\"Initial, L={int(initial_length)} µm\", line={\"dash\": \"dash\"}))\n",
    "    fig.add_trace(go.Scatter(y=periodic_widths, mode=\"lines\", name=f\"Periodic, L={int(periodic_length)} µm\", line={\"dash\": \"dot\"}))\n",
    "    fig.add_trace(go.Scatter(y=optimized_widths, mode=\"lines\", name=f\"Optimized, L={int(optimized_length)} µm\"))\n",
    "    fig.update_layout(\n",
    "        title_text=\"Domain Widths Comparison\",\n",
    "        xaxis_title=\"Domain Index\",\n",
    "        yaxis_title=\"Width (μm)\",\n",
    "        template=\"plotly_white\",\n",
    "    )\n",
    "    fig.show()\n",
    "\n",
    "\n",
    "def plot_shw_eff_spectrum(\n",
    "    initial_widths: Array,\n",
    "    optimized_widths: Array,\n",
    "    periodic_widths: Array,\n",
    "    sim_params: SimulationParameters,\n",
    "    config: Config,\n",
    ") -> None:\n",
    "    \"\"\"Plots the SHW power spectrum before and after optimization.\"\"\"\n",
    "    wls, initial_effs = calculate_eff_spectrum(initial_widths, sim_params)\n",
    "    _, optimized_effs = calculate_eff_spectrum(optimized_widths, sim_params)\n",
    "    _, periodic_effs = calculate_eff_spectrum(periodic_widths, sim_params)\n",
    "\n",
    "    fig = go.Figure()\n",
    "    fig.add_trace(go.Scatter(x=wls, y=initial_effs, mode=\"lines\", name=\"Initial\", line={\"dash\": \"dash\"}))\n",
    "    fig.add_trace(go.Scatter(x=wls, y=periodic_effs, mode=\"lines\", name=\"Periodic\", line={\"dash\": \"dot\"}))\n",
    "    fig.add_trace(go.Scatter(x=wls, y=optimized_effs, mode=\"lines\", name=\"Optimized\"))\n",
    "    fig.add_hline(\n",
    "        y=config.target_eff * EFF_FACTOR,\n",
    "        line_width=2,\n",
    "        line_dash=\"dash\",\n",
    "        line_color=\"green\",\n",
    "        annotation_text=\"Target Power\",\n",
    "    )\n",
    "    fig.add_vrect(\n",
    "        x0=config.flat_top_wl_start,\n",
    "        x1=config.flat_top_wl_end,\n",
    "        fillcolor=\"red\",\n",
    "        opacity=0.1,\n",
    "        line_width=0,\n",
    "        annotation_text=\"Target Region\",\n",
    "        annotation_position=\"top left\",\n",
    "    )\n",
    "    fig.update_layout(\n",
    "        title_text=\"SHG Efficiency Spectrum Comparison\",\n",
    "        xaxis_title=\"Fundamental Wavelength (μm)\",\n",
    "        yaxis_title=\"SHW Efficiency (%/W)\",\n",
    "        template=\"plotly_white\",\n",
    "    )\n",
    "    fig.show()\n",
    "\n",
    "\n",
    "def plot_cost_history(loss_history: Array) -> None:\n",
    "    \"\"\"Plots the optimization cost history.\"\"\"\n",
    "    fig = go.Figure()\n",
    "    fig.add_trace(go.Scatter(y=loss_history, mode=\"lines\", name=\"Loss\"))\n",
    "    fig.update_layout(\n",
    "        title_text=\"Optimization Cost History\",\n",
    "        xaxis_title=\"Iteration\",\n",
    "        yaxis_title=\"Loss (MSE)\",\n",
    "        yaxis_type=\"log\",\n",
    "        template=\"plotly_white\",\n",
    "    )\n",
    "    fig.show()\n",
    "\n",
    "\n",
    "config = Config()\n",
    "initial_widths, sim_params = initialize_simulation(config)\n",
    "loss_history = jnp.zeros(config.max_iters)\n",
    "optimized_widths = initial_widths\n",
    "\n",
    "center_wl = (config.flat_top_wl_start + config.flat_top_wl_end) / 2\n",
    "delta_k1_center = mgoslt.calc_twm_delta_k(center_wl, center_wl, config.design_temp)\n",
    "shg_domain_width = jnp.pi / delta_k1_center\n",
    "periodic_widths = jnp.full(config.num_domains, shg_domain_width)"
   ]
  },
  {
   "cell_type": "code",
   "execution_count": null,
   "id": "873ae10b",
   "metadata": {},
   "outputs": [],
   "source": [
    "# Run the optimization\n",
    "optimized_widths, loss_history = run_optimization(initial_widths, sim_params, config)"
   ]
  },
  {
   "cell_type": "code",
   "execution_count": 8,
   "id": "b602f87c",
   "metadata": {},
   "outputs": [
    {
     "data": {
      "application/vnd.plotly.v1+json": {
       "config": {
        "plotlyServerURL": "https://plot.ly"
       },
       "data": [
        {
         "line": {
          "dash": "dash"
         },
         "mode": "lines",
         "name": "Initial, L=14978 µm",
         "type": "scatter",
         "y": {
          "bdata": "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",
          "dtype": "f4"
         }
        },
        {
         "line": {
          "dash": "dot"
         },
         "mode": "lines",
         "name": "Periodic, L=14986 µm",
         "type": "scatter",
         "y": {
          "bdata": "/nNmQP5zZkD+c2ZA/nNmQP5zZkD+c2ZA/nNmQP5zZkD+c2ZA/nNmQP5zZkD+c2ZA/nNmQP5zZkD+c2ZA/nNmQP5zZkD+c2ZA/nNmQP5zZkD+c2ZA/nNmQP5zZkD+c2ZA/nNmQP5zZkD+c2ZA/nNmQP5zZkD+c2ZA/nNmQP5zZkD+c2ZA/nNmQP5zZkD+c2ZA/nNmQP5zZkD+c2ZA/nNmQP5zZkD+c2ZA/nNmQP5zZkD+c2ZA/nNmQP5zZkD+c2ZA/nNmQP5zZkD+c2ZA/nNmQP5zZkD+c2ZA/nNmQP5zZkD+c2ZA/nNmQP5zZkD+c2ZA/nNmQP5zZkD+c2ZA/nNmQP5zZkD+c2ZA/nNmQP5zZkD+c2ZA/nNmQP5zZkD+c2ZA/nNmQP5zZkD+c2ZA/nNmQP5zZkD+c2ZA/nNmQP5zZkD+c2ZA/nNmQP5zZkD+c2ZA/nNmQP5zZkD+c2ZA/nNmQP5zZkD+c2ZA/nNmQP5zZkD+c2ZA/nNmQP5zZkD+c2ZA/nNmQP5zZkD+c2ZA/nNmQP5zZkD+c2ZA/nNmQP5zZkD+c2ZA/nNmQP5zZkD+c2ZA/nNmQP5zZkD+c2ZA/nNmQP5zZkD+c2ZA/nNmQP5zZkD+c2ZA/nNmQP5zZkD+c2ZA/nNmQP5zZkD+c2ZA/nNmQP5zZkD+c2ZA/nNmQP5zZkD+c2ZA/nNmQP5zZkD+c2ZA/nNmQP5zZkD+c2ZA/nNmQP5zZkD+c2ZA/nNmQP5zZkD+c2ZA/nNmQP5zZkD+c2ZA/nNmQP5zZkD+c2ZA/nNmQP5zZkD+c2ZA/nNmQP5zZkD+c2ZA/nNmQP5zZkD+c2ZA/nNmQP5zZkD+c2ZA/nNmQP5zZkD+c2ZA/nNmQP5zZkD+c2ZA/nNmQP5zZkD+c2ZA/nNmQP5zZkD+c2ZA/nNmQP5zZkD+c2ZA/nNmQP5zZkD+c2ZA/nNmQP5zZkD+c2ZA/nNmQP5zZkD+c2ZA/nNmQP5zZkD+c2ZA/nNmQP5zZkD+c2ZA/nNmQP5zZkD+c2ZA/nNmQP5zZkD+c2ZA/nNmQP5zZkD+c2ZA/nNmQP5zZkD+c2ZA/nNmQP5zZkD+c2ZA/nNmQP5zZkD+c2ZA/nNmQP5zZkD+c2ZA/nNmQP5zZkD+c2ZA/nNmQP5zZkD+c2ZA/nNmQP5zZkD+c2ZA/nNmQP5zZkD+c2ZA/nNmQP5zZkD+c2ZA/nNmQP5zZkD+c2ZA/nNmQP5zZkD+c2ZA/nNmQP5zZkD+c2ZA/nNmQP5zZkD+c2ZA/nNmQP5zZkD+c2ZA/nNmQP5zZkD+c2ZA/nNmQP5zZkD+c2ZA/nNmQP5zZkD+c2ZA/nNmQP5zZkD+c2ZA/nNmQP5zZkD+c2ZA/nNmQP5zZkD+c2ZA/nNmQP5zZkD+c2ZA/nNmQP5zZkD+c2ZA/nNmQP5zZkD+c2ZA/nNmQP5zZkD+c2ZA/nNmQP5zZkD+c2ZA/nNmQP5zZkD+c2ZA/nNmQP5zZkD+c2ZA/nNmQP5zZkD+c2ZA/nNmQP5zZkD+c2ZA/nNmQP5zZkD+c2ZA/nNmQP5zZkD+c2ZA/nNmQP5zZkD+c2ZA/nNmQP5zZkD+c2ZA/nNmQP5zZkD+c2ZA/nNmQP5zZkD+c2ZA/nNmQP5zZkD+c2ZA/nNmQP5zZkD+c2ZA/nNmQP5zZkD+c2ZA/nNmQP5zZkD+c2ZA/nNmQP5zZkD+c2ZA/nNmQP5zZkD+c2ZA/nNmQP5zZkD+c2ZA/nNmQP5zZkD+c2ZA/nNmQP5zZkD+c2ZA/nNmQP5zZkD+c2ZA/nNmQP5zZkD+c2ZA/nNmQP5zZkD+c2ZA/nNmQP5zZkD+c2ZA/nNmQP5zZkD+c2ZA/nNmQP5zZkD+c2ZA/nNmQP5zZkD+c2ZA/nNmQP5zZkD+c2ZA/nNmQP5zZkD+c2ZA/nNmQP5zZkD+c2ZA/nNmQP5zZkD+c2ZA/nNmQP5zZkD+c2ZA/nNmQP5zZkD+c2ZA/nNmQP5zZkD+c2ZA/nNmQP5zZkD+c2ZA/nNmQP5zZkD+c2ZA/nNmQP5zZkD+c2ZA/nNmQP5zZkD+c2ZA/nNmQP5zZkD+c2ZA/nNmQP5zZkD+c2ZA/nNmQP5zZkD+c2ZA/nNmQP5zZkD+c2ZA/nNmQP5zZkD+c2ZA/nNmQP5zZkD+c2ZA/nNmQP5zZkD+c2ZA/nNmQP5zZkD+c2ZA/nNmQP5zZkD+c2ZA/nNmQP5zZkD+c2ZA/nNmQP5zZkD+c2ZA/nNmQP5zZkD+c2ZA/nNmQP5zZkD+c2ZA/nNmQP5zZkD+c2ZA/nNmQP5zZkD+c2ZA/nNmQP5zZkD+c2ZA/nNmQP5zZkD+c2ZA/nNmQP5zZkD+c2ZA/nNmQP5zZkD+c2ZA/nNmQP5zZkD+c2ZA/nNmQP5zZkD+c2ZA/nNmQP5zZkD+c2ZA/nNmQP5zZkD+c2ZA/nNmQP5zZkD+c2ZA/nNmQP5zZkD+c2ZA/nNmQP5zZkD+c2ZA/nNmQP5zZkD+c2ZA/nNmQP5zZkD+c2ZA/nNmQP5zZkD+c2ZA/nNmQP5zZkD+c2ZA/nNmQP5zZkD+c2ZA/nNmQP5zZkD+c2ZA/nNmQP5zZkD+c2ZA/nNmQP5zZkD+c2ZA/nNmQP5zZkD+c2ZA/nNmQP5zZkD+c2ZA/nNmQP5zZkD+c2ZA/nNmQP5zZkD+c2ZA/nNmQP5zZkD+c2ZA/nNmQP5zZkD+c2ZA/nNmQP5zZkD+c2ZA/nNmQP5zZkD+c2ZA/nNmQP5zZkD+c2ZA/nNmQP5zZkD+c2ZA/nNmQP5zZkD+c2ZA/nNmQP5zZkD+c2ZA/nNmQP5zZkD+c2ZA/nNmQP5zZkD+c2ZA/nNmQP5zZkD+c2ZA/nNmQP5zZkD+c2ZA/nNmQP5zZkD+c2ZA/nNmQP5zZkD+c2ZA/nNmQP5zZkD+c2ZA/nNmQP5zZkD+c2ZA/nNmQP5zZkD+c2ZA/nNmQP5zZkD+c2ZA/nNmQP5zZkD+c2ZA/nNmQP5zZkD+c2ZA/nNmQP5zZkD+c2ZA/nNmQP5zZkD+c2ZA/nNmQP5zZkD+c2ZA/nNmQP5zZkD+c2ZA/nNmQP5zZkD+c2ZA/nNmQP5zZkD+c2ZA/nNmQP5zZkD+c2ZA/nNmQP5zZkD+c2ZA/nNmQP5zZkD+c2ZA/nNmQP5zZkD+c2ZA/nNmQP5zZkD+c2ZA/nNmQP5zZkD+c2ZA/nNmQP5zZkD+c2ZA/nNmQP5zZkD+c2ZA/nNmQP5zZkD+c2ZA/nNmQP5zZkD+c2ZA/nNmQP5zZkD+c2ZA/nNmQP5zZkD+c2ZA/nNmQP5zZkD+c2ZA/nNmQP5zZkD+c2ZA/nNmQP5zZkD+c2ZA/nNmQP5zZkD+c2ZA/nNmQP5zZkD+c2ZA/nNmQP5zZkD+c2ZA/nNmQP5zZkD+c2ZA/nNmQP5zZkD+c2ZA/nNmQP5zZkD+c2ZA/nNmQP5zZkD+c2ZA/nNmQP5zZkD+c2ZA/nNmQP5zZkD+c2ZA/nNmQP5zZkD+c2ZA/nNmQP5zZkD+c2ZA/nNmQP5zZkD+c2ZA/nNmQP5zZkD+c2ZA/nNmQP5zZkD+c2ZA/nNmQP5zZkD+c2ZA/nNmQP5zZkD+c2ZA/nNmQP5zZkD+c2ZA/nNmQP5zZkD+c2ZA/nNmQP5zZkD+c2ZA/nNmQP5zZkD+c2ZA/nNmQP5zZkD+c2ZA/nNmQP5zZkD+c2ZA/nNmQP5zZkD+c2ZA/nNmQP5zZkD+c2ZA/nNmQP5zZkD+c2ZA/nNmQP5zZkD+c2ZA/nNmQP5zZkD+c2ZA/nNmQP5zZkD+c2ZA/nNmQP5zZkD+c2ZA/nNmQP5zZkD+c2ZA/nNmQP5zZkD+c2ZA/nNmQP5zZkD+c2ZA/nNmQP5zZkD+c2ZA/nNmQP5zZkD+c2ZA/nNmQP5zZkD+c2ZA/nNmQP5zZkD+c2ZA/nNmQP5zZkD+c2ZA/nNmQP5zZkD+c2ZA/nNmQP5zZkD+c2ZA/nNmQP5zZkD+c2ZA/nNmQP5zZkD+c2ZA/nNmQP5zZkD+c2ZA/nNmQP5zZkD+c2ZA/nNmQP5zZkD+c2ZA/nNmQP5zZkD+c2ZA/nNmQP5zZkD+c2ZA/nNmQP5zZkD+c2ZA/nNmQP5zZkD+c2ZA/nNmQP5zZkD+c2ZA/nNmQP5zZkD+c2ZA/nNmQP5zZkD+c2ZA/nNmQP5zZkD+c2ZA/nNmQP5zZkD+c2ZA/nNmQP5zZkD+c2ZA/nNmQP5zZkD+c2ZA/nNmQP5zZkD+c2ZA/nNmQP5zZkD+c2ZA/nNmQP5zZkD+c2ZA/nNmQP5zZkD+c2ZA/nNmQP5zZkD+c2ZA/nNmQP5zZkD+c2ZA/nNmQP5zZkD+c2ZA/nNmQP5zZkD+c2ZA/nNmQP5zZkD+c2ZA/nNmQP5zZkD+c2ZA/nNmQP5zZkD+c2ZA/nNmQP5zZkD+c2ZA/nNmQP5zZkD+c2ZA/nNmQP5zZkD+c2ZA/nNmQP5zZkD+c2ZA/nNmQP5zZkD+c2ZA/nNmQP5zZkD+c2ZA/nNmQP5zZkD+c2ZA/nNmQP5zZkD+c2ZA/nNmQP5zZkD+c2ZA/nNmQP5zZkD+c2ZA/nNmQP5zZkD+c2ZA/nNmQP5zZkD+c2ZA/nNmQP5zZkD+c2ZA/nNmQP5zZkD+c2ZA/nNmQP5zZkD+c2ZA/nNmQP5zZkD+c2ZA/nNmQP5zZkD+c2ZA/nNmQP5zZkD+c2ZA/nNmQP5zZkD+c2ZA/nNmQP5zZkD+c2ZA/nNmQP5zZkD+c2ZA/nNmQP5zZkD+c2ZA/nNmQP5zZkD+c2ZA/nNmQP5zZkD+c2ZA/nNmQP5zZkD+c2ZA/nNmQP5zZkD+c2ZA/nNmQP5zZkD+c2ZA/nNmQP5zZkD+c2ZA/nNmQP5zZkD+c2ZA/nNmQP5zZkD+c2ZA/nNmQP5zZkD+c2ZA/nNmQP5zZkD+c2ZA/nNmQP5zZkD+c2ZA/nNmQP5zZkD+c2ZA/nNmQP5zZkD+c2ZA/nNmQP5zZkD+c2ZA/nNmQP5zZkD+c2ZA/nNmQP5zZkD+c2ZA/nNmQP5zZkD+c2ZA/nNmQP5zZkD+c2ZA/nNmQP5zZkD+c2ZA/nNmQP5zZkD+c2ZA/nNmQP5zZkD+c2ZA/nNmQP5zZkD+c2ZA/nNmQP5zZkD+c2ZA/nNmQP5zZkD+c2ZA/nNmQP5zZkD+c2ZA/nNmQP5zZkD+c2ZA/nNmQP5zZkD+c2ZA/nNmQP5zZkD+c2ZA/nNmQP5zZkD+c2ZA/nNmQP5zZkD+c2ZA/nNmQP5zZkD+c2ZA/nNmQP5zZkD+c2ZA/nNmQP5zZkD+c2ZA/nNmQP5zZkD+c2ZA/nNmQP5zZkD+c2ZA/nNmQP5zZkD+c2ZA/nNmQP5zZkD+c2ZA/nNmQP5zZkD+c2ZA/nNmQP5zZkD+c2ZA/nNmQP5zZkD+c2ZA/nNmQP5zZkD+c2ZA/nNmQP5zZkD+c2ZA/nNmQP5zZkD+c2ZA/nNmQP5zZkD+c2ZA/nNmQP5zZkD+c2ZA/nNmQP5zZkD+c2ZA/nNmQP5zZkD+c2ZA/nNmQP5zZkD+c2ZA/nNmQP5zZkD+c2ZA/nNmQP5zZkD+c2ZA/nNmQP5zZkD+c2ZA/nNmQP5zZkD+c2ZA/nNmQP5zZkD+c2ZA/nNmQP5zZkD+c2ZA/nNmQP5zZkD+c2ZA/nNmQP5zZkD+c2ZA/nNmQP5zZkD+c2ZA/nNmQP5zZkD+c2ZA/nNmQP5zZkD+c2ZA/nNmQP5zZkD+c2ZA/nNmQP5zZkD+c2ZA/nNmQP5zZkD+c2ZA/nNmQP5zZkD+c2ZA/nNmQP5zZkD+c2ZA/nNmQP5zZkD+c2ZA/nNmQP5zZkD+c2ZA/nNmQP5zZkD+c2ZA/nNmQP5zZkD+c2ZA/nNmQP5zZkD+c2ZA/nNmQP5zZkD+c2ZA/nNmQP5zZkD+c2ZA/nNmQP5zZkD+c2ZA/nNmQP5zZkD+c2ZA/nNmQP5zZkD+c2ZA/nNmQP5zZkD+c2ZA/nNmQP5zZkD+c2ZA/nNmQP5zZkD+c2ZA/nNmQP5zZkD+c2ZA/nNmQP5zZkD+c2ZA/nNmQP5zZkD+c2ZA/nNmQP5zZkD+c2ZA/nNmQP5zZkD+c2ZA/nNmQP5zZkD+c2ZA/nNmQP5zZkD+c2ZA/nNmQP5zZkD+c2ZA/nNmQP5zZkD+c2ZA/nNmQP5zZkD+c2ZA/nNmQP5zZkD+c2ZA/nNmQP5zZkD+c2ZA/nNmQP5zZkD+c2ZA/nNmQP5zZkD+c2ZA/nNmQP5zZkD+c2ZA/nNmQP5zZkD+c2ZA/nNmQP5zZkD+c2ZA/nNmQP5zZkD+c2ZA/nNmQP5zZkD+c2ZA/nNmQP5zZkD+c2ZA/nNmQP5zZkD+c2ZA/nNmQP5zZkD+c2ZA/nNmQP5zZkD+c2ZA/nNmQP5zZkD+c2ZA/nNmQP5zZkD+c2ZA/nNmQP5zZkD+c2ZA/nNmQP5zZkD+c2ZA/nNmQP5zZkD+c2ZA/nNmQP5zZkD+c2ZA/nNmQP5zZkD+c2ZA/nNmQP5zZkD+c2ZA/nNmQP5zZkD+c2ZA/nNmQP5zZkD+c2ZA/nNmQP5zZkD+c2ZA/nNmQP5zZkD+c2ZA/nNmQP5zZkD+c2ZA/nNmQP5zZkD+c2ZA/nNmQP5zZkD+c2ZA/nNmQP5zZkD+c2ZA/nNmQP5zZkD+c2ZA/nNmQP5zZkD+c2ZA/nNmQP5zZkD+c2ZA/nNmQP5zZkD+c2ZA/nNmQP5zZkD+c2ZA/nNmQP5zZkD+c2ZA/nNmQP5zZkD+c2ZA/nNmQP5zZkD+c2ZA/nNmQP5zZkD+c2ZA/nNmQP5zZkD+c2ZA/nNmQP5zZkD+c2ZA/nNmQP5zZkD+c2ZA/nNmQP5zZkD+c2ZA/nNmQP5zZkD+c2ZA/nNmQP5zZkD+c2ZA/nNmQP5zZkD+c2ZA/nNmQP5zZkD+c2ZA/nNmQP5zZkD+c2ZA/nNmQP5zZkD+c2ZA/nNmQP5zZkD+c2ZA/nNmQP5zZkD+c2ZA/nNmQP5zZkD+c2ZA/nNmQP5zZkD+c2ZA/nNmQP5zZkD+c2ZA/nNmQP5zZkD+c2ZA/nNmQP5zZkD+c2ZA/nNmQP5zZkD+c2ZA/nNmQP5zZkD+c2ZA/nNmQP5zZkD+c2ZA/nNmQP5zZkD+c2ZA/nNmQP5zZkD+c2ZA/nNmQP5zZkD+c2ZA/nNmQP5zZkD+c2ZA/nNmQP5zZkD+c2ZA/nNmQP5zZkD+c2ZA/nNmQP5zZkD+c2ZA/nNmQP5zZkD+c2ZA/nNmQP5zZkD+c2ZA/nNmQP5zZkD+c2ZA/nNmQP5zZkD+c2ZA/nNmQP5zZkD+c2ZA/nNmQP5zZkD+c2ZA/nNmQP5zZkD+c2ZA/nNmQP5zZkD+c2ZA/nNmQP5zZkD+c2ZA/nNmQP5zZkD+c2ZA/nNmQP5zZkD+c2ZA/nNmQP5zZkD+c2ZA/nNmQP5zZkD+c2ZA/nNmQP5zZkD+c2ZA/nNmQP5zZkD+c2ZA/nNmQP5zZkD+c2ZA/nNmQP5zZkD+c2ZA/nNmQP5zZkD+c2ZA/nNmQP5zZkD+c2ZA/nNmQP5zZkD+c2ZA/nNmQP5zZkD+c2ZA/nNmQP5zZkD+c2ZA/nNmQP5zZkD+c2ZA/nNmQP5zZkD+c2ZA/nNmQP5zZkD+c2ZA/nNmQP5zZkD+c2ZA/nNmQP5zZkD+c2ZA/nNmQP5zZkD+c2ZA/nNmQP5zZkD+c2ZA/nNmQP5zZkD+c2ZA/nNmQP5zZkD+c2ZA/nNmQP5zZkD+c2ZA/nNmQP5zZkD+c2ZA/nNmQP5zZkD+c2ZA/nNmQP5zZkD+c2ZA/nNmQP5zZkD+c2ZA/nNmQP5zZkD+c2ZA/nNmQP5zZkD+c2ZA/nNmQP5zZkD+c2ZA/nNmQP5zZkD+c2ZA/nNmQP5zZkD+c2ZA/nNmQP5zZkD+c2ZA/nNmQP5zZkD+c2ZA/nNmQP5zZkD+c2ZA/nNmQP5zZkD+c2ZA/nNmQP5zZkD+c2ZA/nNmQP5zZkD+c2ZA/nNmQP5zZkD+c2ZA/nNmQP5zZkD+c2ZA/nNmQP5zZkD+c2ZA/nNmQP5zZkD+c2ZA/nNmQP5zZkD+c2ZA/nNmQP5zZkD+c2ZA/nNmQP5zZkD+c2ZA/nNmQP5zZkD+c2ZA/nNmQP5zZkD+c2ZA/nNmQP5zZkD+c2ZA/nNmQP5zZkD+c2ZA/nNmQP5zZkD+c2ZA/nNmQP5zZkD+c2ZA/nNmQP5zZkD+c2ZA/nNmQP5zZkD+c2ZA/nNmQP5zZkD+c2ZA/nNmQP5zZkD+c2ZA/nNmQP5zZkD+c2ZA/nNmQP5zZkD+c2ZA/nNmQP5zZkD+c2ZA/nNmQP5zZkD+c2ZA/nNmQP5zZkD+c2ZA/nNmQP5zZkD+c2ZA/nNmQP5zZkD+c2ZA/nNmQP5zZkD+c2ZA/nNmQP5zZkD+c2ZA/nNmQP5zZkD+c2ZA/nNmQP5zZkD+c2ZA/nNmQP5zZkD+c2ZA/nNmQP5zZkD+c2ZA/nNmQP5zZkD+c2ZA/nNmQP5zZkD+c2ZA/nNmQP5zZkD+c2ZA/nNmQP5zZkD+c2ZA/nNmQP5zZkD+c2ZA/nNmQP5zZkD+c2ZA/nNmQP5zZkD+c2ZA/nNmQP5zZkD+c2ZA/nNmQP5zZkD+c2ZA/nNmQP5zZkD+c2ZA/nNmQP5zZkD+c2ZA/nNmQP5zZkD+c2ZA/nNmQP5zZkD+c2ZA/nNmQP5zZkD+c2ZA/nNmQP5zZkD+c2ZA/nNmQP5zZkD+c2ZA/nNmQP5zZkD+c2ZA/nNmQP5zZkD+c2ZA/nNmQP5zZkD+c2ZA/nNmQP5zZkD+c2ZA/nNmQP5zZkD+c2ZA/nNmQP5zZkD+c2ZA/nNmQP5zZkD+c2ZA/nNmQP5zZkD+c2ZA/nNmQP5zZkD+c2ZA/nNmQP5zZkD+c2ZA/nNmQP5zZkD+c2ZA/nNmQP5zZkD+c2ZA/nNmQP5zZkD+c2ZA/nNmQP5zZkD+c2ZA/nNmQP5zZkD+c2ZA/nNmQP5zZkD+c2ZA/nNmQP5zZkD+c2ZA/nNmQP5zZkD+c2ZA/nNmQP5zZkD+c2ZA/nNmQP5zZkD+c2ZA/nNmQP5zZkD+c2ZA/nNmQP5zZkD+c2ZA/nNmQP5zZkD+c2ZA/nNmQP5zZkD+c2ZA/nNmQP5zZkD+c2ZA/nNmQP5zZkD+c2ZA/nNmQP5zZkD+c2ZA/nNmQP5zZkD+c2ZA/nNmQP5zZkD+c2ZA/nNmQP5zZkD+c2ZA/nNmQP5zZkD+c2ZA/nNmQP5zZkD+c2ZA/nNmQP5zZkD+c2ZA/nNmQP5zZkD+c2ZA/nNmQP5zZkD+c2ZA/nNmQP5zZkD+c2ZA/nNmQP5zZkD+c2ZA/nNmQP5zZkD+c2ZA/nNmQP5zZkD+c2ZA/nNmQP5zZkD+c2ZA/nNmQP5zZkD+c2ZA/nNmQP5zZkD+c2ZA/nNmQP5zZkD+c2ZA/nNmQP5zZkD+c2ZA/nNmQP5zZkD+c2ZA/nNmQP5zZkD+c2ZA/nNmQP5zZkD+c2ZA/nNmQP5zZkD+c2ZA/nNmQP5zZkD+c2ZA/nNmQP5zZkD+c2ZA/nNmQP5zZkD+c2ZA/nNmQP5zZkD+c2ZA/nNmQP5zZkD+c2ZA/nNmQP5zZkD+c2ZA/nNmQP5zZkD+c2ZA/nNmQP5zZkD+c2ZA/nNmQP5zZkD+c2ZA/nNmQP5zZkD+c2ZA/nNmQP5zZkD+c2ZA/nNmQP5zZkD+c2ZA/nNmQP5zZkD+c2ZA/nNmQP5zZkD+c2ZA/nNmQP5zZkD+c2ZA/nNmQP5zZkD+c2ZA/nNmQP5zZkD+c2ZA/nNmQP5zZkD+c2ZA/nNmQP5zZkD+c2ZA/nNmQP5zZkD+c2ZA/nNmQP5zZkD+c2ZA/nNmQP5zZkD+c2ZA/nNmQP5zZkD+c2ZA/nNmQP5zZkD+c2ZA/nNmQP5zZkD+c2ZA/nNmQP5zZkD+c2ZA/nNmQP5zZkD+c2ZA/nNmQP5zZkD+c2ZA/nNmQP5zZkD+c2ZA/nNmQP5zZkD+c2ZA/nNmQP5zZkD+c2ZA/nNmQP5zZkD+c2ZA/nNmQP5zZkD+c2ZA/nNmQP5zZkD+c2ZA/nNmQP5zZkD+c2ZA/nNmQP5zZkD+c2ZA/nNmQP5zZkD+c2ZA/nNmQP5zZkD+c2ZA/nNmQP5zZkD+c2ZA/nNmQP5zZkD+c2ZA/nNmQP5zZkD+c2ZA/nNmQP5zZkD+c2ZA/nNmQP5zZkD+c2ZA/nNmQP5zZkD+c2ZA/nNmQP5zZkD+c2ZA/nNmQP5zZkD+c2ZA/nNmQP5zZkD+c2ZA/nNmQP5zZkD+c2ZA/nNmQP5zZkD+c2ZA/nNmQP5zZkD+c2ZA/nNmQP5zZkD+c2ZA/nNmQP5zZkD+c2ZA/nNmQP5zZkD+c2ZA/nNmQP5zZkD+c2ZA/nNmQP5zZkD+c2ZA/nNmQP5zZkD+c2ZA/nNmQP5zZkD+c2ZA/nNmQP5zZkD+c2ZA/nNmQP5zZkD+c2ZA/nNmQP5zZkD+c2ZA/nNmQP5zZkD+c2ZA/nNmQP5zZkD+c2ZA/nNmQP5zZkD+c2ZA/nNmQP5zZkD+c2ZA/nNmQP5zZkD+c2ZA/nNmQP5zZkD+c2ZA/nNmQP5zZkD+c2ZA/nNmQP5zZkD+c2ZA/nNmQP5zZkD+c2ZA/nNmQP5zZkD+c2ZA/nNmQP5zZkD+c2ZA/nNmQP5zZkD+c2ZA/nNmQP5zZkD+c2ZA/nNmQP5zZkD+c2ZA/nNmQP5zZkD+c2ZA/nNmQP5zZkD+c2ZA/nNmQP5zZkD+c2ZA/nNmQP5zZkD+c2ZA/nNmQP5zZkD+c2ZA/nNmQP5zZkD+c2ZA/nNmQP5zZkD+c2ZA/nNmQP5zZkD+c2ZA/nNmQP5zZkD+c2ZA/nNmQP5zZkD+c2ZA/nNmQP5zZkD+c2ZA/nNmQP5zZkD+c2ZA/nNmQP5zZkD+c2ZA/nNmQP5zZkD+c2ZA/nNmQP5zZkD+c2ZA/nNmQP5zZkD+c2ZA/nNmQP5zZkD+c2ZA/nNmQP5zZkD+c2ZA/nNmQP5zZkD+c2ZA/nNmQP5zZkD+c2ZA/nNmQP5zZkD+c2ZA/nNmQP5zZkD+c2ZA/nNmQP5zZkD+c2ZA/nNmQP5zZkD+c2ZA/nNmQP5zZkD+c2ZA/nNmQP5zZkD+c2ZA/nNmQP5zZkD+c2ZA/nNmQP5zZkD+c2ZA/nNmQP5zZkD+c2ZA/nNmQP5zZkD+c2ZA/nNmQP5zZkD+c2ZA/nNmQP5zZkD+c2ZA/nNmQP5zZkD+c2ZA/nNmQP5zZkD+c2ZA/nNmQP5zZkD+c2ZA/nNmQP5zZkD+c2ZA/nNmQP5zZkD+c2ZA/nNmQP5zZkD+c2ZA/nNmQP5zZkD+c2ZA/nNmQP5zZkD+c2ZA/nNmQP5zZkD+c2ZA/nNmQP5zZkD+c2ZA/nNmQP5zZkD+c2ZA/nNmQP5zZkD+c2ZA/nNmQP5zZkD+c2ZA/nNmQP5zZkD+c2ZA/nNmQP5zZkD+c2ZA/nNmQP5zZkD+c2ZA/nNmQP5zZkD+c2ZA/nNmQP5zZkD+c2ZA/nNmQP5zZkD+c2ZA/nNmQP5zZkD+c2ZA/nNmQP5zZkD+c2ZA/nNmQP5zZkD+c2ZA/nNmQP5zZkD+c2ZA/nNmQP5zZkD+c2ZA/nNmQP5zZkD+c2ZA/nNmQP5zZkD+c2ZA/nNmQP5zZkD+c2ZA/nNmQP5zZkD+c2ZA/nNmQP5zZkD+c2ZA/nNmQP5zZkD+c2ZA/nNmQP5zZkD+c2ZA/nNmQP5zZkD+c2ZA/nNmQP5zZkD+c2ZA/nNmQP5zZkD+c2ZA/nNmQP5zZkD+c2ZA/nNmQP5zZkD+c2ZA/nNmQP5zZkD+c2ZA/nNmQP5zZkD+c2ZA/nNmQP5zZkD+c2ZA/nNmQP5zZkD+c2ZA/nNmQP5zZkD+c2ZA/nNmQP5zZkD+c2ZA/nNmQP5zZkD+c2ZA/nNmQP5zZkD+c2ZA/nNmQP5zZkD+c2ZA/nNmQP5zZkD+c2ZA/nNmQP5zZkD+c2ZA/nNmQP5zZkD+c2ZA/nNmQP5zZkD+c2ZA/nNmQP5zZkD+c2ZA/nNmQP5zZkD+c2ZA/nNmQP5zZkD+c2ZA/nNmQP5zZkD+c2ZA/nNmQP5zZkD+c2ZA/nNmQP5zZkD+c2ZA/nNmQP5zZkD+c2ZA/nNmQP5zZkD+c2ZA/nNmQP5zZkD+c2ZA/nNmQP5zZkD+c2ZA/nNmQP5zZkD+c2ZA/nNmQP5zZkD+c2ZA/nNmQP5zZkD+c2ZA/nNmQP5zZkD+c2ZA/nNmQP5zZkD+c2ZA/nNmQP5zZkD+c2ZA/nNmQP5zZkD+c2ZA/nNmQP5zZkD+c2ZA/nNmQP5zZkD+c2ZA/nNmQP5zZkD+c2ZA/nNmQP5zZkD+c2ZA/nNmQP5zZkD+c2ZA/nNmQP5zZkD+c2ZA/nNmQP5zZkD+c2ZA/nNmQP5zZkD+c2ZA/nNmQP5zZkD+c2ZA/nNmQP5zZkD+c2ZA/nNmQP5zZkD+c2ZA/nNmQP5zZkD+c2ZA/nNmQP5zZkD+c2ZA/nNmQP5zZkD+c2ZA/nNmQP5zZkD+c2ZA/nNmQP5zZkD+c2ZA/nNmQP5zZkD+c2ZA/nNmQP5zZkD+c2ZA/nNmQP5zZkD+c2ZA/nNmQP5zZkD+c2ZA/nNmQP5zZkD+c2ZA/nNmQP5zZkD+c2ZA/nNmQP5zZkD+c2ZA/nNmQP5zZkD+c2ZA/nNmQP5zZkD+c2ZA/nNmQP5zZkD+c2ZA/nNmQP5zZkD+c2ZA/nNmQP5zZkD+c2ZA/nNmQP5zZkD+c2ZA/nNmQP5zZkD+c2ZA/nNmQP5zZkD+c2ZA/nNmQP5zZkD+c2ZA/nNmQP5zZkD+c2ZA/nNmQP5zZkD+c2ZA/nNmQP5zZkD+c2ZA/nNmQP5zZkD+c2ZA/nNmQP5zZkD+c2ZA/nNmQP5zZkD+c2ZA/nNmQP5zZkD+c2ZA/nNmQP5zZkD+c2ZA/nNmQP5zZkD+c2ZA/nNmQP5zZkD+c2ZA/nNmQP5zZkD+c2ZA/nNmQP5zZkD+c2ZA/nNmQP5zZkD+c2ZA/nNmQP5zZkD+c2ZA/nNmQP5zZkD+c2ZA/nNmQP5zZkD+c2ZA/nNmQP5zZkD+c2ZA/nNmQP5zZkD+c2ZA/nNmQP5zZkD+c2ZA/nNmQP5zZkD+c2ZA/nNmQP5zZkD+c2ZA/nNmQP5zZkD+c2ZA/nNmQP5zZkD+c2ZA/nNmQP5zZkD+c2ZA/nNmQP5zZkD+c2ZA/nNmQP5zZkD+c2ZA/nNmQP5zZkD+c2ZA/nNmQP5zZkD+c2ZA/nNmQP5zZkD+c2ZA/nNmQP5zZkD+c2ZA/nNmQP5zZkD+c2ZA/nNmQP5zZkD+c2ZA/nNmQP5zZkD+c2ZA/nNmQP5zZkD+c2ZA/nNmQP5zZkD+c2ZA/nNmQP5zZkD+c2ZA/nNmQP5zZkD+c2ZA/nNmQP5zZkD+c2ZA/nNmQP5zZkD+c2ZA/nNmQP5zZkD+c2ZA/nNmQP5zZkD+c2ZA/nNmQP5zZkD+c2ZA/nNmQP5zZkD+c2ZA/nNmQP5zZkD+c2ZA/nNmQP5zZkD+c2ZA/nNmQP5zZkD+c2ZA/nNmQP5zZkD+c2ZA/nNmQP5zZkD+c2ZA/nNmQP5zZkD+c2ZA/nNmQP5zZkD+c2ZA/nNmQP5zZkD+c2ZA/nNmQP5zZkD+c2ZA/nNmQP5zZkD+c2ZA/nNmQP5zZkD+c2ZA/nNmQP5zZkD+c2ZA/nNmQP5zZkD+c2ZA/nNmQP5zZkD+c2ZA/nNmQP5zZkD+c2ZA/nNmQP5zZkD+c2ZA/nNmQP5zZkD+c2ZA/nNmQP5zZkD+c2ZA/nNmQP5zZkD+c2ZA/nNmQP5zZkD+c2ZA/nNmQP5zZkD+c2ZA/nNmQP5zZkD+c2ZA/nNmQP5zZkD+c2ZA/nNmQP5zZkD+c2ZA/nNmQP5zZkD+c2ZA/nNmQP5zZkD+c2ZA/nNmQP5zZkD+c2ZA/nNmQP5zZkD+c2ZA/nNmQP5zZkD+c2ZA/nNmQP5zZkD+c2ZA/nNmQP5zZkD+c2ZA/nNmQP5zZkD+c2ZA/nNmQP5zZkD+c2ZA/nNmQP5zZkD+c2ZA/nNmQP5zZkD+c2ZA/nNmQP5zZkD+c2ZA/nNmQP5zZkD+c2ZA/nNmQP5zZkD+c2ZA/nNmQP5zZkD+c2ZA/nNmQP5zZkD+c2ZA/nNmQP5zZkD+c2ZA/nNmQP5zZkD+c2ZA/nNmQP5zZkD+c2ZA/nNmQP5zZkD+c2ZA/nNmQP5zZkD+c2ZA/nNmQP5zZkD+c2ZA/nNmQP5zZkD+c2ZA/nNmQP5zZkD+c2ZA/nNmQP5zZkD+c2ZA/nNmQP5zZkD+c2ZA/nNmQP5zZkD+c2ZA/nNmQP5zZkD+c2ZA/nNmQP5zZkD+c2ZA/nNmQP5zZkD+c2ZA/nNmQP5zZkD+c2ZA/nNmQP5zZkD+c2ZA/nNmQP5zZkD+c2ZA/nNmQP5zZkD+c2ZA/nNmQP5zZkD+c2ZA/nNmQP5zZkD+c2ZA/nNmQP5zZkD+c2ZA/nNmQP5zZkD+c2ZA/nNmQP5zZkD+c2ZA/nNmQP5zZkD+c2ZA/nNmQP5zZkD+c2ZA/nNmQP5zZkD+c2ZA/nNmQP5zZkD+c2ZA/nNmQP5zZkD+c2ZA/nNmQP5zZkD+c2ZA/nNmQP5zZkD+c2ZA/nNmQP5zZkD+c2ZA/nNmQP5zZkD+c2ZA/nNmQP5zZkD+c2ZA/nNmQP5zZkD+c2ZA/nNmQP5zZkD+c2ZA/nNmQP5zZkD+c2ZA/nNmQP5zZkD+c2ZA/nNmQP5zZkD+c2ZA/nNmQP5zZkD+c2ZA/nNmQP5zZkD+c2ZA/nNmQP5zZkD+c2ZA/nNmQP5zZkD+c2ZA/nNmQP5zZkD+c2ZA/nNmQP5zZkD+c2ZA/nNmQP5zZkD+c2ZA/nNmQP5zZkD+c2ZA/nNmQP5zZkD+c2ZA/nNmQP5zZkD+c2ZA/nNmQP5zZkD+c2ZA/nNmQP5zZkD+c2ZA/nNmQP5zZkD+c2ZA/nNmQP5zZkD+c2ZA/nNmQP5zZkD+c2ZA/nNmQP5zZkD+c2ZA/nNmQP5zZkD+c2ZA/nNmQP5zZkD+c2ZA/nNmQP5zZkD+c2ZA/nNmQP5zZkD+c2ZA/nNmQP5zZkD+c2ZA/nNmQP5zZkD+c2ZA/nNmQP5zZkD+c2ZA/nNmQP5zZkD+c2ZA/nNmQP5zZkD+c2ZA/nNmQP5zZkD+c2ZA/nNmQP5zZkD+c2ZA/nNmQP5zZkD+c2ZA/nNmQP5zZkD+c2ZA/nNmQP5zZkD+c2ZA/nNmQP5zZkD+c2ZA/nNmQP5zZkD+c2ZA/nNmQP5zZkD+c2ZA/nNmQP5zZkD+c2ZA/nNmQP5zZkD+c2ZA/nNmQP5zZkD+c2ZA/nNmQP5zZkD+c2ZA/nNmQP5zZkD+c2ZA/nNmQP5zZkD+c2ZA/nNmQP5zZkD+c2ZA/nNmQP5zZkD+c2ZA/nNmQP5zZkD+c2ZA/nNmQP5zZkD+c2ZA/nNmQP5zZkD+c2ZA/nNmQP5zZkD+c2ZA/nNmQP5zZkD+c2ZA/nNmQP5zZkD+c2ZA/nNmQP5zZkD+c2ZA/nNmQP5zZkD+c2ZA/nNmQP5zZkD+c2ZA/nNmQP5zZkD+c2ZA/nNmQP5zZkD+c2ZA/nNmQP5zZkD+c2ZA/nNmQP5zZkD+c2ZA/nNmQP5zZkD+c2ZA/nNmQP5zZkD+c2ZA/nNmQP5zZkD+c2ZA/nNmQP5zZkD+c2ZA/nNmQP5zZkD+c2ZA/nNmQP5zZkD+c2ZA/nNmQP5zZkD+c2ZA/nNmQP5zZkD+c2ZA/nNmQP5zZkD+c2ZA/nNmQP5zZkD+c2ZA/nNmQP5zZkD+c2ZA/nNmQP5zZkD+c2ZA/nNmQP5zZkD+c2ZA/nNmQP5zZkD+c2ZA/nNmQP5zZkD+c2ZA/nNmQP5zZkD+c2ZA/nNmQP5zZkD+c2ZA/nNmQP5zZkD+c2ZA/nNmQP5zZkD+c2ZA/nNmQP5zZkD+c2ZA/nNmQP5zZkD+c2ZA/nNmQP5zZkD+c2ZA/nNmQP5zZkD+c2ZA/nNmQP5zZkD+c2ZA/nNmQP5zZkD+c2ZA/nNmQP5zZkD+c2ZA/nNmQP5zZkD+c2ZA/nNmQP5zZkD+c2ZA/nNmQP5zZkD+c2ZA/nNmQP5zZkD+c2ZA/nNmQP5zZkD+c2ZA/nNmQP5zZkD+c2ZA/nNmQP5zZkD+c2ZA/nNmQP5zZkD+c2ZA/nNmQP5zZkD+c2ZA/nNmQP5zZkD+c2ZA/nNmQP5zZkD+c2ZA/nNmQP5zZkD+c2ZA/nNmQP5zZkD+c2ZA/nNmQP5zZkD+c2ZA/nNmQP5zZkD+c2ZA/nNmQP5zZkD+c2ZA/nNmQP5zZkD+c2ZA/nNmQP5zZkD+c2ZA/nNmQP5zZkD+c2ZA/nNmQP5zZkD+c2ZA/nNmQP5zZkD+c2ZA/nNmQP5zZkD+c2ZA/nNmQP5zZkD+c2ZA/nNmQP5zZkD+c2ZA/nNmQP5zZkD+c2ZA/nNmQP5zZkD+c2ZA/nNmQP5zZkD+c2ZA/nNmQP5zZkD+c2ZA/nNmQP5zZkD+c2ZA/nNmQP5zZkD+c2ZA/nNmQP5zZkD+c2ZA/nNmQP5zZkD+c2ZA/nNmQP5zZkD+c2ZA/nNmQP5zZkD+c2ZA/nNmQP5zZkD+c2ZA/nNmQP5zZkD+c2ZA/nNmQP5zZkD+c2ZA/nNmQP5zZkD+c2ZA/nNmQP5zZkD+c2ZA/nNmQP5zZkD+c2ZA/nNmQP5zZkD+c2ZA/nNmQP5zZkD+c2ZA/nNmQP5zZkD+c2ZA/nNmQP5zZkD+c2ZA/nNmQP5zZkD+c2ZA/nNmQP5zZkD+c2ZA/nNmQP5zZkD+c2ZA/nNmQP5zZkD+c2ZA/nNmQP5zZkD+c2ZA/nNmQP5zZkD+c2ZA/nNmQP5zZkD+c2ZA/nNmQP5zZkD+c2ZA/nNmQP5zZkD+c2ZA/nNmQP5zZkD+c2ZA/nNmQP5zZkD+c2ZA/nNmQP5zZkD+c2ZA/nNmQP5zZkD+c2ZA/nNmQP5zZkD+c2ZA/nNmQP5zZkD+c2ZA/nNmQP5zZkD+c2ZA/nNmQP5zZkD+c2ZA/nNmQP5zZkD+c2ZA/nNmQP5zZkD+c2ZA/nNmQP5zZkD+c2ZA/nNmQP5zZkD+c2ZA/nNmQP5zZkD+c2ZA/nNmQP5zZkD+c2ZA/nNmQP5zZkD+c2ZA/nNmQP5zZkD+c2ZA/nNmQP5zZkD+c2ZA/nNmQP5zZkD+c2ZA/nNmQP5zZkD+c2ZA/nNmQP5zZkD+c2ZA/nNmQP5zZkD+c2ZA/nNmQP5zZkD+c2ZA/nNmQP5zZkD+c2ZA/nNmQP5zZkD+c2ZA/nNmQP5zZkD+c2ZA/nNmQP5zZkD+c2ZA/nNmQP5zZkD+c2ZA/nNmQP5zZkD+c2ZA/nNmQP5zZkD+c2ZA/nNmQP5zZkD+c2ZA/nNmQP5zZkD+c2ZA/nNmQP5zZkD+c2ZA/nNmQP5zZkD+c2ZA/nNmQP5zZkD+c2ZA/nNmQP5zZkD+c2ZA/nNmQP5zZkD+c2ZA/nNmQP5zZkD+c2ZA/nNmQP5zZkD+c2ZA/nNmQP5zZkD+c2ZA/nNmQP5zZkD+c2ZA/nNmQP5zZkD+c2ZA/nNmQP5zZkD+c2ZA/nNmQP5zZkD+c2ZA/nNmQP5zZkD+c2ZA/nNmQP5zZkD+c2ZA/nNmQP5zZkD+c2ZA/nNmQP5zZkD+c2ZA/nNmQP5zZkD+c2ZA/nNmQP5zZkD+c2ZA/nNmQP5zZkD+c2ZA/nNmQP5zZkD+c2ZA/nNmQP5zZkD+c2ZA/nNmQP5zZkD+c2ZA/nNmQP5zZkD+c2ZA/nNmQP5zZkD+c2ZA/nNmQP5zZkD+c2ZA/nNmQP5zZkD+c2ZA/nNmQP5zZkD+c2ZA/nNmQP5zZkD+c2ZA/nNmQP5zZkD+c2ZA/nNmQP5zZkD+c2ZA/nNmQP5zZkD+c2ZA/nNmQP5zZkD+c2ZA/nNmQP5zZkD+c2ZA/nNmQP5zZkD+c2ZA/nNmQP5zZkD+c2ZA/nNmQP5zZkD+c2ZA/nNmQP5zZkD+c2ZA/nNmQP5zZkD+c2ZA/nNmQP5zZkD+c2ZA/nNmQP5zZkD+c2ZA/nNmQP5zZkD+c2ZA/nNmQP5zZkD+c2ZA/nNmQP5zZkD+c2ZA/nNmQP5zZkD+c2ZA/nNmQP5zZkD+c2ZA/nNmQP5zZkD+c2ZA/nNmQP5zZkD+c2ZA/nNmQP5zZkD+c2ZA/nNmQP5zZkD+c2ZA/nNmQP5zZkD+c2ZA/nNmQP5zZkD+c2ZA/nNmQP5zZkD+c2ZA/nNmQP5zZkD+c2ZA/nNmQP5zZkD+c2ZA/nNmQP5zZkD+c2ZA/nNmQP5zZkD+c2ZA/nNmQP5zZkD+c2ZA/nNmQP5zZkD+c2ZA/nNmQP5zZkD+c2ZA/nNmQP5zZkD+c2ZA/nNmQP5zZkD+c2ZA/nNmQP5zZkD+c2ZA/nNmQP5zZkD+c2ZA/nNmQP5zZkD+c2ZA/nNmQP5zZkD+c2ZA/nNmQP5zZkD+c2ZA/nNmQP5zZkD+c2ZA/nNmQP5zZkD+c2ZA/nNmQP5zZkD+c2ZA/nNmQP5zZkD+c2ZA/nNmQP5zZkD+c2ZA/nNmQP5zZkD+c2ZA/nNmQP5zZkD+c2ZA/nNmQP5zZkD+c2ZA/nNmQP5zZkD+c2ZA/nNmQP5zZkD+c2ZA/nNmQP5zZkD+c2ZA/nNmQP5zZkD+c2ZA/nNmQP5zZkD+c2ZA/nNmQP5zZkD+c2ZA/nNmQP5zZkD+c2ZA/nNmQP5zZkD+c2ZA/nNmQP5zZkD+c2ZA/nNmQP5zZkD+c2ZA/nNmQP5zZkD+c2ZA/nNmQP5zZkD+c2ZA/nNmQP5zZkD+c2ZA/nNmQP5zZkD+c2ZA/nNmQP5zZkD+c2ZA/nNmQP5zZkD+c2ZA/nNmQP5zZkD+c2ZA/nNmQP5zZkD+c2ZA/nNmQP5zZkD+c2ZA/nNmQP5zZkD+c2ZA/nNmQP5zZkD+c2ZA/nNmQP5zZkD+c2ZA/nNmQP5zZkD+c2ZA/nNmQP5zZkD+c2ZA/nNmQP5zZkD+c2ZA/nNmQP5zZkD+c2ZA/nNmQP5zZkD+c2ZA/nNmQP5zZkD+c2ZA/nNmQP5zZkD+c2ZA/nNmQP5zZkD+c2ZA/nNmQP5zZkD+c2ZA/nNmQP5zZkD+c2ZA/nNmQP5zZkD+c2ZA/nNmQP5zZkD+c2ZA/nNmQP5zZkD+c2ZA/nNmQP5zZkD+c2ZA/nNmQP5zZkD+c2ZA/nNmQP5zZkD+c2ZA/nNmQP5zZkD+c2ZA/nNmQP5zZkD+c2ZA/nNmQP5zZkD+c2ZA/nNmQP5zZkD+c2ZA/nNmQP5zZkD+c2ZA/nNmQP5zZkD+c2ZA/nNmQP5zZkD+c2ZA/nNmQP5zZkD+c2ZA/nNmQP5zZkD+c2ZA/nNmQP5zZkD+c2ZA/nNmQP5zZkD+c2ZA/nNmQP5zZkD+c2ZA/nNmQP5zZkD+c2ZA/nNmQP5zZkD+c2ZA/nNmQP5zZkD+c2ZA/nNmQP5zZkD+c2ZA/nNmQP5zZkD+c2ZA/nNmQP5zZkD+c2ZA/nNmQP5zZkD+c2ZA/nNmQP5zZkD+c2ZA/nNmQP5zZkD+c2ZA/nNmQP5zZkD+c2ZA/nNmQP5zZkD+c2ZA/nNmQP5zZkD+c2ZA/nNmQP5zZkD+c2ZA/nNmQP5zZkD+c2ZA/nNmQP5zZkD+c2ZA/nNmQP5zZkD+c2ZA/nNmQP5zZkD+c2ZA/nNmQP5zZkD+c2ZA/nNmQP5zZkD+c2ZA/nNmQP5zZkD+c2ZA/nNmQP5zZkD+c2ZA/nNmQP5zZkD+c2ZA/nNmQP5zZkD+c2ZA/nNmQP5zZkD+c2ZA/nNmQP5zZkD+c2ZA/nNmQP5zZkD+c2ZA/nNmQP5zZkD+c2ZA/nNmQP5zZkD+c2ZA/nNmQP5zZkD+c2ZA/nNmQP5zZkD+c2ZA/nNmQP5zZkD+c2ZA/nNmQP5zZkD+c2ZA/nNmQP5zZkD+c2ZA/nNmQP5zZkD+c2ZA/nNmQP5zZkD+c2ZA/nNmQP5zZkD+c2ZA/nNmQP5zZkD+c2ZA/nNmQP5zZkD+c2ZA/nNmQP5zZkD+c2ZA/nNmQP5zZkD+c2ZA/nNmQP5zZkD+c2ZA/nNmQP5zZkD+c2ZA/nNmQP5zZkD+c2ZA/nNmQP5zZkD+c2ZA/nNmQP5zZkD+c2ZA/nNmQP5zZkD+c2ZA/nNmQP5zZkD+c2ZA/nNmQP5zZkD+c2ZA/nNmQP5zZkD+c2ZA/nNmQP5zZkD+c2ZA/nNmQP5zZkD+c2ZA/nNmQP5zZkD+c2ZA/nNmQP5zZkD+c2ZA/nNmQP5zZkD+c2ZA/nNmQP5zZkD+c2ZA/nNmQP5zZkD+c2ZA/nNmQP5zZkD+c2ZA/nNmQP5zZkD+c2ZA/nNmQP5zZkD+c2ZA/nNmQP5zZkD+c2ZA/nNmQP5zZkD+c2ZA/nNmQP5zZkD+c2ZA/nNmQP5zZkD+c2ZA/nNmQP5zZkD+c2ZA/nNmQP5zZkD+c2ZA/nNmQP5zZkD+c2ZA/nNmQP5zZkD+c2ZA/nNmQP5zZkD+c2ZA/nNmQP5zZkD+c2ZA/nNmQP5zZkD+c2ZA/nNmQP5zZkD+c2ZA/nNmQP5zZkD+c2ZA/nNmQP5zZkD+c2ZA/nNmQP5zZkD+c2ZA/nNmQP5zZkD+c2ZA/nNmQP5zZkD+c2ZA/nNmQP5zZkD+c2ZA/nNmQP5zZkD+c2ZA/nNmQP5zZkD+c2ZA/nNmQP5zZkD+c2ZA/nNmQP5zZkD+c2ZA/nNmQP5zZkD+c2ZA/nNmQP5zZkD+c2ZA/nNmQP5zZkD+c2ZA/nNmQP5zZkD+c2ZA/nNmQP5zZkD+c2ZA/nNmQP5zZkD+c2ZA/nNmQP5zZkD+c2ZA/nNmQP5zZkD+c2ZA/nNmQP5zZkD+c2ZA/nNmQP5zZkD+c2ZA/nNmQP5zZkD+c2ZA/nNmQP5zZkD+c2ZA/nNmQP5zZkD+c2ZA/nNmQP5zZkD+c2ZA/nNmQP5zZkD+c2ZA/nNmQP5zZkD+c2ZA/nNmQP5zZkD+c2ZA/nNmQP5zZkD+c2ZA/nNmQP5zZkD+c2ZA/nNmQP5zZkD+c2ZA/nNmQP5zZkD+c2ZA/nNmQP5zZkD+c2ZA/nNmQP5zZkD+c2ZA/nNmQP5zZkD+c2ZA/nNmQP5zZkD+c2ZA/nNmQP5zZkD+c2ZA/nNmQP5zZkD+c2ZA/nNmQP5zZkD+c2ZA/nNmQP5zZkD+c2ZA/nNmQP5zZkD+c2ZA/nNmQP5zZkD+c2ZA/nNmQP5zZkD+c2ZA/nNmQP5zZkD+c2ZA/nNmQP5zZkD+c2ZA/nNmQP5zZkD+c2ZA/nNmQP5zZkD+c2ZA/nNmQP5zZkD+c2ZA/nNmQP5zZkD+c2ZA/nNmQP5zZkD+c2ZA/nNmQP5zZkD+c2ZA/nNmQP5zZkD+c2ZA/nNmQP5zZkD+c2ZA/nNmQP5zZkD+c2ZA/nNmQP5zZkD+c2ZA/nNmQP5zZkD+c2ZA/nNmQP5zZkD+c2ZA/nNmQP5zZkD+c2ZA/nNmQP5zZkD+c2ZA/nNmQP5zZkD+c2ZA/nNmQP5zZkD+c2ZA/nNmQP5zZkD+c2ZA/nNmQP5zZkD+c2ZA/nNmQP5zZkD+c2ZA/nNmQP5zZkD+c2ZA/nNmQP5zZkD+c2ZA/nNmQP5zZkD+c2ZA/nNmQP5zZkD+c2ZA/nNmQP5zZkD+c2ZA/nNmQP5zZkD+c2ZA/nNmQP5zZkD+c2ZA/nNmQP5zZkD+c2ZA/nNmQP5zZkD+c2ZA/nNmQP5zZkD+c2ZA/nNmQP5zZkD+c2ZA/nNmQP5zZkD+c2ZA/nNmQP5zZkD+c2ZA/nNmQP5zZkD+c2ZA/nNmQP5zZkD+c2ZA/nNmQP5zZkD+c2ZA/nNmQP5zZkD+c2ZA/nNmQP5zZkD+c2ZA/nNmQP5zZkD+c2ZA/nNmQP5zZkD+c2ZA/nNmQP5zZkD+c2ZA/nNmQP5zZkD+c2ZA/nNmQP5zZkD+c2ZA/nNmQP5zZkD+c2ZA/nNmQP5zZkD+c2ZA/nNmQP5zZkD+c2ZA/nNmQP5zZkD+c2ZA/nNmQP5zZkD+c2ZA/nNmQP5zZkD+c2ZA/nNmQP5zZkD+c2ZA/nNmQP5zZkD+c2ZA/nNmQP5zZkD+c2ZA/nNmQP5zZkD+c2ZA/nNmQP5zZkD+c2ZA/nNmQP5zZkD+c2ZA/nNmQP5zZkD+c2ZA/nNmQP5zZkD+c2ZA/nNmQP5zZkD+c2ZA/nNmQP5zZkD+c2ZA/nNmQP5zZkD+c2ZA/nNmQP5zZkD+c2ZA/nNmQP5zZkD+c2ZA/nNmQP5zZkD+c2ZA/nNmQP5zZkD+c2ZA/nNmQP5zZkD+c2ZA/nNmQP5zZkD+c2ZA/nNmQP5zZkD+c2ZA/nNmQP5zZkD+c2ZA/nNmQP5zZkD+c2ZA/nNmQP5zZkD+c2ZA/nNmQP5zZkD+c2ZA/nNmQP5zZkD+c2ZA/nNmQA==",
          "dtype": "f4"
         }
        },
        {
         "mode": "lines",
         "name": "Optimized, L=14978 µm",
         "type": "scatter",
         "y": {
          "bdata": "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",
          "dtype": "f4"
         }
        }
       ],
       "layout": {
        "template": {
         "data": {
          "bar": [
           {
            "error_x": {
             "color": "#2a3f5f"
            },
            "error_y": {
             "color": "#2a3f5f"
            },
            "marker": {
             "line": {
              "color": "white",
              "width": 0.5
             },
             "pattern": {
              "fillmode": "overlay",
              "size": 10,
              "solidity": 0.2
             }
            },
            "type": "bar"
           }
          ],
          "barpolar": [
           {
            "marker": {
             "line": {
              "color": "white",
              "width": 0.5
             },
             "pattern": {
              "fillmode": "overlay",
              "size": 10,
              "solidity": 0.2
             }
            },
            "type": "barpolar"
           }
          ],
          "carpet": [
           {
            "aaxis": {
             "endlinecolor": "#2a3f5f",
             "gridcolor": "#C8D4E3",
             "linecolor": "#C8D4E3",
             "minorgridcolor": "#C8D4E3",
             "startlinecolor": "#2a3f5f"
            },
            "baxis": {
             "endlinecolor": "#2a3f5f",
             "gridcolor": "#C8D4E3",
             "linecolor": "#C8D4E3",
             "minorgridcolor": "#C8D4E3",
             "startlinecolor": "#2a3f5f"
            },
            "type": "carpet"
           }
          ],
          "choropleth": [
           {
            "colorbar": {
             "outlinewidth": 0,
             "ticks": ""
            },
            "type": "choropleth"
           }
          ],
          "contour": [
           {
            "colorbar": {
             "outlinewidth": 0,
             "ticks": ""
            },
            "colorscale": [
             [
              0,
              "#0d0887"
             ],
             [
              0.1111111111111111,
              "#46039f"
             ],
             [
              0.2222222222222222,
              "#7201a8"
             ],
             [
              0.3333333333333333,
              "#9c179e"
             ],
             [
              0.4444444444444444,
              "#bd3786"
             ],
             [
              0.5555555555555556,
              "#d8576b"
             ],
             [
              0.6666666666666666,
              "#ed7953"
             ],
             [
              0.7777777777777778,
              "#fb9f3a"
             ],
             [
              0.8888888888888888,
              "#fdca26"
             ],
             [
              1,
              "#f0f921"
             ]
            ],
            "type": "contour"
           }
          ],
          "contourcarpet": [
           {
            "colorbar": {
             "outlinewidth": 0,
             "ticks": ""
            },
            "type": "contourcarpet"
           }
          ],
          "heatmap": [
           {
            "colorbar": {
             "outlinewidth": 0,
             "ticks": ""
            },
            "colorscale": [
             [
              0,
              "#0d0887"
             ],
             [
              0.1111111111111111,
              "#46039f"
             ],
             [
              0.2222222222222222,
              "#7201a8"
             ],
             [
              0.3333333333333333,
              "#9c179e"
             ],
             [
              0.4444444444444444,
              "#bd3786"
             ],
             [
              0.5555555555555556,
              "#d8576b"
             ],
             [
              0.6666666666666666,
              "#ed7953"
             ],
             [
              0.7777777777777778,
              "#fb9f3a"
             ],
             [
              0.8888888888888888,
              "#fdca26"
             ],
             [
              1,
              "#f0f921"
             ]
            ],
            "type": "heatmap"
           }
          ],
          "histogram": [
           {
            "marker": {
             "pattern": {
              "fillmode": "overlay",
              "size": 10,
              "solidity": 0.2
             }
            },
            "type": "histogram"
           }
          ],
          "histogram2d": [
           {
            "colorbar": {
             "outlinewidth": 0,
             "ticks": ""
            },
            "colorscale": [
             [
              0,
              "#0d0887"
             ],
             [
              0.1111111111111111,
              "#46039f"
             ],
             [
              0.2222222222222222,
              "#7201a8"
             ],
             [
              0.3333333333333333,
              "#9c179e"
             ],
             [
              0.4444444444444444,
              "#bd3786"
             ],
             [
              0.5555555555555556,
              "#d8576b"
             ],
             [
              0.6666666666666666,
              "#ed7953"
             ],
             [
              0.7777777777777778,
              "#fb9f3a"
             ],
             [
              0.8888888888888888,
              "#fdca26"
             ],
             [
              1,
              "#f0f921"
             ]
            ],
            "type": "histogram2d"
           }
          ],
          "histogram2dcontour": [
           {
            "colorbar": {
             "outlinewidth": 0,
             "ticks": ""
            },
            "colorscale": [
             [
              0,
              "#0d0887"
             ],
             [
              0.1111111111111111,
              "#46039f"
             ],
             [
              0.2222222222222222,
              "#7201a8"
             ],
             [
              0.3333333333333333,
              "#9c179e"
             ],
             [
              0.4444444444444444,
              "#bd3786"
             ],
             [
              0.5555555555555556,
              "#d8576b"
             ],
             [
              0.6666666666666666,
              "#ed7953"
             ],
             [
              0.7777777777777778,
              "#fb9f3a"
             ],
             [
              0.8888888888888888,
              "#fdca26"
             ],
             [
              1,
              "#f0f921"
             ]
            ],
            "type": "histogram2dcontour"
           }
          ],
          "mesh3d": [
           {
            "colorbar": {
             "outlinewidth": 0,
             "ticks": ""
            },
            "type": "mesh3d"
           }
          ],
          "parcoords": [
           {
            "line": {
             "colorbar": {
              "outlinewidth": 0,
              "ticks": ""
             }
            },
            "type": "parcoords"
           }
          ],
          "pie": [
           {
            "automargin": true,
            "type": "pie"
           }
          ],
          "scatter": [
           {
            "fillpattern": {
             "fillmode": "overlay",
             "size": 10,
             "solidity": 0.2
            },
            "type": "scatter"
           }
          ],
          "scatter3d": [
           {
            "line": {
             "colorbar": {
              "outlinewidth": 0,
              "ticks": ""
             }
            },
            "marker": {
             "colorbar": {
              "outlinewidth": 0,
              "ticks": ""
             }
            },
            "type": "scatter3d"
           }
          ],
          "scattercarpet": [
           {
            "marker": {
             "colorbar": {
              "outlinewidth": 0,
              "ticks": ""
             }
            },
            "type": "scattercarpet"
           }
          ],
          "scattergeo": [
           {
            "marker": {
             "colorbar": {
              "outlinewidth": 0,
              "ticks": ""
             }
            },
            "type": "scattergeo"
           }
          ],
          "scattergl": [
           {
            "marker": {
             "colorbar": {
              "outlinewidth": 0,
              "ticks": ""
             }
            },
            "type": "scattergl"
           }
          ],
          "scattermap": [
           {
            "marker": {
             "colorbar": {
              "outlinewidth": 0,
              "ticks": ""
             }
            },
            "type": "scattermap"
           }
          ],
          "scattermapbox": [
           {
            "marker": {
             "colorbar": {
              "outlinewidth": 0,
              "ticks": ""
             }
            },
            "type": "scattermapbox"
           }
          ],
          "scatterpolar": [
           {
            "marker": {
             "colorbar": {
              "outlinewidth": 0,
              "ticks": ""
             }
            },
            "type": "scatterpolar"
           }
          ],
          "scatterpolargl": [
           {
            "marker": {
             "colorbar": {
              "outlinewidth": 0,
              "ticks": ""
             }
            },
            "type": "scatterpolargl"
           }
          ],
          "scatterternary": [
           {
            "marker": {
             "colorbar": {
              "outlinewidth": 0,
              "ticks": ""
             }
            },
            "type": "scatterternary"
           }
          ],
          "surface": [
           {
            "colorbar": {
             "outlinewidth": 0,
             "ticks": ""
            },
            "colorscale": [
             [
              0,
              "#0d0887"
             ],
             [
              0.1111111111111111,
              "#46039f"
             ],
             [
              0.2222222222222222,
              "#7201a8"
             ],
             [
              0.3333333333333333,
              "#9c179e"
             ],
             [
              0.4444444444444444,
              "#bd3786"
             ],
             [
              0.5555555555555556,
              "#d8576b"
             ],
             [
              0.6666666666666666,
              "#ed7953"
             ],
             [
              0.7777777777777778,
              "#fb9f3a"
             ],
             [
              0.8888888888888888,
              "#fdca26"
             ],
             [
              1,
              "#f0f921"
             ]
            ],
            "type": "surface"
           }
          ],
          "table": [
           {
            "cells": {
             "fill": {
              "color": "#EBF0F8"
             },
             "line": {
              "color": "white"
             }
            },
            "header": {
             "fill": {
              "color": "#C8D4E3"
             },
             "line": {
              "color": "white"
             }
            },
            "type": "table"
           }
          ]
         },
         "layout": {
          "annotationdefaults": {
           "arrowcolor": "#2a3f5f",
           "arrowhead": 0,
           "arrowwidth": 1
          },
          "autotypenumbers": "strict",
          "coloraxis": {
           "colorbar": {
            "outlinewidth": 0,
            "ticks": ""
           }
          },
          "colorscale": {
           "diverging": [
            [
             0,
             "#8e0152"
            ],
            [
             0.1,
             "#c51b7d"
            ],
            [
             0.2,
             "#de77ae"
            ],
            [
             0.3,
             "#f1b6da"
            ],
            [
             0.4,
             "#fde0ef"
            ],
            [
             0.5,
             "#f7f7f7"
            ],
            [
             0.6,
             "#e6f5d0"
            ],
            [
             0.7,
             "#b8e186"
            ],
            [
             0.8,
             "#7fbc41"
            ],
            [
             0.9,
             "#4d9221"
            ],
            [
             1,
             "#276419"
            ]
           ],
           "sequential": [
            [
             0,
             "#0d0887"
            ],
            [
             0.1111111111111111,
             "#46039f"
            ],
            [
             0.2222222222222222,
             "#7201a8"
            ],
            [
             0.3333333333333333,
             "#9c179e"
            ],
            [
             0.4444444444444444,
             "#bd3786"
            ],
            [
             0.5555555555555556,
             "#d8576b"
            ],
            [
             0.6666666666666666,
             "#ed7953"
            ],
            [
             0.7777777777777778,
             "#fb9f3a"
            ],
            [
             0.8888888888888888,
             "#fdca26"
            ],
            [
             1,
             "#f0f921"
            ]
           ],
           "sequentialminus": [
            [
             0,
             "#0d0887"
            ],
            [
             0.1111111111111111,
             "#46039f"
            ],
            [
             0.2222222222222222,
             "#7201a8"
            ],
            [
             0.3333333333333333,
             "#9c179e"
            ],
            [
             0.4444444444444444,
             "#bd3786"
            ],
            [
             0.5555555555555556,
             "#d8576b"
            ],
            [
             0.6666666666666666,
             "#ed7953"
            ],
            [
             0.7777777777777778,
             "#fb9f3a"
            ],
            [
             0.8888888888888888,
             "#fdca26"
            ],
            [
             1,
             "#f0f921"
            ]
           ]
          },
          "colorway": [
           "#636efa",
           "#EF553B",
           "#00cc96",
           "#ab63fa",
           "#FFA15A",
           "#19d3f3",
           "#FF6692",
           "#B6E880",
           "#FF97FF",
           "#FECB52"
          ],
          "font": {
           "color": "#2a3f5f"
          },
          "geo": {
           "bgcolor": "white",
           "lakecolor": "white",
           "landcolor": "white",
           "showlakes": true,
           "showland": true,
           "subunitcolor": "#C8D4E3"
          },
          "hoverlabel": {
           "align": "left"
          },
          "hovermode": "closest",
          "mapbox": {
           "style": "light"
          },
          "paper_bgcolor": "white",
          "plot_bgcolor": "white",
          "polar": {
           "angularaxis": {
            "gridcolor": "#EBF0F8",
            "linecolor": "#EBF0F8",
            "ticks": ""
           },
           "bgcolor": "white",
           "radialaxis": {
            "gridcolor": "#EBF0F8",
            "linecolor": "#EBF0F8",
            "ticks": ""
           }
          },
          "scene": {
           "xaxis": {
            "backgroundcolor": "white",
            "gridcolor": "#DFE8F3",
            "gridwidth": 2,
            "linecolor": "#EBF0F8",
            "showbackground": true,
            "ticks": "",
            "zerolinecolor": "#EBF0F8"
           },
           "yaxis": {
            "backgroundcolor": "white",
            "gridcolor": "#DFE8F3",
            "gridwidth": 2,
            "linecolor": "#EBF0F8",
            "showbackground": true,
            "ticks": "",
            "zerolinecolor": "#EBF0F8"
           },
           "zaxis": {
            "backgroundcolor": "white",
            "gridcolor": "#DFE8F3",
            "gridwidth": 2,
            "linecolor": "#EBF0F8",
            "showbackground": true,
            "ticks": "",
            "zerolinecolor": "#EBF0F8"
           }
          },
          "shapedefaults": {
           "line": {
            "color": "#2a3f5f"
           }
          },
          "ternary": {
           "aaxis": {
            "gridcolor": "#DFE8F3",
            "linecolor": "#A2B1C6",
            "ticks": ""
           },
           "baxis": {
            "gridcolor": "#DFE8F3",
            "linecolor": "#A2B1C6",
            "ticks": ""
           },
           "bgcolor": "white",
           "caxis": {
            "gridcolor": "#DFE8F3",
            "linecolor": "#A2B1C6",
            "ticks": ""
           }
          },
          "title": {
           "x": 0.05
          },
          "xaxis": {
           "automargin": true,
           "gridcolor": "#EBF0F8",
           "linecolor": "#EBF0F8",
           "ticks": "",
           "title": {
            "standoff": 15
           },
           "zerolinecolor": "#EBF0F8",
           "zerolinewidth": 2
          },
          "yaxis": {
           "automargin": true,
           "gridcolor": "#EBF0F8",
           "linecolor": "#EBF0F8",
           "ticks": "",
           "title": {
            "standoff": 15
           },
           "zerolinecolor": "#EBF0F8",
           "zerolinewidth": 2
          }
         }
        },
        "title": {
         "text": "Domain Widths Comparison"
        },
        "xaxis": {
         "title": {
          "text": "Domain Index"
         }
        },
        "yaxis": {
         "title": {
          "text": "Width (μm)"
         }
        }
       }
      }
     },
     "metadata": {},
     "output_type": "display_data"
    },
    {
     "data": {
      "application/vnd.plotly.v1+json": {
       "config": {
        "plotlyServerURL": "https://plot.ly"
       },
       "data": [
        {
         "line": {
          "dash": "dash"
         },
         "mode": "lines",
         "name": "Initial",
         "type": "scatter",
         "x": {
          "bdata": "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",
          "dtype": "f4"
         },
         "y": {
          "bdata": "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",
          "dtype": "f4"
         }
        },
        {
         "line": {
          "dash": "dot"
         },
         "mode": "lines",
         "name": "Periodic",
         "type": "scatter",
         "x": {
          "bdata": "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",
          "dtype": "f4"
         },
         "y": {
          "bdata": "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",
          "dtype": "f4"
         }
        },
        {
         "mode": "lines",
         "name": "Optimized",
         "type": "scatter",
         "x": {
          "bdata": "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",
          "dtype": "f4"
         },
         "y": {
          "bdata": "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",
          "dtype": "f4"
         }
        }
       ],
       "layout": {
        "annotations": [
         {
          "showarrow": false,
          "text": "Target Power",
          "x": 1,
          "xanchor": "right",
          "xref": "x domain",
          "y": 18,
          "yanchor": "bottom",
          "yref": "y"
         },
         {
          "showarrow": false,
          "text": "Target Region",
          "x": 1.0308,
          "xanchor": "left",
          "xref": "x",
          "y": 1,
          "yanchor": "top",
          "yref": "y domain"
         }
        ],
        "shapes": [
         {
          "line": {
           "color": "green",
           "dash": "dash",
           "width": 2
          },
          "type": "line",
          "x0": 0,
          "x1": 1,
          "xref": "x domain",
          "y0": 18,
          "y1": 18,
          "yref": "y"
         },
         {
          "fillcolor": "red",
          "line": {
           "width": 0
          },
          "opacity": 0.1,
          "type": "rect",
          "x0": 1.0308,
          "x1": 1.0312,
          "xref": "x",
          "y0": 0,
          "y1": 1,
          "yref": "y domain"
         }
        ],
        "template": {
         "data": {
          "bar": [
           {
            "error_x": {
             "color": "#2a3f5f"
            },
            "error_y": {
             "color": "#2a3f5f"
            },
            "marker": {
             "line": {
              "color": "white",
              "width": 0.5
             },
             "pattern": {
              "fillmode": "overlay",
              "size": 10,
              "solidity": 0.2
             }
            },
            "type": "bar"
           }
          ],
          "barpolar": [
           {
            "marker": {
             "line": {
              "color": "white",
              "width": 0.5
             },
             "pattern": {
              "fillmode": "overlay",
              "size": 10,
              "solidity": 0.2
             }
            },
            "type": "barpolar"
           }
          ],
          "carpet": [
           {
            "aaxis": {
             "endlinecolor": "#2a3f5f",
             "gridcolor": "#C8D4E3",
             "linecolor": "#C8D4E3",
             "minorgridcolor": "#C8D4E3",
             "startlinecolor": "#2a3f5f"
            },
            "baxis": {
             "endlinecolor": "#2a3f5f",
             "gridcolor": "#C8D4E3",
             "linecolor": "#C8D4E3",
             "minorgridcolor": "#C8D4E3",
             "startlinecolor": "#2a3f5f"
            },
            "type": "carpet"
           }
          ],
          "choropleth": [
           {
            "colorbar": {
             "outlinewidth": 0,
             "ticks": ""
            },
            "type": "choropleth"
           }
          ],
          "contour": [
           {
            "colorbar": {
             "outlinewidth": 0,
             "ticks": ""
            },
            "colorscale": [
             [
              0,
              "#0d0887"
             ],
             [
              0.1111111111111111,
              "#46039f"
             ],
             [
              0.2222222222222222,
              "#7201a8"
             ],
             [
              0.3333333333333333,
              "#9c179e"
             ],
             [
              0.4444444444444444,
              "#bd3786"
             ],
             [
              0.5555555555555556,
              "#d8576b"
             ],
             [
              0.6666666666666666,
              "#ed7953"
             ],
             [
              0.7777777777777778,
              "#fb9f3a"
             ],
             [
              0.8888888888888888,
              "#fdca26"
             ],
             [
              1,
              "#f0f921"
             ]
            ],
            "type": "contour"
           }
          ],
          "contourcarpet": [
           {
            "colorbar": {
             "outlinewidth": 0,
             "ticks": ""
            },
            "type": "contourcarpet"
           }
          ],
          "heatmap": [
           {
            "colorbar": {
             "outlinewidth": 0,
             "ticks": ""
            },
            "colorscale": [
             [
              0,
              "#0d0887"
             ],
             [
              0.1111111111111111,
              "#46039f"
             ],
             [
              0.2222222222222222,
              "#7201a8"
             ],
             [
              0.3333333333333333,
              "#9c179e"
             ],
             [
              0.4444444444444444,
              "#bd3786"
             ],
             [
              0.5555555555555556,
              "#d8576b"
             ],
             [
              0.6666666666666666,
              "#ed7953"
             ],
             [
              0.7777777777777778,
              "#fb9f3a"
             ],
             [
              0.8888888888888888,
              "#fdca26"
             ],
             [
              1,
              "#f0f921"
             ]
            ],
            "type": "heatmap"
           }
          ],
          "histogram": [
           {
            "marker": {
             "pattern": {
              "fillmode": "overlay",
              "size": 10,
              "solidity": 0.2
             }
            },
            "type": "histogram"
           }
          ],
          "histogram2d": [
           {
            "colorbar": {
             "outlinewidth": 0,
             "ticks": ""
            },
            "colorscale": [
             [
              0,
              "#0d0887"
             ],
             [
              0.1111111111111111,
              "#46039f"
             ],
             [
              0.2222222222222222,
              "#7201a8"
             ],
             [
              0.3333333333333333,
              "#9c179e"
             ],
             [
              0.4444444444444444,
              "#bd3786"
             ],
             [
              0.5555555555555556,
              "#d8576b"
             ],
             [
              0.6666666666666666,
              "#ed7953"
             ],
             [
              0.7777777777777778,
              "#fb9f3a"
             ],
             [
              0.8888888888888888,
              "#fdca26"
             ],
             [
              1,
              "#f0f921"
             ]
            ],
            "type": "histogram2d"
           }
          ],
          "histogram2dcontour": [
           {
            "colorbar": {
             "outlinewidth": 0,
             "ticks": ""
            },
            "colorscale": [
             [
              0,
              "#0d0887"
             ],
             [
              0.1111111111111111,
              "#46039f"
             ],
             [
              0.2222222222222222,
              "#7201a8"
             ],
             [
              0.3333333333333333,
              "#9c179e"
             ],
             [
              0.4444444444444444,
              "#bd3786"
             ],
             [
              0.5555555555555556,
              "#d8576b"
             ],
             [
              0.6666666666666666,
              "#ed7953"
             ],
             [
              0.7777777777777778,
              "#fb9f3a"
             ],
             [
              0.8888888888888888,
              "#fdca26"
             ],
             [
              1,
              "#f0f921"
             ]
            ],
            "type": "histogram2dcontour"
           }
          ],
          "mesh3d": [
           {
            "colorbar": {
             "outlinewidth": 0,
             "ticks": ""
            },
            "type": "mesh3d"
           }
          ],
          "parcoords": [
           {
            "line": {
             "colorbar": {
              "outlinewidth": 0,
              "ticks": ""
             }
            },
            "type": "parcoords"
           }
          ],
          "pie": [
           {
            "automargin": true,
            "type": "pie"
           }
          ],
          "scatter": [
           {
            "fillpattern": {
             "fillmode": "overlay",
             "size": 10,
             "solidity": 0.2
            },
            "type": "scatter"
           }
          ],
          "scatter3d": [
           {
            "line": {
             "colorbar": {
              "outlinewidth": 0,
              "ticks": ""
             }
            },
            "marker": {
             "colorbar": {
              "outlinewidth": 0,
              "ticks": ""
             }
            },
            "type": "scatter3d"
           }
          ],
          "scattercarpet": [
           {
            "marker": {
             "colorbar": {
              "outlinewidth": 0,
              "ticks": ""
             }
            },
            "type": "scattercarpet"
           }
          ],
          "scattergeo": [
           {
            "marker": {
             "colorbar": {
              "outlinewidth": 0,
              "ticks": ""
             }
            },
            "type": "scattergeo"
           }
          ],
          "scattergl": [
           {
            "marker": {
             "colorbar": {
              "outlinewidth": 0,
              "ticks": ""
             }
            },
            "type": "scattergl"
           }
          ],
          "scattermap": [
           {
            "marker": {
             "colorbar": {
              "outlinewidth": 0,
              "ticks": ""
             }
            },
            "type": "scattermap"
           }
          ],
          "scattermapbox": [
           {
            "marker": {
             "colorbar": {
              "outlinewidth": 0,
              "ticks": ""
             }
            },
            "type": "scattermapbox"
           }
          ],
          "scatterpolar": [
           {
            "marker": {
             "colorbar": {
              "outlinewidth": 0,
              "ticks": ""
             }
            },
            "type": "scatterpolar"
           }
          ],
          "scatterpolargl": [
           {
            "marker": {
             "colorbar": {
              "outlinewidth": 0,
              "ticks": ""
             }
            },
            "type": "scatterpolargl"
           }
          ],
          "scatterternary": [
           {
            "marker": {
             "colorbar": {
              "outlinewidth": 0,
              "ticks": ""
             }
            },
            "type": "scatterternary"
           }
          ],
          "surface": [
           {
            "colorbar": {
             "outlinewidth": 0,
             "ticks": ""
            },
            "colorscale": [
             [
              0,
              "#0d0887"
             ],
             [
              0.1111111111111111,
              "#46039f"
             ],
             [
              0.2222222222222222,
              "#7201a8"
             ],
             [
              0.3333333333333333,
              "#9c179e"
             ],
             [
              0.4444444444444444,
              "#bd3786"
             ],
             [
              0.5555555555555556,
              "#d8576b"
             ],
             [
              0.6666666666666666,
              "#ed7953"
             ],
             [
              0.7777777777777778,
              "#fb9f3a"
             ],
             [
              0.8888888888888888,
              "#fdca26"
             ],
             [
              1,
              "#f0f921"
             ]
            ],
            "type": "surface"
           }
          ],
          "table": [
           {
            "cells": {
             "fill": {
              "color": "#EBF0F8"
             },
             "line": {
              "color": "white"
             }
            },
            "header": {
             "fill": {
              "color": "#C8D4E3"
             },
             "line": {
              "color": "white"
             }
            },
            "type": "table"
           }
          ]
         },
         "layout": {
          "annotationdefaults": {
           "arrowcolor": "#2a3f5f",
           "arrowhead": 0,
           "arrowwidth": 1
          },
          "autotypenumbers": "strict",
          "coloraxis": {
           "colorbar": {
            "outlinewidth": 0,
            "ticks": ""
           }
          },
          "colorscale": {
           "diverging": [
            [
             0,
             "#8e0152"
            ],
            [
             0.1,
             "#c51b7d"
            ],
            [
             0.2,
             "#de77ae"
            ],
            [
             0.3,
             "#f1b6da"
            ],
            [
             0.4,
             "#fde0ef"
            ],
            [
             0.5,
             "#f7f7f7"
            ],
            [
             0.6,
             "#e6f5d0"
            ],
            [
             0.7,
             "#b8e186"
            ],
            [
             0.8,
             "#7fbc41"
            ],
            [
             0.9,
             "#4d9221"
            ],
            [
             1,
             "#276419"
            ]
           ],
           "sequential": [
            [
             0,
             "#0d0887"
            ],
            [
             0.1111111111111111,
             "#46039f"
            ],
            [
             0.2222222222222222,
             "#7201a8"
            ],
            [
             0.3333333333333333,
             "#9c179e"
            ],
            [
             0.4444444444444444,
             "#bd3786"
            ],
            [
             0.5555555555555556,
             "#d8576b"
            ],
            [
             0.6666666666666666,
             "#ed7953"
            ],
            [
             0.7777777777777778,
             "#fb9f3a"
            ],
            [
             0.8888888888888888,
             "#fdca26"
            ],
            [
             1,
             "#f0f921"
            ]
           ],
           "sequentialminus": [
            [
             0,
             "#0d0887"
            ],
            [
             0.1111111111111111,
             "#46039f"
            ],
            [
             0.2222222222222222,
             "#7201a8"
            ],
            [
             0.3333333333333333,
             "#9c179e"
            ],
            [
             0.4444444444444444,
             "#bd3786"
            ],
            [
             0.5555555555555556,
             "#d8576b"
            ],
            [
             0.6666666666666666,
             "#ed7953"
            ],
            [
             0.7777777777777778,
             "#fb9f3a"
            ],
            [
             0.8888888888888888,
             "#fdca26"
            ],
            [
             1,
             "#f0f921"
            ]
           ]
          },
          "colorway": [
           "#636efa",
           "#EF553B",
           "#00cc96",
           "#ab63fa",
           "#FFA15A",
           "#19d3f3",
           "#FF6692",
           "#B6E880",
           "#FF97FF",
           "#FECB52"
          ],
          "font": {
           "color": "#2a3f5f"
          },
          "geo": {
           "bgcolor": "white",
           "lakecolor": "white",
           "landcolor": "white",
           "showlakes": true,
           "showland": true,
           "subunitcolor": "#C8D4E3"
          },
          "hoverlabel": {
           "align": "left"
          },
          "hovermode": "closest",
          "mapbox": {
           "style": "light"
          },
          "paper_bgcolor": "white",
          "plot_bgcolor": "white",
          "polar": {
           "angularaxis": {
            "gridcolor": "#EBF0F8",
            "linecolor": "#EBF0F8",
            "ticks": ""
           },
           "bgcolor": "white",
           "radialaxis": {
            "gridcolor": "#EBF0F8",
            "linecolor": "#EBF0F8",
            "ticks": ""
           }
          },
          "scene": {
           "xaxis": {
            "backgroundcolor": "white",
            "gridcolor": "#DFE8F3",
            "gridwidth": 2,
            "linecolor": "#EBF0F8",
            "showbackground": true,
            "ticks": "",
            "zerolinecolor": "#EBF0F8"
           },
           "yaxis": {
            "backgroundcolor": "white",
            "gridcolor": "#DFE8F3",
            "gridwidth": 2,
            "linecolor": "#EBF0F8",
            "showbackground": true,
            "ticks": "",
            "zerolinecolor": "#EBF0F8"
           },
           "zaxis": {
            "backgroundcolor": "white",
            "gridcolor": "#DFE8F3",
            "gridwidth": 2,
            "linecolor": "#EBF0F8",
            "showbackground": true,
            "ticks": "",
            "zerolinecolor": "#EBF0F8"
           }
          },
          "shapedefaults": {
           "line": {
            "color": "#2a3f5f"
           }
          },
          "ternary": {
           "aaxis": {
            "gridcolor": "#DFE8F3",
            "linecolor": "#A2B1C6",
            "ticks": ""
           },
           "baxis": {
            "gridcolor": "#DFE8F3",
            "linecolor": "#A2B1C6",
            "ticks": ""
           },
           "bgcolor": "white",
           "caxis": {
            "gridcolor": "#DFE8F3",
            "linecolor": "#A2B1C6",
            "ticks": ""
           }
          },
          "title": {
           "x": 0.05
          },
          "xaxis": {
           "automargin": true,
           "gridcolor": "#EBF0F8",
           "linecolor": "#EBF0F8",
           "ticks": "",
           "title": {
            "standoff": 15
           },
           "zerolinecolor": "#EBF0F8",
           "zerolinewidth": 2
          },
          "yaxis": {
           "automargin": true,
           "gridcolor": "#EBF0F8",
           "linecolor": "#EBF0F8",
           "ticks": "",
           "title": {
            "standoff": 15
           },
           "zerolinecolor": "#EBF0F8",
           "zerolinewidth": 2
          }
         }
        },
        "title": {
         "text": "SHG Efficiency Spectrum Comparison"
        },
        "xaxis": {
         "title": {
          "text": "Fundamental Wavelength (μm)"
         }
        },
        "yaxis": {
         "title": {
          "text": "SHW Efficiency (%/W)"
         }
        }
       }
      }
     },
     "metadata": {},
     "output_type": "display_data"
    },
    {
     "data": {
      "application/vnd.plotly.v1+json": {
       "config": {
        "plotlyServerURL": "https://plot.ly"
       },
       "data": [
        {
         "mode": "lines",
         "name": "Loss",
         "type": "scatter",
         "y": {
          "bdata": "AAAAAAAAAAAAAAAAAAAAAAAAAAAAAAAAAAAAAAAAAAAAAAAAAAAAAA==",
          "dtype": "f4"
         }
        }
       ],
       "layout": {
        "template": {
         "data": {
          "bar": [
           {
            "error_x": {
             "color": "#2a3f5f"
            },
            "error_y": {
             "color": "#2a3f5f"
            },
            "marker": {
             "line": {
              "color": "white",
              "width": 0.5
             },
             "pattern": {
              "fillmode": "overlay",
              "size": 10,
              "solidity": 0.2
             }
            },
            "type": "bar"
           }
          ],
          "barpolar": [
           {
            "marker": {
             "line": {
              "color": "white",
              "width": 0.5
             },
             "pattern": {
              "fillmode": "overlay",
              "size": 10,
              "solidity": 0.2
             }
            },
            "type": "barpolar"
           }
          ],
          "carpet": [
           {
            "aaxis": {
             "endlinecolor": "#2a3f5f",
             "gridcolor": "#C8D4E3",
             "linecolor": "#C8D4E3",
             "minorgridcolor": "#C8D4E3",
             "startlinecolor": "#2a3f5f"
            },
            "baxis": {
             "endlinecolor": "#2a3f5f",
             "gridcolor": "#C8D4E3",
             "linecolor": "#C8D4E3",
             "minorgridcolor": "#C8D4E3",
             "startlinecolor": "#2a3f5f"
            },
            "type": "carpet"
           }
          ],
          "choropleth": [
           {
            "colorbar": {
             "outlinewidth": 0,
             "ticks": ""
            },
            "type": "choropleth"
           }
          ],
          "contour": [
           {
            "colorbar": {
             "outlinewidth": 0,
             "ticks": ""
            },
            "colorscale": [
             [
              0,
              "#0d0887"
             ],
             [
              0.1111111111111111,
              "#46039f"
             ],
             [
              0.2222222222222222,
              "#7201a8"
             ],
             [
              0.3333333333333333,
              "#9c179e"
             ],
             [
              0.4444444444444444,
              "#bd3786"
             ],
             [
              0.5555555555555556,
              "#d8576b"
             ],
             [
              0.6666666666666666,
              "#ed7953"
             ],
             [
              0.7777777777777778,
              "#fb9f3a"
             ],
             [
              0.8888888888888888,
              "#fdca26"
             ],
             [
              1,
              "#f0f921"
             ]
            ],
            "type": "contour"
           }
          ],
          "contourcarpet": [
           {
            "colorbar": {
             "outlinewidth": 0,
             "ticks": ""
            },
            "type": "contourcarpet"
           }
          ],
          "heatmap": [
           {
            "colorbar": {
             "outlinewidth": 0,
             "ticks": ""
            },
            "colorscale": [
             [
              0,
              "#0d0887"
             ],
             [
              0.1111111111111111,
              "#46039f"
             ],
             [
              0.2222222222222222,
              "#7201a8"
             ],
             [
              0.3333333333333333,
              "#9c179e"
             ],
             [
              0.4444444444444444,
              "#bd3786"
             ],
             [
              0.5555555555555556,
              "#d8576b"
             ],
             [
              0.6666666666666666,
              "#ed7953"
             ],
             [
              0.7777777777777778,
              "#fb9f3a"
             ],
             [
              0.8888888888888888,
              "#fdca26"
             ],
             [
              1,
              "#f0f921"
             ]
            ],
            "type": "heatmap"
           }
          ],
          "histogram": [
           {
            "marker": {
             "pattern": {
              "fillmode": "overlay",
              "size": 10,
              "solidity": 0.2
             }
            },
            "type": "histogram"
           }
          ],
          "histogram2d": [
           {
            "colorbar": {
             "outlinewidth": 0,
             "ticks": ""
            },
            "colorscale": [
             [
              0,
              "#0d0887"
             ],
             [
              0.1111111111111111,
              "#46039f"
             ],
             [
              0.2222222222222222,
              "#7201a8"
             ],
             [
              0.3333333333333333,
              "#9c179e"
             ],
             [
              0.4444444444444444,
              "#bd3786"
             ],
             [
              0.5555555555555556,
              "#d8576b"
             ],
             [
              0.6666666666666666,
              "#ed7953"
             ],
             [
              0.7777777777777778,
              "#fb9f3a"
             ],
             [
              0.8888888888888888,
              "#fdca26"
             ],
             [
              1,
              "#f0f921"
             ]
            ],
            "type": "histogram2d"
           }
          ],
          "histogram2dcontour": [
           {
            "colorbar": {
             "outlinewidth": 0,
             "ticks": ""
            },
            "colorscale": [
             [
              0,
              "#0d0887"
             ],
             [
              0.1111111111111111,
              "#46039f"
             ],
             [
              0.2222222222222222,
              "#7201a8"
             ],
             [
              0.3333333333333333,
              "#9c179e"
             ],
             [
              0.4444444444444444,
              "#bd3786"
             ],
             [
              0.5555555555555556,
              "#d8576b"
             ],
             [
              0.6666666666666666,
              "#ed7953"
             ],
             [
              0.7777777777777778,
              "#fb9f3a"
             ],
             [
              0.8888888888888888,
              "#fdca26"
             ],
             [
              1,
              "#f0f921"
             ]
            ],
            "type": "histogram2dcontour"
           }
          ],
          "mesh3d": [
           {
            "colorbar": {
             "outlinewidth": 0,
             "ticks": ""
            },
            "type": "mesh3d"
           }
          ],
          "parcoords": [
           {
            "line": {
             "colorbar": {
              "outlinewidth": 0,
              "ticks": ""
             }
            },
            "type": "parcoords"
           }
          ],
          "pie": [
           {
            "automargin": true,
            "type": "pie"
           }
          ],
          "scatter": [
           {
            "fillpattern": {
             "fillmode": "overlay",
             "size": 10,
             "solidity": 0.2
            },
            "type": "scatter"
           }
          ],
          "scatter3d": [
           {
            "line": {
             "colorbar": {
              "outlinewidth": 0,
              "ticks": ""
             }
            },
            "marker": {
             "colorbar": {
              "outlinewidth": 0,
              "ticks": ""
             }
            },
            "type": "scatter3d"
           }
          ],
          "scattercarpet": [
           {
            "marker": {
             "colorbar": {
              "outlinewidth": 0,
              "ticks": ""
             }
            },
            "type": "scattercarpet"
           }
          ],
          "scattergeo": [
           {
            "marker": {
             "colorbar": {
              "outlinewidth": 0,
              "ticks": ""
             }
            },
            "type": "scattergeo"
           }
          ],
          "scattergl": [
           {
            "marker": {
             "colorbar": {
              "outlinewidth": 0,
              "ticks": ""
             }
            },
            "type": "scattergl"
           }
          ],
          "scattermap": [
           {
            "marker": {
             "colorbar": {
              "outlinewidth": 0,
              "ticks": ""
             }
            },
            "type": "scattermap"
           }
          ],
          "scattermapbox": [
           {
            "marker": {
             "colorbar": {
              "outlinewidth": 0,
              "ticks": ""
             }
            },
            "type": "scattermapbox"
           }
          ],
          "scatterpolar": [
           {
            "marker": {
             "colorbar": {
              "outlinewidth": 0,
              "ticks": ""
             }
            },
            "type": "scatterpolar"
           }
          ],
          "scatterpolargl": [
           {
            "marker": {
             "colorbar": {
              "outlinewidth": 0,
              "ticks": ""
             }
            },
            "type": "scatterpolargl"
           }
          ],
          "scatterternary": [
           {
            "marker": {
             "colorbar": {
              "outlinewidth": 0,
              "ticks": ""
             }
            },
            "type": "scatterternary"
           }
          ],
          "surface": [
           {
            "colorbar": {
             "outlinewidth": 0,
             "ticks": ""
            },
            "colorscale": [
             [
              0,
              "#0d0887"
             ],
             [
              0.1111111111111111,
              "#46039f"
             ],
             [
              0.2222222222222222,
              "#7201a8"
             ],
             [
              0.3333333333333333,
              "#9c179e"
             ],
             [
              0.4444444444444444,
              "#bd3786"
             ],
             [
              0.5555555555555556,
              "#d8576b"
             ],
             [
              0.6666666666666666,
              "#ed7953"
             ],
             [
              0.7777777777777778,
              "#fb9f3a"
             ],
             [
              0.8888888888888888,
              "#fdca26"
             ],
             [
              1,
              "#f0f921"
             ]
            ],
            "type": "surface"
           }
          ],
          "table": [
           {
            "cells": {
             "fill": {
              "color": "#EBF0F8"
             },
             "line": {
              "color": "white"
             }
            },
            "header": {
             "fill": {
              "color": "#C8D4E3"
             },
             "line": {
              "color": "white"
             }
            },
            "type": "table"
           }
          ]
         },
         "layout": {
          "annotationdefaults": {
           "arrowcolor": "#2a3f5f",
           "arrowhead": 0,
           "arrowwidth": 1
          },
          "autotypenumbers": "strict",
          "coloraxis": {
           "colorbar": {
            "outlinewidth": 0,
            "ticks": ""
           }
          },
          "colorscale": {
           "diverging": [
            [
             0,
             "#8e0152"
            ],
            [
             0.1,
             "#c51b7d"
            ],
            [
             0.2,
             "#de77ae"
            ],
            [
             0.3,
             "#f1b6da"
            ],
            [
             0.4,
             "#fde0ef"
            ],
            [
             0.5,
             "#f7f7f7"
            ],
            [
             0.6,
             "#e6f5d0"
            ],
            [
             0.7,
             "#b8e186"
            ],
            [
             0.8,
             "#7fbc41"
            ],
            [
             0.9,
             "#4d9221"
            ],
            [
             1,
             "#276419"
            ]
           ],
           "sequential": [
            [
             0,
             "#0d0887"
            ],
            [
             0.1111111111111111,
             "#46039f"
            ],
            [
             0.2222222222222222,
             "#7201a8"
            ],
            [
             0.3333333333333333,
             "#9c179e"
            ],
            [
             0.4444444444444444,
             "#bd3786"
            ],
            [
             0.5555555555555556,
             "#d8576b"
            ],
            [
             0.6666666666666666,
             "#ed7953"
            ],
            [
             0.7777777777777778,
             "#fb9f3a"
            ],
            [
             0.8888888888888888,
             "#fdca26"
            ],
            [
             1,
             "#f0f921"
            ]
           ],
           "sequentialminus": [
            [
             0,
             "#0d0887"
            ],
            [
             0.1111111111111111,
             "#46039f"
            ],
            [
             0.2222222222222222,
             "#7201a8"
            ],
            [
             0.3333333333333333,
             "#9c179e"
            ],
            [
             0.4444444444444444,
             "#bd3786"
            ],
            [
             0.5555555555555556,
             "#d8576b"
            ],
            [
             0.6666666666666666,
             "#ed7953"
            ],
            [
             0.7777777777777778,
             "#fb9f3a"
            ],
            [
             0.8888888888888888,
             "#fdca26"
            ],
            [
             1,
             "#f0f921"
            ]
           ]
          },
          "colorway": [
           "#636efa",
           "#EF553B",
           "#00cc96",
           "#ab63fa",
           "#FFA15A",
           "#19d3f3",
           "#FF6692",
           "#B6E880",
           "#FF97FF",
           "#FECB52"
          ],
          "font": {
           "color": "#2a3f5f"
          },
          "geo": {
           "bgcolor": "white",
           "lakecolor": "white",
           "landcolor": "white",
           "showlakes": true,
           "showland": true,
           "subunitcolor": "#C8D4E3"
          },
          "hoverlabel": {
           "align": "left"
          },
          "hovermode": "closest",
          "mapbox": {
           "style": "light"
          },
          "paper_bgcolor": "white",
          "plot_bgcolor": "white",
          "polar": {
           "angularaxis": {
            "gridcolor": "#EBF0F8",
            "linecolor": "#EBF0F8",
            "ticks": ""
           },
           "bgcolor": "white",
           "radialaxis": {
            "gridcolor": "#EBF0F8",
            "linecolor": "#EBF0F8",
            "ticks": ""
           }
          },
          "scene": {
           "xaxis": {
            "backgroundcolor": "white",
            "gridcolor": "#DFE8F3",
            "gridwidth": 2,
            "linecolor": "#EBF0F8",
            "showbackground": true,
            "ticks": "",
            "zerolinecolor": "#EBF0F8"
           },
           "yaxis": {
            "backgroundcolor": "white",
            "gridcolor": "#DFE8F3",
            "gridwidth": 2,
            "linecolor": "#EBF0F8",
            "showbackground": true,
            "ticks": "",
            "zerolinecolor": "#EBF0F8"
           },
           "zaxis": {
            "backgroundcolor": "white",
            "gridcolor": "#DFE8F3",
            "gridwidth": 2,
            "linecolor": "#EBF0F8",
            "showbackground": true,
            "ticks": "",
            "zerolinecolor": "#EBF0F8"
           }
          },
          "shapedefaults": {
           "line": {
            "color": "#2a3f5f"
           }
          },
          "ternary": {
           "aaxis": {
            "gridcolor": "#DFE8F3",
            "linecolor": "#A2B1C6",
            "ticks": ""
           },
           "baxis": {
            "gridcolor": "#DFE8F3",
            "linecolor": "#A2B1C6",
            "ticks": ""
           },
           "bgcolor": "white",
           "caxis": {
            "gridcolor": "#DFE8F3",
            "linecolor": "#A2B1C6",
            "ticks": ""
           }
          },
          "title": {
           "x": 0.05
          },
          "xaxis": {
           "automargin": true,
           "gridcolor": "#EBF0F8",
           "linecolor": "#EBF0F8",
           "ticks": "",
           "title": {
            "standoff": 15
           },
           "zerolinecolor": "#EBF0F8",
           "zerolinewidth": 2
          },
          "yaxis": {
           "automargin": true,
           "gridcolor": "#EBF0F8",
           "linecolor": "#EBF0F8",
           "ticks": "",
           "title": {
            "standoff": 15
           },
           "zerolinecolor": "#EBF0F8",
           "zerolinewidth": 2
          }
         }
        },
        "title": {
         "text": "Optimization Cost History"
        },
        "xaxis": {
         "title": {
          "text": "Iteration"
         }
        },
        "yaxis": {
         "title": {
          "text": "Loss (MSE)"
         },
         "type": "log"
        }
       }
      }
     },
     "metadata": {},
     "output_type": "display_data"
    }
   ],
   "source": [
    "# Visualize optimization results\n",
    "plot_domain_widths(initial_widths, optimized_widths, periodic_widths)\n",
    "plot_shw_eff_spectrum(initial_widths, optimized_widths, periodic_widths, sim_params, config)\n",
    "plot_cost_history(loss_history)"
   ]
  },
  {
   "cell_type": "code",
   "execution_count": 7,
   "id": "e492365e",
   "metadata": {},
   "outputs": [],
   "source": [
    "# 追加のoptimizationやload\n",
    "\n",
    "# jnp.save(f\"../datasets/broadened_shg_15000_4162_e5.npy\", optimized_widths)\n",
    "optimized_widths = jnp.load(f\"../datasets/broadened_shg_15000_4162_e4.npy\")\n",
    "initial_widths = optimized_widths\n",
    "config.max_iters = 5\n",
    "# optimized_widths, loss_history = run_optimization(initial_widths, sim_params, config)"
   ]
  }
 ],
 "metadata": {
  "kernelspec": {
   "display_name": ".venv",
   "language": "python",
   "name": "python3"
  },
  "language_info": {
   "codemirror_mode": {
    "name": "ipython",
    "version": 3
   },
   "file_extension": ".py",
   "mimetype": "text/x-python",
   "name": "python",
   "nbconvert_exporter": "python",
   "pygments_lexer": "ipython3",
   "version": "3.13.9"
  }
 },
 "nbformat": 4,
 "nbformat_minor": 5
}
