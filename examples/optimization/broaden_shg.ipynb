{
 "cells": [
  {
   "cell_type": "code",
   "execution_count": 1,
   "id": "dd2b2fb0",
   "metadata": {},
   "outputs": [],
   "source": [
    "import jax\n",
    "\n",
    "jax.config.update(\"jax_platforms\", \"cpu\")"
   ]
  },
  {
   "cell_type": "code",
   "execution_count": 6,
   "id": "dac6148d",
   "metadata": {},
   "outputs": [
    {
     "name": "stdout",
     "output_type": "stream",
     "text": [
      "1. Generating initial grating and simulation parameters...\n",
      "   - Base domain width from calculation: 3.6008 μm\n",
      "   - Total number of domains: 4162\n"
     ]
    }
   ],
   "source": [
    "from collections.abc import Callable\n",
    "from dataclasses import dataclass\n",
    "\n",
    "import jax.numpy as jnp\n",
    "import optax\n",
    "import plotly.graph_objects as go\n",
    "from jax import Array, jit\n",
    "from jax_tqdm.loop_pbar import loop_tqdm\n",
    "\n",
    "from qpm import cwes, mgoslt\n",
    "\n",
    "EFF_FACTOR = 1.07 / 2.84 * 100  # powerからeffに変換する\n",
    "\n",
    "\n",
    "# --- Data Structures for Configuration and Parameters ---\n",
    "@dataclass\n",
    "class Config:\n",
    "    \"\"\"Stores all hyperparameters for the optimization and simulation.\"\"\"\n",
    "\n",
    "    design_temp: float = 70.0\n",
    "    max_iters: int = 10\n",
    "    num_domains: int = int(555 * 15 / 2)\n",
    "    prng_seed: int = 42\n",
    "    kappa_mag: float = 1.31e-5 / (2 / jnp.pi) * 10  # e-5だと勾配消失したので10倍\n",
    "    # Full spectrum calculation range\n",
    "    wl_start: float = 1.030\n",
    "    wl_end: float = 1.032\n",
    "    num_wl_points: int = 500\n",
    "    # Target flat-top region for the loss function\n",
    "    flat_top_wl_start: float = 1.031 - 0.0002\n",
    "    flat_top_wl_end: float = 1.031 + 0.0002\n",
    "    target_eff: float = 25 / EFF_FACTOR\n",
    "\n",
    "\n",
    "@dataclass(frozen=True)\n",
    "class SimulationParameters:\n",
    "    \"\"\"Stores fixed parameters required for the simulation physics.\"\"\"\n",
    "\n",
    "    kappa_array: Array\n",
    "    b_initial: Array\n",
    "    wls: Array\n",
    "    delta_k1s: Array\n",
    "    delta_k2s: Array\n",
    "    flat_top_indices: tuple[Array, ...]\n",
    "\n",
    "\n",
    "# --- Core JAX Functions ---\n",
    "def make_broadening_loss_fn(sim_params: SimulationParameters, config: Config) -> Callable[[Array], Array]:\n",
    "    \"\"\"\n",
    "    Creates a loss function that calculates the MSE between the simulated power\n",
    "    in a specified spectral region and a target power.\n",
    "    \"\"\"\n",
    "    compute_spectrum_vmap = jit(jax.vmap(cwes.simulate_twm, in_axes=(None, None, 0, 0, None)))\n",
    "\n",
    "    @jit\n",
    "    def loss_fn(domain_widths: Array) -> Array:\n",
    "        # 1. Simulate the full power spectrum\n",
    "        final_vectors = compute_spectrum_vmap(\n",
    "            domain_widths,\n",
    "            sim_params.kappa_array,\n",
    "            sim_params.delta_k1s,\n",
    "            sim_params.delta_k2s,\n",
    "            sim_params.b_initial,\n",
    "        )\n",
    "        shw_powers = jnp.abs(final_vectors[:, 1]) ** 2\n",
    "\n",
    "        # 2. Slice the spectrum to the target region\n",
    "        flat_top_powers = shw_powers[sim_params.flat_top_indices]\n",
    "\n",
    "        # 3. Calculate and return the Mean Squared Error loss\n",
    "        return jnp.mean(jnp.square(flat_top_powers - config.target_eff))\n",
    "\n",
    "    return loss_fn\n",
    "\n",
    "\n",
    "# --- Workflow Functions ---\n",
    "def initialize_simulation(config: Config) -> tuple[Array, SimulationParameters]:\n",
    "    \"\"\"Generates initial domain widths and fixed simulation parameters.\"\"\"\n",
    "    print(\"1. Generating initial grating and simulation parameters...\")\n",
    "\n",
    "    # --- Grating Initialization ---\n",
    "    center_wl = (config.flat_top_wl_start + config.flat_top_wl_end) / 2\n",
    "    delta_k1_center = mgoslt.calc_twm_delta_k(center_wl, center_wl, config.design_temp)\n",
    "\n",
    "    sfg_domain_width = jnp.pi / delta_k1_center\n",
    "    print(f\"   - Base domain width from calculation: {sfg_domain_width:.4f} μm\")\n",
    "    print(f\"   - Total number of domains: {config.num_domains}\")\n",
    "\n",
    "    kappa_array = config.kappa_mag * jnp.power(-1.0, jnp.arange(config.num_domains))\n",
    "\n",
    "    key = jax.random.PRNGKey(config.prng_seed)\n",
    "    noise = jax.random.normal(key, shape=(config.num_domains,)) * (sfg_domain_width * 0.02)\n",
    "    initial_widths = jnp.full(config.num_domains, sfg_domain_width) + noise\n",
    "\n",
    "    # --- Simulation Parameter Preparation ---\n",
    "    wls = jnp.linspace(config.wl_start, config.wl_end, config.num_wl_points)\n",
    "    delta_k1s = mgoslt.calc_twm_delta_k(wls, wls, config.design_temp)\n",
    "    delta_k2s = mgoslt.calc_twm_delta_k(wls, wls / 2, config.design_temp)\n",
    "    flat_top_indices = jnp.where((wls >= config.flat_top_wl_start) & (wls <= config.flat_top_wl_end))\n",
    "    b_initial = jnp.array(\n",
    "        [\n",
    "            1.0,\n",
    "            0.0,\n",
    "            0.0,\n",
    "        ],\n",
    "        dtype=jnp.complex64,\n",
    "    )\n",
    "\n",
    "    sim_params = SimulationParameters(\n",
    "        kappa_array=kappa_array,\n",
    "        b_initial=b_initial,\n",
    "        wls=wls,\n",
    "        delta_k1s=delta_k1s,\n",
    "        delta_k2s=delta_k2s,\n",
    "        flat_top_indices=flat_top_indices,\n",
    "    )\n",
    "    return initial_widths, sim_params\n",
    "\n",
    "\n",
    "def run_optimization(initial_widths: Array, sim_params: SimulationParameters, config: Config) -> tuple[Array, Array]:\n",
    "    \"\"\"Sets up and runs the L-BFGS optimization.\"\"\"\n",
    "    print(\"2. Setting up loss function and L-BFGS optimizer...\")\n",
    "    loss_fn = make_broadening_loss_fn(sim_params, config)\n",
    "    solver = optax.lbfgs()\n",
    "\n",
    "    @jit\n",
    "    def run_full_optimization(initial_params: Array) -> tuple[Array, Array]:\n",
    "        initial_loss_history = jnp.zeros(config.max_iters)\n",
    "\n",
    "        @loop_tqdm(config.max_iters, desc=\"Optimizing\")\n",
    "        def step(i: int, state: tuple[Array, optax.OptState, Array]) -> tuple[optax.Params, optax.OptState, Array]:\n",
    "            params, opt_state, loss_history = state\n",
    "            value, grad = jax.value_and_grad(loss_fn)(params)\n",
    "            updates, opt_state = solver.update(grad, opt_state, params, value=value, grad=grad, value_fn=loss_fn)\n",
    "            params = optax.apply_updates(params, updates)\n",
    "            loss_history = loss_history.at[i].set(value)\n",
    "            return params, opt_state, loss_history\n",
    "\n",
    "        initial_opt_state = solver.init(initial_params)\n",
    "        optimized_params, _, loss_history = jax.lax.fori_loop(\n",
    "            0,\n",
    "            config.max_iters,\n",
    "            step,\n",
    "            (initial_params, initial_opt_state, initial_loss_history),\n",
    "        )\n",
    "        return optimized_params, loss_history\n",
    "\n",
    "    print(\"3. Running JIT-compiled optimization...\")\n",
    "    print(f\"   - Initial Loss: {loss_fn(initial_widths):.4e}\")\n",
    "\n",
    "    optimized_widths, loss_history = run_full_optimization(initial_widths)\n",
    "    optimized_widths.block_until_ready()\n",
    "\n",
    "    print(f\"   - Optimized Loss: {loss_fn(optimized_widths):.4e}\")\n",
    "    return optimized_widths, loss_history\n",
    "\n",
    "\n",
    "# --- Visualization Functions ---\n",
    "def calculate_eff_spectrum(domain_widths: Array, sim_params: SimulationParameters) -> tuple[Array, Array]:\n",
    "    \"\"\"Helper function to compute the SHW power spectrum for a given grating.\"\"\"\n",
    "    compute_spectrum_vmap = jit(jax.vmap(cwes.simulate_twm, in_axes=(None, None, 0, 0, None)))\n",
    "\n",
    "    final_vectors = compute_spectrum_vmap(\n",
    "        domain_widths,\n",
    "        sim_params.kappa_array,\n",
    "        sim_params.delta_k1s,\n",
    "        sim_params.delta_k2s,\n",
    "        sim_params.b_initial,\n",
    "    )\n",
    "    shw_powers = jnp.abs(final_vectors[:, 1]) ** 2 * EFF_FACTOR\n",
    "    return sim_params.wls, shw_powers\n",
    "\n",
    "\n",
    "def plot_domain_widths(initial_widths: Array, optimized_widths: Array, periodic_widths: Array) -> None:\n",
    "    \"\"\"Plots the domain widths before and after optimization.\"\"\"\n",
    "    fig = go.Figure()\n",
    "    initial_length = jnp.sum(initial_widths)\n",
    "    periodic_length = jnp.sum(periodic_widths)\n",
    "    optimized_length = jnp.sum(optimized_widths)\n",
    "    fig.add_trace(go.Scatter(y=initial_widths, mode=\"lines\", name=f\"Initial, L={int(initial_length)} µm\", line={\"dash\": \"dash\"}))\n",
    "    fig.add_trace(go.Scatter(y=periodic_widths, mode=\"lines\", name=f\"Periodic, L={int(periodic_length)} µm\", line={\"dash\": \"dot\"}))\n",
    "    fig.add_trace(go.Scatter(y=optimized_widths, mode=\"lines\", name=f\"Optimized, L={int(optimized_length)} µm\"))\n",
    "    fig.update_layout(\n",
    "        title_text=\"Domain Widths Comparison\",\n",
    "        xaxis_title=\"Domain Index\",\n",
    "        yaxis_title=\"Width (μm)\",\n",
    "        template=\"plotly_white\",\n",
    "    )\n",
    "    fig.show()\n",
    "\n",
    "\n",
    "def plot_shw_eff_spectrum(\n",
    "    initial_widths: Array,\n",
    "    optimized_widths: Array,\n",
    "    periodic_widths: Array,\n",
    "    sim_params: SimulationParameters,\n",
    "    config: Config,\n",
    ") -> None:\n",
    "    \"\"\"Plots the SHW power spectrum before and after optimization.\"\"\"\n",
    "    wls, initial_effs = calculate_eff_spectrum(initial_widths, sim_params)\n",
    "    _, optimized_effs = calculate_eff_spectrum(optimized_widths, sim_params)\n",
    "    _, periodic_effs = calculate_eff_spectrum(periodic_widths, sim_params)\n",
    "\n",
    "    fig = go.Figure()\n",
    "    fig.add_trace(go.Scatter(x=wls, y=initial_effs, mode=\"lines\", name=\"Initial\", line={\"dash\": \"dash\"}))\n",
    "    fig.add_trace(go.Scatter(x=wls, y=periodic_effs, mode=\"lines\", name=\"Periodic\", line={\"dash\": \"dot\"}))\n",
    "    fig.add_trace(go.Scatter(x=wls, y=optimized_effs, mode=\"lines\", name=\"Optimized\"))\n",
    "    fig.add_hline(\n",
    "        y=config.target_eff * EFF_FACTOR,\n",
    "        line_width=2,\n",
    "        line_dash=\"dash\",\n",
    "        line_color=\"green\",\n",
    "        annotation_text=\"Target Power\",\n",
    "    )\n",
    "    fig.add_vrect(\n",
    "        x0=config.flat_top_wl_start,\n",
    "        x1=config.flat_top_wl_end,\n",
    "        fillcolor=\"red\",\n",
    "        opacity=0.1,\n",
    "        line_width=0,\n",
    "        annotation_text=\"Target Region\",\n",
    "        annotation_position=\"top left\",\n",
    "    )\n",
    "    fig.update_layout(\n",
    "        title_text=\"SHG Efficiency Spectrum Comparison\",\n",
    "        xaxis_title=\"Fundamental Wavelength (μm)\",\n",
    "        yaxis_title=\"SHW Efficiency (%/W)\",\n",
    "        template=\"plotly_white\",\n",
    "    )\n",
    "    fig.show()\n",
    "\n",
    "\n",
    "def plot_cost_history(loss_history: Array) -> None:\n",
    "    \"\"\"Plots the optimization cost history.\"\"\"\n",
    "    fig = go.Figure()\n",
    "    fig.add_trace(go.Scatter(y=loss_history, mode=\"lines\", name=\"Loss\"))\n",
    "    fig.update_layout(\n",
    "        title_text=\"Optimization Cost History\",\n",
    "        xaxis_title=\"Iteration\",\n",
    "        yaxis_title=\"Loss (MSE)\",\n",
    "        yaxis_type=\"log\",\n",
    "        template=\"plotly_white\",\n",
    "    )\n",
    "    fig.show()\n",
    "\n",
    "\n",
    "\"\"\"Main function to run the optimization and visualization.\"\"\"\n",
    "config = Config()\n",
    "initial_widths, sim_params = initialize_simulation(config)"
   ]
  },
  {
   "cell_type": "code",
   "execution_count": 3,
   "id": "873ae10b",
   "metadata": {},
   "outputs": [
    {
     "name": "stdout",
     "output_type": "stream",
     "text": [
      "2. Setting up loss function and L-BFGS optimizer...\n",
      "3. Running JIT-compiled optimization...\n",
      "   - Initial Loss: 1.2529e-01\n"
     ]
    },
    {
     "data": {
      "application/vnd.jupyter.widget-view+json": {
       "model_id": "646f3073d0e842f2b7454b26e62aa396",
       "version_major": 2,
       "version_minor": 0
      },
      "text/plain": [
       "Optimizing:   0%|          | 0/10 [00:00<?, ?it/s]"
      ]
     },
     "metadata": {},
     "output_type": "display_data"
    },
    {
     "name": "stdout",
     "output_type": "stream",
     "text": [
      "   - Optimized Loss: 6.4971e-03\n"
     ]
    }
   ],
   "source": [
    "# Create the ideal periodic grating for comparison\n",
    "center_wl = (config.flat_top_wl_start + config.flat_top_wl_end) / 2\n",
    "delta_k1_center = mgoslt.calc_twm_delta_k(center_wl, center_wl, config.design_temp)\n",
    "shg_domain_width = jnp.pi / delta_k1_center\n",
    "periodic_widths = jnp.full(config.num_domains, shg_domain_width)\n",
    "# Run the optimization\n",
    "optimized_widths, loss_history = run_optimization(initial_widths, sim_params, config)"
   ]
  },
  {
   "cell_type": "code",
   "execution_count": 4,
   "id": "b602f87c",
   "metadata": {},
   "outputs": [
    {
     "name": "stdout",
     "output_type": "stream",
     "text": [
      "4. Visualizing optimization results...\n"
     ]
    },
    {
     "data": {
      "application/vnd.plotly.v1+json": {
       "config": {
        "plotlyServerURL": "https://plot.ly"
       },
       "data": [
        {
         "line": {
          "dash": "dash"
         },
         "mode": "lines",
         "name": "Initial, L=14978 µm",
         "type": "scatter",
         "y": {
          "bdata": "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",
          "dtype": "f4"
         }
        },
        {
         "line": {
          "dash": "dot"
         },
         "mode": "lines",
         "name": "Periodic, L=14986 µm",
         "type": "scatter",
         "y": {
          "bdata": "/nNmQP5zZkD+c2ZA/nNmQP5zZkD+c2ZA/nNmQP5zZkD+c2ZA/nNmQP5zZkD+c2ZA/nNmQP5zZkD+c2ZA/nNmQP5zZkD+c2ZA/nNmQP5zZkD+c2ZA/nNmQP5zZkD+c2ZA/nNmQP5zZkD+c2ZA/nNmQP5zZkD+c2ZA/nNmQP5zZkD+c2ZA/nNmQP5zZkD+c2ZA/nNmQP5zZkD+c2ZA/nNmQP5zZkD+c2ZA/nNmQP5zZkD+c2ZA/nNmQP5zZkD+c2ZA/nNmQP5zZkD+c2ZA/nNmQP5zZkD+c2ZA/nNmQP5zZkD+c2ZA/nNmQP5zZkD+c2ZA/nNmQP5zZkD+c2ZA/nNmQP5zZkD+c2ZA/nNmQP5zZkD+c2ZA/nNmQP5zZkD+c2ZA/nNmQP5zZkD+c2ZA/nNmQP5zZkD+c2ZA/nNmQP5zZkD+c2ZA/nNmQP5zZkD+c2ZA/nNmQP5zZkD+c2ZA/nNmQP5zZkD+c2ZA/nNmQP5zZkD+c2ZA/nNmQP5zZkD+c2ZA/nNmQP5zZkD+c2ZA/nNmQP5zZkD+c2ZA/nNmQP5zZkD+c2ZA/nNmQP5zZkD+c2ZA/nNmQP5zZkD+c2ZA/nNmQP5zZkD+c2ZA/nNmQP5zZkD+c2ZA/nNmQP5zZkD+c2ZA/nNmQP5zZkD+c2ZA/nNmQP5zZkD+c2ZA/nNmQP5zZkD+c2ZA/nNmQP5zZkD+c2ZA/nNmQP5zZkD+c2ZA/nNmQP5zZkD+c2ZA/nNmQP5zZkD+c2ZA/nNmQP5zZkD+c2ZA/nNmQP5zZkD+c2ZA/nNmQP5zZkD+c2ZA/nNmQP5zZkD+c2ZA/nNmQP5zZkD+c2ZA/nNmQP5zZkD+c2ZA/nNmQP5zZkD+c2ZA/nNmQP5zZkD+c2ZA/nNmQP5zZkD+c2ZA/nNmQP5zZkD+c2ZA/nNmQP5zZkD+c2ZA/nNmQP5zZkD+c2ZA/nNmQP5zZkD+c2ZA/nNmQP5zZkD+c2ZA/nNmQP5zZkD+c2ZA/nNmQP5zZkD+c2ZA/nNmQP5zZkD+c2ZA/nNmQP5zZkD+c2ZA/nNmQP5zZkD+c2ZA/nNmQP5zZkD+c2ZA/nNmQP5zZkD+c2ZA/nNmQP5zZkD+c2ZA/nNmQP5zZkD+c2ZA/nNmQP5zZkD+c2ZA/nNmQP5zZkD+c2ZA/nNmQP5zZkD+c2ZA/nNmQP5zZkD+c2ZA/nNmQP5zZkD+c2ZA/nNmQP5zZkD+c2ZA/nNmQP5zZkD+c2ZA/nNmQP5zZkD+c2ZA/nNmQP5zZkD+c2ZA/nNmQP5zZkD+c2ZA/nNmQP5zZkD+c2ZA/nNmQP5zZkD+c2ZA/nNmQP5zZkD+c2ZA/nNmQP5zZkD+c2ZA/nNmQP5zZkD+c2ZA/nNmQP5zZkD+c2ZA/nNmQP5zZkD+c2ZA/nNmQP5zZkD+c2ZA/nNmQP5zZkD+c2ZA/nNmQP5zZkD+c2ZA/nNmQP5zZkD+c2ZA/nNmQP5zZkD+c2ZA/nNmQP5zZkD+c2ZA/nNmQP5zZkD+c2ZA/nNmQP5zZkD+c2ZA/nNmQP5zZkD+c2ZA/nNmQP5zZkD+c2ZA/nNmQP5zZkD+c2ZA/nNmQP5zZkD+c2ZA/nNmQP5zZkD+c2ZA/nNmQP5zZkD+c2ZA/nNmQP5zZkD+c2ZA/nNmQP5zZkD+c2ZA/nNmQP5zZkD+c2ZA/nNmQP5zZkD+c2ZA/nNmQP5zZkD+c2ZA/nNmQP5zZkD+c2ZA/nNmQP5zZkD+c2ZA/nNmQP5zZkD+c2ZA/nNmQP5zZkD+c2ZA/nNmQP5zZkD+c2ZA/nNmQP5zZkD+c2ZA/nNmQP5zZkD+c2ZA/nNmQP5zZkD+c2ZA/nNmQP5zZkD+c2ZA/nNmQP5zZkD+c2ZA/nNmQP5zZkD+c2ZA/nNmQP5zZkD+c2ZA/nNmQP5zZkD+c2ZA/nNmQP5zZkD+c2ZA/nNmQP5zZkD+c2ZA/nNmQP5zZkD+c2ZA/nNmQP5zZkD+c2ZA/nNmQP5zZkD+c2ZA/nNmQP5zZkD+c2ZA/nNmQP5zZkD+c2ZA/nNmQP5zZkD+c2ZA/nNmQP5zZkD+c2ZA/nNmQP5zZkD+c2ZA/nNmQP5zZkD+c2ZA/nNmQP5zZkD+c2ZA/nNmQP5zZkD+c2ZA/nNmQP5zZkD+c2ZA/nNmQP5zZkD+c2ZA/nNmQP5zZkD+c2ZA/nNmQP5zZkD+c2ZA/nNmQP5zZkD+c2ZA/nNmQP5zZkD+c2ZA/nNmQP5zZkD+c2ZA/nNmQP5zZkD+c2ZA/nNmQP5zZkD+c2ZA/nNmQP5zZkD+c2ZA/nNmQP5zZkD+c2ZA/nNmQP5zZkD+c2ZA/nNmQP5zZkD+c2ZA/nNmQP5zZkD+c2ZA/nNmQP5zZkD+c2ZA/nNmQP5zZkD+c2ZA/nNmQP5zZkD+c2ZA/nNmQP5zZkD+c2ZA/nNmQP5zZkD+c2ZA/nNmQP5zZkD+c2ZA/nNmQP5zZkD+c2ZA/nNmQP5zZkD+c2ZA/nNmQP5zZkD+c2ZA/nNmQP5zZkD+c2ZA/nNmQP5zZkD+c2ZA/nNmQP5zZkD+c2ZA/nNmQP5zZkD+c2ZA/nNmQP5zZkD+c2ZA/nNmQP5zZkD+c2ZA/nNmQP5zZkD+c2ZA/nNmQP5zZkD+c2ZA/nNmQP5zZkD+c2ZA/nNmQP5zZkD+c2ZA/nNmQP5zZkD+c2ZA/nNmQP5zZkD+c2ZA/nNmQP5zZkD+c2ZA/nNmQP5zZkD+c2ZA/nNmQP5zZkD+c2ZA/nNmQP5zZkD+c2ZA/nNmQP5zZkD+c2ZA/nNmQP5zZkD+c2ZA/nNmQP5zZkD+c2ZA/nNmQP5zZkD+c2ZA/nNmQP5zZkD+c2ZA/nNmQP5zZkD+c2ZA/nNmQP5zZkD+c2ZA/nNmQP5zZkD+c2ZA/nNmQP5zZkD+c2ZA/nNmQP5zZkD+c2ZA/nNmQP5zZkD+c2ZA/nNmQP5zZkD+c2ZA/nNmQP5zZkD+c2ZA/nNmQP5zZkD+c2ZA/nNmQP5zZkD+c2ZA/nNmQP5zZkD+c2ZA/nNmQP5zZkD+c2ZA/nNmQP5zZkD+c2ZA/nNmQP5zZkD+c2ZA/nNmQP5zZkD+c2ZA/nNmQP5zZkD+c2ZA/nNmQP5zZkD+c2ZA/nNmQP5zZkD+c2ZA/nNmQP5zZkD+c2ZA/nNmQP5zZkD+c2ZA/nNmQP5zZkD+c2ZA/nNmQP5zZkD+c2ZA/nNmQP5zZkD+c2ZA/nNmQP5zZkD+c2ZA/nNmQP5zZkD+c2ZA/nNmQP5zZkD+c2ZA/nNmQP5zZkD+c2ZA/nNmQP5zZkD+c2ZA/nNmQP5zZkD+c2ZA/nNmQP5zZkD+c2ZA/nNmQP5zZkD+c2ZA/nNmQP5zZkD+c2ZA/nNmQP5zZkD+c2ZA/nNmQP5zZkD+c2ZA/nNmQP5zZkD+c2ZA/nNmQP5zZkD+c2ZA/nNmQP5zZkD+c2ZA/nNmQP5zZkD+c2ZA/nNmQP5zZkD+c2ZA/nNmQP5zZkD+c2ZA/nNmQP5zZkD+c2ZA/nNmQP5zZkD+c2ZA/nNmQP5zZkD+c2ZA/nNmQP5zZkD+c2ZA/nNmQP5zZkD+c2ZA/nNmQP5zZkD+c2ZA/nNmQP5zZkD+c2ZA/nNmQP5zZkD+c2ZA/nNmQP5zZkD+c2ZA/nNmQP5zZkD+c2ZA/nNmQP5zZkD+c2ZA/nNmQP5zZkD+c2ZA/nNmQP5zZkD+c2ZA/nNmQP5zZkD+c2ZA/nNmQP5zZkD+c2ZA/nNmQP5zZkD+c2ZA/nNmQP5zZkD+c2ZA/nNmQP5zZkD+c2ZA/nNmQP5zZkD+c2ZA/nNmQP5zZkD+c2ZA/nNmQP5zZkD+c2ZA/nNmQP5zZkD+c2ZA/nNmQP5zZkD+c2ZA/nNmQP5zZkD+c2ZA/nNmQP5zZkD+c2ZA/nNmQP5zZkD+c2ZA/nNmQP5zZkD+c2ZA/nNmQP5zZkD+c2ZA/nNmQP5zZkD+c2ZA/nNmQP5zZkD+c2ZA/nNmQP5zZkD+c2ZA/nNmQP5zZkD+c2ZA/nNmQP5zZkD+c2ZA/nNmQP5zZkD+c2ZA/nNmQP5zZkD+c2ZA/nNmQP5zZkD+c2ZA/nNmQP5zZkD+c2ZA/nNmQP5zZkD+c2ZA/nNmQP5zZkD+c2ZA/nNmQP5zZkD+c2ZA/nNmQP5zZkD+c2ZA/nNmQP5zZkD+c2ZA/nNmQP5zZkD+c2ZA/nNmQP5zZkD+c2ZA/nNmQP5zZkD+c2ZA/nNmQP5zZkD+c2ZA/nNmQP5zZkD+c2ZA/nNmQP5zZkD+c2ZA/nNmQP5zZkD+c2ZA/nNmQP5zZkD+c2ZA/nNmQP5zZkD+c2ZA/nNmQP5zZkD+c2ZA/nNmQP5zZkD+c2ZA/nNmQP5zZkD+c2ZA/nNmQP5zZkD+c2ZA/nNmQP5zZkD+c2ZA/nNmQP5zZkD+c2ZA/nNmQP5zZkD+c2ZA/nNmQP5zZkD+c2ZA/nNmQP5zZkD+c2ZA/nNmQP5zZkD+c2ZA/nNmQP5zZkD+c2ZA/nNmQP5zZkD+c2ZA/nNmQP5zZkD+c2ZA/nNmQP5zZkD+c2ZA/nNmQP5zZkD+c2ZA/nNmQP5zZkD+c2ZA/nNmQP5zZkD+c2ZA/nNmQP5zZkD+c2ZA/nNmQP5zZkD+c2ZA/nNmQP5zZkD+c2ZA/nNmQP5zZkD+c2ZA/nNmQP5zZkD+c2ZA/nNmQP5zZkD+c2ZA/nNmQP5zZkD+c2ZA/nNmQP5zZkD+c2ZA/nNmQP5zZkD+c2ZA/nNmQP5zZkD+c2ZA/nNmQP5zZkD+c2ZA/nNmQP5zZkD+c2ZA/nNmQP5zZkD+c2ZA/nNmQP5zZkD+c2ZA/nNmQP5zZkD+c2ZA/nNmQP5zZkD+c2ZA/nNmQP5zZkD+c2ZA/nNmQP5zZkD+c2ZA/nNmQP5zZkD+c2ZA/nNmQP5zZkD+c2ZA/nNmQP5zZkD+c2ZA/nNmQP5zZkD+c2ZA/nNmQP5zZkD+c2ZA/nNmQP5zZkD+c2ZA/nNmQP5zZkD+c2ZA/nNmQP5zZkD+c2ZA/nNmQP5zZkD+c2ZA/nNmQP5zZkD+c2ZA/nNmQP5zZkD+c2ZA/nNmQP5zZkD+c2ZA/nNmQP5zZkD+c2ZA/nNmQP5zZkD+c2ZA/nNmQP5zZkD+c2ZA/nNmQP5zZkD+c2ZA/nNmQP5zZkD+c2ZA/nNmQP5zZkD+c2ZA/nNmQP5zZkD+c2ZA/nNmQP5zZkD+c2ZA/nNmQP5zZkD+c2ZA/nNmQP5zZkD+c2ZA/nNmQP5zZkD+c2ZA/nNmQP5zZkD+c2ZA/nNmQP5zZkD+c2ZA/nNmQP5zZkD+c2ZA/nNmQP5zZkD+c2ZA/nNmQP5zZkD+c2ZA/nNmQP5zZkD+c2ZA/nNmQP5zZkD+c2ZA/nNmQP5zZkD+c2ZA/nNmQP5zZkD+c2ZA/nNmQP5zZkD+c2ZA/nNmQP5zZkD+c2ZA/nNmQP5zZkD+c2ZA/nNmQP5zZkD+c2ZA/nNmQP5zZkD+c2ZA/nNmQP5zZkD+c2ZA/nNmQP5zZkD+c2ZA/nNmQP5zZkD+c2ZA/nNmQP5zZkD+c2ZA/nNmQP5zZkD+c2ZA/nNmQP5zZkD+c2ZA/nNmQP5zZkD+c2ZA/nNmQP5zZkD+c2ZA/nNmQP5zZkD+c2ZA/nNmQP5zZkD+c2ZA/nNmQP5zZkD+c2ZA/nNmQP5zZkD+c2ZA/nNmQP5zZkD+c2ZA/nNmQP5zZkD+c2ZA/nNmQP5zZkD+c2ZA/nNmQP5zZkD+c2ZA/nNmQP5zZkD+c2ZA/nNmQP5zZkD+c2ZA/nNmQP5zZkD+c2ZA/nNmQP5zZkD+c2ZA/nNmQP5zZkD+c2ZA/nNmQP5zZkD+c2ZA/nNmQP5zZkD+c2ZA/nNmQP5zZkD+c2ZA/nNmQP5zZkD+c2ZA/nNmQP5zZkD+c2ZA/nNmQP5zZkD+c2ZA/nNmQP5zZkD+c2ZA/nNmQP5zZkD+c2ZA/nNmQP5zZkD+c2ZA/nNmQP5zZkD+c2ZA/nNmQP5zZkD+c2ZA/nNmQP5zZkD+c2ZA/nNmQP5zZkD+c2ZA/nNmQP5zZkD+c2ZA/nNmQP5zZkD+c2ZA/nNmQP5zZkD+c2ZA/nNmQP5zZkD+c2ZA/nNmQP5zZkD+c2ZA/nNmQP5zZkD+c2ZA/nNmQP5zZkD+c2ZA/nNmQP5zZkD+c2ZA/nNmQP5zZkD+c2ZA/nNmQP5zZkD+c2ZA/nNmQP5zZkD+c2ZA/nNmQP5zZkD+c2ZA/nNmQP5zZkD+c2ZA/nNmQP5zZkD+c2ZA/nNmQP5zZkD+c2ZA/nNmQP5zZkD+c2ZA/nNmQP5zZkD+c2ZA/nNmQP5zZkD+c2ZA/nNmQP5zZkD+c2ZA/nNmQP5zZkD+c2ZA/nNmQP5zZkD+c2ZA/nNmQP5zZkD+c2ZA/nNmQP5zZkD+c2ZA/nNmQP5zZkD+c2ZA/nNmQP5zZkD+c2ZA/nNmQP5zZkD+c2ZA/nNmQP5zZkD+c2ZA/nNmQP5zZkD+c2ZA/nNmQP5zZkD+c2ZA/nNmQP5zZkD+c2ZA/nNmQP5zZkD+c2ZA/nNmQP5zZkD+c2ZA/nNmQP5zZkD+c2ZA/nNmQP5zZkD+c2ZA/nNmQP5zZkD+c2ZA/nNmQP5zZkD+c2ZA/nNmQP5zZkD+c2ZA/nNmQP5zZkD+c2ZA/nNmQP5zZkD+c2ZA/nNmQP5zZkD+c2ZA/nNmQP5zZkD+c2ZA/nNmQP5zZkD+c2ZA/nNmQP5zZkD+c2ZA/nNmQP5zZkD+c2ZA/nNmQP5zZkD+c2ZA/nNmQP5zZkD+c2ZA/nNmQP5zZkD+c2ZA/nNmQP5zZkD+c2ZA/nNmQP5zZkD+c2ZA/nNmQP5zZkD+c2ZA/nNmQP5zZkD+c2ZA/nNmQP5zZkD+c2ZA/nNmQP5zZkD+c2ZA/nNmQP5zZkD+c2ZA/nNmQP5zZkD+c2ZA/nNmQP5zZkD+c2ZA/nNmQP5zZkD+c2ZA/nNmQP5zZkD+c2ZA/nNmQP5zZkD+c2ZA/nNmQP5zZkD+c2ZA/nNmQP5zZkD+c2ZA/nNmQP5zZkD+c2ZA/nNmQP5zZkD+c2ZA/nNmQP5zZkD+c2ZA/nNmQP5zZkD+c2ZA/nNmQP5zZkD+c2ZA/nNmQP5zZkD+c2ZA/nNmQP5zZkD+c2ZA/nNmQP5zZkD+c2ZA/nNmQP5zZkD+c2ZA/nNmQP5zZkD+c2ZA/nNmQP5zZkD+c2ZA/nNmQP5zZkD+c2ZA/nNmQP5zZkD+c2ZA/nNmQP5zZkD+c2ZA/nNmQP5zZkD+c2ZA/nNmQP5zZkD+c2ZA/nNmQP5zZkD+c2ZA/nNmQP5zZkD+c2ZA/nNmQP5zZkD+c2ZA/nNmQP5zZkD+c2ZA/nNmQP5zZkD+c2ZA/nNmQP5zZkD+c2ZA/nNmQP5zZkD+c2ZA/nNmQP5zZkD+c2ZA/nNmQP5zZkD+c2ZA/nNmQP5zZkD+c2ZA/nNmQP5zZkD+c2ZA/nNmQP5zZkD+c2ZA/nNmQP5zZkD+c2ZA/nNmQP5zZkD+c2ZA/nNmQP5zZkD+c2ZA/nNmQP5zZkD+c2ZA/nNmQP5zZkD+c2ZA/nNmQP5zZkD+c2ZA/nNmQP5zZkD+c2ZA/nNmQP5zZkD+c2ZA/nNmQP5zZkD+c2ZA/nNmQP5zZkD+c2ZA/nNmQP5zZkD+c2ZA/nNmQP5zZkD+c2ZA/nNmQP5zZkD+c2ZA/nNmQP5zZkD+c2ZA/nNmQP5zZkD+c2ZA/nNmQP5zZkD+c2ZA/nNmQP5zZkD+c2ZA/nNmQP5zZkD+c2ZA/nNmQP5zZkD+c2ZA/nNmQP5zZkD+c2ZA/nNmQP5zZkD+c2ZA/nNmQP5zZkD+c2ZA/nNmQP5zZkD+c2ZA/nNmQP5zZkD+c2ZA/nNmQP5zZkD+c2ZA/nNmQP5zZkD+c2ZA/nNmQP5zZkD+c2ZA/nNmQP5zZkD+c2ZA/nNmQP5zZkD+c2ZA/nNmQP5zZkD+c2ZA/nNmQP5zZkD+c2ZA/nNmQP5zZkD+c2ZA/nNmQP5zZkD+c2ZA/nNmQP5zZkD+c2ZA/nNmQP5zZkD+c2ZA/nNmQP5zZkD+c2ZA/nNmQP5zZkD+c2ZA/nNmQP5zZkD+c2ZA/nNmQP5zZkD+c2ZA/nNmQP5zZkD+c2ZA/nNmQP5zZkD+c2ZA/nNmQP5zZkD+c2ZA/nNmQP5zZkD+c2ZA/nNmQP5zZkD+c2ZA/nNmQP5zZkD+c2ZA/nNmQP5zZkD+c2ZA/nNmQP5zZkD+c2ZA/nNmQP5zZkD+c2ZA/nNmQP5zZkD+c2ZA/nNmQP5zZkD+c2ZA/nNmQP5zZkD+c2ZA/nNmQP5zZkD+c2ZA/nNmQP5zZkD+c2ZA/nNmQP5zZkD+c2ZA/nNmQP5zZkD+c2ZA/nNmQP5zZkD+c2ZA/nNmQP5zZkD+c2ZA/nNmQP5zZkD+c2ZA/nNmQP5zZkD+c2ZA/nNmQP5zZkD+c2ZA/nNmQP5zZkD+c2ZA/nNmQP5zZkD+c2ZA/nNmQP5zZkD+c2ZA/nNmQP5zZkD+c2ZA/nNmQP5zZkD+c2ZA/nNmQP5zZkD+c2ZA/nNmQP5zZkD+c2ZA/nNmQP5zZkD+c2ZA/nNmQP5zZkD+c2ZA/nNmQP5zZkD+c2ZA/nNmQP5zZkD+c2ZA/nNmQP5zZkD+c2ZA/nNmQP5zZkD+c2ZA/nNmQP5zZkD+c2ZA/nNmQP5zZkD+c2ZA/nNmQP5zZkD+c2ZA/nNmQP5zZkD+c2ZA/nNmQP5zZkD+c2ZA/nNmQP5zZkD+c2ZA/nNmQP5zZkD+c2ZA/nNmQP5zZkD+c2ZA/nNmQP5zZkD+c2ZA/nNmQP5zZkD+c2ZA/nNmQP5zZkD+c2ZA/nNmQP5zZkD+c2ZA/nNmQP5zZkD+c2ZA/nNmQP5zZkD+c2ZA/nNmQP5zZkD+c2ZA/nNmQP5zZkD+c2ZA/nNmQP5zZkD+c2ZA/nNmQP5zZkD+c2ZA/nNmQP5zZkD+c2ZA/nNmQP5zZkD+c2ZA/nNmQP5zZkD+c2ZA/nNmQP5zZkD+c2ZA/nNmQP5zZkD+c2ZA/nNmQP5zZkD+c2ZA/nNmQP5zZkD+c2ZA/nNmQP5zZkD+c2ZA/nNmQP5zZkD+c2ZA/nNmQP5zZkD+c2ZA/nNmQP5zZkD+c2ZA/nNmQP5zZkD+c2ZA/nNmQP5zZkD+c2ZA/nNmQP5zZkD+c2ZA/nNmQP5zZkD+c2ZA/nNmQP5zZkD+c2ZA/nNmQP5zZkD+c2ZA/nNmQP5zZkD+c2ZA/nNmQP5zZkD+c2ZA/nNmQP5zZkD+c2ZA/nNmQP5zZkD+c2ZA/nNmQP5zZkD+c2ZA/nNmQP5zZkD+c2ZA/nNmQP5zZkD+c2ZA/nNmQP5zZkD+c2ZA/nNmQP5zZkD+c2ZA/nNmQP5zZkD+c2ZA/nNmQP5zZkD+c2ZA/nNmQP5zZkD+c2ZA/nNmQP5zZkD+c2ZA/nNmQP5zZkD+c2ZA/nNmQP5zZkD+c2ZA/nNmQP5zZkD+c2ZA/nNmQP5zZkD+c2ZA/nNmQP5zZkD+c2ZA/nNmQP5zZkD+c2ZA/nNmQP5zZkD+c2ZA/nNmQP5zZkD+c2ZA/nNmQP5zZkD+c2ZA/nNmQP5zZkD+c2ZA/nNmQP5zZkD+c2ZA/nNmQP5zZkD+c2ZA/nNmQP5zZkD+c2ZA/nNmQP5zZkD+c2ZA/nNmQP5zZkD+c2ZA/nNmQP5zZkD+c2ZA/nNmQP5zZkD+c2ZA/nNmQP5zZkD+c2ZA/nNmQP5zZkD+c2ZA/nNmQP5zZkD+c2ZA/nNmQP5zZkD+c2ZA/nNmQP5zZkD+c2ZA/nNmQP5zZkD+c2ZA/nNmQP5zZkD+c2ZA/nNmQP5zZkD+c2ZA/nNmQP5zZkD+c2ZA/nNmQP5zZkD+c2ZA/nNmQP5zZkD+c2ZA/nNmQP5zZkD+c2ZA/nNmQP5zZkD+c2ZA/nNmQP5zZkD+c2ZA/nNmQP5zZkD+c2ZA/nNmQP5zZkD+c2ZA/nNmQP5zZkD+c2ZA/nNmQP5zZkD+c2ZA/nNmQP5zZkD+c2ZA/nNmQP5zZkD+c2ZA/nNmQP5zZkD+c2ZA/nNmQP5zZkD+c2ZA/nNmQP5zZkD+c2ZA/nNmQP5zZkD+c2ZA/nNmQP5zZkD+c2ZA/nNmQP5zZkD+c2ZA/nNmQP5zZkD+c2ZA/nNmQP5zZkD+c2ZA/nNmQP5zZkD+c2ZA/nNmQP5zZkD+c2ZA/nNmQP5zZkD+c2ZA/nNmQP5zZkD+c2ZA/nNmQP5zZkD+c2ZA/nNmQP5zZkD+c2ZA/nNmQP5zZkD+c2ZA/nNmQP5zZkD+c2ZA/nNmQP5zZkD+c2ZA/nNmQP5zZkD+c2ZA/nNmQP5zZkD+c2ZA/nNmQP5zZkD+c2ZA/nNmQP5zZkD+c2ZA/nNmQP5zZkD+c2ZA/nNmQP5zZkD+c2ZA/nNmQP5zZkD+c2ZA/nNmQP5zZkD+c2ZA/nNmQP5zZkD+c2ZA/nNmQP5zZkD+c2ZA/nNmQP5zZkD+c2ZA/nNmQP5zZkD+c2ZA/nNmQP5zZkD+c2ZA/nNmQP5zZkD+c2ZA/nNmQP5zZkD+c2ZA/nNmQP5zZkD+c2ZA/nNmQP5zZkD+c2ZA/nNmQP5zZkD+c2ZA/nNmQP5zZkD+c2ZA/nNmQP5zZkD+c2ZA/nNmQP5zZkD+c2ZA/nNmQP5zZkD+c2ZA/nNmQP5zZkD+c2ZA/nNmQP5zZkD+c2ZA/nNmQP5zZkD+c2ZA/nNmQP5zZkD+c2ZA/nNmQP5zZkD+c2ZA/nNmQP5zZkD+c2ZA/nNmQP5zZkD+c2ZA/nNmQP5zZkD+c2ZA/nNmQP5zZkD+c2ZA/nNmQP5zZkD+c2ZA/nNmQP5zZkD+c2ZA/nNmQP5zZkD+c2ZA/nNmQP5zZkD+c2ZA/nNmQP5zZkD+c2ZA/nNmQP5zZkD+c2ZA/nNmQP5zZkD+c2ZA/nNmQP5zZkD+c2ZA/nNmQP5zZkD+c2ZA/nNmQP5zZkD+c2ZA/nNmQP5zZkD+c2ZA/nNmQP5zZkD+c2ZA/nNmQP5zZkD+c2ZA/nNmQP5zZkD+c2ZA/nNmQP5zZkD+c2ZA/nNmQP5zZkD+c2ZA/nNmQP5zZkD+c2ZA/nNmQP5zZkD+c2ZA/nNmQP5zZkD+c2ZA/nNmQP5zZkD+c2ZA/nNmQP5zZkD+c2ZA/nNmQP5zZkD+c2ZA/nNmQP5zZkD+c2ZA/nNmQP5zZkD+c2ZA/nNmQP5zZkD+c2ZA/nNmQP5zZkD+c2ZA/nNmQP5zZkD+c2ZA/nNmQP5zZkD+c2ZA/nNmQP5zZkD+c2ZA/nNmQP5zZkD+c2ZA/nNmQP5zZkD+c2ZA/nNmQP5zZkD+c2ZA/nNmQP5zZkD+c2ZA/nNmQP5zZkD+c2ZA/nNmQP5zZkD+c2ZA/nNmQP5zZkD+c2ZA/nNmQP5zZkD+c2ZA/nNmQP5zZkD+c2ZA/nNmQP5zZkD+c2ZA/nNmQP5zZkD+c2ZA/nNmQP5zZkD+c2ZA/nNmQP5zZkD+c2ZA/nNmQP5zZkD+c2ZA/nNmQP5zZkD+c2ZA/nNmQP5zZkD+c2ZA/nNmQP5zZkD+c2ZA/nNmQP5zZkD+c2ZA/nNmQP5zZkD+c2ZA/nNmQP5zZkD+c2ZA/nNmQP5zZkD+c2ZA/nNmQP5zZkD+c2ZA/nNmQP5zZkD+c2ZA/nNmQP5zZkD+c2ZA/nNmQP5zZkD+c2ZA/nNmQP5zZkD+c2ZA/nNmQP5zZkD+c2ZA/nNmQP5zZkD+c2ZA/nNmQP5zZkD+c2ZA/nNmQP5zZkD+c2ZA/nNmQP5zZkD+c2ZA/nNmQP5zZkD+c2ZA/nNmQP5zZkD+c2ZA/nNmQP5zZkD+c2ZA/nNmQP5zZkD+c2ZA/nNmQP5zZkD+c2ZA/nNmQP5zZkD+c2ZA/nNmQP5zZkD+c2ZA/nNmQP5zZkD+c2ZA/nNmQP5zZkD+c2ZA/nNmQP5zZkD+c2ZA/nNmQP5zZkD+c2ZA/nNmQP5zZkD+c2ZA/nNmQP5zZkD+c2ZA/nNmQP5zZkD+c2ZA/nNmQP5zZkD+c2ZA/nNmQP5zZkD+c2ZA/nNmQP5zZkD+c2ZA/nNmQP5zZkD+c2ZA/nNmQP5zZkD+c2ZA/nNmQP5zZkD+c2ZA/nNmQP5zZkD+c2ZA/nNmQP5zZkD+c2ZA/nNmQP5zZkD+c2ZA/nNmQP5zZkD+c2ZA/nNmQP5zZkD+c2ZA/nNmQP5zZkD+c2ZA/nNmQP5zZkD+c2ZA/nNmQP5zZkD+c2ZA/nNmQP5zZkD+c2ZA/nNmQP5zZkD+c2ZA/nNmQP5zZkD+c2ZA/nNmQP5zZkD+c2ZA/nNmQP5zZkD+c2ZA/nNmQP5zZkD+c2ZA/nNmQP5zZkD+c2ZA/nNmQP5zZkD+c2ZA/nNmQP5zZkD+c2ZA/nNmQP5zZkD+c2ZA/nNmQP5zZkD+c2ZA/nNmQP5zZkD+c2ZA/nNmQP5zZkD+c2ZA/nNmQP5zZkD+c2ZA/nNmQP5zZkD+c2ZA/nNmQP5zZkD+c2ZA/nNmQP5zZkD+c2ZA/nNmQP5zZkD+c2ZA/nNmQP5zZkD+c2ZA/nNmQP5zZkD+c2ZA/nNmQP5zZkD+c2ZA/nNmQP5zZkD+c2ZA/nNmQP5zZkD+c2ZA/nNmQP5zZkD+c2ZA/nNmQP5zZkD+c2ZA/nNmQP5zZkD+c2ZA/nNmQP5zZkD+c2ZA/nNmQP5zZkD+c2ZA/nNmQP5zZkD+c2ZA/nNmQP5zZkD+c2ZA/nNmQP5zZkD+c2ZA/nNmQP5zZkD+c2ZA/nNmQP5zZkD+c2ZA/nNmQP5zZkD+c2ZA/nNmQP5zZkD+c2ZA/nNmQP5zZkD+c2ZA/nNmQP5zZkD+c2ZA/nNmQP5zZkD+c2ZA/nNmQP5zZkD+c2ZA/nNmQP5zZkD+c2ZA/nNmQP5zZkD+c2ZA/nNmQP5zZkD+c2ZA/nNmQP5zZkD+c2ZA/nNmQP5zZkD+c2ZA/nNmQP5zZkD+c2ZA/nNmQP5zZkD+c2ZA/nNmQP5zZkD+c2ZA/nNmQP5zZkD+c2ZA/nNmQP5zZkD+c2ZA/nNmQP5zZkD+c2ZA/nNmQP5zZkD+c2ZA/nNmQP5zZkD+c2ZA/nNmQP5zZkD+c2ZA/nNmQP5zZkD+c2ZA/nNmQP5zZkD+c2ZA/nNmQP5zZkD+c2ZA/nNmQP5zZkD+c2ZA/nNmQP5zZkD+c2ZA/nNmQP5zZkD+c2ZA/nNmQP5zZkD+c2ZA/nNmQP5zZkD+c2ZA/nNmQP5zZkD+c2ZA/nNmQP5zZkD+c2ZA/nNmQP5zZkD+c2ZA/nNmQP5zZkD+c2ZA/nNmQP5zZkD+c2ZA/nNmQP5zZkD+c2ZA/nNmQP5zZkD+c2ZA/nNmQP5zZkD+c2ZA/nNmQP5zZkD+c2ZA/nNmQP5zZkD+c2ZA/nNmQP5zZkD+c2ZA/nNmQP5zZkD+c2ZA/nNmQP5zZkD+c2ZA/nNmQP5zZkD+c2ZA/nNmQP5zZkD+c2ZA/nNmQP5zZkD+c2ZA/nNmQP5zZkD+c2ZA/nNmQP5zZkD+c2ZA/nNmQP5zZkD+c2ZA/nNmQP5zZkD+c2ZA/nNmQP5zZkD+c2ZA/nNmQP5zZkD+c2ZA/nNmQP5zZkD+c2ZA/nNmQP5zZkD+c2ZA/nNmQP5zZkD+c2ZA/nNmQP5zZkD+c2ZA/nNmQP5zZkD+c2ZA/nNmQP5zZkD+c2ZA/nNmQP5zZkD+c2ZA/nNmQP5zZkD+c2ZA/nNmQP5zZkD+c2ZA/nNmQP5zZkD+c2ZA/nNmQP5zZkD+c2ZA/nNmQP5zZkD+c2ZA/nNmQP5zZkD+c2ZA/nNmQP5zZkD+c2ZA/nNmQP5zZkD+c2ZA/nNmQP5zZkD+c2ZA/nNmQP5zZkD+c2ZA/nNmQP5zZkD+c2ZA/nNmQP5zZkD+c2ZA/nNmQP5zZkD+c2ZA/nNmQP5zZkD+c2ZA/nNmQP5zZkD+c2ZA/nNmQP5zZkD+c2ZA/nNmQP5zZkD+c2ZA/nNmQP5zZkD+c2ZA/nNmQP5zZkD+c2ZA/nNmQP5zZkD+c2ZA/nNmQP5zZkD+c2ZA/nNmQP5zZkD+c2ZA/nNmQP5zZkD+c2ZA/nNmQP5zZkD+c2ZA/nNmQP5zZkD+c2ZA/nNmQP5zZkD+c2ZA/nNmQP5zZkD+c2ZA/nNmQP5zZkD+c2ZA/nNmQP5zZkD+c2ZA/nNmQP5zZkD+c2ZA/nNmQP5zZkD+c2ZA/nNmQP5zZkD+c2ZA/nNmQP5zZkD+c2ZA/nNmQP5zZkD+c2ZA/nNmQP5zZkD+c2ZA/nNmQP5zZkD+c2ZA/nNmQP5zZkD+c2ZA/nNmQP5zZkD+c2ZA/nNmQP5zZkD+c2ZA/nNmQP5zZkD+c2ZA/nNmQP5zZkD+c2ZA/nNmQP5zZkD+c2ZA/nNmQP5zZkD+c2ZA/nNmQP5zZkD+c2ZA/nNmQP5zZkD+c2ZA/nNmQP5zZkD+c2ZA/nNmQP5zZkD+c2ZA/nNmQP5zZkD+c2ZA/nNmQP5zZkD+c2ZA/nNmQP5zZkD+c2ZA/nNmQP5zZkD+c2ZA/nNmQP5zZkD+c2ZA/nNmQP5zZkD+c2ZA/nNmQP5zZkD+c2ZA/nNmQP5zZkD+c2ZA/nNmQP5zZkD+c2ZA/nNmQP5zZkD+c2ZA/nNmQP5zZkD+c2ZA/nNmQP5zZkD+c2ZA/nNmQP5zZkD+c2ZA/nNmQP5zZkD+c2ZA/nNmQP5zZkD+c2ZA/nNmQP5zZkD+c2ZA/nNmQP5zZkD+c2ZA/nNmQP5zZkD+c2ZA/nNmQP5zZkD+c2ZA/nNmQP5zZkD+c2ZA/nNmQP5zZkD+c2ZA/nNmQP5zZkD+c2ZA/nNmQP5zZkD+c2ZA/nNmQP5zZkD+c2ZA/nNmQP5zZkD+c2ZA/nNmQP5zZkD+c2ZA/nNmQP5zZkD+c2ZA/nNmQP5zZkD+c2ZA/nNmQP5zZkD+c2ZA/nNmQP5zZkD+c2ZA/nNmQP5zZkD+c2ZA/nNmQP5zZkD+c2ZA/nNmQP5zZkD+c2ZA/nNmQP5zZkD+c2ZA/nNmQP5zZkD+c2ZA/nNmQP5zZkD+c2ZA/nNmQP5zZkD+c2ZA/nNmQP5zZkD+c2ZA/nNmQP5zZkD+c2ZA/nNmQP5zZkD+c2ZA/nNmQP5zZkD+c2ZA/nNmQP5zZkD+c2ZA/nNmQP5zZkD+c2ZA/nNmQP5zZkD+c2ZA/nNmQP5zZkD+c2ZA/nNmQP5zZkD+c2ZA/nNmQP5zZkD+c2ZA/nNmQP5zZkD+c2ZA/nNmQP5zZkD+c2ZA/nNmQP5zZkD+c2ZA/nNmQP5zZkD+c2ZA/nNmQP5zZkD+c2ZA/nNmQP5zZkD+c2ZA/nNmQP5zZkD+c2ZA/nNmQP5zZkD+c2ZA/nNmQP5zZkD+c2ZA/nNmQP5zZkD+c2ZA/nNmQP5zZkD+c2ZA/nNmQP5zZkD+c2ZA/nNmQP5zZkD+c2ZA/nNmQP5zZkD+c2ZA/nNmQP5zZkD+c2ZA/nNmQP5zZkD+c2ZA/nNmQP5zZkD+c2ZA/nNmQP5zZkD+c2ZA/nNmQP5zZkD+c2ZA/nNmQP5zZkD+c2ZA/nNmQP5zZkD+c2ZA/nNmQP5zZkD+c2ZA/nNmQP5zZkD+c2ZA/nNmQP5zZkD+c2ZA/nNmQP5zZkD+c2ZA/nNmQP5zZkD+c2ZA/nNmQP5zZkD+c2ZA/nNmQP5zZkD+c2ZA/nNmQP5zZkD+c2ZA/nNmQP5zZkD+c2ZA/nNmQP5zZkD+c2ZA/nNmQP5zZkD+c2ZA/nNmQP5zZkD+c2ZA/nNmQP5zZkD+c2ZA/nNmQP5zZkD+c2ZA/nNmQP5zZkD+c2ZA/nNmQP5zZkD+c2ZA/nNmQP5zZkD+c2ZA/nNmQP5zZkD+c2ZA/nNmQP5zZkD+c2ZA/nNmQP5zZkD+c2ZA/nNmQP5zZkD+c2ZA/nNmQP5zZkD+c2ZA/nNmQP5zZkD+c2ZA/nNmQP5zZkD+c2ZA/nNmQP5zZkD+c2ZA/nNmQP5zZkD+c2ZA/nNmQP5zZkD+c2ZA/nNmQP5zZkD+c2ZA/nNmQP5zZkD+c2ZA/nNmQP5zZkD+c2ZA/nNmQP5zZkD+c2ZA/nNmQP5zZkD+c2ZA/nNmQP5zZkD+c2ZA/nNmQP5zZkD+c2ZA/nNmQP5zZkD+c2ZA/nNmQP5zZkD+c2ZA/nNmQP5zZkD+c2ZA/nNmQP5zZkD+c2ZA/nNmQP5zZkD+c2ZA/nNmQP5zZkD+c2ZA/nNmQP5zZkD+c2ZA/nNmQP5zZkD+c2ZA/nNmQP5zZkD+c2ZA/nNmQP5zZkD+c2ZA/nNmQP5zZkD+c2ZA/nNmQP5zZkD+c2ZA/nNmQP5zZkD+c2ZA/nNmQP5zZkD+c2ZA/nNmQP5zZkD+c2ZA/nNmQP5zZkD+c2ZA/nNmQP5zZkD+c2ZA/nNmQP5zZkD+c2ZA/nNmQP5zZkD+c2ZA/nNmQP5zZkD+c2ZA/nNmQP5zZkD+c2ZA/nNmQP5zZkD+c2ZA/nNmQP5zZkD+c2ZA/nNmQP5zZkD+c2ZA/nNmQP5zZkD+c2ZA/nNmQP5zZkD+c2ZA/nNmQP5zZkD+c2ZA/nNmQP5zZkD+c2ZA/nNmQP5zZkD+c2ZA/nNmQP5zZkD+c2ZA/nNmQP5zZkD+c2ZA/nNmQP5zZkD+c2ZA/nNmQP5zZkD+c2ZA/nNmQP5zZkD+c2ZA/nNmQP5zZkD+c2ZA/nNmQP5zZkD+c2ZA/nNmQP5zZkD+c2ZA/nNmQP5zZkD+c2ZA/nNmQP5zZkD+c2ZA/nNmQP5zZkD+c2ZA/nNmQP5zZkD+c2ZA/nNmQP5zZkD+c2ZA/nNmQP5zZkD+c2ZA/nNmQP5zZkD+c2ZA/nNmQP5zZkD+c2ZA/nNmQP5zZkD+c2ZA/nNmQP5zZkD+c2ZA/nNmQP5zZkD+c2ZA/nNmQP5zZkD+c2ZA/nNmQP5zZkD+c2ZA/nNmQP5zZkD+c2ZA/nNmQP5zZkD+c2ZA/nNmQP5zZkD+c2ZA/nNmQP5zZkD+c2ZA/nNmQP5zZkD+c2ZA/nNmQP5zZkD+c2ZA/nNmQP5zZkD+c2ZA/nNmQP5zZkD+c2ZA/nNmQP5zZkD+c2ZA/nNmQP5zZkD+c2ZA/nNmQP5zZkD+c2ZA/nNmQP5zZkD+c2ZA/nNmQP5zZkD+c2ZA/nNmQP5zZkD+c2ZA/nNmQP5zZkD+c2ZA/nNmQP5zZkD+c2ZA/nNmQP5zZkD+c2ZA/nNmQP5zZkD+c2ZA/nNmQP5zZkD+c2ZA/nNmQP5zZkD+c2ZA/nNmQP5zZkD+c2ZA/nNmQP5zZkD+c2ZA/nNmQP5zZkD+c2ZA/nNmQP5zZkD+c2ZA/nNmQP5zZkD+c2ZA/nNmQP5zZkD+c2ZA/nNmQP5zZkD+c2ZA/nNmQP5zZkD+c2ZA/nNmQP5zZkD+c2ZA/nNmQP5zZkD+c2ZA/nNmQP5zZkD+c2ZA/nNmQP5zZkD+c2ZA/nNmQP5zZkD+c2ZA/nNmQP5zZkD+c2ZA/nNmQP5zZkD+c2ZA/nNmQP5zZkD+c2ZA/nNmQP5zZkD+c2ZA/nNmQP5zZkD+c2ZA/nNmQP5zZkD+c2ZA/nNmQP5zZkD+c2ZA/nNmQP5zZkD+c2ZA/nNmQP5zZkD+c2ZA/nNmQP5zZkD+c2ZA/nNmQP5zZkD+c2ZA/nNmQP5zZkD+c2ZA/nNmQP5zZkD+c2ZA/nNmQP5zZkD+c2ZA/nNmQP5zZkD+c2ZA/nNmQP5zZkD+c2ZA/nNmQP5zZkD+c2ZA/nNmQP5zZkD+c2ZA/nNmQP5zZkD+c2ZA/nNmQP5zZkD+c2ZA/nNmQP5zZkD+c2ZA/nNmQP5zZkD+c2ZA/nNmQP5zZkD+c2ZA/nNmQP5zZkD+c2ZA/nNmQP5zZkD+c2ZA/nNmQP5zZkD+c2ZA/nNmQP5zZkD+c2ZA/nNmQP5zZkD+c2ZA/nNmQP5zZkD+c2ZA/nNmQP5zZkD+c2ZA/nNmQP5zZkD+c2ZA/nNmQP5zZkD+c2ZA/nNmQP5zZkD+c2ZA/nNmQP5zZkD+c2ZA/nNmQP5zZkD+c2ZA/nNmQP5zZkD+c2ZA/nNmQP5zZkD+c2ZA/nNmQP5zZkD+c2ZA/nNmQP5zZkD+c2ZA/nNmQP5zZkD+c2ZA/nNmQP5zZkD+c2ZA/nNmQP5zZkD+c2ZA/nNmQP5zZkD+c2ZA/nNmQP5zZkD+c2ZA/nNmQP5zZkD+c2ZA/nNmQP5zZkD+c2ZA/nNmQP5zZkD+c2ZA/nNmQP5zZkD+c2ZA/nNmQP5zZkD+c2ZA/nNmQP5zZkD+c2ZA/nNmQP5zZkD+c2ZA/nNmQP5zZkD+c2ZA/nNmQP5zZkD+c2ZA/nNmQP5zZkD+c2ZA/nNmQP5zZkD+c2ZA/nNmQP5zZkD+c2ZA/nNmQP5zZkD+c2ZA/nNmQP5zZkD+c2ZA/nNmQP5zZkD+c2ZA/nNmQP5zZkD+c2ZA/nNmQP5zZkD+c2ZA/nNmQP5zZkD+c2ZA/nNmQP5zZkD+c2ZA/nNmQP5zZkD+c2ZA/nNmQP5zZkD+c2ZA/nNmQP5zZkD+c2ZA/nNmQP5zZkD+c2ZA/nNmQP5zZkD+c2ZA/nNmQP5zZkD+c2ZA/nNmQP5zZkD+c2ZA/nNmQP5zZkD+c2ZA/nNmQP5zZkD+c2ZA/nNmQP5zZkD+c2ZA/nNmQP5zZkD+c2ZA/nNmQP5zZkD+c2ZA/nNmQP5zZkD+c2ZA/nNmQP5zZkD+c2ZA/nNmQP5zZkD+c2ZA/nNmQP5zZkD+c2ZA/nNmQP5zZkD+c2ZA/nNmQP5zZkD+c2ZA/nNmQP5zZkD+c2ZA/nNmQP5zZkD+c2ZA/nNmQP5zZkD+c2ZA/nNmQP5zZkD+c2ZA/nNmQP5zZkD+c2ZA/nNmQP5zZkD+c2ZA/nNmQP5zZkD+c2ZA/nNmQP5zZkD+c2ZA/nNmQP5zZkD+c2ZA/nNmQP5zZkD+c2ZA/nNmQP5zZkD+c2ZA/nNmQP5zZkD+c2ZA/nNmQP5zZkD+c2ZA/nNmQP5zZkD+c2ZA/nNmQP5zZkD+c2ZA/nNmQP5zZkD+c2ZA/nNmQP5zZkD+c2ZA/nNmQP5zZkD+c2ZA/nNmQP5zZkD+c2ZA/nNmQP5zZkD+c2ZA/nNmQP5zZkD+c2ZA/nNmQP5zZkD+c2ZA/nNmQP5zZkD+c2ZA/nNmQP5zZkD+c2ZA/nNmQP5zZkD+c2ZA/nNmQP5zZkD+c2ZA/nNmQP5zZkD+c2ZA/nNmQP5zZkD+c2ZA/nNmQP5zZkD+c2ZA/nNmQP5zZkD+c2ZA/nNmQP5zZkD+c2ZA/nNmQP5zZkD+c2ZA/nNmQP5zZkD+c2ZA/nNmQP5zZkD+c2ZA/nNmQP5zZkD+c2ZA/nNmQP5zZkD+c2ZA/nNmQP5zZkD+c2ZA/nNmQP5zZkD+c2ZA/nNmQP5zZkD+c2ZA/nNmQP5zZkD+c2ZA/nNmQP5zZkD+c2ZA/nNmQP5zZkD+c2ZA/nNmQP5zZkD+c2ZA/nNmQP5zZkD+c2ZA/nNmQP5zZkD+c2ZA/nNmQP5zZkD+c2ZA/nNmQP5zZkD+c2ZA/nNmQP5zZkD+c2ZA/nNmQP5zZkD+c2ZA/nNmQP5zZkD+c2ZA/nNmQP5zZkD+c2ZA/nNmQP5zZkD+c2ZA/nNmQP5zZkD+c2ZA/nNmQP5zZkD+c2ZA/nNmQP5zZkD+c2ZA/nNmQP5zZkD+c2ZA/nNmQP5zZkD+c2ZA/nNmQP5zZkD+c2ZA/nNmQP5zZkD+c2ZA/nNmQP5zZkD+c2ZA/nNmQP5zZkD+c2ZA/nNmQP5zZkD+c2ZA/nNmQP5zZkD+c2ZA/nNmQP5zZkD+c2ZA/nNmQP5zZkD+c2ZA/nNmQP5zZkD+c2ZA/nNmQP5zZkD+c2ZA/nNmQP5zZkD+c2ZA/nNmQP5zZkD+c2ZA/nNmQP5zZkD+c2ZA/nNmQP5zZkD+c2ZA/nNmQP5zZkD+c2ZA/nNmQP5zZkD+c2ZA/nNmQP5zZkD+c2ZA/nNmQP5zZkD+c2ZA/nNmQP5zZkD+c2ZA/nNmQP5zZkD+c2ZA/nNmQP5zZkD+c2ZA/nNmQP5zZkD+c2ZA/nNmQP5zZkD+c2ZA/nNmQP5zZkD+c2ZA/nNmQP5zZkD+c2ZA/nNmQP5zZkD+c2ZA/nNmQP5zZkD+c2ZA/nNmQP5zZkD+c2ZA/nNmQP5zZkD+c2ZA/nNmQP5zZkD+c2ZA/nNmQP5zZkD+c2ZA/nNmQP5zZkD+c2ZA/nNmQP5zZkD+c2ZA/nNmQP5zZkD+c2ZA/nNmQP5zZkD+c2ZA/nNmQP5zZkD+c2ZA/nNmQP5zZkD+c2ZA/nNmQP5zZkD+c2ZA/nNmQP5zZkD+c2ZA/nNmQP5zZkD+c2ZA/nNmQP5zZkD+c2ZA/nNmQP5zZkD+c2ZA/nNmQP5zZkD+c2ZA/nNmQP5zZkD+c2ZA/nNmQP5zZkD+c2ZA/nNmQP5zZkD+c2ZA/nNmQP5zZkD+c2ZA/nNmQP5zZkD+c2ZA/nNmQP5zZkD+c2ZA/nNmQP5zZkD+c2ZA/nNmQP5zZkD+c2ZA/nNmQP5zZkD+c2ZA/nNmQP5zZkD+c2ZA/nNmQP5zZkD+c2ZA/nNmQP5zZkD+c2ZA/nNmQP5zZkD+c2ZA/nNmQP5zZkD+c2ZA/nNmQP5zZkD+c2ZA/nNmQP5zZkD+c2ZA/nNmQP5zZkD+c2ZA/nNmQP5zZkD+c2ZA/nNmQP5zZkD+c2ZA/nNmQP5zZkD+c2ZA/nNmQP5zZkD+c2ZA/nNmQP5zZkD+c2ZA/nNmQP5zZkD+c2ZA/nNmQP5zZkD+c2ZA/nNmQP5zZkD+c2ZA/nNmQP5zZkD+c2ZA/nNmQP5zZkD+c2ZA/nNmQP5zZkD+c2ZA/nNmQP5zZkD+c2ZA/nNmQP5zZkD+c2ZA/nNmQP5zZkD+c2ZA/nNmQP5zZkD+c2ZA/nNmQP5zZkD+c2ZA/nNmQP5zZkD+c2ZA/nNmQP5zZkD+c2ZA/nNmQP5zZkD+c2ZA/nNmQP5zZkD+c2ZA/nNmQP5zZkD+c2ZA/nNmQP5zZkD+c2ZA/nNmQP5zZkD+c2ZA/nNmQP5zZkD+c2ZA/nNmQP5zZkD+c2ZA/nNmQP5zZkD+c2ZA/nNmQP5zZkD+c2ZA/nNmQP5zZkD+c2ZA/nNmQP5zZkD+c2ZA/nNmQP5zZkD+c2ZA/nNmQP5zZkD+c2ZA/nNmQP5zZkD+c2ZA/nNmQP5zZkD+c2ZA/nNmQP5zZkD+c2ZA/nNmQP5zZkD+c2ZA/nNmQP5zZkD+c2ZA/nNmQP5zZkD+c2ZA/nNmQP5zZkD+c2ZA/nNmQP5zZkD+c2ZA/nNmQP5zZkD+c2ZA/nNmQP5zZkD+c2ZA/nNmQP5zZkD+c2ZA/nNmQP5zZkD+c2ZA/nNmQP5zZkD+c2ZA/nNmQP5zZkD+c2ZA/nNmQP5zZkD+c2ZA/nNmQP5zZkD+c2ZA/nNmQP5zZkD+c2ZA/nNmQP5zZkD+c2ZA/nNmQP5zZkD+c2ZA/nNmQP5zZkD+c2ZA/nNmQP5zZkD+c2ZA/nNmQP5zZkD+c2ZA/nNmQP5zZkD+c2ZA/nNmQP5zZkD+c2ZA/nNmQP5zZkD+c2ZA/nNmQP5zZkD+c2ZA/nNmQP5zZkD+c2ZA/nNmQP5zZkD+c2ZA/nNmQP5zZkD+c2ZA/nNmQP5zZkD+c2ZA/nNmQP5zZkD+c2ZA/nNmQP5zZkD+c2ZA/nNmQP5zZkD+c2ZA/nNmQP5zZkD+c2ZA/nNmQP5zZkD+c2ZA/nNmQP5zZkD+c2ZA/nNmQP5zZkD+c2ZA/nNmQP5zZkD+c2ZA/nNmQP5zZkD+c2ZA/nNmQP5zZkD+c2ZA/nNmQP5zZkD+c2ZA/nNmQP5zZkD+c2ZA/nNmQP5zZkD+c2ZA/nNmQP5zZkD+c2ZA/nNmQP5zZkD+c2ZA/nNmQP5zZkD+c2ZA/nNmQP5zZkD+c2ZA/nNmQP5zZkD+c2ZA/nNmQP5zZkD+c2ZA/nNmQP5zZkD+c2ZA/nNmQP5zZkD+c2ZA/nNmQP5zZkD+c2ZA/nNmQP5zZkD+c2ZA/nNmQP5zZkD+c2ZA/nNmQP5zZkD+c2ZA/nNmQP5zZkD+c2ZA/nNmQP5zZkD+c2ZA/nNmQP5zZkD+c2ZA/nNmQP5zZkD+c2ZA/nNmQP5zZkD+c2ZA/nNmQP5zZkD+c2ZA/nNmQP5zZkD+c2ZA/nNmQP5zZkD+c2ZA/nNmQP5zZkD+c2ZA/nNmQP5zZkD+c2ZA/nNmQP5zZkD+c2ZA/nNmQP5zZkD+c2ZA/nNmQP5zZkD+c2ZA/nNmQP5zZkD+c2ZA/nNmQP5zZkD+c2ZA/nNmQP5zZkD+c2ZA/nNmQP5zZkD+c2ZA/nNmQP5zZkD+c2ZA/nNmQP5zZkD+c2ZA/nNmQP5zZkD+c2ZA/nNmQP5zZkD+c2ZA/nNmQP5zZkD+c2ZA/nNmQP5zZkD+c2ZA/nNmQP5zZkD+c2ZA/nNmQP5zZkD+c2ZA/nNmQA==",
          "dtype": "f4"
         }
        },
        {
         "mode": "lines",
         "name": "Optimized, L=14978 µm",
         "type": "scatter",
         "y": {
          "bdata": "tFJmQHubaEBt0WdA7ylnQJPiZUAedWdAQ9FfQHDxaUD+3GhA7adqQIewZEBQt2tAiiBtQD9ya0CvNGZAkKhqQDQJaUBHemdA8cpfQPT9aUCIW2VALAlhQDyJXUCTHWhA7VxlQGsTbECbC2BAHgNkQK25Z0C9k21ACq1pQGoAZkCLKmRAcJppQHL+ZkCU4WRA4ZRoQDKJZ0BR62NA8mpiQCCBZUCn6GdAl6BlQDHsZkANN2hAvZ5hQGSNaEA1E2xAw35oQKFAY0BkT2dAC5VlQF5+ZUBwbGxADDtoQEquZUC0ZWVAUZ1kQEgyaEDz+mtAQ7hhQJTYYkANY2tA8NZkQHpBZkDeDF1AAm5tQIPFX0CL4mZAhLViQIH4ZUBDW2JAfB1pQPSzYUA1XGBAIBBuQBa3ZkD/zmBAHallQBJXaUADWWVA2ahsQNdga0DDGWtAJnNdQP0YZEBZ1ltAuZNrQPeccUDh6WlApuRpQCpfYkCg/GNAApBoQNqBZEC1O2xA3bplQGtUZ0B41mdAZuxhQHLkZkCqRGpADJBlQNYzXUAkImlA7o1qQA5qZkD9sl9AYVFjQK6zYUBTkWhAP8hpQKm9ZEATemtAaC5nQAd5ZEAsn2dAZCtoQFlQaUA/12RA1AdlQLerZUAp4WVARsloQFjYbECnq1xAkJZoQHZzaUACbmtA5D1gQNfPZkDy42xACQJiQP+9ZUCYg3FAUkhoQFcvZEBuS2pAHAJmQE/Na0D9/2RA3FpqQIx8Z0A2uWlAjgNlQIJPXUDfuWdA3S5oQIvuakBC72ZAwOhlQNp1ZUBc/WtAGXhlQOCmW0D/HXJAgh9rQP+ZaEAK7GxAV9ZdQINhYUDba2dA+RxmQL45aUAyEGVAfB1oQC2VZ0BF1mJAtEBjQFqwZkBeOWtA6cpjQBm4YkD+LmtA5zVgQDD9ZkB9tGhAwQZnQJJKZkCpzmJATVBoQD56aEB972ZAyz9hQJ26Z0CQs11ANthhQEc/aUAP6GRAmwNmQDRFYUA3xWhAx85lQAR4YkBTh2dAAohjQFywYEBAomZACDptQFHfbEBZI19AsKZeQGP6X0BJP2VAUr9hQAPcZkC3g2dA8FVkQKgeY0DF5GFAJ7lqQLnVakCDhGpAJp9wQKeMX0Do0F9AAqlgQJOlZECAxmVAD1NrQL+CYkDhrmhASWFqQLA0Z0B/OGNATtZpQMo+a0C8tmhA2TFbQF63YUCm92xA19tsQAWUYkAXy2pAkMllQIlkYUBJTmdA6B9nQG2VZ0CwPWZAKWNqQLjuZkBf5mVAI/9uQEhWZkANymFAr95sQHcwZECsBWVAUc5rQD5ba0CBD2pAIlplQL8/bEAEAGNADr9lQA2waEAHNWZACsVuQMFUX0Do5WFA8FNuQAFQbkA7CWxAbYxkQOAmakBWS2tAN4ttQG1wZ0AXXWZA53VnQDpuakBJjWBAJZxmQEnYaUBPbmNAo1dpQLegXECxhm1AGo1nQLhsZ0B2PWxA9M5mQPbbXkC9dmNAMBprQKs5Z0Cxvm5AG3BtQER0YkByDW9A59VgQG31bkC7YmBAO/tiQPGDa0BPhHBAPeFjQOfzYUASu25AVAJmQP7mY0CUlWlAfyhqQJT1YUD3gGhA/7VoQB6DZUBfKF9AocZqQPAzZUDTS2lArn9jQFnHZEA2uGdAewtoQPKeZkABm2lAenBoQGgTZUAfOWhA85ZjQKQpYkAEnmdAll1kQOthYUAcJmhAvBNsQEWnaUB3BmlABullQOR8XkBPaGRAElxkQH2/ZEBPLWRAfpliQNbgbUB6PGdAGdFiQM7VZECMTWpAFklfQLTGaUCjwmBA27hqQONSZUBMFWhAVAthQOpLYkBBqGVAEThiQCyLZECPH25ALelhQO69aEBPG29Ai2dsQE9SakBWy2dA7oFkQBAvZEDTemVAMLRlQO/TZUC5UGNACUZhQBRFbEBkimtAjjloQCrzY0Dny2dA/wdfQKc1akByuWFAL3hkQAx2Y0DHYWdA4SlhQPXVX0AGsGVAzLdpQMy6akCXimZABhxnQDfOYUCh0WdAVLNpQJnsbUCnxGlAo3hkQHCkZkDbo2tAWNBqQEUNa0A9eWNAm9tjQOJSaUAVjmNAiD9hQFAMa0D5zGNAAAhgQLkZaUCcgGBAEPNpQB62X0DTwmdARjJiQEBKX0BNSmRAwr5oQBOzZkCvjm5AUGRhQBxzZUCU4GRAdUxlQKEvaEDpG2NArPxoQH2nXEAKCWxAj71kQN1TX0CAsmpA3odpQBT7ZkAj7V5AfD1iQBTfYUCfyGJAg1JeQJgOYEDiPWFAxRhlQCO4aUAtlGlANkJhQPdbYEAxemlAqkhvQAs+akBcp2VAaVFnQLvMZkBMEWZACEJmQN0uZUCC1WBAP5NjQFrkYkBLimBAO11kQLAyakDB5WlA/yFhQGhmX0Bh521A8S5fQPWCYECJbmNAspxiQJkdaEAStmlArgxoQCojakBGUWxAoQ9nQELbZkCml2xA6tRrQPDLZ0AuYmpAoOxdQEHGaECiFmRAg8txQBEbaEC2GWNASilhQO/8XkB6dWNAmYNhQMUuakAXwmlAtJFrQHpvYUAwh1xAKQNlQLdYZ0CVD2tAKVxnQBF4ZECVMGBAnnhjQJauZECZXWpAjZ5fQC5SaEB+ampAQdpjQJ2GaEAEcGlAeSpnQEflaUBfB3FAaF1oQCzfYUABTmJAUvVpQC/MaUAzu2BAu0ZiQEKVaUAmb2pA971fQHd3akCCVWRAIrFlQGc4aEB1yGVA7KhvQIB3ZkA3rWdAtIhtQLaHY0A8YmdAS3RoQHnWaUCBuG9AyS5jQGMZbEBFEGxAz4peQDOuZ0DWL2VAL4VtQMI1Z0BmCWxAoURnQMcZY0BPHmJAyzpiQBcfZEDt3WtAe5JoQGN7ZkAJoWdAJflpQIEZYkC9gmxA1PpnQBt/akAwQWpAxehgQFyibkADmmNA/RdfQO4RaEC0uWNAgxltQBPNaEAjL2RAOKVjQAtXcECZwGZAarttQB30aEBBMV5APA9jQH+CakCjzGlAzMthQAJ1bkCVC2tAgM1fQPtHbkB17GNAVR5uQFRLXkBIrmNAnUNnQA2oY0DtsWZAiHZoQDA6Z0BTOmtA3WpiQKnVbUCYnmNA3RxmQDAhZUBF22ZALqprQMZGZ0DYi2RAysJfQDMJa0CXc2ZAWiFmQOu9YECPCmdAssFxQP+nXUCeFWJATiZmQHQ8aEDZemxATwNnQPICZUAb9WNArEtuQBbGX0DOfGNAoQ1oQLYAZEDdfmpAqGxtQEWGZUAftF1AYtplQBqca0CrbmZAlSNpQLsaZUCje21AZe9qQHnLa0CKB21ARaheQKcOYEBEVWpAPlhbQBZEZkA0o2pA2bFkQD/sa0B8oV9A0mJtQG49cECXQGtAH29sQIBJakBnTmVAkphiQFr1ZkB3S2NA0wdkQNRRcUCSHWZAzGRgQHyvakBBAWpASoBoQARSYUBi7GVAIlFnQLW3bUA8wF5AiWhoQMm5ZUCe7V9AY3RuQHrrZkA3HGdAB6VkQPzkaUDiymRA79pfQP3KZUDAO2tAQopiQGRfZ0D8vmVACrNmQAjgaECbh2VAul9mQLqwZUBvx2hAo2dZQGeMYEBykWJA7VhsQEYqaUBRnGBAhyZsQFP7YUDFBGRAE0hjQDS2a0BV/WxAdUBgQAyIYkCEjWpAlZpnQO+laUCdDmNAo9ZrQIqvaUB401pAOSFnQBtKY0CRbWhAzhpkQCODZkBAUWhAUCFpQGBrY0AhYGVAvZhgQIrXZkBjyWNAq8pqQNDNZkCi7V5Ai/BbQIHSbkCGlWlAwhJkQJfObUDsv2NA4+dpQCSJbkBG/2hA7cZoQEEPZEDwpV9AWdFjQLo+a0C/PWFAbXFkQBtTY0B35W9AyidpQLy4aEBw6GJACNBpQMirbkCVSGVAUtVuQCLsXkDgW2RAz5BlQAoLZUDnxGpAhBpiQL91ZkDf4GJAG4BlQD2pZkAyaWtAFKZmQFDRZ0D7Vm1AosVmQFY1ZEDuB2hAB8diQFmnZEDgmGdA9mhiQMM6YUDJNGJACcdoQJ8EYUCWHmVAuahpQDjNZkBi2GJAWaNnQDDvZ0CrwWpAEW1nQHsJa0BB82pAZJRoQBmSY0D3rGdAPCJjQP1dZ0CmkGtANkhnQNY8ZkCELmRAdb9rQLSuW0CEpGJA9N5nQOwvZECE32xAmJBmQADjb0ANRmdA/F9cQJChZUDFiGFAR2JmQLfnaECIUV5AEUZpQNk4Z0Cbx2dAQtRoQIXMZUCso2tAhClsQCW0ZED78mRAsolpQLnfZUCKn2VAlChlQJM/akDBk15AUFhlQCmQZ0D53GRApMBjQPQCZECQLGdAKDNpQFP4bUCv3mRAap1mQPMkYEC6AW1AMRVtQAyXakD482NAEOBoQMbAakC+wmpAf8NrQCn8bEBYgF9AKIRsQLr0ZUAZsmJAHHFrQI2KakDynGVAFoVtQBjlYUA8DWlA/59rQOGkZECWpGxAyR9jQEiZbEACOmpAsZdjQCAAcECEZ2FAC2VqQK8xbEDs6GRABTBlQEs5Y0BbmmdAeRFkQFhMZUDghWxAWMNrQDBxYUBxEGtAG5JnQHrNaUAlh2ZAgiJqQPfmZECcbGhAAPJnQENUa0CpBWFA3NpmQFFZbUCeAmpA0UdsQAswYED2g29AqbhiQOZoY0BeW1hAGQJqQOHOY0Cpb2lAXlxqQEXCX0Bk9mZAOIVnQInabUDL/GRA1HJhQAAUakCpDWRA8kNpQPYHaECBhWdASUZeQPIvZUA+w2VA+bFoQINXZ0Ad7GRAOwtqQDFZaUBA82VA8xtnQMH+ZUBLIWlARXFmQKfRX0A9WmJAR+poQCrNYkDivmNAiqVpQNurXUAkXGVAYqlnQKIZaEDcJGVAtixtQN99ZkAhb2NAF9lfQAona0DKpWpAe9hiQMPOakAib2dAekVnQDTjZEBhQ2BAFWVqQAnqXkBOQmBAyTZrQPmhaEBfhGdAJidnQBuqXkCFNGJA01dpQLo6YkCLNmpAsHZiQOdhaUAmDmpAEJ1iQNfIXEDyY2tAOetoQE51Y0DMZWdA6c9iQO2vZEBHzmZA7QZsQA83a0DGxGdAVvloQEgBXUBcwWRASvNnQJpxX0DVI2VAQKRvQFcUX0AKFGZAeEFnQH8+ZEBkImNAE2xoQIg3aEAHI2ZAFD5nQMdKaEBPxmhAq9ppQEStZkB4rXBAUkpqQKX9bECYCGlAA+JsQNk5a0Bp+WRAe1xiQOXyYEDBCGlAdaJmQHnla0Dn6lpAgVxmQBtFZEAV3G1AedtkQHydaUD4g2hANttpQBNyZECG8WNA2+NnQJHLcUAN0W1AtVBfQB5nZUCFqmpAI1VpQHdQXECnwlxAejpsQBCZYUAmrmZAiN5pQJ6eaUAmuWZAHGxhQEiWcUARbWpAB+1eQCmkYECqPGtA4XtnQPmbaUA9aGxANpRnQDcoZEDrnF5AijplQM/fX0BoVl5A2RthQJT2aEBhIWFANxNlQGSSY0BY3mlA40NjQEkjZ0Ac92VAOltxQGaGZUD9PWpAwThkQLXkY0DaLWtAz0tkQFJ4XECZUWZAbqNeQGaDa0DwLWpA34xoQNlMXUCf92JA80pmQLBcaUBIHmNAYHRjQKkrZECXbGlA6zNgQE9XcECo92dATKdrQKesXEC4S19Ax0tqQP+ZaED+nWJAffpnQKaxY0AXSF5AEaVnQDhDa0DRj2xAa9FjQGzdaED6g2NAMORlQOd5ZEB1bmhA4+JmQPhpbUDgzGlA/QNmQPuFaUBuKmBAXhdlQFmoYkAfF2NASd5hQG4xb0AuX2RATthhQHVxYkCs52RAryRjQL+lZkCfa2JAMQdrQL81ZUA8UWpA3EFsQNE1aED5eGhAbxRqQBZTY0BTJWZAgkhtQDoNYkD/PGJAAApsQADcaUCc2GlAa81pQEL/YED/FWdAR/ZfQBZmX0Cz7GxAGCBiQM/3ZUCmqG5Ard9rQOBwakDPZGdAovdfQLL2Y0CgDG1AD7xqQNMmakCozWNA+0xoQDJaX0C6yGtAwXRpQHWMZkCTFmxAhIBiQPdVW0BBemFA7NxnQGL5Y0BMamJAy0JxQOGhY0BIB2xAp9djQNonZkAZ3mlATnNsQJU+YUDmompASu9qQPmdZUBrWmVAnphqQAAAYkDQn15AQx1qQALmX0AFtmlAQd1kQLJTYUBfE2dAhplpQCusakCsAGFA7WpnQFDeaECBv2lAAg9hQBvSZ0CYOmlAxcNjQOyPZUAiwmtACrVmQDJ2aUA6XlxAFwVuQGefZkB2mmdAMFRiQKYsXkALcmVAQ4NtQCwfZUBBrmRAbrJmQL3wYkCrl2NAyYtnQNJLa0A49mJAljJnQFOpbEBgPGdAyMZzQKQZZkDZ0GJA1ANdQN5Fa0Azk2ZAPWdmQBEHbEBLgGFAp/BmQAnnXkDp6GhA0XdpQONkakCoHGtA/15xQDkvX0ADCmRAlExoQMvtZkAHHGRADi1iQJghbUCZPGdAf2tdQMtkaEBlVWRAz+pqQJWuY0CId2xAAxFoQOspcUDqWl9AvI1fQP28ZkCQ/mRAuvRgQKDyYEBq3GlAhwxxQM7CakBL7WVA8bdpQMM6ZkDESm1A12xoQN/9ZEDof2tAp1huQFDIZ0AV/W1AmMxdQFlsakB6o2pA9UFqQNVtYkAZF2pApvdkQM78aEBBh2VA5I9pQL5uZkDs3mdAY2FjQHrGZUBN+2lAkPRkQCS0bUCPdGNACXBkQFfOX0AwTGdArRhpQPRfZUDcUmNA8EtnQM7taEAi+2ZAC95lQLg6bkB+EWdAKeNnQDc6YEC5/l9ABhpdQCvbXUDj/WNAB4NmQEfGX0AnWG1AFTFsQI5rZkCkvWZAJDNmQItUcEBrwl9AHy1pQGqyaECkt2VACkxmQKGuZECKXG5AQBRsQAmkakCxsW1A4HdoQMU/ZEBLZmdAsA1nQG3IZ0D5FnFAQrJbQCa2a0C7sGRAxaxmQJU6ZUAf4V9AnMVoQPFYXUDbp2tAEqdoQOTrX0AveW9AgD1qQNG/ZUCADWVA4ERdQK3mZkCTU2ZAVnpnQKSGZUCbfmtA1ypiQMNraEDWxGRAF8NpQHSGakAZdGhAMRFrQLbrWkCbiWFAht1kQJywZkAWuWJAlYlrQCVOYEATh2RA/cRtQLUoZkDq52dAJ0liQFB9aUCBGWNA5sZjQE4dakDPK2BA8hdlQM1raUC3WmZA62tnQJYUYEA32GlAhSxoQJCfbEDXmGhAX0dsQKDjaEDhX2ZAVGZlQBEtX0DX6mRAE45kQEvaY0CjlWlATOlvQBfua0D0q2RAhm1rQDV3Y0CmS2hALhdkQBi9bECHJGpAFY5hQLd+Y0CKumRA7ihjQH93YkCu3VpAandmQB/5YUBZFmJAxXVgQIfQY0Bm0mNAtMhnQD4BX0DnEWtAcXFkQJLsdUBE4W1AZNFpQIJKZkDg7mZADJJuQNYucEC3KmJA6ztgQExkbUDo7GFAkYNhQJAkXkBCF2VAbFFlQKnBa0ByIGdAZk1jQO64WkDO6mZAAcdlQKu+Z0DAsWJANARqQJMLa0BUVmFAIOBdQO91ZUA91GlAlYNnQHHiakBVNGJAUIlhQB7uZECxcWhAQttlQIMUX0DQzGdAVLRnQMpxbUDCuV1A6XVkQNnIbEDQrGJAWGFgQBIoaUDanW1AqDJmQPxoZkA3/mRAV91lQJhqZkBwDmtAtOZjQBMeaUAR5mBAHS5iQCtbaEC8pGBAfkZtQHiBYkA6mmxAPGVqQMSvakCVgF5AklZqQBtlZEDLmmVAqoBiQNl/bkCZ4GVAyvlnQAGKZEBnKWVAe8NfQGtcaUDbdWxAbgtsQKflYUApkmpAeMhiQImmYECCAF1AqhtoQLX0ZEAta2dAfmdnQLv5YUCoEGhAtThjQPL2ZUCSi2NAwXNeQFMNZkBXemNAZ7BsQJAbY0DzgmVAUNBkQIQPZ0BMcWlA1zhmQAyaakB2WmZABBFnQAvzZEAEQGVAiKVkQFVtYEA1h15A1X9lQKdPaUDwzmtA3iZfQA0la0D7PmdA9yxqQPMeakB+kWZARdtlQPIKZEB6c2NA90lgQGQFZECYmWtA+blqQNLHbEA7m2NAegNrQL50Z0Blc2NAwylkQMVhYkDokGxA/i1pQMu0YkBEkmZAavxmQEEMaEDu1mRAGqZjQMP+aUCw+2VAHeReQLhkb0A70GtAtQFhQCwVb0AIXV1ALkpqQF/gZUDZn2dAyVJiQPXyYkBD/GNAzOpiQNhUZ0AvdWZAqD1pQAGgXUAwbGZA4TZnQDt+ZkAZRmRAcYRqQMH9ZkBCQW5AC0JxQNwFXEAakmRA8IlqQGF7ZEAUdmdA3KVsQNV7bUDaUmBAyN9iQDB1ZUDrGGdAAw5sQAKdYkAKnG9AtltlQEg1YkDY2WdA54trQBPJZ0BQE2tACkxhQE6kcEBnnWFAbXdlQJfmYkBIIGJAjcBlQG+gaUCLHGpA8lNpQB+UbUDBxl5ARdhlQI74aEC41WhAWlBkQO3lZ0Dn62dA1vpsQGVsYUCwuGlAdT5nQJ7hZkBR22BAZAtnQE5FZUBirWhAq5lwQPXwa0D8B2hAGP1oQMB/ZkBQe2ZAbKRnQEjpY0DHpmVAAa5jQCK5YEC9j2RATh9mQP/oZUBs4F1A4sVrQHfpbUBTcGRAxX9qQKL0aECtR2ZAIkBiQP6eZEBPo2hAz0hqQHp3bkAn+2JAnYFnQJDAakAbb2dA+GJiQImPcEDtGW9ApQ1nQGVqYkBtf2ZAfs5lQNlObUC0UmZAx1FjQCbUZ0D02W5AfwBoQL0QZEB5HXNA2ApkQCaubkDheGhAMuBoQGe4ZECPGGdAonVoQKS4ZEAxZl5AmIpfQF2YYUAdpWRA1l9jQI2caUAwK3FAd9NoQC50YkC5D2VAv7RgQBhhZkDcIWtANQVkQK22YkCPSGVAmENkQIX9ZECBcGVAdDZpQIVzaUCOwllAaZJmQE2FYEC77WVA7AxkQI6VZ0C+Ql9AMl1mQBraZ0Cvm2BA+RNlQJhtckBO7WJAV4RhQJc3Z0AQO19A+L5jQJHbW0CaVWdAHxZlQOV1ZkBtIWBAIXlmQBLRb0Dky2hAWwBdQDjkY0BAPGtAuQJgQMU/a0DR1G1A2sFiQE6iYkBYZWVANjVqQMJEakAya11AJfFkQPRsY0AS0WNA2w1lQOGXbUCqdWhAjLtpQAd5ZEA79GZA2GlnQA3AZUADXWdAquthQNpsaUBEqGlAmUhqQAIAakADYWBAI+llQMI0ZUBsAmFAIGtlQMxVaUDx2GNAQFZrQJb4aECT9l1ArXprQBUnYkDFGGJAbXlgQGnWZUChsWNAMThjQJfrY0A1zWRACENmQJSiZUAXQmNA0d1eQIR1bUAPQGFA71NkQOIhbUCLYWNARZxjQHE0aEA9nmhAElZoQIXGYEDQVmpA56xjQHq+bEBMLmNAwsppQDKNZ0D+XGxAdDZgQILTZECIY2ZAq81wQPEuZEBalmxAeURzQAm2ZUD6V2RAACFpQNaAXUD/vGVAvuRmQIXZZ0API2ZAlUBqQA7gZ0CcM1pAAtdrQIUiakCMzGdAHiJqQNd6ZUDFJGtAOjViQKMbZUDccWVApctlQHambEBXgWBAs/NiQHA+XkC6OWdAgCVqQJjYaEByx2dApoNuQDuiZUC5g2VAra1nQNmMZEBppGNAG1xrQPNHakBGUm1AkQdnQMiAZkDK7WRA621qQLQ8ZkCcXWlA7bFkQJCdZ0BP22hAUThsQHoeakCpp2hAsRxkQFd/aUC2sGhAHzldQKvbYkA8xVlAWAZpQD7xaUBthmNAIItnQMA1ZkDmyWdA+MRnQFA4Z0D8t2FArYdtQCJBaEC9DmNA0fNwQPd2akB0eGZANsJiQEfmY0CPqWlAGYdnQD/zXkAPhmFAdsJpQOrGaECjtGNA3jdiQN9OcEAK62RAtSJsQAWKakDI0GNA3KNnQDglZkDVr2ZAdSVgQLcXY0DPB2dANKZlQHRkaEBeKWZALJtiQDZEZkCJ6V9Ac91mQDYia0CpQGFAJNhpQGWBbUBWrGtAZ01nQC+5ZEAQM2JAbbtiQJOYakCaNWRAV5FkQAyNaUCFQ2xAEkJlQCAbZkDroGNAirRpQKU7bEDr0WNA66BxQHbaaUCslGRAgxFhQHIiYkBHBWZAHC1ZQBB1Y0Aw3GFAVPVpQI/qa0CT92ZArFdiQKRWaUDGO2JABUliQM/FaEAzxmlAXghgQOwzZ0AZdGZAyRhsQIKNaUC2amhA8o5mQGymXkDW3G9AwDBiQDzOXkDBpGNAnytlQDBOaEC4nWRAaYNeQH7hZECXvGVAIbBmQIFva0BR+2RAm31lQHzfaUB1dGhA6wFiQHicYkDWwF1AegRoQMuOZ0Aus2JAlF1nQO1paEDFUV9A411nQPkoZEBEB2VA08JpQGEXYkA4LmhA1q1hQAPSbkBXOmtAY2xrQF2faUB4wmxAnFtkQPnJaEAwOmNA0fRjQE6NakBeumVAI/1kQE+HaUDvMmNA/FNqQExFZECNw2JAQU5kQG6dckCaYWNAbLFsQPKOaECn3WtArztkQJmgZ0A7r15AbXVpQALVY0DVfV1ARFZgQNgwZEC13WpAHuNhQNVkaUC9gm1AdtZhQGA3YUBGr11AxKdhQKsvZED+E2BACT5pQMHKaUBJXWhAzDNlQAFyaECn9m1ACb9sQOSRY0DW1VxAfntrQNsDa0AhR2VAE2NhQFtra0CFQGJAYcNqQI3Za0BJ+WlAcPdpQDM+Z0Aac2hAfNVkQBUcY0BYd2RAJqZmQGxAY0BWo2NAItBlQLOvZ0Dnb2RA9sBoQJY3cUDUg2BAhBhsQMKdaUCEjmtAW3xvQDgTaEAOk2BAeYpoQO7faUCklGdAH2VlQOPAW0BqVmhAJYJrQGlaZUA/YWNAKARcQEeGY0Bzol1Av7RcQLvaZ0BGBm1AUKBqQCfOaEB9eGFAc61eQCvtZ0CqZl9A7OFmQNsgbEActWdAIL9hQMrrZkC9MW5AArRqQCrfa0AemmFANFZtQIPTZkBf0WFAauRkQKaQX0BFbGtAk0JqQKRvZUCQfmVApwJ0QCFVZkCaxmJASHtnQHawbUDc82RAQ5RjQNruakBcgF5AVldlQBk6akCFLWtAv6pmQD3GXkCSMmFA3mNgQIh5aUAjGmdANFhpQOp2a0AplV9Auj1tQFwKZ0AkK29AOW1nQPOiaUBSNGtA1BdmQB/1akBJLmBAC4hrQEWoYUCr5l5Ax3BlQGyoYUABCGRARGBoQAwZaUDdl2lArh9lQJIxa0ABZmFAH5NkQDB/a0CYhGlA/w9iQGeBb0BPQWNATjdjQMYvY0BXYGlA721lQJV8ckA8F2hAW8deQNalaUAzgWZANgFgQIgSYEC4PmRAxANnQOSJY0AIzWpAYXZYQBgHZkC8CmVArJxnQCfvZ0AnU2RAdVVqQHjyZUD672NAh8NiQDttZUAtZ2xA45VgQJmYZkDYZGdA3k1oQBVAaED0pmFAkbVnQA2AZEClzVxAdWtjQDdsX0A0GGdA3dJdQA/UY0ASNmdAT3diQEQWZUAiyWVAZOdlQCzXb0CVxmNAbOFqQIB5Z0BjwmVAb0ljQLL0WkBV8nBAdwxmQHyYaUAhNmhAGrtlQIACYkA+FWxAOndtQCvdbUBfwGpAaJ5oQDsEZ0DisWdASQNmQKx2aEBjpV5AG4NmQEIRaEBGZm1ARTlrQGAaakBBg2ZAUQFsQJ3DaEDClGpAQHhdQG2eZUA6smZAd3NfQKKqYEAFzHBAGs5iQAjGYkDyiWNAS6tpQJxuakCBjmdA8ZNoQNA8aEDxBmtAk45nQDzbXUAXfGZA2aRoQEkwakDQyGhAZx9mQEjlYkCgYWpAiRhqQGfIZkA3DGpAVEphQLxnaEAg1mJA/odlQMRhb0CcCm1AHTRnQPxDZkBvmGZAKJhnQCCWYECfKl1AH/JpQA1uaUBLBmNAF9BjQP8sZEBwPWxAh+5iQIeAYkCURmVADcpoQGiuaECrVGVAJIFoQH47akAj92FADsFlQMO4akCGrWJAouVfQEPvaEB/+2lAQWZmQG8WYkDrbWNAcXtfQE/tbED8x2pAa5BiQEt5aUDOa25AZCVfQOHLaECegWJATiBjQMulXEDxvWNAfv9tQA9BY0DFAXJA07dvQJlXbEDsn2VAzN1lQCRmaEDgf2VAswNiQLozY0CpQW1Aff1sQPavbEB8t2hA3kBhQO87ZkAfe2FAJHlgQPcwYkCuOG1AFQhgQGeuY0AfHGFA26VjQPqQZ0CV2mxAOktnQH0ZbkCuXmdA1/JmQK0wa0DcQ2xAZIBmQN+kZ0AhjWJArfNkQAxLZkBX7mFAlIxqQGxCZkCtv2lAdAprQJoJX0CEUmRACi1lQKa7XkDBkmdA0Q1lQGWnbEBTMGlA4whpQGgZcEAYr2lAOPNjQGRTZEAGVF1AIDNfQNZUaEDfoGhAihlpQE+GbkB2IGdAlKpoQCioaECrkGlAKH5fQDfAaED0NGdATdlfQB6gbUAPzmlAeo9pQO4dZkDdFmpAeGxrQAwybkAuOmdAfDViQPS7aEASVVxAxCdmQD6CbUD7rmJA/yNdQF9BZUDSm2pAIOJkQB16YUALpGFAsO9jQB4KZUAHDV5A0jVaQNdcYUDzdmBAOaRfQJR5bkD2211AKFhrQEHvZUBD/GNAtOlpQMyzZEB1YWZAhPNuQGWsbEALpVxAZ2NqQIjrYUAXoWVAxh1sQK1oZEAqVmpATiBmQJ+PZECyEGhAH0BmQG+VZkBRUmVA9wpuQHJ0XkAm5mVAl3hiQPNybkBtempAirNlQKqxaEDmIWBAOPtiQELPY0CIwmVAQm9gQPmjW0BME2VAYuFgQA+pY0AqyV9A/YJmQAjiZ0C62WZAPqZpQJR8aEDEBWJAR8NjQIIWX0A+x2JAufVrQIuFZUDX2mNAUvVkQL1QYUDX811A1D5kQIQkX0D8w2hAB9xgQHueZEARSGNAJgFgQADWYUCEe2hALbtqQNgqZED1KmtAhHRmQGKiZUBkDWdAMJVhQNlmZUCSwWNABY1lQGVVaUAFqWtAjGRtQAeWZ0Aw9WdA0pVhQF8naEBhTmZAj4BjQO5wZkBCt2hAPulnQHv2aECfqWBAwrJjQAyEckAwIGBAIBZmQPncbUBvz2ZAlTBnQAulYkDJX2hAo15oQMB5ZEB8qGlAm35gQNzsYED7v2xAMfZtQAzqakDgKmNAsFJmQNgebUAxBmVA2rFmQE5kaECtzWlApRlwQIhfYkD+RGZAjDppQLp9Y0D3IWNA4bBmQAxpZkDa6l5AgcJnQMMbZUAvAGdA8elmQHQFa0AVJWhAUCdoQJ5kXUDmdG1AvRJdQK3LbUDjpmNAW+BkQACiaUAQyl9A8lRoQGwmZkDXWmlAoPxmQDcraUC6fmZADaRpQD2qbUCHPGVAApBpQLaZZEA7ql9AyWZeQJclZEBF329AqCFnQGpQaEB3B2tA8nVnQPddaUCkcGVAQ7VkQGn6X0BdE2JAlYNsQPFbZUCThmNAPRlpQPkxaEDxsGtA6bVuQPHjaECRo21APRRrQDVVY0Bp+2RA4WJsQOYfZUB9CmBAh7RlQPyUZkDLv2RAiEBoQDBEYUAshmFA8FZhQOecZkB+AGhA6UxkQNw5aED/nWtAJkBvQHMpWkC49G9A4cpiQNOPbUAC9W5A1GhmQCdlZUBeZWhA1/1dQK0GYUBUGVpAeI9uQOXYXUBuImdAj+FgQHT8bUCm6mZAlqxmQNdjZUDXqF5Adu9lQGqGaECsqWNADyFmQHd3Z0Bo+GBArYBlQFiVaUCO8mFAr79pQNvqaECt4WZAUy5mQPlLZkBkRHBA3jtgQO8DbUBHHWNAzE1mQNEKbUCNQWJAIrRnQGyrZUDK4mhA/C1oQLsmZUBgDmlABZFkQN40akDXTGBAKa1gQD7IakA1dmdAhW9nQP3sYEC4bWNA2EVcQEj/a0CaLWlAbwRqQLeraEBYpmFAVNhmQDsiaEB0xmJAeHpiQLiHYkDCW2xAPZhlQGK+YUDwz2JAr8hfQCXiZECUDWVAs2hmQPwjaECROGhAWJBjQMKhYEDa9GpAbs5oQFThYUDf22BAKKJkQHpRZkBctWpA76poQErGZkCKeGdAWodqQPH9ZkDmVmVAIX9nQMMYZUBAHW1AoQhiQNHiY0DeHmJAlwtuQCQDZEDd0mtA2TZmQD+zZUBw32xARPJkQFgaakB2pWBA9BVmQBq7YkC2RmpAfElmQDXXZ0AdzGlA9OliQMu1a0CA4V9A8M9lQAknbUAr1mFA6QRnQECua0CoUGFAUDFlQK8KZEBqEWJABiJsQOJobkD9cWdAC6lnQH7SZUA7H2hAGvVkQIBQY0A2uXFAlUFwQNuVY0AZm3BADlJdQEKVaEDgHWRAp4JnQFBtZkDseW5At3ttQMYgaUDWl2JAr8poQIMKakAkIWBATuVqQE3AakCzs2RAN81gQP2TakC6/WVAeFBiQAcpYkD+WmJADb9lQNKZXUA8s2JAUQtjQFe3aUBoeWdA7/hkQN+/YkCLBGRABUhkQCdYYkBAJGNAccBhQFCzbkAPuGtA/V9rQH6mZkB8SWRABRZmQIWyZECEzmtAsjxmQIKqakAvQmVAdu9oQA6xYkD/KWdAymFrQH+4ZkBIfl9AwHhsQHs6aEAknGpAxxlkQMVYYkCn6WdAmFdlQO0Aa0C/5WJAfeVsQFVFaECYSWBAEPhhQHxxYkAyGWVAigxhQKuqa0An2GVAXMplQFFuYkA1021AyCJgQHBxbkD3NmpARIJnQNv2aEC7ZmFAMYNjQJQhcEDTH21ArvdkQEvGW0DWeGtAjUNeQJGIcUCXv2lA79RoQAVxa0BdFGhATtJmQLxeZUAGNGZAcNVoQEZCakBxIGdA/CljQO6lakBNJ2pAguhrQDRIYkCNF2NACehmQGiSZ0ChKGxABZBqQFadYkCqBWdAdvxpQMPrZkDwj2NA94ljQFcsZEAda2pAuSxnQB0xZ0DgsWJA1iRpQMWgcEAC/WNA5lJmQNITZkAWqWlA7mRjQJl5Z0BBsl1A9p5fQLysZkDLs2FAqn9jQE33Z0AihWRAV6ZmQOQLWUDhCHBATT1nQI/Pa0ASwGRAGzVoQFAiZ0B7Cm1AYmlmQNSnb0Aui2RAMYhmQMdUYkDMelxAvSplQMa+akBKHWxAqXNhQBaqbUC49WFAxUxlQMyaa0DjSGNAukpoQBwKXEDftGhA8S1oQEKSZ0DdnmNAxJ9gQE9yZ0C4GXRAaOliQF0Ga0A6MGZAiQ1eQLlrYEBaUGZA9x5lQNeaZECR5WNAnpBqQIIFY0Dk1W5AOSFdQPQFZ0A/OW1AWIxnQK/2YUA3kXFAF0RmQKp9bUDW2GFAfmFmQKnpYUDkJ2lATQ5pQGFFY0DYHGNAj9ppQBBDbECzmGBAG1hjQO9wXUBAyGtAMoNrQHyYY0DnBG5AGEVgQF6IYkAXl2dA8a9mQDtibEAZkWpAd4pjQFU4aED6wGNAvFxcQNrhXUD4lGxAWSJmQEMvYUAfTmBAgh5iQNLxZ0BVX1lAjrJoQFexZUD9OWpADqpqQKrvZUCJh2hApF9tQG82a0B7A2BAOEJmQGF4aEBIV2NAK7VmQPkkaUCmkmdABJZoQMOqaUBi0mVA6BJiQBPWaECNLWxAvIpiQJUfZUAog2RAXw9lQCfCXkDdUmVA9TFoQBB2ZkBGmGVAoSNiQFZ5ZEA5dlpAPvVmQPJwZUCD2WVAyyJlQJizaUDzK2ZANHVmQIJyYUBdUGVAd2xjQOqyY0DO2WRAvmVgQHBzWkD/gWFAz39qQCEiZEBFK2pAl9ZcQMB/aUAZJVtAv6BlQBAVZkATUmhA3XViQAnCaEBK3GBAf2NpQNoHZEBdZWRArpBgQNBLaEDp3GVAhKlhQMSsZkASbGVAigRpQFfMXUASRWVAoOpsQLBPaEDCImZAbPpnQDS+Z0C5OWJALvxrQAsUZEBMR2JAoVJlQDtLYEBrt15Ay1tmQNYvaUBPgmNAe9RpQOo6cEA+ImxArTtmQKzYZkDI22NAOpxpQDyvaUCwbWNAJFxqQBF+Y0BjjmhAJ+FrQKWQZ0ACX2tA3w1lQGIcakC5/mRAu/tkQLtvZEBy4mNARnVnQKqHZUAKlmFAomhoQJoMZ0BSB2dAfhxeQPT/akBxgWVAIRVhQND2ZkDA3GlAC59jQDlTZUC0QGdATYxqQNo1a0AZF21AplJrQN1RaECn715Ae7FgQEkrakDmqmpAU5peQDiQaUBIgWtAnvZnQGCIX0DAW2VAsz1sQJQ9akBK+mtAPMplQEjraUBvUmRAhuFmQKcVaECb2mVAoVNiQH6raUCvCmlA6u5lQLDnaUAL9GlAU2xiQG3tYUCQT2VAV/5eQKGEZ0DOUmdAWg9mQMXfX0D6/2FANRVhQCTnXkAeR2dA3j1mQGZRbEDvK2tA6QppQLa7YEBDz2RA18NkQHz2aEA5nGNAqjpiQHmRbEDgp29A5K1nQPfeZUD1gmRAviloQCnxYkAcVGtAf4tjQMo1akBpjmhAdvdlQOl7XkDBNWhAlRhtQGHCXEDe1VxAXcJeQICaZED0Cm5AK8FcQD7MZEBL9mdA9G5rQAWzakDwwWJADNBhQJPzYkB8zGVAlSliQEoxcEBjHWBAv1lfQL3VZUD+82pAPLhjQGVCYkCPImJAkQthQIY3a0C+GF5A8oVqQFsubUBQcmFANzVwQFgmbECydF9AriBpQF4CYEDjaWlAnFtlQB//XkBR12hAIAtoQDpPaUDQ6VxAlm9kQAbMXUBlqWRA5blfQHCYZkDkemRAZjljQIhYX0B+vGdA1GlnQChIYkAEomtA00ZpQPoRY0CM9mpAksNjQA4AWUAi6WhA0dRiQPqmXEDcmGFAF6dfQPD7YUAbzl5AOadiQKfoYUC13WlAWqZmQMJfY0AVAWVAUrFhQMhBZ0A4LmNAVcxpQIHYZUAJdWZAMtVjQG8EY0Ap/GNAu3hnQIrCaUBJzWBAMTxjQCbQbEC6wGVAB9xjQKm+ZUCOt2JAZvtnQEAaaEBf5GlAXu1rQAezZUCQGGNAtUhiQPcbbUDHsG1AuyBqQI7XaEDCuGxAEPVdQHGIYUAannNAc6BmQAqoZUDODWJAoa9qQF+JZEDAqWpAUDdjQKKIXUAgv2hAitFgQDNxYkDhi2ZAwf9lQE8bYkBvrmVAD+NsQCsbZkDI8mxA8u1kQErLY0AL911A5ERoQLCtZUBAdGZANMpsQPLSZ0CDVFtAmdppQIALZUDs1WdAQgFfQHsDZ0CzFmdA2ktoQLoNZ0Cub2JAqgZmQJ50aUDBMGNAWcNoQCZZYUC1DFlAQyxlQETgbEAStWJA59psQPJgY0AkG2ZACQ5kQGTEaEDUA2RA1eFjQPMBW0BQOllAu4ZgQIXZYUC5EmpAHlFnQN6rYkDoGW9AruphQGsiYEBORWxAF8xsQGXoY0CaH2JATulpQCruZkBOjWpAVHplQOIKZ0DaG2RAawNhQP76akC/d2xAFXxqQIJFbEBAbmNAnPlfQB0ZX0Cril5A3qJhQPqKZUCCJWlA8MxnQFMIXUC8V2JARatmQMsJX0D9BGFABRlnQBluaEBFFGxAvuRlQGulZkDZJ2dAsGNiQP3sYUDJSGFANt1mQGI1YECND2VAq+5kQJlyZED/pWZAvsdmQER+ZkD7eGhA0PFnQN6pXUCndF1AtRxhQAQOY0AjoWZAkGtoQLk1Z0A5rWdAvNFlQPSDX0AhsGNATD5qQIBsa0COEmdA2elhQF/yYkBK6mJAtsNeQJMVYEBNImRALJZdQJdSW0CUc2VAq3VnQFmaY0AgGl9AMWRpQLxMaEAtiV1AQldlQF7MYUD53lxARUlnQBTga0ByhGRAs5lnQE/ra0CZxmlAlKlqQIJ3a0DlxF1AbN5eQKp9bUDWdWlARUhmQK9GYkAtGmZAgiNaQNOkYkDmKWJASsVqQI0lZECgYWBAHihfQJgrZkDWXmZAQhNjQGgscECSmGpAtWpmQKhbYEBW02JAmcBtQJsNYEBkzWFAgl9lQLy3XkC4MmtAaKdmQBGWYEALql1AKQhqQKckaEDMC2lAXWFsQOohZEB8tWpAJ45mQKqBY0Asu19Aq8piQM3sXkDtxmtAJBhlQPQOZECpzWVAX6ppQG+raUAxLmNAgqtiQPV5akCNBWVAwD9nQJRFYEDRh2NAUetnQMVDZkBZumNA+EhhQDk2YUBez2pAyb9nQNbgZ0Dd42FAFoZmQDdOZ0ACX2FA9+RjQJblYkCJGWJAyANqQN7YYEAKqmxAljNfQMD4aEAjqmZArzFnQPzFbEAY62VAcLVnQEaSY0BJeGNAASduQE6PXUCA1GVAET1lQNsMZ0CloWJAIxBqQHcBY0BFGGhAy6VjQAbyYkBV72dAlO5mQJ85ZkBmumJAWdZtQFBlZUD2zmdAPwpnQGcXaEAeDGZANghnQLAcYkCCZ11AfkhgQBdIX0DvyGBAcQNfQIvsakAs1GdA9opkQIODaEDjumZAH9lmQL8CX0CqEG9A1dVjQD1sY0BhN2hAK9NkQHVIakC9NGJAiHxtQGhNZUD5QGtAtvRgQHF3ZUBhrGpA185tQJoVa0B1OWZAyr9vQFf9ZECC02JAPjpkQE41Y0AjlWVA2B1qQGlAYUBIi2ZAv+xiQNUbcEBHfW1AXodpQMNQZUBRG2lAowlqQFQ5Z0A+UmhA9d1iQH1KaUD5NGBAbTVjQFLRX0BEz2lAbIBaQI6Sa0B+DlxAP5ZjQN9qa0CLkmZA/O9pQFogbUDUZGpADd1lQKvgX0BBUmBAYyVtQCkYaEAEr2RAU4NhQJgRaUCcPmtA+89oQJOFaUD3v2dAmI9lQAX2ZEDSgmFAzRVlQPcqZ0ALqGRAPtFjQISKY0AFlWpARWRuQJToaUDh/GpAcz9lQDrwaEDBEF1AbqxsQFjuXUCGN2dAu2tkQJAgZ0DBC2RAUlluQFaBZUAYgW9AvHtoQFxOZUD7lmFAm3FlQMdlZkC/UWtA7elqQGhPZ0AOOWNAoC1qQFNoa0B3+mBAZMdiQLN7ZkAKb2JA5FBsQBbCaUDdU2ZAbQhrQOaSaEBPWl9ADDBsQGcebEBuBnBAyKlkQDi6akDUsGpAMM1jQFK5ZkCM+WRAZpRhQLxqY0BB5mhAV/1mQJfhZUAqd2JA1EdlQE/RZkAgGWlAGXBuQAcrbkASK15AgGtkQPlcZEAftWZAlipoQAsgZ0C8LG9AcmNnQA8iaEDLQmRA2clqQCoUaEB09WVAwf5qQBC3XkARAGlAa+JgQCFpYEBcLWhAYDVlQLRvakC4nmJAin5kQFx+ZEAFbmRA4NBkQHzmXUD77mpAtM1cQHfdZ0C5Y2FA3HVrQK4rZUBNgWFAzKJoQHNTYEAAnW5AcPVjQCCsZkDJ9WRADFlkQHUBZUDcoF5AlvVdQI3JX0DUHGRANwNnQP1LWUDKBm9ALfxlQJ+dZ0AN8WRAJqhlQPMqZECyMm1A0rtsQI3KXUChuGpAhXxhQH6HZUBxk2FAtCtpQECYcED0JWlA/xJoQInlZ0BkyW5AIJxgQHsGZUDQT2ZAFMZqQJN6bEBshGdA5qNgQIu5ZEDIK2dA1cBiQAb6ZkBOh2RAdCRoQDU2Y0BeomhAhFVjQHBcZkCr+mFAvAxqQOA+bUCBMmRAYoRjQF24YkD5lV5Aaj5uQN7xaEBVMWNAQANpQEzuY0A6S2lA8yJkQGgXZUDimGNAsWBjQPcTaEB1EmNAX3pmQD0JaEByXWhANdtlQAbIY0Bv4F1AcoRyQAZcaUA5FGhA+vRyQJYbY0BAxGZAHh9hQKXyaUCuQ2lAhSFnQE/9ZEBsg2hA2ARpQHu7YkCNHmBAtWdlQLspY0AHXGJAY5hlQDQEY0DNml1Ac8JdQKQ2YUCrHGZAoy5lQHYmY0AR8GlA8e1nQFvsXEAa9WRA7dpfQPHqZUAXQ2ZAvrhhQM+vYEBU3WpAAVhnQBH0a0Agq2dAu1dnQGxPaEAZ1mtAGydiQOXAY0BYf2FASWBlQKD1akAKKGxAm1ZiQCl9b0AgVGJAgytjQFnhYUBs0GRAmVpqQLlmYUDz22RAoZhjQAnEYUD4j2RAaWRjQKaeaUCcSWRAGDxnQJ1qbUB6BGhA70ZpQBdrXEDcZGZAOIxeQNfHY0BEA3BA2JJnQDqIakD5ZWFA3l9mQN3gbUBvg2VA3NBkQOLKY0CraGdAXbZnQBDUZUAsYFxAsQBmQNt4bkB/n2dANFNqQDNRZUATNGVAH0xgQCcQakBDl2lAcRFpQHz2aED8S2hAqJZsQJh6aEDVLWNAr81qQExXZEAZwWBAtXpmQNw6ZUD6DGxAz+5pQEfIZEDhCmVAmBNhQBDvaEDVg2BA3PJnQI8lZkBHK2FA8wVkQEwYaEDod2RAZi5mQLstXUAUsl9AYYJlQHBMZEAp+2lAgMhrQBebZ0BELGdAafNmQFYvaUCZk2RAdNpgQNnhbECZlmtAvl1kQLBdaEB/I2xARo1nQCJ4aUDa/mVAmZtjQENdYkAWFmNAs1VmQE+sdEDoYGRAJSZgQNX1W0Bj2mhApMNoQIgzZkANtl9A5WNfQADvbUAFwmNA9RpoQGODakAor2RAxChuQOkOY0AqD2pAxWJnQPRYY0BVjmJALsptQNRrakDuX2ZA8S9rQOJJZkCn/GRABEliQBKlZECopWdA0idqQNPNZkA/wm5AGHJqQOrZXkBQEF5A9YpnQNERbEC2519Ak/JqQAhGaEDTpGlAfNlkQMi2Z0BvX2tAtqplQJJ4aEB5AmZAQBFlQP3iYECvEGJAampiQLpLZEDpQ2ZALtZjQC1JZ0Bm0GhAtixsQK0MakDHvWNAunJoQOVRZ0AsO2RAKNRgQOSkZEDLv2VAYZZqQPOYZkCeUGdASSpkQN4BYUBdnGJAI0BiQJyTZUBS7mVAtTRfQI/ZZUBFemlAi3FtQIVhZkCG+GVAT99gQAfzZ0DGuGVAMPpqQOwEbEAJZ2FAe6BjQELDZkBW7GZAWytlQJKcYUAf02pAdmNgQKZhZkAmBF1A0ipnQPUxZkBscWZA6oFnQJAuXUAwfGZAZ+hkQDadZUB1IGlA4FNdQCX9YkCR8WBAWAJoQOVlZkD6DGtAWwFpQO4cYkAVOmlA6MxgQAe+akAYNWxALVlhQFXVZ0Ckk2tAPmhgQFpjX0AfZmtAhVpiQB92ZkDLYmNABNxnQCLdbUC4EGJAxhBpQDs/a0Bwnm5AAFVnQKwMY0DSJmNAaBdqQOANZEBIYmFAGBBoQHzuakDERGpA5LlqQL5WakAlqWJAa+dpQIjlZUDaYWFAhBdnQHWcZUC77mpA56BiQDNnZEAHFmNAYTJcQBcgYEALsWtA9V9qQJabZUDRZGdAF8BhQHixYUBES2lAxLBrQAKDXECj6mNAEgphQK5GZkCsMmdAY11vQPopaUCk22RAA6dmQAXmZ0B9GWxAkC5gQEZhYUDpBWxAMQVkQN8SY0CSgmZA115gQBJBXkCOZmdAed9lQNThZEAT+GVAYXlmQEfNY0BkKm5AvwxlQCc4YUCz6GZAPatfQNAqZEALUmBAtYprQNFXaEC8yGlAEQFlQGwzaEBvW2FAfcltQJGEXEBxUWVA81lkQHEoaUCHx2pABRJlQJTqZkDO2VxACY9rQGHvXUAkXmRA3BRlQAp3YEAXR2hArCtkQOURbEB1XGZAkUxgQOWEaEDnj2lAu9VsQGgHbkBzwWhAWjpjQOyrY0Dr8l9A5hZoQA9UaEDl4WdArjhkQPVOaECWJ2NAb69kQCuNYUA4p2RAbKpnQKSsY0BoT2dADX5iQAqCYEDDZ2NAbkdkQJnUZkDI2l9AHLdeQC7ZZ0Amy2ZA409qQLGMZ0AlfWZA7StvQGLSY0AecWdAe2xwQHUTZUDDrWdAMSZlQGECZ0AuvGlAeNVoQKALdUBUwGdAzZ1kQJwLaUDLJ2NAb2JiQEO8YEArLmZARg5pQBfJZUADV2RA80tpQNoHakBGcWJAM7NlQGAGY0B2Nl9APj9nQEZYXkCtcG1ASltjQPTcaUA7KWtAV49ZQF6vakCe82hAp/VnQJq2Z0BArm9A7UFqQC7naUB3oV5AhkFlQA==",
          "dtype": "f4"
         }
        }
       ],
       "layout": {
        "template": {
         "data": {
          "bar": [
           {
            "error_x": {
             "color": "#2a3f5f"
            },
            "error_y": {
             "color": "#2a3f5f"
            },
            "marker": {
             "line": {
              "color": "white",
              "width": 0.5
             },
             "pattern": {
              "fillmode": "overlay",
              "size": 10,
              "solidity": 0.2
             }
            },
            "type": "bar"
           }
          ],
          "barpolar": [
           {
            "marker": {
             "line": {
              "color": "white",
              "width": 0.5
             },
             "pattern": {
              "fillmode": "overlay",
              "size": 10,
              "solidity": 0.2
             }
            },
            "type": "barpolar"
           }
          ],
          "carpet": [
           {
            "aaxis": {
             "endlinecolor": "#2a3f5f",
             "gridcolor": "#C8D4E3",
             "linecolor": "#C8D4E3",
             "minorgridcolor": "#C8D4E3",
             "startlinecolor": "#2a3f5f"
            },
            "baxis": {
             "endlinecolor": "#2a3f5f",
             "gridcolor": "#C8D4E3",
             "linecolor": "#C8D4E3",
             "minorgridcolor": "#C8D4E3",
             "startlinecolor": "#2a3f5f"
            },
            "type": "carpet"
           }
          ],
          "choropleth": [
           {
            "colorbar": {
             "outlinewidth": 0,
             "ticks": ""
            },
            "type": "choropleth"
           }
          ],
          "contour": [
           {
            "colorbar": {
             "outlinewidth": 0,
             "ticks": ""
            },
            "colorscale": [
             [
              0,
              "#0d0887"
             ],
             [
              0.1111111111111111,
              "#46039f"
             ],
             [
              0.2222222222222222,
              "#7201a8"
             ],
             [
              0.3333333333333333,
              "#9c179e"
             ],
             [
              0.4444444444444444,
              "#bd3786"
             ],
             [
              0.5555555555555556,
              "#d8576b"
             ],
             [
              0.6666666666666666,
              "#ed7953"
             ],
             [
              0.7777777777777778,
              "#fb9f3a"
             ],
             [
              0.8888888888888888,
              "#fdca26"
             ],
             [
              1,
              "#f0f921"
             ]
            ],
            "type": "contour"
           }
          ],
          "contourcarpet": [
           {
            "colorbar": {
             "outlinewidth": 0,
             "ticks": ""
            },
            "type": "contourcarpet"
           }
          ],
          "heatmap": [
           {
            "colorbar": {
             "outlinewidth": 0,
             "ticks": ""
            },
            "colorscale": [
             [
              0,
              "#0d0887"
             ],
             [
              0.1111111111111111,
              "#46039f"
             ],
             [
              0.2222222222222222,
              "#7201a8"
             ],
             [
              0.3333333333333333,
              "#9c179e"
             ],
             [
              0.4444444444444444,
              "#bd3786"
             ],
             [
              0.5555555555555556,
              "#d8576b"
             ],
             [
              0.6666666666666666,
              "#ed7953"
             ],
             [
              0.7777777777777778,
              "#fb9f3a"
             ],
             [
              0.8888888888888888,
              "#fdca26"
             ],
             [
              1,
              "#f0f921"
             ]
            ],
            "type": "heatmap"
           }
          ],
          "histogram": [
           {
            "marker": {
             "pattern": {
              "fillmode": "overlay",
              "size": 10,
              "solidity": 0.2
             }
            },
            "type": "histogram"
           }
          ],
          "histogram2d": [
           {
            "colorbar": {
             "outlinewidth": 0,
             "ticks": ""
            },
            "colorscale": [
             [
              0,
              "#0d0887"
             ],
             [
              0.1111111111111111,
              "#46039f"
             ],
             [
              0.2222222222222222,
              "#7201a8"
             ],
             [
              0.3333333333333333,
              "#9c179e"
             ],
             [
              0.4444444444444444,
              "#bd3786"
             ],
             [
              0.5555555555555556,
              "#d8576b"
             ],
             [
              0.6666666666666666,
              "#ed7953"
             ],
             [
              0.7777777777777778,
              "#fb9f3a"
             ],
             [
              0.8888888888888888,
              "#fdca26"
             ],
             [
              1,
              "#f0f921"
             ]
            ],
            "type": "histogram2d"
           }
          ],
          "histogram2dcontour": [
           {
            "colorbar": {
             "outlinewidth": 0,
             "ticks": ""
            },
            "colorscale": [
             [
              0,
              "#0d0887"
             ],
             [
              0.1111111111111111,
              "#46039f"
             ],
             [
              0.2222222222222222,
              "#7201a8"
             ],
             [
              0.3333333333333333,
              "#9c179e"
             ],
             [
              0.4444444444444444,
              "#bd3786"
             ],
             [
              0.5555555555555556,
              "#d8576b"
             ],
             [
              0.6666666666666666,
              "#ed7953"
             ],
             [
              0.7777777777777778,
              "#fb9f3a"
             ],
             [
              0.8888888888888888,
              "#fdca26"
             ],
             [
              1,
              "#f0f921"
             ]
            ],
            "type": "histogram2dcontour"
           }
          ],
          "mesh3d": [
           {
            "colorbar": {
             "outlinewidth": 0,
             "ticks": ""
            },
            "type": "mesh3d"
           }
          ],
          "parcoords": [
           {
            "line": {
             "colorbar": {
              "outlinewidth": 0,
              "ticks": ""
             }
            },
            "type": "parcoords"
           }
          ],
          "pie": [
           {
            "automargin": true,
            "type": "pie"
           }
          ],
          "scatter": [
           {
            "fillpattern": {
             "fillmode": "overlay",
             "size": 10,
             "solidity": 0.2
            },
            "type": "scatter"
           }
          ],
          "scatter3d": [
           {
            "line": {
             "colorbar": {
              "outlinewidth": 0,
              "ticks": ""
             }
            },
            "marker": {
             "colorbar": {
              "outlinewidth": 0,
              "ticks": ""
             }
            },
            "type": "scatter3d"
           }
          ],
          "scattercarpet": [
           {
            "marker": {
             "colorbar": {
              "outlinewidth": 0,
              "ticks": ""
             }
            },
            "type": "scattercarpet"
           }
          ],
          "scattergeo": [
           {
            "marker": {
             "colorbar": {
              "outlinewidth": 0,
              "ticks": ""
             }
            },
            "type": "scattergeo"
           }
          ],
          "scattergl": [
           {
            "marker": {
             "colorbar": {
              "outlinewidth": 0,
              "ticks": ""
             }
            },
            "type": "scattergl"
           }
          ],
          "scattermap": [
           {
            "marker": {
             "colorbar": {
              "outlinewidth": 0,
              "ticks": ""
             }
            },
            "type": "scattermap"
           }
          ],
          "scattermapbox": [
           {
            "marker": {
             "colorbar": {
              "outlinewidth": 0,
              "ticks": ""
             }
            },
            "type": "scattermapbox"
           }
          ],
          "scatterpolar": [
           {
            "marker": {
             "colorbar": {
              "outlinewidth": 0,
              "ticks": ""
             }
            },
            "type": "scatterpolar"
           }
          ],
          "scatterpolargl": [
           {
            "marker": {
             "colorbar": {
              "outlinewidth": 0,
              "ticks": ""
             }
            },
            "type": "scatterpolargl"
           }
          ],
          "scatterternary": [
           {
            "marker": {
             "colorbar": {
              "outlinewidth": 0,
              "ticks": ""
             }
            },
            "type": "scatterternary"
           }
          ],
          "surface": [
           {
            "colorbar": {
             "outlinewidth": 0,
             "ticks": ""
            },
            "colorscale": [
             [
              0,
              "#0d0887"
             ],
             [
              0.1111111111111111,
              "#46039f"
             ],
             [
              0.2222222222222222,
              "#7201a8"
             ],
             [
              0.3333333333333333,
              "#9c179e"
             ],
             [
              0.4444444444444444,
              "#bd3786"
             ],
             [
              0.5555555555555556,
              "#d8576b"
             ],
             [
              0.6666666666666666,
              "#ed7953"
             ],
             [
              0.7777777777777778,
              "#fb9f3a"
             ],
             [
              0.8888888888888888,
              "#fdca26"
             ],
             [
              1,
              "#f0f921"
             ]
            ],
            "type": "surface"
           }
          ],
          "table": [
           {
            "cells": {
             "fill": {
              "color": "#EBF0F8"
             },
             "line": {
              "color": "white"
             }
            },
            "header": {
             "fill": {
              "color": "#C8D4E3"
             },
             "line": {
              "color": "white"
             }
            },
            "type": "table"
           }
          ]
         },
         "layout": {
          "annotationdefaults": {
           "arrowcolor": "#2a3f5f",
           "arrowhead": 0,
           "arrowwidth": 1
          },
          "autotypenumbers": "strict",
          "coloraxis": {
           "colorbar": {
            "outlinewidth": 0,
            "ticks": ""
           }
          },
          "colorscale": {
           "diverging": [
            [
             0,
             "#8e0152"
            ],
            [
             0.1,
             "#c51b7d"
            ],
            [
             0.2,
             "#de77ae"
            ],
            [
             0.3,
             "#f1b6da"
            ],
            [
             0.4,
             "#fde0ef"
            ],
            [
             0.5,
             "#f7f7f7"
            ],
            [
             0.6,
             "#e6f5d0"
            ],
            [
             0.7,
             "#b8e186"
            ],
            [
             0.8,
             "#7fbc41"
            ],
            [
             0.9,
             "#4d9221"
            ],
            [
             1,
             "#276419"
            ]
           ],
           "sequential": [
            [
             0,
             "#0d0887"
            ],
            [
             0.1111111111111111,
             "#46039f"
            ],
            [
             0.2222222222222222,
             "#7201a8"
            ],
            [
             0.3333333333333333,
             "#9c179e"
            ],
            [
             0.4444444444444444,
             "#bd3786"
            ],
            [
             0.5555555555555556,
             "#d8576b"
            ],
            [
             0.6666666666666666,
             "#ed7953"
            ],
            [
             0.7777777777777778,
             "#fb9f3a"
            ],
            [
             0.8888888888888888,
             "#fdca26"
            ],
            [
             1,
             "#f0f921"
            ]
           ],
           "sequentialminus": [
            [
             0,
             "#0d0887"
            ],
            [
             0.1111111111111111,
             "#46039f"
            ],
            [
             0.2222222222222222,
             "#7201a8"
            ],
            [
             0.3333333333333333,
             "#9c179e"
            ],
            [
             0.4444444444444444,
             "#bd3786"
            ],
            [
             0.5555555555555556,
             "#d8576b"
            ],
            [
             0.6666666666666666,
             "#ed7953"
            ],
            [
             0.7777777777777778,
             "#fb9f3a"
            ],
            [
             0.8888888888888888,
             "#fdca26"
            ],
            [
             1,
             "#f0f921"
            ]
           ]
          },
          "colorway": [
           "#636efa",
           "#EF553B",
           "#00cc96",
           "#ab63fa",
           "#FFA15A",
           "#19d3f3",
           "#FF6692",
           "#B6E880",
           "#FF97FF",
           "#FECB52"
          ],
          "font": {
           "color": "#2a3f5f"
          },
          "geo": {
           "bgcolor": "white",
           "lakecolor": "white",
           "landcolor": "white",
           "showlakes": true,
           "showland": true,
           "subunitcolor": "#C8D4E3"
          },
          "hoverlabel": {
           "align": "left"
          },
          "hovermode": "closest",
          "mapbox": {
           "style": "light"
          },
          "paper_bgcolor": "white",
          "plot_bgcolor": "white",
          "polar": {
           "angularaxis": {
            "gridcolor": "#EBF0F8",
            "linecolor": "#EBF0F8",
            "ticks": ""
           },
           "bgcolor": "white",
           "radialaxis": {
            "gridcolor": "#EBF0F8",
            "linecolor": "#EBF0F8",
            "ticks": ""
           }
          },
          "scene": {
           "xaxis": {
            "backgroundcolor": "white",
            "gridcolor": "#DFE8F3",
            "gridwidth": 2,
            "linecolor": "#EBF0F8",
            "showbackground": true,
            "ticks": "",
            "zerolinecolor": "#EBF0F8"
           },
           "yaxis": {
            "backgroundcolor": "white",
            "gridcolor": "#DFE8F3",
            "gridwidth": 2,
            "linecolor": "#EBF0F8",
            "showbackground": true,
            "ticks": "",
            "zerolinecolor": "#EBF0F8"
           },
           "zaxis": {
            "backgroundcolor": "white",
            "gridcolor": "#DFE8F3",
            "gridwidth": 2,
            "linecolor": "#EBF0F8",
            "showbackground": true,
            "ticks": "",
            "zerolinecolor": "#EBF0F8"
           }
          },
          "shapedefaults": {
           "line": {
            "color": "#2a3f5f"
           }
          },
          "ternary": {
           "aaxis": {
            "gridcolor": "#DFE8F3",
            "linecolor": "#A2B1C6",
            "ticks": ""
           },
           "baxis": {
            "gridcolor": "#DFE8F3",
            "linecolor": "#A2B1C6",
            "ticks": ""
           },
           "bgcolor": "white",
           "caxis": {
            "gridcolor": "#DFE8F3",
            "linecolor": "#A2B1C6",
            "ticks": ""
           }
          },
          "title": {
           "x": 0.05
          },
          "xaxis": {
           "automargin": true,
           "gridcolor": "#EBF0F8",
           "linecolor": "#EBF0F8",
           "ticks": "",
           "title": {
            "standoff": 15
           },
           "zerolinecolor": "#EBF0F8",
           "zerolinewidth": 2
          },
          "yaxis": {
           "automargin": true,
           "gridcolor": "#EBF0F8",
           "linecolor": "#EBF0F8",
           "ticks": "",
           "title": {
            "standoff": 15
           },
           "zerolinecolor": "#EBF0F8",
           "zerolinewidth": 2
          }
         }
        },
        "title": {
         "text": "Domain Widths Comparison"
        },
        "xaxis": {
         "title": {
          "text": "Domain Index"
         }
        },
        "yaxis": {
         "title": {
          "text": "Width (μm)"
         }
        }
       }
      }
     },
     "metadata": {},
     "output_type": "display_data"
    },
    {
     "data": {
      "application/vnd.plotly.v1+json": {
       "config": {
        "plotlyServerURL": "https://plot.ly"
       },
       "data": [
        {
         "line": {
          "dash": "dash"
         },
         "mode": "lines",
         "name": "Initial",
         "type": "scatter",
         "x": {
          "bdata": "CteDPyzXgz9O14M/b9eDP5DXgz+y14M/1NeDP/XXgz8X2IM/OdiDP1rYgz982IM/ndiDP7/Ygz/h2IM/AtmDPyTZgz9G2YM/Z9mDP4nZgz+q2YM/zNmDP+7Zgz8P2oM/MdqDP1Pagz902oM/ltqDP7fagz/Z2oM/+9qDPxzbgz8+24M/YNuDP4Hbgz+i24M/xduDP+bbgz8H3IM/KtyDP0vcgz9s3IM/jtyDP7Dcgz/R3IM/89yDPxXdgz823YM/WN2DP3ndgz+b3YM/vd2DP97dgz8A3oM/It6DP0Pegz9l3oM/ht6DP6jegz/K3oM/696DPw3fgz8v34M/UN+DP3Lfgz+T34M/td+DP9ffgz/434M/GuCDPzzggz9d4IM/fuCDP6Hggz/C4IM/4+CDPwbhgz8n4YM/SOGDP2rhgz+M4YM/reGDP8/hgz/x4YM/EuKDPzTigz9V4oM/d+KDP5nigz+64oM/3OKDP/7igz8f44M/QeODP2Ljgz+E44M/puODP8fjgz/p44M/C+SDPyzkgz9O5IM/b+SDP5Hkgz+y5IM/1OSDP/bkgz8Y5YM/OeWDP1rlgz995YM/nuWDP7/lgz/i5YM/A+aDPyTmgz9G5oM/aOaDP4nmgz+r5oM/zOaDP+7mgz8Q54M/MeeDP1Pngz9154M/lueDP7jngz/a54M/++eDPx3ogz8+6IM/YOiDP4Logz+j6IM/xeiDP+fogz8I6YM/KumDP0vpgz9t6YM/jumDP7Dpgz/R6YM/9OmDPxXqgz826oM/WeqDP3rqgz+b6oM/veqDP9/qgz8A64M/IuuDP0Trgz9l64M/h+uDP6jrgz/K64M/7OuDPw3sgz8v7IM/UeyDP3Lsgz+U7IM/teyDP9fsgz/57IM/Gu2DPzztgz9e7YM/f+2DP6Htgz/C7YM/5O2DPwbugz8n7oM/Se6DP2rugz+M7oM/re6DP8/ugz/x7oM/Eu+DPzXvgz9W74M/d++DP5nvgz+774M/3O+DP/7vgz8g8IM/QfCDP2Pwgz+E8IM/pvCDP8jwgz/p8IM/C/GDPy3xgz9O8YM/b/GDP5Hxgz+z8YM/1fGDP/bxgz8Y8oM/OvKDP1vygz998oM/nvKDP8Dygz/i8oM/A/ODPyXzgz9G84M/aPODP4nzgz+r84M/zfODP+7zgz8R9IM/MvSDP1P0gz919IM/l/SDP7j0gz/a9IM//PSDPx31gz8/9YM/YPWDP4L1gz+k9YM/xfWDP+f1gz8J9oM/KvaDP0v2gz9t9oM/j/aDP7H2gz/S9oM/9PaDPxb3gz8394M/WfeDP3r3gz+c94M/vveDP9/3gz8B+IM/IviDP0T4gz9m+IM/h/iDP6n4gz/L+IM/7PiDPw75gz8v+YM/UfmDP3P5gz+U+YM/tvmDP9j5gz/5+YM/G/qDPzz6gz9e+oM/f/qDP6H6gz/D+oM/5PqDPwb7gz8o+4M/SfuDP2v7gz+M+4M/rvuDP9D7gz/x+4M/E/yDPzX8gz9W/IM/ePyDP5n8gz+7/IM/3fyDP/78gz8g/YM/Qv2DP2P9gz+F/YM/p/2DP8j9gz/q/YM/C/6DPy3+gz9P/oM/cP6DP5L+gz+0/oM/1f6DP/f+gz8Y/4M/Ov+DP1v/gz99/4M/n/+DP8D/gz/i/4M/BACEPyUAhD9HAIQ/aACEP4oAhD+sAIQ/zQCEP+8AhD8RAYQ/MgGEP1QBhD91AYQ/lwGEP7kBhD/aAYQ//AGEPx4ChD8/AoQ/YQKEP4IChD+kAoQ/xgKEP+cChD8JA4Q/KwOEP0wDhD9uA4Q/kAOEP7EDhD/TA4Q/9AOEPxYEhD83BIQ/WQSEP3sEhD+cBIQ/vgSEP+AEhD8BBYQ/IwWEP0QFhD9mBYQ/iAWEP6kFhD/LBYQ/7AWEPw4GhD8wBoQ/UQaEP3MGhD+VBoQ/tgaEP9gGhD/6BoQ/GweEPz0HhD9eB4Q/gAeEP6IHhD/DB4Q/5QeEPwcIhD8oCIQ/SgiEP2sIhD+NCIQ/rwiEP9AIhD/yCIQ/EwmEPzUJhD9XCYQ/eAmEP5oJhD+8CYQ/3QmEP/8JhD8gCoQ/QgqEP2QKhD+FCoQ/pwqEP8kKhD/qCoQ/DAuEPy0LhD9PC4Q/cQuEP5ILhD+0C4Q/1QuEP/cLhD8ZDIQ/OgyEP1wMhD9+DIQ/nwyEP8EMhD/iDIQ/BA2EPyYNhD9HDYQ/aQ2EP4sNhD+sDYQ/zg2EP+8NhD8RDoQ/Mw6EP1QOhD92DoQ/mA6EP7kOhD/bDoQ//A6EPx4PhD9AD4Q/YQ+EP4MPhD+lD4Q/xg+EP+gPhD8JEIQ/KxCEP00QhD9uEIQ/kBCEP7IQhD/TEIQ/9RCEPxYRhD84EYQ/WhGEP3sRhD+dEYQ/vhGEP+ARhD8CEoQ/IxKEP0UShD9nEoQ/iBKEP6oShD/LEoQ/7RKEPw8ThD8wE4Q/UhOEP3QThD+VE4Q/txOEP9gThD/6E4Q/HBSEPz0UhD9fFIQ/gBSEP6IUhD/EFIQ/5RSEPwcVhD8pFYQ/ShWEP2wVhD+NFYQ/rxWEP9EVhD/yFYQ/FBaEPzYWhD9XFoQ/eRaEP5oWhD+8FoQ/3haEP/8WhD8hF4Q/QxeEP2QXhD+GF4Q/pxeEP8kXhD/rF4Q/DBiEPy4YhD9PGIQ/cRiEP5MYhD8=",
          "dtype": "f4"
         },
         "y": {
          "bdata": "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",
          "dtype": "f4"
         }
        },
        {
         "line": {
          "dash": "dot"
         },
         "mode": "lines",
         "name": "Periodic",
         "type": "scatter",
         "x": {
          "bdata": "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",
          "dtype": "f4"
         },
         "y": {
          "bdata": "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",
          "dtype": "f4"
         }
        },
        {
         "mode": "lines",
         "name": "Optimized",
         "type": "scatter",
         "x": {
          "bdata": "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",
          "dtype": "f4"
         },
         "y": {
          "bdata": "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",
          "dtype": "f4"
         }
        }
       ],
       "layout": {
        "annotations": [
         {
          "showarrow": false,
          "text": "Target Power",
          "x": 1,
          "xanchor": "right",
          "xref": "x domain",
          "y": 20,
          "yanchor": "bottom",
          "yref": "y"
         },
         {
          "showarrow": false,
          "text": "Target Region",
          "x": 1.0308,
          "xanchor": "left",
          "xref": "x",
          "y": 1,
          "yanchor": "top",
          "yref": "y domain"
         }
        ],
        "shapes": [
         {
          "line": {
           "color": "green",
           "dash": "dash",
           "width": 2
          },
          "type": "line",
          "x0": 0,
          "x1": 1,
          "xref": "x domain",
          "y0": 20,
          "y1": 20,
          "yref": "y"
         },
         {
          "fillcolor": "red",
          "line": {
           "width": 0
          },
          "opacity": 0.1,
          "type": "rect",
          "x0": 1.0308,
          "x1": 1.0312,
          "xref": "x",
          "y0": 0,
          "y1": 1,
          "yref": "y domain"
         }
        ],
        "template": {
         "data": {
          "bar": [
           {
            "error_x": {
             "color": "#2a3f5f"
            },
            "error_y": {
             "color": "#2a3f5f"
            },
            "marker": {
             "line": {
              "color": "white",
              "width": 0.5
             },
             "pattern": {
              "fillmode": "overlay",
              "size": 10,
              "solidity": 0.2
             }
            },
            "type": "bar"
           }
          ],
          "barpolar": [
           {
            "marker": {
             "line": {
              "color": "white",
              "width": 0.5
             },
             "pattern": {
              "fillmode": "overlay",
              "size": 10,
              "solidity": 0.2
             }
            },
            "type": "barpolar"
           }
          ],
          "carpet": [
           {
            "aaxis": {
             "endlinecolor": "#2a3f5f",
             "gridcolor": "#C8D4E3",
             "linecolor": "#C8D4E3",
             "minorgridcolor": "#C8D4E3",
             "startlinecolor": "#2a3f5f"
            },
            "baxis": {
             "endlinecolor": "#2a3f5f",
             "gridcolor": "#C8D4E3",
             "linecolor": "#C8D4E3",
             "minorgridcolor": "#C8D4E3",
             "startlinecolor": "#2a3f5f"
            },
            "type": "carpet"
           }
          ],
          "choropleth": [
           {
            "colorbar": {
             "outlinewidth": 0,
             "ticks": ""
            },
            "type": "choropleth"
           }
          ],
          "contour": [
           {
            "colorbar": {
             "outlinewidth": 0,
             "ticks": ""
            },
            "colorscale": [
             [
              0,
              "#0d0887"
             ],
             [
              0.1111111111111111,
              "#46039f"
             ],
             [
              0.2222222222222222,
              "#7201a8"
             ],
             [
              0.3333333333333333,
              "#9c179e"
             ],
             [
              0.4444444444444444,
              "#bd3786"
             ],
             [
              0.5555555555555556,
              "#d8576b"
             ],
             [
              0.6666666666666666,
              "#ed7953"
             ],
             [
              0.7777777777777778,
              "#fb9f3a"
             ],
             [
              0.8888888888888888,
              "#fdca26"
             ],
             [
              1,
              "#f0f921"
             ]
            ],
            "type": "contour"
           }
          ],
          "contourcarpet": [
           {
            "colorbar": {
             "outlinewidth": 0,
             "ticks": ""
            },
            "type": "contourcarpet"
           }
          ],
          "heatmap": [
           {
            "colorbar": {
             "outlinewidth": 0,
             "ticks": ""
            },
            "colorscale": [
             [
              0,
              "#0d0887"
             ],
             [
              0.1111111111111111,
              "#46039f"
             ],
             [
              0.2222222222222222,
              "#7201a8"
             ],
             [
              0.3333333333333333,
              "#9c179e"
             ],
             [
              0.4444444444444444,
              "#bd3786"
             ],
             [
              0.5555555555555556,
              "#d8576b"
             ],
             [
              0.6666666666666666,
              "#ed7953"
             ],
             [
              0.7777777777777778,
              "#fb9f3a"
             ],
             [
              0.8888888888888888,
              "#fdca26"
             ],
             [
              1,
              "#f0f921"
             ]
            ],
            "type": "heatmap"
           }
          ],
          "histogram": [
           {
            "marker": {
             "pattern": {
              "fillmode": "overlay",
              "size": 10,
              "solidity": 0.2
             }
            },
            "type": "histogram"
           }
          ],
          "histogram2d": [
           {
            "colorbar": {
             "outlinewidth": 0,
             "ticks": ""
            },
            "colorscale": [
             [
              0,
              "#0d0887"
             ],
             [
              0.1111111111111111,
              "#46039f"
             ],
             [
              0.2222222222222222,
              "#7201a8"
             ],
             [
              0.3333333333333333,
              "#9c179e"
             ],
             [
              0.4444444444444444,
              "#bd3786"
             ],
             [
              0.5555555555555556,
              "#d8576b"
             ],
             [
              0.6666666666666666,
              "#ed7953"
             ],
             [
              0.7777777777777778,
              "#fb9f3a"
             ],
             [
              0.8888888888888888,
              "#fdca26"
             ],
             [
              1,
              "#f0f921"
             ]
            ],
            "type": "histogram2d"
           }
          ],
          "histogram2dcontour": [
           {
            "colorbar": {
             "outlinewidth": 0,
             "ticks": ""
            },
            "colorscale": [
             [
              0,
              "#0d0887"
             ],
             [
              0.1111111111111111,
              "#46039f"
             ],
             [
              0.2222222222222222,
              "#7201a8"
             ],
             [
              0.3333333333333333,
              "#9c179e"
             ],
             [
              0.4444444444444444,
              "#bd3786"
             ],
             [
              0.5555555555555556,
              "#d8576b"
             ],
             [
              0.6666666666666666,
              "#ed7953"
             ],
             [
              0.7777777777777778,
              "#fb9f3a"
             ],
             [
              0.8888888888888888,
              "#fdca26"
             ],
             [
              1,
              "#f0f921"
             ]
            ],
            "type": "histogram2dcontour"
           }
          ],
          "mesh3d": [
           {
            "colorbar": {
             "outlinewidth": 0,
             "ticks": ""
            },
            "type": "mesh3d"
           }
          ],
          "parcoords": [
           {
            "line": {
             "colorbar": {
              "outlinewidth": 0,
              "ticks": ""
             }
            },
            "type": "parcoords"
           }
          ],
          "pie": [
           {
            "automargin": true,
            "type": "pie"
           }
          ],
          "scatter": [
           {
            "fillpattern": {
             "fillmode": "overlay",
             "size": 10,
             "solidity": 0.2
            },
            "type": "scatter"
           }
          ],
          "scatter3d": [
           {
            "line": {
             "colorbar": {
              "outlinewidth": 0,
              "ticks": ""
             }
            },
            "marker": {
             "colorbar": {
              "outlinewidth": 0,
              "ticks": ""
             }
            },
            "type": "scatter3d"
           }
          ],
          "scattercarpet": [
           {
            "marker": {
             "colorbar": {
              "outlinewidth": 0,
              "ticks": ""
             }
            },
            "type": "scattercarpet"
           }
          ],
          "scattergeo": [
           {
            "marker": {
             "colorbar": {
              "outlinewidth": 0,
              "ticks": ""
             }
            },
            "type": "scattergeo"
           }
          ],
          "scattergl": [
           {
            "marker": {
             "colorbar": {
              "outlinewidth": 0,
              "ticks": ""
             }
            },
            "type": "scattergl"
           }
          ],
          "scattermap": [
           {
            "marker": {
             "colorbar": {
              "outlinewidth": 0,
              "ticks": ""
             }
            },
            "type": "scattermap"
           }
          ],
          "scattermapbox": [
           {
            "marker": {
             "colorbar": {
              "outlinewidth": 0,
              "ticks": ""
             }
            },
            "type": "scattermapbox"
           }
          ],
          "scatterpolar": [
           {
            "marker": {
             "colorbar": {
              "outlinewidth": 0,
              "ticks": ""
             }
            },
            "type": "scatterpolar"
           }
          ],
          "scatterpolargl": [
           {
            "marker": {
             "colorbar": {
              "outlinewidth": 0,
              "ticks": ""
             }
            },
            "type": "scatterpolargl"
           }
          ],
          "scatterternary": [
           {
            "marker": {
             "colorbar": {
              "outlinewidth": 0,
              "ticks": ""
             }
            },
            "type": "scatterternary"
           }
          ],
          "surface": [
           {
            "colorbar": {
             "outlinewidth": 0,
             "ticks": ""
            },
            "colorscale": [
             [
              0,
              "#0d0887"
             ],
             [
              0.1111111111111111,
              "#46039f"
             ],
             [
              0.2222222222222222,
              "#7201a8"
             ],
             [
              0.3333333333333333,
              "#9c179e"
             ],
             [
              0.4444444444444444,
              "#bd3786"
             ],
             [
              0.5555555555555556,
              "#d8576b"
             ],
             [
              0.6666666666666666,
              "#ed7953"
             ],
             [
              0.7777777777777778,
              "#fb9f3a"
             ],
             [
              0.8888888888888888,
              "#fdca26"
             ],
             [
              1,
              "#f0f921"
             ]
            ],
            "type": "surface"
           }
          ],
          "table": [
           {
            "cells": {
             "fill": {
              "color": "#EBF0F8"
             },
             "line": {
              "color": "white"
             }
            },
            "header": {
             "fill": {
              "color": "#C8D4E3"
             },
             "line": {
              "color": "white"
             }
            },
            "type": "table"
           }
          ]
         },
         "layout": {
          "annotationdefaults": {
           "arrowcolor": "#2a3f5f",
           "arrowhead": 0,
           "arrowwidth": 1
          },
          "autotypenumbers": "strict",
          "coloraxis": {
           "colorbar": {
            "outlinewidth": 0,
            "ticks": ""
           }
          },
          "colorscale": {
           "diverging": [
            [
             0,
             "#8e0152"
            ],
            [
             0.1,
             "#c51b7d"
            ],
            [
             0.2,
             "#de77ae"
            ],
            [
             0.3,
             "#f1b6da"
            ],
            [
             0.4,
             "#fde0ef"
            ],
            [
             0.5,
             "#f7f7f7"
            ],
            [
             0.6,
             "#e6f5d0"
            ],
            [
             0.7,
             "#b8e186"
            ],
            [
             0.8,
             "#7fbc41"
            ],
            [
             0.9,
             "#4d9221"
            ],
            [
             1,
             "#276419"
            ]
           ],
           "sequential": [
            [
             0,
             "#0d0887"
            ],
            [
             0.1111111111111111,
             "#46039f"
            ],
            [
             0.2222222222222222,
             "#7201a8"
            ],
            [
             0.3333333333333333,
             "#9c179e"
            ],
            [
             0.4444444444444444,
             "#bd3786"
            ],
            [
             0.5555555555555556,
             "#d8576b"
            ],
            [
             0.6666666666666666,
             "#ed7953"
            ],
            [
             0.7777777777777778,
             "#fb9f3a"
            ],
            [
             0.8888888888888888,
             "#fdca26"
            ],
            [
             1,
             "#f0f921"
            ]
           ],
           "sequentialminus": [
            [
             0,
             "#0d0887"
            ],
            [
             0.1111111111111111,
             "#46039f"
            ],
            [
             0.2222222222222222,
             "#7201a8"
            ],
            [
             0.3333333333333333,
             "#9c179e"
            ],
            [
             0.4444444444444444,
             "#bd3786"
            ],
            [
             0.5555555555555556,
             "#d8576b"
            ],
            [
             0.6666666666666666,
             "#ed7953"
            ],
            [
             0.7777777777777778,
             "#fb9f3a"
            ],
            [
             0.8888888888888888,
             "#fdca26"
            ],
            [
             1,
             "#f0f921"
            ]
           ]
          },
          "colorway": [
           "#636efa",
           "#EF553B",
           "#00cc96",
           "#ab63fa",
           "#FFA15A",
           "#19d3f3",
           "#FF6692",
           "#B6E880",
           "#FF97FF",
           "#FECB52"
          ],
          "font": {
           "color": "#2a3f5f"
          },
          "geo": {
           "bgcolor": "white",
           "lakecolor": "white",
           "landcolor": "white",
           "showlakes": true,
           "showland": true,
           "subunitcolor": "#C8D4E3"
          },
          "hoverlabel": {
           "align": "left"
          },
          "hovermode": "closest",
          "mapbox": {
           "style": "light"
          },
          "paper_bgcolor": "white",
          "plot_bgcolor": "white",
          "polar": {
           "angularaxis": {
            "gridcolor": "#EBF0F8",
            "linecolor": "#EBF0F8",
            "ticks": ""
           },
           "bgcolor": "white",
           "radialaxis": {
            "gridcolor": "#EBF0F8",
            "linecolor": "#EBF0F8",
            "ticks": ""
           }
          },
          "scene": {
           "xaxis": {
            "backgroundcolor": "white",
            "gridcolor": "#DFE8F3",
            "gridwidth": 2,
            "linecolor": "#EBF0F8",
            "showbackground": true,
            "ticks": "",
            "zerolinecolor": "#EBF0F8"
           },
           "yaxis": {
            "backgroundcolor": "white",
            "gridcolor": "#DFE8F3",
            "gridwidth": 2,
            "linecolor": "#EBF0F8",
            "showbackground": true,
            "ticks": "",
            "zerolinecolor": "#EBF0F8"
           },
           "zaxis": {
            "backgroundcolor": "white",
            "gridcolor": "#DFE8F3",
            "gridwidth": 2,
            "linecolor": "#EBF0F8",
            "showbackground": true,
            "ticks": "",
            "zerolinecolor": "#EBF0F8"
           }
          },
          "shapedefaults": {
           "line": {
            "color": "#2a3f5f"
           }
          },
          "ternary": {
           "aaxis": {
            "gridcolor": "#DFE8F3",
            "linecolor": "#A2B1C6",
            "ticks": ""
           },
           "baxis": {
            "gridcolor": "#DFE8F3",
            "linecolor": "#A2B1C6",
            "ticks": ""
           },
           "bgcolor": "white",
           "caxis": {
            "gridcolor": "#DFE8F3",
            "linecolor": "#A2B1C6",
            "ticks": ""
           }
          },
          "title": {
           "x": 0.05
          },
          "xaxis": {
           "automargin": true,
           "gridcolor": "#EBF0F8",
           "linecolor": "#EBF0F8",
           "ticks": "",
           "title": {
            "standoff": 15
           },
           "zerolinecolor": "#EBF0F8",
           "zerolinewidth": 2
          },
          "yaxis": {
           "automargin": true,
           "gridcolor": "#EBF0F8",
           "linecolor": "#EBF0F8",
           "ticks": "",
           "title": {
            "standoff": 15
           },
           "zerolinecolor": "#EBF0F8",
           "zerolinewidth": 2
          }
         }
        },
        "title": {
         "text": "SHG Efficiency Spectrum Comparison"
        },
        "xaxis": {
         "title": {
          "text": "Fundamental Wavelength (μm)"
         }
        },
        "yaxis": {
         "title": {
          "text": "SHW Efficiency (%/W)"
         }
        }
       }
      }
     },
     "metadata": {},
     "output_type": "display_data"
    },
    {
     "data": {
      "application/vnd.plotly.v1+json": {
       "config": {
        "plotlyServerURL": "https://plot.ly"
       },
       "data": [
        {
         "mode": "lines",
         "name": "Loss",
         "type": "scatter",
         "y": {
          "bdata": "wUsAPvCn3T3bMTw9IJ4ePU5vFT1vygI9dOXFPKY7RTxAdBY8r4z7Ow==",
          "dtype": "f4"
         }
        }
       ],
       "layout": {
        "template": {
         "data": {
          "bar": [
           {
            "error_x": {
             "color": "#2a3f5f"
            },
            "error_y": {
             "color": "#2a3f5f"
            },
            "marker": {
             "line": {
              "color": "white",
              "width": 0.5
             },
             "pattern": {
              "fillmode": "overlay",
              "size": 10,
              "solidity": 0.2
             }
            },
            "type": "bar"
           }
          ],
          "barpolar": [
           {
            "marker": {
             "line": {
              "color": "white",
              "width": 0.5
             },
             "pattern": {
              "fillmode": "overlay",
              "size": 10,
              "solidity": 0.2
             }
            },
            "type": "barpolar"
           }
          ],
          "carpet": [
           {
            "aaxis": {
             "endlinecolor": "#2a3f5f",
             "gridcolor": "#C8D4E3",
             "linecolor": "#C8D4E3",
             "minorgridcolor": "#C8D4E3",
             "startlinecolor": "#2a3f5f"
            },
            "baxis": {
             "endlinecolor": "#2a3f5f",
             "gridcolor": "#C8D4E3",
             "linecolor": "#C8D4E3",
             "minorgridcolor": "#C8D4E3",
             "startlinecolor": "#2a3f5f"
            },
            "type": "carpet"
           }
          ],
          "choropleth": [
           {
            "colorbar": {
             "outlinewidth": 0,
             "ticks": ""
            },
            "type": "choropleth"
           }
          ],
          "contour": [
           {
            "colorbar": {
             "outlinewidth": 0,
             "ticks": ""
            },
            "colorscale": [
             [
              0,
              "#0d0887"
             ],
             [
              0.1111111111111111,
              "#46039f"
             ],
             [
              0.2222222222222222,
              "#7201a8"
             ],
             [
              0.3333333333333333,
              "#9c179e"
             ],
             [
              0.4444444444444444,
              "#bd3786"
             ],
             [
              0.5555555555555556,
              "#d8576b"
             ],
             [
              0.6666666666666666,
              "#ed7953"
             ],
             [
              0.7777777777777778,
              "#fb9f3a"
             ],
             [
              0.8888888888888888,
              "#fdca26"
             ],
             [
              1,
              "#f0f921"
             ]
            ],
            "type": "contour"
           }
          ],
          "contourcarpet": [
           {
            "colorbar": {
             "outlinewidth": 0,
             "ticks": ""
            },
            "type": "contourcarpet"
           }
          ],
          "heatmap": [
           {
            "colorbar": {
             "outlinewidth": 0,
             "ticks": ""
            },
            "colorscale": [
             [
              0,
              "#0d0887"
             ],
             [
              0.1111111111111111,
              "#46039f"
             ],
             [
              0.2222222222222222,
              "#7201a8"
             ],
             [
              0.3333333333333333,
              "#9c179e"
             ],
             [
              0.4444444444444444,
              "#bd3786"
             ],
             [
              0.5555555555555556,
              "#d8576b"
             ],
             [
              0.6666666666666666,
              "#ed7953"
             ],
             [
              0.7777777777777778,
              "#fb9f3a"
             ],
             [
              0.8888888888888888,
              "#fdca26"
             ],
             [
              1,
              "#f0f921"
             ]
            ],
            "type": "heatmap"
           }
          ],
          "histogram": [
           {
            "marker": {
             "pattern": {
              "fillmode": "overlay",
              "size": 10,
              "solidity": 0.2
             }
            },
            "type": "histogram"
           }
          ],
          "histogram2d": [
           {
            "colorbar": {
             "outlinewidth": 0,
             "ticks": ""
            },
            "colorscale": [
             [
              0,
              "#0d0887"
             ],
             [
              0.1111111111111111,
              "#46039f"
             ],
             [
              0.2222222222222222,
              "#7201a8"
             ],
             [
              0.3333333333333333,
              "#9c179e"
             ],
             [
              0.4444444444444444,
              "#bd3786"
             ],
             [
              0.5555555555555556,
              "#d8576b"
             ],
             [
              0.6666666666666666,
              "#ed7953"
             ],
             [
              0.7777777777777778,
              "#fb9f3a"
             ],
             [
              0.8888888888888888,
              "#fdca26"
             ],
             [
              1,
              "#f0f921"
             ]
            ],
            "type": "histogram2d"
           }
          ],
          "histogram2dcontour": [
           {
            "colorbar": {
             "outlinewidth": 0,
             "ticks": ""
            },
            "colorscale": [
             [
              0,
              "#0d0887"
             ],
             [
              0.1111111111111111,
              "#46039f"
             ],
             [
              0.2222222222222222,
              "#7201a8"
             ],
             [
              0.3333333333333333,
              "#9c179e"
             ],
             [
              0.4444444444444444,
              "#bd3786"
             ],
             [
              0.5555555555555556,
              "#d8576b"
             ],
             [
              0.6666666666666666,
              "#ed7953"
             ],
             [
              0.7777777777777778,
              "#fb9f3a"
             ],
             [
              0.8888888888888888,
              "#fdca26"
             ],
             [
              1,
              "#f0f921"
             ]
            ],
            "type": "histogram2dcontour"
           }
          ],
          "mesh3d": [
           {
            "colorbar": {
             "outlinewidth": 0,
             "ticks": ""
            },
            "type": "mesh3d"
           }
          ],
          "parcoords": [
           {
            "line": {
             "colorbar": {
              "outlinewidth": 0,
              "ticks": ""
             }
            },
            "type": "parcoords"
           }
          ],
          "pie": [
           {
            "automargin": true,
            "type": "pie"
           }
          ],
          "scatter": [
           {
            "fillpattern": {
             "fillmode": "overlay",
             "size": 10,
             "solidity": 0.2
            },
            "type": "scatter"
           }
          ],
          "scatter3d": [
           {
            "line": {
             "colorbar": {
              "outlinewidth": 0,
              "ticks": ""
             }
            },
            "marker": {
             "colorbar": {
              "outlinewidth": 0,
              "ticks": ""
             }
            },
            "type": "scatter3d"
           }
          ],
          "scattercarpet": [
           {
            "marker": {
             "colorbar": {
              "outlinewidth": 0,
              "ticks": ""
             }
            },
            "type": "scattercarpet"
           }
          ],
          "scattergeo": [
           {
            "marker": {
             "colorbar": {
              "outlinewidth": 0,
              "ticks": ""
             }
            },
            "type": "scattergeo"
           }
          ],
          "scattergl": [
           {
            "marker": {
             "colorbar": {
              "outlinewidth": 0,
              "ticks": ""
             }
            },
            "type": "scattergl"
           }
          ],
          "scattermap": [
           {
            "marker": {
             "colorbar": {
              "outlinewidth": 0,
              "ticks": ""
             }
            },
            "type": "scattermap"
           }
          ],
          "scattermapbox": [
           {
            "marker": {
             "colorbar": {
              "outlinewidth": 0,
              "ticks": ""
             }
            },
            "type": "scattermapbox"
           }
          ],
          "scatterpolar": [
           {
            "marker": {
             "colorbar": {
              "outlinewidth": 0,
              "ticks": ""
             }
            },
            "type": "scatterpolar"
           }
          ],
          "scatterpolargl": [
           {
            "marker": {
             "colorbar": {
              "outlinewidth": 0,
              "ticks": ""
             }
            },
            "type": "scatterpolargl"
           }
          ],
          "scatterternary": [
           {
            "marker": {
             "colorbar": {
              "outlinewidth": 0,
              "ticks": ""
             }
            },
            "type": "scatterternary"
           }
          ],
          "surface": [
           {
            "colorbar": {
             "outlinewidth": 0,
             "ticks": ""
            },
            "colorscale": [
             [
              0,
              "#0d0887"
             ],
             [
              0.1111111111111111,
              "#46039f"
             ],
             [
              0.2222222222222222,
              "#7201a8"
             ],
             [
              0.3333333333333333,
              "#9c179e"
             ],
             [
              0.4444444444444444,
              "#bd3786"
             ],
             [
              0.5555555555555556,
              "#d8576b"
             ],
             [
              0.6666666666666666,
              "#ed7953"
             ],
             [
              0.7777777777777778,
              "#fb9f3a"
             ],
             [
              0.8888888888888888,
              "#fdca26"
             ],
             [
              1,
              "#f0f921"
             ]
            ],
            "type": "surface"
           }
          ],
          "table": [
           {
            "cells": {
             "fill": {
              "color": "#EBF0F8"
             },
             "line": {
              "color": "white"
             }
            },
            "header": {
             "fill": {
              "color": "#C8D4E3"
             },
             "line": {
              "color": "white"
             }
            },
            "type": "table"
           }
          ]
         },
         "layout": {
          "annotationdefaults": {
           "arrowcolor": "#2a3f5f",
           "arrowhead": 0,
           "arrowwidth": 1
          },
          "autotypenumbers": "strict",
          "coloraxis": {
           "colorbar": {
            "outlinewidth": 0,
            "ticks": ""
           }
          },
          "colorscale": {
           "diverging": [
            [
             0,
             "#8e0152"
            ],
            [
             0.1,
             "#c51b7d"
            ],
            [
             0.2,
             "#de77ae"
            ],
            [
             0.3,
             "#f1b6da"
            ],
            [
             0.4,
             "#fde0ef"
            ],
            [
             0.5,
             "#f7f7f7"
            ],
            [
             0.6,
             "#e6f5d0"
            ],
            [
             0.7,
             "#b8e186"
            ],
            [
             0.8,
             "#7fbc41"
            ],
            [
             0.9,
             "#4d9221"
            ],
            [
             1,
             "#276419"
            ]
           ],
           "sequential": [
            [
             0,
             "#0d0887"
            ],
            [
             0.1111111111111111,
             "#46039f"
            ],
            [
             0.2222222222222222,
             "#7201a8"
            ],
            [
             0.3333333333333333,
             "#9c179e"
            ],
            [
             0.4444444444444444,
             "#bd3786"
            ],
            [
             0.5555555555555556,
             "#d8576b"
            ],
            [
             0.6666666666666666,
             "#ed7953"
            ],
            [
             0.7777777777777778,
             "#fb9f3a"
            ],
            [
             0.8888888888888888,
             "#fdca26"
            ],
            [
             1,
             "#f0f921"
            ]
           ],
           "sequentialminus": [
            [
             0,
             "#0d0887"
            ],
            [
             0.1111111111111111,
             "#46039f"
            ],
            [
             0.2222222222222222,
             "#7201a8"
            ],
            [
             0.3333333333333333,
             "#9c179e"
            ],
            [
             0.4444444444444444,
             "#bd3786"
            ],
            [
             0.5555555555555556,
             "#d8576b"
            ],
            [
             0.6666666666666666,
             "#ed7953"
            ],
            [
             0.7777777777777778,
             "#fb9f3a"
            ],
            [
             0.8888888888888888,
             "#fdca26"
            ],
            [
             1,
             "#f0f921"
            ]
           ]
          },
          "colorway": [
           "#636efa",
           "#EF553B",
           "#00cc96",
           "#ab63fa",
           "#FFA15A",
           "#19d3f3",
           "#FF6692",
           "#B6E880",
           "#FF97FF",
           "#FECB52"
          ],
          "font": {
           "color": "#2a3f5f"
          },
          "geo": {
           "bgcolor": "white",
           "lakecolor": "white",
           "landcolor": "white",
           "showlakes": true,
           "showland": true,
           "subunitcolor": "#C8D4E3"
          },
          "hoverlabel": {
           "align": "left"
          },
          "hovermode": "closest",
          "mapbox": {
           "style": "light"
          },
          "paper_bgcolor": "white",
          "plot_bgcolor": "white",
          "polar": {
           "angularaxis": {
            "gridcolor": "#EBF0F8",
            "linecolor": "#EBF0F8",
            "ticks": ""
           },
           "bgcolor": "white",
           "radialaxis": {
            "gridcolor": "#EBF0F8",
            "linecolor": "#EBF0F8",
            "ticks": ""
           }
          },
          "scene": {
           "xaxis": {
            "backgroundcolor": "white",
            "gridcolor": "#DFE8F3",
            "gridwidth": 2,
            "linecolor": "#EBF0F8",
            "showbackground": true,
            "ticks": "",
            "zerolinecolor": "#EBF0F8"
           },
           "yaxis": {
            "backgroundcolor": "white",
            "gridcolor": "#DFE8F3",
            "gridwidth": 2,
            "linecolor": "#EBF0F8",
            "showbackground": true,
            "ticks": "",
            "zerolinecolor": "#EBF0F8"
           },
           "zaxis": {
            "backgroundcolor": "white",
            "gridcolor": "#DFE8F3",
            "gridwidth": 2,
            "linecolor": "#EBF0F8",
            "showbackground": true,
            "ticks": "",
            "zerolinecolor": "#EBF0F8"
           }
          },
          "shapedefaults": {
           "line": {
            "color": "#2a3f5f"
           }
          },
          "ternary": {
           "aaxis": {
            "gridcolor": "#DFE8F3",
            "linecolor": "#A2B1C6",
            "ticks": ""
           },
           "baxis": {
            "gridcolor": "#DFE8F3",
            "linecolor": "#A2B1C6",
            "ticks": ""
           },
           "bgcolor": "white",
           "caxis": {
            "gridcolor": "#DFE8F3",
            "linecolor": "#A2B1C6",
            "ticks": ""
           }
          },
          "title": {
           "x": 0.05
          },
          "xaxis": {
           "automargin": true,
           "gridcolor": "#EBF0F8",
           "linecolor": "#EBF0F8",
           "ticks": "",
           "title": {
            "standoff": 15
           },
           "zerolinecolor": "#EBF0F8",
           "zerolinewidth": 2
          },
          "yaxis": {
           "automargin": true,
           "gridcolor": "#EBF0F8",
           "linecolor": "#EBF0F8",
           "ticks": "",
           "title": {
            "standoff": 15
           },
           "zerolinecolor": "#EBF0F8",
           "zerolinewidth": 2
          }
         }
        },
        "title": {
         "text": "Optimization Cost History"
        },
        "xaxis": {
         "title": {
          "text": "Iteration"
         }
        },
        "yaxis": {
         "title": {
          "text": "Loss (MSE)"
         },
         "type": "log"
        }
       }
      }
     },
     "metadata": {},
     "output_type": "display_data"
    }
   ],
   "source": [
    "# 3. Visualize optimization results\n",
    "print(\"4. Visualizing optimization results...\")\n",
    "plot_domain_widths(initial_widths, optimized_widths, periodic_widths)\n",
    "plot_shw_eff_spectrum(initial_widths, optimized_widths, periodic_widths, sim_params, config)\n",
    "plot_cost_history(loss_history)"
   ]
  },
  {
   "cell_type": "code",
   "execution_count": null,
   "id": "e492365e",
   "metadata": {},
   "outputs": [
    {
     "name": "stdout",
     "output_type": "stream",
     "text": [
      "2. Setting up loss function and L-BFGS optimizer...\n",
      "3. Running JIT-compiled optimization...\n",
      "   - Initial Loss: 4.3631e-02\n"
     ]
    },
    {
     "data": {
      "application/vnd.jupyter.widget-view+json": {
       "model_id": "48c371350de2408c955c52617fe638ef",
       "version_major": 2,
       "version_minor": 0
      },
      "text/plain": [
       "Optimizing:   0%|          | 0/50 [00:00<?, ?it/s]"
      ]
     },
     "metadata": {},
     "output_type": "display_data"
    }
   ],
   "source": [
    "import time\n",
    "\n",
    "# 追加のoptimization\n",
    "\n",
    "# jnp.save(f\"optimized_widths_{time.time()}.npy\", optimized_widths)\n",
    "initial_widths = optimized_widths\n",
    "config.max_iters = 50\n",
    "optimized_widths, loss_history = run_optimization(initial_widths, sim_params, config)"
   ]
  }
 ],
 "metadata": {
  "kernelspec": {
   "display_name": ".venv",
   "language": "python",
   "name": "python3"
  },
  "language_info": {
   "codemirror_mode": {
    "name": "ipython",
    "version": 3
   },
   "file_extension": ".py",
   "mimetype": "text/x-python",
   "name": "python",
   "nbconvert_exporter": "python",
   "pygments_lexer": "ipython3",
   "version": "3.13.9"
  }
 },
 "nbformat": 4,
 "nbformat_minor": 5
}
