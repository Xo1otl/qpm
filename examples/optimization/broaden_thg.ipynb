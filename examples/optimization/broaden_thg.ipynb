{
 "cells": [
  {
   "cell_type": "code",
   "execution_count": 1,
   "id": "cc50b406",
   "metadata": {},
   "outputs": [],
   "source": [
    "from collections.abc import Callable\n",
    "from dataclasses import dataclass\n",
    "\n",
    "import jax\n",
    "import jax.numpy as jnp\n",
    "import optax  # pyright: ignore[reportMissingTypeStubs]\n",
    "import plotly.graph_objects as go  # pyright: ignore[reportMissingTypeStubs]\n",
    "from jax import Array, jit\n",
    "from jax_tqdm.loop_pbar import loop_tqdm\n",
    "\n",
    "from qpm import cwes, mgoslt\n",
    "\n",
    "\n",
    "# --- Data Structures for Configuration and Parameters ---\n",
    "@dataclass(frozen=True)\n",
    "class Config:\n",
    "    \"\"\"Stores all hyperparameters for the optimization and simulation.\"\"\"\n",
    "\n",
    "    design_temp: float = 70.0\n",
    "    target_length: float = 500.0\n",
    "    max_iters: int = 50\n",
    "    prng_seed: int = 42\n",
    "    kappa_mag: float = 1.31e-4 / (2 / jnp.pi)\n",
    "    # Full spectrum calculation range\n",
    "    wl_start: float = 1.025\n",
    "    wl_end: float = 1.035\n",
    "    num_wl_points: int = 500\n",
    "    # Target flat-top region for the loss function\n",
    "    flat_top_wl_start: float = 1.031 - 0.0015\n",
    "    flat_top_wl_end: float = 1.031 + 0.0015\n",
    "    target_power: float = 0.002\n",
    "\n",
    "\n",
    "@dataclass(frozen=True)\n",
    "class SimulationParameters:\n",
    "    \"\"\"Stores fixed parameters required for the simulation physics.\"\"\"\n",
    "\n",
    "    kappa_array: Array\n",
    "    b_initial: Array\n",
    "    wls: Array\n",
    "    delta_k1s: Array\n",
    "    delta_k2s: Array\n",
    "    flat_top_indices: tuple[Array, ...]\n",
    "\n",
    "\n",
    "# --- Core JAX Functions ---\n",
    "def make_broadening_loss_fn(sim_params: SimulationParameters, config: Config) -> Callable[[Array], Array]:\n",
    "    \"\"\"Creates a loss function that calculates the MSE between the simulated power\n",
    "    in a specified spectral region and a target power.\n",
    "    \"\"\"\n",
    "    compute_spectrum_vmap = jit(jax.vmap(cwes.simulate_twm, in_axes=(None, None, 0, 0, None)))\n",
    "\n",
    "    @jit\n",
    "    def loss_fn(domain_widths: Array) -> Array:\n",
    "        # 1. Simulate the full power spectrum\n",
    "        final_vectors = compute_spectrum_vmap(\n",
    "            domain_widths,\n",
    "            sim_params.kappa_array,\n",
    "            sim_params.delta_k1s,\n",
    "            sim_params.delta_k2s,\n",
    "            sim_params.b_initial,\n",
    "        )\n",
    "        shw_powers = jnp.abs(final_vectors[:, 1]) ** 2\n",
    "        thw_powers = jnp.abs(final_vectors[:, 2]) ** 2\n",
    "\n",
    "        # 2. Slice the spectrum to the target region\n",
    "        flat_top_powers = thw_powers[sim_params.flat_top_indices]\n",
    "        loss_thg = jnp.mean(jnp.square(flat_top_powers - config.target_power))\n",
    "        loss_shg = -shw_powers[len(shw_powers) // 2]\n",
    "        w_thg = 1.0\n",
    "        w_shg = 0.1\n",
    "        return w_thg * loss_thg + w_shg * loss_shg\n",
    "\n",
    "    return loss_fn\n",
    "\n",
    "\n",
    "# --- Workflow Functions ---\n",
    "def initialize_simulation(config: Config) -> tuple[Array, SimulationParameters]:\n",
    "    \"\"\"Generates initial domain widths and fixed simulation parameters.\"\"\"\n",
    "    print(\"1. Generating initial grating and simulation parameters...\")\n",
    "\n",
    "    # --- Grating Initialization ---\n",
    "    center_wl = (config.flat_top_wl_start + config.flat_top_wl_end) / 2\n",
    "    delta_k2_center = mgoslt.calc_twm_delta_k(center_wl, center_wl / 2, config.design_temp)\n",
    "\n",
    "    domain_len_thg = jnp.pi / delta_k2_center\n",
    "    num_domains = int(jnp.round(config.target_length / domain_len_thg))\n",
    "    print(f\"   - Base domain width from calculation: {domain_len_thg:.4f} μm\")\n",
    "    print(f\"   - Total number of domains: {num_domains}\")\n",
    "\n",
    "    kappa_array = config.kappa_mag * jnp.power(-1.0, jnp.arange(num_domains))\n",
    "\n",
    "    key = jax.random.PRNGKey(config.prng_seed)\n",
    "    noise = jax.random.normal(key, shape=(num_domains,)) * (domain_len_thg * 0.02)\n",
    "    initial_widths = jnp.full(num_domains, domain_len_thg) + noise\n",
    "\n",
    "    # --- Simulation Parameter Preparation ---\n",
    "    wls = jnp.linspace(config.wl_start, config.wl_end, config.num_wl_points)\n",
    "    delta_k1s = mgoslt.calc_twm_delta_k(wls, wls, config.design_temp)\n",
    "    delta_k2s = mgoslt.calc_twm_delta_k(wls, wls / 2, config.design_temp)\n",
    "    flat_top_indices = jnp.where((wls >= config.flat_top_wl_start) & (wls <= config.flat_top_wl_end))\n",
    "    b_initial = jnp.array(\n",
    "        [\n",
    "            1.0,\n",
    "            1e-2,\n",
    "            0.0,\n",
    "        ],\n",
    "        dtype=jnp.complex64,\n",
    "    )\n",
    "\n",
    "    sim_params = SimulationParameters(\n",
    "        kappa_array=kappa_array,\n",
    "        b_initial=b_initial,\n",
    "        wls=wls,\n",
    "        delta_k1s=delta_k1s,\n",
    "        delta_k2s=delta_k2s,\n",
    "        flat_top_indices=flat_top_indices,\n",
    "    )\n",
    "    return initial_widths, sim_params\n",
    "\n",
    "\n",
    "def run_optimization(initial_widths: Array, sim_params: SimulationParameters, config: Config) -> tuple[Array, Array]:\n",
    "    \"\"\"Sets up and runs the L-BFGS optimization.\"\"\"\n",
    "    print(\"2. Setting up loss function and L-BFGS optimizer...\")\n",
    "    loss_fn = make_broadening_loss_fn(sim_params, config)\n",
    "    solver = optax.lbfgs()\n",
    "\n",
    "    @jit\n",
    "    def run_full_optimization(initial_params: Array) -> tuple[Array, Array]:\n",
    "        initial_loss_history = jnp.zeros(config.max_iters)\n",
    "\n",
    "        @loop_tqdm(config.max_iters, desc=\"Optimizing\")\n",
    "        def step(i: int, state: tuple[Array, optax.OptState, Array]) -> tuple[optax.Params, optax.OptState, Array]:\n",
    "            params, opt_state, loss_history = state\n",
    "            value, grad = jax.value_and_grad(loss_fn)(params)\n",
    "            updates, opt_state = solver.update(grad, opt_state, params, value=value, grad=grad, value_fn=loss_fn)\n",
    "            params = optax.apply_updates(params, updates)\n",
    "            loss_history = loss_history.at[i].set(value)\n",
    "            return params, opt_state, loss_history\n",
    "\n",
    "        initial_opt_state = solver.init(initial_params)\n",
    "        optimized_params, _, loss_history = jax.lax.fori_loop(\n",
    "            0,\n",
    "            config.max_iters,\n",
    "            step,\n",
    "            (initial_params, initial_opt_state, initial_loss_history),\n",
    "        )\n",
    "        return optimized_params, loss_history\n",
    "\n",
    "    print(\"3. Running JIT-compiled optimization...\")\n",
    "    print(f\"   - Initial Loss: {loss_fn(initial_widths):.4e}\")\n",
    "\n",
    "    optimized_widths, loss_history = run_full_optimization(initial_widths)\n",
    "    optimized_widths.block_until_ready()\n",
    "\n",
    "    print(f\"   - Optimized Loss: {loss_fn(optimized_widths):.4e}\")\n",
    "    return optimized_widths, loss_history\n",
    "\n",
    "\n",
    "# --- Visualization Functions ---\n",
    "def calculate_spectrum(domain_widths: Array, sim_params: SimulationParameters) -> tuple[Array, Array]:\n",
    "    \"\"\"Helper function to compute the THW power spectrum for a given grating.\"\"\"\n",
    "    compute_spectrum_vmap = jit(jax.vmap(cwes.simulate_twm, in_axes=(None, None, 0, 0, None)))\n",
    "\n",
    "    final_vectors = compute_spectrum_vmap(\n",
    "        domain_widths,\n",
    "        sim_params.kappa_array,\n",
    "        sim_params.delta_k1s,\n",
    "        sim_params.delta_k2s,\n",
    "        sim_params.b_initial,\n",
    "    )\n",
    "    thw_powers = jnp.abs(final_vectors[:, 2]) ** 2\n",
    "    return sim_params.wls, thw_powers\n",
    "\n",
    "\n",
    "def plot_domain_widths(initial_widths: Array, optimized_widths: Array, periodic_widths: Array) -> None:\n",
    "    \"\"\"Plots the domain widths before and after optimization.\"\"\"\n",
    "    fig = go.Figure()\n",
    "    fig.add_trace(go.Scatter(y=initial_widths, mode=\"lines\", name=\"Initial\", line={\"dash\": \"dash\"}))\n",
    "    fig.add_trace(go.Scatter(y=periodic_widths, mode=\"lines\", name=\"Periodic\", line={\"dash\": \"dot\"}))\n",
    "    fig.add_trace(go.Scatter(y=optimized_widths, mode=\"lines\", name=\"Optimized\"))\n",
    "    fig.update_layout(\n",
    "        title_text=\"Domain Widths Comparison\",\n",
    "        xaxis_title=\"Domain Index\",\n",
    "        yaxis_title=\"Width (μm)\",\n",
    "        template=\"plotly_white\",\n",
    "    )\n",
    "    fig.show()\n",
    "\n",
    "\n",
    "def plot_thw_power_spectrum(\n",
    "    initial_widths: Array,\n",
    "    optimized_widths: Array,\n",
    "    periodic_widths: Array,\n",
    "    sim_params: SimulationParameters,\n",
    "    config: Config,\n",
    ") -> None:\n",
    "    \"\"\"Plots the THW power spectrum before and after optimization.\"\"\"\n",
    "    wls, initial_effs = calculate_spectrum(initial_widths, sim_params)\n",
    "    _, optimized_effs = calculate_spectrum(optimized_widths, sim_params)\n",
    "    _, periodic_effs = calculate_spectrum(periodic_widths, sim_params)\n",
    "\n",
    "    fig = go.Figure()\n",
    "    fig.add_trace(go.Scatter(x=wls, y=initial_effs, mode=\"lines\", name=\"Initial\", line={\"dash\": \"dash\"}))\n",
    "    fig.add_trace(go.Scatter(x=wls, y=periodic_effs, mode=\"lines\", name=\"Periodic\", line={\"dash\": \"dot\"}))\n",
    "    fig.add_trace(go.Scatter(x=wls, y=optimized_effs, mode=\"lines\", name=\"Optimized\"))\n",
    "    fig.add_hline(\n",
    "        y=config.target_power,\n",
    "        line_width=2,\n",
    "        line_dash=\"dash\",\n",
    "        line_color=\"green\",\n",
    "        annotation_text=\"Target Power\",\n",
    "    )\n",
    "    fig.add_vrect(\n",
    "        x0=config.flat_top_wl_start,\n",
    "        x1=config.flat_top_wl_end,\n",
    "        fillcolor=\"red\",\n",
    "        opacity=0.1,\n",
    "        line_width=0,\n",
    "        annotation_text=\"Target Region\",\n",
    "        annotation_position=\"top left\",\n",
    "    )\n",
    "    fig.update_layout(\n",
    "        title_text=\"THG Power Spectrum Comparison\",\n",
    "        xaxis_title=\"Fundamental Wavelength (μm)\",\n",
    "        yaxis_title=\"THW Power\",\n",
    "        template=\"plotly_white\",\n",
    "    )\n",
    "    fig.show()\n",
    "\n",
    "\n",
    "def plot_cost_history(loss_history: Array) -> None:\n",
    "    \"\"\"Plots the optimization cost history.\"\"\"\n",
    "    fig = go.Figure()\n",
    "    fig.add_trace(go.Scatter(y=loss_history, mode=\"lines\", name=\"Loss\"))\n",
    "    fig.update_layout(\n",
    "        title_text=\"Optimization Cost History\",\n",
    "        xaxis_title=\"Iteration\",\n",
    "        yaxis_title=\"Loss (MSE)\",\n",
    "        template=\"plotly_white\",\n",
    "    )\n",
    "    fig.show()\n"
   ]
  },
  {
   "cell_type": "code",
   "execution_count": 2,
   "id": "75402a23",
   "metadata": {},
   "outputs": [
    {
     "name": "stdout",
     "output_type": "stream",
     "text": [
      "1. Generating initial grating and simulation parameters...\n",
      "   - Base domain width from calculation: 0.9796 μm\n",
      "   - Total number of domains: 510\n"
     ]
    },
    {
     "name": "stderr",
     "output_type": "stream",
     "text": [
      "2025-10-21 15:07:56.021354: E external/xla/xla/service/slow_operation_alarm.cc:73] \n",
      "********************************\n",
      "[Compiling module jit_cumsum for GPU] Very slow compile? If you want to file a bug, run with envvar XLA_FLAGS=--xla_dump_to=/tmp/foo and attach the results.\n",
      "********************************\n",
      "2025-10-21 15:02:34.628663: E external/xla/xla/service/slow_operation_alarm.cc:140] The operation took 503.776279ms\n",
      "\n",
      "********************************\n",
      "[Compiling module jit_cumsum for GPU] Very slow compile? If you want to file a bug, run with envvar XLA_FLAGS=--xla_dump_to=/tmp/foo and attach the results.\n",
      "********************************\n"
     ]
    },
    {
     "name": "stdout",
     "output_type": "stream",
     "text": [
      "2. Setting up loss function and L-BFGS optimizer...\n",
      "3. Running JIT-compiled optimization...\n",
      "   - Initial Loss: -5.9340e-06\n"
     ]
    },
    {
     "data": {
      "application/vnd.jupyter.widget-view+json": {
       "model_id": "d162e783c3d941e4a9834194fab1182b",
       "version_major": 2,
       "version_minor": 0
      },
      "text/plain": [
       "Optimizing:   0%|          | 0/50 [00:00<?, ?it/s]"
      ]
     },
     "metadata": {},
     "output_type": "display_data"
    },
    {
     "name": "stdout",
     "output_type": "stream",
     "text": [
      "   - Optimized Loss: -1.9360e-03\n"
     ]
    }
   ],
   "source": [
    "config = Config()\n",
    "\n",
    "# 1. Generate initial domain widths and fixed simulation parameters\n",
    "initial_widths, sim_params = initialize_simulation(config)\n",
    "\n",
    "# Create the ideal periodic grating for comparison\n",
    "center_wl = (config.flat_top_wl_start + config.flat_top_wl_end) / 2\n",
    "delta_k2_center = mgoslt.calc_twm_delta_k(center_wl, center_wl / 2, config.design_temp)\n",
    "domain_len_thg = jnp.pi / delta_k2_center\n",
    "num_domains = int(jnp.round(config.target_length / domain_len_thg))\n",
    "periodic_widths = jnp.full(num_domains, domain_len_thg)\n",
    "\n",
    "# 2. Run the optimization\n",
    "optimized_widths, loss_history = run_optimization(initial_widths, sim_params, config)"
   ]
  },
  {
   "cell_type": "code",
   "execution_count": 3,
   "id": "59625af5",
   "metadata": {},
   "outputs": [
    {
     "name": "stdout",
     "output_type": "stream",
     "text": [
      "4. Visualizing optimization results...\n"
     ]
    },
    {
     "data": {
      "application/vnd.plotly.v1+json": {
       "config": {
        "plotlyServerURL": "https://plot.ly"
       },
       "data": [
        {
         "line": {
          "dash": "dash"
         },
         "mode": "lines",
         "name": "Initial",
         "type": "scatter",
         "y": {
          "bdata": "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",
          "dtype": "f4"
         }
        },
        {
         "line": {
          "dash": "dot"
         },
         "mode": "lines",
         "name": "Periodic",
         "type": "scatter",
         "y": {
          "bdata": "dMR6P3TEej90xHo/dMR6P3TEej90xHo/dMR6P3TEej90xHo/dMR6P3TEej90xHo/dMR6P3TEej90xHo/dMR6P3TEej90xHo/dMR6P3TEej90xHo/dMR6P3TEej90xHo/dMR6P3TEej90xHo/dMR6P3TEej90xHo/dMR6P3TEej90xHo/dMR6P3TEej90xHo/dMR6P3TEej90xHo/dMR6P3TEej90xHo/dMR6P3TEej90xHo/dMR6P3TEej90xHo/dMR6P3TEej90xHo/dMR6P3TEej90xHo/dMR6P3TEej90xHo/dMR6P3TEej90xHo/dMR6P3TEej90xHo/dMR6P3TEej90xHo/dMR6P3TEej90xHo/dMR6P3TEej90xHo/dMR6P3TEej90xHo/dMR6P3TEej90xHo/dMR6P3TEej90xHo/dMR6P3TEej90xHo/dMR6P3TEej90xHo/dMR6P3TEej90xHo/dMR6P3TEej90xHo/dMR6P3TEej90xHo/dMR6P3TEej90xHo/dMR6P3TEej90xHo/dMR6P3TEej90xHo/dMR6P3TEej90xHo/dMR6P3TEej90xHo/dMR6P3TEej90xHo/dMR6P3TEej90xHo/dMR6P3TEej90xHo/dMR6P3TEej90xHo/dMR6P3TEej90xHo/dMR6P3TEej90xHo/dMR6P3TEej90xHo/dMR6P3TEej90xHo/dMR6P3TEej90xHo/dMR6P3TEej90xHo/dMR6P3TEej90xHo/dMR6P3TEej90xHo/dMR6P3TEej90xHo/dMR6P3TEej90xHo/dMR6P3TEej90xHo/dMR6P3TEej90xHo/dMR6P3TEej90xHo/dMR6P3TEej90xHo/dMR6P3TEej90xHo/dMR6P3TEej90xHo/dMR6P3TEej90xHo/dMR6P3TEej90xHo/dMR6P3TEej90xHo/dMR6P3TEej90xHo/dMR6P3TEej90xHo/dMR6P3TEej90xHo/dMR6P3TEej90xHo/dMR6P3TEej90xHo/dMR6P3TEej90xHo/dMR6P3TEej90xHo/dMR6P3TEej90xHo/dMR6P3TEej90xHo/dMR6P3TEej90xHo/dMR6P3TEej90xHo/dMR6P3TEej90xHo/dMR6P3TEej90xHo/dMR6P3TEej90xHo/dMR6P3TEej90xHo/dMR6P3TEej90xHo/dMR6P3TEej90xHo/dMR6P3TEej90xHo/dMR6P3TEej90xHo/dMR6P3TEej90xHo/dMR6P3TEej90xHo/dMR6P3TEej90xHo/dMR6P3TEej90xHo/dMR6P3TEej90xHo/dMR6P3TEej90xHo/dMR6P3TEej90xHo/dMR6P3TEej90xHo/dMR6P3TEej90xHo/dMR6P3TEej90xHo/dMR6P3TEej90xHo/dMR6P3TEej90xHo/dMR6P3TEej90xHo/dMR6P3TEej90xHo/dMR6P3TEej90xHo/dMR6P3TEej90xHo/dMR6P3TEej90xHo/dMR6P3TEej90xHo/dMR6P3TEej90xHo/dMR6P3TEej90xHo/dMR6P3TEej90xHo/dMR6P3TEej90xHo/dMR6P3TEej90xHo/dMR6P3TEej90xHo/dMR6P3TEej90xHo/dMR6P3TEej90xHo/dMR6P3TEej90xHo/dMR6P3TEej90xHo/dMR6P3TEej90xHo/dMR6P3TEej90xHo/dMR6P3TEej90xHo/dMR6P3TEej90xHo/dMR6P3TEej90xHo/dMR6P3TEej90xHo/dMR6P3TEej90xHo/dMR6P3TEej90xHo/dMR6P3TEej90xHo/dMR6P3TEej90xHo/dMR6P3TEej90xHo/dMR6P3TEej90xHo/dMR6P3TEej90xHo/dMR6P3TEej90xHo/dMR6P3TEej90xHo/dMR6P3TEej90xHo/dMR6P3TEej90xHo/dMR6P3TEej90xHo/dMR6P3TEej90xHo/dMR6P3TEej90xHo/dMR6P3TEej90xHo/dMR6P3TEej90xHo/dMR6P3TEej90xHo/dMR6P3TEej90xHo/dMR6P3TEej90xHo/dMR6P3TEej90xHo/dMR6P3TEej90xHo/dMR6P3TEej90xHo/dMR6P3TEej90xHo/dMR6P3TEej90xHo/dMR6P3TEej90xHo/dMR6P3TEej90xHo/dMR6P3TEej90xHo/dMR6P3TEej90xHo/dMR6P3TEej90xHo/dMR6P3TEej90xHo/dMR6P3TEej90xHo/dMR6P3TEej90xHo/dMR6P3TEej90xHo/dMR6P3TEej90xHo/dMR6P3TEej90xHo/dMR6P3TEej90xHo/dMR6P3TEej90xHo/dMR6P3TEej90xHo/dMR6P3TEej90xHo/dMR6P3TEej90xHo/dMR6P3TEej90xHo/dMR6P3TEej90xHo/dMR6P3TEej90xHo/dMR6P3TEej90xHo/dMR6P3TEej90xHo/dMR6P3TEej90xHo/dMR6P3TEej90xHo/dMR6P3TEej90xHo/dMR6P3TEej90xHo/dMR6P3TEej90xHo/dMR6P3TEej90xHo/dMR6P3TEej90xHo/dMR6P3TEej90xHo/dMR6P3TEej90xHo/dMR6P3TEej90xHo/dMR6P3TEej90xHo/dMR6P3TEej90xHo/",
          "dtype": "f4"
         }
        },
        {
         "mode": "lines",
         "name": "Optimized",
         "type": "scatter",
         "y": {
          "bdata": "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",
          "dtype": "f4"
         }
        }
       ],
       "layout": {
        "template": {
         "data": {
          "bar": [
           {
            "error_x": {
             "color": "#2a3f5f"
            },
            "error_y": {
             "color": "#2a3f5f"
            },
            "marker": {
             "line": {
              "color": "white",
              "width": 0.5
             },
             "pattern": {
              "fillmode": "overlay",
              "size": 10,
              "solidity": 0.2
             }
            },
            "type": "bar"
           }
          ],
          "barpolar": [
           {
            "marker": {
             "line": {
              "color": "white",
              "width": 0.5
             },
             "pattern": {
              "fillmode": "overlay",
              "size": 10,
              "solidity": 0.2
             }
            },
            "type": "barpolar"
           }
          ],
          "carpet": [
           {
            "aaxis": {
             "endlinecolor": "#2a3f5f",
             "gridcolor": "#C8D4E3",
             "linecolor": "#C8D4E3",
             "minorgridcolor": "#C8D4E3",
             "startlinecolor": "#2a3f5f"
            },
            "baxis": {
             "endlinecolor": "#2a3f5f",
             "gridcolor": "#C8D4E3",
             "linecolor": "#C8D4E3",
             "minorgridcolor": "#C8D4E3",
             "startlinecolor": "#2a3f5f"
            },
            "type": "carpet"
           }
          ],
          "choropleth": [
           {
            "colorbar": {
             "outlinewidth": 0,
             "ticks": ""
            },
            "type": "choropleth"
           }
          ],
          "contour": [
           {
            "colorbar": {
             "outlinewidth": 0,
             "ticks": ""
            },
            "colorscale": [
             [
              0,
              "#0d0887"
             ],
             [
              0.1111111111111111,
              "#46039f"
             ],
             [
              0.2222222222222222,
              "#7201a8"
             ],
             [
              0.3333333333333333,
              "#9c179e"
             ],
             [
              0.4444444444444444,
              "#bd3786"
             ],
             [
              0.5555555555555556,
              "#d8576b"
             ],
             [
              0.6666666666666666,
              "#ed7953"
             ],
             [
              0.7777777777777778,
              "#fb9f3a"
             ],
             [
              0.8888888888888888,
              "#fdca26"
             ],
             [
              1,
              "#f0f921"
             ]
            ],
            "type": "contour"
           }
          ],
          "contourcarpet": [
           {
            "colorbar": {
             "outlinewidth": 0,
             "ticks": ""
            },
            "type": "contourcarpet"
           }
          ],
          "heatmap": [
           {
            "colorbar": {
             "outlinewidth": 0,
             "ticks": ""
            },
            "colorscale": [
             [
              0,
              "#0d0887"
             ],
             [
              0.1111111111111111,
              "#46039f"
             ],
             [
              0.2222222222222222,
              "#7201a8"
             ],
             [
              0.3333333333333333,
              "#9c179e"
             ],
             [
              0.4444444444444444,
              "#bd3786"
             ],
             [
              0.5555555555555556,
              "#d8576b"
             ],
             [
              0.6666666666666666,
              "#ed7953"
             ],
             [
              0.7777777777777778,
              "#fb9f3a"
             ],
             [
              0.8888888888888888,
              "#fdca26"
             ],
             [
              1,
              "#f0f921"
             ]
            ],
            "type": "heatmap"
           }
          ],
          "histogram": [
           {
            "marker": {
             "pattern": {
              "fillmode": "overlay",
              "size": 10,
              "solidity": 0.2
             }
            },
            "type": "histogram"
           }
          ],
          "histogram2d": [
           {
            "colorbar": {
             "outlinewidth": 0,
             "ticks": ""
            },
            "colorscale": [
             [
              0,
              "#0d0887"
             ],
             [
              0.1111111111111111,
              "#46039f"
             ],
             [
              0.2222222222222222,
              "#7201a8"
             ],
             [
              0.3333333333333333,
              "#9c179e"
             ],
             [
              0.4444444444444444,
              "#bd3786"
             ],
             [
              0.5555555555555556,
              "#d8576b"
             ],
             [
              0.6666666666666666,
              "#ed7953"
             ],
             [
              0.7777777777777778,
              "#fb9f3a"
             ],
             [
              0.8888888888888888,
              "#fdca26"
             ],
             [
              1,
              "#f0f921"
             ]
            ],
            "type": "histogram2d"
           }
          ],
          "histogram2dcontour": [
           {
            "colorbar": {
             "outlinewidth": 0,
             "ticks": ""
            },
            "colorscale": [
             [
              0,
              "#0d0887"
             ],
             [
              0.1111111111111111,
              "#46039f"
             ],
             [
              0.2222222222222222,
              "#7201a8"
             ],
             [
              0.3333333333333333,
              "#9c179e"
             ],
             [
              0.4444444444444444,
              "#bd3786"
             ],
             [
              0.5555555555555556,
              "#d8576b"
             ],
             [
              0.6666666666666666,
              "#ed7953"
             ],
             [
              0.7777777777777778,
              "#fb9f3a"
             ],
             [
              0.8888888888888888,
              "#fdca26"
             ],
             [
              1,
              "#f0f921"
             ]
            ],
            "type": "histogram2dcontour"
           }
          ],
          "mesh3d": [
           {
            "colorbar": {
             "outlinewidth": 0,
             "ticks": ""
            },
            "type": "mesh3d"
           }
          ],
          "parcoords": [
           {
            "line": {
             "colorbar": {
              "outlinewidth": 0,
              "ticks": ""
             }
            },
            "type": "parcoords"
           }
          ],
          "pie": [
           {
            "automargin": true,
            "type": "pie"
           }
          ],
          "scatter": [
           {
            "fillpattern": {
             "fillmode": "overlay",
             "size": 10,
             "solidity": 0.2
            },
            "type": "scatter"
           }
          ],
          "scatter3d": [
           {
            "line": {
             "colorbar": {
              "outlinewidth": 0,
              "ticks": ""
             }
            },
            "marker": {
             "colorbar": {
              "outlinewidth": 0,
              "ticks": ""
             }
            },
            "type": "scatter3d"
           }
          ],
          "scattercarpet": [
           {
            "marker": {
             "colorbar": {
              "outlinewidth": 0,
              "ticks": ""
             }
            },
            "type": "scattercarpet"
           }
          ],
          "scattergeo": [
           {
            "marker": {
             "colorbar": {
              "outlinewidth": 0,
              "ticks": ""
             }
            },
            "type": "scattergeo"
           }
          ],
          "scattergl": [
           {
            "marker": {
             "colorbar": {
              "outlinewidth": 0,
              "ticks": ""
             }
            },
            "type": "scattergl"
           }
          ],
          "scattermap": [
           {
            "marker": {
             "colorbar": {
              "outlinewidth": 0,
              "ticks": ""
             }
            },
            "type": "scattermap"
           }
          ],
          "scattermapbox": [
           {
            "marker": {
             "colorbar": {
              "outlinewidth": 0,
              "ticks": ""
             }
            },
            "type": "scattermapbox"
           }
          ],
          "scatterpolar": [
           {
            "marker": {
             "colorbar": {
              "outlinewidth": 0,
              "ticks": ""
             }
            },
            "type": "scatterpolar"
           }
          ],
          "scatterpolargl": [
           {
            "marker": {
             "colorbar": {
              "outlinewidth": 0,
              "ticks": ""
             }
            },
            "type": "scatterpolargl"
           }
          ],
          "scatterternary": [
           {
            "marker": {
             "colorbar": {
              "outlinewidth": 0,
              "ticks": ""
             }
            },
            "type": "scatterternary"
           }
          ],
          "surface": [
           {
            "colorbar": {
             "outlinewidth": 0,
             "ticks": ""
            },
            "colorscale": [
             [
              0,
              "#0d0887"
             ],
             [
              0.1111111111111111,
              "#46039f"
             ],
             [
              0.2222222222222222,
              "#7201a8"
             ],
             [
              0.3333333333333333,
              "#9c179e"
             ],
             [
              0.4444444444444444,
              "#bd3786"
             ],
             [
              0.5555555555555556,
              "#d8576b"
             ],
             [
              0.6666666666666666,
              "#ed7953"
             ],
             [
              0.7777777777777778,
              "#fb9f3a"
             ],
             [
              0.8888888888888888,
              "#fdca26"
             ],
             [
              1,
              "#f0f921"
             ]
            ],
            "type": "surface"
           }
          ],
          "table": [
           {
            "cells": {
             "fill": {
              "color": "#EBF0F8"
             },
             "line": {
              "color": "white"
             }
            },
            "header": {
             "fill": {
              "color": "#C8D4E3"
             },
             "line": {
              "color": "white"
             }
            },
            "type": "table"
           }
          ]
         },
         "layout": {
          "annotationdefaults": {
           "arrowcolor": "#2a3f5f",
           "arrowhead": 0,
           "arrowwidth": 1
          },
          "autotypenumbers": "strict",
          "coloraxis": {
           "colorbar": {
            "outlinewidth": 0,
            "ticks": ""
           }
          },
          "colorscale": {
           "diverging": [
            [
             0,
             "#8e0152"
            ],
            [
             0.1,
             "#c51b7d"
            ],
            [
             0.2,
             "#de77ae"
            ],
            [
             0.3,
             "#f1b6da"
            ],
            [
             0.4,
             "#fde0ef"
            ],
            [
             0.5,
             "#f7f7f7"
            ],
            [
             0.6,
             "#e6f5d0"
            ],
            [
             0.7,
             "#b8e186"
            ],
            [
             0.8,
             "#7fbc41"
            ],
            [
             0.9,
             "#4d9221"
            ],
            [
             1,
             "#276419"
            ]
           ],
           "sequential": [
            [
             0,
             "#0d0887"
            ],
            [
             0.1111111111111111,
             "#46039f"
            ],
            [
             0.2222222222222222,
             "#7201a8"
            ],
            [
             0.3333333333333333,
             "#9c179e"
            ],
            [
             0.4444444444444444,
             "#bd3786"
            ],
            [
             0.5555555555555556,
             "#d8576b"
            ],
            [
             0.6666666666666666,
             "#ed7953"
            ],
            [
             0.7777777777777778,
             "#fb9f3a"
            ],
            [
             0.8888888888888888,
             "#fdca26"
            ],
            [
             1,
             "#f0f921"
            ]
           ],
           "sequentialminus": [
            [
             0,
             "#0d0887"
            ],
            [
             0.1111111111111111,
             "#46039f"
            ],
            [
             0.2222222222222222,
             "#7201a8"
            ],
            [
             0.3333333333333333,
             "#9c179e"
            ],
            [
             0.4444444444444444,
             "#bd3786"
            ],
            [
             0.5555555555555556,
             "#d8576b"
            ],
            [
             0.6666666666666666,
             "#ed7953"
            ],
            [
             0.7777777777777778,
             "#fb9f3a"
            ],
            [
             0.8888888888888888,
             "#fdca26"
            ],
            [
             1,
             "#f0f921"
            ]
           ]
          },
          "colorway": [
           "#636efa",
           "#EF553B",
           "#00cc96",
           "#ab63fa",
           "#FFA15A",
           "#19d3f3",
           "#FF6692",
           "#B6E880",
           "#FF97FF",
           "#FECB52"
          ],
          "font": {
           "color": "#2a3f5f"
          },
          "geo": {
           "bgcolor": "white",
           "lakecolor": "white",
           "landcolor": "white",
           "showlakes": true,
           "showland": true,
           "subunitcolor": "#C8D4E3"
          },
          "hoverlabel": {
           "align": "left"
          },
          "hovermode": "closest",
          "mapbox": {
           "style": "light"
          },
          "paper_bgcolor": "white",
          "plot_bgcolor": "white",
          "polar": {
           "angularaxis": {
            "gridcolor": "#EBF0F8",
            "linecolor": "#EBF0F8",
            "ticks": ""
           },
           "bgcolor": "white",
           "radialaxis": {
            "gridcolor": "#EBF0F8",
            "linecolor": "#EBF0F8",
            "ticks": ""
           }
          },
          "scene": {
           "xaxis": {
            "backgroundcolor": "white",
            "gridcolor": "#DFE8F3",
            "gridwidth": 2,
            "linecolor": "#EBF0F8",
            "showbackground": true,
            "ticks": "",
            "zerolinecolor": "#EBF0F8"
           },
           "yaxis": {
            "backgroundcolor": "white",
            "gridcolor": "#DFE8F3",
            "gridwidth": 2,
            "linecolor": "#EBF0F8",
            "showbackground": true,
            "ticks": "",
            "zerolinecolor": "#EBF0F8"
           },
           "zaxis": {
            "backgroundcolor": "white",
            "gridcolor": "#DFE8F3",
            "gridwidth": 2,
            "linecolor": "#EBF0F8",
            "showbackground": true,
            "ticks": "",
            "zerolinecolor": "#EBF0F8"
           }
          },
          "shapedefaults": {
           "line": {
            "color": "#2a3f5f"
           }
          },
          "ternary": {
           "aaxis": {
            "gridcolor": "#DFE8F3",
            "linecolor": "#A2B1C6",
            "ticks": ""
           },
           "baxis": {
            "gridcolor": "#DFE8F3",
            "linecolor": "#A2B1C6",
            "ticks": ""
           },
           "bgcolor": "white",
           "caxis": {
            "gridcolor": "#DFE8F3",
            "linecolor": "#A2B1C6",
            "ticks": ""
           }
          },
          "title": {
           "x": 0.05
          },
          "xaxis": {
           "automargin": true,
           "gridcolor": "#EBF0F8",
           "linecolor": "#EBF0F8",
           "ticks": "",
           "title": {
            "standoff": 15
           },
           "zerolinecolor": "#EBF0F8",
           "zerolinewidth": 2
          },
          "yaxis": {
           "automargin": true,
           "gridcolor": "#EBF0F8",
           "linecolor": "#EBF0F8",
           "ticks": "",
           "title": {
            "standoff": 15
           },
           "zerolinecolor": "#EBF0F8",
           "zerolinewidth": 2
          }
         }
        },
        "title": {
         "text": "Domain Widths Comparison"
        },
        "xaxis": {
         "title": {
          "text": "Domain Index"
         }
        },
        "yaxis": {
         "title": {
          "text": "Width (μm)"
         }
        }
       }
      }
     },
     "metadata": {},
     "output_type": "display_data"
    },
    {
     "data": {
      "application/vnd.plotly.v1+json": {
       "config": {
        "plotlyServerURL": "https://plot.ly"
       },
       "data": [
        {
         "line": {
          "dash": "dash"
         },
         "mode": "lines",
         "name": "Initial",
         "type": "scatter",
         "x": {
          "bdata": "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",
          "dtype": "f4"
         },
         "y": {
          "bdata": "hSW9Met9xzHBf9ExXaPaMSEi4zFMlOoxQLLwMc+D9TF1A/kxK+j6Mc5H+zHt/fkxjyL3MZ6r8jFB1OwxQR7lMR1L3DEviNIxA1rHMRayuzF28K4xY7WhMReqlDFpGocxHCxzMWciWjF/dEExQ/8qMdl8FjHwIQQxTyvoMFFSzzCFWbwwEkmvMMbeqTAeGaswcjGzMFbIwTBUTdcw6UTyMH8oCTEakRwxg3wxMbstSDEsDWAxQDV6MYk5ijEZfJcxIZGkMTaVsTGNM74xm1bKMfCM1TGbEOAxLS7qMf0o8zFtrPsxSMQBMvtRBTKVdwgyv34LMr+kDjIfmREynvkUMgOXGDLMtBwyiW8hMq4kJzKO6C0y7+Y1MmqRPzJLdkoyOQ1XMrtTZTJh7nUy+zOEMjFfjjI3w5kykbWmMpghtDJMyMIyt6LSMmty4zIQtvQy65ADM7D8DDPBwRYzN5cgM/l8KjPpQzQzWEE+M7HMRzOAA1EzTfxZM6/9YTOdo2kz11lwM+RpdjOGSnszEz1/M3ICgTNrxoEzAe2BM/RpgTNASIAzY8N8M27QdzMzbHEzPL5pM+AqYTN8Slcz9IZMM0n5PzPE/TMzLp4mM2siGTOSCgszsFb6MkUw3TKeWcMygeuoMohYkDK71nMyhkpKMnq7JzL8qwsyTN3rMbOGzzGw/MQx1DPMMcH25TG2Lgoy+uIqMu4IVTLL+4Uy8memMgccyzIyqfUyiKcRM2zuKjPwikczY/1jM9uWgTP4D5Izp4aiM8ultDOXN8YzKH7XM5RY6TN3LvozQKcFNMLUDTTZ5RU0tFcdNIw7JDRXDCs0KaYwNBoANjQvdjo0ciw+NAAgQTQNT0M0mbVENG5PRTTZJEU0UDVENBiAQjT+MkA0fF89NE/VOTSLCzY0dbgxNE4sLTQQdig0Vt4jNJ0SHzQQlRo0634WNDe3EjS8kw80/BsNNB1oCzSEnwo0K9sKNLQ5DDR4ow40ongSNNxzFzTkAR40868lNDITLzR8fzk0kJFFNCbLUjTmT2E0uJ1wNA8BgTTVWYk0kvySNFbMnDQU4KY0ZyuxNHwuuzTp0sU0PwHQNHPj2TT2tOM0ivrsNLDF9TTlIP40xdMCNWIHBjVt5gg1/k8LNbcpDTWOew41aiMPNa42DzXhpw41PXANNfGMCzUtAgk1xPEFNeMxAjVFuPs0VcrxNEoa5zRTW9s0UH/ONCG7wTSqbrQ067KlNFkclzQJl4g0TXJ0NFSdWDRfeT00UMEjNCjYCzRoyOwzkJzGM1V5pjOHL40zQ0x3MzoiZDN3sGMzD+l1Mzn8jjNI2q0zH17WM0K2BTTYoSU0WQNMNHLIdzTHFJU0sFexNFCV0DTBKfM0LB4MNa7DHzVoqTQ1xQ9LNaGKYjVMN3o1dimKNT0rlzXQ1qQ1X0eyNW4VwDXba841Y/fcNXzX6jXHHfk1xXQDNr8TCjaXyxA2/z8XNnWiHTbAmiM2plopNvy2LjZ31zM2pU44NpOzPDZdmUA2k/1DNoXYRjYLTEk2+EBLNuixTDavpk02ZxZONvQGTjb5e002cntMNljmSjbn80g2UYBGNomxQzaGZ0A2tbY8NuzFODZuRzQ2PMEvNr3VKjZrjiU2TXAgNn+dGjYv5hQ2/f4ONr4jCTYPOgM2N0n6NY0Z7jWPROI1SGXWNTqPyjXsCr81yaezNZPWqDUgsp01oc6TNZqwiTUMcIA18ZtuNQZrXTUL7kw1XZk9NaIyLzU2kyE1eg0VNVOWCTUjbf005mjqNDXh1zT3OMc0gkO4NDvkqjTkhp40Xs+TNP3ViTQl0YA0qh1yNC0wZDRAjlc0v+9LNH7sQTT1kjg0UPQvNFXbJzQXfyA0hi0ZNIQbEjQebQs0NosENBF3+zPfPu4zdKjfMxSu0TOSAsMz0AC1Mx1WpjOhkpczqACJM21edDP3xlcz8Yo6M+D/IDP98wYzzU7cMrrNrTIkr4QyfohBMiVYBDIy1KAx3PQkMQ8rbjAxr/UuBwMZLxz5hDCgNjQx92qvMU5UEDJcolQyymeUMqM2xDIDhvgy908ZMwAwOTOeKFszzRF+MzofkjNek6UzWWy4M5N2zDOOfuAz4ZnzMxCKAzRniAw0KbsVNO4QHjQ8EyY0GHstNBf+MzT2Ljo0pHA/NF/FQzRNYEc0sBhKNGrfSzTb00w0TuBMNKQOTDQCW0o0mOBHNMyJRDQQQEA04pQ7NLlJNjReBTA03IcpNJZ8IjRS8xo0JEATNBg2CzSCwwI0+Pz0M6sc5DOBodIzpi3CM70qsjNi5aEzpb+RM7wjgzMGnGkz6stNM0g0NDPxmBwzMKgFM8835DLvo78yUQ+dMljbfjKHBkwyvbMdMrR27zGqL64xuQpzMRviHjFn2sAw4GpLMIaOpi+BIaAuhPk9LBlWly7fjIMvKqsHMI3gWjAEwpowwVPIMHd59DDkQQ4xOBUfMTrILDHl4DUxCNI6MfRnOzEk6zcxd/AwMfjEJjFkSBox9nwNMXLi/zCdaegw0wrWMKb6yzArF80wqnHdMAXE/TC3HxkxF8M/MRkmcjHckZkxdDPCMTTY7zFEzRQygdU1MqR2WjKzsIEybu2YMoi8sDLAjcwyWMbpMqFnBDOpLRQzJ4klM0ksNzOyyUkzGWlcM4gRbzM=",
          "dtype": "f4"
         }
        },
        {
         "line": {
          "dash": "dot"
         },
         "mode": "lines",
         "name": "Periodic",
         "type": "scatter",
         "x": {
          "bdata": "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",
          "dtype": "f4"
         },
         "y": {
          "bdata": "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",
          "dtype": "f4"
         }
        },
        {
         "mode": "lines",
         "name": "Optimized",
         "type": "scatter",
         "x": {
          "bdata": "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",
          "dtype": "f4"
         },
         "y": {
          "bdata": "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",
          "dtype": "f4"
         }
        }
       ],
       "layout": {
        "annotations": [
         {
          "showarrow": false,
          "text": "Target Power",
          "x": 1,
          "xanchor": "right",
          "xref": "x domain",
          "y": 0.002,
          "yanchor": "bottom",
          "yref": "y"
         },
         {
          "showarrow": false,
          "text": "Target Region",
          "x": 1.0294999999999999,
          "xanchor": "left",
          "xref": "x",
          "y": 1,
          "yanchor": "top",
          "yref": "y domain"
         }
        ],
        "shapes": [
         {
          "line": {
           "color": "green",
           "dash": "dash",
           "width": 2
          },
          "type": "line",
          "x0": 0,
          "x1": 1,
          "xref": "x domain",
          "y0": 0.002,
          "y1": 0.002,
          "yref": "y"
         },
         {
          "fillcolor": "red",
          "line": {
           "width": 0
          },
          "opacity": 0.1,
          "type": "rect",
          "x0": 1.0294999999999999,
          "x1": 1.0325,
          "xref": "x",
          "y0": 0,
          "y1": 1,
          "yref": "y domain"
         }
        ],
        "template": {
         "data": {
          "bar": [
           {
            "error_x": {
             "color": "#2a3f5f"
            },
            "error_y": {
             "color": "#2a3f5f"
            },
            "marker": {
             "line": {
              "color": "white",
              "width": 0.5
             },
             "pattern": {
              "fillmode": "overlay",
              "size": 10,
              "solidity": 0.2
             }
            },
            "type": "bar"
           }
          ],
          "barpolar": [
           {
            "marker": {
             "line": {
              "color": "white",
              "width": 0.5
             },
             "pattern": {
              "fillmode": "overlay",
              "size": 10,
              "solidity": 0.2
             }
            },
            "type": "barpolar"
           }
          ],
          "carpet": [
           {
            "aaxis": {
             "endlinecolor": "#2a3f5f",
             "gridcolor": "#C8D4E3",
             "linecolor": "#C8D4E3",
             "minorgridcolor": "#C8D4E3",
             "startlinecolor": "#2a3f5f"
            },
            "baxis": {
             "endlinecolor": "#2a3f5f",
             "gridcolor": "#C8D4E3",
             "linecolor": "#C8D4E3",
             "minorgridcolor": "#C8D4E3",
             "startlinecolor": "#2a3f5f"
            },
            "type": "carpet"
           }
          ],
          "choropleth": [
           {
            "colorbar": {
             "outlinewidth": 0,
             "ticks": ""
            },
            "type": "choropleth"
           }
          ],
          "contour": [
           {
            "colorbar": {
             "outlinewidth": 0,
             "ticks": ""
            },
            "colorscale": [
             [
              0,
              "#0d0887"
             ],
             [
              0.1111111111111111,
              "#46039f"
             ],
             [
              0.2222222222222222,
              "#7201a8"
             ],
             [
              0.3333333333333333,
              "#9c179e"
             ],
             [
              0.4444444444444444,
              "#bd3786"
             ],
             [
              0.5555555555555556,
              "#d8576b"
             ],
             [
              0.6666666666666666,
              "#ed7953"
             ],
             [
              0.7777777777777778,
              "#fb9f3a"
             ],
             [
              0.8888888888888888,
              "#fdca26"
             ],
             [
              1,
              "#f0f921"
             ]
            ],
            "type": "contour"
           }
          ],
          "contourcarpet": [
           {
            "colorbar": {
             "outlinewidth": 0,
             "ticks": ""
            },
            "type": "contourcarpet"
           }
          ],
          "heatmap": [
           {
            "colorbar": {
             "outlinewidth": 0,
             "ticks": ""
            },
            "colorscale": [
             [
              0,
              "#0d0887"
             ],
             [
              0.1111111111111111,
              "#46039f"
             ],
             [
              0.2222222222222222,
              "#7201a8"
             ],
             [
              0.3333333333333333,
              "#9c179e"
             ],
             [
              0.4444444444444444,
              "#bd3786"
             ],
             [
              0.5555555555555556,
              "#d8576b"
             ],
             [
              0.6666666666666666,
              "#ed7953"
             ],
             [
              0.7777777777777778,
              "#fb9f3a"
             ],
             [
              0.8888888888888888,
              "#fdca26"
             ],
             [
              1,
              "#f0f921"
             ]
            ],
            "type": "heatmap"
           }
          ],
          "histogram": [
           {
            "marker": {
             "pattern": {
              "fillmode": "overlay",
              "size": 10,
              "solidity": 0.2
             }
            },
            "type": "histogram"
           }
          ],
          "histogram2d": [
           {
            "colorbar": {
             "outlinewidth": 0,
             "ticks": ""
            },
            "colorscale": [
             [
              0,
              "#0d0887"
             ],
             [
              0.1111111111111111,
              "#46039f"
             ],
             [
              0.2222222222222222,
              "#7201a8"
             ],
             [
              0.3333333333333333,
              "#9c179e"
             ],
             [
              0.4444444444444444,
              "#bd3786"
             ],
             [
              0.5555555555555556,
              "#d8576b"
             ],
             [
              0.6666666666666666,
              "#ed7953"
             ],
             [
              0.7777777777777778,
              "#fb9f3a"
             ],
             [
              0.8888888888888888,
              "#fdca26"
             ],
             [
              1,
              "#f0f921"
             ]
            ],
            "type": "histogram2d"
           }
          ],
          "histogram2dcontour": [
           {
            "colorbar": {
             "outlinewidth": 0,
             "ticks": ""
            },
            "colorscale": [
             [
              0,
              "#0d0887"
             ],
             [
              0.1111111111111111,
              "#46039f"
             ],
             [
              0.2222222222222222,
              "#7201a8"
             ],
             [
              0.3333333333333333,
              "#9c179e"
             ],
             [
              0.4444444444444444,
              "#bd3786"
             ],
             [
              0.5555555555555556,
              "#d8576b"
             ],
             [
              0.6666666666666666,
              "#ed7953"
             ],
             [
              0.7777777777777778,
              "#fb9f3a"
             ],
             [
              0.8888888888888888,
              "#fdca26"
             ],
             [
              1,
              "#f0f921"
             ]
            ],
            "type": "histogram2dcontour"
           }
          ],
          "mesh3d": [
           {
            "colorbar": {
             "outlinewidth": 0,
             "ticks": ""
            },
            "type": "mesh3d"
           }
          ],
          "parcoords": [
           {
            "line": {
             "colorbar": {
              "outlinewidth": 0,
              "ticks": ""
             }
            },
            "type": "parcoords"
           }
          ],
          "pie": [
           {
            "automargin": true,
            "type": "pie"
           }
          ],
          "scatter": [
           {
            "fillpattern": {
             "fillmode": "overlay",
             "size": 10,
             "solidity": 0.2
            },
            "type": "scatter"
           }
          ],
          "scatter3d": [
           {
            "line": {
             "colorbar": {
              "outlinewidth": 0,
              "ticks": ""
             }
            },
            "marker": {
             "colorbar": {
              "outlinewidth": 0,
              "ticks": ""
             }
            },
            "type": "scatter3d"
           }
          ],
          "scattercarpet": [
           {
            "marker": {
             "colorbar": {
              "outlinewidth": 0,
              "ticks": ""
             }
            },
            "type": "scattercarpet"
           }
          ],
          "scattergeo": [
           {
            "marker": {
             "colorbar": {
              "outlinewidth": 0,
              "ticks": ""
             }
            },
            "type": "scattergeo"
           }
          ],
          "scattergl": [
           {
            "marker": {
             "colorbar": {
              "outlinewidth": 0,
              "ticks": ""
             }
            },
            "type": "scattergl"
           }
          ],
          "scattermap": [
           {
            "marker": {
             "colorbar": {
              "outlinewidth": 0,
              "ticks": ""
             }
            },
            "type": "scattermap"
           }
          ],
          "scattermapbox": [
           {
            "marker": {
             "colorbar": {
              "outlinewidth": 0,
              "ticks": ""
             }
            },
            "type": "scattermapbox"
           }
          ],
          "scatterpolar": [
           {
            "marker": {
             "colorbar": {
              "outlinewidth": 0,
              "ticks": ""
             }
            },
            "type": "scatterpolar"
           }
          ],
          "scatterpolargl": [
           {
            "marker": {
             "colorbar": {
              "outlinewidth": 0,
              "ticks": ""
             }
            },
            "type": "scatterpolargl"
           }
          ],
          "scatterternary": [
           {
            "marker": {
             "colorbar": {
              "outlinewidth": 0,
              "ticks": ""
             }
            },
            "type": "scatterternary"
           }
          ],
          "surface": [
           {
            "colorbar": {
             "outlinewidth": 0,
             "ticks": ""
            },
            "colorscale": [
             [
              0,
              "#0d0887"
             ],
             [
              0.1111111111111111,
              "#46039f"
             ],
             [
              0.2222222222222222,
              "#7201a8"
             ],
             [
              0.3333333333333333,
              "#9c179e"
             ],
             [
              0.4444444444444444,
              "#bd3786"
             ],
             [
              0.5555555555555556,
              "#d8576b"
             ],
             [
              0.6666666666666666,
              "#ed7953"
             ],
             [
              0.7777777777777778,
              "#fb9f3a"
             ],
             [
              0.8888888888888888,
              "#fdca26"
             ],
             [
              1,
              "#f0f921"
             ]
            ],
            "type": "surface"
           }
          ],
          "table": [
           {
            "cells": {
             "fill": {
              "color": "#EBF0F8"
             },
             "line": {
              "color": "white"
             }
            },
            "header": {
             "fill": {
              "color": "#C8D4E3"
             },
             "line": {
              "color": "white"
             }
            },
            "type": "table"
           }
          ]
         },
         "layout": {
          "annotationdefaults": {
           "arrowcolor": "#2a3f5f",
           "arrowhead": 0,
           "arrowwidth": 1
          },
          "autotypenumbers": "strict",
          "coloraxis": {
           "colorbar": {
            "outlinewidth": 0,
            "ticks": ""
           }
          },
          "colorscale": {
           "diverging": [
            [
             0,
             "#8e0152"
            ],
            [
             0.1,
             "#c51b7d"
            ],
            [
             0.2,
             "#de77ae"
            ],
            [
             0.3,
             "#f1b6da"
            ],
            [
             0.4,
             "#fde0ef"
            ],
            [
             0.5,
             "#f7f7f7"
            ],
            [
             0.6,
             "#e6f5d0"
            ],
            [
             0.7,
             "#b8e186"
            ],
            [
             0.8,
             "#7fbc41"
            ],
            [
             0.9,
             "#4d9221"
            ],
            [
             1,
             "#276419"
            ]
           ],
           "sequential": [
            [
             0,
             "#0d0887"
            ],
            [
             0.1111111111111111,
             "#46039f"
            ],
            [
             0.2222222222222222,
             "#7201a8"
            ],
            [
             0.3333333333333333,
             "#9c179e"
            ],
            [
             0.4444444444444444,
             "#bd3786"
            ],
            [
             0.5555555555555556,
             "#d8576b"
            ],
            [
             0.6666666666666666,
             "#ed7953"
            ],
            [
             0.7777777777777778,
             "#fb9f3a"
            ],
            [
             0.8888888888888888,
             "#fdca26"
            ],
            [
             1,
             "#f0f921"
            ]
           ],
           "sequentialminus": [
            [
             0,
             "#0d0887"
            ],
            [
             0.1111111111111111,
             "#46039f"
            ],
            [
             0.2222222222222222,
             "#7201a8"
            ],
            [
             0.3333333333333333,
             "#9c179e"
            ],
            [
             0.4444444444444444,
             "#bd3786"
            ],
            [
             0.5555555555555556,
             "#d8576b"
            ],
            [
             0.6666666666666666,
             "#ed7953"
            ],
            [
             0.7777777777777778,
             "#fb9f3a"
            ],
            [
             0.8888888888888888,
             "#fdca26"
            ],
            [
             1,
             "#f0f921"
            ]
           ]
          },
          "colorway": [
           "#636efa",
           "#EF553B",
           "#00cc96",
           "#ab63fa",
           "#FFA15A",
           "#19d3f3",
           "#FF6692",
           "#B6E880",
           "#FF97FF",
           "#FECB52"
          ],
          "font": {
           "color": "#2a3f5f"
          },
          "geo": {
           "bgcolor": "white",
           "lakecolor": "white",
           "landcolor": "white",
           "showlakes": true,
           "showland": true,
           "subunitcolor": "#C8D4E3"
          },
          "hoverlabel": {
           "align": "left"
          },
          "hovermode": "closest",
          "mapbox": {
           "style": "light"
          },
          "paper_bgcolor": "white",
          "plot_bgcolor": "white",
          "polar": {
           "angularaxis": {
            "gridcolor": "#EBF0F8",
            "linecolor": "#EBF0F8",
            "ticks": ""
           },
           "bgcolor": "white",
           "radialaxis": {
            "gridcolor": "#EBF0F8",
            "linecolor": "#EBF0F8",
            "ticks": ""
           }
          },
          "scene": {
           "xaxis": {
            "backgroundcolor": "white",
            "gridcolor": "#DFE8F3",
            "gridwidth": 2,
            "linecolor": "#EBF0F8",
            "showbackground": true,
            "ticks": "",
            "zerolinecolor": "#EBF0F8"
           },
           "yaxis": {
            "backgroundcolor": "white",
            "gridcolor": "#DFE8F3",
            "gridwidth": 2,
            "linecolor": "#EBF0F8",
            "showbackground": true,
            "ticks": "",
            "zerolinecolor": "#EBF0F8"
           },
           "zaxis": {
            "backgroundcolor": "white",
            "gridcolor": "#DFE8F3",
            "gridwidth": 2,
            "linecolor": "#EBF0F8",
            "showbackground": true,
            "ticks": "",
            "zerolinecolor": "#EBF0F8"
           }
          },
          "shapedefaults": {
           "line": {
            "color": "#2a3f5f"
           }
          },
          "ternary": {
           "aaxis": {
            "gridcolor": "#DFE8F3",
            "linecolor": "#A2B1C6",
            "ticks": ""
           },
           "baxis": {
            "gridcolor": "#DFE8F3",
            "linecolor": "#A2B1C6",
            "ticks": ""
           },
           "bgcolor": "white",
           "caxis": {
            "gridcolor": "#DFE8F3",
            "linecolor": "#A2B1C6",
            "ticks": ""
           }
          },
          "title": {
           "x": 0.05
          },
          "xaxis": {
           "automargin": true,
           "gridcolor": "#EBF0F8",
           "linecolor": "#EBF0F8",
           "ticks": "",
           "title": {
            "standoff": 15
           },
           "zerolinecolor": "#EBF0F8",
           "zerolinewidth": 2
          },
          "yaxis": {
           "automargin": true,
           "gridcolor": "#EBF0F8",
           "linecolor": "#EBF0F8",
           "ticks": "",
           "title": {
            "standoff": 15
           },
           "zerolinecolor": "#EBF0F8",
           "zerolinewidth": 2
          }
         }
        },
        "title": {
         "text": "THG Power Spectrum Comparison"
        },
        "xaxis": {
         "title": {
          "text": "Fundamental Wavelength (μm)"
         }
        },
        "yaxis": {
         "title": {
          "text": "THW Power"
         }
        }
       }
      }
     },
     "metadata": {},
     "output_type": "display_data"
    },
    {
     "data": {
      "application/vnd.plotly.v1+json": {
       "config": {
        "plotlyServerURL": "https://plot.ly"
       },
       "data": [
        {
         "mode": "lines",
         "name": "Loss",
         "type": "scatter",
         "y": {
          "bdata": "vhzHtgKr1rayoxa3eoo3t777WbcO5oe3sfLQt6HuHLhP13O5CNKguZSPqbnpQ7C5eyjGucu+6bm2Uf25HDcLuvaeGrpkEzK6Egc8uoNbVbpktWi61+Frujyff7pmboS6xVqJuhPJkroiv5a6qT6dukRaorpOzK26d0e3uh42ubpAq7y6mabAumb3wbqj28W6lWrIuqUZzbrln9G6BjPXuujK2rqmV966dtXguiff5Lp75ui6/xHtuoC28Lq4xvO6q5P1uhg7+Lo=",
          "dtype": "f4"
         }
        }
       ],
       "layout": {
        "template": {
         "data": {
          "bar": [
           {
            "error_x": {
             "color": "#2a3f5f"
            },
            "error_y": {
             "color": "#2a3f5f"
            },
            "marker": {
             "line": {
              "color": "white",
              "width": 0.5
             },
             "pattern": {
              "fillmode": "overlay",
              "size": 10,
              "solidity": 0.2
             }
            },
            "type": "bar"
           }
          ],
          "barpolar": [
           {
            "marker": {
             "line": {
              "color": "white",
              "width": 0.5
             },
             "pattern": {
              "fillmode": "overlay",
              "size": 10,
              "solidity": 0.2
             }
            },
            "type": "barpolar"
           }
          ],
          "carpet": [
           {
            "aaxis": {
             "endlinecolor": "#2a3f5f",
             "gridcolor": "#C8D4E3",
             "linecolor": "#C8D4E3",
             "minorgridcolor": "#C8D4E3",
             "startlinecolor": "#2a3f5f"
            },
            "baxis": {
             "endlinecolor": "#2a3f5f",
             "gridcolor": "#C8D4E3",
             "linecolor": "#C8D4E3",
             "minorgridcolor": "#C8D4E3",
             "startlinecolor": "#2a3f5f"
            },
            "type": "carpet"
           }
          ],
          "choropleth": [
           {
            "colorbar": {
             "outlinewidth": 0,
             "ticks": ""
            },
            "type": "choropleth"
           }
          ],
          "contour": [
           {
            "colorbar": {
             "outlinewidth": 0,
             "ticks": ""
            },
            "colorscale": [
             [
              0,
              "#0d0887"
             ],
             [
              0.1111111111111111,
              "#46039f"
             ],
             [
              0.2222222222222222,
              "#7201a8"
             ],
             [
              0.3333333333333333,
              "#9c179e"
             ],
             [
              0.4444444444444444,
              "#bd3786"
             ],
             [
              0.5555555555555556,
              "#d8576b"
             ],
             [
              0.6666666666666666,
              "#ed7953"
             ],
             [
              0.7777777777777778,
              "#fb9f3a"
             ],
             [
              0.8888888888888888,
              "#fdca26"
             ],
             [
              1,
              "#f0f921"
             ]
            ],
            "type": "contour"
           }
          ],
          "contourcarpet": [
           {
            "colorbar": {
             "outlinewidth": 0,
             "ticks": ""
            },
            "type": "contourcarpet"
           }
          ],
          "heatmap": [
           {
            "colorbar": {
             "outlinewidth": 0,
             "ticks": ""
            },
            "colorscale": [
             [
              0,
              "#0d0887"
             ],
             [
              0.1111111111111111,
              "#46039f"
             ],
             [
              0.2222222222222222,
              "#7201a8"
             ],
             [
              0.3333333333333333,
              "#9c179e"
             ],
             [
              0.4444444444444444,
              "#bd3786"
             ],
             [
              0.5555555555555556,
              "#d8576b"
             ],
             [
              0.6666666666666666,
              "#ed7953"
             ],
             [
              0.7777777777777778,
              "#fb9f3a"
             ],
             [
              0.8888888888888888,
              "#fdca26"
             ],
             [
              1,
              "#f0f921"
             ]
            ],
            "type": "heatmap"
           }
          ],
          "histogram": [
           {
            "marker": {
             "pattern": {
              "fillmode": "overlay",
              "size": 10,
              "solidity": 0.2
             }
            },
            "type": "histogram"
           }
          ],
          "histogram2d": [
           {
            "colorbar": {
             "outlinewidth": 0,
             "ticks": ""
            },
            "colorscale": [
             [
              0,
              "#0d0887"
             ],
             [
              0.1111111111111111,
              "#46039f"
             ],
             [
              0.2222222222222222,
              "#7201a8"
             ],
             [
              0.3333333333333333,
              "#9c179e"
             ],
             [
              0.4444444444444444,
              "#bd3786"
             ],
             [
              0.5555555555555556,
              "#d8576b"
             ],
             [
              0.6666666666666666,
              "#ed7953"
             ],
             [
              0.7777777777777778,
              "#fb9f3a"
             ],
             [
              0.8888888888888888,
              "#fdca26"
             ],
             [
              1,
              "#f0f921"
             ]
            ],
            "type": "histogram2d"
           }
          ],
          "histogram2dcontour": [
           {
            "colorbar": {
             "outlinewidth": 0,
             "ticks": ""
            },
            "colorscale": [
             [
              0,
              "#0d0887"
             ],
             [
              0.1111111111111111,
              "#46039f"
             ],
             [
              0.2222222222222222,
              "#7201a8"
             ],
             [
              0.3333333333333333,
              "#9c179e"
             ],
             [
              0.4444444444444444,
              "#bd3786"
             ],
             [
              0.5555555555555556,
              "#d8576b"
             ],
             [
              0.6666666666666666,
              "#ed7953"
             ],
             [
              0.7777777777777778,
              "#fb9f3a"
             ],
             [
              0.8888888888888888,
              "#fdca26"
             ],
             [
              1,
              "#f0f921"
             ]
            ],
            "type": "histogram2dcontour"
           }
          ],
          "mesh3d": [
           {
            "colorbar": {
             "outlinewidth": 0,
             "ticks": ""
            },
            "type": "mesh3d"
           }
          ],
          "parcoords": [
           {
            "line": {
             "colorbar": {
              "outlinewidth": 0,
              "ticks": ""
             }
            },
            "type": "parcoords"
           }
          ],
          "pie": [
           {
            "automargin": true,
            "type": "pie"
           }
          ],
          "scatter": [
           {
            "fillpattern": {
             "fillmode": "overlay",
             "size": 10,
             "solidity": 0.2
            },
            "type": "scatter"
           }
          ],
          "scatter3d": [
           {
            "line": {
             "colorbar": {
              "outlinewidth": 0,
              "ticks": ""
             }
            },
            "marker": {
             "colorbar": {
              "outlinewidth": 0,
              "ticks": ""
             }
            },
            "type": "scatter3d"
           }
          ],
          "scattercarpet": [
           {
            "marker": {
             "colorbar": {
              "outlinewidth": 0,
              "ticks": ""
             }
            },
            "type": "scattercarpet"
           }
          ],
          "scattergeo": [
           {
            "marker": {
             "colorbar": {
              "outlinewidth": 0,
              "ticks": ""
             }
            },
            "type": "scattergeo"
           }
          ],
          "scattergl": [
           {
            "marker": {
             "colorbar": {
              "outlinewidth": 0,
              "ticks": ""
             }
            },
            "type": "scattergl"
           }
          ],
          "scattermap": [
           {
            "marker": {
             "colorbar": {
              "outlinewidth": 0,
              "ticks": ""
             }
            },
            "type": "scattermap"
           }
          ],
          "scattermapbox": [
           {
            "marker": {
             "colorbar": {
              "outlinewidth": 0,
              "ticks": ""
             }
            },
            "type": "scattermapbox"
           }
          ],
          "scatterpolar": [
           {
            "marker": {
             "colorbar": {
              "outlinewidth": 0,
              "ticks": ""
             }
            },
            "type": "scatterpolar"
           }
          ],
          "scatterpolargl": [
           {
            "marker": {
             "colorbar": {
              "outlinewidth": 0,
              "ticks": ""
             }
            },
            "type": "scatterpolargl"
           }
          ],
          "scatterternary": [
           {
            "marker": {
             "colorbar": {
              "outlinewidth": 0,
              "ticks": ""
             }
            },
            "type": "scatterternary"
           }
          ],
          "surface": [
           {
            "colorbar": {
             "outlinewidth": 0,
             "ticks": ""
            },
            "colorscale": [
             [
              0,
              "#0d0887"
             ],
             [
              0.1111111111111111,
              "#46039f"
             ],
             [
              0.2222222222222222,
              "#7201a8"
             ],
             [
              0.3333333333333333,
              "#9c179e"
             ],
             [
              0.4444444444444444,
              "#bd3786"
             ],
             [
              0.5555555555555556,
              "#d8576b"
             ],
             [
              0.6666666666666666,
              "#ed7953"
             ],
             [
              0.7777777777777778,
              "#fb9f3a"
             ],
             [
              0.8888888888888888,
              "#fdca26"
             ],
             [
              1,
              "#f0f921"
             ]
            ],
            "type": "surface"
           }
          ],
          "table": [
           {
            "cells": {
             "fill": {
              "color": "#EBF0F8"
             },
             "line": {
              "color": "white"
             }
            },
            "header": {
             "fill": {
              "color": "#C8D4E3"
             },
             "line": {
              "color": "white"
             }
            },
            "type": "table"
           }
          ]
         },
         "layout": {
          "annotationdefaults": {
           "arrowcolor": "#2a3f5f",
           "arrowhead": 0,
           "arrowwidth": 1
          },
          "autotypenumbers": "strict",
          "coloraxis": {
           "colorbar": {
            "outlinewidth": 0,
            "ticks": ""
           }
          },
          "colorscale": {
           "diverging": [
            [
             0,
             "#8e0152"
            ],
            [
             0.1,
             "#c51b7d"
            ],
            [
             0.2,
             "#de77ae"
            ],
            [
             0.3,
             "#f1b6da"
            ],
            [
             0.4,
             "#fde0ef"
            ],
            [
             0.5,
             "#f7f7f7"
            ],
            [
             0.6,
             "#e6f5d0"
            ],
            [
             0.7,
             "#b8e186"
            ],
            [
             0.8,
             "#7fbc41"
            ],
            [
             0.9,
             "#4d9221"
            ],
            [
             1,
             "#276419"
            ]
           ],
           "sequential": [
            [
             0,
             "#0d0887"
            ],
            [
             0.1111111111111111,
             "#46039f"
            ],
            [
             0.2222222222222222,
             "#7201a8"
            ],
            [
             0.3333333333333333,
             "#9c179e"
            ],
            [
             0.4444444444444444,
             "#bd3786"
            ],
            [
             0.5555555555555556,
             "#d8576b"
            ],
            [
             0.6666666666666666,
             "#ed7953"
            ],
            [
             0.7777777777777778,
             "#fb9f3a"
            ],
            [
             0.8888888888888888,
             "#fdca26"
            ],
            [
             1,
             "#f0f921"
            ]
           ],
           "sequentialminus": [
            [
             0,
             "#0d0887"
            ],
            [
             0.1111111111111111,
             "#46039f"
            ],
            [
             0.2222222222222222,
             "#7201a8"
            ],
            [
             0.3333333333333333,
             "#9c179e"
            ],
            [
             0.4444444444444444,
             "#bd3786"
            ],
            [
             0.5555555555555556,
             "#d8576b"
            ],
            [
             0.6666666666666666,
             "#ed7953"
            ],
            [
             0.7777777777777778,
             "#fb9f3a"
            ],
            [
             0.8888888888888888,
             "#fdca26"
            ],
            [
             1,
             "#f0f921"
            ]
           ]
          },
          "colorway": [
           "#636efa",
           "#EF553B",
           "#00cc96",
           "#ab63fa",
           "#FFA15A",
           "#19d3f3",
           "#FF6692",
           "#B6E880",
           "#FF97FF",
           "#FECB52"
          ],
          "font": {
           "color": "#2a3f5f"
          },
          "geo": {
           "bgcolor": "white",
           "lakecolor": "white",
           "landcolor": "white",
           "showlakes": true,
           "showland": true,
           "subunitcolor": "#C8D4E3"
          },
          "hoverlabel": {
           "align": "left"
          },
          "hovermode": "closest",
          "mapbox": {
           "style": "light"
          },
          "paper_bgcolor": "white",
          "plot_bgcolor": "white",
          "polar": {
           "angularaxis": {
            "gridcolor": "#EBF0F8",
            "linecolor": "#EBF0F8",
            "ticks": ""
           },
           "bgcolor": "white",
           "radialaxis": {
            "gridcolor": "#EBF0F8",
            "linecolor": "#EBF0F8",
            "ticks": ""
           }
          },
          "scene": {
           "xaxis": {
            "backgroundcolor": "white",
            "gridcolor": "#DFE8F3",
            "gridwidth": 2,
            "linecolor": "#EBF0F8",
            "showbackground": true,
            "ticks": "",
            "zerolinecolor": "#EBF0F8"
           },
           "yaxis": {
            "backgroundcolor": "white",
            "gridcolor": "#DFE8F3",
            "gridwidth": 2,
            "linecolor": "#EBF0F8",
            "showbackground": true,
            "ticks": "",
            "zerolinecolor": "#EBF0F8"
           },
           "zaxis": {
            "backgroundcolor": "white",
            "gridcolor": "#DFE8F3",
            "gridwidth": 2,
            "linecolor": "#EBF0F8",
            "showbackground": true,
            "ticks": "",
            "zerolinecolor": "#EBF0F8"
           }
          },
          "shapedefaults": {
           "line": {
            "color": "#2a3f5f"
           }
          },
          "ternary": {
           "aaxis": {
            "gridcolor": "#DFE8F3",
            "linecolor": "#A2B1C6",
            "ticks": ""
           },
           "baxis": {
            "gridcolor": "#DFE8F3",
            "linecolor": "#A2B1C6",
            "ticks": ""
           },
           "bgcolor": "white",
           "caxis": {
            "gridcolor": "#DFE8F3",
            "linecolor": "#A2B1C6",
            "ticks": ""
           }
          },
          "title": {
           "x": 0.05
          },
          "xaxis": {
           "automargin": true,
           "gridcolor": "#EBF0F8",
           "linecolor": "#EBF0F8",
           "ticks": "",
           "title": {
            "standoff": 15
           },
           "zerolinecolor": "#EBF0F8",
           "zerolinewidth": 2
          },
          "yaxis": {
           "automargin": true,
           "gridcolor": "#EBF0F8",
           "linecolor": "#EBF0F8",
           "ticks": "",
           "title": {
            "standoff": 15
           },
           "zerolinecolor": "#EBF0F8",
           "zerolinewidth": 2
          }
         }
        },
        "title": {
         "text": "Optimization Cost History"
        },
        "xaxis": {
         "title": {
          "text": "Iteration"
         }
        },
        "yaxis": {
         "title": {
          "text": "Loss (MSE)"
         }
        }
       }
      }
     },
     "metadata": {},
     "output_type": "display_data"
    }
   ],
   "source": [
    "# 3. Visualize optimization results\n",
    "print(\"4. Visualizing optimization results...\")\n",
    "plot_domain_widths(initial_widths, optimized_widths, periodic_widths)\n",
    "plot_thw_power_spectrum(initial_widths, optimized_widths, periodic_widths, sim_params, config)\n",
    "plot_cost_history(loss_history)"
   ]
  }
 ],
 "metadata": {
  "kernelspec": {
   "display_name": "mictlan",
   "language": "python",
   "name": "python3"
  },
  "language_info": {
   "codemirror_mode": {
    "name": "ipython",
    "version": 3
   },
   "file_extension": ".py",
   "mimetype": "text/x-python",
   "name": "python",
   "nbconvert_exporter": "python",
   "pygments_lexer": "ipython3",
   "version": "3.13.9"
  }
 },
 "nbformat": 4,
 "nbformat_minor": 5
}
