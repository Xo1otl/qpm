{
 "cells": [
  {
   "cell_type": "code",
   "execution_count": null,
   "id": "cc50b406",
   "metadata": {},
   "outputs": [],
   "source": [
    "from collections.abc import Callable\n",
    "from dataclasses import dataclass\n",
    "\n",
    "import jax\n",
    "import jax.numpy as jnp\n",
    "import optax  # pyright: ignore[reportMissingTypeStubs]\n",
    "import plotly.graph_objects as go  # pyright: ignore[reportMissingTypeStubs]\n",
    "from jax import Array, jit\n",
    "from jax_tqdm.loop_pbar import loop_tqdm\n",
    "\n",
    "from qpm import cwes, mgoslt\n",
    "\n",
    "# --- Constants ---\n",
    "FW_INITIAL_RATIO = 1 / 3\n",
    "\n",
    "\n",
    "# --- Data Structures for Configuration and Parameters ---\n",
    "@dataclass(frozen=True)\n",
    "class Config:\n",
    "    \"\"\"Stores all hyperparameters for the optimization and simulation.\"\"\"\n",
    "\n",
    "    design_temp: float = 70.0\n",
    "    target_length: float = 500.0\n",
    "    max_iters: int = 50\n",
    "    prng_seed: int = 42\n",
    "    kappa_mag: float = 1.31e-4 / (2 / jnp.pi)\n",
    "    # Full spectrum calculation range\n",
    "    wl_start: float = 1.025\n",
    "    wl_end: float = 1.035\n",
    "    num_wl_points: int = 500\n",
    "    # Target flat-top region for the loss function\n",
    "    flat_top_wl_start: float = 1.031 - 0.0015\n",
    "    flat_top_wl_end: float = 1.031 + 0.0015\n",
    "    target_power: float = 0.002\n",
    "\n",
    "\n",
    "@dataclass(frozen=True)\n",
    "class SimulationParameters:\n",
    "    \"\"\"Stores fixed parameters required for the simulation physics.\"\"\"\n",
    "\n",
    "    kappa_array: Array\n",
    "    b_initial: Array\n",
    "    wls: Array\n",
    "    delta_k1s: Array\n",
    "    delta_k2s: Array\n",
    "    flat_top_indices: tuple[Array, ...]\n",
    "\n",
    "\n",
    "# --- Core JAX Functions ---\n",
    "def make_broadening_loss_fn(sim_params: SimulationParameters, config: Config) -> Callable[[Array], Array]:\n",
    "    \"\"\"Creates a loss function that calculates the MSE between the simulated power\n",
    "    in a specified spectral region and a target power.\n",
    "    \"\"\"\n",
    "    compute_spectrum_vmap = jit(jax.vmap(cwes.simulate_twm, in_axes=(None, None, 0, 0, None)))\n",
    "\n",
    "    @jit\n",
    "    def loss_fn(domain_widths: Array) -> Array:\n",
    "        # 1. Simulate the full power spectrum\n",
    "        final_vectors = compute_spectrum_vmap(\n",
    "            domain_widths,\n",
    "            sim_params.kappa_array,\n",
    "            sim_params.delta_k1s,\n",
    "            sim_params.delta_k2s,\n",
    "            sim_params.b_initial,\n",
    "        )\n",
    "        shw_powers = jnp.abs(final_vectors[:, 1]) ** 2\n",
    "        thw_powers = jnp.abs(final_vectors[:, 2]) ** 2\n",
    "\n",
    "        # 2. Slice the spectrum to the target region\n",
    "        flat_top_powers = thw_powers[sim_params.flat_top_indices]\n",
    "        loss_thg = jnp.mean(jnp.square(flat_top_powers - config.target_power))\n",
    "        loss_shg = -shw_powers[len(shw_powers) // 2]\n",
    "        w_thg = 1.0\n",
    "        w_shg = 0.1\n",
    "        return w_thg * loss_thg + w_shg * loss_shg\n",
    "\n",
    "    return loss_fn\n",
    "\n",
    "\n",
    "# --- Workflow Functions ---\n",
    "def initialize_simulation(config: Config) -> tuple[Array, SimulationParameters]:\n",
    "    \"\"\"Generates initial domain widths and fixed simulation parameters.\"\"\"\n",
    "    print(\"1. Generating initial grating and simulation parameters...\")\n",
    "\n",
    "    # --- Grating Initialization ---\n",
    "    center_wl = (config.flat_top_wl_start + config.flat_top_wl_end) / 2\n",
    "    delta_k2_center = mgoslt.calc_twm_delta_k(center_wl, center_wl / 2, config.design_temp)\n",
    "\n",
    "    domain_len_thg = jnp.pi / delta_k2_center\n",
    "    num_domains = int(jnp.round(config.target_length / domain_len_thg))\n",
    "    print(f\"   - Base domain width from calculation: {domain_len_thg:.4f} μm\")\n",
    "    print(f\"   - Total number of domains: {num_domains}\")\n",
    "\n",
    "    kappa_array = config.kappa_mag * jnp.power(-1.0, jnp.arange(num_domains))\n",
    "\n",
    "    key = jax.random.PRNGKey(config.prng_seed)\n",
    "    noise = jax.random.normal(key, shape=(num_domains,)) * (domain_len_thg * 0.02)\n",
    "    initial_widths = jnp.full(num_domains, domain_len_thg) + noise\n",
    "\n",
    "    # --- Simulation Parameter Preparation ---\n",
    "    wls = jnp.linspace(config.wl_start, config.wl_end, config.num_wl_points)\n",
    "    delta_k1s = mgoslt.calc_twm_delta_k(wls, wls, config.design_temp)\n",
    "    delta_k2s = mgoslt.calc_twm_delta_k(wls, wls / 2, config.design_temp)\n",
    "    flat_top_indices = jnp.where((wls >= config.flat_top_wl_start) & (wls <= config.flat_top_wl_end))\n",
    "    b_initial = jnp.array(\n",
    "        [\n",
    "            1.0,\n",
    "            1e-2,\n",
    "            0.0,\n",
    "        ],\n",
    "        dtype=jnp.complex64,\n",
    "    )\n",
    "\n",
    "    sim_params = SimulationParameters(\n",
    "        kappa_array=kappa_array,\n",
    "        b_initial=b_initial,\n",
    "        wls=wls,\n",
    "        delta_k1s=delta_k1s,\n",
    "        delta_k2s=delta_k2s,\n",
    "        flat_top_indices=flat_top_indices,\n",
    "    )\n",
    "    return initial_widths, sim_params\n",
    "\n",
    "\n",
    "def run_optimization(initial_widths: Array, sim_params: SimulationParameters, config: Config) -> tuple[Array, Array]:\n",
    "    \"\"\"Sets up and runs the L-BFGS optimization.\"\"\"\n",
    "    print(\"2. Setting up loss function and L-BFGS optimizer...\")\n",
    "    loss_fn = make_broadening_loss_fn(sim_params, config)\n",
    "    solver = optax.lbfgs()\n",
    "\n",
    "    @jit\n",
    "    def run_full_optimization(initial_params: Array) -> tuple[Array, Array]:\n",
    "        initial_loss_history = jnp.zeros(config.max_iters)\n",
    "\n",
    "        @loop_tqdm(config.max_iters, desc=\"Optimizing\")\n",
    "        def step(i: int, state: tuple[Array, optax.OptState, Array]) -> tuple[optax.Params, optax.OptState, Array]:\n",
    "            params, opt_state, loss_history = state\n",
    "            value, grad = jax.value_and_grad(loss_fn)(params)\n",
    "            updates, opt_state = solver.update(grad, opt_state, params, value=value, grad=grad, value_fn=loss_fn)\n",
    "            params = optax.apply_updates(params, updates)\n",
    "            loss_history = loss_history.at[i].set(value)\n",
    "            return params, opt_state, loss_history\n",
    "\n",
    "        initial_opt_state = solver.init(initial_params)\n",
    "        optimized_params, _, loss_history = jax.lax.fori_loop(\n",
    "            0,\n",
    "            config.max_iters,\n",
    "            step,\n",
    "            (initial_params, initial_opt_state, initial_loss_history),\n",
    "        )\n",
    "        return optimized_params, loss_history\n",
    "\n",
    "    print(\"3. Running JIT-compiled optimization...\")\n",
    "    print(f\"   - Initial Loss: {loss_fn(initial_widths):.4e}\")\n",
    "\n",
    "    optimized_widths, loss_history = run_full_optimization(initial_widths)\n",
    "    optimized_widths.block_until_ready()\n",
    "\n",
    "    print(f\"   - Optimized Loss: {loss_fn(optimized_widths):.4e}\")\n",
    "    return optimized_widths, loss_history\n",
    "\n",
    "\n",
    "# --- Visualization Functions ---\n",
    "def calculate_spectrum(domain_widths: Array, sim_params: SimulationParameters) -> tuple[Array, Array]:\n",
    "    \"\"\"Helper function to compute the THW power spectrum for a given grating.\"\"\"\n",
    "    compute_spectrum_vmap = jit(jax.vmap(cwes.simulate_twm, in_axes=(None, None, 0, 0, None)))\n",
    "\n",
    "    final_vectors = compute_spectrum_vmap(\n",
    "        domain_widths,\n",
    "        sim_params.kappa_array,\n",
    "        sim_params.delta_k1s,\n",
    "        sim_params.delta_k2s,\n",
    "        sim_params.b_initial,\n",
    "    )\n",
    "    thw_powers = jnp.abs(final_vectors[:, 2]) ** 2\n",
    "    return sim_params.wls, thw_powers\n",
    "\n",
    "\n",
    "def plot_domain_widths(initial_widths: Array, optimized_widths: Array, periodic_widths: Array) -> None:\n",
    "    \"\"\"Plots the domain widths before and after optimization.\"\"\"\n",
    "    fig = go.Figure()\n",
    "    fig.add_trace(go.Scatter(y=initial_widths, mode=\"lines\", name=\"Initial\", line={\"dash\": \"dash\"}))\n",
    "    fig.add_trace(go.Scatter(y=periodic_widths, mode=\"lines\", name=\"Periodic\", line={\"dash\": \"dot\"}))\n",
    "    fig.add_trace(go.Scatter(y=optimized_widths, mode=\"lines\", name=\"Optimized\"))\n",
    "    fig.update_layout(\n",
    "        title_text=\"Domain Widths Comparison\",\n",
    "        xaxis_title=\"Domain Index\",\n",
    "        yaxis_title=\"Width (μm)\",\n",
    "        template=\"plotly_white\",\n",
    "    )\n",
    "    fig.show()\n",
    "\n",
    "\n",
    "def plot_thw_power_spectrum(\n",
    "    initial_widths: Array,\n",
    "    optimized_widths: Array,\n",
    "    periodic_widths: Array,\n",
    "    sim_params: SimulationParameters,\n",
    "    config: Config,\n",
    ") -> None:\n",
    "    \"\"\"Plots the THW power spectrum before and after optimization.\"\"\"\n",
    "    wls, initial_effs = calculate_spectrum(initial_widths, sim_params)\n",
    "    _, optimized_effs = calculate_spectrum(optimized_widths, sim_params)\n",
    "    _, periodic_effs = calculate_spectrum(periodic_widths, sim_params)\n",
    "\n",
    "    fig = go.Figure()\n",
    "    fig.add_trace(go.Scatter(x=wls, y=initial_effs, mode=\"lines\", name=\"Initial\", line={\"dash\": \"dash\"}))\n",
    "    fig.add_trace(go.Scatter(x=wls, y=periodic_effs, mode=\"lines\", name=\"Periodic\", line={\"dash\": \"dot\"}))\n",
    "    fig.add_trace(go.Scatter(x=wls, y=optimized_effs, mode=\"lines\", name=\"Optimized\"))\n",
    "    fig.add_hline(\n",
    "        y=config.target_power,\n",
    "        line_width=2,\n",
    "        line_dash=\"dash\",\n",
    "        line_color=\"green\",\n",
    "        annotation_text=\"Target Power\",\n",
    "    )\n",
    "    fig.add_vrect(\n",
    "        x0=config.flat_top_wl_start,\n",
    "        x1=config.flat_top_wl_end,\n",
    "        fillcolor=\"red\",\n",
    "        opacity=0.1,\n",
    "        line_width=0,\n",
    "        annotation_text=\"Target Region\",\n",
    "        annotation_position=\"top left\",\n",
    "    )\n",
    "    fig.update_layout(\n",
    "        title_text=\"THG Power Spectrum Comparison\",\n",
    "        xaxis_title=\"Fundamental Wavelength (μm)\",\n",
    "        yaxis_title=\"THW Power\",\n",
    "        template=\"plotly_white\",\n",
    "    )\n",
    "    fig.show()\n",
    "\n",
    "\n",
    "def plot_cost_history(loss_history: Array) -> None:\n",
    "    \"\"\"Plots the optimization cost history.\"\"\"\n",
    "    fig = go.Figure()\n",
    "    fig.add_trace(go.Scatter(y=loss_history, mode=\"lines\", name=\"Loss\"))\n",
    "    fig.update_layout(\n",
    "        title_text=\"Optimization Cost History\",\n",
    "        xaxis_title=\"Iteration\",\n",
    "        yaxis_title=\"Loss (MSE)\",\n",
    "        template=\"plotly_white\",\n",
    "    )\n",
    "    fig.show()\n"
   ]
  },
  {
   "cell_type": "code",
   "execution_count": 7,
   "id": "75402a23",
   "metadata": {},
   "outputs": [
    {
     "name": "stdout",
     "output_type": "stream",
     "text": [
      "1. Generating initial grating and simulation parameters...\n",
      "   - Base domain width from calculation: 0.9796 μm\n",
      "   - Total number of domains: 510\n",
      "2. Setting up loss function and L-BFGS optimizer...\n",
      "3. Running JIT-compiled optimization...\n",
      "   - Initial Loss: -5.9338e-06\n"
     ]
    },
    {
     "data": {
      "application/vnd.jupyter.widget-view+json": {
       "model_id": "64cdc91f3fdd4d679050198065fa5565",
       "version_major": 2,
       "version_minor": 0
      },
      "text/plain": [
       "Optimizing:   0%|          | 0/100 [00:00<?, ?it/s]"
      ]
     },
     "metadata": {},
     "output_type": "display_data"
    },
    {
     "name": "stdout",
     "output_type": "stream",
     "text": [
      "   - Optimized Loss: -3.4689e-03\n"
     ]
    }
   ],
   "source": [
    "config = Config()\n",
    "\n",
    "# 1. Generate initial domain widths and fixed simulation parameters\n",
    "initial_widths, sim_params = initialize_simulation(config)\n",
    "\n",
    "# Create the ideal periodic grating for comparison\n",
    "center_wl = (config.flat_top_wl_start + config.flat_top_wl_end) / 2\n",
    "delta_k2_center = mgoslt.calc_twm_delta_k(center_wl, center_wl / 2, config.design_temp)\n",
    "domain_len_thg = jnp.pi / delta_k2_center\n",
    "num_domains = int(jnp.round(config.target_length / domain_len_thg))\n",
    "periodic_widths = jnp.full(num_domains, domain_len_thg)\n",
    "\n",
    "# 2. Run the optimization\n",
    "optimized_widths, loss_history = run_optimization(initial_widths, sim_params, config)"
   ]
  },
  {
   "cell_type": "code",
   "execution_count": 8,
   "id": "59625af5",
   "metadata": {},
   "outputs": [
    {
     "name": "stdout",
     "output_type": "stream",
     "text": [
      "4. Visualizing optimization results...\n"
     ]
    },
    {
     "data": {
      "application/vnd.plotly.v1+json": {
       "config": {
        "plotlyServerURL": "https://plot.ly"
       },
       "data": [
        {
         "line": {
          "dash": "dash"
         },
         "mode": "lines",
         "name": "Initial",
         "type": "scatter",
         "y": {
          "bdata": "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",
          "dtype": "f4"
         }
        },
        {
         "line": {
          "dash": "dot"
         },
         "mode": "lines",
         "name": "Periodic",
         "type": "scatter",
         "y": {
          "bdata": "dMR6P3TEej90xHo/dMR6P3TEej90xHo/dMR6P3TEej90xHo/dMR6P3TEej90xHo/dMR6P3TEej90xHo/dMR6P3TEej90xHo/dMR6P3TEej90xHo/dMR6P3TEej90xHo/dMR6P3TEej90xHo/dMR6P3TEej90xHo/dMR6P3TEej90xHo/dMR6P3TEej90xHo/dMR6P3TEej90xHo/dMR6P3TEej90xHo/dMR6P3TEej90xHo/dMR6P3TEej90xHo/dMR6P3TEej90xHo/dMR6P3TEej90xHo/dMR6P3TEej90xHo/dMR6P3TEej90xHo/dMR6P3TEej90xHo/dMR6P3TEej90xHo/dMR6P3TEej90xHo/dMR6P3TEej90xHo/dMR6P3TEej90xHo/dMR6P3TEej90xHo/dMR6P3TEej90xHo/dMR6P3TEej90xHo/dMR6P3TEej90xHo/dMR6P3TEej90xHo/dMR6P3TEej90xHo/dMR6P3TEej90xHo/dMR6P3TEej90xHo/dMR6P3TEej90xHo/dMR6P3TEej90xHo/dMR6P3TEej90xHo/dMR6P3TEej90xHo/dMR6P3TEej90xHo/dMR6P3TEej90xHo/dMR6P3TEej90xHo/dMR6P3TEej90xHo/dMR6P3TEej90xHo/dMR6P3TEej90xHo/dMR6P3TEej90xHo/dMR6P3TEej90xHo/dMR6P3TEej90xHo/dMR6P3TEej90xHo/dMR6P3TEej90xHo/dMR6P3TEej90xHo/dMR6P3TEej90xHo/dMR6P3TEej90xHo/dMR6P3TEej90xHo/dMR6P3TEej90xHo/dMR6P3TEej90xHo/dMR6P3TEej90xHo/dMR6P3TEej90xHo/dMR6P3TEej90xHo/dMR6P3TEej90xHo/dMR6P3TEej90xHo/dMR6P3TEej90xHo/dMR6P3TEej90xHo/dMR6P3TEej90xHo/dMR6P3TEej90xHo/dMR6P3TEej90xHo/dMR6P3TEej90xHo/dMR6P3TEej90xHo/dMR6P3TEej90xHo/dMR6P3TEej90xHo/dMR6P3TEej90xHo/dMR6P3TEej90xHo/dMR6P3TEej90xHo/dMR6P3TEej90xHo/dMR6P3TEej90xHo/dMR6P3TEej90xHo/dMR6P3TEej90xHo/dMR6P3TEej90xHo/dMR6P3TEej90xHo/dMR6P3TEej90xHo/dMR6P3TEej90xHo/dMR6P3TEej90xHo/dMR6P3TEej90xHo/dMR6P3TEej90xHo/dMR6P3TEej90xHo/dMR6P3TEej90xHo/dMR6P3TEej90xHo/dMR6P3TEej90xHo/dMR6P3TEej90xHo/dMR6P3TEej90xHo/dMR6P3TEej90xHo/dMR6P3TEej90xHo/dMR6P3TEej90xHo/dMR6P3TEej90xHo/dMR6P3TEej90xHo/dMR6P3TEej90xHo/dMR6P3TEej90xHo/dMR6P3TEej90xHo/dMR6P3TEej90xHo/dMR6P3TEej90xHo/dMR6P3TEej90xHo/dMR6P3TEej90xHo/dMR6P3TEej90xHo/dMR6P3TEej90xHo/dMR6P3TEej90xHo/dMR6P3TEej90xHo/dMR6P3TEej90xHo/dMR6P3TEej90xHo/dMR6P3TEej90xHo/dMR6P3TEej90xHo/dMR6P3TEej90xHo/dMR6P3TEej90xHo/dMR6P3TEej90xHo/dMR6P3TEej90xHo/dMR6P3TEej90xHo/dMR6P3TEej90xHo/dMR6P3TEej90xHo/dMR6P3TEej90xHo/dMR6P3TEej90xHo/dMR6P3TEej90xHo/dMR6P3TEej90xHo/dMR6P3TEej90xHo/dMR6P3TEej90xHo/dMR6P3TEej90xHo/dMR6P3TEej90xHo/dMR6P3TEej90xHo/dMR6P3TEej90xHo/dMR6P3TEej90xHo/dMR6P3TEej90xHo/dMR6P3TEej90xHo/dMR6P3TEej90xHo/dMR6P3TEej90xHo/dMR6P3TEej90xHo/dMR6P3TEej90xHo/dMR6P3TEej90xHo/dMR6P3TEej90xHo/dMR6P3TEej90xHo/dMR6P3TEej90xHo/dMR6P3TEej90xHo/dMR6P3TEej90xHo/dMR6P3TEej90xHo/dMR6P3TEej90xHo/dMR6P3TEej90xHo/dMR6P3TEej90xHo/dMR6P3TEej90xHo/dMR6P3TEej90xHo/dMR6P3TEej90xHo/dMR6P3TEej90xHo/dMR6P3TEej90xHo/dMR6P3TEej90xHo/dMR6P3TEej90xHo/dMR6P3TEej90xHo/dMR6P3TEej90xHo/dMR6P3TEej90xHo/dMR6P3TEej90xHo/dMR6P3TEej90xHo/dMR6P3TEej90xHo/dMR6P3TEej90xHo/dMR6P3TEej90xHo/dMR6P3TEej90xHo/dMR6P3TEej90xHo/dMR6P3TEej90xHo/dMR6P3TEej90xHo/dMR6P3TEej90xHo/dMR6P3TEej90xHo/dMR6P3TEej90xHo/dMR6P3TEej90xHo/dMR6P3TEej90xHo/dMR6P3TEej90xHo/dMR6P3TEej90xHo/dMR6P3TEej90xHo/dMR6P3TEej90xHo/",
          "dtype": "f4"
         }
        },
        {
         "mode": "lines",
         "name": "Optimized",
         "type": "scatter",
         "y": {
          "bdata": "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",
          "dtype": "f4"
         }
        }
       ],
       "layout": {
        "template": {
         "data": {
          "bar": [
           {
            "error_x": {
             "color": "#2a3f5f"
            },
            "error_y": {
             "color": "#2a3f5f"
            },
            "marker": {
             "line": {
              "color": "white",
              "width": 0.5
             },
             "pattern": {
              "fillmode": "overlay",
              "size": 10,
              "solidity": 0.2
             }
            },
            "type": "bar"
           }
          ],
          "barpolar": [
           {
            "marker": {
             "line": {
              "color": "white",
              "width": 0.5
             },
             "pattern": {
              "fillmode": "overlay",
              "size": 10,
              "solidity": 0.2
             }
            },
            "type": "barpolar"
           }
          ],
          "carpet": [
           {
            "aaxis": {
             "endlinecolor": "#2a3f5f",
             "gridcolor": "#C8D4E3",
             "linecolor": "#C8D4E3",
             "minorgridcolor": "#C8D4E3",
             "startlinecolor": "#2a3f5f"
            },
            "baxis": {
             "endlinecolor": "#2a3f5f",
             "gridcolor": "#C8D4E3",
             "linecolor": "#C8D4E3",
             "minorgridcolor": "#C8D4E3",
             "startlinecolor": "#2a3f5f"
            },
            "type": "carpet"
           }
          ],
          "choropleth": [
           {
            "colorbar": {
             "outlinewidth": 0,
             "ticks": ""
            },
            "type": "choropleth"
           }
          ],
          "contour": [
           {
            "colorbar": {
             "outlinewidth": 0,
             "ticks": ""
            },
            "colorscale": [
             [
              0,
              "#0d0887"
             ],
             [
              0.1111111111111111,
              "#46039f"
             ],
             [
              0.2222222222222222,
              "#7201a8"
             ],
             [
              0.3333333333333333,
              "#9c179e"
             ],
             [
              0.4444444444444444,
              "#bd3786"
             ],
             [
              0.5555555555555556,
              "#d8576b"
             ],
             [
              0.6666666666666666,
              "#ed7953"
             ],
             [
              0.7777777777777778,
              "#fb9f3a"
             ],
             [
              0.8888888888888888,
              "#fdca26"
             ],
             [
              1,
              "#f0f921"
             ]
            ],
            "type": "contour"
           }
          ],
          "contourcarpet": [
           {
            "colorbar": {
             "outlinewidth": 0,
             "ticks": ""
            },
            "type": "contourcarpet"
           }
          ],
          "heatmap": [
           {
            "colorbar": {
             "outlinewidth": 0,
             "ticks": ""
            },
            "colorscale": [
             [
              0,
              "#0d0887"
             ],
             [
              0.1111111111111111,
              "#46039f"
             ],
             [
              0.2222222222222222,
              "#7201a8"
             ],
             [
              0.3333333333333333,
              "#9c179e"
             ],
             [
              0.4444444444444444,
              "#bd3786"
             ],
             [
              0.5555555555555556,
              "#d8576b"
             ],
             [
              0.6666666666666666,
              "#ed7953"
             ],
             [
              0.7777777777777778,
              "#fb9f3a"
             ],
             [
              0.8888888888888888,
              "#fdca26"
             ],
             [
              1,
              "#f0f921"
             ]
            ],
            "type": "heatmap"
           }
          ],
          "histogram": [
           {
            "marker": {
             "pattern": {
              "fillmode": "overlay",
              "size": 10,
              "solidity": 0.2
             }
            },
            "type": "histogram"
           }
          ],
          "histogram2d": [
           {
            "colorbar": {
             "outlinewidth": 0,
             "ticks": ""
            },
            "colorscale": [
             [
              0,
              "#0d0887"
             ],
             [
              0.1111111111111111,
              "#46039f"
             ],
             [
              0.2222222222222222,
              "#7201a8"
             ],
             [
              0.3333333333333333,
              "#9c179e"
             ],
             [
              0.4444444444444444,
              "#bd3786"
             ],
             [
              0.5555555555555556,
              "#d8576b"
             ],
             [
              0.6666666666666666,
              "#ed7953"
             ],
             [
              0.7777777777777778,
              "#fb9f3a"
             ],
             [
              0.8888888888888888,
              "#fdca26"
             ],
             [
              1,
              "#f0f921"
             ]
            ],
            "type": "histogram2d"
           }
          ],
          "histogram2dcontour": [
           {
            "colorbar": {
             "outlinewidth": 0,
             "ticks": ""
            },
            "colorscale": [
             [
              0,
              "#0d0887"
             ],
             [
              0.1111111111111111,
              "#46039f"
             ],
             [
              0.2222222222222222,
              "#7201a8"
             ],
             [
              0.3333333333333333,
              "#9c179e"
             ],
             [
              0.4444444444444444,
              "#bd3786"
             ],
             [
              0.5555555555555556,
              "#d8576b"
             ],
             [
              0.6666666666666666,
              "#ed7953"
             ],
             [
              0.7777777777777778,
              "#fb9f3a"
             ],
             [
              0.8888888888888888,
              "#fdca26"
             ],
             [
              1,
              "#f0f921"
             ]
            ],
            "type": "histogram2dcontour"
           }
          ],
          "mesh3d": [
           {
            "colorbar": {
             "outlinewidth": 0,
             "ticks": ""
            },
            "type": "mesh3d"
           }
          ],
          "parcoords": [
           {
            "line": {
             "colorbar": {
              "outlinewidth": 0,
              "ticks": ""
             }
            },
            "type": "parcoords"
           }
          ],
          "pie": [
           {
            "automargin": true,
            "type": "pie"
           }
          ],
          "scatter": [
           {
            "fillpattern": {
             "fillmode": "overlay",
             "size": 10,
             "solidity": 0.2
            },
            "type": "scatter"
           }
          ],
          "scatter3d": [
           {
            "line": {
             "colorbar": {
              "outlinewidth": 0,
              "ticks": ""
             }
            },
            "marker": {
             "colorbar": {
              "outlinewidth": 0,
              "ticks": ""
             }
            },
            "type": "scatter3d"
           }
          ],
          "scattercarpet": [
           {
            "marker": {
             "colorbar": {
              "outlinewidth": 0,
              "ticks": ""
             }
            },
            "type": "scattercarpet"
           }
          ],
          "scattergeo": [
           {
            "marker": {
             "colorbar": {
              "outlinewidth": 0,
              "ticks": ""
             }
            },
            "type": "scattergeo"
           }
          ],
          "scattergl": [
           {
            "marker": {
             "colorbar": {
              "outlinewidth": 0,
              "ticks": ""
             }
            },
            "type": "scattergl"
           }
          ],
          "scattermap": [
           {
            "marker": {
             "colorbar": {
              "outlinewidth": 0,
              "ticks": ""
             }
            },
            "type": "scattermap"
           }
          ],
          "scattermapbox": [
           {
            "marker": {
             "colorbar": {
              "outlinewidth": 0,
              "ticks": ""
             }
            },
            "type": "scattermapbox"
           }
          ],
          "scatterpolar": [
           {
            "marker": {
             "colorbar": {
              "outlinewidth": 0,
              "ticks": ""
             }
            },
            "type": "scatterpolar"
           }
          ],
          "scatterpolargl": [
           {
            "marker": {
             "colorbar": {
              "outlinewidth": 0,
              "ticks": ""
             }
            },
            "type": "scatterpolargl"
           }
          ],
          "scatterternary": [
           {
            "marker": {
             "colorbar": {
              "outlinewidth": 0,
              "ticks": ""
             }
            },
            "type": "scatterternary"
           }
          ],
          "surface": [
           {
            "colorbar": {
             "outlinewidth": 0,
             "ticks": ""
            },
            "colorscale": [
             [
              0,
              "#0d0887"
             ],
             [
              0.1111111111111111,
              "#46039f"
             ],
             [
              0.2222222222222222,
              "#7201a8"
             ],
             [
              0.3333333333333333,
              "#9c179e"
             ],
             [
              0.4444444444444444,
              "#bd3786"
             ],
             [
              0.5555555555555556,
              "#d8576b"
             ],
             [
              0.6666666666666666,
              "#ed7953"
             ],
             [
              0.7777777777777778,
              "#fb9f3a"
             ],
             [
              0.8888888888888888,
              "#fdca26"
             ],
             [
              1,
              "#f0f921"
             ]
            ],
            "type": "surface"
           }
          ],
          "table": [
           {
            "cells": {
             "fill": {
              "color": "#EBF0F8"
             },
             "line": {
              "color": "white"
             }
            },
            "header": {
             "fill": {
              "color": "#C8D4E3"
             },
             "line": {
              "color": "white"
             }
            },
            "type": "table"
           }
          ]
         },
         "layout": {
          "annotationdefaults": {
           "arrowcolor": "#2a3f5f",
           "arrowhead": 0,
           "arrowwidth": 1
          },
          "autotypenumbers": "strict",
          "coloraxis": {
           "colorbar": {
            "outlinewidth": 0,
            "ticks": ""
           }
          },
          "colorscale": {
           "diverging": [
            [
             0,
             "#8e0152"
            ],
            [
             0.1,
             "#c51b7d"
            ],
            [
             0.2,
             "#de77ae"
            ],
            [
             0.3,
             "#f1b6da"
            ],
            [
             0.4,
             "#fde0ef"
            ],
            [
             0.5,
             "#f7f7f7"
            ],
            [
             0.6,
             "#e6f5d0"
            ],
            [
             0.7,
             "#b8e186"
            ],
            [
             0.8,
             "#7fbc41"
            ],
            [
             0.9,
             "#4d9221"
            ],
            [
             1,
             "#276419"
            ]
           ],
           "sequential": [
            [
             0,
             "#0d0887"
            ],
            [
             0.1111111111111111,
             "#46039f"
            ],
            [
             0.2222222222222222,
             "#7201a8"
            ],
            [
             0.3333333333333333,
             "#9c179e"
            ],
            [
             0.4444444444444444,
             "#bd3786"
            ],
            [
             0.5555555555555556,
             "#d8576b"
            ],
            [
             0.6666666666666666,
             "#ed7953"
            ],
            [
             0.7777777777777778,
             "#fb9f3a"
            ],
            [
             0.8888888888888888,
             "#fdca26"
            ],
            [
             1,
             "#f0f921"
            ]
           ],
           "sequentialminus": [
            [
             0,
             "#0d0887"
            ],
            [
             0.1111111111111111,
             "#46039f"
            ],
            [
             0.2222222222222222,
             "#7201a8"
            ],
            [
             0.3333333333333333,
             "#9c179e"
            ],
            [
             0.4444444444444444,
             "#bd3786"
            ],
            [
             0.5555555555555556,
             "#d8576b"
            ],
            [
             0.6666666666666666,
             "#ed7953"
            ],
            [
             0.7777777777777778,
             "#fb9f3a"
            ],
            [
             0.8888888888888888,
             "#fdca26"
            ],
            [
             1,
             "#f0f921"
            ]
           ]
          },
          "colorway": [
           "#636efa",
           "#EF553B",
           "#00cc96",
           "#ab63fa",
           "#FFA15A",
           "#19d3f3",
           "#FF6692",
           "#B6E880",
           "#FF97FF",
           "#FECB52"
          ],
          "font": {
           "color": "#2a3f5f"
          },
          "geo": {
           "bgcolor": "white",
           "lakecolor": "white",
           "landcolor": "white",
           "showlakes": true,
           "showland": true,
           "subunitcolor": "#C8D4E3"
          },
          "hoverlabel": {
           "align": "left"
          },
          "hovermode": "closest",
          "mapbox": {
           "style": "light"
          },
          "paper_bgcolor": "white",
          "plot_bgcolor": "white",
          "polar": {
           "angularaxis": {
            "gridcolor": "#EBF0F8",
            "linecolor": "#EBF0F8",
            "ticks": ""
           },
           "bgcolor": "white",
           "radialaxis": {
            "gridcolor": "#EBF0F8",
            "linecolor": "#EBF0F8",
            "ticks": ""
           }
          },
          "scene": {
           "xaxis": {
            "backgroundcolor": "white",
            "gridcolor": "#DFE8F3",
            "gridwidth": 2,
            "linecolor": "#EBF0F8",
            "showbackground": true,
            "ticks": "",
            "zerolinecolor": "#EBF0F8"
           },
           "yaxis": {
            "backgroundcolor": "white",
            "gridcolor": "#DFE8F3",
            "gridwidth": 2,
            "linecolor": "#EBF0F8",
            "showbackground": true,
            "ticks": "",
            "zerolinecolor": "#EBF0F8"
           },
           "zaxis": {
            "backgroundcolor": "white",
            "gridcolor": "#DFE8F3",
            "gridwidth": 2,
            "linecolor": "#EBF0F8",
            "showbackground": true,
            "ticks": "",
            "zerolinecolor": "#EBF0F8"
           }
          },
          "shapedefaults": {
           "line": {
            "color": "#2a3f5f"
           }
          },
          "ternary": {
           "aaxis": {
            "gridcolor": "#DFE8F3",
            "linecolor": "#A2B1C6",
            "ticks": ""
           },
           "baxis": {
            "gridcolor": "#DFE8F3",
            "linecolor": "#A2B1C6",
            "ticks": ""
           },
           "bgcolor": "white",
           "caxis": {
            "gridcolor": "#DFE8F3",
            "linecolor": "#A2B1C6",
            "ticks": ""
           }
          },
          "title": {
           "x": 0.05
          },
          "xaxis": {
           "automargin": true,
           "gridcolor": "#EBF0F8",
           "linecolor": "#EBF0F8",
           "ticks": "",
           "title": {
            "standoff": 15
           },
           "zerolinecolor": "#EBF0F8",
           "zerolinewidth": 2
          },
          "yaxis": {
           "automargin": true,
           "gridcolor": "#EBF0F8",
           "linecolor": "#EBF0F8",
           "ticks": "",
           "title": {
            "standoff": 15
           },
           "zerolinecolor": "#EBF0F8",
           "zerolinewidth": 2
          }
         }
        },
        "title": {
         "text": "Domain Widths Comparison"
        },
        "xaxis": {
         "title": {
          "text": "Domain Index"
         }
        },
        "yaxis": {
         "title": {
          "text": "Width (μm)"
         }
        }
       }
      }
     },
     "metadata": {},
     "output_type": "display_data"
    },
    {
     "data": {
      "application/vnd.plotly.v1+json": {
       "config": {
        "plotlyServerURL": "https://plot.ly"
       },
       "data": [
        {
         "line": {
          "dash": "dash"
         },
         "mode": "lines",
         "name": "Initial",
         "type": "scatter",
         "x": {
          "bdata": "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",
          "dtype": "f4"
         },
         "y": {
          "bdata": "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",
          "dtype": "f4"
         }
        },
        {
         "line": {
          "dash": "dot"
         },
         "mode": "lines",
         "name": "Periodic",
         "type": "scatter",
         "x": {
          "bdata": "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",
          "dtype": "f4"
         },
         "y": {
          "bdata": "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",
          "dtype": "f4"
         }
        },
        {
         "mode": "lines",
         "name": "Optimized",
         "type": "scatter",
         "x": {
          "bdata": "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",
          "dtype": "f4"
         },
         "y": {
          "bdata": "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",
          "dtype": "f4"
         }
        }
       ],
       "layout": {
        "annotations": [
         {
          "showarrow": false,
          "text": "Target Power",
          "x": 1,
          "xanchor": "right",
          "xref": "x domain",
          "y": 0.002,
          "yanchor": "bottom",
          "yref": "y"
         },
         {
          "showarrow": false,
          "text": "Target Region",
          "x": 1.0294999999999999,
          "xanchor": "left",
          "xref": "x",
          "y": 1,
          "yanchor": "top",
          "yref": "y domain"
         }
        ],
        "shapes": [
         {
          "line": {
           "color": "green",
           "dash": "dash",
           "width": 2
          },
          "type": "line",
          "x0": 0,
          "x1": 1,
          "xref": "x domain",
          "y0": 0.002,
          "y1": 0.002,
          "yref": "y"
         },
         {
          "fillcolor": "red",
          "line": {
           "width": 0
          },
          "opacity": 0.1,
          "type": "rect",
          "x0": 1.0294999999999999,
          "x1": 1.0325,
          "xref": "x",
          "y0": 0,
          "y1": 1,
          "yref": "y domain"
         }
        ],
        "template": {
         "data": {
          "bar": [
           {
            "error_x": {
             "color": "#2a3f5f"
            },
            "error_y": {
             "color": "#2a3f5f"
            },
            "marker": {
             "line": {
              "color": "white",
              "width": 0.5
             },
             "pattern": {
              "fillmode": "overlay",
              "size": 10,
              "solidity": 0.2
             }
            },
            "type": "bar"
           }
          ],
          "barpolar": [
           {
            "marker": {
             "line": {
              "color": "white",
              "width": 0.5
             },
             "pattern": {
              "fillmode": "overlay",
              "size": 10,
              "solidity": 0.2
             }
            },
            "type": "barpolar"
           }
          ],
          "carpet": [
           {
            "aaxis": {
             "endlinecolor": "#2a3f5f",
             "gridcolor": "#C8D4E3",
             "linecolor": "#C8D4E3",
             "minorgridcolor": "#C8D4E3",
             "startlinecolor": "#2a3f5f"
            },
            "baxis": {
             "endlinecolor": "#2a3f5f",
             "gridcolor": "#C8D4E3",
             "linecolor": "#C8D4E3",
             "minorgridcolor": "#C8D4E3",
             "startlinecolor": "#2a3f5f"
            },
            "type": "carpet"
           }
          ],
          "choropleth": [
           {
            "colorbar": {
             "outlinewidth": 0,
             "ticks": ""
            },
            "type": "choropleth"
           }
          ],
          "contour": [
           {
            "colorbar": {
             "outlinewidth": 0,
             "ticks": ""
            },
            "colorscale": [
             [
              0,
              "#0d0887"
             ],
             [
              0.1111111111111111,
              "#46039f"
             ],
             [
              0.2222222222222222,
              "#7201a8"
             ],
             [
              0.3333333333333333,
              "#9c179e"
             ],
             [
              0.4444444444444444,
              "#bd3786"
             ],
             [
              0.5555555555555556,
              "#d8576b"
             ],
             [
              0.6666666666666666,
              "#ed7953"
             ],
             [
              0.7777777777777778,
              "#fb9f3a"
             ],
             [
              0.8888888888888888,
              "#fdca26"
             ],
             [
              1,
              "#f0f921"
             ]
            ],
            "type": "contour"
           }
          ],
          "contourcarpet": [
           {
            "colorbar": {
             "outlinewidth": 0,
             "ticks": ""
            },
            "type": "contourcarpet"
           }
          ],
          "heatmap": [
           {
            "colorbar": {
             "outlinewidth": 0,
             "ticks": ""
            },
            "colorscale": [
             [
              0,
              "#0d0887"
             ],
             [
              0.1111111111111111,
              "#46039f"
             ],
             [
              0.2222222222222222,
              "#7201a8"
             ],
             [
              0.3333333333333333,
              "#9c179e"
             ],
             [
              0.4444444444444444,
              "#bd3786"
             ],
             [
              0.5555555555555556,
              "#d8576b"
             ],
             [
              0.6666666666666666,
              "#ed7953"
             ],
             [
              0.7777777777777778,
              "#fb9f3a"
             ],
             [
              0.8888888888888888,
              "#fdca26"
             ],
             [
              1,
              "#f0f921"
             ]
            ],
            "type": "heatmap"
           }
          ],
          "histogram": [
           {
            "marker": {
             "pattern": {
              "fillmode": "overlay",
              "size": 10,
              "solidity": 0.2
             }
            },
            "type": "histogram"
           }
          ],
          "histogram2d": [
           {
            "colorbar": {
             "outlinewidth": 0,
             "ticks": ""
            },
            "colorscale": [
             [
              0,
              "#0d0887"
             ],
             [
              0.1111111111111111,
              "#46039f"
             ],
             [
              0.2222222222222222,
              "#7201a8"
             ],
             [
              0.3333333333333333,
              "#9c179e"
             ],
             [
              0.4444444444444444,
              "#bd3786"
             ],
             [
              0.5555555555555556,
              "#d8576b"
             ],
             [
              0.6666666666666666,
              "#ed7953"
             ],
             [
              0.7777777777777778,
              "#fb9f3a"
             ],
             [
              0.8888888888888888,
              "#fdca26"
             ],
             [
              1,
              "#f0f921"
             ]
            ],
            "type": "histogram2d"
           }
          ],
          "histogram2dcontour": [
           {
            "colorbar": {
             "outlinewidth": 0,
             "ticks": ""
            },
            "colorscale": [
             [
              0,
              "#0d0887"
             ],
             [
              0.1111111111111111,
              "#46039f"
             ],
             [
              0.2222222222222222,
              "#7201a8"
             ],
             [
              0.3333333333333333,
              "#9c179e"
             ],
             [
              0.4444444444444444,
              "#bd3786"
             ],
             [
              0.5555555555555556,
              "#d8576b"
             ],
             [
              0.6666666666666666,
              "#ed7953"
             ],
             [
              0.7777777777777778,
              "#fb9f3a"
             ],
             [
              0.8888888888888888,
              "#fdca26"
             ],
             [
              1,
              "#f0f921"
             ]
            ],
            "type": "histogram2dcontour"
           }
          ],
          "mesh3d": [
           {
            "colorbar": {
             "outlinewidth": 0,
             "ticks": ""
            },
            "type": "mesh3d"
           }
          ],
          "parcoords": [
           {
            "line": {
             "colorbar": {
              "outlinewidth": 0,
              "ticks": ""
             }
            },
            "type": "parcoords"
           }
          ],
          "pie": [
           {
            "automargin": true,
            "type": "pie"
           }
          ],
          "scatter": [
           {
            "fillpattern": {
             "fillmode": "overlay",
             "size": 10,
             "solidity": 0.2
            },
            "type": "scatter"
           }
          ],
          "scatter3d": [
           {
            "line": {
             "colorbar": {
              "outlinewidth": 0,
              "ticks": ""
             }
            },
            "marker": {
             "colorbar": {
              "outlinewidth": 0,
              "ticks": ""
             }
            },
            "type": "scatter3d"
           }
          ],
          "scattercarpet": [
           {
            "marker": {
             "colorbar": {
              "outlinewidth": 0,
              "ticks": ""
             }
            },
            "type": "scattercarpet"
           }
          ],
          "scattergeo": [
           {
            "marker": {
             "colorbar": {
              "outlinewidth": 0,
              "ticks": ""
             }
            },
            "type": "scattergeo"
           }
          ],
          "scattergl": [
           {
            "marker": {
             "colorbar": {
              "outlinewidth": 0,
              "ticks": ""
             }
            },
            "type": "scattergl"
           }
          ],
          "scattermap": [
           {
            "marker": {
             "colorbar": {
              "outlinewidth": 0,
              "ticks": ""
             }
            },
            "type": "scattermap"
           }
          ],
          "scattermapbox": [
           {
            "marker": {
             "colorbar": {
              "outlinewidth": 0,
              "ticks": ""
             }
            },
            "type": "scattermapbox"
           }
          ],
          "scatterpolar": [
           {
            "marker": {
             "colorbar": {
              "outlinewidth": 0,
              "ticks": ""
             }
            },
            "type": "scatterpolar"
           }
          ],
          "scatterpolargl": [
           {
            "marker": {
             "colorbar": {
              "outlinewidth": 0,
              "ticks": ""
             }
            },
            "type": "scatterpolargl"
           }
          ],
          "scatterternary": [
           {
            "marker": {
             "colorbar": {
              "outlinewidth": 0,
              "ticks": ""
             }
            },
            "type": "scatterternary"
           }
          ],
          "surface": [
           {
            "colorbar": {
             "outlinewidth": 0,
             "ticks": ""
            },
            "colorscale": [
             [
              0,
              "#0d0887"
             ],
             [
              0.1111111111111111,
              "#46039f"
             ],
             [
              0.2222222222222222,
              "#7201a8"
             ],
             [
              0.3333333333333333,
              "#9c179e"
             ],
             [
              0.4444444444444444,
              "#bd3786"
             ],
             [
              0.5555555555555556,
              "#d8576b"
             ],
             [
              0.6666666666666666,
              "#ed7953"
             ],
             [
              0.7777777777777778,
              "#fb9f3a"
             ],
             [
              0.8888888888888888,
              "#fdca26"
             ],
             [
              1,
              "#f0f921"
             ]
            ],
            "type": "surface"
           }
          ],
          "table": [
           {
            "cells": {
             "fill": {
              "color": "#EBF0F8"
             },
             "line": {
              "color": "white"
             }
            },
            "header": {
             "fill": {
              "color": "#C8D4E3"
             },
             "line": {
              "color": "white"
             }
            },
            "type": "table"
           }
          ]
         },
         "layout": {
          "annotationdefaults": {
           "arrowcolor": "#2a3f5f",
           "arrowhead": 0,
           "arrowwidth": 1
          },
          "autotypenumbers": "strict",
          "coloraxis": {
           "colorbar": {
            "outlinewidth": 0,
            "ticks": ""
           }
          },
          "colorscale": {
           "diverging": [
            [
             0,
             "#8e0152"
            ],
            [
             0.1,
             "#c51b7d"
            ],
            [
             0.2,
             "#de77ae"
            ],
            [
             0.3,
             "#f1b6da"
            ],
            [
             0.4,
             "#fde0ef"
            ],
            [
             0.5,
             "#f7f7f7"
            ],
            [
             0.6,
             "#e6f5d0"
            ],
            [
             0.7,
             "#b8e186"
            ],
            [
             0.8,
             "#7fbc41"
            ],
            [
             0.9,
             "#4d9221"
            ],
            [
             1,
             "#276419"
            ]
           ],
           "sequential": [
            [
             0,
             "#0d0887"
            ],
            [
             0.1111111111111111,
             "#46039f"
            ],
            [
             0.2222222222222222,
             "#7201a8"
            ],
            [
             0.3333333333333333,
             "#9c179e"
            ],
            [
             0.4444444444444444,
             "#bd3786"
            ],
            [
             0.5555555555555556,
             "#d8576b"
            ],
            [
             0.6666666666666666,
             "#ed7953"
            ],
            [
             0.7777777777777778,
             "#fb9f3a"
            ],
            [
             0.8888888888888888,
             "#fdca26"
            ],
            [
             1,
             "#f0f921"
            ]
           ],
           "sequentialminus": [
            [
             0,
             "#0d0887"
            ],
            [
             0.1111111111111111,
             "#46039f"
            ],
            [
             0.2222222222222222,
             "#7201a8"
            ],
            [
             0.3333333333333333,
             "#9c179e"
            ],
            [
             0.4444444444444444,
             "#bd3786"
            ],
            [
             0.5555555555555556,
             "#d8576b"
            ],
            [
             0.6666666666666666,
             "#ed7953"
            ],
            [
             0.7777777777777778,
             "#fb9f3a"
            ],
            [
             0.8888888888888888,
             "#fdca26"
            ],
            [
             1,
             "#f0f921"
            ]
           ]
          },
          "colorway": [
           "#636efa",
           "#EF553B",
           "#00cc96",
           "#ab63fa",
           "#FFA15A",
           "#19d3f3",
           "#FF6692",
           "#B6E880",
           "#FF97FF",
           "#FECB52"
          ],
          "font": {
           "color": "#2a3f5f"
          },
          "geo": {
           "bgcolor": "white",
           "lakecolor": "white",
           "landcolor": "white",
           "showlakes": true,
           "showland": true,
           "subunitcolor": "#C8D4E3"
          },
          "hoverlabel": {
           "align": "left"
          },
          "hovermode": "closest",
          "mapbox": {
           "style": "light"
          },
          "paper_bgcolor": "white",
          "plot_bgcolor": "white",
          "polar": {
           "angularaxis": {
            "gridcolor": "#EBF0F8",
            "linecolor": "#EBF0F8",
            "ticks": ""
           },
           "bgcolor": "white",
           "radialaxis": {
            "gridcolor": "#EBF0F8",
            "linecolor": "#EBF0F8",
            "ticks": ""
           }
          },
          "scene": {
           "xaxis": {
            "backgroundcolor": "white",
            "gridcolor": "#DFE8F3",
            "gridwidth": 2,
            "linecolor": "#EBF0F8",
            "showbackground": true,
            "ticks": "",
            "zerolinecolor": "#EBF0F8"
           },
           "yaxis": {
            "backgroundcolor": "white",
            "gridcolor": "#DFE8F3",
            "gridwidth": 2,
            "linecolor": "#EBF0F8",
            "showbackground": true,
            "ticks": "",
            "zerolinecolor": "#EBF0F8"
           },
           "zaxis": {
            "backgroundcolor": "white",
            "gridcolor": "#DFE8F3",
            "gridwidth": 2,
            "linecolor": "#EBF0F8",
            "showbackground": true,
            "ticks": "",
            "zerolinecolor": "#EBF0F8"
           }
          },
          "shapedefaults": {
           "line": {
            "color": "#2a3f5f"
           }
          },
          "ternary": {
           "aaxis": {
            "gridcolor": "#DFE8F3",
            "linecolor": "#A2B1C6",
            "ticks": ""
           },
           "baxis": {
            "gridcolor": "#DFE8F3",
            "linecolor": "#A2B1C6",
            "ticks": ""
           },
           "bgcolor": "white",
           "caxis": {
            "gridcolor": "#DFE8F3",
            "linecolor": "#A2B1C6",
            "ticks": ""
           }
          },
          "title": {
           "x": 0.05
          },
          "xaxis": {
           "automargin": true,
           "gridcolor": "#EBF0F8",
           "linecolor": "#EBF0F8",
           "ticks": "",
           "title": {
            "standoff": 15
           },
           "zerolinecolor": "#EBF0F8",
           "zerolinewidth": 2
          },
          "yaxis": {
           "automargin": true,
           "gridcolor": "#EBF0F8",
           "linecolor": "#EBF0F8",
           "ticks": "",
           "title": {
            "standoff": 15
           },
           "zerolinecolor": "#EBF0F8",
           "zerolinewidth": 2
          }
         }
        },
        "title": {
         "text": "THG Power Spectrum Comparison"
        },
        "xaxis": {
         "title": {
          "text": "Fundamental Wavelength (μm)"
         }
        },
        "yaxis": {
         "title": {
          "text": "THW Power"
         }
        }
       }
      }
     },
     "metadata": {},
     "output_type": "display_data"
    },
    {
     "data": {
      "application/vnd.plotly.v1+json": {
       "config": {
        "plotlyServerURL": "https://plot.ly"
       },
       "data": [
        {
         "mode": "lines",
         "name": "Loss",
         "type": "scatter",
         "y": {
          "bdata": "BBvHtmWo1ratoha3KYk3t2b7Wbd26Ye39vzQt4DFZLmn/IC5s+eGuWSDi7nr9L25tQzMucVo8blSRxO66H0uutmySLpTxVe6MBJkugfmb7oVWX269wyKuuvbk7p9bpq6QBqeuk85orqOnqW6kgGoujm3sbobyra6B2a9uk4owbrtD8S6JwPIurVaz7qrXdO6FEzZujai27r//926L0LgunAO4roerum6bL/vuidn9LrQRfi6x7v7um95/7qzpgC71y4Cu7wiA7t4tAO7KFsFu2HlBrsXawm7/2MMu+j3DLvQ0g27TT4Pu5xzELtJaBG7Xr8Tu2B7FbuS3ha7EIkYu5sEHLtU4x673GsguxAIIrsmnyK7QmIju2lTJbtVVSa7mxgouwVSKbtaIiq7hhgsu701Lrv6ezC7tT8zu5VyNbt27ji7/dM6u+XzPLskTT+7ECtAu2RFQbt0CEW7lThHu0DoS7uNnk67hRFSu1MrVrtsX1m7ArJauwvzXLvgk127yyVeu7ulXruJlV+7g91guw==",
          "dtype": "f4"
         }
        }
       ],
       "layout": {
        "template": {
         "data": {
          "bar": [
           {
            "error_x": {
             "color": "#2a3f5f"
            },
            "error_y": {
             "color": "#2a3f5f"
            },
            "marker": {
             "line": {
              "color": "white",
              "width": 0.5
             },
             "pattern": {
              "fillmode": "overlay",
              "size": 10,
              "solidity": 0.2
             }
            },
            "type": "bar"
           }
          ],
          "barpolar": [
           {
            "marker": {
             "line": {
              "color": "white",
              "width": 0.5
             },
             "pattern": {
              "fillmode": "overlay",
              "size": 10,
              "solidity": 0.2
             }
            },
            "type": "barpolar"
           }
          ],
          "carpet": [
           {
            "aaxis": {
             "endlinecolor": "#2a3f5f",
             "gridcolor": "#C8D4E3",
             "linecolor": "#C8D4E3",
             "minorgridcolor": "#C8D4E3",
             "startlinecolor": "#2a3f5f"
            },
            "baxis": {
             "endlinecolor": "#2a3f5f",
             "gridcolor": "#C8D4E3",
             "linecolor": "#C8D4E3",
             "minorgridcolor": "#C8D4E3",
             "startlinecolor": "#2a3f5f"
            },
            "type": "carpet"
           }
          ],
          "choropleth": [
           {
            "colorbar": {
             "outlinewidth": 0,
             "ticks": ""
            },
            "type": "choropleth"
           }
          ],
          "contour": [
           {
            "colorbar": {
             "outlinewidth": 0,
             "ticks": ""
            },
            "colorscale": [
             [
              0,
              "#0d0887"
             ],
             [
              0.1111111111111111,
              "#46039f"
             ],
             [
              0.2222222222222222,
              "#7201a8"
             ],
             [
              0.3333333333333333,
              "#9c179e"
             ],
             [
              0.4444444444444444,
              "#bd3786"
             ],
             [
              0.5555555555555556,
              "#d8576b"
             ],
             [
              0.6666666666666666,
              "#ed7953"
             ],
             [
              0.7777777777777778,
              "#fb9f3a"
             ],
             [
              0.8888888888888888,
              "#fdca26"
             ],
             [
              1,
              "#f0f921"
             ]
            ],
            "type": "contour"
           }
          ],
          "contourcarpet": [
           {
            "colorbar": {
             "outlinewidth": 0,
             "ticks": ""
            },
            "type": "contourcarpet"
           }
          ],
          "heatmap": [
           {
            "colorbar": {
             "outlinewidth": 0,
             "ticks": ""
            },
            "colorscale": [
             [
              0,
              "#0d0887"
             ],
             [
              0.1111111111111111,
              "#46039f"
             ],
             [
              0.2222222222222222,
              "#7201a8"
             ],
             [
              0.3333333333333333,
              "#9c179e"
             ],
             [
              0.4444444444444444,
              "#bd3786"
             ],
             [
              0.5555555555555556,
              "#d8576b"
             ],
             [
              0.6666666666666666,
              "#ed7953"
             ],
             [
              0.7777777777777778,
              "#fb9f3a"
             ],
             [
              0.8888888888888888,
              "#fdca26"
             ],
             [
              1,
              "#f0f921"
             ]
            ],
            "type": "heatmap"
           }
          ],
          "histogram": [
           {
            "marker": {
             "pattern": {
              "fillmode": "overlay",
              "size": 10,
              "solidity": 0.2
             }
            },
            "type": "histogram"
           }
          ],
          "histogram2d": [
           {
            "colorbar": {
             "outlinewidth": 0,
             "ticks": ""
            },
            "colorscale": [
             [
              0,
              "#0d0887"
             ],
             [
              0.1111111111111111,
              "#46039f"
             ],
             [
              0.2222222222222222,
              "#7201a8"
             ],
             [
              0.3333333333333333,
              "#9c179e"
             ],
             [
              0.4444444444444444,
              "#bd3786"
             ],
             [
              0.5555555555555556,
              "#d8576b"
             ],
             [
              0.6666666666666666,
              "#ed7953"
             ],
             [
              0.7777777777777778,
              "#fb9f3a"
             ],
             [
              0.8888888888888888,
              "#fdca26"
             ],
             [
              1,
              "#f0f921"
             ]
            ],
            "type": "histogram2d"
           }
          ],
          "histogram2dcontour": [
           {
            "colorbar": {
             "outlinewidth": 0,
             "ticks": ""
            },
            "colorscale": [
             [
              0,
              "#0d0887"
             ],
             [
              0.1111111111111111,
              "#46039f"
             ],
             [
              0.2222222222222222,
              "#7201a8"
             ],
             [
              0.3333333333333333,
              "#9c179e"
             ],
             [
              0.4444444444444444,
              "#bd3786"
             ],
             [
              0.5555555555555556,
              "#d8576b"
             ],
             [
              0.6666666666666666,
              "#ed7953"
             ],
             [
              0.7777777777777778,
              "#fb9f3a"
             ],
             [
              0.8888888888888888,
              "#fdca26"
             ],
             [
              1,
              "#f0f921"
             ]
            ],
            "type": "histogram2dcontour"
           }
          ],
          "mesh3d": [
           {
            "colorbar": {
             "outlinewidth": 0,
             "ticks": ""
            },
            "type": "mesh3d"
           }
          ],
          "parcoords": [
           {
            "line": {
             "colorbar": {
              "outlinewidth": 0,
              "ticks": ""
             }
            },
            "type": "parcoords"
           }
          ],
          "pie": [
           {
            "automargin": true,
            "type": "pie"
           }
          ],
          "scatter": [
           {
            "fillpattern": {
             "fillmode": "overlay",
             "size": 10,
             "solidity": 0.2
            },
            "type": "scatter"
           }
          ],
          "scatter3d": [
           {
            "line": {
             "colorbar": {
              "outlinewidth": 0,
              "ticks": ""
             }
            },
            "marker": {
             "colorbar": {
              "outlinewidth": 0,
              "ticks": ""
             }
            },
            "type": "scatter3d"
           }
          ],
          "scattercarpet": [
           {
            "marker": {
             "colorbar": {
              "outlinewidth": 0,
              "ticks": ""
             }
            },
            "type": "scattercarpet"
           }
          ],
          "scattergeo": [
           {
            "marker": {
             "colorbar": {
              "outlinewidth": 0,
              "ticks": ""
             }
            },
            "type": "scattergeo"
           }
          ],
          "scattergl": [
           {
            "marker": {
             "colorbar": {
              "outlinewidth": 0,
              "ticks": ""
             }
            },
            "type": "scattergl"
           }
          ],
          "scattermap": [
           {
            "marker": {
             "colorbar": {
              "outlinewidth": 0,
              "ticks": ""
             }
            },
            "type": "scattermap"
           }
          ],
          "scattermapbox": [
           {
            "marker": {
             "colorbar": {
              "outlinewidth": 0,
              "ticks": ""
             }
            },
            "type": "scattermapbox"
           }
          ],
          "scatterpolar": [
           {
            "marker": {
             "colorbar": {
              "outlinewidth": 0,
              "ticks": ""
             }
            },
            "type": "scatterpolar"
           }
          ],
          "scatterpolargl": [
           {
            "marker": {
             "colorbar": {
              "outlinewidth": 0,
              "ticks": ""
             }
            },
            "type": "scatterpolargl"
           }
          ],
          "scatterternary": [
           {
            "marker": {
             "colorbar": {
              "outlinewidth": 0,
              "ticks": ""
             }
            },
            "type": "scatterternary"
           }
          ],
          "surface": [
           {
            "colorbar": {
             "outlinewidth": 0,
             "ticks": ""
            },
            "colorscale": [
             [
              0,
              "#0d0887"
             ],
             [
              0.1111111111111111,
              "#46039f"
             ],
             [
              0.2222222222222222,
              "#7201a8"
             ],
             [
              0.3333333333333333,
              "#9c179e"
             ],
             [
              0.4444444444444444,
              "#bd3786"
             ],
             [
              0.5555555555555556,
              "#d8576b"
             ],
             [
              0.6666666666666666,
              "#ed7953"
             ],
             [
              0.7777777777777778,
              "#fb9f3a"
             ],
             [
              0.8888888888888888,
              "#fdca26"
             ],
             [
              1,
              "#f0f921"
             ]
            ],
            "type": "surface"
           }
          ],
          "table": [
           {
            "cells": {
             "fill": {
              "color": "#EBF0F8"
             },
             "line": {
              "color": "white"
             }
            },
            "header": {
             "fill": {
              "color": "#C8D4E3"
             },
             "line": {
              "color": "white"
             }
            },
            "type": "table"
           }
          ]
         },
         "layout": {
          "annotationdefaults": {
           "arrowcolor": "#2a3f5f",
           "arrowhead": 0,
           "arrowwidth": 1
          },
          "autotypenumbers": "strict",
          "coloraxis": {
           "colorbar": {
            "outlinewidth": 0,
            "ticks": ""
           }
          },
          "colorscale": {
           "diverging": [
            [
             0,
             "#8e0152"
            ],
            [
             0.1,
             "#c51b7d"
            ],
            [
             0.2,
             "#de77ae"
            ],
            [
             0.3,
             "#f1b6da"
            ],
            [
             0.4,
             "#fde0ef"
            ],
            [
             0.5,
             "#f7f7f7"
            ],
            [
             0.6,
             "#e6f5d0"
            ],
            [
             0.7,
             "#b8e186"
            ],
            [
             0.8,
             "#7fbc41"
            ],
            [
             0.9,
             "#4d9221"
            ],
            [
             1,
             "#276419"
            ]
           ],
           "sequential": [
            [
             0,
             "#0d0887"
            ],
            [
             0.1111111111111111,
             "#46039f"
            ],
            [
             0.2222222222222222,
             "#7201a8"
            ],
            [
             0.3333333333333333,
             "#9c179e"
            ],
            [
             0.4444444444444444,
             "#bd3786"
            ],
            [
             0.5555555555555556,
             "#d8576b"
            ],
            [
             0.6666666666666666,
             "#ed7953"
            ],
            [
             0.7777777777777778,
             "#fb9f3a"
            ],
            [
             0.8888888888888888,
             "#fdca26"
            ],
            [
             1,
             "#f0f921"
            ]
           ],
           "sequentialminus": [
            [
             0,
             "#0d0887"
            ],
            [
             0.1111111111111111,
             "#46039f"
            ],
            [
             0.2222222222222222,
             "#7201a8"
            ],
            [
             0.3333333333333333,
             "#9c179e"
            ],
            [
             0.4444444444444444,
             "#bd3786"
            ],
            [
             0.5555555555555556,
             "#d8576b"
            ],
            [
             0.6666666666666666,
             "#ed7953"
            ],
            [
             0.7777777777777778,
             "#fb9f3a"
            ],
            [
             0.8888888888888888,
             "#fdca26"
            ],
            [
             1,
             "#f0f921"
            ]
           ]
          },
          "colorway": [
           "#636efa",
           "#EF553B",
           "#00cc96",
           "#ab63fa",
           "#FFA15A",
           "#19d3f3",
           "#FF6692",
           "#B6E880",
           "#FF97FF",
           "#FECB52"
          ],
          "font": {
           "color": "#2a3f5f"
          },
          "geo": {
           "bgcolor": "white",
           "lakecolor": "white",
           "landcolor": "white",
           "showlakes": true,
           "showland": true,
           "subunitcolor": "#C8D4E3"
          },
          "hoverlabel": {
           "align": "left"
          },
          "hovermode": "closest",
          "mapbox": {
           "style": "light"
          },
          "paper_bgcolor": "white",
          "plot_bgcolor": "white",
          "polar": {
           "angularaxis": {
            "gridcolor": "#EBF0F8",
            "linecolor": "#EBF0F8",
            "ticks": ""
           },
           "bgcolor": "white",
           "radialaxis": {
            "gridcolor": "#EBF0F8",
            "linecolor": "#EBF0F8",
            "ticks": ""
           }
          },
          "scene": {
           "xaxis": {
            "backgroundcolor": "white",
            "gridcolor": "#DFE8F3",
            "gridwidth": 2,
            "linecolor": "#EBF0F8",
            "showbackground": true,
            "ticks": "",
            "zerolinecolor": "#EBF0F8"
           },
           "yaxis": {
            "backgroundcolor": "white",
            "gridcolor": "#DFE8F3",
            "gridwidth": 2,
            "linecolor": "#EBF0F8",
            "showbackground": true,
            "ticks": "",
            "zerolinecolor": "#EBF0F8"
           },
           "zaxis": {
            "backgroundcolor": "white",
            "gridcolor": "#DFE8F3",
            "gridwidth": 2,
            "linecolor": "#EBF0F8",
            "showbackground": true,
            "ticks": "",
            "zerolinecolor": "#EBF0F8"
           }
          },
          "shapedefaults": {
           "line": {
            "color": "#2a3f5f"
           }
          },
          "ternary": {
           "aaxis": {
            "gridcolor": "#DFE8F3",
            "linecolor": "#A2B1C6",
            "ticks": ""
           },
           "baxis": {
            "gridcolor": "#DFE8F3",
            "linecolor": "#A2B1C6",
            "ticks": ""
           },
           "bgcolor": "white",
           "caxis": {
            "gridcolor": "#DFE8F3",
            "linecolor": "#A2B1C6",
            "ticks": ""
           }
          },
          "title": {
           "x": 0.05
          },
          "xaxis": {
           "automargin": true,
           "gridcolor": "#EBF0F8",
           "linecolor": "#EBF0F8",
           "ticks": "",
           "title": {
            "standoff": 15
           },
           "zerolinecolor": "#EBF0F8",
           "zerolinewidth": 2
          },
          "yaxis": {
           "automargin": true,
           "gridcolor": "#EBF0F8",
           "linecolor": "#EBF0F8",
           "ticks": "",
           "title": {
            "standoff": 15
           },
           "zerolinecolor": "#EBF0F8",
           "zerolinewidth": 2
          }
         }
        },
        "title": {
         "text": "Optimization Cost History"
        },
        "xaxis": {
         "title": {
          "text": "Iteration"
         }
        },
        "yaxis": {
         "title": {
          "text": "Loss (MSE)"
         }
        }
       }
      }
     },
     "metadata": {},
     "output_type": "display_data"
    }
   ],
   "source": [
    "# 3. Visualize optimization results\n",
    "print(\"4. Visualizing optimization results...\")\n",
    "plot_domain_widths(initial_widths, optimized_widths, periodic_widths)\n",
    "plot_thw_power_spectrum(initial_widths, optimized_widths, periodic_widths, sim_params, config)\n",
    "plot_cost_history(loss_history)"
   ]
  }
 ],
 "metadata": {
  "kernelspec": {
   "display_name": ".venv",
   "language": "python",
   "name": "python3"
  },
  "language_info": {
   "codemirror_mode": {
    "name": "ipython",
    "version": 3
   },
   "file_extension": ".py",
   "mimetype": "text/x-python",
   "name": "python",
   "nbconvert_exporter": "python",
   "pygments_lexer": "ipython3",
   "version": "3.13.8"
  }
 },
 "nbformat": 4,
 "nbformat_minor": 5
}
