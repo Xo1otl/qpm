{
 "cells": [
  {
   "cell_type": "code",
   "execution_count": null,
   "id": "c1bc2a2f",
   "metadata": {},
   "outputs": [
    {
     "name": "stdout",
     "output_type": "stream",
     "text": [
      "1. Generating initial grating parameters...\n",
      "   - Base domain width from calculation: 3.6008 μm\n",
      "   - Number of domains: 555\n",
      "2. Setting up loss function and L-BFGS optimizer...\n",
      "3. Running JIT-compiled optimization...\n",
      "   - Initial Efficiency: 0.0005\n"
     ]
    },
    {
     "name": "stderr",
     "output_type": "stream",
     "text": [
      "Optimizing: 100%|██████████| 100/100 [00:03<00:00, 26.65it/s]\n"
     ]
    },
    {
     "name": "stdout",
     "output_type": "stream",
     "text": [
      "   - Optimized Efficiency: 0.0007\n",
      "4. Visualizing optimization results...\n"
     ]
    },
    {
     "data": {
      "application/vnd.plotly.v1+json": {
       "config": {
        "plotlyServerURL": "https://plot.ly"
       },
       "data": [
        {
         "line": {
          "dash": "dash"
         },
         "mode": "lines",
         "name": "Initial",
         "type": "scatter",
         "y": {
          "bdata": "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",
          "dtype": "f4"
         }
        },
        {
         "mode": "lines",
         "name": "Optimized",
         "type": "scatter",
         "y": {
          "bdata": "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",
          "dtype": "f4"
         }
        }
       ],
       "layout": {
        "template": {
         "data": {
          "bar": [
           {
            "error_x": {
             "color": "#2a3f5f"
            },
            "error_y": {
             "color": "#2a3f5f"
            },
            "marker": {
             "line": {
              "color": "white",
              "width": 0.5
             },
             "pattern": {
              "fillmode": "overlay",
              "size": 10,
              "solidity": 0.2
             }
            },
            "type": "bar"
           }
          ],
          "barpolar": [
           {
            "marker": {
             "line": {
              "color": "white",
              "width": 0.5
             },
             "pattern": {
              "fillmode": "overlay",
              "size": 10,
              "solidity": 0.2
             }
            },
            "type": "barpolar"
           }
          ],
          "carpet": [
           {
            "aaxis": {
             "endlinecolor": "#2a3f5f",
             "gridcolor": "#C8D4E3",
             "linecolor": "#C8D4E3",
             "minorgridcolor": "#C8D4E3",
             "startlinecolor": "#2a3f5f"
            },
            "baxis": {
             "endlinecolor": "#2a3f5f",
             "gridcolor": "#C8D4E3",
             "linecolor": "#C8D4E3",
             "minorgridcolor": "#C8D4E3",
             "startlinecolor": "#2a3f5f"
            },
            "type": "carpet"
           }
          ],
          "choropleth": [
           {
            "colorbar": {
             "outlinewidth": 0,
             "ticks": ""
            },
            "type": "choropleth"
           }
          ],
          "contour": [
           {
            "colorbar": {
             "outlinewidth": 0,
             "ticks": ""
            },
            "colorscale": [
             [
              0,
              "#0d0887"
             ],
             [
              0.1111111111111111,
              "#46039f"
             ],
             [
              0.2222222222222222,
              "#7201a8"
             ],
             [
              0.3333333333333333,
              "#9c179e"
             ],
             [
              0.4444444444444444,
              "#bd3786"
             ],
             [
              0.5555555555555556,
              "#d8576b"
             ],
             [
              0.6666666666666666,
              "#ed7953"
             ],
             [
              0.7777777777777778,
              "#fb9f3a"
             ],
             [
              0.8888888888888888,
              "#fdca26"
             ],
             [
              1,
              "#f0f921"
             ]
            ],
            "type": "contour"
           }
          ],
          "contourcarpet": [
           {
            "colorbar": {
             "outlinewidth": 0,
             "ticks": ""
            },
            "type": "contourcarpet"
           }
          ],
          "heatmap": [
           {
            "colorbar": {
             "outlinewidth": 0,
             "ticks": ""
            },
            "colorscale": [
             [
              0,
              "#0d0887"
             ],
             [
              0.1111111111111111,
              "#46039f"
             ],
             [
              0.2222222222222222,
              "#7201a8"
             ],
             [
              0.3333333333333333,
              "#9c179e"
             ],
             [
              0.4444444444444444,
              "#bd3786"
             ],
             [
              0.5555555555555556,
              "#d8576b"
             ],
             [
              0.6666666666666666,
              "#ed7953"
             ],
             [
              0.7777777777777778,
              "#fb9f3a"
             ],
             [
              0.8888888888888888,
              "#fdca26"
             ],
             [
              1,
              "#f0f921"
             ]
            ],
            "type": "heatmap"
           }
          ],
          "histogram": [
           {
            "marker": {
             "pattern": {
              "fillmode": "overlay",
              "size": 10,
              "solidity": 0.2
             }
            },
            "type": "histogram"
           }
          ],
          "histogram2d": [
           {
            "colorbar": {
             "outlinewidth": 0,
             "ticks": ""
            },
            "colorscale": [
             [
              0,
              "#0d0887"
             ],
             [
              0.1111111111111111,
              "#46039f"
             ],
             [
              0.2222222222222222,
              "#7201a8"
             ],
             [
              0.3333333333333333,
              "#9c179e"
             ],
             [
              0.4444444444444444,
              "#bd3786"
             ],
             [
              0.5555555555555556,
              "#d8576b"
             ],
             [
              0.6666666666666666,
              "#ed7953"
             ],
             [
              0.7777777777777778,
              "#fb9f3a"
             ],
             [
              0.8888888888888888,
              "#fdca26"
             ],
             [
              1,
              "#f0f921"
             ]
            ],
            "type": "histogram2d"
           }
          ],
          "histogram2dcontour": [
           {
            "colorbar": {
             "outlinewidth": 0,
             "ticks": ""
            },
            "colorscale": [
             [
              0,
              "#0d0887"
             ],
             [
              0.1111111111111111,
              "#46039f"
             ],
             [
              0.2222222222222222,
              "#7201a8"
             ],
             [
              0.3333333333333333,
              "#9c179e"
             ],
             [
              0.4444444444444444,
              "#bd3786"
             ],
             [
              0.5555555555555556,
              "#d8576b"
             ],
             [
              0.6666666666666666,
              "#ed7953"
             ],
             [
              0.7777777777777778,
              "#fb9f3a"
             ],
             [
              0.8888888888888888,
              "#fdca26"
             ],
             [
              1,
              "#f0f921"
             ]
            ],
            "type": "histogram2dcontour"
           }
          ],
          "mesh3d": [
           {
            "colorbar": {
             "outlinewidth": 0,
             "ticks": ""
            },
            "type": "mesh3d"
           }
          ],
          "parcoords": [
           {
            "line": {
             "colorbar": {
              "outlinewidth": 0,
              "ticks": ""
             }
            },
            "type": "parcoords"
           }
          ],
          "pie": [
           {
            "automargin": true,
            "type": "pie"
           }
          ],
          "scatter": [
           {
            "fillpattern": {
             "fillmode": "overlay",
             "size": 10,
             "solidity": 0.2
            },
            "type": "scatter"
           }
          ],
          "scatter3d": [
           {
            "line": {
             "colorbar": {
              "outlinewidth": 0,
              "ticks": ""
             }
            },
            "marker": {
             "colorbar": {
              "outlinewidth": 0,
              "ticks": ""
             }
            },
            "type": "scatter3d"
           }
          ],
          "scattercarpet": [
           {
            "marker": {
             "colorbar": {
              "outlinewidth": 0,
              "ticks": ""
             }
            },
            "type": "scattercarpet"
           }
          ],
          "scattergeo": [
           {
            "marker": {
             "colorbar": {
              "outlinewidth": 0,
              "ticks": ""
             }
            },
            "type": "scattergeo"
           }
          ],
          "scattergl": [
           {
            "marker": {
             "colorbar": {
              "outlinewidth": 0,
              "ticks": ""
             }
            },
            "type": "scattergl"
           }
          ],
          "scattermap": [
           {
            "marker": {
             "colorbar": {
              "outlinewidth": 0,
              "ticks": ""
             }
            },
            "type": "scattermap"
           }
          ],
          "scattermapbox": [
           {
            "marker": {
             "colorbar": {
              "outlinewidth": 0,
              "ticks": ""
             }
            },
            "type": "scattermapbox"
           }
          ],
          "scatterpolar": [
           {
            "marker": {
             "colorbar": {
              "outlinewidth": 0,
              "ticks": ""
             }
            },
            "type": "scatterpolar"
           }
          ],
          "scatterpolargl": [
           {
            "marker": {
             "colorbar": {
              "outlinewidth": 0,
              "ticks": ""
             }
            },
            "type": "scatterpolargl"
           }
          ],
          "scatterternary": [
           {
            "marker": {
             "colorbar": {
              "outlinewidth": 0,
              "ticks": ""
             }
            },
            "type": "scatterternary"
           }
          ],
          "surface": [
           {
            "colorbar": {
             "outlinewidth": 0,
             "ticks": ""
            },
            "colorscale": [
             [
              0,
              "#0d0887"
             ],
             [
              0.1111111111111111,
              "#46039f"
             ],
             [
              0.2222222222222222,
              "#7201a8"
             ],
             [
              0.3333333333333333,
              "#9c179e"
             ],
             [
              0.4444444444444444,
              "#bd3786"
             ],
             [
              0.5555555555555556,
              "#d8576b"
             ],
             [
              0.6666666666666666,
              "#ed7953"
             ],
             [
              0.7777777777777778,
              "#fb9f3a"
             ],
             [
              0.8888888888888888,
              "#fdca26"
             ],
             [
              1,
              "#f0f921"
             ]
            ],
            "type": "surface"
           }
          ],
          "table": [
           {
            "cells": {
             "fill": {
              "color": "#EBF0F8"
             },
             "line": {
              "color": "white"
             }
            },
            "header": {
             "fill": {
              "color": "#C8D4E3"
             },
             "line": {
              "color": "white"
             }
            },
            "type": "table"
           }
          ]
         },
         "layout": {
          "annotationdefaults": {
           "arrowcolor": "#2a3f5f",
           "arrowhead": 0,
           "arrowwidth": 1
          },
          "autotypenumbers": "strict",
          "coloraxis": {
           "colorbar": {
            "outlinewidth": 0,
            "ticks": ""
           }
          },
          "colorscale": {
           "diverging": [
            [
             0,
             "#8e0152"
            ],
            [
             0.1,
             "#c51b7d"
            ],
            [
             0.2,
             "#de77ae"
            ],
            [
             0.3,
             "#f1b6da"
            ],
            [
             0.4,
             "#fde0ef"
            ],
            [
             0.5,
             "#f7f7f7"
            ],
            [
             0.6,
             "#e6f5d0"
            ],
            [
             0.7,
             "#b8e186"
            ],
            [
             0.8,
             "#7fbc41"
            ],
            [
             0.9,
             "#4d9221"
            ],
            [
             1,
             "#276419"
            ]
           ],
           "sequential": [
            [
             0,
             "#0d0887"
            ],
            [
             0.1111111111111111,
             "#46039f"
            ],
            [
             0.2222222222222222,
             "#7201a8"
            ],
            [
             0.3333333333333333,
             "#9c179e"
            ],
            [
             0.4444444444444444,
             "#bd3786"
            ],
            [
             0.5555555555555556,
             "#d8576b"
            ],
            [
             0.6666666666666666,
             "#ed7953"
            ],
            [
             0.7777777777777778,
             "#fb9f3a"
            ],
            [
             0.8888888888888888,
             "#fdca26"
            ],
            [
             1,
             "#f0f921"
            ]
           ],
           "sequentialminus": [
            [
             0,
             "#0d0887"
            ],
            [
             0.1111111111111111,
             "#46039f"
            ],
            [
             0.2222222222222222,
             "#7201a8"
            ],
            [
             0.3333333333333333,
             "#9c179e"
            ],
            [
             0.4444444444444444,
             "#bd3786"
            ],
            [
             0.5555555555555556,
             "#d8576b"
            ],
            [
             0.6666666666666666,
             "#ed7953"
            ],
            [
             0.7777777777777778,
             "#fb9f3a"
            ],
            [
             0.8888888888888888,
             "#fdca26"
            ],
            [
             1,
             "#f0f921"
            ]
           ]
          },
          "colorway": [
           "#636efa",
           "#EF553B",
           "#00cc96",
           "#ab63fa",
           "#FFA15A",
           "#19d3f3",
           "#FF6692",
           "#B6E880",
           "#FF97FF",
           "#FECB52"
          ],
          "font": {
           "color": "#2a3f5f"
          },
          "geo": {
           "bgcolor": "white",
           "lakecolor": "white",
           "landcolor": "white",
           "showlakes": true,
           "showland": true,
           "subunitcolor": "#C8D4E3"
          },
          "hoverlabel": {
           "align": "left"
          },
          "hovermode": "closest",
          "mapbox": {
           "style": "light"
          },
          "paper_bgcolor": "white",
          "plot_bgcolor": "white",
          "polar": {
           "angularaxis": {
            "gridcolor": "#EBF0F8",
            "linecolor": "#EBF0F8",
            "ticks": ""
           },
           "bgcolor": "white",
           "radialaxis": {
            "gridcolor": "#EBF0F8",
            "linecolor": "#EBF0F8",
            "ticks": ""
           }
          },
          "scene": {
           "xaxis": {
            "backgroundcolor": "white",
            "gridcolor": "#DFE8F3",
            "gridwidth": 2,
            "linecolor": "#EBF0F8",
            "showbackground": true,
            "ticks": "",
            "zerolinecolor": "#EBF0F8"
           },
           "yaxis": {
            "backgroundcolor": "white",
            "gridcolor": "#DFE8F3",
            "gridwidth": 2,
            "linecolor": "#EBF0F8",
            "showbackground": true,
            "ticks": "",
            "zerolinecolor": "#EBF0F8"
           },
           "zaxis": {
            "backgroundcolor": "white",
            "gridcolor": "#DFE8F3",
            "gridwidth": 2,
            "linecolor": "#EBF0F8",
            "showbackground": true,
            "ticks": "",
            "zerolinecolor": "#EBF0F8"
           }
          },
          "shapedefaults": {
           "line": {
            "color": "#2a3f5f"
           }
          },
          "ternary": {
           "aaxis": {
            "gridcolor": "#DFE8F3",
            "linecolor": "#A2B1C6",
            "ticks": ""
           },
           "baxis": {
            "gridcolor": "#DFE8F3",
            "linecolor": "#A2B1C6",
            "ticks": ""
           },
           "bgcolor": "white",
           "caxis": {
            "gridcolor": "#DFE8F3",
            "linecolor": "#A2B1C6",
            "ticks": ""
           }
          },
          "title": {
           "x": 0.05
          },
          "xaxis": {
           "automargin": true,
           "gridcolor": "#EBF0F8",
           "linecolor": "#EBF0F8",
           "ticks": "",
           "title": {
            "standoff": 15
           },
           "zerolinecolor": "#EBF0F8",
           "zerolinewidth": 2
          },
          "yaxis": {
           "automargin": true,
           "gridcolor": "#EBF0F8",
           "linecolor": "#EBF0F8",
           "ticks": "",
           "title": {
            "standoff": 15
           },
           "zerolinecolor": "#EBF0F8",
           "zerolinewidth": 2
          }
         }
        },
        "title": {
         "text": "Domain Widths Before and After Optimization"
        },
        "xaxis": {
         "title": {
          "text": "Domain Index"
         }
        },
        "yaxis": {
         "title": {
          "text": "Width (μm)"
         }
        }
       }
      }
     },
     "metadata": {},
     "output_type": "display_data"
    },
    {
     "data": {
      "application/vnd.plotly.v1+json": {
       "config": {
        "plotlyServerURL": "https://plot.ly"
       },
       "data": [
        {
         "line": {
          "dash": "dash"
         },
         "mode": "lines",
         "name": "Initial",
         "type": "scatter",
         "x": {
          "bdata": "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",
          "dtype": "f4"
         },
         "y": {
          "bdata": "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",
          "dtype": "f4"
         }
        },
        {
         "mode": "lines",
         "name": "Optimized",
         "type": "scatter",
         "x": {
          "bdata": "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",
          "dtype": "f4"
         },
         "y": {
          "bdata": "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",
          "dtype": "f4"
         }
        }
       ],
       "layout": {
        "annotations": [
         {
          "showarrow": false,
          "text": "Design λ 1.031μm",
          "x": 1.031,
          "xanchor": "left",
          "xref": "x",
          "y": 0,
          "yanchor": "bottom",
          "yref": "y domain"
         }
        ],
        "shapes": [
         {
          "line": {
           "color": "red",
           "dash": "dot"
          },
          "type": "line",
          "x0": 1.031,
          "x1": 1.031,
          "xref": "x",
          "y0": 0,
          "y1": 1,
          "yref": "y domain"
         }
        ],
        "template": {
         "data": {
          "bar": [
           {
            "error_x": {
             "color": "#2a3f5f"
            },
            "error_y": {
             "color": "#2a3f5f"
            },
            "marker": {
             "line": {
              "color": "white",
              "width": 0.5
             },
             "pattern": {
              "fillmode": "overlay",
              "size": 10,
              "solidity": 0.2
             }
            },
            "type": "bar"
           }
          ],
          "barpolar": [
           {
            "marker": {
             "line": {
              "color": "white",
              "width": 0.5
             },
             "pattern": {
              "fillmode": "overlay",
              "size": 10,
              "solidity": 0.2
             }
            },
            "type": "barpolar"
           }
          ],
          "carpet": [
           {
            "aaxis": {
             "endlinecolor": "#2a3f5f",
             "gridcolor": "#C8D4E3",
             "linecolor": "#C8D4E3",
             "minorgridcolor": "#C8D4E3",
             "startlinecolor": "#2a3f5f"
            },
            "baxis": {
             "endlinecolor": "#2a3f5f",
             "gridcolor": "#C8D4E3",
             "linecolor": "#C8D4E3",
             "minorgridcolor": "#C8D4E3",
             "startlinecolor": "#2a3f5f"
            },
            "type": "carpet"
           }
          ],
          "choropleth": [
           {
            "colorbar": {
             "outlinewidth": 0,
             "ticks": ""
            },
            "type": "choropleth"
           }
          ],
          "contour": [
           {
            "colorbar": {
             "outlinewidth": 0,
             "ticks": ""
            },
            "colorscale": [
             [
              0,
              "#0d0887"
             ],
             [
              0.1111111111111111,
              "#46039f"
             ],
             [
              0.2222222222222222,
              "#7201a8"
             ],
             [
              0.3333333333333333,
              "#9c179e"
             ],
             [
              0.4444444444444444,
              "#bd3786"
             ],
             [
              0.5555555555555556,
              "#d8576b"
             ],
             [
              0.6666666666666666,
              "#ed7953"
             ],
             [
              0.7777777777777778,
              "#fb9f3a"
             ],
             [
              0.8888888888888888,
              "#fdca26"
             ],
             [
              1,
              "#f0f921"
             ]
            ],
            "type": "contour"
           }
          ],
          "contourcarpet": [
           {
            "colorbar": {
             "outlinewidth": 0,
             "ticks": ""
            },
            "type": "contourcarpet"
           }
          ],
          "heatmap": [
           {
            "colorbar": {
             "outlinewidth": 0,
             "ticks": ""
            },
            "colorscale": [
             [
              0,
              "#0d0887"
             ],
             [
              0.1111111111111111,
              "#46039f"
             ],
             [
              0.2222222222222222,
              "#7201a8"
             ],
             [
              0.3333333333333333,
              "#9c179e"
             ],
             [
              0.4444444444444444,
              "#bd3786"
             ],
             [
              0.5555555555555556,
              "#d8576b"
             ],
             [
              0.6666666666666666,
              "#ed7953"
             ],
             [
              0.7777777777777778,
              "#fb9f3a"
             ],
             [
              0.8888888888888888,
              "#fdca26"
             ],
             [
              1,
              "#f0f921"
             ]
            ],
            "type": "heatmap"
           }
          ],
          "histogram": [
           {
            "marker": {
             "pattern": {
              "fillmode": "overlay",
              "size": 10,
              "solidity": 0.2
             }
            },
            "type": "histogram"
           }
          ],
          "histogram2d": [
           {
            "colorbar": {
             "outlinewidth": 0,
             "ticks": ""
            },
            "colorscale": [
             [
              0,
              "#0d0887"
             ],
             [
              0.1111111111111111,
              "#46039f"
             ],
             [
              0.2222222222222222,
              "#7201a8"
             ],
             [
              0.3333333333333333,
              "#9c179e"
             ],
             [
              0.4444444444444444,
              "#bd3786"
             ],
             [
              0.5555555555555556,
              "#d8576b"
             ],
             [
              0.6666666666666666,
              "#ed7953"
             ],
             [
              0.7777777777777778,
              "#fb9f3a"
             ],
             [
              0.8888888888888888,
              "#fdca26"
             ],
             [
              1,
              "#f0f921"
             ]
            ],
            "type": "histogram2d"
           }
          ],
          "histogram2dcontour": [
           {
            "colorbar": {
             "outlinewidth": 0,
             "ticks": ""
            },
            "colorscale": [
             [
              0,
              "#0d0887"
             ],
             [
              0.1111111111111111,
              "#46039f"
             ],
             [
              0.2222222222222222,
              "#7201a8"
             ],
             [
              0.3333333333333333,
              "#9c179e"
             ],
             [
              0.4444444444444444,
              "#bd3786"
             ],
             [
              0.5555555555555556,
              "#d8576b"
             ],
             [
              0.6666666666666666,
              "#ed7953"
             ],
             [
              0.7777777777777778,
              "#fb9f3a"
             ],
             [
              0.8888888888888888,
              "#fdca26"
             ],
             [
              1,
              "#f0f921"
             ]
            ],
            "type": "histogram2dcontour"
           }
          ],
          "mesh3d": [
           {
            "colorbar": {
             "outlinewidth": 0,
             "ticks": ""
            },
            "type": "mesh3d"
           }
          ],
          "parcoords": [
           {
            "line": {
             "colorbar": {
              "outlinewidth": 0,
              "ticks": ""
             }
            },
            "type": "parcoords"
           }
          ],
          "pie": [
           {
            "automargin": true,
            "type": "pie"
           }
          ],
          "scatter": [
           {
            "fillpattern": {
             "fillmode": "overlay",
             "size": 10,
             "solidity": 0.2
            },
            "type": "scatter"
           }
          ],
          "scatter3d": [
           {
            "line": {
             "colorbar": {
              "outlinewidth": 0,
              "ticks": ""
             }
            },
            "marker": {
             "colorbar": {
              "outlinewidth": 0,
              "ticks": ""
             }
            },
            "type": "scatter3d"
           }
          ],
          "scattercarpet": [
           {
            "marker": {
             "colorbar": {
              "outlinewidth": 0,
              "ticks": ""
             }
            },
            "type": "scattercarpet"
           }
          ],
          "scattergeo": [
           {
            "marker": {
             "colorbar": {
              "outlinewidth": 0,
              "ticks": ""
             }
            },
            "type": "scattergeo"
           }
          ],
          "scattergl": [
           {
            "marker": {
             "colorbar": {
              "outlinewidth": 0,
              "ticks": ""
             }
            },
            "type": "scattergl"
           }
          ],
          "scattermap": [
           {
            "marker": {
             "colorbar": {
              "outlinewidth": 0,
              "ticks": ""
             }
            },
            "type": "scattermap"
           }
          ],
          "scattermapbox": [
           {
            "marker": {
             "colorbar": {
              "outlinewidth": 0,
              "ticks": ""
             }
            },
            "type": "scattermapbox"
           }
          ],
          "scatterpolar": [
           {
            "marker": {
             "colorbar": {
              "outlinewidth": 0,
              "ticks": ""
             }
            },
            "type": "scatterpolar"
           }
          ],
          "scatterpolargl": [
           {
            "marker": {
             "colorbar": {
              "outlinewidth": 0,
              "ticks": ""
             }
            },
            "type": "scatterpolargl"
           }
          ],
          "scatterternary": [
           {
            "marker": {
             "colorbar": {
              "outlinewidth": 0,
              "ticks": ""
             }
            },
            "type": "scatterternary"
           }
          ],
          "surface": [
           {
            "colorbar": {
             "outlinewidth": 0,
             "ticks": ""
            },
            "colorscale": [
             [
              0,
              "#0d0887"
             ],
             [
              0.1111111111111111,
              "#46039f"
             ],
             [
              0.2222222222222222,
              "#7201a8"
             ],
             [
              0.3333333333333333,
              "#9c179e"
             ],
             [
              0.4444444444444444,
              "#bd3786"
             ],
             [
              0.5555555555555556,
              "#d8576b"
             ],
             [
              0.6666666666666666,
              "#ed7953"
             ],
             [
              0.7777777777777778,
              "#fb9f3a"
             ],
             [
              0.8888888888888888,
              "#fdca26"
             ],
             [
              1,
              "#f0f921"
             ]
            ],
            "type": "surface"
           }
          ],
          "table": [
           {
            "cells": {
             "fill": {
              "color": "#EBF0F8"
             },
             "line": {
              "color": "white"
             }
            },
            "header": {
             "fill": {
              "color": "#C8D4E3"
             },
             "line": {
              "color": "white"
             }
            },
            "type": "table"
           }
          ]
         },
         "layout": {
          "annotationdefaults": {
           "arrowcolor": "#2a3f5f",
           "arrowhead": 0,
           "arrowwidth": 1
          },
          "autotypenumbers": "strict",
          "coloraxis": {
           "colorbar": {
            "outlinewidth": 0,
            "ticks": ""
           }
          },
          "colorscale": {
           "diverging": [
            [
             0,
             "#8e0152"
            ],
            [
             0.1,
             "#c51b7d"
            ],
            [
             0.2,
             "#de77ae"
            ],
            [
             0.3,
             "#f1b6da"
            ],
            [
             0.4,
             "#fde0ef"
            ],
            [
             0.5,
             "#f7f7f7"
            ],
            [
             0.6,
             "#e6f5d0"
            ],
            [
             0.7,
             "#b8e186"
            ],
            [
             0.8,
             "#7fbc41"
            ],
            [
             0.9,
             "#4d9221"
            ],
            [
             1,
             "#276419"
            ]
           ],
           "sequential": [
            [
             0,
             "#0d0887"
            ],
            [
             0.1111111111111111,
             "#46039f"
            ],
            [
             0.2222222222222222,
             "#7201a8"
            ],
            [
             0.3333333333333333,
             "#9c179e"
            ],
            [
             0.4444444444444444,
             "#bd3786"
            ],
            [
             0.5555555555555556,
             "#d8576b"
            ],
            [
             0.6666666666666666,
             "#ed7953"
            ],
            [
             0.7777777777777778,
             "#fb9f3a"
            ],
            [
             0.8888888888888888,
             "#fdca26"
            ],
            [
             1,
             "#f0f921"
            ]
           ],
           "sequentialminus": [
            [
             0,
             "#0d0887"
            ],
            [
             0.1111111111111111,
             "#46039f"
            ],
            [
             0.2222222222222222,
             "#7201a8"
            ],
            [
             0.3333333333333333,
             "#9c179e"
            ],
            [
             0.4444444444444444,
             "#bd3786"
            ],
            [
             0.5555555555555556,
             "#d8576b"
            ],
            [
             0.6666666666666666,
             "#ed7953"
            ],
            [
             0.7777777777777778,
             "#fb9f3a"
            ],
            [
             0.8888888888888888,
             "#fdca26"
            ],
            [
             1,
             "#f0f921"
            ]
           ]
          },
          "colorway": [
           "#636efa",
           "#EF553B",
           "#00cc96",
           "#ab63fa",
           "#FFA15A",
           "#19d3f3",
           "#FF6692",
           "#B6E880",
           "#FF97FF",
           "#FECB52"
          ],
          "font": {
           "color": "#2a3f5f"
          },
          "geo": {
           "bgcolor": "white",
           "lakecolor": "white",
           "landcolor": "white",
           "showlakes": true,
           "showland": true,
           "subunitcolor": "#C8D4E3"
          },
          "hoverlabel": {
           "align": "left"
          },
          "hovermode": "closest",
          "mapbox": {
           "style": "light"
          },
          "paper_bgcolor": "white",
          "plot_bgcolor": "white",
          "polar": {
           "angularaxis": {
            "gridcolor": "#EBF0F8",
            "linecolor": "#EBF0F8",
            "ticks": ""
           },
           "bgcolor": "white",
           "radialaxis": {
            "gridcolor": "#EBF0F8",
            "linecolor": "#EBF0F8",
            "ticks": ""
           }
          },
          "scene": {
           "xaxis": {
            "backgroundcolor": "white",
            "gridcolor": "#DFE8F3",
            "gridwidth": 2,
            "linecolor": "#EBF0F8",
            "showbackground": true,
            "ticks": "",
            "zerolinecolor": "#EBF0F8"
           },
           "yaxis": {
            "backgroundcolor": "white",
            "gridcolor": "#DFE8F3",
            "gridwidth": 2,
            "linecolor": "#EBF0F8",
            "showbackground": true,
            "ticks": "",
            "zerolinecolor": "#EBF0F8"
           },
           "zaxis": {
            "backgroundcolor": "white",
            "gridcolor": "#DFE8F3",
            "gridwidth": 2,
            "linecolor": "#EBF0F8",
            "showbackground": true,
            "ticks": "",
            "zerolinecolor": "#EBF0F8"
           }
          },
          "shapedefaults": {
           "line": {
            "color": "#2a3f5f"
           }
          },
          "ternary": {
           "aaxis": {
            "gridcolor": "#DFE8F3",
            "linecolor": "#A2B1C6",
            "ticks": ""
           },
           "baxis": {
            "gridcolor": "#DFE8F3",
            "linecolor": "#A2B1C6",
            "ticks": ""
           },
           "bgcolor": "white",
           "caxis": {
            "gridcolor": "#DFE8F3",
            "linecolor": "#A2B1C6",
            "ticks": ""
           }
          },
          "title": {
           "x": 0.05
          },
          "xaxis": {
           "automargin": true,
           "gridcolor": "#EBF0F8",
           "linecolor": "#EBF0F8",
           "ticks": "",
           "title": {
            "standoff": 15
           },
           "zerolinecolor": "#EBF0F8",
           "zerolinewidth": 2
          },
          "yaxis": {
           "automargin": true,
           "gridcolor": "#EBF0F8",
           "linecolor": "#EBF0F8",
           "ticks": "",
           "title": {
            "standoff": 15
           },
           "zerolinecolor": "#EBF0F8",
           "zerolinewidth": 2
          }
         }
        },
        "title": {
         "text": "SHG Efficiency Spectrum Comparison"
        },
        "xaxis": {
         "title": {
          "text": "Fundamental Wavelength (μm)"
         }
        },
        "yaxis": {
         "title": {
          "text": "Conversion Efficiency"
         }
        }
       }
      }
     },
     "metadata": {},
     "output_type": "display_data"
    }
   ],
   "source": [
    "from collections.abc import Callable\n",
    "from dataclasses import dataclass\n",
    "\n",
    "import jax\n",
    "import jax.numpy as jnp\n",
    "import optax  # pyright: ignore[reportMissingTypeStubs]\n",
    "import plotly.graph_objects as go  # pyright: ignore[reportMissingTypeStubs]\n",
    "from jax import Array, jit\n",
    "from jax_tqdm.loop_pbar import loop_tqdm\n",
    "\n",
    "from qpm import cwes, mgoslt\n",
    "\n",
    "\n",
    "# --- Data Structures for Configuration and Parameters ---\n",
    "@dataclass(frozen=True)\n",
    "class GratingConfig:\n",
    "    design_temp: float = 70.0\n",
    "    design_wl: float = 1.031\n",
    "    target_length: float = 2000.0\n",
    "    max_iters: int = 1000\n",
    "    prng_seed: int = 42\n",
    "    kappa_mag: float = 1.31e-4 / (2 / jnp.pi)\n",
    "    kappa_target_length: float = 2000.0\n",
    "    wl_start: float = 1.025\n",
    "    wl_end: float = 1.035\n",
    "    num_points: int = 500\n",
    "\n",
    "\n",
    "@dataclass(frozen=True)\n",
    "class SimulationParameters:\n",
    "    delta_k1: Array\n",
    "    delta_k2: Array\n",
    "    kappa_array: Array\n",
    "    b_initial: Array\n",
    "\n",
    "\n",
    "# --- Core JAX Functions ---\n",
    "def make_loss_fn(sim_params: SimulationParameters) -> Callable[[Array], Array]:\n",
    "    \"\"\"Creates a loss function that returns the negative SHG efficiency.\"\"\"\n",
    "\n",
    "    @jit\n",
    "    def loss_fn(domain_widths: Array) -> Array:\n",
    "        superlattice = jnp.stack([domain_widths, sim_params.kappa_array], axis=1)\n",
    "        b_final = cwes.simulate_twm(superlattice, sim_params.delta_k1, sim_params.delta_k2, sim_params.b_initial)\n",
    "        efficiency = jnp.abs(b_final[2]) ** 2\n",
    "        return -efficiency\n",
    "\n",
    "    return loss_fn\n",
    "\n",
    "\n",
    "# --- Workflow Functions ---\n",
    "def _initialize_grating(config: GratingConfig) -> tuple[Array, Array, Array, Array]:\n",
    "    \"\"\"Generates initial grating parameters based on the configuration.\"\"\"\n",
    "    print(\"1. Generating initial grating parameters...\")\n",
    "    delta_k1 = mgoslt.calc_twm_delta_k(config.design_wl, config.design_wl, config.design_temp)\n",
    "    delta_k2 = mgoslt.calc_twm_delta_k(config.design_wl, config.design_wl / 2, config.design_temp)\n",
    "\n",
    "    domain_len_shg = jnp.pi / delta_k1\n",
    "    num_domains = int(jnp.round(config.target_length / domain_len_shg))\n",
    "    print(f\"   - Base domain width from calculation: {domain_len_shg:.4f} μm\")\n",
    "    print(f\"   - Number of domains: {num_domains}\")\n",
    "\n",
    "    kappa_array = config.kappa_mag * jnp.power(-1.0, jnp.arange(num_domains))\n",
    "\n",
    "    initial_widths = jnp.full(num_domains, domain_len_shg)\n",
    "    key = jax.random.PRNGKey(config.prng_seed)\n",
    "    noise = jax.random.normal(key, shape=(num_domains,)) * (domain_len_shg * 0.02)\n",
    "    initial_widths = initial_widths + noise\n",
    "\n",
    "    return delta_k1, delta_k2, kappa_array, initial_widths\n",
    "\n",
    "\n",
    "# REFACTOR: The function signature is now clean and compact.\n",
    "def _run_optimization(\n",
    "    initial_widths: Array,\n",
    "    sim_params: SimulationParameters,\n",
    "    config: GratingConfig,\n",
    ") -> Array:\n",
    "    \"\"\"Sets up and runs the L-BFGS optimization.\"\"\"\n",
    "    print(\"2. Setting up loss function and L-BFGS optimizer...\")\n",
    "    loss_fn = make_loss_fn(sim_params)\n",
    "    solver = optax.lbfgs()\n",
    "\n",
    "    @jit\n",
    "    def run_full_optimization(initial_params: Array) -> Array:\n",
    "        @loop_tqdm(config.max_iters, desc=\"Optimizing\")\n",
    "        def step(_: int, state: tuple[Array, optax.OptState]) -> tuple[optax.Params, optax.OptState]:\n",
    "            params, opt_state = state\n",
    "            value, grad = jax.value_and_grad(loss_fn)(params)\n",
    "            updates, opt_state = solver.update(grad, opt_state, params, value=value, grad=grad, value_fn=loss_fn)\n",
    "            params = optax.apply_updates(params, updates)\n",
    "            return params, opt_state\n",
    "\n",
    "        initial_opt_state = solver.init(initial_params)\n",
    "        optimized_params, _ = jax.lax.fori_loop(0, config.max_iters, step, (initial_params, initial_opt_state))\n",
    "        return optimized_params\n",
    "\n",
    "    print(\"3. Running JIT-compiled optimization...\")\n",
    "    print(f\"   - Initial Efficiency: {-loss_fn(initial_widths):.4f}\")\n",
    "\n",
    "    optimized_widths = run_full_optimization(initial_widths)\n",
    "    optimized_widths.block_until_ready()\n",
    "\n",
    "    print(f\"   - Optimized Efficiency: {-loss_fn(optimized_widths):.4f}\")\n",
    "    return optimized_widths\n",
    "\n",
    "\n",
    "# --- Visualization Functions ---\n",
    "def _calculate_spectrum(domain_widths: Array, sim_params: SimulationParameters, config: GratingConfig) -> tuple[Array, Array]:\n",
    "    \"\"\"Helper function to compute the SHG efficiency spectrum for a given grating.\"\"\"\n",
    "    wls = jnp.linspace(config.wl_start, config.wl_end, config.num_points)\n",
    "    delta_k1s = mgoslt.calc_twm_delta_k(wls, wls, config.design_temp)\n",
    "    delta_k2s = mgoslt.calc_twm_delta_k(wls, wls / 2, config.design_temp)\n",
    "\n",
    "    compute_spectrum_vmap = jit(jax.vmap(cwes.simulate_twm, in_axes=(None, 0, 0, None)))\n",
    "\n",
    "    superlattice = jnp.stack([domain_widths, sim_params.kappa_array], axis=1)\n",
    "    final_vectors = compute_spectrum_vmap(superlattice, delta_k1s, delta_k2s, sim_params.b_initial)\n",
    "    efficiencies = jnp.abs(final_vectors[:, 2]) ** 2\n",
    "    return wls, efficiencies\n",
    "\n",
    "\n",
    "def _plot_domain_widths(initial_widths: Array, optimized_widths: Array) -> None:\n",
    "    \"\"\"Plots the domain widths before and after optimization.\"\"\"\n",
    "    fig = go.Figure()\n",
    "    fig.add_trace(go.Scatter(y=initial_widths, mode=\"lines\", name=\"Initial\", line={\"dash\": \"dash\"}))\n",
    "    fig.add_trace(go.Scatter(y=optimized_widths, mode=\"lines\", name=\"Optimized\"))\n",
    "    fig.update_layout(\n",
    "        title_text=\"Domain Widths Before and After Optimization\",\n",
    "        xaxis_title=\"Domain Index\",\n",
    "        yaxis_title=\"Width (μm)\",\n",
    "        template=\"plotly_white\",\n",
    "    )\n",
    "    fig.show()\n",
    "\n",
    "\n",
    "# REFACTOR: This function signature is also much cleaner now.\n",
    "def _plot_efficiency_spectrum(\n",
    "    initial_widths: Array,\n",
    "    optimized_widths: Array,\n",
    "    sim_params: SimulationParameters,\n",
    "    config: GratingConfig,\n",
    ") -> None:\n",
    "    \"\"\"Plots the SHG efficiency spectrum before and after optimization.\"\"\"\n",
    "    wls, initial_effs = _calculate_spectrum(initial_widths, sim_params, config)\n",
    "    _, optimized_effs = _calculate_spectrum(optimized_widths, sim_params, config)\n",
    "\n",
    "    fig = go.Figure()\n",
    "    fig.add_trace(go.Scatter(x=wls, y=initial_effs, mode=\"lines\", name=\"Initial\", line={\"dash\": \"dash\"}))\n",
    "    fig.add_trace(go.Scatter(x=wls, y=optimized_effs, mode=\"lines\", name=\"Optimized\"))\n",
    "    fig.add_vline(\n",
    "        x=config.design_wl,\n",
    "        line_dash=\"dot\",\n",
    "        line_color=\"red\",\n",
    "        annotation_text=f\"Design λ {config.design_wl}μm\",\n",
    "        annotation_position=\"bottom right\",\n",
    "    )\n",
    "    fig.update_layout(\n",
    "        title_text=\"SHG Efficiency Spectrum Comparison\",\n",
    "        xaxis_title=\"Fundamental Wavelength (μm)\",\n",
    "        yaxis_title=\"Conversion Efficiency\",\n",
    "        template=\"plotly_white\",\n",
    "    )\n",
    "    fig.show()\n",
    "\n",
    "\n",
    "def main() -> None:\n",
    "    \"\"\"Main script execution.\"\"\"\n",
    "    config = GratingConfig()\n",
    "\n",
    "    # 1. Generate initial physical parameters and domain widths\n",
    "    delta_k1, delta_k2, kappa_array, initial_widths = _initialize_grating(config)\n",
    "\n",
    "    # REFACTOR: Bundle the fixed simulation parameters into a single object.\n",
    "    # This clarifies the data flow of the entire script.\n",
    "    sim_params = SimulationParameters(\n",
    "        delta_k1=delta_k1,\n",
    "        delta_k2=delta_k2,\n",
    "        kappa_array=kappa_array,\n",
    "        b_initial=jnp.array([1.0, 0.0, 0.0], dtype=jnp.complex64),\n",
    "    )\n",
    "\n",
    "    # 2. Run the optimization with the clean parameter objects\n",
    "    optimized_widths = _run_optimization(initial_widths, sim_params, config)\n",
    "\n",
    "    # 3. Visualize the results\n",
    "    print(\"4. Visualizing optimization results...\")\n",
    "    _plot_domain_widths(initial_widths, optimized_widths)\n",
    "    _plot_efficiency_spectrum(initial_widths, optimized_widths, sim_params, config)\n",
    "\n",
    "\n",
    "main()"
   ]
  }
 ],
 "metadata": {
  "kernelspec": {
   "display_name": ".venv",
   "language": "python",
   "name": "python3"
  },
  "language_info": {
   "codemirror_mode": {
    "name": "ipython",
    "version": 3
   },
   "file_extension": ".py",
   "mimetype": "text/x-python",
   "name": "python",
   "nbconvert_exporter": "python",
   "pygments_lexer": "ipython3",
   "version": "3.13.8"
  }
 },
 "nbformat": 4,
 "nbformat_minor": 5
}
