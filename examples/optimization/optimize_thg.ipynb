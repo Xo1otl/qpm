{
 "cells": [
  {
   "cell_type": "code",
   "execution_count": 8,
   "id": "c1bc2a2f",
   "metadata": {},
   "outputs": [
    {
     "name": "stdout",
     "output_type": "stream",
     "text": [
      "1. Generating initial grating parameters...\n",
      "   - Base domain width from calculation: 0.9796 μm\n",
      "   - Number of domains: 2042\n",
      "2. Setting up loss function and L-BFGS optimizer...\n",
      "3. Running JIT-compiled optimization...\n",
      "   - Initial THW power: -0.0034\n"
     ]
    },
    {
     "name": "stderr",
     "output_type": "stream",
     "text": [
      "Optimizing: 100%|██████████| 200/200 [00:36<00:00,  5.50it/s]"
     ]
    },
    {
     "name": "stdout",
     "output_type": "stream",
     "text": [
      "   - Optimized THW power: 0.1255\n",
      "4. Visualizing optimization results...\n"
     ]
    },
    {
     "name": "stderr",
     "output_type": "stream",
     "text": [
      "\n"
     ]
    },
    {
     "data": {
      "application/vnd.plotly.v1+json": {
       "config": {
        "plotlyServerURL": "https://plot.ly"
       },
       "data": [
        {
         "line": {
          "dash": "dash"
         },
         "mode": "lines",
         "name": "Initial",
         "type": "scatter",
         "y": {
          "bdata": "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",
          "dtype": "f4"
         }
        },
        {
         "mode": "lines",
         "name": "Optimized",
         "type": "scatter",
         "y": {
          "bdata": "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",
          "dtype": "f4"
         }
        }
       ],
       "layout": {
        "template": {
         "data": {
          "bar": [
           {
            "error_x": {
             "color": "#2a3f5f"
            },
            "error_y": {
             "color": "#2a3f5f"
            },
            "marker": {
             "line": {
              "color": "white",
              "width": 0.5
             },
             "pattern": {
              "fillmode": "overlay",
              "size": 10,
              "solidity": 0.2
             }
            },
            "type": "bar"
           }
          ],
          "barpolar": [
           {
            "marker": {
             "line": {
              "color": "white",
              "width": 0.5
             },
             "pattern": {
              "fillmode": "overlay",
              "size": 10,
              "solidity": 0.2
             }
            },
            "type": "barpolar"
           }
          ],
          "carpet": [
           {
            "aaxis": {
             "endlinecolor": "#2a3f5f",
             "gridcolor": "#C8D4E3",
             "linecolor": "#C8D4E3",
             "minorgridcolor": "#C8D4E3",
             "startlinecolor": "#2a3f5f"
            },
            "baxis": {
             "endlinecolor": "#2a3f5f",
             "gridcolor": "#C8D4E3",
             "linecolor": "#C8D4E3",
             "minorgridcolor": "#C8D4E3",
             "startlinecolor": "#2a3f5f"
            },
            "type": "carpet"
           }
          ],
          "choropleth": [
           {
            "colorbar": {
             "outlinewidth": 0,
             "ticks": ""
            },
            "type": "choropleth"
           }
          ],
          "contour": [
           {
            "colorbar": {
             "outlinewidth": 0,
             "ticks": ""
            },
            "colorscale": [
             [
              0,
              "#0d0887"
             ],
             [
              0.1111111111111111,
              "#46039f"
             ],
             [
              0.2222222222222222,
              "#7201a8"
             ],
             [
              0.3333333333333333,
              "#9c179e"
             ],
             [
              0.4444444444444444,
              "#bd3786"
             ],
             [
              0.5555555555555556,
              "#d8576b"
             ],
             [
              0.6666666666666666,
              "#ed7953"
             ],
             [
              0.7777777777777778,
              "#fb9f3a"
             ],
             [
              0.8888888888888888,
              "#fdca26"
             ],
             [
              1,
              "#f0f921"
             ]
            ],
            "type": "contour"
           }
          ],
          "contourcarpet": [
           {
            "colorbar": {
             "outlinewidth": 0,
             "ticks": ""
            },
            "type": "contourcarpet"
           }
          ],
          "heatmap": [
           {
            "colorbar": {
             "outlinewidth": 0,
             "ticks": ""
            },
            "colorscale": [
             [
              0,
              "#0d0887"
             ],
             [
              0.1111111111111111,
              "#46039f"
             ],
             [
              0.2222222222222222,
              "#7201a8"
             ],
             [
              0.3333333333333333,
              "#9c179e"
             ],
             [
              0.4444444444444444,
              "#bd3786"
             ],
             [
              0.5555555555555556,
              "#d8576b"
             ],
             [
              0.6666666666666666,
              "#ed7953"
             ],
             [
              0.7777777777777778,
              "#fb9f3a"
             ],
             [
              0.8888888888888888,
              "#fdca26"
             ],
             [
              1,
              "#f0f921"
             ]
            ],
            "type": "heatmap"
           }
          ],
          "histogram": [
           {
            "marker": {
             "pattern": {
              "fillmode": "overlay",
              "size": 10,
              "solidity": 0.2
             }
            },
            "type": "histogram"
           }
          ],
          "histogram2d": [
           {
            "colorbar": {
             "outlinewidth": 0,
             "ticks": ""
            },
            "colorscale": [
             [
              0,
              "#0d0887"
             ],
             [
              0.1111111111111111,
              "#46039f"
             ],
             [
              0.2222222222222222,
              "#7201a8"
             ],
             [
              0.3333333333333333,
              "#9c179e"
             ],
             [
              0.4444444444444444,
              "#bd3786"
             ],
             [
              0.5555555555555556,
              "#d8576b"
             ],
             [
              0.6666666666666666,
              "#ed7953"
             ],
             [
              0.7777777777777778,
              "#fb9f3a"
             ],
             [
              0.8888888888888888,
              "#fdca26"
             ],
             [
              1,
              "#f0f921"
             ]
            ],
            "type": "histogram2d"
           }
          ],
          "histogram2dcontour": [
           {
            "colorbar": {
             "outlinewidth": 0,
             "ticks": ""
            },
            "colorscale": [
             [
              0,
              "#0d0887"
             ],
             [
              0.1111111111111111,
              "#46039f"
             ],
             [
              0.2222222222222222,
              "#7201a8"
             ],
             [
              0.3333333333333333,
              "#9c179e"
             ],
             [
              0.4444444444444444,
              "#bd3786"
             ],
             [
              0.5555555555555556,
              "#d8576b"
             ],
             [
              0.6666666666666666,
              "#ed7953"
             ],
             [
              0.7777777777777778,
              "#fb9f3a"
             ],
             [
              0.8888888888888888,
              "#fdca26"
             ],
             [
              1,
              "#f0f921"
             ]
            ],
            "type": "histogram2dcontour"
           }
          ],
          "mesh3d": [
           {
            "colorbar": {
             "outlinewidth": 0,
             "ticks": ""
            },
            "type": "mesh3d"
           }
          ],
          "parcoords": [
           {
            "line": {
             "colorbar": {
              "outlinewidth": 0,
              "ticks": ""
             }
            },
            "type": "parcoords"
           }
          ],
          "pie": [
           {
            "automargin": true,
            "type": "pie"
           }
          ],
          "scatter": [
           {
            "fillpattern": {
             "fillmode": "overlay",
             "size": 10,
             "solidity": 0.2
            },
            "type": "scatter"
           }
          ],
          "scatter3d": [
           {
            "line": {
             "colorbar": {
              "outlinewidth": 0,
              "ticks": ""
             }
            },
            "marker": {
             "colorbar": {
              "outlinewidth": 0,
              "ticks": ""
             }
            },
            "type": "scatter3d"
           }
          ],
          "scattercarpet": [
           {
            "marker": {
             "colorbar": {
              "outlinewidth": 0,
              "ticks": ""
             }
            },
            "type": "scattercarpet"
           }
          ],
          "scattergeo": [
           {
            "marker": {
             "colorbar": {
              "outlinewidth": 0,
              "ticks": ""
             }
            },
            "type": "scattergeo"
           }
          ],
          "scattergl": [
           {
            "marker": {
             "colorbar": {
              "outlinewidth": 0,
              "ticks": ""
             }
            },
            "type": "scattergl"
           }
          ],
          "scattermap": [
           {
            "marker": {
             "colorbar": {
              "outlinewidth": 0,
              "ticks": ""
             }
            },
            "type": "scattermap"
           }
          ],
          "scattermapbox": [
           {
            "marker": {
             "colorbar": {
              "outlinewidth": 0,
              "ticks": ""
             }
            },
            "type": "scattermapbox"
           }
          ],
          "scatterpolar": [
           {
            "marker": {
             "colorbar": {
              "outlinewidth": 0,
              "ticks": ""
             }
            },
            "type": "scatterpolar"
           }
          ],
          "scatterpolargl": [
           {
            "marker": {
             "colorbar": {
              "outlinewidth": 0,
              "ticks": ""
             }
            },
            "type": "scatterpolargl"
           }
          ],
          "scatterternary": [
           {
            "marker": {
             "colorbar": {
              "outlinewidth": 0,
              "ticks": ""
             }
            },
            "type": "scatterternary"
           }
          ],
          "surface": [
           {
            "colorbar": {
             "outlinewidth": 0,
             "ticks": ""
            },
            "colorscale": [
             [
              0,
              "#0d0887"
             ],
             [
              0.1111111111111111,
              "#46039f"
             ],
             [
              0.2222222222222222,
              "#7201a8"
             ],
             [
              0.3333333333333333,
              "#9c179e"
             ],
             [
              0.4444444444444444,
              "#bd3786"
             ],
             [
              0.5555555555555556,
              "#d8576b"
             ],
             [
              0.6666666666666666,
              "#ed7953"
             ],
             [
              0.7777777777777778,
              "#fb9f3a"
             ],
             [
              0.8888888888888888,
              "#fdca26"
             ],
             [
              1,
              "#f0f921"
             ]
            ],
            "type": "surface"
           }
          ],
          "table": [
           {
            "cells": {
             "fill": {
              "color": "#EBF0F8"
             },
             "line": {
              "color": "white"
             }
            },
            "header": {
             "fill": {
              "color": "#C8D4E3"
             },
             "line": {
              "color": "white"
             }
            },
            "type": "table"
           }
          ]
         },
         "layout": {
          "annotationdefaults": {
           "arrowcolor": "#2a3f5f",
           "arrowhead": 0,
           "arrowwidth": 1
          },
          "autotypenumbers": "strict",
          "coloraxis": {
           "colorbar": {
            "outlinewidth": 0,
            "ticks": ""
           }
          },
          "colorscale": {
           "diverging": [
            [
             0,
             "#8e0152"
            ],
            [
             0.1,
             "#c51b7d"
            ],
            [
             0.2,
             "#de77ae"
            ],
            [
             0.3,
             "#f1b6da"
            ],
            [
             0.4,
             "#fde0ef"
            ],
            [
             0.5,
             "#f7f7f7"
            ],
            [
             0.6,
             "#e6f5d0"
            ],
            [
             0.7,
             "#b8e186"
            ],
            [
             0.8,
             "#7fbc41"
            ],
            [
             0.9,
             "#4d9221"
            ],
            [
             1,
             "#276419"
            ]
           ],
           "sequential": [
            [
             0,
             "#0d0887"
            ],
            [
             0.1111111111111111,
             "#46039f"
            ],
            [
             0.2222222222222222,
             "#7201a8"
            ],
            [
             0.3333333333333333,
             "#9c179e"
            ],
            [
             0.4444444444444444,
             "#bd3786"
            ],
            [
             0.5555555555555556,
             "#d8576b"
            ],
            [
             0.6666666666666666,
             "#ed7953"
            ],
            [
             0.7777777777777778,
             "#fb9f3a"
            ],
            [
             0.8888888888888888,
             "#fdca26"
            ],
            [
             1,
             "#f0f921"
            ]
           ],
           "sequentialminus": [
            [
             0,
             "#0d0887"
            ],
            [
             0.1111111111111111,
             "#46039f"
            ],
            [
             0.2222222222222222,
             "#7201a8"
            ],
            [
             0.3333333333333333,
             "#9c179e"
            ],
            [
             0.4444444444444444,
             "#bd3786"
            ],
            [
             0.5555555555555556,
             "#d8576b"
            ],
            [
             0.6666666666666666,
             "#ed7953"
            ],
            [
             0.7777777777777778,
             "#fb9f3a"
            ],
            [
             0.8888888888888888,
             "#fdca26"
            ],
            [
             1,
             "#f0f921"
            ]
           ]
          },
          "colorway": [
           "#636efa",
           "#EF553B",
           "#00cc96",
           "#ab63fa",
           "#FFA15A",
           "#19d3f3",
           "#FF6692",
           "#B6E880",
           "#FF97FF",
           "#FECB52"
          ],
          "font": {
           "color": "#2a3f5f"
          },
          "geo": {
           "bgcolor": "white",
           "lakecolor": "white",
           "landcolor": "white",
           "showlakes": true,
           "showland": true,
           "subunitcolor": "#C8D4E3"
          },
          "hoverlabel": {
           "align": "left"
          },
          "hovermode": "closest",
          "mapbox": {
           "style": "light"
          },
          "paper_bgcolor": "white",
          "plot_bgcolor": "white",
          "polar": {
           "angularaxis": {
            "gridcolor": "#EBF0F8",
            "linecolor": "#EBF0F8",
            "ticks": ""
           },
           "bgcolor": "white",
           "radialaxis": {
            "gridcolor": "#EBF0F8",
            "linecolor": "#EBF0F8",
            "ticks": ""
           }
          },
          "scene": {
           "xaxis": {
            "backgroundcolor": "white",
            "gridcolor": "#DFE8F3",
            "gridwidth": 2,
            "linecolor": "#EBF0F8",
            "showbackground": true,
            "ticks": "",
            "zerolinecolor": "#EBF0F8"
           },
           "yaxis": {
            "backgroundcolor": "white",
            "gridcolor": "#DFE8F3",
            "gridwidth": 2,
            "linecolor": "#EBF0F8",
            "showbackground": true,
            "ticks": "",
            "zerolinecolor": "#EBF0F8"
           },
           "zaxis": {
            "backgroundcolor": "white",
            "gridcolor": "#DFE8F3",
            "gridwidth": 2,
            "linecolor": "#EBF0F8",
            "showbackground": true,
            "ticks": "",
            "zerolinecolor": "#EBF0F8"
           }
          },
          "shapedefaults": {
           "line": {
            "color": "#2a3f5f"
           }
          },
          "ternary": {
           "aaxis": {
            "gridcolor": "#DFE8F3",
            "linecolor": "#A2B1C6",
            "ticks": ""
           },
           "baxis": {
            "gridcolor": "#DFE8F3",
            "linecolor": "#A2B1C6",
            "ticks": ""
           },
           "bgcolor": "white",
           "caxis": {
            "gridcolor": "#DFE8F3",
            "linecolor": "#A2B1C6",
            "ticks": ""
           }
          },
          "title": {
           "x": 0.05
          },
          "xaxis": {
           "automargin": true,
           "gridcolor": "#EBF0F8",
           "linecolor": "#EBF0F8",
           "ticks": "",
           "title": {
            "standoff": 15
           },
           "zerolinecolor": "#EBF0F8",
           "zerolinewidth": 2
          },
          "yaxis": {
           "automargin": true,
           "gridcolor": "#EBF0F8",
           "linecolor": "#EBF0F8",
           "ticks": "",
           "title": {
            "standoff": 15
           },
           "zerolinecolor": "#EBF0F8",
           "zerolinewidth": 2
          }
         }
        },
        "title": {
         "text": "Domain Widths Before and After Optimization"
        },
        "xaxis": {
         "title": {
          "text": "Domain Index"
         }
        },
        "yaxis": {
         "title": {
          "text": "Width (μm)"
         }
        }
       }
      }
     },
     "metadata": {},
     "output_type": "display_data"
    },
    {
     "data": {
      "application/vnd.plotly.v1+json": {
       "config": {
        "plotlyServerURL": "https://plot.ly"
       },
       "data": [
        {
         "line": {
          "dash": "dash"
         },
         "mode": "lines",
         "name": "Initial",
         "type": "scatter",
         "x": {
          "bdata": "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",
          "dtype": "f4"
         },
         "y": {
          "bdata": "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",
          "dtype": "f4"
         }
        },
        {
         "mode": "lines",
         "name": "Optimized",
         "type": "scatter",
         "x": {
          "bdata": "MzODP9szgz+DNIM/LDWDP9M1gz98NoM/IzeDP8w3gz90OIM/HDmDP8Q5gz9sOoM/FTuDP7w7gz9lPIM/DT2DP7Q9gz9dPoM/BT+DP60/gz9VQIM//kCDP6VBgz9NQoM/9kKDP51Dgz9GRIM/7kSDP5ZFgz8+RoM/50aDP45Hgz82SIM/30iDP4dJgz8vSoM/10qDP39Lgz8nTIM/z0yDP3dNgz8fToM/yE6DP3BPgz8YUIM/wFCDP2hRgz8QUoM/uFKDP2BTgz8IVIM/sVSDP1lVgz8AVoM/qVaDP1FXgz/5V4M/oViDP0pZgz/xWYM/mlqDP0Jbgz/pW4M/klyDPzpdgz/iXYM/il6DPzNfgz/aX4M/gmCDPythgz/TYYM/e2KDPyNjgz/LY4M/c2SDPxtlgz/DZYM/a2aDPxRngz+8Z4M/ZGiDPwxpgz+0aYM/XGqDPwRrgz+sa4M/VGyDP/1sgz+lbYM/TW6DP/Vugz+db4M/RXCDP+1wgz+WcYM/PXKDP+Zygz+Oc4M/NXSDP950gz+GdYM/LnaDP9Z2gz9/d4M/JniDP854gz93eYM/H3qDP8d6gz9ve4M/F3yDP798gz9nfYM/D36DP7d+gz9gf4M/CICDP7CAgz9YgYM/AIKDP6iCgz9Qg4M/+IODP6CEgz9JhYM/8YWDP5mGgz9Bh4M/6YeDP5GIgz85iYM/4omDP4mKgz8xi4M/2ouDP4GMgz8qjYM/0o2DP3qOgz8ij4M/y4+DP3KQgz8bkYM/w5GDP2uSgz8Tk4M/u5ODP2OUgz8LlYM/tJWDP1uWgz8Dl4M/rJeDP1SYgz/8mIM/pJmDP0yagz/0moM/nJuDP0Scgz/snIM/lZ2DPz2egz/lnoM/jZ+DPzWggz/doIM/haGDPy6igz/VooM/faODPyakgz/OpIM/dqWDPx6mgz/GpoM/bqeDPxeogz++qIM/Z6mDPw+qgz+3qoM/X6uDPwesgz+vrIM/V62DPwCugz+nroM/T6+DP/ivgz+gsIM/SLGDP/Cxgz+YsoM/QLODP+izgz+QtIM/OLWDP+G1gz+JtoM/MbeDP9m3gz+BuIM/KbmDP9G5gz96uoM/IbuDP8m7gz9yvIM/Gr2DP8K9gz9qvoM/Er+DP7q/gz9jwIM/CsGDP7PBgz9bwoM/A8ODP6vDgz9TxIM/+8SDP6PFgz9MxoM/88aDP5vHgz9EyIM/7MiDP5TJgz88yoM/5MqDP4zLgz81zIM/3MyDP4TNgz8tzoM/1c6DP33Pgz8l0IM/zdCDP3XRgz8d0oM/xtKDP23Tgz8V1IM/vtSDP2bVgz8O1oM/ttaDP17Xgz8G2IM/rtiDP1bZgz//2YM/p9qDP0/bgz/324M/n9yDP0fdgz/v3YM/l96DPz/fgz/o34M/j+CDPzjhgz/g4YM/iOKDPzDjgz/Y44M/gOSDPynlgz/Q5YM/eeaDPyHngz/J54M/ceiDPxnpgz/B6YM/aeqDPxHrgz+564M/YuyDPwrtgz+y7YM/Wu6DPwLvgz+q74M/UvCDP/rwgz+i8YM/S/KDP/Pygz+b84M/Q/SDP+v0gz+T9YM/O/aDP+P2gz+L94M/NPiDP9z4gz+E+YM/LPqDP9T6gz98+4M/JPyDP8z8gz91/YM/HP6DP8X+gz9t/4M/FQCEP70AhD9lAYQ/DQKEP7UChD9dA4Q/BQSEP64EhD9WBYQ//gWEP6YGhD9OB4Q/9geEP54IhD9GCYQ/7gmEP5cKhD8/C4Q/5wuEP48MhD83DYQ/3w2EP4cOhD8vD4Q/1w+EP4AQhD8oEYQ/0BGEP3gShD8gE4Q/yBOEP3AUhD8YFYQ/wRWEP2kWhD8QF4Q/uReEP2EYhD8JGYQ/sRmEP1kahD8BG4Q/qRuEP1EchD/6HIQ/oh2EP0oehD/yHoQ/mh+EP0IghD/qIIQ/kiGEPzoihD/jIoQ/iyOEPzMkhD/bJIQ/gyWEPysmhD/TJoQ/eyeEPyMohD/MKIQ/dCmEPxwqhD/EKoQ/bCuEPxQshD+8LIQ/ZC2EPwwuhD+1LoQ/XS+EPwUwhD+tMIQ/VTGEP/0xhD+lMoQ/TTOEP/UzhD+dNIQ/RjWEP+41hD+WNoQ/PjeEP+Y3hD+OOIQ/NjmEP945hD+GOoQ/LzuEP9c7hD9/PIQ/Jz2EP889hD93PoQ/Hz+EP8c/hD9wQIQ/F0GEP8BBhD9oQoQ/EEOEP7hDhD9gRIQ/CEWEP7BFhD9YRoQ/AUeEP6lHhD9RSIQ/+UiEP6FJhD9JSoQ/8UqEP5lLhD9BTIQ/6UyEP5JNhD86ToQ/4k6EP4pPhD8yUIQ/2lCEP4JRhD8qUoQ/0lKEP3tThD8jVIQ/y1SEP3NVhD8bVoQ/w1aEP2tXhD8TWIQ/u1iEP2RZhD8MWoQ/tFqEP1xbhD8EXIQ/rFyEP1RdhD/8XYQ/pF6EP01fhD/1X4Q/nWCEP0VhhD/tYYQ/lWKEPz1jhD/lY4Q/jWSEPzZlhD/eZYQ/hmaEPy5nhD/WZ4Q/fmiEPyZphD/OaYQ/dmqEPx5rhD/Ha4Q/b2yEPxdthD+/bYQ/Z26EPw9vhD+3b4Q/X3CEPwdxhD+wcYQ/WHKEPwBzhD+oc4Q/UHSEP/h0hD+gdYQ/SHaEP/B2hD+Zd4Q/QXiEP+l4hD+ReYQ/OXqEP+F6hD8=",
          "dtype": "f4"
         },
         "y": {
          "bdata": "djqnN07xwTf67sQ3I/WvNzjghjdt9yg3+gudNtQ2gjVt5YwzEJoXNmY28zZ9dWY35bamNx7bzzcMcuA32+vVN9ygsTfdmXo31HcMN9lySjYUR1804ytbNWhjmjYqsDU3N6mYN64uyzcd8+s3fnfvN3GP1TdAeaQ3cdlON1GMuja7Tp81JJzhM34CPTavaBE3cBCIN1bZyTedhPs3YikIOLxhAjgWj9o3vu2aNxb7LzeP0oI2YYWhNAlSYDXHp6825O1SNwDHsje+g/M36LkNOG66ETgsWgM4fcTMN2iWhjcfJ/02UP/yNTQqGDMQSz82NVshN6WPnjcXi+03LcYWOGIvJTjSSyA4JBUJOJ0gxTf3VGQ3jMSyNiCGGTVzXzo1OMG+Nh3dczfDjdA3koEROPiOLDiFODM4pqkjOC+EAjiHnK033Q4tN0n3ODYsNIIxzvs6NrKOMTeajbY3qfIMOAL+MzithUk4w7RGOJtsKzjOgv43qFuZN57d/DYD1Ic1ImgKNZ052japbo03bcz9N0NWMziFqFk4O9VmOPqcVzjJpS44bfjxN9AefTcRrJ42fjgINJoWJjZ4mz8302TTN6M8LDixLGI4FcOBOAz5gjhzzGg4j7IzOGND4Tfgq0438lc2Nh5/TDRjXb42/kmgN3YWFTi+VF04pbCKOD+3lzjZN5I4GNF3OMH5MTjYLsw3PmMZNxaBcjU5Kd01jKBJN8ZJ9jekqVM4UtGROIVxrTh0NLU4vMymOLS0hjit3zQ4xgG6N8ypzTapK/MyM6ikNvktrTetyzI4AKSNOAZMujj/d9Q4Vs3VOIouvTjgIpA4eIE4OF8vpzeyE5Q2BuSzNEHVIzfN4AI4Ma15OFP8ujhsGeo4YuEAOfxp+jhE4NQ4jMqdOFGCNTiVPI83lhkDNpCUFjYkpJk3VilKOCoKsThXMPk4Mb8VOTbZHjmcxRQ5MIjxOHeKpzgB6jU4OsBlNzRhkzRw2Oc2fAsJOJzGlziqpvc4U1YlOZy2QDnZekU5/RIzOUAtDDkSJ7s4Gzo1OGS0NzegsI4yuatyN3swYDhPj984HnsrOYq7XjlnwXs5lMd6OaT9XDkBLic5MAXROFxxNDjXy/I22SsCNs2g7jdE9bQ4vF4oOey9dzlg4Js5sEeqOcQVpTmI5ow5TMJOOSpb9DjaxDo47KSWNl/55Ta7X2Q4pTkVOerTgjmQa7c5LQffOSyF7zmG3uM5/gC+ObMahzkUtBM5dXtMOE6OGzaZMJ03uXXQOMEkdDnvbc05BpsNOnSnKTpjZDM6ieYnOnQ/CTpdp705cepDOapKWziLKjw0B3NEOGPNTTnY79w57kwzOpPYcTrM2Y46W+aUOvh1iTqgBVs6AUcSOmGJkTmhhJI4ILeGNbZp6Tj5c9s57TZmOpBatDrJt+86mFkNOz1uEzuV7Ac73XrYOvv5jzqLuQw6+eHqOGzaSje4QKg59jiPOv/gEztFTm47H0qjO4AKxDsWkNM7aRnKO5JZqDvEsWU7OKrmOtDhvzkbS6U4Y+TTOh4xtTuqGkw8+iW4PFMPET24m049IOGIPd+aqj2K+8k9bXvkPYEY9z1TQQA+9Zv/PYLW9D3+DeA9JbPEPesdpT1DZII938ZEPdbmBj1j3qk89Cw3PPkGnztw1aA6II2uN5EgDDqjHQM7Hcd6O5afrjtz+c07UETUO7mVwjvdzZ87KallO1ViCTu/QIU6TaiOOXEocDYTohk58rkbOm0MmjrE3OE62KALOwIPFTvi8A076U/wOk1EsjotsV06rcfWOVTs5jgDdlE1LlSMOHCDkznGIRY6DKFfOtKPijoH4ZY6Ri6ROq8GejoKATo6eI/rORBMZTnpGoI4GZADNOg4NDhnIC85TUiyOVrfBDqqNiY6oAQ2OqCDMDojNBg6cB7mOUOQkDkvJAw5Rk8QOOsbazOD4v83a4nwOFY9aTljaLA5FXPdOURt8zmTAu05VTHMOThamjmmIEQ5isK7OAxgvTdK1l0xfPevN0QZpDhb9iQ5FbF5OW3knTm8Cq45C2iqOfBRlDlhGGM5YigQOYLkjDjKTpY38PvrMvecfDd8/G84bcD1OEy0OjmgDm05aTqDOTIkgTlSEWI5m6IsOdxF3ThuAl84m+xxN237wjJXaUc3gBs3OJm+vDjSpg8514Q3OYghTDk5Lko5kEMxOe2HCDllcbE4M1kzOCMWVTekg6oz304EN/hLCTgBW5A42IbfOIFUEDlT0CI5xr4iOQhsEDkcm984lCmUOB6tFzjG4Dg3AVIyNGUjxTZr+dE3K3NmOPluszixaek4bDYFOTH3BTm1VvA4UN+8OBE3ezhg5wU4kVMkN5lVojQXLIo2XUSiNzD8NDjPOZA4AIG/OIMp3Dhv6984anrKOGHSoTj8HVw4VwLtN4ncITcKdCI1C0Y6NgpkfTcufhE4PEhtOAmknzjZgLo43QzAOKPHsDiN/o44vcJGOHHy2je4iB83POF1NToR3TXnW0c3CkLpN+xZRzgA8Ic4EtGgOGJMqDiA+Jw42RuBOAE3ODgwYNg3ILgrN/RpzTXXzDo1NiIINyH8tTcqjB44fPhhOOcgiDhfgpE4SVeKOMMlaziU3Cs4k2TPNzjnMTe9DRQ2ekFrNC3gvDa+T4o3ZzwAOD3LOzg=",
          "dtype": "f4"
         }
        }
       ],
       "layout": {
        "annotations": [
         {
          "showarrow": false,
          "text": "Design λ 1.031μm",
          "x": 1.031,
          "xanchor": "left",
          "xref": "x",
          "y": 0,
          "yanchor": "bottom",
          "yref": "y domain"
         }
        ],
        "shapes": [
         {
          "line": {
           "color": "red",
           "dash": "dot"
          },
          "type": "line",
          "x0": 1.031,
          "x1": 1.031,
          "xref": "x",
          "y0": 0,
          "y1": 1,
          "yref": "y domain"
         }
        ],
        "template": {
         "data": {
          "bar": [
           {
            "error_x": {
             "color": "#2a3f5f"
            },
            "error_y": {
             "color": "#2a3f5f"
            },
            "marker": {
             "line": {
              "color": "white",
              "width": 0.5
             },
             "pattern": {
              "fillmode": "overlay",
              "size": 10,
              "solidity": 0.2
             }
            },
            "type": "bar"
           }
          ],
          "barpolar": [
           {
            "marker": {
             "line": {
              "color": "white",
              "width": 0.5
             },
             "pattern": {
              "fillmode": "overlay",
              "size": 10,
              "solidity": 0.2
             }
            },
            "type": "barpolar"
           }
          ],
          "carpet": [
           {
            "aaxis": {
             "endlinecolor": "#2a3f5f",
             "gridcolor": "#C8D4E3",
             "linecolor": "#C8D4E3",
             "minorgridcolor": "#C8D4E3",
             "startlinecolor": "#2a3f5f"
            },
            "baxis": {
             "endlinecolor": "#2a3f5f",
             "gridcolor": "#C8D4E3",
             "linecolor": "#C8D4E3",
             "minorgridcolor": "#C8D4E3",
             "startlinecolor": "#2a3f5f"
            },
            "type": "carpet"
           }
          ],
          "choropleth": [
           {
            "colorbar": {
             "outlinewidth": 0,
             "ticks": ""
            },
            "type": "choropleth"
           }
          ],
          "contour": [
           {
            "colorbar": {
             "outlinewidth": 0,
             "ticks": ""
            },
            "colorscale": [
             [
              0,
              "#0d0887"
             ],
             [
              0.1111111111111111,
              "#46039f"
             ],
             [
              0.2222222222222222,
              "#7201a8"
             ],
             [
              0.3333333333333333,
              "#9c179e"
             ],
             [
              0.4444444444444444,
              "#bd3786"
             ],
             [
              0.5555555555555556,
              "#d8576b"
             ],
             [
              0.6666666666666666,
              "#ed7953"
             ],
             [
              0.7777777777777778,
              "#fb9f3a"
             ],
             [
              0.8888888888888888,
              "#fdca26"
             ],
             [
              1,
              "#f0f921"
             ]
            ],
            "type": "contour"
           }
          ],
          "contourcarpet": [
           {
            "colorbar": {
             "outlinewidth": 0,
             "ticks": ""
            },
            "type": "contourcarpet"
           }
          ],
          "heatmap": [
           {
            "colorbar": {
             "outlinewidth": 0,
             "ticks": ""
            },
            "colorscale": [
             [
              0,
              "#0d0887"
             ],
             [
              0.1111111111111111,
              "#46039f"
             ],
             [
              0.2222222222222222,
              "#7201a8"
             ],
             [
              0.3333333333333333,
              "#9c179e"
             ],
             [
              0.4444444444444444,
              "#bd3786"
             ],
             [
              0.5555555555555556,
              "#d8576b"
             ],
             [
              0.6666666666666666,
              "#ed7953"
             ],
             [
              0.7777777777777778,
              "#fb9f3a"
             ],
             [
              0.8888888888888888,
              "#fdca26"
             ],
             [
              1,
              "#f0f921"
             ]
            ],
            "type": "heatmap"
           }
          ],
          "histogram": [
           {
            "marker": {
             "pattern": {
              "fillmode": "overlay",
              "size": 10,
              "solidity": 0.2
             }
            },
            "type": "histogram"
           }
          ],
          "histogram2d": [
           {
            "colorbar": {
             "outlinewidth": 0,
             "ticks": ""
            },
            "colorscale": [
             [
              0,
              "#0d0887"
             ],
             [
              0.1111111111111111,
              "#46039f"
             ],
             [
              0.2222222222222222,
              "#7201a8"
             ],
             [
              0.3333333333333333,
              "#9c179e"
             ],
             [
              0.4444444444444444,
              "#bd3786"
             ],
             [
              0.5555555555555556,
              "#d8576b"
             ],
             [
              0.6666666666666666,
              "#ed7953"
             ],
             [
              0.7777777777777778,
              "#fb9f3a"
             ],
             [
              0.8888888888888888,
              "#fdca26"
             ],
             [
              1,
              "#f0f921"
             ]
            ],
            "type": "histogram2d"
           }
          ],
          "histogram2dcontour": [
           {
            "colorbar": {
             "outlinewidth": 0,
             "ticks": ""
            },
            "colorscale": [
             [
              0,
              "#0d0887"
             ],
             [
              0.1111111111111111,
              "#46039f"
             ],
             [
              0.2222222222222222,
              "#7201a8"
             ],
             [
              0.3333333333333333,
              "#9c179e"
             ],
             [
              0.4444444444444444,
              "#bd3786"
             ],
             [
              0.5555555555555556,
              "#d8576b"
             ],
             [
              0.6666666666666666,
              "#ed7953"
             ],
             [
              0.7777777777777778,
              "#fb9f3a"
             ],
             [
              0.8888888888888888,
              "#fdca26"
             ],
             [
              1,
              "#f0f921"
             ]
            ],
            "type": "histogram2dcontour"
           }
          ],
          "mesh3d": [
           {
            "colorbar": {
             "outlinewidth": 0,
             "ticks": ""
            },
            "type": "mesh3d"
           }
          ],
          "parcoords": [
           {
            "line": {
             "colorbar": {
              "outlinewidth": 0,
              "ticks": ""
             }
            },
            "type": "parcoords"
           }
          ],
          "pie": [
           {
            "automargin": true,
            "type": "pie"
           }
          ],
          "scatter": [
           {
            "fillpattern": {
             "fillmode": "overlay",
             "size": 10,
             "solidity": 0.2
            },
            "type": "scatter"
           }
          ],
          "scatter3d": [
           {
            "line": {
             "colorbar": {
              "outlinewidth": 0,
              "ticks": ""
             }
            },
            "marker": {
             "colorbar": {
              "outlinewidth": 0,
              "ticks": ""
             }
            },
            "type": "scatter3d"
           }
          ],
          "scattercarpet": [
           {
            "marker": {
             "colorbar": {
              "outlinewidth": 0,
              "ticks": ""
             }
            },
            "type": "scattercarpet"
           }
          ],
          "scattergeo": [
           {
            "marker": {
             "colorbar": {
              "outlinewidth": 0,
              "ticks": ""
             }
            },
            "type": "scattergeo"
           }
          ],
          "scattergl": [
           {
            "marker": {
             "colorbar": {
              "outlinewidth": 0,
              "ticks": ""
             }
            },
            "type": "scattergl"
           }
          ],
          "scattermap": [
           {
            "marker": {
             "colorbar": {
              "outlinewidth": 0,
              "ticks": ""
             }
            },
            "type": "scattermap"
           }
          ],
          "scattermapbox": [
           {
            "marker": {
             "colorbar": {
              "outlinewidth": 0,
              "ticks": ""
             }
            },
            "type": "scattermapbox"
           }
          ],
          "scatterpolar": [
           {
            "marker": {
             "colorbar": {
              "outlinewidth": 0,
              "ticks": ""
             }
            },
            "type": "scatterpolar"
           }
          ],
          "scatterpolargl": [
           {
            "marker": {
             "colorbar": {
              "outlinewidth": 0,
              "ticks": ""
             }
            },
            "type": "scatterpolargl"
           }
          ],
          "scatterternary": [
           {
            "marker": {
             "colorbar": {
              "outlinewidth": 0,
              "ticks": ""
             }
            },
            "type": "scatterternary"
           }
          ],
          "surface": [
           {
            "colorbar": {
             "outlinewidth": 0,
             "ticks": ""
            },
            "colorscale": [
             [
              0,
              "#0d0887"
             ],
             [
              0.1111111111111111,
              "#46039f"
             ],
             [
              0.2222222222222222,
              "#7201a8"
             ],
             [
              0.3333333333333333,
              "#9c179e"
             ],
             [
              0.4444444444444444,
              "#bd3786"
             ],
             [
              0.5555555555555556,
              "#d8576b"
             ],
             [
              0.6666666666666666,
              "#ed7953"
             ],
             [
              0.7777777777777778,
              "#fb9f3a"
             ],
             [
              0.8888888888888888,
              "#fdca26"
             ],
             [
              1,
              "#f0f921"
             ]
            ],
            "type": "surface"
           }
          ],
          "table": [
           {
            "cells": {
             "fill": {
              "color": "#EBF0F8"
             },
             "line": {
              "color": "white"
             }
            },
            "header": {
             "fill": {
              "color": "#C8D4E3"
             },
             "line": {
              "color": "white"
             }
            },
            "type": "table"
           }
          ]
         },
         "layout": {
          "annotationdefaults": {
           "arrowcolor": "#2a3f5f",
           "arrowhead": 0,
           "arrowwidth": 1
          },
          "autotypenumbers": "strict",
          "coloraxis": {
           "colorbar": {
            "outlinewidth": 0,
            "ticks": ""
           }
          },
          "colorscale": {
           "diverging": [
            [
             0,
             "#8e0152"
            ],
            [
             0.1,
             "#c51b7d"
            ],
            [
             0.2,
             "#de77ae"
            ],
            [
             0.3,
             "#f1b6da"
            ],
            [
             0.4,
             "#fde0ef"
            ],
            [
             0.5,
             "#f7f7f7"
            ],
            [
             0.6,
             "#e6f5d0"
            ],
            [
             0.7,
             "#b8e186"
            ],
            [
             0.8,
             "#7fbc41"
            ],
            [
             0.9,
             "#4d9221"
            ],
            [
             1,
             "#276419"
            ]
           ],
           "sequential": [
            [
             0,
             "#0d0887"
            ],
            [
             0.1111111111111111,
             "#46039f"
            ],
            [
             0.2222222222222222,
             "#7201a8"
            ],
            [
             0.3333333333333333,
             "#9c179e"
            ],
            [
             0.4444444444444444,
             "#bd3786"
            ],
            [
             0.5555555555555556,
             "#d8576b"
            ],
            [
             0.6666666666666666,
             "#ed7953"
            ],
            [
             0.7777777777777778,
             "#fb9f3a"
            ],
            [
             0.8888888888888888,
             "#fdca26"
            ],
            [
             1,
             "#f0f921"
            ]
           ],
           "sequentialminus": [
            [
             0,
             "#0d0887"
            ],
            [
             0.1111111111111111,
             "#46039f"
            ],
            [
             0.2222222222222222,
             "#7201a8"
            ],
            [
             0.3333333333333333,
             "#9c179e"
            ],
            [
             0.4444444444444444,
             "#bd3786"
            ],
            [
             0.5555555555555556,
             "#d8576b"
            ],
            [
             0.6666666666666666,
             "#ed7953"
            ],
            [
             0.7777777777777778,
             "#fb9f3a"
            ],
            [
             0.8888888888888888,
             "#fdca26"
            ],
            [
             1,
             "#f0f921"
            ]
           ]
          },
          "colorway": [
           "#636efa",
           "#EF553B",
           "#00cc96",
           "#ab63fa",
           "#FFA15A",
           "#19d3f3",
           "#FF6692",
           "#B6E880",
           "#FF97FF",
           "#FECB52"
          ],
          "font": {
           "color": "#2a3f5f"
          },
          "geo": {
           "bgcolor": "white",
           "lakecolor": "white",
           "landcolor": "white",
           "showlakes": true,
           "showland": true,
           "subunitcolor": "#C8D4E3"
          },
          "hoverlabel": {
           "align": "left"
          },
          "hovermode": "closest",
          "mapbox": {
           "style": "light"
          },
          "paper_bgcolor": "white",
          "plot_bgcolor": "white",
          "polar": {
           "angularaxis": {
            "gridcolor": "#EBF0F8",
            "linecolor": "#EBF0F8",
            "ticks": ""
           },
           "bgcolor": "white",
           "radialaxis": {
            "gridcolor": "#EBF0F8",
            "linecolor": "#EBF0F8",
            "ticks": ""
           }
          },
          "scene": {
           "xaxis": {
            "backgroundcolor": "white",
            "gridcolor": "#DFE8F3",
            "gridwidth": 2,
            "linecolor": "#EBF0F8",
            "showbackground": true,
            "ticks": "",
            "zerolinecolor": "#EBF0F8"
           },
           "yaxis": {
            "backgroundcolor": "white",
            "gridcolor": "#DFE8F3",
            "gridwidth": 2,
            "linecolor": "#EBF0F8",
            "showbackground": true,
            "ticks": "",
            "zerolinecolor": "#EBF0F8"
           },
           "zaxis": {
            "backgroundcolor": "white",
            "gridcolor": "#DFE8F3",
            "gridwidth": 2,
            "linecolor": "#EBF0F8",
            "showbackground": true,
            "ticks": "",
            "zerolinecolor": "#EBF0F8"
           }
          },
          "shapedefaults": {
           "line": {
            "color": "#2a3f5f"
           }
          },
          "ternary": {
           "aaxis": {
            "gridcolor": "#DFE8F3",
            "linecolor": "#A2B1C6",
            "ticks": ""
           },
           "baxis": {
            "gridcolor": "#DFE8F3",
            "linecolor": "#A2B1C6",
            "ticks": ""
           },
           "bgcolor": "white",
           "caxis": {
            "gridcolor": "#DFE8F3",
            "linecolor": "#A2B1C6",
            "ticks": ""
           }
          },
          "title": {
           "x": 0.05
          },
          "xaxis": {
           "automargin": true,
           "gridcolor": "#EBF0F8",
           "linecolor": "#EBF0F8",
           "ticks": "",
           "title": {
            "standoff": 15
           },
           "zerolinecolor": "#EBF0F8",
           "zerolinewidth": 2
          },
          "yaxis": {
           "automargin": true,
           "gridcolor": "#EBF0F8",
           "linecolor": "#EBF0F8",
           "ticks": "",
           "title": {
            "standoff": 15
           },
           "zerolinecolor": "#EBF0F8",
           "zerolinewidth": 2
          }
         }
        },
        "title": {
         "text": "THG THW power Spectrum Comparison"
        },
        "xaxis": {
         "title": {
          "text": "Fundamental Wavelength (μm)"
         }
        },
        "yaxis": {
         "title": {
          "text": "Conversion THW power"
         }
        }
       }
      }
     },
     "metadata": {},
     "output_type": "display_data"
    }
   ],
   "source": [
    "from collections.abc import Callable\n",
    "from dataclasses import dataclass\n",
    "\n",
    "import jax\n",
    "import jax.numpy as jnp\n",
    "import optax  # pyright: ignore[reportMissingTypeStubs]\n",
    "import plotly.graph_objects as go  # pyright: ignore[reportMissingTypeStubs]\n",
    "from jax import Array, jit\n",
    "from jax_tqdm.loop_pbar import loop_tqdm\n",
    "\n",
    "from qpm import cwes, mgoslt\n",
    "\n",
    "\n",
    "# --- Regularization Strategies ---\n",
    "def tv_regularization(domain_widths: Array, lambda_val: float) -> Array:\n",
    "    \"\"\"Total Variation (TV) regularization penalizes the absolute difference between adjacent parameter values.\"\"\"\n",
    "    return lambda_val * jnp.sum(jnp.abs(jnp.diff(domain_widths)))\n",
    "\n",
    "\n",
    "REGULARIZATION_FNS: dict[str, Callable[[Array, float], Array]] = {\n",
    "    \"tv\": tv_regularization,\n",
    "}\n",
    "\n",
    "\n",
    "# --- Data Structures for Configuration and Parameters ---\n",
    "@dataclass(frozen=True)\n",
    "class Config:\n",
    "    design_temp: float = 70.0\n",
    "    design_wl: float = 1.031\n",
    "    target_length: float = 2000.0\n",
    "    max_iters: int = 200\n",
    "    prng_seed: int = 42\n",
    "    kappa_mag: float = 1.31e-4 / (2 / jnp.pi)\n",
    "    kappa_target_length: float = 2000.0\n",
    "    wl_start: float = 1.025\n",
    "    wl_end: float = 1.035\n",
    "    num_points: int = 500\n",
    "    regularization: str | None = \"tv\"\n",
    "    lambda_val: float = 1e-3\n",
    "\n",
    "\n",
    "@dataclass(frozen=True)\n",
    "class SimulationParameters:\n",
    "    delta_k1: Array\n",
    "    delta_k2: Array\n",
    "    kappa_array: Array\n",
    "    b_initial: Array\n",
    "\n",
    "\n",
    "# --- Core JAX Functions ---\n",
    "def make_loss_fn(\n",
    "    sim_params: SimulationParameters,\n",
    "    regularization_fn: Callable[[Array, float], Array] | None = None,\n",
    "    lambda_val: float = 0.0,\n",
    ") -> Callable[[Array], Array]:\n",
    "    \"\"\"Creates a loss function that returns the negative THW power, with optional regularization.\"\"\"\n",
    "\n",
    "    @jit\n",
    "    def loss_fn(domain_widths: Array) -> Array:\n",
    "        superlattice = jnp.stack([domain_widths, sim_params.kappa_array], axis=1)\n",
    "        b_final = cwes.simulate_twm(superlattice, sim_params.delta_k1, sim_params.delta_k2, sim_params.b_initial)\n",
    "        # [FW, SHW, THW]\n",
    "        thw_power = jnp.abs(b_final[2]) ** 2\n",
    "        loss = -thw_power\n",
    "        if regularization_fn:\n",
    "            loss += regularization_fn(domain_widths, lambda_val)\n",
    "        return loss\n",
    "\n",
    "    return loss_fn\n",
    "\n",
    "\n",
    "# --- Workflow Functions ---\n",
    "def _initialize_grating(config: Config) -> tuple[Array, Array, Array, Array]:\n",
    "    \"\"\"Generates initial grating parameters based on the configuration.\"\"\"\n",
    "    print(\"1. Generating initial grating parameters...\")\n",
    "    delta_k1 = mgoslt.calc_twm_delta_k(config.design_wl, config.design_wl, config.design_temp)\n",
    "    delta_k2 = mgoslt.calc_twm_delta_k(config.design_wl, config.design_wl / 2, config.design_temp)\n",
    "\n",
    "    domain_len_thg = jnp.pi / delta_k2\n",
    "    num_domains = int(jnp.round(config.target_length / domain_len_thg))\n",
    "    print(f\"   - Base domain width from calculation: {domain_len_thg:.4f} μm\")\n",
    "    print(f\"   - Number of domains: {num_domains}\")\n",
    "\n",
    "    kappa_array = config.kappa_mag * jnp.power(-1.0, jnp.arange(num_domains))\n",
    "\n",
    "    initial_widths = jnp.full(num_domains, domain_len_thg)\n",
    "    key = jax.random.PRNGKey(config.prng_seed)\n",
    "    noise = jax.random.normal(key, shape=(num_domains,)) * (domain_len_thg * 0.02)\n",
    "    initial_widths = initial_widths + noise\n",
    "\n",
    "    return delta_k1, delta_k2, kappa_array, initial_widths\n",
    "\n",
    "\n",
    "def _run_optimization(\n",
    "    initial_widths: Array,\n",
    "    sim_params: SimulationParameters,\n",
    "    config: Config,\n",
    ") -> Array:\n",
    "    \"\"\"Sets up and runs the L-BFGS optimization.\"\"\"\n",
    "    print(\"2. Setting up loss function and L-BFGS optimizer...\")\n",
    "    regularization_fn = REGULARIZATION_FNS.get(config.regularization) if config.regularization else None\n",
    "    loss_fn = make_loss_fn(sim_params, regularization_fn, config.lambda_val)\n",
    "    solver = optax.lbfgs()\n",
    "\n",
    "    @jit\n",
    "    def run_full_optimization(initial_params: Array) -> Array:\n",
    "        @loop_tqdm(config.max_iters, desc=\"Optimizing\")\n",
    "        def step(_: int, state: tuple[Array, optax.OptState]) -> tuple[optax.Params, optax.OptState]:\n",
    "            params, opt_state = state\n",
    "            value, grad = jax.value_and_grad(loss_fn)(params)\n",
    "            updates, opt_state = solver.update(grad, opt_state, params, value=value, grad=grad, value_fn=loss_fn)\n",
    "            params = optax.apply_updates(params, updates)\n",
    "            return params, opt_state\n",
    "\n",
    "        initial_opt_state = solver.init(initial_params)\n",
    "        optimized_params, _ = jax.lax.fori_loop(0, config.max_iters, step, (initial_params, initial_opt_state))\n",
    "        return optimized_params\n",
    "\n",
    "    print(\"3. Running JIT-compiled optimization...\")\n",
    "    print(f\"   - Initial THW power: {-loss_fn(initial_widths):.4f}\")\n",
    "\n",
    "    optimized_widths = run_full_optimization(initial_widths)\n",
    "    optimized_widths.block_until_ready()\n",
    "\n",
    "    print(f\"   - Optimized THW power: {-loss_fn(optimized_widths):.4f}\")\n",
    "    return optimized_widths\n",
    "\n",
    "\n",
    "# --- Visualization Functions ---\n",
    "def _calculate_spectrum(domain_widths: Array, sim_params: SimulationParameters, config: Config) -> tuple[Array, Array]:\n",
    "    \"\"\"Helper function to compute the THW power spectrum for a given grating.\"\"\"\n",
    "    wls = jnp.linspace(config.wl_start, config.wl_end, config.num_points)\n",
    "    delta_k1s = mgoslt.calc_twm_delta_k(wls, wls, config.design_temp)\n",
    "    delta_k2s = mgoslt.calc_twm_delta_k(wls, wls / 2, config.design_temp)\n",
    "\n",
    "    compute_spectrum_vmap = jit(jax.vmap(cwes.simulate_twm, in_axes=(None, 0, 0, None)))\n",
    "\n",
    "    superlattice = jnp.stack([domain_widths, sim_params.kappa_array], axis=1)\n",
    "    final_vectors = compute_spectrum_vmap(superlattice, delta_k1s, delta_k2s, sim_params.b_initial)\n",
    "    # [FW, SHW, THW]\n",
    "    thw_powers = jnp.abs(final_vectors[:, 2]) ** 2\n",
    "    return wls, thw_powers\n",
    "\n",
    "\n",
    "def _plot_domain_widths(initial_widths: Array, optimized_widths: Array) -> None:\n",
    "    \"\"\"Plots the domain widths before and after optimization.\"\"\"\n",
    "    fig = go.Figure()\n",
    "    fig.add_trace(go.Scatter(y=initial_widths, mode=\"lines\", name=\"Initial\", line={\"dash\": \"dash\"}))\n",
    "    fig.add_trace(go.Scatter(y=optimized_widths, mode=\"lines\", name=\"Optimized\"))\n",
    "    fig.update_layout(\n",
    "        title_text=\"Domain Widths Before and After Optimization\",\n",
    "        xaxis_title=\"Domain Index\",\n",
    "        yaxis_title=\"Width (μm)\",\n",
    "        template=\"plotly_white\",\n",
    "    )\n",
    "    fig.show()\n",
    "\n",
    "\n",
    "# REFACTOR: This function signature is also much cleaner now.\n",
    "def _plot_thw_power_spectrum(\n",
    "    initial_widths: Array,\n",
    "    optimized_widths: Array,\n",
    "    sim_params: SimulationParameters,\n",
    "    config: Config,\n",
    ") -> None:\n",
    "    \"\"\"Plots the THW power spectrum before and after optimization.\"\"\"\n",
    "    wls, initial_effs = _calculate_spectrum(initial_widths, sim_params, config)\n",
    "    _, optimized_effs = _calculate_spectrum(optimized_widths, sim_params, config)\n",
    "\n",
    "    fig = go.Figure()\n",
    "    fig.add_trace(go.Scatter(x=wls, y=initial_effs, mode=\"lines\", name=\"Initial\", line={\"dash\": \"dash\"}))\n",
    "    fig.add_trace(go.Scatter(x=wls, y=optimized_effs, mode=\"lines\", name=\"Optimized\"))\n",
    "    fig.add_vline(\n",
    "        x=config.design_wl,\n",
    "        line_dash=\"dot\",\n",
    "        line_color=\"red\",\n",
    "        annotation_text=f\"Design λ {config.design_wl}μm\",\n",
    "        annotation_position=\"bottom right\",\n",
    "    )\n",
    "    fig.update_layout(\n",
    "        title_text=\"THG THW power Spectrum Comparison\",\n",
    "        xaxis_title=\"Fundamental Wavelength (μm)\",\n",
    "        yaxis_title=\"Conversion THW power\",\n",
    "        template=\"plotly_white\",\n",
    "    )\n",
    "    fig.show()\n",
    "\n",
    "\n",
    "def main() -> None:\n",
    "    \"\"\"Main script execution.\"\"\"\n",
    "    config = Config()\n",
    "\n",
    "    # 1. Generate initial physical parameters and domain widths\n",
    "    delta_k1, delta_k2, kappa_array, initial_widths = _initialize_grating(config)\n",
    "\n",
    "    # REFACTOR: Bundle the fixed simulation parameters into a single object.\n",
    "    # This clarifies the data flow of the entire script.\n",
    "    fw_initial = 1 / 3\n",
    "    sim_params = SimulationParameters(\n",
    "        delta_k1=delta_k1,\n",
    "        delta_k2=delta_k2,\n",
    "        kappa_array=kappa_array,\n",
    "        b_initial=jnp.array([jnp.sqrt(fw_initial), jnp.sqrt(fw_initial * 2), 0.0], dtype=jnp.complex64),\n",
    "    )\n",
    "\n",
    "    # 2. Run the optimization with the clean parameter objects\n",
    "    optimized_widths = _run_optimization(initial_widths, sim_params, config)\n",
    "\n",
    "    # 3. Visualize the results\n",
    "    print(\"4. Visualizing optimization results...\")\n",
    "    _plot_domain_widths(initial_widths, optimized_widths)\n",
    "    _plot_thw_power_spectrum(initial_widths, optimized_widths, sim_params, config)\n",
    "\n",
    "\n",
    "main()"
   ]
  }
 ],
 "metadata": {
  "kernelspec": {
   "display_name": ".venv",
   "language": "python",
   "name": "python3"
  },
  "language_info": {
   "codemirror_mode": {
    "name": "ipython",
    "version": 3
   },
   "file_extension": ".py",
   "mimetype": "text/x-python",
   "name": "python",
   "nbconvert_exporter": "python",
   "pygments_lexer": "ipython3",
   "version": "3.13.8"
  }
 },
 "nbformat": 4,
 "nbformat_minor": 5
}
