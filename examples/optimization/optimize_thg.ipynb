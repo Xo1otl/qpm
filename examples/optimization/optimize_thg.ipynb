{
 "cells": [
  {
   "cell_type": "code",
   "execution_count": 1,
   "id": "5a485cfc",
   "metadata": {},
   "outputs": [],
   "source": [
    "from collections.abc import Callable\n",
    "from dataclasses import dataclass\n",
    "\n",
    "import jax\n",
    "import jax.numpy as jnp\n",
    "import optax  # pyright: ignore[reportMissingTypeStubs]\n",
    "import plotly.graph_objects as go  # pyright: ignore[reportMissingTypeStubs]\n",
    "from jax import Array, jit\n",
    "from jax_tqdm.loop_pbar import loop_tqdm\n",
    "\n",
    "from qpm import cwes, mgoslt\n",
    "\n",
    "\n",
    "# --- Regularization Strategies ---\n",
    "def tv_regularization(domain_widths: Array, lambda_val: float) -> Array:\n",
    "    \"\"\"Total Variation (TV) regularization penalizes the absolute difference between adjacent parameter values.\"\"\"\n",
    "    return lambda_val * jnp.sum(jnp.abs(jnp.diff(domain_widths)))\n",
    "\n",
    "\n",
    "REGULARIZATION_FNS: dict[str, Callable[[Array, float], Array]] = {\n",
    "    \"tv\": tv_regularization,\n",
    "}\n",
    "\n",
    "\n",
    "# --- Data Structures for Configuration and Parameters ---\n",
    "@dataclass\n",
    "class Config:\n",
    "    design_temp: float = 70.0\n",
    "    design_wl: float = 1.031\n",
    "    num_domains: int = 1000\n",
    "    max_iters: int = 1000\n",
    "    prng_seed: int = 42\n",
    "    kappa_mag: float = 1.31e-3 / (2 / jnp.pi)\n",
    "    kappa_target_length: float = 2000.0\n",
    "    wl_start: float = 1.025\n",
    "    wl_end: float = 1.035\n",
    "    num_wl_points: int = 500\n",
    "    # Regularization parameters\n",
    "    regularization: str | None = None\n",
    "    lambda_val: float = 1e-4\n",
    "\n",
    "\n",
    "@dataclass(frozen=True)\n",
    "class SimulationParameters:\n",
    "    delta_k1: Array\n",
    "    delta_k2: Array\n",
    "    kappa_array: Array\n",
    "    b_initial: Array\n",
    "\n",
    "\n",
    "# --- Core JAX Functions ---\n",
    "def make_loss_fn(\n",
    "    sim_params: SimulationParameters,\n",
    "    regularization_fn: Callable[[Array, float], Array] | None = None,\n",
    "    lambda_val: float = 0.0,\n",
    ") -> Callable[[Array], Array]:\n",
    "    \"\"\"Creates a loss function that returns the negative THW power with optional regularization.\"\"\"\n",
    "\n",
    "    @jit\n",
    "    def loss_fn(domain_widths: Array) -> Array:\n",
    "        b_final = cwes.simulate_twm(domain_widths, sim_params.kappa_array, sim_params.delta_k1, sim_params.delta_k2, sim_params.b_initial)\n",
    "        thw_power = jnp.abs(b_final[2]) ** 2\n",
    "\n",
    "        loss = -thw_power\n",
    "\n",
    "        if regularization_fn:\n",
    "            loss += regularization_fn(domain_widths, lambda_val)\n",
    "\n",
    "        return loss\n",
    "\n",
    "    return loss_fn\n",
    "\n",
    "\n",
    "# --- Workflow Functions ---\n",
    "def initialize_grating(config: Config) -> tuple[Array, Array, Array, Array, Array]:\n",
    "    \"\"\"Generates initial grating parameters based on the configuration.\"\"\"\n",
    "    print(\"1. Generating initial grating parameters...\")\n",
    "    delta_k1 = mgoslt.calc_twm_delta_k(config.design_wl, config.design_wl, config.design_temp)\n",
    "    delta_k2 = mgoslt.calc_twm_delta_k(config.design_wl, config.design_wl / 2, config.design_temp)\n",
    "\n",
    "    domain_len_shg = jnp.pi / delta_k1\n",
    "    num_domains = config.num_domains\n",
    "    print(f\"   - Base domain width from calculation: {domain_len_shg:.4f} μm\")\n",
    "    print(f\"   - Number of domains: {num_domains}\")\n",
    "\n",
    "    kappa_array = config.kappa_mag * jnp.power(-1.0, jnp.arange(num_domains))\n",
    "\n",
    "    periodic_widths = jnp.full(num_domains, domain_len_shg)\n",
    "    key = jax.random.PRNGKey(config.prng_seed)\n",
    "    noise = jax.random.normal(key, shape=(num_domains,)) * (domain_len_shg * 0.02)\n",
    "    initial_widths = periodic_widths + noise\n",
    "\n",
    "    return delta_k1, delta_k2, kappa_array, periodic_widths, initial_widths\n",
    "\n",
    "\n",
    "def run_optimization(\n",
    "    initial_widths: Array,\n",
    "    sim_params: SimulationParameters,\n",
    "    config: Config,\n",
    ") -> tuple[Array, Array]:\n",
    "    \"\"\"Sets up and runs the L-BFGS optimization.\"\"\"\n",
    "    print(\"2. Setting up loss function and L-BFGS optimizer...\")\n",
    "    regularization_fn = REGULARIZATION_FNS.get(config.regularization) if config.regularization else None\n",
    "    loss_fn = make_loss_fn(sim_params, regularization_fn, config.lambda_val)\n",
    "    solver = optax.lbfgs()\n",
    "\n",
    "    @jit\n",
    "    def run_full_optimization(initial_params: Array) -> tuple[Array, Array]:\n",
    "        initial_loss_history = jnp.zeros(config.max_iters)\n",
    "\n",
    "        @loop_tqdm(config.max_iters, desc=\"Optimizing\")\n",
    "        def step(i: int, state: tuple[Array, optax.OptState, Array]) -> tuple[optax.Params, optax.OptState, Array]:\n",
    "            params, opt_state, loss_history = state\n",
    "            value, grad = jax.value_and_grad(loss_fn)(params)\n",
    "            updates, opt_state = solver.update(grad, opt_state, params, value=value, grad=grad, value_fn=loss_fn)\n",
    "            params = optax.apply_updates(params, updates)\n",
    "            loss_history = loss_history.at[i].set(value)\n",
    "            return params, opt_state, loss_history\n",
    "\n",
    "        initial_opt_state = solver.init(initial_params)\n",
    "        optimized_params, _, loss_history = jax.lax.fori_loop(\n",
    "            0,\n",
    "            config.max_iters,\n",
    "            step,\n",
    "            (initial_params, initial_opt_state, initial_loss_history),\n",
    "        )\n",
    "        return optimized_params, loss_history\n",
    "\n",
    "    print(\"3. Running JIT-compiled optimization...\")\n",
    "    print(f\"   - Initial THW Power: {-loss_fn(initial_widths):.4f}\")\n",
    "\n",
    "    optimized_widths, loss_history = run_full_optimization(initial_widths)\n",
    "    optimized_widths.block_until_ready()\n",
    "\n",
    "    print(f\"   - Optimized THW Power: {-loss_fn(optimized_widths):.4f}\")\n",
    "    return optimized_widths, loss_history\n",
    "\n",
    "\n",
    "# --- Visualization Functions ---\n",
    "def _calculate_spectrum(domain_widths: Array, sim_params: SimulationParameters, config: Config) -> tuple[Array, Array]:\n",
    "    \"\"\"Helper function to compute the THW Power spectrum for a given grating.\"\"\"\n",
    "    wls = jnp.linspace(config.wl_start, config.wl_end, config.num_wl_points)\n",
    "    delta_k1s = mgoslt.calc_twm_delta_k(wls, wls, config.design_temp)\n",
    "    delta_k2s = mgoslt.calc_twm_delta_k(wls, wls / 2, config.design_temp)\n",
    "\n",
    "    compute_spectrum_vmap = jit(jax.vmap(cwes.simulate_twm, in_axes=(None, None, 0, 0, None)))\n",
    "\n",
    "    final_vectors = compute_spectrum_vmap(domain_widths, sim_params.kappa_array, delta_k1s, delta_k2s, sim_params.b_initial)\n",
    "    thw_powers = jnp.abs(final_vectors[:, 2]) ** 2 * 1.07 / 2.84 * 100\n",
    "    return wls, thw_powers\n",
    "\n",
    "\n",
    "def plot_domain_widths(initial_widths: Array, optimized_widths: Array, periodic_widths: Array) -> None:\n",
    "    \"\"\"Plots the domain widths before and after optimization.\"\"\"\n",
    "    fig = go.Figure()\n",
    "    fig.add_trace(go.Scatter(y=initial_widths, mode=\"lines\", name=\"Initial\", line={\"dash\": \"dash\"}))\n",
    "    fig.add_trace(go.Scatter(y=periodic_widths, mode=\"lines\", name=\"Periodic\", line={\"dash\": \"dot\"}))\n",
    "    fig.add_trace(go.Scatter(y=optimized_widths, mode=\"lines\", name=\"Optimized\"))\n",
    "    fig.update_layout(\n",
    "        title_text=\"Domain Widths Comparison\",\n",
    "        xaxis_title=\"Domain Index\",\n",
    "        yaxis_title=\"Width (μm)\",\n",
    "        template=\"plotly_white\",\n",
    "    )\n",
    "    fig.show()\n",
    "\n",
    "\n",
    "def plot_thw_power_spectrum(\n",
    "    initial_widths: Array,\n",
    "    optimized_widths: Array,\n",
    "    periodic_widths: Array,\n",
    "    sim_params: SimulationParameters,\n",
    "    config: Config,\n",
    ") -> None:\n",
    "    \"\"\"Plots the SHG Power spectrum before and after optimization.\"\"\"\n",
    "    wls, initial_effs = _calculate_spectrum(initial_widths, sim_params, config)\n",
    "    _, optimized_effs = _calculate_spectrum(optimized_widths, sim_params, config)\n",
    "    _, periodic_effs = _calculate_spectrum(periodic_widths, sim_params, config)\n",
    "\n",
    "    fig = go.Figure()\n",
    "    fig.add_trace(go.Scatter(x=wls, y=initial_effs, mode=\"lines\", name=\"Initial\", line={\"dash\": \"dash\"}))\n",
    "    fig.add_trace(go.Scatter(x=wls, y=periodic_effs, mode=\"lines\", name=\"Periodic\", line={\"dash\": \"dot\"}))\n",
    "    fig.add_trace(go.Scatter(x=wls, y=optimized_effs, mode=\"lines\", name=\"Optimized\"))\n",
    "    fig.add_vline(\n",
    "        x=config.design_wl,\n",
    "        line_dash=\"dot\",\n",
    "        line_color=\"red\",\n",
    "        annotation_text=f\"Design λ {config.design_wl}μm\",\n",
    "        annotation_position=\"bottom right\",\n",
    "    )\n",
    "    fig.update_layout(\n",
    "        title_text=\"THW Power Spectrum Comparison\",\n",
    "        xaxis_title=\"Fundamental Wavelength (μm)\",\n",
    "        yaxis_title=\"THW Power\",\n",
    "        template=\"plotly_white\",\n",
    "    )\n",
    "    fig.show()\n",
    "\n",
    "\n",
    "def plot_cost_history(loss_history: Array) -> None:\n",
    "    \"\"\"Plots the optimization cost history.\"\"\"\n",
    "    fig = go.Figure()\n",
    "    fig.add_trace(go.Scatter(y=loss_history, mode=\"lines\", name=\"Loss\"))\n",
    "    fig.update_layout(\n",
    "        title_text=\"Optimization Cost History\",\n",
    "        xaxis_title=\"Iteration\",\n",
    "        yaxis_title=\"Loss\",\n",
    "        template=\"plotly_white\",\n",
    "    )\n",
    "    fig.show()"
   ]
  },
  {
   "cell_type": "code",
   "execution_count": null,
   "id": "444bdfc0",
   "metadata": {},
   "outputs": [
    {
     "name": "stdout",
     "output_type": "stream",
     "text": [
      "1. Generating initial grating parameters...\n",
      "   - Base domain width from calculation: 3.6008 μm\n",
      "   - Number of domains: 1000\n"
     ]
    }
   ],
   "source": [
    "\"\"\"Main function to run the optimization and visualization.\"\"\"\n",
    "config = Config()\n",
    "# 1. Generate initial physical parameters and domain widths\n",
    "delta_k1, delta_k2, kappa_array, periodic_widths, initial_widths = initialize_grating(config)\n",
    "# 2. Create simulation parameters\n",
    "sim_params = SimulationParameters(\n",
    "    delta_k1=delta_k1,\n",
    "    delta_k2=delta_k2,\n",
    "    kappa_array=kappa_array,\n",
    "    b_initial=jnp.array([1.0, 0.0, 0.0], dtype=jnp.complex64),\n",
    ")\n",
    "# 3. Run the optimization with the clean parameter objects\n",
    "optimized_widths, loss_history = run_optimization(initial_widths, sim_params, config)"
   ]
  },
  {
   "cell_type": "code",
   "execution_count": 14,
   "id": "33240a0d",
   "metadata": {},
   "outputs": [
    {
     "name": "stdout",
     "output_type": "stream",
     "text": [
      "2. Setting up loss function and L-BFGS optimizer...\n",
      "3. Running JIT-compiled optimization...\n",
      "   - Initial THW Power: 0.8969\n"
     ]
    },
    {
     "data": {
      "application/vnd.jupyter.widget-view+json": {
       "model_id": "c9f3b5704f714fac9100db4e7006b406",
       "version_major": 2,
       "version_minor": 0
      },
      "text/plain": [
       "Optimizing:   0%|          | 0/100 [00:00<?, ?it/s]"
      ]
     },
     "metadata": {},
     "output_type": "display_data"
    },
    {
     "name": "stdout",
     "output_type": "stream",
     "text": [
      "   - Optimized THW Power: 0.8969\n"
     ]
    }
   ],
   "source": [
    "initial_widths = jnp.load(\"optimized_widths_1000.npy\")\n",
    "config.max_iters = 100\n",
    "optimized_widths, loss_history = run_optimization(initial_widths, sim_params, config)"
   ]
  },
  {
   "cell_type": "code",
   "execution_count": null,
   "id": "665e2786",
   "metadata": {},
   "outputs": [
    {
     "name": "stdout",
     "output_type": "stream",
     "text": [
      "4. Visualizing optimization results...\n"
     ]
    },
    {
     "data": {
      "application/vnd.plotly.v1+json": {
       "config": {
        "plotlyServerURL": "https://plot.ly"
       },
       "data": [
        {
         "line": {
          "dash": "dash"
         },
         "mode": "lines",
         "name": "Initial",
         "type": "scatter",
         "y": {
          "bdata": "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",
          "dtype": "f4"
         }
        },
        {
         "line": {
          "dash": "dot"
         },
         "mode": "lines",
         "name": "Periodic",
         "type": "scatter",
         "y": {
          "bdata": "/nNmQP5zZkD+c2ZA/nNmQP5zZkD+c2ZA/nNmQP5zZkD+c2ZA/nNmQP5zZkD+c2ZA/nNmQP5zZkD+c2ZA/nNmQP5zZkD+c2ZA/nNmQP5zZkD+c2ZA/nNmQP5zZkD+c2ZA/nNmQP5zZkD+c2ZA/nNmQP5zZkD+c2ZA/nNmQP5zZkD+c2ZA/nNmQP5zZkD+c2ZA/nNmQP5zZkD+c2ZA/nNmQP5zZkD+c2ZA/nNmQP5zZkD+c2ZA/nNmQP5zZkD+c2ZA/nNmQP5zZkD+c2ZA/nNmQP5zZkD+c2ZA/nNmQP5zZkD+c2ZA/nNmQP5zZkD+c2ZA/nNmQP5zZkD+c2ZA/nNmQP5zZkD+c2ZA/nNmQP5zZkD+c2ZA/nNmQP5zZkD+c2ZA/nNmQP5zZkD+c2ZA/nNmQP5zZkD+c2ZA/nNmQP5zZkD+c2ZA/nNmQP5zZkD+c2ZA/nNmQP5zZkD+c2ZA/nNmQP5zZkD+c2ZA/nNmQP5zZkD+c2ZA/nNmQP5zZkD+c2ZA/nNmQP5zZkD+c2ZA/nNmQP5zZkD+c2ZA/nNmQP5zZkD+c2ZA/nNmQP5zZkD+c2ZA/nNmQP5zZkD+c2ZA/nNmQP5zZkD+c2ZA/nNmQP5zZkD+c2ZA/nNmQP5zZkD+c2ZA/nNmQP5zZkD+c2ZA/nNmQP5zZkD+c2ZA/nNmQP5zZkD+c2ZA/nNmQP5zZkD+c2ZA/nNmQP5zZkD+c2ZA/nNmQP5zZkD+c2ZA/nNmQP5zZkD+c2ZA/nNmQP5zZkD+c2ZA/nNmQP5zZkD+c2ZA/nNmQP5zZkD+c2ZA/nNmQP5zZkD+c2ZA/nNmQP5zZkD+c2ZA/nNmQP5zZkD+c2ZA/nNmQP5zZkD+c2ZA/nNmQP5zZkD+c2ZA/nNmQP5zZkD+c2ZA/nNmQP5zZkD+c2ZA/nNmQP5zZkD+c2ZA/nNmQP5zZkD+c2ZA/nNmQP5zZkD+c2ZA/nNmQP5zZkD+c2ZA/nNmQP5zZkD+c2ZA/nNmQP5zZkD+c2ZA/nNmQP5zZkD+c2ZA/nNmQP5zZkD+c2ZA/nNmQP5zZkD+c2ZA/nNmQP5zZkD+c2ZA/nNmQP5zZkD+c2ZA/nNmQP5zZkD+c2ZA/nNmQP5zZkD+c2ZA/nNmQP5zZkD+c2ZA/nNmQP5zZkD+c2ZA/nNmQP5zZkD+c2ZA/nNmQP5zZkD+c2ZA/nNmQP5zZkD+c2ZA/nNmQP5zZkD+c2ZA/nNmQP5zZkD+c2ZA/nNmQP5zZkD+c2ZA/nNmQP5zZkD+c2ZA/nNmQP5zZkD+c2ZA/nNmQP5zZkD+c2ZA/nNmQP5zZkD+c2ZA/nNmQP5zZkD+c2ZA/nNmQP5zZkD+c2ZA/nNmQP5zZkD+c2ZA/nNmQP5zZkD+c2ZA/nNmQP5zZkD+c2ZA/nNmQP5zZkD+c2ZA/nNmQP5zZkD+c2ZA/nNmQP5zZkD+c2ZA/nNmQP5zZkD+c2ZA/nNmQP5zZkD+c2ZA/nNmQP5zZkD+c2ZA/nNmQP5zZkD+c2ZA/nNmQP5zZkD+c2ZA/nNmQP5zZkD+c2ZA/nNmQP5zZkD+c2ZA/nNmQP5zZkD+c2ZA/nNmQP5zZkD+c2ZA/nNmQP5zZkD+c2ZA/nNmQP5zZkD+c2ZA/nNmQP5zZkD+c2ZA/nNmQP5zZkD+c2ZA/nNmQP5zZkD+c2ZA/nNmQP5zZkD+c2ZA/nNmQP5zZkD+c2ZA/nNmQP5zZkD+c2ZA/nNmQP5zZkD+c2ZA/nNmQP5zZkD+c2ZA/nNmQP5zZkD+c2ZA/nNmQP5zZkD+c2ZA/nNmQP5zZkD+c2ZA/nNmQP5zZkD+c2ZA/nNmQP5zZkD+c2ZA/nNmQP5zZkD+c2ZA/nNmQP5zZkD+c2ZA/nNmQP5zZkD+c2ZA/nNmQP5zZkD+c2ZA/nNmQP5zZkD+c2ZA/nNmQP5zZkD+c2ZA/nNmQP5zZkD+c2ZA/nNmQP5zZkD+c2ZA/nNmQP5zZkD+c2ZA/nNmQP5zZkD+c2ZA/nNmQP5zZkD+c2ZA/nNmQP5zZkD+c2ZA/nNmQP5zZkD+c2ZA/nNmQP5zZkD+c2ZA/nNmQP5zZkD+c2ZA/nNmQP5zZkD+c2ZA/nNmQP5zZkD+c2ZA/nNmQP5zZkD+c2ZA/nNmQP5zZkD+c2ZA/nNmQP5zZkD+c2ZA/nNmQP5zZkD+c2ZA/nNmQP5zZkD+c2ZA/nNmQP5zZkD+c2ZA/nNmQP5zZkD+c2ZA/nNmQP5zZkD+c2ZA/nNmQP5zZkD+c2ZA/nNmQP5zZkD+c2ZA/nNmQP5zZkD+c2ZA/nNmQP5zZkD+c2ZA/nNmQP5zZkD+c2ZA/nNmQP5zZkD+c2ZA/nNmQP5zZkD+c2ZA/nNmQP5zZkD+c2ZA/nNmQP5zZkD+c2ZA/nNmQP5zZkD+c2ZA/nNmQP5zZkD+c2ZA/nNmQP5zZkD+c2ZA/nNmQP5zZkD+c2ZA/nNmQP5zZkD+c2ZA/nNmQP5zZkD+c2ZA/nNmQP5zZkD+c2ZA/nNmQP5zZkD+c2ZA/nNmQP5zZkD+c2ZA/nNmQP5zZkD+c2ZA/nNmQP5zZkD+c2ZA/nNmQP5zZkD+c2ZA/nNmQP5zZkD+c2ZA/nNmQP5zZkD+c2ZA/nNmQP5zZkD+c2ZA/nNmQP5zZkD+c2ZA/nNmQP5zZkD+c2ZA/nNmQP5zZkD+c2ZA/nNmQP5zZkD+c2ZA/nNmQP5zZkD+c2ZA/nNmQP5zZkD+c2ZA/nNmQP5zZkD+c2ZA/nNmQP5zZkD+c2ZA/nNmQP5zZkD+c2ZA/nNmQP5zZkD+c2ZA/nNmQP5zZkD+c2ZA/nNmQP5zZkD+c2ZA/nNmQP5zZkD+c2ZA/nNmQP5zZkD+c2ZA/nNmQP5zZkD+c2ZA/nNmQP5zZkD+c2ZA/nNmQP5zZkD+c2ZA/nNmQP5zZkD+c2ZA/nNmQP5zZkD+c2ZA/nNmQP5zZkD+c2ZA/nNmQP5zZkD+c2ZA/nNmQP5zZkD+c2ZA/nNmQP5zZkD+c2ZA/nNmQP5zZkD+c2ZA/nNmQP5zZkD+c2ZA/nNmQP5zZkD+c2ZA/nNmQP5zZkD+c2ZA/nNmQP5zZkD+c2ZA/nNmQP5zZkD+c2ZA/nNmQP5zZkD+c2ZA/nNmQP5zZkD+c2ZA/nNmQP5zZkD+c2ZA/nNmQP5zZkD+c2ZA/nNmQP5zZkD+c2ZA/nNmQP5zZkD+c2ZA/nNmQP5zZkD+c2ZA/nNmQP5zZkD+c2ZA/nNmQP5zZkD+c2ZA/nNmQP5zZkD+c2ZA/nNmQP5zZkD+c2ZA/nNmQP5zZkD+c2ZA/nNmQP5zZkD+c2ZA/nNmQP5zZkD+c2ZA/nNmQP5zZkD+c2ZA/nNmQP5zZkD+c2ZA/nNmQP5zZkD+c2ZA/nNmQP5zZkD+c2ZA/nNmQP5zZkD+c2ZA/nNmQP5zZkD+c2ZA/nNmQP5zZkD+c2ZA/nNmQP5zZkD+c2ZA/nNmQP5zZkD+c2ZA/nNmQP5zZkD+c2ZA/nNmQP5zZkD+c2ZA/nNmQP5zZkD+c2ZA/nNmQP5zZkD+c2ZA/nNmQP5zZkD+c2ZA/nNmQP5zZkD+c2ZA/nNmQP5zZkD+c2ZA/nNmQP5zZkD+c2ZA/nNmQP5zZkD+c2ZA/nNmQP5zZkD+c2ZA/nNmQP5zZkD+c2ZA/nNmQP5zZkD+c2ZA/nNmQP5zZkD+c2ZA/nNmQP5zZkD+c2ZA/nNmQP5zZkD+c2ZA/nNmQP5zZkD+c2ZA/nNmQP5zZkD+c2ZA/nNmQP5zZkD+c2ZA/nNmQP5zZkD+c2ZA/nNmQP5zZkD+c2ZA/nNmQP5zZkD+c2ZA/nNmQP5zZkD+c2ZA/nNmQP5zZkD+c2ZA/nNmQP5zZkD+c2ZA/nNmQP5zZkD+c2ZA/nNmQP5zZkD+c2ZA/nNmQP5zZkD+c2ZA/nNmQP5zZkD+c2ZA/nNmQP5zZkD+c2ZA/nNmQP5zZkD+c2ZA/nNmQP5zZkD+c2ZA/nNmQP5zZkD+c2ZA/nNmQP5zZkD+c2ZA/nNmQP5zZkD+c2ZA/nNmQP5zZkD+c2ZA/nNmQP5zZkD+c2ZA/nNmQP5zZkD+c2ZA/nNmQP5zZkD+c2ZA/nNmQP5zZkD+c2ZA/nNmQP5zZkD+c2ZA/nNmQP5zZkD+c2ZA/nNmQP5zZkD+c2ZA/nNmQP5zZkD+c2ZA/nNmQP5zZkD+c2ZA/nNmQP5zZkD+c2ZA/nNmQP5zZkD+c2ZA/nNmQP5zZkD+c2ZA/nNmQP5zZkD+c2ZA/nNmQP5zZkD+c2ZA/nNmQP5zZkD+c2ZA/nNmQP5zZkD+c2ZA/nNmQP5zZkD+c2ZA/nNmQP5zZkD+c2ZA/nNmQP5zZkD+c2ZA/nNmQP5zZkD+c2ZA/nNmQP5zZkD+c2ZA/nNmQP5zZkD+c2ZA/nNmQP5zZkD+c2ZA/nNmQP5zZkD+c2ZA/nNmQP5zZkD+c2ZA/nNmQP5zZkD+c2ZA/nNmQP5zZkD+c2ZA/nNmQP5zZkD+c2ZA/nNmQP5zZkD+c2ZA/nNmQP5zZkD+c2ZA/nNmQP5zZkD+c2ZA/nNmQP5zZkD+c2ZA/nNmQP5zZkD+c2ZA/nNmQP5zZkD+c2ZA/nNmQP5zZkD+c2ZA/nNmQP5zZkD+c2ZA/nNmQP5zZkD+c2ZA/nNmQP5zZkD+c2ZA/nNmQP5zZkD+c2ZA/nNmQP5zZkD+c2ZA/nNmQP5zZkD+c2ZA/nNmQP5zZkD+c2ZA/nNmQP5zZkD+c2ZA/nNmQP5zZkD+c2ZA/nNmQP5zZkD+c2ZA/nNmQP5zZkD+c2ZA/nNmQP5zZkD+c2ZA/nNmQP5zZkD+c2ZA/nNmQP5zZkD+c2ZA/nNmQP5zZkD+c2ZA/nNmQP5zZkD+c2ZA/nNmQP5zZkD+c2ZA/nNmQP5zZkD+c2ZA/nNmQP5zZkD+c2ZA/nNmQP5zZkD+c2ZA/nNmQP5zZkD+c2ZA/nNmQP5zZkD+c2ZA/nNmQP5zZkD+c2ZA/nNmQP5zZkD+c2ZA/nNmQP5zZkD+c2ZA/nNmQP5zZkD+c2ZA/nNmQP5zZkD+c2ZA/nNmQP5zZkD+c2ZA/nNmQP5zZkD+c2ZA/nNmQP5zZkD+c2ZA/nNmQP5zZkD+c2ZA/nNmQP5zZkD+c2ZA/nNmQP5zZkD+c2ZA/nNmQP5zZkD+c2ZA/nNmQP5zZkD+c2ZA/nNmQP5zZkD+c2ZA/nNmQP5zZkD+c2ZA/nNmQP5zZkD+c2ZA/nNmQP5zZkD+c2ZA/nNmQP5zZkD+c2ZA/nNmQP5zZkD+c2ZA/nNmQP5zZkD+c2ZA/nNmQP5zZkD+c2ZA/nNmQP5zZkD+c2ZA/nNmQP5zZkD+c2ZA/nNmQP5zZkD+c2ZA/nNmQP5zZkD+c2ZA/nNmQP5zZkD+c2ZA/nNmQA==",
          "dtype": "f4"
         }
        },
        {
         "mode": "lines",
         "name": "Optimized",
         "type": "scatter",
         "y": {
          "bdata": "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",
          "dtype": "f4"
         }
        }
       ],
       "layout": {
        "template": {
         "data": {
          "bar": [
           {
            "error_x": {
             "color": "#2a3f5f"
            },
            "error_y": {
             "color": "#2a3f5f"
            },
            "marker": {
             "line": {
              "color": "white",
              "width": 0.5
             },
             "pattern": {
              "fillmode": "overlay",
              "size": 10,
              "solidity": 0.2
             }
            },
            "type": "bar"
           }
          ],
          "barpolar": [
           {
            "marker": {
             "line": {
              "color": "white",
              "width": 0.5
             },
             "pattern": {
              "fillmode": "overlay",
              "size": 10,
              "solidity": 0.2
             }
            },
            "type": "barpolar"
           }
          ],
          "carpet": [
           {
            "aaxis": {
             "endlinecolor": "#2a3f5f",
             "gridcolor": "#C8D4E3",
             "linecolor": "#C8D4E3",
             "minorgridcolor": "#C8D4E3",
             "startlinecolor": "#2a3f5f"
            },
            "baxis": {
             "endlinecolor": "#2a3f5f",
             "gridcolor": "#C8D4E3",
             "linecolor": "#C8D4E3",
             "minorgridcolor": "#C8D4E3",
             "startlinecolor": "#2a3f5f"
            },
            "type": "carpet"
           }
          ],
          "choropleth": [
           {
            "colorbar": {
             "outlinewidth": 0,
             "ticks": ""
            },
            "type": "choropleth"
           }
          ],
          "contour": [
           {
            "colorbar": {
             "outlinewidth": 0,
             "ticks": ""
            },
            "colorscale": [
             [
              0,
              "#0d0887"
             ],
             [
              0.1111111111111111,
              "#46039f"
             ],
             [
              0.2222222222222222,
              "#7201a8"
             ],
             [
              0.3333333333333333,
              "#9c179e"
             ],
             [
              0.4444444444444444,
              "#bd3786"
             ],
             [
              0.5555555555555556,
              "#d8576b"
             ],
             [
              0.6666666666666666,
              "#ed7953"
             ],
             [
              0.7777777777777778,
              "#fb9f3a"
             ],
             [
              0.8888888888888888,
              "#fdca26"
             ],
             [
              1,
              "#f0f921"
             ]
            ],
            "type": "contour"
           }
          ],
          "contourcarpet": [
           {
            "colorbar": {
             "outlinewidth": 0,
             "ticks": ""
            },
            "type": "contourcarpet"
           }
          ],
          "heatmap": [
           {
            "colorbar": {
             "outlinewidth": 0,
             "ticks": ""
            },
            "colorscale": [
             [
              0,
              "#0d0887"
             ],
             [
              0.1111111111111111,
              "#46039f"
             ],
             [
              0.2222222222222222,
              "#7201a8"
             ],
             [
              0.3333333333333333,
              "#9c179e"
             ],
             [
              0.4444444444444444,
              "#bd3786"
             ],
             [
              0.5555555555555556,
              "#d8576b"
             ],
             [
              0.6666666666666666,
              "#ed7953"
             ],
             [
              0.7777777777777778,
              "#fb9f3a"
             ],
             [
              0.8888888888888888,
              "#fdca26"
             ],
             [
              1,
              "#f0f921"
             ]
            ],
            "type": "heatmap"
           }
          ],
          "histogram": [
           {
            "marker": {
             "pattern": {
              "fillmode": "overlay",
              "size": 10,
              "solidity": 0.2
             }
            },
            "type": "histogram"
           }
          ],
          "histogram2d": [
           {
            "colorbar": {
             "outlinewidth": 0,
             "ticks": ""
            },
            "colorscale": [
             [
              0,
              "#0d0887"
             ],
             [
              0.1111111111111111,
              "#46039f"
             ],
             [
              0.2222222222222222,
              "#7201a8"
             ],
             [
              0.3333333333333333,
              "#9c179e"
             ],
             [
              0.4444444444444444,
              "#bd3786"
             ],
             [
              0.5555555555555556,
              "#d8576b"
             ],
             [
              0.6666666666666666,
              "#ed7953"
             ],
             [
              0.7777777777777778,
              "#fb9f3a"
             ],
             [
              0.8888888888888888,
              "#fdca26"
             ],
             [
              1,
              "#f0f921"
             ]
            ],
            "type": "histogram2d"
           }
          ],
          "histogram2dcontour": [
           {
            "colorbar": {
             "outlinewidth": 0,
             "ticks": ""
            },
            "colorscale": [
             [
              0,
              "#0d0887"
             ],
             [
              0.1111111111111111,
              "#46039f"
             ],
             [
              0.2222222222222222,
              "#7201a8"
             ],
             [
              0.3333333333333333,
              "#9c179e"
             ],
             [
              0.4444444444444444,
              "#bd3786"
             ],
             [
              0.5555555555555556,
              "#d8576b"
             ],
             [
              0.6666666666666666,
              "#ed7953"
             ],
             [
              0.7777777777777778,
              "#fb9f3a"
             ],
             [
              0.8888888888888888,
              "#fdca26"
             ],
             [
              1,
              "#f0f921"
             ]
            ],
            "type": "histogram2dcontour"
           }
          ],
          "mesh3d": [
           {
            "colorbar": {
             "outlinewidth": 0,
             "ticks": ""
            },
            "type": "mesh3d"
           }
          ],
          "parcoords": [
           {
            "line": {
             "colorbar": {
              "outlinewidth": 0,
              "ticks": ""
             }
            },
            "type": "parcoords"
           }
          ],
          "pie": [
           {
            "automargin": true,
            "type": "pie"
           }
          ],
          "scatter": [
           {
            "fillpattern": {
             "fillmode": "overlay",
             "size": 10,
             "solidity": 0.2
            },
            "type": "scatter"
           }
          ],
          "scatter3d": [
           {
            "line": {
             "colorbar": {
              "outlinewidth": 0,
              "ticks": ""
             }
            },
            "marker": {
             "colorbar": {
              "outlinewidth": 0,
              "ticks": ""
             }
            },
            "type": "scatter3d"
           }
          ],
          "scattercarpet": [
           {
            "marker": {
             "colorbar": {
              "outlinewidth": 0,
              "ticks": ""
             }
            },
            "type": "scattercarpet"
           }
          ],
          "scattergeo": [
           {
            "marker": {
             "colorbar": {
              "outlinewidth": 0,
              "ticks": ""
             }
            },
            "type": "scattergeo"
           }
          ],
          "scattergl": [
           {
            "marker": {
             "colorbar": {
              "outlinewidth": 0,
              "ticks": ""
             }
            },
            "type": "scattergl"
           }
          ],
          "scattermap": [
           {
            "marker": {
             "colorbar": {
              "outlinewidth": 0,
              "ticks": ""
             }
            },
            "type": "scattermap"
           }
          ],
          "scattermapbox": [
           {
            "marker": {
             "colorbar": {
              "outlinewidth": 0,
              "ticks": ""
             }
            },
            "type": "scattermapbox"
           }
          ],
          "scatterpolar": [
           {
            "marker": {
             "colorbar": {
              "outlinewidth": 0,
              "ticks": ""
             }
            },
            "type": "scatterpolar"
           }
          ],
          "scatterpolargl": [
           {
            "marker": {
             "colorbar": {
              "outlinewidth": 0,
              "ticks": ""
             }
            },
            "type": "scatterpolargl"
           }
          ],
          "scatterternary": [
           {
            "marker": {
             "colorbar": {
              "outlinewidth": 0,
              "ticks": ""
             }
            },
            "type": "scatterternary"
           }
          ],
          "surface": [
           {
            "colorbar": {
             "outlinewidth": 0,
             "ticks": ""
            },
            "colorscale": [
             [
              0,
              "#0d0887"
             ],
             [
              0.1111111111111111,
              "#46039f"
             ],
             [
              0.2222222222222222,
              "#7201a8"
             ],
             [
              0.3333333333333333,
              "#9c179e"
             ],
             [
              0.4444444444444444,
              "#bd3786"
             ],
             [
              0.5555555555555556,
              "#d8576b"
             ],
             [
              0.6666666666666666,
              "#ed7953"
             ],
             [
              0.7777777777777778,
              "#fb9f3a"
             ],
             [
              0.8888888888888888,
              "#fdca26"
             ],
             [
              1,
              "#f0f921"
             ]
            ],
            "type": "surface"
           }
          ],
          "table": [
           {
            "cells": {
             "fill": {
              "color": "#EBF0F8"
             },
             "line": {
              "color": "white"
             }
            },
            "header": {
             "fill": {
              "color": "#C8D4E3"
             },
             "line": {
              "color": "white"
             }
            },
            "type": "table"
           }
          ]
         },
         "layout": {
          "annotationdefaults": {
           "arrowcolor": "#2a3f5f",
           "arrowhead": 0,
           "arrowwidth": 1
          },
          "autotypenumbers": "strict",
          "coloraxis": {
           "colorbar": {
            "outlinewidth": 0,
            "ticks": ""
           }
          },
          "colorscale": {
           "diverging": [
            [
             0,
             "#8e0152"
            ],
            [
             0.1,
             "#c51b7d"
            ],
            [
             0.2,
             "#de77ae"
            ],
            [
             0.3,
             "#f1b6da"
            ],
            [
             0.4,
             "#fde0ef"
            ],
            [
             0.5,
             "#f7f7f7"
            ],
            [
             0.6,
             "#e6f5d0"
            ],
            [
             0.7,
             "#b8e186"
            ],
            [
             0.8,
             "#7fbc41"
            ],
            [
             0.9,
             "#4d9221"
            ],
            [
             1,
             "#276419"
            ]
           ],
           "sequential": [
            [
             0,
             "#0d0887"
            ],
            [
             0.1111111111111111,
             "#46039f"
            ],
            [
             0.2222222222222222,
             "#7201a8"
            ],
            [
             0.3333333333333333,
             "#9c179e"
            ],
            [
             0.4444444444444444,
             "#bd3786"
            ],
            [
             0.5555555555555556,
             "#d8576b"
            ],
            [
             0.6666666666666666,
             "#ed7953"
            ],
            [
             0.7777777777777778,
             "#fb9f3a"
            ],
            [
             0.8888888888888888,
             "#fdca26"
            ],
            [
             1,
             "#f0f921"
            ]
           ],
           "sequentialminus": [
            [
             0,
             "#0d0887"
            ],
            [
             0.1111111111111111,
             "#46039f"
            ],
            [
             0.2222222222222222,
             "#7201a8"
            ],
            [
             0.3333333333333333,
             "#9c179e"
            ],
            [
             0.4444444444444444,
             "#bd3786"
            ],
            [
             0.5555555555555556,
             "#d8576b"
            ],
            [
             0.6666666666666666,
             "#ed7953"
            ],
            [
             0.7777777777777778,
             "#fb9f3a"
            ],
            [
             0.8888888888888888,
             "#fdca26"
            ],
            [
             1,
             "#f0f921"
            ]
           ]
          },
          "colorway": [
           "#636efa",
           "#EF553B",
           "#00cc96",
           "#ab63fa",
           "#FFA15A",
           "#19d3f3",
           "#FF6692",
           "#B6E880",
           "#FF97FF",
           "#FECB52"
          ],
          "font": {
           "color": "#2a3f5f"
          },
          "geo": {
           "bgcolor": "white",
           "lakecolor": "white",
           "landcolor": "white",
           "showlakes": true,
           "showland": true,
           "subunitcolor": "#C8D4E3"
          },
          "hoverlabel": {
           "align": "left"
          },
          "hovermode": "closest",
          "mapbox": {
           "style": "light"
          },
          "paper_bgcolor": "white",
          "plot_bgcolor": "white",
          "polar": {
           "angularaxis": {
            "gridcolor": "#EBF0F8",
            "linecolor": "#EBF0F8",
            "ticks": ""
           },
           "bgcolor": "white",
           "radialaxis": {
            "gridcolor": "#EBF0F8",
            "linecolor": "#EBF0F8",
            "ticks": ""
           }
          },
          "scene": {
           "xaxis": {
            "backgroundcolor": "white",
            "gridcolor": "#DFE8F3",
            "gridwidth": 2,
            "linecolor": "#EBF0F8",
            "showbackground": true,
            "ticks": "",
            "zerolinecolor": "#EBF0F8"
           },
           "yaxis": {
            "backgroundcolor": "white",
            "gridcolor": "#DFE8F3",
            "gridwidth": 2,
            "linecolor": "#EBF0F8",
            "showbackground": true,
            "ticks": "",
            "zerolinecolor": "#EBF0F8"
           },
           "zaxis": {
            "backgroundcolor": "white",
            "gridcolor": "#DFE8F3",
            "gridwidth": 2,
            "linecolor": "#EBF0F8",
            "showbackground": true,
            "ticks": "",
            "zerolinecolor": "#EBF0F8"
           }
          },
          "shapedefaults": {
           "line": {
            "color": "#2a3f5f"
           }
          },
          "ternary": {
           "aaxis": {
            "gridcolor": "#DFE8F3",
            "linecolor": "#A2B1C6",
            "ticks": ""
           },
           "baxis": {
            "gridcolor": "#DFE8F3",
            "linecolor": "#A2B1C6",
            "ticks": ""
           },
           "bgcolor": "white",
           "caxis": {
            "gridcolor": "#DFE8F3",
            "linecolor": "#A2B1C6",
            "ticks": ""
           }
          },
          "title": {
           "x": 0.05
          },
          "xaxis": {
           "automargin": true,
           "gridcolor": "#EBF0F8",
           "linecolor": "#EBF0F8",
           "ticks": "",
           "title": {
            "standoff": 15
           },
           "zerolinecolor": "#EBF0F8",
           "zerolinewidth": 2
          },
          "yaxis": {
           "automargin": true,
           "gridcolor": "#EBF0F8",
           "linecolor": "#EBF0F8",
           "ticks": "",
           "title": {
            "standoff": 15
           },
           "zerolinecolor": "#EBF0F8",
           "zerolinewidth": 2
          }
         }
        },
        "title": {
         "text": "Domain Widths Comparison"
        },
        "xaxis": {
         "title": {
          "text": "Domain Index"
         }
        },
        "yaxis": {
         "title": {
          "text": "Width (μm)"
         }
        }
       }
      }
     },
     "metadata": {},
     "output_type": "display_data"
    },
    {
     "data": {
      "application/vnd.plotly.v1+json": {
       "config": {
        "plotlyServerURL": "https://plot.ly"
       },
       "data": [
        {
         "line": {
          "dash": "dash"
         },
         "mode": "lines",
         "name": "Initial",
         "type": "scatter",
         "x": {
          "bdata": "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",
          "dtype": "f4"
         },
         "y": {
          "bdata": "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",
          "dtype": "f4"
         }
        },
        {
         "line": {
          "dash": "dot"
         },
         "mode": "lines",
         "name": "Periodic",
         "type": "scatter",
         "x": {
          "bdata": "MzODP9szgz+DNIM/LDWDP9M1gz98NoM/IzeDP8w3gz90OIM/HDmDP8Q5gz9sOoM/FTuDP7w7gz9lPIM/DT2DP7Q9gz9dPoM/BT+DP60/gz9VQIM//kCDP6VBgz9NQoM/9kKDP51Dgz9GRIM/7kSDP5ZFgz8+RoM/50aDP45Hgz82SIM/30iDP4dJgz8vSoM/10qDP39Lgz8nTIM/z0yDP3dNgz8fToM/yE6DP3BPgz8YUIM/wFCDP2hRgz8QUoM/uFKDP2BTgz8IVIM/sVSDP1lVgz8AVoM/qVaDP1FXgz/5V4M/oViDP0pZgz/xWYM/mlqDP0Jbgz/pW4M/klyDPzpdgz/iXYM/il6DPzNfgz/aX4M/gmCDPythgz/TYYM/e2KDPyNjgz/LY4M/c2SDPxtlgz/DZYM/a2aDPxRngz+8Z4M/ZGiDPwxpgz+0aYM/XGqDPwRrgz+sa4M/VGyDP/1sgz+lbYM/TW6DP/Vugz+db4M/RXCDP+1wgz+WcYM/PXKDP+Zygz+Oc4M/NXSDP950gz+GdYM/LnaDP9Z2gz9/d4M/JniDP854gz93eYM/H3qDP8d6gz9ve4M/F3yDP798gz9nfYM/D36DP7d+gz9gf4M/CICDP7CAgz9YgYM/AIKDP6iCgz9Qg4M/+IODP6CEgz9JhYM/8YWDP5mGgz9Bh4M/6YeDP5GIgz85iYM/4omDP4mKgz8xi4M/2ouDP4GMgz8qjYM/0o2DP3qOgz8ij4M/y4+DP3KQgz8bkYM/w5GDP2uSgz8Tk4M/u5ODP2OUgz8LlYM/tJWDP1uWgz8Dl4M/rJeDP1SYgz/8mIM/pJmDP0yagz/0moM/nJuDP0Scgz/snIM/lZ2DPz2egz/lnoM/jZ+DPzWggz/doIM/haGDPy6igz/VooM/faODPyakgz/OpIM/dqWDPx6mgz/GpoM/bqeDPxeogz++qIM/Z6mDPw+qgz+3qoM/X6uDPwesgz+vrIM/V62DPwCugz+nroM/T6+DP/ivgz+gsIM/SLGDP/Cxgz+YsoM/QLODP+izgz+QtIM/OLWDP+G1gz+JtoM/MbeDP9m3gz+BuIM/KbmDP9G5gz96uoM/IbuDP8m7gz9yvIM/Gr2DP8K9gz9qvoM/Er+DP7q/gz9jwIM/CsGDP7PBgz9bwoM/A8ODP6vDgz9TxIM/+8SDP6PFgz9MxoM/88aDP5vHgz9EyIM/7MiDP5TJgz88yoM/5MqDP4zLgz81zIM/3MyDP4TNgz8tzoM/1c6DP33Pgz8l0IM/zdCDP3XRgz8d0oM/xtKDP23Tgz8V1IM/vtSDP2bVgz8O1oM/ttaDP17Xgz8G2IM/rtiDP1bZgz//2YM/p9qDP0/bgz/324M/n9yDP0fdgz/v3YM/l96DPz/fgz/o34M/j+CDPzjhgz/g4YM/iOKDPzDjgz/Y44M/gOSDPynlgz/Q5YM/eeaDPyHngz/J54M/ceiDPxnpgz/B6YM/aeqDPxHrgz+564M/YuyDPwrtgz+y7YM/Wu6DPwLvgz+q74M/UvCDP/rwgz+i8YM/S/KDP/Pygz+b84M/Q/SDP+v0gz+T9YM/O/aDP+P2gz+L94M/NPiDP9z4gz+E+YM/LPqDP9T6gz98+4M/JPyDP8z8gz91/YM/HP6DP8X+gz9t/4M/FQCEP70AhD9lAYQ/DQKEP7UChD9dA4Q/BQSEP64EhD9WBYQ//gWEP6YGhD9OB4Q/9geEP54IhD9GCYQ/7gmEP5cKhD8/C4Q/5wuEP48MhD83DYQ/3w2EP4cOhD8vD4Q/1w+EP4AQhD8oEYQ/0BGEP3gShD8gE4Q/yBOEP3AUhD8YFYQ/wRWEP2kWhD8QF4Q/uReEP2EYhD8JGYQ/sRmEP1kahD8BG4Q/qRuEP1EchD/6HIQ/oh2EP0oehD/yHoQ/mh+EP0IghD/qIIQ/kiGEPzoihD/jIoQ/iyOEPzMkhD/bJIQ/gyWEPysmhD/TJoQ/eyeEPyMohD/MKIQ/dCmEPxwqhD/EKoQ/bCuEPxQshD+8LIQ/ZC2EPwwuhD+1LoQ/XS+EPwUwhD+tMIQ/VTGEP/0xhD+lMoQ/TTOEP/UzhD+dNIQ/RjWEP+41hD+WNoQ/PjeEP+Y3hD+OOIQ/NjmEP945hD+GOoQ/LzuEP9c7hD9/PIQ/Jz2EP889hD93PoQ/Hz+EP8c/hD9wQIQ/F0GEP8BBhD9oQoQ/EEOEP7hDhD9gRIQ/CEWEP7BFhD9YRoQ/AUeEP6lHhD9RSIQ/+UiEP6FJhD9JSoQ/8UqEP5lLhD9BTIQ/6UyEP5JNhD86ToQ/4k6EP4pPhD8yUIQ/2lCEP4JRhD8qUoQ/0lKEP3tThD8jVIQ/y1SEP3NVhD8bVoQ/w1aEP2tXhD8TWIQ/u1iEP2RZhD8MWoQ/tFqEP1xbhD8EXIQ/rFyEP1RdhD/8XYQ/pF6EP01fhD/1X4Q/nWCEP0VhhD/tYYQ/lWKEPz1jhD/lY4Q/jWSEPzZlhD/eZYQ/hmaEPy5nhD/WZ4Q/fmiEPyZphD/OaYQ/dmqEPx5rhD/Ha4Q/b2yEPxdthD+/bYQ/Z26EPw9vhD+3b4Q/X3CEPwdxhD+wcYQ/WHKEPwBzhD+oc4Q/UHSEP/h0hD+gdYQ/SHaEP/B2hD+Zd4Q/QXiEP+l4hD+ReYQ/OXqEP+F6hD8=",
          "dtype": "f4"
         },
         "y": {
          "bdata": "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",
          "dtype": "f4"
         }
        },
        {
         "mode": "lines",
         "name": "Optimized",
         "type": "scatter",
         "x": {
          "bdata": "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",
          "dtype": "f4"
         },
         "y": {
          "bdata": "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",
          "dtype": "f4"
         }
        }
       ],
       "layout": {
        "annotations": [
         {
          "showarrow": false,
          "text": "Design λ 1.031μm",
          "x": 1.031,
          "xanchor": "left",
          "xref": "x",
          "y": 0,
          "yanchor": "bottom",
          "yref": "y domain"
         }
        ],
        "shapes": [
         {
          "line": {
           "color": "red",
           "dash": "dot"
          },
          "type": "line",
          "x0": 1.031,
          "x1": 1.031,
          "xref": "x",
          "y0": 0,
          "y1": 1,
          "yref": "y domain"
         }
        ],
        "template": {
         "data": {
          "bar": [
           {
            "error_x": {
             "color": "#2a3f5f"
            },
            "error_y": {
             "color": "#2a3f5f"
            },
            "marker": {
             "line": {
              "color": "white",
              "width": 0.5
             },
             "pattern": {
              "fillmode": "overlay",
              "size": 10,
              "solidity": 0.2
             }
            },
            "type": "bar"
           }
          ],
          "barpolar": [
           {
            "marker": {
             "line": {
              "color": "white",
              "width": 0.5
             },
             "pattern": {
              "fillmode": "overlay",
              "size": 10,
              "solidity": 0.2
             }
            },
            "type": "barpolar"
           }
          ],
          "carpet": [
           {
            "aaxis": {
             "endlinecolor": "#2a3f5f",
             "gridcolor": "#C8D4E3",
             "linecolor": "#C8D4E3",
             "minorgridcolor": "#C8D4E3",
             "startlinecolor": "#2a3f5f"
            },
            "baxis": {
             "endlinecolor": "#2a3f5f",
             "gridcolor": "#C8D4E3",
             "linecolor": "#C8D4E3",
             "minorgridcolor": "#C8D4E3",
             "startlinecolor": "#2a3f5f"
            },
            "type": "carpet"
           }
          ],
          "choropleth": [
           {
            "colorbar": {
             "outlinewidth": 0,
             "ticks": ""
            },
            "type": "choropleth"
           }
          ],
          "contour": [
           {
            "colorbar": {
             "outlinewidth": 0,
             "ticks": ""
            },
            "colorscale": [
             [
              0,
              "#0d0887"
             ],
             [
              0.1111111111111111,
              "#46039f"
             ],
             [
              0.2222222222222222,
              "#7201a8"
             ],
             [
              0.3333333333333333,
              "#9c179e"
             ],
             [
              0.4444444444444444,
              "#bd3786"
             ],
             [
              0.5555555555555556,
              "#d8576b"
             ],
             [
              0.6666666666666666,
              "#ed7953"
             ],
             [
              0.7777777777777778,
              "#fb9f3a"
             ],
             [
              0.8888888888888888,
              "#fdca26"
             ],
             [
              1,
              "#f0f921"
             ]
            ],
            "type": "contour"
           }
          ],
          "contourcarpet": [
           {
            "colorbar": {
             "outlinewidth": 0,
             "ticks": ""
            },
            "type": "contourcarpet"
           }
          ],
          "heatmap": [
           {
            "colorbar": {
             "outlinewidth": 0,
             "ticks": ""
            },
            "colorscale": [
             [
              0,
              "#0d0887"
             ],
             [
              0.1111111111111111,
              "#46039f"
             ],
             [
              0.2222222222222222,
              "#7201a8"
             ],
             [
              0.3333333333333333,
              "#9c179e"
             ],
             [
              0.4444444444444444,
              "#bd3786"
             ],
             [
              0.5555555555555556,
              "#d8576b"
             ],
             [
              0.6666666666666666,
              "#ed7953"
             ],
             [
              0.7777777777777778,
              "#fb9f3a"
             ],
             [
              0.8888888888888888,
              "#fdca26"
             ],
             [
              1,
              "#f0f921"
             ]
            ],
            "type": "heatmap"
           }
          ],
          "histogram": [
           {
            "marker": {
             "pattern": {
              "fillmode": "overlay",
              "size": 10,
              "solidity": 0.2
             }
            },
            "type": "histogram"
           }
          ],
          "histogram2d": [
           {
            "colorbar": {
             "outlinewidth": 0,
             "ticks": ""
            },
            "colorscale": [
             [
              0,
              "#0d0887"
             ],
             [
              0.1111111111111111,
              "#46039f"
             ],
             [
              0.2222222222222222,
              "#7201a8"
             ],
             [
              0.3333333333333333,
              "#9c179e"
             ],
             [
              0.4444444444444444,
              "#bd3786"
             ],
             [
              0.5555555555555556,
              "#d8576b"
             ],
             [
              0.6666666666666666,
              "#ed7953"
             ],
             [
              0.7777777777777778,
              "#fb9f3a"
             ],
             [
              0.8888888888888888,
              "#fdca26"
             ],
             [
              1,
              "#f0f921"
             ]
            ],
            "type": "histogram2d"
           }
          ],
          "histogram2dcontour": [
           {
            "colorbar": {
             "outlinewidth": 0,
             "ticks": ""
            },
            "colorscale": [
             [
              0,
              "#0d0887"
             ],
             [
              0.1111111111111111,
              "#46039f"
             ],
             [
              0.2222222222222222,
              "#7201a8"
             ],
             [
              0.3333333333333333,
              "#9c179e"
             ],
             [
              0.4444444444444444,
              "#bd3786"
             ],
             [
              0.5555555555555556,
              "#d8576b"
             ],
             [
              0.6666666666666666,
              "#ed7953"
             ],
             [
              0.7777777777777778,
              "#fb9f3a"
             ],
             [
              0.8888888888888888,
              "#fdca26"
             ],
             [
              1,
              "#f0f921"
             ]
            ],
            "type": "histogram2dcontour"
           }
          ],
          "mesh3d": [
           {
            "colorbar": {
             "outlinewidth": 0,
             "ticks": ""
            },
            "type": "mesh3d"
           }
          ],
          "parcoords": [
           {
            "line": {
             "colorbar": {
              "outlinewidth": 0,
              "ticks": ""
             }
            },
            "type": "parcoords"
           }
          ],
          "pie": [
           {
            "automargin": true,
            "type": "pie"
           }
          ],
          "scatter": [
           {
            "fillpattern": {
             "fillmode": "overlay",
             "size": 10,
             "solidity": 0.2
            },
            "type": "scatter"
           }
          ],
          "scatter3d": [
           {
            "line": {
             "colorbar": {
              "outlinewidth": 0,
              "ticks": ""
             }
            },
            "marker": {
             "colorbar": {
              "outlinewidth": 0,
              "ticks": ""
             }
            },
            "type": "scatter3d"
           }
          ],
          "scattercarpet": [
           {
            "marker": {
             "colorbar": {
              "outlinewidth": 0,
              "ticks": ""
             }
            },
            "type": "scattercarpet"
           }
          ],
          "scattergeo": [
           {
            "marker": {
             "colorbar": {
              "outlinewidth": 0,
              "ticks": ""
             }
            },
            "type": "scattergeo"
           }
          ],
          "scattergl": [
           {
            "marker": {
             "colorbar": {
              "outlinewidth": 0,
              "ticks": ""
             }
            },
            "type": "scattergl"
           }
          ],
          "scattermap": [
           {
            "marker": {
             "colorbar": {
              "outlinewidth": 0,
              "ticks": ""
             }
            },
            "type": "scattermap"
           }
          ],
          "scattermapbox": [
           {
            "marker": {
             "colorbar": {
              "outlinewidth": 0,
              "ticks": ""
             }
            },
            "type": "scattermapbox"
           }
          ],
          "scatterpolar": [
           {
            "marker": {
             "colorbar": {
              "outlinewidth": 0,
              "ticks": ""
             }
            },
            "type": "scatterpolar"
           }
          ],
          "scatterpolargl": [
           {
            "marker": {
             "colorbar": {
              "outlinewidth": 0,
              "ticks": ""
             }
            },
            "type": "scatterpolargl"
           }
          ],
          "scatterternary": [
           {
            "marker": {
             "colorbar": {
              "outlinewidth": 0,
              "ticks": ""
             }
            },
            "type": "scatterternary"
           }
          ],
          "surface": [
           {
            "colorbar": {
             "outlinewidth": 0,
             "ticks": ""
            },
            "colorscale": [
             [
              0,
              "#0d0887"
             ],
             [
              0.1111111111111111,
              "#46039f"
             ],
             [
              0.2222222222222222,
              "#7201a8"
             ],
             [
              0.3333333333333333,
              "#9c179e"
             ],
             [
              0.4444444444444444,
              "#bd3786"
             ],
             [
              0.5555555555555556,
              "#d8576b"
             ],
             [
              0.6666666666666666,
              "#ed7953"
             ],
             [
              0.7777777777777778,
              "#fb9f3a"
             ],
             [
              0.8888888888888888,
              "#fdca26"
             ],
             [
              1,
              "#f0f921"
             ]
            ],
            "type": "surface"
           }
          ],
          "table": [
           {
            "cells": {
             "fill": {
              "color": "#EBF0F8"
             },
             "line": {
              "color": "white"
             }
            },
            "header": {
             "fill": {
              "color": "#C8D4E3"
             },
             "line": {
              "color": "white"
             }
            },
            "type": "table"
           }
          ]
         },
         "layout": {
          "annotationdefaults": {
           "arrowcolor": "#2a3f5f",
           "arrowhead": 0,
           "arrowwidth": 1
          },
          "autotypenumbers": "strict",
          "coloraxis": {
           "colorbar": {
            "outlinewidth": 0,
            "ticks": ""
           }
          },
          "colorscale": {
           "diverging": [
            [
             0,
             "#8e0152"
            ],
            [
             0.1,
             "#c51b7d"
            ],
            [
             0.2,
             "#de77ae"
            ],
            [
             0.3,
             "#f1b6da"
            ],
            [
             0.4,
             "#fde0ef"
            ],
            [
             0.5,
             "#f7f7f7"
            ],
            [
             0.6,
             "#e6f5d0"
            ],
            [
             0.7,
             "#b8e186"
            ],
            [
             0.8,
             "#7fbc41"
            ],
            [
             0.9,
             "#4d9221"
            ],
            [
             1,
             "#276419"
            ]
           ],
           "sequential": [
            [
             0,
             "#0d0887"
            ],
            [
             0.1111111111111111,
             "#46039f"
            ],
            [
             0.2222222222222222,
             "#7201a8"
            ],
            [
             0.3333333333333333,
             "#9c179e"
            ],
            [
             0.4444444444444444,
             "#bd3786"
            ],
            [
             0.5555555555555556,
             "#d8576b"
            ],
            [
             0.6666666666666666,
             "#ed7953"
            ],
            [
             0.7777777777777778,
             "#fb9f3a"
            ],
            [
             0.8888888888888888,
             "#fdca26"
            ],
            [
             1,
             "#f0f921"
            ]
           ],
           "sequentialminus": [
            [
             0,
             "#0d0887"
            ],
            [
             0.1111111111111111,
             "#46039f"
            ],
            [
             0.2222222222222222,
             "#7201a8"
            ],
            [
             0.3333333333333333,
             "#9c179e"
            ],
            [
             0.4444444444444444,
             "#bd3786"
            ],
            [
             0.5555555555555556,
             "#d8576b"
            ],
            [
             0.6666666666666666,
             "#ed7953"
            ],
            [
             0.7777777777777778,
             "#fb9f3a"
            ],
            [
             0.8888888888888888,
             "#fdca26"
            ],
            [
             1,
             "#f0f921"
            ]
           ]
          },
          "colorway": [
           "#636efa",
           "#EF553B",
           "#00cc96",
           "#ab63fa",
           "#FFA15A",
           "#19d3f3",
           "#FF6692",
           "#B6E880",
           "#FF97FF",
           "#FECB52"
          ],
          "font": {
           "color": "#2a3f5f"
          },
          "geo": {
           "bgcolor": "white",
           "lakecolor": "white",
           "landcolor": "white",
           "showlakes": true,
           "showland": true,
           "subunitcolor": "#C8D4E3"
          },
          "hoverlabel": {
           "align": "left"
          },
          "hovermode": "closest",
          "mapbox": {
           "style": "light"
          },
          "paper_bgcolor": "white",
          "plot_bgcolor": "white",
          "polar": {
           "angularaxis": {
            "gridcolor": "#EBF0F8",
            "linecolor": "#EBF0F8",
            "ticks": ""
           },
           "bgcolor": "white",
           "radialaxis": {
            "gridcolor": "#EBF0F8",
            "linecolor": "#EBF0F8",
            "ticks": ""
           }
          },
          "scene": {
           "xaxis": {
            "backgroundcolor": "white",
            "gridcolor": "#DFE8F3",
            "gridwidth": 2,
            "linecolor": "#EBF0F8",
            "showbackground": true,
            "ticks": "",
            "zerolinecolor": "#EBF0F8"
           },
           "yaxis": {
            "backgroundcolor": "white",
            "gridcolor": "#DFE8F3",
            "gridwidth": 2,
            "linecolor": "#EBF0F8",
            "showbackground": true,
            "ticks": "",
            "zerolinecolor": "#EBF0F8"
           },
           "zaxis": {
            "backgroundcolor": "white",
            "gridcolor": "#DFE8F3",
            "gridwidth": 2,
            "linecolor": "#EBF0F8",
            "showbackground": true,
            "ticks": "",
            "zerolinecolor": "#EBF0F8"
           }
          },
          "shapedefaults": {
           "line": {
            "color": "#2a3f5f"
           }
          },
          "ternary": {
           "aaxis": {
            "gridcolor": "#DFE8F3",
            "linecolor": "#A2B1C6",
            "ticks": ""
           },
           "baxis": {
            "gridcolor": "#DFE8F3",
            "linecolor": "#A2B1C6",
            "ticks": ""
           },
           "bgcolor": "white",
           "caxis": {
            "gridcolor": "#DFE8F3",
            "linecolor": "#A2B1C6",
            "ticks": ""
           }
          },
          "title": {
           "x": 0.05
          },
          "xaxis": {
           "automargin": true,
           "gridcolor": "#EBF0F8",
           "linecolor": "#EBF0F8",
           "ticks": "",
           "title": {
            "standoff": 15
           },
           "zerolinecolor": "#EBF0F8",
           "zerolinewidth": 2
          },
          "yaxis": {
           "automargin": true,
           "gridcolor": "#EBF0F8",
           "linecolor": "#EBF0F8",
           "ticks": "",
           "title": {
            "standoff": 15
           },
           "zerolinecolor": "#EBF0F8",
           "zerolinewidth": 2
          }
         }
        },
        "title": {
         "text": "THW Power Spectrum Comparison"
        },
        "xaxis": {
         "title": {
          "text": "Fundamental Wavelength (μm)"
         }
        },
        "yaxis": {
         "title": {
          "text": "THW Power"
         }
        }
       }
      }
     },
     "metadata": {},
     "output_type": "display_data"
    },
    {
     "data": {
      "application/vnd.plotly.v1+json": {
       "config": {
        "plotlyServerURL": "https://plot.ly"
       },
       "data": [
        {
         "mode": "lines",
         "name": "Loss",
         "type": "scatter",
         "y": {
          "bdata": "H5tlvx+bZb8fm2W/H5tlvx+bZb8fm2W/H5tlvx+bZb8fm2W/H5tlvx+bZb8fm2W/H5tlvx+bZb8fm2W/H5tlvx+bZb8fm2W/H5tlvx+bZb8fm2W/H5tlvx+bZb8fm2W/H5tlvx+bZb8fm2W/H5tlvx+bZb8fm2W/H5tlvx+bZb8fm2W/H5tlvx+bZb8fm2W/H5tlvx+bZb8fm2W/H5tlvx+bZb8fm2W/H5tlvx+bZb8fm2W/H5tlvx+bZb8fm2W/H5tlvx+bZb8fm2W/H5tlvx+bZb8fm2W/H5tlvx+bZb8fm2W/H5tlvx+bZb8fm2W/H5tlvx+bZb8fm2W/H5tlvx+bZb8fm2W/H5tlvx+bZb8fm2W/H5tlvx+bZb8fm2W/H5tlvx+bZb8fm2W/H5tlvx+bZb8fm2W/H5tlvx+bZb8fm2W/H5tlvx+bZb8fm2W/H5tlvx+bZb8fm2W/H5tlvx+bZb8fm2W/H5tlvx+bZb8fm2W/H5tlvx+bZb8fm2W/H5tlvx+bZb8fm2W/H5tlvw==",
          "dtype": "f4"
         }
        }
       ],
       "layout": {
        "template": {
         "data": {
          "bar": [
           {
            "error_x": {
             "color": "#2a3f5f"
            },
            "error_y": {
             "color": "#2a3f5f"
            },
            "marker": {
             "line": {
              "color": "white",
              "width": 0.5
             },
             "pattern": {
              "fillmode": "overlay",
              "size": 10,
              "solidity": 0.2
             }
            },
            "type": "bar"
           }
          ],
          "barpolar": [
           {
            "marker": {
             "line": {
              "color": "white",
              "width": 0.5
             },
             "pattern": {
              "fillmode": "overlay",
              "size": 10,
              "solidity": 0.2
             }
            },
            "type": "barpolar"
           }
          ],
          "carpet": [
           {
            "aaxis": {
             "endlinecolor": "#2a3f5f",
             "gridcolor": "#C8D4E3",
             "linecolor": "#C8D4E3",
             "minorgridcolor": "#C8D4E3",
             "startlinecolor": "#2a3f5f"
            },
            "baxis": {
             "endlinecolor": "#2a3f5f",
             "gridcolor": "#C8D4E3",
             "linecolor": "#C8D4E3",
             "minorgridcolor": "#C8D4E3",
             "startlinecolor": "#2a3f5f"
            },
            "type": "carpet"
           }
          ],
          "choropleth": [
           {
            "colorbar": {
             "outlinewidth": 0,
             "ticks": ""
            },
            "type": "choropleth"
           }
          ],
          "contour": [
           {
            "colorbar": {
             "outlinewidth": 0,
             "ticks": ""
            },
            "colorscale": [
             [
              0,
              "#0d0887"
             ],
             [
              0.1111111111111111,
              "#46039f"
             ],
             [
              0.2222222222222222,
              "#7201a8"
             ],
             [
              0.3333333333333333,
              "#9c179e"
             ],
             [
              0.4444444444444444,
              "#bd3786"
             ],
             [
              0.5555555555555556,
              "#d8576b"
             ],
             [
              0.6666666666666666,
              "#ed7953"
             ],
             [
              0.7777777777777778,
              "#fb9f3a"
             ],
             [
              0.8888888888888888,
              "#fdca26"
             ],
             [
              1,
              "#f0f921"
             ]
            ],
            "type": "contour"
           }
          ],
          "contourcarpet": [
           {
            "colorbar": {
             "outlinewidth": 0,
             "ticks": ""
            },
            "type": "contourcarpet"
           }
          ],
          "heatmap": [
           {
            "colorbar": {
             "outlinewidth": 0,
             "ticks": ""
            },
            "colorscale": [
             [
              0,
              "#0d0887"
             ],
             [
              0.1111111111111111,
              "#46039f"
             ],
             [
              0.2222222222222222,
              "#7201a8"
             ],
             [
              0.3333333333333333,
              "#9c179e"
             ],
             [
              0.4444444444444444,
              "#bd3786"
             ],
             [
              0.5555555555555556,
              "#d8576b"
             ],
             [
              0.6666666666666666,
              "#ed7953"
             ],
             [
              0.7777777777777778,
              "#fb9f3a"
             ],
             [
              0.8888888888888888,
              "#fdca26"
             ],
             [
              1,
              "#f0f921"
             ]
            ],
            "type": "heatmap"
           }
          ],
          "histogram": [
           {
            "marker": {
             "pattern": {
              "fillmode": "overlay",
              "size": 10,
              "solidity": 0.2
             }
            },
            "type": "histogram"
           }
          ],
          "histogram2d": [
           {
            "colorbar": {
             "outlinewidth": 0,
             "ticks": ""
            },
            "colorscale": [
             [
              0,
              "#0d0887"
             ],
             [
              0.1111111111111111,
              "#46039f"
             ],
             [
              0.2222222222222222,
              "#7201a8"
             ],
             [
              0.3333333333333333,
              "#9c179e"
             ],
             [
              0.4444444444444444,
              "#bd3786"
             ],
             [
              0.5555555555555556,
              "#d8576b"
             ],
             [
              0.6666666666666666,
              "#ed7953"
             ],
             [
              0.7777777777777778,
              "#fb9f3a"
             ],
             [
              0.8888888888888888,
              "#fdca26"
             ],
             [
              1,
              "#f0f921"
             ]
            ],
            "type": "histogram2d"
           }
          ],
          "histogram2dcontour": [
           {
            "colorbar": {
             "outlinewidth": 0,
             "ticks": ""
            },
            "colorscale": [
             [
              0,
              "#0d0887"
             ],
             [
              0.1111111111111111,
              "#46039f"
             ],
             [
              0.2222222222222222,
              "#7201a8"
             ],
             [
              0.3333333333333333,
              "#9c179e"
             ],
             [
              0.4444444444444444,
              "#bd3786"
             ],
             [
              0.5555555555555556,
              "#d8576b"
             ],
             [
              0.6666666666666666,
              "#ed7953"
             ],
             [
              0.7777777777777778,
              "#fb9f3a"
             ],
             [
              0.8888888888888888,
              "#fdca26"
             ],
             [
              1,
              "#f0f921"
             ]
            ],
            "type": "histogram2dcontour"
           }
          ],
          "mesh3d": [
           {
            "colorbar": {
             "outlinewidth": 0,
             "ticks": ""
            },
            "type": "mesh3d"
           }
          ],
          "parcoords": [
           {
            "line": {
             "colorbar": {
              "outlinewidth": 0,
              "ticks": ""
             }
            },
            "type": "parcoords"
           }
          ],
          "pie": [
           {
            "automargin": true,
            "type": "pie"
           }
          ],
          "scatter": [
           {
            "fillpattern": {
             "fillmode": "overlay",
             "size": 10,
             "solidity": 0.2
            },
            "type": "scatter"
           }
          ],
          "scatter3d": [
           {
            "line": {
             "colorbar": {
              "outlinewidth": 0,
              "ticks": ""
             }
            },
            "marker": {
             "colorbar": {
              "outlinewidth": 0,
              "ticks": ""
             }
            },
            "type": "scatter3d"
           }
          ],
          "scattercarpet": [
           {
            "marker": {
             "colorbar": {
              "outlinewidth": 0,
              "ticks": ""
             }
            },
            "type": "scattercarpet"
           }
          ],
          "scattergeo": [
           {
            "marker": {
             "colorbar": {
              "outlinewidth": 0,
              "ticks": ""
             }
            },
            "type": "scattergeo"
           }
          ],
          "scattergl": [
           {
            "marker": {
             "colorbar": {
              "outlinewidth": 0,
              "ticks": ""
             }
            },
            "type": "scattergl"
           }
          ],
          "scattermap": [
           {
            "marker": {
             "colorbar": {
              "outlinewidth": 0,
              "ticks": ""
             }
            },
            "type": "scattermap"
           }
          ],
          "scattermapbox": [
           {
            "marker": {
             "colorbar": {
              "outlinewidth": 0,
              "ticks": ""
             }
            },
            "type": "scattermapbox"
           }
          ],
          "scatterpolar": [
           {
            "marker": {
             "colorbar": {
              "outlinewidth": 0,
              "ticks": ""
             }
            },
            "type": "scatterpolar"
           }
          ],
          "scatterpolargl": [
           {
            "marker": {
             "colorbar": {
              "outlinewidth": 0,
              "ticks": ""
             }
            },
            "type": "scatterpolargl"
           }
          ],
          "scatterternary": [
           {
            "marker": {
             "colorbar": {
              "outlinewidth": 0,
              "ticks": ""
             }
            },
            "type": "scatterternary"
           }
          ],
          "surface": [
           {
            "colorbar": {
             "outlinewidth": 0,
             "ticks": ""
            },
            "colorscale": [
             [
              0,
              "#0d0887"
             ],
             [
              0.1111111111111111,
              "#46039f"
             ],
             [
              0.2222222222222222,
              "#7201a8"
             ],
             [
              0.3333333333333333,
              "#9c179e"
             ],
             [
              0.4444444444444444,
              "#bd3786"
             ],
             [
              0.5555555555555556,
              "#d8576b"
             ],
             [
              0.6666666666666666,
              "#ed7953"
             ],
             [
              0.7777777777777778,
              "#fb9f3a"
             ],
             [
              0.8888888888888888,
              "#fdca26"
             ],
             [
              1,
              "#f0f921"
             ]
            ],
            "type": "surface"
           }
          ],
          "table": [
           {
            "cells": {
             "fill": {
              "color": "#EBF0F8"
             },
             "line": {
              "color": "white"
             }
            },
            "header": {
             "fill": {
              "color": "#C8D4E3"
             },
             "line": {
              "color": "white"
             }
            },
            "type": "table"
           }
          ]
         },
         "layout": {
          "annotationdefaults": {
           "arrowcolor": "#2a3f5f",
           "arrowhead": 0,
           "arrowwidth": 1
          },
          "autotypenumbers": "strict",
          "coloraxis": {
           "colorbar": {
            "outlinewidth": 0,
            "ticks": ""
           }
          },
          "colorscale": {
           "diverging": [
            [
             0,
             "#8e0152"
            ],
            [
             0.1,
             "#c51b7d"
            ],
            [
             0.2,
             "#de77ae"
            ],
            [
             0.3,
             "#f1b6da"
            ],
            [
             0.4,
             "#fde0ef"
            ],
            [
             0.5,
             "#f7f7f7"
            ],
            [
             0.6,
             "#e6f5d0"
            ],
            [
             0.7,
             "#b8e186"
            ],
            [
             0.8,
             "#7fbc41"
            ],
            [
             0.9,
             "#4d9221"
            ],
            [
             1,
             "#276419"
            ]
           ],
           "sequential": [
            [
             0,
             "#0d0887"
            ],
            [
             0.1111111111111111,
             "#46039f"
            ],
            [
             0.2222222222222222,
             "#7201a8"
            ],
            [
             0.3333333333333333,
             "#9c179e"
            ],
            [
             0.4444444444444444,
             "#bd3786"
            ],
            [
             0.5555555555555556,
             "#d8576b"
            ],
            [
             0.6666666666666666,
             "#ed7953"
            ],
            [
             0.7777777777777778,
             "#fb9f3a"
            ],
            [
             0.8888888888888888,
             "#fdca26"
            ],
            [
             1,
             "#f0f921"
            ]
           ],
           "sequentialminus": [
            [
             0,
             "#0d0887"
            ],
            [
             0.1111111111111111,
             "#46039f"
            ],
            [
             0.2222222222222222,
             "#7201a8"
            ],
            [
             0.3333333333333333,
             "#9c179e"
            ],
            [
             0.4444444444444444,
             "#bd3786"
            ],
            [
             0.5555555555555556,
             "#d8576b"
            ],
            [
             0.6666666666666666,
             "#ed7953"
            ],
            [
             0.7777777777777778,
             "#fb9f3a"
            ],
            [
             0.8888888888888888,
             "#fdca26"
            ],
            [
             1,
             "#f0f921"
            ]
           ]
          },
          "colorway": [
           "#636efa",
           "#EF553B",
           "#00cc96",
           "#ab63fa",
           "#FFA15A",
           "#19d3f3",
           "#FF6692",
           "#B6E880",
           "#FF97FF",
           "#FECB52"
          ],
          "font": {
           "color": "#2a3f5f"
          },
          "geo": {
           "bgcolor": "white",
           "lakecolor": "white",
           "landcolor": "white",
           "showlakes": true,
           "showland": true,
           "subunitcolor": "#C8D4E3"
          },
          "hoverlabel": {
           "align": "left"
          },
          "hovermode": "closest",
          "mapbox": {
           "style": "light"
          },
          "paper_bgcolor": "white",
          "plot_bgcolor": "white",
          "polar": {
           "angularaxis": {
            "gridcolor": "#EBF0F8",
            "linecolor": "#EBF0F8",
            "ticks": ""
           },
           "bgcolor": "white",
           "radialaxis": {
            "gridcolor": "#EBF0F8",
            "linecolor": "#EBF0F8",
            "ticks": ""
           }
          },
          "scene": {
           "xaxis": {
            "backgroundcolor": "white",
            "gridcolor": "#DFE8F3",
            "gridwidth": 2,
            "linecolor": "#EBF0F8",
            "showbackground": true,
            "ticks": "",
            "zerolinecolor": "#EBF0F8"
           },
           "yaxis": {
            "backgroundcolor": "white",
            "gridcolor": "#DFE8F3",
            "gridwidth": 2,
            "linecolor": "#EBF0F8",
            "showbackground": true,
            "ticks": "",
            "zerolinecolor": "#EBF0F8"
           },
           "zaxis": {
            "backgroundcolor": "white",
            "gridcolor": "#DFE8F3",
            "gridwidth": 2,
            "linecolor": "#EBF0F8",
            "showbackground": true,
            "ticks": "",
            "zerolinecolor": "#EBF0F8"
           }
          },
          "shapedefaults": {
           "line": {
            "color": "#2a3f5f"
           }
          },
          "ternary": {
           "aaxis": {
            "gridcolor": "#DFE8F3",
            "linecolor": "#A2B1C6",
            "ticks": ""
           },
           "baxis": {
            "gridcolor": "#DFE8F3",
            "linecolor": "#A2B1C6",
            "ticks": ""
           },
           "bgcolor": "white",
           "caxis": {
            "gridcolor": "#DFE8F3",
            "linecolor": "#A2B1C6",
            "ticks": ""
           }
          },
          "title": {
           "x": 0.05
          },
          "xaxis": {
           "automargin": true,
           "gridcolor": "#EBF0F8",
           "linecolor": "#EBF0F8",
           "ticks": "",
           "title": {
            "standoff": 15
           },
           "zerolinecolor": "#EBF0F8",
           "zerolinewidth": 2
          },
          "yaxis": {
           "automargin": true,
           "gridcolor": "#EBF0F8",
           "linecolor": "#EBF0F8",
           "ticks": "",
           "title": {
            "standoff": 15
           },
           "zerolinecolor": "#EBF0F8",
           "zerolinewidth": 2
          }
         }
        },
        "title": {
         "text": "Optimization Cost History"
        },
        "xaxis": {
         "title": {
          "text": "Iteration"
         }
        },
        "yaxis": {
         "title": {
          "text": "Loss"
         }
        }
       }
      }
     },
     "metadata": {},
     "output_type": "display_data"
    }
   ],
   "source": [
    "# 4. Visualize the results\n",
    "print(\"4. Visualizing optimization results...\")\n",
    "plot_domain_widths(initial_widths, optimized_widths, periodic_widths)\n",
    "plot_thw_power_spectrum(initial_widths, optimized_widths, periodic_widths, sim_params, config)\n",
    "plot_cost_history(loss_history)\n",
    "\n",
    "# jnp.save(\"optimized_widths_1000.npy\", optimized_widths)"
   ]
  }
 ],
 "metadata": {
  "kernelspec": {
   "display_name": ".venv",
   "language": "python",
   "name": "python3"
  },
  "language_info": {
   "codemirror_mode": {
    "name": "ipython",
    "version": 3
   },
   "file_extension": ".py",
   "mimetype": "text/x-python",
   "name": "python",
   "nbconvert_exporter": "python",
   "pygments_lexer": "ipython3",
   "version": "3.13.8"
  }
 },
 "nbformat": 4,
 "nbformat_minor": 5
}
