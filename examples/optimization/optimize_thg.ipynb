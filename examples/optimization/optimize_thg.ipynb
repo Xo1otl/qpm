{
 "cells": [
  {
   "cell_type": "code",
   "execution_count": null,
   "id": "178c7358",
   "metadata": {},
   "outputs": [],
   "source": [
    "import jax\n",
    "\n",
    "jax.config.update(\"jax_platforms\", \"cpu\")"
   ]
  },
  {
   "cell_type": "code",
   "execution_count": 2,
   "id": "5a485cfc",
   "metadata": {},
   "outputs": [
    {
     "name": "stdout",
     "output_type": "stream",
     "text": [
      "[CudaDevice(id=0)]\n"
     ]
    }
   ],
   "source": [
    "from collections.abc import Callable\n",
    "from dataclasses import dataclass\n",
    "\n",
    "import jax.numpy as jnp\n",
    "import optax\n",
    "import plotly.graph_objects as go\n",
    "from jax import Array, jit\n",
    "from jax_tqdm.loop_pbar import loop_tqdm\n",
    "\n",
    "from qpm import cwes, mgoslt\n",
    "\n",
    "print(jax.devices())\n",
    "\n",
    "\n",
    "# --- Regularization Strategies ---\n",
    "def tv_regularization(domain_widths: Array, lambda_val: float) -> Array:\n",
    "    \"\"\"Total Variation (TV) regularization penalizes the absolute difference between adjacent parameter values.\"\"\"\n",
    "    return lambda_val * jnp.sum(jnp.abs(jnp.diff(domain_widths)))\n",
    "\n",
    "\n",
    "REGULARIZATION_FNS: dict[str, Callable[[Array, float], Array]] = {\n",
    "    \"tv\": tv_regularization,\n",
    "}\n",
    "\n",
    "\n",
    "# --- Data Structures for Configuration and Parameters ---\n",
    "@dataclass\n",
    "class Config:\n",
    "    design_temp: float = 70.0\n",
    "    design_wl: float = 1.031\n",
    "    num_domains: int = 1000\n",
    "    max_iters: int = 500\n",
    "    prng_seed: int = 42\n",
    "    kappa_mag: float = 1.31e-4 / (2 / jnp.pi)  # e-5にすると序盤の効率が低すぎて勾配が消失する\n",
    "    kappa_target_length: float = 2000.0\n",
    "    wl_start: float = 1.025\n",
    "    wl_end: float = 1.035\n",
    "    num_wl_points: int = 500\n",
    "    # Regularization parameters\n",
    "    regularization: str | None = None\n",
    "    lambda_val: float = 1e-4\n",
    "\n",
    "\n",
    "@dataclass(frozen=True)\n",
    "class SimulationParameters:\n",
    "    delta_k1: Array\n",
    "    delta_k2: Array\n",
    "    kappa_array: Array\n",
    "    b_initial: Array\n",
    "\n",
    "\n",
    "# --- Core JAX Functions ---\n",
    "def make_loss_fn(\n",
    "    sim_params: SimulationParameters,\n",
    "    regularization_fn: Callable[[Array, float], Array] | None = None,\n",
    "    lambda_val: float = 0.0,\n",
    ") -> Callable[[Array], Array]:\n",
    "    \"\"\"Creates a loss function that returns the negative THW power with optional regularization.\"\"\"\n",
    "\n",
    "    @jit\n",
    "    def loss_fn(domain_widths: Array) -> Array:\n",
    "        b_final = cwes.simulate_twm(domain_widths, sim_params.kappa_array, sim_params.delta_k1, sim_params.delta_k2, sim_params.b_initial)\n",
    "        thw_power = jnp.abs(b_final[2]) ** 2\n",
    "\n",
    "        loss = -thw_power\n",
    "\n",
    "        if regularization_fn:\n",
    "            loss += regularization_fn(domain_widths, lambda_val)\n",
    "\n",
    "        return loss\n",
    "\n",
    "    return loss_fn\n",
    "\n",
    "\n",
    "# --- Workflow Functions ---\n",
    "def initialize_grating(config: Config) -> tuple[Array, Array, Array, Array, Array]:\n",
    "    \"\"\"Generates initial grating parameters based on the configuration.\"\"\"\n",
    "    print(\"1. Generating initial grating parameters...\")\n",
    "    delta_k1 = mgoslt.calc_twm_delta_k(config.design_wl, config.design_wl, config.design_temp)\n",
    "    delta_k2 = mgoslt.calc_twm_delta_k(config.design_wl, config.design_wl / 2, config.design_temp)\n",
    "\n",
    "    shg_domain_width = jnp.pi / delta_k1\n",
    "    num_domains = config.num_domains\n",
    "    print(f\"   - Base domain width from calculation: {shg_domain_width:.4f} μm\")\n",
    "    print(f\"   - Number of domains: {num_domains}\")\n",
    "\n",
    "    kappa_array = config.kappa_mag * jnp.power(-1.0, jnp.arange(num_domains))\n",
    "\n",
    "    periodic_widths = jnp.full(num_domains, shg_domain_width)\n",
    "    # key = jax.random.PRNGKey(config.prng_seed)\n",
    "    # noise = jax.random.normal(key, shape=(num_domains,)) * (shg_domain_width * 0.2)\n",
    "    # initial_widths = periodic_widths + noise\n",
    "\n",
    "    shg_domains = num_domains // 2\n",
    "    sfg_domains = num_domains - shg_domains\n",
    "    initial_widths = jnp.concatenate(\n",
    "        [\n",
    "            jnp.full(shg_domains, shg_domain_width),\n",
    "            jnp.full(sfg_domains, (jnp.pi / delta_k2)),\n",
    "        ],\n",
    "    )\n",
    "\n",
    "    return delta_k1, delta_k2, kappa_array, periodic_widths, initial_widths\n",
    "\n",
    "\n",
    "def run_optimization(\n",
    "    initial_widths: Array,\n",
    "    sim_params: SimulationParameters,\n",
    "    config: Config,\n",
    ") -> tuple[Array, Array]:\n",
    "    \"\"\"Sets up and runs the L-BFGS optimization.\"\"\"\n",
    "    print(\"2. Setting up loss function and L-BFGS optimizer...\")\n",
    "    regularization_fn = REGULARIZATION_FNS.get(config.regularization) if config.regularization else None\n",
    "    loss_fn = make_loss_fn(sim_params, regularization_fn, config.lambda_val)\n",
    "    solver = optax.lbfgs()\n",
    "\n",
    "    @jit\n",
    "    def run_full_optimization(initial_params: Array) -> tuple[Array, Array]:\n",
    "        initial_loss_history = jnp.zeros(config.max_iters)\n",
    "\n",
    "        @loop_tqdm(config.max_iters, desc=\"Optimizing\")\n",
    "        def step(i: int, state: tuple[Array, optax.OptState, Array]) -> tuple[optax.Params, optax.OptState, Array]:\n",
    "            params, opt_state, loss_history = state\n",
    "            value, grad = jax.value_and_grad(loss_fn)(params)\n",
    "            updates, opt_state = solver.update(grad, opt_state, params, value=value, grad=grad, value_fn=loss_fn)\n",
    "            params = optax.apply_updates(params, updates)\n",
    "            loss_history = loss_history.at[i].set(value)\n",
    "            return params, opt_state, loss_history\n",
    "\n",
    "        initial_opt_state = solver.init(initial_params)\n",
    "        optimized_params, _, loss_history = jax.lax.fori_loop(\n",
    "            0,\n",
    "            config.max_iters,\n",
    "            step,\n",
    "            (initial_params, initial_opt_state, initial_loss_history),\n",
    "        )\n",
    "        return optimized_params, loss_history\n",
    "\n",
    "    print(\"3. Running JIT-compiled optimization...\")\n",
    "    print(f\"   - Initial THW Power: {-loss_fn(initial_widths):.4f}\")\n",
    "\n",
    "    optimized_widths, loss_history = run_full_optimization(initial_widths)\n",
    "    optimized_widths.block_until_ready()\n",
    "\n",
    "    print(f\"   - Optimized THW Power: {-loss_fn(optimized_widths):.4f}\")\n",
    "    return optimized_widths, loss_history\n",
    "\n",
    "\n",
    "# --- Visualization Functions ---\n",
    "def _calculate_spectrum(domain_widths: Array, sim_params: SimulationParameters, config: Config) -> tuple[Array, Array]:\n",
    "    \"\"\"Helper function to compute the THW Power spectrum for a given grating.\"\"\"\n",
    "    wls = jnp.linspace(config.wl_start, config.wl_end, config.num_wl_points)\n",
    "    delta_k1s = mgoslt.calc_twm_delta_k(wls, wls, config.design_temp)\n",
    "    delta_k2s = mgoslt.calc_twm_delta_k(wls, wls / 2, config.design_temp)\n",
    "\n",
    "    compute_spectrum_vmap = jit(jax.vmap(cwes.simulate_twm, in_axes=(None, None, 0, 0, None)))\n",
    "\n",
    "    final_vectors = compute_spectrum_vmap(domain_widths, sim_params.kappa_array, delta_k1s, delta_k2s, sim_params.b_initial)\n",
    "    thw_powers = jnp.abs(final_vectors[:, 2]) ** 2 * 1.07 / 2.84 * 100\n",
    "    return wls, thw_powers\n",
    "\n",
    "\n",
    "def plot_domain_widths(initial_widths: Array, optimized_widths: Array, periodic_widths: Array) -> None:\n",
    "    \"\"\"Plots the domain widths before and after optimization.\"\"\"\n",
    "    fig = go.Figure()\n",
    "    fig.add_trace(go.Scatter(y=initial_widths, mode=\"lines\", name=\"Initial\", line={\"dash\": \"dash\"}))\n",
    "    fig.add_trace(go.Scatter(y=periodic_widths, mode=\"lines\", name=\"Periodic\", line={\"dash\": \"dot\"}))\n",
    "    fig.add_trace(go.Scatter(y=optimized_widths, mode=\"lines\", name=\"Optimized\"))\n",
    "    fig.update_layout(\n",
    "        title_text=\"Domain Widths Comparison\",\n",
    "        xaxis_title=\"Domain Index\",\n",
    "        yaxis_title=\"Width (μm)\",\n",
    "        template=\"plotly_white\",\n",
    "    )\n",
    "    fig.show()\n",
    "\n",
    "\n",
    "def plot_thw_power_spectrum(\n",
    "    initial_widths: Array,\n",
    "    optimized_widths: Array,\n",
    "    periodic_widths: Array,\n",
    "    sim_params: SimulationParameters,\n",
    "    config: Config,\n",
    ") -> None:\n",
    "    \"\"\"Plots the SHG Power spectrum before and after optimization.\"\"\"\n",
    "    wls, initial_effs = _calculate_spectrum(initial_widths, sim_params, config)\n",
    "    _, optimized_effs = _calculate_spectrum(optimized_widths, sim_params, config)\n",
    "    _, periodic_effs = _calculate_spectrum(periodic_widths, sim_params, config)\n",
    "\n",
    "    fig = go.Figure()\n",
    "    fig.add_trace(go.Scatter(x=wls, y=initial_effs, mode=\"lines\", name=\"Initial\", line={\"dash\": \"dash\"}))\n",
    "    fig.add_trace(go.Scatter(x=wls, y=periodic_effs, mode=\"lines\", name=\"Periodic\", line={\"dash\": \"dot\"}))\n",
    "    fig.add_trace(go.Scatter(x=wls, y=optimized_effs, mode=\"lines\", name=\"Optimized\"))\n",
    "    fig.add_vline(\n",
    "        x=config.design_wl,\n",
    "        line_dash=\"dot\",\n",
    "        line_color=\"red\",\n",
    "        annotation_text=f\"Design λ {config.design_wl}μm\",\n",
    "        annotation_position=\"bottom right\",\n",
    "    )\n",
    "    fig.update_layout(\n",
    "        title_text=\"THW Power Spectrum Comparison\",\n",
    "        xaxis_title=\"Fundamental Wavelength (μm)\",\n",
    "        yaxis_title=\"THW Power\",\n",
    "        template=\"plotly_white\",\n",
    "    )\n",
    "    fig.show()\n",
    "\n",
    "\n",
    "def plot_cost_history(loss_history: Array) -> None:\n",
    "    \"\"\"Plots the optimization cost history.\"\"\"\n",
    "    fig = go.Figure()\n",
    "    fig.add_trace(go.Scatter(y=loss_history, mode=\"lines\", name=\"Loss\"))\n",
    "    fig.update_layout(\n",
    "        title_text=\"Optimization Cost History\",\n",
    "        xaxis_title=\"Iteration\",\n",
    "        yaxis_title=\"Loss\",\n",
    "        template=\"plotly_white\",\n",
    "    )\n",
    "    fig.show()\n",
    "\n",
    "\n",
    "\"\"\"Main function to run the optimization and visualization.\"\"\"\n",
    "config = Config()"
   ]
  },
  {
   "cell_type": "code",
   "execution_count": null,
   "id": "444bdfc0",
   "metadata": {},
   "outputs": [
    {
     "name": "stdout",
     "output_type": "stream",
     "text": [
      "1. Generating initial grating parameters...\n",
      "   - Base domain width from calculation: 3.6008 μm\n",
      "   - Number of domains: 1000\n",
      "2. Setting up loss function and L-BFGS optimizer...\n",
      "3. Running JIT-compiled optimization...\n",
      "   - Initial THW Power: 0.0019\n"
     ]
    },
    {
     "name": "stderr",
     "output_type": "stream",
     "text": [
      "2025-10-24 03:10:01.053889: E external/xla/xla/service/slow_operation_alarm.cc:73] \n",
      "********************************\n",
      "[Compiling module jit_run_full_optimization for GPU] Very slow compile? If you want to file a bug, run with envvar XLA_FLAGS=--xla_dump_to=/tmp/foo and attach the results.\n",
      "********************************\n",
      "2025-10-24 03:10:01.219638: E external/xla/xla/service/slow_operation_alarm.cc:140] The operation took 5m20.948540504s\n",
      "\n",
      "********************************\n",
      "[Compiling module jit_run_full_optimization for GPU] Very slow compile? If you want to file a bug, run with envvar XLA_FLAGS=--xla_dump_to=/tmp/foo and attach the results.\n",
      "********************************\n"
     ]
    },
    {
     "data": {
      "application/vnd.jupyter.widget-view+json": {
       "model_id": "678ee938f4aa4562961ab4236a62e87b",
       "version_major": 2,
       "version_minor": 0
      },
      "text/plain": [
       "Optimizing:   0%|          | 0/500 [-1:54:40<?, ?it/s]"
      ]
     },
     "metadata": {},
     "output_type": "display_data"
    }
   ],
   "source": [
    "# 1. Generate initial physical parameters and domain widths\n",
    "delta_k1, delta_k2, kappa_array, periodic_widths, initial_widths = initialize_grating(config)\n",
    "# 2. Create simulation parameters\n",
    "sim_params = SimulationParameters(\n",
    "    delta_k1=delta_k1,\n",
    "    delta_k2=delta_k2,\n",
    "    kappa_array=kappa_array,\n",
    "    b_initial=jnp.array([1.0, 0.0, 0.0], dtype=jnp.complex64),\n",
    ")\n",
    "# 3. Run the optimization with the clean parameter objects\n",
    "optimized_widths, loss_history = run_optimization(initial_widths, sim_params, config)"
   ]
  },
  {
   "cell_type": "code",
   "execution_count": null,
   "id": "665e2786",
   "metadata": {},
   "outputs": [
    {
     "name": "stdout",
     "output_type": "stream",
     "text": [
      "4. Visualizing optimization results...\n"
     ]
    },
    {
     "data": {
      "application/vnd.plotly.v1+json": {
       "config": {
        "plotlyServerURL": "https://plot.ly"
       },
       "data": [
        {
         "line": {
          "dash": "dash"
         },
         "mode": "lines",
         "name": "Initial",
         "type": "scatter",
         "y": {
          "bdata": "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",
          "dtype": "f4"
         }
        },
        {
         "line": {
          "dash": "dot"
         },
         "mode": "lines",
         "name": "Periodic",
         "type": "scatter",
         "y": {
          "bdata": "/nNmQP5zZkD+c2ZA/nNmQP5zZkD+c2ZA/nNmQP5zZkD+c2ZA/nNmQP5zZkD+c2ZA/nNmQP5zZkD+c2ZA/nNmQP5zZkD+c2ZA/nNmQP5zZkD+c2ZA/nNmQP5zZkD+c2ZA/nNmQP5zZkD+c2ZA/nNmQP5zZkD+c2ZA/nNmQP5zZkD+c2ZA/nNmQP5zZkD+c2ZA/nNmQP5zZkD+c2ZA/nNmQP5zZkD+c2ZA/nNmQP5zZkD+c2ZA/nNmQP5zZkD+c2ZA/nNmQP5zZkD+c2ZA/nNmQP5zZkD+c2ZA/nNmQP5zZkD+c2ZA/nNmQP5zZkD+c2ZA/nNmQP5zZkD+c2ZA/nNmQP5zZkD+c2ZA/nNmQP5zZkD+c2ZA/nNmQP5zZkD+c2ZA/nNmQP5zZkD+c2ZA/nNmQP5zZkD+c2ZA/nNmQP5zZkD+c2ZA/nNmQP5zZkD+c2ZA/nNmQP5zZkD+c2ZA/nNmQP5zZkD+c2ZA/nNmQP5zZkD+c2ZA/nNmQP5zZkD+c2ZA/nNmQP5zZkD+c2ZA/nNmQP5zZkD+c2ZA/nNmQP5zZkD+c2ZA/nNmQP5zZkD+c2ZA/nNmQP5zZkD+c2ZA/nNmQP5zZkD+c2ZA/nNmQP5zZkD+c2ZA/nNmQP5zZkD+c2ZA/nNmQP5zZkD+c2ZA/nNmQP5zZkD+c2ZA/nNmQP5zZkD+c2ZA/nNmQP5zZkD+c2ZA/nNmQP5zZkD+c2ZA/nNmQP5zZkD+c2ZA/nNmQP5zZkD+c2ZA/nNmQP5zZkD+c2ZA/nNmQP5zZkD+c2ZA/nNmQP5zZkD+c2ZA/nNmQP5zZkD+c2ZA/nNmQP5zZkD+c2ZA/nNmQP5zZkD+c2ZA/nNmQP5zZkD+c2ZA/nNmQP5zZkD+c2ZA/nNmQP5zZkD+c2ZA/nNmQP5zZkD+c2ZA/nNmQP5zZkD+c2ZA/nNmQP5zZkD+c2ZA/nNmQP5zZkD+c2ZA/nNmQP5zZkD+c2ZA/nNmQP5zZkD+c2ZA/nNmQP5zZkD+c2ZA/nNmQP5zZkD+c2ZA/nNmQP5zZkD+c2ZA/nNmQP5zZkD+c2ZA/nNmQP5zZkD+c2ZA/nNmQP5zZkD+c2ZA/nNmQP5zZkD+c2ZA/nNmQP5zZkD+c2ZA/nNmQP5zZkD+c2ZA/nNmQP5zZkD+c2ZA/nNmQP5zZkD+c2ZA/nNmQP5zZkD+c2ZA/nNmQP5zZkD+c2ZA/nNmQP5zZkD+c2ZA/nNmQP5zZkD+c2ZA/nNmQP5zZkD+c2ZA/nNmQP5zZkD+c2ZA/nNmQP5zZkD+c2ZA/nNmQP5zZkD+c2ZA/nNmQP5zZkD+c2ZA/nNmQP5zZkD+c2ZA/nNmQP5zZkD+c2ZA/nNmQP5zZkD+c2ZA/nNmQP5zZkD+c2ZA/nNmQP5zZkD+c2ZA/nNmQP5zZkD+c2ZA/nNmQP5zZkD+c2ZA/nNmQP5zZkD+c2ZA/nNmQP5zZkD+c2ZA/nNmQP5zZkD+c2ZA/nNmQP5zZkD+c2ZA/nNmQP5zZkD+c2ZA/nNmQP5zZkD+c2ZA/nNmQP5zZkD+c2ZA/nNmQP5zZkD+c2ZA/nNmQP5zZkD+c2ZA/nNmQP5zZkD+c2ZA/nNmQP5zZkD+c2ZA/nNmQP5zZkD+c2ZA/nNmQP5zZkD+c2ZA/nNmQP5zZkD+c2ZA/nNmQP5zZkD+c2ZA/nNmQP5zZkD+c2ZA/nNmQP5zZkD+c2ZA/nNmQP5zZkD+c2ZA/nNmQP5zZkD+c2ZA/nNmQP5zZkD+c2ZA/nNmQP5zZkD+c2ZA/nNmQP5zZkD+c2ZA/nNmQP5zZkD+c2ZA/nNmQP5zZkD+c2ZA/nNmQP5zZkD+c2ZA/nNmQP5zZkD+c2ZA/nNmQP5zZkD+c2ZA/nNmQP5zZkD+c2ZA/nNmQP5zZkD+c2ZA/nNmQP5zZkD+c2ZA/nNmQP5zZkD+c2ZA/nNmQP5zZkD+c2ZA/nNmQP5zZkD+c2ZA/nNmQP5zZkD+c2ZA/nNmQP5zZkD+c2ZA/nNmQP5zZkD+c2ZA/nNmQP5zZkD+c2ZA/nNmQP5zZkD+c2ZA/nNmQP5zZkD+c2ZA/nNmQP5zZkD+c2ZA/nNmQP5zZkD+c2ZA/nNmQP5zZkD+c2ZA/nNmQP5zZkD+c2ZA/nNmQP5zZkD+c2ZA/nNmQP5zZkD+c2ZA/nNmQP5zZkD+c2ZA/nNmQP5zZkD+c2ZA/nNmQP5zZkD+c2ZA/nNmQP5zZkD+c2ZA/nNmQP5zZkD+c2ZA/nNmQP5zZkD+c2ZA/nNmQP5zZkD+c2ZA/nNmQP5zZkD+c2ZA/nNmQP5zZkD+c2ZA/nNmQP5zZkD+c2ZA/nNmQP5zZkD+c2ZA/nNmQP5zZkD+c2ZA/nNmQP5zZkD+c2ZA/nNmQP5zZkD+c2ZA/nNmQP5zZkD+c2ZA/nNmQP5zZkD+c2ZA/nNmQP5zZkD+c2ZA/nNmQP5zZkD+c2ZA/nNmQP5zZkD+c2ZA/nNmQP5zZkD+c2ZA/nNmQP5zZkD+c2ZA/nNmQP5zZkD+c2ZA/nNmQP5zZkD+c2ZA/nNmQP5zZkD+c2ZA/nNmQP5zZkD+c2ZA/nNmQP5zZkD+c2ZA/nNmQP5zZkD+c2ZA/nNmQP5zZkD+c2ZA/nNmQP5zZkD+c2ZA/nNmQP5zZkD+c2ZA/nNmQP5zZkD+c2ZA/nNmQP5zZkD+c2ZA/nNmQP5zZkD+c2ZA/nNmQP5zZkD+c2ZA/nNmQP5zZkD+c2ZA/nNmQP5zZkD+c2ZA/nNmQP5zZkD+c2ZA/nNmQP5zZkD+c2ZA/nNmQP5zZkD+c2ZA/nNmQP5zZkD+c2ZA/nNmQP5zZkD+c2ZA/nNmQP5zZkD+c2ZA/nNmQP5zZkD+c2ZA/nNmQP5zZkD+c2ZA/nNmQP5zZkD+c2ZA/nNmQP5zZkD+c2ZA/nNmQP5zZkD+c2ZA/nNmQP5zZkD+c2ZA/nNmQP5zZkD+c2ZA/nNmQP5zZkD+c2ZA/nNmQP5zZkD+c2ZA/nNmQP5zZkD+c2ZA/nNmQP5zZkD+c2ZA/nNmQP5zZkD+c2ZA/nNmQP5zZkD+c2ZA/nNmQP5zZkD+c2ZA/nNmQP5zZkD+c2ZA/nNmQP5zZkD+c2ZA/nNmQP5zZkD+c2ZA/nNmQP5zZkD+c2ZA/nNmQP5zZkD+c2ZA/nNmQP5zZkD+c2ZA/nNmQP5zZkD+c2ZA/nNmQP5zZkD+c2ZA/nNmQP5zZkD+c2ZA/nNmQP5zZkD+c2ZA/nNmQP5zZkD+c2ZA/nNmQP5zZkD+c2ZA/nNmQP5zZkD+c2ZA/nNmQP5zZkD+c2ZA/nNmQP5zZkD+c2ZA/nNmQP5zZkD+c2ZA/nNmQP5zZkD+c2ZA/nNmQP5zZkD+c2ZA/nNmQP5zZkD+c2ZA/nNmQP5zZkD+c2ZA/nNmQP5zZkD+c2ZA/nNmQP5zZkD+c2ZA/nNmQP5zZkD+c2ZA/nNmQP5zZkD+c2ZA/nNmQP5zZkD+c2ZA/nNmQP5zZkD+c2ZA/nNmQP5zZkD+c2ZA/nNmQP5zZkD+c2ZA/nNmQP5zZkD+c2ZA/nNmQP5zZkD+c2ZA/nNmQP5zZkD+c2ZA/nNmQP5zZkD+c2ZA/nNmQP5zZkD+c2ZA/nNmQP5zZkD+c2ZA/nNmQP5zZkD+c2ZA/nNmQP5zZkD+c2ZA/nNmQP5zZkD+c2ZA/nNmQP5zZkD+c2ZA/nNmQP5zZkD+c2ZA/nNmQP5zZkD+c2ZA/nNmQP5zZkD+c2ZA/nNmQP5zZkD+c2ZA/nNmQP5zZkD+c2ZA/nNmQP5zZkD+c2ZA/nNmQP5zZkD+c2ZA/nNmQP5zZkD+c2ZA/nNmQP5zZkD+c2ZA/nNmQP5zZkD+c2ZA/nNmQP5zZkD+c2ZA/nNmQP5zZkD+c2ZA/nNmQP5zZkD+c2ZA/nNmQP5zZkD+c2ZA/nNmQP5zZkD+c2ZA/nNmQP5zZkD+c2ZA/nNmQP5zZkD+c2ZA/nNmQP5zZkD+c2ZA/nNmQP5zZkD+c2ZA/nNmQP5zZkD+c2ZA/nNmQP5zZkD+c2ZA/nNmQP5zZkD+c2ZA/nNmQP5zZkD+c2ZA/nNmQP5zZkD+c2ZA/nNmQP5zZkD+c2ZA/nNmQP5zZkD+c2ZA/nNmQP5zZkD+c2ZA/nNmQP5zZkD+c2ZA/nNmQP5zZkD+c2ZA/nNmQP5zZkD+c2ZA/nNmQP5zZkD+c2ZA/nNmQP5zZkD+c2ZA/nNmQP5zZkD+c2ZA/nNmQP5zZkD+c2ZA/nNmQP5zZkD+c2ZA/nNmQP5zZkD+c2ZA/nNmQP5zZkD+c2ZA/nNmQP5zZkD+c2ZA/nNmQP5zZkD+c2ZA/nNmQP5zZkD+c2ZA/nNmQP5zZkD+c2ZA/nNmQP5zZkD+c2ZA/nNmQP5zZkD+c2ZA/nNmQP5zZkD+c2ZA/nNmQP5zZkD+c2ZA/nNmQP5zZkD+c2ZA/nNmQP5zZkD+c2ZA/nNmQP5zZkD+c2ZA/nNmQP5zZkD+c2ZA/nNmQP5zZkD+c2ZA/nNmQP5zZkD+c2ZA/nNmQP5zZkD+c2ZA/nNmQP5zZkD+c2ZA/nNmQP5zZkD+c2ZA/nNmQP5zZkD+c2ZA/nNmQP5zZkD+c2ZA/nNmQP5zZkD+c2ZA/nNmQP5zZkD+c2ZA/nNmQP5zZkD+c2ZA/nNmQP5zZkD+c2ZA/nNmQP5zZkD+c2ZA/nNmQP5zZkD+c2ZA/nNmQP5zZkD+c2ZA/nNmQP5zZkD+c2ZA/nNmQP5zZkD+c2ZA/nNmQP5zZkD+c2ZA/nNmQP5zZkD+c2ZA/nNmQP5zZkD+c2ZA/nNmQP5zZkD+c2ZA/nNmQP5zZkD+c2ZA/nNmQP5zZkD+c2ZA/nNmQP5zZkD+c2ZA/nNmQP5zZkD+c2ZA/nNmQP5zZkD+c2ZA/nNmQP5zZkD+c2ZA/nNmQP5zZkD+c2ZA/nNmQP5zZkD+c2ZA/nNmQP5zZkD+c2ZA/nNmQP5zZkD+c2ZA/nNmQP5zZkD+c2ZA/nNmQP5zZkD+c2ZA/nNmQP5zZkD+c2ZA/nNmQP5zZkD+c2ZA/nNmQP5zZkD+c2ZA/nNmQP5zZkD+c2ZA/nNmQP5zZkD+c2ZA/nNmQP5zZkD+c2ZA/nNmQP5zZkD+c2ZA/nNmQP5zZkD+c2ZA/nNmQP5zZkD+c2ZA/nNmQP5zZkD+c2ZA/nNmQP5zZkD+c2ZA/nNmQP5zZkD+c2ZA/nNmQP5zZkD+c2ZA/nNmQP5zZkD+c2ZA/nNmQP5zZkD+c2ZA/nNmQP5zZkD+c2ZA/nNmQP5zZkD+c2ZA/nNmQP5zZkD+c2ZA/nNmQP5zZkD+c2ZA/nNmQP5zZkD+c2ZA/nNmQP5zZkD+c2ZA/nNmQP5zZkD+c2ZA/nNmQP5zZkD+c2ZA/nNmQP5zZkD+c2ZA/nNmQA==",
          "dtype": "f4"
         }
        },
        {
         "mode": "lines",
         "name": "Optimized",
         "type": "scatter",
         "y": {
          "bdata": "i3NmQEHOZkCj7mVAZR1mQKsQaEAK+2RAd6llQBbGaUB6Z2NAn85lQI/aakAgO2JAGgJmQP/Ua0AgEGFARA1mQOUrbUCCbV9AjsdmQLO8bUCoGV5AIttnQIrXbUCq61xAT9poQGQAbkAHvVtAhi1qQGzDbUC8oFpAsAtsQAjVbECftVlABM1tQGcEbEAerlhAlF1wQE1MakCs71dA5YlyQB/MaEDoNFdAul11QCqRZkBlZVZA7/l4QHyUY0CM/VVA45R7QFJcYUDZVlVAftN+QJ9xXkB5JVVA9YmAQBJyXECSqlRABfCBQE/lWUAbeFRAUQqDQGPTV0A1UlRAUfKDQFo0VkBt91NAEvWEQHRUVEAGCVRA+6CFQLT6UkDqKlRAuxeGQK7xUUCuIVRAG52GQIPSUEBqUFRA5PyGQMncT0DuylRACRqHQJ8nT0D7b1VABBuHQElzTkCjP1ZAKf+GQBLfTUBklVdAj46GQEZYTUAyallAzNeFQK/YTEAO61xAFz+EQG+qTECsoGFAvh2CQOn2TEDxJGpAjWx8QFanTUDSOHdAf7VvQJoMTUDZMIFAeSVkQIn6S0BnzIVAU7RaQPrpSkC6aYlAItJTQH2mSkC0aotAUFRQQJxhSkDOwIxAjgBOQG0JSkBUxo1AxkZMQH4ASkBVZ45AkTZLQOO5SUDb8I5AjVtKQAyFSUCqWI9AAcpJQE9ISUBMsY9Ac19JQCsQSUAy+Y9A0wxJQHjYSEASP5BAnshIQA+bSEDNdZBAlY5IQNpqSEC4rZBAdGJIQDctSEA44pBAgzJIQAH1R0DVFJFAvwxIQBa2R0DySJFAodxHQNKMR0CzbJFAXtdHQBZmR0AmnZFAHp5HQMtSR0B0tJFABUVHQHR+R0D0tJFAe/xGQO/ZSEBAH5FAngBGQBoXTUDnH45A80NHQB6QYUBn3YNAmoBOQIj1jUCuXE5AUttEQBQQkkCVDEdArxpGQJEtk0CQIkVAzTBGQG1Jk0Afy0RAUklGQItyk0A3zURA5jRGQBtzk0Au00RAARdGQCt2k0D95ERACgFGQF+Jk0BwEUVAZ+RFQIaTk0AKIEVAKsFFQJmhk0B7OkVA3Y5FQEqyk0DzQkVA3WFFQFvIk0BjN0VAsSNFQK7ck0BBNkVAbfFEQM/2k0DSK0VAFaxEQFMalEAxLkVA/XVEQKlAlEBgFEVAlR5EQM9glEDN+URAmctDQLKOlEDQ70RASXtDQNTElECA1URApxZDQBEYlUCV6ERACahCQPt6lUAQhURArH1BQEa7lUBULURATW5BQK77lkDV20NAi3lBQNkClUDxuEZApruUQAacQkC7oUJACWWXQAxHQUD21kNAmwmWQBUNQUC4A0RA+ASWQOdOQkBDNERAwsaVQM2CQkB/4ENAr5iVQPLRQkAEzkNAbpSVQE75QkCNnUNAwJSVQDsVQ0BclkNA/KCVQHgpQ0AvbUNAuaeVQG8kQ0BZOkNAW7OVQAoUQ0DRJUNAJNCVQBoHQ0CkB0NAMt+VQGgOQ0AO+0JAwf+VQLT2QkDJ00JAGRWWQLfoQkCsx0JArDSWQE3wQkAMrkJA4lSWQJrGQkBdcEJA0F+WQPipQkCOOEJAgIOWQEeiQkDBD0JA18CWQI+pQkAKsEFA3eGWQByWQkAyA0FA5gGXQLbfQUDTmj9A/fCXQKCMREBXkT9AMi6XQDnRP0A+dJhAyxtAQCghQUDUG5lAQlM/QE+MQUCBRZdANqxAQGmcQkDMk5dAfm1BQCPyQUD9PJdAU2dBQCnGQUArQ5dA2plBQMasQUA2SZdAFpZBQC2GQUAcVpdA5ZdBQAV5QUD/ZJdABnZBQGxKQUBPcJdA2V9BQDJAQUDPh5dAR1pBQCVFQUDGqJdAwkZBQDQ6QUAItpdACi5BQA4rQUCyy5dAJyNBQMowQUBn5ZdAtg1BQLEWQUAK7ZdAGOhAQKQDQUDJAJhA/tZAQGT8QEAOFZhAKMVAQKHbQECRF5hABY9AQGqiQEAzIphAQ5xAQICgQEByRJhAoaBAQLRtQEAkbphARRxBQKcUQED7PphAvBdAQNhNP0AYhppA0LA/QINqPEC1jZpAuFhAQIv7l0BMHD9AWapBQCLPmEAw6z9AmTtAQEpemEA/rD9AUAJAQLGlmEDpT0BAWU5AQFzImECSOEBA+wVAQKnVmEAgSkBAVTBAQDT6mEAwPUBASg1AQEj9mEBd9D9A4L4/QMbwmEBouz9AQZ0/QOT+mEADtT9AAKQ/QCkamUCuzj9A2c8/QAdAmUD8zD9Awrk/QAFGmUD2lj9AZXU/QHo3mUDwcD9AAmM/QLxImUAPkT9ARoo/QFJvmUBPsj9Am58/QLGOmUANyT9AIYQ/QL5/mUA1Xj9ANvY+QGxNmUCSLT9AOiY/QDigmUB+vD9Agyw/QIhzmUC5Uj9AXfY+QK7EmUBA4j9AdHw9QL96mUDSd0NA82w9QK+lmUAp8T1ADuqaQFP8PUCKbD5ADmCZQDr1PkDvAUBAetiZQHeWPkDgEz9AHryZQOWCPkAZJz9AfP+ZQJZ9P0CAb0BAVGmaQNhsPkC87T1A1FyZQKs/PkCtdD9ANCeaQF36PUDhTD5A1GaaQA65QECWuj9AWkiVQMQ/TkAMe5JAon+hQBtBO0CNpzxAS6CcQMUwOkA2TZA/o1yVvxrkjj+Ls3Y/UQJ4P2dYkD+iwUk/GbRtP12bkj9p+V0/bEKHP7LqgT+1eU8/uyCOP+N8eD/upmY/BGWQP1rpXj/XcHg/r7uMP6ceVD8g1oY/8euDPyjlUz+65Yw/nf9yP4axZT+E0pA/ZYpiP/2RfD86oIw/GjJUP25Ehj8u14I/4QpVPxXmjD84gXI/75BmPxi9jz+C5mA/+g18P/TMiz8djlU/QyCHP7BHgz/UOlg/umONP5tfcj9Hmmc/J9mOP5HAXz/dons/Y6aKPyJrVT951oY/NW2CP0EBWT/z64w/iXlxP33WaD/Qf44/qnhgPxljfT/0o4o/RY1XP/V8hz+DXoI/jclaP5u6jD/7g3A/JVhpP+WPjT+wtF8/ojd9Pyy8iT/VB1g/84KHPy/vgT+7aFw/UqyMP+lZcD9sz2o/vCqNPxrZXz+60H0/qw2JP0ihWD9pa4c/OlaBP3SeXT+PcYw/gAxwP/MxbD980ow/V1BgP0qpfj/KjIg/D5dZP9lhhz9KyYA/SqdeP1kLjD+oZG8/ESdtP9NBjD9siGA/9j1/P8H+hz8filo/AmGHP71PgD8v018/mraLP0Dnbj+DHm4/kbiLPyfAYD/Rw38/7neHPwagWz+mbIc/D/h/PxpVYT/ukIs/JOduP7V8bz/LWIs/dkVhP2ErgD9m5oY/6WRcP5w5hz+Ku34/LRBiP7r1ij9QE24/g/NvP1meij8CTGE/Z0iAPxROhj80XF0/pzeHP1Mtfj+Cm2M/a9mKP2xIbj+TcnE/UmmKPxpOYj/zwIA/fP6FP17BXj8sRoc/0pp9P/7jZD9KgYo/P/ptP3Epcj/nvYk/gHBiPxHAgD/8QIU/fDhfPy/ohj+pVnw/gIRlP7viiT/lWW0/u6JyP3EXiT9isWI/59iAP7WxhD/cSmA/c96GP/nsez8HAGc/SbmJP8i+bT97A3Q/BdiIP4bHYz+zQIE//XeEP+q+YT+a4oY/gJB7P01GaD+LZYk/J5ttP5ivdD9dP4g/thBkP28wgT/kxoM//01iP8GAhj8ufXo/WuJoPzbQiD+XS20/Ujd1P9uhhz+DgGQ/jUWBPz5Sgz/edWM/Tm6GP/Yiej9KO2o/SJSIP7+mbT+XRXY/t1SHP6uAZT88hYE/ef2CPwCqZD8UUYY/i8F5P+5Raz+TJYg/BKBtPyLVdj9DwIY/juhlPzN0gT+aaYI/3WhlP4TwhT8n9ng/kBlsP+Smhz+Mim0/8Up3P8k5hj/YnWY/T4eBP+cIgj9MlmY/qNSFP8TJeD9UVG0/t1+HP4oLbj+ROng//9iFP6eTZz/wq4E/trOBP/2vZz93moU/LV14P+gzbj/E34Y/ygVuPx2GeD/YNoU/ovhnP7+EgT8GLYE/wmloP2swhT+fwnc/t/JuP/Vghj9XMW4/Xgx5PwrDhD9j4Wg/35WBP9DmgD/Jrmk/kBSFP963dz+rHHA/QRqGPxm9bj9zu3k/c2GEPznBaT/VkoE/h42APySkaj+TwYQ/RFB3P4DLcD9/jIU/6dBuP4n2eT880IM/oFpqP7dugT9AGYA/JoprPx5whD/yIXc/36xxP5QkhT8PT28/opJ6P6t2gz98YWs/wnuBP5/dfz+hwmw/Xz+EPzQudz+QoXI/E8aEP4HLbz8C8Ho/jQSDP+YnbD9YV4E/8hN/P2yEbT9JzIM/Ycx2Pwsrcz+jMoQ/K/dvP1D8ej87doI/5chsP30lgT9JYX4/p2tuP7hygz9ctnY/0O9zP0nPgz9xh3A/rGx7PyQhgj/l1W0/RB2BPy/+fT8fgG8/8DSDPxrJdj9Vt3Q/pV+DP1APcT94oXs/F6qBP0WZbj+B6oA/vFd9P6Y3cD/4w4I/a6V2Pwo9dT/r14I/WXRxP+O4ez9hPIE/AG5vP7XAgD9z8Hw/sT5xP85ugj8q0nY/Ng92P+B5gj/fLHI/qQx8P/rwgD8+hXA/oqmAP5ynfD9QQHI/ZCKCP1z3dj+CpXY/XAyCP4vAcj8VIHw/lIKAP/ROcT/Ka4A/oSF8P7P6cj+3r4E/0vd2P6cXdz+/jYE/nkRzP0sgfD+0I4A/pSZyP7QzgD8P23s/eOhzPwRYgT9TR3c/bMN3PzMugT+1FnQ/tFR8P/e9fz8+MXM/UwyAP1arez8k13Q/F/yAP7uLdz+rQng/hriAPyardD8PPHw/Me5+P//ucz8+bn8/NzV7P89ydT9LeIA/u5t3P4SDeD8gNIA/hCt1P9v7ez+xIX4/Ub90P9TXfj8c93o/VTB2P1oNgD9V73c/TwJ5P3ytfz83B3Y/ggx8P8arfT87xnU/aHx+PxD8ej9fHnc/PHV/P5lneD/ChHk/t/d+P3TZdj8q/ns/fxh9Pw+sdj/r4X0/+NF6P9HMdz9fjH4/j6h4PyS7eT+2+30/B4B3P4m6ez9udHw/AW53P4otfT8Xnno/82l4PwOlfT/fGHk/4Ap6PzcufT81Q3g/jY57P3UHfD9WZXg/I558P7Otej8XNXk/7ul8P4OleT+iX3o/F3Z8P40jeT/WaXs/RqB7P95TeT80AHw/7Kx6P9XfeT/sDXw/Ohp6P5yXej/JqXs/Cep5P+sVez/HHXs/BRV6P6w9ez9Us3o/k3h6P0ohez/1jno/ILx6P9jeej8EtXo/YMN6Pw==",
          "dtype": "f4"
         }
        }
       ],
       "layout": {
        "template": {
         "data": {
          "bar": [
           {
            "error_x": {
             "color": "#2a3f5f"
            },
            "error_y": {
             "color": "#2a3f5f"
            },
            "marker": {
             "line": {
              "color": "white",
              "width": 0.5
             },
             "pattern": {
              "fillmode": "overlay",
              "size": 10,
              "solidity": 0.2
             }
            },
            "type": "bar"
           }
          ],
          "barpolar": [
           {
            "marker": {
             "line": {
              "color": "white",
              "width": 0.5
             },
             "pattern": {
              "fillmode": "overlay",
              "size": 10,
              "solidity": 0.2
             }
            },
            "type": "barpolar"
           }
          ],
          "carpet": [
           {
            "aaxis": {
             "endlinecolor": "#2a3f5f",
             "gridcolor": "#C8D4E3",
             "linecolor": "#C8D4E3",
             "minorgridcolor": "#C8D4E3",
             "startlinecolor": "#2a3f5f"
            },
            "baxis": {
             "endlinecolor": "#2a3f5f",
             "gridcolor": "#C8D4E3",
             "linecolor": "#C8D4E3",
             "minorgridcolor": "#C8D4E3",
             "startlinecolor": "#2a3f5f"
            },
            "type": "carpet"
           }
          ],
          "choropleth": [
           {
            "colorbar": {
             "outlinewidth": 0,
             "ticks": ""
            },
            "type": "choropleth"
           }
          ],
          "contour": [
           {
            "colorbar": {
             "outlinewidth": 0,
             "ticks": ""
            },
            "colorscale": [
             [
              0,
              "#0d0887"
             ],
             [
              0.1111111111111111,
              "#46039f"
             ],
             [
              0.2222222222222222,
              "#7201a8"
             ],
             [
              0.3333333333333333,
              "#9c179e"
             ],
             [
              0.4444444444444444,
              "#bd3786"
             ],
             [
              0.5555555555555556,
              "#d8576b"
             ],
             [
              0.6666666666666666,
              "#ed7953"
             ],
             [
              0.7777777777777778,
              "#fb9f3a"
             ],
             [
              0.8888888888888888,
              "#fdca26"
             ],
             [
              1,
              "#f0f921"
             ]
            ],
            "type": "contour"
           }
          ],
          "contourcarpet": [
           {
            "colorbar": {
             "outlinewidth": 0,
             "ticks": ""
            },
            "type": "contourcarpet"
           }
          ],
          "heatmap": [
           {
            "colorbar": {
             "outlinewidth": 0,
             "ticks": ""
            },
            "colorscale": [
             [
              0,
              "#0d0887"
             ],
             [
              0.1111111111111111,
              "#46039f"
             ],
             [
              0.2222222222222222,
              "#7201a8"
             ],
             [
              0.3333333333333333,
              "#9c179e"
             ],
             [
              0.4444444444444444,
              "#bd3786"
             ],
             [
              0.5555555555555556,
              "#d8576b"
             ],
             [
              0.6666666666666666,
              "#ed7953"
             ],
             [
              0.7777777777777778,
              "#fb9f3a"
             ],
             [
              0.8888888888888888,
              "#fdca26"
             ],
             [
              1,
              "#f0f921"
             ]
            ],
            "type": "heatmap"
           }
          ],
          "histogram": [
           {
            "marker": {
             "pattern": {
              "fillmode": "overlay",
              "size": 10,
              "solidity": 0.2
             }
            },
            "type": "histogram"
           }
          ],
          "histogram2d": [
           {
            "colorbar": {
             "outlinewidth": 0,
             "ticks": ""
            },
            "colorscale": [
             [
              0,
              "#0d0887"
             ],
             [
              0.1111111111111111,
              "#46039f"
             ],
             [
              0.2222222222222222,
              "#7201a8"
             ],
             [
              0.3333333333333333,
              "#9c179e"
             ],
             [
              0.4444444444444444,
              "#bd3786"
             ],
             [
              0.5555555555555556,
              "#d8576b"
             ],
             [
              0.6666666666666666,
              "#ed7953"
             ],
             [
              0.7777777777777778,
              "#fb9f3a"
             ],
             [
              0.8888888888888888,
              "#fdca26"
             ],
             [
              1,
              "#f0f921"
             ]
            ],
            "type": "histogram2d"
           }
          ],
          "histogram2dcontour": [
           {
            "colorbar": {
             "outlinewidth": 0,
             "ticks": ""
            },
            "colorscale": [
             [
              0,
              "#0d0887"
             ],
             [
              0.1111111111111111,
              "#46039f"
             ],
             [
              0.2222222222222222,
              "#7201a8"
             ],
             [
              0.3333333333333333,
              "#9c179e"
             ],
             [
              0.4444444444444444,
              "#bd3786"
             ],
             [
              0.5555555555555556,
              "#d8576b"
             ],
             [
              0.6666666666666666,
              "#ed7953"
             ],
             [
              0.7777777777777778,
              "#fb9f3a"
             ],
             [
              0.8888888888888888,
              "#fdca26"
             ],
             [
              1,
              "#f0f921"
             ]
            ],
            "type": "histogram2dcontour"
           }
          ],
          "mesh3d": [
           {
            "colorbar": {
             "outlinewidth": 0,
             "ticks": ""
            },
            "type": "mesh3d"
           }
          ],
          "parcoords": [
           {
            "line": {
             "colorbar": {
              "outlinewidth": 0,
              "ticks": ""
             }
            },
            "type": "parcoords"
           }
          ],
          "pie": [
           {
            "automargin": true,
            "type": "pie"
           }
          ],
          "scatter": [
           {
            "fillpattern": {
             "fillmode": "overlay",
             "size": 10,
             "solidity": 0.2
            },
            "type": "scatter"
           }
          ],
          "scatter3d": [
           {
            "line": {
             "colorbar": {
              "outlinewidth": 0,
              "ticks": ""
             }
            },
            "marker": {
             "colorbar": {
              "outlinewidth": 0,
              "ticks": ""
             }
            },
            "type": "scatter3d"
           }
          ],
          "scattercarpet": [
           {
            "marker": {
             "colorbar": {
              "outlinewidth": 0,
              "ticks": ""
             }
            },
            "type": "scattercarpet"
           }
          ],
          "scattergeo": [
           {
            "marker": {
             "colorbar": {
              "outlinewidth": 0,
              "ticks": ""
             }
            },
            "type": "scattergeo"
           }
          ],
          "scattergl": [
           {
            "marker": {
             "colorbar": {
              "outlinewidth": 0,
              "ticks": ""
             }
            },
            "type": "scattergl"
           }
          ],
          "scattermap": [
           {
            "marker": {
             "colorbar": {
              "outlinewidth": 0,
              "ticks": ""
             }
            },
            "type": "scattermap"
           }
          ],
          "scattermapbox": [
           {
            "marker": {
             "colorbar": {
              "outlinewidth": 0,
              "ticks": ""
             }
            },
            "type": "scattermapbox"
           }
          ],
          "scatterpolar": [
           {
            "marker": {
             "colorbar": {
              "outlinewidth": 0,
              "ticks": ""
             }
            },
            "type": "scatterpolar"
           }
          ],
          "scatterpolargl": [
           {
            "marker": {
             "colorbar": {
              "outlinewidth": 0,
              "ticks": ""
             }
            },
            "type": "scatterpolargl"
           }
          ],
          "scatterternary": [
           {
            "marker": {
             "colorbar": {
              "outlinewidth": 0,
              "ticks": ""
             }
            },
            "type": "scatterternary"
           }
          ],
          "surface": [
           {
            "colorbar": {
             "outlinewidth": 0,
             "ticks": ""
            },
            "colorscale": [
             [
              0,
              "#0d0887"
             ],
             [
              0.1111111111111111,
              "#46039f"
             ],
             [
              0.2222222222222222,
              "#7201a8"
             ],
             [
              0.3333333333333333,
              "#9c179e"
             ],
             [
              0.4444444444444444,
              "#bd3786"
             ],
             [
              0.5555555555555556,
              "#d8576b"
             ],
             [
              0.6666666666666666,
              "#ed7953"
             ],
             [
              0.7777777777777778,
              "#fb9f3a"
             ],
             [
              0.8888888888888888,
              "#fdca26"
             ],
             [
              1,
              "#f0f921"
             ]
            ],
            "type": "surface"
           }
          ],
          "table": [
           {
            "cells": {
             "fill": {
              "color": "#EBF0F8"
             },
             "line": {
              "color": "white"
             }
            },
            "header": {
             "fill": {
              "color": "#C8D4E3"
             },
             "line": {
              "color": "white"
             }
            },
            "type": "table"
           }
          ]
         },
         "layout": {
          "annotationdefaults": {
           "arrowcolor": "#2a3f5f",
           "arrowhead": 0,
           "arrowwidth": 1
          },
          "autotypenumbers": "strict",
          "coloraxis": {
           "colorbar": {
            "outlinewidth": 0,
            "ticks": ""
           }
          },
          "colorscale": {
           "diverging": [
            [
             0,
             "#8e0152"
            ],
            [
             0.1,
             "#c51b7d"
            ],
            [
             0.2,
             "#de77ae"
            ],
            [
             0.3,
             "#f1b6da"
            ],
            [
             0.4,
             "#fde0ef"
            ],
            [
             0.5,
             "#f7f7f7"
            ],
            [
             0.6,
             "#e6f5d0"
            ],
            [
             0.7,
             "#b8e186"
            ],
            [
             0.8,
             "#7fbc41"
            ],
            [
             0.9,
             "#4d9221"
            ],
            [
             1,
             "#276419"
            ]
           ],
           "sequential": [
            [
             0,
             "#0d0887"
            ],
            [
             0.1111111111111111,
             "#46039f"
            ],
            [
             0.2222222222222222,
             "#7201a8"
            ],
            [
             0.3333333333333333,
             "#9c179e"
            ],
            [
             0.4444444444444444,
             "#bd3786"
            ],
            [
             0.5555555555555556,
             "#d8576b"
            ],
            [
             0.6666666666666666,
             "#ed7953"
            ],
            [
             0.7777777777777778,
             "#fb9f3a"
            ],
            [
             0.8888888888888888,
             "#fdca26"
            ],
            [
             1,
             "#f0f921"
            ]
           ],
           "sequentialminus": [
            [
             0,
             "#0d0887"
            ],
            [
             0.1111111111111111,
             "#46039f"
            ],
            [
             0.2222222222222222,
             "#7201a8"
            ],
            [
             0.3333333333333333,
             "#9c179e"
            ],
            [
             0.4444444444444444,
             "#bd3786"
            ],
            [
             0.5555555555555556,
             "#d8576b"
            ],
            [
             0.6666666666666666,
             "#ed7953"
            ],
            [
             0.7777777777777778,
             "#fb9f3a"
            ],
            [
             0.8888888888888888,
             "#fdca26"
            ],
            [
             1,
             "#f0f921"
            ]
           ]
          },
          "colorway": [
           "#636efa",
           "#EF553B",
           "#00cc96",
           "#ab63fa",
           "#FFA15A",
           "#19d3f3",
           "#FF6692",
           "#B6E880",
           "#FF97FF",
           "#FECB52"
          ],
          "font": {
           "color": "#2a3f5f"
          },
          "geo": {
           "bgcolor": "white",
           "lakecolor": "white",
           "landcolor": "white",
           "showlakes": true,
           "showland": true,
           "subunitcolor": "#C8D4E3"
          },
          "hoverlabel": {
           "align": "left"
          },
          "hovermode": "closest",
          "mapbox": {
           "style": "light"
          },
          "paper_bgcolor": "white",
          "plot_bgcolor": "white",
          "polar": {
           "angularaxis": {
            "gridcolor": "#EBF0F8",
            "linecolor": "#EBF0F8",
            "ticks": ""
           },
           "bgcolor": "white",
           "radialaxis": {
            "gridcolor": "#EBF0F8",
            "linecolor": "#EBF0F8",
            "ticks": ""
           }
          },
          "scene": {
           "xaxis": {
            "backgroundcolor": "white",
            "gridcolor": "#DFE8F3",
            "gridwidth": 2,
            "linecolor": "#EBF0F8",
            "showbackground": true,
            "ticks": "",
            "zerolinecolor": "#EBF0F8"
           },
           "yaxis": {
            "backgroundcolor": "white",
            "gridcolor": "#DFE8F3",
            "gridwidth": 2,
            "linecolor": "#EBF0F8",
            "showbackground": true,
            "ticks": "",
            "zerolinecolor": "#EBF0F8"
           },
           "zaxis": {
            "backgroundcolor": "white",
            "gridcolor": "#DFE8F3",
            "gridwidth": 2,
            "linecolor": "#EBF0F8",
            "showbackground": true,
            "ticks": "",
            "zerolinecolor": "#EBF0F8"
           }
          },
          "shapedefaults": {
           "line": {
            "color": "#2a3f5f"
           }
          },
          "ternary": {
           "aaxis": {
            "gridcolor": "#DFE8F3",
            "linecolor": "#A2B1C6",
            "ticks": ""
           },
           "baxis": {
            "gridcolor": "#DFE8F3",
            "linecolor": "#A2B1C6",
            "ticks": ""
           },
           "bgcolor": "white",
           "caxis": {
            "gridcolor": "#DFE8F3",
            "linecolor": "#A2B1C6",
            "ticks": ""
           }
          },
          "title": {
           "x": 0.05
          },
          "xaxis": {
           "automargin": true,
           "gridcolor": "#EBF0F8",
           "linecolor": "#EBF0F8",
           "ticks": "",
           "title": {
            "standoff": 15
           },
           "zerolinecolor": "#EBF0F8",
           "zerolinewidth": 2
          },
          "yaxis": {
           "automargin": true,
           "gridcolor": "#EBF0F8",
           "linecolor": "#EBF0F8",
           "ticks": "",
           "title": {
            "standoff": 15
           },
           "zerolinecolor": "#EBF0F8",
           "zerolinewidth": 2
          }
         }
        },
        "title": {
         "text": "Domain Widths Comparison"
        },
        "xaxis": {
         "title": {
          "text": "Domain Index"
         }
        },
        "yaxis": {
         "title": {
          "text": "Width (μm)"
         }
        }
       }
      }
     },
     "metadata": {},
     "output_type": "display_data"
    },
    {
     "data": {
      "application/vnd.plotly.v1+json": {
       "config": {
        "plotlyServerURL": "https://plot.ly"
       },
       "data": [
        {
         "line": {
          "dash": "dash"
         },
         "mode": "lines",
         "name": "Initial",
         "type": "scatter",
         "x": {
          "bdata": "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",
          "dtype": "f4"
         },
         "y": {
          "bdata": "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",
          "dtype": "f4"
         }
        },
        {
         "line": {
          "dash": "dot"
         },
         "mode": "lines",
         "name": "Periodic",
         "type": "scatter",
         "x": {
          "bdata": "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",
          "dtype": "f4"
         },
         "y": {
          "bdata": "QtCLLHoi5ivwHPAqkiogJxcnBiut/RIsw2euLLSQIC30x28tU9eYLT1lxC1TxP4tzYIcLpnSPi49DFcuZ6RnLn6ZdC7nmIIuajCLLnhqki6eYpMu0DWOLs0Xhi4KkX0u3IpuLv8fYS5sokkuPOgpLlCABy6IEtUtqv+jLeYWaS0ALx0tgr6jLIv41SvLCGsqWqmVKqel0CtkiJAshHkSLa9FeS2JAr8t0W4DLm4sIS5RpjwuTORkLsaZiC4X+JsujTGtLj4Qty6cz7wuN/HBLmugxy6nV8wuFTTLLsG+wS4kmrIuO4ygLkr3kC4tToMuwA1nLksLOy5AUA0uvzvGLZ6egy3uWC4tKHmyLK4w7Sv8ptUpKrt9K9K0jSz8QRQtpqp8Lfxeui2pTgoulr9ELhiogi5Et5suvlGxLpgTyC51/98uTwn7Lqc2CS+JlhAvXT4SL00+ES8v3g8vhdgOL+uFCy/uvAMv+h3uLjL10C7hIrMuS3mYLhZYfi68O0gu4PwOLoJxty16z0Ut+eCqLNvswiuZkxMnP2q4K1n36SzwVYgtAZrlLTWBKS4Ir2Yu2LaXLvYHwS4XLu4u3r8OL7FIIS+BaTAvZZ09L8SlTS859lkvb31jL/hKZS/iU2AvaKJWL7R+TS9lKkMvysw1L7uaIi9EygsvkT7nLnS1ui6P14wuCw5ULgxbDS4X/KAt4B/tLPwKvytZ31cqQ5JNLE5vRi08k8gtI6I2LvEpjC4f7souK30AL/ypGi+WaT0v2SRgL5+Kgy/j9JEvTymeL3tcpy/xVq4v2oK0LxtguS+BH7ovbUy1L3GWqy+udZ0vTNKQLx8kgy+XEmkvIlVEL8TWHS8Z/vMuRfGpLkQIYS591Pwt2ZV1LTZ0GyzDnNAqWfXFLCgusy0+wzYu+YueLmau6C6vjCovt7peLzJ5ji/EfacvXj3DL/vl3y9emf0vrVQMMPmxFzAZDB8wq8MiMDZbJDBXxCQwodIjMAIoHjAzrBUwOWUIMBCH8C8E+9QvgEu0LwRgli80Nm0vHospL5013y7a3nku3FzcLY6x0CzPZ6coxB8SLd4nGi75vbUuRe4UL8K6bC9LkZwvV4LSLwQGCjD/VyswMmlIMG4KZTByhYAwvOuNMCg7mjAzXaUwfD+uMLc4sjCUdrIwBaOvMNEwqzAd7aQwLwqbMCJAjTCeU3gwINNUMERDLzCrCQswDZDUL1qGlS8AWjgvWMWtLnW95y0I2V8rzcRMLcCCkC5oKCwvFwKlLzmTAzDq0T0wH15/ME19qDA59NAwilT9MH83FzHpDS4xkHJEMZCgWDF44WoxaXd6MYjrgzEI2Igxut6KMQIgijHSyIYxk1uBMZkJdTFLNGIxW1RKMWirLzF0MQ8xJ7HmMCrFrTCzm2UwuasNMNO+gi/4CTsu25IhLIl27C5k5vcvvDN8MAHD7TC7BTsxMbmIMcnTvzGEm/wxq8MgMsH5STICRXgy4DGUMrNYrzJ9J8oye0bnMqDhADMu8xAzEJsfM3kQLzNjOz0zLptKM6s9VzMlimQzaqluMzr/ejN8+oEzMzuGMyyyiTOPXYwz2o6OMzpYkDOTeJEzJcyRM1UykTMk148zlyGOM+gFjDMK1Ygz+UeFM9e1gDMzWnczkpVrM3fDXzObt1Ez+EtFMxlCNzMmtCYz230YM+laCjNFC/Iyp4fVMssIvTJmRZ0ySdSDMhIOVjIudS4yRCUJMocvzTHi+pEx/dVGMQRC+TC4PYUwesfuL3wO1y5ZYZ4rkFqgLnW/oS/ovTQwipyYMH2+1TDYRRExBZQwMeU/VDGh53kx2nKMMdMumDEobqExQuinMdKcqzF5kq0x8oasMasVqDFcEKAx00KWMTebijGHHHwxtSZhMcsFSTHiDiwxpUwNMTfa4DBQCrAwQzmHML/TODDNGe8vDNyFL6B++S72atot6Ib6KRaYxi0+m8kutZNaL7WixS9jfA4wFxhCMIznbzAGY5AwhLyqMGWCwzAwQ9wwbBvtMIYR+jAPnAAxqn8CMdNvAzH2nAIx0uD+MOzC8jCH0N8wqS3NMOAPuTAPpaMwZg2QMEzxcDCwT0Awbr4RMEP30S/cf5IvhnI9LyRj3S7jLiYufYcELYTVQytxMqot2mJ3LpqQ5y7cmE4vFO6XL5zazy+bxwQwaE8eMIWKODCJsE8wWjhpMDk+fzBiOIkwc7WOMB2nkDAvuY8w42aNMP75iTCodIUwVup+MKlnaDB2WE8wEKMzMGovGTBs/QEwJonWL2ZfqC9byXovcJokL87HwS7ysFYu9haoLYN+SSzXY4orMvp6LSLwMC7ivKsuFqMJL0FYQC9arYEvNJioLzpg0C8yTPgvgx4LMOHWFjAzQSIwPI0tMA14NjDK5T0wn+U/MJgzPDC5XDQw55UqMMT2ITBnMhcwFp4KMKXb8i/los0vurOoL8fJhy98nVMv644jL6102i6voocuNqYDLu+LHi3K7l8rnl7OK+rUIS1T+vMt94JuLo4B0i530xMvnV9DL7n6cS+Y6Y4vazSpL37/xC8uTt8v8anxL3uj/C9SgwEwTpAEMARABzCDeggw+y8GMBoD/i/dEOsvBazVL7rwwS8PWK8v63SZL/CBfy/mQk0vMQsaL73A2S5AOZcuKlBKLsPt3y0=",
          "dtype": "f4"
         }
        },
        {
         "mode": "lines",
         "name": "Optimized",
         "type": "scatter",
         "x": {
          "bdata": "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",
          "dtype": "f4"
         },
         "y": {
          "bdata": "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",
          "dtype": "f4"
         }
        }
       ],
       "layout": {
        "annotations": [
         {
          "showarrow": false,
          "text": "Design λ 1.031μm",
          "x": 1.031,
          "xanchor": "left",
          "xref": "x",
          "y": 0,
          "yanchor": "bottom",
          "yref": "y domain"
         }
        ],
        "shapes": [
         {
          "line": {
           "color": "red",
           "dash": "dot"
          },
          "type": "line",
          "x0": 1.031,
          "x1": 1.031,
          "xref": "x",
          "y0": 0,
          "y1": 1,
          "yref": "y domain"
         }
        ],
        "template": {
         "data": {
          "bar": [
           {
            "error_x": {
             "color": "#2a3f5f"
            },
            "error_y": {
             "color": "#2a3f5f"
            },
            "marker": {
             "line": {
              "color": "white",
              "width": 0.5
             },
             "pattern": {
              "fillmode": "overlay",
              "size": 10,
              "solidity": 0.2
             }
            },
            "type": "bar"
           }
          ],
          "barpolar": [
           {
            "marker": {
             "line": {
              "color": "white",
              "width": 0.5
             },
             "pattern": {
              "fillmode": "overlay",
              "size": 10,
              "solidity": 0.2
             }
            },
            "type": "barpolar"
           }
          ],
          "carpet": [
           {
            "aaxis": {
             "endlinecolor": "#2a3f5f",
             "gridcolor": "#C8D4E3",
             "linecolor": "#C8D4E3",
             "minorgridcolor": "#C8D4E3",
             "startlinecolor": "#2a3f5f"
            },
            "baxis": {
             "endlinecolor": "#2a3f5f",
             "gridcolor": "#C8D4E3",
             "linecolor": "#C8D4E3",
             "minorgridcolor": "#C8D4E3",
             "startlinecolor": "#2a3f5f"
            },
            "type": "carpet"
           }
          ],
          "choropleth": [
           {
            "colorbar": {
             "outlinewidth": 0,
             "ticks": ""
            },
            "type": "choropleth"
           }
          ],
          "contour": [
           {
            "colorbar": {
             "outlinewidth": 0,
             "ticks": ""
            },
            "colorscale": [
             [
              0,
              "#0d0887"
             ],
             [
              0.1111111111111111,
              "#46039f"
             ],
             [
              0.2222222222222222,
              "#7201a8"
             ],
             [
              0.3333333333333333,
              "#9c179e"
             ],
             [
              0.4444444444444444,
              "#bd3786"
             ],
             [
              0.5555555555555556,
              "#d8576b"
             ],
             [
              0.6666666666666666,
              "#ed7953"
             ],
             [
              0.7777777777777778,
              "#fb9f3a"
             ],
             [
              0.8888888888888888,
              "#fdca26"
             ],
             [
              1,
              "#f0f921"
             ]
            ],
            "type": "contour"
           }
          ],
          "contourcarpet": [
           {
            "colorbar": {
             "outlinewidth": 0,
             "ticks": ""
            },
            "type": "contourcarpet"
           }
          ],
          "heatmap": [
           {
            "colorbar": {
             "outlinewidth": 0,
             "ticks": ""
            },
            "colorscale": [
             [
              0,
              "#0d0887"
             ],
             [
              0.1111111111111111,
              "#46039f"
             ],
             [
              0.2222222222222222,
              "#7201a8"
             ],
             [
              0.3333333333333333,
              "#9c179e"
             ],
             [
              0.4444444444444444,
              "#bd3786"
             ],
             [
              0.5555555555555556,
              "#d8576b"
             ],
             [
              0.6666666666666666,
              "#ed7953"
             ],
             [
              0.7777777777777778,
              "#fb9f3a"
             ],
             [
              0.8888888888888888,
              "#fdca26"
             ],
             [
              1,
              "#f0f921"
             ]
            ],
            "type": "heatmap"
           }
          ],
          "histogram": [
           {
            "marker": {
             "pattern": {
              "fillmode": "overlay",
              "size": 10,
              "solidity": 0.2
             }
            },
            "type": "histogram"
           }
          ],
          "histogram2d": [
           {
            "colorbar": {
             "outlinewidth": 0,
             "ticks": ""
            },
            "colorscale": [
             [
              0,
              "#0d0887"
             ],
             [
              0.1111111111111111,
              "#46039f"
             ],
             [
              0.2222222222222222,
              "#7201a8"
             ],
             [
              0.3333333333333333,
              "#9c179e"
             ],
             [
              0.4444444444444444,
              "#bd3786"
             ],
             [
              0.5555555555555556,
              "#d8576b"
             ],
             [
              0.6666666666666666,
              "#ed7953"
             ],
             [
              0.7777777777777778,
              "#fb9f3a"
             ],
             [
              0.8888888888888888,
              "#fdca26"
             ],
             [
              1,
              "#f0f921"
             ]
            ],
            "type": "histogram2d"
           }
          ],
          "histogram2dcontour": [
           {
            "colorbar": {
             "outlinewidth": 0,
             "ticks": ""
            },
            "colorscale": [
             [
              0,
              "#0d0887"
             ],
             [
              0.1111111111111111,
              "#46039f"
             ],
             [
              0.2222222222222222,
              "#7201a8"
             ],
             [
              0.3333333333333333,
              "#9c179e"
             ],
             [
              0.4444444444444444,
              "#bd3786"
             ],
             [
              0.5555555555555556,
              "#d8576b"
             ],
             [
              0.6666666666666666,
              "#ed7953"
             ],
             [
              0.7777777777777778,
              "#fb9f3a"
             ],
             [
              0.8888888888888888,
              "#fdca26"
             ],
             [
              1,
              "#f0f921"
             ]
            ],
            "type": "histogram2dcontour"
           }
          ],
          "mesh3d": [
           {
            "colorbar": {
             "outlinewidth": 0,
             "ticks": ""
            },
            "type": "mesh3d"
           }
          ],
          "parcoords": [
           {
            "line": {
             "colorbar": {
              "outlinewidth": 0,
              "ticks": ""
             }
            },
            "type": "parcoords"
           }
          ],
          "pie": [
           {
            "automargin": true,
            "type": "pie"
           }
          ],
          "scatter": [
           {
            "fillpattern": {
             "fillmode": "overlay",
             "size": 10,
             "solidity": 0.2
            },
            "type": "scatter"
           }
          ],
          "scatter3d": [
           {
            "line": {
             "colorbar": {
              "outlinewidth": 0,
              "ticks": ""
             }
            },
            "marker": {
             "colorbar": {
              "outlinewidth": 0,
              "ticks": ""
             }
            },
            "type": "scatter3d"
           }
          ],
          "scattercarpet": [
           {
            "marker": {
             "colorbar": {
              "outlinewidth": 0,
              "ticks": ""
             }
            },
            "type": "scattercarpet"
           }
          ],
          "scattergeo": [
           {
            "marker": {
             "colorbar": {
              "outlinewidth": 0,
              "ticks": ""
             }
            },
            "type": "scattergeo"
           }
          ],
          "scattergl": [
           {
            "marker": {
             "colorbar": {
              "outlinewidth": 0,
              "ticks": ""
             }
            },
            "type": "scattergl"
           }
          ],
          "scattermap": [
           {
            "marker": {
             "colorbar": {
              "outlinewidth": 0,
              "ticks": ""
             }
            },
            "type": "scattermap"
           }
          ],
          "scattermapbox": [
           {
            "marker": {
             "colorbar": {
              "outlinewidth": 0,
              "ticks": ""
             }
            },
            "type": "scattermapbox"
           }
          ],
          "scatterpolar": [
           {
            "marker": {
             "colorbar": {
              "outlinewidth": 0,
              "ticks": ""
             }
            },
            "type": "scatterpolar"
           }
          ],
          "scatterpolargl": [
           {
            "marker": {
             "colorbar": {
              "outlinewidth": 0,
              "ticks": ""
             }
            },
            "type": "scatterpolargl"
           }
          ],
          "scatterternary": [
           {
            "marker": {
             "colorbar": {
              "outlinewidth": 0,
              "ticks": ""
             }
            },
            "type": "scatterternary"
           }
          ],
          "surface": [
           {
            "colorbar": {
             "outlinewidth": 0,
             "ticks": ""
            },
            "colorscale": [
             [
              0,
              "#0d0887"
             ],
             [
              0.1111111111111111,
              "#46039f"
             ],
             [
              0.2222222222222222,
              "#7201a8"
             ],
             [
              0.3333333333333333,
              "#9c179e"
             ],
             [
              0.4444444444444444,
              "#bd3786"
             ],
             [
              0.5555555555555556,
              "#d8576b"
             ],
             [
              0.6666666666666666,
              "#ed7953"
             ],
             [
              0.7777777777777778,
              "#fb9f3a"
             ],
             [
              0.8888888888888888,
              "#fdca26"
             ],
             [
              1,
              "#f0f921"
             ]
            ],
            "type": "surface"
           }
          ],
          "table": [
           {
            "cells": {
             "fill": {
              "color": "#EBF0F8"
             },
             "line": {
              "color": "white"
             }
            },
            "header": {
             "fill": {
              "color": "#C8D4E3"
             },
             "line": {
              "color": "white"
             }
            },
            "type": "table"
           }
          ]
         },
         "layout": {
          "annotationdefaults": {
           "arrowcolor": "#2a3f5f",
           "arrowhead": 0,
           "arrowwidth": 1
          },
          "autotypenumbers": "strict",
          "coloraxis": {
           "colorbar": {
            "outlinewidth": 0,
            "ticks": ""
           }
          },
          "colorscale": {
           "diverging": [
            [
             0,
             "#8e0152"
            ],
            [
             0.1,
             "#c51b7d"
            ],
            [
             0.2,
             "#de77ae"
            ],
            [
             0.3,
             "#f1b6da"
            ],
            [
             0.4,
             "#fde0ef"
            ],
            [
             0.5,
             "#f7f7f7"
            ],
            [
             0.6,
             "#e6f5d0"
            ],
            [
             0.7,
             "#b8e186"
            ],
            [
             0.8,
             "#7fbc41"
            ],
            [
             0.9,
             "#4d9221"
            ],
            [
             1,
             "#276419"
            ]
           ],
           "sequential": [
            [
             0,
             "#0d0887"
            ],
            [
             0.1111111111111111,
             "#46039f"
            ],
            [
             0.2222222222222222,
             "#7201a8"
            ],
            [
             0.3333333333333333,
             "#9c179e"
            ],
            [
             0.4444444444444444,
             "#bd3786"
            ],
            [
             0.5555555555555556,
             "#d8576b"
            ],
            [
             0.6666666666666666,
             "#ed7953"
            ],
            [
             0.7777777777777778,
             "#fb9f3a"
            ],
            [
             0.8888888888888888,
             "#fdca26"
            ],
            [
             1,
             "#f0f921"
            ]
           ],
           "sequentialminus": [
            [
             0,
             "#0d0887"
            ],
            [
             0.1111111111111111,
             "#46039f"
            ],
            [
             0.2222222222222222,
             "#7201a8"
            ],
            [
             0.3333333333333333,
             "#9c179e"
            ],
            [
             0.4444444444444444,
             "#bd3786"
            ],
            [
             0.5555555555555556,
             "#d8576b"
            ],
            [
             0.6666666666666666,
             "#ed7953"
            ],
            [
             0.7777777777777778,
             "#fb9f3a"
            ],
            [
             0.8888888888888888,
             "#fdca26"
            ],
            [
             1,
             "#f0f921"
            ]
           ]
          },
          "colorway": [
           "#636efa",
           "#EF553B",
           "#00cc96",
           "#ab63fa",
           "#FFA15A",
           "#19d3f3",
           "#FF6692",
           "#B6E880",
           "#FF97FF",
           "#FECB52"
          ],
          "font": {
           "color": "#2a3f5f"
          },
          "geo": {
           "bgcolor": "white",
           "lakecolor": "white",
           "landcolor": "white",
           "showlakes": true,
           "showland": true,
           "subunitcolor": "#C8D4E3"
          },
          "hoverlabel": {
           "align": "left"
          },
          "hovermode": "closest",
          "mapbox": {
           "style": "light"
          },
          "paper_bgcolor": "white",
          "plot_bgcolor": "white",
          "polar": {
           "angularaxis": {
            "gridcolor": "#EBF0F8",
            "linecolor": "#EBF0F8",
            "ticks": ""
           },
           "bgcolor": "white",
           "radialaxis": {
            "gridcolor": "#EBF0F8",
            "linecolor": "#EBF0F8",
            "ticks": ""
           }
          },
          "scene": {
           "xaxis": {
            "backgroundcolor": "white",
            "gridcolor": "#DFE8F3",
            "gridwidth": 2,
            "linecolor": "#EBF0F8",
            "showbackground": true,
            "ticks": "",
            "zerolinecolor": "#EBF0F8"
           },
           "yaxis": {
            "backgroundcolor": "white",
            "gridcolor": "#DFE8F3",
            "gridwidth": 2,
            "linecolor": "#EBF0F8",
            "showbackground": true,
            "ticks": "",
            "zerolinecolor": "#EBF0F8"
           },
           "zaxis": {
            "backgroundcolor": "white",
            "gridcolor": "#DFE8F3",
            "gridwidth": 2,
            "linecolor": "#EBF0F8",
            "showbackground": true,
            "ticks": "",
            "zerolinecolor": "#EBF0F8"
           }
          },
          "shapedefaults": {
           "line": {
            "color": "#2a3f5f"
           }
          },
          "ternary": {
           "aaxis": {
            "gridcolor": "#DFE8F3",
            "linecolor": "#A2B1C6",
            "ticks": ""
           },
           "baxis": {
            "gridcolor": "#DFE8F3",
            "linecolor": "#A2B1C6",
            "ticks": ""
           },
           "bgcolor": "white",
           "caxis": {
            "gridcolor": "#DFE8F3",
            "linecolor": "#A2B1C6",
            "ticks": ""
           }
          },
          "title": {
           "x": 0.05
          },
          "xaxis": {
           "automargin": true,
           "gridcolor": "#EBF0F8",
           "linecolor": "#EBF0F8",
           "ticks": "",
           "title": {
            "standoff": 15
           },
           "zerolinecolor": "#EBF0F8",
           "zerolinewidth": 2
          },
          "yaxis": {
           "automargin": true,
           "gridcolor": "#EBF0F8",
           "linecolor": "#EBF0F8",
           "ticks": "",
           "title": {
            "standoff": 15
           },
           "zerolinecolor": "#EBF0F8",
           "zerolinewidth": 2
          }
         }
        },
        "title": {
         "text": "THW Power Spectrum Comparison"
        },
        "xaxis": {
         "title": {
          "text": "Fundamental Wavelength (μm)"
         }
        },
        "yaxis": {
         "title": {
          "text": "THW Power"
         }
        }
       }
      }
     },
     "metadata": {},
     "output_type": "display_data"
    },
    {
     "data": {
      "application/vnd.plotly.v1+json": {
       "config": {
        "plotlyServerURL": "https://plot.ly"
       },
       "data": [
        {
         "mode": "lines",
         "name": "Loss",
         "type": "scatter",
         "y": {
          "bdata": "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",
          "dtype": "f4"
         }
        }
       ],
       "layout": {
        "template": {
         "data": {
          "bar": [
           {
            "error_x": {
             "color": "#2a3f5f"
            },
            "error_y": {
             "color": "#2a3f5f"
            },
            "marker": {
             "line": {
              "color": "white",
              "width": 0.5
             },
             "pattern": {
              "fillmode": "overlay",
              "size": 10,
              "solidity": 0.2
             }
            },
            "type": "bar"
           }
          ],
          "barpolar": [
           {
            "marker": {
             "line": {
              "color": "white",
              "width": 0.5
             },
             "pattern": {
              "fillmode": "overlay",
              "size": 10,
              "solidity": 0.2
             }
            },
            "type": "barpolar"
           }
          ],
          "carpet": [
           {
            "aaxis": {
             "endlinecolor": "#2a3f5f",
             "gridcolor": "#C8D4E3",
             "linecolor": "#C8D4E3",
             "minorgridcolor": "#C8D4E3",
             "startlinecolor": "#2a3f5f"
            },
            "baxis": {
             "endlinecolor": "#2a3f5f",
             "gridcolor": "#C8D4E3",
             "linecolor": "#C8D4E3",
             "minorgridcolor": "#C8D4E3",
             "startlinecolor": "#2a3f5f"
            },
            "type": "carpet"
           }
          ],
          "choropleth": [
           {
            "colorbar": {
             "outlinewidth": 0,
             "ticks": ""
            },
            "type": "choropleth"
           }
          ],
          "contour": [
           {
            "colorbar": {
             "outlinewidth": 0,
             "ticks": ""
            },
            "colorscale": [
             [
              0,
              "#0d0887"
             ],
             [
              0.1111111111111111,
              "#46039f"
             ],
             [
              0.2222222222222222,
              "#7201a8"
             ],
             [
              0.3333333333333333,
              "#9c179e"
             ],
             [
              0.4444444444444444,
              "#bd3786"
             ],
             [
              0.5555555555555556,
              "#d8576b"
             ],
             [
              0.6666666666666666,
              "#ed7953"
             ],
             [
              0.7777777777777778,
              "#fb9f3a"
             ],
             [
              0.8888888888888888,
              "#fdca26"
             ],
             [
              1,
              "#f0f921"
             ]
            ],
            "type": "contour"
           }
          ],
          "contourcarpet": [
           {
            "colorbar": {
             "outlinewidth": 0,
             "ticks": ""
            },
            "type": "contourcarpet"
           }
          ],
          "heatmap": [
           {
            "colorbar": {
             "outlinewidth": 0,
             "ticks": ""
            },
            "colorscale": [
             [
              0,
              "#0d0887"
             ],
             [
              0.1111111111111111,
              "#46039f"
             ],
             [
              0.2222222222222222,
              "#7201a8"
             ],
             [
              0.3333333333333333,
              "#9c179e"
             ],
             [
              0.4444444444444444,
              "#bd3786"
             ],
             [
              0.5555555555555556,
              "#d8576b"
             ],
             [
              0.6666666666666666,
              "#ed7953"
             ],
             [
              0.7777777777777778,
              "#fb9f3a"
             ],
             [
              0.8888888888888888,
              "#fdca26"
             ],
             [
              1,
              "#f0f921"
             ]
            ],
            "type": "heatmap"
           }
          ],
          "histogram": [
           {
            "marker": {
             "pattern": {
              "fillmode": "overlay",
              "size": 10,
              "solidity": 0.2
             }
            },
            "type": "histogram"
           }
          ],
          "histogram2d": [
           {
            "colorbar": {
             "outlinewidth": 0,
             "ticks": ""
            },
            "colorscale": [
             [
              0,
              "#0d0887"
             ],
             [
              0.1111111111111111,
              "#46039f"
             ],
             [
              0.2222222222222222,
              "#7201a8"
             ],
             [
              0.3333333333333333,
              "#9c179e"
             ],
             [
              0.4444444444444444,
              "#bd3786"
             ],
             [
              0.5555555555555556,
              "#d8576b"
             ],
             [
              0.6666666666666666,
              "#ed7953"
             ],
             [
              0.7777777777777778,
              "#fb9f3a"
             ],
             [
              0.8888888888888888,
              "#fdca26"
             ],
             [
              1,
              "#f0f921"
             ]
            ],
            "type": "histogram2d"
           }
          ],
          "histogram2dcontour": [
           {
            "colorbar": {
             "outlinewidth": 0,
             "ticks": ""
            },
            "colorscale": [
             [
              0,
              "#0d0887"
             ],
             [
              0.1111111111111111,
              "#46039f"
             ],
             [
              0.2222222222222222,
              "#7201a8"
             ],
             [
              0.3333333333333333,
              "#9c179e"
             ],
             [
              0.4444444444444444,
              "#bd3786"
             ],
             [
              0.5555555555555556,
              "#d8576b"
             ],
             [
              0.6666666666666666,
              "#ed7953"
             ],
             [
              0.7777777777777778,
              "#fb9f3a"
             ],
             [
              0.8888888888888888,
              "#fdca26"
             ],
             [
              1,
              "#f0f921"
             ]
            ],
            "type": "histogram2dcontour"
           }
          ],
          "mesh3d": [
           {
            "colorbar": {
             "outlinewidth": 0,
             "ticks": ""
            },
            "type": "mesh3d"
           }
          ],
          "parcoords": [
           {
            "line": {
             "colorbar": {
              "outlinewidth": 0,
              "ticks": ""
             }
            },
            "type": "parcoords"
           }
          ],
          "pie": [
           {
            "automargin": true,
            "type": "pie"
           }
          ],
          "scatter": [
           {
            "fillpattern": {
             "fillmode": "overlay",
             "size": 10,
             "solidity": 0.2
            },
            "type": "scatter"
           }
          ],
          "scatter3d": [
           {
            "line": {
             "colorbar": {
              "outlinewidth": 0,
              "ticks": ""
             }
            },
            "marker": {
             "colorbar": {
              "outlinewidth": 0,
              "ticks": ""
             }
            },
            "type": "scatter3d"
           }
          ],
          "scattercarpet": [
           {
            "marker": {
             "colorbar": {
              "outlinewidth": 0,
              "ticks": ""
             }
            },
            "type": "scattercarpet"
           }
          ],
          "scattergeo": [
           {
            "marker": {
             "colorbar": {
              "outlinewidth": 0,
              "ticks": ""
             }
            },
            "type": "scattergeo"
           }
          ],
          "scattergl": [
           {
            "marker": {
             "colorbar": {
              "outlinewidth": 0,
              "ticks": ""
             }
            },
            "type": "scattergl"
           }
          ],
          "scattermap": [
           {
            "marker": {
             "colorbar": {
              "outlinewidth": 0,
              "ticks": ""
             }
            },
            "type": "scattermap"
           }
          ],
          "scattermapbox": [
           {
            "marker": {
             "colorbar": {
              "outlinewidth": 0,
              "ticks": ""
             }
            },
            "type": "scattermapbox"
           }
          ],
          "scatterpolar": [
           {
            "marker": {
             "colorbar": {
              "outlinewidth": 0,
              "ticks": ""
             }
            },
            "type": "scatterpolar"
           }
          ],
          "scatterpolargl": [
           {
            "marker": {
             "colorbar": {
              "outlinewidth": 0,
              "ticks": ""
             }
            },
            "type": "scatterpolargl"
           }
          ],
          "scatterternary": [
           {
            "marker": {
             "colorbar": {
              "outlinewidth": 0,
              "ticks": ""
             }
            },
            "type": "scatterternary"
           }
          ],
          "surface": [
           {
            "colorbar": {
             "outlinewidth": 0,
             "ticks": ""
            },
            "colorscale": [
             [
              0,
              "#0d0887"
             ],
             [
              0.1111111111111111,
              "#46039f"
             ],
             [
              0.2222222222222222,
              "#7201a8"
             ],
             [
              0.3333333333333333,
              "#9c179e"
             ],
             [
              0.4444444444444444,
              "#bd3786"
             ],
             [
              0.5555555555555556,
              "#d8576b"
             ],
             [
              0.6666666666666666,
              "#ed7953"
             ],
             [
              0.7777777777777778,
              "#fb9f3a"
             ],
             [
              0.8888888888888888,
              "#fdca26"
             ],
             [
              1,
              "#f0f921"
             ]
            ],
            "type": "surface"
           }
          ],
          "table": [
           {
            "cells": {
             "fill": {
              "color": "#EBF0F8"
             },
             "line": {
              "color": "white"
             }
            },
            "header": {
             "fill": {
              "color": "#C8D4E3"
             },
             "line": {
              "color": "white"
             }
            },
            "type": "table"
           }
          ]
         },
         "layout": {
          "annotationdefaults": {
           "arrowcolor": "#2a3f5f",
           "arrowhead": 0,
           "arrowwidth": 1
          },
          "autotypenumbers": "strict",
          "coloraxis": {
           "colorbar": {
            "outlinewidth": 0,
            "ticks": ""
           }
          },
          "colorscale": {
           "diverging": [
            [
             0,
             "#8e0152"
            ],
            [
             0.1,
             "#c51b7d"
            ],
            [
             0.2,
             "#de77ae"
            ],
            [
             0.3,
             "#f1b6da"
            ],
            [
             0.4,
             "#fde0ef"
            ],
            [
             0.5,
             "#f7f7f7"
            ],
            [
             0.6,
             "#e6f5d0"
            ],
            [
             0.7,
             "#b8e186"
            ],
            [
             0.8,
             "#7fbc41"
            ],
            [
             0.9,
             "#4d9221"
            ],
            [
             1,
             "#276419"
            ]
           ],
           "sequential": [
            [
             0,
             "#0d0887"
            ],
            [
             0.1111111111111111,
             "#46039f"
            ],
            [
             0.2222222222222222,
             "#7201a8"
            ],
            [
             0.3333333333333333,
             "#9c179e"
            ],
            [
             0.4444444444444444,
             "#bd3786"
            ],
            [
             0.5555555555555556,
             "#d8576b"
            ],
            [
             0.6666666666666666,
             "#ed7953"
            ],
            [
             0.7777777777777778,
             "#fb9f3a"
            ],
            [
             0.8888888888888888,
             "#fdca26"
            ],
            [
             1,
             "#f0f921"
            ]
           ],
           "sequentialminus": [
            [
             0,
             "#0d0887"
            ],
            [
             0.1111111111111111,
             "#46039f"
            ],
            [
             0.2222222222222222,
             "#7201a8"
            ],
            [
             0.3333333333333333,
             "#9c179e"
            ],
            [
             0.4444444444444444,
             "#bd3786"
            ],
            [
             0.5555555555555556,
             "#d8576b"
            ],
            [
             0.6666666666666666,
             "#ed7953"
            ],
            [
             0.7777777777777778,
             "#fb9f3a"
            ],
            [
             0.8888888888888888,
             "#fdca26"
            ],
            [
             1,
             "#f0f921"
            ]
           ]
          },
          "colorway": [
           "#636efa",
           "#EF553B",
           "#00cc96",
           "#ab63fa",
           "#FFA15A",
           "#19d3f3",
           "#FF6692",
           "#B6E880",
           "#FF97FF",
           "#FECB52"
          ],
          "font": {
           "color": "#2a3f5f"
          },
          "geo": {
           "bgcolor": "white",
           "lakecolor": "white",
           "landcolor": "white",
           "showlakes": true,
           "showland": true,
           "subunitcolor": "#C8D4E3"
          },
          "hoverlabel": {
           "align": "left"
          },
          "hovermode": "closest",
          "mapbox": {
           "style": "light"
          },
          "paper_bgcolor": "white",
          "plot_bgcolor": "white",
          "polar": {
           "angularaxis": {
            "gridcolor": "#EBF0F8",
            "linecolor": "#EBF0F8",
            "ticks": ""
           },
           "bgcolor": "white",
           "radialaxis": {
            "gridcolor": "#EBF0F8",
            "linecolor": "#EBF0F8",
            "ticks": ""
           }
          },
          "scene": {
           "xaxis": {
            "backgroundcolor": "white",
            "gridcolor": "#DFE8F3",
            "gridwidth": 2,
            "linecolor": "#EBF0F8",
            "showbackground": true,
            "ticks": "",
            "zerolinecolor": "#EBF0F8"
           },
           "yaxis": {
            "backgroundcolor": "white",
            "gridcolor": "#DFE8F3",
            "gridwidth": 2,
            "linecolor": "#EBF0F8",
            "showbackground": true,
            "ticks": "",
            "zerolinecolor": "#EBF0F8"
           },
           "zaxis": {
            "backgroundcolor": "white",
            "gridcolor": "#DFE8F3",
            "gridwidth": 2,
            "linecolor": "#EBF0F8",
            "showbackground": true,
            "ticks": "",
            "zerolinecolor": "#EBF0F8"
           }
          },
          "shapedefaults": {
           "line": {
            "color": "#2a3f5f"
           }
          },
          "ternary": {
           "aaxis": {
            "gridcolor": "#DFE8F3",
            "linecolor": "#A2B1C6",
            "ticks": ""
           },
           "baxis": {
            "gridcolor": "#DFE8F3",
            "linecolor": "#A2B1C6",
            "ticks": ""
           },
           "bgcolor": "white",
           "caxis": {
            "gridcolor": "#DFE8F3",
            "linecolor": "#A2B1C6",
            "ticks": ""
           }
          },
          "title": {
           "x": 0.05
          },
          "xaxis": {
           "automargin": true,
           "gridcolor": "#EBF0F8",
           "linecolor": "#EBF0F8",
           "ticks": "",
           "title": {
            "standoff": 15
           },
           "zerolinecolor": "#EBF0F8",
           "zerolinewidth": 2
          },
          "yaxis": {
           "automargin": true,
           "gridcolor": "#EBF0F8",
           "linecolor": "#EBF0F8",
           "ticks": "",
           "title": {
            "standoff": 15
           },
           "zerolinecolor": "#EBF0F8",
           "zerolinewidth": 2
          }
         }
        },
        "title": {
         "text": "Optimization Cost History"
        },
        "xaxis": {
         "title": {
          "text": "Iteration"
         }
        },
        "yaxis": {
         "title": {
          "text": "Loss"
         }
        }
       }
      }
     },
     "metadata": {},
     "output_type": "display_data"
    },
    {
     "name": "stdout",
     "output_type": "stream",
     "text": [
      "(1000,)\n"
     ]
    }
   ],
   "source": [
    "# 4. Visualize the results\n",
    "print(\"4. Visualizing optimization results...\")\n",
    "plot_domain_widths(initial_widths, optimized_widths, periodic_widths)\n",
    "plot_thw_power_spectrum(initial_widths, optimized_widths, periodic_widths, sim_params, config)\n",
    "plot_cost_history(loss_history)\n",
    "print(optimized_widths.shape)\n",
    "\n",
    "# jnp.save(f\"optimized_widths_{config.num_domains}_3.npy\", optimized_widths)"
   ]
  },
  {
   "cell_type": "code",
   "execution_count": 5,
   "id": "33240a0d",
   "metadata": {},
   "outputs": [
    {
     "name": "stdout",
     "output_type": "stream",
     "text": [
      "2. Setting up loss function and L-BFGS optimizer...\n",
      "3. Running JIT-compiled optimization...\n",
      "   - Initial THW Power: 0.0035\n"
     ]
    },
    {
     "data": {
      "application/vnd.jupyter.widget-view+json": {
       "model_id": "f7238d6d7bf747bebe1c43b6f072d906",
       "version_major": 2,
       "version_minor": 0
      },
      "text/plain": [
       "Optimizing:   0%|          | 0/500 [00:00<?, ?it/s]"
      ]
     },
     "metadata": {},
     "output_type": "display_data"
    },
    {
     "name": "stdout",
     "output_type": "stream",
     "text": [
      "   - Optimized THW Power: 0.0036\n"
     ]
    }
   ],
   "source": [
    "# 追加のoptimization\n",
    "\n",
    "# initial_widths = jnp.load(f\"optimized_widths_{config.num_domains}.npy\")\n",
    "initial_widths = optimized_widths\n",
    "config.max_iters = 500\n",
    "optimized_widths, loss_history = run_optimization(initial_widths, sim_params, config)"
   ]
  }
 ],
 "metadata": {
  "kernelspec": {
   "display_name": "mictlan (3.13.9)",
   "language": "python",
   "name": "python3"
  },
  "language_info": {
   "codemirror_mode": {
    "name": "ipython",
    "version": 3
   },
   "file_extension": ".py",
   "mimetype": "text/x-python",
   "name": "python",
   "nbconvert_exporter": "python",
   "pygments_lexer": "ipython3",
   "version": "3.13.9"
  }
 },
 "nbformat": 4,
 "nbformat_minor": 5
}
