{
 "cells": [
  {
   "cell_type": "code",
   "execution_count": 1,
   "id": "178c7358",
   "metadata": {},
   "outputs": [],
   "source": [
    "import jax\n",
    "\n",
    "jax.config.update(\"jax_platforms\", \"cpu\")"
   ]
  },
  {
   "cell_type": "code",
   "execution_count": null,
   "id": "5a485cfc",
   "metadata": {},
   "outputs": [
    {
     "name": "stdout",
     "output_type": "stream",
     "text": [
      "[CpuDevice(id=0)]\n"
     ]
    }
   ],
   "source": [
    "from collections.abc import Callable\n",
    "from dataclasses import dataclass\n",
    "\n",
    "import jax\n",
    "import jax.numpy as jnp\n",
    "import optax  # pyright: ignore[reportMissingTypeStubs]\n",
    "import plotly.graph_objects as go  # pyright: ignore[reportMissingTypeStubs]\n",
    "from jax import Array, jit\n",
    "from jax_tqdm.loop_pbar import loop_tqdm\n",
    "\n",
    "from qpm import cwes, mgoslt\n",
    "\n",
    "print(jax.devices())\n",
    "\n",
    "\n",
    "# --- Regularization Strategies ---\n",
    "def tv_regularization(domain_widths: Array, lambda_val: float) -> Array:\n",
    "    \"\"\"Total Variation (TV) regularization penalizes the absolute difference between adjacent parameter values.\"\"\"\n",
    "    return lambda_val * jnp.sum(jnp.abs(jnp.diff(domain_widths)))\n",
    "\n",
    "\n",
    "REGULARIZATION_FNS: dict[str, Callable[[Array, float], Array]] = {\n",
    "    \"tv\": tv_regularization,\n",
    "}\n",
    "\n",
    "\n",
    "# --- Data Structures for Configuration and Parameters ---\n",
    "@dataclass\n",
    "class Config:\n",
    "    design_temp: float = 70.0\n",
    "    design_wl: float = 1.031\n",
    "    num_domains: int = 1000\n",
    "    max_iters: int = 2000\n",
    "    prng_seed: int = 42\n",
    "    kappa_mag: float = 1.31e-4 / (2 / jnp.pi)  # e-5にすると序盤の効率が低すぎて勾配が消失する\n",
    "    kappa_target_length: float = 2000.0\n",
    "    wl_start: float = 1.025\n",
    "    wl_end: float = 1.035\n",
    "    num_wl_points: int = 500\n",
    "    # Regularization parameters\n",
    "    regularization: str | None = None\n",
    "    lambda_val: float = 1e-4\n",
    "\n",
    "\n",
    "@dataclass(frozen=True)\n",
    "class SimulationParameters:\n",
    "    delta_k1: Array\n",
    "    delta_k2: Array\n",
    "    kappa_array: Array\n",
    "    b_initial: Array\n",
    "\n",
    "\n",
    "# --- Core JAX Functions ---\n",
    "def make_loss_fn(\n",
    "    sim_params: SimulationParameters,\n",
    "    regularization_fn: Callable[[Array, float], Array] | None = None,\n",
    "    lambda_val: float = 0.0,\n",
    ") -> Callable[[Array], Array]:\n",
    "    \"\"\"Creates a loss function that returns the negative THW power with optional regularization.\"\"\"\n",
    "\n",
    "    @jit\n",
    "    def loss_fn(domain_widths: Array) -> Array:\n",
    "        b_final = cwes.simulate_twm(domain_widths, sim_params.kappa_array, sim_params.delta_k1, sim_params.delta_k2, sim_params.b_initial)\n",
    "        thw_power = jnp.abs(b_final[2]) ** 2\n",
    "\n",
    "        loss = -thw_power\n",
    "\n",
    "        if regularization_fn:\n",
    "            loss += regularization_fn(domain_widths, lambda_val)\n",
    "\n",
    "        return loss\n",
    "\n",
    "    return loss_fn\n",
    "\n",
    "\n",
    "# --- Workflow Functions ---\n",
    "def initialize_grating(config: Config) -> tuple[Array, Array, Array, Array, Array]:\n",
    "    \"\"\"Generates initial grating parameters based on the configuration.\"\"\"\n",
    "    print(\"1. Generating initial grating parameters...\")\n",
    "    delta_k1 = mgoslt.calc_twm_delta_k(config.design_wl, config.design_wl, config.design_temp)\n",
    "    delta_k2 = mgoslt.calc_twm_delta_k(config.design_wl, config.design_wl / 2, config.design_temp)\n",
    "\n",
    "    domain_len_shg = jnp.pi / delta_k1\n",
    "    num_domains = config.num_domains\n",
    "    print(f\"   - Base domain width from calculation: {domain_len_shg:.4f} μm\")\n",
    "    print(f\"   - Number of domains: {num_domains}\")\n",
    "\n",
    "    kappa_array = config.kappa_mag * jnp.power(-1.0, jnp.arange(num_domains))\n",
    "\n",
    "    periodic_widths = jnp.full(num_domains, domain_len_shg)\n",
    "    key = jax.random.PRNGKey(config.prng_seed)\n",
    "    noise = jax.random.normal(key, shape=(num_domains,)) * (domain_len_shg * 0.02)\n",
    "    initial_widths = periodic_widths + noise\n",
    "\n",
    "    return delta_k1, delta_k2, kappa_array, periodic_widths, initial_widths\n",
    "\n",
    "\n",
    "def run_optimization(\n",
    "    initial_widths: Array,\n",
    "    sim_params: SimulationParameters,\n",
    "    config: Config,\n",
    ") -> tuple[Array, Array]:\n",
    "    \"\"\"Sets up and runs the L-BFGS optimization.\"\"\"\n",
    "    print(\"2. Setting up loss function and L-BFGS optimizer...\")\n",
    "    regularization_fn = REGULARIZATION_FNS.get(config.regularization) if config.regularization else None\n",
    "    loss_fn = make_loss_fn(sim_params, regularization_fn, config.lambda_val)\n",
    "    solver = optax.lbfgs()\n",
    "\n",
    "    @jit\n",
    "    def run_full_optimization(initial_params: Array) -> tuple[Array, Array]:\n",
    "        initial_loss_history = jnp.zeros(config.max_iters)\n",
    "\n",
    "        @loop_tqdm(config.max_iters, desc=\"Optimizing\")\n",
    "        def step(i: int, state: tuple[Array, optax.OptState, Array]) -> tuple[optax.Params, optax.OptState, Array]:\n",
    "            params, opt_state, loss_history = state\n",
    "            value, grad = jax.value_and_grad(loss_fn)(params)\n",
    "            updates, opt_state = solver.update(grad, opt_state, params, value=value, grad=grad, value_fn=loss_fn)\n",
    "            params = optax.apply_updates(params, updates)\n",
    "            loss_history = loss_history.at[i].set(value)\n",
    "            return params, opt_state, loss_history\n",
    "\n",
    "        initial_opt_state = solver.init(initial_params)\n",
    "        optimized_params, _, loss_history = jax.lax.fori_loop(\n",
    "            0,\n",
    "            config.max_iters,\n",
    "            step,\n",
    "            (initial_params, initial_opt_state, initial_loss_history),\n",
    "        )\n",
    "        return optimized_params, loss_history\n",
    "\n",
    "    print(\"3. Running JIT-compiled optimization...\")\n",
    "    print(f\"   - Initial THW Power: {-loss_fn(initial_widths):.4f}\")\n",
    "\n",
    "    optimized_widths, loss_history = run_full_optimization(initial_widths)\n",
    "    optimized_widths.block_until_ready()\n",
    "\n",
    "    print(f\"   - Optimized THW Power: {-loss_fn(optimized_widths):.4f}\")\n",
    "    return optimized_widths, loss_history\n",
    "\n",
    "\n",
    "# --- Visualization Functions ---\n",
    "def _calculate_spectrum(domain_widths: Array, sim_params: SimulationParameters, config: Config) -> tuple[Array, Array]:\n",
    "    \"\"\"Helper function to compute the THW Power spectrum for a given grating.\"\"\"\n",
    "    wls = jnp.linspace(config.wl_start, config.wl_end, config.num_wl_points)\n",
    "    delta_k1s = mgoslt.calc_twm_delta_k(wls, wls, config.design_temp)\n",
    "    delta_k2s = mgoslt.calc_twm_delta_k(wls, wls / 2, config.design_temp)\n",
    "\n",
    "    compute_spectrum_vmap = jit(jax.vmap(cwes.simulate_twm, in_axes=(None, None, 0, 0, None)))\n",
    "\n",
    "    final_vectors = compute_spectrum_vmap(domain_widths, sim_params.kappa_array, delta_k1s, delta_k2s, sim_params.b_initial)\n",
    "    thw_powers = jnp.abs(final_vectors[:, 2]) ** 2 * 1.07 / 2.84 * 100\n",
    "    return wls, thw_powers\n",
    "\n",
    "\n",
    "def plot_domain_widths(initial_widths: Array, optimized_widths: Array, periodic_widths: Array) -> None:\n",
    "    \"\"\"Plots the domain widths before and after optimization.\"\"\"\n",
    "    fig = go.Figure()\n",
    "    fig.add_trace(go.Scatter(y=initial_widths, mode=\"lines\", name=\"Initial\", line={\"dash\": \"dash\"}))\n",
    "    fig.add_trace(go.Scatter(y=periodic_widths, mode=\"lines\", name=\"Periodic\", line={\"dash\": \"dot\"}))\n",
    "    fig.add_trace(go.Scatter(y=optimized_widths, mode=\"lines\", name=\"Optimized\"))\n",
    "    fig.update_layout(\n",
    "        title_text=\"Domain Widths Comparison\",\n",
    "        xaxis_title=\"Domain Index\",\n",
    "        yaxis_title=\"Width (μm)\",\n",
    "        template=\"plotly_white\",\n",
    "    )\n",
    "    fig.show()\n",
    "\n",
    "\n",
    "def plot_thw_power_spectrum(\n",
    "    initial_widths: Array,\n",
    "    optimized_widths: Array,\n",
    "    periodic_widths: Array,\n",
    "    sim_params: SimulationParameters,\n",
    "    config: Config,\n",
    ") -> None:\n",
    "    \"\"\"Plots the SHG Power spectrum before and after optimization.\"\"\"\n",
    "    wls, initial_effs = _calculate_spectrum(initial_widths, sim_params, config)\n",
    "    _, optimized_effs = _calculate_spectrum(optimized_widths, sim_params, config)\n",
    "    _, periodic_effs = _calculate_spectrum(periodic_widths, sim_params, config)\n",
    "\n",
    "    fig = go.Figure()\n",
    "    fig.add_trace(go.Scatter(x=wls, y=initial_effs, mode=\"lines\", name=\"Initial\", line={\"dash\": \"dash\"}))\n",
    "    fig.add_trace(go.Scatter(x=wls, y=periodic_effs, mode=\"lines\", name=\"Periodic\", line={\"dash\": \"dot\"}))\n",
    "    fig.add_trace(go.Scatter(x=wls, y=optimized_effs, mode=\"lines\", name=\"Optimized\"))\n",
    "    fig.add_vline(\n",
    "        x=config.design_wl,\n",
    "        line_dash=\"dot\",\n",
    "        line_color=\"red\",\n",
    "        annotation_text=f\"Design λ {config.design_wl}μm\",\n",
    "        annotation_position=\"bottom right\",\n",
    "    )\n",
    "    fig.update_layout(\n",
    "        title_text=\"THW Power Spectrum Comparison\",\n",
    "        xaxis_title=\"Fundamental Wavelength (μm)\",\n",
    "        yaxis_title=\"THW Power\",\n",
    "        template=\"plotly_white\",\n",
    "    )\n",
    "    fig.show()\n",
    "\n",
    "\n",
    "def plot_cost_history(loss_history: Array) -> None:\n",
    "    \"\"\"Plots the optimization cost history.\"\"\"\n",
    "    fig = go.Figure()\n",
    "    fig.add_trace(go.Scatter(y=loss_history, mode=\"lines\", name=\"Loss\"))\n",
    "    fig.update_layout(\n",
    "        title_text=\"Optimization Cost History\",\n",
    "        xaxis_title=\"Iteration\",\n",
    "        yaxis_title=\"Loss\",\n",
    "        template=\"plotly_white\",\n",
    "    )\n",
    "    fig.show()\n",
    "\n",
    "\n",
    "\"\"\"Main function to run the optimization and visualization.\"\"\"\n",
    "config = Config()"
   ]
  },
  {
   "cell_type": "code",
   "execution_count": 3,
   "id": "444bdfc0",
   "metadata": {},
   "outputs": [
    {
     "name": "stdout",
     "output_type": "stream",
     "text": [
      "1. Generating initial grating parameters...\n",
      "   - Base domain width from calculation: 3.6008 μm\n",
      "   - Number of domains: 1000\n",
      "2. Setting up loss function and L-BFGS optimizer...\n",
      "3. Running JIT-compiled optimization...\n",
      "   - Initial THW Power: 0.0000\n"
     ]
    },
    {
     "data": {
      "application/vnd.jupyter.widget-view+json": {
       "model_id": "31d5eb6372f34abe9e69a674e2a8c6dd",
       "version_major": 2,
       "version_minor": 0
      },
      "text/plain": [
       "Optimizing:   0%|          | 0/2000 [00:00<?, ?it/s]"
      ]
     },
     "metadata": {},
     "output_type": "display_data"
    },
    {
     "name": "stdout",
     "output_type": "stream",
     "text": [
      "   - Optimized THW Power: 0.0046\n"
     ]
    }
   ],
   "source": [
    "# 1. Generate initial physical parameters and domain widths\n",
    "delta_k1, delta_k2, kappa_array, periodic_widths, initial_widths = initialize_grating(config)\n",
    "# 2. Create simulation parameters\n",
    "sim_params = SimulationParameters(\n",
    "    delta_k1=delta_k1,\n",
    "    delta_k2=delta_k2,\n",
    "    kappa_array=kappa_array,\n",
    "    b_initial=jnp.array([1.0, 0.0, 0.0], dtype=jnp.complex64),\n",
    ")\n",
    "# 3. Run the optimization with the clean parameter objects\n",
    "optimized_widths, loss_history = run_optimization(initial_widths, sim_params, config)"
   ]
  },
  {
   "cell_type": "code",
   "execution_count": 4,
   "id": "665e2786",
   "metadata": {},
   "outputs": [
    {
     "name": "stdout",
     "output_type": "stream",
     "text": [
      "4. Visualizing optimization results...\n"
     ]
    },
    {
     "data": {
      "application/vnd.plotly.v1+json": {
       "config": {
        "plotlyServerURL": "https://plot.ly"
       },
       "data": [
        {
         "line": {
          "dash": "dash"
         },
         "mode": "lines",
         "name": "Initial",
         "type": "scatter",
         "y": {
          "bdata": "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",
          "dtype": "f4"
         }
        },
        {
         "line": {
          "dash": "dot"
         },
         "mode": "lines",
         "name": "Periodic",
         "type": "scatter",
         "y": {
          "bdata": "/nNmQP5zZkD+c2ZA/nNmQP5zZkD+c2ZA/nNmQP5zZkD+c2ZA/nNmQP5zZkD+c2ZA/nNmQP5zZkD+c2ZA/nNmQP5zZkD+c2ZA/nNmQP5zZkD+c2ZA/nNmQP5zZkD+c2ZA/nNmQP5zZkD+c2ZA/nNmQP5zZkD+c2ZA/nNmQP5zZkD+c2ZA/nNmQP5zZkD+c2ZA/nNmQP5zZkD+c2ZA/nNmQP5zZkD+c2ZA/nNmQP5zZkD+c2ZA/nNmQP5zZkD+c2ZA/nNmQP5zZkD+c2ZA/nNmQP5zZkD+c2ZA/nNmQP5zZkD+c2ZA/nNmQP5zZkD+c2ZA/nNmQP5zZkD+c2ZA/nNmQP5zZkD+c2ZA/nNmQP5zZkD+c2ZA/nNmQP5zZkD+c2ZA/nNmQP5zZkD+c2ZA/nNmQP5zZkD+c2ZA/nNmQP5zZkD+c2ZA/nNmQP5zZkD+c2ZA/nNmQP5zZkD+c2ZA/nNmQP5zZkD+c2ZA/nNmQP5zZkD+c2ZA/nNmQP5zZkD+c2ZA/nNmQP5zZkD+c2ZA/nNmQP5zZkD+c2ZA/nNmQP5zZkD+c2ZA/nNmQP5zZkD+c2ZA/nNmQP5zZkD+c2ZA/nNmQP5zZkD+c2ZA/nNmQP5zZkD+c2ZA/nNmQP5zZkD+c2ZA/nNmQP5zZkD+c2ZA/nNmQP5zZkD+c2ZA/nNmQP5zZkD+c2ZA/nNmQP5zZkD+c2ZA/nNmQP5zZkD+c2ZA/nNmQP5zZkD+c2ZA/nNmQP5zZkD+c2ZA/nNmQP5zZkD+c2ZA/nNmQP5zZkD+c2ZA/nNmQP5zZkD+c2ZA/nNmQP5zZkD+c2ZA/nNmQP5zZkD+c2ZA/nNmQP5zZkD+c2ZA/nNmQP5zZkD+c2ZA/nNmQP5zZkD+c2ZA/nNmQP5zZkD+c2ZA/nNmQP5zZkD+c2ZA/nNmQP5zZkD+c2ZA/nNmQP5zZkD+c2ZA/nNmQP5zZkD+c2ZA/nNmQP5zZkD+c2ZA/nNmQP5zZkD+c2ZA/nNmQP5zZkD+c2ZA/nNmQP5zZkD+c2ZA/nNmQP5zZkD+c2ZA/nNmQP5zZkD+c2ZA/nNmQP5zZkD+c2ZA/nNmQP5zZkD+c2ZA/nNmQP5zZkD+c2ZA/nNmQP5zZkD+c2ZA/nNmQP5zZkD+c2ZA/nNmQP5zZkD+c2ZA/nNmQP5zZkD+c2ZA/nNmQP5zZkD+c2ZA/nNmQP5zZkD+c2ZA/nNmQP5zZkD+c2ZA/nNmQP5zZkD+c2ZA/nNmQP5zZkD+c2ZA/nNmQP5zZkD+c2ZA/nNmQP5zZkD+c2ZA/nNmQP5zZkD+c2ZA/nNmQP5zZkD+c2ZA/nNmQP5zZkD+c2ZA/nNmQP5zZkD+c2ZA/nNmQP5zZkD+c2ZA/nNmQP5zZkD+c2ZA/nNmQP5zZkD+c2ZA/nNmQP5zZkD+c2ZA/nNmQP5zZkD+c2ZA/nNmQP5zZkD+c2ZA/nNmQP5zZkD+c2ZA/nNmQP5zZkD+c2ZA/nNmQP5zZkD+c2ZA/nNmQP5zZkD+c2ZA/nNmQP5zZkD+c2ZA/nNmQP5zZkD+c2ZA/nNmQP5zZkD+c2ZA/nNmQP5zZkD+c2ZA/nNmQP5zZkD+c2ZA/nNmQP5zZkD+c2ZA/nNmQP5zZkD+c2ZA/nNmQP5zZkD+c2ZA/nNmQP5zZkD+c2ZA/nNmQP5zZkD+c2ZA/nNmQP5zZkD+c2ZA/nNmQP5zZkD+c2ZA/nNmQP5zZkD+c2ZA/nNmQP5zZkD+c2ZA/nNmQP5zZkD+c2ZA/nNmQP5zZkD+c2ZA/nNmQP5zZkD+c2ZA/nNmQP5zZkD+c2ZA/nNmQP5zZkD+c2ZA/nNmQP5zZkD+c2ZA/nNmQP5zZkD+c2ZA/nNmQP5zZkD+c2ZA/nNmQP5zZkD+c2ZA/nNmQP5zZkD+c2ZA/nNmQP5zZkD+c2ZA/nNmQP5zZkD+c2ZA/nNmQP5zZkD+c2ZA/nNmQP5zZkD+c2ZA/nNmQP5zZkD+c2ZA/nNmQP5zZkD+c2ZA/nNmQP5zZkD+c2ZA/nNmQP5zZkD+c2ZA/nNmQP5zZkD+c2ZA/nNmQP5zZkD+c2ZA/nNmQP5zZkD+c2ZA/nNmQP5zZkD+c2ZA/nNmQP5zZkD+c2ZA/nNmQP5zZkD+c2ZA/nNmQP5zZkD+c2ZA/nNmQP5zZkD+c2ZA/nNmQP5zZkD+c2ZA/nNmQP5zZkD+c2ZA/nNmQP5zZkD+c2ZA/nNmQP5zZkD+c2ZA/nNmQP5zZkD+c2ZA/nNmQP5zZkD+c2ZA/nNmQP5zZkD+c2ZA/nNmQP5zZkD+c2ZA/nNmQP5zZkD+c2ZA/nNmQP5zZkD+c2ZA/nNmQP5zZkD+c2ZA/nNmQP5zZkD+c2ZA/nNmQP5zZkD+c2ZA/nNmQP5zZkD+c2ZA/nNmQP5zZkD+c2ZA/nNmQP5zZkD+c2ZA/nNmQP5zZkD+c2ZA/nNmQP5zZkD+c2ZA/nNmQP5zZkD+c2ZA/nNmQP5zZkD+c2ZA/nNmQP5zZkD+c2ZA/nNmQP5zZkD+c2ZA/nNmQP5zZkD+c2ZA/nNmQP5zZkD+c2ZA/nNmQP5zZkD+c2ZA/nNmQP5zZkD+c2ZA/nNmQP5zZkD+c2ZA/nNmQP5zZkD+c2ZA/nNmQP5zZkD+c2ZA/nNmQP5zZkD+c2ZA/nNmQP5zZkD+c2ZA/nNmQP5zZkD+c2ZA/nNmQP5zZkD+c2ZA/nNmQP5zZkD+c2ZA/nNmQP5zZkD+c2ZA/nNmQP5zZkD+c2ZA/nNmQP5zZkD+c2ZA/nNmQP5zZkD+c2ZA/nNmQP5zZkD+c2ZA/nNmQP5zZkD+c2ZA/nNmQP5zZkD+c2ZA/nNmQP5zZkD+c2ZA/nNmQP5zZkD+c2ZA/nNmQP5zZkD+c2ZA/nNmQP5zZkD+c2ZA/nNmQP5zZkD+c2ZA/nNmQP5zZkD+c2ZA/nNmQP5zZkD+c2ZA/nNmQP5zZkD+c2ZA/nNmQP5zZkD+c2ZA/nNmQP5zZkD+c2ZA/nNmQP5zZkD+c2ZA/nNmQP5zZkD+c2ZA/nNmQP5zZkD+c2ZA/nNmQP5zZkD+c2ZA/nNmQP5zZkD+c2ZA/nNmQP5zZkD+c2ZA/nNmQP5zZkD+c2ZA/nNmQP5zZkD+c2ZA/nNmQP5zZkD+c2ZA/nNmQP5zZkD+c2ZA/nNmQP5zZkD+c2ZA/nNmQP5zZkD+c2ZA/nNmQP5zZkD+c2ZA/nNmQP5zZkD+c2ZA/nNmQP5zZkD+c2ZA/nNmQP5zZkD+c2ZA/nNmQP5zZkD+c2ZA/nNmQP5zZkD+c2ZA/nNmQP5zZkD+c2ZA/nNmQP5zZkD+c2ZA/nNmQP5zZkD+c2ZA/nNmQP5zZkD+c2ZA/nNmQP5zZkD+c2ZA/nNmQP5zZkD+c2ZA/nNmQP5zZkD+c2ZA/nNmQP5zZkD+c2ZA/nNmQP5zZkD+c2ZA/nNmQP5zZkD+c2ZA/nNmQP5zZkD+c2ZA/nNmQP5zZkD+c2ZA/nNmQP5zZkD+c2ZA/nNmQP5zZkD+c2ZA/nNmQP5zZkD+c2ZA/nNmQP5zZkD+c2ZA/nNmQP5zZkD+c2ZA/nNmQP5zZkD+c2ZA/nNmQP5zZkD+c2ZA/nNmQP5zZkD+c2ZA/nNmQP5zZkD+c2ZA/nNmQP5zZkD+c2ZA/nNmQP5zZkD+c2ZA/nNmQP5zZkD+c2ZA/nNmQP5zZkD+c2ZA/nNmQP5zZkD+c2ZA/nNmQP5zZkD+c2ZA/nNmQP5zZkD+c2ZA/nNmQP5zZkD+c2ZA/nNmQP5zZkD+c2ZA/nNmQP5zZkD+c2ZA/nNmQP5zZkD+c2ZA/nNmQP5zZkD+c2ZA/nNmQP5zZkD+c2ZA/nNmQP5zZkD+c2ZA/nNmQP5zZkD+c2ZA/nNmQP5zZkD+c2ZA/nNmQP5zZkD+c2ZA/nNmQP5zZkD+c2ZA/nNmQP5zZkD+c2ZA/nNmQP5zZkD+c2ZA/nNmQP5zZkD+c2ZA/nNmQP5zZkD+c2ZA/nNmQP5zZkD+c2ZA/nNmQP5zZkD+c2ZA/nNmQP5zZkD+c2ZA/nNmQP5zZkD+c2ZA/nNmQP5zZkD+c2ZA/nNmQP5zZkD+c2ZA/nNmQP5zZkD+c2ZA/nNmQP5zZkD+c2ZA/nNmQP5zZkD+c2ZA/nNmQP5zZkD+c2ZA/nNmQP5zZkD+c2ZA/nNmQP5zZkD+c2ZA/nNmQP5zZkD+c2ZA/nNmQP5zZkD+c2ZA/nNmQP5zZkD+c2ZA/nNmQP5zZkD+c2ZA/nNmQP5zZkD+c2ZA/nNmQP5zZkD+c2ZA/nNmQP5zZkD+c2ZA/nNmQP5zZkD+c2ZA/nNmQP5zZkD+c2ZA/nNmQP5zZkD+c2ZA/nNmQP5zZkD+c2ZA/nNmQP5zZkD+c2ZA/nNmQP5zZkD+c2ZA/nNmQP5zZkD+c2ZA/nNmQP5zZkD+c2ZA/nNmQP5zZkD+c2ZA/nNmQP5zZkD+c2ZA/nNmQP5zZkD+c2ZA/nNmQP5zZkD+c2ZA/nNmQP5zZkD+c2ZA/nNmQP5zZkD+c2ZA/nNmQP5zZkD+c2ZA/nNmQP5zZkD+c2ZA/nNmQP5zZkD+c2ZA/nNmQP5zZkD+c2ZA/nNmQP5zZkD+c2ZA/nNmQP5zZkD+c2ZA/nNmQP5zZkD+c2ZA/nNmQP5zZkD+c2ZA/nNmQP5zZkD+c2ZA/nNmQP5zZkD+c2ZA/nNmQP5zZkD+c2ZA/nNmQP5zZkD+c2ZA/nNmQP5zZkD+c2ZA/nNmQP5zZkD+c2ZA/nNmQP5zZkD+c2ZA/nNmQP5zZkD+c2ZA/nNmQP5zZkD+c2ZA/nNmQP5zZkD+c2ZA/nNmQP5zZkD+c2ZA/nNmQP5zZkD+c2ZA/nNmQP5zZkD+c2ZA/nNmQP5zZkD+c2ZA/nNmQP5zZkD+c2ZA/nNmQP5zZkD+c2ZA/nNmQP5zZkD+c2ZA/nNmQP5zZkD+c2ZA/nNmQP5zZkD+c2ZA/nNmQP5zZkD+c2ZA/nNmQP5zZkD+c2ZA/nNmQP5zZkD+c2ZA/nNmQP5zZkD+c2ZA/nNmQP5zZkD+c2ZA/nNmQP5zZkD+c2ZA/nNmQP5zZkD+c2ZA/nNmQP5zZkD+c2ZA/nNmQP5zZkD+c2ZA/nNmQP5zZkD+c2ZA/nNmQP5zZkD+c2ZA/nNmQP5zZkD+c2ZA/nNmQP5zZkD+c2ZA/nNmQP5zZkD+c2ZA/nNmQP5zZkD+c2ZA/nNmQP5zZkD+c2ZA/nNmQP5zZkD+c2ZA/nNmQP5zZkD+c2ZA/nNmQP5zZkD+c2ZA/nNmQP5zZkD+c2ZA/nNmQP5zZkD+c2ZA/nNmQP5zZkD+c2ZA/nNmQP5zZkD+c2ZA/nNmQP5zZkD+c2ZA/nNmQP5zZkD+c2ZA/nNmQP5zZkD+c2ZA/nNmQP5zZkD+c2ZA/nNmQA==",
          "dtype": "f4"
         }
        },
        {
         "mode": "lines",
         "name": "Optimized",
         "type": "scatter",
         "y": {
          "bdata": "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",
          "dtype": "f4"
         }
        }
       ],
       "layout": {
        "template": {
         "data": {
          "bar": [
           {
            "error_x": {
             "color": "#2a3f5f"
            },
            "error_y": {
             "color": "#2a3f5f"
            },
            "marker": {
             "line": {
              "color": "white",
              "width": 0.5
             },
             "pattern": {
              "fillmode": "overlay",
              "size": 10,
              "solidity": 0.2
             }
            },
            "type": "bar"
           }
          ],
          "barpolar": [
           {
            "marker": {
             "line": {
              "color": "white",
              "width": 0.5
             },
             "pattern": {
              "fillmode": "overlay",
              "size": 10,
              "solidity": 0.2
             }
            },
            "type": "barpolar"
           }
          ],
          "carpet": [
           {
            "aaxis": {
             "endlinecolor": "#2a3f5f",
             "gridcolor": "#C8D4E3",
             "linecolor": "#C8D4E3",
             "minorgridcolor": "#C8D4E3",
             "startlinecolor": "#2a3f5f"
            },
            "baxis": {
             "endlinecolor": "#2a3f5f",
             "gridcolor": "#C8D4E3",
             "linecolor": "#C8D4E3",
             "minorgridcolor": "#C8D4E3",
             "startlinecolor": "#2a3f5f"
            },
            "type": "carpet"
           }
          ],
          "choropleth": [
           {
            "colorbar": {
             "outlinewidth": 0,
             "ticks": ""
            },
            "type": "choropleth"
           }
          ],
          "contour": [
           {
            "colorbar": {
             "outlinewidth": 0,
             "ticks": ""
            },
            "colorscale": [
             [
              0,
              "#0d0887"
             ],
             [
              0.1111111111111111,
              "#46039f"
             ],
             [
              0.2222222222222222,
              "#7201a8"
             ],
             [
              0.3333333333333333,
              "#9c179e"
             ],
             [
              0.4444444444444444,
              "#bd3786"
             ],
             [
              0.5555555555555556,
              "#d8576b"
             ],
             [
              0.6666666666666666,
              "#ed7953"
             ],
             [
              0.7777777777777778,
              "#fb9f3a"
             ],
             [
              0.8888888888888888,
              "#fdca26"
             ],
             [
              1,
              "#f0f921"
             ]
            ],
            "type": "contour"
           }
          ],
          "contourcarpet": [
           {
            "colorbar": {
             "outlinewidth": 0,
             "ticks": ""
            },
            "type": "contourcarpet"
           }
          ],
          "heatmap": [
           {
            "colorbar": {
             "outlinewidth": 0,
             "ticks": ""
            },
            "colorscale": [
             [
              0,
              "#0d0887"
             ],
             [
              0.1111111111111111,
              "#46039f"
             ],
             [
              0.2222222222222222,
              "#7201a8"
             ],
             [
              0.3333333333333333,
              "#9c179e"
             ],
             [
              0.4444444444444444,
              "#bd3786"
             ],
             [
              0.5555555555555556,
              "#d8576b"
             ],
             [
              0.6666666666666666,
              "#ed7953"
             ],
             [
              0.7777777777777778,
              "#fb9f3a"
             ],
             [
              0.8888888888888888,
              "#fdca26"
             ],
             [
              1,
              "#f0f921"
             ]
            ],
            "type": "heatmap"
           }
          ],
          "histogram": [
           {
            "marker": {
             "pattern": {
              "fillmode": "overlay",
              "size": 10,
              "solidity": 0.2
             }
            },
            "type": "histogram"
           }
          ],
          "histogram2d": [
           {
            "colorbar": {
             "outlinewidth": 0,
             "ticks": ""
            },
            "colorscale": [
             [
              0,
              "#0d0887"
             ],
             [
              0.1111111111111111,
              "#46039f"
             ],
             [
              0.2222222222222222,
              "#7201a8"
             ],
             [
              0.3333333333333333,
              "#9c179e"
             ],
             [
              0.4444444444444444,
              "#bd3786"
             ],
             [
              0.5555555555555556,
              "#d8576b"
             ],
             [
              0.6666666666666666,
              "#ed7953"
             ],
             [
              0.7777777777777778,
              "#fb9f3a"
             ],
             [
              0.8888888888888888,
              "#fdca26"
             ],
             [
              1,
              "#f0f921"
             ]
            ],
            "type": "histogram2d"
           }
          ],
          "histogram2dcontour": [
           {
            "colorbar": {
             "outlinewidth": 0,
             "ticks": ""
            },
            "colorscale": [
             [
              0,
              "#0d0887"
             ],
             [
              0.1111111111111111,
              "#46039f"
             ],
             [
              0.2222222222222222,
              "#7201a8"
             ],
             [
              0.3333333333333333,
              "#9c179e"
             ],
             [
              0.4444444444444444,
              "#bd3786"
             ],
             [
              0.5555555555555556,
              "#d8576b"
             ],
             [
              0.6666666666666666,
              "#ed7953"
             ],
             [
              0.7777777777777778,
              "#fb9f3a"
             ],
             [
              0.8888888888888888,
              "#fdca26"
             ],
             [
              1,
              "#f0f921"
             ]
            ],
            "type": "histogram2dcontour"
           }
          ],
          "mesh3d": [
           {
            "colorbar": {
             "outlinewidth": 0,
             "ticks": ""
            },
            "type": "mesh3d"
           }
          ],
          "parcoords": [
           {
            "line": {
             "colorbar": {
              "outlinewidth": 0,
              "ticks": ""
             }
            },
            "type": "parcoords"
           }
          ],
          "pie": [
           {
            "automargin": true,
            "type": "pie"
           }
          ],
          "scatter": [
           {
            "fillpattern": {
             "fillmode": "overlay",
             "size": 10,
             "solidity": 0.2
            },
            "type": "scatter"
           }
          ],
          "scatter3d": [
           {
            "line": {
             "colorbar": {
              "outlinewidth": 0,
              "ticks": ""
             }
            },
            "marker": {
             "colorbar": {
              "outlinewidth": 0,
              "ticks": ""
             }
            },
            "type": "scatter3d"
           }
          ],
          "scattercarpet": [
           {
            "marker": {
             "colorbar": {
              "outlinewidth": 0,
              "ticks": ""
             }
            },
            "type": "scattercarpet"
           }
          ],
          "scattergeo": [
           {
            "marker": {
             "colorbar": {
              "outlinewidth": 0,
              "ticks": ""
             }
            },
            "type": "scattergeo"
           }
          ],
          "scattergl": [
           {
            "marker": {
             "colorbar": {
              "outlinewidth": 0,
              "ticks": ""
             }
            },
            "type": "scattergl"
           }
          ],
          "scattermap": [
           {
            "marker": {
             "colorbar": {
              "outlinewidth": 0,
              "ticks": ""
             }
            },
            "type": "scattermap"
           }
          ],
          "scattermapbox": [
           {
            "marker": {
             "colorbar": {
              "outlinewidth": 0,
              "ticks": ""
             }
            },
            "type": "scattermapbox"
           }
          ],
          "scatterpolar": [
           {
            "marker": {
             "colorbar": {
              "outlinewidth": 0,
              "ticks": ""
             }
            },
            "type": "scatterpolar"
           }
          ],
          "scatterpolargl": [
           {
            "marker": {
             "colorbar": {
              "outlinewidth": 0,
              "ticks": ""
             }
            },
            "type": "scatterpolargl"
           }
          ],
          "scatterternary": [
           {
            "marker": {
             "colorbar": {
              "outlinewidth": 0,
              "ticks": ""
             }
            },
            "type": "scatterternary"
           }
          ],
          "surface": [
           {
            "colorbar": {
             "outlinewidth": 0,
             "ticks": ""
            },
            "colorscale": [
             [
              0,
              "#0d0887"
             ],
             [
              0.1111111111111111,
              "#46039f"
             ],
             [
              0.2222222222222222,
              "#7201a8"
             ],
             [
              0.3333333333333333,
              "#9c179e"
             ],
             [
              0.4444444444444444,
              "#bd3786"
             ],
             [
              0.5555555555555556,
              "#d8576b"
             ],
             [
              0.6666666666666666,
              "#ed7953"
             ],
             [
              0.7777777777777778,
              "#fb9f3a"
             ],
             [
              0.8888888888888888,
              "#fdca26"
             ],
             [
              1,
              "#f0f921"
             ]
            ],
            "type": "surface"
           }
          ],
          "table": [
           {
            "cells": {
             "fill": {
              "color": "#EBF0F8"
             },
             "line": {
              "color": "white"
             }
            },
            "header": {
             "fill": {
              "color": "#C8D4E3"
             },
             "line": {
              "color": "white"
             }
            },
            "type": "table"
           }
          ]
         },
         "layout": {
          "annotationdefaults": {
           "arrowcolor": "#2a3f5f",
           "arrowhead": 0,
           "arrowwidth": 1
          },
          "autotypenumbers": "strict",
          "coloraxis": {
           "colorbar": {
            "outlinewidth": 0,
            "ticks": ""
           }
          },
          "colorscale": {
           "diverging": [
            [
             0,
             "#8e0152"
            ],
            [
             0.1,
             "#c51b7d"
            ],
            [
             0.2,
             "#de77ae"
            ],
            [
             0.3,
             "#f1b6da"
            ],
            [
             0.4,
             "#fde0ef"
            ],
            [
             0.5,
             "#f7f7f7"
            ],
            [
             0.6,
             "#e6f5d0"
            ],
            [
             0.7,
             "#b8e186"
            ],
            [
             0.8,
             "#7fbc41"
            ],
            [
             0.9,
             "#4d9221"
            ],
            [
             1,
             "#276419"
            ]
           ],
           "sequential": [
            [
             0,
             "#0d0887"
            ],
            [
             0.1111111111111111,
             "#46039f"
            ],
            [
             0.2222222222222222,
             "#7201a8"
            ],
            [
             0.3333333333333333,
             "#9c179e"
            ],
            [
             0.4444444444444444,
             "#bd3786"
            ],
            [
             0.5555555555555556,
             "#d8576b"
            ],
            [
             0.6666666666666666,
             "#ed7953"
            ],
            [
             0.7777777777777778,
             "#fb9f3a"
            ],
            [
             0.8888888888888888,
             "#fdca26"
            ],
            [
             1,
             "#f0f921"
            ]
           ],
           "sequentialminus": [
            [
             0,
             "#0d0887"
            ],
            [
             0.1111111111111111,
             "#46039f"
            ],
            [
             0.2222222222222222,
             "#7201a8"
            ],
            [
             0.3333333333333333,
             "#9c179e"
            ],
            [
             0.4444444444444444,
             "#bd3786"
            ],
            [
             0.5555555555555556,
             "#d8576b"
            ],
            [
             0.6666666666666666,
             "#ed7953"
            ],
            [
             0.7777777777777778,
             "#fb9f3a"
            ],
            [
             0.8888888888888888,
             "#fdca26"
            ],
            [
             1,
             "#f0f921"
            ]
           ]
          },
          "colorway": [
           "#636efa",
           "#EF553B",
           "#00cc96",
           "#ab63fa",
           "#FFA15A",
           "#19d3f3",
           "#FF6692",
           "#B6E880",
           "#FF97FF",
           "#FECB52"
          ],
          "font": {
           "color": "#2a3f5f"
          },
          "geo": {
           "bgcolor": "white",
           "lakecolor": "white",
           "landcolor": "white",
           "showlakes": true,
           "showland": true,
           "subunitcolor": "#C8D4E3"
          },
          "hoverlabel": {
           "align": "left"
          },
          "hovermode": "closest",
          "mapbox": {
           "style": "light"
          },
          "paper_bgcolor": "white",
          "plot_bgcolor": "white",
          "polar": {
           "angularaxis": {
            "gridcolor": "#EBF0F8",
            "linecolor": "#EBF0F8",
            "ticks": ""
           },
           "bgcolor": "white",
           "radialaxis": {
            "gridcolor": "#EBF0F8",
            "linecolor": "#EBF0F8",
            "ticks": ""
           }
          },
          "scene": {
           "xaxis": {
            "backgroundcolor": "white",
            "gridcolor": "#DFE8F3",
            "gridwidth": 2,
            "linecolor": "#EBF0F8",
            "showbackground": true,
            "ticks": "",
            "zerolinecolor": "#EBF0F8"
           },
           "yaxis": {
            "backgroundcolor": "white",
            "gridcolor": "#DFE8F3",
            "gridwidth": 2,
            "linecolor": "#EBF0F8",
            "showbackground": true,
            "ticks": "",
            "zerolinecolor": "#EBF0F8"
           },
           "zaxis": {
            "backgroundcolor": "white",
            "gridcolor": "#DFE8F3",
            "gridwidth": 2,
            "linecolor": "#EBF0F8",
            "showbackground": true,
            "ticks": "",
            "zerolinecolor": "#EBF0F8"
           }
          },
          "shapedefaults": {
           "line": {
            "color": "#2a3f5f"
           }
          },
          "ternary": {
           "aaxis": {
            "gridcolor": "#DFE8F3",
            "linecolor": "#A2B1C6",
            "ticks": ""
           },
           "baxis": {
            "gridcolor": "#DFE8F3",
            "linecolor": "#A2B1C6",
            "ticks": ""
           },
           "bgcolor": "white",
           "caxis": {
            "gridcolor": "#DFE8F3",
            "linecolor": "#A2B1C6",
            "ticks": ""
           }
          },
          "title": {
           "x": 0.05
          },
          "xaxis": {
           "automargin": true,
           "gridcolor": "#EBF0F8",
           "linecolor": "#EBF0F8",
           "ticks": "",
           "title": {
            "standoff": 15
           },
           "zerolinecolor": "#EBF0F8",
           "zerolinewidth": 2
          },
          "yaxis": {
           "automargin": true,
           "gridcolor": "#EBF0F8",
           "linecolor": "#EBF0F8",
           "ticks": "",
           "title": {
            "standoff": 15
           },
           "zerolinecolor": "#EBF0F8",
           "zerolinewidth": 2
          }
         }
        },
        "title": {
         "text": "Domain Widths Comparison"
        },
        "xaxis": {
         "title": {
          "text": "Domain Index"
         }
        },
        "yaxis": {
         "title": {
          "text": "Width (μm)"
         }
        }
       }
      }
     },
     "metadata": {},
     "output_type": "display_data"
    },
    {
     "data": {
      "application/vnd.plotly.v1+json": {
       "config": {
        "plotlyServerURL": "https://plot.ly"
       },
       "data": [
        {
         "line": {
          "dash": "dash"
         },
         "mode": "lines",
         "name": "Initial",
         "type": "scatter",
         "x": {
          "bdata": "MzODP9szgz+DNIM/LDWDP9M1gz98NoM/IzeDP8w3gz90OIM/HDmDP8Q5gz9sOoM/FTuDP7w7gz9lPIM/DT2DP7Q9gz9dPoM/BT+DP60/gz9VQIM//kCDP6VBgz9NQoM/9kKDP51Dgz9GRIM/7kSDP5ZFgz8+RoM/50aDP45Hgz82SIM/30iDP4dJgz8vSoM/10qDP39Lgz8nTIM/z0yDP3dNgz8fToM/yE6DP3BPgz8YUIM/wFCDP2hRgz8QUoM/uFKDP2BTgz8IVIM/sVSDP1lVgz8AVoM/qVaDP1FXgz/5V4M/oViDP0pZgz/xWYM/mlqDP0Jbgz/pW4M/klyDPzpdgz/iXYM/il6DPzNfgz/aX4M/gmCDPythgz/TYYM/e2KDPyNjgz/LY4M/c2SDPxtlgz/DZYM/a2aDPxRngz+8Z4M/ZGiDPwxpgz+0aYM/XGqDPwRrgz+sa4M/VGyDP/1sgz+lbYM/TW6DP/Vugz+db4M/RXCDP+1wgz+WcYM/PXKDP+Zygz+Oc4M/NXSDP950gz+GdYM/LnaDP9Z2gz9/d4M/JniDP854gz93eYM/H3qDP8d6gz9ve4M/F3yDP798gz9nfYM/D36DP7d+gz9gf4M/CICDP7CAgz9YgYM/AIKDP6iCgz9Qg4M/+IODP6CEgz9JhYM/8YWDP5mGgz9Bh4M/6YeDP5GIgz85iYM/4omDP4mKgz8xi4M/2ouDP4GMgz8qjYM/0o2DP3qOgz8ij4M/y4+DP3KQgz8bkYM/w5GDP2uSgz8Tk4M/u5ODP2OUgz8LlYM/tJWDP1uWgz8Dl4M/rJeDP1SYgz/8mIM/pJmDP0yagz/0moM/nJuDP0Scgz/snIM/lZ2DPz2egz/lnoM/jZ+DPzWggz/doIM/haGDPy6igz/VooM/faODPyakgz/OpIM/dqWDPx6mgz/GpoM/bqeDPxeogz++qIM/Z6mDPw+qgz+3qoM/X6uDPwesgz+vrIM/V62DPwCugz+nroM/T6+DP/ivgz+gsIM/SLGDP/Cxgz+YsoM/QLODP+izgz+QtIM/OLWDP+G1gz+JtoM/MbeDP9m3gz+BuIM/KbmDP9G5gz96uoM/IbuDP8m7gz9yvIM/Gr2DP8K9gz9qvoM/Er+DP7q/gz9jwIM/CsGDP7PBgz9bwoM/A8ODP6vDgz9TxIM/+8SDP6PFgz9MxoM/88aDP5vHgz9EyIM/7MiDP5TJgz88yoM/5MqDP4zLgz81zIM/3MyDP4TNgz8tzoM/1c6DP33Pgz8l0IM/zdCDP3XRgz8d0oM/xtKDP23Tgz8V1IM/vtSDP2bVgz8O1oM/ttaDP17Xgz8G2IM/rtiDP1bZgz//2YM/p9qDP0/bgz/324M/n9yDP0fdgz/v3YM/l96DPz/fgz/o34M/j+CDPzjhgz/g4YM/iOKDPzDjgz/Y44M/gOSDPynlgz/Q5YM/eeaDPyHngz/J54M/ceiDPxnpgz/B6YM/aeqDPxHrgz+564M/YuyDPwrtgz+y7YM/Wu6DPwLvgz+q74M/UvCDP/rwgz+i8YM/S/KDP/Pygz+b84M/Q/SDP+v0gz+T9YM/O/aDP+P2gz+L94M/NPiDP9z4gz+E+YM/LPqDP9T6gz98+4M/JPyDP8z8gz91/YM/HP6DP8X+gz9t/4M/FQCEP70AhD9lAYQ/DQKEP7UChD9dA4Q/BQSEP64EhD9WBYQ//gWEP6YGhD9OB4Q/9geEP54IhD9GCYQ/7gmEP5cKhD8/C4Q/5wuEP48MhD83DYQ/3w2EP4cOhD8vD4Q/1w+EP4AQhD8oEYQ/0BGEP3gShD8gE4Q/yBOEP3AUhD8YFYQ/wRWEP2kWhD8QF4Q/uReEP2EYhD8JGYQ/sRmEP1kahD8BG4Q/qRuEP1EchD/6HIQ/oh2EP0oehD/yHoQ/mh+EP0IghD/qIIQ/kiGEPzoihD/jIoQ/iyOEPzMkhD/bJIQ/gyWEPysmhD/TJoQ/eyeEPyMohD/MKIQ/dCmEPxwqhD/EKoQ/bCuEPxQshD+8LIQ/ZC2EPwwuhD+1LoQ/XS+EPwUwhD+tMIQ/VTGEP/0xhD+lMoQ/TTOEP/UzhD+dNIQ/RjWEP+41hD+WNoQ/PjeEP+Y3hD+OOIQ/NjmEP945hD+GOoQ/LzuEP9c7hD9/PIQ/Jz2EP889hD93PoQ/Hz+EP8c/hD9wQIQ/F0GEP8BBhD9oQoQ/EEOEP7hDhD9gRIQ/CEWEP7BFhD9YRoQ/AUeEP6lHhD9RSIQ/+UiEP6FJhD9JSoQ/8UqEP5lLhD9BTIQ/6UyEP5JNhD86ToQ/4k6EP4pPhD8yUIQ/2lCEP4JRhD8qUoQ/0lKEP3tThD8jVIQ/y1SEP3NVhD8bVoQ/w1aEP2tXhD8TWIQ/u1iEP2RZhD8MWoQ/tFqEP1xbhD8EXIQ/rFyEP1RdhD/8XYQ/pF6EP01fhD/1X4Q/nWCEP0VhhD/tYYQ/lWKEPz1jhD/lY4Q/jWSEPzZlhD/eZYQ/hmaEPy5nhD/WZ4Q/fmiEPyZphD/OaYQ/dmqEPx5rhD/Ha4Q/b2yEPxdthD+/bYQ/Z26EPw9vhD+3b4Q/X3CEPwdxhD+wcYQ/WHKEPwBzhD+oc4Q/UHSEP/h0hD+gdYQ/SHaEP/B2hD+Zd4Q/QXiEP+l4hD+ReYQ/OXqEP+F6hD8=",
          "dtype": "f4"
         },
         "y": {
          "bdata": "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",
          "dtype": "f4"
         }
        },
        {
         "line": {
          "dash": "dot"
         },
         "mode": "lines",
         "name": "Periodic",
         "type": "scatter",
         "x": {
          "bdata": "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",
          "dtype": "f4"
         },
         "y": {
          "bdata": "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",
          "dtype": "f4"
         }
        },
        {
         "mode": "lines",
         "name": "Optimized",
         "type": "scatter",
         "x": {
          "bdata": "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",
          "dtype": "f4"
         },
         "y": {
          "bdata": "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",
          "dtype": "f4"
         }
        }
       ],
       "layout": {
        "annotations": [
         {
          "showarrow": false,
          "text": "Design λ 1.031μm",
          "x": 1.031,
          "xanchor": "left",
          "xref": "x",
          "y": 0,
          "yanchor": "bottom",
          "yref": "y domain"
         }
        ],
        "shapes": [
         {
          "line": {
           "color": "red",
           "dash": "dot"
          },
          "type": "line",
          "x0": 1.031,
          "x1": 1.031,
          "xref": "x",
          "y0": 0,
          "y1": 1,
          "yref": "y domain"
         }
        ],
        "template": {
         "data": {
          "bar": [
           {
            "error_x": {
             "color": "#2a3f5f"
            },
            "error_y": {
             "color": "#2a3f5f"
            },
            "marker": {
             "line": {
              "color": "white",
              "width": 0.5
             },
             "pattern": {
              "fillmode": "overlay",
              "size": 10,
              "solidity": 0.2
             }
            },
            "type": "bar"
           }
          ],
          "barpolar": [
           {
            "marker": {
             "line": {
              "color": "white",
              "width": 0.5
             },
             "pattern": {
              "fillmode": "overlay",
              "size": 10,
              "solidity": 0.2
             }
            },
            "type": "barpolar"
           }
          ],
          "carpet": [
           {
            "aaxis": {
             "endlinecolor": "#2a3f5f",
             "gridcolor": "#C8D4E3",
             "linecolor": "#C8D4E3",
             "minorgridcolor": "#C8D4E3",
             "startlinecolor": "#2a3f5f"
            },
            "baxis": {
             "endlinecolor": "#2a3f5f",
             "gridcolor": "#C8D4E3",
             "linecolor": "#C8D4E3",
             "minorgridcolor": "#C8D4E3",
             "startlinecolor": "#2a3f5f"
            },
            "type": "carpet"
           }
          ],
          "choropleth": [
           {
            "colorbar": {
             "outlinewidth": 0,
             "ticks": ""
            },
            "type": "choropleth"
           }
          ],
          "contour": [
           {
            "colorbar": {
             "outlinewidth": 0,
             "ticks": ""
            },
            "colorscale": [
             [
              0,
              "#0d0887"
             ],
             [
              0.1111111111111111,
              "#46039f"
             ],
             [
              0.2222222222222222,
              "#7201a8"
             ],
             [
              0.3333333333333333,
              "#9c179e"
             ],
             [
              0.4444444444444444,
              "#bd3786"
             ],
             [
              0.5555555555555556,
              "#d8576b"
             ],
             [
              0.6666666666666666,
              "#ed7953"
             ],
             [
              0.7777777777777778,
              "#fb9f3a"
             ],
             [
              0.8888888888888888,
              "#fdca26"
             ],
             [
              1,
              "#f0f921"
             ]
            ],
            "type": "contour"
           }
          ],
          "contourcarpet": [
           {
            "colorbar": {
             "outlinewidth": 0,
             "ticks": ""
            },
            "type": "contourcarpet"
           }
          ],
          "heatmap": [
           {
            "colorbar": {
             "outlinewidth": 0,
             "ticks": ""
            },
            "colorscale": [
             [
              0,
              "#0d0887"
             ],
             [
              0.1111111111111111,
              "#46039f"
             ],
             [
              0.2222222222222222,
              "#7201a8"
             ],
             [
              0.3333333333333333,
              "#9c179e"
             ],
             [
              0.4444444444444444,
              "#bd3786"
             ],
             [
              0.5555555555555556,
              "#d8576b"
             ],
             [
              0.6666666666666666,
              "#ed7953"
             ],
             [
              0.7777777777777778,
              "#fb9f3a"
             ],
             [
              0.8888888888888888,
              "#fdca26"
             ],
             [
              1,
              "#f0f921"
             ]
            ],
            "type": "heatmap"
           }
          ],
          "histogram": [
           {
            "marker": {
             "pattern": {
              "fillmode": "overlay",
              "size": 10,
              "solidity": 0.2
             }
            },
            "type": "histogram"
           }
          ],
          "histogram2d": [
           {
            "colorbar": {
             "outlinewidth": 0,
             "ticks": ""
            },
            "colorscale": [
             [
              0,
              "#0d0887"
             ],
             [
              0.1111111111111111,
              "#46039f"
             ],
             [
              0.2222222222222222,
              "#7201a8"
             ],
             [
              0.3333333333333333,
              "#9c179e"
             ],
             [
              0.4444444444444444,
              "#bd3786"
             ],
             [
              0.5555555555555556,
              "#d8576b"
             ],
             [
              0.6666666666666666,
              "#ed7953"
             ],
             [
              0.7777777777777778,
              "#fb9f3a"
             ],
             [
              0.8888888888888888,
              "#fdca26"
             ],
             [
              1,
              "#f0f921"
             ]
            ],
            "type": "histogram2d"
           }
          ],
          "histogram2dcontour": [
           {
            "colorbar": {
             "outlinewidth": 0,
             "ticks": ""
            },
            "colorscale": [
             [
              0,
              "#0d0887"
             ],
             [
              0.1111111111111111,
              "#46039f"
             ],
             [
              0.2222222222222222,
              "#7201a8"
             ],
             [
              0.3333333333333333,
              "#9c179e"
             ],
             [
              0.4444444444444444,
              "#bd3786"
             ],
             [
              0.5555555555555556,
              "#d8576b"
             ],
             [
              0.6666666666666666,
              "#ed7953"
             ],
             [
              0.7777777777777778,
              "#fb9f3a"
             ],
             [
              0.8888888888888888,
              "#fdca26"
             ],
             [
              1,
              "#f0f921"
             ]
            ],
            "type": "histogram2dcontour"
           }
          ],
          "mesh3d": [
           {
            "colorbar": {
             "outlinewidth": 0,
             "ticks": ""
            },
            "type": "mesh3d"
           }
          ],
          "parcoords": [
           {
            "line": {
             "colorbar": {
              "outlinewidth": 0,
              "ticks": ""
             }
            },
            "type": "parcoords"
           }
          ],
          "pie": [
           {
            "automargin": true,
            "type": "pie"
           }
          ],
          "scatter": [
           {
            "fillpattern": {
             "fillmode": "overlay",
             "size": 10,
             "solidity": 0.2
            },
            "type": "scatter"
           }
          ],
          "scatter3d": [
           {
            "line": {
             "colorbar": {
              "outlinewidth": 0,
              "ticks": ""
             }
            },
            "marker": {
             "colorbar": {
              "outlinewidth": 0,
              "ticks": ""
             }
            },
            "type": "scatter3d"
           }
          ],
          "scattercarpet": [
           {
            "marker": {
             "colorbar": {
              "outlinewidth": 0,
              "ticks": ""
             }
            },
            "type": "scattercarpet"
           }
          ],
          "scattergeo": [
           {
            "marker": {
             "colorbar": {
              "outlinewidth": 0,
              "ticks": ""
             }
            },
            "type": "scattergeo"
           }
          ],
          "scattergl": [
           {
            "marker": {
             "colorbar": {
              "outlinewidth": 0,
              "ticks": ""
             }
            },
            "type": "scattergl"
           }
          ],
          "scattermap": [
           {
            "marker": {
             "colorbar": {
              "outlinewidth": 0,
              "ticks": ""
             }
            },
            "type": "scattermap"
           }
          ],
          "scattermapbox": [
           {
            "marker": {
             "colorbar": {
              "outlinewidth": 0,
              "ticks": ""
             }
            },
            "type": "scattermapbox"
           }
          ],
          "scatterpolar": [
           {
            "marker": {
             "colorbar": {
              "outlinewidth": 0,
              "ticks": ""
             }
            },
            "type": "scatterpolar"
           }
          ],
          "scatterpolargl": [
           {
            "marker": {
             "colorbar": {
              "outlinewidth": 0,
              "ticks": ""
             }
            },
            "type": "scatterpolargl"
           }
          ],
          "scatterternary": [
           {
            "marker": {
             "colorbar": {
              "outlinewidth": 0,
              "ticks": ""
             }
            },
            "type": "scatterternary"
           }
          ],
          "surface": [
           {
            "colorbar": {
             "outlinewidth": 0,
             "ticks": ""
            },
            "colorscale": [
             [
              0,
              "#0d0887"
             ],
             [
              0.1111111111111111,
              "#46039f"
             ],
             [
              0.2222222222222222,
              "#7201a8"
             ],
             [
              0.3333333333333333,
              "#9c179e"
             ],
             [
              0.4444444444444444,
              "#bd3786"
             ],
             [
              0.5555555555555556,
              "#d8576b"
             ],
             [
              0.6666666666666666,
              "#ed7953"
             ],
             [
              0.7777777777777778,
              "#fb9f3a"
             ],
             [
              0.8888888888888888,
              "#fdca26"
             ],
             [
              1,
              "#f0f921"
             ]
            ],
            "type": "surface"
           }
          ],
          "table": [
           {
            "cells": {
             "fill": {
              "color": "#EBF0F8"
             },
             "line": {
              "color": "white"
             }
            },
            "header": {
             "fill": {
              "color": "#C8D4E3"
             },
             "line": {
              "color": "white"
             }
            },
            "type": "table"
           }
          ]
         },
         "layout": {
          "annotationdefaults": {
           "arrowcolor": "#2a3f5f",
           "arrowhead": 0,
           "arrowwidth": 1
          },
          "autotypenumbers": "strict",
          "coloraxis": {
           "colorbar": {
            "outlinewidth": 0,
            "ticks": ""
           }
          },
          "colorscale": {
           "diverging": [
            [
             0,
             "#8e0152"
            ],
            [
             0.1,
             "#c51b7d"
            ],
            [
             0.2,
             "#de77ae"
            ],
            [
             0.3,
             "#f1b6da"
            ],
            [
             0.4,
             "#fde0ef"
            ],
            [
             0.5,
             "#f7f7f7"
            ],
            [
             0.6,
             "#e6f5d0"
            ],
            [
             0.7,
             "#b8e186"
            ],
            [
             0.8,
             "#7fbc41"
            ],
            [
             0.9,
             "#4d9221"
            ],
            [
             1,
             "#276419"
            ]
           ],
           "sequential": [
            [
             0,
             "#0d0887"
            ],
            [
             0.1111111111111111,
             "#46039f"
            ],
            [
             0.2222222222222222,
             "#7201a8"
            ],
            [
             0.3333333333333333,
             "#9c179e"
            ],
            [
             0.4444444444444444,
             "#bd3786"
            ],
            [
             0.5555555555555556,
             "#d8576b"
            ],
            [
             0.6666666666666666,
             "#ed7953"
            ],
            [
             0.7777777777777778,
             "#fb9f3a"
            ],
            [
             0.8888888888888888,
             "#fdca26"
            ],
            [
             1,
             "#f0f921"
            ]
           ],
           "sequentialminus": [
            [
             0,
             "#0d0887"
            ],
            [
             0.1111111111111111,
             "#46039f"
            ],
            [
             0.2222222222222222,
             "#7201a8"
            ],
            [
             0.3333333333333333,
             "#9c179e"
            ],
            [
             0.4444444444444444,
             "#bd3786"
            ],
            [
             0.5555555555555556,
             "#d8576b"
            ],
            [
             0.6666666666666666,
             "#ed7953"
            ],
            [
             0.7777777777777778,
             "#fb9f3a"
            ],
            [
             0.8888888888888888,
             "#fdca26"
            ],
            [
             1,
             "#f0f921"
            ]
           ]
          },
          "colorway": [
           "#636efa",
           "#EF553B",
           "#00cc96",
           "#ab63fa",
           "#FFA15A",
           "#19d3f3",
           "#FF6692",
           "#B6E880",
           "#FF97FF",
           "#FECB52"
          ],
          "font": {
           "color": "#2a3f5f"
          },
          "geo": {
           "bgcolor": "white",
           "lakecolor": "white",
           "landcolor": "white",
           "showlakes": true,
           "showland": true,
           "subunitcolor": "#C8D4E3"
          },
          "hoverlabel": {
           "align": "left"
          },
          "hovermode": "closest",
          "mapbox": {
           "style": "light"
          },
          "paper_bgcolor": "white",
          "plot_bgcolor": "white",
          "polar": {
           "angularaxis": {
            "gridcolor": "#EBF0F8",
            "linecolor": "#EBF0F8",
            "ticks": ""
           },
           "bgcolor": "white",
           "radialaxis": {
            "gridcolor": "#EBF0F8",
            "linecolor": "#EBF0F8",
            "ticks": ""
           }
          },
          "scene": {
           "xaxis": {
            "backgroundcolor": "white",
            "gridcolor": "#DFE8F3",
            "gridwidth": 2,
            "linecolor": "#EBF0F8",
            "showbackground": true,
            "ticks": "",
            "zerolinecolor": "#EBF0F8"
           },
           "yaxis": {
            "backgroundcolor": "white",
            "gridcolor": "#DFE8F3",
            "gridwidth": 2,
            "linecolor": "#EBF0F8",
            "showbackground": true,
            "ticks": "",
            "zerolinecolor": "#EBF0F8"
           },
           "zaxis": {
            "backgroundcolor": "white",
            "gridcolor": "#DFE8F3",
            "gridwidth": 2,
            "linecolor": "#EBF0F8",
            "showbackground": true,
            "ticks": "",
            "zerolinecolor": "#EBF0F8"
           }
          },
          "shapedefaults": {
           "line": {
            "color": "#2a3f5f"
           }
          },
          "ternary": {
           "aaxis": {
            "gridcolor": "#DFE8F3",
            "linecolor": "#A2B1C6",
            "ticks": ""
           },
           "baxis": {
            "gridcolor": "#DFE8F3",
            "linecolor": "#A2B1C6",
            "ticks": ""
           },
           "bgcolor": "white",
           "caxis": {
            "gridcolor": "#DFE8F3",
            "linecolor": "#A2B1C6",
            "ticks": ""
           }
          },
          "title": {
           "x": 0.05
          },
          "xaxis": {
           "automargin": true,
           "gridcolor": "#EBF0F8",
           "linecolor": "#EBF0F8",
           "ticks": "",
           "title": {
            "standoff": 15
           },
           "zerolinecolor": "#EBF0F8",
           "zerolinewidth": 2
          },
          "yaxis": {
           "automargin": true,
           "gridcolor": "#EBF0F8",
           "linecolor": "#EBF0F8",
           "ticks": "",
           "title": {
            "standoff": 15
           },
           "zerolinecolor": "#EBF0F8",
           "zerolinewidth": 2
          }
         }
        },
        "title": {
         "text": "THW Power Spectrum Comparison"
        },
        "xaxis": {
         "title": {
          "text": "Fundamental Wavelength (μm)"
         }
        },
        "yaxis": {
         "title": {
          "text": "THW Power"
         }
        }
       }
      }
     },
     "metadata": {},
     "output_type": "display_data"
    },
    {
     "data": {
      "application/vnd.plotly.v1+json": {
       "config": {
        "plotlyServerURL": "https://plot.ly"
       },
       "data": [
        {
         "mode": "lines",
         "name": "Loss",
         "type": "scatter",
         "y": {
          "bdata": "psuUtZ+NmrXaPa61yAT2tVJeFraWdGO2s3uKttD0nLYaOry2qTELt5avQLcgLV234KJmt2xDkrdbfsy3Cqnpt0O5Abi+Kw24HF8tuLOGULjb4JG4r66euOnnrrhzysq48BX0uNtkDbl1LxW52xwquWn9NLnwPzq5EeZLuebqULleYmK5YLV9uSEribn1waO5d/WqubzFtblVO765GjjcuSuE77lE/PS5jFAAuhzZArrfEwm6SvYUugB6GLpkVCG6HUYkuupzJ7oO9y664rU+ugdwUrqyhlq6D3hluhy6a7rHFnK62H17up0Ogrp21Ii6IeGLughBjrpf6JC66E2YuiNwm7p+laG6XN2mupwGqbrRqKu6Ci6wuleGsbrAfbK6Zo60ugXfubpko766cK/EulmFxrpduci6sBHLuvULzboKTtC6WX7Uukw817pVLNq6Do3cukSg3bodIOC6xLXgurfZ4br3OuO6HjbkujOa5bqZ1ue65gLsurp/8Lo4j/O6vVD1uki59rpPgfi6LE36ut5b+7oD5Pu62D79ukm7/rp+aAC7R5QAu7YZAbuDrgG7Uh8Du79ZBLt6HQW76uEFu4qEBrtrKAe7wtEHu3o6CbtaXgm7ERQKu6baCrt1vAu7RV0MuziaDbsn0Q270UMOu+WtDrtYOQ+7zRMQuzUNEbtLfxG73kYSu2q8Ers6VhO7qCQUu+grFbtDoRW7IekVu6ZgFrsTGxe72esXuyAPGbtSoxm7Tjgauy8sG7uSxRu7Eqsdu9keHrv2jx67peUeu0PqH7t1SSG7aeghu56eIrt9ASO7N7kju8uWJLsF7yW7wDgnuxq5J7sUeCi7KCcpu0+aKbvwjiq7CRcsu/5GLLtxdC27wdstu+xMLrto+S67Vocwu3zlMLtC9DK7Y6Ezu9YWNbt1hza77Gk3u1YPOLsfmzi7A705ux5YOrsAbju7tD08uztOPbtJ6j27v64+u+M7QLuJrEC7rWtBuyrVQbvrC0K7m3tCu/4uQ7sEm0S7g21Fuyy/Rru0Ske7YbtHu5M+SLss4Ei7Hu1Ju6qZSruhA0u7XZpLu+VNTLuR5Uy7oBJOu0qfTrsXW0+7DgJQux8mUbtKtlG7s1NSu571Urt6gVO75nNUu8BYVbt81VW7VUFWu5aUVrsGG1e7OFRYu3vrWLtikFm7gzFau9K8Wrsbxly7MCxdu12YXbvkYV67cXJfuxeWYLvtd2K7+u9iu6UZZLtP9GS73WtluxmKZbu2Dma7fjxmuwmKZruIAWe7CUtnu0OmZ7vW6me7vyxou77HaLte7Wi7iI1puxLuabvMHmq7+U5qu13FartuOmu7Yfpru3FAbLsnjmy75Bxtu0YDbrvrUG675O5uu99cb7vLzm+7DTVwu+m3cLtb4HC7fRxxu1O+cbvIDHK78eJyu0pTc7uHp3O7lOtzu49JdLsCx3S75ZJ1u9TedbvuJXa78V92uyGQdruo2Xa7LBF3u1NLd7vFnne7bQJ4u06IeLsXLXm7QGt5u3Ghebu6TXq7yqR6u7d7e7tEuXu7q+57uzwcfLtrgHy7KOd8u2EbfbtLN327Qkl9u8x/fbucrH276TN+uyBpfrsUon67k8J+uy7pfrslR3+7jYN/u4rAf7tF53+7LgOAu6QOgLuMN4C7EG6Au72RgLsqu4C779OAu5/fgLsjDYG73RaBu8g9gburWoG7PH2Buw2ogbsA0IG7gQaCu2EUgrumKYK7rjWCu8dFgrtwaoK7InKCu+ySgrsQtIK7ctSCuynqgrtg/oK7MSGDu68rg7tMQIO7c1eDu3dlg7twmIO7l7+Du4Pkg7vw74O7hfqDu0sThLtZKoS7AUaEu8BXhLuDeIS7KIaEu1SahLuStoS7qb6EuwDKhLs12IS73ySFu4lZhbsJhIW71baFu4vJhbt93oW7lOqFu3L8hbs2HYa74yqGu85ChruQU4a7RGqGuyWGhrvNi4a7Jq+Gu023hrtVx4a70N2Guw31hrvND4e7TSSHuxUxh7tgUIe7KmKHuwZ+h7tek4e7e7OHuwjSh7s17Ie7LvOHu0n9h7seCIi7XBqIuwckiLtvNIi7jzqIu3lLiLsTUoi7nW+Iuzt9iLtZi4i7g46IuzKZiLvtnoi7WaqIu2SsiLvkv4i7RsmIu4XbiLue8Ii7sPOIu+cMibv1FIm7cB2Ju8kribsFRYm7Y2SJuxJ9ibsYi4m7xJiJu0yxibu3x4m7b+OJu9r4ibtoCoq7WSCKu1AwirsRO4q7RUiKu/RPiruMZ4q7THWKuxWQirsImIq7yq+Ku1XAirt90Iq7ntuKu8TsirtI9oq7LvmKu678irsPBYu7vguLu2gYi7vrLYu7CUCLu0lWi7u4a4u7s3OLu+OKi7u8lou7h6qLuyC+i7s7xou7M9SLu/Lji7t864u7BviLu+oIjLtbEYy7qB+Mu2gojLspLoy7EjWMu/Q4jLsmS4y7YFiMu2pejLu3Y4y7wmaMu79pjLsVcoy70YCMuxuEjLvVk4y7EZ2Mu3qojLtxsoy7eLyMu8XEjLsSyYy7g86Mu8zSjLus14y7OuSMu9PqjLtS9oy7dvyMu/QCjbsHEY27MhaNu5oejbuDJo27sCqNu08zjbvQO427DUmNuyRLjbseUI27W1eNuxZcjbuiYI27zmmNuxNsjbsvco27IXSNu1V3jbtFfY27lIONuweKjbtnjI275o2Nu+eTjbvUmo27W6WNu9K4jbsBvY27SsaNux/Njbsk0Y27UtaNu+Hfjbsl5Y27B+mNu0zwjbtv9o27TP+Nu9wCjrvGCY67Rw2Ou5AQjruQEo67uRWOu9kZjrvLGo67UB2Ou2IijrtsJ467zSuOuyc2jrvTOY67B0KOuw9IjrtRTI67a06Ou79Rjrt3VI67c1aOuxdYjrsqXY67GWOOu4ZpjrsJbY676nCOu3Z3jruye467fn6Ou2uBjruMgo67pISOu7KFjrtkiI6754yOuzaOjruokY67LpWOu1OZjrt6m467fZ6Ou/2gjrtIo467v6SOu0injrsVq4674a2Ou1qwjrsnsY67kbWOu4y3jrtluY670rqOuwC8jru9v467GcOOu+bGjrtNyY67b82Ou3LQjrtg0467Y9iOu8Ldjrvo3o67S+COu/7hjrt044671+aOuxfsjruM8I67dvSOu//2jrtm+o67Ov+Ou/IAj7uFBY+7sQaPuxYIj7uGDY+7bRSPu54Wj7vhHY+7bB+Pu58gj7uYIY+70SOPu7cnj7tyKI+7pC2Puw4yj7t1NY+7FjmPu0BAj7v/S4+71U6Pu9pXj7uXXY+7b2OPu/dpj7uGbI+7KHSPu993j7tUe4+7hoSPu8qUj7u/no+7daWPuye3j7s7vo+7C8SPuz3Tj7sj1Y+7IeKPuz/tj7vQAZC7LAmQuxkTkLtEIZC70imQu9gwkLskP5C7MFKQu69nkLv7a5C7v3qQu+mFkLvGmJC7QaqQu3SykLvgwJC7ns6Qu9/bkLuo6JC7OviQu/H/kLuzCJG7wg+Ru34YkbvOIJG7pSqRuwo5kbvtPJG7IU2Ru1JWkbuWX5G772+Ru7h1kbtNi5G7kZiRuz+ikbvGqJG7ILGRu4W9kbsH0ZG77NORu/Hpkbt98JG7q/WRu4r4kbuz+5G78gmSuxQRkrt6FZK74hmSu7gjkruFKpK7SzGSu/E8krtLQpK700SSuytGkruMR5K7dkqSu4lOkrt7VpK7SlqSuyBfkrsfZJK7SWaSu0xqkrtKbZK7q26Su3hxkruCdJK7H3aSu6l9krvShpK7GouSuwGUkrvQmZK7/52Su4mfkrt2opK7+KSSu9ankrt8q5K7mq6Su4i0kruMtpK75beSu9S5krvsvJK7jb2Su23AkrtdwZK7tcGSu8fCkrtVxJK7UMWSu2jGkruwx5K74cmSuzHLkrt5zpK7xdGSuxbSkrv31JK7oNWSu/TVkrvh15K7xNiSu/DZkrvR2pK7796Su33gkrt95JK7FemSu7HqkrtX7JK7+O6Su6jxkruo85K7WPiSu5H5krsR/ZK7Tv6Suz8Ak7slA5O7vQOTu1gFk7uWCpO71A2Tu+EPk7sREpO79BKTuy0Uk7umFZO7JxiTu+sak7tBG5O7aByTu1kdk7uEH5O7kCKTuzknk7vrKZO7wS2Tu1Awk7tvM5O7bDWTu545k7sKOpO7OjuTu+Q9k7vyQpO7g0eTu9pLk7tRTpO7NVKTu2lUk7ufV5O7+FiTu+1Zk7u9WpO7OVyTu25dk7vdXpO7VWOTu4tlk7vXaJO70WqTu8Nsk7txbpO7tW+Tu69xk7tmcpO783OTu2x2k7u1d5O79HmTu0V7k7u/fJO7q32Tu02Ak7tRhJO7toWTu2GIk7v9iZO7z4qTu0uMk7uSjZO7446Tu8CPk7ubkJO7aZGTu3SSk7tQlZO7IpeTu7GZk7t/m5O70pyTuxCdk7v4npO71Z+Tu2Wgk7stoZO7s6OTu8qmk7sVqJO7A6mTu+2pk7sLq5O7pa2Tuzqwk7uwsZO79LOTu1+1k7t1tpO787iTu0q8k7uvvZO7R7+Tu0bAk7ujwZO7VcOTu0XEk7vmxpO7kMeTu/DHk7txyZO7ccqTu/TLk7tFzpO78c+Tu37Rk7uR05O7TNWTu77Vk7vg1pO7dteTu8HYk7tR2pO7T9yTu6Dfk7tf4ZO7aeKTu5Djk7u945O7lOWTuyTmk7vu5pO7PeiTuznpk7tT6pO7jOyTuwnuk7vP75O7xPCTu7Txk7sP9JO7IvWTu6X2k7sm95O7NfiTu4T4k7vl+ZO7d/uTu/j9k7u+/5O7DQKUu2UElLvkBZS7dgaUuwsKlLvqCpS7XAuUu0QMlLsmDZS7Lw6Uu7IOlLtgEJS70BGUu84TlLtNFZS7CheUu6UZlLu9GZS7ERuUu0IblLucG5S7uBuUuzMclLvMHJS7Vh6Uu64glLudIZS7aySUu50llLtrJpS7LSeUu/wnlLuOKJS78SiUu2kplLsvKpS7YSuUu5UslLvvLZS76y6Uu0wwlLvGMZS79DGUu4oylLsjM5S7lTOUu6A0lLvhNZS7hDaUuxA3lLtIN5S7KDiUu2Q5lLsoOpS7CjuUuyI7lLv5O5S7YjyUu8M9lLu5PpS7Aj+Uu5c/lLubQJS7bEKUuz1ElLsyRZS7lUaUu4JHlLs7SJS75UiUu29JlLvWSZS7YkqUuzxMlLvtTZS7ik+Uu3NQlLtdUZS7LFKUu89SlLucU5S7uFSUuzxVlLvzVZS74laUuxFYlLv6WJS7nVmUu39alLsUW5S7zVuUu21dlLvdXZS71F6Uu51flLsvYZS7z2GUu7VilLuMY5S7GmSUu9RklLtVZpS76GaUu7hnlLstaJS7u2iUu+JplLt5a5S7B2yUu5VtlLttbpS7EW+Uu6FvlLs6cJS7tXCUu2lxlLvTcZS7TnKUuwlzlLtwc5S7I3SUu2h0lLuTdJS7YHWUu5J2lLvBdpS7eHeUu593lLvTd5S7cniUu4x5lLu8eZS7O3qUu0p6lLtbepS763qUu6J7lLvse5S7iXyUuwZ9lLtCfZS7kH2Uu/l9lLtjfpS7KX+Uu6p/lLsSgJS7qICUu1eBlLt3gZS7TYKUu8WClLvOgpS7XIOUu8GDlLuOhJS7BIWUu1KFlLsWhpS72oaUu1mHlLvyh5S7/4eUuzWIlLuhiJS7GYmUuyCKlLtdi5S7qouUuz2MlLuIjJS7voyUuzuNlLu4jZS7tI6UuymPlLuBj5S7u4+Uu4GQlLsYkZS7PZGUu4SRlLu4kZS7/5GUuz+SlLtikpS7+5KUu7CTlLsclJS7m5SUu5KVlLsJlpS7zZaUu2SXlLvdl5S7RpiUu8qYlLsVmZS7WpmUu9GZlLt/mpS7XZuUu0GclLupnJS7Ip2Uu+GdlLsinpS7D5+Uu12flLv6n5S7bqCUu9yglLuaoZS7paKUuzOjlLu3pJS7V6WUu4CllLvWpZS7/aWUuy6mlLuAppS736aUu5+nlLsNqJS7LaiUuyeolLuDqJS7naiUu++olLt9qZS73qmUuyaqlLtbqpS7nqqUu+iqlLuJq5S7J6yUu26tlLvNrZS7xa6UuyqvlLtAr5S7tK+Uu4qwlLsBspS7c7KUu9mzlLs4tJS72bSUu1u1lLvatZS7VbaUu822lLuut5S7obiUu+K5lLtQupS7EruUu2m7lLvIu5S7TbyUuxS9lLt9vZS74L2UuzC+lLucvpS7ZL+UuzrAlLumwJS7iMGUuyHClLtbwpS7L8OUu1XDlLu/w5S7kMSUu4DFlLuWxpS76saUu5bHlLuGyJS758iUu4/JlLtpypS7DcyUu63MlLv0zJS7Oc2Uu7/NlLuOzpS7Us+Uu13QlLvU0JS7o9GUu1TSlLtz05S7jdSUuxvVlLuy1ZS7ANaUu6jWlLtk15S7q9eUu5TYlLs62ZS7pNmUu8PalLsg3JS7rd2Uu3HelLte35S7puCUuybilLtR5JS7r+SUuwbllLub5ZS7+uaUu4/qlLuv7JS7cu+UuzvwlLvy8JS7bfGUu8LylLty9JS7FvWUuw72lLuE9pS7bfeUu7f4lLt6+ZS7qPqUu9H7lLst/ZS7A/+Uu24AlbtqAZW74QGVu34ClbvJA5W7QgWVu94GlbvKCJW7BgqVu9AKlbv8C5W7fgyVuzENlbsrDpW7hg6VuwgQlbvjEZW7fROVu6kUlbvkFZW7AxeVuw8YlbtjGJW73hiVu9walbvLG5W7KByVu70clbv+HJW7mR2Vu1YflbuvH5W7LiKVu0gjlbuhI5W7qiSVuwkllbueJZW7PiaVuyUnlbvyJ5W7NCmVuxkqlbsHLJW7HC2Vu2wulbu+LpW7Zy+VuzIwlbuMMJW7ZzGVu0sylbutMpW7ITOVu4U0lbtINZW7GDeVu4c4lbtuOZW7BTqVuzg7lbvLO5W7SDyVu708lbvDPJW7Rz2Vu6g9lbtGPpW7bD+Vu1BAlbvsQJW7R0GVu9VBlbvsQpW7NUOVuwtElbv5RJW7lEWVu2ZGlbuZRpW7O0eVu+JHlbuhSZW7S0qVu+xLlbuMTJW700yVuwROlbumTpW780+Vu25QlbtrUZW7R1KVuyRUlbv6VJW7iVWVuyBWlbv+VpW7/VeVuzxYlbvxWJW7MFmVu3xZlbv1WZW7LluVu29blbs3XZW7rV2Vu0lelbvlXpW79l6Vu49flbvqX5W7LWCVu4thlbvmYZW72mKVuyhjlbuhY5W72WOVu0lklbvpZJW7DGWVu7Bllbt9ZpW7KmeVu7Bnlbt1aJW7oGiVu+tolbuLaZW7JWqVuyJrlbtUbJW70myVu8ZtlbtMbpW7M2+Vuz9wlbuLcJW70HCVu65xlbuEcpW7RXOVu2B0lbuadJW7tnSVuwt1lbuedZW7uXaVu1Z3lbtud5W7WniVu6p4lbsWeZW73XmVuyV7lbtTe5W7wXuVu/97lbtYfJW79HyVu4l9lbvsfZW7bH6Vu6Z+lbvNfpW7TX+Vu/l/lbswgJW76YCVu22Blbt5gpW7EYOVu3aDlbu5g5W7LoSVu4uElbvzhJW74IWVu0WHlbvhh5W7CIiVu5KIlbvbiJW7rYmVuz6Klbs7i5W7q4uVu0uMlbvPjJW7I42Vu6eNlbvmjZW7LY6Vu5GOlbsdj5W7hY+Vu/aPlbvdkJW7HJGVu8aRlbs9kpW72ZKVu3uTlbvLk5W7F5SVuyiUlbuYlJW73pSVuwCVlbsflZW7W5WVu2iVlbuilZW7NZaVu4OWlbv8lpW7I5eVu1uXlbuSl5W7AJiVu0WYlbuGmJW7+5iVu4GZlbsJmpW7V5qVuxeblbvgm5W7SpyVu4KclbvdnJW7DZ2Vu32dlbutnZW7Pp6Vu2uelbsAn5W7mJ+Vu/KflbsxoJW7TaCVu3mglbvVoJW79qCVuzKhlbt4oZW7rKGVu72hlbsWopW7R6KVu4yilbuzopW7/6KVu5Sjlbuwo5W706OVu/ijlbsSpJW7LqSVu2iklbtqpJW7ZKSVu2+klbvjpJW7UKWVuwWmlbt6ppW76KaVuxqnlbuEp5W756eVuziolbs1qJW7faiVu6GolbuuqJW79KiVu36plbuhqZW79amVu3WqlbupqpW77qqVuwirlbtAq5W7aauVu2erlbt4q5W7m6uVu/arlbsFrJW7QayVu2qslburrJW76KyVu/WslbtArZW7d62Vu5mtlbsSrpW7Ga6Vu2+ulbuUrpW7i66Vu66ulbshr5W7k6+Vu7avlbsOsJW7G7CVuzywlbuFsJW7rLCVu+KwlbsSsZW7O7GVu4exlbvOsZW7EbKVuxaylbs/spW7Q7KVu2aylbuxspW7CLOVu0Szlbtps5W7a7OVu+uzlbsjtJW7ZrSVu7K0lbvotJW7IrWVu261lbu8tZW7FbaVu0S2lbuMtpW7t7aVu7u2lbv8tpW7JbeVuyG3lbtGt5W7areVu6u3lbv7t5W7AriVu4a4lbuOuJW7qLiVu9G4lbsFuZW7LrmVu2K5lbt4uZW7kLmVu8y5lbvxuZW7/LmVu0y6lbt8upW7o7qVu+a6lbs8u5W7M7uVu4G7lbvCu5W71LuVuy68lbtvvJW7qLyVu9W8lbvivJW7Qb2Vu4a9lbuLvZW7CL6Vu/+9lbsPvpW7Eb6Vuym+lbuXvpW7or6Vu8u+lbv2vpW7V7+Vu5K/lbusv5W787+Vu1DAlbtbwJW7kcCVu7bAlbv9wJW7HMGVu03BlbuBwZW7qMGVu8LBlbv0wZW7B8KVuw7ClbsHwpW7LMKVuyjClbsowpW7TcKVu1rClbuqwpW7ssKVu7/Clbu7wpW7t8KVu7TClbvXwpW7/MKVuwnDlbsWw5W7W8OVu1LDlbt+w5W7tMOVu/XDlbsXxJW7VsSVu5XElbuMxJW7n8SVu83ElbvcxJW7FMWVuw7FlbtexZW7acWVu6rFlbu3xZW79cWVuwvGlbshxpW7LsaVu1DGlbtxxpW7d8aVu4LGlbuixpW7BMeVuyvHlbtYx5W7bseVu2zHlbuBx5W7nceVu53Hlbudx5W7l8eVu5PHlbvAx5W7xseVu+XHlbsHyJW7H8iVu0/IlbtgyJW7a8iVu2vIlbtryJW7dMiVu3TIlbt0yJW7dMiVu3TIlbt0yJW7eMiVu5bIlbuWyJW7lsiVu6zIlbujyJW718iVuwTJlbsnyZW7MsmVuyvJlbtXyZW7XcmVu4LJlbt5yZW7j8mVu8nJlbvjyZW748mVu+rJlbvqyZW7/cmVux7KlbsxypW7KcqVu2XKlbuTypW7z8qVu83Klbv2ypW7BcuVuybLlbs3y5W7SsuVu1zLlbufy5W7yMuVuwnMlbsPzJW7J8yVuzbMlbtSzJW7UsyVu3XMlbt3zJW7fsyVu3XMlbt3zJW7rcyVu7/Mlbu/zJW73cyVu+jMlbvwzJW7Bs2Vuy/NlbtazZW7Vs2Vu1jNlbtlzZW7bM2Vu3nNlbt5zZW7ec2Vu3nNlbt0zZW7d82Vu3fNlbtwzZW7e82Vu3vNlbt7zZW7l82Vu5nNlbuozZW7tc2Vu7XNlbutzZW7t82Vu8fNlbvczZW72s2Vu97NlbvlzZW7+M2VuwfOlbsHzpW7Nc6VuzvOlbtEzpW7Uc6Vu2LOlbuBzpW7fM6Vu37OlbubzpW7lM6Vu6jOlbu7zpW7zM6Vu8TOlbvTzpW7z86Vu8jOlbvZzpW7/s6VuwfPlbsJz5W7Es+Vu0jPlbtGz5W7SM+Vu1nPlbtzz5W7ec+Vu4LPlbujz5W7rc+Vu7LPlbutz5W70s+Vu93Plbvdz5W788+Vu/PPlbvzz5W788+Vu/fPlbv3z5W798+Vu/fPlbv3z5W798+Vu/fPlbv3z5W798+Vu/fPlbv3z5W7+8+Vu/vPlbsC0JW7+8+Vu/vPlbsV0JW7DdCVuxXQlbst0JW7MdCVuzHQlbsp0JW7INCVuzrQlbs80JW7PtCVu13QlbuE0JW7hNCVu4HQlbuG0JW7jNCVu5HQlbur0JW74dCVu9zQlbve0JW73tCVu+HQlbvw0JW78tCVu//QlbsS0ZW7EtGVuxLRlbsS0ZW7EtGVuxLRlbsS0ZW7EtGVuxLRlbsS0ZW7EtGVuxLRlbsS0ZW7EtGVuxLRlbsS0ZW7EtGVuxLRlbsS0ZW7EtGVuxLRlbsS0ZW7EtGVuxLRlbsS0ZW7EtGVuxLRlbsS0ZW7EtGVuxLRlbsS0ZW7EtGVuxLRlbsS0ZW7EtGVuxLRlbsS0ZW7EtGVuxLRlbsS0ZW7EtGVuxLRlbsS0ZW7EtGVuxLRlbsS0ZW7EtGVuxLRlbsS0ZW7EtGVuxLRlbsS0ZW7EtGVuxLRlbsS0ZW7EtGVuxLRlbsS0ZW7EtGVuxLRlbsS0ZW7EtGVuxLRlbsS0ZW7EtGVuxLRlbsS0ZW7EtGVuxLRlbsS0ZW7EtGVuxLRlbsS0ZW7EtGVuxLRlbsS0ZW7EtGVuxLRlbsS0ZW7EtGVuxLRlbsS0ZW7EtGVuxLRlbsS0ZW7EtGVuxLRlbsS0ZW7EtGVuxLRlbsS0ZW7EtGVuxLRlbsS0ZW7EtGVuxLRlbsS0ZW7EtGVuxLRlbsS0ZW7EtGVuxLRlbsS0ZW7EtGVuxLRlbsS0ZW7EtGVuxLRlbsS0ZW7EtGVuxLRlbs=",
          "dtype": "f4"
         }
        }
       ],
       "layout": {
        "template": {
         "data": {
          "bar": [
           {
            "error_x": {
             "color": "#2a3f5f"
            },
            "error_y": {
             "color": "#2a3f5f"
            },
            "marker": {
             "line": {
              "color": "white",
              "width": 0.5
             },
             "pattern": {
              "fillmode": "overlay",
              "size": 10,
              "solidity": 0.2
             }
            },
            "type": "bar"
           }
          ],
          "barpolar": [
           {
            "marker": {
             "line": {
              "color": "white",
              "width": 0.5
             },
             "pattern": {
              "fillmode": "overlay",
              "size": 10,
              "solidity": 0.2
             }
            },
            "type": "barpolar"
           }
          ],
          "carpet": [
           {
            "aaxis": {
             "endlinecolor": "#2a3f5f",
             "gridcolor": "#C8D4E3",
             "linecolor": "#C8D4E3",
             "minorgridcolor": "#C8D4E3",
             "startlinecolor": "#2a3f5f"
            },
            "baxis": {
             "endlinecolor": "#2a3f5f",
             "gridcolor": "#C8D4E3",
             "linecolor": "#C8D4E3",
             "minorgridcolor": "#C8D4E3",
             "startlinecolor": "#2a3f5f"
            },
            "type": "carpet"
           }
          ],
          "choropleth": [
           {
            "colorbar": {
             "outlinewidth": 0,
             "ticks": ""
            },
            "type": "choropleth"
           }
          ],
          "contour": [
           {
            "colorbar": {
             "outlinewidth": 0,
             "ticks": ""
            },
            "colorscale": [
             [
              0,
              "#0d0887"
             ],
             [
              0.1111111111111111,
              "#46039f"
             ],
             [
              0.2222222222222222,
              "#7201a8"
             ],
             [
              0.3333333333333333,
              "#9c179e"
             ],
             [
              0.4444444444444444,
              "#bd3786"
             ],
             [
              0.5555555555555556,
              "#d8576b"
             ],
             [
              0.6666666666666666,
              "#ed7953"
             ],
             [
              0.7777777777777778,
              "#fb9f3a"
             ],
             [
              0.8888888888888888,
              "#fdca26"
             ],
             [
              1,
              "#f0f921"
             ]
            ],
            "type": "contour"
           }
          ],
          "contourcarpet": [
           {
            "colorbar": {
             "outlinewidth": 0,
             "ticks": ""
            },
            "type": "contourcarpet"
           }
          ],
          "heatmap": [
           {
            "colorbar": {
             "outlinewidth": 0,
             "ticks": ""
            },
            "colorscale": [
             [
              0,
              "#0d0887"
             ],
             [
              0.1111111111111111,
              "#46039f"
             ],
             [
              0.2222222222222222,
              "#7201a8"
             ],
             [
              0.3333333333333333,
              "#9c179e"
             ],
             [
              0.4444444444444444,
              "#bd3786"
             ],
             [
              0.5555555555555556,
              "#d8576b"
             ],
             [
              0.6666666666666666,
              "#ed7953"
             ],
             [
              0.7777777777777778,
              "#fb9f3a"
             ],
             [
              0.8888888888888888,
              "#fdca26"
             ],
             [
              1,
              "#f0f921"
             ]
            ],
            "type": "heatmap"
           }
          ],
          "histogram": [
           {
            "marker": {
             "pattern": {
              "fillmode": "overlay",
              "size": 10,
              "solidity": 0.2
             }
            },
            "type": "histogram"
           }
          ],
          "histogram2d": [
           {
            "colorbar": {
             "outlinewidth": 0,
             "ticks": ""
            },
            "colorscale": [
             [
              0,
              "#0d0887"
             ],
             [
              0.1111111111111111,
              "#46039f"
             ],
             [
              0.2222222222222222,
              "#7201a8"
             ],
             [
              0.3333333333333333,
              "#9c179e"
             ],
             [
              0.4444444444444444,
              "#bd3786"
             ],
             [
              0.5555555555555556,
              "#d8576b"
             ],
             [
              0.6666666666666666,
              "#ed7953"
             ],
             [
              0.7777777777777778,
              "#fb9f3a"
             ],
             [
              0.8888888888888888,
              "#fdca26"
             ],
             [
              1,
              "#f0f921"
             ]
            ],
            "type": "histogram2d"
           }
          ],
          "histogram2dcontour": [
           {
            "colorbar": {
             "outlinewidth": 0,
             "ticks": ""
            },
            "colorscale": [
             [
              0,
              "#0d0887"
             ],
             [
              0.1111111111111111,
              "#46039f"
             ],
             [
              0.2222222222222222,
              "#7201a8"
             ],
             [
              0.3333333333333333,
              "#9c179e"
             ],
             [
              0.4444444444444444,
              "#bd3786"
             ],
             [
              0.5555555555555556,
              "#d8576b"
             ],
             [
              0.6666666666666666,
              "#ed7953"
             ],
             [
              0.7777777777777778,
              "#fb9f3a"
             ],
             [
              0.8888888888888888,
              "#fdca26"
             ],
             [
              1,
              "#f0f921"
             ]
            ],
            "type": "histogram2dcontour"
           }
          ],
          "mesh3d": [
           {
            "colorbar": {
             "outlinewidth": 0,
             "ticks": ""
            },
            "type": "mesh3d"
           }
          ],
          "parcoords": [
           {
            "line": {
             "colorbar": {
              "outlinewidth": 0,
              "ticks": ""
             }
            },
            "type": "parcoords"
           }
          ],
          "pie": [
           {
            "automargin": true,
            "type": "pie"
           }
          ],
          "scatter": [
           {
            "fillpattern": {
             "fillmode": "overlay",
             "size": 10,
             "solidity": 0.2
            },
            "type": "scatter"
           }
          ],
          "scatter3d": [
           {
            "line": {
             "colorbar": {
              "outlinewidth": 0,
              "ticks": ""
             }
            },
            "marker": {
             "colorbar": {
              "outlinewidth": 0,
              "ticks": ""
             }
            },
            "type": "scatter3d"
           }
          ],
          "scattercarpet": [
           {
            "marker": {
             "colorbar": {
              "outlinewidth": 0,
              "ticks": ""
             }
            },
            "type": "scattercarpet"
           }
          ],
          "scattergeo": [
           {
            "marker": {
             "colorbar": {
              "outlinewidth": 0,
              "ticks": ""
             }
            },
            "type": "scattergeo"
           }
          ],
          "scattergl": [
           {
            "marker": {
             "colorbar": {
              "outlinewidth": 0,
              "ticks": ""
             }
            },
            "type": "scattergl"
           }
          ],
          "scattermap": [
           {
            "marker": {
             "colorbar": {
              "outlinewidth": 0,
              "ticks": ""
             }
            },
            "type": "scattermap"
           }
          ],
          "scattermapbox": [
           {
            "marker": {
             "colorbar": {
              "outlinewidth": 0,
              "ticks": ""
             }
            },
            "type": "scattermapbox"
           }
          ],
          "scatterpolar": [
           {
            "marker": {
             "colorbar": {
              "outlinewidth": 0,
              "ticks": ""
             }
            },
            "type": "scatterpolar"
           }
          ],
          "scatterpolargl": [
           {
            "marker": {
             "colorbar": {
              "outlinewidth": 0,
              "ticks": ""
             }
            },
            "type": "scatterpolargl"
           }
          ],
          "scatterternary": [
           {
            "marker": {
             "colorbar": {
              "outlinewidth": 0,
              "ticks": ""
             }
            },
            "type": "scatterternary"
           }
          ],
          "surface": [
           {
            "colorbar": {
             "outlinewidth": 0,
             "ticks": ""
            },
            "colorscale": [
             [
              0,
              "#0d0887"
             ],
             [
              0.1111111111111111,
              "#46039f"
             ],
             [
              0.2222222222222222,
              "#7201a8"
             ],
             [
              0.3333333333333333,
              "#9c179e"
             ],
             [
              0.4444444444444444,
              "#bd3786"
             ],
             [
              0.5555555555555556,
              "#d8576b"
             ],
             [
              0.6666666666666666,
              "#ed7953"
             ],
             [
              0.7777777777777778,
              "#fb9f3a"
             ],
             [
              0.8888888888888888,
              "#fdca26"
             ],
             [
              1,
              "#f0f921"
             ]
            ],
            "type": "surface"
           }
          ],
          "table": [
           {
            "cells": {
             "fill": {
              "color": "#EBF0F8"
             },
             "line": {
              "color": "white"
             }
            },
            "header": {
             "fill": {
              "color": "#C8D4E3"
             },
             "line": {
              "color": "white"
             }
            },
            "type": "table"
           }
          ]
         },
         "layout": {
          "annotationdefaults": {
           "arrowcolor": "#2a3f5f",
           "arrowhead": 0,
           "arrowwidth": 1
          },
          "autotypenumbers": "strict",
          "coloraxis": {
           "colorbar": {
            "outlinewidth": 0,
            "ticks": ""
           }
          },
          "colorscale": {
           "diverging": [
            [
             0,
             "#8e0152"
            ],
            [
             0.1,
             "#c51b7d"
            ],
            [
             0.2,
             "#de77ae"
            ],
            [
             0.3,
             "#f1b6da"
            ],
            [
             0.4,
             "#fde0ef"
            ],
            [
             0.5,
             "#f7f7f7"
            ],
            [
             0.6,
             "#e6f5d0"
            ],
            [
             0.7,
             "#b8e186"
            ],
            [
             0.8,
             "#7fbc41"
            ],
            [
             0.9,
             "#4d9221"
            ],
            [
             1,
             "#276419"
            ]
           ],
           "sequential": [
            [
             0,
             "#0d0887"
            ],
            [
             0.1111111111111111,
             "#46039f"
            ],
            [
             0.2222222222222222,
             "#7201a8"
            ],
            [
             0.3333333333333333,
             "#9c179e"
            ],
            [
             0.4444444444444444,
             "#bd3786"
            ],
            [
             0.5555555555555556,
             "#d8576b"
            ],
            [
             0.6666666666666666,
             "#ed7953"
            ],
            [
             0.7777777777777778,
             "#fb9f3a"
            ],
            [
             0.8888888888888888,
             "#fdca26"
            ],
            [
             1,
             "#f0f921"
            ]
           ],
           "sequentialminus": [
            [
             0,
             "#0d0887"
            ],
            [
             0.1111111111111111,
             "#46039f"
            ],
            [
             0.2222222222222222,
             "#7201a8"
            ],
            [
             0.3333333333333333,
             "#9c179e"
            ],
            [
             0.4444444444444444,
             "#bd3786"
            ],
            [
             0.5555555555555556,
             "#d8576b"
            ],
            [
             0.6666666666666666,
             "#ed7953"
            ],
            [
             0.7777777777777778,
             "#fb9f3a"
            ],
            [
             0.8888888888888888,
             "#fdca26"
            ],
            [
             1,
             "#f0f921"
            ]
           ]
          },
          "colorway": [
           "#636efa",
           "#EF553B",
           "#00cc96",
           "#ab63fa",
           "#FFA15A",
           "#19d3f3",
           "#FF6692",
           "#B6E880",
           "#FF97FF",
           "#FECB52"
          ],
          "font": {
           "color": "#2a3f5f"
          },
          "geo": {
           "bgcolor": "white",
           "lakecolor": "white",
           "landcolor": "white",
           "showlakes": true,
           "showland": true,
           "subunitcolor": "#C8D4E3"
          },
          "hoverlabel": {
           "align": "left"
          },
          "hovermode": "closest",
          "mapbox": {
           "style": "light"
          },
          "paper_bgcolor": "white",
          "plot_bgcolor": "white",
          "polar": {
           "angularaxis": {
            "gridcolor": "#EBF0F8",
            "linecolor": "#EBF0F8",
            "ticks": ""
           },
           "bgcolor": "white",
           "radialaxis": {
            "gridcolor": "#EBF0F8",
            "linecolor": "#EBF0F8",
            "ticks": ""
           }
          },
          "scene": {
           "xaxis": {
            "backgroundcolor": "white",
            "gridcolor": "#DFE8F3",
            "gridwidth": 2,
            "linecolor": "#EBF0F8",
            "showbackground": true,
            "ticks": "",
            "zerolinecolor": "#EBF0F8"
           },
           "yaxis": {
            "backgroundcolor": "white",
            "gridcolor": "#DFE8F3",
            "gridwidth": 2,
            "linecolor": "#EBF0F8",
            "showbackground": true,
            "ticks": "",
            "zerolinecolor": "#EBF0F8"
           },
           "zaxis": {
            "backgroundcolor": "white",
            "gridcolor": "#DFE8F3",
            "gridwidth": 2,
            "linecolor": "#EBF0F8",
            "showbackground": true,
            "ticks": "",
            "zerolinecolor": "#EBF0F8"
           }
          },
          "shapedefaults": {
           "line": {
            "color": "#2a3f5f"
           }
          },
          "ternary": {
           "aaxis": {
            "gridcolor": "#DFE8F3",
            "linecolor": "#A2B1C6",
            "ticks": ""
           },
           "baxis": {
            "gridcolor": "#DFE8F3",
            "linecolor": "#A2B1C6",
            "ticks": ""
           },
           "bgcolor": "white",
           "caxis": {
            "gridcolor": "#DFE8F3",
            "linecolor": "#A2B1C6",
            "ticks": ""
           }
          },
          "title": {
           "x": 0.05
          },
          "xaxis": {
           "automargin": true,
           "gridcolor": "#EBF0F8",
           "linecolor": "#EBF0F8",
           "ticks": "",
           "title": {
            "standoff": 15
           },
           "zerolinecolor": "#EBF0F8",
           "zerolinewidth": 2
          },
          "yaxis": {
           "automargin": true,
           "gridcolor": "#EBF0F8",
           "linecolor": "#EBF0F8",
           "ticks": "",
           "title": {
            "standoff": 15
           },
           "zerolinecolor": "#EBF0F8",
           "zerolinewidth": 2
          }
         }
        },
        "title": {
         "text": "Optimization Cost History"
        },
        "xaxis": {
         "title": {
          "text": "Iteration"
         }
        },
        "yaxis": {
         "title": {
          "text": "Loss"
         }
        }
       }
      }
     },
     "metadata": {},
     "output_type": "display_data"
    },
    {
     "name": "stdout",
     "output_type": "stream",
     "text": [
      "(1000,)\n"
     ]
    }
   ],
   "source": [
    "# 4. Visualize the results\n",
    "print(\"4. Visualizing optimization results...\")\n",
    "plot_domain_widths(initial_widths, optimized_widths, periodic_widths)\n",
    "plot_thw_power_spectrum(initial_widths, optimized_widths, periodic_widths, sim_params, config)\n",
    "plot_cost_history(loss_history)\n",
    "print(optimized_widths.shape)\n",
    "\n",
    "# jnp.save(f\"optimized_widths_{config.num_domains}.npy\", optimized_widths)"
   ]
  },
  {
   "cell_type": "code",
   "execution_count": null,
   "id": "33240a0d",
   "metadata": {},
   "outputs": [],
   "source": [
    "# 追加のoptimization\n",
    "\n",
    "initial_widths = jnp.load(f\"optimized_widths_{config.num_domains}.npy\")\n",
    "initial_widths = optimized_widths\n",
    "config.max_iters = 100\n",
    "optimized_widths, loss_history = run_optimization(initial_widths, sim_params, config)"
   ]
  }
 ],
 "metadata": {
  "kernelspec": {
   "display_name": "mictlan",
   "language": "python",
   "name": "python3"
  },
  "language_info": {
   "codemirror_mode": {
    "name": "ipython",
    "version": 3
   },
   "file_extension": ".py",
   "mimetype": "text/x-python",
   "name": "python",
   "nbconvert_exporter": "python",
   "pygments_lexer": "ipython3",
   "version": "3.13.8"
  }
 },
 "nbformat": 4,
 "nbformat_minor": 5
}
