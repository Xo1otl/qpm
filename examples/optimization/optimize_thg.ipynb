{
 "cells": [
  {
   "cell_type": "code",
   "execution_count": 31,
   "id": "178c7358",
   "metadata": {},
   "outputs": [],
   "source": [
    "import jax\n",
    "\n",
    "jax.config.update(\"jax_platforms\", \"cpu\")"
   ]
  },
  {
   "cell_type": "code",
   "execution_count": null,
   "id": "5a485cfc",
   "metadata": {},
   "outputs": [
    {
     "name": "stdout",
     "output_type": "stream",
     "text": [
      "[CpuDevice(id=0)]\n"
     ]
    }
   ],
   "source": [
    "from collections.abc import Callable\n",
    "from dataclasses import dataclass\n",
    "\n",
    "import optax\n",
    "import plotly.graph_objects as go\n",
    "from jax import Array, jit\n",
    "from jax import numpy as jnp\n",
    "from jax_tqdm.loop_pbar import loop_tqdm\n",
    "\n",
    "from qpm import cwes, mgoslt\n",
    "\n",
    "print(jax.devices())\n",
    "\n",
    "\n",
    "# --- Regularization Strategies ---\n",
    "def tv_regularization(domain_widths: Array, lambda_val: float) -> Array:\n",
    "    \"\"\"Total Variation (TV) regularization penalizes the absolute difference between adjacent parameter values.\"\"\"\n",
    "    return lambda_val * jnp.sum(jnp.abs(jnp.diff(domain_widths)))\n",
    "\n",
    "\n",
    "REGULARIZATION_FNS: dict[str, Callable[[Array, float], Array]] = {\n",
    "    \"tv\": tv_regularization,\n",
    "}\n",
    "\n",
    "\n",
    "# --- Data Structures for Configuration and Parameters ---\n",
    "@dataclass\n",
    "class Config:\n",
    "    design_temp: float = 70.0\n",
    "    design_wl: float = 1.031\n",
    "    num_domains: int = 321 + 1168\n",
    "    max_iters: int = 100\n",
    "    prng_seed: int = 42\n",
    "    kappa_mag: float = 1.31e-4 / (2 / jnp.pi)  # e-5にすると序盤の効率が低すぎて勾配が消失する\n",
    "    wl_start: float = 1.025\n",
    "    wl_end: float = 1.035\n",
    "    num_wl_points: int = 500\n",
    "    # Regularization parameters\n",
    "    regularization: str | None = None\n",
    "    lambda_val: float = 1e-4\n",
    "\n",
    "\n",
    "@dataclass(frozen=True)\n",
    "class SimulationParameters:\n",
    "    delta_k1: Array\n",
    "    delta_k2: Array\n",
    "    kappa_array: Array\n",
    "    b_initial: Array\n",
    "\n",
    "\n",
    "# --- Core JAX Functions ---\n",
    "def make_loss_fn(\n",
    "    sim_params: SimulationParameters,\n",
    "    regularization_fn: Callable[[Array, float], Array] | None = None,\n",
    "    lambda_val: float = 0.0,\n",
    ") -> Callable[[Array], Array]:\n",
    "    \"\"\"Creates a loss function that returns the negative THW power with optional regularization.\"\"\"\n",
    "\n",
    "    @jit\n",
    "    def loss_fn(domain_widths: Array) -> Array:\n",
    "        b_final = cwes.simulate_twm(domain_widths, sim_params.kappa_array, sim_params.delta_k1, sim_params.delta_k2, sim_params.b_initial)\n",
    "        thw_power = jnp.abs(b_final[2]) ** 2\n",
    "\n",
    "        loss = -thw_power\n",
    "\n",
    "        if regularization_fn:\n",
    "            loss += regularization_fn(domain_widths, lambda_val)\n",
    "\n",
    "        return loss\n",
    "\n",
    "    return loss_fn\n",
    "\n",
    "\n",
    "# --- Workflow Functions ---\n",
    "def initialize_grating(config: Config) -> tuple[Array, Array, Array, Array, Array]:\n",
    "    \"\"\"Generates initial grating parameters based on the configuration.\"\"\"\n",
    "    print(\"1. Generating initial grating parameters...\")\n",
    "    delta_k1 = mgoslt.calc_twm_delta_k(config.design_wl, config.design_wl, config.design_temp)\n",
    "    delta_k2 = mgoslt.calc_twm_delta_k(config.design_wl, config.design_wl / 2, config.design_temp)\n",
    "\n",
    "    shg_domain_width = jnp.pi / delta_k1\n",
    "    num_domains = config.num_domains\n",
    "    print(f\"   - Base domain width from calculation: {shg_domain_width:.4f} μm\")\n",
    "    print(f\"   - Number of domains: {num_domains}\")\n",
    "\n",
    "    kappa_array = config.kappa_mag * jnp.power(-1.0, jnp.arange(num_domains))\n",
    "\n",
    "    periodic_widths = jnp.full(num_domains, shg_domain_width)\n",
    "    # key = jax.random.PRNGKey(config.prng_seed)\n",
    "    # noise = jax.random.normal(key, shape=(num_domains,)) * (shg_domain_width * 0.2)\n",
    "    # initial_widths = periodic_widths + noise\n",
    "\n",
    "    shg_domains = 321\n",
    "    sfg_domains = 1168\n",
    "    initial_widths = jnp.concatenate(\n",
    "        [\n",
    "            jnp.full(shg_domains, shg_domain_width),\n",
    "            jnp.full(sfg_domains, (jnp.pi / delta_k2)),\n",
    "        ],\n",
    "    )\n",
    "\n",
    "    return delta_k1, delta_k2, kappa_array, periodic_widths, initial_widths\n",
    "\n",
    "\n",
    "def run_optimization(\n",
    "    initial_widths: Array,\n",
    "    sim_params: SimulationParameters,\n",
    "    config: Config,\n",
    ") -> tuple[Array, Array]:\n",
    "    \"\"\"Sets up and runs the L-BFGS optimization.\"\"\"\n",
    "    print(\"2. Setting up loss function and L-BFGS optimizer...\")\n",
    "    regularization_fn = REGULARIZATION_FNS.get(config.regularization) if config.regularization else None\n",
    "    loss_fn = make_loss_fn(sim_params, regularization_fn, config.lambda_val)\n",
    "    solver = optax.lbfgs()\n",
    "\n",
    "    @jit\n",
    "    def run_full_optimization(initial_params: Array) -> tuple[Array, Array]:\n",
    "        initial_loss_history = jnp.zeros(config.max_iters)\n",
    "\n",
    "        @loop_tqdm(config.max_iters, desc=\"Optimizing\")\n",
    "        def step(i: int, state: tuple[Array, optax.OptState, Array]) -> tuple[optax.Params, optax.OptState, Array]:\n",
    "            params, opt_state, loss_history = state\n",
    "            value, grad = jax.value_and_grad(loss_fn)(params)\n",
    "            updates, opt_state = solver.update(grad, opt_state, params, value=value, grad=grad, value_fn=loss_fn)\n",
    "            params = optax.apply_updates(params, updates)\n",
    "            loss_history = loss_history.at[i].set(value)\n",
    "            return params, opt_state, loss_history\n",
    "\n",
    "        initial_opt_state = solver.init(initial_params)\n",
    "        optimized_params, _, loss_history = jax.lax.fori_loop(\n",
    "            0,\n",
    "            config.max_iters,\n",
    "            step,\n",
    "            (initial_params, initial_opt_state, initial_loss_history),\n",
    "        )\n",
    "        return optimized_params, loss_history\n",
    "\n",
    "    print(\"3. Running JIT-compiled optimization...\")\n",
    "    print(f\"   - Initial THW Power: {-loss_fn(initial_widths):.4f}\")\n",
    "\n",
    "    optimized_widths, loss_history = run_full_optimization(initial_widths)\n",
    "    optimized_widths.block_until_ready()\n",
    "\n",
    "    print(f\"   - Optimized THW Power: {-loss_fn(optimized_widths):.4f}\")\n",
    "    return optimized_widths, loss_history\n",
    "\n",
    "\n",
    "# --- Visualization Functions ---\n",
    "def _calculate_spectrum(domain_widths: Array, sim_params: SimulationParameters, config: Config) -> tuple[Array, Array]:\n",
    "    \"\"\"Helper function to compute the THW Power spectrum for a given grating.\"\"\"\n",
    "    wls = jnp.linspace(config.wl_start, config.wl_end, config.num_wl_points)\n",
    "    delta_k1s = mgoslt.calc_twm_delta_k(wls, wls, config.design_temp)\n",
    "    delta_k2s = mgoslt.calc_twm_delta_k(wls, wls / 2, config.design_temp)\n",
    "\n",
    "    compute_spectrum_vmap = jit(jax.vmap(cwes.simulate_twm, in_axes=(None, None, 0, 0, None)))\n",
    "\n",
    "    final_vectors = compute_spectrum_vmap(domain_widths, sim_params.kappa_array, delta_k1s, delta_k2s, sim_params.b_initial)\n",
    "    thw_powers = jnp.abs(final_vectors[:, 2]) ** 2 * 1.07 / 2.84 * 100\n",
    "    return wls, thw_powers\n",
    "\n",
    "\n",
    "def plot_domain_widths(initial_widths: Array, optimized_widths: Array) -> None:\n",
    "    \"\"\"Plots the domain widths before and after optimization.\"\"\"\n",
    "    fig = go.Figure()\n",
    "    fig.add_trace(go.Scatter(y=initial_widths, mode=\"lines\", name=\"Initial\", line={\"dash\": \"dash\"}))\n",
    "    fig.add_trace(go.Scatter(y=optimized_widths, mode=\"lines\", name=\"Optimized\"))\n",
    "    fig.update_layout(\n",
    "        title_text=\"Domain Widths Comparison\",\n",
    "        xaxis_title=\"Domain Index\",\n",
    "        yaxis_title=\"Width (μm)\",\n",
    "        template=\"plotly_white\",\n",
    "    )\n",
    "    fig.show()\n",
    "\n",
    "\n",
    "def plot_thw_power_spectrum(\n",
    "    initial_widths: Array,\n",
    "    optimized_widths: Array,\n",
    "    sim_params: SimulationParameters,\n",
    "    config: Config,\n",
    ") -> None:\n",
    "    \"\"\"Plots the SHG Power spectrum before and after optimization.\"\"\"\n",
    "    wls, initial_effs = _calculate_spectrum(initial_widths, sim_params, config)\n",
    "    _, optimized_effs = _calculate_spectrum(optimized_widths, sim_params, config)\n",
    "\n",
    "    fig = go.Figure()\n",
    "    fig.add_trace(go.Scatter(x=wls, y=initial_effs, mode=\"lines\", name=\"Initial\", line={\"dash\": \"dash\"}))\n",
    "    fig.add_trace(go.Scatter(x=wls, y=optimized_effs, mode=\"lines\", name=\"Optimized\"))\n",
    "    fig.add_vline(\n",
    "        x=config.design_wl,\n",
    "        line_dash=\"dot\",\n",
    "        line_color=\"red\",\n",
    "        annotation_text=f\"Design λ {config.design_wl}μm\",\n",
    "        annotation_position=\"bottom right\",\n",
    "    )\n",
    "    fig.update_layout(\n",
    "        title_text=\"THW Power Spectrum Comparison\",\n",
    "        xaxis_title=\"Fundamental Wavelength (μm)\",\n",
    "        yaxis_title=\"THW Power\",\n",
    "        template=\"plotly_white\",\n",
    "    )\n",
    "    fig.show()\n",
    "\n",
    "\n",
    "def plot_cost_history(loss_history: Array) -> None:\n",
    "    \"\"\"Plots the optimization cost history.\"\"\"\n",
    "    fig = go.Figure()\n",
    "    fig.add_trace(go.Scatter(y=loss_history, mode=\"lines\", name=\"Loss\"))\n",
    "    fig.update_layout(\n",
    "        title_text=\"Optimization Cost History\",\n",
    "        xaxis_title=\"Iteration\",\n",
    "        yaxis_title=\"Loss\",\n",
    "        template=\"plotly_white\",\n",
    "    )\n",
    "    fig.show()\n",
    "\n",
    "\n",
    "\"\"\"Main function to run the optimization and visualization.\"\"\"\n",
    "config = Config()"
   ]
  },
  {
   "cell_type": "code",
   "execution_count": 33,
   "id": "444bdfc0",
   "metadata": {},
   "outputs": [
    {
     "name": "stdout",
     "output_type": "stream",
     "text": [
      "1. Generating initial grating parameters...\n",
      "   - Base domain width from calculation: 3.6008 μm\n",
      "   - Number of domains: 1489\n",
      "2. Setting up loss function and L-BFGS optimizer...\n",
      "3. Running JIT-compiled optimization...\n",
      "   - Initial THW Power: 0.0043\n"
     ]
    },
    {
     "data": {
      "application/vnd.jupyter.widget-view+json": {
       "model_id": "3b62cc4a37294efbb21c7ed91937e8de",
       "version_major": 2,
       "version_minor": 0
      },
      "text/plain": [
       "Optimizing:   0%|          | 0/100 [00:00<?, ?it/s]"
      ]
     },
     "metadata": {},
     "output_type": "display_data"
    },
    {
     "name": "stdout",
     "output_type": "stream",
     "text": [
      "   - Optimized THW Power: 0.0052\n"
     ]
    }
   ],
   "source": [
    "# 1. Generate initial physical parameters and domain widths\n",
    "delta_k1, delta_k2, kappa_array, periodic_widths, initial_widths = initialize_grating(config)\n",
    "# 2. Create simulation parameters\n",
    "sim_params = SimulationParameters(\n",
    "    delta_k1=delta_k1,\n",
    "    delta_k2=delta_k2,\n",
    "    kappa_array=kappa_array,\n",
    "    b_initial=jnp.array([1.0, 0.0, 0.0], dtype=jnp.complex64),\n",
    ")\n",
    "# 3. Run the optimization with the clean parameter objects\n",
    "optimized_widths, loss_history = run_optimization(initial_widths, sim_params, config)"
   ]
  },
  {
   "cell_type": "code",
   "execution_count": 30,
   "id": "665e2786",
   "metadata": {},
   "outputs": [
    {
     "name": "stdout",
     "output_type": "stream",
     "text": [
      "4. Visualizing optimization results...\n"
     ]
    },
    {
     "data": {
      "application/vnd.plotly.v1+json": {
       "config": {
        "plotlyServerURL": "https://plot.ly"
       },
       "data": [
        {
         "line": {
          "dash": "dash"
         },
         "mode": "lines",
         "name": "Initial",
         "type": "scatter",
         "y": {
          "bdata": "/nNmQP5zZkD+c2ZA/nNmQP5zZkD+c2ZA/nNmQP5zZkD+c2ZA/nNmQP5zZkD+c2ZA/nNmQP5zZkD+c2ZA/nNmQP5zZkD+c2ZA/nNmQP5zZkD+c2ZA/nNmQP5zZkD+c2ZA/nNmQP5zZkD+c2ZA/nNmQP5zZkD+c2ZA/nNmQP5zZkD+c2ZA/nNmQP5zZkD+c2ZA/nNmQP5zZkD+c2ZA/nNmQP5zZkD+c2ZA/nNmQP5zZkD+c2ZA/nNmQP5zZkD+c2ZA/nNmQP5zZkD+c2ZA/nNmQP5zZkD+c2ZA/nNmQP5zZkD+c2ZA/nNmQP5zZkD+c2ZA/nNmQP5zZkD+c2ZA/nNmQP5zZkD+c2ZA/nNmQP5zZkD+c2ZA/nNmQP5zZkD+c2ZA/nNmQP5zZkD+c2ZA/nNmQP5zZkD+c2ZA/nNmQP5zZkD+c2ZA/nNmQP5zZkD+c2ZA/nNmQP5zZkD+c2ZA/nNmQP5zZkD+c2ZA/nNmQP5zZkD+c2ZA/nNmQP5zZkD+c2ZA/nNmQP5zZkD+c2ZA/nNmQP5zZkD+c2ZA/nNmQP5zZkD+c2ZA/nNmQP5zZkD+c2ZA/nNmQP5zZkD+c2ZA/nNmQP5zZkD+c2ZA/nNmQP5zZkD+c2ZA/nNmQP5zZkD+c2ZA/nNmQP5zZkD+c2ZA/nNmQP5zZkD+c2ZA/nNmQP5zZkD+c2ZA/nNmQP5zZkD+c2ZA/nNmQP5zZkD+c2ZA/nNmQP5zZkD+c2ZA/nNmQP5zZkD+c2ZA/nNmQP5zZkD+c2ZA/nNmQP5zZkD+c2ZA/nNmQP5zZkD+c2ZA/nNmQP5zZkD+c2ZA/nNmQP5zZkD+c2ZA/nNmQP5zZkD+c2ZA/nNmQP5zZkD+c2ZA/nNmQP5zZkD+c2ZA/nNmQP5zZkD+c2ZA/nNmQP5zZkD+c2ZA/nNmQP5zZkD+c2ZA/nNmQP5zZkD+c2ZA/nNmQP5zZkD+c2ZA/nNmQP5zZkD+c2ZA/nNmQP5zZkD+c2ZA/nNmQP5zZkD+c2ZA/nNmQP5zZkD+c2ZA/nNmQP5zZkD+c2ZA/nNmQP5zZkD+c2ZA/nNmQP5zZkD+c2ZA/nNmQP5zZkD+c2ZA/nNmQP5zZkD+c2ZA/nNmQP5zZkD+c2ZA/nNmQP5zZkD+c2ZA/nNmQP5zZkD+c2ZA/nNmQP5zZkD+c2ZA/nNmQP5zZkD+c2ZA/nNmQP5zZkD+c2ZA/nNmQP5zZkD+c2ZA/nNmQP5zZkD+c2ZA/nNmQP5zZkD+c2ZA/nNmQP5zZkD+c2ZA/nNmQP5zZkD+c2ZA/nNmQP5zZkD+c2ZA/nNmQP5zZkD+c2ZA/nNmQP5zZkD+c2ZA/nNmQP5zZkD+c2ZA/nNmQP5zZkD+c2ZA/nNmQP5zZkD+c2ZA/nNmQP5zZkD+c2ZA/nNmQP5zZkD+c2ZA/nNmQP5zZkD+c2ZA/nNmQP5zZkD+c2ZA/nNmQP5zZkD+c2ZA/nNmQP5zZkD+c2ZA/nNmQP5zZkD+c2ZA/nNmQP5zZkD+c2ZA/nNmQP5zZkD+c2ZA/nNmQP5zZkD+c2ZA/nNmQP5zZkD+c2ZA/nNmQP5zZkD+c2ZA/nNmQP5zZkD+c2ZA/nNmQP5zZkD+c2ZA/nNmQP5zZkD+c2ZA/nNmQP5zZkD+c2ZA/nNmQP5zZkD+c2ZA/nNmQP5zZkD+c2ZA/nNmQP5zZkD+c2ZA/nNmQP5zZkD+c2ZA/nNmQP5zZkD+c2ZAdMR6P3TEej90xHo/dMR6P3TEej90xHo/dMR6P3TEej90xHo/dMR6P3TEej90xHo/dMR6P3TEej90xHo/dMR6P3TEej90xHo/dMR6P3TEej90xHo/dMR6P3TEej90xHo/dMR6P3TEej90xHo/dMR6P3TEej90xHo/dMR6P3TEej90xHo/dMR6P3TEej90xHo/dMR6P3TEej90xHo/dMR6P3TEej90xHo/dMR6P3TEej90xHo/dMR6P3TEej90xHo/dMR6P3TEej90xHo/dMR6P3TEej90xHo/dMR6P3TEej90xHo/dMR6P3TEej90xHo/dMR6P3TEej90xHo/dMR6P3TEej90xHo/dMR6P3TEej90xHo/dMR6P3TEej90xHo/dMR6P3TEej90xHo/dMR6P3TEej90xHo/dMR6P3TEej90xHo/dMR6P3TEej90xHo/dMR6P3TEej90xHo/dMR6P3TEej90xHo/dMR6P3TEej90xHo/dMR6P3TEej90xHo/dMR6P3TEej90xHo/dMR6P3TEej90xHo/dMR6P3TEej90xHo/dMR6P3TEej90xHo/dMR6P3TEej90xHo/dMR6P3TEej90xHo/dMR6P3TEej90xHo/dMR6P3TEej90xHo/dMR6P3TEej90xHo/dMR6P3TEej90xHo/dMR6P3TEej90xHo/dMR6P3TEej90xHo/dMR6P3TEej90xHo/dMR6P3TEej90xHo/dMR6P3TEej90xHo/dMR6P3TEej90xHo/dMR6P3TEej90xHo/dMR6P3TEej90xHo/dMR6P3TEej90xHo/dMR6P3TEej90xHo/dMR6P3TEej90xHo/dMR6P3TEej90xHo/dMR6P3TEej90xHo/dMR6P3TEej90xHo/dMR6P3TEej90xHo/dMR6P3TEej90xHo/dMR6P3TEej90xHo/dMR6P3TEej90xHo/dMR6P3TEej90xHo/dMR6P3TEej90xHo/dMR6P3TEej90xHo/dMR6P3TEej90xHo/dMR6P3TEej90xHo/dMR6P3TEej90xHo/dMR6P3TEej90xHo/dMR6P3TEej90xHo/dMR6P3TEej90xHo/dMR6P3TEej90xHo/dMR6P3TEej90xHo/dMR6P3TEej90xHo/dMR6P3TEej90xHo/dMR6P3TEej90xHo/dMR6P3TEej90xHo/dMR6P3TEej90xHo/dMR6P3TEej90xHo/dMR6P3TEej90xHo/dMR6P3TEej90xHo/dMR6P3TEej90xHo/dMR6P3TEej90xHo/dMR6P3TEej90xHo/dMR6P3TEej90xHo/dMR6P3TEej90xHo/dMR6P3TEej90xHo/dMR6P3TEej90xHo/dMR6P3TEej90xHo/dMR6P3TEej90xHo/dMR6P3TEej90xHo/dMR6P3TEej90xHo/dMR6P3TEej90xHo/dMR6P3TEej90xHo/dMR6P3TEej90xHo/dMR6P3TEej90xHo/dMR6P3TEej90xHo/dMR6P3TEej90xHo/dMR6P3TEej90xHo/dMR6P3TEej90xHo/dMR6P3TEej90xHo/dMR6P3TEej90xHo/dMR6P3TEej90xHo/dMR6P3TEej90xHo/dMR6P3TEej90xHo/dMR6P3TEej90xHo/dMR6P3TEej90xHo/dMR6P3TEej90xHo/dMR6P3TEej90xHo/dMR6P3TEej90xHo/dMR6P3TEej90xHo/dMR6P3TEej90xHo/dMR6P3TEej90xHo/dMR6P3TEej90xHo/dMR6P3TEej90xHo/dMR6P3TEej90xHo/dMR6P3TEej90xHo/dMR6P3TEej90xHo/dMR6P3TEej90xHo/dMR6P3TEej90xHo/dMR6P3TEej90xHo/dMR6P3TEej90xHo/dMR6P3TEej90xHo/dMR6P3TEej90xHo/dMR6P3TEej90xHo/dMR6P3TEej90xHo/dMR6P3TEej90xHo/dMR6P3TEej90xHo/dMR6P3TEej90xHo/dMR6P3TEej90xHo/dMR6P3TEej90xHo/dMR6P3TEej90xHo/dMR6P3TEej90xHo/dMR6P3TEej90xHo/dMR6P3TEej90xHo/dMR6P3TEej90xHo/dMR6P3TEej90xHo/dMR6P3TEej90xHo/dMR6P3TEej90xHo/dMR6P3TEej90xHo/dMR6P3TEej90xHo/dMR6P3TEej90xHo/dMR6P3TEej90xHo/dMR6P3TEej90xHo/dMR6P3TEej90xHo/dMR6P3TEej90xHo/dMR6P3TEej90xHo/dMR6P3TEej90xHo/dMR6P3TEej90xHo/dMR6P3TEej90xHo/dMR6P3TEej90xHo/dMR6P3TEej90xHo/dMR6P3TEej90xHo/dMR6P3TEej90xHo/dMR6P3TEej90xHo/dMR6P3TEej90xHo/dMR6P3TEej90xHo/dMR6P3TEej90xHo/dMR6P3TEej90xHo/dMR6P3TEej90xHo/dMR6P3TEej90xHo/dMR6P3TEej90xHo/dMR6P3TEej90xHo/dMR6P3TEej90xHo/dMR6P3TEej90xHo/dMR6P3TEej90xHo/dMR6P3TEej90xHo/dMR6P3TEej90xHo/dMR6P3TEej90xHo/dMR6P3TEej90xHo/dMR6P3TEej90xHo/dMR6P3TEej90xHo/dMR6P3TEej90xHo/dMR6P3TEej90xHo/dMR6P3TEej90xHo/dMR6P3TEej90xHo/dMR6P3TEej90xHo/dMR6P3TEej90xHo/dMR6P3TEej90xHo/dMR6P3TEej90xHo/dMR6P3TEej90xHo/dMR6P3TEej90xHo/dMR6P3TEej90xHo/dMR6P3TEej90xHo/dMR6P3TEej90xHo/dMR6P3TEej90xHo/dMR6P3TEej90xHo/dMR6P3TEej90xHo/dMR6P3TEej90xHo/dMR6P3TEej90xHo/dMR6P3TEej90xHo/dMR6P3TEej90xHo/dMR6P3TEej90xHo/dMR6P3TEej90xHo/dMR6P3TEej90xHo/dMR6P3TEej90xHo/dMR6P3TEej90xHo/dMR6P3TEej90xHo/dMR6P3TEej90xHo/dMR6P3TEej90xHo/dMR6P3TEej90xHo/dMR6P3TEej90xHo/dMR6P3TEej90xHo/dMR6P3TEej90xHo/dMR6P3TEej90xHo/dMR6P3TEej90xHo/dMR6P3TEej90xHo/dMR6P3TEej90xHo/dMR6P3TEej90xHo/dMR6P3TEej90xHo/dMR6P3TEej90xHo/dMR6P3TEej90xHo/dMR6P3TEej90xHo/dMR6P3TEej90xHo/dMR6P3TEej90xHo/dMR6P3TEej90xHo/dMR6P3TEej90xHo/dMR6P3TEej90xHo/dMR6P3TEej90xHo/dMR6P3TEej90xHo/dMR6P3TEej90xHo/dMR6P3TEej90xHo/dMR6P3TEej90xHo/dMR6P3TEej90xHo/dMR6P3TEej90xHo/dMR6P3TEej90xHo/dMR6P3TEej90xHo/dMR6P3TEej90xHo/dMR6P3TEej90xHo/dMR6P3TEej90xHo/dMR6P3TEej90xHo/dMR6P3TEej90xHo/dMR6P3TEej90xHo/dMR6P3TEej90xHo/dMR6P3TEej90xHo/dMR6P3TEej90xHo/dMR6P3TEej90xHo/dMR6P3TEej90xHo/dMR6P3TEej90xHo/dMR6P3TEej90xHo/dMR6P3TEej90xHo/dMR6P3TEej90xHo/dMR6P3TEej90xHo/dMR6P3TEej90xHo/dMR6P3TEej90xHo/dMR6P3TEej90xHo/dMR6P3TEej90xHo/dMR6P3TEej90xHo/dMR6P3TEej90xHo/dMR6P3TEej90xHo/dMR6P3TEej90xHo/dMR6P3TEej90xHo/dMR6P3TEej90xHo/dMR6P3TEej90xHo/dMR6P3TEej90xHo/dMR6P3TEej90xHo/dMR6P3TEej90xHo/dMR6P3TEej90xHo/dMR6P3TEej90xHo/dMR6P3TEej90xHo/dMR6P3TEej90xHo/dMR6P3TEej90xHo/dMR6P3TEej90xHo/dMR6P3TEej90xHo/dMR6P3TEej90xHo/dMR6P3TEej90xHo/dMR6P3TEej90xHo/dMR6P3TEej90xHo/dMR6P3TEej90xHo/dMR6P3TEej90xHo/dMR6P3TEej90xHo/dMR6P3TEej90xHo/dMR6P3TEej90xHo/dMR6P3TEej90xHo/dMR6P3TEej90xHo/dMR6P3TEej90xHo/dMR6P3TEej90xHo/dMR6P3TEej90xHo/dMR6P3TEej90xHo/dMR6P3TEej90xHo/dMR6P3TEej90xHo/dMR6P3TEej90xHo/dMR6P3TEej90xHo/dMR6P3TEej90xHo/dMR6P3TEej90xHo/dMR6P3TEej90xHo/dMR6P3TEej90xHo/dMR6P3TEej90xHo/dMR6P3TEej90xHo/dMR6P3TEej90xHo/dMR6P3TEej90xHo/dMR6P3TEej90xHo/dMR6P3TEej90xHo/dMR6P3TEej90xHo/dMR6P3TEej90xHo/dMR6P3TEej90xHo/dMR6P3TEej90xHo/dMR6P3TEej90xHo/dMR6P3TEej90xHo/dMR6P3TEej90xHo/dMR6P3TEej90xHo/dMR6P3TEej90xHo/dMR6P3TEej90xHo/dMR6P3TEej90xHo/dMR6P3TEej90xHo/dMR6P3TEej90xHo/dMR6P3TEej90xHo/dMR6P3TEej90xHo/dMR6P3TEej90xHo/dMR6P3TEej90xHo/dMR6P3TEej90xHo/dMR6P3TEej90xHo/dMR6P3TEej90xHo/dMR6P3TEej90xHo/dMR6P3TEej90xHo/dMR6P3TEej90xHo/dMR6P3TEej90xHo/dMR6P3TEej90xHo/dMR6P3TEej90xHo/dMR6P3TEej90xHo/dMR6P3TEej90xHo/dMR6P3TEej90xHo/dMR6P3TEej90xHo/dMR6P3TEej90xHo/dMR6P3TEej90xHo/dMR6P3TEej90xHo/dMR6P3TEej90xHo/dMR6P3TEej90xHo/dMR6P3TEej90xHo/dMR6P3TEej90xHo/dMR6P3TEej90xHo/dMR6P3TEej90xHo/dMR6P3TEej90xHo/dMR6P3TEej90xHo/dMR6P3TEej90xHo/dMR6P3TEej90xHo/dMR6P3TEej90xHo/dMR6P3TEej90xHo/dMR6P3TEej90xHo/dMR6P3TEej90xHo/dMR6P3TEej90xHo/dMR6P3TEej90xHo/dMR6P3TEej90xHo/dMR6P3TEej90xHo/dMR6P3TEej90xHo/dMR6P3TEej90xHo/dMR6P3TEej90xHo/dMR6P3TEej90xHo/dMR6P3TEej90xHo/dMR6P3TEej90xHo/dMR6P3TEej90xHo/dMR6P3TEej90xHo/dMR6P3TEej90xHo/dMR6P3TEej90xHo/dMR6P3TEej90xHo/dMR6P3TEej90xHo/dMR6P3TEej90xHo/dMR6P3TEej90xHo/dMR6P3TEej90xHo/dMR6P3TEej90xHo/dMR6P3TEej90xHo/dMR6P3TEej90xHo/dMR6P3TEej90xHo/dMR6P3TEej90xHo/dMR6P3TEej90xHo/dMR6P3TEej90xHo/dMR6P3TEej90xHo/dMR6P3TEej90xHo/dMR6P3TEej90xHo/dMR6P3TEej90xHo/dMR6P3TEej90xHo/dMR6P3TEej90xHo/dMR6P3TEej90xHo/dMR6P3TEej90xHo/dMR6P3TEej90xHo/dMR6P3TEej90xHo/dMR6P3TEej90xHo/dMR6P3TEej90xHo/dMR6P3TEej90xHo/dMR6P3TEej90xHo/dMR6P3TEej90xHo/dMR6P3TEej90xHo/dMR6P3TEej90xHo/dMR6P3TEej90xHo/dMR6P3TEej90xHo/dMR6P3TEej90xHo/dMR6P3TEej90xHo/dMR6P3TEej90xHo/dMR6P3TEej90xHo/dMR6P3TEej90xHo/dMR6P3TEej90xHo/dMR6Pw==",
          "dtype": "f4"
         }
        },
        {
         "mode": "lines",
         "name": "Optimized",
         "type": "scatter",
         "y": {
          "bdata": "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",
          "dtype": "f4"
         }
        }
       ],
       "layout": {
        "template": {
         "data": {
          "bar": [
           {
            "error_x": {
             "color": "#2a3f5f"
            },
            "error_y": {
             "color": "#2a3f5f"
            },
            "marker": {
             "line": {
              "color": "white",
              "width": 0.5
             },
             "pattern": {
              "fillmode": "overlay",
              "size": 10,
              "solidity": 0.2
             }
            },
            "type": "bar"
           }
          ],
          "barpolar": [
           {
            "marker": {
             "line": {
              "color": "white",
              "width": 0.5
             },
             "pattern": {
              "fillmode": "overlay",
              "size": 10,
              "solidity": 0.2
             }
            },
            "type": "barpolar"
           }
          ],
          "carpet": [
           {
            "aaxis": {
             "endlinecolor": "#2a3f5f",
             "gridcolor": "#C8D4E3",
             "linecolor": "#C8D4E3",
             "minorgridcolor": "#C8D4E3",
             "startlinecolor": "#2a3f5f"
            },
            "baxis": {
             "endlinecolor": "#2a3f5f",
             "gridcolor": "#C8D4E3",
             "linecolor": "#C8D4E3",
             "minorgridcolor": "#C8D4E3",
             "startlinecolor": "#2a3f5f"
            },
            "type": "carpet"
           }
          ],
          "choropleth": [
           {
            "colorbar": {
             "outlinewidth": 0,
             "ticks": ""
            },
            "type": "choropleth"
           }
          ],
          "contour": [
           {
            "colorbar": {
             "outlinewidth": 0,
             "ticks": ""
            },
            "colorscale": [
             [
              0,
              "#0d0887"
             ],
             [
              0.1111111111111111,
              "#46039f"
             ],
             [
              0.2222222222222222,
              "#7201a8"
             ],
             [
              0.3333333333333333,
              "#9c179e"
             ],
             [
              0.4444444444444444,
              "#bd3786"
             ],
             [
              0.5555555555555556,
              "#d8576b"
             ],
             [
              0.6666666666666666,
              "#ed7953"
             ],
             [
              0.7777777777777778,
              "#fb9f3a"
             ],
             [
              0.8888888888888888,
              "#fdca26"
             ],
             [
              1,
              "#f0f921"
             ]
            ],
            "type": "contour"
           }
          ],
          "contourcarpet": [
           {
            "colorbar": {
             "outlinewidth": 0,
             "ticks": ""
            },
            "type": "contourcarpet"
           }
          ],
          "heatmap": [
           {
            "colorbar": {
             "outlinewidth": 0,
             "ticks": ""
            },
            "colorscale": [
             [
              0,
              "#0d0887"
             ],
             [
              0.1111111111111111,
              "#46039f"
             ],
             [
              0.2222222222222222,
              "#7201a8"
             ],
             [
              0.3333333333333333,
              "#9c179e"
             ],
             [
              0.4444444444444444,
              "#bd3786"
             ],
             [
              0.5555555555555556,
              "#d8576b"
             ],
             [
              0.6666666666666666,
              "#ed7953"
             ],
             [
              0.7777777777777778,
              "#fb9f3a"
             ],
             [
              0.8888888888888888,
              "#fdca26"
             ],
             [
              1,
              "#f0f921"
             ]
            ],
            "type": "heatmap"
           }
          ],
          "histogram": [
           {
            "marker": {
             "pattern": {
              "fillmode": "overlay",
              "size": 10,
              "solidity": 0.2
             }
            },
            "type": "histogram"
           }
          ],
          "histogram2d": [
           {
            "colorbar": {
             "outlinewidth": 0,
             "ticks": ""
            },
            "colorscale": [
             [
              0,
              "#0d0887"
             ],
             [
              0.1111111111111111,
              "#46039f"
             ],
             [
              0.2222222222222222,
              "#7201a8"
             ],
             [
              0.3333333333333333,
              "#9c179e"
             ],
             [
              0.4444444444444444,
              "#bd3786"
             ],
             [
              0.5555555555555556,
              "#d8576b"
             ],
             [
              0.6666666666666666,
              "#ed7953"
             ],
             [
              0.7777777777777778,
              "#fb9f3a"
             ],
             [
              0.8888888888888888,
              "#fdca26"
             ],
             [
              1,
              "#f0f921"
             ]
            ],
            "type": "histogram2d"
           }
          ],
          "histogram2dcontour": [
           {
            "colorbar": {
             "outlinewidth": 0,
             "ticks": ""
            },
            "colorscale": [
             [
              0,
              "#0d0887"
             ],
             [
              0.1111111111111111,
              "#46039f"
             ],
             [
              0.2222222222222222,
              "#7201a8"
             ],
             [
              0.3333333333333333,
              "#9c179e"
             ],
             [
              0.4444444444444444,
              "#bd3786"
             ],
             [
              0.5555555555555556,
              "#d8576b"
             ],
             [
              0.6666666666666666,
              "#ed7953"
             ],
             [
              0.7777777777777778,
              "#fb9f3a"
             ],
             [
              0.8888888888888888,
              "#fdca26"
             ],
             [
              1,
              "#f0f921"
             ]
            ],
            "type": "histogram2dcontour"
           }
          ],
          "mesh3d": [
           {
            "colorbar": {
             "outlinewidth": 0,
             "ticks": ""
            },
            "type": "mesh3d"
           }
          ],
          "parcoords": [
           {
            "line": {
             "colorbar": {
              "outlinewidth": 0,
              "ticks": ""
             }
            },
            "type": "parcoords"
           }
          ],
          "pie": [
           {
            "automargin": true,
            "type": "pie"
           }
          ],
          "scatter": [
           {
            "fillpattern": {
             "fillmode": "overlay",
             "size": 10,
             "solidity": 0.2
            },
            "type": "scatter"
           }
          ],
          "scatter3d": [
           {
            "line": {
             "colorbar": {
              "outlinewidth": 0,
              "ticks": ""
             }
            },
            "marker": {
             "colorbar": {
              "outlinewidth": 0,
              "ticks": ""
             }
            },
            "type": "scatter3d"
           }
          ],
          "scattercarpet": [
           {
            "marker": {
             "colorbar": {
              "outlinewidth": 0,
              "ticks": ""
             }
            },
            "type": "scattercarpet"
           }
          ],
          "scattergeo": [
           {
            "marker": {
             "colorbar": {
              "outlinewidth": 0,
              "ticks": ""
             }
            },
            "type": "scattergeo"
           }
          ],
          "scattergl": [
           {
            "marker": {
             "colorbar": {
              "outlinewidth": 0,
              "ticks": ""
             }
            },
            "type": "scattergl"
           }
          ],
          "scattermap": [
           {
            "marker": {
             "colorbar": {
              "outlinewidth": 0,
              "ticks": ""
             }
            },
            "type": "scattermap"
           }
          ],
          "scattermapbox": [
           {
            "marker": {
             "colorbar": {
              "outlinewidth": 0,
              "ticks": ""
             }
            },
            "type": "scattermapbox"
           }
          ],
          "scatterpolar": [
           {
            "marker": {
             "colorbar": {
              "outlinewidth": 0,
              "ticks": ""
             }
            },
            "type": "scatterpolar"
           }
          ],
          "scatterpolargl": [
           {
            "marker": {
             "colorbar": {
              "outlinewidth": 0,
              "ticks": ""
             }
            },
            "type": "scatterpolargl"
           }
          ],
          "scatterternary": [
           {
            "marker": {
             "colorbar": {
              "outlinewidth": 0,
              "ticks": ""
             }
            },
            "type": "scatterternary"
           }
          ],
          "surface": [
           {
            "colorbar": {
             "outlinewidth": 0,
             "ticks": ""
            },
            "colorscale": [
             [
              0,
              "#0d0887"
             ],
             [
              0.1111111111111111,
              "#46039f"
             ],
             [
              0.2222222222222222,
              "#7201a8"
             ],
             [
              0.3333333333333333,
              "#9c179e"
             ],
             [
              0.4444444444444444,
              "#bd3786"
             ],
             [
              0.5555555555555556,
              "#d8576b"
             ],
             [
              0.6666666666666666,
              "#ed7953"
             ],
             [
              0.7777777777777778,
              "#fb9f3a"
             ],
             [
              0.8888888888888888,
              "#fdca26"
             ],
             [
              1,
              "#f0f921"
             ]
            ],
            "type": "surface"
           }
          ],
          "table": [
           {
            "cells": {
             "fill": {
              "color": "#EBF0F8"
             },
             "line": {
              "color": "white"
             }
            },
            "header": {
             "fill": {
              "color": "#C8D4E3"
             },
             "line": {
              "color": "white"
             }
            },
            "type": "table"
           }
          ]
         },
         "layout": {
          "annotationdefaults": {
           "arrowcolor": "#2a3f5f",
           "arrowhead": 0,
           "arrowwidth": 1
          },
          "autotypenumbers": "strict",
          "coloraxis": {
           "colorbar": {
            "outlinewidth": 0,
            "ticks": ""
           }
          },
          "colorscale": {
           "diverging": [
            [
             0,
             "#8e0152"
            ],
            [
             0.1,
             "#c51b7d"
            ],
            [
             0.2,
             "#de77ae"
            ],
            [
             0.3,
             "#f1b6da"
            ],
            [
             0.4,
             "#fde0ef"
            ],
            [
             0.5,
             "#f7f7f7"
            ],
            [
             0.6,
             "#e6f5d0"
            ],
            [
             0.7,
             "#b8e186"
            ],
            [
             0.8,
             "#7fbc41"
            ],
            [
             0.9,
             "#4d9221"
            ],
            [
             1,
             "#276419"
            ]
           ],
           "sequential": [
            [
             0,
             "#0d0887"
            ],
            [
             0.1111111111111111,
             "#46039f"
            ],
            [
             0.2222222222222222,
             "#7201a8"
            ],
            [
             0.3333333333333333,
             "#9c179e"
            ],
            [
             0.4444444444444444,
             "#bd3786"
            ],
            [
             0.5555555555555556,
             "#d8576b"
            ],
            [
             0.6666666666666666,
             "#ed7953"
            ],
            [
             0.7777777777777778,
             "#fb9f3a"
            ],
            [
             0.8888888888888888,
             "#fdca26"
            ],
            [
             1,
             "#f0f921"
            ]
           ],
           "sequentialminus": [
            [
             0,
             "#0d0887"
            ],
            [
             0.1111111111111111,
             "#46039f"
            ],
            [
             0.2222222222222222,
             "#7201a8"
            ],
            [
             0.3333333333333333,
             "#9c179e"
            ],
            [
             0.4444444444444444,
             "#bd3786"
            ],
            [
             0.5555555555555556,
             "#d8576b"
            ],
            [
             0.6666666666666666,
             "#ed7953"
            ],
            [
             0.7777777777777778,
             "#fb9f3a"
            ],
            [
             0.8888888888888888,
             "#fdca26"
            ],
            [
             1,
             "#f0f921"
            ]
           ]
          },
          "colorway": [
           "#636efa",
           "#EF553B",
           "#00cc96",
           "#ab63fa",
           "#FFA15A",
           "#19d3f3",
           "#FF6692",
           "#B6E880",
           "#FF97FF",
           "#FECB52"
          ],
          "font": {
           "color": "#2a3f5f"
          },
          "geo": {
           "bgcolor": "white",
           "lakecolor": "white",
           "landcolor": "white",
           "showlakes": true,
           "showland": true,
           "subunitcolor": "#C8D4E3"
          },
          "hoverlabel": {
           "align": "left"
          },
          "hovermode": "closest",
          "mapbox": {
           "style": "light"
          },
          "paper_bgcolor": "white",
          "plot_bgcolor": "white",
          "polar": {
           "angularaxis": {
            "gridcolor": "#EBF0F8",
            "linecolor": "#EBF0F8",
            "ticks": ""
           },
           "bgcolor": "white",
           "radialaxis": {
            "gridcolor": "#EBF0F8",
            "linecolor": "#EBF0F8",
            "ticks": ""
           }
          },
          "scene": {
           "xaxis": {
            "backgroundcolor": "white",
            "gridcolor": "#DFE8F3",
            "gridwidth": 2,
            "linecolor": "#EBF0F8",
            "showbackground": true,
            "ticks": "",
            "zerolinecolor": "#EBF0F8"
           },
           "yaxis": {
            "backgroundcolor": "white",
            "gridcolor": "#DFE8F3",
            "gridwidth": 2,
            "linecolor": "#EBF0F8",
            "showbackground": true,
            "ticks": "",
            "zerolinecolor": "#EBF0F8"
           },
           "zaxis": {
            "backgroundcolor": "white",
            "gridcolor": "#DFE8F3",
            "gridwidth": 2,
            "linecolor": "#EBF0F8",
            "showbackground": true,
            "ticks": "",
            "zerolinecolor": "#EBF0F8"
           }
          },
          "shapedefaults": {
           "line": {
            "color": "#2a3f5f"
           }
          },
          "ternary": {
           "aaxis": {
            "gridcolor": "#DFE8F3",
            "linecolor": "#A2B1C6",
            "ticks": ""
           },
           "baxis": {
            "gridcolor": "#DFE8F3",
            "linecolor": "#A2B1C6",
            "ticks": ""
           },
           "bgcolor": "white",
           "caxis": {
            "gridcolor": "#DFE8F3",
            "linecolor": "#A2B1C6",
            "ticks": ""
           }
          },
          "title": {
           "x": 0.05
          },
          "xaxis": {
           "automargin": true,
           "gridcolor": "#EBF0F8",
           "linecolor": "#EBF0F8",
           "ticks": "",
           "title": {
            "standoff": 15
           },
           "zerolinecolor": "#EBF0F8",
           "zerolinewidth": 2
          },
          "yaxis": {
           "automargin": true,
           "gridcolor": "#EBF0F8",
           "linecolor": "#EBF0F8",
           "ticks": "",
           "title": {
            "standoff": 15
           },
           "zerolinecolor": "#EBF0F8",
           "zerolinewidth": 2
          }
         }
        },
        "title": {
         "text": "Domain Widths Comparison"
        },
        "xaxis": {
         "title": {
          "text": "Domain Index"
         }
        },
        "yaxis": {
         "title": {
          "text": "Width (μm)"
         }
        }
       }
      }
     },
     "metadata": {},
     "output_type": "display_data"
    },
    {
     "data": {
      "application/vnd.plotly.v1+json": {
       "config": {
        "plotlyServerURL": "https://plot.ly"
       },
       "data": [
        {
         "line": {
          "dash": "dash"
         },
         "mode": "lines",
         "name": "Initial",
         "type": "scatter",
         "x": {
          "bdata": "MzODP9szgz+DNIM/LDWDP9M1gz98NoM/IzeDP8w3gz90OIM/HDmDP8Q5gz9sOoM/FTuDP7w7gz9lPIM/DT2DP7Q9gz9dPoM/BT+DP60/gz9VQIM//kCDP6VBgz9NQoM/9kKDP51Dgz9GRIM/7kSDP5ZFgz8+RoM/50aDP45Hgz82SIM/30iDP4dJgz8vSoM/10qDP39Lgz8nTIM/z0yDP3dNgz8fToM/yE6DP3BPgz8YUIM/wFCDP2hRgz8QUoM/uFKDP2BTgz8IVIM/sVSDP1lVgz8AVoM/qVaDP1FXgz/5V4M/oViDP0pZgz/xWYM/mlqDP0Jbgz/pW4M/klyDPzpdgz/iXYM/il6DPzNfgz/aX4M/gmCDPythgz/TYYM/e2KDPyNjgz/LY4M/c2SDPxtlgz/DZYM/a2aDPxRngz+8Z4M/ZGiDPwxpgz+0aYM/XGqDPwRrgz+sa4M/VGyDP/1sgz+lbYM/TW6DP/Vugz+db4M/RXCDP+1wgz+WcYM/PXKDP+Zygz+Oc4M/NXSDP950gz+GdYM/LnaDP9Z2gz9/d4M/JniDP854gz93eYM/H3qDP8d6gz9ve4M/F3yDP798gz9nfYM/D36DP7d+gz9gf4M/CICDP7CAgz9YgYM/AIKDP6iCgz9Qg4M/+IODP6CEgz9JhYM/8YWDP5mGgz9Bh4M/6YeDP5GIgz85iYM/4omDP4mKgz8xi4M/2ouDP4GMgz8qjYM/0o2DP3qOgz8ij4M/y4+DP3KQgz8bkYM/w5GDP2uSgz8Tk4M/u5ODP2OUgz8LlYM/tJWDP1uWgz8Dl4M/rJeDP1SYgz/8mIM/pJmDP0yagz/0moM/nJuDP0Scgz/snIM/lZ2DPz2egz/lnoM/jZ+DPzWggz/doIM/haGDPy6igz/VooM/faODPyakgz/OpIM/dqWDPx6mgz/GpoM/bqeDPxeogz++qIM/Z6mDPw+qgz+3qoM/X6uDPwesgz+vrIM/V62DPwCugz+nroM/T6+DP/ivgz+gsIM/SLGDP/Cxgz+YsoM/QLODP+izgz+QtIM/OLWDP+G1gz+JtoM/MbeDP9m3gz+BuIM/KbmDP9G5gz96uoM/IbuDP8m7gz9yvIM/Gr2DP8K9gz9qvoM/Er+DP7q/gz9jwIM/CsGDP7PBgz9bwoM/A8ODP6vDgz9TxIM/+8SDP6PFgz9MxoM/88aDP5vHgz9EyIM/7MiDP5TJgz88yoM/5MqDP4zLgz81zIM/3MyDP4TNgz8tzoM/1c6DP33Pgz8l0IM/zdCDP3XRgz8d0oM/xtKDP23Tgz8V1IM/vtSDP2bVgz8O1oM/ttaDP17Xgz8G2IM/rtiDP1bZgz//2YM/p9qDP0/bgz/324M/n9yDP0fdgz/v3YM/l96DPz/fgz/o34M/j+CDPzjhgz/g4YM/iOKDPzDjgz/Y44M/gOSDPynlgz/Q5YM/eeaDPyHngz/J54M/ceiDPxnpgz/B6YM/aeqDPxHrgz+564M/YuyDPwrtgz+y7YM/Wu6DPwLvgz+q74M/UvCDP/rwgz+i8YM/S/KDP/Pygz+b84M/Q/SDP+v0gz+T9YM/O/aDP+P2gz+L94M/NPiDP9z4gz+E+YM/LPqDP9T6gz98+4M/JPyDP8z8gz91/YM/HP6DP8X+gz9t/4M/FQCEP70AhD9lAYQ/DQKEP7UChD9dA4Q/BQSEP64EhD9WBYQ//gWEP6YGhD9OB4Q/9geEP54IhD9GCYQ/7gmEP5cKhD8/C4Q/5wuEP48MhD83DYQ/3w2EP4cOhD8vD4Q/1w+EP4AQhD8oEYQ/0BGEP3gShD8gE4Q/yBOEP3AUhD8YFYQ/wRWEP2kWhD8QF4Q/uReEP2EYhD8JGYQ/sRmEP1kahD8BG4Q/qRuEP1EchD/6HIQ/oh2EP0oehD/yHoQ/mh+EP0IghD/qIIQ/kiGEPzoihD/jIoQ/iyOEPzMkhD/bJIQ/gyWEPysmhD/TJoQ/eyeEPyMohD/MKIQ/dCmEPxwqhD/EKoQ/bCuEPxQshD+8LIQ/ZC2EPwwuhD+1LoQ/XS+EPwUwhD+tMIQ/VTGEP/0xhD+lMoQ/TTOEP/UzhD+dNIQ/RjWEP+41hD+WNoQ/PjeEP+Y3hD+OOIQ/NjmEP945hD+GOoQ/LzuEP9c7hD9/PIQ/Jz2EP889hD93PoQ/Hz+EP8c/hD9wQIQ/F0GEP8BBhD9oQoQ/EEOEP7hDhD9gRIQ/CEWEP7BFhD9YRoQ/AUeEP6lHhD9RSIQ/+UiEP6FJhD9JSoQ/8UqEP5lLhD9BTIQ/6UyEP5JNhD86ToQ/4k6EP4pPhD8yUIQ/2lCEP4JRhD8qUoQ/0lKEP3tThD8jVIQ/y1SEP3NVhD8bVoQ/w1aEP2tXhD8TWIQ/u1iEP2RZhD8MWoQ/tFqEP1xbhD8EXIQ/rFyEP1RdhD/8XYQ/pF6EP01fhD/1X4Q/nWCEP0VhhD/tYYQ/lWKEPz1jhD/lY4Q/jWSEPzZlhD/eZYQ/hmaEPy5nhD/WZ4Q/fmiEPyZphD/OaYQ/dmqEPx5rhD/Ha4Q/b2yEPxdthD+/bYQ/Z26EPw9vhD+3b4Q/X3CEPwdxhD+wcYQ/WHKEPwBzhD+oc4Q/UHSEP/h0hD+gdYQ/SHaEP/B2hD+Zd4Q/QXiEP+l4hD+ReYQ/OXqEP+F6hD8=",
          "dtype": "f4"
         },
         "y": {
          "bdata": "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",
          "dtype": "f4"
         }
        },
        {
         "mode": "lines",
         "name": "Optimized",
         "type": "scatter",
         "x": {
          "bdata": "MzODP9szgz+DNIM/LDWDP9M1gz98NoM/IzeDP8w3gz90OIM/HDmDP8Q5gz9sOoM/FTuDP7w7gz9lPIM/DT2DP7Q9gz9dPoM/BT+DP60/gz9VQIM//kCDP6VBgz9NQoM/9kKDP51Dgz9GRIM/7kSDP5ZFgz8+RoM/50aDP45Hgz82SIM/30iDP4dJgz8vSoM/10qDP39Lgz8nTIM/z0yDP3dNgz8fToM/yE6DP3BPgz8YUIM/wFCDP2hRgz8QUoM/uFKDP2BTgz8IVIM/sVSDP1lVgz8AVoM/qVaDP1FXgz/5V4M/oViDP0pZgz/xWYM/mlqDP0Jbgz/pW4M/klyDPzpdgz/iXYM/il6DPzNfgz/aX4M/gmCDPythgz/TYYM/e2KDPyNjgz/LY4M/c2SDPxtlgz/DZYM/a2aDPxRngz+8Z4M/ZGiDPwxpgz+0aYM/XGqDPwRrgz+sa4M/VGyDP/1sgz+lbYM/TW6DP/Vugz+db4M/RXCDP+1wgz+WcYM/PXKDP+Zygz+Oc4M/NXSDP950gz+GdYM/LnaDP9Z2gz9/d4M/JniDP854gz93eYM/H3qDP8d6gz9ve4M/F3yDP798gz9nfYM/D36DP7d+gz9gf4M/CICDP7CAgz9YgYM/AIKDP6iCgz9Qg4M/+IODP6CEgz9JhYM/8YWDP5mGgz9Bh4M/6YeDP5GIgz85iYM/4omDP4mKgz8xi4M/2ouDP4GMgz8qjYM/0o2DP3qOgz8ij4M/y4+DP3KQgz8bkYM/w5GDP2uSgz8Tk4M/u5ODP2OUgz8LlYM/tJWDP1uWgz8Dl4M/rJeDP1SYgz/8mIM/pJmDP0yagz/0moM/nJuDP0Scgz/snIM/lZ2DPz2egz/lnoM/jZ+DPzWggz/doIM/haGDPy6igz/VooM/faODPyakgz/OpIM/dqWDPx6mgz/GpoM/bqeDPxeogz++qIM/Z6mDPw+qgz+3qoM/X6uDPwesgz+vrIM/V62DPwCugz+nroM/T6+DP/ivgz+gsIM/SLGDP/Cxgz+YsoM/QLODP+izgz+QtIM/OLWDP+G1gz+JtoM/MbeDP9m3gz+BuIM/KbmDP9G5gz96uoM/IbuDP8m7gz9yvIM/Gr2DP8K9gz9qvoM/Er+DP7q/gz9jwIM/CsGDP7PBgz9bwoM/A8ODP6vDgz9TxIM/+8SDP6PFgz9MxoM/88aDP5vHgz9EyIM/7MiDP5TJgz88yoM/5MqDP4zLgz81zIM/3MyDP4TNgz8tzoM/1c6DP33Pgz8l0IM/zdCDP3XRgz8d0oM/xtKDP23Tgz8V1IM/vtSDP2bVgz8O1oM/ttaDP17Xgz8G2IM/rtiDP1bZgz//2YM/p9qDP0/bgz/324M/n9yDP0fdgz/v3YM/l96DPz/fgz/o34M/j+CDPzjhgz/g4YM/iOKDPzDjgz/Y44M/gOSDPynlgz/Q5YM/eeaDPyHngz/J54M/ceiDPxnpgz/B6YM/aeqDPxHrgz+564M/YuyDPwrtgz+y7YM/Wu6DPwLvgz+q74M/UvCDP/rwgz+i8YM/S/KDP/Pygz+b84M/Q/SDP+v0gz+T9YM/O/aDP+P2gz+L94M/NPiDP9z4gz+E+YM/LPqDP9T6gz98+4M/JPyDP8z8gz91/YM/HP6DP8X+gz9t/4M/FQCEP70AhD9lAYQ/DQKEP7UChD9dA4Q/BQSEP64EhD9WBYQ//gWEP6YGhD9OB4Q/9geEP54IhD9GCYQ/7gmEP5cKhD8/C4Q/5wuEP48MhD83DYQ/3w2EP4cOhD8vD4Q/1w+EP4AQhD8oEYQ/0BGEP3gShD8gE4Q/yBOEP3AUhD8YFYQ/wRWEP2kWhD8QF4Q/uReEP2EYhD8JGYQ/sRmEP1kahD8BG4Q/qRuEP1EchD/6HIQ/oh2EP0oehD/yHoQ/mh+EP0IghD/qIIQ/kiGEPzoihD/jIoQ/iyOEPzMkhD/bJIQ/gyWEPysmhD/TJoQ/eyeEPyMohD/MKIQ/dCmEPxwqhD/EKoQ/bCuEPxQshD+8LIQ/ZC2EPwwuhD+1LoQ/XS+EPwUwhD+tMIQ/VTGEP/0xhD+lMoQ/TTOEP/UzhD+dNIQ/RjWEP+41hD+WNoQ/PjeEP+Y3hD+OOIQ/NjmEP945hD+GOoQ/LzuEP9c7hD9/PIQ/Jz2EP889hD93PoQ/Hz+EP8c/hD9wQIQ/F0GEP8BBhD9oQoQ/EEOEP7hDhD9gRIQ/CEWEP7BFhD9YRoQ/AUeEP6lHhD9RSIQ/+UiEP6FJhD9JSoQ/8UqEP5lLhD9BTIQ/6UyEP5JNhD86ToQ/4k6EP4pPhD8yUIQ/2lCEP4JRhD8qUoQ/0lKEP3tThD8jVIQ/y1SEP3NVhD8bVoQ/w1aEP2tXhD8TWIQ/u1iEP2RZhD8MWoQ/tFqEP1xbhD8EXIQ/rFyEP1RdhD/8XYQ/pF6EP01fhD/1X4Q/nWCEP0VhhD/tYYQ/lWKEPz1jhD/lY4Q/jWSEPzZlhD/eZYQ/hmaEPy5nhD/WZ4Q/fmiEPyZphD/OaYQ/dmqEPx5rhD/Ha4Q/b2yEPxdthD+/bYQ/Z26EPw9vhD+3b4Q/X3CEPwdxhD+wcYQ/WHKEPwBzhD+oc4Q/UHSEP/h0hD+gdYQ/SHaEP/B2hD+Zd4Q/QXiEP+l4hD+ReYQ/OXqEP+F6hD8=",
          "dtype": "f4"
         },
         "y": {
          "bdata": "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",
          "dtype": "f4"
         }
        }
       ],
       "layout": {
        "annotations": [
         {
          "showarrow": false,
          "text": "Design λ 1.031μm",
          "x": 1.031,
          "xanchor": "left",
          "xref": "x",
          "y": 0,
          "yanchor": "bottom",
          "yref": "y domain"
         }
        ],
        "shapes": [
         {
          "line": {
           "color": "red",
           "dash": "dot"
          },
          "type": "line",
          "x0": 1.031,
          "x1": 1.031,
          "xref": "x",
          "y0": 0,
          "y1": 1,
          "yref": "y domain"
         }
        ],
        "template": {
         "data": {
          "bar": [
           {
            "error_x": {
             "color": "#2a3f5f"
            },
            "error_y": {
             "color": "#2a3f5f"
            },
            "marker": {
             "line": {
              "color": "white",
              "width": 0.5
             },
             "pattern": {
              "fillmode": "overlay",
              "size": 10,
              "solidity": 0.2
             }
            },
            "type": "bar"
           }
          ],
          "barpolar": [
           {
            "marker": {
             "line": {
              "color": "white",
              "width": 0.5
             },
             "pattern": {
              "fillmode": "overlay",
              "size": 10,
              "solidity": 0.2
             }
            },
            "type": "barpolar"
           }
          ],
          "carpet": [
           {
            "aaxis": {
             "endlinecolor": "#2a3f5f",
             "gridcolor": "#C8D4E3",
             "linecolor": "#C8D4E3",
             "minorgridcolor": "#C8D4E3",
             "startlinecolor": "#2a3f5f"
            },
            "baxis": {
             "endlinecolor": "#2a3f5f",
             "gridcolor": "#C8D4E3",
             "linecolor": "#C8D4E3",
             "minorgridcolor": "#C8D4E3",
             "startlinecolor": "#2a3f5f"
            },
            "type": "carpet"
           }
          ],
          "choropleth": [
           {
            "colorbar": {
             "outlinewidth": 0,
             "ticks": ""
            },
            "type": "choropleth"
           }
          ],
          "contour": [
           {
            "colorbar": {
             "outlinewidth": 0,
             "ticks": ""
            },
            "colorscale": [
             [
              0,
              "#0d0887"
             ],
             [
              0.1111111111111111,
              "#46039f"
             ],
             [
              0.2222222222222222,
              "#7201a8"
             ],
             [
              0.3333333333333333,
              "#9c179e"
             ],
             [
              0.4444444444444444,
              "#bd3786"
             ],
             [
              0.5555555555555556,
              "#d8576b"
             ],
             [
              0.6666666666666666,
              "#ed7953"
             ],
             [
              0.7777777777777778,
              "#fb9f3a"
             ],
             [
              0.8888888888888888,
              "#fdca26"
             ],
             [
              1,
              "#f0f921"
             ]
            ],
            "type": "contour"
           }
          ],
          "contourcarpet": [
           {
            "colorbar": {
             "outlinewidth": 0,
             "ticks": ""
            },
            "type": "contourcarpet"
           }
          ],
          "heatmap": [
           {
            "colorbar": {
             "outlinewidth": 0,
             "ticks": ""
            },
            "colorscale": [
             [
              0,
              "#0d0887"
             ],
             [
              0.1111111111111111,
              "#46039f"
             ],
             [
              0.2222222222222222,
              "#7201a8"
             ],
             [
              0.3333333333333333,
              "#9c179e"
             ],
             [
              0.4444444444444444,
              "#bd3786"
             ],
             [
              0.5555555555555556,
              "#d8576b"
             ],
             [
              0.6666666666666666,
              "#ed7953"
             ],
             [
              0.7777777777777778,
              "#fb9f3a"
             ],
             [
              0.8888888888888888,
              "#fdca26"
             ],
             [
              1,
              "#f0f921"
             ]
            ],
            "type": "heatmap"
           }
          ],
          "histogram": [
           {
            "marker": {
             "pattern": {
              "fillmode": "overlay",
              "size": 10,
              "solidity": 0.2
             }
            },
            "type": "histogram"
           }
          ],
          "histogram2d": [
           {
            "colorbar": {
             "outlinewidth": 0,
             "ticks": ""
            },
            "colorscale": [
             [
              0,
              "#0d0887"
             ],
             [
              0.1111111111111111,
              "#46039f"
             ],
             [
              0.2222222222222222,
              "#7201a8"
             ],
             [
              0.3333333333333333,
              "#9c179e"
             ],
             [
              0.4444444444444444,
              "#bd3786"
             ],
             [
              0.5555555555555556,
              "#d8576b"
             ],
             [
              0.6666666666666666,
              "#ed7953"
             ],
             [
              0.7777777777777778,
              "#fb9f3a"
             ],
             [
              0.8888888888888888,
              "#fdca26"
             ],
             [
              1,
              "#f0f921"
             ]
            ],
            "type": "histogram2d"
           }
          ],
          "histogram2dcontour": [
           {
            "colorbar": {
             "outlinewidth": 0,
             "ticks": ""
            },
            "colorscale": [
             [
              0,
              "#0d0887"
             ],
             [
              0.1111111111111111,
              "#46039f"
             ],
             [
              0.2222222222222222,
              "#7201a8"
             ],
             [
              0.3333333333333333,
              "#9c179e"
             ],
             [
              0.4444444444444444,
              "#bd3786"
             ],
             [
              0.5555555555555556,
              "#d8576b"
             ],
             [
              0.6666666666666666,
              "#ed7953"
             ],
             [
              0.7777777777777778,
              "#fb9f3a"
             ],
             [
              0.8888888888888888,
              "#fdca26"
             ],
             [
              1,
              "#f0f921"
             ]
            ],
            "type": "histogram2dcontour"
           }
          ],
          "mesh3d": [
           {
            "colorbar": {
             "outlinewidth": 0,
             "ticks": ""
            },
            "type": "mesh3d"
           }
          ],
          "parcoords": [
           {
            "line": {
             "colorbar": {
              "outlinewidth": 0,
              "ticks": ""
             }
            },
            "type": "parcoords"
           }
          ],
          "pie": [
           {
            "automargin": true,
            "type": "pie"
           }
          ],
          "scatter": [
           {
            "fillpattern": {
             "fillmode": "overlay",
             "size": 10,
             "solidity": 0.2
            },
            "type": "scatter"
           }
          ],
          "scatter3d": [
           {
            "line": {
             "colorbar": {
              "outlinewidth": 0,
              "ticks": ""
             }
            },
            "marker": {
             "colorbar": {
              "outlinewidth": 0,
              "ticks": ""
             }
            },
            "type": "scatter3d"
           }
          ],
          "scattercarpet": [
           {
            "marker": {
             "colorbar": {
              "outlinewidth": 0,
              "ticks": ""
             }
            },
            "type": "scattercarpet"
           }
          ],
          "scattergeo": [
           {
            "marker": {
             "colorbar": {
              "outlinewidth": 0,
              "ticks": ""
             }
            },
            "type": "scattergeo"
           }
          ],
          "scattergl": [
           {
            "marker": {
             "colorbar": {
              "outlinewidth": 0,
              "ticks": ""
             }
            },
            "type": "scattergl"
           }
          ],
          "scattermap": [
           {
            "marker": {
             "colorbar": {
              "outlinewidth": 0,
              "ticks": ""
             }
            },
            "type": "scattermap"
           }
          ],
          "scattermapbox": [
           {
            "marker": {
             "colorbar": {
              "outlinewidth": 0,
              "ticks": ""
             }
            },
            "type": "scattermapbox"
           }
          ],
          "scatterpolar": [
           {
            "marker": {
             "colorbar": {
              "outlinewidth": 0,
              "ticks": ""
             }
            },
            "type": "scatterpolar"
           }
          ],
          "scatterpolargl": [
           {
            "marker": {
             "colorbar": {
              "outlinewidth": 0,
              "ticks": ""
             }
            },
            "type": "scatterpolargl"
           }
          ],
          "scatterternary": [
           {
            "marker": {
             "colorbar": {
              "outlinewidth": 0,
              "ticks": ""
             }
            },
            "type": "scatterternary"
           }
          ],
          "surface": [
           {
            "colorbar": {
             "outlinewidth": 0,
             "ticks": ""
            },
            "colorscale": [
             [
              0,
              "#0d0887"
             ],
             [
              0.1111111111111111,
              "#46039f"
             ],
             [
              0.2222222222222222,
              "#7201a8"
             ],
             [
              0.3333333333333333,
              "#9c179e"
             ],
             [
              0.4444444444444444,
              "#bd3786"
             ],
             [
              0.5555555555555556,
              "#d8576b"
             ],
             [
              0.6666666666666666,
              "#ed7953"
             ],
             [
              0.7777777777777778,
              "#fb9f3a"
             ],
             [
              0.8888888888888888,
              "#fdca26"
             ],
             [
              1,
              "#f0f921"
             ]
            ],
            "type": "surface"
           }
          ],
          "table": [
           {
            "cells": {
             "fill": {
              "color": "#EBF0F8"
             },
             "line": {
              "color": "white"
             }
            },
            "header": {
             "fill": {
              "color": "#C8D4E3"
             },
             "line": {
              "color": "white"
             }
            },
            "type": "table"
           }
          ]
         },
         "layout": {
          "annotationdefaults": {
           "arrowcolor": "#2a3f5f",
           "arrowhead": 0,
           "arrowwidth": 1
          },
          "autotypenumbers": "strict",
          "coloraxis": {
           "colorbar": {
            "outlinewidth": 0,
            "ticks": ""
           }
          },
          "colorscale": {
           "diverging": [
            [
             0,
             "#8e0152"
            ],
            [
             0.1,
             "#c51b7d"
            ],
            [
             0.2,
             "#de77ae"
            ],
            [
             0.3,
             "#f1b6da"
            ],
            [
             0.4,
             "#fde0ef"
            ],
            [
             0.5,
             "#f7f7f7"
            ],
            [
             0.6,
             "#e6f5d0"
            ],
            [
             0.7,
             "#b8e186"
            ],
            [
             0.8,
             "#7fbc41"
            ],
            [
             0.9,
             "#4d9221"
            ],
            [
             1,
             "#276419"
            ]
           ],
           "sequential": [
            [
             0,
             "#0d0887"
            ],
            [
             0.1111111111111111,
             "#46039f"
            ],
            [
             0.2222222222222222,
             "#7201a8"
            ],
            [
             0.3333333333333333,
             "#9c179e"
            ],
            [
             0.4444444444444444,
             "#bd3786"
            ],
            [
             0.5555555555555556,
             "#d8576b"
            ],
            [
             0.6666666666666666,
             "#ed7953"
            ],
            [
             0.7777777777777778,
             "#fb9f3a"
            ],
            [
             0.8888888888888888,
             "#fdca26"
            ],
            [
             1,
             "#f0f921"
            ]
           ],
           "sequentialminus": [
            [
             0,
             "#0d0887"
            ],
            [
             0.1111111111111111,
             "#46039f"
            ],
            [
             0.2222222222222222,
             "#7201a8"
            ],
            [
             0.3333333333333333,
             "#9c179e"
            ],
            [
             0.4444444444444444,
             "#bd3786"
            ],
            [
             0.5555555555555556,
             "#d8576b"
            ],
            [
             0.6666666666666666,
             "#ed7953"
            ],
            [
             0.7777777777777778,
             "#fb9f3a"
            ],
            [
             0.8888888888888888,
             "#fdca26"
            ],
            [
             1,
             "#f0f921"
            ]
           ]
          },
          "colorway": [
           "#636efa",
           "#EF553B",
           "#00cc96",
           "#ab63fa",
           "#FFA15A",
           "#19d3f3",
           "#FF6692",
           "#B6E880",
           "#FF97FF",
           "#FECB52"
          ],
          "font": {
           "color": "#2a3f5f"
          },
          "geo": {
           "bgcolor": "white",
           "lakecolor": "white",
           "landcolor": "white",
           "showlakes": true,
           "showland": true,
           "subunitcolor": "#C8D4E3"
          },
          "hoverlabel": {
           "align": "left"
          },
          "hovermode": "closest",
          "mapbox": {
           "style": "light"
          },
          "paper_bgcolor": "white",
          "plot_bgcolor": "white",
          "polar": {
           "angularaxis": {
            "gridcolor": "#EBF0F8",
            "linecolor": "#EBF0F8",
            "ticks": ""
           },
           "bgcolor": "white",
           "radialaxis": {
            "gridcolor": "#EBF0F8",
            "linecolor": "#EBF0F8",
            "ticks": ""
           }
          },
          "scene": {
           "xaxis": {
            "backgroundcolor": "white",
            "gridcolor": "#DFE8F3",
            "gridwidth": 2,
            "linecolor": "#EBF0F8",
            "showbackground": true,
            "ticks": "",
            "zerolinecolor": "#EBF0F8"
           },
           "yaxis": {
            "backgroundcolor": "white",
            "gridcolor": "#DFE8F3",
            "gridwidth": 2,
            "linecolor": "#EBF0F8",
            "showbackground": true,
            "ticks": "",
            "zerolinecolor": "#EBF0F8"
           },
           "zaxis": {
            "backgroundcolor": "white",
            "gridcolor": "#DFE8F3",
            "gridwidth": 2,
            "linecolor": "#EBF0F8",
            "showbackground": true,
            "ticks": "",
            "zerolinecolor": "#EBF0F8"
           }
          },
          "shapedefaults": {
           "line": {
            "color": "#2a3f5f"
           }
          },
          "ternary": {
           "aaxis": {
            "gridcolor": "#DFE8F3",
            "linecolor": "#A2B1C6",
            "ticks": ""
           },
           "baxis": {
            "gridcolor": "#DFE8F3",
            "linecolor": "#A2B1C6",
            "ticks": ""
           },
           "bgcolor": "white",
           "caxis": {
            "gridcolor": "#DFE8F3",
            "linecolor": "#A2B1C6",
            "ticks": ""
           }
          },
          "title": {
           "x": 0.05
          },
          "xaxis": {
           "automargin": true,
           "gridcolor": "#EBF0F8",
           "linecolor": "#EBF0F8",
           "ticks": "",
           "title": {
            "standoff": 15
           },
           "zerolinecolor": "#EBF0F8",
           "zerolinewidth": 2
          },
          "yaxis": {
           "automargin": true,
           "gridcolor": "#EBF0F8",
           "linecolor": "#EBF0F8",
           "ticks": "",
           "title": {
            "standoff": 15
           },
           "zerolinecolor": "#EBF0F8",
           "zerolinewidth": 2
          }
         }
        },
        "title": {
         "text": "THW Power Spectrum Comparison"
        },
        "xaxis": {
         "title": {
          "text": "Fundamental Wavelength (μm)"
         }
        },
        "yaxis": {
         "title": {
          "text": "THW Power"
         }
        }
       }
      }
     },
     "metadata": {},
     "output_type": "display_data"
    },
    {
     "data": {
      "application/vnd.plotly.v1+json": {
       "config": {
        "plotlyServerURL": "https://plot.ly"
       },
       "data": [
        {
         "mode": "lines",
         "name": "Loss",
         "type": "scatter",
         "y": {
          "bdata": "gBy1u4ActbuAHLW7gBy1u4ActbuAHLW7gBy1u4ActbuAHLW7gBy1u4ActbuAHLW7gBy1u4ActbuAHLW7gBy1u4ActbuAHLW7gBy1u4ActbuAHLW7gBy1u4ActbuAHLW7gBy1u4ActbuAHLW7gBy1u4ActbuAHLW7gBy1u4ActbuAHLW7gBy1u4ActbuAHLW7gBy1u4ActbuAHLW7gBy1u4ActbuAHLW7gBy1u4ActbuAHLW7gBy1u4ActbuAHLW7gBy1u4ActbuAHLW7gBy1u4ActbuAHLW7gBy1u4ActbuAHLW7gBy1u4ActbuAHLW7gBy1u4ActbuAHLW7gBy1u4ActbuAHLW7gBy1u4ActbuAHLW7gBy1u4ActbuAHLW7gBy1u4ActbuAHLW7gBy1u4ActbuAHLW7gBy1u4ActbuAHLW7gBy1u4ActbuAHLW7gBy1u4ActbuAHLW7gBy1u4ActbuAHLW7gBy1u4ActbuAHLW7gBy1u4ActbuAHLW7gBy1u4ActbuAHLW7gBy1uw==",
          "dtype": "f4"
         }
        }
       ],
       "layout": {
        "template": {
         "data": {
          "bar": [
           {
            "error_x": {
             "color": "#2a3f5f"
            },
            "error_y": {
             "color": "#2a3f5f"
            },
            "marker": {
             "line": {
              "color": "white",
              "width": 0.5
             },
             "pattern": {
              "fillmode": "overlay",
              "size": 10,
              "solidity": 0.2
             }
            },
            "type": "bar"
           }
          ],
          "barpolar": [
           {
            "marker": {
             "line": {
              "color": "white",
              "width": 0.5
             },
             "pattern": {
              "fillmode": "overlay",
              "size": 10,
              "solidity": 0.2
             }
            },
            "type": "barpolar"
           }
          ],
          "carpet": [
           {
            "aaxis": {
             "endlinecolor": "#2a3f5f",
             "gridcolor": "#C8D4E3",
             "linecolor": "#C8D4E3",
             "minorgridcolor": "#C8D4E3",
             "startlinecolor": "#2a3f5f"
            },
            "baxis": {
             "endlinecolor": "#2a3f5f",
             "gridcolor": "#C8D4E3",
             "linecolor": "#C8D4E3",
             "minorgridcolor": "#C8D4E3",
             "startlinecolor": "#2a3f5f"
            },
            "type": "carpet"
           }
          ],
          "choropleth": [
           {
            "colorbar": {
             "outlinewidth": 0,
             "ticks": ""
            },
            "type": "choropleth"
           }
          ],
          "contour": [
           {
            "colorbar": {
             "outlinewidth": 0,
             "ticks": ""
            },
            "colorscale": [
             [
              0,
              "#0d0887"
             ],
             [
              0.1111111111111111,
              "#46039f"
             ],
             [
              0.2222222222222222,
              "#7201a8"
             ],
             [
              0.3333333333333333,
              "#9c179e"
             ],
             [
              0.4444444444444444,
              "#bd3786"
             ],
             [
              0.5555555555555556,
              "#d8576b"
             ],
             [
              0.6666666666666666,
              "#ed7953"
             ],
             [
              0.7777777777777778,
              "#fb9f3a"
             ],
             [
              0.8888888888888888,
              "#fdca26"
             ],
             [
              1,
              "#f0f921"
             ]
            ],
            "type": "contour"
           }
          ],
          "contourcarpet": [
           {
            "colorbar": {
             "outlinewidth": 0,
             "ticks": ""
            },
            "type": "contourcarpet"
           }
          ],
          "heatmap": [
           {
            "colorbar": {
             "outlinewidth": 0,
             "ticks": ""
            },
            "colorscale": [
             [
              0,
              "#0d0887"
             ],
             [
              0.1111111111111111,
              "#46039f"
             ],
             [
              0.2222222222222222,
              "#7201a8"
             ],
             [
              0.3333333333333333,
              "#9c179e"
             ],
             [
              0.4444444444444444,
              "#bd3786"
             ],
             [
              0.5555555555555556,
              "#d8576b"
             ],
             [
              0.6666666666666666,
              "#ed7953"
             ],
             [
              0.7777777777777778,
              "#fb9f3a"
             ],
             [
              0.8888888888888888,
              "#fdca26"
             ],
             [
              1,
              "#f0f921"
             ]
            ],
            "type": "heatmap"
           }
          ],
          "histogram": [
           {
            "marker": {
             "pattern": {
              "fillmode": "overlay",
              "size": 10,
              "solidity": 0.2
             }
            },
            "type": "histogram"
           }
          ],
          "histogram2d": [
           {
            "colorbar": {
             "outlinewidth": 0,
             "ticks": ""
            },
            "colorscale": [
             [
              0,
              "#0d0887"
             ],
             [
              0.1111111111111111,
              "#46039f"
             ],
             [
              0.2222222222222222,
              "#7201a8"
             ],
             [
              0.3333333333333333,
              "#9c179e"
             ],
             [
              0.4444444444444444,
              "#bd3786"
             ],
             [
              0.5555555555555556,
              "#d8576b"
             ],
             [
              0.6666666666666666,
              "#ed7953"
             ],
             [
              0.7777777777777778,
              "#fb9f3a"
             ],
             [
              0.8888888888888888,
              "#fdca26"
             ],
             [
              1,
              "#f0f921"
             ]
            ],
            "type": "histogram2d"
           }
          ],
          "histogram2dcontour": [
           {
            "colorbar": {
             "outlinewidth": 0,
             "ticks": ""
            },
            "colorscale": [
             [
              0,
              "#0d0887"
             ],
             [
              0.1111111111111111,
              "#46039f"
             ],
             [
              0.2222222222222222,
              "#7201a8"
             ],
             [
              0.3333333333333333,
              "#9c179e"
             ],
             [
              0.4444444444444444,
              "#bd3786"
             ],
             [
              0.5555555555555556,
              "#d8576b"
             ],
             [
              0.6666666666666666,
              "#ed7953"
             ],
             [
              0.7777777777777778,
              "#fb9f3a"
             ],
             [
              0.8888888888888888,
              "#fdca26"
             ],
             [
              1,
              "#f0f921"
             ]
            ],
            "type": "histogram2dcontour"
           }
          ],
          "mesh3d": [
           {
            "colorbar": {
             "outlinewidth": 0,
             "ticks": ""
            },
            "type": "mesh3d"
           }
          ],
          "parcoords": [
           {
            "line": {
             "colorbar": {
              "outlinewidth": 0,
              "ticks": ""
             }
            },
            "type": "parcoords"
           }
          ],
          "pie": [
           {
            "automargin": true,
            "type": "pie"
           }
          ],
          "scatter": [
           {
            "fillpattern": {
             "fillmode": "overlay",
             "size": 10,
             "solidity": 0.2
            },
            "type": "scatter"
           }
          ],
          "scatter3d": [
           {
            "line": {
             "colorbar": {
              "outlinewidth": 0,
              "ticks": ""
             }
            },
            "marker": {
             "colorbar": {
              "outlinewidth": 0,
              "ticks": ""
             }
            },
            "type": "scatter3d"
           }
          ],
          "scattercarpet": [
           {
            "marker": {
             "colorbar": {
              "outlinewidth": 0,
              "ticks": ""
             }
            },
            "type": "scattercarpet"
           }
          ],
          "scattergeo": [
           {
            "marker": {
             "colorbar": {
              "outlinewidth": 0,
              "ticks": ""
             }
            },
            "type": "scattergeo"
           }
          ],
          "scattergl": [
           {
            "marker": {
             "colorbar": {
              "outlinewidth": 0,
              "ticks": ""
             }
            },
            "type": "scattergl"
           }
          ],
          "scattermap": [
           {
            "marker": {
             "colorbar": {
              "outlinewidth": 0,
              "ticks": ""
             }
            },
            "type": "scattermap"
           }
          ],
          "scattermapbox": [
           {
            "marker": {
             "colorbar": {
              "outlinewidth": 0,
              "ticks": ""
             }
            },
            "type": "scattermapbox"
           }
          ],
          "scatterpolar": [
           {
            "marker": {
             "colorbar": {
              "outlinewidth": 0,
              "ticks": ""
             }
            },
            "type": "scatterpolar"
           }
          ],
          "scatterpolargl": [
           {
            "marker": {
             "colorbar": {
              "outlinewidth": 0,
              "ticks": ""
             }
            },
            "type": "scatterpolargl"
           }
          ],
          "scatterternary": [
           {
            "marker": {
             "colorbar": {
              "outlinewidth": 0,
              "ticks": ""
             }
            },
            "type": "scatterternary"
           }
          ],
          "surface": [
           {
            "colorbar": {
             "outlinewidth": 0,
             "ticks": ""
            },
            "colorscale": [
             [
              0,
              "#0d0887"
             ],
             [
              0.1111111111111111,
              "#46039f"
             ],
             [
              0.2222222222222222,
              "#7201a8"
             ],
             [
              0.3333333333333333,
              "#9c179e"
             ],
             [
              0.4444444444444444,
              "#bd3786"
             ],
             [
              0.5555555555555556,
              "#d8576b"
             ],
             [
              0.6666666666666666,
              "#ed7953"
             ],
             [
              0.7777777777777778,
              "#fb9f3a"
             ],
             [
              0.8888888888888888,
              "#fdca26"
             ],
             [
              1,
              "#f0f921"
             ]
            ],
            "type": "surface"
           }
          ],
          "table": [
           {
            "cells": {
             "fill": {
              "color": "#EBF0F8"
             },
             "line": {
              "color": "white"
             }
            },
            "header": {
             "fill": {
              "color": "#C8D4E3"
             },
             "line": {
              "color": "white"
             }
            },
            "type": "table"
           }
          ]
         },
         "layout": {
          "annotationdefaults": {
           "arrowcolor": "#2a3f5f",
           "arrowhead": 0,
           "arrowwidth": 1
          },
          "autotypenumbers": "strict",
          "coloraxis": {
           "colorbar": {
            "outlinewidth": 0,
            "ticks": ""
           }
          },
          "colorscale": {
           "diverging": [
            [
             0,
             "#8e0152"
            ],
            [
             0.1,
             "#c51b7d"
            ],
            [
             0.2,
             "#de77ae"
            ],
            [
             0.3,
             "#f1b6da"
            ],
            [
             0.4,
             "#fde0ef"
            ],
            [
             0.5,
             "#f7f7f7"
            ],
            [
             0.6,
             "#e6f5d0"
            ],
            [
             0.7,
             "#b8e186"
            ],
            [
             0.8,
             "#7fbc41"
            ],
            [
             0.9,
             "#4d9221"
            ],
            [
             1,
             "#276419"
            ]
           ],
           "sequential": [
            [
             0,
             "#0d0887"
            ],
            [
             0.1111111111111111,
             "#46039f"
            ],
            [
             0.2222222222222222,
             "#7201a8"
            ],
            [
             0.3333333333333333,
             "#9c179e"
            ],
            [
             0.4444444444444444,
             "#bd3786"
            ],
            [
             0.5555555555555556,
             "#d8576b"
            ],
            [
             0.6666666666666666,
             "#ed7953"
            ],
            [
             0.7777777777777778,
             "#fb9f3a"
            ],
            [
             0.8888888888888888,
             "#fdca26"
            ],
            [
             1,
             "#f0f921"
            ]
           ],
           "sequentialminus": [
            [
             0,
             "#0d0887"
            ],
            [
             0.1111111111111111,
             "#46039f"
            ],
            [
             0.2222222222222222,
             "#7201a8"
            ],
            [
             0.3333333333333333,
             "#9c179e"
            ],
            [
             0.4444444444444444,
             "#bd3786"
            ],
            [
             0.5555555555555556,
             "#d8576b"
            ],
            [
             0.6666666666666666,
             "#ed7953"
            ],
            [
             0.7777777777777778,
             "#fb9f3a"
            ],
            [
             0.8888888888888888,
             "#fdca26"
            ],
            [
             1,
             "#f0f921"
            ]
           ]
          },
          "colorway": [
           "#636efa",
           "#EF553B",
           "#00cc96",
           "#ab63fa",
           "#FFA15A",
           "#19d3f3",
           "#FF6692",
           "#B6E880",
           "#FF97FF",
           "#FECB52"
          ],
          "font": {
           "color": "#2a3f5f"
          },
          "geo": {
           "bgcolor": "white",
           "lakecolor": "white",
           "landcolor": "white",
           "showlakes": true,
           "showland": true,
           "subunitcolor": "#C8D4E3"
          },
          "hoverlabel": {
           "align": "left"
          },
          "hovermode": "closest",
          "mapbox": {
           "style": "light"
          },
          "paper_bgcolor": "white",
          "plot_bgcolor": "white",
          "polar": {
           "angularaxis": {
            "gridcolor": "#EBF0F8",
            "linecolor": "#EBF0F8",
            "ticks": ""
           },
           "bgcolor": "white",
           "radialaxis": {
            "gridcolor": "#EBF0F8",
            "linecolor": "#EBF0F8",
            "ticks": ""
           }
          },
          "scene": {
           "xaxis": {
            "backgroundcolor": "white",
            "gridcolor": "#DFE8F3",
            "gridwidth": 2,
            "linecolor": "#EBF0F8",
            "showbackground": true,
            "ticks": "",
            "zerolinecolor": "#EBF0F8"
           },
           "yaxis": {
            "backgroundcolor": "white",
            "gridcolor": "#DFE8F3",
            "gridwidth": 2,
            "linecolor": "#EBF0F8",
            "showbackground": true,
            "ticks": "",
            "zerolinecolor": "#EBF0F8"
           },
           "zaxis": {
            "backgroundcolor": "white",
            "gridcolor": "#DFE8F3",
            "gridwidth": 2,
            "linecolor": "#EBF0F8",
            "showbackground": true,
            "ticks": "",
            "zerolinecolor": "#EBF0F8"
           }
          },
          "shapedefaults": {
           "line": {
            "color": "#2a3f5f"
           }
          },
          "ternary": {
           "aaxis": {
            "gridcolor": "#DFE8F3",
            "linecolor": "#A2B1C6",
            "ticks": ""
           },
           "baxis": {
            "gridcolor": "#DFE8F3",
            "linecolor": "#A2B1C6",
            "ticks": ""
           },
           "bgcolor": "white",
           "caxis": {
            "gridcolor": "#DFE8F3",
            "linecolor": "#A2B1C6",
            "ticks": ""
           }
          },
          "title": {
           "x": 0.05
          },
          "xaxis": {
           "automargin": true,
           "gridcolor": "#EBF0F8",
           "linecolor": "#EBF0F8",
           "ticks": "",
           "title": {
            "standoff": 15
           },
           "zerolinecolor": "#EBF0F8",
           "zerolinewidth": 2
          },
          "yaxis": {
           "automargin": true,
           "gridcolor": "#EBF0F8",
           "linecolor": "#EBF0F8",
           "ticks": "",
           "title": {
            "standoff": 15
           },
           "zerolinecolor": "#EBF0F8",
           "zerolinewidth": 2
          }
         }
        },
        "title": {
         "text": "Optimization Cost History"
        },
        "xaxis": {
         "title": {
          "text": "Iteration"
         }
        },
        "yaxis": {
         "title": {
          "text": "Loss"
         }
        }
       }
      }
     },
     "metadata": {},
     "output_type": "display_data"
    },
    {
     "name": "stdout",
     "output_type": "stream",
     "text": [
      "(1489,)\n"
     ]
    }
   ],
   "source": [
    "# 4. Visualize the results\n",
    "print(\"4. Visualizing optimization results...\")\n",
    "plot_domain_widths(initial_widths, optimized_widths)\n",
    "plot_thw_power_spectrum(initial_widths, optimized_widths, sim_params, config)\n",
    "plot_cost_history(loss_history)\n",
    "print(optimized_widths.shape)\n",
    "\n",
    "# jnp.save(f\"../datasets/optimized_thg_2000_{config.num_domains}_e4.npy\", optimized_widths)"
   ]
  },
  {
   "cell_type": "code",
   "execution_count": 24,
   "id": "33240a0d",
   "metadata": {},
   "outputs": [
    {
     "name": "stdout",
     "output_type": "stream",
     "text": [
      "2. Setting up loss function and L-BFGS optimizer...\n",
      "3. Running JIT-compiled optimization...\n",
      "   - Initial THW Power: 0.0055\n"
     ]
    },
    {
     "data": {
      "application/vnd.jupyter.widget-view+json": {
       "model_id": "dc3501c2312445c6872df3cce30b2829",
       "version_major": 2,
       "version_minor": 0
      },
      "text/plain": [
       "Optimizing:   0%|          | 0/100 [00:00<?, ?it/s]"
      ]
     },
     "metadata": {},
     "output_type": "display_data"
    },
    {
     "name": "stdout",
     "output_type": "stream",
     "text": [
      "   - Optimized THW Power: 0.0055\n"
     ]
    }
   ],
   "source": [
    "# 追加のoptimization\n",
    "\n",
    "# intermediate_widths = jnp.load(f\"../datasets/optimized_thg_1000_{config.num_domains}_e4.npy\")\n",
    "intermediate_widths = optimized_widths\n",
    "config.max_iters = 100\n",
    "optimized_widths, loss_history = run_optimization(intermediate_widths, sim_params, config)"
   ]
  }
 ],
 "metadata": {
  "kernelspec": {
   "display_name": "mictlan",
   "language": "python",
   "name": "python3"
  },
  "language_info": {
   "codemirror_mode": {
    "name": "ipython",
    "version": 3
   },
   "file_extension": ".py",
   "mimetype": "text/x-python",
   "name": "python",
   "nbconvert_exporter": "python",
   "pygments_lexer": "ipython3",
   "version": "3.13.9"
  }
 },
 "nbformat": 4,
 "nbformat_minor": 5
}
