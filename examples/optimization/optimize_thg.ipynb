{
 "cells": [
  {
   "cell_type": "code",
   "execution_count": 1,
   "id": "178c7358",
   "metadata": {},
   "outputs": [],
   "source": [
    "import jax\n",
    "\n",
    "jax.config.update(\"jax_platforms\", \"cpu\")"
   ]
  },
  {
   "cell_type": "code",
   "execution_count": 7,
   "id": "5a485cfc",
   "metadata": {},
   "outputs": [
    {
     "name": "stdout",
     "output_type": "stream",
     "text": [
      "[CpuDevice(id=0)]\n"
     ]
    }
   ],
   "source": [
    "from collections.abc import Callable\n",
    "from dataclasses import dataclass\n",
    "\n",
    "import jax.numpy as jnp\n",
    "import optax\n",
    "import plotly.graph_objects as go\n",
    "from jax import Array, jit\n",
    "from jax_tqdm.loop_pbar import loop_tqdm\n",
    "\n",
    "from qpm import cwes, mgoslt\n",
    "\n",
    "print(jax.devices())\n",
    "\n",
    "\n",
    "# --- Regularization Strategies ---\n",
    "def tv_regularization(domain_widths: Array, lambda_val: float) -> Array:\n",
    "    \"\"\"Total Variation (TV) regularization penalizes the absolute difference between adjacent parameter values.\"\"\"\n",
    "    return lambda_val * jnp.sum(jnp.abs(jnp.diff(domain_widths)))\n",
    "\n",
    "\n",
    "REGULARIZATION_FNS: dict[str, Callable[[Array, float], Array]] = {\n",
    "    \"tv\": tv_regularization,\n",
    "}\n",
    "\n",
    "\n",
    "# --- Data Structures for Configuration and Parameters ---\n",
    "@dataclass\n",
    "class Config:\n",
    "    design_temp: float = 70.0\n",
    "    design_wl: float = 1.031\n",
    "    num_domains: int = 1000\n",
    "    max_iters: int = 100\n",
    "    prng_seed: int = 42\n",
    "    kappa_mag: float = 1.31e-5 / (2 / jnp.pi)  # e-5にすると序盤の効率が低すぎて勾配が消失する\n",
    "    kappa_target_length: float = 2000.0\n",
    "    wl_start: float = 1.025\n",
    "    wl_end: float = 1.035\n",
    "    num_wl_points: int = 500\n",
    "    # Regularization parameters\n",
    "    regularization: str | None = None\n",
    "    lambda_val: float = 1e-4\n",
    "\n",
    "\n",
    "@dataclass(frozen=True)\n",
    "class SimulationParameters:\n",
    "    delta_k1: Array\n",
    "    delta_k2: Array\n",
    "    kappa_array: Array\n",
    "    b_initial: Array\n",
    "\n",
    "\n",
    "# --- Core JAX Functions ---\n",
    "def make_loss_fn(\n",
    "    sim_params: SimulationParameters,\n",
    "    regularization_fn: Callable[[Array, float], Array] | None = None,\n",
    "    lambda_val: float = 0.0,\n",
    ") -> Callable[[Array], Array]:\n",
    "    \"\"\"Creates a loss function that returns the negative THW power with optional regularization.\"\"\"\n",
    "\n",
    "    @jit\n",
    "    def loss_fn(domain_widths: Array) -> Array:\n",
    "        b_final = cwes.simulate_twm(domain_widths, sim_params.kappa_array, sim_params.delta_k1, sim_params.delta_k2, sim_params.b_initial)\n",
    "        thw_power = jnp.abs(b_final[2]) ** 2\n",
    "\n",
    "        loss = -thw_power\n",
    "\n",
    "        if regularization_fn:\n",
    "            loss += regularization_fn(domain_widths, lambda_val)\n",
    "\n",
    "        return loss\n",
    "\n",
    "    return loss_fn\n",
    "\n",
    "\n",
    "# --- Workflow Functions ---\n",
    "def initialize_grating(config: Config) -> tuple[Array, Array, Array, Array, Array]:\n",
    "    \"\"\"Generates initial grating parameters based on the configuration.\"\"\"\n",
    "    print(\"1. Generating initial grating parameters...\")\n",
    "    delta_k1 = mgoslt.calc_twm_delta_k(config.design_wl, config.design_wl, config.design_temp)\n",
    "    delta_k2 = mgoslt.calc_twm_delta_k(config.design_wl, config.design_wl / 2, config.design_temp)\n",
    "\n",
    "    shg_domain_width = jnp.pi / delta_k1\n",
    "    num_domains = config.num_domains\n",
    "    print(f\"   - Base domain width from calculation: {shg_domain_width:.4f} μm\")\n",
    "    print(f\"   - Number of domains: {num_domains}\")\n",
    "\n",
    "    kappa_array = config.kappa_mag * jnp.power(-1.0, jnp.arange(num_domains))\n",
    "\n",
    "    periodic_widths = jnp.full(num_domains, shg_domain_width)\n",
    "    key = jax.random.PRNGKey(config.prng_seed)\n",
    "    noise = jax.random.normal(key, shape=(num_domains,)) * (shg_domain_width * 0.2)\n",
    "    initial_widths = periodic_widths + noise\n",
    "\n",
    "    # shg_domains = num_domains // 2\n",
    "    # sfg_domains = num_domains - shg_domains\n",
    "    # initial_widths = jnp.concatenate(\n",
    "    #     [\n",
    "    #         jnp.full(shg_domains, shg_domain_width),\n",
    "    #         jnp.full(sfg_domains, (jnp.pi / delta_k2)),\n",
    "    #     ],\n",
    "    # )\n",
    "\n",
    "    return delta_k1, delta_k2, kappa_array, periodic_widths, initial_widths\n",
    "\n",
    "\n",
    "def run_optimization(\n",
    "    initial_widths: Array,\n",
    "    sim_params: SimulationParameters,\n",
    "    config: Config,\n",
    ") -> tuple[Array, Array]:\n",
    "    \"\"\"Sets up and runs the L-BFGS optimization.\"\"\"\n",
    "    print(\"2. Setting up loss function and L-BFGS optimizer...\")\n",
    "    regularization_fn = REGULARIZATION_FNS.get(config.regularization) if config.regularization else None\n",
    "    loss_fn = make_loss_fn(sim_params, regularization_fn, config.lambda_val)\n",
    "    solver = optax.lbfgs()\n",
    "\n",
    "    @jit\n",
    "    def run_full_optimization(initial_params: Array) -> tuple[Array, Array]:\n",
    "        initial_loss_history = jnp.zeros(config.max_iters)\n",
    "\n",
    "        @loop_tqdm(config.max_iters, desc=\"Optimizing\")\n",
    "        def step(i: int, state: tuple[Array, optax.OptState, Array]) -> tuple[optax.Params, optax.OptState, Array]:\n",
    "            params, opt_state, loss_history = state\n",
    "            value, grad = jax.value_and_grad(loss_fn)(params)\n",
    "            updates, opt_state = solver.update(grad, opt_state, params, value=value, grad=grad, value_fn=loss_fn)\n",
    "            params = optax.apply_updates(params, updates)\n",
    "            loss_history = loss_history.at[i].set(value)\n",
    "            return params, opt_state, loss_history\n",
    "\n",
    "        initial_opt_state = solver.init(initial_params)\n",
    "        optimized_params, _, loss_history = jax.lax.fori_loop(\n",
    "            0,\n",
    "            config.max_iters,\n",
    "            step,\n",
    "            (initial_params, initial_opt_state, initial_loss_history),\n",
    "        )\n",
    "        return optimized_params, loss_history\n",
    "\n",
    "    print(\"3. Running JIT-compiled optimization...\")\n",
    "    print(f\"   - Initial THW Power: {-loss_fn(initial_widths):.4f}\")\n",
    "\n",
    "    optimized_widths, loss_history = run_full_optimization(initial_widths)\n",
    "    optimized_widths.block_until_ready()\n",
    "\n",
    "    print(f\"   - Optimized THW Power: {-loss_fn(optimized_widths):.4f}\")\n",
    "    return optimized_widths, loss_history\n",
    "\n",
    "\n",
    "# --- Visualization Functions ---\n",
    "def _calculate_spectrum(domain_widths: Array, sim_params: SimulationParameters, config: Config) -> tuple[Array, Array]:\n",
    "    \"\"\"Helper function to compute the THW Power spectrum for a given grating.\"\"\"\n",
    "    wls = jnp.linspace(config.wl_start, config.wl_end, config.num_wl_points)\n",
    "    delta_k1s = mgoslt.calc_twm_delta_k(wls, wls, config.design_temp)\n",
    "    delta_k2s = mgoslt.calc_twm_delta_k(wls, wls / 2, config.design_temp)\n",
    "\n",
    "    compute_spectrum_vmap = jit(jax.vmap(cwes.simulate_twm, in_axes=(None, None, 0, 0, None)))\n",
    "\n",
    "    final_vectors = compute_spectrum_vmap(domain_widths, sim_params.kappa_array, delta_k1s, delta_k2s, sim_params.b_initial)\n",
    "    thw_powers = jnp.abs(final_vectors[:, 2]) ** 2 * 1.07 / 2.84 * 100\n",
    "    return wls, thw_powers\n",
    "\n",
    "\n",
    "def plot_domain_widths(initial_widths: Array, optimized_widths: Array, periodic_widths: Array) -> None:\n",
    "    \"\"\"Plots the domain widths before and after optimization.\"\"\"\n",
    "    fig = go.Figure()\n",
    "    fig.add_trace(go.Scatter(y=initial_widths, mode=\"lines\", name=\"Initial\", line={\"dash\": \"dash\"}))\n",
    "    fig.add_trace(go.Scatter(y=periodic_widths, mode=\"lines\", name=\"Periodic\", line={\"dash\": \"dot\"}))\n",
    "    fig.add_trace(go.Scatter(y=optimized_widths, mode=\"lines\", name=\"Optimized\"))\n",
    "    fig.update_layout(\n",
    "        title_text=\"Domain Widths Comparison\",\n",
    "        xaxis_title=\"Domain Index\",\n",
    "        yaxis_title=\"Width (μm)\",\n",
    "        template=\"plotly_white\",\n",
    "    )\n",
    "    fig.show()\n",
    "\n",
    "\n",
    "def plot_thw_power_spectrum(\n",
    "    initial_widths: Array,\n",
    "    optimized_widths: Array,\n",
    "    periodic_widths: Array,\n",
    "    sim_params: SimulationParameters,\n",
    "    config: Config,\n",
    ") -> None:\n",
    "    \"\"\"Plots the SHG Power spectrum before and after optimization.\"\"\"\n",
    "    wls, initial_effs = _calculate_spectrum(initial_widths, sim_params, config)\n",
    "    _, optimized_effs = _calculate_spectrum(optimized_widths, sim_params, config)\n",
    "    _, periodic_effs = _calculate_spectrum(periodic_widths, sim_params, config)\n",
    "\n",
    "    fig = go.Figure()\n",
    "    fig.add_trace(go.Scatter(x=wls, y=initial_effs, mode=\"lines\", name=\"Initial\", line={\"dash\": \"dash\"}))\n",
    "    fig.add_trace(go.Scatter(x=wls, y=periodic_effs, mode=\"lines\", name=\"Periodic\", line={\"dash\": \"dot\"}))\n",
    "    fig.add_trace(go.Scatter(x=wls, y=optimized_effs, mode=\"lines\", name=\"Optimized\"))\n",
    "    fig.add_vline(\n",
    "        x=config.design_wl,\n",
    "        line_dash=\"dot\",\n",
    "        line_color=\"red\",\n",
    "        annotation_text=f\"Design λ {config.design_wl}μm\",\n",
    "        annotation_position=\"bottom right\",\n",
    "    )\n",
    "    fig.update_layout(\n",
    "        title_text=\"THW Power Spectrum Comparison\",\n",
    "        xaxis_title=\"Fundamental Wavelength (μm)\",\n",
    "        yaxis_title=\"THW Power\",\n",
    "        template=\"plotly_white\",\n",
    "    )\n",
    "    fig.show()\n",
    "\n",
    "\n",
    "def plot_cost_history(loss_history: Array) -> None:\n",
    "    \"\"\"Plots the optimization cost history.\"\"\"\n",
    "    fig = go.Figure()\n",
    "    fig.add_trace(go.Scatter(y=loss_history, mode=\"lines\", name=\"Loss\"))\n",
    "    fig.update_layout(\n",
    "        title_text=\"Optimization Cost History\",\n",
    "        xaxis_title=\"Iteration\",\n",
    "        yaxis_title=\"Loss\",\n",
    "        template=\"plotly_white\",\n",
    "    )\n",
    "    fig.show()\n",
    "\n",
    "\n",
    "\"\"\"Main function to run the optimization and visualization.\"\"\"\n",
    "config = Config()"
   ]
  },
  {
   "cell_type": "code",
   "execution_count": 3,
   "id": "444bdfc0",
   "metadata": {},
   "outputs": [
    {
     "name": "stdout",
     "output_type": "stream",
     "text": [
      "1. Generating initial grating parameters...\n",
      "   - Base domain width from calculation: 3.6008 μm\n",
      "   - Number of domains: 1000\n",
      "2. Setting up loss function and L-BFGS optimizer...\n",
      "3. Running JIT-compiled optimization...\n",
      "   - Initial THW Power: 0.0000\n"
     ]
    },
    {
     "data": {
      "application/vnd.jupyter.widget-view+json": {
       "model_id": "11480dc2381f45eaa5b2367666275173",
       "version_major": 2,
       "version_minor": 0
      },
      "text/plain": [
       "Optimizing:   0%|          | 0/100 [00:00<?, ?it/s]"
      ]
     },
     "metadata": {},
     "output_type": "display_data"
    },
    {
     "name": "stdout",
     "output_type": "stream",
     "text": [
      "   - Optimized THW Power: 0.0004\n"
     ]
    }
   ],
   "source": [
    "# 1. Generate initial physical parameters and domain widths\n",
    "delta_k1, delta_k2, kappa_array, periodic_widths, initial_widths = initialize_grating(config)\n",
    "# 2. Create simulation parameters\n",
    "sim_params = SimulationParameters(\n",
    "    delta_k1=delta_k1,\n",
    "    delta_k2=delta_k2,\n",
    "    kappa_array=kappa_array,\n",
    "    b_initial=jnp.array([1.0, 0.0, 0.0], dtype=jnp.complex64),\n",
    ")\n",
    "# 3. Run the optimization with the clean parameter objects\n",
    "optimized_widths, loss_history = run_optimization(initial_widths, sim_params, config)"
   ]
  },
  {
   "cell_type": "code",
   "execution_count": 9,
   "id": "665e2786",
   "metadata": {},
   "outputs": [
    {
     "name": "stdout",
     "output_type": "stream",
     "text": [
      "4. Visualizing optimization results...\n"
     ]
    },
    {
     "data": {
      "application/vnd.plotly.v1+json": {
       "config": {
        "plotlyServerURL": "https://plot.ly"
       },
       "data": [
        {
         "line": {
          "dash": "dash"
         },
         "mode": "lines",
         "name": "Initial",
         "type": "scatter",
         "y": {
          "bdata": "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",
          "dtype": "f4"
         }
        },
        {
         "line": {
          "dash": "dot"
         },
         "mode": "lines",
         "name": "Periodic",
         "type": "scatter",
         "y": {
          "bdata": "/nNmQP5zZkD+c2ZA/nNmQP5zZkD+c2ZA/nNmQP5zZkD+c2ZA/nNmQP5zZkD+c2ZA/nNmQP5zZkD+c2ZA/nNmQP5zZkD+c2ZA/nNmQP5zZkD+c2ZA/nNmQP5zZkD+c2ZA/nNmQP5zZkD+c2ZA/nNmQP5zZkD+c2ZA/nNmQP5zZkD+c2ZA/nNmQP5zZkD+c2ZA/nNmQP5zZkD+c2ZA/nNmQP5zZkD+c2ZA/nNmQP5zZkD+c2ZA/nNmQP5zZkD+c2ZA/nNmQP5zZkD+c2ZA/nNmQP5zZkD+c2ZA/nNmQP5zZkD+c2ZA/nNmQP5zZkD+c2ZA/nNmQP5zZkD+c2ZA/nNmQP5zZkD+c2ZA/nNmQP5zZkD+c2ZA/nNmQP5zZkD+c2ZA/nNmQP5zZkD+c2ZA/nNmQP5zZkD+c2ZA/nNmQP5zZkD+c2ZA/nNmQP5zZkD+c2ZA/nNmQP5zZkD+c2ZA/nNmQP5zZkD+c2ZA/nNmQP5zZkD+c2ZA/nNmQP5zZkD+c2ZA/nNmQP5zZkD+c2ZA/nNmQP5zZkD+c2ZA/nNmQP5zZkD+c2ZA/nNmQP5zZkD+c2ZA/nNmQP5zZkD+c2ZA/nNmQP5zZkD+c2ZA/nNmQP5zZkD+c2ZA/nNmQP5zZkD+c2ZA/nNmQP5zZkD+c2ZA/nNmQP5zZkD+c2ZA/nNmQP5zZkD+c2ZA/nNmQP5zZkD+c2ZA/nNmQP5zZkD+c2ZA/nNmQP5zZkD+c2ZA/nNmQP5zZkD+c2ZA/nNmQP5zZkD+c2ZA/nNmQP5zZkD+c2ZA/nNmQP5zZkD+c2ZA/nNmQP5zZkD+c2ZA/nNmQP5zZkD+c2ZA/nNmQP5zZkD+c2ZA/nNmQP5zZkD+c2ZA/nNmQP5zZkD+c2ZA/nNmQP5zZkD+c2ZA/nNmQP5zZkD+c2ZA/nNmQP5zZkD+c2ZA/nNmQP5zZkD+c2ZA/nNmQP5zZkD+c2ZA/nNmQP5zZkD+c2ZA/nNmQP5zZkD+c2ZA/nNmQP5zZkD+c2ZA/nNmQP5zZkD+c2ZA/nNmQP5zZkD+c2ZA/nNmQP5zZkD+c2ZA/nNmQP5zZkD+c2ZA/nNmQP5zZkD+c2ZA/nNmQP5zZkD+c2ZA/nNmQP5zZkD+c2ZA/nNmQP5zZkD+c2ZA/nNmQP5zZkD+c2ZA/nNmQP5zZkD+c2ZA/nNmQP5zZkD+c2ZA/nNmQP5zZkD+c2ZA/nNmQP5zZkD+c2ZA/nNmQP5zZkD+c2ZA/nNmQP5zZkD+c2ZA/nNmQP5zZkD+c2ZA/nNmQP5zZkD+c2ZA/nNmQP5zZkD+c2ZA/nNmQP5zZkD+c2ZA/nNmQP5zZkD+c2ZA/nNmQP5zZkD+c2ZA/nNmQP5zZkD+c2ZA/nNmQP5zZkD+c2ZA/nNmQP5zZkD+c2ZA/nNmQP5zZkD+c2ZA/nNmQP5zZkD+c2ZA/nNmQP5zZkD+c2ZA/nNmQP5zZkD+c2ZA/nNmQP5zZkD+c2ZA/nNmQP5zZkD+c2ZA/nNmQP5zZkD+c2ZA/nNmQP5zZkD+c2ZA/nNmQP5zZkD+c2ZA/nNmQP5zZkD+c2ZA/nNmQP5zZkD+c2ZA/nNmQP5zZkD+c2ZA/nNmQP5zZkD+c2ZA/nNmQP5zZkD+c2ZA/nNmQP5zZkD+c2ZA/nNmQP5zZkD+c2ZA/nNmQP5zZkD+c2ZA/nNmQP5zZkD+c2ZA/nNmQP5zZkD+c2ZA/nNmQP5zZkD+c2ZA/nNmQP5zZkD+c2ZA/nNmQP5zZkD+c2ZA/nNmQP5zZkD+c2ZA/nNmQP5zZkD+c2ZA/nNmQP5zZkD+c2ZA/nNmQP5zZkD+c2ZA/nNmQP5zZkD+c2ZA/nNmQP5zZkD+c2ZA/nNmQP5zZkD+c2ZA/nNmQP5zZkD+c2ZA/nNmQP5zZkD+c2ZA/nNmQP5zZkD+c2ZA/nNmQP5zZkD+c2ZA/nNmQP5zZkD+c2ZA/nNmQP5zZkD+c2ZA/nNmQP5zZkD+c2ZA/nNmQP5zZkD+c2ZA/nNmQP5zZkD+c2ZA/nNmQP5zZkD+c2ZA/nNmQP5zZkD+c2ZA/nNmQP5zZkD+c2ZA/nNmQP5zZkD+c2ZA/nNmQP5zZkD+c2ZA/nNmQP5zZkD+c2ZA/nNmQP5zZkD+c2ZA/nNmQP5zZkD+c2ZA/nNmQP5zZkD+c2ZA/nNmQP5zZkD+c2ZA/nNmQP5zZkD+c2ZA/nNmQP5zZkD+c2ZA/nNmQP5zZkD+c2ZA/nNmQP5zZkD+c2ZA/nNmQP5zZkD+c2ZA/nNmQP5zZkD+c2ZA/nNmQP5zZkD+c2ZA/nNmQP5zZkD+c2ZA/nNmQP5zZkD+c2ZA/nNmQP5zZkD+c2ZA/nNmQP5zZkD+c2ZA/nNmQP5zZkD+c2ZA/nNmQP5zZkD+c2ZA/nNmQP5zZkD+c2ZA/nNmQP5zZkD+c2ZA/nNmQP5zZkD+c2ZA/nNmQP5zZkD+c2ZA/nNmQP5zZkD+c2ZA/nNmQP5zZkD+c2ZA/nNmQP5zZkD+c2ZA/nNmQP5zZkD+c2ZA/nNmQP5zZkD+c2ZA/nNmQP5zZkD+c2ZA/nNmQP5zZkD+c2ZA/nNmQP5zZkD+c2ZA/nNmQP5zZkD+c2ZA/nNmQP5zZkD+c2ZA/nNmQP5zZkD+c2ZA/nNmQP5zZkD+c2ZA/nNmQP5zZkD+c2ZA/nNmQP5zZkD+c2ZA/nNmQP5zZkD+c2ZA/nNmQP5zZkD+c2ZA/nNmQP5zZkD+c2ZA/nNmQP5zZkD+c2ZA/nNmQP5zZkD+c2ZA/nNmQP5zZkD+c2ZA/nNmQP5zZkD+c2ZA/nNmQP5zZkD+c2ZA/nNmQP5zZkD+c2ZA/nNmQP5zZkD+c2ZA/nNmQP5zZkD+c2ZA/nNmQP5zZkD+c2ZA/nNmQP5zZkD+c2ZA/nNmQP5zZkD+c2ZA/nNmQP5zZkD+c2ZA/nNmQP5zZkD+c2ZA/nNmQP5zZkD+c2ZA/nNmQP5zZkD+c2ZA/nNmQP5zZkD+c2ZA/nNmQP5zZkD+c2ZA/nNmQP5zZkD+c2ZA/nNmQP5zZkD+c2ZA/nNmQP5zZkD+c2ZA/nNmQP5zZkD+c2ZA/nNmQP5zZkD+c2ZA/nNmQP5zZkD+c2ZA/nNmQP5zZkD+c2ZA/nNmQP5zZkD+c2ZA/nNmQP5zZkD+c2ZA/nNmQP5zZkD+c2ZA/nNmQP5zZkD+c2ZA/nNmQP5zZkD+c2ZA/nNmQP5zZkD+c2ZA/nNmQP5zZkD+c2ZA/nNmQP5zZkD+c2ZA/nNmQP5zZkD+c2ZA/nNmQP5zZkD+c2ZA/nNmQP5zZkD+c2ZA/nNmQP5zZkD+c2ZA/nNmQP5zZkD+c2ZA/nNmQP5zZkD+c2ZA/nNmQP5zZkD+c2ZA/nNmQP5zZkD+c2ZA/nNmQP5zZkD+c2ZA/nNmQP5zZkD+c2ZA/nNmQP5zZkD+c2ZA/nNmQP5zZkD+c2ZA/nNmQP5zZkD+c2ZA/nNmQP5zZkD+c2ZA/nNmQP5zZkD+c2ZA/nNmQP5zZkD+c2ZA/nNmQP5zZkD+c2ZA/nNmQP5zZkD+c2ZA/nNmQP5zZkD+c2ZA/nNmQP5zZkD+c2ZA/nNmQP5zZkD+c2ZA/nNmQP5zZkD+c2ZA/nNmQP5zZkD+c2ZA/nNmQP5zZkD+c2ZA/nNmQP5zZkD+c2ZA/nNmQP5zZkD+c2ZA/nNmQP5zZkD+c2ZA/nNmQP5zZkD+c2ZA/nNmQP5zZkD+c2ZA/nNmQP5zZkD+c2ZA/nNmQP5zZkD+c2ZA/nNmQP5zZkD+c2ZA/nNmQP5zZkD+c2ZA/nNmQP5zZkD+c2ZA/nNmQP5zZkD+c2ZA/nNmQP5zZkD+c2ZA/nNmQP5zZkD+c2ZA/nNmQP5zZkD+c2ZA/nNmQP5zZkD+c2ZA/nNmQP5zZkD+c2ZA/nNmQP5zZkD+c2ZA/nNmQP5zZkD+c2ZA/nNmQP5zZkD+c2ZA/nNmQP5zZkD+c2ZA/nNmQP5zZkD+c2ZA/nNmQP5zZkD+c2ZA/nNmQP5zZkD+c2ZA/nNmQP5zZkD+c2ZA/nNmQP5zZkD+c2ZA/nNmQP5zZkD+c2ZA/nNmQP5zZkD+c2ZA/nNmQP5zZkD+c2ZA/nNmQP5zZkD+c2ZA/nNmQP5zZkD+c2ZA/nNmQP5zZkD+c2ZA/nNmQP5zZkD+c2ZA/nNmQP5zZkD+c2ZA/nNmQP5zZkD+c2ZA/nNmQP5zZkD+c2ZA/nNmQP5zZkD+c2ZA/nNmQP5zZkD+c2ZA/nNmQP5zZkD+c2ZA/nNmQP5zZkD+c2ZA/nNmQP5zZkD+c2ZA/nNmQP5zZkD+c2ZA/nNmQP5zZkD+c2ZA/nNmQP5zZkD+c2ZA/nNmQP5zZkD+c2ZA/nNmQP5zZkD+c2ZA/nNmQP5zZkD+c2ZA/nNmQP5zZkD+c2ZA/nNmQP5zZkD+c2ZA/nNmQP5zZkD+c2ZA/nNmQP5zZkD+c2ZA/nNmQP5zZkD+c2ZA/nNmQP5zZkD+c2ZA/nNmQP5zZkD+c2ZA/nNmQP5zZkD+c2ZA/nNmQP5zZkD+c2ZA/nNmQP5zZkD+c2ZA/nNmQP5zZkD+c2ZA/nNmQP5zZkD+c2ZA/nNmQP5zZkD+c2ZA/nNmQP5zZkD+c2ZA/nNmQP5zZkD+c2ZA/nNmQP5zZkD+c2ZA/nNmQP5zZkD+c2ZA/nNmQP5zZkD+c2ZA/nNmQP5zZkD+c2ZA/nNmQP5zZkD+c2ZA/nNmQP5zZkD+c2ZA/nNmQP5zZkD+c2ZA/nNmQP5zZkD+c2ZA/nNmQP5zZkD+c2ZA/nNmQP5zZkD+c2ZA/nNmQP5zZkD+c2ZA/nNmQP5zZkD+c2ZA/nNmQP5zZkD+c2ZA/nNmQP5zZkD+c2ZA/nNmQP5zZkD+c2ZA/nNmQP5zZkD+c2ZA/nNmQP5zZkD+c2ZA/nNmQP5zZkD+c2ZA/nNmQP5zZkD+c2ZA/nNmQP5zZkD+c2ZA/nNmQP5zZkD+c2ZA/nNmQP5zZkD+c2ZA/nNmQP5zZkD+c2ZA/nNmQP5zZkD+c2ZA/nNmQP5zZkD+c2ZA/nNmQP5zZkD+c2ZA/nNmQP5zZkD+c2ZA/nNmQP5zZkD+c2ZA/nNmQP5zZkD+c2ZA/nNmQP5zZkD+c2ZA/nNmQP5zZkD+c2ZA/nNmQP5zZkD+c2ZA/nNmQP5zZkD+c2ZA/nNmQP5zZkD+c2ZA/nNmQP5zZkD+c2ZA/nNmQP5zZkD+c2ZA/nNmQP5zZkD+c2ZA/nNmQP5zZkD+c2ZA/nNmQP5zZkD+c2ZA/nNmQP5zZkD+c2ZA/nNmQP5zZkD+c2ZA/nNmQP5zZkD+c2ZA/nNmQP5zZkD+c2ZA/nNmQP5zZkD+c2ZA/nNmQP5zZkD+c2ZA/nNmQP5zZkD+c2ZA/nNmQP5zZkD+c2ZA/nNmQA==",
          "dtype": "f4"
         }
        },
        {
         "mode": "lines",
         "name": "Optimized",
         "type": "scatter",
         "y": {
          "bdata": "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",
          "dtype": "f4"
         }
        }
       ],
       "layout": {
        "template": {
         "data": {
          "bar": [
           {
            "error_x": {
             "color": "#2a3f5f"
            },
            "error_y": {
             "color": "#2a3f5f"
            },
            "marker": {
             "line": {
              "color": "white",
              "width": 0.5
             },
             "pattern": {
              "fillmode": "overlay",
              "size": 10,
              "solidity": 0.2
             }
            },
            "type": "bar"
           }
          ],
          "barpolar": [
           {
            "marker": {
             "line": {
              "color": "white",
              "width": 0.5
             },
             "pattern": {
              "fillmode": "overlay",
              "size": 10,
              "solidity": 0.2
             }
            },
            "type": "barpolar"
           }
          ],
          "carpet": [
           {
            "aaxis": {
             "endlinecolor": "#2a3f5f",
             "gridcolor": "#C8D4E3",
             "linecolor": "#C8D4E3",
             "minorgridcolor": "#C8D4E3",
             "startlinecolor": "#2a3f5f"
            },
            "baxis": {
             "endlinecolor": "#2a3f5f",
             "gridcolor": "#C8D4E3",
             "linecolor": "#C8D4E3",
             "minorgridcolor": "#C8D4E3",
             "startlinecolor": "#2a3f5f"
            },
            "type": "carpet"
           }
          ],
          "choropleth": [
           {
            "colorbar": {
             "outlinewidth": 0,
             "ticks": ""
            },
            "type": "choropleth"
           }
          ],
          "contour": [
           {
            "colorbar": {
             "outlinewidth": 0,
             "ticks": ""
            },
            "colorscale": [
             [
              0,
              "#0d0887"
             ],
             [
              0.1111111111111111,
              "#46039f"
             ],
             [
              0.2222222222222222,
              "#7201a8"
             ],
             [
              0.3333333333333333,
              "#9c179e"
             ],
             [
              0.4444444444444444,
              "#bd3786"
             ],
             [
              0.5555555555555556,
              "#d8576b"
             ],
             [
              0.6666666666666666,
              "#ed7953"
             ],
             [
              0.7777777777777778,
              "#fb9f3a"
             ],
             [
              0.8888888888888888,
              "#fdca26"
             ],
             [
              1,
              "#f0f921"
             ]
            ],
            "type": "contour"
           }
          ],
          "contourcarpet": [
           {
            "colorbar": {
             "outlinewidth": 0,
             "ticks": ""
            },
            "type": "contourcarpet"
           }
          ],
          "heatmap": [
           {
            "colorbar": {
             "outlinewidth": 0,
             "ticks": ""
            },
            "colorscale": [
             [
              0,
              "#0d0887"
             ],
             [
              0.1111111111111111,
              "#46039f"
             ],
             [
              0.2222222222222222,
              "#7201a8"
             ],
             [
              0.3333333333333333,
              "#9c179e"
             ],
             [
              0.4444444444444444,
              "#bd3786"
             ],
             [
              0.5555555555555556,
              "#d8576b"
             ],
             [
              0.6666666666666666,
              "#ed7953"
             ],
             [
              0.7777777777777778,
              "#fb9f3a"
             ],
             [
              0.8888888888888888,
              "#fdca26"
             ],
             [
              1,
              "#f0f921"
             ]
            ],
            "type": "heatmap"
           }
          ],
          "histogram": [
           {
            "marker": {
             "pattern": {
              "fillmode": "overlay",
              "size": 10,
              "solidity": 0.2
             }
            },
            "type": "histogram"
           }
          ],
          "histogram2d": [
           {
            "colorbar": {
             "outlinewidth": 0,
             "ticks": ""
            },
            "colorscale": [
             [
              0,
              "#0d0887"
             ],
             [
              0.1111111111111111,
              "#46039f"
             ],
             [
              0.2222222222222222,
              "#7201a8"
             ],
             [
              0.3333333333333333,
              "#9c179e"
             ],
             [
              0.4444444444444444,
              "#bd3786"
             ],
             [
              0.5555555555555556,
              "#d8576b"
             ],
             [
              0.6666666666666666,
              "#ed7953"
             ],
             [
              0.7777777777777778,
              "#fb9f3a"
             ],
             [
              0.8888888888888888,
              "#fdca26"
             ],
             [
              1,
              "#f0f921"
             ]
            ],
            "type": "histogram2d"
           }
          ],
          "histogram2dcontour": [
           {
            "colorbar": {
             "outlinewidth": 0,
             "ticks": ""
            },
            "colorscale": [
             [
              0,
              "#0d0887"
             ],
             [
              0.1111111111111111,
              "#46039f"
             ],
             [
              0.2222222222222222,
              "#7201a8"
             ],
             [
              0.3333333333333333,
              "#9c179e"
             ],
             [
              0.4444444444444444,
              "#bd3786"
             ],
             [
              0.5555555555555556,
              "#d8576b"
             ],
             [
              0.6666666666666666,
              "#ed7953"
             ],
             [
              0.7777777777777778,
              "#fb9f3a"
             ],
             [
              0.8888888888888888,
              "#fdca26"
             ],
             [
              1,
              "#f0f921"
             ]
            ],
            "type": "histogram2dcontour"
           }
          ],
          "mesh3d": [
           {
            "colorbar": {
             "outlinewidth": 0,
             "ticks": ""
            },
            "type": "mesh3d"
           }
          ],
          "parcoords": [
           {
            "line": {
             "colorbar": {
              "outlinewidth": 0,
              "ticks": ""
             }
            },
            "type": "parcoords"
           }
          ],
          "pie": [
           {
            "automargin": true,
            "type": "pie"
           }
          ],
          "scatter": [
           {
            "fillpattern": {
             "fillmode": "overlay",
             "size": 10,
             "solidity": 0.2
            },
            "type": "scatter"
           }
          ],
          "scatter3d": [
           {
            "line": {
             "colorbar": {
              "outlinewidth": 0,
              "ticks": ""
             }
            },
            "marker": {
             "colorbar": {
              "outlinewidth": 0,
              "ticks": ""
             }
            },
            "type": "scatter3d"
           }
          ],
          "scattercarpet": [
           {
            "marker": {
             "colorbar": {
              "outlinewidth": 0,
              "ticks": ""
             }
            },
            "type": "scattercarpet"
           }
          ],
          "scattergeo": [
           {
            "marker": {
             "colorbar": {
              "outlinewidth": 0,
              "ticks": ""
             }
            },
            "type": "scattergeo"
           }
          ],
          "scattergl": [
           {
            "marker": {
             "colorbar": {
              "outlinewidth": 0,
              "ticks": ""
             }
            },
            "type": "scattergl"
           }
          ],
          "scattermap": [
           {
            "marker": {
             "colorbar": {
              "outlinewidth": 0,
              "ticks": ""
             }
            },
            "type": "scattermap"
           }
          ],
          "scattermapbox": [
           {
            "marker": {
             "colorbar": {
              "outlinewidth": 0,
              "ticks": ""
             }
            },
            "type": "scattermapbox"
           }
          ],
          "scatterpolar": [
           {
            "marker": {
             "colorbar": {
              "outlinewidth": 0,
              "ticks": ""
             }
            },
            "type": "scatterpolar"
           }
          ],
          "scatterpolargl": [
           {
            "marker": {
             "colorbar": {
              "outlinewidth": 0,
              "ticks": ""
             }
            },
            "type": "scatterpolargl"
           }
          ],
          "scatterternary": [
           {
            "marker": {
             "colorbar": {
              "outlinewidth": 0,
              "ticks": ""
             }
            },
            "type": "scatterternary"
           }
          ],
          "surface": [
           {
            "colorbar": {
             "outlinewidth": 0,
             "ticks": ""
            },
            "colorscale": [
             [
              0,
              "#0d0887"
             ],
             [
              0.1111111111111111,
              "#46039f"
             ],
             [
              0.2222222222222222,
              "#7201a8"
             ],
             [
              0.3333333333333333,
              "#9c179e"
             ],
             [
              0.4444444444444444,
              "#bd3786"
             ],
             [
              0.5555555555555556,
              "#d8576b"
             ],
             [
              0.6666666666666666,
              "#ed7953"
             ],
             [
              0.7777777777777778,
              "#fb9f3a"
             ],
             [
              0.8888888888888888,
              "#fdca26"
             ],
             [
              1,
              "#f0f921"
             ]
            ],
            "type": "surface"
           }
          ],
          "table": [
           {
            "cells": {
             "fill": {
              "color": "#EBF0F8"
             },
             "line": {
              "color": "white"
             }
            },
            "header": {
             "fill": {
              "color": "#C8D4E3"
             },
             "line": {
              "color": "white"
             }
            },
            "type": "table"
           }
          ]
         },
         "layout": {
          "annotationdefaults": {
           "arrowcolor": "#2a3f5f",
           "arrowhead": 0,
           "arrowwidth": 1
          },
          "autotypenumbers": "strict",
          "coloraxis": {
           "colorbar": {
            "outlinewidth": 0,
            "ticks": ""
           }
          },
          "colorscale": {
           "diverging": [
            [
             0,
             "#8e0152"
            ],
            [
             0.1,
             "#c51b7d"
            ],
            [
             0.2,
             "#de77ae"
            ],
            [
             0.3,
             "#f1b6da"
            ],
            [
             0.4,
             "#fde0ef"
            ],
            [
             0.5,
             "#f7f7f7"
            ],
            [
             0.6,
             "#e6f5d0"
            ],
            [
             0.7,
             "#b8e186"
            ],
            [
             0.8,
             "#7fbc41"
            ],
            [
             0.9,
             "#4d9221"
            ],
            [
             1,
             "#276419"
            ]
           ],
           "sequential": [
            [
             0,
             "#0d0887"
            ],
            [
             0.1111111111111111,
             "#46039f"
            ],
            [
             0.2222222222222222,
             "#7201a8"
            ],
            [
             0.3333333333333333,
             "#9c179e"
            ],
            [
             0.4444444444444444,
             "#bd3786"
            ],
            [
             0.5555555555555556,
             "#d8576b"
            ],
            [
             0.6666666666666666,
             "#ed7953"
            ],
            [
             0.7777777777777778,
             "#fb9f3a"
            ],
            [
             0.8888888888888888,
             "#fdca26"
            ],
            [
             1,
             "#f0f921"
            ]
           ],
           "sequentialminus": [
            [
             0,
             "#0d0887"
            ],
            [
             0.1111111111111111,
             "#46039f"
            ],
            [
             0.2222222222222222,
             "#7201a8"
            ],
            [
             0.3333333333333333,
             "#9c179e"
            ],
            [
             0.4444444444444444,
             "#bd3786"
            ],
            [
             0.5555555555555556,
             "#d8576b"
            ],
            [
             0.6666666666666666,
             "#ed7953"
            ],
            [
             0.7777777777777778,
             "#fb9f3a"
            ],
            [
             0.8888888888888888,
             "#fdca26"
            ],
            [
             1,
             "#f0f921"
            ]
           ]
          },
          "colorway": [
           "#636efa",
           "#EF553B",
           "#00cc96",
           "#ab63fa",
           "#FFA15A",
           "#19d3f3",
           "#FF6692",
           "#B6E880",
           "#FF97FF",
           "#FECB52"
          ],
          "font": {
           "color": "#2a3f5f"
          },
          "geo": {
           "bgcolor": "white",
           "lakecolor": "white",
           "landcolor": "white",
           "showlakes": true,
           "showland": true,
           "subunitcolor": "#C8D4E3"
          },
          "hoverlabel": {
           "align": "left"
          },
          "hovermode": "closest",
          "mapbox": {
           "style": "light"
          },
          "paper_bgcolor": "white",
          "plot_bgcolor": "white",
          "polar": {
           "angularaxis": {
            "gridcolor": "#EBF0F8",
            "linecolor": "#EBF0F8",
            "ticks": ""
           },
           "bgcolor": "white",
           "radialaxis": {
            "gridcolor": "#EBF0F8",
            "linecolor": "#EBF0F8",
            "ticks": ""
           }
          },
          "scene": {
           "xaxis": {
            "backgroundcolor": "white",
            "gridcolor": "#DFE8F3",
            "gridwidth": 2,
            "linecolor": "#EBF0F8",
            "showbackground": true,
            "ticks": "",
            "zerolinecolor": "#EBF0F8"
           },
           "yaxis": {
            "backgroundcolor": "white",
            "gridcolor": "#DFE8F3",
            "gridwidth": 2,
            "linecolor": "#EBF0F8",
            "showbackground": true,
            "ticks": "",
            "zerolinecolor": "#EBF0F8"
           },
           "zaxis": {
            "backgroundcolor": "white",
            "gridcolor": "#DFE8F3",
            "gridwidth": 2,
            "linecolor": "#EBF0F8",
            "showbackground": true,
            "ticks": "",
            "zerolinecolor": "#EBF0F8"
           }
          },
          "shapedefaults": {
           "line": {
            "color": "#2a3f5f"
           }
          },
          "ternary": {
           "aaxis": {
            "gridcolor": "#DFE8F3",
            "linecolor": "#A2B1C6",
            "ticks": ""
           },
           "baxis": {
            "gridcolor": "#DFE8F3",
            "linecolor": "#A2B1C6",
            "ticks": ""
           },
           "bgcolor": "white",
           "caxis": {
            "gridcolor": "#DFE8F3",
            "linecolor": "#A2B1C6",
            "ticks": ""
           }
          },
          "title": {
           "x": 0.05
          },
          "xaxis": {
           "automargin": true,
           "gridcolor": "#EBF0F8",
           "linecolor": "#EBF0F8",
           "ticks": "",
           "title": {
            "standoff": 15
           },
           "zerolinecolor": "#EBF0F8",
           "zerolinewidth": 2
          },
          "yaxis": {
           "automargin": true,
           "gridcolor": "#EBF0F8",
           "linecolor": "#EBF0F8",
           "ticks": "",
           "title": {
            "standoff": 15
           },
           "zerolinecolor": "#EBF0F8",
           "zerolinewidth": 2
          }
         }
        },
        "title": {
         "text": "Domain Widths Comparison"
        },
        "xaxis": {
         "title": {
          "text": "Domain Index"
         }
        },
        "yaxis": {
         "title": {
          "text": "Width (μm)"
         }
        }
       }
      }
     },
     "metadata": {},
     "output_type": "display_data"
    },
    {
     "data": {
      "application/vnd.plotly.v1+json": {
       "config": {
        "plotlyServerURL": "https://plot.ly"
       },
       "data": [
        {
         "line": {
          "dash": "dash"
         },
         "mode": "lines",
         "name": "Initial",
         "type": "scatter",
         "x": {
          "bdata": "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",
          "dtype": "f4"
         },
         "y": {
          "bdata": "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",
          "dtype": "f4"
         }
        },
        {
         "line": {
          "dash": "dot"
         },
         "mode": "lines",
         "name": "Periodic",
         "type": "scatter",
         "x": {
          "bdata": "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",
          "dtype": "f4"
         },
         "y": {
          "bdata": "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",
          "dtype": "f4"
         }
        },
        {
         "mode": "lines",
         "name": "Optimized",
         "type": "scatter",
         "x": {
          "bdata": "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",
          "dtype": "f4"
         },
         "y": {
          "bdata": "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",
          "dtype": "f4"
         }
        }
       ],
       "layout": {
        "annotations": [
         {
          "showarrow": false,
          "text": "Design λ 1.031μm",
          "x": 1.031,
          "xanchor": "left",
          "xref": "x",
          "y": 0,
          "yanchor": "bottom",
          "yref": "y domain"
         }
        ],
        "shapes": [
         {
          "line": {
           "color": "red",
           "dash": "dot"
          },
          "type": "line",
          "x0": 1.031,
          "x1": 1.031,
          "xref": "x",
          "y0": 0,
          "y1": 1,
          "yref": "y domain"
         }
        ],
        "template": {
         "data": {
          "bar": [
           {
            "error_x": {
             "color": "#2a3f5f"
            },
            "error_y": {
             "color": "#2a3f5f"
            },
            "marker": {
             "line": {
              "color": "white",
              "width": 0.5
             },
             "pattern": {
              "fillmode": "overlay",
              "size": 10,
              "solidity": 0.2
             }
            },
            "type": "bar"
           }
          ],
          "barpolar": [
           {
            "marker": {
             "line": {
              "color": "white",
              "width": 0.5
             },
             "pattern": {
              "fillmode": "overlay",
              "size": 10,
              "solidity": 0.2
             }
            },
            "type": "barpolar"
           }
          ],
          "carpet": [
           {
            "aaxis": {
             "endlinecolor": "#2a3f5f",
             "gridcolor": "#C8D4E3",
             "linecolor": "#C8D4E3",
             "minorgridcolor": "#C8D4E3",
             "startlinecolor": "#2a3f5f"
            },
            "baxis": {
             "endlinecolor": "#2a3f5f",
             "gridcolor": "#C8D4E3",
             "linecolor": "#C8D4E3",
             "minorgridcolor": "#C8D4E3",
             "startlinecolor": "#2a3f5f"
            },
            "type": "carpet"
           }
          ],
          "choropleth": [
           {
            "colorbar": {
             "outlinewidth": 0,
             "ticks": ""
            },
            "type": "choropleth"
           }
          ],
          "contour": [
           {
            "colorbar": {
             "outlinewidth": 0,
             "ticks": ""
            },
            "colorscale": [
             [
              0,
              "#0d0887"
             ],
             [
              0.1111111111111111,
              "#46039f"
             ],
             [
              0.2222222222222222,
              "#7201a8"
             ],
             [
              0.3333333333333333,
              "#9c179e"
             ],
             [
              0.4444444444444444,
              "#bd3786"
             ],
             [
              0.5555555555555556,
              "#d8576b"
             ],
             [
              0.6666666666666666,
              "#ed7953"
             ],
             [
              0.7777777777777778,
              "#fb9f3a"
             ],
             [
              0.8888888888888888,
              "#fdca26"
             ],
             [
              1,
              "#f0f921"
             ]
            ],
            "type": "contour"
           }
          ],
          "contourcarpet": [
           {
            "colorbar": {
             "outlinewidth": 0,
             "ticks": ""
            },
            "type": "contourcarpet"
           }
          ],
          "heatmap": [
           {
            "colorbar": {
             "outlinewidth": 0,
             "ticks": ""
            },
            "colorscale": [
             [
              0,
              "#0d0887"
             ],
             [
              0.1111111111111111,
              "#46039f"
             ],
             [
              0.2222222222222222,
              "#7201a8"
             ],
             [
              0.3333333333333333,
              "#9c179e"
             ],
             [
              0.4444444444444444,
              "#bd3786"
             ],
             [
              0.5555555555555556,
              "#d8576b"
             ],
             [
              0.6666666666666666,
              "#ed7953"
             ],
             [
              0.7777777777777778,
              "#fb9f3a"
             ],
             [
              0.8888888888888888,
              "#fdca26"
             ],
             [
              1,
              "#f0f921"
             ]
            ],
            "type": "heatmap"
           }
          ],
          "histogram": [
           {
            "marker": {
             "pattern": {
              "fillmode": "overlay",
              "size": 10,
              "solidity": 0.2
             }
            },
            "type": "histogram"
           }
          ],
          "histogram2d": [
           {
            "colorbar": {
             "outlinewidth": 0,
             "ticks": ""
            },
            "colorscale": [
             [
              0,
              "#0d0887"
             ],
             [
              0.1111111111111111,
              "#46039f"
             ],
             [
              0.2222222222222222,
              "#7201a8"
             ],
             [
              0.3333333333333333,
              "#9c179e"
             ],
             [
              0.4444444444444444,
              "#bd3786"
             ],
             [
              0.5555555555555556,
              "#d8576b"
             ],
             [
              0.6666666666666666,
              "#ed7953"
             ],
             [
              0.7777777777777778,
              "#fb9f3a"
             ],
             [
              0.8888888888888888,
              "#fdca26"
             ],
             [
              1,
              "#f0f921"
             ]
            ],
            "type": "histogram2d"
           }
          ],
          "histogram2dcontour": [
           {
            "colorbar": {
             "outlinewidth": 0,
             "ticks": ""
            },
            "colorscale": [
             [
              0,
              "#0d0887"
             ],
             [
              0.1111111111111111,
              "#46039f"
             ],
             [
              0.2222222222222222,
              "#7201a8"
             ],
             [
              0.3333333333333333,
              "#9c179e"
             ],
             [
              0.4444444444444444,
              "#bd3786"
             ],
             [
              0.5555555555555556,
              "#d8576b"
             ],
             [
              0.6666666666666666,
              "#ed7953"
             ],
             [
              0.7777777777777778,
              "#fb9f3a"
             ],
             [
              0.8888888888888888,
              "#fdca26"
             ],
             [
              1,
              "#f0f921"
             ]
            ],
            "type": "histogram2dcontour"
           }
          ],
          "mesh3d": [
           {
            "colorbar": {
             "outlinewidth": 0,
             "ticks": ""
            },
            "type": "mesh3d"
           }
          ],
          "parcoords": [
           {
            "line": {
             "colorbar": {
              "outlinewidth": 0,
              "ticks": ""
             }
            },
            "type": "parcoords"
           }
          ],
          "pie": [
           {
            "automargin": true,
            "type": "pie"
           }
          ],
          "scatter": [
           {
            "fillpattern": {
             "fillmode": "overlay",
             "size": 10,
             "solidity": 0.2
            },
            "type": "scatter"
           }
          ],
          "scatter3d": [
           {
            "line": {
             "colorbar": {
              "outlinewidth": 0,
              "ticks": ""
             }
            },
            "marker": {
             "colorbar": {
              "outlinewidth": 0,
              "ticks": ""
             }
            },
            "type": "scatter3d"
           }
          ],
          "scattercarpet": [
           {
            "marker": {
             "colorbar": {
              "outlinewidth": 0,
              "ticks": ""
             }
            },
            "type": "scattercarpet"
           }
          ],
          "scattergeo": [
           {
            "marker": {
             "colorbar": {
              "outlinewidth": 0,
              "ticks": ""
             }
            },
            "type": "scattergeo"
           }
          ],
          "scattergl": [
           {
            "marker": {
             "colorbar": {
              "outlinewidth": 0,
              "ticks": ""
             }
            },
            "type": "scattergl"
           }
          ],
          "scattermap": [
           {
            "marker": {
             "colorbar": {
              "outlinewidth": 0,
              "ticks": ""
             }
            },
            "type": "scattermap"
           }
          ],
          "scattermapbox": [
           {
            "marker": {
             "colorbar": {
              "outlinewidth": 0,
              "ticks": ""
             }
            },
            "type": "scattermapbox"
           }
          ],
          "scatterpolar": [
           {
            "marker": {
             "colorbar": {
              "outlinewidth": 0,
              "ticks": ""
             }
            },
            "type": "scatterpolar"
           }
          ],
          "scatterpolargl": [
           {
            "marker": {
             "colorbar": {
              "outlinewidth": 0,
              "ticks": ""
             }
            },
            "type": "scatterpolargl"
           }
          ],
          "scatterternary": [
           {
            "marker": {
             "colorbar": {
              "outlinewidth": 0,
              "ticks": ""
             }
            },
            "type": "scatterternary"
           }
          ],
          "surface": [
           {
            "colorbar": {
             "outlinewidth": 0,
             "ticks": ""
            },
            "colorscale": [
             [
              0,
              "#0d0887"
             ],
             [
              0.1111111111111111,
              "#46039f"
             ],
             [
              0.2222222222222222,
              "#7201a8"
             ],
             [
              0.3333333333333333,
              "#9c179e"
             ],
             [
              0.4444444444444444,
              "#bd3786"
             ],
             [
              0.5555555555555556,
              "#d8576b"
             ],
             [
              0.6666666666666666,
              "#ed7953"
             ],
             [
              0.7777777777777778,
              "#fb9f3a"
             ],
             [
              0.8888888888888888,
              "#fdca26"
             ],
             [
              1,
              "#f0f921"
             ]
            ],
            "type": "surface"
           }
          ],
          "table": [
           {
            "cells": {
             "fill": {
              "color": "#EBF0F8"
             },
             "line": {
              "color": "white"
             }
            },
            "header": {
             "fill": {
              "color": "#C8D4E3"
             },
             "line": {
              "color": "white"
             }
            },
            "type": "table"
           }
          ]
         },
         "layout": {
          "annotationdefaults": {
           "arrowcolor": "#2a3f5f",
           "arrowhead": 0,
           "arrowwidth": 1
          },
          "autotypenumbers": "strict",
          "coloraxis": {
           "colorbar": {
            "outlinewidth": 0,
            "ticks": ""
           }
          },
          "colorscale": {
           "diverging": [
            [
             0,
             "#8e0152"
            ],
            [
             0.1,
             "#c51b7d"
            ],
            [
             0.2,
             "#de77ae"
            ],
            [
             0.3,
             "#f1b6da"
            ],
            [
             0.4,
             "#fde0ef"
            ],
            [
             0.5,
             "#f7f7f7"
            ],
            [
             0.6,
             "#e6f5d0"
            ],
            [
             0.7,
             "#b8e186"
            ],
            [
             0.8,
             "#7fbc41"
            ],
            [
             0.9,
             "#4d9221"
            ],
            [
             1,
             "#276419"
            ]
           ],
           "sequential": [
            [
             0,
             "#0d0887"
            ],
            [
             0.1111111111111111,
             "#46039f"
            ],
            [
             0.2222222222222222,
             "#7201a8"
            ],
            [
             0.3333333333333333,
             "#9c179e"
            ],
            [
             0.4444444444444444,
             "#bd3786"
            ],
            [
             0.5555555555555556,
             "#d8576b"
            ],
            [
             0.6666666666666666,
             "#ed7953"
            ],
            [
             0.7777777777777778,
             "#fb9f3a"
            ],
            [
             0.8888888888888888,
             "#fdca26"
            ],
            [
             1,
             "#f0f921"
            ]
           ],
           "sequentialminus": [
            [
             0,
             "#0d0887"
            ],
            [
             0.1111111111111111,
             "#46039f"
            ],
            [
             0.2222222222222222,
             "#7201a8"
            ],
            [
             0.3333333333333333,
             "#9c179e"
            ],
            [
             0.4444444444444444,
             "#bd3786"
            ],
            [
             0.5555555555555556,
             "#d8576b"
            ],
            [
             0.6666666666666666,
             "#ed7953"
            ],
            [
             0.7777777777777778,
             "#fb9f3a"
            ],
            [
             0.8888888888888888,
             "#fdca26"
            ],
            [
             1,
             "#f0f921"
            ]
           ]
          },
          "colorway": [
           "#636efa",
           "#EF553B",
           "#00cc96",
           "#ab63fa",
           "#FFA15A",
           "#19d3f3",
           "#FF6692",
           "#B6E880",
           "#FF97FF",
           "#FECB52"
          ],
          "font": {
           "color": "#2a3f5f"
          },
          "geo": {
           "bgcolor": "white",
           "lakecolor": "white",
           "landcolor": "white",
           "showlakes": true,
           "showland": true,
           "subunitcolor": "#C8D4E3"
          },
          "hoverlabel": {
           "align": "left"
          },
          "hovermode": "closest",
          "mapbox": {
           "style": "light"
          },
          "paper_bgcolor": "white",
          "plot_bgcolor": "white",
          "polar": {
           "angularaxis": {
            "gridcolor": "#EBF0F8",
            "linecolor": "#EBF0F8",
            "ticks": ""
           },
           "bgcolor": "white",
           "radialaxis": {
            "gridcolor": "#EBF0F8",
            "linecolor": "#EBF0F8",
            "ticks": ""
           }
          },
          "scene": {
           "xaxis": {
            "backgroundcolor": "white",
            "gridcolor": "#DFE8F3",
            "gridwidth": 2,
            "linecolor": "#EBF0F8",
            "showbackground": true,
            "ticks": "",
            "zerolinecolor": "#EBF0F8"
           },
           "yaxis": {
            "backgroundcolor": "white",
            "gridcolor": "#DFE8F3",
            "gridwidth": 2,
            "linecolor": "#EBF0F8",
            "showbackground": true,
            "ticks": "",
            "zerolinecolor": "#EBF0F8"
           },
           "zaxis": {
            "backgroundcolor": "white",
            "gridcolor": "#DFE8F3",
            "gridwidth": 2,
            "linecolor": "#EBF0F8",
            "showbackground": true,
            "ticks": "",
            "zerolinecolor": "#EBF0F8"
           }
          },
          "shapedefaults": {
           "line": {
            "color": "#2a3f5f"
           }
          },
          "ternary": {
           "aaxis": {
            "gridcolor": "#DFE8F3",
            "linecolor": "#A2B1C6",
            "ticks": ""
           },
           "baxis": {
            "gridcolor": "#DFE8F3",
            "linecolor": "#A2B1C6",
            "ticks": ""
           },
           "bgcolor": "white",
           "caxis": {
            "gridcolor": "#DFE8F3",
            "linecolor": "#A2B1C6",
            "ticks": ""
           }
          },
          "title": {
           "x": 0.05
          },
          "xaxis": {
           "automargin": true,
           "gridcolor": "#EBF0F8",
           "linecolor": "#EBF0F8",
           "ticks": "",
           "title": {
            "standoff": 15
           },
           "zerolinecolor": "#EBF0F8",
           "zerolinewidth": 2
          },
          "yaxis": {
           "automargin": true,
           "gridcolor": "#EBF0F8",
           "linecolor": "#EBF0F8",
           "ticks": "",
           "title": {
            "standoff": 15
           },
           "zerolinecolor": "#EBF0F8",
           "zerolinewidth": 2
          }
         }
        },
        "title": {
         "text": "THW Power Spectrum Comparison"
        },
        "xaxis": {
         "title": {
          "text": "Fundamental Wavelength (μm)"
         }
        },
        "yaxis": {
         "title": {
          "text": "THW Power"
         }
        }
       }
      }
     },
     "metadata": {},
     "output_type": "display_data"
    },
    {
     "data": {
      "application/vnd.plotly.v1+json": {
       "config": {
        "plotlyServerURL": "https://plot.ly"
       },
       "data": [
        {
         "mode": "lines",
         "name": "Loss",
         "type": "scatter",
         "y": {
          "bdata": "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",
          "dtype": "f4"
         }
        }
       ],
       "layout": {
        "template": {
         "data": {
          "bar": [
           {
            "error_x": {
             "color": "#2a3f5f"
            },
            "error_y": {
             "color": "#2a3f5f"
            },
            "marker": {
             "line": {
              "color": "white",
              "width": 0.5
             },
             "pattern": {
              "fillmode": "overlay",
              "size": 10,
              "solidity": 0.2
             }
            },
            "type": "bar"
           }
          ],
          "barpolar": [
           {
            "marker": {
             "line": {
              "color": "white",
              "width": 0.5
             },
             "pattern": {
              "fillmode": "overlay",
              "size": 10,
              "solidity": 0.2
             }
            },
            "type": "barpolar"
           }
          ],
          "carpet": [
           {
            "aaxis": {
             "endlinecolor": "#2a3f5f",
             "gridcolor": "#C8D4E3",
             "linecolor": "#C8D4E3",
             "minorgridcolor": "#C8D4E3",
             "startlinecolor": "#2a3f5f"
            },
            "baxis": {
             "endlinecolor": "#2a3f5f",
             "gridcolor": "#C8D4E3",
             "linecolor": "#C8D4E3",
             "minorgridcolor": "#C8D4E3",
             "startlinecolor": "#2a3f5f"
            },
            "type": "carpet"
           }
          ],
          "choropleth": [
           {
            "colorbar": {
             "outlinewidth": 0,
             "ticks": ""
            },
            "type": "choropleth"
           }
          ],
          "contour": [
           {
            "colorbar": {
             "outlinewidth": 0,
             "ticks": ""
            },
            "colorscale": [
             [
              0,
              "#0d0887"
             ],
             [
              0.1111111111111111,
              "#46039f"
             ],
             [
              0.2222222222222222,
              "#7201a8"
             ],
             [
              0.3333333333333333,
              "#9c179e"
             ],
             [
              0.4444444444444444,
              "#bd3786"
             ],
             [
              0.5555555555555556,
              "#d8576b"
             ],
             [
              0.6666666666666666,
              "#ed7953"
             ],
             [
              0.7777777777777778,
              "#fb9f3a"
             ],
             [
              0.8888888888888888,
              "#fdca26"
             ],
             [
              1,
              "#f0f921"
             ]
            ],
            "type": "contour"
           }
          ],
          "contourcarpet": [
           {
            "colorbar": {
             "outlinewidth": 0,
             "ticks": ""
            },
            "type": "contourcarpet"
           }
          ],
          "heatmap": [
           {
            "colorbar": {
             "outlinewidth": 0,
             "ticks": ""
            },
            "colorscale": [
             [
              0,
              "#0d0887"
             ],
             [
              0.1111111111111111,
              "#46039f"
             ],
             [
              0.2222222222222222,
              "#7201a8"
             ],
             [
              0.3333333333333333,
              "#9c179e"
             ],
             [
              0.4444444444444444,
              "#bd3786"
             ],
             [
              0.5555555555555556,
              "#d8576b"
             ],
             [
              0.6666666666666666,
              "#ed7953"
             ],
             [
              0.7777777777777778,
              "#fb9f3a"
             ],
             [
              0.8888888888888888,
              "#fdca26"
             ],
             [
              1,
              "#f0f921"
             ]
            ],
            "type": "heatmap"
           }
          ],
          "histogram": [
           {
            "marker": {
             "pattern": {
              "fillmode": "overlay",
              "size": 10,
              "solidity": 0.2
             }
            },
            "type": "histogram"
           }
          ],
          "histogram2d": [
           {
            "colorbar": {
             "outlinewidth": 0,
             "ticks": ""
            },
            "colorscale": [
             [
              0,
              "#0d0887"
             ],
             [
              0.1111111111111111,
              "#46039f"
             ],
             [
              0.2222222222222222,
              "#7201a8"
             ],
             [
              0.3333333333333333,
              "#9c179e"
             ],
             [
              0.4444444444444444,
              "#bd3786"
             ],
             [
              0.5555555555555556,
              "#d8576b"
             ],
             [
              0.6666666666666666,
              "#ed7953"
             ],
             [
              0.7777777777777778,
              "#fb9f3a"
             ],
             [
              0.8888888888888888,
              "#fdca26"
             ],
             [
              1,
              "#f0f921"
             ]
            ],
            "type": "histogram2d"
           }
          ],
          "histogram2dcontour": [
           {
            "colorbar": {
             "outlinewidth": 0,
             "ticks": ""
            },
            "colorscale": [
             [
              0,
              "#0d0887"
             ],
             [
              0.1111111111111111,
              "#46039f"
             ],
             [
              0.2222222222222222,
              "#7201a8"
             ],
             [
              0.3333333333333333,
              "#9c179e"
             ],
             [
              0.4444444444444444,
              "#bd3786"
             ],
             [
              0.5555555555555556,
              "#d8576b"
             ],
             [
              0.6666666666666666,
              "#ed7953"
             ],
             [
              0.7777777777777778,
              "#fb9f3a"
             ],
             [
              0.8888888888888888,
              "#fdca26"
             ],
             [
              1,
              "#f0f921"
             ]
            ],
            "type": "histogram2dcontour"
           }
          ],
          "mesh3d": [
           {
            "colorbar": {
             "outlinewidth": 0,
             "ticks": ""
            },
            "type": "mesh3d"
           }
          ],
          "parcoords": [
           {
            "line": {
             "colorbar": {
              "outlinewidth": 0,
              "ticks": ""
             }
            },
            "type": "parcoords"
           }
          ],
          "pie": [
           {
            "automargin": true,
            "type": "pie"
           }
          ],
          "scatter": [
           {
            "fillpattern": {
             "fillmode": "overlay",
             "size": 10,
             "solidity": 0.2
            },
            "type": "scatter"
           }
          ],
          "scatter3d": [
           {
            "line": {
             "colorbar": {
              "outlinewidth": 0,
              "ticks": ""
             }
            },
            "marker": {
             "colorbar": {
              "outlinewidth": 0,
              "ticks": ""
             }
            },
            "type": "scatter3d"
           }
          ],
          "scattercarpet": [
           {
            "marker": {
             "colorbar": {
              "outlinewidth": 0,
              "ticks": ""
             }
            },
            "type": "scattercarpet"
           }
          ],
          "scattergeo": [
           {
            "marker": {
             "colorbar": {
              "outlinewidth": 0,
              "ticks": ""
             }
            },
            "type": "scattergeo"
           }
          ],
          "scattergl": [
           {
            "marker": {
             "colorbar": {
              "outlinewidth": 0,
              "ticks": ""
             }
            },
            "type": "scattergl"
           }
          ],
          "scattermap": [
           {
            "marker": {
             "colorbar": {
              "outlinewidth": 0,
              "ticks": ""
             }
            },
            "type": "scattermap"
           }
          ],
          "scattermapbox": [
           {
            "marker": {
             "colorbar": {
              "outlinewidth": 0,
              "ticks": ""
             }
            },
            "type": "scattermapbox"
           }
          ],
          "scatterpolar": [
           {
            "marker": {
             "colorbar": {
              "outlinewidth": 0,
              "ticks": ""
             }
            },
            "type": "scatterpolar"
           }
          ],
          "scatterpolargl": [
           {
            "marker": {
             "colorbar": {
              "outlinewidth": 0,
              "ticks": ""
             }
            },
            "type": "scatterpolargl"
           }
          ],
          "scatterternary": [
           {
            "marker": {
             "colorbar": {
              "outlinewidth": 0,
              "ticks": ""
             }
            },
            "type": "scatterternary"
           }
          ],
          "surface": [
           {
            "colorbar": {
             "outlinewidth": 0,
             "ticks": ""
            },
            "colorscale": [
             [
              0,
              "#0d0887"
             ],
             [
              0.1111111111111111,
              "#46039f"
             ],
             [
              0.2222222222222222,
              "#7201a8"
             ],
             [
              0.3333333333333333,
              "#9c179e"
             ],
             [
              0.4444444444444444,
              "#bd3786"
             ],
             [
              0.5555555555555556,
              "#d8576b"
             ],
             [
              0.6666666666666666,
              "#ed7953"
             ],
             [
              0.7777777777777778,
              "#fb9f3a"
             ],
             [
              0.8888888888888888,
              "#fdca26"
             ],
             [
              1,
              "#f0f921"
             ]
            ],
            "type": "surface"
           }
          ],
          "table": [
           {
            "cells": {
             "fill": {
              "color": "#EBF0F8"
             },
             "line": {
              "color": "white"
             }
            },
            "header": {
             "fill": {
              "color": "#C8D4E3"
             },
             "line": {
              "color": "white"
             }
            },
            "type": "table"
           }
          ]
         },
         "layout": {
          "annotationdefaults": {
           "arrowcolor": "#2a3f5f",
           "arrowhead": 0,
           "arrowwidth": 1
          },
          "autotypenumbers": "strict",
          "coloraxis": {
           "colorbar": {
            "outlinewidth": 0,
            "ticks": ""
           }
          },
          "colorscale": {
           "diverging": [
            [
             0,
             "#8e0152"
            ],
            [
             0.1,
             "#c51b7d"
            ],
            [
             0.2,
             "#de77ae"
            ],
            [
             0.3,
             "#f1b6da"
            ],
            [
             0.4,
             "#fde0ef"
            ],
            [
             0.5,
             "#f7f7f7"
            ],
            [
             0.6,
             "#e6f5d0"
            ],
            [
             0.7,
             "#b8e186"
            ],
            [
             0.8,
             "#7fbc41"
            ],
            [
             0.9,
             "#4d9221"
            ],
            [
             1,
             "#276419"
            ]
           ],
           "sequential": [
            [
             0,
             "#0d0887"
            ],
            [
             0.1111111111111111,
             "#46039f"
            ],
            [
             0.2222222222222222,
             "#7201a8"
            ],
            [
             0.3333333333333333,
             "#9c179e"
            ],
            [
             0.4444444444444444,
             "#bd3786"
            ],
            [
             0.5555555555555556,
             "#d8576b"
            ],
            [
             0.6666666666666666,
             "#ed7953"
            ],
            [
             0.7777777777777778,
             "#fb9f3a"
            ],
            [
             0.8888888888888888,
             "#fdca26"
            ],
            [
             1,
             "#f0f921"
            ]
           ],
           "sequentialminus": [
            [
             0,
             "#0d0887"
            ],
            [
             0.1111111111111111,
             "#46039f"
            ],
            [
             0.2222222222222222,
             "#7201a8"
            ],
            [
             0.3333333333333333,
             "#9c179e"
            ],
            [
             0.4444444444444444,
             "#bd3786"
            ],
            [
             0.5555555555555556,
             "#d8576b"
            ],
            [
             0.6666666666666666,
             "#ed7953"
            ],
            [
             0.7777777777777778,
             "#fb9f3a"
            ],
            [
             0.8888888888888888,
             "#fdca26"
            ],
            [
             1,
             "#f0f921"
            ]
           ]
          },
          "colorway": [
           "#636efa",
           "#EF553B",
           "#00cc96",
           "#ab63fa",
           "#FFA15A",
           "#19d3f3",
           "#FF6692",
           "#B6E880",
           "#FF97FF",
           "#FECB52"
          ],
          "font": {
           "color": "#2a3f5f"
          },
          "geo": {
           "bgcolor": "white",
           "lakecolor": "white",
           "landcolor": "white",
           "showlakes": true,
           "showland": true,
           "subunitcolor": "#C8D4E3"
          },
          "hoverlabel": {
           "align": "left"
          },
          "hovermode": "closest",
          "mapbox": {
           "style": "light"
          },
          "paper_bgcolor": "white",
          "plot_bgcolor": "white",
          "polar": {
           "angularaxis": {
            "gridcolor": "#EBF0F8",
            "linecolor": "#EBF0F8",
            "ticks": ""
           },
           "bgcolor": "white",
           "radialaxis": {
            "gridcolor": "#EBF0F8",
            "linecolor": "#EBF0F8",
            "ticks": ""
           }
          },
          "scene": {
           "xaxis": {
            "backgroundcolor": "white",
            "gridcolor": "#DFE8F3",
            "gridwidth": 2,
            "linecolor": "#EBF0F8",
            "showbackground": true,
            "ticks": "",
            "zerolinecolor": "#EBF0F8"
           },
           "yaxis": {
            "backgroundcolor": "white",
            "gridcolor": "#DFE8F3",
            "gridwidth": 2,
            "linecolor": "#EBF0F8",
            "showbackground": true,
            "ticks": "",
            "zerolinecolor": "#EBF0F8"
           },
           "zaxis": {
            "backgroundcolor": "white",
            "gridcolor": "#DFE8F3",
            "gridwidth": 2,
            "linecolor": "#EBF0F8",
            "showbackground": true,
            "ticks": "",
            "zerolinecolor": "#EBF0F8"
           }
          },
          "shapedefaults": {
           "line": {
            "color": "#2a3f5f"
           }
          },
          "ternary": {
           "aaxis": {
            "gridcolor": "#DFE8F3",
            "linecolor": "#A2B1C6",
            "ticks": ""
           },
           "baxis": {
            "gridcolor": "#DFE8F3",
            "linecolor": "#A2B1C6",
            "ticks": ""
           },
           "bgcolor": "white",
           "caxis": {
            "gridcolor": "#DFE8F3",
            "linecolor": "#A2B1C6",
            "ticks": ""
           }
          },
          "title": {
           "x": 0.05
          },
          "xaxis": {
           "automargin": true,
           "gridcolor": "#EBF0F8",
           "linecolor": "#EBF0F8",
           "ticks": "",
           "title": {
            "standoff": 15
           },
           "zerolinecolor": "#EBF0F8",
           "zerolinewidth": 2
          },
          "yaxis": {
           "automargin": true,
           "gridcolor": "#EBF0F8",
           "linecolor": "#EBF0F8",
           "ticks": "",
           "title": {
            "standoff": 15
           },
           "zerolinecolor": "#EBF0F8",
           "zerolinewidth": 2
          }
         }
        },
        "title": {
         "text": "Optimization Cost History"
        },
        "xaxis": {
         "title": {
          "text": "Iteration"
         }
        },
        "yaxis": {
         "title": {
          "text": "Loss"
         }
        }
       }
      }
     },
     "metadata": {},
     "output_type": "display_data"
    },
    {
     "name": "stdout",
     "output_type": "stream",
     "text": [
      "(1000,)\n"
     ]
    }
   ],
   "source": [
    "# 4. Visualize the results\n",
    "print(\"4. Visualizing optimization results...\")\n",
    "plot_domain_widths(initial_widths, optimized_widths, periodic_widths)\n",
    "plot_thw_power_spectrum(initial_widths, optimized_widths, periodic_widths, sim_params, config)\n",
    "plot_cost_history(loss_history)\n",
    "print(optimized_widths.shape)\n",
    "\n",
    "# jnp.save(f\"optimized_widths_{config.num_domains}_3.npy\", optimized_widths)"
   ]
  },
  {
   "cell_type": "code",
   "execution_count": 5,
   "id": "33240a0d",
   "metadata": {},
   "outputs": [
    {
     "name": "stdout",
     "output_type": "stream",
     "text": [
      "2. Setting up loss function and L-BFGS optimizer...\n",
      "3. Running JIT-compiled optimization...\n",
      "   - Initial THW Power: 0.0004\n"
     ]
    },
    {
     "data": {
      "application/vnd.jupyter.widget-view+json": {
       "model_id": "9c2dd7ebbefc4519a402632435e8a50f",
       "version_major": 2,
       "version_minor": 0
      },
      "text/plain": [
       "Optimizing:   0%|          | 0/500 [00:00<?, ?it/s]"
      ]
     },
     "metadata": {},
     "output_type": "display_data"
    },
    {
     "name": "stdout",
     "output_type": "stream",
     "text": [
      "   - Optimized THW Power: 0.0019\n"
     ]
    }
   ],
   "source": [
    "# 追加のoptimization\n",
    "\n",
    "# initial_widths = jnp.load(f\"optimized_widths_{config.num_domains}.npy\")\n",
    "initial_widths = optimized_widths\n",
    "config.max_iters = 500\n",
    "optimized_widths, loss_history = run_optimization(initial_widths, sim_params, config)"
   ]
  }
 ],
 "metadata": {
  "kernelspec": {
   "display_name": "mictlan",
   "language": "python",
   "name": "python3"
  },
  "language_info": {
   "codemirror_mode": {
    "name": "ipython",
    "version": 3
   },
   "file_extension": ".py",
   "mimetype": "text/x-python",
   "name": "python",
   "nbconvert_exporter": "python",
   "pygments_lexer": "ipython3",
   "version": "3.13.9"
  }
 },
 "nbformat": 4,
 "nbformat_minor": 5
}
