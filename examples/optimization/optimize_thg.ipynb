{
 "cells": [
  {
   "cell_type": "code",
   "execution_count": 35,
   "id": "5a485cfc",
   "metadata": {},
   "outputs": [],
   "source": [
    "from collections.abc import Callable\n",
    "from dataclasses import dataclass\n",
    "\n",
    "import jax\n",
    "import jax.numpy as jnp\n",
    "import optax  # pyright: ignore[reportMissingTypeStubs]\n",
    "import plotly.graph_objects as go  # pyright: ignore[reportMissingTypeStubs]\n",
    "from jax import Array, jit\n",
    "from jax_tqdm.loop_pbar import loop_tqdm\n",
    "\n",
    "from qpm import cwes, mgoslt\n",
    "\n",
    "\n",
    "# --- Regularization Strategies ---\n",
    "def tv_regularization(domain_widths: Array, lambda_val: float) -> Array:\n",
    "    \"\"\"Total Variation (TV) regularization penalizes the absolute difference between adjacent parameter values.\"\"\"\n",
    "    return lambda_val * jnp.sum(jnp.abs(jnp.diff(domain_widths)))\n",
    "\n",
    "\n",
    "REGULARIZATION_FNS: dict[str, Callable[[Array, float], Array]] = {\n",
    "    \"tv\": tv_regularization,\n",
    "}\n",
    "\n",
    "\n",
    "# --- Data Structures for Configuration and Parameters ---\n",
    "@dataclass\n",
    "class Config:\n",
    "    design_temp: float = 70.0\n",
    "    design_wl: float = 1.031\n",
    "    num_domains: int = 1000\n",
    "    max_iters: int = 2000\n",
    "    prng_seed: int = 42\n",
    "    kappa_mag: float = 1.31e-4 / (2 / jnp.pi)\n",
    "    kappa_target_length: float = 2000.0\n",
    "    wl_start: float = 1.025\n",
    "    wl_end: float = 1.035\n",
    "    num_wl_points: int = 500\n",
    "    # Regularization parameters\n",
    "    regularization: str | None = None\n",
    "    lambda_val: float = 1e-4\n",
    "\n",
    "\n",
    "@dataclass(frozen=True)\n",
    "class SimulationParameters:\n",
    "    delta_k1: Array\n",
    "    delta_k2: Array\n",
    "    kappa_array: Array\n",
    "    b_initial: Array\n",
    "\n",
    "\n",
    "# --- Core JAX Functions ---\n",
    "def make_loss_fn(\n",
    "    sim_params: SimulationParameters,\n",
    "    regularization_fn: Callable[[Array, float], Array] | None = None,\n",
    "    lambda_val: float = 0.0,\n",
    ") -> Callable[[Array], Array]:\n",
    "    \"\"\"Creates a loss function that returns the negative THW power with optional regularization.\"\"\"\n",
    "\n",
    "    @jit\n",
    "    def loss_fn(domain_widths: Array) -> Array:\n",
    "        b_final = cwes.simulate_twm(domain_widths, sim_params.kappa_array, sim_params.delta_k1, sim_params.delta_k2, sim_params.b_initial)\n",
    "        thw_power = jnp.abs(b_final[2]) ** 2\n",
    "\n",
    "        loss = -thw_power\n",
    "\n",
    "        if regularization_fn:\n",
    "            loss += regularization_fn(domain_widths, lambda_val)\n",
    "\n",
    "        return loss\n",
    "\n",
    "    return loss_fn\n",
    "\n",
    "\n",
    "# --- Workflow Functions ---\n",
    "def initialize_grating(config: Config) -> tuple[Array, Array, Array, Array, Array]:\n",
    "    \"\"\"Generates initial grating parameters based on the configuration.\"\"\"\n",
    "    print(\"1. Generating initial grating parameters...\")\n",
    "    delta_k1 = mgoslt.calc_twm_delta_k(config.design_wl, config.design_wl, config.design_temp)\n",
    "    delta_k2 = mgoslt.calc_twm_delta_k(config.design_wl, config.design_wl / 2, config.design_temp)\n",
    "\n",
    "    domain_len_shg = jnp.pi / delta_k1\n",
    "    num_domains = config.num_domains\n",
    "    print(f\"   - Base domain width from calculation: {domain_len_shg:.4f} μm\")\n",
    "    print(f\"   - Number of domains: {num_domains}\")\n",
    "\n",
    "    kappa_array = config.kappa_mag * jnp.power(-1.0, jnp.arange(num_domains))\n",
    "\n",
    "    periodic_widths = jnp.full(num_domains, domain_len_shg)\n",
    "    key = jax.random.PRNGKey(config.prng_seed)\n",
    "    noise = jax.random.normal(key, shape=(num_domains,)) * (domain_len_shg * 0.02)\n",
    "    initial_widths = periodic_widths + noise\n",
    "\n",
    "    return delta_k1, delta_k2, kappa_array, periodic_widths, initial_widths\n",
    "\n",
    "\n",
    "def run_optimization(\n",
    "    initial_widths: Array,\n",
    "    sim_params: SimulationParameters,\n",
    "    config: Config,\n",
    ") -> tuple[Array, Array]:\n",
    "    \"\"\"Sets up and runs the L-BFGS optimization.\"\"\"\n",
    "    print(\"2. Setting up loss function and L-BFGS optimizer...\")\n",
    "    regularization_fn = REGULARIZATION_FNS.get(config.regularization) if config.regularization else None\n",
    "    loss_fn = make_loss_fn(sim_params, regularization_fn, config.lambda_val)\n",
    "    solver = optax.lbfgs()\n",
    "\n",
    "    @jit\n",
    "    def run_full_optimization(initial_params: Array) -> tuple[Array, Array]:\n",
    "        initial_loss_history = jnp.zeros(config.max_iters)\n",
    "\n",
    "        @loop_tqdm(config.max_iters, desc=\"Optimizing\")\n",
    "        def step(i: int, state: tuple[Array, optax.OptState, Array]) -> tuple[optax.Params, optax.OptState, Array]:\n",
    "            params, opt_state, loss_history = state\n",
    "            value, grad = jax.value_and_grad(loss_fn)(params)\n",
    "            updates, opt_state = solver.update(grad, opt_state, params, value=value, grad=grad, value_fn=loss_fn)\n",
    "            params = optax.apply_updates(params, updates)\n",
    "            loss_history = loss_history.at[i].set(value)\n",
    "            return params, opt_state, loss_history\n",
    "\n",
    "        initial_opt_state = solver.init(initial_params)\n",
    "        optimized_params, _, loss_history = jax.lax.fori_loop(\n",
    "            0,\n",
    "            config.max_iters,\n",
    "            step,\n",
    "            (initial_params, initial_opt_state, initial_loss_history),\n",
    "        )\n",
    "        return optimized_params, loss_history\n",
    "\n",
    "    print(\"3. Running JIT-compiled optimization...\")\n",
    "    print(f\"   - Initial THW Power: {-loss_fn(initial_widths):.4f}\")\n",
    "\n",
    "    optimized_widths, loss_history = run_full_optimization(initial_widths)\n",
    "    optimized_widths.block_until_ready()\n",
    "\n",
    "    print(f\"   - Optimized THW Power: {-loss_fn(optimized_widths):.4f}\")\n",
    "    return optimized_widths, loss_history\n",
    "\n",
    "\n",
    "# --- Visualization Functions ---\n",
    "def _calculate_spectrum(domain_widths: Array, sim_params: SimulationParameters, config: Config) -> tuple[Array, Array]:\n",
    "    \"\"\"Helper function to compute the THW Power spectrum for a given grating.\"\"\"\n",
    "    wls = jnp.linspace(config.wl_start, config.wl_end, config.num_wl_points)\n",
    "    delta_k1s = mgoslt.calc_twm_delta_k(wls, wls, config.design_temp)\n",
    "    delta_k2s = mgoslt.calc_twm_delta_k(wls, wls / 2, config.design_temp)\n",
    "\n",
    "    compute_spectrum_vmap = jit(jax.vmap(cwes.simulate_twm, in_axes=(None, None, 0, 0, None)))\n",
    "\n",
    "    final_vectors = compute_spectrum_vmap(domain_widths, sim_params.kappa_array, delta_k1s, delta_k2s, sim_params.b_initial)\n",
    "    thw_powers = jnp.abs(final_vectors[:, 2]) ** 2 * 1.07 / 2.84 * 100\n",
    "    return wls, thw_powers\n",
    "\n",
    "\n",
    "def plot_domain_widths(initial_widths: Array, optimized_widths: Array, periodic_widths: Array) -> None:\n",
    "    \"\"\"Plots the domain widths before and after optimization.\"\"\"\n",
    "    fig = go.Figure()\n",
    "    fig.add_trace(go.Scatter(y=initial_widths, mode=\"lines\", name=\"Initial\", line={\"dash\": \"dash\"}))\n",
    "    fig.add_trace(go.Scatter(y=periodic_widths, mode=\"lines\", name=\"Periodic\", line={\"dash\": \"dot\"}))\n",
    "    fig.add_trace(go.Scatter(y=optimized_widths, mode=\"lines\", name=\"Optimized\"))\n",
    "    fig.update_layout(\n",
    "        title_text=\"Domain Widths Comparison\",\n",
    "        xaxis_title=\"Domain Index\",\n",
    "        yaxis_title=\"Width (μm)\",\n",
    "        template=\"plotly_white\",\n",
    "    )\n",
    "    fig.show()\n",
    "\n",
    "\n",
    "def plot_thw_power_spectrum(\n",
    "    initial_widths: Array,\n",
    "    optimized_widths: Array,\n",
    "    periodic_widths: Array,\n",
    "    sim_params: SimulationParameters,\n",
    "    config: Config,\n",
    ") -> None:\n",
    "    \"\"\"Plots the SHG Power spectrum before and after optimization.\"\"\"\n",
    "    wls, initial_effs = _calculate_spectrum(initial_widths, sim_params, config)\n",
    "    _, optimized_effs = _calculate_spectrum(optimized_widths, sim_params, config)\n",
    "    _, periodic_effs = _calculate_spectrum(periodic_widths, sim_params, config)\n",
    "\n",
    "    fig = go.Figure()\n",
    "    fig.add_trace(go.Scatter(x=wls, y=initial_effs, mode=\"lines\", name=\"Initial\", line={\"dash\": \"dash\"}))\n",
    "    fig.add_trace(go.Scatter(x=wls, y=periodic_effs, mode=\"lines\", name=\"Periodic\", line={\"dash\": \"dot\"}))\n",
    "    fig.add_trace(go.Scatter(x=wls, y=optimized_effs, mode=\"lines\", name=\"Optimized\"))\n",
    "    fig.add_vline(\n",
    "        x=config.design_wl,\n",
    "        line_dash=\"dot\",\n",
    "        line_color=\"red\",\n",
    "        annotation_text=f\"Design λ {config.design_wl}μm\",\n",
    "        annotation_position=\"bottom right\",\n",
    "    )\n",
    "    fig.update_layout(\n",
    "        title_text=\"THW Power Spectrum Comparison\",\n",
    "        xaxis_title=\"Fundamental Wavelength (μm)\",\n",
    "        yaxis_title=\"THW Power\",\n",
    "        template=\"plotly_white\",\n",
    "    )\n",
    "    fig.show()\n",
    "\n",
    "\n",
    "def plot_cost_history(loss_history: Array) -> None:\n",
    "    \"\"\"Plots the optimization cost history.\"\"\"\n",
    "    fig = go.Figure()\n",
    "    fig.add_trace(go.Scatter(y=loss_history, mode=\"lines\", name=\"Loss\"))\n",
    "    fig.update_layout(\n",
    "        title_text=\"Optimization Cost History\",\n",
    "        xaxis_title=\"Iteration\",\n",
    "        yaxis_title=\"Loss\",\n",
    "        template=\"plotly_white\",\n",
    "    )\n",
    "    fig.show()"
   ]
  },
  {
   "cell_type": "code",
   "execution_count": 36,
   "id": "444bdfc0",
   "metadata": {},
   "outputs": [
    {
     "name": "stdout",
     "output_type": "stream",
     "text": [
      "1. Generating initial grating parameters...\n",
      "   - Base domain width from calculation: 3.6008 μm\n",
      "   - Number of domains: 1000\n",
      "2. Setting up loss function and L-BFGS optimizer...\n",
      "3. Running JIT-compiled optimization...\n",
      "   - Initial THW Power: 0.0000\n"
     ]
    },
    {
     "data": {
      "application/vnd.jupyter.widget-view+json": {
       "model_id": "9c6598bc5f0f4243929bb098814768e0",
       "version_major": 2,
       "version_minor": 0
      },
      "text/plain": [
       "Optimizing:   0%|          | 0/2000 [00:00<?, ?it/s]"
      ]
     },
     "metadata": {},
     "output_type": "display_data"
    },
    {
     "name": "stdout",
     "output_type": "stream",
     "text": [
      "   - Optimized THW Power: 0.0046\n"
     ]
    }
   ],
   "source": [
    "\"\"\"Main function to run the optimization and visualization.\"\"\"\n",
    "config = Config()\n",
    "# 1. Generate initial physical parameters and domain widths\n",
    "delta_k1, delta_k2, kappa_array, periodic_widths, initial_widths = initialize_grating(config)\n",
    "# 2. Create simulation parameters\n",
    "sim_params = SimulationParameters(\n",
    "    delta_k1=delta_k1,\n",
    "    delta_k2=delta_k2,\n",
    "    kappa_array=kappa_array,\n",
    "    b_initial=jnp.array([1.0, 0.0, 0.0], dtype=jnp.complex64),\n",
    ")\n",
    "# 3. Run the optimization with the clean parameter objects\n",
    "optimized_widths, loss_history = run_optimization(initial_widths, sim_params, config)"
   ]
  },
  {
   "cell_type": "code",
   "execution_count": 40,
   "id": "665e2786",
   "metadata": {},
   "outputs": [
    {
     "name": "stdout",
     "output_type": "stream",
     "text": [
      "4. Visualizing optimization results...\n"
     ]
    },
    {
     "data": {
      "application/vnd.plotly.v1+json": {
       "config": {
        "plotlyServerURL": "https://plot.ly"
       },
       "data": [
        {
         "line": {
          "dash": "dash"
         },
         "mode": "lines",
         "name": "Initial",
         "type": "scatter",
         "y": {
          "bdata": "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",
          "dtype": "f4"
         }
        },
        {
         "line": {
          "dash": "dot"
         },
         "mode": "lines",
         "name": "Periodic",
         "type": "scatter",
         "y": {
          "bdata": "/nNmQP5zZkD+c2ZA/nNmQP5zZkD+c2ZA/nNmQP5zZkD+c2ZA/nNmQP5zZkD+c2ZA/nNmQP5zZkD+c2ZA/nNmQP5zZkD+c2ZA/nNmQP5zZkD+c2ZA/nNmQP5zZkD+c2ZA/nNmQP5zZkD+c2ZA/nNmQP5zZkD+c2ZA/nNmQP5zZkD+c2ZA/nNmQP5zZkD+c2ZA/nNmQP5zZkD+c2ZA/nNmQP5zZkD+c2ZA/nNmQP5zZkD+c2ZA/nNmQP5zZkD+c2ZA/nNmQP5zZkD+c2ZA/nNmQP5zZkD+c2ZA/nNmQP5zZkD+c2ZA/nNmQP5zZkD+c2ZA/nNmQP5zZkD+c2ZA/nNmQP5zZkD+c2ZA/nNmQP5zZkD+c2ZA/nNmQP5zZkD+c2ZA/nNmQP5zZkD+c2ZA/nNmQP5zZkD+c2ZA/nNmQP5zZkD+c2ZA/nNmQP5zZkD+c2ZA/nNmQP5zZkD+c2ZA/nNmQP5zZkD+c2ZA/nNmQP5zZkD+c2ZA/nNmQP5zZkD+c2ZA/nNmQP5zZkD+c2ZA/nNmQP5zZkD+c2ZA/nNmQP5zZkD+c2ZA/nNmQP5zZkD+c2ZA/nNmQP5zZkD+c2ZA/nNmQP5zZkD+c2ZA/nNmQP5zZkD+c2ZA/nNmQP5zZkD+c2ZA/nNmQP5zZkD+c2ZA/nNmQP5zZkD+c2ZA/nNmQP5zZkD+c2ZA/nNmQP5zZkD+c2ZA/nNmQP5zZkD+c2ZA/nNmQP5zZkD+c2ZA/nNmQP5zZkD+c2ZA/nNmQP5zZkD+c2ZA/nNmQP5zZkD+c2ZA/nNmQP5zZkD+c2ZA/nNmQP5zZkD+c2ZA/nNmQP5zZkD+c2ZA/nNmQP5zZkD+c2ZA/nNmQP5zZkD+c2ZA/nNmQP5zZkD+c2ZA/nNmQP5zZkD+c2ZA/nNmQP5zZkD+c2ZA/nNmQP5zZkD+c2ZA/nNmQP5zZkD+c2ZA/nNmQP5zZkD+c2ZA/nNmQP5zZkD+c2ZA/nNmQP5zZkD+c2ZA/nNmQP5zZkD+c2ZA/nNmQP5zZkD+c2ZA/nNmQP5zZkD+c2ZA/nNmQP5zZkD+c2ZA/nNmQP5zZkD+c2ZA/nNmQP5zZkD+c2ZA/nNmQP5zZkD+c2ZA/nNmQP5zZkD+c2ZA/nNmQP5zZkD+c2ZA/nNmQP5zZkD+c2ZA/nNmQP5zZkD+c2ZA/nNmQP5zZkD+c2ZA/nNmQP5zZkD+c2ZA/nNmQP5zZkD+c2ZA/nNmQP5zZkD+c2ZA/nNmQP5zZkD+c2ZA/nNmQP5zZkD+c2ZA/nNmQP5zZkD+c2ZA/nNmQP5zZkD+c2ZA/nNmQP5zZkD+c2ZA/nNmQP5zZkD+c2ZA/nNmQP5zZkD+c2ZA/nNmQP5zZkD+c2ZA/nNmQP5zZkD+c2ZA/nNmQP5zZkD+c2ZA/nNmQP5zZkD+c2ZA/nNmQP5zZkD+c2ZA/nNmQP5zZkD+c2ZA/nNmQP5zZkD+c2ZA/nNmQP5zZkD+c2ZA/nNmQP5zZkD+c2ZA/nNmQP5zZkD+c2ZA/nNmQP5zZkD+c2ZA/nNmQP5zZkD+c2ZA/nNmQP5zZkD+c2ZA/nNmQP5zZkD+c2ZA/nNmQP5zZkD+c2ZA/nNmQP5zZkD+c2ZA/nNmQP5zZkD+c2ZA/nNmQP5zZkD+c2ZA/nNmQP5zZkD+c2ZA/nNmQP5zZkD+c2ZA/nNmQP5zZkD+c2ZA/nNmQP5zZkD+c2ZA/nNmQP5zZkD+c2ZA/nNmQP5zZkD+c2ZA/nNmQP5zZkD+c2ZA/nNmQP5zZkD+c2ZA/nNmQP5zZkD+c2ZA/nNmQP5zZkD+c2ZA/nNmQP5zZkD+c2ZA/nNmQP5zZkD+c2ZA/nNmQP5zZkD+c2ZA/nNmQP5zZkD+c2ZA/nNmQP5zZkD+c2ZA/nNmQP5zZkD+c2ZA/nNmQP5zZkD+c2ZA/nNmQP5zZkD+c2ZA/nNmQP5zZkD+c2ZA/nNmQP5zZkD+c2ZA/nNmQP5zZkD+c2ZA/nNmQP5zZkD+c2ZA/nNmQP5zZkD+c2ZA/nNmQP5zZkD+c2ZA/nNmQP5zZkD+c2ZA/nNmQP5zZkD+c2ZA/nNmQP5zZkD+c2ZA/nNmQP5zZkD+c2ZA/nNmQP5zZkD+c2ZA/nNmQP5zZkD+c2ZA/nNmQP5zZkD+c2ZA/nNmQP5zZkD+c2ZA/nNmQP5zZkD+c2ZA/nNmQP5zZkD+c2ZA/nNmQP5zZkD+c2ZA/nNmQP5zZkD+c2ZA/nNmQP5zZkD+c2ZA/nNmQP5zZkD+c2ZA/nNmQP5zZkD+c2ZA/nNmQP5zZkD+c2ZA/nNmQP5zZkD+c2ZA/nNmQP5zZkD+c2ZA/nNmQP5zZkD+c2ZA/nNmQP5zZkD+c2ZA/nNmQP5zZkD+c2ZA/nNmQP5zZkD+c2ZA/nNmQP5zZkD+c2ZA/nNmQP5zZkD+c2ZA/nNmQP5zZkD+c2ZA/nNmQP5zZkD+c2ZA/nNmQP5zZkD+c2ZA/nNmQP5zZkD+c2ZA/nNmQP5zZkD+c2ZA/nNmQP5zZkD+c2ZA/nNmQP5zZkD+c2ZA/nNmQP5zZkD+c2ZA/nNmQP5zZkD+c2ZA/nNmQP5zZkD+c2ZA/nNmQP5zZkD+c2ZA/nNmQP5zZkD+c2ZA/nNmQP5zZkD+c2ZA/nNmQP5zZkD+c2ZA/nNmQP5zZkD+c2ZA/nNmQP5zZkD+c2ZA/nNmQP5zZkD+c2ZA/nNmQP5zZkD+c2ZA/nNmQP5zZkD+c2ZA/nNmQP5zZkD+c2ZA/nNmQP5zZkD+c2ZA/nNmQP5zZkD+c2ZA/nNmQP5zZkD+c2ZA/nNmQP5zZkD+c2ZA/nNmQP5zZkD+c2ZA/nNmQP5zZkD+c2ZA/nNmQP5zZkD+c2ZA/nNmQP5zZkD+c2ZA/nNmQP5zZkD+c2ZA/nNmQP5zZkD+c2ZA/nNmQP5zZkD+c2ZA/nNmQP5zZkD+c2ZA/nNmQP5zZkD+c2ZA/nNmQP5zZkD+c2ZA/nNmQP5zZkD+c2ZA/nNmQP5zZkD+c2ZA/nNmQP5zZkD+c2ZA/nNmQP5zZkD+c2ZA/nNmQP5zZkD+c2ZA/nNmQP5zZkD+c2ZA/nNmQP5zZkD+c2ZA/nNmQP5zZkD+c2ZA/nNmQP5zZkD+c2ZA/nNmQP5zZkD+c2ZA/nNmQP5zZkD+c2ZA/nNmQP5zZkD+c2ZA/nNmQP5zZkD+c2ZA/nNmQP5zZkD+c2ZA/nNmQP5zZkD+c2ZA/nNmQP5zZkD+c2ZA/nNmQP5zZkD+c2ZA/nNmQP5zZkD+c2ZA/nNmQP5zZkD+c2ZA/nNmQP5zZkD+c2ZA/nNmQP5zZkD+c2ZA/nNmQP5zZkD+c2ZA/nNmQP5zZkD+c2ZA/nNmQP5zZkD+c2ZA/nNmQP5zZkD+c2ZA/nNmQP5zZkD+c2ZA/nNmQP5zZkD+c2ZA/nNmQP5zZkD+c2ZA/nNmQP5zZkD+c2ZA/nNmQP5zZkD+c2ZA/nNmQP5zZkD+c2ZA/nNmQP5zZkD+c2ZA/nNmQP5zZkD+c2ZA/nNmQP5zZkD+c2ZA/nNmQP5zZkD+c2ZA/nNmQP5zZkD+c2ZA/nNmQP5zZkD+c2ZA/nNmQP5zZkD+c2ZA/nNmQP5zZkD+c2ZA/nNmQP5zZkD+c2ZA/nNmQP5zZkD+c2ZA/nNmQP5zZkD+c2ZA/nNmQP5zZkD+c2ZA/nNmQP5zZkD+c2ZA/nNmQP5zZkD+c2ZA/nNmQP5zZkD+c2ZA/nNmQP5zZkD+c2ZA/nNmQP5zZkD+c2ZA/nNmQP5zZkD+c2ZA/nNmQP5zZkD+c2ZA/nNmQP5zZkD+c2ZA/nNmQP5zZkD+c2ZA/nNmQP5zZkD+c2ZA/nNmQP5zZkD+c2ZA/nNmQP5zZkD+c2ZA/nNmQP5zZkD+c2ZA/nNmQP5zZkD+c2ZA/nNmQP5zZkD+c2ZA/nNmQP5zZkD+c2ZA/nNmQP5zZkD+c2ZA/nNmQP5zZkD+c2ZA/nNmQP5zZkD+c2ZA/nNmQP5zZkD+c2ZA/nNmQP5zZkD+c2ZA/nNmQP5zZkD+c2ZA/nNmQP5zZkD+c2ZA/nNmQP5zZkD+c2ZA/nNmQP5zZkD+c2ZA/nNmQP5zZkD+c2ZA/nNmQP5zZkD+c2ZA/nNmQP5zZkD+c2ZA/nNmQP5zZkD+c2ZA/nNmQP5zZkD+c2ZA/nNmQP5zZkD+c2ZA/nNmQP5zZkD+c2ZA/nNmQP5zZkD+c2ZA/nNmQP5zZkD+c2ZA/nNmQP5zZkD+c2ZA/nNmQP5zZkD+c2ZA/nNmQP5zZkD+c2ZA/nNmQP5zZkD+c2ZA/nNmQP5zZkD+c2ZA/nNmQP5zZkD+c2ZA/nNmQP5zZkD+c2ZA/nNmQP5zZkD+c2ZA/nNmQP5zZkD+c2ZA/nNmQP5zZkD+c2ZA/nNmQP5zZkD+c2ZA/nNmQP5zZkD+c2ZA/nNmQP5zZkD+c2ZA/nNmQP5zZkD+c2ZA/nNmQP5zZkD+c2ZA/nNmQP5zZkD+c2ZA/nNmQP5zZkD+c2ZA/nNmQP5zZkD+c2ZA/nNmQP5zZkD+c2ZA/nNmQP5zZkD+c2ZA/nNmQP5zZkD+c2ZA/nNmQP5zZkD+c2ZA/nNmQP5zZkD+c2ZA/nNmQP5zZkD+c2ZA/nNmQP5zZkD+c2ZA/nNmQP5zZkD+c2ZA/nNmQP5zZkD+c2ZA/nNmQP5zZkD+c2ZA/nNmQP5zZkD+c2ZA/nNmQP5zZkD+c2ZA/nNmQP5zZkD+c2ZA/nNmQP5zZkD+c2ZA/nNmQP5zZkD+c2ZA/nNmQP5zZkD+c2ZA/nNmQP5zZkD+c2ZA/nNmQP5zZkD+c2ZA/nNmQP5zZkD+c2ZA/nNmQP5zZkD+c2ZA/nNmQP5zZkD+c2ZA/nNmQP5zZkD+c2ZA/nNmQP5zZkD+c2ZA/nNmQP5zZkD+c2ZA/nNmQP5zZkD+c2ZA/nNmQP5zZkD+c2ZA/nNmQP5zZkD+c2ZA/nNmQP5zZkD+c2ZA/nNmQP5zZkD+c2ZA/nNmQP5zZkD+c2ZA/nNmQP5zZkD+c2ZA/nNmQP5zZkD+c2ZA/nNmQP5zZkD+c2ZA/nNmQP5zZkD+c2ZA/nNmQP5zZkD+c2ZA/nNmQP5zZkD+c2ZA/nNmQP5zZkD+c2ZA/nNmQP5zZkD+c2ZA/nNmQP5zZkD+c2ZA/nNmQP5zZkD+c2ZA/nNmQP5zZkD+c2ZA/nNmQP5zZkD+c2ZA/nNmQP5zZkD+c2ZA/nNmQP5zZkD+c2ZA/nNmQP5zZkD+c2ZA/nNmQP5zZkD+c2ZA/nNmQP5zZkD+c2ZA/nNmQP5zZkD+c2ZA/nNmQP5zZkD+c2ZA/nNmQP5zZkD+c2ZA/nNmQP5zZkD+c2ZA/nNmQP5zZkD+c2ZA/nNmQP5zZkD+c2ZA/nNmQP5zZkD+c2ZA/nNmQA==",
          "dtype": "f4"
         }
        },
        {
         "mode": "lines",
         "name": "Optimized",
         "type": "scatter",
         "y": {
          "bdata": "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",
          "dtype": "f4"
         }
        }
       ],
       "layout": {
        "template": {
         "data": {
          "bar": [
           {
            "error_x": {
             "color": "#2a3f5f"
            },
            "error_y": {
             "color": "#2a3f5f"
            },
            "marker": {
             "line": {
              "color": "white",
              "width": 0.5
             },
             "pattern": {
              "fillmode": "overlay",
              "size": 10,
              "solidity": 0.2
             }
            },
            "type": "bar"
           }
          ],
          "barpolar": [
           {
            "marker": {
             "line": {
              "color": "white",
              "width": 0.5
             },
             "pattern": {
              "fillmode": "overlay",
              "size": 10,
              "solidity": 0.2
             }
            },
            "type": "barpolar"
           }
          ],
          "carpet": [
           {
            "aaxis": {
             "endlinecolor": "#2a3f5f",
             "gridcolor": "#C8D4E3",
             "linecolor": "#C8D4E3",
             "minorgridcolor": "#C8D4E3",
             "startlinecolor": "#2a3f5f"
            },
            "baxis": {
             "endlinecolor": "#2a3f5f",
             "gridcolor": "#C8D4E3",
             "linecolor": "#C8D4E3",
             "minorgridcolor": "#C8D4E3",
             "startlinecolor": "#2a3f5f"
            },
            "type": "carpet"
           }
          ],
          "choropleth": [
           {
            "colorbar": {
             "outlinewidth": 0,
             "ticks": ""
            },
            "type": "choropleth"
           }
          ],
          "contour": [
           {
            "colorbar": {
             "outlinewidth": 0,
             "ticks": ""
            },
            "colorscale": [
             [
              0,
              "#0d0887"
             ],
             [
              0.1111111111111111,
              "#46039f"
             ],
             [
              0.2222222222222222,
              "#7201a8"
             ],
             [
              0.3333333333333333,
              "#9c179e"
             ],
             [
              0.4444444444444444,
              "#bd3786"
             ],
             [
              0.5555555555555556,
              "#d8576b"
             ],
             [
              0.6666666666666666,
              "#ed7953"
             ],
             [
              0.7777777777777778,
              "#fb9f3a"
             ],
             [
              0.8888888888888888,
              "#fdca26"
             ],
             [
              1,
              "#f0f921"
             ]
            ],
            "type": "contour"
           }
          ],
          "contourcarpet": [
           {
            "colorbar": {
             "outlinewidth": 0,
             "ticks": ""
            },
            "type": "contourcarpet"
           }
          ],
          "heatmap": [
           {
            "colorbar": {
             "outlinewidth": 0,
             "ticks": ""
            },
            "colorscale": [
             [
              0,
              "#0d0887"
             ],
             [
              0.1111111111111111,
              "#46039f"
             ],
             [
              0.2222222222222222,
              "#7201a8"
             ],
             [
              0.3333333333333333,
              "#9c179e"
             ],
             [
              0.4444444444444444,
              "#bd3786"
             ],
             [
              0.5555555555555556,
              "#d8576b"
             ],
             [
              0.6666666666666666,
              "#ed7953"
             ],
             [
              0.7777777777777778,
              "#fb9f3a"
             ],
             [
              0.8888888888888888,
              "#fdca26"
             ],
             [
              1,
              "#f0f921"
             ]
            ],
            "type": "heatmap"
           }
          ],
          "histogram": [
           {
            "marker": {
             "pattern": {
              "fillmode": "overlay",
              "size": 10,
              "solidity": 0.2
             }
            },
            "type": "histogram"
           }
          ],
          "histogram2d": [
           {
            "colorbar": {
             "outlinewidth": 0,
             "ticks": ""
            },
            "colorscale": [
             [
              0,
              "#0d0887"
             ],
             [
              0.1111111111111111,
              "#46039f"
             ],
             [
              0.2222222222222222,
              "#7201a8"
             ],
             [
              0.3333333333333333,
              "#9c179e"
             ],
             [
              0.4444444444444444,
              "#bd3786"
             ],
             [
              0.5555555555555556,
              "#d8576b"
             ],
             [
              0.6666666666666666,
              "#ed7953"
             ],
             [
              0.7777777777777778,
              "#fb9f3a"
             ],
             [
              0.8888888888888888,
              "#fdca26"
             ],
             [
              1,
              "#f0f921"
             ]
            ],
            "type": "histogram2d"
           }
          ],
          "histogram2dcontour": [
           {
            "colorbar": {
             "outlinewidth": 0,
             "ticks": ""
            },
            "colorscale": [
             [
              0,
              "#0d0887"
             ],
             [
              0.1111111111111111,
              "#46039f"
             ],
             [
              0.2222222222222222,
              "#7201a8"
             ],
             [
              0.3333333333333333,
              "#9c179e"
             ],
             [
              0.4444444444444444,
              "#bd3786"
             ],
             [
              0.5555555555555556,
              "#d8576b"
             ],
             [
              0.6666666666666666,
              "#ed7953"
             ],
             [
              0.7777777777777778,
              "#fb9f3a"
             ],
             [
              0.8888888888888888,
              "#fdca26"
             ],
             [
              1,
              "#f0f921"
             ]
            ],
            "type": "histogram2dcontour"
           }
          ],
          "mesh3d": [
           {
            "colorbar": {
             "outlinewidth": 0,
             "ticks": ""
            },
            "type": "mesh3d"
           }
          ],
          "parcoords": [
           {
            "line": {
             "colorbar": {
              "outlinewidth": 0,
              "ticks": ""
             }
            },
            "type": "parcoords"
           }
          ],
          "pie": [
           {
            "automargin": true,
            "type": "pie"
           }
          ],
          "scatter": [
           {
            "fillpattern": {
             "fillmode": "overlay",
             "size": 10,
             "solidity": 0.2
            },
            "type": "scatter"
           }
          ],
          "scatter3d": [
           {
            "line": {
             "colorbar": {
              "outlinewidth": 0,
              "ticks": ""
             }
            },
            "marker": {
             "colorbar": {
              "outlinewidth": 0,
              "ticks": ""
             }
            },
            "type": "scatter3d"
           }
          ],
          "scattercarpet": [
           {
            "marker": {
             "colorbar": {
              "outlinewidth": 0,
              "ticks": ""
             }
            },
            "type": "scattercarpet"
           }
          ],
          "scattergeo": [
           {
            "marker": {
             "colorbar": {
              "outlinewidth": 0,
              "ticks": ""
             }
            },
            "type": "scattergeo"
           }
          ],
          "scattergl": [
           {
            "marker": {
             "colorbar": {
              "outlinewidth": 0,
              "ticks": ""
             }
            },
            "type": "scattergl"
           }
          ],
          "scattermap": [
           {
            "marker": {
             "colorbar": {
              "outlinewidth": 0,
              "ticks": ""
             }
            },
            "type": "scattermap"
           }
          ],
          "scattermapbox": [
           {
            "marker": {
             "colorbar": {
              "outlinewidth": 0,
              "ticks": ""
             }
            },
            "type": "scattermapbox"
           }
          ],
          "scatterpolar": [
           {
            "marker": {
             "colorbar": {
              "outlinewidth": 0,
              "ticks": ""
             }
            },
            "type": "scatterpolar"
           }
          ],
          "scatterpolargl": [
           {
            "marker": {
             "colorbar": {
              "outlinewidth": 0,
              "ticks": ""
             }
            },
            "type": "scatterpolargl"
           }
          ],
          "scatterternary": [
           {
            "marker": {
             "colorbar": {
              "outlinewidth": 0,
              "ticks": ""
             }
            },
            "type": "scatterternary"
           }
          ],
          "surface": [
           {
            "colorbar": {
             "outlinewidth": 0,
             "ticks": ""
            },
            "colorscale": [
             [
              0,
              "#0d0887"
             ],
             [
              0.1111111111111111,
              "#46039f"
             ],
             [
              0.2222222222222222,
              "#7201a8"
             ],
             [
              0.3333333333333333,
              "#9c179e"
             ],
             [
              0.4444444444444444,
              "#bd3786"
             ],
             [
              0.5555555555555556,
              "#d8576b"
             ],
             [
              0.6666666666666666,
              "#ed7953"
             ],
             [
              0.7777777777777778,
              "#fb9f3a"
             ],
             [
              0.8888888888888888,
              "#fdca26"
             ],
             [
              1,
              "#f0f921"
             ]
            ],
            "type": "surface"
           }
          ],
          "table": [
           {
            "cells": {
             "fill": {
              "color": "#EBF0F8"
             },
             "line": {
              "color": "white"
             }
            },
            "header": {
             "fill": {
              "color": "#C8D4E3"
             },
             "line": {
              "color": "white"
             }
            },
            "type": "table"
           }
          ]
         },
         "layout": {
          "annotationdefaults": {
           "arrowcolor": "#2a3f5f",
           "arrowhead": 0,
           "arrowwidth": 1
          },
          "autotypenumbers": "strict",
          "coloraxis": {
           "colorbar": {
            "outlinewidth": 0,
            "ticks": ""
           }
          },
          "colorscale": {
           "diverging": [
            [
             0,
             "#8e0152"
            ],
            [
             0.1,
             "#c51b7d"
            ],
            [
             0.2,
             "#de77ae"
            ],
            [
             0.3,
             "#f1b6da"
            ],
            [
             0.4,
             "#fde0ef"
            ],
            [
             0.5,
             "#f7f7f7"
            ],
            [
             0.6,
             "#e6f5d0"
            ],
            [
             0.7,
             "#b8e186"
            ],
            [
             0.8,
             "#7fbc41"
            ],
            [
             0.9,
             "#4d9221"
            ],
            [
             1,
             "#276419"
            ]
           ],
           "sequential": [
            [
             0,
             "#0d0887"
            ],
            [
             0.1111111111111111,
             "#46039f"
            ],
            [
             0.2222222222222222,
             "#7201a8"
            ],
            [
             0.3333333333333333,
             "#9c179e"
            ],
            [
             0.4444444444444444,
             "#bd3786"
            ],
            [
             0.5555555555555556,
             "#d8576b"
            ],
            [
             0.6666666666666666,
             "#ed7953"
            ],
            [
             0.7777777777777778,
             "#fb9f3a"
            ],
            [
             0.8888888888888888,
             "#fdca26"
            ],
            [
             1,
             "#f0f921"
            ]
           ],
           "sequentialminus": [
            [
             0,
             "#0d0887"
            ],
            [
             0.1111111111111111,
             "#46039f"
            ],
            [
             0.2222222222222222,
             "#7201a8"
            ],
            [
             0.3333333333333333,
             "#9c179e"
            ],
            [
             0.4444444444444444,
             "#bd3786"
            ],
            [
             0.5555555555555556,
             "#d8576b"
            ],
            [
             0.6666666666666666,
             "#ed7953"
            ],
            [
             0.7777777777777778,
             "#fb9f3a"
            ],
            [
             0.8888888888888888,
             "#fdca26"
            ],
            [
             1,
             "#f0f921"
            ]
           ]
          },
          "colorway": [
           "#636efa",
           "#EF553B",
           "#00cc96",
           "#ab63fa",
           "#FFA15A",
           "#19d3f3",
           "#FF6692",
           "#B6E880",
           "#FF97FF",
           "#FECB52"
          ],
          "font": {
           "color": "#2a3f5f"
          },
          "geo": {
           "bgcolor": "white",
           "lakecolor": "white",
           "landcolor": "white",
           "showlakes": true,
           "showland": true,
           "subunitcolor": "#C8D4E3"
          },
          "hoverlabel": {
           "align": "left"
          },
          "hovermode": "closest",
          "mapbox": {
           "style": "light"
          },
          "paper_bgcolor": "white",
          "plot_bgcolor": "white",
          "polar": {
           "angularaxis": {
            "gridcolor": "#EBF0F8",
            "linecolor": "#EBF0F8",
            "ticks": ""
           },
           "bgcolor": "white",
           "radialaxis": {
            "gridcolor": "#EBF0F8",
            "linecolor": "#EBF0F8",
            "ticks": ""
           }
          },
          "scene": {
           "xaxis": {
            "backgroundcolor": "white",
            "gridcolor": "#DFE8F3",
            "gridwidth": 2,
            "linecolor": "#EBF0F8",
            "showbackground": true,
            "ticks": "",
            "zerolinecolor": "#EBF0F8"
           },
           "yaxis": {
            "backgroundcolor": "white",
            "gridcolor": "#DFE8F3",
            "gridwidth": 2,
            "linecolor": "#EBF0F8",
            "showbackground": true,
            "ticks": "",
            "zerolinecolor": "#EBF0F8"
           },
           "zaxis": {
            "backgroundcolor": "white",
            "gridcolor": "#DFE8F3",
            "gridwidth": 2,
            "linecolor": "#EBF0F8",
            "showbackground": true,
            "ticks": "",
            "zerolinecolor": "#EBF0F8"
           }
          },
          "shapedefaults": {
           "line": {
            "color": "#2a3f5f"
           }
          },
          "ternary": {
           "aaxis": {
            "gridcolor": "#DFE8F3",
            "linecolor": "#A2B1C6",
            "ticks": ""
           },
           "baxis": {
            "gridcolor": "#DFE8F3",
            "linecolor": "#A2B1C6",
            "ticks": ""
           },
           "bgcolor": "white",
           "caxis": {
            "gridcolor": "#DFE8F3",
            "linecolor": "#A2B1C6",
            "ticks": ""
           }
          },
          "title": {
           "x": 0.05
          },
          "xaxis": {
           "automargin": true,
           "gridcolor": "#EBF0F8",
           "linecolor": "#EBF0F8",
           "ticks": "",
           "title": {
            "standoff": 15
           },
           "zerolinecolor": "#EBF0F8",
           "zerolinewidth": 2
          },
          "yaxis": {
           "automargin": true,
           "gridcolor": "#EBF0F8",
           "linecolor": "#EBF0F8",
           "ticks": "",
           "title": {
            "standoff": 15
           },
           "zerolinecolor": "#EBF0F8",
           "zerolinewidth": 2
          }
         }
        },
        "title": {
         "text": "Domain Widths Comparison"
        },
        "xaxis": {
         "title": {
          "text": "Domain Index"
         }
        },
        "yaxis": {
         "title": {
          "text": "Width (μm)"
         }
        }
       }
      }
     },
     "metadata": {},
     "output_type": "display_data"
    },
    {
     "data": {
      "application/vnd.plotly.v1+json": {
       "config": {
        "plotlyServerURL": "https://plot.ly"
       },
       "data": [
        {
         "line": {
          "dash": "dash"
         },
         "mode": "lines",
         "name": "Initial",
         "type": "scatter",
         "x": {
          "bdata": "MzODP9szgz+DNIM/LDWDP9M1gz98NoM/IzeDP8w3gz90OIM/HDmDP8Q5gz9sOoM/FTuDP7w7gz9lPIM/DT2DP7Q9gz9dPoM/BT+DP60/gz9VQIM//kCDP6VBgz9NQoM/9kKDP51Dgz9GRIM/7kSDP5ZFgz8+RoM/50aDP45Hgz82SIM/30iDP4dJgz8vSoM/10qDP39Lgz8nTIM/z0yDP3dNgz8fToM/yE6DP3BPgz8YUIM/wFCDP2hRgz8QUoM/uFKDP2BTgz8IVIM/sVSDP1lVgz8AVoM/qVaDP1FXgz/5V4M/oViDP0pZgz/xWYM/mlqDP0Jbgz/pW4M/klyDPzpdgz/iXYM/il6DPzNfgz/aX4M/gmCDPythgz/TYYM/e2KDPyNjgz/LY4M/c2SDPxtlgz/DZYM/a2aDPxRngz+8Z4M/ZGiDPwxpgz+0aYM/XGqDPwRrgz+sa4M/VGyDP/1sgz+lbYM/TW6DP/Vugz+db4M/RXCDP+1wgz+WcYM/PXKDP+Zygz+Oc4M/NXSDP950gz+GdYM/LnaDP9Z2gz9/d4M/JniDP854gz93eYM/H3qDP8d6gz9ve4M/F3yDP798gz9nfYM/D36DP7d+gz9gf4M/CICDP7CAgz9YgYM/AIKDP6iCgz9Qg4M/+IODP6CEgz9JhYM/8YWDP5mGgz9Bh4M/6YeDP5GIgz85iYM/4omDP4mKgz8xi4M/2ouDP4GMgz8qjYM/0o2DP3qOgz8ij4M/y4+DP3KQgz8bkYM/w5GDP2uSgz8Tk4M/u5ODP2OUgz8LlYM/tJWDP1uWgz8Dl4M/rJeDP1SYgz/8mIM/pJmDP0yagz/0moM/nJuDP0Scgz/snIM/lZ2DPz2egz/lnoM/jZ+DPzWggz/doIM/haGDPy6igz/VooM/faODPyakgz/OpIM/dqWDPx6mgz/GpoM/bqeDPxeogz++qIM/Z6mDPw+qgz+3qoM/X6uDPwesgz+vrIM/V62DPwCugz+nroM/T6+DP/ivgz+gsIM/SLGDP/Cxgz+YsoM/QLODP+izgz+QtIM/OLWDP+G1gz+JtoM/MbeDP9m3gz+BuIM/KbmDP9G5gz96uoM/IbuDP8m7gz9yvIM/Gr2DP8K9gz9qvoM/Er+DP7q/gz9jwIM/CsGDP7PBgz9bwoM/A8ODP6vDgz9TxIM/+8SDP6PFgz9MxoM/88aDP5vHgz9EyIM/7MiDP5TJgz88yoM/5MqDP4zLgz81zIM/3MyDP4TNgz8tzoM/1c6DP33Pgz8l0IM/zdCDP3XRgz8d0oM/xtKDP23Tgz8V1IM/vtSDP2bVgz8O1oM/ttaDP17Xgz8G2IM/rtiDP1bZgz//2YM/p9qDP0/bgz/324M/n9yDP0fdgz/v3YM/l96DPz/fgz/o34M/j+CDPzjhgz/g4YM/iOKDPzDjgz/Y44M/gOSDPynlgz/Q5YM/eeaDPyHngz/J54M/ceiDPxnpgz/B6YM/aeqDPxHrgz+564M/YuyDPwrtgz+y7YM/Wu6DPwLvgz+q74M/UvCDP/rwgz+i8YM/S/KDP/Pygz+b84M/Q/SDP+v0gz+T9YM/O/aDP+P2gz+L94M/NPiDP9z4gz+E+YM/LPqDP9T6gz98+4M/JPyDP8z8gz91/YM/HP6DP8X+gz9t/4M/FQCEP70AhD9lAYQ/DQKEP7UChD9dA4Q/BQSEP64EhD9WBYQ//gWEP6YGhD9OB4Q/9geEP54IhD9GCYQ/7gmEP5cKhD8/C4Q/5wuEP48MhD83DYQ/3w2EP4cOhD8vD4Q/1w+EP4AQhD8oEYQ/0BGEP3gShD8gE4Q/yBOEP3AUhD8YFYQ/wRWEP2kWhD8QF4Q/uReEP2EYhD8JGYQ/sRmEP1kahD8BG4Q/qRuEP1EchD/6HIQ/oh2EP0oehD/yHoQ/mh+EP0IghD/qIIQ/kiGEPzoihD/jIoQ/iyOEPzMkhD/bJIQ/gyWEPysmhD/TJoQ/eyeEPyMohD/MKIQ/dCmEPxwqhD/EKoQ/bCuEPxQshD+8LIQ/ZC2EPwwuhD+1LoQ/XS+EPwUwhD+tMIQ/VTGEP/0xhD+lMoQ/TTOEP/UzhD+dNIQ/RjWEP+41hD+WNoQ/PjeEP+Y3hD+OOIQ/NjmEP945hD+GOoQ/LzuEP9c7hD9/PIQ/Jz2EP889hD93PoQ/Hz+EP8c/hD9wQIQ/F0GEP8BBhD9oQoQ/EEOEP7hDhD9gRIQ/CEWEP7BFhD9YRoQ/AUeEP6lHhD9RSIQ/+UiEP6FJhD9JSoQ/8UqEP5lLhD9BTIQ/6UyEP5JNhD86ToQ/4k6EP4pPhD8yUIQ/2lCEP4JRhD8qUoQ/0lKEP3tThD8jVIQ/y1SEP3NVhD8bVoQ/w1aEP2tXhD8TWIQ/u1iEP2RZhD8MWoQ/tFqEP1xbhD8EXIQ/rFyEP1RdhD/8XYQ/pF6EP01fhD/1X4Q/nWCEP0VhhD/tYYQ/lWKEPz1jhD/lY4Q/jWSEPzZlhD/eZYQ/hmaEPy5nhD/WZ4Q/fmiEPyZphD/OaYQ/dmqEPx5rhD/Ha4Q/b2yEPxdthD+/bYQ/Z26EPw9vhD+3b4Q/X3CEPwdxhD+wcYQ/WHKEPwBzhD+oc4Q/UHSEP/h0hD+gdYQ/SHaEP/B2hD+Zd4Q/QXiEP+l4hD+ReYQ/OXqEP+F6hD8=",
          "dtype": "f4"
         },
         "y": {
          "bdata": "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",
          "dtype": "f4"
         }
        },
        {
         "line": {
          "dash": "dot"
         },
         "mode": "lines",
         "name": "Periodic",
         "type": "scatter",
         "x": {
          "bdata": "MzODP9szgz+DNIM/LDWDP9M1gz98NoM/IzeDP8w3gz90OIM/HDmDP8Q5gz9sOoM/FTuDP7w7gz9lPIM/DT2DP7Q9gz9dPoM/BT+DP60/gz9VQIM//kCDP6VBgz9NQoM/9kKDP51Dgz9GRIM/7kSDP5ZFgz8+RoM/50aDP45Hgz82SIM/30iDP4dJgz8vSoM/10qDP39Lgz8nTIM/z0yDP3dNgz8fToM/yE6DP3BPgz8YUIM/wFCDP2hRgz8QUoM/uFKDP2BTgz8IVIM/sVSDP1lVgz8AVoM/qVaDP1FXgz/5V4M/oViDP0pZgz/xWYM/mlqDP0Jbgz/pW4M/klyDPzpdgz/iXYM/il6DPzNfgz/aX4M/gmCDPythgz/TYYM/e2KDPyNjgz/LY4M/c2SDPxtlgz/DZYM/a2aDPxRngz+8Z4M/ZGiDPwxpgz+0aYM/XGqDPwRrgz+sa4M/VGyDP/1sgz+lbYM/TW6DP/Vugz+db4M/RXCDP+1wgz+WcYM/PXKDP+Zygz+Oc4M/NXSDP950gz+GdYM/LnaDP9Z2gz9/d4M/JniDP854gz93eYM/H3qDP8d6gz9ve4M/F3yDP798gz9nfYM/D36DP7d+gz9gf4M/CICDP7CAgz9YgYM/AIKDP6iCgz9Qg4M/+IODP6CEgz9JhYM/8YWDP5mGgz9Bh4M/6YeDP5GIgz85iYM/4omDP4mKgz8xi4M/2ouDP4GMgz8qjYM/0o2DP3qOgz8ij4M/y4+DP3KQgz8bkYM/w5GDP2uSgz8Tk4M/u5ODP2OUgz8LlYM/tJWDP1uWgz8Dl4M/rJeDP1SYgz/8mIM/pJmDP0yagz/0moM/nJuDP0Scgz/snIM/lZ2DPz2egz/lnoM/jZ+DPzWggz/doIM/haGDPy6igz/VooM/faODPyakgz/OpIM/dqWDPx6mgz/GpoM/bqeDPxeogz++qIM/Z6mDPw+qgz+3qoM/X6uDPwesgz+vrIM/V62DPwCugz+nroM/T6+DP/ivgz+gsIM/SLGDP/Cxgz+YsoM/QLODP+izgz+QtIM/OLWDP+G1gz+JtoM/MbeDP9m3gz+BuIM/KbmDP9G5gz96uoM/IbuDP8m7gz9yvIM/Gr2DP8K9gz9qvoM/Er+DP7q/gz9jwIM/CsGDP7PBgz9bwoM/A8ODP6vDgz9TxIM/+8SDP6PFgz9MxoM/88aDP5vHgz9EyIM/7MiDP5TJgz88yoM/5MqDP4zLgz81zIM/3MyDP4TNgz8tzoM/1c6DP33Pgz8l0IM/zdCDP3XRgz8d0oM/xtKDP23Tgz8V1IM/vtSDP2bVgz8O1oM/ttaDP17Xgz8G2IM/rtiDP1bZgz//2YM/p9qDP0/bgz/324M/n9yDP0fdgz/v3YM/l96DPz/fgz/o34M/j+CDPzjhgz/g4YM/iOKDPzDjgz/Y44M/gOSDPynlgz/Q5YM/eeaDPyHngz/J54M/ceiDPxnpgz/B6YM/aeqDPxHrgz+564M/YuyDPwrtgz+y7YM/Wu6DPwLvgz+q74M/UvCDP/rwgz+i8YM/S/KDP/Pygz+b84M/Q/SDP+v0gz+T9YM/O/aDP+P2gz+L94M/NPiDP9z4gz+E+YM/LPqDP9T6gz98+4M/JPyDP8z8gz91/YM/HP6DP8X+gz9t/4M/FQCEP70AhD9lAYQ/DQKEP7UChD9dA4Q/BQSEP64EhD9WBYQ//gWEP6YGhD9OB4Q/9geEP54IhD9GCYQ/7gmEP5cKhD8/C4Q/5wuEP48MhD83DYQ/3w2EP4cOhD8vD4Q/1w+EP4AQhD8oEYQ/0BGEP3gShD8gE4Q/yBOEP3AUhD8YFYQ/wRWEP2kWhD8QF4Q/uReEP2EYhD8JGYQ/sRmEP1kahD8BG4Q/qRuEP1EchD/6HIQ/oh2EP0oehD/yHoQ/mh+EP0IghD/qIIQ/kiGEPzoihD/jIoQ/iyOEPzMkhD/bJIQ/gyWEPysmhD/TJoQ/eyeEPyMohD/MKIQ/dCmEPxwqhD/EKoQ/bCuEPxQshD+8LIQ/ZC2EPwwuhD+1LoQ/XS+EPwUwhD+tMIQ/VTGEP/0xhD+lMoQ/TTOEP/UzhD+dNIQ/RjWEP+41hD+WNoQ/PjeEP+Y3hD+OOIQ/NjmEP945hD+GOoQ/LzuEP9c7hD9/PIQ/Jz2EP889hD93PoQ/Hz+EP8c/hD9wQIQ/F0GEP8BBhD9oQoQ/EEOEP7hDhD9gRIQ/CEWEP7BFhD9YRoQ/AUeEP6lHhD9RSIQ/+UiEP6FJhD9JSoQ/8UqEP5lLhD9BTIQ/6UyEP5JNhD86ToQ/4k6EP4pPhD8yUIQ/2lCEP4JRhD8qUoQ/0lKEP3tThD8jVIQ/y1SEP3NVhD8bVoQ/w1aEP2tXhD8TWIQ/u1iEP2RZhD8MWoQ/tFqEP1xbhD8EXIQ/rFyEP1RdhD/8XYQ/pF6EP01fhD/1X4Q/nWCEP0VhhD/tYYQ/lWKEPz1jhD/lY4Q/jWSEPzZlhD/eZYQ/hmaEPy5nhD/WZ4Q/fmiEPyZphD/OaYQ/dmqEPx5rhD/Ha4Q/b2yEPxdthD+/bYQ/Z26EPw9vhD+3b4Q/X3CEPwdxhD+wcYQ/WHKEPwBzhD+oc4Q/UHSEP/h0hD+gdYQ/SHaEP/B2hD+Zd4Q/QXiEP+l4hD+ReYQ/OXqEP+F6hD8=",
          "dtype": "f4"
         },
         "y": {
          "bdata": "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",
          "dtype": "f4"
         }
        },
        {
         "mode": "lines",
         "name": "Optimized",
         "type": "scatter",
         "x": {
          "bdata": "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",
          "dtype": "f4"
         },
         "y": {
          "bdata": "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",
          "dtype": "f4"
         }
        }
       ],
       "layout": {
        "annotations": [
         {
          "showarrow": false,
          "text": "Design λ 1.031μm",
          "x": 1.031,
          "xanchor": "left",
          "xref": "x",
          "y": 0,
          "yanchor": "bottom",
          "yref": "y domain"
         }
        ],
        "shapes": [
         {
          "line": {
           "color": "red",
           "dash": "dot"
          },
          "type": "line",
          "x0": 1.031,
          "x1": 1.031,
          "xref": "x",
          "y0": 0,
          "y1": 1,
          "yref": "y domain"
         }
        ],
        "template": {
         "data": {
          "bar": [
           {
            "error_x": {
             "color": "#2a3f5f"
            },
            "error_y": {
             "color": "#2a3f5f"
            },
            "marker": {
             "line": {
              "color": "white",
              "width": 0.5
             },
             "pattern": {
              "fillmode": "overlay",
              "size": 10,
              "solidity": 0.2
             }
            },
            "type": "bar"
           }
          ],
          "barpolar": [
           {
            "marker": {
             "line": {
              "color": "white",
              "width": 0.5
             },
             "pattern": {
              "fillmode": "overlay",
              "size": 10,
              "solidity": 0.2
             }
            },
            "type": "barpolar"
           }
          ],
          "carpet": [
           {
            "aaxis": {
             "endlinecolor": "#2a3f5f",
             "gridcolor": "#C8D4E3",
             "linecolor": "#C8D4E3",
             "minorgridcolor": "#C8D4E3",
             "startlinecolor": "#2a3f5f"
            },
            "baxis": {
             "endlinecolor": "#2a3f5f",
             "gridcolor": "#C8D4E3",
             "linecolor": "#C8D4E3",
             "minorgridcolor": "#C8D4E3",
             "startlinecolor": "#2a3f5f"
            },
            "type": "carpet"
           }
          ],
          "choropleth": [
           {
            "colorbar": {
             "outlinewidth": 0,
             "ticks": ""
            },
            "type": "choropleth"
           }
          ],
          "contour": [
           {
            "colorbar": {
             "outlinewidth": 0,
             "ticks": ""
            },
            "colorscale": [
             [
              0,
              "#0d0887"
             ],
             [
              0.1111111111111111,
              "#46039f"
             ],
             [
              0.2222222222222222,
              "#7201a8"
             ],
             [
              0.3333333333333333,
              "#9c179e"
             ],
             [
              0.4444444444444444,
              "#bd3786"
             ],
             [
              0.5555555555555556,
              "#d8576b"
             ],
             [
              0.6666666666666666,
              "#ed7953"
             ],
             [
              0.7777777777777778,
              "#fb9f3a"
             ],
             [
              0.8888888888888888,
              "#fdca26"
             ],
             [
              1,
              "#f0f921"
             ]
            ],
            "type": "contour"
           }
          ],
          "contourcarpet": [
           {
            "colorbar": {
             "outlinewidth": 0,
             "ticks": ""
            },
            "type": "contourcarpet"
           }
          ],
          "heatmap": [
           {
            "colorbar": {
             "outlinewidth": 0,
             "ticks": ""
            },
            "colorscale": [
             [
              0,
              "#0d0887"
             ],
             [
              0.1111111111111111,
              "#46039f"
             ],
             [
              0.2222222222222222,
              "#7201a8"
             ],
             [
              0.3333333333333333,
              "#9c179e"
             ],
             [
              0.4444444444444444,
              "#bd3786"
             ],
             [
              0.5555555555555556,
              "#d8576b"
             ],
             [
              0.6666666666666666,
              "#ed7953"
             ],
             [
              0.7777777777777778,
              "#fb9f3a"
             ],
             [
              0.8888888888888888,
              "#fdca26"
             ],
             [
              1,
              "#f0f921"
             ]
            ],
            "type": "heatmap"
           }
          ],
          "histogram": [
           {
            "marker": {
             "pattern": {
              "fillmode": "overlay",
              "size": 10,
              "solidity": 0.2
             }
            },
            "type": "histogram"
           }
          ],
          "histogram2d": [
           {
            "colorbar": {
             "outlinewidth": 0,
             "ticks": ""
            },
            "colorscale": [
             [
              0,
              "#0d0887"
             ],
             [
              0.1111111111111111,
              "#46039f"
             ],
             [
              0.2222222222222222,
              "#7201a8"
             ],
             [
              0.3333333333333333,
              "#9c179e"
             ],
             [
              0.4444444444444444,
              "#bd3786"
             ],
             [
              0.5555555555555556,
              "#d8576b"
             ],
             [
              0.6666666666666666,
              "#ed7953"
             ],
             [
              0.7777777777777778,
              "#fb9f3a"
             ],
             [
              0.8888888888888888,
              "#fdca26"
             ],
             [
              1,
              "#f0f921"
             ]
            ],
            "type": "histogram2d"
           }
          ],
          "histogram2dcontour": [
           {
            "colorbar": {
             "outlinewidth": 0,
             "ticks": ""
            },
            "colorscale": [
             [
              0,
              "#0d0887"
             ],
             [
              0.1111111111111111,
              "#46039f"
             ],
             [
              0.2222222222222222,
              "#7201a8"
             ],
             [
              0.3333333333333333,
              "#9c179e"
             ],
             [
              0.4444444444444444,
              "#bd3786"
             ],
             [
              0.5555555555555556,
              "#d8576b"
             ],
             [
              0.6666666666666666,
              "#ed7953"
             ],
             [
              0.7777777777777778,
              "#fb9f3a"
             ],
             [
              0.8888888888888888,
              "#fdca26"
             ],
             [
              1,
              "#f0f921"
             ]
            ],
            "type": "histogram2dcontour"
           }
          ],
          "mesh3d": [
           {
            "colorbar": {
             "outlinewidth": 0,
             "ticks": ""
            },
            "type": "mesh3d"
           }
          ],
          "parcoords": [
           {
            "line": {
             "colorbar": {
              "outlinewidth": 0,
              "ticks": ""
             }
            },
            "type": "parcoords"
           }
          ],
          "pie": [
           {
            "automargin": true,
            "type": "pie"
           }
          ],
          "scatter": [
           {
            "fillpattern": {
             "fillmode": "overlay",
             "size": 10,
             "solidity": 0.2
            },
            "type": "scatter"
           }
          ],
          "scatter3d": [
           {
            "line": {
             "colorbar": {
              "outlinewidth": 0,
              "ticks": ""
             }
            },
            "marker": {
             "colorbar": {
              "outlinewidth": 0,
              "ticks": ""
             }
            },
            "type": "scatter3d"
           }
          ],
          "scattercarpet": [
           {
            "marker": {
             "colorbar": {
              "outlinewidth": 0,
              "ticks": ""
             }
            },
            "type": "scattercarpet"
           }
          ],
          "scattergeo": [
           {
            "marker": {
             "colorbar": {
              "outlinewidth": 0,
              "ticks": ""
             }
            },
            "type": "scattergeo"
           }
          ],
          "scattergl": [
           {
            "marker": {
             "colorbar": {
              "outlinewidth": 0,
              "ticks": ""
             }
            },
            "type": "scattergl"
           }
          ],
          "scattermap": [
           {
            "marker": {
             "colorbar": {
              "outlinewidth": 0,
              "ticks": ""
             }
            },
            "type": "scattermap"
           }
          ],
          "scattermapbox": [
           {
            "marker": {
             "colorbar": {
              "outlinewidth": 0,
              "ticks": ""
             }
            },
            "type": "scattermapbox"
           }
          ],
          "scatterpolar": [
           {
            "marker": {
             "colorbar": {
              "outlinewidth": 0,
              "ticks": ""
             }
            },
            "type": "scatterpolar"
           }
          ],
          "scatterpolargl": [
           {
            "marker": {
             "colorbar": {
              "outlinewidth": 0,
              "ticks": ""
             }
            },
            "type": "scatterpolargl"
           }
          ],
          "scatterternary": [
           {
            "marker": {
             "colorbar": {
              "outlinewidth": 0,
              "ticks": ""
             }
            },
            "type": "scatterternary"
           }
          ],
          "surface": [
           {
            "colorbar": {
             "outlinewidth": 0,
             "ticks": ""
            },
            "colorscale": [
             [
              0,
              "#0d0887"
             ],
             [
              0.1111111111111111,
              "#46039f"
             ],
             [
              0.2222222222222222,
              "#7201a8"
             ],
             [
              0.3333333333333333,
              "#9c179e"
             ],
             [
              0.4444444444444444,
              "#bd3786"
             ],
             [
              0.5555555555555556,
              "#d8576b"
             ],
             [
              0.6666666666666666,
              "#ed7953"
             ],
             [
              0.7777777777777778,
              "#fb9f3a"
             ],
             [
              0.8888888888888888,
              "#fdca26"
             ],
             [
              1,
              "#f0f921"
             ]
            ],
            "type": "surface"
           }
          ],
          "table": [
           {
            "cells": {
             "fill": {
              "color": "#EBF0F8"
             },
             "line": {
              "color": "white"
             }
            },
            "header": {
             "fill": {
              "color": "#C8D4E3"
             },
             "line": {
              "color": "white"
             }
            },
            "type": "table"
           }
          ]
         },
         "layout": {
          "annotationdefaults": {
           "arrowcolor": "#2a3f5f",
           "arrowhead": 0,
           "arrowwidth": 1
          },
          "autotypenumbers": "strict",
          "coloraxis": {
           "colorbar": {
            "outlinewidth": 0,
            "ticks": ""
           }
          },
          "colorscale": {
           "diverging": [
            [
             0,
             "#8e0152"
            ],
            [
             0.1,
             "#c51b7d"
            ],
            [
             0.2,
             "#de77ae"
            ],
            [
             0.3,
             "#f1b6da"
            ],
            [
             0.4,
             "#fde0ef"
            ],
            [
             0.5,
             "#f7f7f7"
            ],
            [
             0.6,
             "#e6f5d0"
            ],
            [
             0.7,
             "#b8e186"
            ],
            [
             0.8,
             "#7fbc41"
            ],
            [
             0.9,
             "#4d9221"
            ],
            [
             1,
             "#276419"
            ]
           ],
           "sequential": [
            [
             0,
             "#0d0887"
            ],
            [
             0.1111111111111111,
             "#46039f"
            ],
            [
             0.2222222222222222,
             "#7201a8"
            ],
            [
             0.3333333333333333,
             "#9c179e"
            ],
            [
             0.4444444444444444,
             "#bd3786"
            ],
            [
             0.5555555555555556,
             "#d8576b"
            ],
            [
             0.6666666666666666,
             "#ed7953"
            ],
            [
             0.7777777777777778,
             "#fb9f3a"
            ],
            [
             0.8888888888888888,
             "#fdca26"
            ],
            [
             1,
             "#f0f921"
            ]
           ],
           "sequentialminus": [
            [
             0,
             "#0d0887"
            ],
            [
             0.1111111111111111,
             "#46039f"
            ],
            [
             0.2222222222222222,
             "#7201a8"
            ],
            [
             0.3333333333333333,
             "#9c179e"
            ],
            [
             0.4444444444444444,
             "#bd3786"
            ],
            [
             0.5555555555555556,
             "#d8576b"
            ],
            [
             0.6666666666666666,
             "#ed7953"
            ],
            [
             0.7777777777777778,
             "#fb9f3a"
            ],
            [
             0.8888888888888888,
             "#fdca26"
            ],
            [
             1,
             "#f0f921"
            ]
           ]
          },
          "colorway": [
           "#636efa",
           "#EF553B",
           "#00cc96",
           "#ab63fa",
           "#FFA15A",
           "#19d3f3",
           "#FF6692",
           "#B6E880",
           "#FF97FF",
           "#FECB52"
          ],
          "font": {
           "color": "#2a3f5f"
          },
          "geo": {
           "bgcolor": "white",
           "lakecolor": "white",
           "landcolor": "white",
           "showlakes": true,
           "showland": true,
           "subunitcolor": "#C8D4E3"
          },
          "hoverlabel": {
           "align": "left"
          },
          "hovermode": "closest",
          "mapbox": {
           "style": "light"
          },
          "paper_bgcolor": "white",
          "plot_bgcolor": "white",
          "polar": {
           "angularaxis": {
            "gridcolor": "#EBF0F8",
            "linecolor": "#EBF0F8",
            "ticks": ""
           },
           "bgcolor": "white",
           "radialaxis": {
            "gridcolor": "#EBF0F8",
            "linecolor": "#EBF0F8",
            "ticks": ""
           }
          },
          "scene": {
           "xaxis": {
            "backgroundcolor": "white",
            "gridcolor": "#DFE8F3",
            "gridwidth": 2,
            "linecolor": "#EBF0F8",
            "showbackground": true,
            "ticks": "",
            "zerolinecolor": "#EBF0F8"
           },
           "yaxis": {
            "backgroundcolor": "white",
            "gridcolor": "#DFE8F3",
            "gridwidth": 2,
            "linecolor": "#EBF0F8",
            "showbackground": true,
            "ticks": "",
            "zerolinecolor": "#EBF0F8"
           },
           "zaxis": {
            "backgroundcolor": "white",
            "gridcolor": "#DFE8F3",
            "gridwidth": 2,
            "linecolor": "#EBF0F8",
            "showbackground": true,
            "ticks": "",
            "zerolinecolor": "#EBF0F8"
           }
          },
          "shapedefaults": {
           "line": {
            "color": "#2a3f5f"
           }
          },
          "ternary": {
           "aaxis": {
            "gridcolor": "#DFE8F3",
            "linecolor": "#A2B1C6",
            "ticks": ""
           },
           "baxis": {
            "gridcolor": "#DFE8F3",
            "linecolor": "#A2B1C6",
            "ticks": ""
           },
           "bgcolor": "white",
           "caxis": {
            "gridcolor": "#DFE8F3",
            "linecolor": "#A2B1C6",
            "ticks": ""
           }
          },
          "title": {
           "x": 0.05
          },
          "xaxis": {
           "automargin": true,
           "gridcolor": "#EBF0F8",
           "linecolor": "#EBF0F8",
           "ticks": "",
           "title": {
            "standoff": 15
           },
           "zerolinecolor": "#EBF0F8",
           "zerolinewidth": 2
          },
          "yaxis": {
           "automargin": true,
           "gridcolor": "#EBF0F8",
           "linecolor": "#EBF0F8",
           "ticks": "",
           "title": {
            "standoff": 15
           },
           "zerolinecolor": "#EBF0F8",
           "zerolinewidth": 2
          }
         }
        },
        "title": {
         "text": "THW Power Spectrum Comparison"
        },
        "xaxis": {
         "title": {
          "text": "Fundamental Wavelength (μm)"
         }
        },
        "yaxis": {
         "title": {
          "text": "THW Power"
         }
        }
       }
      }
     },
     "metadata": {},
     "output_type": "display_data"
    },
    {
     "data": {
      "application/vnd.plotly.v1+json": {
       "config": {
        "plotlyServerURL": "https://plot.ly"
       },
       "data": [
        {
         "mode": "lines",
         "name": "Loss",
         "type": "scatter",
         "y": {
          "bdata": "EtGVuxLRlbsS0ZW7EtGVuxLRlbsS0ZW7EtGVuxLRlbsS0ZW7EtGVuxLRlbsS0ZW7EtGVuxLRlbsS0ZW7EtGVuxLRlbsS0ZW7EtGVuxLRlbsS0ZW7EtGVuxLRlbsS0ZW7EtGVuxLRlbsS0ZW7EtGVuxLRlbsS0ZW7EtGVuxLRlbsS0ZW7EtGVuxLRlbsS0ZW7EtGVuxLRlbsS0ZW7EtGVuxLRlbsS0ZW7EtGVuxLRlbsS0ZW7EtGVuxLRlbsS0ZW7EtGVuxLRlbsS0ZW7EtGVuxLRlbsS0ZW7EtGVuxLRlbsS0ZW7EtGVuxLRlbsS0ZW7EtGVuxLRlbsS0ZW7EtGVuxLRlbsS0ZW7EtGVuxLRlbsS0ZW7EtGVuxLRlbsS0ZW7EtGVuxLRlbsS0ZW7EtGVuxLRlbsS0ZW7EtGVuxLRlbsS0ZW7EtGVuxLRlbsS0ZW7EtGVuxLRlbsS0ZW7EtGVuxLRlbsS0ZW7EtGVuxLRlbsS0ZW7EtGVuxLRlbsS0ZW7EtGVuxLRlbsS0ZW7EtGVuw==",
          "dtype": "f4"
         }
        }
       ],
       "layout": {
        "template": {
         "data": {
          "bar": [
           {
            "error_x": {
             "color": "#2a3f5f"
            },
            "error_y": {
             "color": "#2a3f5f"
            },
            "marker": {
             "line": {
              "color": "white",
              "width": 0.5
             },
             "pattern": {
              "fillmode": "overlay",
              "size": 10,
              "solidity": 0.2
             }
            },
            "type": "bar"
           }
          ],
          "barpolar": [
           {
            "marker": {
             "line": {
              "color": "white",
              "width": 0.5
             },
             "pattern": {
              "fillmode": "overlay",
              "size": 10,
              "solidity": 0.2
             }
            },
            "type": "barpolar"
           }
          ],
          "carpet": [
           {
            "aaxis": {
             "endlinecolor": "#2a3f5f",
             "gridcolor": "#C8D4E3",
             "linecolor": "#C8D4E3",
             "minorgridcolor": "#C8D4E3",
             "startlinecolor": "#2a3f5f"
            },
            "baxis": {
             "endlinecolor": "#2a3f5f",
             "gridcolor": "#C8D4E3",
             "linecolor": "#C8D4E3",
             "minorgridcolor": "#C8D4E3",
             "startlinecolor": "#2a3f5f"
            },
            "type": "carpet"
           }
          ],
          "choropleth": [
           {
            "colorbar": {
             "outlinewidth": 0,
             "ticks": ""
            },
            "type": "choropleth"
           }
          ],
          "contour": [
           {
            "colorbar": {
             "outlinewidth": 0,
             "ticks": ""
            },
            "colorscale": [
             [
              0,
              "#0d0887"
             ],
             [
              0.1111111111111111,
              "#46039f"
             ],
             [
              0.2222222222222222,
              "#7201a8"
             ],
             [
              0.3333333333333333,
              "#9c179e"
             ],
             [
              0.4444444444444444,
              "#bd3786"
             ],
             [
              0.5555555555555556,
              "#d8576b"
             ],
             [
              0.6666666666666666,
              "#ed7953"
             ],
             [
              0.7777777777777778,
              "#fb9f3a"
             ],
             [
              0.8888888888888888,
              "#fdca26"
             ],
             [
              1,
              "#f0f921"
             ]
            ],
            "type": "contour"
           }
          ],
          "contourcarpet": [
           {
            "colorbar": {
             "outlinewidth": 0,
             "ticks": ""
            },
            "type": "contourcarpet"
           }
          ],
          "heatmap": [
           {
            "colorbar": {
             "outlinewidth": 0,
             "ticks": ""
            },
            "colorscale": [
             [
              0,
              "#0d0887"
             ],
             [
              0.1111111111111111,
              "#46039f"
             ],
             [
              0.2222222222222222,
              "#7201a8"
             ],
             [
              0.3333333333333333,
              "#9c179e"
             ],
             [
              0.4444444444444444,
              "#bd3786"
             ],
             [
              0.5555555555555556,
              "#d8576b"
             ],
             [
              0.6666666666666666,
              "#ed7953"
             ],
             [
              0.7777777777777778,
              "#fb9f3a"
             ],
             [
              0.8888888888888888,
              "#fdca26"
             ],
             [
              1,
              "#f0f921"
             ]
            ],
            "type": "heatmap"
           }
          ],
          "histogram": [
           {
            "marker": {
             "pattern": {
              "fillmode": "overlay",
              "size": 10,
              "solidity": 0.2
             }
            },
            "type": "histogram"
           }
          ],
          "histogram2d": [
           {
            "colorbar": {
             "outlinewidth": 0,
             "ticks": ""
            },
            "colorscale": [
             [
              0,
              "#0d0887"
             ],
             [
              0.1111111111111111,
              "#46039f"
             ],
             [
              0.2222222222222222,
              "#7201a8"
             ],
             [
              0.3333333333333333,
              "#9c179e"
             ],
             [
              0.4444444444444444,
              "#bd3786"
             ],
             [
              0.5555555555555556,
              "#d8576b"
             ],
             [
              0.6666666666666666,
              "#ed7953"
             ],
             [
              0.7777777777777778,
              "#fb9f3a"
             ],
             [
              0.8888888888888888,
              "#fdca26"
             ],
             [
              1,
              "#f0f921"
             ]
            ],
            "type": "histogram2d"
           }
          ],
          "histogram2dcontour": [
           {
            "colorbar": {
             "outlinewidth": 0,
             "ticks": ""
            },
            "colorscale": [
             [
              0,
              "#0d0887"
             ],
             [
              0.1111111111111111,
              "#46039f"
             ],
             [
              0.2222222222222222,
              "#7201a8"
             ],
             [
              0.3333333333333333,
              "#9c179e"
             ],
             [
              0.4444444444444444,
              "#bd3786"
             ],
             [
              0.5555555555555556,
              "#d8576b"
             ],
             [
              0.6666666666666666,
              "#ed7953"
             ],
             [
              0.7777777777777778,
              "#fb9f3a"
             ],
             [
              0.8888888888888888,
              "#fdca26"
             ],
             [
              1,
              "#f0f921"
             ]
            ],
            "type": "histogram2dcontour"
           }
          ],
          "mesh3d": [
           {
            "colorbar": {
             "outlinewidth": 0,
             "ticks": ""
            },
            "type": "mesh3d"
           }
          ],
          "parcoords": [
           {
            "line": {
             "colorbar": {
              "outlinewidth": 0,
              "ticks": ""
             }
            },
            "type": "parcoords"
           }
          ],
          "pie": [
           {
            "automargin": true,
            "type": "pie"
           }
          ],
          "scatter": [
           {
            "fillpattern": {
             "fillmode": "overlay",
             "size": 10,
             "solidity": 0.2
            },
            "type": "scatter"
           }
          ],
          "scatter3d": [
           {
            "line": {
             "colorbar": {
              "outlinewidth": 0,
              "ticks": ""
             }
            },
            "marker": {
             "colorbar": {
              "outlinewidth": 0,
              "ticks": ""
             }
            },
            "type": "scatter3d"
           }
          ],
          "scattercarpet": [
           {
            "marker": {
             "colorbar": {
              "outlinewidth": 0,
              "ticks": ""
             }
            },
            "type": "scattercarpet"
           }
          ],
          "scattergeo": [
           {
            "marker": {
             "colorbar": {
              "outlinewidth": 0,
              "ticks": ""
             }
            },
            "type": "scattergeo"
           }
          ],
          "scattergl": [
           {
            "marker": {
             "colorbar": {
              "outlinewidth": 0,
              "ticks": ""
             }
            },
            "type": "scattergl"
           }
          ],
          "scattermap": [
           {
            "marker": {
             "colorbar": {
              "outlinewidth": 0,
              "ticks": ""
             }
            },
            "type": "scattermap"
           }
          ],
          "scattermapbox": [
           {
            "marker": {
             "colorbar": {
              "outlinewidth": 0,
              "ticks": ""
             }
            },
            "type": "scattermapbox"
           }
          ],
          "scatterpolar": [
           {
            "marker": {
             "colorbar": {
              "outlinewidth": 0,
              "ticks": ""
             }
            },
            "type": "scatterpolar"
           }
          ],
          "scatterpolargl": [
           {
            "marker": {
             "colorbar": {
              "outlinewidth": 0,
              "ticks": ""
             }
            },
            "type": "scatterpolargl"
           }
          ],
          "scatterternary": [
           {
            "marker": {
             "colorbar": {
              "outlinewidth": 0,
              "ticks": ""
             }
            },
            "type": "scatterternary"
           }
          ],
          "surface": [
           {
            "colorbar": {
             "outlinewidth": 0,
             "ticks": ""
            },
            "colorscale": [
             [
              0,
              "#0d0887"
             ],
             [
              0.1111111111111111,
              "#46039f"
             ],
             [
              0.2222222222222222,
              "#7201a8"
             ],
             [
              0.3333333333333333,
              "#9c179e"
             ],
             [
              0.4444444444444444,
              "#bd3786"
             ],
             [
              0.5555555555555556,
              "#d8576b"
             ],
             [
              0.6666666666666666,
              "#ed7953"
             ],
             [
              0.7777777777777778,
              "#fb9f3a"
             ],
             [
              0.8888888888888888,
              "#fdca26"
             ],
             [
              1,
              "#f0f921"
             ]
            ],
            "type": "surface"
           }
          ],
          "table": [
           {
            "cells": {
             "fill": {
              "color": "#EBF0F8"
             },
             "line": {
              "color": "white"
             }
            },
            "header": {
             "fill": {
              "color": "#C8D4E3"
             },
             "line": {
              "color": "white"
             }
            },
            "type": "table"
           }
          ]
         },
         "layout": {
          "annotationdefaults": {
           "arrowcolor": "#2a3f5f",
           "arrowhead": 0,
           "arrowwidth": 1
          },
          "autotypenumbers": "strict",
          "coloraxis": {
           "colorbar": {
            "outlinewidth": 0,
            "ticks": ""
           }
          },
          "colorscale": {
           "diverging": [
            [
             0,
             "#8e0152"
            ],
            [
             0.1,
             "#c51b7d"
            ],
            [
             0.2,
             "#de77ae"
            ],
            [
             0.3,
             "#f1b6da"
            ],
            [
             0.4,
             "#fde0ef"
            ],
            [
             0.5,
             "#f7f7f7"
            ],
            [
             0.6,
             "#e6f5d0"
            ],
            [
             0.7,
             "#b8e186"
            ],
            [
             0.8,
             "#7fbc41"
            ],
            [
             0.9,
             "#4d9221"
            ],
            [
             1,
             "#276419"
            ]
           ],
           "sequential": [
            [
             0,
             "#0d0887"
            ],
            [
             0.1111111111111111,
             "#46039f"
            ],
            [
             0.2222222222222222,
             "#7201a8"
            ],
            [
             0.3333333333333333,
             "#9c179e"
            ],
            [
             0.4444444444444444,
             "#bd3786"
            ],
            [
             0.5555555555555556,
             "#d8576b"
            ],
            [
             0.6666666666666666,
             "#ed7953"
            ],
            [
             0.7777777777777778,
             "#fb9f3a"
            ],
            [
             0.8888888888888888,
             "#fdca26"
            ],
            [
             1,
             "#f0f921"
            ]
           ],
           "sequentialminus": [
            [
             0,
             "#0d0887"
            ],
            [
             0.1111111111111111,
             "#46039f"
            ],
            [
             0.2222222222222222,
             "#7201a8"
            ],
            [
             0.3333333333333333,
             "#9c179e"
            ],
            [
             0.4444444444444444,
             "#bd3786"
            ],
            [
             0.5555555555555556,
             "#d8576b"
            ],
            [
             0.6666666666666666,
             "#ed7953"
            ],
            [
             0.7777777777777778,
             "#fb9f3a"
            ],
            [
             0.8888888888888888,
             "#fdca26"
            ],
            [
             1,
             "#f0f921"
            ]
           ]
          },
          "colorway": [
           "#636efa",
           "#EF553B",
           "#00cc96",
           "#ab63fa",
           "#FFA15A",
           "#19d3f3",
           "#FF6692",
           "#B6E880",
           "#FF97FF",
           "#FECB52"
          ],
          "font": {
           "color": "#2a3f5f"
          },
          "geo": {
           "bgcolor": "white",
           "lakecolor": "white",
           "landcolor": "white",
           "showlakes": true,
           "showland": true,
           "subunitcolor": "#C8D4E3"
          },
          "hoverlabel": {
           "align": "left"
          },
          "hovermode": "closest",
          "mapbox": {
           "style": "light"
          },
          "paper_bgcolor": "white",
          "plot_bgcolor": "white",
          "polar": {
           "angularaxis": {
            "gridcolor": "#EBF0F8",
            "linecolor": "#EBF0F8",
            "ticks": ""
           },
           "bgcolor": "white",
           "radialaxis": {
            "gridcolor": "#EBF0F8",
            "linecolor": "#EBF0F8",
            "ticks": ""
           }
          },
          "scene": {
           "xaxis": {
            "backgroundcolor": "white",
            "gridcolor": "#DFE8F3",
            "gridwidth": 2,
            "linecolor": "#EBF0F8",
            "showbackground": true,
            "ticks": "",
            "zerolinecolor": "#EBF0F8"
           },
           "yaxis": {
            "backgroundcolor": "white",
            "gridcolor": "#DFE8F3",
            "gridwidth": 2,
            "linecolor": "#EBF0F8",
            "showbackground": true,
            "ticks": "",
            "zerolinecolor": "#EBF0F8"
           },
           "zaxis": {
            "backgroundcolor": "white",
            "gridcolor": "#DFE8F3",
            "gridwidth": 2,
            "linecolor": "#EBF0F8",
            "showbackground": true,
            "ticks": "",
            "zerolinecolor": "#EBF0F8"
           }
          },
          "shapedefaults": {
           "line": {
            "color": "#2a3f5f"
           }
          },
          "ternary": {
           "aaxis": {
            "gridcolor": "#DFE8F3",
            "linecolor": "#A2B1C6",
            "ticks": ""
           },
           "baxis": {
            "gridcolor": "#DFE8F3",
            "linecolor": "#A2B1C6",
            "ticks": ""
           },
           "bgcolor": "white",
           "caxis": {
            "gridcolor": "#DFE8F3",
            "linecolor": "#A2B1C6",
            "ticks": ""
           }
          },
          "title": {
           "x": 0.05
          },
          "xaxis": {
           "automargin": true,
           "gridcolor": "#EBF0F8",
           "linecolor": "#EBF0F8",
           "ticks": "",
           "title": {
            "standoff": 15
           },
           "zerolinecolor": "#EBF0F8",
           "zerolinewidth": 2
          },
          "yaxis": {
           "automargin": true,
           "gridcolor": "#EBF0F8",
           "linecolor": "#EBF0F8",
           "ticks": "",
           "title": {
            "standoff": 15
           },
           "zerolinecolor": "#EBF0F8",
           "zerolinewidth": 2
          }
         }
        },
        "title": {
         "text": "Optimization Cost History"
        },
        "xaxis": {
         "title": {
          "text": "Iteration"
         }
        },
        "yaxis": {
         "title": {
          "text": "Loss"
         }
        }
       }
      }
     },
     "metadata": {},
     "output_type": "display_data"
    },
    {
     "name": "stdout",
     "output_type": "stream",
     "text": [
      "(1000,)\n"
     ]
    }
   ],
   "source": [
    "# 4. Visualize the results\n",
    "print(\"4. Visualizing optimization results...\")\n",
    "plot_domain_widths(initial_widths, optimized_widths, periodic_widths)\n",
    "plot_thw_power_spectrum(initial_widths, optimized_widths, periodic_widths, sim_params, config)\n",
    "plot_cost_history(loss_history)\n",
    "print(optimized_widths.shape)\n",
    "\n",
    "jnp.save(f\"optimized_widths_{config.num_domains}.npy\", optimized_widths)"
   ]
  },
  {
   "cell_type": "code",
   "execution_count": 38,
   "id": "33240a0d",
   "metadata": {},
   "outputs": [
    {
     "name": "stdout",
     "output_type": "stream",
     "text": [
      "2. Setting up loss function and L-BFGS optimizer...\n",
      "3. Running JIT-compiled optimization...\n",
      "   - Initial THW Power: 0.0046\n"
     ]
    },
    {
     "data": {
      "application/vnd.jupyter.widget-view+json": {
       "model_id": "272e91b4fbc94b1ca9ebf714e64e5ba9",
       "version_major": 2,
       "version_minor": 0
      },
      "text/plain": [
       "Optimizing:   0%|          | 0/100 [00:00<?, ?it/s]"
      ]
     },
     "metadata": {},
     "output_type": "display_data"
    },
    {
     "name": "stdout",
     "output_type": "stream",
     "text": [
      "   - Optimized THW Power: 0.0046\n"
     ]
    }
   ],
   "source": [
    "# 追加のoptimization\n",
    "\n",
    "# initial_widths = jnp.load(f\"optimized_widths_{config.num_domains}.npy\")\n",
    "initial_widths = optimized_widths\n",
    "config.max_iters = 100\n",
    "optimized_widths, loss_history = run_optimization(initial_widths, sim_params, config)"
   ]
  }
 ],
 "metadata": {
  "kernelspec": {
   "display_name": ".venv",
   "language": "python",
   "name": "python3"
  },
  "language_info": {
   "codemirror_mode": {
    "name": "ipython",
    "version": 3
   },
   "file_extension": ".py",
   "mimetype": "text/x-python",
   "name": "python",
   "nbconvert_exporter": "python",
   "pygments_lexer": "ipython3",
   "version": "3.13.8"
  }
 },
 "nbformat": 4,
 "nbformat_minor": 5
}
