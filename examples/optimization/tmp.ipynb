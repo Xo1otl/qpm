{
 "cells": [
  {
   "cell_type": "code",
   "execution_count": 7,
   "id": "6181fb6f",
   "metadata": {},
   "outputs": [
    {
     "name": "stdout",
     "output_type": "stream",
     "text": [
      "1. Generating initial grating parameters (symmetric)...\n",
      "   - Base domain width from calculation: 0.9796 μm\n",
      "   - Total number of domains: 1022 (optimizing 511)\n",
      "2. Setting up loss function and L-BFGS optimizer...\n",
      "3. Running JIT-compiled optimization...\n",
      "   - Initial Loss: 3.7953\n"
     ]
    },
    {
     "name": "stderr",
     "output_type": "stream",
     "text": [
      "Optimizing: 100%|██████████| 200/200 [01:47<00:00,  1.86it/s]\n"
     ]
    },
    {
     "name": "stdout",
     "output_type": "stream",
     "text": [
      "   - Optimized Loss: 3.7947\n",
      "4. Visualizing optimization results...\n"
     ]
    },
    {
     "data": {
      "application/vnd.plotly.v1+json": {
       "config": {
        "plotlyServerURL": "https://plot.ly"
       },
       "data": [
        {
         "line": {
          "dash": "dash"
         },
         "mode": "lines",
         "name": "Initial",
         "type": "scatter",
         "y": {
          "bdata": "dMR6P3TEej90xHo/dMR6P3TEej90xHo/dMR6P3TEej90xHo/dMR6P3TEej90xHo/dMR6P3TEej90xHo/dMR6P3TEej90xHo/dMR6P3TEej90xHo/dMR6P3TEej90xHo/dMR6P3TEej90xHo/dMR6P3TEej90xHo/dMR6P3TEej90xHo/dMR6P3TEej90xHo/dMR6P3TEej90xHo/dMR6P3TEej90xHo/dMR6P3TEej90xHo/dMR6P3TEej90xHo/dMR6P3TEej90xHo/dMR6P3TEej90xHo/dMR6P3TEej90xHo/dMR6P3TEej90xHo/dMR6P3TEej90xHo/dMR6P3TEej90xHo/dMR6P3TEej90xHo/dMR6P3TEej90xHo/dMR6P3TEej90xHo/dMR6P3TEej90xHo/dMR6P3TEej90xHo/dMR6P3TEej90xHo/dMR6P3TEej90xHo/dMR6P3TEej90xHo/dMR6P3TEej90xHo/dMR6P3TEej90xHo/dMR6P3TEej90xHo/dMR6P3TEej90xHo/dMR6P3TEej90xHo/dMR6P3TEej90xHo/dMR6P3TEej90xHo/dMR6P3TEej90xHo/dMR6P3TEej90xHo/dMR6P3TEej90xHo/dMR6P3TEej90xHo/dMR6P3TEej90xHo/dMR6P3TEej90xHo/dMR6P3TEej90xHo/dMR6P3TEej90xHo/dMR6P3TEej90xHo/dMR6P3TEej90xHo/dMR6P3TEej90xHo/dMR6P3TEej90xHo/dMR6P3TEej90xHo/dMR6P3TEej90xHo/dMR6P3TEej90xHo/dMR6P3TEej90xHo/dMR6P3TEej90xHo/dMR6P3TEej90xHo/dMR6P3TEej90xHo/dMR6P3TEej90xHo/dMR6P3TEej90xHo/dMR6P3TEej90xHo/dMR6P3TEej90xHo/dMR6P3TEej90xHo/dMR6P3TEej90xHo/dMR6P3TEej90xHo/dMR6P3TEej90xHo/dMR6P3TEej90xHo/dMR6P3TEej90xHo/dMR6P3TEej90xHo/dMR6P3TEej90xHo/dMR6P3TEej90xHo/dMR6P3TEej90xHo/dMR6P3TEej90xHo/dMR6P3TEej90xHo/dMR6P3TEej90xHo/dMR6P3TEej90xHo/dMR6P3TEej90xHo/dMR6P3TEej90xHo/dMR6P3TEej90xHo/dMR6P3TEej90xHo/dMR6P3TEej90xHo/dMR6P3TEej90xHo/dMR6P3TEej90xHo/dMR6P3TEej90xHo/dMR6P3TEej90xHo/dMR6P3TEej90xHo/dMR6P3TEej90xHo/dMR6P3TEej90xHo/dMR6P3TEej90xHo/dMR6P3TEej90xHo/dMR6P3TEej90xHo/dMR6P3TEej90xHo/dMR6P3TEej90xHo/dMR6P3TEej90xHo/dMR6P3TEej90xHo/dMR6P3TEej90xHo/dMR6P3TEej90xHo/dMR6P3TEej90xHo/dMR6P3TEej90xHo/dMR6P3TEej90xHo/dMR6P3TEej90xHo/dMR6P3TEej90xHo/dMR6P3TEej90xHo/dMR6P3TEej90xHo/dMR6P3TEej90xHo/dMR6P3TEej90xHo/dMR6P3TEej90xHo/dMR6P3TEej90xHo/dMR6P3TEej90xHo/dMR6P3TEej90xHo/dMR6P3TEej90xHo/dMR6P3TEej90xHo/dMR6P3TEej90xHo/dMR6P3TEej90xHo/dMR6P3TEej90xHo/dMR6P3TEej90xHo/dMR6P3TEej90xHo/dMR6P3TEej90xHo/dMR6P3TEej90xHo/dMR6P3TEej90xHo/dMR6P3TEej90xHo/dMR6P3TEej90xHo/dMR6P3TEej90xHo/dMR6P3TEej90xHo/dMR6P3TEej90xHo/dMR6P3TEej90xHo/dMR6P3TEej90xHo/dMR6P3TEej90xHo/dMR6P3TEej90xHo/dMR6P3TEej90xHo/dMR6P3TEej90xHo/dMR6P3TEej90xHo/dMR6P3TEej90xHo/dMR6P3TEej90xHo/dMR6P3TEej90xHo/dMR6P3TEej90xHo/dMR6P3TEej90xHo/dMR6P3TEej90xHo/dMR6P3TEej90xHo/dMR6P3TEej90xHo/dMR6P3TEej90xHo/dMR6P3TEej90xHo/dMR6P3TEej90xHo/dMR6P3TEej90xHo/dMR6P3TEej90xHo/dMR6P3TEej90xHo/dMR6P3TEej90xHo/dMR6P3TEej90xHo/dMR6P3TEej90xHo/dMR6P3TEej90xHo/dMR6P3TEej90xHo/dMR6P3TEej90xHo/dMR6P3TEej90xHo/dMR6P3TEej90xHo/dMR6P3TEej90xHo/dMR6P3TEej90xHo/dMR6P3TEej90xHo/dMR6P3TEej90xHo/dMR6P3TEej90xHo/dMR6P3TEej90xHo/dMR6P3TEej90xHo/dMR6P3TEej90xHo/dMR6P3TEej90xHo/dMR6P3TEej90xHo/dMR6P3TEej90xHo/dMR6P3TEej90xHo/dMR6P3TEej90xHo/dMR6P3TEej90xHo/dMR6P3TEej90xHo/dMR6P3TEej90xHo/dMR6P3TEej90xHo/dMR6P3TEej90xHo/dMR6P3TEej90xHo/dMR6P3TEej90xHo/dMR6P3TEej90xHo/dMR6P3TEej90xHo/dMR6P3TEej90xHo/dMR6P3TEej90xHo/dMR6P3TEej90xHo/dMR6P3TEej90xHo/dMR6P3TEej90xHo/dMR6P3TEej90xHo/dMR6P3TEej90xHo/dMR6P3TEej90xHo/dMR6P3TEej90xHo/dMR6P3TEej90xHo/dMR6P3TEej90xHo/dMR6P3TEej90xHo/dMR6P3TEej90xHo/dMR6P3TEej90xHo/dMR6P3TEej90xHo/dMR6P3TEej90xHo/dMR6P3TEej90xHo/dMR6P3TEej90xHo/dMR6P3TEej90xHo/dMR6P3TEej90xHo/dMR6P3TEej90xHo/dMR6P3TEej90xHo/dMR6P3TEej90xHo/dMR6P3TEej90xHo/dMR6P3TEej90xHo/dMR6P3TEej90xHo/dMR6P3TEej90xHo/dMR6P3TEej90xHo/dMR6P3TEej90xHo/dMR6P3TEej90xHo/dMR6P3TEej90xHo/dMR6P3TEej90xHo/dMR6P3TEej90xHo/dMR6P3TEej90xHo/dMR6P3TEej90xHo/dMR6P3TEej90xHo/dMR6P3TEej90xHo/dMR6P3TEej90xHo/dMR6P3TEej90xHo/dMR6P3TEej90xHo/dMR6P3TEej90xHo/dMR6P3TEej90xHo/dMR6P3TEej90xHo/dMR6P3TEej90xHo/dMR6P3TEej90xHo/dMR6P3TEej90xHo/dMR6P3TEej90xHo/dMR6P3TEej90xHo/dMR6P3TEej90xHo/dMR6P3TEej90xHo/dMR6P3TEej90xHo/dMR6P3TEej90xHo/dMR6P3TEej90xHo/dMR6P3TEej90xHo/dMR6P3TEej90xHo/dMR6P3TEej90xHo/dMR6P3TEej90xHo/dMR6P3TEej90xHo/dMR6P3TEej90xHo/dMR6P3TEej90xHo/dMR6P3TEej90xHo/dMR6P3TEej90xHo/dMR6P3TEej90xHo/dMR6P3TEej90xHo/dMR6P3TEej90xHo/dMR6P3TEej90xHo/dMR6P3TEej90xHo/dMR6P3TEej90xHo/dMR6P3TEej90xHo/dMR6P3TEej90xHo/dMR6P3TEej90xHo/dMR6P3TEej90xHo/dMR6P3TEej90xHo/dMR6P3TEej90xHo/dMR6P3TEej90xHo/dMR6P3TEej90xHo/dMR6P3TEej90xHo/dMR6P3TEej90xHo/dMR6P3TEej90xHo/dMR6P3TEej90xHo/dMR6P3TEej90xHo/dMR6P3TEej90xHo/dMR6P3TEej90xHo/dMR6P3TEej90xHo/dMR6P3TEej90xHo/dMR6P3TEej90xHo/dMR6P3TEej90xHo/dMR6P3TEej90xHo/dMR6P3TEej90xHo/dMR6P3TEej90xHo/dMR6P3TEej90xHo/dMR6P3TEej90xHo/dMR6P3TEej90xHo/dMR6P3TEej90xHo/dMR6P3TEej90xHo/dMR6P3TEej90xHo/dMR6P3TEej90xHo/dMR6P3TEej90xHo/dMR6P3TEej90xHo/dMR6P3TEej90xHo/dMR6P3TEej90xHo/dMR6P3TEej90xHo/dMR6P3TEej90xHo/dMR6P3TEej90xHo/dMR6P3TEej90xHo/dMR6P3TEej90xHo/dMR6P3TEej90xHo/dMR6P3TEej90xHo/dMR6P3TEej90xHo/dMR6P3TEej90xHo/dMR6P3TEej90xHo/dMR6P3TEej90xHo/dMR6P3TEej90xHo/dMR6P3TEej90xHo/dMR6P3TEej90xHo/dMR6P3TEej90xHo/dMR6P3TEej90xHo/dMR6P3TEej90xHo/dMR6P3TEej90xHo/dMR6P3TEej90xHo/dMR6P3TEej90xHo/dMR6P3TEej90xHo/dMR6P3TEej90xHo/dMR6P3TEej90xHo/dMR6P3TEej90xHo/dMR6P3TEej90xHo/dMR6P3TEej90xHo/dMR6P3TEej90xHo/dMR6P3TEej90xHo/dMR6P3TEej90xHo/dMR6P3TEej90xHo/dMR6P3TEej90xHo/dMR6P3TEej90xHo/dMR6P3TEej90xHo/dMR6P3TEej90xHo/dMR6P3TEej90xHo/dMR6P3TEej90xHo/dMR6P3TEej90xHo/dMR6P3TEej90xHo/dMR6P3TEej90xHo/dMR6P3TEej90xHo/dMR6P3TEej90xHo/dMR6P3TEej90xHo/dMR6P3TEej90xHo/dMR6P3TEej90xHo/dMR6P3TEej90xHo/dMR6P3TEej90xHo/dMR6P3TEej90xHo/dMR6P3TEej90xHo/dMR6P3TEej90xHo/dMR6P3TEej90xHo/dMR6P3TEej90xHo/dMR6P3TEej90xHo/dMR6P3TEej90xHo/dMR6P3TEej90xHo/dMR6P3TEej90xHo/dMR6P3TEej90xHo/dMR6P3TEej90xHo/dMR6P3TEej90xHo/dMR6P3TEej90xHo/dMR6P3TEej90xHo/dMR6P3TEej90xHo/dMR6P3TEej90xHo/dMR6P3TEej90xHo/dMR6P3TEej90xHo/dMR6P3TEej90xHo/dMR6P3TEej8=",
          "dtype": "f4"
         }
        },
        {
         "mode": "lines",
         "name": "Optimized",
         "type": "scatter",
         "y": {
          "bdata": "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",
          "dtype": "f4"
         }
        }
       ],
       "layout": {
        "template": {
         "data": {
          "bar": [
           {
            "error_x": {
             "color": "#2a3f5f"
            },
            "error_y": {
             "color": "#2a3f5f"
            },
            "marker": {
             "line": {
              "color": "white",
              "width": 0.5
             },
             "pattern": {
              "fillmode": "overlay",
              "size": 10,
              "solidity": 0.2
             }
            },
            "type": "bar"
           }
          ],
          "barpolar": [
           {
            "marker": {
             "line": {
              "color": "white",
              "width": 0.5
             },
             "pattern": {
              "fillmode": "overlay",
              "size": 10,
              "solidity": 0.2
             }
            },
            "type": "barpolar"
           }
          ],
          "carpet": [
           {
            "aaxis": {
             "endlinecolor": "#2a3f5f",
             "gridcolor": "#C8D4E3",
             "linecolor": "#C8D4E3",
             "minorgridcolor": "#C8D4E3",
             "startlinecolor": "#2a3f5f"
            },
            "baxis": {
             "endlinecolor": "#2a3f5f",
             "gridcolor": "#C8D4E3",
             "linecolor": "#C8D4E3",
             "minorgridcolor": "#C8D4E3",
             "startlinecolor": "#2a3f5f"
            },
            "type": "carpet"
           }
          ],
          "choropleth": [
           {
            "colorbar": {
             "outlinewidth": 0,
             "ticks": ""
            },
            "type": "choropleth"
           }
          ],
          "contour": [
           {
            "colorbar": {
             "outlinewidth": 0,
             "ticks": ""
            },
            "colorscale": [
             [
              0,
              "#0d0887"
             ],
             [
              0.1111111111111111,
              "#46039f"
             ],
             [
              0.2222222222222222,
              "#7201a8"
             ],
             [
              0.3333333333333333,
              "#9c179e"
             ],
             [
              0.4444444444444444,
              "#bd3786"
             ],
             [
              0.5555555555555556,
              "#d8576b"
             ],
             [
              0.6666666666666666,
              "#ed7953"
             ],
             [
              0.7777777777777778,
              "#fb9f3a"
             ],
             [
              0.8888888888888888,
              "#fdca26"
             ],
             [
              1,
              "#f0f921"
             ]
            ],
            "type": "contour"
           }
          ],
          "contourcarpet": [
           {
            "colorbar": {
             "outlinewidth": 0,
             "ticks": ""
            },
            "type": "contourcarpet"
           }
          ],
          "heatmap": [
           {
            "colorbar": {
             "outlinewidth": 0,
             "ticks": ""
            },
            "colorscale": [
             [
              0,
              "#0d0887"
             ],
             [
              0.1111111111111111,
              "#46039f"
             ],
             [
              0.2222222222222222,
              "#7201a8"
             ],
             [
              0.3333333333333333,
              "#9c179e"
             ],
             [
              0.4444444444444444,
              "#bd3786"
             ],
             [
              0.5555555555555556,
              "#d8576b"
             ],
             [
              0.6666666666666666,
              "#ed7953"
             ],
             [
              0.7777777777777778,
              "#fb9f3a"
             ],
             [
              0.8888888888888888,
              "#fdca26"
             ],
             [
              1,
              "#f0f921"
             ]
            ],
            "type": "heatmap"
           }
          ],
          "histogram": [
           {
            "marker": {
             "pattern": {
              "fillmode": "overlay",
              "size": 10,
              "solidity": 0.2
             }
            },
            "type": "histogram"
           }
          ],
          "histogram2d": [
           {
            "colorbar": {
             "outlinewidth": 0,
             "ticks": ""
            },
            "colorscale": [
             [
              0,
              "#0d0887"
             ],
             [
              0.1111111111111111,
              "#46039f"
             ],
             [
              0.2222222222222222,
              "#7201a8"
             ],
             [
              0.3333333333333333,
              "#9c179e"
             ],
             [
              0.4444444444444444,
              "#bd3786"
             ],
             [
              0.5555555555555556,
              "#d8576b"
             ],
             [
              0.6666666666666666,
              "#ed7953"
             ],
             [
              0.7777777777777778,
              "#fb9f3a"
             ],
             [
              0.8888888888888888,
              "#fdca26"
             ],
             [
              1,
              "#f0f921"
             ]
            ],
            "type": "histogram2d"
           }
          ],
          "histogram2dcontour": [
           {
            "colorbar": {
             "outlinewidth": 0,
             "ticks": ""
            },
            "colorscale": [
             [
              0,
              "#0d0887"
             ],
             [
              0.1111111111111111,
              "#46039f"
             ],
             [
              0.2222222222222222,
              "#7201a8"
             ],
             [
              0.3333333333333333,
              "#9c179e"
             ],
             [
              0.4444444444444444,
              "#bd3786"
             ],
             [
              0.5555555555555556,
              "#d8576b"
             ],
             [
              0.6666666666666666,
              "#ed7953"
             ],
             [
              0.7777777777777778,
              "#fb9f3a"
             ],
             [
              0.8888888888888888,
              "#fdca26"
             ],
             [
              1,
              "#f0f921"
             ]
            ],
            "type": "histogram2dcontour"
           }
          ],
          "mesh3d": [
           {
            "colorbar": {
             "outlinewidth": 0,
             "ticks": ""
            },
            "type": "mesh3d"
           }
          ],
          "parcoords": [
           {
            "line": {
             "colorbar": {
              "outlinewidth": 0,
              "ticks": ""
             }
            },
            "type": "parcoords"
           }
          ],
          "pie": [
           {
            "automargin": true,
            "type": "pie"
           }
          ],
          "scatter": [
           {
            "fillpattern": {
             "fillmode": "overlay",
             "size": 10,
             "solidity": 0.2
            },
            "type": "scatter"
           }
          ],
          "scatter3d": [
           {
            "line": {
             "colorbar": {
              "outlinewidth": 0,
              "ticks": ""
             }
            },
            "marker": {
             "colorbar": {
              "outlinewidth": 0,
              "ticks": ""
             }
            },
            "type": "scatter3d"
           }
          ],
          "scattercarpet": [
           {
            "marker": {
             "colorbar": {
              "outlinewidth": 0,
              "ticks": ""
             }
            },
            "type": "scattercarpet"
           }
          ],
          "scattergeo": [
           {
            "marker": {
             "colorbar": {
              "outlinewidth": 0,
              "ticks": ""
             }
            },
            "type": "scattergeo"
           }
          ],
          "scattergl": [
           {
            "marker": {
             "colorbar": {
              "outlinewidth": 0,
              "ticks": ""
             }
            },
            "type": "scattergl"
           }
          ],
          "scattermap": [
           {
            "marker": {
             "colorbar": {
              "outlinewidth": 0,
              "ticks": ""
             }
            },
            "type": "scattermap"
           }
          ],
          "scattermapbox": [
           {
            "marker": {
             "colorbar": {
              "outlinewidth": 0,
              "ticks": ""
             }
            },
            "type": "scattermapbox"
           }
          ],
          "scatterpolar": [
           {
            "marker": {
             "colorbar": {
              "outlinewidth": 0,
              "ticks": ""
             }
            },
            "type": "scatterpolar"
           }
          ],
          "scatterpolargl": [
           {
            "marker": {
             "colorbar": {
              "outlinewidth": 0,
              "ticks": ""
             }
            },
            "type": "scatterpolargl"
           }
          ],
          "scatterternary": [
           {
            "marker": {
             "colorbar": {
              "outlinewidth": 0,
              "ticks": ""
             }
            },
            "type": "scatterternary"
           }
          ],
          "surface": [
           {
            "colorbar": {
             "outlinewidth": 0,
             "ticks": ""
            },
            "colorscale": [
             [
              0,
              "#0d0887"
             ],
             [
              0.1111111111111111,
              "#46039f"
             ],
             [
              0.2222222222222222,
              "#7201a8"
             ],
             [
              0.3333333333333333,
              "#9c179e"
             ],
             [
              0.4444444444444444,
              "#bd3786"
             ],
             [
              0.5555555555555556,
              "#d8576b"
             ],
             [
              0.6666666666666666,
              "#ed7953"
             ],
             [
              0.7777777777777778,
              "#fb9f3a"
             ],
             [
              0.8888888888888888,
              "#fdca26"
             ],
             [
              1,
              "#f0f921"
             ]
            ],
            "type": "surface"
           }
          ],
          "table": [
           {
            "cells": {
             "fill": {
              "color": "#EBF0F8"
             },
             "line": {
              "color": "white"
             }
            },
            "header": {
             "fill": {
              "color": "#C8D4E3"
             },
             "line": {
              "color": "white"
             }
            },
            "type": "table"
           }
          ]
         },
         "layout": {
          "annotationdefaults": {
           "arrowcolor": "#2a3f5f",
           "arrowhead": 0,
           "arrowwidth": 1
          },
          "autotypenumbers": "strict",
          "coloraxis": {
           "colorbar": {
            "outlinewidth": 0,
            "ticks": ""
           }
          },
          "colorscale": {
           "diverging": [
            [
             0,
             "#8e0152"
            ],
            [
             0.1,
             "#c51b7d"
            ],
            [
             0.2,
             "#de77ae"
            ],
            [
             0.3,
             "#f1b6da"
            ],
            [
             0.4,
             "#fde0ef"
            ],
            [
             0.5,
             "#f7f7f7"
            ],
            [
             0.6,
             "#e6f5d0"
            ],
            [
             0.7,
             "#b8e186"
            ],
            [
             0.8,
             "#7fbc41"
            ],
            [
             0.9,
             "#4d9221"
            ],
            [
             1,
             "#276419"
            ]
           ],
           "sequential": [
            [
             0,
             "#0d0887"
            ],
            [
             0.1111111111111111,
             "#46039f"
            ],
            [
             0.2222222222222222,
             "#7201a8"
            ],
            [
             0.3333333333333333,
             "#9c179e"
            ],
            [
             0.4444444444444444,
             "#bd3786"
            ],
            [
             0.5555555555555556,
             "#d8576b"
            ],
            [
             0.6666666666666666,
             "#ed7953"
            ],
            [
             0.7777777777777778,
             "#fb9f3a"
            ],
            [
             0.8888888888888888,
             "#fdca26"
            ],
            [
             1,
             "#f0f921"
            ]
           ],
           "sequentialminus": [
            [
             0,
             "#0d0887"
            ],
            [
             0.1111111111111111,
             "#46039f"
            ],
            [
             0.2222222222222222,
             "#7201a8"
            ],
            [
             0.3333333333333333,
             "#9c179e"
            ],
            [
             0.4444444444444444,
             "#bd3786"
            ],
            [
             0.5555555555555556,
             "#d8576b"
            ],
            [
             0.6666666666666666,
             "#ed7953"
            ],
            [
             0.7777777777777778,
             "#fb9f3a"
            ],
            [
             0.8888888888888888,
             "#fdca26"
            ],
            [
             1,
             "#f0f921"
            ]
           ]
          },
          "colorway": [
           "#636efa",
           "#EF553B",
           "#00cc96",
           "#ab63fa",
           "#FFA15A",
           "#19d3f3",
           "#FF6692",
           "#B6E880",
           "#FF97FF",
           "#FECB52"
          ],
          "font": {
           "color": "#2a3f5f"
          },
          "geo": {
           "bgcolor": "white",
           "lakecolor": "white",
           "landcolor": "white",
           "showlakes": true,
           "showland": true,
           "subunitcolor": "#C8D4E3"
          },
          "hoverlabel": {
           "align": "left"
          },
          "hovermode": "closest",
          "mapbox": {
           "style": "light"
          },
          "paper_bgcolor": "white",
          "plot_bgcolor": "white",
          "polar": {
           "angularaxis": {
            "gridcolor": "#EBF0F8",
            "linecolor": "#EBF0F8",
            "ticks": ""
           },
           "bgcolor": "white",
           "radialaxis": {
            "gridcolor": "#EBF0F8",
            "linecolor": "#EBF0F8",
            "ticks": ""
           }
          },
          "scene": {
           "xaxis": {
            "backgroundcolor": "white",
            "gridcolor": "#DFE8F3",
            "gridwidth": 2,
            "linecolor": "#EBF0F8",
            "showbackground": true,
            "ticks": "",
            "zerolinecolor": "#EBF0F8"
           },
           "yaxis": {
            "backgroundcolor": "white",
            "gridcolor": "#DFE8F3",
            "gridwidth": 2,
            "linecolor": "#EBF0F8",
            "showbackground": true,
            "ticks": "",
            "zerolinecolor": "#EBF0F8"
           },
           "zaxis": {
            "backgroundcolor": "white",
            "gridcolor": "#DFE8F3",
            "gridwidth": 2,
            "linecolor": "#EBF0F8",
            "showbackground": true,
            "ticks": "",
            "zerolinecolor": "#EBF0F8"
           }
          },
          "shapedefaults": {
           "line": {
            "color": "#2a3f5f"
           }
          },
          "ternary": {
           "aaxis": {
            "gridcolor": "#DFE8F3",
            "linecolor": "#A2B1C6",
            "ticks": ""
           },
           "baxis": {
            "gridcolor": "#DFE8F3",
            "linecolor": "#A2B1C6",
            "ticks": ""
           },
           "bgcolor": "white",
           "caxis": {
            "gridcolor": "#DFE8F3",
            "linecolor": "#A2B1C6",
            "ticks": ""
           }
          },
          "title": {
           "x": 0.05
          },
          "xaxis": {
           "automargin": true,
           "gridcolor": "#EBF0F8",
           "linecolor": "#EBF0F8",
           "ticks": "",
           "title": {
            "standoff": 15
           },
           "zerolinecolor": "#EBF0F8",
           "zerolinewidth": 2
          },
          "yaxis": {
           "automargin": true,
           "gridcolor": "#EBF0F8",
           "linecolor": "#EBF0F8",
           "ticks": "",
           "title": {
            "standoff": 15
           },
           "zerolinecolor": "#EBF0F8",
           "zerolinewidth": 2
          }
         }
        },
        "title": {
         "text": "Domain Widths Before and After Optimization"
        },
        "xaxis": {
         "title": {
          "text": "Domain Index"
         }
        },
        "yaxis": {
         "title": {
          "text": "Width (μm)"
         }
        }
       }
      }
     },
     "metadata": {},
     "output_type": "display_data"
    },
    {
     "data": {
      "application/vnd.plotly.v1+json": {
       "config": {
        "plotlyServerURL": "https://plot.ly"
       },
       "data": [
        {
         "line": {
          "dash": "dash"
         },
         "mode": "lines",
         "name": "Initial",
         "type": "scatter",
         "x": {
          "bdata": "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",
          "dtype": "f4"
         },
         "y": {
          "bdata": "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",
          "dtype": "f4"
         }
        },
        {
         "mode": "lines",
         "name": "Optimized",
         "type": "scatter",
         "x": {
          "bdata": "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",
          "dtype": "f4"
         },
         "y": {
          "bdata": "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",
          "dtype": "f4"
         }
        }
       ],
       "layout": {
        "annotations": [
         {
          "showarrow": false,
          "text": "Target Region",
          "x": 1.0307,
          "xanchor": "left",
          "xref": "x",
          "y": 1,
          "yanchor": "top",
          "yref": "y domain"
         }
        ],
        "shapes": [
         {
          "fillcolor": "red",
          "line": {
           "width": 0
          },
          "opacity": 0.1,
          "type": "rect",
          "x0": 1.0307,
          "x1": 1.0313,
          "xref": "x",
          "y0": 0,
          "y1": 1,
          "yref": "y domain"
         }
        ],
        "template": {
         "data": {
          "bar": [
           {
            "error_x": {
             "color": "#2a3f5f"
            },
            "error_y": {
             "color": "#2a3f5f"
            },
            "marker": {
             "line": {
              "color": "white",
              "width": 0.5
             },
             "pattern": {
              "fillmode": "overlay",
              "size": 10,
              "solidity": 0.2
             }
            },
            "type": "bar"
           }
          ],
          "barpolar": [
           {
            "marker": {
             "line": {
              "color": "white",
              "width": 0.5
             },
             "pattern": {
              "fillmode": "overlay",
              "size": 10,
              "solidity": 0.2
             }
            },
            "type": "barpolar"
           }
          ],
          "carpet": [
           {
            "aaxis": {
             "endlinecolor": "#2a3f5f",
             "gridcolor": "#C8D4E3",
             "linecolor": "#C8D4E3",
             "minorgridcolor": "#C8D4E3",
             "startlinecolor": "#2a3f5f"
            },
            "baxis": {
             "endlinecolor": "#2a3f5f",
             "gridcolor": "#C8D4E3",
             "linecolor": "#C8D4E3",
             "minorgridcolor": "#C8D4E3",
             "startlinecolor": "#2a3f5f"
            },
            "type": "carpet"
           }
          ],
          "choropleth": [
           {
            "colorbar": {
             "outlinewidth": 0,
             "ticks": ""
            },
            "type": "choropleth"
           }
          ],
          "contour": [
           {
            "colorbar": {
             "outlinewidth": 0,
             "ticks": ""
            },
            "colorscale": [
             [
              0,
              "#0d0887"
             ],
             [
              0.1111111111111111,
              "#46039f"
             ],
             [
              0.2222222222222222,
              "#7201a8"
             ],
             [
              0.3333333333333333,
              "#9c179e"
             ],
             [
              0.4444444444444444,
              "#bd3786"
             ],
             [
              0.5555555555555556,
              "#d8576b"
             ],
             [
              0.6666666666666666,
              "#ed7953"
             ],
             [
              0.7777777777777778,
              "#fb9f3a"
             ],
             [
              0.8888888888888888,
              "#fdca26"
             ],
             [
              1,
              "#f0f921"
             ]
            ],
            "type": "contour"
           }
          ],
          "contourcarpet": [
           {
            "colorbar": {
             "outlinewidth": 0,
             "ticks": ""
            },
            "type": "contourcarpet"
           }
          ],
          "heatmap": [
           {
            "colorbar": {
             "outlinewidth": 0,
             "ticks": ""
            },
            "colorscale": [
             [
              0,
              "#0d0887"
             ],
             [
              0.1111111111111111,
              "#46039f"
             ],
             [
              0.2222222222222222,
              "#7201a8"
             ],
             [
              0.3333333333333333,
              "#9c179e"
             ],
             [
              0.4444444444444444,
              "#bd3786"
             ],
             [
              0.5555555555555556,
              "#d8576b"
             ],
             [
              0.6666666666666666,
              "#ed7953"
             ],
             [
              0.7777777777777778,
              "#fb9f3a"
             ],
             [
              0.8888888888888888,
              "#fdca26"
             ],
             [
              1,
              "#f0f921"
             ]
            ],
            "type": "heatmap"
           }
          ],
          "histogram": [
           {
            "marker": {
             "pattern": {
              "fillmode": "overlay",
              "size": 10,
              "solidity": 0.2
             }
            },
            "type": "histogram"
           }
          ],
          "histogram2d": [
           {
            "colorbar": {
             "outlinewidth": 0,
             "ticks": ""
            },
            "colorscale": [
             [
              0,
              "#0d0887"
             ],
             [
              0.1111111111111111,
              "#46039f"
             ],
             [
              0.2222222222222222,
              "#7201a8"
             ],
             [
              0.3333333333333333,
              "#9c179e"
             ],
             [
              0.4444444444444444,
              "#bd3786"
             ],
             [
              0.5555555555555556,
              "#d8576b"
             ],
             [
              0.6666666666666666,
              "#ed7953"
             ],
             [
              0.7777777777777778,
              "#fb9f3a"
             ],
             [
              0.8888888888888888,
              "#fdca26"
             ],
             [
              1,
              "#f0f921"
             ]
            ],
            "type": "histogram2d"
           }
          ],
          "histogram2dcontour": [
           {
            "colorbar": {
             "outlinewidth": 0,
             "ticks": ""
            },
            "colorscale": [
             [
              0,
              "#0d0887"
             ],
             [
              0.1111111111111111,
              "#46039f"
             ],
             [
              0.2222222222222222,
              "#7201a8"
             ],
             [
              0.3333333333333333,
              "#9c179e"
             ],
             [
              0.4444444444444444,
              "#bd3786"
             ],
             [
              0.5555555555555556,
              "#d8576b"
             ],
             [
              0.6666666666666666,
              "#ed7953"
             ],
             [
              0.7777777777777778,
              "#fb9f3a"
             ],
             [
              0.8888888888888888,
              "#fdca26"
             ],
             [
              1,
              "#f0f921"
             ]
            ],
            "type": "histogram2dcontour"
           }
          ],
          "mesh3d": [
           {
            "colorbar": {
             "outlinewidth": 0,
             "ticks": ""
            },
            "type": "mesh3d"
           }
          ],
          "parcoords": [
           {
            "line": {
             "colorbar": {
              "outlinewidth": 0,
              "ticks": ""
             }
            },
            "type": "parcoords"
           }
          ],
          "pie": [
           {
            "automargin": true,
            "type": "pie"
           }
          ],
          "scatter": [
           {
            "fillpattern": {
             "fillmode": "overlay",
             "size": 10,
             "solidity": 0.2
            },
            "type": "scatter"
           }
          ],
          "scatter3d": [
           {
            "line": {
             "colorbar": {
              "outlinewidth": 0,
              "ticks": ""
             }
            },
            "marker": {
             "colorbar": {
              "outlinewidth": 0,
              "ticks": ""
             }
            },
            "type": "scatter3d"
           }
          ],
          "scattercarpet": [
           {
            "marker": {
             "colorbar": {
              "outlinewidth": 0,
              "ticks": ""
             }
            },
            "type": "scattercarpet"
           }
          ],
          "scattergeo": [
           {
            "marker": {
             "colorbar": {
              "outlinewidth": 0,
              "ticks": ""
             }
            },
            "type": "scattergeo"
           }
          ],
          "scattergl": [
           {
            "marker": {
             "colorbar": {
              "outlinewidth": 0,
              "ticks": ""
             }
            },
            "type": "scattergl"
           }
          ],
          "scattermap": [
           {
            "marker": {
             "colorbar": {
              "outlinewidth": 0,
              "ticks": ""
             }
            },
            "type": "scattermap"
           }
          ],
          "scattermapbox": [
           {
            "marker": {
             "colorbar": {
              "outlinewidth": 0,
              "ticks": ""
             }
            },
            "type": "scattermapbox"
           }
          ],
          "scatterpolar": [
           {
            "marker": {
             "colorbar": {
              "outlinewidth": 0,
              "ticks": ""
             }
            },
            "type": "scatterpolar"
           }
          ],
          "scatterpolargl": [
           {
            "marker": {
             "colorbar": {
              "outlinewidth": 0,
              "ticks": ""
             }
            },
            "type": "scatterpolargl"
           }
          ],
          "scatterternary": [
           {
            "marker": {
             "colorbar": {
              "outlinewidth": 0,
              "ticks": ""
             }
            },
            "type": "scatterternary"
           }
          ],
          "surface": [
           {
            "colorbar": {
             "outlinewidth": 0,
             "ticks": ""
            },
            "colorscale": [
             [
              0,
              "#0d0887"
             ],
             [
              0.1111111111111111,
              "#46039f"
             ],
             [
              0.2222222222222222,
              "#7201a8"
             ],
             [
              0.3333333333333333,
              "#9c179e"
             ],
             [
              0.4444444444444444,
              "#bd3786"
             ],
             [
              0.5555555555555556,
              "#d8576b"
             ],
             [
              0.6666666666666666,
              "#ed7953"
             ],
             [
              0.7777777777777778,
              "#fb9f3a"
             ],
             [
              0.8888888888888888,
              "#fdca26"
             ],
             [
              1,
              "#f0f921"
             ]
            ],
            "type": "surface"
           }
          ],
          "table": [
           {
            "cells": {
             "fill": {
              "color": "#EBF0F8"
             },
             "line": {
              "color": "white"
             }
            },
            "header": {
             "fill": {
              "color": "#C8D4E3"
             },
             "line": {
              "color": "white"
             }
            },
            "type": "table"
           }
          ]
         },
         "layout": {
          "annotationdefaults": {
           "arrowcolor": "#2a3f5f",
           "arrowhead": 0,
           "arrowwidth": 1
          },
          "autotypenumbers": "strict",
          "coloraxis": {
           "colorbar": {
            "outlinewidth": 0,
            "ticks": ""
           }
          },
          "colorscale": {
           "diverging": [
            [
             0,
             "#8e0152"
            ],
            [
             0.1,
             "#c51b7d"
            ],
            [
             0.2,
             "#de77ae"
            ],
            [
             0.3,
             "#f1b6da"
            ],
            [
             0.4,
             "#fde0ef"
            ],
            [
             0.5,
             "#f7f7f7"
            ],
            [
             0.6,
             "#e6f5d0"
            ],
            [
             0.7,
             "#b8e186"
            ],
            [
             0.8,
             "#7fbc41"
            ],
            [
             0.9,
             "#4d9221"
            ],
            [
             1,
             "#276419"
            ]
           ],
           "sequential": [
            [
             0,
             "#0d0887"
            ],
            [
             0.1111111111111111,
             "#46039f"
            ],
            [
             0.2222222222222222,
             "#7201a8"
            ],
            [
             0.3333333333333333,
             "#9c179e"
            ],
            [
             0.4444444444444444,
             "#bd3786"
            ],
            [
             0.5555555555555556,
             "#d8576b"
            ],
            [
             0.6666666666666666,
             "#ed7953"
            ],
            [
             0.7777777777777778,
             "#fb9f3a"
            ],
            [
             0.8888888888888888,
             "#fdca26"
            ],
            [
             1,
             "#f0f921"
            ]
           ],
           "sequentialminus": [
            [
             0,
             "#0d0887"
            ],
            [
             0.1111111111111111,
             "#46039f"
            ],
            [
             0.2222222222222222,
             "#7201a8"
            ],
            [
             0.3333333333333333,
             "#9c179e"
            ],
            [
             0.4444444444444444,
             "#bd3786"
            ],
            [
             0.5555555555555556,
             "#d8576b"
            ],
            [
             0.6666666666666666,
             "#ed7953"
            ],
            [
             0.7777777777777778,
             "#fb9f3a"
            ],
            [
             0.8888888888888888,
             "#fdca26"
            ],
            [
             1,
             "#f0f921"
            ]
           ]
          },
          "colorway": [
           "#636efa",
           "#EF553B",
           "#00cc96",
           "#ab63fa",
           "#FFA15A",
           "#19d3f3",
           "#FF6692",
           "#B6E880",
           "#FF97FF",
           "#FECB52"
          ],
          "font": {
           "color": "#2a3f5f"
          },
          "geo": {
           "bgcolor": "white",
           "lakecolor": "white",
           "landcolor": "white",
           "showlakes": true,
           "showland": true,
           "subunitcolor": "#C8D4E3"
          },
          "hoverlabel": {
           "align": "left"
          },
          "hovermode": "closest",
          "mapbox": {
           "style": "light"
          },
          "paper_bgcolor": "white",
          "plot_bgcolor": "white",
          "polar": {
           "angularaxis": {
            "gridcolor": "#EBF0F8",
            "linecolor": "#EBF0F8",
            "ticks": ""
           },
           "bgcolor": "white",
           "radialaxis": {
            "gridcolor": "#EBF0F8",
            "linecolor": "#EBF0F8",
            "ticks": ""
           }
          },
          "scene": {
           "xaxis": {
            "backgroundcolor": "white",
            "gridcolor": "#DFE8F3",
            "gridwidth": 2,
            "linecolor": "#EBF0F8",
            "showbackground": true,
            "ticks": "",
            "zerolinecolor": "#EBF0F8"
           },
           "yaxis": {
            "backgroundcolor": "white",
            "gridcolor": "#DFE8F3",
            "gridwidth": 2,
            "linecolor": "#EBF0F8",
            "showbackground": true,
            "ticks": "",
            "zerolinecolor": "#EBF0F8"
           },
           "zaxis": {
            "backgroundcolor": "white",
            "gridcolor": "#DFE8F3",
            "gridwidth": 2,
            "linecolor": "#EBF0F8",
            "showbackground": true,
            "ticks": "",
            "zerolinecolor": "#EBF0F8"
           }
          },
          "shapedefaults": {
           "line": {
            "color": "#2a3f5f"
           }
          },
          "ternary": {
           "aaxis": {
            "gridcolor": "#DFE8F3",
            "linecolor": "#A2B1C6",
            "ticks": ""
           },
           "baxis": {
            "gridcolor": "#DFE8F3",
            "linecolor": "#A2B1C6",
            "ticks": ""
           },
           "bgcolor": "white",
           "caxis": {
            "gridcolor": "#DFE8F3",
            "linecolor": "#A2B1C6",
            "ticks": ""
           }
          },
          "title": {
           "x": 0.05
          },
          "xaxis": {
           "automargin": true,
           "gridcolor": "#EBF0F8",
           "linecolor": "#EBF0F8",
           "ticks": "",
           "title": {
            "standoff": 15
           },
           "zerolinecolor": "#EBF0F8",
           "zerolinewidth": 2
          },
          "yaxis": {
           "automargin": true,
           "gridcolor": "#EBF0F8",
           "linecolor": "#EBF0F8",
           "ticks": "",
           "title": {
            "standoff": 15
           },
           "zerolinecolor": "#EBF0F8",
           "zerolinewidth": 2
          }
         }
        },
        "title": {
         "text": "THG Power Spectrum Comparison"
        },
        "xaxis": {
         "title": {
          "text": "Fundamental Wavelength (μm)"
         }
        },
        "yaxis": {
         "title": {
          "text": "THW Power"
         }
        }
       }
      }
     },
     "metadata": {},
     "output_type": "display_data"
    }
   ],
   "source": [
    "from collections.abc import Callable\n",
    "from dataclasses import dataclass\n",
    "\n",
    "import jax\n",
    "import jax.numpy as jnp\n",
    "import optax  # pyright: ignore[reportMissingTypeStubs]\n",
    "import plotly.graph_objects as go  # pyright: ignore[reportMissingTypeStubs]\n",
    "from jax import Array, jit\n",
    "from jax_tqdm.loop_pbar import loop_tqdm\n",
    "\n",
    "from qpm import cwes, mgoslt\n",
    "\n",
    "\n",
    "# --- Regularization Strategies ---\n",
    "def tv_regularization(domain_widths: Array, lambda_val: float) -> Array:\n",
    "    \"\"\"Total Variation (TV) regularization penalizes the absolute difference between adjacent parameter values.\"\"\"\n",
    "    return lambda_val * jnp.sum(jnp.abs(jnp.diff(domain_widths)))\n",
    "\n",
    "\n",
    "REGULARIZATION_FNS: dict[str, Callable[[Array, float], Array]] = {\n",
    "    \"tv\": tv_regularization,\n",
    "}\n",
    "\n",
    "\n",
    "# --- Data Structures for Configuration and Parameters ---\n",
    "@dataclass(frozen=True)\n",
    "class Config:\n",
    "    design_temp: float = 70.0\n",
    "    design_wl: float = 1.031\n",
    "    target_length: float = 1000.0\n",
    "    max_iters: int = 200\n",
    "    prng_seed: int = 42\n",
    "    kappa_mag: float = 1.31e-4 / (2 / jnp.pi)\n",
    "    kappa_target_length: float = 2000.0\n",
    "    # Full spectrum calculation range\n",
    "    wl_start: float = 1.025\n",
    "    wl_end: float = 1.035\n",
    "    num_points: int = 500\n",
    "    # Target flat-top region for the loss function\n",
    "    flat_top_wl_start: float = 1.0307\n",
    "    flat_top_wl_end: float = 1.0313\n",
    "    regularization: str | None = None\n",
    "    lambda_val: float = 1e-3\n",
    "\n",
    "\n",
    "@dataclass(frozen=True)\n",
    "class SimulationParameters:\n",
    "    kappa_array: Array\n",
    "    b_initial: Array\n",
    "\n",
    "\n",
    "# --- Core JAX Functions ---\n",
    "def make_broadening_loss_fn(\n",
    "    sim_params: SimulationParameters,\n",
    "    config: Config,\n",
    "    regularization_fn: Callable[[Array, float], Array] | None = None,\n",
    "    lambda_val: float = 0.0,\n",
    ") -> Callable[[Array], Array]:\n",
    "    \"\"\"Creates a loss function that applies a logarithmic loss to a specified spectral region.\"\"\"\n",
    "    # Pre-calculate wavelengths for the full spectrum\n",
    "    wls = jnp.linspace(config.wl_start, config.wl_end, config.num_points)\n",
    "    delta_k1s_full = mgoslt.calc_twm_delta_k(wls, wls, config.design_temp)\n",
    "    delta_k2s_full = mgoslt.calc_twm_delta_k(wls, wls / 2, config.design_temp)\n",
    "\n",
    "    # Find indices for the flat-top region\n",
    "    flat_top_indices = jnp.where((wls >= config.flat_top_wl_start) & (wls <= config.flat_top_wl_end))\n",
    "\n",
    "    # JIT-compiled vmap function for spectrum calculation\n",
    "    compute_spectrum_vmap = jit(jax.vmap(cwes.simulate_twm, in_axes=(None, 0, 0, None)))\n",
    "\n",
    "    @jit\n",
    "    def loss_fn(half_widths: Array) -> Array:\n",
    "        # 1. Enforce symmetry by mirroring the first half\n",
    "        domain_widths = jnp.concatenate([half_widths, half_widths[::-1]])\n",
    "\n",
    "        # 2. Simulate the full power spectrum\n",
    "        superlattice = jnp.stack([domain_widths, sim_params.kappa_array], axis=1)\n",
    "        final_vectors = compute_spectrum_vmap(superlattice, delta_k1s_full, delta_k2s_full, sim_params.b_initial)\n",
    "        thw_powers = jnp.abs(final_vectors[:, 2]) ** 2\n",
    "\n",
    "        # 3. Slice the spectrum to the target region\n",
    "        flat_top_powers = thw_powers[flat_top_indices]\n",
    "\n",
    "        # 4. Apply the logarithmic loss\n",
    "        epsilon = 1e-9\n",
    "        log_loss = -jnp.mean(jnp.log(flat_top_powers + epsilon))\n",
    "\n",
    "        # 5. Add regularization (applied to the symmetric half)\n",
    "        loss = log_loss\n",
    "        if regularization_fn:\n",
    "            loss += regularization_fn(half_widths, lambda_val)\n",
    "        return loss\n",
    "\n",
    "    return loss_fn\n",
    "\n",
    "\n",
    "# --- Workflow Functions ---\n",
    "def _initialize_grating(config: Config) -> tuple[Array, Array]:\n",
    "    \"\"\"Generates initial grating parameters for symmetric optimization.\"\"\"\n",
    "    print(\"1. Generating initial grating parameters (symmetric)...\")\n",
    "    # Use the center of the flat-top region for initial domain length calculation\n",
    "    center_wl = (config.flat_top_wl_start + config.flat_top_wl_end) / 2\n",
    "    delta_k2 = mgoslt.calc_twm_delta_k(center_wl, center_wl / 2, config.design_temp)\n",
    "\n",
    "    domain_len_thg = jnp.pi / delta_k2\n",
    "    num_domains = int(jnp.round(config.target_length / domain_len_thg))\n",
    "    if num_domains % 2 != 0:\n",
    "        num_domains += 1  # Ensure even number of domains for symmetry\n",
    "    num_half_domains = num_domains // 2\n",
    "    print(f\"   - Base domain width from calculation: {domain_len_thg:.4f} μm\")\n",
    "    print(f\"   - Total number of domains: {num_domains} (optimizing {num_half_domains})\")\n",
    "\n",
    "    kappa_array = config.kappa_mag * jnp.power(-1.0, jnp.arange(num_domains))\n",
    "\n",
    "    initial_half_widths = jnp.full(num_half_domains, domain_len_thg)\n",
    "    # key = jax.random.PRNGKey(config.prng_seed)\n",
    "    # noise = jax.random.normal(key, shape=(num_half_domains,)) * (domain_len_thg * 0.02)\n",
    "    # initial_half_widths = initial_half_widths + noise\n",
    "\n",
    "    return kappa_array, initial_half_widths\n",
    "\n",
    "\n",
    "def _run_optimization(\n",
    "    initial_widths: Array,\n",
    "    sim_params: SimulationParameters,\n",
    "    config: Config,\n",
    ") -> Array:\n",
    "    \"\"\"Sets up and runs the L-BFGS optimization.\"\"\"\n",
    "    print(\"2. Setting up loss function and L-BFGS optimizer...\")\n",
    "    regularization_fn = REGULARIZATION_FNS.get(config.regularization) if config.regularization else None\n",
    "    loss_fn = make_broadening_loss_fn(sim_params, config, regularization_fn, config.lambda_val)\n",
    "    solver = optax.lbfgs()\n",
    "\n",
    "    @jit\n",
    "    def run_full_optimization(initial_params: Array) -> Array:\n",
    "        @loop_tqdm(config.max_iters, desc=\"Optimizing\")\n",
    "        def step(_: int, state: tuple[Array, optax.OptState]) -> tuple[optax.Params, optax.OptState]:\n",
    "            params, opt_state = state\n",
    "            value, grad = jax.value_and_grad(loss_fn)(params)\n",
    "            updates, opt_state = solver.update(grad, opt_state, params, value=value, grad=grad, value_fn=loss_fn)\n",
    "            params = optax.apply_updates(params, updates)\n",
    "            return params, opt_state\n",
    "\n",
    "        initial_opt_state = solver.init(initial_params)\n",
    "        optimized_params, _ = jax.lax.fori_loop(0, config.max_iters, step, (initial_params, initial_opt_state))\n",
    "        return optimized_params\n",
    "\n",
    "    print(\"3. Running JIT-compiled optimization...\")\n",
    "    print(f\"   - Initial Loss: {loss_fn(initial_widths):.4f}\")\n",
    "\n",
    "    optimized_widths = run_full_optimization(initial_widths)\n",
    "    optimized_widths.block_until_ready()\n",
    "\n",
    "    print(f\"   - Optimized Loss: {loss_fn(optimized_widths):.4f}\")\n",
    "    return optimized_widths\n",
    "\n",
    "\n",
    "# --- Visualization Functions ---\n",
    "def _calculate_spectrum(domain_widths: Array, sim_params: SimulationParameters, config: Config) -> tuple[Array, Array]:\n",
    "    \"\"\"Helper function to compute the THW power spectrum for a given grating.\"\"\"\n",
    "    wls = jnp.linspace(config.wl_start, config.wl_end, config.num_points)\n",
    "    delta_k1s = mgoslt.calc_twm_delta_k(wls, wls, config.design_temp)\n",
    "    delta_k2s = mgoslt.calc_twm_delta_k(wls, wls / 2, config.design_temp)\n",
    "\n",
    "    compute_spectrum_vmap = jit(jax.vmap(cwes.simulate_twm, in_axes=(None, 0, 0, None)))\n",
    "\n",
    "    superlattice = jnp.stack([domain_widths, sim_params.kappa_array], axis=1)\n",
    "    final_vectors = compute_spectrum_vmap(superlattice, delta_k1s, delta_k2s, sim_params.b_initial)\n",
    "    thw_powers = jnp.abs(final_vectors[:, 2]) ** 2\n",
    "    return wls, thw_powers\n",
    "\n",
    "\n",
    "def _plot_domain_widths(initial_widths: Array, optimized_widths: Array) -> None:\n",
    "    \"\"\"Plots the domain widths before and after optimization.\"\"\"\n",
    "    fig = go.Figure()\n",
    "    fig.add_trace(go.Scatter(y=initial_widths, mode=\"lines\", name=\"Initial\", line={\"dash\": \"dash\"}))\n",
    "    fig.add_trace(go.Scatter(y=optimized_widths, mode=\"lines\", name=\"Optimized\"))\n",
    "    fig.update_layout(\n",
    "        title_text=\"Domain Widths Before and After Optimization\",\n",
    "        xaxis_title=\"Domain Index\",\n",
    "        yaxis_title=\"Width (μm)\",\n",
    "        template=\"plotly_white\",\n",
    "    )\n",
    "    fig.show()\n",
    "\n",
    "\n",
    "def _plot_thw_power_spectrum(\n",
    "    initial_widths: Array,\n",
    "    optimized_widths: Array,\n",
    "    sim_params: SimulationParameters,\n",
    "    config: Config,\n",
    ") -> None:\n",
    "    \"\"\"Plots the THW power spectrum before and after optimization.\"\"\"\n",
    "    wls, initial_effs = _calculate_spectrum(initial_widths, sim_params, config)\n",
    "    _, optimized_effs = _calculate_spectrum(optimized_widths, sim_params, config)\n",
    "\n",
    "    fig = go.Figure()\n",
    "    fig.add_trace(go.Scatter(x=wls, y=initial_effs, mode=\"lines\", name=\"Initial\", line={\"dash\": \"dash\"}))\n",
    "    fig.add_trace(go.Scatter(x=wls, y=optimized_effs, mode=\"lines\", name=\"Optimized\"))\n",
    "    fig.add_vrect(\n",
    "        x0=config.flat_top_wl_start,\n",
    "        x1=config.flat_top_wl_end,\n",
    "        fillcolor=\"red\",\n",
    "        opacity=0.1,\n",
    "        line_width=0,\n",
    "        annotation_text=\"Target Region\",\n",
    "        annotation_position=\"top left\",\n",
    "    )\n",
    "    fig.update_layout(\n",
    "        title_text=\"THG Power Spectrum Comparison\",\n",
    "        xaxis_title=\"Fundamental Wavelength (μm)\",\n",
    "        yaxis_title=\"THW Power\",\n",
    "        template=\"plotly_white\",\n",
    "    )\n",
    "    fig.show()\n",
    "\n",
    "\n",
    "def main() -> None:\n",
    "    \"\"\"Main script execution.\"\"\"\n",
    "    config = Config()\n",
    "\n",
    "    # 1. Generate initial physical parameters and domain widths for the first half\n",
    "    kappa_array, initial_half_widths = _initialize_grating(config)\n",
    "\n",
    "    # 2. Bundle fixed simulation parameters into a single object\n",
    "    fw_initial = 1 / 3\n",
    "    sim_params = SimulationParameters(\n",
    "        kappa_array=kappa_array,\n",
    "        b_initial=jnp.array([jnp.sqrt(fw_initial), jnp.sqrt(fw_initial * 2), 0.0], dtype=jnp.complex64),\n",
    "    )\n",
    "\n",
    "    # 3. Run the optimization on the first half of the parameters\n",
    "    optimized_half_widths = _run_optimization(initial_half_widths, sim_params, config)\n",
    "\n",
    "    # 4. Reconstruct the full, symmetric arrays for visualization\n",
    "    print(\"4. Visualizing optimization results...\")\n",
    "    initial_widths = jnp.concatenate([initial_half_widths, initial_half_widths[::-1]])\n",
    "    optimized_widths = jnp.concatenate([optimized_half_widths, optimized_half_widths[::-1]])\n",
    "\n",
    "    _plot_domain_widths(initial_widths, optimized_widths)\n",
    "    _plot_thw_power_spectrum(initial_widths, optimized_widths, sim_params, config)\n",
    "\n",
    "\n",
    "if __name__ == \"__main__\":\n",
    "    main()\n"
   ]
  }
 ],
 "metadata": {
  "kernelspec": {
   "display_name": ".venv",
   "language": "python",
   "name": "python3"
  },
  "language_info": {
   "codemirror_mode": {
    "name": "ipython",
    "version": 3
   },
   "file_extension": ".py",
   "mimetype": "text/x-python",
   "name": "python",
   "nbconvert_exporter": "python",
   "pygments_lexer": "ipython3",
   "version": "3.13.8"
  }
 },
 "nbformat": 4,
 "nbformat_minor": 5
}
